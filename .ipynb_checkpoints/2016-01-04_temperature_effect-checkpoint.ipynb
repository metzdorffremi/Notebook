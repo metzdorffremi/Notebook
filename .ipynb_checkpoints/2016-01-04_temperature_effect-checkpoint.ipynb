{
 "metadata": {
  "name": "",
  "signature": "sha256:d6043bd7205ef16bd1a30c7360c9c917bef4f95bef1277dd72da9bfa010328c9"
 },
 "nbformat": 3,
 "nbformat_minor": 0,
 "worksheets": [
  {
   "cells": [
    {
     "cell_type": "code",
     "collapsed": false,
     "input": [
      "from stepper import Stepper\n",
      "from time import sleep, time\n",
      "from pyinstruments import CurveDB\n",
      "import pandas\n",
      "from users.remi import losses2 as losses\n",
      "from pyinstruments.pyhardwaredb import instrument\n",
      "import gc\n",
      "\n",
      "constants = losses.CONSTANTS_REMI_PILLAR\n",
      "acquisition = losses.Acquisition()\n",
      "acquisition_constants  = dict(name=\"temperature_effect_@_\",\n",
      "                             stepmeasure=23750,\n",
      "                             days = 2.,\n",
      "                             hours = 0.,\n",
      "                             minutes = 0.,\n",
      "                             delay = 5*60.,\n",
      "                             sleeptime=2\n",
      "                             )"
     ],
     "language": "python",
     "metadata": {},
     "outputs": [],
     "prompt_number": 1
    },
    {
     "cell_type": "code",
     "collapsed": false,
     "input": [
      "s = Stepper()"
     ],
     "language": "python",
     "metadata": {},
     "outputs": [],
     "prompt_number": 2
    },
    {
     "cell_type": "code",
     "collapsed": false,
     "input": [
      "s.position()"
     ],
     "language": "python",
     "metadata": {},
     "outputs": [
      {
       "output_type": "stream",
       "stream": "stdout",
       "text": [
        "I'm at step: 23750\n",
        "Distance to reference point: 14843.75 um\n"
       ]
      },
      {
       "metadata": {},
       "output_type": "pyout",
       "prompt_number": 3,
       "text": [
        "23750"
       ]
      }
     ],
     "prompt_number": 3
    },
    {
     "cell_type": "code",
     "collapsed": false,
     "input": [
      "parent = CurveDB()\n",
      "parent.name = acquisition_constants[\"name\"]+str(acquisition_constants[\"stepmeasure\"])\n",
      "parent.save()\n",
      "\n",
      "acquisitiontime = ((acquisition_constants[\"days\"]*24. + acquisition_constants[\"hours\"])*60. + acquisition_constants[\"minutes\"])*60.\n",
      "N = int( acquisitiontime / acquisition_constants[\"delay\"] )\n",
      "print N\n",
      "\n",
      "N = 3\n",
      "acquisition_constants[\"delay\"] = 20\n",
      "\n",
      "s.goToStepN(acquisition_constants[\"stepmeasure\"])\n",
      "for i in range(N):\n",
      "    current_pos = s.quiet_position()\n",
      "    if i == 0:\n",
      "        t0 = time()\n",
      "    t = time() - t0\n",
      "    print 'iteration:', \"%4g\"%(i), '@ time:', t\n",
      "    current_pk = acquisition.acquire(\"finesse_vs_length_\" + str(current_pos), current_pos)\n",
      "    c = CurveDB.objects.get(pk=current_pk)\n",
      "    c.params[\"stepper_pos\"] = current_pos\n",
      "    c.params[\"time\"] = t\n",
      "    c.save()\n",
      "    parent.add_child(c)\n",
      "    gc.collect()\n",
      "    while (time()-t0) <= (i+1)*acquisition_constants[\"delay\"]:\n",
      "        sleep(0.01)\n",
      "    #sleep(acquisition_constants[\"delay\"])"
     ],
     "language": "python",
     "metadata": {},
     "outputs": [
      {
       "output_type": "stream",
       "stream": "stdout",
       "text": [
        "8640\n",
        "iteration:"
       ]
      },
      {
       "output_type": "stream",
       "stream": "stdout",
       "text": [
        "    0 @ time: 0.00100016593933\n",
        "iteration:"
       ]
      },
      {
       "output_type": "stream",
       "stream": "stdout",
       "text": [
        "    1 @ time: 20.1080000401\n",
        "iteration:"
       ]
      },
      {
       "output_type": "stream",
       "stream": "stdout",
       "text": [
        "    2 @ time: 40.106000185\n",
        "iteration:"
       ]
      },
      {
       "output_type": "stream",
       "stream": "stdout",
       "text": [
        "    3 @ time: 60.1040000916\n",
        "iteration:"
       ]
      },
      {
       "output_type": "stream",
       "stream": "stdout",
       "text": [
        "    4 @ time: 80.111000061\n"
       ]
      }
     ],
     "prompt_number": 12
    },
    {
     "cell_type": "code",
     "collapsed": false,
     "input": [
      "s.goToStepN(0)"
     ],
     "language": "python",
     "metadata": {},
     "outputs": [
      {
       "metadata": {},
       "output_type": "pyout",
       "prompt_number": 4,
       "text": [
        "True"
       ]
      }
     ],
     "prompt_number": 4
    },
    {
     "cell_type": "code",
     "collapsed": false,
     "input": [
      "s.closeProperly()"
     ],
     "language": "python",
     "metadata": {},
     "outputs": [
      {
       "output_type": "stream",
       "stream": "stdout",
       "text": [
        "Saved position: 23750\n"
       ]
      }
     ],
     "prompt_number": 16
    },
    {
     "cell_type": "code",
     "collapsed": false,
     "input": [],
     "language": "python",
     "metadata": {},
     "outputs": []
    }
   ],
   "metadata": {}
  }
 ]
}