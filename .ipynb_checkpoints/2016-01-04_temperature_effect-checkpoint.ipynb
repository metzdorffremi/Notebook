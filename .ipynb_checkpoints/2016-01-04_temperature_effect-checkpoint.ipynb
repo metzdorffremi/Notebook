{
 "metadata": {
  "name": "",
  "signature": "sha256:5a48eeef89883f783e30fcbff29edae4bf798f3bbc9a937dfce18495cebdd140"
 },
 "nbformat": 3,
 "nbformat_minor": 0,
 "worksheets": [
  {
   "cells": [
    {
     "cell_type": "code",
     "collapsed": false,
     "input": [
      "from stepper import Stepper\n",
      "from time import sleep, time\n",
      "from pyinstruments import CurveDB\n",
      "import pandas\n",
      "from users.remi import losses2 as losses\n",
      "from pyinstruments.pyhardwaredb import instrument\n",
      "import gc\n",
      "from users.remi.sound import sinus\n",
      "\n",
      "constants = losses.CONSTANTS_REMI_PILLAR\n",
      "acquisition = losses.Acquisition()\n",
      "acquisition_constants  = dict(name=\"temperature_effect_@_\",\n",
      "                              stepmeasure=23750,\n",
      "                              days = 4.,\n",
      "                              hours = 0.,\n",
      "                              minutes = 0.,\n",
      "                              delay = 5*60.,\n",
      "                              sleeptime=2\n",
      "                              )"
     ],
     "language": "python",
     "metadata": {},
     "outputs": []
    },
    {
     "cell_type": "code",
     "collapsed": false,
     "input": [
      "s = Stepper()"
     ],
     "language": "python",
     "metadata": {},
     "outputs": []
    },
    {
     "cell_type": "code",
     "collapsed": false,
     "input": [
      "s.position()"
     ],
     "language": "python",
     "metadata": {},
     "outputs": []
    },
    {
     "cell_type": "code",
     "collapsed": false,
     "input": [
      "parent = CurveDB()\n",
      "parent.name = acquisition_constants[\"name\"]+str(acquisition_constants[\"stepmeasure\"])\n",
      "parent.save()\n",
      "\n",
      "acquisitiontime = ((acquisition_constants[\"days\"]*24. + acquisition_constants[\"hours\"])*60. + acquisition_constants[\"minutes\"])*60.\n",
      "N = int( acquisitiontime / acquisition_constants[\"delay\"] )\n",
      "print N\n",
      "\n",
      "beeptime = 0.1\n",
      "\n",
      "s.goToStepN(acquisition_constants[\"stepmeasure\"])\n",
      "current_pos = s.quiet_position()\n",
      "for i in range(N):\n",
      "    #sinus(4000., beeptime)\n",
      "    if i == 0:\n",
      "        t0 = time()\n",
      "    t = time() - t0\n",
      "    hours = t//3600.\n",
      "    minutes = (t-hours*3600.)//60.\n",
      "    seconds = t%60\n",
      "    print \"iteration: %3g @ time: %5.5f s (%2g h %2g min %2.3f s)\"%(i, t, hours, minutes, seconds)\n",
      "    current_pk = acquisition.acquire(\"finesse_vs_length_\" + str(current_pos), current_pos)\n",
      "    #sinus(2000., beeptime)\n",
      "    c = CurveDB.objects.get(pk=current_pk)\n",
      "    c.params[\"stepper_pos\"] = current_pos\n",
      "    c.params[\"time\"] = t\n",
      "    c.save()\n",
      "    parent.add_child(c)\n",
      "    gc.collect()\n",
      "    while (time()-t0) <= (i+1)*acquisition_constants[\"delay\"]-5.:\n",
      "        sleep(0.1)\n",
      "    #sinus(3000., beeptime)\n",
      "    while (time()-t0) <= (i+1)*acquisition_constants[\"delay\"]-0.46:#-beeptime:\n",
      "        sleep(0.1)    \n",
      "    #sleep(acquisition_constants[\"delay\"])"
     ],
     "language": "python",
     "metadata": {},
     "outputs": []
    },
    {
     "cell_type": "code",
     "collapsed": false,
     "input": [
      "s.closeProperly()"
     ],
     "language": "python",
     "metadata": {},
     "outputs": []
    },
    {
     "cell_type": "code",
     "collapsed": false,
     "input": [],
     "language": "python",
     "metadata": {},
     "outputs": []
    }
   ],
   "metadata": {}
  }
 ]
}