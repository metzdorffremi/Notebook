{
 "metadata": {
  "name": "",
  "signature": "sha256:e284c204b8153fddb5ebf57f1f344bc69bf81efa9ec4e2b06753e6b6a93faddf"
 },
 "nbformat": 3,
 "nbformat_minor": 0,
 "worksheets": [
  {
   "cells": [
    {
     "cell_type": "code",
     "collapsed": false,
     "input": [
      "import numpy as np\n",
      "import matplotlib.pyplot as plt\n",
      "\n",
      "def cavity_waist(R, length):\n",
      "    squared_waist = (wavelength/np.pi) * np.sqrt(length*(R-length))\n",
      "    return np.sqrt(squared_waist)\n",
      "\n",
      "def waist(w0, z):\n",
      "    zR = np.pi * w0**2 / wavelength\n",
      "    return w0 * np.sqrt(1+z**2/zR**2)\n",
      "\n",
      "def losses(z, D):\n",
      "    w0 = cavity_waist(R, z)\n",
      "    w = waist(w0, z)\n",
      "    factor = -2 * (D/2)**2 / w**2\n",
      "    return np.exp(factor)\n",
      "\n",
      "wavelength = 1066.e-9"
     ],
     "language": "python",
     "metadata": {},
     "outputs": [],
     "prompt_number": 2
    },
    {
     "cell_type": "code",
     "collapsed": false,
     "input": [
      "R = 1200.e-6\n",
      "D = 100.e-6\n",
      "z = np.linspace(1e-6,R-1e-6,10000)\n",
      "\n",
      "for D in np.arange(100, 150, 10)*1e-6:#[100e-6,110e-6,120e-6,130e-6,140e-6,150e-6]:\n",
      "    scale = 1.\n",
      "    plt.figure(1, figsize=(8*scale,6*scale))\n",
      "    plt.plot(z*1e6, losses(z, D)*1e6, label=\"$\\mathrm{Pertes}$\")\n",
      "    plt.plot(z*1e6, waist(cavity_waist(R, z), z)*1e6, ':' ,label=\"$\\mathrm{Rayon\\ du\\ faisceau sur\\ le\\ miroir\\ concave}$\")\n",
      "    plt.ylim(0,100)\n",
      "    plt.ylabel(\"$\\mathrm{Pertes\\ [ppm]}$\")\n",
      "    plt.xlabel(r\"$\\mathrm{Longueur\\ de\\ la\\ cavit\\'e\\ [\\mu m]}$\")\n",
      "#legend(loc=\"upper left\""
     ],
     "language": "python",
     "metadata": {},
     "outputs": [],
     "prompt_number": 22
    },
    {
     "cell_type": "code",
     "collapsed": false,
     "input": [
      "plt.figure(2, figsize=(6*scale,4*scale))\n",
      "plt.plot(z*1e6, cavity_waist(R, z)*1e6, label=\"$\\mathrm{Miroir\\ plan}$\")\n",
      "plt.plot(z*1e6, waist(cavity_waist(R, z), z)*1e6, label=\"$\\mathrm{Miroir\\ concave}$\")\n",
      "plt.legend(loc='upper left')\n",
      "plt.ylabel(\"$\\mathrm{Rayon\\ du\\ faisceau\\ [\\mu m]}$\")\n",
      "plt.xlabel(r\"$\\mathrm{Longueur\\ de\\ la\\ cavit\\'e\\ [\\mu m]}$\")"
     ],
     "language": "python",
     "metadata": {},
     "outputs": []
    },
    {
     "cell_type": "code",
     "collapsed": false,
     "input": [
      "np.arange(30, 60, 5)*1e-6"
     ],
     "language": "python",
     "metadata": {},
     "outputs": [
      {
       "metadata": {},
       "output_type": "pyout",
       "prompt_number": 20,
       "text": [
        "array([  3.00000000e-05,   3.50000000e-05,   4.00000000e-05,\n",
        "         4.50000000e-05,   5.00000000e-05,   5.50000000e-05])"
       ]
      }
     ],
     "prompt_number": 20
    },
    {
     "cell_type": "code",
     "collapsed": false,
     "input": [],
     "language": "python",
     "metadata": {},
     "outputs": []
    }
   ],
   "metadata": {}
  }
 ]
}