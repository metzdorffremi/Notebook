{
 "metadata": {
  "name": "",
  "signature": "sha256:89eec23d2c4ca07a5137d067178d10921634dd450fa22fe8b48751388c3b2811"
 },
 "nbformat": 3,
 "nbformat_minor": 0,
 "worksheets": [
  {
   "cells": [
    {
     "cell_type": "code",
     "collapsed": false,
     "input": [
      "import numpy as np\n",
      "import matplotlib.pyplot as plt\n",
      "\n",
      "def lorentz(params, x):\n",
      "    width, x0 = params\n",
      "    scale = 2. / (np.pi * width)\n",
      "    return scale / (1 + (2*(x-x0)/width)**2)"
     ],
     "language": "python",
     "metadata": {},
     "outputs": [],
     "prompt_number": 2
    },
    {
     "cell_type": "code",
     "collapsed": false,
     "input": [
      "##########Pillar###########\n",
      "\n",
      "N = 1e4\n",
      "x = np.arange(N/4, N)*10e6/N\n",
      "arrow_args = dict(arrowstyle=\"->\")\n",
      "\n",
      "scale = 0.3\n",
      "fig = plt.figure(1, figsize=(scale*8,scale*6))\n",
      "fig.clf()\n",
      "ax = plt.subplot2grid((1,1), (0,0))\n",
      "ax.plot([x[0], x[-1]], [2e-11, 2e-11], color=\"blue\")\n",
      "ax.plot(x, lorentz([1e2, 4e6], x), color=\"red\")\n",
      "ax.plot(x, lorentz([1e2, 4e6], x)+2e-11, \"--\", color=\"grey\")\n",
      "plt.xscale('log')\n",
      "plt.yscale('log')\n",
      "plt.xlim((x[0], x[-1]))\n",
      "plt.xlabel(u\"$\\omega$\")\n",
      "plt.ylabel(u\"$\\mathrm{Displacement}$\")\n",
      "ax.set_yticks([])\n",
      "ax.set_xticks([])\n",
      "ax.annotate(u\"$\\mathrm{4\\ MHz}$\", xy=(4e6, 1e-3), xytext=(4.2e6, 1e-6), arrowprops=arrow_args)\n",
      "ax.annotate(u\"$\\mathrm{\\omega_{SQL1}}$\", xy=(3.1e6, 2e-11), xytext=(3.1e6, 2e-13), arrowprops=arrow_args)\n",
      "ax.annotate(u\"$\\mathrm{\\omega_{SQL2}}$\", xy=(4.9e6, 2e-11), xytext=(4.9e6, 2e-13), arrowprops=arrow_args)\n",
      "plt.savefig(\"pillar_displacement.png\", bbox_inches=\"tight\")"
     ],
     "language": "python",
     "metadata": {},
     "outputs": [],
     "prompt_number": 88
    },
    {
     "cell_type": "code",
     "collapsed": false,
     "input": [
      "##########Virgo##########\n",
      "\n",
      "N = 1e4\n",
      "x = np.arange(1,N)*1e5/N\n",
      "arrow_args = dict(arrowstyle=\"->\")\n",
      "\n",
      "#scale = 0.3\n",
      "scale = 1\n",
      "fig = plt.figure(1, figsize=(scale*8,scale*6))\n",
      "fig.clf()\n",
      "ax = plt.subplot2grid((1,1), (0,0))\n",
      "ax.plot([x[0], x[-1]], [2e-11, 2e-11], color=\"blue\")\n",
      "ax.plot(x, lorentz([1e-4, 10], x), color=\"red\")\n",
      "ax.plot(x, lorentz([1e-4, 10], x)+2e-11, \"--\", color=\"grey\")\n",
      "plt.xscale('log')\n",
      "plt.yscale('log')\n",
      "plt.xlim((1e2, 1e5))\n",
      "plt.ylim((1e-11, 2e-9))\n",
      "plt.xlabel(u\"$\\omega$\")\n",
      "plt.ylabel(u\"$\\mathrm{Displacement}$\")\n",
      "ax.set_yticks([])\n",
      "ax.set_xticks([])\n",
      "ax.annotate(u\"$\\mathrm{4\\ MHz}$\", xy=(4e6, 1e-3), xytext=(4.2e6, 1e-6), arrowprops=arrow_args)\n",
      "ax.annotate(u\"$\\mathrm{\\omega_{SQL1}}$\", xy=(3.1e6, 2e-11), xytext=(3.1e6, 2e-13), arrowprops=arrow_args)\n",
      "ax.annotate(u\"$\\mathrm{\\omega_{SQL2}}$\", xy=(4.9e6, 2e-11), xytext=(4.9e6, 2e-13), arrowprops=arrow_args)\n",
      "#plt.savefig(\"pillar_displacement.png\", bbox_inches=\"tight\")\n"
     ],
     "language": "python",
     "metadata": {},
     "outputs": [
      {
       "metadata": {},
       "output_type": "pyout",
       "prompt_number": 118,
       "text": [
        "<matplotlib.text.Annotation at 0x1900a470>"
       ]
      }
     ],
     "prompt_number": 118
    },
    {
     "cell_type": "code",
     "collapsed": false,
     "input": [],
     "language": "python",
     "metadata": {},
     "outputs": [],
     "prompt_number": 114
    },
    {
     "cell_type": "code",
     "collapsed": false,
     "input": [],
     "language": "python",
     "metadata": {},
     "outputs": []
    }
   ],
   "metadata": {}
  }
 ]
}