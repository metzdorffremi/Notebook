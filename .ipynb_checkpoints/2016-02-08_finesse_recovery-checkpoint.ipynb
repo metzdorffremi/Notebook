{
 "metadata": {
  "name": "",
  "signature": "sha256:acdec02b0ee976346d4bcab440ffe5e4260c15989ff39031ac2820c920e411a7"
 },
 "nbformat": 3,
 "nbformat_minor": 0,
 "worksheets": [
  {
   "cells": [
    {
     "cell_type": "code",
     "collapsed": false,
     "input": [
      "s.closeProperly()"
     ],
     "language": "python",
     "metadata": {},
     "outputs": [
      {
       "output_type": "stream",
       "stream": "stdout",
       "text": [
        "Saved position: 23900\n"
       ]
      }
     ],
     "prompt_number": 10
    },
    {
     "cell_type": "code",
     "collapsed": false,
     "input": [
      "from stepper import Stepper\n",
      "import time\n",
      "import datetime\n",
      "from pyinstruments import CurveDB\n",
      "import pandas\n",
      "from users.remi import losses2 as losses\n",
      "from pyinstruments.pyhardwaredb import instrument\n",
      "import gc\n",
      "\n",
      "constants = losses.CONSTANTS_REMI_PILLAR\n",
      "acquisition = losses.Acquisition()\n",
      "acquisition_constants  = dict(name=\"razor blade in\",\n",
      "                             stepmax=23900,\n",
      "                             N=100,#650,\n",
      "                             step=1,\n",
      "                             sleeptime=2,\n",
      "                             primarygrad=7,\n",
      "                             secondarygrad = 48.,\n",
      "                             verniergrad = 0.,\n",
      "                             folderpk=328810\n",
      "                             )\n",
      "scope = instrument(\"Maitre_usb\")\n",
      "\n",
      "def datetime_to_time(datetime):\n",
      "    return time.mktime(datetime.timetuple())\n",
      "\n",
      "def time_to_datetime(time):\n",
      "    return datetime.datetime.fromtimestamp(time)\n",
      "\n",
      "def timer(startdate, delay=1):\n",
      "    \"\"\"wait to startdate and check every delay seconds\"\"\"\n",
      "    print \"scheduled start date:\", startdate\n",
      "\n",
      "    startdate = datetime_to_time(startdate)\n",
      "    date = time.time()\n",
      "    while date < startdate:\n",
      "        time.sleep(1)\n",
      "        date = time.time()"
     ],
     "language": "python",
     "metadata": {},
     "outputs": [],
     "prompt_number": 7
    },
    {
     "cell_type": "code",
     "collapsed": false,
     "input": [
      "s = Stepper()"
     ],
     "language": "python",
     "metadata": {},
     "outputs": [],
     "prompt_number": 3
    },
    {
     "cell_type": "code",
     "collapsed": false,
     "input": [
      "s.quiet_position()"
     ],
     "language": "python",
     "metadata": {},
     "outputs": [
      {
       "metadata": {},
       "output_type": "pyout",
       "prompt_number": 4,
       "text": [
        "23900"
       ]
      }
     ],
     "prompt_number": 4
    },
    {
     "cell_type": "code",
     "collapsed": false,
     "input": [
      "#Position to test blade effect: 23500\n",
      "# D\u00e9but du coupage des modes transverses \u00e0 7.5, 5., 0. environ\n",
      "\n",
      "s.goToStepN(23900)"
     ],
     "language": "python",
     "metadata": {},
     "outputs": [
      {
       "metadata": {},
       "output_type": "pyout",
       "prompt_number": 9,
       "text": [
        "True"
       ]
      }
     ],
     "prompt_number": 9
    },
    {
     "cell_type": "code",
     "collapsed": false,
     "input": [
      "s.goToStepN(acquisition_constants[\"stepmax\"])\n",
      "current_pos = s.quiet_position()\n",
      "razorpos = (acquisition_constants[\"primarygrad\"]*1e-3\n",
      "            + acquisition_constants[\"secondarygrad\"]*1e-5\n",
      "            + acquisition_constants[\"verniergrad\"]*1e-6)\n",
      "\n",
      "#timer\n",
      "#startdate = datetime.datetime(2016,2,9,6,15,0)\n",
      "#timer(startdate)\n",
      "\n",
      "parent = CurveDB()\n",
      "parent.name = acquisition_constants[\"name\"]+\" @ \"+str(razorpos*1e6)+u\"\u00b5m\"\n",
      "parent.params[\"comment\"] = (\"razor blade position:\\n\"\n",
      "                            +\"primary graduation\\t= %2.1f\\n\"%(acquisition_constants[\"primarygrad\"])\n",
      "                            +\"secondary graduation\\t= %2g\\n\"%(acquisition_constants[\"secondarygrad\"])\n",
      "                            +\"vernier graduation\\t= %2g\\n\\n\"%(acquisition_constants[\"verniergrad\"])\n",
      "                            +u\"razor blade position\\t= %4g \u00b5m\"%(razorpos*1e6))\n",
      "parent.params[\"razorpos\"] = razorpos\n",
      "parent.save()\n",
      "\n",
      "folder = CurveDB.objects.get(pk=acquisition_constants[\"folderpk\"])\n",
      "folder.add_child(parent)\n",
      "\n",
      "startdate= time.time()\n",
      "print \"START:\", time_to_datetime(startdate)\n",
      "print \"STOP :\", time_to_datetime(startdate + 2.*3600+22.*60)\n",
      "\n",
      "for i in range(1,acquisition_constants[\"N\"]):\n",
      "    scope.single()\n",
      "    time.sleep(1)\n",
      "    current_pos = s.quiet_position()\n",
      "    print 'iteration:', \"%4g\"%(i), '@ step:', current_pos\n",
      "\n",
      "    s.goToStepN(acquisition_constants[\"stepmax\"]-acquisition_constants[\"step\"]*i)\n",
      "\n",
      "    current_pk = acquisition.acquire(\"finesse_vs_length_\" + str(current_pos), current_pos)\n",
      "    c = CurveDB.objects.get(pk=current_pk)\n",
      "    c.params[\"stepper_pos\"] = current_pos\n",
      "    c.save()\n",
      "    parent.add_child(c)\n",
      "    gc.collect()\n",
      "scope.runstop()\n",
      "acqduration = time_to_datetime(time.time()-startdate)\n",
      "print \"acquition duration: %gh %gmin\"%(acqduration.hour, acqduration.minute)"
     ],
     "language": "python",
     "metadata": {},
     "outputs": [
      {
       "output_type": "stream",
       "stream": "stdout",
       "text": [
        "START: 2016-02-11 15:10:53.816000\n",
        "STOP : 2016-02-11 17:32:53.816000\n",
        "iteration:"
       ]
      },
      {
       "output_type": "stream",
       "stream": "stdout",
       "text": [
        "    1 @ step: 23900\n",
        "iteration:"
       ]
      },
      {
       "output_type": "stream",
       "stream": "stdout",
       "text": [
        "    2 @ step: 23899\n",
        "iteration:"
       ]
      },
      {
       "output_type": "stream",
       "stream": "stdout",
       "text": [
        "    3 @ step: 23898\n",
        "iteration:"
       ]
      },
      {
       "output_type": "stream",
       "stream": "stdout",
       "text": [
        "    4 @ step: 23897\n",
        "iteration:"
       ]
      },
      {
       "output_type": "stream",
       "stream": "stdout",
       "text": [
        "    5 @ step: 23896\n",
        "iteration:"
       ]
      },
      {
       "output_type": "stream",
       "stream": "stdout",
       "text": [
        "    6 @ step: 23895\n",
        "iteration:"
       ]
      },
      {
       "output_type": "stream",
       "stream": "stdout",
       "text": [
        "    7 @ step: 23894\n",
        "iteration:"
       ]
      },
      {
       "output_type": "stream",
       "stream": "stdout",
       "text": [
        "    8 @ step: 23893\n",
        "iteration:"
       ]
      },
      {
       "output_type": "stream",
       "stream": "stdout",
       "text": [
        "    9 @ step: 23892\n",
        "iteration:"
       ]
      },
      {
       "output_type": "stream",
       "stream": "stdout",
       "text": [
        "   10 @ step: 23891\n",
        "iteration:"
       ]
      },
      {
       "output_type": "stream",
       "stream": "stdout",
       "text": [
        "   11 @ step: 23890\n",
        "iteration:"
       ]
      },
      {
       "output_type": "stream",
       "stream": "stdout",
       "text": [
        "   12 @ step: 23889\n",
        "iteration:"
       ]
      },
      {
       "output_type": "stream",
       "stream": "stdout",
       "text": [
        "   13 @ step: 23888\n",
        "iteration:"
       ]
      },
      {
       "output_type": "stream",
       "stream": "stdout",
       "text": [
        "   14 @ step: 23887\n",
        "iteration:"
       ]
      },
      {
       "output_type": "stream",
       "stream": "stdout",
       "text": [
        "   15 @ step: 23886\n",
        "iteration:"
       ]
      },
      {
       "output_type": "stream",
       "stream": "stdout",
       "text": [
        "   16 @ step: 23885\n",
        "iteration:"
       ]
      },
      {
       "output_type": "stream",
       "stream": "stdout",
       "text": [
        "   17 @ step: 23884\n",
        "iteration:"
       ]
      },
      {
       "output_type": "stream",
       "stream": "stdout",
       "text": [
        "   18 @ step: 23883\n",
        "iteration:"
       ]
      },
      {
       "output_type": "stream",
       "stream": "stdout",
       "text": [
        "   19 @ step: 23882\n",
        "iteration:"
       ]
      },
      {
       "output_type": "stream",
       "stream": "stdout",
       "text": [
        "   20 @ step: 23881\n",
        "iteration:"
       ]
      },
      {
       "output_type": "stream",
       "stream": "stdout",
       "text": [
        "   21 @ step: 23880\n",
        "iteration:"
       ]
      },
      {
       "output_type": "stream",
       "stream": "stdout",
       "text": [
        "   22 @ step: 23879\n",
        "iteration:"
       ]
      },
      {
       "output_type": "stream",
       "stream": "stdout",
       "text": [
        "   23 @ step: 23878\n",
        "iteration:"
       ]
      },
      {
       "output_type": "stream",
       "stream": "stdout",
       "text": [
        "   24 @ step: 23877\n",
        "iteration:"
       ]
      },
      {
       "output_type": "stream",
       "stream": "stdout",
       "text": [
        "   25 @ step: 23876\n",
        "iteration:"
       ]
      },
      {
       "output_type": "stream",
       "stream": "stdout",
       "text": [
        "   26 @ step: 23875\n",
        "iteration:"
       ]
      },
      {
       "output_type": "stream",
       "stream": "stdout",
       "text": [
        "   27 @ step: 23874\n",
        "iteration:"
       ]
      },
      {
       "output_type": "stream",
       "stream": "stdout",
       "text": [
        "   28 @ step: 23873\n",
        "iteration:"
       ]
      },
      {
       "output_type": "stream",
       "stream": "stdout",
       "text": [
        "   29 @ step: 23872\n",
        "iteration:"
       ]
      },
      {
       "output_type": "stream",
       "stream": "stdout",
       "text": [
        "   30 @ step: 23871\n",
        "iteration:"
       ]
      },
      {
       "output_type": "stream",
       "stream": "stdout",
       "text": [
        "   31 @ step: 23870\n",
        "iteration:"
       ]
      },
      {
       "output_type": "stream",
       "stream": "stdout",
       "text": [
        "   32 @ step: 23869\n",
        "iteration:"
       ]
      },
      {
       "output_type": "stream",
       "stream": "stdout",
       "text": [
        "   33 @ step: 23868\n",
        "iteration:"
       ]
      },
      {
       "output_type": "stream",
       "stream": "stdout",
       "text": [
        "   34 @ step: 23867\n",
        "iteration:"
       ]
      },
      {
       "output_type": "stream",
       "stream": "stdout",
       "text": [
        "   35 @ step: 23866\n",
        "iteration:"
       ]
      },
      {
       "output_type": "stream",
       "stream": "stdout",
       "text": [
        "   36 @ step: 23865\n",
        "iteration:"
       ]
      },
      {
       "output_type": "stream",
       "stream": "stdout",
       "text": [
        "   37 @ step: 23864\n",
        "iteration:"
       ]
      },
      {
       "output_type": "stream",
       "stream": "stdout",
       "text": [
        "   38 @ step: 23863\n",
        "iteration:"
       ]
      },
      {
       "output_type": "stream",
       "stream": "stdout",
       "text": [
        "   39 @ step: 23862\n",
        "iteration:"
       ]
      },
      {
       "output_type": "stream",
       "stream": "stdout",
       "text": [
        "   40 @ step: 23861\n",
        "iteration:"
       ]
      },
      {
       "output_type": "stream",
       "stream": "stdout",
       "text": [
        "   41 @ step: 23860\n",
        "iteration:"
       ]
      },
      {
       "output_type": "stream",
       "stream": "stdout",
       "text": [
        "   42 @ step: 23859\n",
        "iteration:"
       ]
      },
      {
       "output_type": "stream",
       "stream": "stdout",
       "text": [
        "   43 @ step: 23858\n",
        "iteration:"
       ]
      },
      {
       "output_type": "stream",
       "stream": "stdout",
       "text": [
        "   44 @ step: 23857\n",
        "iteration:"
       ]
      },
      {
       "output_type": "stream",
       "stream": "stdout",
       "text": [
        "   45 @ step: 23856\n",
        "iteration:"
       ]
      },
      {
       "output_type": "stream",
       "stream": "stdout",
       "text": [
        "   46 @ step: 23855\n",
        "iteration:"
       ]
      },
      {
       "output_type": "stream",
       "stream": "stdout",
       "text": [
        "   47 @ step: 23854\n",
        "iteration:"
       ]
      },
      {
       "output_type": "stream",
       "stream": "stdout",
       "text": [
        "   48 @ step: 23853\n",
        "iteration:"
       ]
      },
      {
       "output_type": "stream",
       "stream": "stdout",
       "text": [
        "   49 @ step: 23852\n",
        "iteration:"
       ]
      },
      {
       "output_type": "stream",
       "stream": "stdout",
       "text": [
        "   50 @ step: 23851\n",
        "iteration:"
       ]
      },
      {
       "output_type": "stream",
       "stream": "stdout",
       "text": [
        "   51 @ step: 23850\n",
        "iteration:"
       ]
      },
      {
       "output_type": "stream",
       "stream": "stdout",
       "text": [
        "   52 @ step: 23849\n",
        "iteration:"
       ]
      },
      {
       "output_type": "stream",
       "stream": "stdout",
       "text": [
        "   53 @ step: 23848\n",
        "iteration:"
       ]
      },
      {
       "output_type": "stream",
       "stream": "stdout",
       "text": [
        "   54 @ step: 23847\n",
        "iteration:"
       ]
      },
      {
       "output_type": "stream",
       "stream": "stdout",
       "text": [
        "   55 @ step: 23846\n",
        "iteration:"
       ]
      },
      {
       "output_type": "stream",
       "stream": "stdout",
       "text": [
        "   56 @ step: 23845\n",
        "iteration:"
       ]
      },
      {
       "output_type": "stream",
       "stream": "stdout",
       "text": [
        "   57 @ step: 23844\n",
        "iteration:"
       ]
      },
      {
       "output_type": "stream",
       "stream": "stdout",
       "text": [
        "   58 @ step: 23843\n",
        "iteration:"
       ]
      },
      {
       "output_type": "stream",
       "stream": "stdout",
       "text": [
        "   59 @ step: 23842\n",
        "iteration:"
       ]
      },
      {
       "output_type": "stream",
       "stream": "stdout",
       "text": [
        "   60 @ step: 23841\n",
        "iteration:"
       ]
      },
      {
       "output_type": "stream",
       "stream": "stdout",
       "text": [
        "   61 @ step: 23840\n",
        "iteration:"
       ]
      },
      {
       "output_type": "stream",
       "stream": "stdout",
       "text": [
        "   62 @ step: 23839\n",
        "iteration:"
       ]
      },
      {
       "output_type": "stream",
       "stream": "stdout",
       "text": [
        "   63 @ step: 23838\n",
        "iteration:"
       ]
      },
      {
       "output_type": "stream",
       "stream": "stdout",
       "text": [
        "   64 @ step: 23837\n",
        "iteration:"
       ]
      },
      {
       "output_type": "stream",
       "stream": "stdout",
       "text": [
        "   65 @ step: 23836\n",
        "iteration:"
       ]
      },
      {
       "output_type": "stream",
       "stream": "stdout",
       "text": [
        "   66 @ step: 23835\n",
        "iteration:"
       ]
      },
      {
       "output_type": "stream",
       "stream": "stdout",
       "text": [
        "   67 @ step: 23834\n",
        "iteration:"
       ]
      },
      {
       "output_type": "stream",
       "stream": "stdout",
       "text": [
        "   68 @ step: 23833\n",
        "iteration:"
       ]
      },
      {
       "output_type": "stream",
       "stream": "stdout",
       "text": [
        "   69 @ step: 23832\n",
        "iteration:"
       ]
      },
      {
       "output_type": "stream",
       "stream": "stdout",
       "text": [
        "   70 @ step: 23831\n",
        "iteration:"
       ]
      },
      {
       "output_type": "stream",
       "stream": "stdout",
       "text": [
        "   71 @ step: 23830\n",
        "iteration:"
       ]
      },
      {
       "output_type": "stream",
       "stream": "stdout",
       "text": [
        "   72 @ step: 23829\n",
        "iteration:"
       ]
      },
      {
       "output_type": "stream",
       "stream": "stdout",
       "text": [
        "   73 @ step: 23828\n",
        "iteration:"
       ]
      },
      {
       "output_type": "stream",
       "stream": "stdout",
       "text": [
        "   74 @ step: 23827\n",
        "iteration:"
       ]
      },
      {
       "output_type": "stream",
       "stream": "stdout",
       "text": [
        "   75 @ step: 23826\n",
        "iteration:"
       ]
      },
      {
       "output_type": "stream",
       "stream": "stdout",
       "text": [
        "   76 @ step: 23825\n",
        "iteration:"
       ]
      },
      {
       "output_type": "stream",
       "stream": "stdout",
       "text": [
        "   77 @ step: 23824\n",
        "iteration:"
       ]
      },
      {
       "output_type": "stream",
       "stream": "stdout",
       "text": [
        "   78 @ step: 23823\n",
        "iteration:"
       ]
      },
      {
       "output_type": "stream",
       "stream": "stdout",
       "text": [
        "   79 @ step: 23822\n",
        "iteration:"
       ]
      },
      {
       "output_type": "stream",
       "stream": "stdout",
       "text": [
        "   80 @ step: 23821\n",
        "iteration:"
       ]
      },
      {
       "output_type": "stream",
       "stream": "stdout",
       "text": [
        "   81 @ step: 23820\n",
        "iteration:"
       ]
      },
      {
       "output_type": "stream",
       "stream": "stdout",
       "text": [
        "   82 @ step: 23819\n",
        "iteration:"
       ]
      },
      {
       "output_type": "stream",
       "stream": "stdout",
       "text": [
        "   83 @ step: 23818\n",
        "iteration:"
       ]
      },
      {
       "output_type": "stream",
       "stream": "stdout",
       "text": [
        "   84 @ step: 23817\n",
        "iteration:"
       ]
      },
      {
       "output_type": "stream",
       "stream": "stdout",
       "text": [
        "   85 @ step: 23816\n",
        "iteration:"
       ]
      },
      {
       "output_type": "stream",
       "stream": "stdout",
       "text": [
        "   86 @ step: 23815\n",
        "iteration:"
       ]
      },
      {
       "output_type": "stream",
       "stream": "stdout",
       "text": [
        "   87 @ step: 23814\n",
        "iteration:"
       ]
      },
      {
       "output_type": "stream",
       "stream": "stdout",
       "text": [
        "   88 @ step: 23813\n",
        "iteration:"
       ]
      },
      {
       "output_type": "stream",
       "stream": "stdout",
       "text": [
        "   89 @ step: 23812\n",
        "iteration:"
       ]
      },
      {
       "output_type": "stream",
       "stream": "stdout",
       "text": [
        "   90 @ step: 23811\n",
        "iteration:"
       ]
      },
      {
       "output_type": "stream",
       "stream": "stdout",
       "text": [
        "   91 @ step: 23810\n",
        "iteration:"
       ]
      },
      {
       "output_type": "stream",
       "stream": "stdout",
       "text": [
        "   92 @ step: 23809\n",
        "iteration:"
       ]
      },
      {
       "output_type": "stream",
       "stream": "stdout",
       "text": [
        "   93 @ step: 23808\n",
        "iteration:"
       ]
      },
      {
       "output_type": "stream",
       "stream": "stdout",
       "text": [
        "   94 @ step: 23807\n",
        "iteration:"
       ]
      },
      {
       "output_type": "stream",
       "stream": "stdout",
       "text": [
        "   95 @ step: 23806\n",
        "iteration:"
       ]
      },
      {
       "output_type": "stream",
       "stream": "stdout",
       "text": [
        "   96 @ step: 23805\n",
        "iteration:"
       ]
      },
      {
       "output_type": "stream",
       "stream": "stdout",
       "text": [
        "   97 @ step: 23804\n",
        "iteration:"
       ]
      },
      {
       "output_type": "stream",
       "stream": "stdout",
       "text": [
        "   98 @ step: 23803\n",
        "iteration:"
       ]
      },
      {
       "output_type": "stream",
       "stream": "stdout",
       "text": [
        "   99 @ step: 23802\n",
        "acquition duration: 1h 24min"
       ]
      },
      {
       "output_type": "stream",
       "stream": "stdout",
       "text": [
        "\n"
       ]
      }
     ],
     "prompt_number": 8
    },
    {
     "cell_type": "code",
     "collapsed": false,
     "input": [],
     "language": "python",
     "metadata": {},
     "outputs": []
    }
   ],
   "metadata": {}
  }
 ]
}