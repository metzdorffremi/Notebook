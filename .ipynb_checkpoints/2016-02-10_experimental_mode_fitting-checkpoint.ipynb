{
 "metadata": {
  "name": "",
  "signature": "sha256:ae1f57af88c718693cfa0d989a6b3107dff3dfd83e5ebd4ceaa4316e8687ab9c"
 },
 "nbformat": 3,
 "nbformat_minor": 0,
 "worksheets": [
  {
   "cells": [
    {
     "cell_type": "code",
     "collapsed": false,
     "input": [
      "import matplotlib.pyplot as plt\n",
      "import numpy as np\n",
      "\n",
      "def u(x,y,m,n):\n",
      "     c1 = np.zeros(m+1)\n",
      "     c1[m] = 1\n",
      "     c2 = np.zeros(n+1)\n",
      "     c2[n] = 1\n",
      "     l = np.arange(-2,2,0.01)\n",
      "     norm = 1. / max(np.polynomial.hermite.hermval(np.sqrt(2.)*l, c1) * np.polynomial.hermite.hermval(np.sqrt(2.)*l, c2) * np.exp(-(2.*l**2)) )\n",
      "     return  norm * (np.polynomial.hermite.hermval(np.sqrt(2.)*x, c1) * np.polynomial.hermite.hermval(np.sqrt(2.)*y, c2) * np.exp(-(x**2+y**2)))\n",
      "     \n",
      "def f(x,y,m,n):\n",
      "    return (u(x,y,m,n))**2\n",
      "\n",
      "def g(x,y,m1,n1,m2,n2):\n",
      "    return (u(x,y,m1,n1) + u(x,y,m2,n2))**2\n",
      "\n",
      "width = 5.\n",
      "x = np.arange(-width/2., width/2., 0.1)\n",
      "y = np.arange(-width/2., width/2., 0.1)\n",
      "X,Y = np.meshgrid(x, y)\n",
      "\n",
      "def plot_all_tem(n_col,n_lig):\n",
      "    for i in range(n_lig):\n",
      "        for j in range(n_col):\n",
      "            plt.subplot(n_lig,n_col,i*n_col + j + 1)\n",
      "            z = f(X,Y,i,j)\n",
      "            fig = plt.contourf(x,y,z,200,cmap='gray')\n",
      "            plt.axis('off')\n",
      "            fig.ax.axes.get_xaxis().set_visible(False)\n",
      "            fig.ax.axes.get_yaxis().set_visible(False)"
     ],
     "language": "python",
     "metadata": {},
     "outputs": [
      {
       "output_type": "stream",
       "stream": "stdout",
       "text": [
        "\n"
       ]
      }
     ],
     "prompt_number": 2
    },
    {
     "cell_type": "code",
     "collapsed": false,
     "input": [
      "\"\"\"              \n",
      "plt.figure(1,figsize=(6,6))\n",
      "z = g(X,Y,0,0,2,1)\n",
      "fig = plt.contourf(x,y,z,200,cmap='gray')\n",
      "\"\"\"\n",
      "n_col = 5\n",
      "n_lig = 5\n",
      "plt.figure(1, figsize=(4,4))\n",
      "#plot_all_tem(n_col,n_lig)\n",
      "z = g(X,Y,0,0,6,0)\n",
      "fig = plt.contourf(x,y,z,200,cmap='gray')\n",
      "plt.axis('off')\n",
      "fig.ax.axes.get_xaxis().set_visible(False)\n",
      "fig.ax.axes.get_yaxis().set_visible(False)\n",
      "#plt.savefig('test.png', bbox_inches='tight', pad_inches = 0)\n",
      "print x\n",
      "print y\n",
      "print z"
     ],
     "language": "python",
     "metadata": {},
     "outputs": [
      {
       "output_type": "stream",
       "stream": "stdout",
       "text": [
        "[ -2.50000000e+00  -2.40000000e+00  -2.30000000e+00  -2.20000000e+00\n",
        "  -2.10000000e+00  -2.00000000e+00  -1.90000000e+00  -1.80000000e+00\n",
        "  -1.70000000e+00  -1.60000000e+00  -1.50000000e+00  -1.40000000e+00\n",
        "  -1.30000000e+00  -1.20000000e+00  -1.10000000e+00  -1.00000000e+00\n",
        "  -9.00000000e-01  -8.00000000e-01  -7.00000000e-01  -6.00000000e-01\n",
        "  -5.00000000e-01  -4.00000000e-01  -3.00000000e-01  -2.00000000e-01\n",
        "  -1.00000000e-01   2.22044605e-15   1.00000000e-01   2.00000000e-01\n",
        "   3.00000000e-01   4.00000000e-01   5.00000000e-01   6.00000000e-01\n",
        "   7.00000000e-01   8.00000000e-01   9.00000000e-01   1.00000000e+00\n",
        "   1.10000000e+00   1.20000000e+00   1.30000000e+00   1.40000000e+00\n",
        "   1.50000000e+00   1.60000000e+00   1.70000000e+00   1.80000000e+00\n",
        "   1.90000000e+00   2.00000000e+00   2.10000000e+00   2.20000000e+00\n",
        "   2.30000000e+00   2.40000000e+00]\n",
        "[ -2.50000000e+00  -2.40000000e+00  -2.30000000e+00  -2.20000000e+00\n",
        "  -2.10000000e+00  -2.00000000e+00  -1.90000000e+00  -1.80000000e+00\n",
        "  -1.70000000e+00  -1.60000000e+00  -1.50000000e+00  -1.40000000e+00\n",
        "  -1.30000000e+00  -1.20000000e+00  -1.10000000e+00  -1.00000000e+00\n",
        "  -9.00000000e-01  -8.00000000e-01  -7.00000000e-01  -6.00000000e-01\n",
        "  -5.00000000e-01  -4.00000000e-01  -3.00000000e-01  -2.00000000e-01\n",
        "  -1.00000000e-01   2.22044605e-15   1.00000000e-01   2.00000000e-01\n",
        "   3.00000000e-01   4.00000000e-01   5.00000000e-01   6.00000000e-01\n",
        "   7.00000000e-01   8.00000000e-01   9.00000000e-01   1.00000000e+00\n",
        "   1.10000000e+00   1.20000000e+00   1.30000000e+00   1.40000000e+00\n",
        "   1.50000000e+00   1.60000000e+00   1.70000000e+00   1.80000000e+00\n",
        "   1.90000000e+00   2.00000000e+00   2.10000000e+00   2.20000000e+00\n",
        "   2.30000000e+00   2.40000000e+00]\n",
        "[[  6.67889940e-06   9.20281972e-06   1.15169732e-05 ...,   1.29012890e-05\n",
        "    1.15169732e-05   9.20281972e-06]\n",
        " [  1.77956352e-05   2.45205104e-05   3.06864710e-05 ...,   3.43749200e-05\n",
        "    3.06864710e-05   2.45205104e-05]\n",
        " [  4.55564954e-05   6.27720511e-05   7.85567957e-05 ...,   8.79991565e-05\n",
        "    7.85567957e-05   6.27720511e-05]\n",
        " ..., \n",
        " [  1.12050898e-04   1.54394332e-04   1.93218539e-04 ...,   2.16442999e-04\n",
        "    1.93218539e-04   1.54394332e-04]\n",
        " [  4.55564954e-05   6.27720511e-05   7.85567957e-05 ...,   8.79991565e-05\n",
        "    7.85567957e-05   6.27720511e-05]\n",
        " [  1.77956352e-05   2.45205104e-05   3.06864710e-05 ...,   3.43749200e-05\n",
        "    3.06864710e-05   2.45205104e-05]]\n"
       ]
      }
     ],
     "prompt_number": 4
    },
    {
     "cell_type": "code",
     "collapsed": false,
     "input": [],
     "language": "python",
     "metadata": {},
     "outputs": []
    }
   ],
   "metadata": {}
  }
 ]
}