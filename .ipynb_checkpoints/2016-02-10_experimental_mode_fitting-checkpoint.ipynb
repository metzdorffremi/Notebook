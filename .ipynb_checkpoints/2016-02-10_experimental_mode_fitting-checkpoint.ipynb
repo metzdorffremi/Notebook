{
 "metadata": {
  "name": "",
  "signature": "sha256:68398606c5a5dd9ef7d0c6f2c1843cc88a6c13fec5fdd56608e2146978db618e"
 },
 "nbformat": 3,
 "nbformat_minor": 0,
 "worksheets": [
  {
   "cells": [
    {
     "cell_type": "code",
     "collapsed": false,
     "input": [
      "import matplotlib.pyplot as plt\n",
      "from PIL import Image\n",
      "import numpy as np\n",
      "from mpl_toolkits.mplot3d import Axes3D\n",
      "from matplotlib import cm\n",
      "from matplotlib.ticker import LinearLocator, FormatStrFormatter\n",
      "from scipy.optimize import leastsq\n",
      "\n",
      "def u(x,y,m,n, pos=[0,0], scale=1., theta=0.):\n",
      "    c1 = np.zeros(m+1)\n",
      "    c1[m] = 1\n",
      "    c2 = np.zeros(n+1)\n",
      "    c2[n] = 1\n",
      "    l = np.arange(-2,2,0.01)\n",
      "    norm = 1. / max(np.polynomial.hermite.hermval(np.sqrt(2.)*l, c1) * np.polynomial.hermite.hermval(np.sqrt(2.)*l, c2) * np.exp(-(2.*l**2)) )\n",
      "    #x = (x - pos[0]) / scale\n",
      "    #y = (y - pos[1]) / scale\n",
      "    x = x/scale - pos[0]/scale\n",
      "    y = y/scale - pos[1]/scale\n",
      "    X = x*np.cos(theta) - y*np.sin(theta)\n",
      "    Y = x*np.sin(theta) + y*np.cos(theta)\n",
      "    return  norm * (np.polynomial.hermite.hermval(np.sqrt(2.)*X, c1) * np.polynomial.hermite.hermval(np.sqrt(2.)*Y, c2) * np.exp(-(X**2+Y**2)))\n",
      "     \n",
      "def f(x,y,m,n, pos=[0,0], scale=1.):\n",
      "    return (u(x,y,m,n,pos=pos,scale=scale))**2\n",
      "\n",
      "def g(x,y,m1,n1,m2,n2, pos=[0,0], scale=1., theta=0., contrib1=1.):\n",
      "    return (contrib1*u(x,y,m1,n1,pos=pos,scale=scale,theta=theta) + u(x,y,m2,n2,pos=pos,scale=scale,theta=theta))**2\n",
      "\n",
      "def plot_all_tem(n_col,n_lig):\n",
      "    for i in range(n_lig):\n",
      "        for j in range(n_col):\n",
      "            plt.subplot(n_lig,n_col,i*n_col + j + 1)\n",
      "            z = f(X,Y,i,j)\n",
      "            fig = plt.contourf(x,y,z,200,cmap='gray')\n",
      "            plt.axis('off')\n",
      "            fig.ax.axes.get_xaxis().set_visible(False)\n",
      "            fig.ax.axes.get_yaxis().set_visible(False)"
     ],
     "language": "python",
     "metadata": {},
     "outputs": [],
     "prompt_number": 1
    },
    {
     "cell_type": "code",
     "collapsed": false,
     "input": [
      "cd"
     ],
     "language": "python",
     "metadata": {},
     "outputs": [
      {
       "output_type": "stream",
       "stream": "stdout",
       "text": [
        "C:\\Users\\remi\n"
       ]
      }
     ],
     "prompt_number": 29
    },
    {
     "cell_type": "code",
     "collapsed": false,
     "input": [
      "cd Pictures/Captures_VLC/23485/fit/"
     ],
     "language": "python",
     "metadata": {},
     "outputs": [
      {
       "output_type": "stream",
       "stream": "stdout",
       "text": [
        "C:\\Users\\remi\\Pictures\\Captures_VLC\\23485\\fit\n"
       ]
      }
     ],
     "prompt_number": 30
    },
    {
     "cell_type": "code",
     "collapsed": false,
     "input": [
      "plt.figure(1, figsize=(8*3.,6*2.))\n",
      "\n",
      "plt.subplot2grid((2,3), (0, 0))\n",
      "\n",
      "temp=asarray(Image.open('test.png'))\n",
      "z1 = []\n",
      "for i in range(len(temp)):\n",
      "    z1.append([])\n",
      "    for j in range(len(temp[0])):\n",
      "        z1[i].append(mean(temp[i][j]))\n",
      "    z1[i] = np.array(z1[i])\n",
      "z1 = np.array(z1)\n",
      "pixelsize = 5.30e-6 #m\n",
      "x = np.arange(len(z1[0]))*pixelsize\n",
      "y = (len(z1)-1-np.arange(len(z1)))*pixelsize\n",
      "\n",
      "fig = plt.contourf(x,y,z1,200)#,cmap='gray')\n",
      "plt.axis('equal')\n",
      "plt.xlim(min(x), max(x))\n",
      "plt.ylim(min(y), max(y))\n",
      "\n",
      "plt.subplot2grid((2,3), (1,0))\n",
      "\n",
      "params0 = [0.00107,0.00063, 0.000062, -2.13498711e-01, -2]\n",
      "\n",
      "scale = params0[2]\n",
      "X,Y = np.meshgrid(x, y)\n",
      "z = g(X,Y,0,0,4,1, pos=[0.00107,0.00063],scale=scale,theta=params0[3],contrib1=params0[4])\n",
      "fig = plt.contourf(X,Y,z,200)#, cmap='gray')\n",
      "plt.axis('equal')\n",
      "plt.title('theo')\n",
      "plt.xlim(min(x), max(x))\n",
      "plt.ylim(min(y), max(y))\n",
      "\n",
      "plt.subplot2grid((2,3), (0,1), colspan=2, rowspan=2)\n",
      "fig = plt.contourf(X,Y,z1-np.max(z1)*z/np.max(z),200)#, cmap='gray')\n",
      "plt.axis('equal')\n",
      "plt.title('diff')\n",
      "plt.xlim(min(x), max(x))\n",
      "plt.ylim(min(y), max(y))\n",
      "\n",
      "def delta(params):\n",
      "    posx, posy, scale, theta, contrib1 = params\n",
      "    #z = g(X,Y,0,0,2,3, pos=[posx,posy],scale=scale,theta=theta)\n",
      "    z = g(X,Y,0,0,2,3, pos=[params[0], params[1]],scale=params0[2],theta=params[3], contrib1=params0[4])\n",
      "    ecart = []\n",
      "    for l in (z1-z):\n",
      "        ecart = ecart + list(l)\n",
      "    return ecart\n",
      "\n",
      "params_fit = leastsq(delta, params0)[0]\n",
      "print params_fit\n",
      "\n",
      "#plt.savefig('test.png', bbox_inches='tight', pad_inches = 0)"
     ],
     "language": "python",
     "metadata": {},
     "outputs": [
      {
       "output_type": "stream",
       "stream": "stdout",
       "text": [
        "[  1.06350672e-03   6.43442251e-04   6.20000000e-05  -6.99320547e-01\n",
        "  -2.00000000e+00]\n"
       ]
      }
     ],
     "prompt_number": 42
    },
    {
     "cell_type": "code",
     "collapsed": false,
     "input": [
      "plt.figure(2, figsize=(8*3.,6*2.))\n",
      "\n",
      "plt.subplot2grid((2,3), (0, 0))\n",
      "\n",
      "temp=asarray(Image.open('test.png'))\n",
      "z1 = []\n",
      "for i in range(len(temp)):\n",
      "    z1.append([])\n",
      "    for j in range(len(temp[0])):\n",
      "        z1[i].append(mean(temp[i][j]))\n",
      "    z1[i] = np.array(z1[i])\n",
      "z1 = np.array(z1)\n",
      "pixelsize = 5.30e-6 #m\n",
      "x = np.arange(len(z1[0]))*pixelsize\n",
      "y = (len(z1)-1-np.arange(len(z1)))*pixelsize\n",
      "\n",
      "fig = plt.contourf(x,y,z1,200)#,cmap='gray')\n",
      "plt.axis('equal')\n",
      "plt.xlim(min(x), max(x))\n",
      "plt.ylim(min(y), max(y))\n",
      "\n",
      "plt.subplot2grid((2,3), (1,0))\n",
      "\n",
      "X,Y = np.meshgrid(x, y)\n",
      "z = g(X,Y,0,0,4,1, pos=[params_fit[0],params_fit[1]],scale=params_fit[2],theta=params_fit[3], contrib1=params_fit[4])\n",
      "fig = plt.contourf(X,Y,z,200)#, cmap='gray')\n",
      "plt.axis('equal')\n",
      "plt.title('theo')\n",
      "plt.xlim(min(x), max(x))\n",
      "plt.ylim(min(y), max(y))\n",
      "\n",
      "plt.subplot2grid((2,3), (0,1), colspan=2, rowspan=2)\n",
      "fig = plt.contourf(X,Y,z1-np.max(z1)*z/np.max(z),200)#, cmap='gray')\n",
      "plt.axis('equal')\n",
      "plt.title('diff')\n",
      "plt.xlim(min(x), max(x))\n",
      "plt.ylim(min(y), max(y))"
     ],
     "language": "python",
     "metadata": {},
     "outputs": [
      {
       "metadata": {},
       "output_type": "pyout",
       "prompt_number": 41,
       "text": [
        "(0.0, 0.0012932)"
       ]
      }
     ],
     "prompt_number": 41
    },
    {
     "cell_type": "code",
     "collapsed": false,
     "input": [
      "-2.13586851e-01 - np.pi/12."
     ],
     "language": "python",
     "metadata": {},
     "outputs": [
      {
       "metadata": {},
       "output_type": "pyout",
       "prompt_number": 20,
       "text": [
        "-0.47538623879914943"
       ]
      }
     ],
     "prompt_number": 20
    },
    {
     "cell_type": "code",
     "collapsed": false,
     "input": [],
     "language": "python",
     "metadata": {},
     "outputs": []
    }
   ],
   "metadata": {}
  }
 ]
}