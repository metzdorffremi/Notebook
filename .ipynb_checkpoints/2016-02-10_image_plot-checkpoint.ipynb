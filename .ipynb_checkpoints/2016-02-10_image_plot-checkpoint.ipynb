{
 "metadata": {
  "name": "",
  "signature": "sha256:4301c8a964d0c19b575bf7195e416186f3a4fb23dc013df14b056ba2a23684a4"
 },
 "nbformat": 3,
 "nbformat_minor": 0,
 "worksheets": [
  {
   "cells": [
    {
     "cell_type": "code",
     "collapsed": false,
     "input": [
      "from PIL import Image\n",
      "import matplotlib.pyplot as plt"
     ],
     "language": "python",
     "metadata": {},
     "outputs": [],
     "prompt_number": 8
    },
    {
     "cell_type": "code",
     "collapsed": false,
     "input": [
      "cd"
     ],
     "language": "python",
     "metadata": {},
     "outputs": [
      {
       "output_type": "stream",
       "stream": "stdout",
       "text": [
        "C:\\Users\\remi\n"
       ]
      }
     ],
     "prompt_number": 9
    },
    {
     "cell_type": "code",
     "collapsed": false,
     "input": [
      "cd Pictures/Captures_VLC/23399/fit/"
     ],
     "language": "python",
     "metadata": {},
     "outputs": [
      {
       "output_type": "stream",
       "stream": "stdout",
       "text": [
        "C:\\Users\\remi\\Pictures\\Captures_VLC\\23399\\fit\n"
       ]
      }
     ],
     "prompt_number": 10
    },
    {
     "cell_type": "code",
     "collapsed": false,
     "input": [
      "temp=asarray(Image.open('test.png'))\n",
      "z = []\n",
      "print temp.shape\n",
      "for i in range(len(temp)):\n",
      "    z.append([])\n",
      "    for j in range(len(temp[0])):\n",
      "        z[i].append(mean(temp[i][j]))\n",
      "    z[i] = np.array(z[i])\n",
      "z = np.array(z)\n",
      "print z.shape"
     ],
     "language": "python",
     "metadata": {},
     "outputs": [
      {
       "output_type": "stream",
       "stream": "stdout",
       "text": [
        "(245, 400, 3)\n",
        "(245, 400)"
       ]
      },
      {
       "output_type": "stream",
       "stream": "stdout",
       "text": [
        "\n"
       ]
      }
     ],
     "prompt_number": 11
    },
    {
     "cell_type": "code",
     "collapsed": false,
     "input": [
      "pixelsize = 5.30e-6 #m\n",
      "x = np.arange(len(z[0]))*pixelsize\n",
      "y = -np.arange(len(z))*pixelsize\n",
      "\n",
      "fig = plt.contourf(x,y,z,100,cmap='gray')\n",
      "plt.axis('equal')\n",
      "plt.xlim(min(x), max(x))\n",
      "plt.ylim(min(y), max(y))\n",
      "plt.axis('off')\n",
      "fig.ax.axes.get_xaxis().set_visible(False)"
     ],
     "language": "python",
     "metadata": {},
     "outputs": [],
     "prompt_number": 18
    },
    {
     "cell_type": "code",
     "collapsed": false,
     "input": [],
     "language": "python",
     "metadata": {},
     "outputs": []
    }
   ],
   "metadata": {}
  }
 ]
}