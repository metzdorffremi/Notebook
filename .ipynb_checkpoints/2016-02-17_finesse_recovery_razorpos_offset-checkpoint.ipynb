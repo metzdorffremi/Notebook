{
 "metadata": {
  "name": "",
  "signature": "sha256:7b221517883ffcb5ac6be0eb054f4a59ec24bc4ce4d1d53eef94188b377c2110"
 },
 "nbformat": 3,
 "nbformat_minor": 0,
 "worksheets": [
  {
   "cells": [
    {
     "cell_type": "code",
     "collapsed": false,
     "input": [
      "from pyinstruments import CurveDB\n",
      "import pandas\n",
      "from users.remi import losses2 as losses\n",
      "from pyinstruments.pyhardwaredb import instrument\n",
      "import gc\n",
      "import time\n",
      "from matplotlib.colors import LogNorm\n",
      "import scipy as sc\n",
      "    \n",
      "folder_pk = 328810\n",
      "folder = CurveDB.objects.get(pk=folder_pk)\n",
      "scans = folder.childs.all()\n",
      "\n",
      "n =10\n",
      "fitted_scans = scans[1:n+1]"
     ],
     "language": "python",
     "metadata": {},
     "outputs": [
      {
       "output_type": "stream",
       "stream": "stdout",
       "text": [
        "0 1.15700006485\n"
       ]
      }
     ],
     "prompt_number": 1
    },
    {
     "cell_type": "code",
     "collapsed": false,
     "input": [
      "losss = []\n",
      "lengths = []\n",
      "razors = []\n",
      "for scan in fitted_scans[0:]:\n",
      "    print scan\n",
      "    if scan.pk == 341813:\n",
      "        scan = losses.FullScan(scan.pk, stop_pk=342774)\n",
      "    else:\n",
      "        scan = losses.FullScan(scan.pk)\n",
      "    l = scan.collect_param_peak(\"losses\")\n",
      "    L = scan.collect_param_peak(\"length\")\n",
      "    r = scan.curve.params['razorpos']\n",
      "    losss.append(l)\n",
      "    lengths.append(L)\n",
      "    razors.append(r)\n",
      "\n",
      "def cross_section(lengths, losss, razors, pos, width):\n",
      "    crosslength = []\n",
      "    crossloss = []\n",
      "    crossrazor = []\n",
      "    for n in range(len(lengths)):\n",
      "        for length, loss in zip(lengths[n], losss[n]):\n",
      "            if abs(length-pos) < width/2.:\n",
      "                crosslength.append(length)\n",
      "                crossloss.append(loss)\n",
      "                crossrazor.append(razors[n])            \n",
      "    return crosslength, crossloss, crossrazor\n",
      "\n",
      "def mean_cross_section(lengths, losss, razors, pos, width):\n",
      "    crosslength, crossloss, crossrazor = cross_section(lengths, losss, razors, pos, width)\n",
      "    mean_crosslength, mean_crossloss = [], []\n",
      "    mean_crossrazor = razors\n",
      "    for razor in razors:\n",
      "        mean_crosslength.append([])\n",
      "        mean_crossloss.append([])\n",
      "        for length, loss, raz in zip(crosslength, crossloss, crossrazor):\n",
      "            if raz == razor:\n",
      "                mean_crosslength[-1].append(length)\n",
      "                mean_crossloss[-1].append(loss)\n",
      "        mean_crosslength[-1] = mean(mean_crosslength[-1])\n",
      "        mean_crossloss[-1] = mean(mean_crossloss[-1])\n",
      "    return mean_crosslength, mean_crossloss, mean_crossrazor"
     ],
     "language": "python",
     "metadata": {},
     "outputs": [
      {
       "output_type": "stream",
       "stream": "stdout",
       "text": [
        "razor blade in @ 7530.0\u00b5m\n",
        "razor blade in @ 7525.0\u00b5m"
       ]
      },
      {
       "output_type": "stream",
       "stream": "stdout",
       "text": [
        "\n",
        "razor blade in @ 7520.0\u00b5m"
       ]
      },
      {
       "output_type": "stream",
       "stream": "stdout",
       "text": [
        "\n",
        "razor blade in @ 7515.0\u00b5m"
       ]
      },
      {
       "output_type": "stream",
       "stream": "stdout",
       "text": [
        "\n",
        "razor blade in @ 7510.0\u00b5m"
       ]
      },
      {
       "output_type": "stream",
       "stream": "stdout",
       "text": [
        "\n",
        "razor blade in @ 7505.0\u00b5m"
       ]
      },
      {
       "output_type": "stream",
       "stream": "stdout",
       "text": [
        "\n",
        "razor blade in @ 7500.0\u00b5m"
       ]
      },
      {
       "output_type": "stream",
       "stream": "stdout",
       "text": [
        "\n",
        "razor blade in @ 7495.0\u00b5m"
       ]
      },
      {
       "output_type": "stream",
       "stream": "stdout",
       "text": [
        "\n",
        "razor blade in @ 7490.0\u00b5m"
       ]
      },
      {
       "output_type": "stream",
       "stream": "stdout",
       "text": [
        "\n",
        "razor blade in @ 7485.0\u00b5m"
       ]
      },
      {
       "output_type": "stream",
       "stream": "stdout",
       "text": [
        "\n"
       ]
      }
     ],
     "prompt_number": 2
    },
    {
     "cell_type": "code",
     "collapsed": false,
     "input": [
      "def loss_model(params, x):\n",
      "    x0, w, scale, offset = params\n",
      "    scale = 1.\n",
      "    w0 = np.sqrt(1066e-9/np.pi * np.sqrt(pos*(R-pos)))\n",
      "    zr = np.pi*w0**2/1066e-9\n",
      "    w = w0 * np.sqrt(1+pos**2/zr**2)\n",
      "    return offset + scale*(1-sc.special.erf(sqrt(2.)*(x-x0)/w))\n",
      "\n",
      "def fitting(datax, datay, func, params0):\n",
      "    def diff(params, datax, datay, func):\n",
      "        return np.array(datay) - func(params, datax)\n",
      "    return sc.optimize.leastsq(diff, params0, args=(datax, datay, func))[0]\n",
      "\n",
      "params0 = [7455e-6, 16e-6, 1., 90e-6]\n",
      "\n",
      "plt.figure(1)\n",
      "plt.clf()\n",
      "R = 1400e-6\n",
      "plt.xlim(7480e-6, 7535e-6)\n",
      "pos = 500.e-6\n",
      "crosslength, crossloss, crossrazor = cross_section(lengths, losss, razors, pos, 1.*1066.e-9 )\n",
      "plt.plot(crossrazor, crossloss, '+')\n",
      "plt.plot(crossrazor, loss_model(params0,np.array(crossrazor)), '8')\n",
      "params = fitting(crossrazor, crossloss, loss_model, params0)\n",
      "plt.plot(crossrazor, loss_model(params,np.array(crossrazor)), '8')"
     ],
     "language": "python",
     "metadata": {},
     "outputs": [
      {
       "metadata": {},
       "output_type": "pyout",
       "prompt_number": 7,
       "text": [
        "[<matplotlib.lines.Line2D at 0x13ec0630>]"
       ]
      }
     ],
     "prompt_number": 7
    },
    {
     "cell_type": "code",
     "collapsed": false,
     "input": [
      "R=1178e-6\n",
      "degeneracies = np.array([220,246,282,314,321,336,374,400,435,441,457,482,514,557])*1e-6\n",
      "def close_degeneracy(length, threshold, degeneracies):\n",
      "    for dege in degeneracies:\n",
      "        if abs(length-dege) < threshold:\n",
      "            return True\n",
      "    return False\n",
      "\n",
      "plt.figure(1)\n",
      "plt.clf()\n",
      "positions, x0s, waists = [], [], []\n",
      "for pos in arange(250,500)*1e-6:\n",
      "    crosslength, crossloss, crossrazor = cross_section(lengths, losss, razors, pos, 1.*1066.e-9 )\n",
      "    if len(crossrazor) > 4 and not close_degeneracy(pos, 5*1066e-9, degeneracies):\n",
      "        positions.append(pos)\n",
      "        params = fitting(crossrazor, crossloss, loss_model, params0)\n",
      "        x0s.append(params[0])\n",
      "        waists.append(params[1])\n",
      "plt.plot(positions, array(x0s)-0.00746)\n",
      "#plt.plot(positions, waists)\n",
      "print mean(x0s), mean(waists)"
     ],
     "language": "python",
     "metadata": {},
     "outputs": [
      {
       "output_type": "stream",
       "stream": "stdout",
       "text": [
        "0.00745672358257 1.6e-05\n"
       ]
      }
     ],
     "prompt_number": 18
    },
    {
     "cell_type": "code",
     "collapsed": false,
     "input": [
      "for R in np.linspace(1100e-6,1700e-6,10):\n",
      "    pos = np.linspace(10e-6,1500e-6,1000)\n",
      "    w0 = np.sqrt(1066e-9/np.pi * np.sqrt(pos*(R-pos)))\n",
      "    zr = np.pi*w0**2/1066e-9\n",
      "    w = w0 * np.sqrt(1+pos**2/zr**2)\n",
      "    plot(pos,w)"
     ],
     "language": "python",
     "metadata": {},
     "outputs": [],
     "prompt_number": 14
    }
   ],
   "metadata": {}
  }
 ]
}