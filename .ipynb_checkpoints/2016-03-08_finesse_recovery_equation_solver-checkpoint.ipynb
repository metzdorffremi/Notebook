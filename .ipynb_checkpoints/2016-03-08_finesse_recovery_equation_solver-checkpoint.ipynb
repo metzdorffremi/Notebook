{
 "metadata": {
  "name": "",
  "signature": "sha256:3d99ae7c70e2168b2167fdc6d8ca77eae11e9f168b4e0d294008524990c83ba4"
 },
 "nbformat": 3,
 "nbformat_minor": 0,
 "worksheets": [
  {
   "cells": [
    {
     "cell_type": "code",
     "collapsed": false,
     "input": [
      "import numpy as np\n",
      "import matplotlib.pyplot as plt\n",
      "from scipy.integrate import ode\n",
      "\n",
      "wavelength = 1064e-9\n",
      "L = 0.5*wavelength #cavity length\n",
      "c = 3e8\n",
      "\n",
      "gamma = 35e-6 #transmission of coupling mirror\n",
      "eta = 0.12e-6 #coupling between a and b\n",
      "alpha = 90e-6 #optical losses for a\n",
      "beta = 200e-6 #optical losses for b\n",
      "ain = 10 #input field\n",
      "phia, phib = 2*np.pi/wavelength * 2*L+np.pi, 2*np.pi/wavelength * 2*L+np.pi\n",
      "\n",
      "def f(t, Y):\n",
      "    a, b = Y\n",
      "    eq1 = c/(2*L) * ( (-gamma-alpha+1j*phia)*a + 1j*np.sqrt(eta)*b + np.sqrt(2*gamma)*ain )\n",
      "    eq2 = c/(2*L) * ( (-gamma-beta+1j*phib)*b + 1j*np.sqrt(eta)*a )\n",
      "    return [eq1, eq2]\n",
      "\n",
      "def solver(f,cond0,t0,t):\n",
      "    r = ode(f).set_integrator('zvode',nsteps=2000)\n",
      "    r.set_initial_value(cond0,t0)\n",
      "    return r.integrate(t)\n",
      "\n",
      "CI=[0,0]\n",
      "N = 50\n",
      "t = np.arange(N)*1.e-6/N\n",
      "solution = []\n",
      "for tau in t:\n",
      "    solution.append(solver(f,CI,0,tau))\n",
      "a = []\n",
      "b = []\n",
      "for sol in solution:\n",
      "    a.append(abs(sol[0]))\n",
      "    b.append(abs(sol[1]))\n",
      "plt.clf()\n",
      "plt.plot(t,a)\n",
      "plt.plot(t,b, \"+\")\n",
      "plt.show()"
     ],
     "language": "python",
     "metadata": {},
     "outputs": [],
     "prompt_number": 53
    },
    {
     "cell_type": "code",
     "collapsed": false,
     "input": [
      "solution"
     ],
     "language": "python",
     "metadata": {},
     "outputs": [
      {
       "metadata": {},
       "output_type": "pyout",
       "prompt_number": 26,
       "text": [
        "[array([ -2.52861609e-09 +1.33258005e-09j,   0.00000000e+00 +0.00000000e+00j]),\n",
        " array([ -2.52861609e-09 +1.33258005e-09j,   0.00000000e+00 +0.00000000e+00j]),\n",
        " array([ -2.52861609e-09 +1.33258005e-09j,   0.00000000e+00 +0.00000000e+00j]),\n",
        " array([ -2.52861609e-09 +1.33258005e-09j,   0.00000000e+00 +0.00000000e+00j]),\n",
        " array([ -2.52861609e-09 +1.33258005e-09j,   0.00000000e+00 +0.00000000e+00j]),\n",
        " array([ -2.52861609e-09 +1.33258005e-09j,   0.00000000e+00 +0.00000000e+00j]),\n",
        " array([ -2.52861609e-09 +1.33258005e-09j,   0.00000000e+00 +0.00000000e+00j]),\n",
        " array([ -2.52861609e-09 +1.33258005e-09j,   0.00000000e+00 +0.00000000e+00j]),\n",
        " array([ -2.52861609e-09 +1.33258005e-09j,   0.00000000e+00 +0.00000000e+00j]),\n",
        " array([ -2.52861609e-09 +1.33258005e-09j,   0.00000000e+00 +0.00000000e+00j])]"
       ]
      }
     ],
     "prompt_number": 26
    },
    {
     "cell_type": "code",
     "collapsed": false,
     "input": [],
     "language": "python",
     "metadata": {},
     "outputs": []
    }
   ],
   "metadata": {}
  }
 ]
}