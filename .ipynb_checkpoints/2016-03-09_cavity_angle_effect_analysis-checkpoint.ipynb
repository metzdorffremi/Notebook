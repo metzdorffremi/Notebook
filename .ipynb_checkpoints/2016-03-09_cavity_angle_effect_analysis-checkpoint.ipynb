{
 "metadata": {
  "name": "",
  "signature": "sha256:9f18ad8e8cbe273e09dc15aa24ef0a4352343cff990c7cefff732827c9d229b5"
 },
 "nbformat": 3,
 "nbformat_minor": 0,
 "worksheets": [
  {
   "cells": [
    {
     "cell_type": "code",
     "collapsed": false,
     "input": [
      "from pyinstruments import CurveDB\n",
      "import pandas\n",
      "from users.remi import losses2 as losses\n",
      "from pyinstruments.pyhardwaredb import instrument\n",
      "import gc\n",
      "import time\n",
      "from matplotlib.colors import LogNorm\n",
      "\n",
      "folder_pk = 517304\n",
      "folder = CurveDB.objects.get(pk=folder_pk)\n",
      "scans = folder.childs.all()\n",
      "\n",
      "n = 0\n",
      "scan = losses.FullScan(scans[n].pk)#, stop_pk=517473)\n",
      "fitted_scans = scans[0:n]"
     ],
     "language": "python",
     "metadata": {},
     "outputs": [],
     "prompt_number": 1
    },
    {
     "cell_type": "code",
     "collapsed": false,
     "input": [
      "params_fit = scan.find_pzt_params()"
     ],
     "language": "python",
     "metadata": {},
     "outputs": [
      {
       "output_type": "stream",
       "stream": "stderr",
       "text": [
        "C:\\Python27\\lib\\site-packages\\pandas\\io\\pytables.py:528: DeprecationWarning: openFile() is pending deprecation, use open_file() instead. You may use the pt2to3 tool to update your source code.\n",
        "  self._handle = tables.openFile(self._path, self._mode, **kwargs)\n",
        "\n"
       ]
      },
      {
       "output_type": "stream",
       "stream": "stderr",
       "text": [
        "WARNING:py.warnings:C:\\Python27\\lib\\site-packages\\pandas\\io\\pytables.py:528: DeprecationWarning: openFile() is pending deprecation, use open_file() instead. You may use the pt2to3 tool to update your source code.\n",
        "  self._handle = tables.openFile(self._path, self._mode, **kwargs)\n",
        "\n"
       ]
      },
      {
       "output_type": "stream",
       "stream": "stderr",
       "text": [
        "C:\\Python27\\lib\\site-packages\\pandas\\io\\pytables.py:1044: DeprecationWarning: getNode() is pending deprecation, use get_node() instead. You may use the pt2to3 tool to update your source code.\n",
        "  return self._handle.getNode(self.root, key)\n",
        "\n"
       ]
      },
      {
       "output_type": "stream",
       "stream": "stderr",
       "text": [
        "WARNING:py.warnings:C:\\Python27\\lib\\site-packages\\pandas\\io\\pytables.py:1044: DeprecationWarning: getNode() is pending deprecation, use get_node() instead. You may use the pt2to3 tool to update your source code.\n",
        "  return self._handle.getNode(self.root, key)\n",
        "\n"
       ]
      },
      {
       "output_type": "stream",
       "stream": "stdout",
       "text": [
        "losses.FullScan.find_pzt_params\n",
        "losses.FullScan._visual_control_find_pzt_params"
       ]
      },
      {
       "output_type": "stream",
       "stream": "stdout",
       "text": [
        "\n",
        "losses.FullSCAN._params_pzt\n"
       ]
      }
     ],
     "prompt_number": 2
    },
    {
     "cell_type": "code",
     "collapsed": false,
     "input": [
      "for fsr in scan.fsrs:\n",
      "    if fsr.curve.pk >= 342834:\n",
      "        #fsr.curve.params[\"peakthreshold\"] = 0.7\n",
      "        fsr.curve.params[\"fit_type\"] = \"lorentzSBasymm_smooth\"\n",
      "        fsr.curve.save()"
     ],
     "language": "python",
     "metadata": {},
     "outputs": []
    },
    {
     "cell_type": "code",
     "collapsed": false,
     "input": [
      "from users.remi import finesse\n",
      "l = [518745+2*i for i in range(7)]\n",
      "for pk in l:\n",
      "    print pk\n",
      "    try:\n",
      "        d = finesse.DataPeaks(finesse.FSRScan(pk))\n",
      "        d.make_portions()\n",
      "    except ValueError:\n",
      "        print \"tadaa\""
     ],
     "language": "python",
     "metadata": {},
     "outputs": []
    },
    {
     "cell_type": "code",
     "collapsed": false,
     "input": [
      "#To delete false peaks\n",
      "\n",
      "from curve import Curve\n",
      "for fsr in scan.fsrs:\n",
      "    for peak in fsr.peaks:\n",
      "        cu = Curve()\n",
      "        cu.set_data(peak.curve.data)\n",
      "        res, lor = cu.fit('lorentz',maxiter=100)\n",
      "\n",
      "        magdata = (lor.data-lor.params['y0']).abs()\n",
      "        scale = numpy.sign(lor.params['scale'])*(magdata.max())\n",
      "        \n",
      "        res, lor = cu.fit('lorentz', fixed_params={'x0':lor.params['x0'], 'bandwidth':0.7*lor.params['bandwidth'], 'scale':scale})\n",
      "\n",
      "        upper_half = lor.data.loc[lor.params['x0']+5.0*abs(lor.params[\"bandwidth\"]):]\n",
      "        lower_half = lor.data.loc[:lor.params['x0']-5.0*abs(lor.params[\"bandwidth\"])]\n",
      "        if len(upper_half) == 0 or len(lower_half) == 0 or len(lower_half)*1./len(upper_half) <0.1 or len(lower_half)*1./len(upper_half) >10.:\n",
      "            print '\\t', peak.curve.pk, len(upper_half), len(lower_half)\n",
      "            #peak.curve.delete()\n",
      "    print fsr.curve.pk"
     ],
     "language": "python",
     "metadata": {},
     "outputs": []
    },
    {
     "cell_type": "code",
     "collapsed": false,
     "input": [
      "scan._update_bandwidth()"
     ],
     "language": "python",
     "metadata": {},
     "outputs": [
      {
       "output_type": "stream",
       "stream": "stdout",
       "text": [
        "517461\n",
        "517463\n",
        "517465\n",
        "517467\n",
        "517469\n",
        "517471\n",
        "517473\n",
        "517475\n",
        "517477"
       ]
      },
      {
       "output_type": "stream",
       "stream": "stdout",
       "text": [
        "\n",
        "517479\n",
        "517481\n",
        "517483\n",
        "517485\n",
        "517487\n",
        "517489\n",
        "517491\n",
        "517493"
       ]
      },
      {
       "output_type": "stream",
       "stream": "stdout",
       "text": [
        "\n",
        "517495\n",
        "517497\n",
        "517499\n",
        "517501\n",
        "517503\n",
        "517505\n",
        "517507\n",
        "517509"
       ]
      },
      {
       "output_type": "stream",
       "stream": "stdout",
       "text": [
        "\n",
        "517511\n",
        "517513\n",
        "517515\n",
        "517517\n",
        "517519\n",
        "517521\n",
        "517523"
       ]
      },
      {
       "output_type": "stream",
       "stream": "stdout",
       "text": [
        "\n",
        "517525\n",
        "517527\n",
        "517529\n",
        "517531\n",
        "517533\n",
        "517535\n",
        "517537\n",
        "517539"
       ]
      },
      {
       "output_type": "stream",
       "stream": "stdout",
       "text": [
        "\n",
        "517541\n",
        "517543\n",
        "517545\n",
        "517547\n",
        "517549\n",
        "517551\n",
        "517553"
       ]
      },
      {
       "output_type": "stream",
       "stream": "stdout",
       "text": [
        "\n",
        "517555\n",
        "517557\n",
        "517559\n",
        "517561\n",
        "517563\n",
        "517565\n",
        "517567"
       ]
      },
      {
       "output_type": "stream",
       "stream": "stdout",
       "text": [
        "\n",
        "517569\n",
        "517571\n",
        "517573\n",
        "517575\n",
        "517577\n",
        "517579\n",
        "517581"
       ]
      },
      {
       "output_type": "stream",
       "stream": "stdout",
       "text": [
        "\n",
        "517583\n",
        "517585\n",
        "517587\n",
        "517589\n",
        "517591\n",
        "517593\n",
        "517595\n",
        "517597"
       ]
      },
      {
       "output_type": "stream",
       "stream": "stdout",
       "text": [
        "\n",
        "517599\n",
        "517601\n",
        "517603\n",
        "517605\n",
        "517607\n",
        "517609\n",
        "517611\n",
        "517613"
       ]
      },
      {
       "output_type": "stream",
       "stream": "stdout",
       "text": [
        "\n",
        "517615\n",
        "517617\n",
        "517619\n",
        "517621\n",
        "517623\n",
        "517625\n",
        "517627\n",
        "517629"
       ]
      },
      {
       "output_type": "stream",
       "stream": "stdout",
       "text": [
        "\n",
        "517631\n",
        "517633\n",
        "517635\n",
        "517637\n",
        "517639\n",
        "517641\n",
        "517643"
       ]
      },
      {
       "output_type": "stream",
       "stream": "stdout",
       "text": [
        "\n",
        "517645\n",
        "517647\n",
        "517649\n",
        "517651\n",
        "517653\n",
        "517655\n",
        "517657\n",
        "517659"
       ]
      },
      {
       "output_type": "stream",
       "stream": "stdout",
       "text": [
        "\n",
        "517661\n",
        "517663\n",
        "517665\n",
        "517667\n",
        "517669\n",
        "517671\n",
        "517673"
       ]
      },
      {
       "output_type": "stream",
       "stream": "stdout",
       "text": [
        "\n",
        "517675\n",
        "517677\n",
        "517679\n",
        "517681\n",
        "517683\n",
        "517685\n",
        "517687\n",
        "517689"
       ]
      },
      {
       "output_type": "stream",
       "stream": "stdout",
       "text": [
        "\n",
        "517691\n",
        "517693\n",
        "517695\n",
        "517697\n",
        "517699\n",
        "517701\n",
        "517703"
       ]
      },
      {
       "output_type": "stream",
       "stream": "stdout",
       "text": [
        "\n",
        "517705\n",
        "517707\n",
        "517709\n",
        "517711\n",
        "517713\n",
        "517715\n",
        "517717\n",
        "517719"
       ]
      },
      {
       "output_type": "stream",
       "stream": "stdout",
       "text": [
        "\n",
        "517721\n",
        "517723\n",
        "517725\n",
        "517727\n",
        "517729\n",
        "517731\n",
        "517733"
       ]
      },
      {
       "output_type": "stream",
       "stream": "stdout",
       "text": [
        "\n",
        "517735\n",
        "517737\n",
        "517739\n",
        "517741\n",
        "517743\n",
        "517745\n",
        "517747\n",
        "517749"
       ]
      },
      {
       "output_type": "stream",
       "stream": "stdout",
       "text": [
        "\n",
        "517751\n",
        "517753\n",
        "517755\n",
        "517757\n",
        "517759\n",
        "517761\n",
        "517763\n",
        "517765"
       ]
      },
      {
       "output_type": "stream",
       "stream": "stdout",
       "text": [
        "\n",
        "517767\n",
        "517769\n",
        "517771\n",
        "517773\n",
        "517775\n",
        "517777\n",
        "517779"
       ]
      },
      {
       "output_type": "stream",
       "stream": "stdout",
       "text": [
        "\n",
        "517781\n",
        "517783\n",
        "517785\n",
        "517787\n",
        "517789\n",
        "517791\n",
        "517793"
       ]
      },
      {
       "output_type": "stream",
       "stream": "stdout",
       "text": [
        "\n",
        "517795\n",
        "517797\n",
        "517799\n",
        "517801\n",
        "517803\n",
        "517805\n",
        "517807\n",
        "517809"
       ]
      },
      {
       "output_type": "stream",
       "stream": "stdout",
       "text": [
        "\n",
        "517811\n",
        "517813\n",
        "517815\n",
        "517817\n",
        "517819\n",
        "517821\n",
        "517823"
       ]
      },
      {
       "output_type": "stream",
       "stream": "stdout",
       "text": [
        "\n",
        "517825\n",
        "517827\n",
        "517829\n",
        "517831\n",
        "517833\n",
        "517835\n",
        "517837"
       ]
      },
      {
       "output_type": "stream",
       "stream": "stdout",
       "text": [
        "\n",
        "517839\n",
        "517841\n",
        "517843\n",
        "517845\n",
        "517847\n",
        "517849\n",
        "517851"
       ]
      },
      {
       "output_type": "stream",
       "stream": "stdout",
       "text": [
        "\n",
        "517853\n",
        "517855\n",
        "517857\n",
        "517859\n",
        "517861\n",
        "517863\n",
        "517865"
       ]
      },
      {
       "output_type": "stream",
       "stream": "stdout",
       "text": [
        "\n",
        "517867\n",
        "517869\n",
        "517871\n",
        "517873\n",
        "517875\n",
        "517877\n",
        "517879"
       ]
      },
      {
       "output_type": "stream",
       "stream": "stdout",
       "text": [
        "\n",
        "517881\n",
        "517883\n",
        "517885\n",
        "517887\n",
        "517889\n",
        "517891\n",
        "517893"
       ]
      },
      {
       "output_type": "stream",
       "stream": "stdout",
       "text": [
        "\n",
        "517895\n",
        "517897\n",
        "517899\n",
        "517901\n",
        "517903\n",
        "517905\n",
        "517907\n",
        "517909"
       ]
      },
      {
       "output_type": "stream",
       "stream": "stdout",
       "text": [
        "\n",
        "517911\n",
        "517913\n",
        "517915\n",
        "517917\n",
        "517919\n",
        "517921\n",
        "517923"
       ]
      },
      {
       "output_type": "stream",
       "stream": "stdout",
       "text": [
        "\n",
        "517925\n",
        "517927\n",
        "517929\n",
        "517931\n",
        "517933\n",
        "517935\n",
        "517937"
       ]
      },
      {
       "output_type": "stream",
       "stream": "stdout",
       "text": [
        "\n",
        "517939\n",
        "517941\n",
        "517943\n",
        "517945\n",
        "517947\n",
        "517949\n",
        "517951\n",
        "517953"
       ]
      },
      {
       "output_type": "stream",
       "stream": "stdout",
       "text": [
        "\n",
        "517955\n",
        "517957\n",
        "517959\n",
        "517961\n",
        "517963\n",
        "517965\n",
        "517967"
       ]
      },
      {
       "output_type": "stream",
       "stream": "stdout",
       "text": [
        "\n",
        "517969\n",
        "517971\n",
        "517973\n",
        "517975\n",
        "517977\n",
        "517979\n",
        "517981"
       ]
      },
      {
       "output_type": "stream",
       "stream": "stdout",
       "text": [
        "\n",
        "517983\n",
        "517985\n",
        "517987\n",
        "517989\n",
        "517991\n",
        "517993\n",
        "517995"
       ]
      },
      {
       "output_type": "stream",
       "stream": "stdout",
       "text": [
        "\n",
        "517997\n",
        "517999\n",
        "518001\n",
        "518003\n",
        "518005\n",
        "518007\n",
        "518009\n",
        "518011"
       ]
      },
      {
       "output_type": "stream",
       "stream": "stdout",
       "text": [
        "\n",
        "518013\n",
        "518015\n",
        "518017\n",
        "518019\n",
        "518021\n",
        "518023\n",
        "518025"
       ]
      },
      {
       "output_type": "stream",
       "stream": "stdout",
       "text": [
        "\n",
        "518027\n",
        "518029\n",
        "518031\n",
        "518033\n",
        "518035\n",
        "518037\n",
        "518039\n",
        "518041"
       ]
      },
      {
       "output_type": "stream",
       "stream": "stdout",
       "text": [
        "\n",
        "518043\n",
        "518045\n",
        "518047\n",
        "518049\n",
        "518051\n",
        "518053\n",
        "518055"
       ]
      },
      {
       "output_type": "stream",
       "stream": "stdout",
       "text": [
        "\n",
        "518057\n",
        "518059\n",
        "518061\n",
        "518063\n",
        "518065\n",
        "518067\n",
        "518069"
       ]
      },
      {
       "output_type": "stream",
       "stream": "stdout",
       "text": [
        "\n",
        "518071\n",
        "518073\n",
        "518075\n",
        "518077\n",
        "518079\n",
        "518081\n",
        "518083"
       ]
      },
      {
       "output_type": "stream",
       "stream": "stdout",
       "text": [
        "\n",
        "518085\n",
        "518087\n",
        "518089\n",
        "518091\n",
        "518093\n",
        "518095\n",
        "518097"
       ]
      },
      {
       "output_type": "stream",
       "stream": "stdout",
       "text": [
        "\n",
        "518099\n",
        "518101\n",
        "518103\n",
        "518105\n",
        "518107\n",
        "518109\n",
        "518111\n",
        "518113"
       ]
      },
      {
       "output_type": "stream",
       "stream": "stdout",
       "text": [
        "\n",
        "518115\n",
        "518117\n",
        "518119\n",
        "518121\n",
        "518123\n",
        "518125\n",
        "518127"
       ]
      },
      {
       "output_type": "stream",
       "stream": "stdout",
       "text": [
        "\n",
        "518129\n",
        "518131\n",
        "518133\n",
        "518135\n",
        "518137\n",
        "518139\n",
        "518141\n",
        "518143"
       ]
      },
      {
       "output_type": "stream",
       "stream": "stdout",
       "text": [
        "\n",
        "518145\n",
        "518147\n",
        "518149\n",
        "518151\n",
        "518153\n",
        "518155\n",
        "518157"
       ]
      },
      {
       "output_type": "stream",
       "stream": "stdout",
       "text": [
        "\n",
        "518159\n",
        "518161\n",
        "518163\n",
        "518165\n",
        "518167\n",
        "518169\n",
        "518171"
       ]
      },
      {
       "output_type": "stream",
       "stream": "stdout",
       "text": [
        "\n",
        "518173\n",
        "518175\n",
        "518177\n",
        "518179\n",
        "518181\n",
        "518183\n",
        "518185"
       ]
      },
      {
       "output_type": "stream",
       "stream": "stdout",
       "text": [
        "\n",
        "518187\n",
        "518189\n",
        "518191\n",
        "518193\n",
        "518195\n",
        "518197\n",
        "518199\n",
        "518201"
       ]
      },
      {
       "output_type": "stream",
       "stream": "stdout",
       "text": [
        "\n",
        "518203\n",
        "518205\n",
        "518207\n",
        "518209\n",
        "518211\n",
        "518213\n",
        "518215\n",
        "518217"
       ]
      },
      {
       "output_type": "stream",
       "stream": "stdout",
       "text": [
        "\n",
        "518219\n",
        "518221\n",
        "518223\n",
        "518225\n",
        "518227\n",
        "518229\n",
        "518231\n",
        "518233"
       ]
      },
      {
       "output_type": "stream",
       "stream": "stdout",
       "text": [
        "\n",
        "518235\n",
        "518237\n",
        "518239\n",
        "518241\n",
        "518243\n",
        "518245\n",
        "518247"
       ]
      },
      {
       "output_type": "stream",
       "stream": "stdout",
       "text": [
        "\n",
        "518249\n",
        "518251\n",
        "518253\n",
        "518255\n",
        "518257\n",
        "518259\n",
        "518261\n",
        "518263"
       ]
      },
      {
       "output_type": "stream",
       "stream": "stdout",
       "text": [
        "\n",
        "518265\n",
        "518267\n",
        "518269\n",
        "518271\n",
        "518273\n",
        "518275\n",
        "518277"
       ]
      },
      {
       "output_type": "stream",
       "stream": "stdout",
       "text": [
        "\n",
        "518279\n",
        "518281\n",
        "518283\n",
        "518285\n",
        "518287\n",
        "518289\n",
        "518291"
       ]
      },
      {
       "output_type": "stream",
       "stream": "stdout",
       "text": [
        "\n",
        "518293\n",
        "518295\n",
        "518297\n",
        "518299\n",
        "518301\n",
        "518303\n",
        "518305\n",
        "518307"
       ]
      },
      {
       "output_type": "stream",
       "stream": "stdout",
       "text": [
        "\n",
        "518309\n",
        "518311\n",
        "518313\n",
        "518315\n",
        "518317\n",
        "518319\n",
        "518321\n",
        "518323"
       ]
      },
      {
       "output_type": "stream",
       "stream": "stdout",
       "text": [
        "\n",
        "518325\n",
        "518327\n",
        "518329\n",
        "518331\n",
        "518333\n",
        "518335\n",
        "518337\n",
        "518339"
       ]
      },
      {
       "output_type": "stream",
       "stream": "stdout",
       "text": [
        "\n",
        "518341\n",
        "518343\n",
        "518345\n",
        "518347\n",
        "518349\n",
        "518351\n",
        "518353"
       ]
      },
      {
       "output_type": "stream",
       "stream": "stdout",
       "text": [
        "\n",
        "518355\n",
        "518357\n",
        "518359\n",
        "518361\n",
        "518363\n",
        "518365\n",
        "518367"
       ]
      },
      {
       "output_type": "stream",
       "stream": "stdout",
       "text": [
        "\n",
        "518369\n",
        "518371\n",
        "518373\n",
        "518375\n",
        "518377\n",
        "518379\n",
        "518381"
       ]
      },
      {
       "output_type": "stream",
       "stream": "stdout",
       "text": [
        "\n",
        "518383\n",
        "518385\n",
        "518387\n",
        "518389\n",
        "518391\n",
        "518393\n",
        "518395\n",
        "518397"
       ]
      },
      {
       "output_type": "stream",
       "stream": "stdout",
       "text": [
        "\n",
        "518399\n",
        "518401\n",
        "518403\n",
        "518405\n",
        "518407\n",
        "518409\n",
        "518411\n",
        "518413"
       ]
      },
      {
       "output_type": "stream",
       "stream": "stdout",
       "text": [
        "\n",
        "518415\n",
        "518417\n",
        "518419\n",
        "518421\n",
        "518423\n",
        "518425\n",
        "518427\n",
        "518429"
       ]
      },
      {
       "output_type": "stream",
       "stream": "stdout",
       "text": [
        "\n",
        "518431\n",
        "518433\n",
        "518435\n",
        "518437\n",
        "518439\n",
        "518441\n",
        "518443"
       ]
      },
      {
       "output_type": "stream",
       "stream": "stdout",
       "text": [
        "\n",
        "518445\n",
        "518447\n",
        "518449\n",
        "518451\n",
        "518453\n",
        "518455\n",
        "518457\n",
        "518459"
       ]
      },
      {
       "output_type": "stream",
       "stream": "stdout",
       "text": [
        "\n",
        "518461\n",
        "518463\n",
        "518465\n",
        "518467\n",
        "518469\n",
        "518471\n",
        "518473"
       ]
      },
      {
       "output_type": "stream",
       "stream": "stdout",
       "text": [
        "\n",
        "518475\n",
        "518477\n",
        "518479\n",
        "518481\n",
        "518483\n",
        "518485\n",
        "518487"
       ]
      },
      {
       "output_type": "stream",
       "stream": "stdout",
       "text": [
        "\n",
        "518489\n",
        "518491\n",
        "518493\n",
        "518495\n",
        "518497\n",
        "518499\n",
        "518501\n",
        "518503\n",
        "518505"
       ]
      },
      {
       "output_type": "stream",
       "stream": "stdout",
       "text": [
        "\n",
        "518507\n",
        "518509\n",
        "518511\n",
        "518513\n",
        "518515\n",
        "518517\n",
        "518519\n",
        "518521"
       ]
      },
      {
       "output_type": "stream",
       "stream": "stdout",
       "text": [
        "\n",
        "518523\n",
        "518525\n",
        "518527\n",
        "518529\n",
        "518531\n",
        "518533\n",
        "518535"
       ]
      },
      {
       "output_type": "stream",
       "stream": "stdout",
       "text": [
        "\n",
        "518537\n",
        "518539\n",
        "518541\n",
        "518543\n",
        "518545\n",
        "518547\n",
        "518549\n",
        "518551"
       ]
      },
      {
       "output_type": "stream",
       "stream": "stdout",
       "text": [
        "\n",
        "518553\n",
        "518555\n",
        "518557\n",
        "518559\n",
        "518561\n",
        "518563\n",
        "518565"
       ]
      },
      {
       "output_type": "stream",
       "stream": "stdout",
       "text": [
        "\n",
        "518567\n",
        "518569\n",
        "518571\n",
        "518573\n",
        "518575\n",
        "518577\n",
        "518579\n",
        "518581"
       ]
      },
      {
       "output_type": "stream",
       "stream": "stdout",
       "text": [
        "\n",
        "518583\n",
        "518585\n",
        "518587\n",
        "518589\n",
        "518591\n",
        "518593\n",
        "518595\n",
        "518597"
       ]
      },
      {
       "output_type": "stream",
       "stream": "stdout",
       "text": [
        "\n",
        "518599\n",
        "518601\n",
        "518603\n",
        "518605\n",
        "518607\n",
        "518609\n",
        "518611\n",
        "518613"
       ]
      },
      {
       "output_type": "stream",
       "stream": "stdout",
       "text": [
        "\n",
        "518615\n",
        "518617\n",
        "518619\n",
        "518621\n",
        "518623\n",
        "518625\n",
        "518627"
       ]
      },
      {
       "output_type": "stream",
       "stream": "stdout",
       "text": [
        "\n",
        "518629\n",
        "518631\n",
        "518633\n",
        "518635\n",
        "518637\n",
        "518639\n",
        "518641\n",
        "518643"
       ]
      },
      {
       "output_type": "stream",
       "stream": "stdout",
       "text": [
        "\n",
        "518645\n",
        "518647\n",
        "518649\n",
        "518651\n",
        "518653\n",
        "518655\n",
        "518657\n",
        "518659"
       ]
      },
      {
       "output_type": "stream",
       "stream": "stdout",
       "text": [
        "\n",
        "518661\n",
        "518663\n",
        "518665\n",
        "518667\n",
        "518669\n",
        "518671\n",
        "518673\n",
        "518675"
       ]
      },
      {
       "output_type": "stream",
       "stream": "stdout",
       "text": [
        "\n",
        "518677\n",
        "518679\n",
        "518681\n",
        "518683\n",
        "518685\n",
        "518687\n",
        "518689\n",
        "518691"
       ]
      },
      {
       "output_type": "stream",
       "stream": "stdout",
       "text": [
        "\n",
        "518693\n",
        "518695\n",
        "518697\n",
        "518699\n",
        "518701\n",
        "518703\n",
        "518705\n",
        "518707"
       ]
      },
      {
       "output_type": "stream",
       "stream": "stdout",
       "text": [
        "\n",
        "518709\n",
        "518711\n",
        "518713\n",
        "518715\n",
        "518717\n",
        "518719\n",
        "518721\n",
        "518723"
       ]
      },
      {
       "output_type": "stream",
       "stream": "stdout",
       "text": [
        "\n",
        "518725\n",
        "518727\n",
        "518729\n",
        "518731\n",
        "518733\n",
        "518735\n",
        "518737\n",
        "518739"
       ]
      },
      {
       "output_type": "stream",
       "stream": "stdout",
       "text": [
        "\n",
        "518741\n",
        "518743\n",
        "518745\n",
        "518747\n",
        "518749\n",
        "518751\n",
        "518753"
       ]
      },
      {
       "output_type": "stream",
       "stream": "stdout",
       "text": [
        "\n",
        "518755\n",
        "518757\n"
       ]
      }
     ],
     "prompt_number": 4
    },
    {
     "cell_type": "code",
     "collapsed": false,
     "input": [
      "wavelength = 1066e-9\n",
      "fsr = wavelength/2.\n",
      "offset = mean(np.array([190,201,207,211,213,205,213,208])-np.array([0,1,3,4,6,7,8,9])*fsr)\n",
      "print offset\n",
      "\n",
      "factor = 0.55\n",
      "scan.curve.params[\"offset_length\"] = offset*1e-6+fsr*factor\n",
      "scan.curve.save()"
     ],
     "language": "python",
     "metadata": {},
     "outputs": [
      {
       "output_type": "stream",
       "stream": "stdout",
       "text": [
        "205.999997468\n"
       ]
      }
     ],
     "prompt_number": 2
    },
    {
     "cell_type": "code",
     "collapsed": false,
     "input": [
      "scan._update_cavity_length()"
     ],
     "language": "python",
     "metadata": {},
     "outputs": [
      {
       "output_type": "stream",
       "stream": "stdout",
       "text": [
        "losses.FullScan._update_cavity_length\n",
        "collect pzt_params\n",
        "losses.FullSCAN._params_pzt\n",
        "collect offset_length\n",
        "517461 517461\n",
        "648"
       ]
      },
      {
       "output_type": "stream",
       "stream": "stdout",
       "text": [
        "\n",
        "517461\n",
        "517463\n",
        "517465\n",
        "517467\n",
        "517469\n",
        "517471\n",
        "517473\n",
        "517475\n",
        "517477\n",
        "517479\n",
        "517481\n",
        "517483\n",
        "517485\n",
        "517487\n",
        "517489\n",
        "517491\n",
        "517493\n",
        "517495\n",
        "517497\n",
        "517499\n",
        "517501\n",
        "517503\n",
        "517505\n",
        "517507\n",
        "517509\n",
        "517511\n",
        "517513\n",
        "517515\n",
        "517517\n",
        "517519\n",
        "517521\n",
        "517523\n",
        "517525\n",
        "517527\n",
        "517529\n",
        "517531\n",
        "517533\n",
        "517535\n",
        "517537\n",
        "517539\n",
        "517541\n",
        "517543\n",
        "517545\n",
        "517547\n",
        "517549\n",
        "517551\n",
        "517553\n",
        "517555\n",
        "517557\n",
        "517559\n",
        "517561\n",
        "517563\n",
        "517565\n",
        "517567\n",
        "517569\n",
        "517571\n",
        "517573\n",
        "517575\n",
        "517577\n",
        "517579\n",
        "517581\n",
        "517583\n",
        "517585\n",
        "517587\n",
        "517589\n",
        "517591\n",
        "517593\n",
        "517595\n",
        "517597\n",
        "517599\n",
        "517601\n",
        "517603\n",
        "517605\n",
        "517607\n",
        "517609"
       ]
      },
      {
       "output_type": "stream",
       "stream": "stdout",
       "text": [
        "\n",
        "517611\n",
        "517613\n",
        "517615\n",
        "517617\n",
        "517619\n",
        "517621\n",
        "517623\n",
        "517625\n",
        "517627\n",
        "517629\n",
        "517631\n",
        "517633\n",
        "517635\n",
        "517637\n",
        "517639\n",
        "517641\n",
        "517643\n",
        "517645\n",
        "517647\n",
        "517649\n",
        "517651\n",
        "517653\n",
        "517655\n",
        "517657\n",
        "517659\n",
        "517661\n",
        "517663\n",
        "517665\n",
        "517667\n",
        "517669\n",
        "517671\n",
        "517673\n",
        "517675\n",
        "517677\n",
        "517679\n",
        "517681\n",
        "517683\n",
        "517685\n",
        "517687\n",
        "517689\n",
        "517691\n",
        "517693\n",
        "517695\n",
        "517697\n",
        "517699\n",
        "517701\n",
        "517703\n",
        "517705\n",
        "517707\n",
        "517709\n",
        "517711\n",
        "517713\n",
        "517715\n",
        "517717\n",
        "517719\n",
        "517721\n",
        "517723\n",
        "517725\n",
        "517727\n",
        "517729\n",
        "517731\n",
        "517733\n",
        "517735\n",
        "517737\n",
        "517739\n",
        "517741\n",
        "517743\n",
        "517745\n",
        "517747\n",
        "517749\n",
        "517751\n",
        "517753\n",
        "517755\n",
        "517757\n",
        "517759"
       ]
      },
      {
       "output_type": "stream",
       "stream": "stdout",
       "text": [
        "\n",
        "517761\n",
        "517763\n",
        "517765\n",
        "517767\n",
        "517769\n",
        "517771\n",
        "517773\n",
        "517775\n",
        "517777\n",
        "517779\n",
        "517781\n",
        "517783\n",
        "517785\n",
        "517787\n",
        "517789\n",
        "517791\n",
        "517793\n",
        "517795\n",
        "517797\n",
        "517799\n",
        "517801\n",
        "517803\n",
        "517805\n",
        "517807\n",
        "517809\n",
        "517811\n",
        "517813\n",
        "517815\n",
        "517817\n",
        "517819\n",
        "517821\n",
        "517823\n",
        "517825\n",
        "517827\n",
        "517829\n",
        "517831\n",
        "517833\n",
        "517835\n",
        "517837\n",
        "517839\n",
        "517841\n",
        "517843\n",
        "517845\n",
        "517847\n",
        "517849\n",
        "517851\n",
        "517853\n",
        "517855\n",
        "517857\n",
        "517859\n",
        "517861\n",
        "517863\n",
        "517865\n",
        "517867\n",
        "517869\n",
        "517871\n",
        "517873\n",
        "517875\n",
        "517877\n",
        "517879\n",
        "517881\n",
        "517883\n",
        "517885\n",
        "517887\n",
        "517889\n",
        "517891\n",
        "517893\n",
        "517895\n",
        "517897\n",
        "517899\n",
        "517901\n",
        "517903\n",
        "517905\n",
        "517907\n",
        "517909\n",
        "517911"
       ]
      },
      {
       "output_type": "stream",
       "stream": "stdout",
       "text": [
        "\n",
        "517913\n",
        "517915\n",
        "517917\n",
        "517919\n",
        "517921\n",
        "517923\n",
        "517925\n",
        "517927\n",
        "517929\n",
        "517931\n",
        "517933\n",
        "517935\n",
        "517937\n",
        "517939\n",
        "517941\n",
        "517943\n",
        "517945\n",
        "517947\n",
        "517949\n",
        "517951\n",
        "517953\n",
        "517955\n",
        "517957\n",
        "517959\n",
        "517961\n",
        "517963\n",
        "517965\n",
        "517967\n",
        "517969\n",
        "517971\n",
        "517973\n",
        "517975\n",
        "517977\n",
        "517979\n",
        "517981\n",
        "517983\n",
        "517985\n",
        "517987\n",
        "517989\n",
        "517991\n",
        "517993\n",
        "517995\n",
        "517997\n",
        "517999\n",
        "518001\n",
        "518003\n",
        "518005\n",
        "518007\n",
        "518009\n",
        "518011\n",
        "518013\n",
        "518015\n",
        "518017\n",
        "518019\n",
        "518021\n",
        "518023\n",
        "518025\n",
        "518027\n",
        "518029\n",
        "518031\n",
        "518033\n",
        "518035\n",
        "518037\n",
        "518039\n",
        "518041\n",
        "518043\n",
        "518045\n",
        "518047\n",
        "518049\n",
        "518051\n",
        "518053\n",
        "518055\n",
        "518057\n",
        "518059\n",
        "518061\n",
        "518063\n",
        "518065\n",
        "518067\n",
        "518069\n",
        "518071\n",
        "518073\n",
        "518075"
       ]
      },
      {
       "output_type": "stream",
       "stream": "stdout",
       "text": [
        "\n",
        "518077\n",
        "518079\n",
        "518081\n",
        "518083\n",
        "518085\n",
        "518087\n",
        "518089\n",
        "518091\n",
        "518093\n",
        "518095\n",
        "518097\n",
        "518099\n",
        "518101\n",
        "518103\n",
        "518105\n",
        "518107\n",
        "518109\n",
        "518111\n",
        "518113\n",
        "518115\n",
        "518117\n",
        "518119\n",
        "518121\n",
        "518123\n",
        "518125\n",
        "518127\n",
        "518129\n",
        "518131\n",
        "518133\n",
        "518135\n",
        "518137\n",
        "518139\n",
        "518141\n",
        "518143\n",
        "518145\n",
        "518147\n",
        "518149\n",
        "518151\n",
        "518153\n",
        "518155\n",
        "518157\n",
        "518159\n",
        "518161\n",
        "518163\n",
        "518165\n",
        "518167\n",
        "518169\n",
        "518171\n",
        "518173\n",
        "518175\n",
        "518177\n",
        "518179\n",
        "518181\n",
        "518183\n",
        "518185\n",
        "518187\n",
        "518189\n",
        "518191\n",
        "518193\n",
        "518195\n",
        "518197\n",
        "518199\n",
        "518201\n",
        "518203\n",
        "518205\n",
        "518207\n",
        "518209\n",
        "518211\n",
        "518213\n",
        "518215\n",
        "518217\n",
        "518219\n",
        "518221\n",
        "518223\n",
        "518225\n",
        "518227\n",
        "518229"
       ]
      },
      {
       "output_type": "stream",
       "stream": "stdout",
       "text": [
        "\n",
        "518231\n",
        "518233\n",
        "518235\n",
        "518237\n",
        "518239\n",
        "518241\n",
        "518243\n",
        "518245\n",
        "518247\n",
        "518249\n",
        "518251\n",
        "518253\n",
        "518255\n",
        "518257\n",
        "518259\n",
        "518261\n",
        "518263\n",
        "518265\n",
        "518267\n",
        "518269\n",
        "518271\n",
        "518273\n",
        "518275\n",
        "518277\n",
        "518279\n",
        "518281\n",
        "518283\n",
        "518285\n",
        "518287\n",
        "518289\n",
        "518291\n",
        "518293\n",
        "518295\n",
        "518297\n",
        "518299\n",
        "518301\n",
        "518303\n",
        "518305\n",
        "518307\n",
        "518309\n",
        "518311\n",
        "518313\n",
        "518315\n",
        "518317\n",
        "518319\n",
        "518321\n",
        "518323\n",
        "518325\n",
        "518327\n",
        "518329\n",
        "518331\n",
        "518333\n",
        "518335\n",
        "518337\n",
        "518339\n",
        "518341\n",
        "518343\n",
        "518345\n",
        "518347\n",
        "518349\n",
        "518351\n",
        "518353\n",
        "518355\n",
        "518357\n",
        "518359\n",
        "518361\n",
        "518363\n",
        "518365\n",
        "518367\n",
        "518369\n",
        "518371"
       ]
      },
      {
       "output_type": "stream",
       "stream": "stdout",
       "text": [
        "\n",
        "518373\n",
        "518375\n",
        "518377\n",
        "518379\n",
        "518381\n",
        "518383\n",
        "518385\n",
        "518387\n",
        "518389\n",
        "518391\n",
        "518393\n",
        "518395\n",
        "518397\n",
        "518399\n",
        "518401\n",
        "518403\n",
        "518405\n",
        "518407\n",
        "518409\n",
        "518411\n",
        "518413\n",
        "518415\n",
        "518417\n",
        "518419\n",
        "518421\n",
        "518423\n",
        "518425\n",
        "518427\n",
        "518429\n",
        "518431\n",
        "518433\n",
        "518435\n",
        "518437\n",
        "518439\n",
        "518441\n",
        "518443\n",
        "518445\n",
        "518447\n",
        "518449\n",
        "518451\n",
        "518453\n",
        "518455\n",
        "518457\n",
        "518459\n",
        "518461\n",
        "518463\n",
        "518465\n",
        "518467\n",
        "518469\n",
        "518471\n",
        "518473\n",
        "518475\n",
        "518477\n",
        "518479\n",
        "518481\n",
        "518483\n",
        "518485\n",
        "518487\n",
        "518489\n",
        "518491\n",
        "518493\n",
        "518495\n",
        "518497\n",
        "518499\n",
        "518501\n",
        "518503\n",
        "518505\n",
        "518507\n",
        "518509\n",
        "518511\n",
        "518513\n",
        "518515\n",
        "518517\n",
        "518519\n",
        "518521\n",
        "518523\n",
        "518525\n",
        "518527\n",
        "518529\n",
        "518531\n",
        "518533\n",
        "518535\n",
        "518537\n",
        "518539\n",
        "518541"
       ]
      },
      {
       "output_type": "stream",
       "stream": "stdout",
       "text": [
        "\n",
        "518543\n",
        "518545\n",
        "518547\n",
        "518549\n",
        "518551\n",
        "518553\n",
        "518555\n",
        "518557\n",
        "518559\n",
        "518561\n",
        "518563\n",
        "518565\n",
        "518567\n",
        "518569\n",
        "518571\n",
        "518573\n",
        "518575\n",
        "518577\n",
        "518579\n",
        "518581\n",
        "518583\n",
        "518585\n",
        "518587\n",
        "518589\n",
        "518591\n",
        "518593\n",
        "518595\n",
        "518597\n",
        "518599\n",
        "518601\n",
        "518603\n",
        "518605\n",
        "518607\n",
        "518609\n",
        "518611\n",
        "518613\n",
        "518615\n",
        "518617\n",
        "518619\n",
        "518621\n",
        "518623\n",
        "518625\n",
        "518627\n",
        "518629\n",
        "518631\n",
        "518633\n",
        "518635\n",
        "518637\n",
        "518639\n",
        "518641\n",
        "518643\n",
        "518645\n",
        "518647\n",
        "518649\n",
        "518651\n",
        "518653\n",
        "518655\n",
        "518657\n",
        "518659\n",
        "518661\n",
        "518663\n",
        "518665\n",
        "518667\n",
        "518669\n",
        "518671\n",
        "518673\n",
        "518675\n",
        "518677\n",
        "518679\n",
        "518681\n",
        "518683\n",
        "518685\n",
        "518687\n",
        "518689\n",
        "518691\n",
        "518693\n",
        "518695\n",
        "518697\n",
        "518699"
       ]
      },
      {
       "output_type": "stream",
       "stream": "stdout",
       "text": [
        "\n",
        "518701\n",
        "518703\n",
        "518705\n",
        "518707\n",
        "518709\n",
        "518711\n",
        "518713\n",
        "518715\n",
        "518717\n",
        "518719\n",
        "518721\n",
        "518723\n",
        "518725\n",
        "518727\n",
        "518729\n",
        "518731\n",
        "518733\n",
        "518735\n",
        "518737\n",
        "518739\n",
        "518741\n",
        "518743\n",
        "518745\n",
        "518747\n",
        "518749\n",
        "518751\n",
        "518753\n",
        "518755\n",
        "518757\n",
        "losses.FullScan._visual_control_update_cavity_length\n"
       ]
      }
     ],
     "prompt_number": 2
    },
    {
     "cell_type": "code",
     "collapsed": false,
     "input": [
      "for fsr in scan.fsrs:\n",
      "    if \"pzt_offset\" in fsr.curve.params:\n",
      "        fsr.curve.params.pop('pzt_offset')\n",
      "        fsr.curve.save()\n",
      "    for peak in fsr.peaks:\n",
      "        if \"length\" in peak.curve.params:\n",
      "            peak.curve.params.pop(\"length\")\n",
      "            peak.curve.save()"
     ],
     "language": "python",
     "metadata": {},
     "outputs": [],
     "prompt_number": 4
    },
    {
     "cell_type": "code",
     "collapsed": false,
     "input": [
      "for fsr in scan.fsrs:\n",
      "    for peak in fsr.peaks:\n",
      "        if peak.losses < 20e-6:\n",
      "            print fsr.pk"
     ],
     "language": "python",
     "metadata": {},
     "outputs": []
    },
    {
     "cell_type": "code",
     "collapsed": false,
     "input": [
      "scan.losses_vs_step()"
     ],
     "language": "python",
     "metadata": {},
     "outputs": [],
     "prompt_number": 4
    },
    {
     "cell_type": "code",
     "collapsed": false,
     "input": [
      "scan.losses_vs_length_tot()"
     ],
     "language": "python",
     "metadata": {},
     "outputs": [
      {
       "output_type": "stream",
       "stream": "stderr",
       "text": [
        "C:\\Python27\\lib\\site-packages\\numpy\\core\\_methods.py:55: RuntimeWarning: Mean of empty slice.\n",
        "  warnings.warn(\"Mean of empty slice.\", RuntimeWarning)\n",
        "\n"
       ]
      },
      {
       "output_type": "stream",
       "stream": "stderr",
       "text": [
        "WARNING:py.warnings:C:\\Python27\\lib\\site-packages\\numpy\\core\\_methods.py:55: RuntimeWarning: Mean of empty slice.\n",
        "  warnings.warn(\"Mean of empty slice.\", RuntimeWarning)\n",
        "\n"
       ]
      }
     ],
     "prompt_number": 3
    },
    {
     "cell_type": "code",
     "collapsed": false,
     "input": [
      "scan.losses_vs_length(title=str(scan.curve.params[\"razorpos\"]), color2=\"black\")\n",
      "plt.show()"
     ],
     "language": "python",
     "metadata": {},
     "outputs": []
    },
    {
     "cell_type": "code",
     "collapsed": false,
     "input": [
      "scan._visual_control_update_cavity_length\n",
      "plt.show()"
     ],
     "language": "python",
     "metadata": {},
     "outputs": []
    },
    {
     "cell_type": "code",
     "collapsed": false,
     "input": [
      "cd Desktop/16-02-16_finesse_recovery/"
     ],
     "language": "python",
     "metadata": {},
     "outputs": []
    },
    {
     "cell_type": "code",
     "collapsed": false,
     "input": [
      "#Plot all scans\n",
      "for i, scan in enumerate(fitted_scans):\n",
      "    print scan\n",
      "    if scan.pk == 341813:\n",
      "        scan = losses.FullScan(scan.pk, stop_pk=342774)\n",
      "    else:\n",
      "        scan = losses.FullScan(scan.pk)\n",
      "    scan.losses_vs_length(n=0, title=scan.curve.params[\"razorpos\"], filename=str(i)+'.png')"
     ],
     "language": "python",
     "metadata": {},
     "outputs": []
    },
    {
     "cell_type": "code",
     "collapsed": false,
     "input": [
      "#Prepare data for map plot\n",
      "pertes = []\n",
      "lengths = []\n",
      "razors = []\n",
      "modes = []\n",
      "modeoffset = [0,1,0,1,1,0,0,1,0,0,0]\n",
      "for i, scan in enumerate(fitted_scans[0:]):\n",
      "    print scan\n",
      "    if scan.pk == 341813:\n",
      "        scan = losses.FullScan(scan.pk, stop_pk=342774)\n",
      "    else:\n",
      "        scan = losses.FullScan(scan.pk)\n",
      "    loss, length, mode = scan._average_losses_per_mode_number()\n",
      "    razor = scan.curve.params[\"razorpos\"] - razorpos_offset\n",
      "    pertes.append(loss)\n",
      "    lengths.append((np.array(length)+modeoffset[i]*1066e-9/2.)*1e6)\n",
      "    razors.append(np.array(razor)*1e6)\n",
      "    modes.append(np.array(mode)+modeoffset[i])\n",
      "\n",
      "Razors = []\n",
      "for i in range(len(razors)):\n",
      "    Razors.append([])\n",
      "    for j in range(len(lengths[i])):\n",
      "        Razors[-1].append(razors[i])"
     ],
     "language": "python",
     "metadata": {},
     "outputs": [
      {
       "output_type": "stream",
       "stream": "stdout",
       "text": [
        "razor blade in @ 7530.0\u00b5m\n",
        "razor blade in @ 7525.0\u00b5m"
       ]
      },
      {
       "output_type": "stream",
       "stream": "stdout",
       "text": [
        "\n",
        "razor blade in @ 7520.0\u00b5m"
       ]
      },
      {
       "output_type": "stream",
       "stream": "stdout",
       "text": [
        "\n",
        "razor blade in @ 7515.0\u00b5m"
       ]
      },
      {
       "output_type": "stream",
       "stream": "stdout",
       "text": [
        "\n",
        "razor blade in @ 7510.0\u00b5m"
       ]
      },
      {
       "output_type": "stream",
       "stream": "stdout",
       "text": [
        "\n",
        "razor blade in @ 7505.0\u00b5m"
       ]
      },
      {
       "output_type": "stream",
       "stream": "stdout",
       "text": [
        "\n",
        "razor blade in @ 7500.0\u00b5m"
       ]
      },
      {
       "output_type": "stream",
       "stream": "stdout",
       "text": [
        "\n",
        "razor blade in @ 7495.0\u00b5m"
       ]
      },
      {
       "output_type": "stream",
       "stream": "stdout",
       "text": [
        "\n",
        "razor blade in @ 7490.0\u00b5m"
       ]
      },
      {
       "output_type": "stream",
       "stream": "stdout",
       "text": [
        "\n",
        "razor blade in @ 7485.0\u00b5m"
       ]
      },
      {
       "output_type": "stream",
       "stream": "stdout",
       "text": [
        "\n",
        "razor blade in @ 7480.0\u00b5m"
       ]
      },
      {
       "output_type": "stream",
       "stream": "stdout",
       "text": [
        "\n"
       ]
      }
     ],
     "prompt_number": 67
    },
    {
     "cell_type": "code",
     "collapsed": false,
     "input": [
      "#Map plot\n",
      "level = 0.3e-4\n",
      "levels = [level]\n",
      "while level < 0.8e-2:\n",
      "    level = level*1.05\n",
      "    levels.append(level)\n",
      "\n",
      "maxsize = len(lengths[0])\n",
      "for length in lengths:\n",
      "    if len(length) > maxsize:\n",
      "        maxsize=len(length)\n",
      "\n",
      "for i in range(len(lengths)):\n",
      "    lengths[i] = list(np.array(lengths[i]))\n",
      "    Razors[i] = list(np.array(Razors[i]))\n",
      "    pertes[i] = list(pertes[i])\n",
      "    modes[i] = list(modes[i])\n",
      "    while len(lengths[i]) < maxsize:\n",
      "        lengths[i].append(lengths[i][-1])\n",
      "        Razors[i].append(Razors[i][-1])\n",
      "        pertes[i].append(pertes[i][-1])\n",
      "        modes[i].append(modes[i][-1])\n",
      "plt.figure(3, figsize=(8.,0.5*len(razors)))\n",
      "plt.clf()\n",
      "plt.contourf(lengths, Razors, pertes, levels=levels, cmap=plt.cm.jet, norm = LogNorm())\n",
      "plt.xlabel(r\"$\\mathrm{Length\\ (\\mu m)}$\")\n",
      "plt.ylabel(r\"$\\mathrm{Razor\\ position\\ (\\mu m)}$\")\n",
      "plt.show()"
     ],
     "language": "python",
     "metadata": {},
     "outputs": [],
     "prompt_number": 105
    },
    {
     "cell_type": "code",
     "collapsed": false,
     "input": [
      "def scalarprod(mode1, loss1, mode2, loss2):\n",
      "    shift = mode2[0]-mode1[0]\n",
      "    if shift > 0:\n",
      "        mode2 = list(np.zeros(shift)) + mode2\n",
      "        loss2 = list(np.zeros(shift)) + loss2\n",
      "        mode1 = mode1 + list(np.zeros(shift))\n",
      "        loss1 = loss1 + list(np.zeros(shift))\n",
      "    elif shift < 0:\n",
      "        mode2 = mode2 + list(np.zeros(-shift))\n",
      "        loss2 = loss2 + list(np.zeros(-shift))\n",
      "        mode1 = list(np.zeros(-shift)) + mode1\n",
      "        loss1 = list(np.zeros(-shift)) + loss1\n",
      "    tab = np.array(loss1) * np.array(loss2)\n",
      "    mode = np.array(mode2) - np.array(mode1)\n",
      "    for i in range(len(mode)):\n",
      "        if mode[i] == 0:\n",
      "            mode[i] = 1\n",
      "        else:\n",
      "            mode[i] = 0 \n",
      "    tab = np.array(tab) * np.array(mode)\n",
      "    tab = tab[~np.isnan(tab)]\n",
      "    return tab\n",
      "\n",
      "for i in range(1,8):\n",
      "    offsets = np.arange(11)-5\n",
      "    scalars = []\n",
      "    for offset in offsets:\n",
      "        scalars.append(sum(scalarprod(modes[0], pertes[0], list(np.array(modes[i])+offset), pertes[i])))\n",
      "    plt.plot(offsets, scalars, label=str(i))\n",
      "legend()"
     ],
     "language": "python",
     "metadata": {},
     "outputs": [
      {
       "metadata": {},
       "output_type": "pyout",
       "prompt_number": 103,
       "text": [
        "<matplotlib.legend.Legend at 0x3bc8a130>"
       ]
      }
     ],
     "prompt_number": 103
    },
    {
     "cell_type": "code",
     "collapsed": false,
     "input": [
      "degeneracies = [221,247,283,314,321,336.5,374,400,434.5,441,457,482,514,557.5]\n",
      "\n",
      "scale = 1.\n",
      "fig = plt.figure(1,figsize=(8.*1.,6.*2.))\n",
      "for i in range(n):\n",
      "    ax = plt.subplot2grid((n+1,1),(i,0))\n",
      "    #if i == 0:\n",
      "        #ax.annotate(r\"$\\mathrm{TEM_{1,5}}$\", (510, 5000), rotation=45)\n",
      "    plt.semilogy(np.array(lengths[i]), (np.array(pertes[i]))*1e6, color='blue')\n",
      "    pos = (202,1600)\n",
      "    if i == n-1:\n",
      "        pos = (202,80)\n",
      "    ax.annotate(r\"$\\mathrm{Blade\\ @\\ %g\\ \\mu m}}$\"%(int(round(razors[i]))), pos, color='black', alpha=0.5)  \n",
      "    for dege in degeneracies:\n",
      "        plt.semilogy([dege, dege], [10, 5000], \"-\", color='blue', alpha = 0.15, linewidth=5.)\n",
      "    plt.ylim(50, 5000)\n",
      "    plt.xlim(200,600)\n",
      "    if i == n/2:\n",
      "        plt.ylabel(r\"$\\mathrm{Losses\\ (ppm)}$\")\n",
      "    if i <> n-1:\n",
      "        ax.axes.xaxis.set_ticklabels([])\n",
      "    fig.subplots_adjust(hspace=0)\n",
      "plt.show()\n",
      "plt.xlabel(r\"$\\mathrm{Cavity\\ length\\ (\\mu m)}$\")\n",
      "plt.savefig('test.png', bbox_inches='tight')"
     ],
     "language": "python",
     "metadata": {},
     "outputs": [],
     "prompt_number": 162
    },
    {
     "cell_type": "code",
     "collapsed": false,
     "input": [
      "razors"
     ],
     "language": "python",
     "metadata": {},
     "outputs": [
      {
       "metadata": {},
       "output_type": "pyout",
       "prompt_number": 114,
       "text": [
        "[73.999999999999417,\n",
        " 68.999999999999616,\n",
        " 63.999999999999822,\n",
        " 58.999999999999154,\n",
        " 53.999999999999361,\n",
        " 48.999999999999567,\n",
        " 43.999999999999766,\n",
        " 38.999999999999972,\n",
        " 34.000000000000178,\n",
        " 29.00000000000038,\n",
        " 24.000000000000583]"
       ]
      }
     ],
     "prompt_number": 114
    },
    {
     "cell_type": "code",
     "collapsed": false,
     "input": [],
     "language": "python",
     "metadata": {},
     "outputs": []
    }
   ],
   "metadata": {}
  }
 ]
}