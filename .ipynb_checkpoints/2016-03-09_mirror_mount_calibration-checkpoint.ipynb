{
 "metadata": {
  "name": "",
  "signature": "sha256:fa0911d68c1ce05bc2fab4c7b634711188a9b8cf89d2f58f8754d46aa3e8dd9e"
 },
 "nbformat": 3,
 "nbformat_minor": 0,
 "worksheets": [
  {
   "cells": [
    {
     "cell_type": "code",
     "collapsed": false,
     "input": [
      "import numpy as np\n",
      "import matplotlib.pyplot as plt\n",
      "import scipy as sc\n",
      "\n",
      "def fitting(datax, datay, func, params0):\n",
      "    def diff(params, datax, datay, func):\n",
      "        return np.array(datay) - func(params, datax)\n",
      "    return sc.optimize.leastsq(diff, params0, args=(datax, datay, func))[0]\n",
      "    \n",
      "def model(params,turn):\n",
      "    alphaperturn, offset = params\n",
      "    alpha = 2.*alphaperturn*turn\n",
      "    return length * np.tan(alpha)+offset"
     ],
     "language": "python",
     "metadata": {},
     "outputs": [],
     "prompt_number": 25
    },
    {
     "cell_type": "code",
     "collapsed": false,
     "input": [
      "length = 10.49\n",
      "turn = np.array([0.,0.5,1.,1.5,2.,2.5,3.,3.5,4.]) #CCW\n",
      "deviation = np.array([8.7,12.7,16.6,20.4,24.3,28.1,31.8,35.7,39.6])*1e-2\n",
      "\n",
      "plt.plot(turn, deviation, '+')\n",
      "params0 = [.003, 0.1]\n",
      "plt.plot(turn,model(params0, turn), alpha=0.5)\n",
      "fit = fitting(turn, deviation, model,params0)\n",
      "plt.plot(turn, model(fit, turn))\n",
      "print 'alphaperturn', fit[0]*180/np.pi"
     ],
     "language": "python",
     "metadata": {},
     "outputs": [
      {
       "output_type": "stream",
       "stream": "stdout",
       "text": [
        "alphaperturn 0.209955226523\n"
       ]
      }
     ],
     "prompt_number": 45
    },
    {
     "cell_type": "code",
     "collapsed": false,
     "input": [
      "#incertitude\n",
      "D, dD = 10.49, 0.5e-2\n",
      "t, dt = 2., 1./50./np.sqrt(2)\n",
      "d, dd = 25.e-2, 0.1e-2/np.sqrt(2)\n",
      "incert = np.sqrt( (0.5/t**2 * np.arctan(d/D) * dt)**2 + (0.5/t * 1./D / (1+d**2/D**2) * dd)**2 + (0.5/t* d/D**2/(1+d**2/D**2) * dD)**2 )\n",
      "print incert*180/np.pi"
     ],
     "language": "python",
     "metadata": {},
     "outputs": [
      {
       "output_type": "stream",
       "stream": "stdout",
       "text": [
        "0.00260426187968\n"
       ]
      }
     ],
     "prompt_number": 47
    }
   ],
   "metadata": {}
  }
 ]
}