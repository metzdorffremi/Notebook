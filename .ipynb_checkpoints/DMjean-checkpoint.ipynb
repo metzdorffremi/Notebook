{
 "metadata": {
  "name": "",
  "signature": "sha256:3d60aec4a1e87d16938ddb36187ceed0546102ae919e3716f9061458f3a2d3f4"
 },
 "nbformat": 3,
 "nbformat_minor": 0,
 "worksheets": [
  {
   "cells": [
    {
     "cell_type": "code",
     "collapsed": false,
     "input": [
      "import numpy as np\n",
      "import matplotlib as pyplot"
     ],
     "language": "python",
     "metadata": {},
     "outputs": [],
     "prompt_number": 1
    },
    {
     "cell_type": "code",
     "collapsed": false,
     "input": [
      "def estPremier(n):\n",
      "    for i in range(2,n):\n",
      "        if n%i == 0:\n",
      "            return True\n",
      "    return False"
     ],
     "language": "python",
     "metadata": {},
     "outputs": []
    }
   ],
   "metadata": {}
  }
 ]
}