{
 "metadata": {
  "name": "",
  "signature": "sha256:3f76efefad648a13797ccddcf9f88627d15d612e0abe7a136dd834a324960c80"
 },
 "nbformat": 3,
 "nbformat_minor": 0,
 "worksheets": []
}