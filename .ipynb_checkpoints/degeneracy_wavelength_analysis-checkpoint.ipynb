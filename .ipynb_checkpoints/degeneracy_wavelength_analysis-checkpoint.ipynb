{
 "metadata": {
  "name": "",
  "signature": "sha256:d9e2efe2a5107195af01a1d40a548d25f6f90366d557fd235a5aa7e96aca4445"
 },
 "nbformat": 3,
 "nbformat_minor": 0,
 "worksheets": [
  {
   "cells": [
    {
     "cell_type": "code",
     "collapsed": false,
     "input": [
      "#degeneracy analysis\n",
      "from __future__ import division\n",
      "from pyinstruments import CurveDB\n",
      "from users.remi import finesse\n",
      "import time\n",
      "import gc\n",
      "import operator\n",
      "\n",
      "\n",
      "#parent_curve: the curve that gathers the entire run\n",
      "#sub_parent_curve: the curve that collect the acquisitions for one wavelength\n",
      "#acquisition: one acquisition for one step and one wavelength\n",
      "#peak: one of the resonance peak in an acqisition\n",
      "\n",
      "#parent curve pk\n",
      "parent_pk = 166120"
     ],
     "language": "python",
     "metadata": {},
     "outputs": [],
     "prompt_number": 1
    },
    {
     "cell_type": "code",
     "collapsed": false,
     "input": [
      "#save summary for all curves\n",
      "parent_curve = CurveDB.objects.get(pk = parent_pk)\n",
      "for sub_parent_curve in parent_curve.childs.all()[15:]:\n",
      "    for c in sub_parent_curve.childs.all():\n",
      "        finesse.analyze_save_summary(c.pk)\n",
      "        gc.collect()\n",
      "        print \"curve % fitted\"%c.pk"
     ],
     "language": "python",
     "metadata": {},
     "outputs": [],
     "prompt_number": 5
    },
    {
     "cell_type": "code",
     "collapsed": false,
     "input": [
      "#add the correct mode number as a parameter for each peak (running time: 4 minutes)\n",
      "t0 = time.clock()\n",
      "parent_curve = CurveDB.objects.get(pk = parent_pk)\n",
      "for sub_parent_curve in parent_curve.childs.all():\n",
      "    print \"treatment of curve\", sub_parent_curve.pk\n",
      "    for c in sub_parent_curve.childs.all():\n",
      "        acquisition = finesse.FSRScan(c.pk)\n",
      "        peaks = finesse.DataPeaks(acquisition)\n",
      "        #print \"\\ttreatment of acquisition\", c.pk\n",
      "        for i, peak in enumerate(c.childs.all()[1:]):\n",
      "            peak.params[\"mode_number\"] = peaks.mode_number[i]\n",
      "            peak.save()\n",
      "print time.clock()-t0"
     ],
     "language": "python",
     "metadata": {},
     "outputs": [
      {
       "output_type": "stream",
       "stream": "stdout",
       "text": [
        "treatment of curve 166125\n",
        "treatment of curve"
       ]
      },
      {
       "output_type": "stream",
       "stream": "stdout",
       "text": [
        " 166148\n",
        "treatment of curve"
       ]
      },
      {
       "output_type": "stream",
       "stream": "stdout",
       "text": [
        " 166696\n",
        "treatment of curve"
       ]
      },
      {
       "output_type": "stream",
       "stream": "stdout",
       "text": [
        " 167075\n",
        "treatment of curve"
       ]
      },
      {
       "output_type": "stream",
       "stream": "stdout",
       "text": [
        " 167374\n",
        "treatment of curve"
       ]
      },
      {
       "output_type": "stream",
       "stream": "stdout",
       "text": [
        " 167820\n",
        "treatment of curve"
       ]
      },
      {
       "output_type": "stream",
       "stream": "stdout",
       "text": [
        " 167843\n",
        "treatment of curve"
       ]
      },
      {
       "output_type": "stream",
       "stream": "stdout",
       "text": [
        " 167866\n",
        "treatment of curve"
       ]
      },
      {
       "output_type": "stream",
       "stream": "stdout",
       "text": [
        " 167889\n",
        "treatment of curve"
       ]
      },
      {
       "output_type": "stream",
       "stream": "stdout",
       "text": [
        " 167912\n",
        "treatment of curve"
       ]
      },
      {
       "output_type": "stream",
       "stream": "stdout",
       "text": [
        " 169061\n",
        "treatment of curve"
       ]
      },
      {
       "output_type": "stream",
       "stream": "stdout",
       "text": [
        " 169338\n",
        "treatment of curve"
       ]
      },
      {
       "output_type": "stream",
       "stream": "stdout",
       "text": [
        " 169694\n",
        "treatment of curve"
       ]
      },
      {
       "output_type": "stream",
       "stream": "stdout",
       "text": [
        " 170086\n",
        "treatment of curve"
       ]
      },
      {
       "output_type": "stream",
       "stream": "stdout",
       "text": [
        " 170476\n",
        "treatment of curve"
       ]
      },
      {
       "output_type": "stream",
       "stream": "stdout",
       "text": [
        " 170978\n",
        "treatment of curve"
       ]
      },
      {
       "output_type": "stream",
       "stream": "stdout",
       "text": [
        " 171260\n",
        "treatment of curve"
       ]
      },
      {
       "output_type": "stream",
       "stream": "stdout",
       "text": [
        " 171613\n",
        "treatment of curve"
       ]
      },
      {
       "output_type": "stream",
       "stream": "stdout",
       "text": [
        " 172248\n",
        "treatment of curve"
       ]
      },
      {
       "output_type": "stream",
       "stream": "stdout",
       "text": [
        " 172724\n",
        "treatment of curve"
       ]
      },
      {
       "output_type": "stream",
       "stream": "stdout",
       "text": [
        " 172747\n",
        "245.208580988"
       ]
      },
      {
       "output_type": "stream",
       "stream": "stdout",
       "text": [
        "\n"
       ]
      }
     ],
     "prompt_number": 61
    },
    {
     "cell_type": "code",
     "collapsed": false,
     "input": [
      "#collect results (running time: <1s)\n",
      "parent_curve = CurveDB.objects.get(pk = parent_pk)\n",
      "\n",
      "wavelengths = []\n",
      "steps, lengths, finesses = [], [], []\n",
      "\n",
      "for i, sub_parent_curve in enumerate(parent_curve.childs.all()):\n",
      "    wavelengths.append(sub_parent_curve.childs.first().params[\"wavelength\"])\n",
      "    sub_parent_curve.params[\"wavelength\"] = sub_parent_curve.childs.first().params[\"wavelength\"]\n",
      "    steps.append([])\n",
      "    lengths.append([])\n",
      "    finesses.append([])\n",
      "    for c in sub_parent_curve.childs.all():\n",
      "        steps[i].append(c.params[\"stepper_pos\"])\n",
      "        lengths[i].append(c.params[\"length\"])\n",
      "        finesses[i].append(c.params[\"finesse\"])\n",
      "        del c\n",
      "\n",
      "#determine the length of degeneracy\n",
      "mean_length = []\n",
      "for length in lengths:\n",
      "    mean_length.append(mean(length))\n",
      "l_deg = mean(mean_length)\n",
      "print \"central length for degeneracy:\", l_deg*1e6, \"microns\"\n",
      "\n",
      "#results_curve = CurveDB()\n",
      "#results_curve.name = parent_curve.name + '_analysis'\n",
      "#results_curve.save()\n",
      "#for i, sub_parent_curve in enumerate(parent_curve.childs.all()):\n",
      "#    c = CurveDB.create(steps[i], lengths[i])\n",
      "#    c.name = \"length_vs_step_for_wavelength\"+str(sub_parent_curve.params[\"wavelength\"])\n",
      "#    c.params[\"wavelength\"] = sub_parent_curve.params[\"wavelength\"]\n",
      "#    results_curve.add_child(c)\n",
      "#    fitcurve = c.fit(\"linear\", autosave=True)\n",
      "#    del sub_parent_curve, c, fitcurve"
     ],
     "language": "python",
     "metadata": {},
     "outputs": [
      {
       "output_type": "stream",
       "stream": "stdout",
       "text": [
        "central length for degeneracy: 549.114774319 microns\n"
       ]
      }
     ],
     "prompt_number": 2
    },
    {
     "cell_type": "code",
     "collapsed": false,
     "input": [
      "#plot a first version of the ultimate curve\n",
      "\n",
      "step_length = 622e-9\n",
      "sb_freq = parent_curve.childs.first().childs.first().params[\"sb_freq\"]\n",
      "lengths = []\n",
      "bandwidths = []\n",
      "parent_curve = CurveDB.objects.get(pk = parent_pk)\n",
      "for i, sub_parent_curve in enumerate(parent_curve.childs.all()):\n",
      "    lengths.append([])\n",
      "    bandwidths.append([])\n",
      "    for acquisition in sub_parent_curve.childs.all():\n",
      "        central_stepper_pos = sub_parent_curve.childs.all()[int(len(sub_parent_curve.childs.all())/2)].params['stepper_pos']\n",
      "        for peak in acquisition.childs.all()[1:]:\n",
      "            stepper_length = (acquisition.params[\"stepper_pos\"] - central_stepper_pos)*step_length + l_deg\n",
      "            length = stepper_length + peak.params[\"pzt_pos\"]\n",
      "            lengths[i].append(length)\n",
      "            bandwidths[i].append(peak.childs.first().params[\"relative_bandwidth\"]*sb_freq*2)\n",
      "#for i in range(len(lengths)):\n",
      "#    plot(lengths[i], bandwidths[i], '.')\n",
      "#    plot(lengths[i], 3e8/(2*array(lengths[i]))/array(bandwidths[i]), '.')"
     ],
     "language": "python",
     "metadata": {},
     "outputs": [],
     "prompt_number": 152
    },
    {
     "cell_type": "code",
     "collapsed": false,
     "input": [
      "#plot the ultimate curve\n",
      "parent_curve = CurveDB.objects.get(pk = parent_pk)\n",
      "\n",
      "step_length = 622e-9 #cf workbook\n",
      "sb_freq = parent_curve.childs.first().childs.first().params[\"sb_freq\"]\n",
      "lengths , bandwidths, mode_numbers, wavelengths = [], [], [], []\n",
      "for i, sub_parent_curve in enumerate(parent_curve.childs.all()):\n",
      "    lengths.append([])\n",
      "    bandwidths.append([])\n",
      "    mode_numbers.append([])\n",
      "    wavelengths.append(sub_parent_curve.childs.first().params[\"wavelength\"])\n",
      "    for j, acquisition in enumerate(sub_parent_curve.childs.all()):\n",
      "        central_stepper_pos = sub_parent_curve.childs.all()[int(len(sub_parent_curve.childs.all())/2)].params['stepper_pos']\n",
      "        FSRScan_parent = finesse.FSRScan(acquisition.pk)\n",
      "        acquisition_mode_numbers = finesse.DataPeaks(FSRScan_parent).mode_number\n",
      "        represented_mode_numbers = sorted(set(acquisition_mode_numbers))\n",
      "        for mode_number in represented_mode_numbers:\n",
      "            mean_length, mean_bandwidth = [], []\n",
      "            for peak in acquisition.childs.all()[1:]:\n",
      "                if peak.params[\"mode_number\"] == mode_number:\n",
      "                    stepper_length = (acquisition.params[\"stepper_pos\"] - central_stepper_pos)*step_length + l_deg\n",
      "                    #length = stepper_length + peak.params[\"pzt_pos\"]\n",
      "                    length = stepper_length + peak.params[\"pzt_pos2\"]\n",
      "                    bandwidth = peak.childs.first().params[\"relative_bandwidth\"]*sb_freq*2\n",
      "                    mean_length.append(length)\n",
      "                    mean_bandwidth.append(bandwidth)\n",
      "            mode_numbers[i].append(mode_number+j)\n",
      "            lengths[i].append(mean(mean_length))\n",
      "            bandwidths[i].append(mean(mean_bandwidth))\n",
      "\n",
      "results_curve = CurveDB()\n",
      "#results_curve.name = \"analysis_degeneracy_curve_\"+str(parent_curve.pk)\n",
      "results_curve.name = \"analysis_degeneracy_with_new_pzt_pos_curve_\"+str(parent_curve.pk)\n",
      "results_curve.save()\n",
      "\n",
      "primary_results_curve = CurveDB()\n",
      "primary_results_curve.name = \"primary_results\"\n",
      "primary_results_curve.save()\n",
      "results_curve.add_child(primary_results_curve)\n",
      "\n",
      "corrected_results_curve = CurveDB()\n",
      "corrected_results_curve.name = \"corrected_results\"\n",
      "corrected_results_curve.save()\n",
      "results_curve.add_child(corrected_results_curve)\n",
      "\n",
      "raw_lengths, raw_bandwiths, raw_mode_numbers = lengths, bandwidths, mode_numbers\n",
      "clear_lengths, clear_bandwidths, clear_mode_numbers = [], [], []\n",
      "\n",
      "for j in range(len(raw_lengths)):\n",
      "    clear_mode_numbers.append(set(mode_numbers[j]))\n",
      "    clear_lengths.append([])\n",
      "    clear_bandwidths.append([])\n",
      "    for clear_mode_number in clear_mode_numbers[j]:\n",
      "        clear_lengths[j].append([])\n",
      "        clear_bandwidths[j].append([])\n",
      "        for i, raw_mode_number in enumerate(raw_mode_numbers[j]):\n",
      "            if raw_mode_number == clear_mode_number:\n",
      "                clear_lengths[j][-1].append(raw_lengths[j][i])\n",
      "                clear_bandwidths[j][-1].append(raw_bandwiths[j][i])\n",
      "        clear_lengths[j][-1] = mean(clear_lengths[j][-1])\n",
      "        clear_bandwidths[j][-1] = mean(clear_bandwidths[j][-1])\n",
      "    sorted_list = []\n",
      "    for l, b in zip(clear_lengths[j], clear_bandwidths[j]):\n",
      "        sorted_list.append([l, b])\n",
      "    sorted_list = sorted(sorted_list, key=operator.itemgetter(0), reverse = True)\n",
      "    for i, lb in enumerate(sorted_list):\n",
      "        clear_lengths[j][i] = lb[0]\n",
      "        clear_bandwidths[j][i] = lb[1]\n",
      "    c = CurveDB.create(clear_lengths[j], clear_bandwidths[j])\n",
      "    c.name = \"degeneracy_for_wavelength_\"+str(wavelengths[j])\n",
      "    c.params[\"wavelength\"] = wavelengths[j]\n",
      "    c.save()\n",
      "    primary_results_curve.add_child(c)\n",
      "    fitcurve = c.fit(\"lorentz\", autosave=True)\n",
      "#After fitting the results by lorentz\n",
      "corrected_central_lengths = []\n",
      "for c in primary_results_curve.childs.all():\n",
      "    corrected_central_lengths.append(c.childs.first().params[\"x0\"])\n",
      "    del c\n",
      "\n",
      "corrected_lengths = []\n",
      "for i, lengths in enumerate(clear_lengths):\n",
      "    offset = corrected_central_lengths[i]-mean(lengths)\n",
      "    corrected_lengths.append(list(array(lengths)-offset))\n",
      "total_lengths, total_bandwidths = [], []\n",
      "for i in range(len(corrected_lengths)):\n",
      "    c = CurveDB.create(corrected_lengths[i], clear_bandwidths[i])\n",
      "    c.name = \"bandwidth_vs_corrected_length_at_\"+str(wavelengths[i])\n",
      "    c.save()\n",
      "    corrected_results_curve.add_child(c)\n",
      "    total_lengths += corrected_lengths[i]\n",
      "    total_bandwidths += clear_bandwidths[i]\n",
      "sorted_list = []\n",
      "for l, b in zip(total_lengths, total_bandwidths):\n",
      "    sorted_list.append([l, b])\n",
      "sorted_list = sorted(sorted_list, key=operator.itemgetter(0), reverse = True)\n",
      "for i, lb in enumerate(sorted_list):\n",
      "    total_lengths[i] = lb[0]\n",
      "    total_bandwidths[i] = lb[1]\n",
      "c = CurveDB.create(total_lengths, total_bandwidths)\n",
      "c.name = \"bandwidth_vs_length\"\n",
      "c.save()\n",
      "results_curve.add_child(c)\n",
      "c = CurveDB.create(total_lengths, 3e8/(2*array(total_lengths))/array(total_bandwidths))\n",
      "c.name = \"finesse_vs_length\"\n",
      "c.save()\n",
      "results_curve.add_child(c)\n",
      "c = CurveDB.create(total_lengths, 2*np.pi/(3e8/(2*array(total_lengths))/array(total_bandwidths)))\n",
      "c.name = \"T+P_vs_length\"\n",
      "c.save()\n",
      "results_curve.add_child(c)\n",
      "\n",
      "#for i in range(len(corrected_lengths)):\n",
      "#    plot(corrected_lengths[i], clear_bandwidths[i], '.')\n"
     ],
     "language": "python",
     "metadata": {},
     "outputs": [],
     "prompt_number": 5
    },
    {
     "cell_type": "code",
     "collapsed": false,
     "input": [
      "#Refining the pzt_pos parameter (running time: 7min)\n",
      "    #Add the parameter pzt_volt for each peak\n",
      "t0 = time.clock()\n",
      "\n",
      "delta_pzt_volt = []\n",
      "for sub_parent_curve in parent_curve.childs.all():\n",
      "    print sub_parent_curve.pk\n",
      "    for acquisition in sub_parent_curve.childs.all():\n",
      "        FSRS_acquisition = finesse.FSRScan(acquisition.pk)\n",
      "        peaks = FSRS_acquisition.curve.childs.filter(_name__contains='peak@')\n",
      "        old_pzt_volt = 0\n",
      "        slope = 0\n",
      "        for peak in peaks:\n",
      "            DP_peak = finesse.DataPeaks(FSRS_acquisition)\n",
      "            pzt_volt = DP_peak.pzt_volt(peak.childs.first().params[\"x0\"])\n",
      "            peak.params[\"pzt_volt\"] = pzt_volt\n",
      "            peak.save()\n",
      "            if (peak.params[\"slope\"]-slope) <> 0:\n",
      "                delta_pzt_volt.append([])\n",
      "                old_pzt_volt = pzt_volt\n",
      "                slope = peak.params[\"slope\"]\n",
      "            else:\n",
      "                delta_pzt_volt[-1].append(abs(pzt_volt-old_pzt_volt))\n",
      "                old_pzt_volt = pzt_volt\n",
      "\n",
      "#new estimation for piezo_meterspervolt parameter\n",
      "delta_pzt = []\n",
      "for deltas in delta_pzt_volt:\n",
      "    if len(deltas) <> 0:\n",
      "        delta_pzt.append(mean(deltas))\n",
      "meters_per_volt = 1066e-9/2 / mean(delta_pzt)\n",
      "print \"Meters per (100)Volt coefficient:\", meters_per_volt\n",
      "\n",
      "print time.clock()-t0"
     ],
     "language": "python",
     "metadata": {},
     "outputs": [
      {
       "output_type": "stream",
       "stream": "stdout",
       "text": [
        "166125\n",
        "166148"
       ]
      },
      {
       "output_type": "stream",
       "stream": "stdout",
       "text": [
        "\n",
        "166696"
       ]
      },
      {
       "output_type": "stream",
       "stream": "stdout",
       "text": [
        "\n",
        "167075"
       ]
      },
      {
       "output_type": "stream",
       "stream": "stdout",
       "text": [
        "\n",
        "167374"
       ]
      },
      {
       "output_type": "stream",
       "stream": "stdout",
       "text": [
        "\n",
        "167820"
       ]
      },
      {
       "output_type": "stream",
       "stream": "stdout",
       "text": [
        "\n",
        "167843"
       ]
      },
      {
       "output_type": "stream",
       "stream": "stdout",
       "text": [
        "\n",
        "167866"
       ]
      },
      {
       "output_type": "stream",
       "stream": "stdout",
       "text": [
        "\n",
        "167889"
       ]
      },
      {
       "output_type": "stream",
       "stream": "stdout",
       "text": [
        "\n",
        "167912"
       ]
      },
      {
       "output_type": "stream",
       "stream": "stdout",
       "text": [
        "\n",
        "169061"
       ]
      },
      {
       "output_type": "stream",
       "stream": "stdout",
       "text": [
        "\n",
        "169338"
       ]
      },
      {
       "output_type": "stream",
       "stream": "stdout",
       "text": [
        "\n",
        "169694"
       ]
      },
      {
       "output_type": "stream",
       "stream": "stdout",
       "text": [
        "\n",
        "170086"
       ]
      },
      {
       "output_type": "stream",
       "stream": "stdout",
       "text": [
        "\n",
        "170476"
       ]
      },
      {
       "output_type": "stream",
       "stream": "stdout",
       "text": [
        "\n",
        "170978"
       ]
      },
      {
       "output_type": "stream",
       "stream": "stdout",
       "text": [
        "\n",
        "171260"
       ]
      },
      {
       "output_type": "stream",
       "stream": "stdout",
       "text": [
        "\n",
        "171613"
       ]
      },
      {
       "output_type": "stream",
       "stream": "stdout",
       "text": [
        "\n",
        "172248"
       ]
      },
      {
       "output_type": "stream",
       "stream": "stdout",
       "text": [
        "\n",
        "172724"
       ]
      },
      {
       "output_type": "stream",
       "stream": "stdout",
       "text": [
        "\n",
        "172747"
       ]
      },
      {
       "output_type": "stream",
       "stream": "stdout",
       "text": [
        "\n",
        "Meters per (100)Volt coefficient:"
       ]
      },
      {
       "output_type": "stream",
       "stream": "stdout",
       "text": [
        " 3.06417926596e-07\n",
        "419.686930089\n"
       ]
      }
     ],
     "prompt_number": 67
    },
    {
     "cell_type": "code",
     "collapsed": false,
     "input": [
      "#Refining the pzt_pos parameter (running time: 80s)\n",
      "    #Add the parameter pzt_pos2 for each peak\n",
      "t0 = time.clock()\n",
      "\n",
      "for sub_parent_curve in parent_curve.childs.all():\n",
      "    print sub_parent_curve.pk\n",
      "    for acquisition in sub_parent_curve.childs.all():\n",
      "        for peak in acquisition.childs.filter(_name__contains='peak@'):\n",
      "            pzt_pos2 = peak.params[\"pzt_volt\"]*meters_per_volt\n",
      "            peak.params[\"pzt_pos2\"] = peak.params[\"pzt_volt\"]*meters_per_volt\n",
      "            peak.save()\n",
      "\n",
      "print time.clock()-t0"
     ],
     "language": "python",
     "metadata": {},
     "outputs": [
      {
       "output_type": "stream",
       "stream": "stdout",
       "text": [
        "166125\n",
        "166148"
       ]
      },
      {
       "output_type": "stream",
       "stream": "stdout",
       "text": [
        "\n",
        "166696"
       ]
      },
      {
       "output_type": "stream",
       "stream": "stdout",
       "text": [
        "\n",
        "167075"
       ]
      },
      {
       "output_type": "stream",
       "stream": "stdout",
       "text": [
        "\n",
        "167374"
       ]
      },
      {
       "output_type": "stream",
       "stream": "stdout",
       "text": [
        "\n",
        "167820"
       ]
      },
      {
       "output_type": "stream",
       "stream": "stdout",
       "text": [
        "\n",
        "167843"
       ]
      },
      {
       "output_type": "stream",
       "stream": "stdout",
       "text": [
        "\n",
        "167866"
       ]
      },
      {
       "output_type": "stream",
       "stream": "stdout",
       "text": [
        "\n",
        "167889"
       ]
      },
      {
       "output_type": "stream",
       "stream": "stdout",
       "text": [
        "\n",
        "167912"
       ]
      },
      {
       "output_type": "stream",
       "stream": "stdout",
       "text": [
        "\n",
        "169061"
       ]
      },
      {
       "output_type": "stream",
       "stream": "stdout",
       "text": [
        "\n",
        "169338"
       ]
      },
      {
       "output_type": "stream",
       "stream": "stdout",
       "text": [
        "\n",
        "169694"
       ]
      },
      {
       "output_type": "stream",
       "stream": "stdout",
       "text": [
        "\n",
        "170086"
       ]
      },
      {
       "output_type": "stream",
       "stream": "stdout",
       "text": [
        "\n",
        "170476"
       ]
      },
      {
       "output_type": "stream",
       "stream": "stdout",
       "text": [
        "\n",
        "170978"
       ]
      },
      {
       "output_type": "stream",
       "stream": "stdout",
       "text": [
        "\n",
        "171260"
       ]
      },
      {
       "output_type": "stream",
       "stream": "stdout",
       "text": [
        "\n",
        "171613"
       ]
      },
      {
       "output_type": "stream",
       "stream": "stdout",
       "text": [
        "\n",
        "172248"
       ]
      },
      {
       "output_type": "stream",
       "stream": "stdout",
       "text": [
        "\n",
        "172724"
       ]
      },
      {
       "output_type": "stream",
       "stream": "stdout",
       "text": [
        "\n",
        "172747"
       ]
      },
      {
       "output_type": "stream",
       "stream": "stdout",
       "text": [
        "\n",
        "79.226486272"
       ]
      },
      {
       "output_type": "stream",
       "stream": "stdout",
       "text": [
        "\n"
       ]
      }
     ],
     "prompt_number": 78
    },
    {
     "cell_type": "code",
     "collapsed": false,
     "input": [
      "plot(lengths[1], 3e8/(2*array(lengths[1]))/array(bandwidths[1]), '.')\n",
      "plot(lengths[10], 3e8/(2*array(lengths[10]))/array(bandwidths[10]), '.')"
     ],
     "language": "python",
     "metadata": {},
     "outputs": [
      {
       "metadata": {},
       "output_type": "pyout",
       "prompt_number": 192,
       "text": [
        "[<matplotlib.lines.Line2D at 0x5e037a30>]"
       ]
      }
     ],
     "prompt_number": 192
    },
    {
     "cell_type": "code",
     "collapsed": false,
     "input": [
      "mean(delta_pzt)"
     ],
     "language": "python",
     "metadata": {},
     "outputs": [
      {
       "metadata": {},
       "output_type": "pyout",
       "prompt_number": 64,
       "text": [
        "1.7196185616118034"
       ]
      }
     ],
     "prompt_number": 64
    },
    {
     "cell_type": "code",
     "collapsed": false,
     "input": [
      "print len(clear_mode_numbers), len(clear_lengths), len(clear_bandwidths)"
     ],
     "language": "python",
     "metadata": {},
     "outputs": [
      {
       "output_type": "stream",
       "stream": "stdout",
       "text": [
        " 21 21 21\n"
       ]
      }
     ],
     "prompt_number": 221
    },
    {
     "cell_type": "code",
     "collapsed": false,
     "input": [
      "plot(total_lengths, total_bandwidths, '.')"
     ],
     "language": "python",
     "metadata": {},
     "outputs": [
      {
       "metadata": {},
       "output_type": "pyout",
       "prompt_number": 4,
       "text": [
        "[<matplotlib.lines.Line2D at 0x16474f70>]"
       ]
      }
     ],
     "prompt_number": 4
    },
    {
     "cell_type": "code",
     "collapsed": false,
     "input": [
      "c = CurveDB.objects.get(pk=173669)\n",
      "fit = CurveDB.objects.get(pk=173674)\n",
      "plot(c.data.index*1e6, c.data.values*1e6, label=\"$\\mathrm{data}$\")\n",
      "plot(fit.data.index*1e6, fit.data.values*1e6, label=\"$\\mathrm{lorentz\\ fit}$\")\n",
      "xlabel(\"$\\mathrm{Cavity\\ length\\ (\\mu m)}$\")\n",
      "ylabel(\"$\\mathrm{T+P\\ (ppm)}$\")\n",
      "legend(loc='best')\n",
      "grid('on')\n",
      "savefig('losses_vs_length_for TEM00-TEM04_degeneracy.pdf', bbox_inches='tight')"
     ],
     "language": "python",
     "metadata": {},
     "outputs": [],
     "prompt_number": 15
    },
    {
     "cell_type": "code",
     "collapsed": false,
     "input": [
      "cd Documents/"
     ],
     "language": "python",
     "metadata": {},
     "outputs": [
      {
       "output_type": "stream",
       "stream": "stdout",
       "text": [
        "C:\\Users\\Remi\\Documents\n"
       ]
      }
     ],
     "prompt_number": 13
    },
    {
     "cell_type": "code",
     "collapsed": false,
     "input": [],
     "language": "python",
     "metadata": {},
     "outputs": []
    }
   ],
   "metadata": {}
  }
 ]
}