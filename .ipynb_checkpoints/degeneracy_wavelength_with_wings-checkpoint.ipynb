{
 "metadata": {
  "name": "",
  "signature": "sha256:06810baae3947b52c509c0bb358f4e9876c0d0e84f2e3b5f861d4afc74d05aa6"
 },
 "nbformat": 3,
 "nbformat_minor": 0,
 "worksheets": [
  {
   "cells": [
    {
     "cell_type": "code",
     "collapsed": false,
     "input": [
      "#Improved version of degeneracy_wavelength with a few points far after \n",
      "#and far before the degeneracy to have a better idea of the length \n",
      "\n",
      "from __future__ import division\n",
      "from stepper import Stepper\n",
      "from time import sleep\n",
      "from pyinstruments import CurveDB\n",
      "import pandas\n",
      "from users.remi import finesse\n",
      "from pyinstruments.pyhardwaredb import instrument\n",
      "\n",
      "constants = finesse.CONSTANTS_REMI_PILLAR"
     ],
     "language": "python",
     "metadata": {},
     "outputs": [],
     "prompt_number": 1
    },
    {
     "cell_type": "code",
     "collapsed": false,
     "input": [
      "#Initialization of the stepper\n",
      "s = Stepper()\n",
      "w = finesse.FinesseMeasurementWidget(hidden=True)"
     ],
     "language": "python",
     "metadata": {},
     "outputs": [],
     "prompt_number": 2
    },
    {
     "cell_type": "code",
     "collapsed": false,
     "input": [
      "#Check the position to avoid crashes\n",
      "s.position()"
     ],
     "language": "python",
     "metadata": {},
     "outputs": [
      {
       "output_type": "stream",
       "stream": "stdout",
       "text": [
        "I'm at step: 23900\n",
        "Distance to reference point: 14937.5 um\n"
       ]
      },
      {
       "metadata": {},
       "output_type": "pyout",
       "prompt_number": 3,
       "text": [
        "23900"
       ]
      }
     ],
     "prompt_number": 3
    },
    {
     "cell_type": "code",
     "collapsed": false,
     "input": [
      "#More precise check\n",
      "s.goToStepN(0)"
     ],
     "language": "python",
     "metadata": {},
     "outputs": [
      {
       "metadata": {},
       "output_type": "pyout",
       "prompt_number": 5,
       "text": [
        "True"
       ]
      }
     ],
     "prompt_number": 5
    },
    {
     "cell_type": "code",
     "collapsed": false,
     "input": [
      "#Choose the step where the degeneacy occurs\n",
      "pos_deg = 23894\n",
      "s.goToStepN(pos_deg)"
     ],
     "language": "python",
     "metadata": {},
     "outputs": [
      {
       "metadata": {},
       "output_type": "pyout",
       "prompt_number": 12,
       "text": [
        "True"
       ]
      }
     ],
     "prompt_number": 12
    },
    {
     "cell_type": "code",
     "collapsed": false,
     "input": [
      "#Create the curve that collects the results\n",
      "parent_curve = CurveDB()\n",
      "parent_curve.name = \"degeneracy_at_step_\"+str(pos_deg)\n",
      "parent_curve.save()"
     ],
     "language": "python",
     "metadata": {},
     "outputs": [
      {
       "output_type": "stream",
       "stream": "stdout",
       "text": [
        "\n"
       ]
      }
     ],
     "prompt_number": 8
    },
    {
     "cell_type": "code",
     "collapsed": false,
     "input": [
      "#parent_curve.pk: 166120\n",
      "#parent_curve = CurveDB.objects.get(pk=166120)"
     ],
     "language": "python",
     "metadata": {},
     "outputs": [],
     "prompt_number": 5
    },
    {
     "cell_type": "code",
     "collapsed": false,
     "input": [
      "wavelength = 1066 #Laser wavelength\n",
      "\n",
      "N_steps = 11 #number of different positions around\n",
      "N_steps_wings = 5 #number of steps on each side far from the degeneracy\n",
      "short_wing_step = 24100 #step for a shorter cavity\n",
      "long_wing_step  = 23805 #step for a longer cavity\n",
      "\n",
      "sub_parent_curve = CurveDB()\n",
      "sub_parent_curve.name = \"wavelength_\"+str(wavelength)\n",
      "sub_parent_curve.save()\n",
      "parent_curve.add_child(sub_parent_curve)\n",
      "\n",
      "curve_acquired = 0\n",
      "\n",
      "#long wing\n",
      "print \"Long length wing acquisition\"\n",
      "s.goToStepN(long_wing_step)\n",
      "time.sleep(5)\n",
      "for step in range(long_wing_step, long_wing_step + N_steps_wings)\n",
      "    s.goToStepN(step)\n",
      "    sleep(15)\n",
      "    current_pos = s.quiet_position()\n",
      "    current_pk, current_length, current_F = w.acquire_params(\"long_length_wing_\" + str(current_pos),\n",
      "                                                             clever_downsample=True, fit_immediately=False)\n",
      "    print 'curve:', curve_acquired+1, '\\tstep:', current_pos\n",
      "    c = CurveDB.objects.get(pk=current_pk)\n",
      "    c.params[\"stepper_pos\"]=current_pos\n",
      "    c.params[\"wavelength\"]=wavelength\n",
      "    c.save()\n",
      "    sub_parent_curve.add_child(c)\n",
      "    del c\n",
      "    curve_acquired += 1\n",
      "\n",
      "#Degeneracy\n",
      "print \"Degeneracy acquisition\"\n",
      "for step in range(pos_deg - int(N_steps/2), pos_deg + int(N_steps/2+1)):\n",
      "    s.goToStepN(step)\n",
      "    sleep(15)\n",
      "    current_pos = s.quiet_position()\n",
      "    current_pk, current_length, current_F = w.acquire_params(\"degeneracy_\" + str(current_pos),\n",
      "                                                             clever_downsample=True, fit_immediately=False)\n",
      "    print 'curve:', curve_acquired+1, '\\tstep:', current_pos\n",
      "    c = CurveDB.objects.get(pk=current_pk)\n",
      "    c.params[\"stepper_pos\"]=current_pos\n",
      "    c.params[\"wavelength\"]=wavelength\n",
      "    c.save()\n",
      "    sub_parent_curve.add_child(c)\n",
      "    del c\n",
      "    curve_acquired += 1\n",
      "\n",
      "#short wing\n",
      "print \"Short length wing acquisition\"\n",
      "s.goToStepN(short_wing_step)\n",
      "time.sleep(5)\n",
      "for step in range(short_wing_step-N_steps_wings, short_wing_step)\n",
      "    s.goToStepN(step)\n",
      "    sleep(15)\n",
      "    current_pos = s.quiet_position()\n",
      "    current_pk, current_length, current_F = w.acquire_params(\"short_length_wing_\" + str(current_pos),\n",
      "                                                             clever_downsample=True, fit_immediately=False)\n",
      "    print 'curve:', curve_acquired+1, '\\tstep:', current_pos\n",
      "    c = CurveDB.objects.get(pk=current_pk)\n",
      "    c.params[\"stepper_pos\"]=current_pos\n",
      "    c.params[\"wavelength\"]=wavelength\n",
      "    c.save()\n",
      "    sub_parent_curve.add_child(c)\n",
      "    del c\n",
      "    curve_acquired += 1\n",
      "\n",
      "del sub_parent_curve"
     ],
     "language": "python",
     "metadata": {},
     "outputs": [
      {
       "output_type": "stream",
       "stream": "stdout",
       "text": [
        "curve: 1 \tstep: 23889\n",
        "curve:"
       ]
      },
      {
       "output_type": "stream",
       "stream": "stdout",
       "text": [
        " 2 \tstep: 23890\n",
        "curve:"
       ]
      },
      {
       "output_type": "stream",
       "stream": "stdout",
       "text": [
        " 3 \tstep: 23891\n",
        "curve:"
       ]
      },
      {
       "output_type": "stream",
       "stream": "stdout",
       "text": [
        " 4 \tstep: 23892\n",
        "curve:"
       ]
      },
      {
       "output_type": "stream",
       "stream": "stdout",
       "text": [
        " 5 \tstep: 23893\n",
        "curve:"
       ]
      },
      {
       "output_type": "stream",
       "stream": "stdout",
       "text": [
        " 6 \tstep: 23894\n",
        "curve:"
       ]
      },
      {
       "output_type": "stream",
       "stream": "stdout",
       "text": [
        " 7 \tstep: 23895\n",
        "curve:"
       ]
      },
      {
       "output_type": "stream",
       "stream": "stdout",
       "text": [
        " 8 \tstep: 23896\n",
        "curve:"
       ]
      },
      {
       "output_type": "stream",
       "stream": "stdout",
       "text": [
        " 9 \tstep: 23897\n",
        "curve:"
       ]
      },
      {
       "output_type": "stream",
       "stream": "stdout",
       "text": [
        " 10 \tstep: 23898\n",
        "curve:"
       ]
      },
      {
       "output_type": "stream",
       "stream": "stdout",
       "text": [
        " 11 \tstep: 23899\n"
       ]
      }
     ],
     "prompt_number": 13
    },
    {
     "cell_type": "code",
     "collapsed": false,
     "input": [
      "s.closeProperly()"
     ],
     "language": "python",
     "metadata": {},
     "outputs": [
      {
       "output_type": "stream",
       "stream": "stdout",
       "text": [
        "Saved position: 23899\n"
       ]
      }
     ],
     "prompt_number": 19
    },
    {
     "cell_type": "code",
     "collapsed": false,
     "input": [],
     "language": "python",
     "metadata": {},
     "outputs": []
    }
   ],
   "metadata": {}
  }
 ]
}