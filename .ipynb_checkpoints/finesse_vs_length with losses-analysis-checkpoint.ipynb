{
 "metadata": {
  "name": "",
  "signature": "sha256:a5abc0134f492d43ac1d4efe8a760e1a7e50e4158d8f8fb8cd534cb7c49e0084"
 },
 "nbformat": 3,
 "nbformat_minor": 0,
 "worksheets": [
  {
   "cells": [
    {
     "cell_type": "code",
     "collapsed": false,
     "input": [
      "from pyinstruments import CurveDB\n",
      "import pandas\n",
      "from users.remi import losses2 as losses\n",
      "from pyinstruments.pyhardwaredb import instrument\n",
      "import gc\n",
      "\n",
      "analyze_constants  = dict(pk=221738)\n",
      "scan = losses.FullScan(analyze_constants[\"pk\"])"
     ],
     "language": "python",
     "metadata": {},
     "outputs": [],
     "prompt_number": 1
    },
    {
     "cell_type": "code",
     "collapsed": false,
     "input": [
      "scan.find_pzt_params()"
     ],
     "language": "python",
     "metadata": {},
     "outputs": [
      {
       "output_type": "stream",
       "stream": "stdout",
       "text": [
        "losses.FullScan.find_pzt_params\n",
        "losses.FullScan._visual_control_find_pzt_params"
       ]
      },
      {
       "output_type": "stream",
       "stream": "stdout",
       "text": [
        "\n",
        "losses.FullSCAN._params_pzt\n"
       ]
      },
      {
       "metadata": {},
       "output_type": "pyout",
       "prompt_number": 5,
       "text": [
        "array([  2.00000000e+00,   5.77138040e-01,   3.08754479e-03,\n",
        "         3.35741130e-03,  -1.02844140e-04,  -3.46018682e-01,\n",
        "        -1.54285926e-01,   4.45359542e-01,   4.22714927e-01])"
       ]
      }
     ],
     "prompt_number": 5
    },
    {
     "cell_type": "code",
     "collapsed": false,
     "input": [
      "scan._update_cavity_length()"
     ],
     "language": "python",
     "metadata": {},
     "outputs": [
      {
       "output_type": "stream",
       "stream": "stdout",
       "text": [
        "losses.FullScan._update_cavity_length\n",
        "losses.FullSCAN._params_pzt\n",
        "losses.FullScan._visual_control_update_cavity_length"
       ]
      },
      {
       "output_type": "stream",
       "stream": "stdout",
       "text": [
        "\n"
       ]
      }
     ],
     "prompt_number": 2
    },
    {
     "cell_type": "code",
     "collapsed": false,
     "input": [
      "scan._visual_control_update_cavity_length"
     ],
     "language": "python",
     "metadata": {},
     "outputs": [
      {
       "output_type": "stream",
       "stream": "stdout",
       "text": [
        "losses.FullScan._visual_control_update_cavity_length\n"
       ]
      }
     ],
     "prompt_number": 6
    },
    {
     "cell_type": "code",
     "collapsed": false,
     "input": [
      "scan._update_bandwidth()"
     ],
     "language": "python",
     "metadata": {},
     "outputs": [
      {
       "output_type": "stream",
       "stream": "stderr",
       "text": [
        "C:\\Python27\\lib\\site-packages\\scipy\\optimize\\minpack.py:419: RuntimeWarning: Number of calls to function has reached maxfev = 100.\n",
        "  warnings.warn(errors[info][0], RuntimeWarning)\n",
        "\n"
       ]
      },
      {
       "output_type": "stream",
       "stream": "stderr",
       "text": [
        "WARNING:py.warnings:C:\\Python27\\lib\\site-packages\\scipy\\optimize\\minpack.py:419: RuntimeWarning: Number of calls to function has reached maxfev = 100.\n",
        "  warnings.warn(errors[info][0], RuntimeWarning)\n",
        "\n"
       ]
      }
     ],
     "prompt_number": 7
    },
    {
     "cell_type": "code",
     "collapsed": false,
     "input": [
      "relbandwidth = scan.collect_params_fitpeak(\"relative_bandwidth\")\n",
      "length = scan.collect_param_peak(\"length\")\n",
      "step = scan.collect_param_peak(\"stepper_pos\")\n",
      "#plot(np.array(length)*1e6, relbandwidth, '+')\n",
      "plot(step, relbandwidth, '+')"
     ],
     "language": "python",
     "metadata": {},
     "outputs": [
      {
       "metadata": {},
       "output_type": "pyout",
       "prompt_number": 3,
       "text": [
        "[<matplotlib.lines.Line2D at 0x16763bd0>]"
       ]
      }
     ],
     "prompt_number": 3
    },
    {
     "cell_type": "code",
     "collapsed": false,
     "input": [
      "finesse = []\n",
      "for fsr in scan.fsrs:\n",
      "    #fsr.clear_all()\n",
      "    #fsr.curve.params[\"fit_type\"] = \"lorentzSB_rebonds_asymm\" ; fsr.curve.save()\n",
      "    for peak in fsr.peaks:\n",
      "        finesse.append(peak.finesse)"
     ],
     "language": "python",
     "metadata": {},
     "outputs": [],
     "prompt_number": 4
    }
   ],
   "metadata": {}
  }
 ]
}