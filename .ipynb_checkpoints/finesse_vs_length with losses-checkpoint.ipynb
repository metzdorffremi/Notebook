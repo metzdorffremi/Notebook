{
 "metadata": {
  "name": "",
  "signature": "sha256:3bb80f0cf9b707e5715362935a4185602232ed6849dcafd217df149ee28fbd9c"
 },
 "nbformat": 3,
 "nbformat_minor": 0,
 "worksheets": [
  {
   "cells": [
    {
     "cell_type": "code",
     "collapsed": false,
     "input": [
      "s.closeProperly()"
     ],
     "language": "python",
     "metadata": {},
     "outputs": [
      {
       "output_type": "stream",
       "stream": "stdout",
       "text": [
        "Saved position: 24431\n"
       ]
      }
     ],
     "prompt_number": 7
    },
    {
     "cell_type": "code",
     "collapsed": false,
     "input": [
      "from stepper import Stepper\n",
      "from time import sleep\n",
      "from pyinstruments import CurveDB\n",
      "import pandas\n",
      "from users.remi import losses2 as losses\n",
      "from pyinstruments.pyhardwaredb import instrument\n",
      "import gc\n",
      "\n",
      "constants = losses.CONSTANTS_REMI_PILLAR\n",
      "acquisition = losses.Acquisition()\n",
      "acquisition_constants  = dict(name=\"finesse_vs_length S6-4 and QT2 test\",\n",
      "                             stepmax=24500-20,\n",
      "                             N=50,\n",
      "                             step=1,\n",
      "                             sleeptime=2\n",
      "                             )"
     ],
     "language": "python",
     "metadata": {},
     "outputs": [],
     "prompt_number": 5
    },
    {
     "cell_type": "code",
     "collapsed": false,
     "input": [
      "s = Stepper()"
     ],
     "language": "python",
     "metadata": {},
     "outputs": []
    },
    {
     "cell_type": "code",
     "collapsed": false,
     "input": [
      "s.position()"
     ],
     "language": "python",
     "metadata": {},
     "outputs": [
      {
       "output_type": "stream",
       "stream": "stdout",
       "text": [
        "I'm at step: 24480\n",
        "Distance to reference point: 15300.0 um\n"
       ]
      },
      {
       "metadata": {},
       "output_type": "pyout",
       "prompt_number": 4,
       "text": [
        "24480"
       ]
      }
     ],
     "prompt_number": 4
    },
    {
     "cell_type": "code",
     "collapsed": false,
     "input": [
      "s.goToStepN(acquisition_constants[\"stepmax\"])\n",
      "current_pos = s.quiet_position()\n",
      "\n",
      "parent = CurveDB()\n",
      "parent.name = acquisition_constants[\"name\"]\n",
      "parent.save()\n",
      "\n",
      "for i in range(0,acquisition_constants[\"N\"]):\n",
      "    s.goToStepN(acquisition_constants[\"stepmax\"]-acquisition_constants[\"step\"]*i)\n",
      "    sleep(acquisition_constants[\"sleeptime\"])\n",
      "    current_pos = s.quiet_position()\n",
      "    print 'iteration:', \"%4g\"%(i), '@ step:', current_pos\n",
      "    current_pk = acquisition.acquire(\"finesse_vs_length_\" + str(current_pos), current_pos)\n",
      "    c = CurveDB.objects.get(pk=current_pk)\n",
      "    c.params[\"stepper_pos\"] = current_pos\n",
      "    c.save()\n",
      "    parent.add_child(c)\n",
      "    gc.collect()"
     ],
     "language": "python",
     "metadata": {},
     "outputs": []
    }
   ],
   "metadata": {}
  }
 ]
}