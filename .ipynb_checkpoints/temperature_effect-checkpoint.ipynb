{
 "metadata": {
  "name": "",
  "signature": "sha256:d6c10a929fc30303f846cf829d4c2854dda69608c0c3ea8af25c9c198e50bf4a"
 },
 "nbformat": 3,
 "nbformat_minor": 0,
 "worksheets": [
  {
   "cells": [
    {
     "cell_type": "code",
     "collapsed": false,
     "input": [
      "from __future__ import division\n",
      "from stepper import Stepper\n",
      "from time import sleep\n",
      "from pyinstruments import CurveDB\n",
      "import pandas\n",
      "from users.remi import finesse\n",
      "from pyinstruments.pyhardwaredb import instrument\n",
      "\n",
      "constants = finesse.CONSTANTS_REMI_PILLAR"
     ],
     "language": "python",
     "metadata": {},
     "outputs": [],
     "prompt_number": 1
    },
    {
     "cell_type": "code",
     "collapsed": false,
     "input": [
      "#s = Stepper()\n",
      "#s.calibrate()\n",
      "s.position()"
     ],
     "language": "python",
     "metadata": {},
     "outputs": [
      {
       "output_type": "stream",
       "stream": "stdout",
       "text": [
        "I'm at step: 24426\n",
        "Distance to reference point: 15266.25 um\n"
       ]
      },
      {
       "metadata": {},
       "output_type": "pyout",
       "prompt_number": 3,
       "text": [
        "24426"
       ]
      }
     ],
     "prompt_number": 3
    },
    {
     "cell_type": "code",
     "collapsed": false,
     "input": [
      "pos_measure = 24426      #Position of the stepper's cursor: on 50 (step 24500)\n",
      "s.goToStepN(pos_measure) \n",
      "print s.position()\n",
      "w = finesse.FinesseMeasurementWidget()"
     ],
     "language": "python",
     "metadata": {},
     "outputs": [
      {
       "output_type": "stream",
       "stream": "stdout",
       "text": [
        "I'm at step: 24426\n",
        "Distance to reference point: 15266.25 um\n",
        "24426\n"
       ]
      }
     ],
     "prompt_number": 4
    },
    {
     "cell_type": "code",
     "collapsed": false,
     "input": [
      "N_steps = 400 #number of acquisitions 4\n",
      "delay = 600   #Delay in seconds between 2 acquisitions\n",
      "\n",
      "parentCurve = CurveDB()\n",
      "parentCurve.name = \"temperature_effect_on_cavity_length_at_step_\"+str(pos_measure)\n",
      "parentCurve.save()\n",
      "\n",
      "for i in range(N_steps):\n",
      "    current_pk, current_length, current_F = w.acquire_params(\"temperature_effect_\"+str(i+1), clever_downsample=True,\n",
      "                                                             fit_immediately=False)\n",
      "    c2 = CurveDB.objects.get(pk=current_pk)\n",
      "    c2.params[\"stepper_pos\"]=pos_measure\n",
      "    c2.save()\n",
      "    parentCurve.add_child(c2)\n",
      "    del c2\n",
      "    c2 = None\n",
      "    if (i+1)%5==0:\n",
      "        print \"curve acquired:\", i+1\n",
      "    sleep(delay)"
     ],
     "language": "python",
     "metadata": {},
     "outputs": []
    },
    {
     "cell_type": "code",
     "collapsed": false,
     "input": [
      "s.closeProperly()"
     ],
     "language": "python",
     "metadata": {},
     "outputs": [],
     "prompt_number": 4
    },
    {
     "cell_type": "code",
     "collapsed": false,
     "input": [],
     "language": "python",
     "metadata": {},
     "outputs": []
    }
   ],
   "metadata": {}
  }
 ]
}