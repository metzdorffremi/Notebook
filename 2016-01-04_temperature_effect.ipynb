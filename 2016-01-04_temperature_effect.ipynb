{
 "metadata": {
  "name": "",
  "signature": "sha256:782854d6bcbcd7fff564ba13c758337befb7941a98f907dd273f125ee8d60c3d"
 },
 "nbformat": 3,
 "nbformat_minor": 0,
 "worksheets": [
  {
   "cells": [
    {
     "cell_type": "code",
     "collapsed": false,
     "input": [
      "from stepper import Stepper\n",
      "from time import sleep, time\n",
      "from pyinstruments import CurveDB\n",
      "import pandas\n",
      "from users.remi import losses2 as losses\n",
      "from pyinstruments.pyhardwaredb import instrument\n",
      "import gc\n",
      "from users.remi.sound import sinus\n",
      "\n",
      "constants = losses.CONSTANTS_REMI_PILLAR\n",
      "acquisition = losses.Acquisition()\n",
      "acquisition_constants  = dict(name=\"temperature_effect_@_\",\n",
      "                              stepmeasure=23750,\n",
      "                              days = 4.,\n",
      "                              hours = 0.,\n",
      "                              minutes = 0.,\n",
      "                              delay = 5*60.,\n",
      "                              sleeptime=2\n",
      "                              )"
     ],
     "language": "python",
     "metadata": {},
     "outputs": [],
     "prompt_number": 1
    },
    {
     "cell_type": "code",
     "collapsed": false,
     "input": [
      "s = Stepper()"
     ],
     "language": "python",
     "metadata": {},
     "outputs": [],
     "prompt_number": 2
    },
    {
     "cell_type": "code",
     "collapsed": false,
     "input": [
      "s.position()"
     ],
     "language": "python",
     "metadata": {},
     "outputs": [
      {
       "output_type": "stream",
       "stream": "stdout",
       "text": [
        "I'm at step: 23750\n",
        "Distance to reference point: 14843.75 um\n"
       ]
      },
      {
       "metadata": {},
       "output_type": "pyout",
       "prompt_number": 3,
       "text": [
        "23750"
       ]
      }
     ],
     "prompt_number": 3
    },
    {
     "cell_type": "code",
     "collapsed": false,
     "input": [
      "parent = CurveDB()\n",
      "parent.name = acquisition_constants[\"name\"]+str(acquisition_constants[\"stepmeasure\"])\n",
      "parent.save()\n",
      "\n",
      "acquisitiontime = ((acquisition_constants[\"days\"]*24. + acquisition_constants[\"hours\"])*60. + acquisition_constants[\"minutes\"])*60.\n",
      "N = int( acquisitiontime / acquisition_constants[\"delay\"] )\n",
      "print N\n",
      "\n",
      "beeptime = 0.1\n",
      "\n",
      "s.goToStepN(acquisition_constants[\"stepmeasure\"])\n",
      "current_pos = s.quiet_position()\n",
      "for i in range(N):\n",
      "    #sinus(4000., beeptime)\n",
      "    if i == 0:\n",
      "        t0 = time()\n",
      "    t = time() - t0\n",
      "    hours = t//3600.\n",
      "    minutes = (t-hours*3600.)//60.\n",
      "    seconds = t%60\n",
      "    print \"iteration: %3g @ time: %5.5f s (%2g h %2g min %2.3f s)\"%(i, t, hours, minutes, seconds)\n",
      "    current_pk = acquisition.acquire(\"finesse_vs_length_\" + str(current_pos), current_pos)\n",
      "    #sinus(2000., beeptime)\n",
      "    c = CurveDB.objects.get(pk=current_pk)\n",
      "    c.params[\"stepper_pos\"] = current_pos\n",
      "    c.params[\"time\"] = t\n",
      "    c.save()\n",
      "    parent.add_child(c)\n",
      "    gc.collect()\n",
      "    while (time()-t0) <= (i+1)*acquisition_constants[\"delay\"]-5.:\n",
      "        sleep(0.1)\n",
      "    #sinus(3000., beeptime)\n",
      "    while (time()-t0) <= (i+1)*acquisition_constants[\"delay\"]-0.46:#-beeptime:\n",
      "        sleep(0.1)    \n",
      "    #sleep(acquisition_constants[\"delay\"])"
     ],
     "language": "python",
     "metadata": {},
     "outputs": [
      {
       "output_type": "stream",
       "stream": "stdout",
       "text": [
        "1152\n",
        "iteration:   0 @ time: 0.00000 s ( 0 h  0 min 0.000 s)"
       ]
      },
      {
       "output_type": "stream",
       "stream": "stdout",
       "text": [
        "\n",
        "acquiring signal (channel 1)"
       ]
      },
      {
       "output_type": "stream",
       "stream": "stdout",
       "text": [
        "\n",
        "acquiring ramp (channel 2)"
       ]
      },
      {
       "output_type": "stream",
       "stream": "stdout",
       "text": [
        "\n",
        "iteration:   1 @ time: 299.61800 s ( 0 h  4 min 59.618 s)"
       ]
      },
      {
       "output_type": "stream",
       "stream": "stdout",
       "text": [
        "\n",
        "acquiring signal (channel 1)\n",
        "acquiring ramp (channel 2)"
       ]
      },
      {
       "output_type": "stream",
       "stream": "stdout",
       "text": [
        "\n",
        "iteration:   2 @ time: 599.58000 s ( 0 h  9 min 59.580 s)"
       ]
      },
      {
       "output_type": "stream",
       "stream": "stdout",
       "text": [
        "\n",
        "acquiring signal (channel 1)\n",
        "acquiring ramp (channel 2)"
       ]
      },
      {
       "output_type": "stream",
       "stream": "stdout",
       "text": [
        "\n",
        "iteration:   3 @ time: 899.63600 s ( 0 h 14 min 59.636 s)"
       ]
      },
      {
       "output_type": "stream",
       "stream": "stdout",
       "text": [
        "\n",
        "acquiring signal (channel 1)\n",
        "acquiring ramp (channel 2)"
       ]
      },
      {
       "output_type": "stream",
       "stream": "stdout",
       "text": [
        "\n",
        "iteration:   4 @ time: 1199.61900 s ( 0 h 19 min 59.619 s)"
       ]
      },
      {
       "output_type": "stream",
       "stream": "stdout",
       "text": [
        "\n",
        "acquiring signal (channel 1)\n",
        "acquiring ramp (channel 2)"
       ]
      },
      {
       "output_type": "stream",
       "stream": "stdout",
       "text": [
        "\n",
        "iteration:   5 @ time: 1499.58500 s ( 0 h 24 min 59.585 s)"
       ]
      },
      {
       "output_type": "stream",
       "stream": "stdout",
       "text": [
        "\n",
        "acquiring signal (channel 1)\n",
        "acquiring ramp (channel 2)"
       ]
      },
      {
       "output_type": "stream",
       "stream": "stdout",
       "text": [
        "\n",
        "iteration:   6 @ time: 1799.63600 s ( 0 h 29 min 59.636 s)"
       ]
      },
      {
       "output_type": "stream",
       "stream": "stdout",
       "text": [
        "\n",
        "acquiring signal (channel 1)\n",
        "acquiring ramp (channel 2)"
       ]
      },
      {
       "output_type": "stream",
       "stream": "stdout",
       "text": [
        "\n",
        "iteration:   7 @ time: 2099.58800 s ( 0 h 34 min 59.588 s)"
       ]
      },
      {
       "output_type": "stream",
       "stream": "stdout",
       "text": [
        "\n",
        "acquiring signal (channel 1)\n",
        "acquiring ramp (channel 2)"
       ]
      },
      {
       "output_type": "stream",
       "stream": "stdout",
       "text": [
        "\n",
        "iteration:   8 @ time: 2399.57700 s ( 0 h 39 min 59.577 s)"
       ]
      },
      {
       "output_type": "stream",
       "stream": "stdout",
       "text": [
        "\n",
        "acquiring signal (channel 1)\n",
        "acquiring ramp (channel 2)"
       ]
      },
      {
       "output_type": "stream",
       "stream": "stdout",
       "text": [
        "\n",
        "iteration:   9 @ time: 2699.55600 s ( 0 h 44 min 59.556 s)"
       ]
      },
      {
       "output_type": "stream",
       "stream": "stdout",
       "text": [
        "\n",
        "acquiring signal (channel 1)\n",
        "acquiring ramp (channel 2)"
       ]
      },
      {
       "output_type": "stream",
       "stream": "stdout",
       "text": [
        "\n",
        "iteration:  10 @ time: 2999.61600 s ( 0 h 49 min 59.616 s)"
       ]
      },
      {
       "output_type": "stream",
       "stream": "stdout",
       "text": [
        "\n",
        "acquiring signal (channel 1)\n",
        "acquiring ramp (channel 2)"
       ]
      },
      {
       "output_type": "stream",
       "stream": "stdout",
       "text": [
        "\n",
        "iteration:  11 @ time: 3299.58100 s ( 0 h 54 min 59.581 s)"
       ]
      },
      {
       "output_type": "stream",
       "stream": "stdout",
       "text": [
        "\n",
        "acquiring signal (channel 1)\n",
        "acquiring ramp (channel 2)"
       ]
      },
      {
       "output_type": "stream",
       "stream": "stdout",
       "text": [
        "\n",
        "iteration:  12 @ time: 3599.54800 s ( 0 h 59 min 59.548 s)"
       ]
      },
      {
       "output_type": "stream",
       "stream": "stdout",
       "text": [
        "\n",
        "acquiring signal (channel 1)\n",
        "acquiring ramp (channel 2)"
       ]
      },
      {
       "output_type": "stream",
       "stream": "stdout",
       "text": [
        "\n",
        "iteration:  13 @ time: 3899.60800 s ( 1 h  4 min 59.608 s)"
       ]
      },
      {
       "output_type": "stream",
       "stream": "stdout",
       "text": [
        "\n",
        "acquiring signal (channel 1)\n",
        "acquiring ramp (channel 2)"
       ]
      },
      {
       "output_type": "stream",
       "stream": "stdout",
       "text": [
        "\n",
        "iteration:  14 @ time: 4199.59100 s ( 1 h  9 min 59.591 s)"
       ]
      },
      {
       "output_type": "stream",
       "stream": "stdout",
       "text": [
        "\n",
        "acquiring signal (channel 1)\n",
        "acquiring ramp (channel 2)"
       ]
      },
      {
       "output_type": "stream",
       "stream": "stdout",
       "text": [
        "\n",
        "iteration:  15 @ time: 4499.55500 s ( 1 h 14 min 59.555 s)"
       ]
      },
      {
       "output_type": "stream",
       "stream": "stdout",
       "text": [
        "\n",
        "acquiring signal (channel 1)\n",
        "acquiring ramp (channel 2)"
       ]
      },
      {
       "output_type": "stream",
       "stream": "stdout",
       "text": [
        "\n",
        "iteration:  16 @ time: 4799.63200 s ( 1 h 19 min 59.632 s)"
       ]
      },
      {
       "output_type": "stream",
       "stream": "stdout",
       "text": [
        "\n",
        "acquiring signal (channel 1)\n",
        "acquiring ramp (channel 2)"
       ]
      },
      {
       "output_type": "stream",
       "stream": "stdout",
       "text": [
        "\n",
        "iteration:  17 @ time: 5099.58500 s ( 1 h 24 min 59.585 s)"
       ]
      },
      {
       "output_type": "stream",
       "stream": "stdout",
       "text": [
        "\n",
        "acquiring signal (channel 1)\n",
        "acquiring ramp (channel 2)"
       ]
      },
      {
       "output_type": "stream",
       "stream": "stdout",
       "text": [
        "\n",
        "iteration:  18 @ time: 5399.56900 s ( 1 h 29 min 59.569 s)"
       ]
      },
      {
       "output_type": "stream",
       "stream": "stdout",
       "text": [
        "\n",
        "acquiring signal (channel 1)\n",
        "acquiring ramp (channel 2)"
       ]
      },
      {
       "output_type": "stream",
       "stream": "stdout",
       "text": [
        "\n",
        "iteration:  19 @ time: 5699.54500 s ( 1 h 34 min 59.545 s)"
       ]
      },
      {
       "output_type": "stream",
       "stream": "stdout",
       "text": [
        "\n",
        "acquiring signal (channel 1)\n",
        "acquiring ramp (channel 2)"
       ]
      },
      {
       "output_type": "stream",
       "stream": "stdout",
       "text": [
        "\n",
        "iteration:  20 @ time: 5999.59600 s ( 1 h 39 min 59.596 s)"
       ]
      },
      {
       "output_type": "stream",
       "stream": "stdout",
       "text": [
        "\n",
        "acquiring signal (channel 1)\n",
        "acquiring ramp (channel 2)"
       ]
      },
      {
       "output_type": "stream",
       "stream": "stdout",
       "text": [
        "\n",
        "iteration:  21 @ time: 6299.57100 s ( 1 h 44 min 59.571 s)"
       ]
      },
      {
       "output_type": "stream",
       "stream": "stdout",
       "text": [
        "\n",
        "acquiring signal (channel 1)\n",
        "acquiring ramp (channel 2)"
       ]
      },
      {
       "output_type": "stream",
       "stream": "stdout",
       "text": [
        "\n",
        "iteration:  22 @ time: 6599.62700 s ( 1 h 49 min 59.627 s)"
       ]
      },
      {
       "output_type": "stream",
       "stream": "stdout",
       "text": [
        "\n",
        "acquiring signal (channel 1)\n",
        "acquiring ramp (channel 2)"
       ]
      },
      {
       "output_type": "stream",
       "stream": "stdout",
       "text": [
        "\n",
        "iteration:  23 @ time: 6899.61400 s ( 1 h 54 min 59.614 s)"
       ]
      },
      {
       "output_type": "stream",
       "stream": "stdout",
       "text": [
        "\n",
        "acquiring signal (channel 1)\n",
        "acquiring ramp (channel 2)"
       ]
      },
      {
       "output_type": "stream",
       "stream": "stdout",
       "text": [
        "\n",
        "iteration:  24 @ time: 7199.58400 s ( 1 h 59 min 59.584 s)"
       ]
      },
      {
       "output_type": "stream",
       "stream": "stdout",
       "text": [
        "\n",
        "acquiring signal (channel 1)\n",
        "acquiring ramp (channel 2)"
       ]
      },
      {
       "output_type": "stream",
       "stream": "stdout",
       "text": [
        "\n",
        "iteration:  25 @ time: 7499.54700 s ( 2 h  4 min 59.547 s)"
       ]
      },
      {
       "output_type": "stream",
       "stream": "stdout",
       "text": [
        "\n",
        "acquiring signal (channel 1)\n",
        "acquiring ramp (channel 2)"
       ]
      },
      {
       "output_type": "stream",
       "stream": "stdout",
       "text": [
        "\n",
        "iteration:  26 @ time: 7799.60100 s ( 2 h  9 min 59.601 s)"
       ]
      },
      {
       "output_type": "stream",
       "stream": "stdout",
       "text": [
        "\n",
        "acquiring signal (channel 1)\n",
        "acquiring ramp (channel 2)"
       ]
      },
      {
       "output_type": "stream",
       "stream": "stdout",
       "text": [
        "\n",
        "iteration:  27 @ time: 8099.57600 s ( 2 h 14 min 59.576 s)"
       ]
      },
      {
       "output_type": "stream",
       "stream": "stdout",
       "text": [
        "\n",
        "acquiring signal (channel 1)\n",
        "acquiring ramp (channel 2)"
       ]
      },
      {
       "output_type": "stream",
       "stream": "stdout",
       "text": [
        "\n",
        "iteration:  28 @ time: 8399.61300 s ( 2 h 19 min 59.613 s)"
       ]
      },
      {
       "output_type": "stream",
       "stream": "stdout",
       "text": [
        "\n",
        "acquiring signal (channel 1)\n",
        "acquiring ramp (channel 2)"
       ]
      },
      {
       "output_type": "stream",
       "stream": "stdout",
       "text": [
        "\n",
        "iteration:  29 @ time: 8699.60500 s ( 2 h 24 min 59.605 s)"
       ]
      },
      {
       "output_type": "stream",
       "stream": "stdout",
       "text": [
        "\n",
        "acquiring signal (channel 1)\n",
        "acquiring ramp (channel 2)"
       ]
      },
      {
       "output_type": "stream",
       "stream": "stdout",
       "text": [
        "\n",
        "iteration:  30 @ time: 8999.57300 s ( 2 h 29 min 59.573 s)"
       ]
      },
      {
       "output_type": "stream",
       "stream": "stdout",
       "text": [
        "\n",
        "acquiring signal (channel 1)\n",
        "acquiring ramp (channel 2)"
       ]
      },
      {
       "output_type": "stream",
       "stream": "stdout",
       "text": [
        "\n",
        "iteration:  31 @ time: 9299.64000 s ( 2 h 34 min 59.640 s)"
       ]
      },
      {
       "output_type": "stream",
       "stream": "stdout",
       "text": [
        "\n",
        "acquiring signal (channel 1)\n",
        "acquiring ramp (channel 2)"
       ]
      },
      {
       "output_type": "stream",
       "stream": "stdout",
       "text": [
        "\n",
        "iteration:  32 @ time: 9599.61900 s ( 2 h 39 min 59.619 s)"
       ]
      },
      {
       "output_type": "stream",
       "stream": "stdout",
       "text": [
        "\n",
        "acquiring signal (channel 1)\n",
        "acquiring ramp (channel 2)"
       ]
      },
      {
       "output_type": "stream",
       "stream": "stdout",
       "text": [
        "\n",
        "iteration:  33 @ time: 9899.58300 s ( 2 h 44 min 59.583 s)"
       ]
      },
      {
       "output_type": "stream",
       "stream": "stdout",
       "text": [
        "\n",
        "acquiring signal (channel 1)\n",
        "acquiring ramp (channel 2)"
       ]
      },
      {
       "output_type": "stream",
       "stream": "stdout",
       "text": [
        "\n",
        "iteration:  34 @ time: 10199.54400 s ( 2 h 49 min 59.544 s)"
       ]
      },
      {
       "output_type": "stream",
       "stream": "stdout",
       "text": [
        "\n",
        "acquiring signal (channel 1)\n",
        "acquiring ramp (channel 2)"
       ]
      },
      {
       "output_type": "stream",
       "stream": "stdout",
       "text": [
        "\n",
        "iteration:  35 @ time: 10499.59200 s ( 2 h 54 min 59.592 s)"
       ]
      },
      {
       "output_type": "stream",
       "stream": "stdout",
       "text": [
        "\n",
        "acquiring signal (channel 1)\n",
        "acquiring ramp (channel 2)"
       ]
      },
      {
       "output_type": "stream",
       "stream": "stdout",
       "text": [
        "\n",
        "iteration:  36 @ time: 10799.58600 s ( 2 h 59 min 59.586 s)"
       ]
      },
      {
       "output_type": "stream",
       "stream": "stdout",
       "text": [
        "\n",
        "acquiring signal (channel 1)\n",
        "acquiring ramp (channel 2)"
       ]
      },
      {
       "output_type": "stream",
       "stream": "stdout",
       "text": [
        "\n",
        "iteration:  37 @ time: 11099.63600 s ( 3 h  4 min 59.636 s)"
       ]
      },
      {
       "output_type": "stream",
       "stream": "stdout",
       "text": [
        "\n",
        "acquiring signal (channel 1)\n",
        "acquiring ramp (channel 2)"
       ]
      },
      {
       "output_type": "stream",
       "stream": "stdout",
       "text": [
        "\n",
        "iteration:  38 @ time: 11399.63100 s ( 3 h  9 min 59.631 s)"
       ]
      },
      {
       "output_type": "stream",
       "stream": "stdout",
       "text": [
        "\n",
        "acquiring signal (channel 1)\n",
        "acquiring ramp (channel 2)"
       ]
      },
      {
       "output_type": "stream",
       "stream": "stdout",
       "text": [
        "\n",
        "iteration:  39 @ time: 11699.58200 s ( 3 h 14 min 59.582 s)"
       ]
      },
      {
       "output_type": "stream",
       "stream": "stdout",
       "text": [
        "\n",
        "acquiring signal (channel 1)\n",
        "acquiring ramp (channel 2)"
       ]
      },
      {
       "output_type": "stream",
       "stream": "stdout",
       "text": [
        "\n",
        "iteration:  40 @ time: 11999.63000 s ( 3 h 19 min 59.630 s)"
       ]
      },
      {
       "output_type": "stream",
       "stream": "stdout",
       "text": [
        "\n",
        "acquiring signal (channel 1)\n",
        "acquiring ramp (channel 2)"
       ]
      },
      {
       "output_type": "stream",
       "stream": "stdout",
       "text": [
        "\n",
        "iteration:  41 @ time: 12299.62300 s ( 3 h 24 min 59.623 s)"
       ]
      },
      {
       "output_type": "stream",
       "stream": "stdout",
       "text": [
        "\n",
        "acquiring signal (channel 1)\n",
        "acquiring ramp (channel 2)"
       ]
      },
      {
       "output_type": "stream",
       "stream": "stdout",
       "text": [
        "\n",
        "iteration:  42 @ time: 12599.63100 s ( 3 h 29 min 59.631 s)"
       ]
      },
      {
       "output_type": "stream",
       "stream": "stdout",
       "text": [
        "\n",
        "acquiring signal (channel 1)\n",
        "acquiring ramp (channel 2)"
       ]
      },
      {
       "output_type": "stream",
       "stream": "stdout",
       "text": [
        "\n",
        "iteration:  43 @ time: 12899.58800 s ( 3 h 34 min 59.588 s)"
       ]
      },
      {
       "output_type": "stream",
       "stream": "stdout",
       "text": [
        "\n",
        "acquiring signal (channel 1)\n",
        "acquiring ramp (channel 2)"
       ]
      },
      {
       "output_type": "stream",
       "stream": "stdout",
       "text": [
        "\n",
        "iteration:  44 @ time: 13199.63600 s ( 3 h 39 min 59.636 s)"
       ]
      },
      {
       "output_type": "stream",
       "stream": "stdout",
       "text": [
        "\n",
        "acquiring signal (channel 1)\n",
        "acquiring ramp (channel 2)"
       ]
      },
      {
       "output_type": "stream",
       "stream": "stdout",
       "text": [
        "\n",
        "iteration:  45 @ time: 13499.61400 s ( 3 h 44 min 59.614 s)"
       ]
      },
      {
       "output_type": "stream",
       "stream": "stdout",
       "text": [
        "\n",
        "acquiring signal (channel 1)\n",
        "acquiring ramp (channel 2)"
       ]
      },
      {
       "output_type": "stream",
       "stream": "stdout",
       "text": [
        "\n",
        "iteration:  46 @ time: 13799.59100 s ( 3 h 49 min 59.591 s)"
       ]
      },
      {
       "output_type": "stream",
       "stream": "stdout",
       "text": [
        "\n",
        "acquiring signal (channel 1)\n",
        "acquiring ramp (channel 2)"
       ]
      },
      {
       "output_type": "stream",
       "stream": "stdout",
       "text": [
        "\n",
        "iteration:  47 @ time: 14099.56300 s ( 3 h 54 min 59.563 s)"
       ]
      },
      {
       "output_type": "stream",
       "stream": "stdout",
       "text": [
        "\n",
        "acquiring signal (channel 1)\n",
        "acquiring ramp (channel 2)"
       ]
      },
      {
       "output_type": "stream",
       "stream": "stdout",
       "text": [
        "\n",
        "iteration:  48 @ time: 14399.62600 s ( 3 h 59 min 59.626 s)"
       ]
      },
      {
       "output_type": "stream",
       "stream": "stdout",
       "text": [
        "\n",
        "acquiring signal (channel 1)\n",
        "acquiring ramp (channel 2)"
       ]
      },
      {
       "output_type": "stream",
       "stream": "stdout",
       "text": [
        "\n",
        "iteration:  49 @ time: 14699.60500 s ( 4 h  4 min 59.605 s)"
       ]
      },
      {
       "output_type": "stream",
       "stream": "stdout",
       "text": [
        "\n",
        "acquiring signal (channel 1)\n",
        "acquiring ramp (channel 2)"
       ]
      },
      {
       "output_type": "stream",
       "stream": "stdout",
       "text": [
        "\n",
        "iteration:  50 @ time: 14999.57200 s ( 4 h  9 min 59.572 s)"
       ]
      },
      {
       "output_type": "stream",
       "stream": "stdout",
       "text": [
        "\n",
        "acquiring signal (channel 1)\n",
        "acquiring ramp (channel 2)"
       ]
      },
      {
       "output_type": "stream",
       "stream": "stdout",
       "text": [
        "\n",
        "iteration:  51 @ time: 15299.60900 s ( 4 h 14 min 59.609 s)"
       ]
      },
      {
       "output_type": "stream",
       "stream": "stdout",
       "text": [
        "\n",
        "acquiring signal (channel 1)\n",
        "acquiring ramp (channel 2)"
       ]
      },
      {
       "output_type": "stream",
       "stream": "stdout",
       "text": [
        "\n",
        "iteration:  52 @ time: 15599.60400 s ( 4 h 19 min 59.604 s)"
       ]
      },
      {
       "output_type": "stream",
       "stream": "stdout",
       "text": [
        "\n",
        "acquiring signal (channel 1)\n",
        "acquiring ramp (channel 2)"
       ]
      },
      {
       "output_type": "stream",
       "stream": "stdout",
       "text": [
        "\n",
        "iteration:  53 @ time: 15899.61600 s ( 4 h 24 min 59.616 s)"
       ]
      },
      {
       "output_type": "stream",
       "stream": "stdout",
       "text": [
        "\n",
        "acquiring signal (channel 1)\n",
        "acquiring ramp (channel 2)"
       ]
      },
      {
       "output_type": "stream",
       "stream": "stdout",
       "text": [
        "\n",
        "iteration:  54 @ time: 16199.62000 s ( 4 h 29 min 59.620 s)"
       ]
      },
      {
       "output_type": "stream",
       "stream": "stdout",
       "text": [
        "\n",
        "acquiring signal (channel 1)\n",
        "acquiring ramp (channel 2)"
       ]
      },
      {
       "output_type": "stream",
       "stream": "stdout",
       "text": [
        "\n",
        "iteration:  55 @ time: 16499.60000 s ( 4 h 34 min 59.600 s)"
       ]
      },
      {
       "output_type": "stream",
       "stream": "stdout",
       "text": [
        "\n",
        "acquiring signal (channel 1)\n",
        "acquiring ramp (channel 2)"
       ]
      },
      {
       "output_type": "stream",
       "stream": "stdout",
       "text": [
        "\n",
        "iteration:  56 @ time: 16799.57900 s ( 4 h 39 min 59.579 s)"
       ]
      },
      {
       "output_type": "stream",
       "stream": "stdout",
       "text": [
        "\n",
        "acquiring signal (channel 1)\n",
        "acquiring ramp (channel 2)"
       ]
      },
      {
       "output_type": "stream",
       "stream": "stdout",
       "text": [
        "\n",
        "iteration:  57 @ time: 17099.61800 s ( 4 h 44 min 59.618 s)"
       ]
      },
      {
       "output_type": "stream",
       "stream": "stdout",
       "text": [
        "\n",
        "acquiring signal (channel 1)\n",
        "acquiring ramp (channel 2)"
       ]
      },
      {
       "output_type": "stream",
       "stream": "stdout",
       "text": [
        "\n",
        "iteration:  58 @ time: 17399.60100 s ( 4 h 49 min 59.601 s)"
       ]
      },
      {
       "output_type": "stream",
       "stream": "stdout",
       "text": [
        "\n",
        "acquiring signal (channel 1)\n",
        "acquiring ramp (channel 2)"
       ]
      },
      {
       "output_type": "stream",
       "stream": "stdout",
       "text": [
        "\n",
        "iteration:  59 @ time: 17699.57300 s ( 4 h 54 min 59.573 s)"
       ]
      },
      {
       "output_type": "stream",
       "stream": "stdout",
       "text": [
        "\n",
        "acquiring signal (channel 1)\n",
        "acquiring ramp (channel 2)"
       ]
      },
      {
       "output_type": "stream",
       "stream": "stdout",
       "text": [
        "\n",
        "iteration:  60 @ time: 17999.63600 s ( 4 h 59 min 59.636 s)"
       ]
      },
      {
       "output_type": "stream",
       "stream": "stdout",
       "text": [
        "\n",
        "acquiring signal (channel 1)\n",
        "acquiring ramp (channel 2)"
       ]
      },
      {
       "output_type": "stream",
       "stream": "stdout",
       "text": [
        "\n",
        "iteration:  61 @ time: 18299.61600 s ( 5 h  4 min 59.616 s)"
       ]
      },
      {
       "output_type": "stream",
       "stream": "stdout",
       "text": [
        "\n",
        "acquiring signal (channel 1)\n",
        "acquiring ramp (channel 2)"
       ]
      },
      {
       "output_type": "stream",
       "stream": "stdout",
       "text": [
        "\n",
        "iteration:  62 @ time: 18599.58100 s ( 5 h  9 min 59.581 s)"
       ]
      },
      {
       "output_type": "stream",
       "stream": "stdout",
       "text": [
        "\n",
        "acquiring signal (channel 1)\n",
        "acquiring ramp (channel 2)"
       ]
      },
      {
       "output_type": "stream",
       "stream": "stdout",
       "text": [
        "\n",
        "iteration:  63 @ time: 18899.63200 s ( 5 h 14 min 59.632 s)"
       ]
      },
      {
       "output_type": "stream",
       "stream": "stdout",
       "text": [
        "\n",
        "acquiring signal (channel 1)\n",
        "acquiring ramp (channel 2)"
       ]
      },
      {
       "output_type": "stream",
       "stream": "stdout",
       "text": [
        "\n",
        "iteration:  64 @ time: 19199.61500 s ( 5 h 19 min 59.615 s)"
       ]
      },
      {
       "output_type": "stream",
       "stream": "stdout",
       "text": [
        "\n",
        "acquiring signal (channel 1)\n",
        "acquiring ramp (channel 2)"
       ]
      },
      {
       "output_type": "stream",
       "stream": "stdout",
       "text": [
        "\n",
        "iteration:  65 @ time: 19499.58500 s ( 5 h 24 min 59.585 s)"
       ]
      },
      {
       "output_type": "stream",
       "stream": "stdout",
       "text": [
        "\n",
        "acquiring signal (channel 1)\n",
        "acquiring ramp (channel 2)"
       ]
      },
      {
       "output_type": "stream",
       "stream": "stdout",
       "text": [
        "\n",
        "iteration:  66 @ time: 19799.62300 s ( 5 h 29 min 59.623 s)"
       ]
      },
      {
       "output_type": "stream",
       "stream": "stdout",
       "text": [
        "\n",
        "acquiring signal (channel 1)\n",
        "acquiring ramp (channel 2)"
       ]
      },
      {
       "output_type": "stream",
       "stream": "stdout",
       "text": [
        "\n",
        "iteration:  67 @ time: 20099.61300 s ( 5 h 34 min 59.613 s)"
       ]
      },
      {
       "output_type": "stream",
       "stream": "stdout",
       "text": [
        "\n",
        "acquiring signal (channel 1)\n",
        "acquiring ramp (channel 2)"
       ]
      },
      {
       "output_type": "stream",
       "stream": "stdout",
       "text": [
        "\n",
        "iteration:  68 @ time: 20399.57800 s ( 5 h 39 min 59.578 s)"
       ]
      },
      {
       "output_type": "stream",
       "stream": "stdout",
       "text": [
        "\n",
        "acquiring signal (channel 1)\n",
        "acquiring ramp (channel 2)"
       ]
      },
      {
       "output_type": "stream",
       "stream": "stdout",
       "text": [
        "\n",
        "iteration:  69 @ time: 20699.56200 s ( 5 h 44 min 59.562 s)"
       ]
      },
      {
       "output_type": "stream",
       "stream": "stdout",
       "text": [
        "\n",
        "acquiring signal (channel 1)\n",
        "acquiring ramp (channel 2)"
       ]
      },
      {
       "output_type": "stream",
       "stream": "stdout",
       "text": [
        "\n",
        "iteration:  70 @ time: 20999.62100 s ( 5 h 49 min 59.621 s)"
       ]
      },
      {
       "output_type": "stream",
       "stream": "stdout",
       "text": [
        "\n",
        "acquiring signal (channel 1)\n",
        "acquiring ramp (channel 2)"
       ]
      },
      {
       "output_type": "stream",
       "stream": "stdout",
       "text": [
        "\n",
        "iteration:  71 @ time: 21299.58700 s ( 5 h 54 min 59.587 s)"
       ]
      },
      {
       "output_type": "stream",
       "stream": "stdout",
       "text": [
        "\n",
        "acquiring signal (channel 1)\n",
        "acquiring ramp (channel 2)"
       ]
      },
      {
       "output_type": "stream",
       "stream": "stdout",
       "text": [
        "\n",
        "iteration:  72 @ time: 21599.55600 s ( 5 h 59 min 59.556 s)"
       ]
      },
      {
       "output_type": "stream",
       "stream": "stdout",
       "text": [
        "\n",
        "acquiring signal (channel 1)\n",
        "acquiring ramp (channel 2)"
       ]
      },
      {
       "output_type": "stream",
       "stream": "stdout",
       "text": [
        "\n",
        "iteration:  73 @ time: 21899.62800 s ( 6 h  4 min 59.628 s)"
       ]
      },
      {
       "output_type": "stream",
       "stream": "stdout",
       "text": [
        "\n",
        "acquiring signal (channel 1)\n",
        "acquiring ramp (channel 2)"
       ]
      },
      {
       "output_type": "stream",
       "stream": "stdout",
       "text": [
        "\n",
        "iteration:  74 @ time: 22199.59000 s ( 6 h  9 min 59.590 s)"
       ]
      },
      {
       "output_type": "stream",
       "stream": "stdout",
       "text": [
        "\n",
        "acquiring signal (channel 1)\n",
        "acquiring ramp (channel 2)"
       ]
      },
      {
       "output_type": "stream",
       "stream": "stdout",
       "text": [
        "\n",
        "iteration:  75 @ time: 22499.63400 s ( 6 h 14 min 59.634 s)"
       ]
      },
      {
       "output_type": "stream",
       "stream": "stdout",
       "text": [
        "\n",
        "acquiring signal (channel 1)\n",
        "acquiring ramp (channel 2)"
       ]
      },
      {
       "output_type": "stream",
       "stream": "stdout",
       "text": [
        "\n",
        "iteration:  76 @ time: 22799.63300 s ( 6 h 19 min 59.633 s)"
       ]
      },
      {
       "output_type": "stream",
       "stream": "stdout",
       "text": [
        "\n",
        "acquiring signal (channel 1)\n",
        "acquiring ramp (channel 2)"
       ]
      },
      {
       "output_type": "stream",
       "stream": "stdout",
       "text": [
        "\n",
        "iteration:  77 @ time: 23099.60000 s ( 6 h 24 min 59.600 s)"
       ]
      },
      {
       "output_type": "stream",
       "stream": "stdout",
       "text": [
        "\n",
        "acquiring signal (channel 1)\n",
        "acquiring ramp (channel 2)"
       ]
      },
      {
       "output_type": "stream",
       "stream": "stdout",
       "text": [
        "\n",
        "iteration:  78 @ time: 23399.56500 s ( 6 h 29 min 59.565 s)"
       ]
      },
      {
       "output_type": "stream",
       "stream": "stdout",
       "text": [
        "\n",
        "acquiring signal (channel 1)\n",
        "acquiring ramp (channel 2)"
       ]
      },
      {
       "output_type": "stream",
       "stream": "stdout",
       "text": [
        "\n",
        "iteration:  79 @ time: 23699.54300 s ( 6 h 34 min 59.543 s)"
       ]
      },
      {
       "output_type": "stream",
       "stream": "stdout",
       "text": [
        "\n",
        "acquiring signal (channel 1)\n",
        "acquiring ramp (channel 2)"
       ]
      },
      {
       "output_type": "stream",
       "stream": "stdout",
       "text": [
        "\n",
        "iteration:  80 @ time: 23999.60600 s ( 6 h 39 min 59.606 s)"
       ]
      },
      {
       "output_type": "stream",
       "stream": "stdout",
       "text": [
        "\n",
        "acquiring signal (channel 1)\n",
        "acquiring ramp (channel 2)"
       ]
      },
      {
       "output_type": "stream",
       "stream": "stdout",
       "text": [
        "\n",
        "iteration:  81 @ time: 24299.57100 s ( 6 h 44 min 59.571 s)"
       ]
      },
      {
       "output_type": "stream",
       "stream": "stdout",
       "text": [
        "\n",
        "acquiring signal (channel 1)\n",
        "acquiring ramp (channel 2)"
       ]
      },
      {
       "output_type": "stream",
       "stream": "stdout",
       "text": [
        "\n",
        "iteration:  82 @ time: 24599.63200 s ( 6 h 49 min 59.632 s)"
       ]
      },
      {
       "output_type": "stream",
       "stream": "stdout",
       "text": [
        "\n",
        "acquiring signal (channel 1)\n",
        "acquiring ramp (channel 2)"
       ]
      },
      {
       "output_type": "stream",
       "stream": "stdout",
       "text": [
        "\n",
        "iteration:  83 @ time: 24899.60800 s ( 6 h 54 min 59.608 s)"
       ]
      },
      {
       "output_type": "stream",
       "stream": "stdout",
       "text": [
        "\n",
        "acquiring signal (channel 1)\n",
        "acquiring ramp (channel 2)"
       ]
      },
      {
       "output_type": "stream",
       "stream": "stdout",
       "text": [
        "\n",
        "iteration:  84 @ time: 25199.56800 s ( 6 h 59 min 59.568 s)"
       ]
      },
      {
       "output_type": "stream",
       "stream": "stdout",
       "text": [
        "\n",
        "acquiring signal (channel 1)\n",
        "acquiring ramp (channel 2)"
       ]
      },
      {
       "output_type": "stream",
       "stream": "stdout",
       "text": [
        "\n",
        "iteration:  85 @ time: 25499.60900 s ( 7 h  4 min 59.609 s)"
       ]
      },
      {
       "output_type": "stream",
       "stream": "stdout",
       "text": [
        "\n",
        "acquiring signal (channel 1)\n",
        "acquiring ramp (channel 2)"
       ]
      },
      {
       "output_type": "stream",
       "stream": "stdout",
       "text": [
        "\n",
        "iteration:  86 @ time: 25799.60200 s ( 7 h  9 min 59.602 s)"
       ]
      },
      {
       "output_type": "stream",
       "stream": "stdout",
       "text": [
        "\n",
        "acquiring signal (channel 1)\n",
        "acquiring ramp (channel 2)"
       ]
      },
      {
       "output_type": "stream",
       "stream": "stdout",
       "text": [
        "\n",
        "iteration:  87 @ time: 26099.55000 s ( 7 h 14 min 59.550 s)"
       ]
      },
      {
       "output_type": "stream",
       "stream": "stdout",
       "text": [
        "\n",
        "acquiring signal (channel 1)\n",
        "acquiring ramp (channel 2)"
       ]
      },
      {
       "output_type": "stream",
       "stream": "stdout",
       "text": [
        "\n",
        "iteration:  88 @ time: 26399.55300 s ( 7 h 19 min 59.553 s)"
       ]
      },
      {
       "output_type": "stream",
       "stream": "stdout",
       "text": [
        "\n",
        "acquiring signal (channel 1)\n",
        "acquiring ramp (channel 2)"
       ]
      },
      {
       "output_type": "stream",
       "stream": "stdout",
       "text": [
        "\n",
        "iteration:  89 @ time: 26699.60600 s ( 7 h 24 min 59.606 s)"
       ]
      },
      {
       "output_type": "stream",
       "stream": "stdout",
       "text": [
        "\n",
        "acquiring signal (channel 1)\n",
        "acquiring ramp (channel 2)"
       ]
      },
      {
       "output_type": "stream",
       "stream": "stdout",
       "text": [
        "\n",
        "iteration:  90 @ time: 26999.58800 s ( 7 h 29 min 59.588 s)"
       ]
      },
      {
       "output_type": "stream",
       "stream": "stdout",
       "text": [
        "\n",
        "acquiring signal (channel 1)\n",
        "acquiring ramp (channel 2)"
       ]
      },
      {
       "output_type": "stream",
       "stream": "stdout",
       "text": [
        "\n",
        "iteration:  91 @ time: 27299.63700 s ( 7 h 34 min 59.637 s)"
       ]
      },
      {
       "output_type": "stream",
       "stream": "stdout",
       "text": [
        "\n",
        "acquiring signal (channel 1)\n",
        "acquiring ramp (channel 2)"
       ]
      },
      {
       "output_type": "stream",
       "stream": "stdout",
       "text": [
        "\n",
        "iteration:  92 @ time: 27599.61600 s ( 7 h 39 min 59.616 s)"
       ]
      },
      {
       "output_type": "stream",
       "stream": "stdout",
       "text": [
        "\n",
        "acquiring signal (channel 1)\n",
        "acquiring ramp (channel 2)"
       ]
      },
      {
       "output_type": "stream",
       "stream": "stdout",
       "text": [
        "\n",
        "iteration:  93 @ time: 27899.58200 s ( 7 h 44 min 59.582 s)"
       ]
      },
      {
       "output_type": "stream",
       "stream": "stdout",
       "text": [
        "\n",
        "acquiring signal (channel 1)\n",
        "acquiring ramp (channel 2)"
       ]
      },
      {
       "output_type": "stream",
       "stream": "stdout",
       "text": [
        "\n",
        "iteration:  94 @ time: 28199.63100 s ( 7 h 49 min 59.631 s)"
       ]
      },
      {
       "output_type": "stream",
       "stream": "stdout",
       "text": [
        "\n",
        "acquiring signal (channel 1)\n",
        "acquiring ramp (channel 2)"
       ]
      },
      {
       "output_type": "stream",
       "stream": "stdout",
       "text": [
        "\n",
        "iteration:  95 @ time: 28499.59300 s ( 7 h 54 min 59.593 s)"
       ]
      },
      {
       "output_type": "stream",
       "stream": "stdout",
       "text": [
        "\n",
        "acquiring signal (channel 1)\n",
        "acquiring ramp (channel 2)"
       ]
      },
      {
       "output_type": "stream",
       "stream": "stdout",
       "text": [
        "\n",
        "iteration:  96 @ time: 28799.58100 s ( 7 h 59 min 59.581 s)"
       ]
      },
      {
       "output_type": "stream",
       "stream": "stdout",
       "text": [
        "\n",
        "acquiring signal (channel 1)\n",
        "acquiring ramp (channel 2)"
       ]
      },
      {
       "output_type": "stream",
       "stream": "stdout",
       "text": [
        "\n",
        "iteration:  97 @ time: 29099.55200 s ( 8 h  4 min 59.552 s)"
       ]
      },
      {
       "output_type": "stream",
       "stream": "stdout",
       "text": [
        "\n",
        "acquiring signal (channel 1)\n",
        "acquiring ramp (channel 2)"
       ]
      },
      {
       "output_type": "stream",
       "stream": "stdout",
       "text": [
        "\n",
        "iteration:  98 @ time: 29399.62900 s ( 8 h  9 min 59.629 s)"
       ]
      },
      {
       "output_type": "stream",
       "stream": "stdout",
       "text": [
        "\n",
        "acquiring signal (channel 1)\n",
        "acquiring ramp (channel 2)"
       ]
      },
      {
       "output_type": "stream",
       "stream": "stdout",
       "text": [
        "\n",
        "iteration:  99 @ time: 29699.59800 s ( 8 h 14 min 59.598 s)"
       ]
      },
      {
       "output_type": "stream",
       "stream": "stdout",
       "text": [
        "\n",
        "acquiring signal (channel 1)\n",
        "acquiring ramp (channel 2)"
       ]
      },
      {
       "output_type": "stream",
       "stream": "stdout",
       "text": [
        "\n",
        "iteration: 100 @ time: 29999.63100 s ( 8 h 19 min 59.631 s)"
       ]
      },
      {
       "output_type": "stream",
       "stream": "stdout",
       "text": [
        "\n",
        "acquiring signal (channel 1)\n",
        "acquiring ramp (channel 2)"
       ]
      },
      {
       "output_type": "stream",
       "stream": "stdout",
       "text": [
        "\n",
        "iteration: 101 @ time: 30299.62200 s ( 8 h 24 min 59.622 s)"
       ]
      },
      {
       "output_type": "stream",
       "stream": "stdout",
       "text": [
        "\n",
        "acquiring signal (channel 1)\n",
        "acquiring ramp (channel 2)"
       ]
      },
      {
       "output_type": "stream",
       "stream": "stdout",
       "text": [
        "\n",
        "iteration: 102 @ time: 30599.60500 s ( 8 h 29 min 59.605 s)"
       ]
      },
      {
       "output_type": "stream",
       "stream": "stdout",
       "text": [
        "\n",
        "acquiring signal (channel 1)\n",
        "acquiring ramp (channel 2)"
       ]
      },
      {
       "output_type": "stream",
       "stream": "stdout",
       "text": [
        "\n",
        "iteration: 103 @ time: 30899.55700 s ( 8 h 34 min 59.557 s)"
       ]
      },
      {
       "output_type": "stream",
       "stream": "stdout",
       "text": [
        "\n",
        "acquiring signal (channel 1)\n",
        "acquiring ramp (channel 2)"
       ]
      },
      {
       "output_type": "stream",
       "stream": "stdout",
       "text": [
        "\n",
        "iteration: 104 @ time: 31199.61500 s ( 8 h 39 min 59.615 s)"
       ]
      },
      {
       "output_type": "stream",
       "stream": "stdout",
       "text": [
        "\n",
        "acquiring signal (channel 1)\n",
        "acquiring ramp (channel 2)"
       ]
      },
      {
       "output_type": "stream",
       "stream": "stdout",
       "text": [
        "\n",
        "iteration: 105 @ time: 31499.56900 s ( 8 h 44 min 59.569 s)"
       ]
      },
      {
       "output_type": "stream",
       "stream": "stdout",
       "text": [
        "\n",
        "acquiring signal (channel 1)\n",
        "acquiring ramp (channel 2)"
       ]
      },
      {
       "output_type": "stream",
       "stream": "stdout",
       "text": [
        "\n",
        "iteration: 106 @ time: 31799.57600 s ( 8 h 49 min 59.576 s)"
       ]
      },
      {
       "output_type": "stream",
       "stream": "stdout",
       "text": [
        "\n",
        "acquiring signal (channel 1)\n",
        "acquiring ramp (channel 2)"
       ]
      },
      {
       "output_type": "stream",
       "stream": "stdout",
       "text": [
        "\n",
        "iteration: 107 @ time: 32099.61100 s ( 8 h 54 min 59.611 s)"
       ]
      },
      {
       "output_type": "stream",
       "stream": "stdout",
       "text": [
        "\n",
        "acquiring signal (channel 1)\n",
        "acquiring ramp (channel 2)"
       ]
      },
      {
       "output_type": "stream",
       "stream": "stdout",
       "text": [
        "\n",
        "iteration: 108 @ time: 32399.60200 s ( 8 h 59 min 59.602 s)"
       ]
      },
      {
       "output_type": "stream",
       "stream": "stdout",
       "text": [
        "\n",
        "acquiring signal (channel 1)\n",
        "acquiring ramp (channel 2)"
       ]
      },
      {
       "output_type": "stream",
       "stream": "stdout",
       "text": [
        "\n",
        "iteration: 109 @ time: 32699.56700 s ( 9 h  4 min 59.567 s)"
       ]
      },
      {
       "output_type": "stream",
       "stream": "stdout",
       "text": [
        "\n",
        "acquiring signal (channel 1)\n",
        "acquiring ramp (channel 2)"
       ]
      },
      {
       "output_type": "stream",
       "stream": "stdout",
       "text": [
        "\n",
        "iteration: 110 @ time: 32999.63200 s ( 9 h  9 min 59.632 s)"
       ]
      },
      {
       "output_type": "stream",
       "stream": "stdout",
       "text": [
        "\n",
        "acquiring signal (channel 1)\n",
        "acquiring ramp (channel 2)"
       ]
      },
      {
       "output_type": "stream",
       "stream": "stdout",
       "text": [
        "\n",
        "iteration: 111 @ time: 33299.60700 s ( 9 h 14 min 59.607 s)"
       ]
      },
      {
       "output_type": "stream",
       "stream": "stdout",
       "text": [
        "\n",
        "acquiring signal (channel 1)\n",
        "acquiring ramp (channel 2)"
       ]
      },
      {
       "output_type": "stream",
       "stream": "stdout",
       "text": [
        "\n",
        "iteration: 112 @ time: 33599.56800 s ( 9 h 19 min 59.568 s)"
       ]
      },
      {
       "output_type": "stream",
       "stream": "stdout",
       "text": [
        "\n",
        "acquiring signal (channel 1)\n",
        "acquiring ramp (channel 2)"
       ]
      },
      {
       "output_type": "stream",
       "stream": "stdout",
       "text": [
        "\n",
        "iteration: 113 @ time: 33899.54300 s ( 9 h 24 min 59.543 s)"
       ]
      },
      {
       "output_type": "stream",
       "stream": "stdout",
       "text": [
        "\n",
        "acquiring signal (channel 1)\n",
        "acquiring ramp (channel 2)"
       ]
      },
      {
       "output_type": "stream",
       "stream": "stdout",
       "text": [
        "\n",
        "iteration: 114 @ time: 34199.61600 s ( 9 h 29 min 59.616 s)"
       ]
      },
      {
       "output_type": "stream",
       "stream": "stdout",
       "text": [
        "\n",
        "acquiring signal (channel 1)\n",
        "acquiring ramp (channel 2)"
       ]
      },
      {
       "output_type": "stream",
       "stream": "stdout",
       "text": [
        "\n",
        "iteration: 115 @ time: 34499.58000 s ( 9 h 34 min 59.580 s)"
       ]
      },
      {
       "output_type": "stream",
       "stream": "stdout",
       "text": [
        "\n",
        "acquiring signal (channel 1)\n",
        "acquiring ramp (channel 2)"
       ]
      },
      {
       "output_type": "stream",
       "stream": "stdout",
       "text": [
        "\n",
        "iteration: 116 @ time: 34799.63800 s ( 9 h 39 min 59.638 s)"
       ]
      },
      {
       "output_type": "stream",
       "stream": "stdout",
       "text": [
        "\n",
        "acquiring signal (channel 1)\n",
        "acquiring ramp (channel 2)"
       ]
      },
      {
       "output_type": "stream",
       "stream": "stdout",
       "text": [
        "\n",
        "iteration: 117 @ time: 35099.60500 s ( 9 h 44 min 59.605 s)"
       ]
      },
      {
       "output_type": "stream",
       "stream": "stdout",
       "text": [
        "\n",
        "acquiring signal (channel 1)\n",
        "acquiring ramp (channel 2)"
       ]
      },
      {
       "output_type": "stream",
       "stream": "stdout",
       "text": [
        "\n",
        "iteration: 118 @ time: 35399.59200 s ( 9 h 49 min 59.592 s)"
       ]
      },
      {
       "output_type": "stream",
       "stream": "stdout",
       "text": [
        "\n",
        "acquiring signal (channel 1)\n",
        "acquiring ramp (channel 2)"
       ]
      },
      {
       "output_type": "stream",
       "stream": "stdout",
       "text": [
        "\n",
        "iteration: 119 @ time: 35699.55100 s ( 9 h 54 min 59.551 s)"
       ]
      },
      {
       "output_type": "stream",
       "stream": "stdout",
       "text": [
        "\n",
        "acquiring signal (channel 1)\n",
        "acquiring ramp (channel 2)"
       ]
      },
      {
       "output_type": "stream",
       "stream": "stdout",
       "text": [
        "\n",
        "iteration: 120 @ time: 35999.61600 s ( 9 h 59 min 59.616 s)"
       ]
      },
      {
       "output_type": "stream",
       "stream": "stdout",
       "text": [
        "\n",
        "acquiring signal (channel 1)\n",
        "acquiring ramp (channel 2)"
       ]
      },
      {
       "output_type": "stream",
       "stream": "stdout",
       "text": [
        "\n",
        "iteration: 121 @ time: 36299.55500 s (10 h  4 min 59.555 s)"
       ]
      },
      {
       "output_type": "stream",
       "stream": "stdout",
       "text": [
        "\n",
        "acquiring signal (channel 1)\n",
        "acquiring ramp (channel 2)"
       ]
      },
      {
       "output_type": "stream",
       "stream": "stdout",
       "text": [
        "\n",
        "iteration: 122 @ time: 36599.56200 s (10 h  9 min 59.562 s)"
       ]
      },
      {
       "output_type": "stream",
       "stream": "stdout",
       "text": [
        "\n",
        "acquiring signal (channel 1)\n",
        "acquiring ramp (channel 2)"
       ]
      },
      {
       "output_type": "stream",
       "stream": "stdout",
       "text": [
        "\n",
        "iteration: 123 @ time: 36899.61900 s (10 h 14 min 59.619 s)"
       ]
      },
      {
       "output_type": "stream",
       "stream": "stdout",
       "text": [
        "\n",
        "acquiring signal (channel 1)\n",
        "acquiring ramp (channel 2)"
       ]
      },
      {
       "output_type": "stream",
       "stream": "stdout",
       "text": [
        "\n",
        "iteration: 124 @ time: 37199.58400 s (10 h 19 min 59.584 s)"
       ]
      },
      {
       "output_type": "stream",
       "stream": "stdout",
       "text": [
        "\n",
        "acquiring signal (channel 1)\n",
        "acquiring ramp (channel 2)"
       ]
      },
      {
       "output_type": "stream",
       "stream": "stdout",
       "text": [
        "\n",
        "iteration: 125 @ time: 37499.55500 s (10 h 24 min 59.555 s)"
       ]
      },
      {
       "output_type": "stream",
       "stream": "stdout",
       "text": [
        "\n",
        "acquiring signal (channel 1)\n",
        "acquiring ramp (channel 2)"
       ]
      },
      {
       "output_type": "stream",
       "stream": "stdout",
       "text": [
        "\n",
        "iteration: 126 @ time: 37799.61200 s (10 h 29 min 59.612 s)"
       ]
      },
      {
       "output_type": "stream",
       "stream": "stdout",
       "text": [
        "\n",
        "acquiring signal (channel 1)\n",
        "acquiring ramp (channel 2)"
       ]
      },
      {
       "output_type": "stream",
       "stream": "stdout",
       "text": [
        "\n",
        "iteration: 127 @ time: 38099.58900 s (10 h 34 min 59.589 s)"
       ]
      },
      {
       "output_type": "stream",
       "stream": "stdout",
       "text": [
        "\n",
        "acquiring signal (channel 1)\n",
        "acquiring ramp (channel 2)"
       ]
      },
      {
       "output_type": "stream",
       "stream": "stdout",
       "text": [
        "\n",
        "iteration: 128 @ time: 38399.63300 s (10 h 39 min 59.633 s)"
       ]
      },
      {
       "output_type": "stream",
       "stream": "stdout",
       "text": [
        "\n",
        "acquiring signal (channel 1)\n",
        "acquiring ramp (channel 2)"
       ]
      },
      {
       "output_type": "stream",
       "stream": "stdout",
       "text": [
        "\n",
        "iteration: 129 @ time: 38699.63600 s (10 h 44 min 59.636 s)"
       ]
      },
      {
       "output_type": "stream",
       "stream": "stdout",
       "text": [
        "\n",
        "acquiring signal (channel 1)\n",
        "acquiring ramp (channel 2)"
       ]
      },
      {
       "output_type": "stream",
       "stream": "stdout",
       "text": [
        "\n",
        "iteration: 130 @ time: 38999.58500 s (10 h 49 min 59.585 s)"
       ]
      },
      {
       "output_type": "stream",
       "stream": "stdout",
       "text": [
        "\n",
        "acquiring signal (channel 1)\n",
        "acquiring ramp (channel 2)"
       ]
      },
      {
       "output_type": "stream",
       "stream": "stdout",
       "text": [
        "\n",
        "iteration: 131 @ time: 39299.57100 s (10 h 54 min 59.571 s)"
       ]
      },
      {
       "output_type": "stream",
       "stream": "stdout",
       "text": [
        "\n",
        "acquiring signal (channel 1)\n",
        "acquiring ramp (channel 2)"
       ]
      },
      {
       "output_type": "stream",
       "stream": "stdout",
       "text": [
        "\n",
        "iteration: 132 @ time: 39599.54500 s (10 h 59 min 59.545 s)"
       ]
      },
      {
       "output_type": "stream",
       "stream": "stdout",
       "text": [
        "\n",
        "acquiring signal (channel 1)\n",
        "acquiring ramp (channel 2)"
       ]
      },
      {
       "output_type": "stream",
       "stream": "stdout",
       "text": [
        "\n",
        "iteration: 133 @ time: 39899.60500 s (11 h  4 min 59.605 s)"
       ]
      },
      {
       "output_type": "stream",
       "stream": "stdout",
       "text": [
        "\n",
        "acquiring signal (channel 1)\n",
        "acquiring ramp (channel 2)"
       ]
      },
      {
       "output_type": "stream",
       "stream": "stdout",
       "text": [
        "\n",
        "iteration: 134 @ time: 40199.55500 s (11 h  9 min 59.555 s)"
       ]
      },
      {
       "output_type": "stream",
       "stream": "stdout",
       "text": [
        "\n",
        "acquiring signal (channel 1)\n",
        "acquiring ramp (channel 2)"
       ]
      },
      {
       "output_type": "stream",
       "stream": "stdout",
       "text": [
        "\n",
        "iteration: 135 @ time: 40499.63300 s (11 h 14 min 59.633 s)"
       ]
      },
      {
       "output_type": "stream",
       "stream": "stdout",
       "text": [
        "\n",
        "acquiring signal (channel 1)\n",
        "acquiring ramp (channel 2)"
       ]
      },
      {
       "output_type": "stream",
       "stream": "stdout",
       "text": [
        "\n",
        "iteration: 136 @ time: 40799.59400 s (11 h 19 min 59.594 s)"
       ]
      },
      {
       "output_type": "stream",
       "stream": "stdout",
       "text": [
        "\n",
        "acquiring signal (channel 1)\n",
        "acquiring ramp (channel 2)"
       ]
      },
      {
       "output_type": "stream",
       "stream": "stdout",
       "text": [
        "\n",
        "iteration: 137 @ time: 41099.58200 s (11 h 24 min 59.582 s)"
       ]
      },
      {
       "output_type": "stream",
       "stream": "stdout",
       "text": [
        "\n",
        "acquiring signal (channel 1)\n",
        "acquiring ramp (channel 2)"
       ]
      },
      {
       "output_type": "stream",
       "stream": "stdout",
       "text": [
        "\n",
        "iteration: 138 @ time: 41399.54100 s (11 h 29 min 59.541 s)"
       ]
      },
      {
       "output_type": "stream",
       "stream": "stdout",
       "text": [
        "\n",
        "acquiring signal (channel 1)\n",
        "acquiring ramp (channel 2)"
       ]
      },
      {
       "output_type": "stream",
       "stream": "stdout",
       "text": [
        "\n",
        "iteration: 139 @ time: 41699.60100 s (11 h 34 min 59.601 s)"
       ]
      },
      {
       "output_type": "stream",
       "stream": "stdout",
       "text": [
        "\n",
        "acquiring signal (channel 1)\n",
        "acquiring ramp (channel 2)"
       ]
      },
      {
       "output_type": "stream",
       "stream": "stdout",
       "text": [
        "\n",
        "iteration: 140 @ time: 41999.54500 s (11 h 39 min 59.545 s)"
       ]
      },
      {
       "output_type": "stream",
       "stream": "stdout",
       "text": [
        "\n",
        "acquiring signal (channel 1)\n",
        "acquiring ramp (channel 2)"
       ]
      },
      {
       "output_type": "stream",
       "stream": "stdout",
       "text": [
        "\n",
        "iteration: 141 @ time: 42299.61600 s (11 h 44 min 59.616 s)"
       ]
      },
      {
       "output_type": "stream",
       "stream": "stdout",
       "text": [
        "\n",
        "acquiring signal (channel 1)\n",
        "acquiring ramp (channel 2)"
       ]
      },
      {
       "output_type": "stream",
       "stream": "stdout",
       "text": [
        "\n",
        "iteration: 142 @ time: 42599.61100 s (11 h 49 min 59.611 s)"
       ]
      },
      {
       "output_type": "stream",
       "stream": "stdout",
       "text": [
        "\n",
        "acquiring signal (channel 1)\n",
        "acquiring ramp (channel 2)"
       ]
      },
      {
       "output_type": "stream",
       "stream": "stdout",
       "text": [
        "\n",
        "iteration: 143 @ time: 42899.57300 s (11 h 54 min 59.573 s)"
       ]
      },
      {
       "output_type": "stream",
       "stream": "stdout",
       "text": [
        "\n",
        "acquiring signal (channel 1)\n",
        "acquiring ramp (channel 2)"
       ]
      },
      {
       "output_type": "stream",
       "stream": "stdout",
       "text": [
        "\n",
        "iteration: 144 @ time: 43199.55900 s (11 h 59 min 59.559 s)"
       ]
      },
      {
       "output_type": "stream",
       "stream": "stdout",
       "text": [
        "\n",
        "acquiring signal (channel 1)\n",
        "acquiring ramp (channel 2)"
       ]
      },
      {
       "output_type": "stream",
       "stream": "stdout",
       "text": [
        "\n",
        "iteration: 145 @ time: 43499.61400 s (12 h  4 min 59.614 s)"
       ]
      },
      {
       "output_type": "stream",
       "stream": "stdout",
       "text": [
        "\n",
        "acquiring signal (channel 1)\n",
        "acquiring ramp (channel 2)"
       ]
      },
      {
       "output_type": "stream",
       "stream": "stdout",
       "text": [
        "\n",
        "iteration: 146 @ time: 43799.58000 s (12 h  9 min 59.580 s)"
       ]
      },
      {
       "output_type": "stream",
       "stream": "stdout",
       "text": [
        "\n",
        "acquiring signal (channel 1)\n",
        "acquiring ramp (channel 2)"
       ]
      },
      {
       "output_type": "stream",
       "stream": "stdout",
       "text": [
        "\n",
        "iteration: 147 @ time: 44099.54600 s (12 h 14 min 59.546 s)"
       ]
      },
      {
       "output_type": "stream",
       "stream": "stdout",
       "text": [
        "\n",
        "acquiring signal (channel 1)\n",
        "acquiring ramp (channel 2)"
       ]
      },
      {
       "output_type": "stream",
       "stream": "stdout",
       "text": [
        "\n",
        "iteration: 148 @ time: 44399.62600 s (12 h 19 min 59.626 s)"
       ]
      },
      {
       "output_type": "stream",
       "stream": "stdout",
       "text": [
        "\n",
        "acquiring signal (channel 1)\n",
        "acquiring ramp (channel 2)"
       ]
      },
      {
       "output_type": "stream",
       "stream": "stdout",
       "text": [
        "\n",
        "iteration: 149 @ time: 44699.55900 s (12 h 24 min 59.559 s)"
       ]
      },
      {
       "output_type": "stream",
       "stream": "stdout",
       "text": [
        "\n",
        "acquiring signal (channel 1)\n",
        "acquiring ramp (channel 2)"
       ]
      },
      {
       "output_type": "stream",
       "stream": "stdout",
       "text": [
        "\n",
        "iteration: 150 @ time: 44999.63600 s (12 h 29 min 59.636 s)"
       ]
      },
      {
       "output_type": "stream",
       "stream": "stdout",
       "text": [
        "\n",
        "acquiring signal (channel 1)\n",
        "acquiring ramp (channel 2)"
       ]
      },
      {
       "output_type": "stream",
       "stream": "stdout",
       "text": [
        "\n",
        "iteration: 151 @ time: 45299.61300 s (12 h 34 min 59.613 s)"
       ]
      },
      {
       "output_type": "stream",
       "stream": "stdout",
       "text": [
        "\n",
        "acquiring signal (channel 1)\n",
        "acquiring ramp (channel 2)"
       ]
      },
      {
       "output_type": "stream",
       "stream": "stdout",
       "text": [
        "\n",
        "iteration: 152 @ time: 45599.59500 s (12 h 39 min 59.595 s)"
       ]
      },
      {
       "output_type": "stream",
       "stream": "stdout",
       "text": [
        "\n",
        "acquiring signal (channel 1)\n",
        "acquiring ramp (channel 2)"
       ]
      },
      {
       "output_type": "stream",
       "stream": "stdout",
       "text": [
        "\n",
        "iteration: 153 @ time: 45899.55300 s (12 h 44 min 59.553 s)"
       ]
      },
      {
       "output_type": "stream",
       "stream": "stdout",
       "text": [
        "\n",
        "acquiring signal (channel 1)\n",
        "acquiring ramp (channel 2)"
       ]
      },
      {
       "output_type": "stream",
       "stream": "stdout",
       "text": [
        "\n",
        "iteration: 154 @ time: 46199.63700 s (12 h 49 min 59.637 s)"
       ]
      },
      {
       "output_type": "stream",
       "stream": "stdout",
       "text": [
        "\n",
        "acquiring signal (channel 1)\n",
        "acquiring ramp (channel 2)"
       ]
      },
      {
       "output_type": "stream",
       "stream": "stdout",
       "text": [
        "\n",
        "iteration: 155 @ time: 46499.59700 s (12 h 54 min 59.597 s)"
       ]
      },
      {
       "output_type": "stream",
       "stream": "stdout",
       "text": [
        "\n",
        "acquiring signal (channel 1)\n",
        "acquiring ramp (channel 2)"
       ]
      },
      {
       "output_type": "stream",
       "stream": "stdout",
       "text": [
        "\n",
        "iteration: 156 @ time: 46799.56200 s (12 h 59 min 59.562 s)"
       ]
      },
      {
       "output_type": "stream",
       "stream": "stdout",
       "text": [
        "\n",
        "acquiring signal (channel 1)\n",
        "acquiring ramp (channel 2)"
       ]
      },
      {
       "output_type": "stream",
       "stream": "stdout",
       "text": [
        "\n",
        "iteration: 157 @ time: 47099.63100 s (13 h  4 min 59.631 s)"
       ]
      },
      {
       "output_type": "stream",
       "stream": "stdout",
       "text": [
        "\n",
        "acquiring signal (channel 1)\n",
        "acquiring ramp (channel 2)"
       ]
      },
      {
       "output_type": "stream",
       "stream": "stdout",
       "text": [
        "\n",
        "iteration: 158 @ time: 47399.59100 s (13 h  9 min 59.591 s)"
       ]
      },
      {
       "output_type": "stream",
       "stream": "stdout",
       "text": [
        "\n",
        "acquiring signal (channel 1)\n",
        "acquiring ramp (channel 2)"
       ]
      },
      {
       "output_type": "stream",
       "stream": "stdout",
       "text": [
        "\n",
        "iteration: 159 @ time: 47699.57000 s (13 h 14 min 59.570 s)"
       ]
      },
      {
       "output_type": "stream",
       "stream": "stdout",
       "text": [
        "\n",
        "acquiring signal (channel 1)\n",
        "acquiring ramp (channel 2)"
       ]
      },
      {
       "output_type": "stream",
       "stream": "stdout",
       "text": [
        "\n",
        "iteration: 160 @ time: 47999.63800 s (13 h 19 min 59.638 s)"
       ]
      },
      {
       "output_type": "stream",
       "stream": "stdout",
       "text": [
        "\n",
        "acquiring signal (channel 1)\n",
        "acquiring ramp (channel 2)"
       ]
      },
      {
       "output_type": "stream",
       "stream": "stdout",
       "text": [
        "\n",
        "iteration: 161 @ time: 48299.59000 s (13 h 24 min 59.590 s)"
       ]
      },
      {
       "output_type": "stream",
       "stream": "stdout",
       "text": [
        "\n",
        "acquiring signal (channel 1)\n",
        "acquiring ramp (channel 2)"
       ]
      },
      {
       "output_type": "stream",
       "stream": "stdout",
       "text": [
        "\n",
        "iteration: 162 @ time: 48599.56500 s (13 h 29 min 59.565 s)"
       ]
      },
      {
       "output_type": "stream",
       "stream": "stdout",
       "text": [
        "\n",
        "acquiring signal (channel 1)\n",
        "acquiring ramp (channel 2)"
       ]
      },
      {
       "output_type": "stream",
       "stream": "stdout",
       "text": [
        "\n",
        "iteration: 163 @ time: 48899.54600 s (13 h 34 min 59.546 s)"
       ]
      },
      {
       "output_type": "stream",
       "stream": "stdout",
       "text": [
        "\n",
        "acquiring signal (channel 1)\n",
        "acquiring ramp (channel 2)"
       ]
      },
      {
       "output_type": "stream",
       "stream": "stdout",
       "text": [
        "\n",
        "iteration: 164 @ time: 49199.58900 s (13 h 39 min 59.589 s)"
       ]
      },
      {
       "output_type": "stream",
       "stream": "stdout",
       "text": [
        "\n",
        "acquiring signal (channel 1)\n",
        "acquiring ramp (channel 2)"
       ]
      },
      {
       "output_type": "stream",
       "stream": "stdout",
       "text": [
        "\n",
        "iteration: 165 @ time: 49499.57100 s (13 h 44 min 59.571 s)"
       ]
      },
      {
       "output_type": "stream",
       "stream": "stdout",
       "text": [
        "\n",
        "acquiring signal (channel 1)\n",
        "acquiring ramp (channel 2)"
       ]
      },
      {
       "output_type": "stream",
       "stream": "stdout",
       "text": [
        "\n",
        "iteration: 166 @ time: 49799.54700 s (13 h 49 min 59.547 s)"
       ]
      },
      {
       "output_type": "stream",
       "stream": "stdout",
       "text": [
        "\n",
        "acquiring signal (channel 1)\n",
        "acquiring ramp (channel 2)"
       ]
      },
      {
       "output_type": "stream",
       "stream": "stdout",
       "text": [
        "\n",
        "iteration: 167 @ time: 50099.60500 s (13 h 54 min 59.605 s)"
       ]
      },
      {
       "output_type": "stream",
       "stream": "stdout",
       "text": [
        "\n",
        "acquiring signal (channel 1)\n",
        "acquiring ramp (channel 2)"
       ]
      },
      {
       "output_type": "stream",
       "stream": "stdout",
       "text": [
        "\n",
        "iteration: 168 @ time: 50399.58000 s (13 h 59 min 59.580 s)"
       ]
      },
      {
       "output_type": "stream",
       "stream": "stdout",
       "text": [
        "\n",
        "acquiring signal (channel 1)\n",
        "acquiring ramp (channel 2)"
       ]
      },
      {
       "output_type": "stream",
       "stream": "stdout",
       "text": [
        "\n",
        "iteration: 169 @ time: 50699.64000 s (14 h  4 min 59.640 s)"
       ]
      },
      {
       "output_type": "stream",
       "stream": "stdout",
       "text": [
        "\n",
        "acquiring signal (channel 1)\n",
        "acquiring ramp (channel 2)"
       ]
      },
      {
       "output_type": "stream",
       "stream": "stdout",
       "text": [
        "\n",
        "iteration: 170 @ time: 50999.60500 s (14 h  9 min 59.605 s)"
       ]
      },
      {
       "output_type": "stream",
       "stream": "stdout",
       "text": [
        "\n",
        "acquiring signal (channel 1)\n",
        "acquiring ramp (channel 2)"
       ]
      },
      {
       "output_type": "stream",
       "stream": "stdout",
       "text": [
        "\n",
        "iteration: 171 @ time: 51299.58300 s (14 h 14 min 59.583 s)"
       ]
      },
      {
       "output_type": "stream",
       "stream": "stdout",
       "text": [
        "\n",
        "acquiring signal (channel 1)\n",
        "acquiring ramp (channel 2)"
       ]
      },
      {
       "output_type": "stream",
       "stream": "stdout",
       "text": [
        "\n",
        "iteration: 172 @ time: 51599.56000 s (14 h 19 min 59.560 s)"
       ]
      },
      {
       "output_type": "stream",
       "stream": "stdout",
       "text": [
        "\n",
        "acquiring signal (channel 1)\n",
        "acquiring ramp (channel 2)"
       ]
      },
      {
       "output_type": "stream",
       "stream": "stdout",
       "text": [
        "\n",
        "iteration: 173 @ time: 51899.61300 s (14 h 24 min 59.613 s)"
       ]
      },
      {
       "output_type": "stream",
       "stream": "stdout",
       "text": [
        "\n",
        "acquiring signal (channel 1)\n",
        "acquiring ramp (channel 2)"
       ]
      },
      {
       "output_type": "stream",
       "stream": "stdout",
       "text": [
        "\n",
        "iteration: 174 @ time: 52199.57400 s (14 h 29 min 59.574 s)"
       ]
      },
      {
       "output_type": "stream",
       "stream": "stdout",
       "text": [
        "\n",
        "acquiring signal (channel 1)\n",
        "acquiring ramp (channel 2)"
       ]
      },
      {
       "output_type": "stream",
       "stream": "stdout",
       "text": [
        "\n",
        "iteration: 175 @ time: 52499.56200 s (14 h 34 min 59.562 s)"
       ]
      },
      {
       "output_type": "stream",
       "stream": "stdout",
       "text": [
        "\n",
        "acquiring signal (channel 1)\n",
        "acquiring ramp (channel 2)"
       ]
      },
      {
       "output_type": "stream",
       "stream": "stdout",
       "text": [
        "\n",
        "iteration: 176 @ time: 52799.62300 s (14 h 39 min 59.623 s)"
       ]
      },
      {
       "output_type": "stream",
       "stream": "stdout",
       "text": [
        "\n",
        "acquiring signal (channel 1)\n",
        "acquiring ramp (channel 2)"
       ]
      },
      {
       "output_type": "stream",
       "stream": "stdout",
       "text": [
        "\n",
        "iteration: 177 @ time: 53099.58400 s (14 h 44 min 59.584 s)"
       ]
      },
      {
       "output_type": "stream",
       "stream": "stdout",
       "text": [
        "\n",
        "acquiring signal (channel 1)\n",
        "acquiring ramp (channel 2)"
       ]
      },
      {
       "output_type": "stream",
       "stream": "stdout",
       "text": [
        "\n",
        "iteration: 178 @ time: 53399.56400 s (14 h 49 min 59.564 s)"
       ]
      },
      {
       "output_type": "stream",
       "stream": "stdout",
       "text": [
        "\n",
        "acquiring signal (channel 1)\n",
        "acquiring ramp (channel 2)"
       ]
      },
      {
       "output_type": "stream",
       "stream": "stdout",
       "text": [
        "\n",
        "iteration: 179 @ time: 53699.59500 s (14 h 54 min 59.595 s)"
       ]
      },
      {
       "output_type": "stream",
       "stream": "stdout",
       "text": [
        "\n",
        "acquiring signal (channel 1)\n",
        "acquiring ramp (channel 2)"
       ]
      },
      {
       "output_type": "stream",
       "stream": "stdout",
       "text": [
        "\n",
        "iteration: 180 @ time: 53999.57800 s (14 h 59 min 59.578 s)"
       ]
      },
      {
       "output_type": "stream",
       "stream": "stdout",
       "text": [
        "\n",
        "acquiring signal (channel 1)\n",
        "acquiring ramp (channel 2)"
       ]
      },
      {
       "output_type": "stream",
       "stream": "stdout",
       "text": [
        "\n",
        "iteration: 181 @ time: 54299.55300 s (15 h  4 min 59.553 s)"
       ]
      },
      {
       "output_type": "stream",
       "stream": "stdout",
       "text": [
        "\n",
        "acquiring signal (channel 1)\n",
        "acquiring ramp (channel 2)"
       ]
      },
      {
       "output_type": "stream",
       "stream": "stdout",
       "text": [
        "\n",
        "iteration: 182 @ time: 54599.62000 s (15 h  9 min 59.620 s)"
       ]
      },
      {
       "output_type": "stream",
       "stream": "stdout",
       "text": [
        "\n",
        "acquiring signal (channel 1)\n",
        "acquiring ramp (channel 2)"
       ]
      },
      {
       "output_type": "stream",
       "stream": "stdout",
       "text": [
        "\n",
        "iteration: 183 @ time: 54899.59800 s (15 h 14 min 59.598 s)"
       ]
      },
      {
       "output_type": "stream",
       "stream": "stdout",
       "text": [
        "\n",
        "acquiring signal (channel 1)\n",
        "acquiring ramp (channel 2)"
       ]
      },
      {
       "output_type": "stream",
       "stream": "stdout",
       "text": [
        "\n",
        "iteration: 184 @ time: 55199.55900 s (15 h 19 min 59.559 s)"
       ]
      },
      {
       "output_type": "stream",
       "stream": "stdout",
       "text": [
        "\n",
        "acquiring signal (channel 1)\n",
        "acquiring ramp (channel 2)"
       ]
      },
      {
       "output_type": "stream",
       "stream": "stdout",
       "text": [
        "\n",
        "iteration: 185 @ time: 55499.54300 s (15 h 24 min 59.543 s)"
       ]
      },
      {
       "output_type": "stream",
       "stream": "stdout",
       "text": [
        "\n",
        "acquiring signal (channel 1)\n",
        "acquiring ramp (channel 2)"
       ]
      },
      {
       "output_type": "stream",
       "stream": "stdout",
       "text": [
        "\n",
        "iteration: 186 @ time: 55799.60800 s (15 h 29 min 59.608 s)"
       ]
      },
      {
       "output_type": "stream",
       "stream": "stdout",
       "text": [
        "\n",
        "acquiring signal (channel 1)\n",
        "acquiring ramp (channel 2)"
       ]
      },
      {
       "output_type": "stream",
       "stream": "stdout",
       "text": [
        "\n",
        "iteration: 187 @ time: 56099.54900 s (15 h 34 min 59.549 s)"
       ]
      },
      {
       "output_type": "stream",
       "stream": "stdout",
       "text": [
        "\n",
        "acquiring signal (channel 1)\n",
        "acquiring ramp (channel 2)"
       ]
      },
      {
       "output_type": "stream",
       "stream": "stdout",
       "text": [
        "\n",
        "iteration: 188 @ time: 56399.63200 s (15 h 39 min 59.632 s)"
       ]
      },
      {
       "output_type": "stream",
       "stream": "stdout",
       "text": [
        "\n",
        "acquiring signal (channel 1)\n",
        "acquiring ramp (channel 2)"
       ]
      },
      {
       "output_type": "stream",
       "stream": "stdout",
       "text": [
        "\n",
        "iteration: 189 @ time: 56699.60700 s (15 h 44 min 59.607 s)"
       ]
      },
      {
       "output_type": "stream",
       "stream": "stdout",
       "text": [
        "\n",
        "acquiring signal (channel 1)\n",
        "acquiring ramp (channel 2)"
       ]
      },
      {
       "output_type": "stream",
       "stream": "stdout",
       "text": [
        "\n",
        "iteration: 190 @ time: 56999.57200 s (15 h 49 min 59.572 s)"
       ]
      },
      {
       "output_type": "stream",
       "stream": "stdout",
       "text": [
        "\n",
        "acquiring signal (channel 1)\n",
        "acquiring ramp (channel 2)"
       ]
      },
      {
       "output_type": "stream",
       "stream": "stdout",
       "text": [
        "\n",
        "iteration: 191 @ time: 57299.54300 s (15 h 54 min 59.543 s)"
       ]
      },
      {
       "output_type": "stream",
       "stream": "stdout",
       "text": [
        "\n",
        "acquiring signal (channel 1)\n",
        "acquiring ramp (channel 2)"
       ]
      },
      {
       "output_type": "stream",
       "stream": "stdout",
       "text": [
        "\n",
        "iteration: 192 @ time: 57599.60100 s (15 h 59 min 59.601 s)"
       ]
      },
      {
       "output_type": "stream",
       "stream": "stdout",
       "text": [
        "\n",
        "acquiring signal (channel 1)\n",
        "acquiring ramp (channel 2)"
       ]
      },
      {
       "output_type": "stream",
       "stream": "stdout",
       "text": [
        "\n",
        "iteration: 193 @ time: 57899.58600 s (16 h  4 min 59.586 s)"
       ]
      },
      {
       "output_type": "stream",
       "stream": "stdout",
       "text": [
        "\n",
        "acquiring signal (channel 1)\n",
        "acquiring ramp (channel 2)"
       ]
      },
      {
       "output_type": "stream",
       "stream": "stdout",
       "text": [
        "\n",
        "iteration: 194 @ time: 58199.54800 s (16 h  9 min 59.548 s)"
       ]
      },
      {
       "output_type": "stream",
       "stream": "stdout",
       "text": [
        "\n",
        "acquiring signal (channel 1)\n",
        "acquiring ramp (channel 2)"
       ]
      },
      {
       "output_type": "stream",
       "stream": "stdout",
       "text": [
        "\n",
        "iteration: 195 @ time: 58499.61100 s (16 h 14 min 59.611 s)"
       ]
      },
      {
       "output_type": "stream",
       "stream": "stdout",
       "text": [
        "\n",
        "acquiring signal (channel 1)\n",
        "acquiring ramp (channel 2)"
       ]
      },
      {
       "output_type": "stream",
       "stream": "stdout",
       "text": [
        "\n",
        "iteration: 196 @ time: 58799.57200 s (16 h 19 min 59.572 s)"
       ]
      },
      {
       "output_type": "stream",
       "stream": "stdout",
       "text": [
        "\n",
        "acquiring signal (channel 1)\n",
        "acquiring ramp (channel 2)"
       ]
      },
      {
       "output_type": "stream",
       "stream": "stdout",
       "text": [
        "\n",
        "iteration: 197 @ time: 59099.63700 s (16 h 24 min 59.637 s)"
       ]
      },
      {
       "output_type": "stream",
       "stream": "stdout",
       "text": [
        "\n",
        "acquiring signal (channel 1)\n",
        "acquiring ramp (channel 2)"
       ]
      },
      {
       "output_type": "stream",
       "stream": "stdout",
       "text": [
        "\n",
        "iteration: 198 @ time: 59399.59900 s (16 h 29 min 59.599 s)"
       ]
      },
      {
       "output_type": "stream",
       "stream": "stdout",
       "text": [
        "\n",
        "acquiring signal (channel 1)\n",
        "acquiring ramp (channel 2)"
       ]
      },
      {
       "output_type": "stream",
       "stream": "stdout",
       "text": [
        "\n",
        "iteration: 199 @ time: 59699.56900 s (16 h 34 min 59.569 s)"
       ]
      },
      {
       "output_type": "stream",
       "stream": "stdout",
       "text": [
        "\n",
        "acquiring signal (channel 1)\n",
        "acquiring ramp (channel 2)"
       ]
      },
      {
       "output_type": "stream",
       "stream": "stdout",
       "text": [
        "\n",
        "iteration: 200 @ time: 59999.54100 s (16 h 39 min 59.541 s)"
       ]
      },
      {
       "output_type": "stream",
       "stream": "stdout",
       "text": [
        "\n",
        "acquiring signal (channel 1)\n",
        "acquiring ramp (channel 2)"
       ]
      },
      {
       "output_type": "stream",
       "stream": "stdout",
       "text": [
        "\n",
        "iteration: 201 @ time: 60299.61500 s (16 h 44 min 59.615 s)"
       ]
      },
      {
       "output_type": "stream",
       "stream": "stdout",
       "text": [
        "\n",
        "acquiring signal (channel 1)\n",
        "acquiring ramp (channel 2)"
       ]
      },
      {
       "output_type": "stream",
       "stream": "stdout",
       "text": [
        "\n",
        "iteration: 202 @ time: 60599.59000 s (16 h 49 min 59.590 s)"
       ]
      },
      {
       "output_type": "stream",
       "stream": "stdout",
       "text": [
        "\n",
        "acquiring signal (channel 1)\n",
        "acquiring ramp (channel 2)"
       ]
      },
      {
       "output_type": "stream",
       "stream": "stdout",
       "text": [
        "\n",
        "iteration: 203 @ time: 60899.55400 s (16 h 54 min 59.554 s)"
       ]
      },
      {
       "output_type": "stream",
       "stream": "stdout",
       "text": [
        "\n",
        "acquiring signal (channel 1)\n",
        "acquiring ramp (channel 2)"
       ]
      },
      {
       "output_type": "stream",
       "stream": "stdout",
       "text": [
        "\n",
        "iteration: 204 @ time: 61199.63200 s (16 h 59 min 59.632 s)"
       ]
      },
      {
       "output_type": "stream",
       "stream": "stdout",
       "text": [
        "\n",
        "acquiring signal (channel 1)\n",
        "acquiring ramp (channel 2)"
       ]
      },
      {
       "output_type": "stream",
       "stream": "stdout",
       "text": [
        "\n",
        "iteration: 205 @ time: 61499.59300 s (17 h  4 min 59.593 s)"
       ]
      },
      {
       "output_type": "stream",
       "stream": "stdout",
       "text": [
        "\n",
        "acquiring signal (channel 1)\n",
        "acquiring ramp (channel 2)"
       ]
      },
      {
       "output_type": "stream",
       "stream": "stdout",
       "text": [
        "\n",
        "iteration: 206 @ time: 61799.55800 s (17 h  9 min 59.558 s)"
       ]
      },
      {
       "output_type": "stream",
       "stream": "stdout",
       "text": [
        "\n",
        "acquiring signal (channel 1)\n",
        "acquiring ramp (channel 2)"
       ]
      },
      {
       "output_type": "stream",
       "stream": "stdout",
       "text": [
        "\n",
        "iteration: 207 @ time: 62099.59400 s (17 h 14 min 59.594 s)"
       ]
      },
      {
       "output_type": "stream",
       "stream": "stdout",
       "text": [
        "\n",
        "acquiring signal (channel 1)\n",
        "acquiring ramp (channel 2)"
       ]
      },
      {
       "output_type": "stream",
       "stream": "stdout",
       "text": [
        "\n",
        "iteration: 208 @ time: 62399.59500 s (17 h 19 min 59.595 s)"
       ]
      },
      {
       "output_type": "stream",
       "stream": "stdout",
       "text": [
        "\n",
        "acquiring signal (channel 1)\n",
        "acquiring ramp (channel 2)"
       ]
      },
      {
       "output_type": "stream",
       "stream": "stdout",
       "text": [
        "\n",
        "iteration: 209 @ time: 62699.56700 s (17 h 24 min 59.567 s)"
       ]
      },
      {
       "output_type": "stream",
       "stream": "stdout",
       "text": [
        "\n",
        "acquiring signal (channel 1)\n",
        "acquiring ramp (channel 2)"
       ]
      },
      {
       "output_type": "stream",
       "stream": "stdout",
       "text": [
        "\n",
        "iteration: 210 @ time: 62999.63000 s (17 h 29 min 59.630 s)"
       ]
      },
      {
       "output_type": "stream",
       "stream": "stdout",
       "text": [
        "\n",
        "acquiring signal (channel 1)\n",
        "acquiring ramp (channel 2)"
       ]
      },
      {
       "output_type": "stream",
       "stream": "stdout",
       "text": [
        "\n",
        "iteration: 211 @ time: 63299.59200 s (17 h 34 min 59.592 s)"
       ]
      },
      {
       "output_type": "stream",
       "stream": "stdout",
       "text": [
        "\n",
        "acquiring signal (channel 1)\n",
        "acquiring ramp (channel 2)"
       ]
      },
      {
       "output_type": "stream",
       "stream": "stdout",
       "text": [
        "\n",
        "iteration: 212 @ time: 63599.55600 s (17 h 39 min 59.556 s)"
       ]
      },
      {
       "output_type": "stream",
       "stream": "stdout",
       "text": [
        "\n",
        "acquiring signal (channel 1)\n",
        "acquiring ramp (channel 2)"
       ]
      },
      {
       "output_type": "stream",
       "stream": "stdout",
       "text": [
        "\n",
        "iteration: 213 @ time: 63899.62700 s (17 h 44 min 59.627 s)"
       ]
      },
      {
       "output_type": "stream",
       "stream": "stdout",
       "text": [
        "\n",
        "acquiring signal (channel 1)\n",
        "acquiring ramp (channel 2)"
       ]
      },
      {
       "output_type": "stream",
       "stream": "stdout",
       "text": [
        "\n",
        "iteration: 214 @ time: 64199.60200 s (17 h 49 min 59.602 s)"
       ]
      },
      {
       "output_type": "stream",
       "stream": "stdout",
       "text": [
        "\n",
        "acquiring signal (channel 1)\n",
        "acquiring ramp (channel 2)"
       ]
      },
      {
       "output_type": "stream",
       "stream": "stdout",
       "text": [
        "\n",
        "iteration: 215 @ time: 64499.57400 s (17 h 54 min 59.574 s)"
       ]
      },
      {
       "output_type": "stream",
       "stream": "stdout",
       "text": [
        "\n",
        "acquiring signal (channel 1)\n",
        "acquiring ramp (channel 2)"
       ]
      },
      {
       "output_type": "stream",
       "stream": "stdout",
       "text": [
        "\n",
        "iteration: 216 @ time: 64799.54600 s (17 h 59 min 59.546 s)"
       ]
      },
      {
       "output_type": "stream",
       "stream": "stdout",
       "text": [
        "\n",
        "acquiring signal (channel 1)\n",
        "acquiring ramp (channel 2)"
       ]
      },
      {
       "output_type": "stream",
       "stream": "stdout",
       "text": [
        "\n",
        "iteration: 217 @ time: 65099.60700 s (18 h  4 min 59.607 s)"
       ]
      },
      {
       "output_type": "stream",
       "stream": "stdout",
       "text": [
        "\n",
        "acquiring signal (channel 1)\n",
        "acquiring ramp (channel 2)"
       ]
      },
      {
       "output_type": "stream",
       "stream": "stdout",
       "text": [
        "\n",
        "iteration: 218 @ time: 65399.56900 s (18 h  9 min 59.569 s)"
       ]
      },
      {
       "output_type": "stream",
       "stream": "stdout",
       "text": [
        "\n",
        "acquiring signal (channel 1)\n",
        "acquiring ramp (channel 2)"
       ]
      },
      {
       "output_type": "stream",
       "stream": "stdout",
       "text": [
        "\n",
        "iteration: 219 @ time: 65699.55500 s (18 h 14 min 59.555 s)"
       ]
      },
      {
       "output_type": "stream",
       "stream": "stdout",
       "text": [
        "\n",
        "acquiring signal (channel 1)\n",
        "acquiring ramp (channel 2)"
       ]
      },
      {
       "output_type": "stream",
       "stream": "stdout",
       "text": [
        "\n",
        "iteration: 220 @ time: 65999.61300 s (18 h 19 min 59.613 s)"
       ]
      },
      {
       "output_type": "stream",
       "stream": "stdout",
       "text": [
        "\n",
        "acquiring signal (channel 1)\n",
        "acquiring ramp (channel 2)"
       ]
      },
      {
       "output_type": "stream",
       "stream": "stdout",
       "text": [
        "\n",
        "iteration: 221 @ time: 66299.58800 s (18 h 24 min 59.588 s)"
       ]
      },
      {
       "output_type": "stream",
       "stream": "stdout",
       "text": [
        "\n",
        "acquiring signal (channel 1)\n",
        "acquiring ramp (channel 2)"
       ]
      },
      {
       "output_type": "stream",
       "stream": "stdout",
       "text": [
        "\n",
        "iteration: 222 @ time: 66599.62500 s (18 h 29 min 59.625 s)"
       ]
      },
      {
       "output_type": "stream",
       "stream": "stdout",
       "text": [
        "\n",
        "acquiring signal (channel 1)\n",
        "acquiring ramp (channel 2)"
       ]
      },
      {
       "output_type": "stream",
       "stream": "stdout",
       "text": [
        "\n",
        "iteration: 223 @ time: 66899.60300 s (18 h 34 min 59.603 s)"
       ]
      },
      {
       "output_type": "stream",
       "stream": "stdout",
       "text": [
        "\n",
        "acquiring signal (channel 1)\n",
        "acquiring ramp (channel 2)"
       ]
      },
      {
       "output_type": "stream",
       "stream": "stdout",
       "text": [
        "\n",
        "iteration: 224 @ time: 67199.58500 s (18 h 39 min 59.585 s)"
       ]
      },
      {
       "output_type": "stream",
       "stream": "stdout",
       "text": [
        "\n",
        "acquiring signal (channel 1)\n",
        "acquiring ramp (channel 2)"
       ]
      },
      {
       "output_type": "stream",
       "stream": "stdout",
       "text": [
        "\n",
        "iteration: 225 @ time: 67499.54500 s (18 h 44 min 59.545 s)"
       ]
      },
      {
       "output_type": "stream",
       "stream": "stdout",
       "text": [
        "\n",
        "acquiring signal (channel 1)\n",
        "acquiring ramp (channel 2)"
       ]
      },
      {
       "output_type": "stream",
       "stream": "stdout",
       "text": [
        "\n",
        "iteration: 226 @ time: 67799.61100 s (18 h 49 min 59.611 s)"
       ]
      },
      {
       "output_type": "stream",
       "stream": "stdout",
       "text": [
        "\n",
        "acquiring signal (channel 1)\n",
        "acquiring ramp (channel 2)"
       ]
      },
      {
       "output_type": "stream",
       "stream": "stdout",
       "text": [
        "\n",
        "iteration: 227 @ time: 68099.58000 s (18 h 54 min 59.580 s)"
       ]
      },
      {
       "output_type": "stream",
       "stream": "stdout",
       "text": [
        "\n",
        "acquiring signal (channel 1)\n",
        "acquiring ramp (channel 2)"
       ]
      },
      {
       "output_type": "stream",
       "stream": "stdout",
       "text": [
        "\n",
        "iteration: 228 @ time: 68399.55900 s (18 h 59 min 59.559 s)"
       ]
      },
      {
       "output_type": "stream",
       "stream": "stdout",
       "text": [
        "\n",
        "acquiring signal (channel 1)\n",
        "acquiring ramp (channel 2)"
       ]
      },
      {
       "output_type": "stream",
       "stream": "stdout",
       "text": [
        "\n",
        "iteration: 229 @ time: 68699.62000 s (19 h  4 min 59.620 s)"
       ]
      },
      {
       "output_type": "stream",
       "stream": "stdout",
       "text": [
        "\n",
        "acquiring signal (channel 1)\n",
        "acquiring ramp (channel 2)"
       ]
      },
      {
       "output_type": "stream",
       "stream": "stdout",
       "text": [
        "\n",
        "iteration: 230 @ time: 68999.58300 s (19 h  9 min 59.583 s)"
       ]
      },
      {
       "output_type": "stream",
       "stream": "stdout",
       "text": [
        "\n",
        "acquiring signal (channel 1)\n",
        "acquiring ramp (channel 2)"
       ]
      },
      {
       "output_type": "stream",
       "stream": "stdout",
       "text": [
        "\n",
        "iteration: 231 @ time: 69299.55900 s (19 h 14 min 59.559 s)"
       ]
      },
      {
       "output_type": "stream",
       "stream": "stdout",
       "text": [
        "\n",
        "acquiring signal (channel 1)\n",
        "acquiring ramp (channel 2)"
       ]
      },
      {
       "output_type": "stream",
       "stream": "stdout",
       "text": [
        "\n",
        "iteration: 232 @ time: 69599.59600 s (19 h 19 min 59.596 s)"
       ]
      },
      {
       "output_type": "stream",
       "stream": "stdout",
       "text": [
        "\n",
        "acquiring signal (channel 1)\n",
        "acquiring ramp (channel 2)"
       ]
      },
      {
       "output_type": "stream",
       "stream": "stdout",
       "text": [
        "\n",
        "iteration: 233 @ time: 69899.59400 s (19 h 24 min 59.594 s)"
       ]
      },
      {
       "output_type": "stream",
       "stream": "stdout",
       "text": [
        "\n",
        "acquiring signal (channel 1)\n",
        "acquiring ramp (channel 2)"
       ]
      },
      {
       "output_type": "stream",
       "stream": "stdout",
       "text": [
        "\n",
        "iteration: 234 @ time: 70199.55300 s (19 h 29 min 59.553 s)"
       ]
      },
      {
       "output_type": "stream",
       "stream": "stdout",
       "text": [
        "\n",
        "acquiring signal (channel 1)\n",
        "acquiring ramp (channel 2)"
       ]
      },
      {
       "output_type": "stream",
       "stream": "stdout",
       "text": [
        "\n",
        "iteration: 235 @ time: 70499.63100 s (19 h 34 min 59.631 s)"
       ]
      },
      {
       "output_type": "stream",
       "stream": "stdout",
       "text": [
        "\n",
        "acquiring signal (channel 1)\n",
        "acquiring ramp (channel 2)"
       ]
      },
      {
       "output_type": "stream",
       "stream": "stdout",
       "text": [
        "\n",
        "iteration: 236 @ time: 70799.59900 s (19 h 39 min 59.599 s)"
       ]
      },
      {
       "output_type": "stream",
       "stream": "stdout",
       "text": [
        "\n",
        "acquiring signal (channel 1)\n",
        "acquiring ramp (channel 2)"
       ]
      },
      {
       "output_type": "stream",
       "stream": "stdout",
       "text": [
        "\n",
        "iteration: 237 @ time: 71099.56200 s (19 h 44 min 59.562 s)"
       ]
      },
      {
       "output_type": "stream",
       "stream": "stdout",
       "text": [
        "\n",
        "acquiring signal (channel 1)\n",
        "acquiring ramp (channel 2)"
       ]
      },
      {
       "output_type": "stream",
       "stream": "stdout",
       "text": [
        "\n",
        "iteration: 238 @ time: 71399.60400 s (19 h 49 min 59.604 s)"
       ]
      },
      {
       "output_type": "stream",
       "stream": "stdout",
       "text": [
        "\n",
        "acquiring signal (channel 1)\n",
        "acquiring ramp (channel 2)"
       ]
      },
      {
       "output_type": "stream",
       "stream": "stdout",
       "text": [
        "\n",
        "iteration: 239 @ time: 71699.58100 s (19 h 54 min 59.581 s)"
       ]
      },
      {
       "output_type": "stream",
       "stream": "stdout",
       "text": [
        "\n",
        "acquiring signal (channel 1)\n",
        "acquiring ramp (channel 2)"
       ]
      },
      {
       "output_type": "stream",
       "stream": "stdout",
       "text": [
        "\n",
        "iteration: 240 @ time: 71999.56400 s (19 h 59 min 59.564 s)"
       ]
      },
      {
       "output_type": "stream",
       "stream": "stdout",
       "text": [
        "\n",
        "acquiring signal (channel 1)\n",
        "acquiring ramp (channel 2)"
       ]
      },
      {
       "output_type": "stream",
       "stream": "stdout",
       "text": [
        "\n",
        "iteration: 241 @ time: 72299.63500 s (20 h  4 min 59.635 s)"
       ]
      },
      {
       "output_type": "stream",
       "stream": "stdout",
       "text": [
        "\n",
        "acquiring signal (channel 1)\n",
        "acquiring ramp (channel 2)"
       ]
      },
      {
       "output_type": "stream",
       "stream": "stdout",
       "text": [
        "\n",
        "iteration: 242 @ time: 72599.60600 s (20 h  9 min 59.606 s)"
       ]
      },
      {
       "output_type": "stream",
       "stream": "stdout",
       "text": [
        "\n",
        "acquiring signal (channel 1)\n",
        "acquiring ramp (channel 2)"
       ]
      },
      {
       "output_type": "stream",
       "stream": "stdout",
       "text": [
        "\n",
        "iteration: 243 @ time: 72899.54200 s (20 h 14 min 59.542 s)"
       ]
      },
      {
       "output_type": "stream",
       "stream": "stdout",
       "text": [
        "\n",
        "acquiring signal (channel 1)\n",
        "acquiring ramp (channel 2)"
       ]
      },
      {
       "output_type": "stream",
       "stream": "stdout",
       "text": [
        "\n",
        "iteration: 244 @ time: 73199.62100 s (20 h 19 min 59.621 s)"
       ]
      },
      {
       "output_type": "stream",
       "stream": "stdout",
       "text": [
        "\n",
        "acquiring signal (channel 1)\n",
        "acquiring ramp (channel 2)"
       ]
      },
      {
       "output_type": "stream",
       "stream": "stdout",
       "text": [
        "\n",
        "iteration: 245 @ time: 73499.60300 s (20 h 24 min 59.603 s)"
       ]
      },
      {
       "output_type": "stream",
       "stream": "stdout",
       "text": [
        "\n",
        "acquiring signal (channel 1)\n",
        "acquiring ramp (channel 2)"
       ]
      },
      {
       "output_type": "stream",
       "stream": "stdout",
       "text": [
        "\n",
        "iteration: 246 @ time: 73799.56100 s (20 h 29 min 59.561 s)"
       ]
      },
      {
       "output_type": "stream",
       "stream": "stdout",
       "text": [
        "\n",
        "acquiring signal (channel 1)\n",
        "acquiring ramp (channel 2)"
       ]
      },
      {
       "output_type": "stream",
       "stream": "stdout",
       "text": [
        "\n",
        "iteration: 247 @ time: 74099.63400 s (20 h 34 min 59.634 s)"
       ]
      },
      {
       "output_type": "stream",
       "stream": "stdout",
       "text": [
        "\n",
        "acquiring signal (channel 1)\n",
        "acquiring ramp (channel 2)"
       ]
      },
      {
       "output_type": "stream",
       "stream": "stdout",
       "text": [
        "\n",
        "iteration: 248 @ time: 74399.61000 s (20 h 39 min 59.610 s)"
       ]
      },
      {
       "output_type": "stream",
       "stream": "stdout",
       "text": [
        "\n",
        "acquiring signal (channel 1)\n",
        "acquiring ramp (channel 2)"
       ]
      },
      {
       "output_type": "stream",
       "stream": "stdout",
       "text": [
        "\n",
        "iteration: 249 @ time: 74699.57400 s (20 h 44 min 59.574 s)"
       ]
      },
      {
       "output_type": "stream",
       "stream": "stdout",
       "text": [
        "\n",
        "acquiring signal (channel 1)\n",
        "acquiring ramp (channel 2)"
       ]
      },
      {
       "output_type": "stream",
       "stream": "stdout",
       "text": [
        "\n",
        "iteration: 250 @ time: 74999.55500 s (20 h 49 min 59.555 s)"
       ]
      },
      {
       "output_type": "stream",
       "stream": "stdout",
       "text": [
        "\n",
        "acquiring signal (channel 1)\n",
        "acquiring ramp (channel 2)"
       ]
      },
      {
       "output_type": "stream",
       "stream": "stdout",
       "text": [
        "\n",
        "iteration: 251 @ time: 75299.58500 s (20 h 54 min 59.585 s)"
       ]
      },
      {
       "output_type": "stream",
       "stream": "stdout",
       "text": [
        "\n",
        "acquiring signal (channel 1)\n",
        "acquiring ramp (channel 2)"
       ]
      },
      {
       "output_type": "stream",
       "stream": "stdout",
       "text": [
        "\n",
        "iteration: 252 @ time: 75599.58700 s (20 h 59 min 59.587 s)"
       ]
      },
      {
       "output_type": "stream",
       "stream": "stdout",
       "text": [
        "\n",
        "acquiring signal (channel 1)\n",
        "acquiring ramp (channel 2)"
       ]
      },
      {
       "output_type": "stream",
       "stream": "stdout",
       "text": [
        "\n",
        "iteration: 253 @ time: 75899.56400 s (21 h  4 min 59.564 s)"
       ]
      },
      {
       "output_type": "stream",
       "stream": "stdout",
       "text": [
        "\n",
        "acquiring signal (channel 1)\n",
        "acquiring ramp (channel 2)"
       ]
      },
      {
       "output_type": "stream",
       "stream": "stdout",
       "text": [
        "\n",
        "iteration: 254 @ time: 76199.62400 s (21 h  9 min 59.624 s)"
       ]
      },
      {
       "output_type": "stream",
       "stream": "stdout",
       "text": [
        "\n",
        "acquiring signal (channel 1)\n",
        "acquiring ramp (channel 2)"
       ]
      },
      {
       "output_type": "stream",
       "stream": "stdout",
       "text": [
        "\n",
        "iteration: 255 @ time: 76499.58500 s (21 h 14 min 59.585 s)"
       ]
      },
      {
       "output_type": "stream",
       "stream": "stdout",
       "text": [
        "\n",
        "acquiring signal (channel 1)\n",
        "acquiring ramp (channel 2)"
       ]
      },
      {
       "output_type": "stream",
       "stream": "stdout",
       "text": [
        "\n",
        "iteration: 256 @ time: 76799.55100 s (21 h 19 min 59.551 s)"
       ]
      },
      {
       "output_type": "stream",
       "stream": "stdout",
       "text": [
        "\n",
        "acquiring signal (channel 1)\n",
        "acquiring ramp (channel 2)"
       ]
      },
      {
       "output_type": "stream",
       "stream": "stdout",
       "text": [
        "\n",
        "iteration: 257 @ time: 77099.61700 s (21 h 24 min 59.617 s)"
       ]
      },
      {
       "output_type": "stream",
       "stream": "stdout",
       "text": [
        "\n",
        "acquiring signal (channel 1)\n",
        "acquiring ramp (channel 2)"
       ]
      },
      {
       "output_type": "stream",
       "stream": "stdout",
       "text": [
        "\n",
        "iteration: 258 @ time: 77399.58600 s (21 h 29 min 59.586 s)"
       ]
      },
      {
       "output_type": "stream",
       "stream": "stdout",
       "text": [
        "\n",
        "acquiring signal (channel 1)\n",
        "acquiring ramp (channel 2)"
       ]
      },
      {
       "output_type": "stream",
       "stream": "stdout",
       "text": [
        "\n",
        "iteration: 259 @ time: 77699.56100 s (21 h 34 min 59.561 s)"
       ]
      },
      {
       "output_type": "stream",
       "stream": "stdout",
       "text": [
        "\n",
        "acquiring signal (channel 1)\n",
        "acquiring ramp (channel 2)"
       ]
      },
      {
       "output_type": "stream",
       "stream": "stdout",
       "text": [
        "\n",
        "iteration: 260 @ time: 77999.63000 s (21 h 39 min 59.630 s)"
       ]
      },
      {
       "output_type": "stream",
       "stream": "stdout",
       "text": [
        "\n",
        "acquiring signal (channel 1)\n",
        "acquiring ramp (channel 2)"
       ]
      },
      {
       "output_type": "stream",
       "stream": "stdout",
       "text": [
        "\n",
        "iteration: 261 @ time: 78299.58500 s (21 h 44 min 59.585 s)"
       ]
      },
      {
       "output_type": "stream",
       "stream": "stdout",
       "text": [
        "\n",
        "acquiring signal (channel 1)\n",
        "acquiring ramp (channel 2)"
       ]
      },
      {
       "output_type": "stream",
       "stream": "stdout",
       "text": [
        "\n",
        "iteration: 262 @ time: 78599.56600 s (21 h 49 min 59.566 s)"
       ]
      },
      {
       "output_type": "stream",
       "stream": "stdout",
       "text": [
        "\n",
        "acquiring signal (channel 1)\n",
        "acquiring ramp (channel 2)"
       ]
      },
      {
       "output_type": "stream",
       "stream": "stdout",
       "text": [
        "\n",
        "iteration: 263 @ time: 78899.62900 s (21 h 54 min 59.629 s)"
       ]
      },
      {
       "output_type": "stream",
       "stream": "stdout",
       "text": [
        "\n",
        "acquiring signal (channel 1)\n",
        "acquiring ramp (channel 2)"
       ]
      },
      {
       "output_type": "stream",
       "stream": "stdout",
       "text": [
        "\n",
        "iteration: 264 @ time: 79199.59100 s (21 h 59 min 59.591 s)"
       ]
      },
      {
       "output_type": "stream",
       "stream": "stdout",
       "text": [
        "\n",
        "acquiring signal (channel 1)\n",
        "acquiring ramp (channel 2)"
       ]
      },
      {
       "output_type": "stream",
       "stream": "stdout",
       "text": [
        "\n",
        "iteration: 265 @ time: 79499.57600 s (22 h  4 min 59.576 s)"
       ]
      },
      {
       "output_type": "stream",
       "stream": "stdout",
       "text": [
        "\n",
        "acquiring signal (channel 1)\n",
        "acquiring ramp (channel 2)"
       ]
      },
      {
       "output_type": "stream",
       "stream": "stdout",
       "text": [
        "\n",
        "iteration: 266 @ time: 79799.63700 s (22 h  9 min 59.637 s)"
       ]
      },
      {
       "output_type": "stream",
       "stream": "stdout",
       "text": [
        "\n",
        "acquiring signal (channel 1)\n",
        "acquiring ramp (channel 2)"
       ]
      },
      {
       "output_type": "stream",
       "stream": "stdout",
       "text": [
        "\n",
        "iteration: 267 @ time: 80099.59900 s (22 h 14 min 59.599 s)"
       ]
      },
      {
       "output_type": "stream",
       "stream": "stdout",
       "text": [
        "\n",
        "acquiring signal (channel 1)\n",
        "acquiring ramp (channel 2)"
       ]
      },
      {
       "output_type": "stream",
       "stream": "stdout",
       "text": [
        "\n",
        "iteration: 268 @ time: 80399.55200 s (22 h 19 min 59.552 s)"
       ]
      },
      {
       "output_type": "stream",
       "stream": "stdout",
       "text": [
        "\n",
        "acquiring signal (channel 1)\n",
        "acquiring ramp (channel 2)"
       ]
      },
      {
       "output_type": "stream",
       "stream": "stdout",
       "text": [
        "\n",
        "iteration: 269 @ time: 80699.63200 s (22 h 24 min 59.632 s)"
       ]
      },
      {
       "output_type": "stream",
       "stream": "stdout",
       "text": [
        "\n",
        "acquiring signal (channel 1)\n",
        "acquiring ramp (channel 2)"
       ]
      },
      {
       "output_type": "stream",
       "stream": "stdout",
       "text": [
        "\n",
        "iteration: 270 @ time: 80999.59500 s (22 h 29 min 59.595 s)"
       ]
      },
      {
       "output_type": "stream",
       "stream": "stdout",
       "text": [
        "\n",
        "acquiring signal (channel 1)\n",
        "acquiring ramp (channel 2)"
       ]
      },
      {
       "output_type": "stream",
       "stream": "stdout",
       "text": [
        "\n",
        "iteration: 271 @ time: 81299.57200 s (22 h 34 min 59.572 s)"
       ]
      },
      {
       "output_type": "stream",
       "stream": "stdout",
       "text": [
        "\n",
        "acquiring signal (channel 1)\n",
        "acquiring ramp (channel 2)"
       ]
      },
      {
       "output_type": "stream",
       "stream": "stdout",
       "text": [
        "\n",
        "iteration: 272 @ time: 81599.54600 s (22 h 39 min 59.546 s)"
       ]
      },
      {
       "output_type": "stream",
       "stream": "stdout",
       "text": [
        "\n",
        "acquiring signal (channel 1)\n",
        "acquiring ramp (channel 2)"
       ]
      },
      {
       "output_type": "stream",
       "stream": "stdout",
       "text": [
        "\n",
        "iteration: 273 @ time: 81899.57400 s (22 h 44 min 59.574 s)"
       ]
      },
      {
       "output_type": "stream",
       "stream": "stdout",
       "text": [
        "\n",
        "acquiring signal (channel 1)\n",
        "acquiring ramp (channel 2)"
       ]
      },
      {
       "output_type": "stream",
       "stream": "stdout",
       "text": [
        "\n",
        "iteration: 274 @ time: 82199.58200 s (22 h 49 min 59.582 s)"
       ]
      },
      {
       "output_type": "stream",
       "stream": "stdout",
       "text": [
        "\n",
        "acquiring signal (channel 1)\n",
        "acquiring ramp (channel 2)"
       ]
      },
      {
       "output_type": "stream",
       "stream": "stdout",
       "text": [
        "\n",
        "iteration: 275 @ time: 82499.54300 s (22 h 54 min 59.543 s)"
       ]
      },
      {
       "output_type": "stream",
       "stream": "stdout",
       "text": [
        "\n",
        "acquiring signal (channel 1)\n",
        "acquiring ramp (channel 2)"
       ]
      },
      {
       "output_type": "stream",
       "stream": "stdout",
       "text": [
        "\n",
        "iteration: 276 @ time: 82799.62500 s (22 h 59 min 59.625 s)"
       ]
      },
      {
       "output_type": "stream",
       "stream": "stdout",
       "text": [
        "\n",
        "acquiring signal (channel 1)\n",
        "acquiring ramp (channel 2)"
       ]
      },
      {
       "output_type": "stream",
       "stream": "stdout",
       "text": [
        "\n",
        "iteration: 277 @ time: 83099.58700 s (23 h  4 min 59.587 s)"
       ]
      },
      {
       "output_type": "stream",
       "stream": "stdout",
       "text": [
        "\n",
        "acquiring signal (channel 1)\n",
        "acquiring ramp (channel 2)"
       ]
      },
      {
       "output_type": "stream",
       "stream": "stdout",
       "text": [
        "\n",
        "iteration: 278 @ time: 83399.63900 s (23 h  9 min 59.639 s)"
       ]
      },
      {
       "output_type": "stream",
       "stream": "stdout",
       "text": [
        "\n",
        "acquiring signal (channel 1)\n",
        "acquiring ramp (channel 2)"
       ]
      },
      {
       "output_type": "stream",
       "stream": "stdout",
       "text": [
        "\n",
        "iteration: 279 @ time: 83699.61000 s (23 h 14 min 59.610 s)"
       ]
      },
      {
       "output_type": "stream",
       "stream": "stdout",
       "text": [
        "\n",
        "acquiring signal (channel 1)\n",
        "acquiring ramp (channel 2)"
       ]
      },
      {
       "output_type": "stream",
       "stream": "stdout",
       "text": [
        "\n",
        "iteration: 280 @ time: 83999.59200 s (23 h 19 min 59.592 s)"
       ]
      },
      {
       "output_type": "stream",
       "stream": "stdout",
       "text": [
        "\n",
        "acquiring signal (channel 1)\n",
        "acquiring ramp (channel 2)"
       ]
      },
      {
       "output_type": "stream",
       "stream": "stdout",
       "text": [
        "\n",
        "iteration: 281 @ time: 84299.55500 s (23 h 24 min 59.555 s)"
       ]
      },
      {
       "output_type": "stream",
       "stream": "stdout",
       "text": [
        "\n",
        "acquiring signal (channel 1)\n",
        "acquiring ramp (channel 2)"
       ]
      },
      {
       "output_type": "stream",
       "stream": "stdout",
       "text": [
        "\n",
        "iteration: 282 @ time: 84599.60500 s (23 h 29 min 59.605 s)"
       ]
      },
      {
       "output_type": "stream",
       "stream": "stdout",
       "text": [
        "\n",
        "acquiring signal (channel 1)\n",
        "acquiring ramp (channel 2)"
       ]
      },
      {
       "output_type": "stream",
       "stream": "stdout",
       "text": [
        "\n",
        "iteration: 283 @ time: 84899.58200 s (23 h 34 min 59.582 s)"
       ]
      },
      {
       "output_type": "stream",
       "stream": "stdout",
       "text": [
        "\n",
        "acquiring signal (channel 1)\n",
        "acquiring ramp (channel 2)"
       ]
      },
      {
       "output_type": "stream",
       "stream": "stdout",
       "text": [
        "\n",
        "iteration: 284 @ time: 85199.56500 s (23 h 39 min 59.565 s)"
       ]
      },
      {
       "output_type": "stream",
       "stream": "stdout",
       "text": [
        "\n",
        "acquiring signal (channel 1)\n",
        "acquiring ramp (channel 2)"
       ]
      },
      {
       "output_type": "stream",
       "stream": "stdout",
       "text": [
        "\n",
        "iteration: 285 @ time: 85499.61500 s (23 h 44 min 59.615 s)"
       ]
      },
      {
       "output_type": "stream",
       "stream": "stdout",
       "text": [
        "\n",
        "acquiring signal (channel 1)\n",
        "acquiring ramp (channel 2)"
       ]
      },
      {
       "output_type": "stream",
       "stream": "stdout",
       "text": [
        "\n",
        "iteration: 286 @ time: 85799.59100 s (23 h 49 min 59.591 s)"
       ]
      },
      {
       "output_type": "stream",
       "stream": "stdout",
       "text": [
        "\n",
        "acquiring signal (channel 1)\n",
        "acquiring ramp (channel 2)"
       ]
      },
      {
       "output_type": "stream",
       "stream": "stdout",
       "text": [
        "\n",
        "iteration: 287 @ time: 86099.55400 s (23 h 54 min 59.554 s)"
       ]
      },
      {
       "output_type": "stream",
       "stream": "stdout",
       "text": [
        "\n",
        "acquiring signal (channel 1)\n",
        "acquiring ramp (channel 2)"
       ]
      },
      {
       "output_type": "stream",
       "stream": "stdout",
       "text": [
        "\n",
        "iteration: 288 @ time: 86399.61400 s (23 h 59 min 59.614 s)"
       ]
      },
      {
       "output_type": "stream",
       "stream": "stdout",
       "text": [
        "\n",
        "acquiring signal (channel 1)\n",
        "acquiring ramp (channel 2)"
       ]
      },
      {
       "output_type": "stream",
       "stream": "stdout",
       "text": [
        "\n",
        "iteration: 289 @ time: 86699.60000 s (24 h  4 min 59.600 s)"
       ]
      },
      {
       "output_type": "stream",
       "stream": "stdout",
       "text": [
        "\n",
        "acquiring signal (channel 1)\n",
        "acquiring ramp (channel 2)"
       ]
      },
      {
       "output_type": "stream",
       "stream": "stdout",
       "text": [
        "\n",
        "iteration: 290 @ time: 86999.55900 s (24 h  9 min 59.559 s)"
       ]
      },
      {
       "output_type": "stream",
       "stream": "stdout",
       "text": [
        "\n",
        "acquiring signal (channel 1)\n",
        "acquiring ramp (channel 2)"
       ]
      },
      {
       "output_type": "stream",
       "stream": "stdout",
       "text": [
        "\n",
        "iteration: 291 @ time: 87299.64000 s (24 h 14 min 59.640 s)"
       ]
      },
      {
       "output_type": "stream",
       "stream": "stdout",
       "text": [
        "\n",
        "acquiring signal (channel 1)\n",
        "acquiring ramp (channel 2)"
       ]
      },
      {
       "output_type": "stream",
       "stream": "stdout",
       "text": [
        "\n",
        "iteration: 292 @ time: 87599.60500 s (24 h 19 min 59.605 s)"
       ]
      },
      {
       "output_type": "stream",
       "stream": "stdout",
       "text": [
        "\n",
        "acquiring signal (channel 1)\n",
        "acquiring ramp (channel 2)"
       ]
      },
      {
       "output_type": "stream",
       "stream": "stdout",
       "text": [
        "\n",
        "iteration: 293 @ time: 87899.57000 s (24 h 24 min 59.570 s)"
       ]
      },
      {
       "output_type": "stream",
       "stream": "stdout",
       "text": [
        "\n",
        "acquiring signal (channel 1)\n",
        "acquiring ramp (channel 2)"
       ]
      },
      {
       "output_type": "stream",
       "stream": "stdout",
       "text": [
        "\n",
        "iteration: 294 @ time: 88199.63300 s (24 h 29 min 59.633 s)"
       ]
      },
      {
       "output_type": "stream",
       "stream": "stdout",
       "text": [
        "\n",
        "acquiring signal (channel 1)\n",
        "acquiring ramp (channel 2)"
       ]
      },
      {
       "output_type": "stream",
       "stream": "stdout",
       "text": [
        "\n",
        "iteration: 295 @ time: 88499.61100 s (24 h 34 min 59.611 s)"
       ]
      },
      {
       "output_type": "stream",
       "stream": "stdout",
       "text": [
        "\n",
        "acquiring signal (channel 1)\n",
        "acquiring ramp (channel 2)"
       ]
      },
      {
       "output_type": "stream",
       "stream": "stdout",
       "text": [
        "\n",
        "iteration: 296 @ time: 88799.57600 s (24 h 39 min 59.576 s)"
       ]
      },
      {
       "output_type": "stream",
       "stream": "stdout",
       "text": [
        "\n",
        "acquiring signal (channel 1)\n",
        "acquiring ramp (channel 2)"
       ]
      },
      {
       "output_type": "stream",
       "stream": "stdout",
       "text": [
        "\n",
        "iteration: 297 @ time: 89099.62500 s (24 h 44 min 59.625 s)"
       ]
      },
      {
       "output_type": "stream",
       "stream": "stdout",
       "text": [
        "\n",
        "acquiring signal (channel 1)\n",
        "acquiring ramp (channel 2)"
       ]
      },
      {
       "output_type": "stream",
       "stream": "stdout",
       "text": [
        "\n",
        "iteration: 298 @ time: 89399.60400 s (24 h 49 min 59.604 s)"
       ]
      },
      {
       "output_type": "stream",
       "stream": "stdout",
       "text": [
        "\n",
        "acquiring signal (channel 1)\n",
        "acquiring ramp (channel 2)"
       ]
      },
      {
       "output_type": "stream",
       "stream": "stdout",
       "text": [
        "\n",
        "iteration: 299 @ time: 89699.58400 s (24 h 54 min 59.584 s)"
       ]
      },
      {
       "output_type": "stream",
       "stream": "stdout",
       "text": [
        "\n",
        "acquiring signal (channel 1)\n",
        "acquiring ramp (channel 2)"
       ]
      },
      {
       "output_type": "stream",
       "stream": "stdout",
       "text": [
        "\n",
        "iteration: 300 @ time: 89999.54400 s (24 h 59 min 59.544 s)"
       ]
      },
      {
       "output_type": "stream",
       "stream": "stdout",
       "text": [
        "\n",
        "acquiring signal (channel 1)\n",
        "acquiring ramp (channel 2)"
       ]
      },
      {
       "output_type": "stream",
       "stream": "stdout",
       "text": [
        "\n",
        "iteration: 301 @ time: 90299.59500 s (25 h  4 min 59.595 s)"
       ]
      },
      {
       "output_type": "stream",
       "stream": "stdout",
       "text": [
        "\n",
        "acquiring signal (channel 1)\n",
        "acquiring ramp (channel 2)"
       ]
      },
      {
       "output_type": "stream",
       "stream": "stdout",
       "text": [
        "\n",
        "iteration: 302 @ time: 90599.57300 s (25 h  9 min 59.573 s)"
       ]
      },
      {
       "output_type": "stream",
       "stream": "stdout",
       "text": [
        "\n",
        "acquiring signal (channel 1)\n",
        "acquiring ramp (channel 2)"
       ]
      },
      {
       "output_type": "stream",
       "stream": "stdout",
       "text": [
        "\n",
        "iteration: 303 @ time: 90899.55700 s (25 h 14 min 59.557 s)"
       ]
      },
      {
       "output_type": "stream",
       "stream": "stdout",
       "text": [
        "\n",
        "acquiring signal (channel 1)\n",
        "acquiring ramp (channel 2)"
       ]
      },
      {
       "output_type": "stream",
       "stream": "stdout",
       "text": [
        "\n",
        "iteration: 304 @ time: 91199.61900 s (25 h 19 min 59.619 s)"
       ]
      },
      {
       "output_type": "stream",
       "stream": "stdout",
       "text": [
        "\n",
        "acquiring signal (channel 1)\n",
        "acquiring ramp (channel 2)"
       ]
      },
      {
       "output_type": "stream",
       "stream": "stdout",
       "text": [
        "\n",
        "iteration: 305 @ time: 91499.57900 s (25 h 24 min 59.579 s)"
       ]
      },
      {
       "output_type": "stream",
       "stream": "stdout",
       "text": [
        "\n",
        "acquiring signal (channel 1)\n",
        "acquiring ramp (channel 2)"
       ]
      },
      {
       "output_type": "stream",
       "stream": "stdout",
       "text": [
        "\n",
        "iteration: 306 @ time: 91799.54600 s (25 h 29 min 59.546 s)"
       ]
      },
      {
       "output_type": "stream",
       "stream": "stdout",
       "text": [
        "\n",
        "acquiring signal (channel 1)\n",
        "acquiring ramp (channel 2)"
       ]
      },
      {
       "output_type": "stream",
       "stream": "stdout",
       "text": [
        "\n",
        "iteration: 307 @ time: 92099.62600 s (25 h 34 min 59.626 s)"
       ]
      },
      {
       "output_type": "stream",
       "stream": "stdout",
       "text": [
        "\n",
        "acquiring signal (channel 1)\n",
        "acquiring ramp (channel 2)"
       ]
      },
      {
       "output_type": "stream",
       "stream": "stdout",
       "text": [
        "\n",
        "iteration: 308 @ time: 92399.57500 s (25 h 39 min 59.575 s)"
       ]
      },
      {
       "output_type": "stream",
       "stream": "stdout",
       "text": [
        "\n",
        "acquiring signal (channel 1)\n",
        "acquiring ramp (channel 2)"
       ]
      },
      {
       "output_type": "stream",
       "stream": "stdout",
       "text": [
        "\n",
        "iteration: 309 @ time: 92699.63500 s (25 h 44 min 59.635 s)"
       ]
      },
      {
       "output_type": "stream",
       "stream": "stdout",
       "text": [
        "\n",
        "acquiring signal (channel 1)\n",
        "acquiring ramp (channel 2)"
       ]
      },
      {
       "output_type": "stream",
       "stream": "stdout",
       "text": [
        "\n",
        "iteration: 310 @ time: 92999.61900 s (25 h 49 min 59.619 s)"
       ]
      },
      {
       "output_type": "stream",
       "stream": "stdout",
       "text": [
        "\n",
        "acquiring signal (channel 1)\n",
        "acquiring ramp (channel 2)"
       ]
      },
      {
       "output_type": "stream",
       "stream": "stdout",
       "text": [
        "\n",
        "iteration: 311 @ time: 93299.59500 s (25 h 54 min 59.595 s)"
       ]
      },
      {
       "output_type": "stream",
       "stream": "stdout",
       "text": [
        "\n",
        "acquiring signal (channel 1)\n",
        "acquiring ramp (channel 2)"
       ]
      },
      {
       "output_type": "stream",
       "stream": "stdout",
       "text": [
        "\n",
        "iteration: 312 @ time: 93599.54400 s (25 h 59 min 59.544 s)"
       ]
      },
      {
       "output_type": "stream",
       "stream": "stdout",
       "text": [
        "\n",
        "acquiring signal (channel 1)\n",
        "acquiring ramp (channel 2)"
       ]
      },
      {
       "output_type": "stream",
       "stream": "stdout",
       "text": [
        "\n",
        "iteration: 313 @ time: 93899.62400 s (26 h  4 min 59.624 s)"
       ]
      },
      {
       "output_type": "stream",
       "stream": "stdout",
       "text": [
        "\n",
        "acquiring signal (channel 1)\n",
        "acquiring ramp (channel 2)"
       ]
      },
      {
       "output_type": "stream",
       "stream": "stdout",
       "text": [
        "\n",
        "iteration: 314 @ time: 94199.58700 s (26 h  9 min 59.587 s)"
       ]
      },
      {
       "output_type": "stream",
       "stream": "stdout",
       "text": [
        "\n",
        "acquiring signal (channel 1)\n",
        "acquiring ramp (channel 2)"
       ]
      },
      {
       "output_type": "stream",
       "stream": "stdout",
       "text": [
        "\n",
        "iteration: 315 @ time: 94499.56500 s (26 h 14 min 59.565 s)"
       ]
      },
      {
       "output_type": "stream",
       "stream": "stdout",
       "text": [
        "\n",
        "acquiring signal (channel 1)\n",
        "acquiring ramp (channel 2)"
       ]
      },
      {
       "output_type": "stream",
       "stream": "stdout",
       "text": [
        "\n",
        "iteration: 316 @ time: 94799.63000 s (26 h 19 min 59.630 s)"
       ]
      },
      {
       "output_type": "stream",
       "stream": "stdout",
       "text": [
        "\n",
        "acquiring signal (channel 1)\n",
        "acquiring ramp (channel 2)"
       ]
      },
      {
       "output_type": "stream",
       "stream": "stdout",
       "text": [
        "\n",
        "iteration: 317 @ time: 95099.59200 s (26 h 24 min 59.592 s)"
       ]
      },
      {
       "output_type": "stream",
       "stream": "stdout",
       "text": [
        "\n",
        "acquiring signal (channel 1)\n",
        "acquiring ramp (channel 2)"
       ]
      },
      {
       "output_type": "stream",
       "stream": "stdout",
       "text": [
        "\n",
        "iteration: 318 @ time: 95399.63400 s (26 h 29 min 59.634 s)"
       ]
      },
      {
       "output_type": "stream",
       "stream": "stdout",
       "text": [
        "\n",
        "acquiring signal (channel 1)\n",
        "acquiring ramp (channel 2)"
       ]
      },
      {
       "output_type": "stream",
       "stream": "stdout",
       "text": [
        "\n",
        "iteration: 319 @ time: 95699.63700 s (26 h 34 min 59.637 s)"
       ]
      },
      {
       "output_type": "stream",
       "stream": "stdout",
       "text": [
        "\n",
        "acquiring signal (channel 1)\n",
        "acquiring ramp (channel 2)"
       ]
      },
      {
       "output_type": "stream",
       "stream": "stdout",
       "text": [
        "\n",
        "iteration: 320 @ time: 95999.59900 s (26 h 39 min 59.599 s)"
       ]
      },
      {
       "output_type": "stream",
       "stream": "stdout",
       "text": [
        "\n",
        "acquiring signal (channel 1)\n",
        "acquiring ramp (channel 2)"
       ]
      },
      {
       "output_type": "stream",
       "stream": "stdout",
       "text": [
        "\n",
        "iteration: 321 @ time: 96299.56600 s (26 h 44 min 59.566 s)"
       ]
      },
      {
       "output_type": "stream",
       "stream": "stdout",
       "text": [
        "\n",
        "acquiring signal (channel 1)\n",
        "acquiring ramp (channel 2)"
       ]
      },
      {
       "output_type": "stream",
       "stream": "stdout",
       "text": [
        "\n",
        "iteration: 322 @ time: 96599.54100 s (26 h 49 min 59.541 s)"
       ]
      },
      {
       "output_type": "stream",
       "stream": "stdout",
       "text": [
        "\n",
        "acquiring signal (channel 1)\n",
        "acquiring ramp (channel 2)"
       ]
      },
      {
       "output_type": "stream",
       "stream": "stdout",
       "text": [
        "\n",
        "iteration: 323 @ time: 96899.60900 s (26 h 54 min 59.609 s)"
       ]
      },
      {
       "output_type": "stream",
       "stream": "stdout",
       "text": [
        "\n",
        "acquiring signal (channel 1)\n",
        "acquiring ramp (channel 2)"
       ]
      },
      {
       "output_type": "stream",
       "stream": "stdout",
       "text": [
        "\n",
        "iteration: 324 @ time: 97199.56900 s (26 h 59 min 59.569 s)"
       ]
      },
      {
       "output_type": "stream",
       "stream": "stdout",
       "text": [
        "\n",
        "acquiring signal (channel 1)\n",
        "acquiring ramp (channel 2)"
       ]
      },
      {
       "output_type": "stream",
       "stream": "stdout",
       "text": [
        "\n",
        "iteration: 325 @ time: 97499.61900 s (27 h  4 min 59.619 s)"
       ]
      },
      {
       "output_type": "stream",
       "stream": "stdout",
       "text": [
        "\n",
        "acquiring signal (channel 1)\n",
        "acquiring ramp (channel 2)"
       ]
      },
      {
       "output_type": "stream",
       "stream": "stdout",
       "text": [
        "\n",
        "iteration: 326 @ time: 97799.61500 s (27 h  9 min 59.615 s)"
       ]
      },
      {
       "output_type": "stream",
       "stream": "stdout",
       "text": [
        "\n",
        "acquiring signal (channel 1)\n",
        "acquiring ramp (channel 2)"
       ]
      },
      {
       "output_type": "stream",
       "stream": "stdout",
       "text": [
        "\n",
        "iteration: 327 @ time: 98099.56900 s (27 h 14 min 59.569 s)"
       ]
      },
      {
       "output_type": "stream",
       "stream": "stdout",
       "text": [
        "\n",
        "acquiring signal (channel 1)\n",
        "acquiring ramp (channel 2)"
       ]
      },
      {
       "output_type": "stream",
       "stream": "stdout",
       "text": [
        "\n",
        "iteration: 328 @ time: 98399.54200 s (27 h 19 min 59.542 s)"
       ]
      },
      {
       "output_type": "stream",
       "stream": "stdout",
       "text": [
        "\n",
        "acquiring signal (channel 1)\n",
        "acquiring ramp (channel 2)"
       ]
      },
      {
       "output_type": "stream",
       "stream": "stdout",
       "text": [
        "\n",
        "iteration: 329 @ time: 98699.61400 s (27 h 24 min 59.614 s)"
       ]
      },
      {
       "output_type": "stream",
       "stream": "stdout",
       "text": [
        "\n",
        "acquiring signal (channel 1)\n",
        "acquiring ramp (channel 2)"
       ]
      },
      {
       "output_type": "stream",
       "stream": "stdout",
       "text": [
        "\n",
        "iteration: 330 @ time: 98999.58500 s (27 h 29 min 59.585 s)"
       ]
      },
      {
       "output_type": "stream",
       "stream": "stdout",
       "text": [
        "\n",
        "acquiring signal (channel 1)\n",
        "acquiring ramp (channel 2)"
       ]
      },
      {
       "output_type": "stream",
       "stream": "stdout",
       "text": [
        "\n",
        "iteration: 331 @ time: 99299.54700 s (27 h 34 min 59.547 s)"
       ]
      },
      {
       "output_type": "stream",
       "stream": "stdout",
       "text": [
        "\n",
        "acquiring signal (channel 1)\n",
        "acquiring ramp (channel 2)"
       ]
      },
      {
       "output_type": "stream",
       "stream": "stdout",
       "text": [
        "\n",
        "iteration: 332 @ time: 99599.61000 s (27 h 39 min 59.610 s)"
       ]
      },
      {
       "output_type": "stream",
       "stream": "stdout",
       "text": [
        "\n",
        "acquiring signal (channel 1)\n",
        "acquiring ramp (channel 2)"
       ]
      },
      {
       "output_type": "stream",
       "stream": "stdout",
       "text": [
        "\n",
        "iteration: 333 @ time: 99899.57800 s (27 h 44 min 59.578 s)"
       ]
      },
      {
       "output_type": "stream",
       "stream": "stdout",
       "text": [
        "\n",
        "acquiring signal (channel 1)\n",
        "acquiring ramp (channel 2)"
       ]
      },
      {
       "output_type": "stream",
       "stream": "stdout",
       "text": [
        "\n",
        "iteration: 334 @ time: 100199.55800 s (27 h 49 min 59.558 s)"
       ]
      },
      {
       "output_type": "stream",
       "stream": "stdout",
       "text": [
        "\n",
        "acquiring signal (channel 1)\n",
        "acquiring ramp (channel 2)"
       ]
      },
      {
       "output_type": "stream",
       "stream": "stdout",
       "text": [
        "\n",
        "iteration: 335 @ time: 100499.61900 s (27 h 54 min 59.619 s)"
       ]
      },
      {
       "output_type": "stream",
       "stream": "stdout",
       "text": [
        "\n",
        "acquiring signal (channel 1)\n",
        "acquiring ramp (channel 2)"
       ]
      },
      {
       "output_type": "stream",
       "stream": "stdout",
       "text": [
        "\n",
        "iteration: 336 @ time: 100799.58800 s (27 h 59 min 59.588 s)"
       ]
      },
      {
       "output_type": "stream",
       "stream": "stdout",
       "text": [
        "\n",
        "acquiring signal (channel 1)\n",
        "acquiring ramp (channel 2)"
       ]
      },
      {
       "output_type": "stream",
       "stream": "stdout",
       "text": [
        "\n",
        "iteration: 337 @ time: 101099.62400 s (28 h  4 min 59.624 s)"
       ]
      },
      {
       "output_type": "stream",
       "stream": "stdout",
       "text": [
        "\n",
        "acquiring signal (channel 1)\n",
        "acquiring ramp (channel 2)"
       ]
      },
      {
       "output_type": "stream",
       "stream": "stdout",
       "text": [
        "\n",
        "iteration: 338 @ time: 101399.62500 s (28 h  9 min 59.625 s)"
       ]
      },
      {
       "output_type": "stream",
       "stream": "stdout",
       "text": [
        "\n",
        "acquiring signal (channel 1)\n",
        "acquiring ramp (channel 2)"
       ]
      },
      {
       "output_type": "stream",
       "stream": "stdout",
       "text": [
        "\n",
        "iteration: 339 @ time: 101699.59500 s (28 h 14 min 59.595 s)"
       ]
      },
      {
       "output_type": "stream",
       "stream": "stdout",
       "text": [
        "\n",
        "acquiring signal (channel 1)\n",
        "acquiring ramp (channel 2)"
       ]
      },
      {
       "output_type": "stream",
       "stream": "stdout",
       "text": [
        "\n",
        "iteration: 340 @ time: 101999.55300 s (28 h 19 min 59.553 s)"
       ]
      },
      {
       "output_type": "stream",
       "stream": "stdout",
       "text": [
        "\n",
        "acquiring signal (channel 1)\n",
        "acquiring ramp (channel 2)"
       ]
      },
      {
       "output_type": "stream",
       "stream": "stdout",
       "text": [
        "\n",
        "iteration: 341 @ time: 102299.63100 s (28 h 24 min 59.631 s)"
       ]
      },
      {
       "output_type": "stream",
       "stream": "stdout",
       "text": [
        "\n",
        "acquiring signal (channel 1)\n",
        "acquiring ramp (channel 2)"
       ]
      },
      {
       "output_type": "stream",
       "stream": "stdout",
       "text": [
        "\n",
        "iteration: 342 @ time: 102599.59900 s (28 h 29 min 59.599 s)"
       ]
      },
      {
       "output_type": "stream",
       "stream": "stdout",
       "text": [
        "\n",
        "acquiring signal (channel 1)\n",
        "acquiring ramp (channel 2)"
       ]
      },
      {
       "output_type": "stream",
       "stream": "stdout",
       "text": [
        "\n",
        "iteration: 343 @ time: 102899.55900 s (28 h 34 min 59.559 s)"
       ]
      },
      {
       "output_type": "stream",
       "stream": "stdout",
       "text": [
        "\n",
        "acquiring signal (channel 1)\n",
        "acquiring ramp (channel 2)"
       ]
      },
      {
       "output_type": "stream",
       "stream": "stdout",
       "text": [
        "\n",
        "iteration: 344 @ time: 103199.61500 s (28 h 39 min 59.615 s)"
       ]
      },
      {
       "output_type": "stream",
       "stream": "stdout",
       "text": [
        "\n",
        "acquiring signal (channel 1)\n",
        "acquiring ramp (channel 2)"
       ]
      },
      {
       "output_type": "stream",
       "stream": "stdout",
       "text": [
        "\n",
        "iteration: 345 @ time: 103499.60300 s (28 h 44 min 59.603 s)"
       ]
      },
      {
       "output_type": "stream",
       "stream": "stdout",
       "text": [
        "\n",
        "acquiring signal (channel 1)\n",
        "acquiring ramp (channel 2)"
       ]
      },
      {
       "output_type": "stream",
       "stream": "stdout",
       "text": [
        "\n",
        "iteration: 346 @ time: 103799.57000 s (28 h 49 min 59.570 s)"
       ]
      },
      {
       "output_type": "stream",
       "stream": "stdout",
       "text": [
        "\n",
        "acquiring signal (channel 1)\n",
        "acquiring ramp (channel 2)"
       ]
      },
      {
       "output_type": "stream",
       "stream": "stdout",
       "text": [
        "\n",
        "iteration: 347 @ time: 104099.63100 s (28 h 54 min 59.631 s)"
       ]
      },
      {
       "output_type": "stream",
       "stream": "stdout",
       "text": [
        "\n",
        "acquiring signal (channel 1)\n",
        "acquiring ramp (channel 2)"
       ]
      },
      {
       "output_type": "stream",
       "stream": "stdout",
       "text": [
        "\n",
        "iteration: 348 @ time: 104399.60700 s (28 h 59 min 59.607 s)"
       ]
      },
      {
       "output_type": "stream",
       "stream": "stdout",
       "text": [
        "\n",
        "acquiring signal (channel 1)\n",
        "acquiring ramp (channel 2)"
       ]
      },
      {
       "output_type": "stream",
       "stream": "stdout",
       "text": [
        "\n",
        "iteration: 349 @ time: 104699.56900 s (29 h  4 min 59.569 s)"
       ]
      },
      {
       "output_type": "stream",
       "stream": "stdout",
       "text": [
        "\n",
        "acquiring signal (channel 1)\n",
        "acquiring ramp (channel 2)"
       ]
      },
      {
       "output_type": "stream",
       "stream": "stdout",
       "text": [
        "\n",
        "iteration: 350 @ time: 104999.63800 s (29 h  9 min 59.638 s)"
       ]
      },
      {
       "output_type": "stream",
       "stream": "stdout",
       "text": [
        "\n",
        "acquiring signal (channel 1)\n",
        "acquiring ramp (channel 2)"
       ]
      },
      {
       "output_type": "stream",
       "stream": "stdout",
       "text": [
        "\n",
        "iteration: 351 @ time: 105299.60800 s (29 h 14 min 59.608 s)"
       ]
      },
      {
       "output_type": "stream",
       "stream": "stdout",
       "text": [
        "\n",
        "acquiring signal (channel 1)\n",
        "acquiring ramp (channel 2)"
       ]
      },
      {
       "output_type": "stream",
       "stream": "stdout",
       "text": [
        "\n",
        "iteration: 352 @ time: 105599.57500 s (29 h 19 min 59.575 s)"
       ]
      },
      {
       "output_type": "stream",
       "stream": "stdout",
       "text": [
        "\n",
        "acquiring signal (channel 1)\n",
        "acquiring ramp (channel 2)"
       ]
      },
      {
       "output_type": "stream",
       "stream": "stdout",
       "text": [
        "\n",
        "iteration: 353 @ time: 105899.63000 s (29 h 24 min 59.630 s)"
       ]
      },
      {
       "output_type": "stream",
       "stream": "stdout",
       "text": [
        "\n",
        "acquiring signal (channel 1)\n",
        "acquiring ramp (channel 2)"
       ]
      },
      {
       "output_type": "stream",
       "stream": "stdout",
       "text": [
        "\n",
        "iteration: 354 @ time: 106199.60900 s (29 h 29 min 59.609 s)"
       ]
      },
      {
       "output_type": "stream",
       "stream": "stdout",
       "text": [
        "\n",
        "acquiring signal (channel 1)\n",
        "acquiring ramp (channel 2)"
       ]
      },
      {
       "output_type": "stream",
       "stream": "stdout",
       "text": [
        "\n",
        "iteration: 355 @ time: 106499.57700 s (29 h 34 min 59.577 s)"
       ]
      },
      {
       "output_type": "stream",
       "stream": "stdout",
       "text": [
        "\n",
        "acquiring signal (channel 1)\n",
        "acquiring ramp (channel 2)"
       ]
      },
      {
       "output_type": "stream",
       "stream": "stdout",
       "text": [
        "\n",
        "iteration: 356 @ time: 106799.56000 s (29 h 39 min 59.560 s)"
       ]
      },
      {
       "output_type": "stream",
       "stream": "stdout",
       "text": [
        "\n",
        "acquiring signal (channel 1)\n",
        "acquiring ramp (channel 2)"
       ]
      },
      {
       "output_type": "stream",
       "stream": "stdout",
       "text": [
        "\n",
        "iteration: 357 @ time: 107099.61600 s (29 h 44 min 59.616 s)"
       ]
      },
      {
       "output_type": "stream",
       "stream": "stdout",
       "text": [
        "\n",
        "acquiring signal (channel 1)\n",
        "acquiring ramp (channel 2)"
       ]
      },
      {
       "output_type": "stream",
       "stream": "stdout",
       "text": [
        "\n",
        "iteration: 358 @ time: 107399.58000 s (29 h 49 min 59.580 s)"
       ]
      },
      {
       "output_type": "stream",
       "stream": "stdout",
       "text": [
        "\n",
        "acquiring signal (channel 1)\n",
        "acquiring ramp (channel 2)"
       ]
      },
      {
       "output_type": "stream",
       "stream": "stdout",
       "text": [
        "\n",
        "iteration: 359 @ time: 107699.56200 s (29 h 54 min 59.562 s)"
       ]
      },
      {
       "output_type": "stream",
       "stream": "stdout",
       "text": [
        "\n",
        "acquiring signal (channel 1)\n",
        "acquiring ramp (channel 2)"
       ]
      },
      {
       "output_type": "stream",
       "stream": "stdout",
       "text": [
        "\n",
        "iteration: 360 @ time: 107999.61800 s (29 h 59 min 59.618 s)"
       ]
      },
      {
       "output_type": "stream",
       "stream": "stdout",
       "text": [
        "\n",
        "acquiring signal (channel 1)\n",
        "acquiring ramp (channel 2)"
       ]
      },
      {
       "output_type": "stream",
       "stream": "stdout",
       "text": [
        "\n",
        "iteration: 361 @ time: 108299.59500 s (30 h  4 min 59.595 s)"
       ]
      },
      {
       "output_type": "stream",
       "stream": "stdout",
       "text": [
        "\n",
        "acquiring signal (channel 1)\n",
        "acquiring ramp (channel 2)"
       ]
      },
      {
       "output_type": "stream",
       "stream": "stdout",
       "text": [
        "\n",
        "iteration: 362 @ time: 108599.54900 s (30 h  9 min 59.549 s)"
       ]
      },
      {
       "output_type": "stream",
       "stream": "stdout",
       "text": [
        "\n",
        "acquiring signal (channel 1)\n",
        "acquiring ramp (channel 2)"
       ]
      },
      {
       "output_type": "stream",
       "stream": "stdout",
       "text": [
        "\n",
        "iteration: 363 @ time: 108899.59400 s (30 h 14 min 59.594 s)"
       ]
      },
      {
       "output_type": "stream",
       "stream": "stdout",
       "text": [
        "\n",
        "acquiring signal (channel 1)\n",
        "acquiring ramp (channel 2)"
       ]
      },
      {
       "output_type": "stream",
       "stream": "stdout",
       "text": [
        "\n",
        "iteration: 364 @ time: 109199.59600 s (30 h 19 min 59.596 s)"
       ]
      },
      {
       "output_type": "stream",
       "stream": "stdout",
       "text": [
        "\n",
        "acquiring signal (channel 1)\n",
        "acquiring ramp (channel 2)"
       ]
      },
      {
       "output_type": "stream",
       "stream": "stdout",
       "text": [
        "\n",
        "iteration: 365 @ time: 109499.54400 s (30 h 24 min 59.544 s)"
       ]
      },
      {
       "output_type": "stream",
       "stream": "stdout",
       "text": [
        "\n",
        "acquiring signal (channel 1)\n",
        "acquiring ramp (channel 2)"
       ]
      },
      {
       "output_type": "stream",
       "stream": "stdout",
       "text": [
        "\n",
        "iteration: 366 @ time: 109799.62000 s (30 h 29 min 59.620 s)"
       ]
      },
      {
       "output_type": "stream",
       "stream": "stdout",
       "text": [
        "\n",
        "acquiring signal (channel 1)\n",
        "acquiring ramp (channel 2)"
       ]
      },
      {
       "output_type": "stream",
       "stream": "stdout",
       "text": [
        "\n",
        "iteration: 367 @ time: 110099.60400 s (30 h 34 min 59.604 s)"
       ]
      },
      {
       "output_type": "stream",
       "stream": "stdout",
       "text": [
        "\n",
        "acquiring signal (channel 1)\n",
        "acquiring ramp (channel 2)"
       ]
      },
      {
       "output_type": "stream",
       "stream": "stdout",
       "text": [
        "\n",
        "iteration: 368 @ time: 110399.55400 s (30 h 39 min 59.554 s)"
       ]
      },
      {
       "output_type": "stream",
       "stream": "stdout",
       "text": [
        "\n",
        "acquiring signal (channel 1)\n",
        "acquiring ramp (channel 2)"
       ]
      },
      {
       "output_type": "stream",
       "stream": "stdout",
       "text": [
        "\n",
        "iteration: 369 @ time: 110699.62800 s (30 h 44 min 59.628 s)"
       ]
      },
      {
       "output_type": "stream",
       "stream": "stdout",
       "text": [
        "\n",
        "acquiring signal (channel 1)\n",
        "acquiring ramp (channel 2)"
       ]
      },
      {
       "output_type": "stream",
       "stream": "stdout",
       "text": [
        "\n",
        "iteration: 370 @ time: 110999.59700 s (30 h 49 min 59.597 s)"
       ]
      },
      {
       "output_type": "stream",
       "stream": "stdout",
       "text": [
        "\n",
        "acquiring signal (channel 1)\n",
        "acquiring ramp (channel 2)"
       ]
      },
      {
       "output_type": "stream",
       "stream": "stdout",
       "text": [
        "\n",
        "iteration: 371 @ time: 111299.54800 s (30 h 54 min 59.548 s)"
       ]
      },
      {
       "output_type": "stream",
       "stream": "stdout",
       "text": [
        "\n",
        "acquiring signal (channel 1)\n",
        "acquiring ramp (channel 2)"
       ]
      },
      {
       "output_type": "stream",
       "stream": "stdout",
       "text": [
        "\n",
        "iteration: 372 @ time: 111599.61500 s (30 h 59 min 59.615 s)"
       ]
      },
      {
       "output_type": "stream",
       "stream": "stdout",
       "text": [
        "\n",
        "acquiring signal (channel 1)\n",
        "acquiring ramp (channel 2)"
       ]
      },
      {
       "output_type": "stream",
       "stream": "stdout",
       "text": [
        "\n",
        "iteration: 373 @ time: 111899.58100 s (31 h  4 min 59.581 s)"
       ]
      },
      {
       "output_type": "stream",
       "stream": "stdout",
       "text": [
        "\n",
        "acquiring signal (channel 1)\n",
        "acquiring ramp (channel 2)"
       ]
      },
      {
       "output_type": "stream",
       "stream": "stdout",
       "text": [
        "\n",
        "iteration: 374 @ time: 112199.56200 s (31 h  9 min 59.562 s)"
       ]
      },
      {
       "output_type": "stream",
       "stream": "stdout",
       "text": [
        "\n",
        "acquiring signal (channel 1)\n",
        "acquiring ramp (channel 2)"
       ]
      },
      {
       "output_type": "stream",
       "stream": "stdout",
       "text": [
        "\n",
        "iteration: 375 @ time: 112499.62000 s (31 h 14 min 59.620 s)"
       ]
      },
      {
       "output_type": "stream",
       "stream": "stdout",
       "text": [
        "\n",
        "acquiring signal (channel 1)\n",
        "acquiring ramp (channel 2)"
       ]
      },
      {
       "output_type": "stream",
       "stream": "stdout",
       "text": [
        "\n",
        "iteration: 376 @ time: 112799.58700 s (31 h 19 min 59.587 s)"
       ]
      },
      {
       "output_type": "stream",
       "stream": "stdout",
       "text": [
        "\n",
        "acquiring signal (channel 1)\n",
        "acquiring ramp (channel 2)"
       ]
      },
      {
       "output_type": "stream",
       "stream": "stdout",
       "text": [
        "\n",
        "iteration: 377 @ time: 113099.56600 s (31 h 24 min 59.566 s)"
       ]
      },
      {
       "output_type": "stream",
       "stream": "stdout",
       "text": [
        "\n",
        "acquiring signal (channel 1)\n",
        "acquiring ramp (channel 2)"
       ]
      },
      {
       "output_type": "stream",
       "stream": "stdout",
       "text": [
        "\n",
        "iteration: 378 @ time: 113399.63300 s (31 h 29 min 59.633 s)"
       ]
      },
      {
       "output_type": "stream",
       "stream": "stdout",
       "text": [
        "\n",
        "acquiring signal (channel 1)\n",
        "acquiring ramp (channel 2)"
       ]
      },
      {
       "output_type": "stream",
       "stream": "stdout",
       "text": [
        "\n",
        "iteration: 379 @ time: 113699.59300 s (31 h 34 min 59.593 s)"
       ]
      },
      {
       "output_type": "stream",
       "stream": "stdout",
       "text": [
        "\n",
        "acquiring signal (channel 1)\n",
        "acquiring ramp (channel 2)"
       ]
      },
      {
       "output_type": "stream",
       "stream": "stdout",
       "text": [
        "\n",
        "iteration: 380 @ time: 113999.58500 s (31 h 39 min 59.585 s)"
       ]
      },
      {
       "output_type": "stream",
       "stream": "stdout",
       "text": [
        "\n",
        "acquiring signal (channel 1)\n",
        "acquiring ramp (channel 2)"
       ]
      },
      {
       "output_type": "stream",
       "stream": "stdout",
       "text": [
        "\n",
        "iteration: 381 @ time: 114299.63800 s (31 h 44 min 59.638 s)"
       ]
      },
      {
       "output_type": "stream",
       "stream": "stdout",
       "text": [
        "\n",
        "acquiring signal (channel 1)\n",
        "acquiring ramp (channel 2)"
       ]
      },
      {
       "output_type": "stream",
       "stream": "stdout",
       "text": [
        "\n",
        "iteration: 382 @ time: 114599.59300 s (31 h 49 min 59.593 s)"
       ]
      },
      {
       "output_type": "stream",
       "stream": "stdout",
       "text": [
        "\n",
        "acquiring signal (channel 1)\n",
        "acquiring ramp (channel 2)"
       ]
      },
      {
       "output_type": "stream",
       "stream": "stdout",
       "text": [
        "\n",
        "iteration: 383 @ time: 114899.56900 s (31 h 54 min 59.569 s)"
       ]
      },
      {
       "output_type": "stream",
       "stream": "stdout",
       "text": [
        "\n",
        "acquiring signal (channel 1)\n",
        "acquiring ramp (channel 2)"
       ]
      },
      {
       "output_type": "stream",
       "stream": "stdout",
       "text": [
        "\n",
        "iteration: 384 @ time: 115199.54300 s (31 h 59 min 59.543 s)"
       ]
      },
      {
       "output_type": "stream",
       "stream": "stdout",
       "text": [
        "\n",
        "acquiring signal (channel 1)\n",
        "acquiring ramp (channel 2)"
       ]
      },
      {
       "output_type": "stream",
       "stream": "stdout",
       "text": [
        "\n",
        "iteration: 385 @ time: 115499.61700 s (32 h  4 min 59.617 s)"
       ]
      },
      {
       "output_type": "stream",
       "stream": "stdout",
       "text": [
        "\n",
        "acquiring signal (channel 1)\n",
        "acquiring ramp (channel 2)"
       ]
      },
      {
       "output_type": "stream",
       "stream": "stdout",
       "text": [
        "\n",
        "iteration: 386 @ time: 115799.55700 s (32 h  9 min 59.557 s)"
       ]
      },
      {
       "output_type": "stream",
       "stream": "stdout",
       "text": [
        "\n",
        "acquiring signal (channel 1)\n",
        "acquiring ramp (channel 2)"
       ]
      },
      {
       "output_type": "stream",
       "stream": "stdout",
       "text": [
        "\n",
        "iteration: 387 @ time: 116099.63800 s (32 h 14 min 59.638 s)"
       ]
      },
      {
       "output_type": "stream",
       "stream": "stdout",
       "text": [
        "\n",
        "acquiring signal (channel 1)\n",
        "acquiring ramp (channel 2)"
       ]
      },
      {
       "output_type": "stream",
       "stream": "stdout",
       "text": [
        "\n",
        "iteration: 388 @ time: 116399.59700 s (32 h 19 min 59.597 s)"
       ]
      },
      {
       "output_type": "stream",
       "stream": "stdout",
       "text": [
        "\n",
        "acquiring signal (channel 1)\n",
        "acquiring ramp (channel 2)"
       ]
      },
      {
       "output_type": "stream",
       "stream": "stdout",
       "text": [
        "\n",
        "iteration: 389 @ time: 116699.58000 s (32 h 24 min 59.580 s)"
       ]
      },
      {
       "output_type": "stream",
       "stream": "stdout",
       "text": [
        "\n",
        "acquiring signal (channel 1)\n",
        "acquiring ramp (channel 2)"
       ]
      },
      {
       "output_type": "stream",
       "stream": "stdout",
       "text": [
        "\n",
        "iteration: 390 @ time: 116999.55600 s (32 h 29 min 59.556 s)"
       ]
      },
      {
       "output_type": "stream",
       "stream": "stdout",
       "text": [
        "\n",
        "acquiring signal (channel 1)\n",
        "acquiring ramp (channel 2)"
       ]
      },
      {
       "output_type": "stream",
       "stream": "stdout",
       "text": [
        "\n",
        "iteration: 391 @ time: 117299.60400 s (32 h 34 min 59.604 s)"
       ]
      },
      {
       "output_type": "stream",
       "stream": "stdout",
       "text": [
        "\n",
        "acquiring signal (channel 1)\n",
        "acquiring ramp (channel 2)"
       ]
      },
      {
       "output_type": "stream",
       "stream": "stdout",
       "text": [
        "\n",
        "iteration: 392 @ time: 117599.59000 s (32 h 39 min 59.590 s)"
       ]
      },
      {
       "output_type": "stream",
       "stream": "stdout",
       "text": [
        "\n",
        "acquiring signal (channel 1)\n",
        "acquiring ramp (channel 2)"
       ]
      },
      {
       "output_type": "stream",
       "stream": "stdout",
       "text": [
        "\n",
        "iteration: 393 @ time: 117899.55200 s (32 h 44 min 59.552 s)"
       ]
      },
      {
       "output_type": "stream",
       "stream": "stdout",
       "text": [
        "\n",
        "acquiring signal (channel 1)\n",
        "acquiring ramp (channel 2)"
       ]
      },
      {
       "output_type": "stream",
       "stream": "stdout",
       "text": [
        "\n",
        "iteration: 394 @ time: 118199.61300 s (32 h 49 min 59.613 s)"
       ]
      },
      {
       "output_type": "stream",
       "stream": "stdout",
       "text": [
        "\n",
        "acquiring signal (channel 1)\n",
        "acquiring ramp (channel 2)"
       ]
      },
      {
       "output_type": "stream",
       "stream": "stdout",
       "text": [
        "\n",
        "iteration: 395 @ time: 118499.59000 s (32 h 54 min 59.590 s)"
       ]
      },
      {
       "output_type": "stream",
       "stream": "stdout",
       "text": [
        "\n",
        "acquiring signal (channel 1)\n",
        "acquiring ramp (channel 2)"
       ]
      },
      {
       "output_type": "stream",
       "stream": "stdout",
       "text": [
        "\n",
        "iteration: 396 @ time: 118799.54500 s (32 h 59 min 59.545 s)"
       ]
      },
      {
       "output_type": "stream",
       "stream": "stdout",
       "text": [
        "\n",
        "acquiring signal (channel 1)\n",
        "acquiring ramp (channel 2)"
       ]
      },
      {
       "output_type": "stream",
       "stream": "stdout",
       "text": [
        "\n",
        "iteration: 397 @ time: 119099.62700 s (33 h  4 min 59.627 s)"
       ]
      },
      {
       "output_type": "stream",
       "stream": "stdout",
       "text": [
        "\n",
        "acquiring signal (channel 1)\n",
        "acquiring ramp (channel 2)"
       ]
      },
      {
       "output_type": "stream",
       "stream": "stdout",
       "text": [
        "\n",
        "iteration: 398 @ time: 119399.57600 s (33 h  9 min 59.576 s)"
       ]
      },
      {
       "output_type": "stream",
       "stream": "stdout",
       "text": [
        "\n",
        "acquiring signal (channel 1)\n",
        "acquiring ramp (channel 2)"
       ]
      },
      {
       "output_type": "stream",
       "stream": "stdout",
       "text": [
        "\n",
        "iteration: 399 @ time: 119699.63400 s (33 h 14 min 59.634 s)"
       ]
      },
      {
       "output_type": "stream",
       "stream": "stdout",
       "text": [
        "\n",
        "acquiring signal (channel 1)\n",
        "acquiring ramp (channel 2)"
       ]
      },
      {
       "output_type": "stream",
       "stream": "stdout",
       "text": [
        "\n",
        "iteration: 400 @ time: 119999.58700 s (33 h 19 min 59.587 s)"
       ]
      },
      {
       "output_type": "stream",
       "stream": "stdout",
       "text": [
        "\n",
        "acquiring signal (channel 1)\n",
        "acquiring ramp (channel 2)"
       ]
      },
      {
       "output_type": "stream",
       "stream": "stdout",
       "text": [
        "\n",
        "iteration: 401 @ time: 120299.59300 s (33 h 24 min 59.593 s)"
       ]
      },
      {
       "output_type": "stream",
       "stream": "stdout",
       "text": [
        "\n",
        "acquiring signal (channel 1)\n",
        "acquiring ramp (channel 2)"
       ]
      },
      {
       "output_type": "stream",
       "stream": "stdout",
       "text": [
        "\n",
        "iteration: 402 @ time: 120599.56200 s (33 h 29 min 59.562 s)"
       ]
      },
      {
       "output_type": "stream",
       "stream": "stdout",
       "text": [
        "\n",
        "acquiring signal (channel 1)\n",
        "acquiring ramp (channel 2)"
       ]
      },
      {
       "output_type": "stream",
       "stream": "stdout",
       "text": [
        "\n",
        "iteration: 403 @ time: 120899.61700 s (33 h 34 min 59.617 s)"
       ]
      },
      {
       "output_type": "stream",
       "stream": "stdout",
       "text": [
        "\n",
        "acquiring signal (channel 1)\n",
        "acquiring ramp (channel 2)"
       ]
      },
      {
       "output_type": "stream",
       "stream": "stdout",
       "text": [
        "\n",
        "iteration: 404 @ time: 121199.60100 s (33 h 39 min 59.601 s)"
       ]
      },
      {
       "output_type": "stream",
       "stream": "stdout",
       "text": [
        "\n",
        "acquiring signal (channel 1)\n",
        "acquiring ramp (channel 2)"
       ]
      },
      {
       "output_type": "stream",
       "stream": "stdout",
       "text": [
        "\n",
        "iteration: 405 @ time: 121499.56300 s (33 h 44 min 59.563 s)"
       ]
      },
      {
       "output_type": "stream",
       "stream": "stdout",
       "text": [
        "\n",
        "acquiring signal (channel 1)\n",
        "acquiring ramp (channel 2)"
       ]
      },
      {
       "output_type": "stream",
       "stream": "stdout",
       "text": [
        "\n",
        "iteration: 406 @ time: 121799.62700 s (33 h 49 min 59.627 s)"
       ]
      },
      {
       "output_type": "stream",
       "stream": "stdout",
       "text": [
        "\n",
        "acquiring signal (channel 1)\n",
        "acquiring ramp (channel 2)"
       ]
      },
      {
       "output_type": "stream",
       "stream": "stdout",
       "text": [
        "\n",
        "iteration: 407 @ time: 122099.59300 s (33 h 54 min 59.593 s)"
       ]
      },
      {
       "output_type": "stream",
       "stream": "stdout",
       "text": [
        "\n",
        "acquiring signal (channel 1)\n",
        "acquiring ramp (channel 2)"
       ]
      },
      {
       "output_type": "stream",
       "stream": "stdout",
       "text": [
        "\n",
        "iteration: 408 @ time: 122399.57100 s (33 h 59 min 59.571 s)"
       ]
      },
      {
       "output_type": "stream",
       "stream": "stdout",
       "text": [
        "\n",
        "acquiring signal (channel 1)\n",
        "acquiring ramp (channel 2)"
       ]
      },
      {
       "output_type": "stream",
       "stream": "stdout",
       "text": [
        "\n",
        "iteration: 409 @ time: 122699.62100 s (34 h  4 min 59.621 s)"
       ]
      },
      {
       "output_type": "stream",
       "stream": "stdout",
       "text": [
        "\n",
        "acquiring signal (channel 1)\n",
        "acquiring ramp (channel 2)"
       ]
      },
      {
       "output_type": "stream",
       "stream": "stdout",
       "text": [
        "\n",
        "iteration: 410 @ time: 122999.58100 s (34 h  9 min 59.581 s)"
       ]
      },
      {
       "output_type": "stream",
       "stream": "stdout",
       "text": [
        "\n",
        "acquiring signal (channel 1)\n",
        "acquiring ramp (channel 2)"
       ]
      },
      {
       "output_type": "stream",
       "stream": "stdout",
       "text": [
        "\n",
        "iteration: 411 @ time: 123299.63700 s (34 h 14 min 59.637 s)"
       ]
      },
      {
       "output_type": "stream",
       "stream": "stdout",
       "text": [
        "\n",
        "acquiring signal (channel 1)\n",
        "acquiring ramp (channel 2)"
       ]
      },
      {
       "output_type": "stream",
       "stream": "stdout",
       "text": [
        "\n",
        "iteration: 412 @ time: 123599.54200 s (34 h 19 min 59.542 s)"
       ]
      },
      {
       "output_type": "stream",
       "stream": "stdout",
       "text": [
        "\n",
        "acquiring signal (channel 1)\n",
        "acquiring ramp (channel 2)"
       ]
      },
      {
       "output_type": "stream",
       "stream": "stdout",
       "text": [
        "\n",
        "iteration: 413 @ time: 123899.60400 s (34 h 24 min 59.604 s)"
       ]
      },
      {
       "output_type": "stream",
       "stream": "stdout",
       "text": [
        "\n",
        "acquiring signal (channel 1)\n",
        "acquiring ramp (channel 2)"
       ]
      },
      {
       "output_type": "stream",
       "stream": "stdout",
       "text": [
        "\n",
        "iteration: 414 @ time: 124199.58000 s (34 h 29 min 59.580 s)"
       ]
      },
      {
       "output_type": "stream",
       "stream": "stdout",
       "text": [
        "\n",
        "acquiring signal (channel 1)\n",
        "acquiring ramp (channel 2)"
       ]
      },
      {
       "output_type": "stream",
       "stream": "stdout",
       "text": [
        "\n",
        "iteration: 415 @ time: 124499.55200 s (34 h 34 min 59.552 s)"
       ]
      },
      {
       "output_type": "stream",
       "stream": "stdout",
       "text": [
        "\n",
        "acquiring signal (channel 1)\n",
        "acquiring ramp (channel 2)"
       ]
      },
      {
       "output_type": "stream",
       "stream": "stdout",
       "text": [
        "\n",
        "iteration: 416 @ time: 124799.61500 s (34 h 39 min 59.615 s)"
       ]
      },
      {
       "output_type": "stream",
       "stream": "stdout",
       "text": [
        "\n",
        "acquiring signal (channel 1)\n",
        "acquiring ramp (channel 2)"
       ]
      },
      {
       "output_type": "stream",
       "stream": "stdout",
       "text": [
        "\n",
        "iteration: 417 @ time: 125099.62200 s (34 h 44 min 59.622 s)"
       ]
      },
      {
       "output_type": "stream",
       "stream": "stdout",
       "text": [
        "\n",
        "acquiring signal (channel 1)\n",
        "acquiring ramp (channel 2)"
       ]
      },
      {
       "output_type": "stream",
       "stream": "stdout",
       "text": [
        "\n",
        "iteration: 418 @ time: 125399.55800 s (34 h 49 min 59.558 s)"
       ]
      },
      {
       "output_type": "stream",
       "stream": "stdout",
       "text": [
        "\n",
        "acquiring signal (channel 1)\n",
        "acquiring ramp (channel 2)"
       ]
      },
      {
       "output_type": "stream",
       "stream": "stdout",
       "text": [
        "\n",
        "iteration: 419 @ time: 125699.62200 s (34 h 54 min 59.622 s)"
       ]
      },
      {
       "output_type": "stream",
       "stream": "stdout",
       "text": [
        "\n",
        "acquiring signal (channel 1)\n",
        "acquiring ramp (channel 2)"
       ]
      },
      {
       "output_type": "stream",
       "stream": "stdout",
       "text": [
        "\n",
        "iteration: 420 @ time: 125999.57500 s (34 h 59 min 59.575 s)"
       ]
      },
      {
       "output_type": "stream",
       "stream": "stdout",
       "text": [
        "\n",
        "acquiring signal (channel 1)\n",
        "acquiring ramp (channel 2)"
       ]
      },
      {
       "output_type": "stream",
       "stream": "stdout",
       "text": [
        "\n",
        "iteration: 421 @ time: 126299.63300 s (35 h  4 min 59.633 s)"
       ]
      },
      {
       "output_type": "stream",
       "stream": "stdout",
       "text": [
        "\n",
        "acquiring signal (channel 1)\n",
        "acquiring ramp (channel 2)"
       ]
      },
      {
       "output_type": "stream",
       "stream": "stdout",
       "text": [
        "\n",
        "iteration: 422 @ time: 126599.63000 s (35 h  9 min 59.630 s)"
       ]
      },
      {
       "output_type": "stream",
       "stream": "stdout",
       "text": [
        "\n",
        "acquiring signal (channel 1)\n",
        "acquiring ramp (channel 2)"
       ]
      },
      {
       "output_type": "stream",
       "stream": "stdout",
       "text": [
        "\n",
        "iteration: 423 @ time: 126899.58000 s (35 h 14 min 59.580 s)"
       ]
      },
      {
       "output_type": "stream",
       "stream": "stdout",
       "text": [
        "\n",
        "acquiring signal (channel 1)\n",
        "acquiring ramp (channel 2)"
       ]
      },
      {
       "output_type": "stream",
       "stream": "stdout",
       "text": [
        "\n",
        "iteration: 424 @ time: 127199.55500 s (35 h 19 min 59.555 s)"
       ]
      },
      {
       "output_type": "stream",
       "stream": "stdout",
       "text": [
        "\n",
        "acquiring signal (channel 1)\n",
        "acquiring ramp (channel 2)"
       ]
      },
      {
       "output_type": "stream",
       "stream": "stdout",
       "text": [
        "\n",
        "iteration: 425 @ time: 127499.62100 s (35 h 24 min 59.621 s)"
       ]
      },
      {
       "output_type": "stream",
       "stream": "stdout",
       "text": [
        "\n",
        "acquiring signal (channel 1)\n",
        "acquiring ramp (channel 2)"
       ]
      },
      {
       "output_type": "stream",
       "stream": "stdout",
       "text": [
        "\n",
        "iteration: 426 @ time: 127799.60200 s (35 h 29 min 59.602 s)"
       ]
      },
      {
       "output_type": "stream",
       "stream": "stdout",
       "text": [
        "\n",
        "acquiring signal (channel 1)\n",
        "acquiring ramp (channel 2)"
       ]
      },
      {
       "output_type": "stream",
       "stream": "stdout",
       "text": [
        "\n",
        "iteration: 427 @ time: 128099.62700 s (35 h 34 min 59.627 s)"
       ]
      },
      {
       "output_type": "stream",
       "stream": "stdout",
       "text": [
        "\n",
        "acquiring signal (channel 1)\n",
        "acquiring ramp (channel 2)"
       ]
      },
      {
       "output_type": "stream",
       "stream": "stdout",
       "text": [
        "\n",
        "iteration: 428 @ time: 128399.61600 s (35 h 39 min 59.616 s)"
       ]
      },
      {
       "output_type": "stream",
       "stream": "stdout",
       "text": [
        "\n",
        "acquiring signal (channel 1)\n",
        "acquiring ramp (channel 2)"
       ]
      },
      {
       "output_type": "stream",
       "stream": "stdout",
       "text": [
        "\n",
        "iteration: 429 @ time: 128699.60700 s (35 h 44 min 59.607 s)"
       ]
      },
      {
       "output_type": "stream",
       "stream": "stdout",
       "text": [
        "\n",
        "acquiring signal (channel 1)\n",
        "acquiring ramp (channel 2)"
       ]
      },
      {
       "output_type": "stream",
       "stream": "stdout",
       "text": [
        "\n",
        "iteration: 430 @ time: 128999.56700 s (35 h 49 min 59.567 s)"
       ]
      },
      {
       "output_type": "stream",
       "stream": "stdout",
       "text": [
        "\n",
        "acquiring signal (channel 1)\n",
        "acquiring ramp (channel 2)"
       ]
      },
      {
       "output_type": "stream",
       "stream": "stdout",
       "text": [
        "\n",
        "iteration: 431 @ time: 129299.63200 s (35 h 54 min 59.632 s)"
       ]
      },
      {
       "output_type": "stream",
       "stream": "stdout",
       "text": [
        "\n",
        "acquiring signal (channel 1)\n",
        "acquiring ramp (channel 2)"
       ]
      },
      {
       "output_type": "stream",
       "stream": "stdout",
       "text": [
        "\n",
        "iteration: 432 @ time: 129599.59700 s (35 h 59 min 59.597 s)"
       ]
      },
      {
       "output_type": "stream",
       "stream": "stdout",
       "text": [
        "\n",
        "acquiring signal (channel 1)\n",
        "acquiring ramp (channel 2)"
       ]
      },
      {
       "output_type": "stream",
       "stream": "stdout",
       "text": [
        "\n",
        "iteration: 433 @ time: 129899.55700 s (36 h  4 min 59.557 s)"
       ]
      },
      {
       "output_type": "stream",
       "stream": "stdout",
       "text": [
        "\n",
        "acquiring signal (channel 1)\n",
        "acquiring ramp (channel 2)"
       ]
      },
      {
       "output_type": "stream",
       "stream": "stdout",
       "text": [
        "\n",
        "iteration: 434 @ time: 130199.54400 s (36 h  9 min 59.544 s)"
       ]
      },
      {
       "output_type": "stream",
       "stream": "stdout",
       "text": [
        "\n",
        "acquiring signal (channel 1)\n",
        "acquiring ramp (channel 2)"
       ]
      },
      {
       "output_type": "stream",
       "stream": "stdout",
       "text": [
        "\n",
        "iteration: 435 @ time: 130499.58600 s (36 h 14 min 59.586 s)"
       ]
      },
      {
       "output_type": "stream",
       "stream": "stdout",
       "text": [
        "\n",
        "acquiring signal (channel 1)\n",
        "acquiring ramp (channel 2)"
       ]
      },
      {
       "output_type": "stream",
       "stream": "stdout",
       "text": [
        "\n",
        "iteration: 436 @ time: 130799.57000 s (36 h 19 min 59.570 s)"
       ]
      },
      {
       "output_type": "stream",
       "stream": "stdout",
       "text": [
        "\n",
        "acquiring signal (channel 1)\n",
        "acquiring ramp (channel 2)"
       ]
      },
      {
       "output_type": "stream",
       "stream": "stdout",
       "text": [
        "\n",
        "iteration: 437 @ time: 131099.54700 s (36 h 24 min 59.547 s)"
       ]
      },
      {
       "output_type": "stream",
       "stream": "stdout",
       "text": [
        "\n",
        "acquiring signal (channel 1)\n",
        "acquiring ramp (channel 2)"
       ]
      },
      {
       "output_type": "stream",
       "stream": "stdout",
       "text": [
        "\n",
        "iteration: 438 @ time: 131399.60800 s (36 h 29 min 59.608 s)"
       ]
      },
      {
       "output_type": "stream",
       "stream": "stdout",
       "text": [
        "\n",
        "acquiring signal (channel 1)\n",
        "acquiring ramp (channel 2)"
       ]
      },
      {
       "output_type": "stream",
       "stream": "stdout",
       "text": [
        "\n",
        "iteration: 439 @ time: 131699.57400 s (36 h 34 min 59.574 s)"
       ]
      },
      {
       "output_type": "stream",
       "stream": "stdout",
       "text": [
        "\n",
        "acquiring signal (channel 1)\n",
        "acquiring ramp (channel 2)"
       ]
      },
      {
       "output_type": "stream",
       "stream": "stdout",
       "text": [
        "\n",
        "iteration: 440 @ time: 131999.54800 s (36 h 39 min 59.548 s)"
       ]
      },
      {
       "output_type": "stream",
       "stream": "stdout",
       "text": [
        "\n",
        "acquiring signal (channel 1)\n",
        "acquiring ramp (channel 2)"
       ]
      },
      {
       "output_type": "stream",
       "stream": "stdout",
       "text": [
        "\n",
        "iteration: 441 @ time: 132299.61800 s (36 h 44 min 59.618 s)"
       ]
      },
      {
       "output_type": "stream",
       "stream": "stdout",
       "text": [
        "\n",
        "acquiring signal (channel 1)\n",
        "acquiring ramp (channel 2)"
       ]
      },
      {
       "output_type": "stream",
       "stream": "stdout",
       "text": [
        "\n",
        "iteration: 442 @ time: 132599.56900 s (36 h 49 min 59.569 s)"
       ]
      },
      {
       "output_type": "stream",
       "stream": "stdout",
       "text": [
        "\n",
        "acquiring signal (channel 1)\n",
        "acquiring ramp (channel 2)"
       ]
      },
      {
       "output_type": "stream",
       "stream": "stdout",
       "text": [
        "\n",
        "iteration: 443 @ time: 132899.54300 s (36 h 54 min 59.543 s)"
       ]
      },
      {
       "output_type": "stream",
       "stream": "stdout",
       "text": [
        "\n",
        "acquiring signal (channel 1)\n",
        "acquiring ramp (channel 2)"
       ]
      },
      {
       "output_type": "stream",
       "stream": "stdout",
       "text": [
        "\n",
        "iteration: 444 @ time: 133199.59300 s (36 h 59 min 59.593 s)"
       ]
      },
      {
       "output_type": "stream",
       "stream": "stdout",
       "text": [
        "\n",
        "acquiring signal (channel 1)\n",
        "acquiring ramp (channel 2)"
       ]
      },
      {
       "output_type": "stream",
       "stream": "stdout",
       "text": [
        "\n",
        "iteration: 445 @ time: 133499.57900 s (37 h  4 min 59.579 s)"
       ]
      },
      {
       "output_type": "stream",
       "stream": "stdout",
       "text": [
        "\n",
        "acquiring signal (channel 1)\n",
        "acquiring ramp (channel 2)"
       ]
      },
      {
       "output_type": "stream",
       "stream": "stdout",
       "text": [
        "\n",
        "iteration: 446 @ time: 133799.63900 s (37 h  9 min 59.639 s)"
       ]
      },
      {
       "output_type": "stream",
       "stream": "stdout",
       "text": [
        "\n",
        "acquiring signal (channel 1)\n",
        "acquiring ramp (channel 2)"
       ]
      },
      {
       "output_type": "stream",
       "stream": "stdout",
       "text": [
        "\n",
        "iteration: 447 @ time: 134099.61600 s (37 h 14 min 59.616 s)"
       ]
      },
      {
       "output_type": "stream",
       "stream": "stdout",
       "text": [
        "\n",
        "acquiring signal (channel 1)\n",
        "acquiring ramp (channel 2)"
       ]
      },
      {
       "output_type": "stream",
       "stream": "stdout",
       "text": [
        "\n",
        "iteration: 448 @ time: 134399.58600 s (37 h 19 min 59.586 s)"
       ]
      },
      {
       "output_type": "stream",
       "stream": "stdout",
       "text": [
        "\n",
        "acquiring signal (channel 1)\n",
        "acquiring ramp (channel 2)"
       ]
      },
      {
       "output_type": "stream",
       "stream": "stdout",
       "text": [
        "\n",
        "iteration: 449 @ time: 134699.63700 s (37 h 24 min 59.637 s)"
       ]
      },
      {
       "output_type": "stream",
       "stream": "stdout",
       "text": [
        "\n",
        "acquiring signal (channel 1)\n",
        "acquiring ramp (channel 2)"
       ]
      },
      {
       "output_type": "stream",
       "stream": "stdout",
       "text": [
        "\n",
        "iteration: 450 @ time: 134999.62300 s (37 h 29 min 59.623 s)"
       ]
      },
      {
       "output_type": "stream",
       "stream": "stdout",
       "text": [
        "\n",
        "acquiring signal (channel 1)\n",
        "acquiring ramp (channel 2)"
       ]
      },
      {
       "output_type": "stream",
       "stream": "stdout",
       "text": [
        "\n",
        "iteration: 451 @ time: 135299.58700 s (37 h 34 min 59.587 s)"
       ]
      },
      {
       "output_type": "stream",
       "stream": "stdout",
       "text": [
        "\n",
        "acquiring signal (channel 1)\n",
        "acquiring ramp (channel 2)"
       ]
      },
      {
       "output_type": "stream",
       "stream": "stdout",
       "text": [
        "\n",
        "iteration: 452 @ time: 135599.55300 s (37 h 39 min 59.553 s)"
       ]
      },
      {
       "output_type": "stream",
       "stream": "stdout",
       "text": [
        "\n",
        "acquiring signal (channel 1)\n",
        "acquiring ramp (channel 2)"
       ]
      },
      {
       "output_type": "stream",
       "stream": "stdout",
       "text": [
        "\n",
        "iteration: 453 @ time: 135899.62900 s (37 h 44 min 59.629 s)"
       ]
      },
      {
       "output_type": "stream",
       "stream": "stdout",
       "text": [
        "\n",
        "acquiring signal (channel 1)\n",
        "acquiring ramp (channel 2)"
       ]
      },
      {
       "output_type": "stream",
       "stream": "stdout",
       "text": [
        "\n",
        "iteration: 454 @ time: 136199.59100 s (37 h 49 min 59.591 s)"
       ]
      },
      {
       "output_type": "stream",
       "stream": "stdout",
       "text": [
        "\n",
        "acquiring signal (channel 1)\n",
        "acquiring ramp (channel 2)"
       ]
      },
      {
       "output_type": "stream",
       "stream": "stdout",
       "text": [
        "\n",
        "iteration: 455 @ time: 136499.55700 s (37 h 54 min 59.557 s)"
       ]
      },
      {
       "output_type": "stream",
       "stream": "stdout",
       "text": [
        "\n",
        "acquiring signal (channel 1)\n",
        "acquiring ramp (channel 2)"
       ]
      },
      {
       "output_type": "stream",
       "stream": "stdout",
       "text": [
        "\n",
        "iteration: 456 @ time: 136799.62900 s (37 h 59 min 59.629 s)"
       ]
      },
      {
       "output_type": "stream",
       "stream": "stdout",
       "text": [
        "\n",
        "acquiring signal (channel 1)\n",
        "acquiring ramp (channel 2)"
       ]
      },
      {
       "output_type": "stream",
       "stream": "stdout",
       "text": [
        "\n",
        "iteration: 457 @ time: 137099.60500 s (38 h  4 min 59.605 s)"
       ]
      },
      {
       "output_type": "stream",
       "stream": "stdout",
       "text": [
        "\n",
        "acquiring signal (channel 1)\n",
        "acquiring ramp (channel 2)"
       ]
      },
      {
       "output_type": "stream",
       "stream": "stdout",
       "text": [
        "\n",
        "iteration: 458 @ time: 137399.55300 s (38 h  9 min 59.553 s)"
       ]
      },
      {
       "output_type": "stream",
       "stream": "stdout",
       "text": [
        "\n",
        "acquiring signal (channel 1)\n",
        "acquiring ramp (channel 2)"
       ]
      },
      {
       "output_type": "stream",
       "stream": "stdout",
       "text": [
        "\n",
        "iteration: 459 @ time: 137699.62400 s (38 h 14 min 59.624 s)"
       ]
      },
      {
       "output_type": "stream",
       "stream": "stdout",
       "text": [
        "\n",
        "acquiring signal (channel 1)\n",
        "acquiring ramp (channel 2)"
       ]
      },
      {
       "output_type": "stream",
       "stream": "stdout",
       "text": [
        "\n",
        "iteration: 460 @ time: 137999.60400 s (38 h 19 min 59.604 s)"
       ]
      },
      {
       "output_type": "stream",
       "stream": "stdout",
       "text": [
        "\n",
        "acquiring signal (channel 1)\n",
        "acquiring ramp (channel 2)"
       ]
      },
      {
       "output_type": "stream",
       "stream": "stdout",
       "text": [
        "\n",
        "iteration: 461 @ time: 138299.57200 s (38 h 24 min 59.572 s)"
       ]
      },
      {
       "output_type": "stream",
       "stream": "stdout",
       "text": [
        "\n",
        "acquiring signal (channel 1)\n",
        "acquiring ramp (channel 2)"
       ]
      },
      {
       "output_type": "stream",
       "stream": "stdout",
       "text": [
        "\n",
        "iteration: 462 @ time: 138599.58000 s (38 h 29 min 59.580 s)"
       ]
      },
      {
       "output_type": "stream",
       "stream": "stdout",
       "text": [
        "\n",
        "acquiring signal (channel 1)\n",
        "acquiring ramp (channel 2)"
       ]
      },
      {
       "output_type": "stream",
       "stream": "stdout",
       "text": [
        "\n",
        "iteration: 463 @ time: 138899.60900 s (38 h 34 min 59.609 s)"
       ]
      },
      {
       "output_type": "stream",
       "stream": "stdout",
       "text": [
        "\n",
        "acquiring signal (channel 1)\n",
        "acquiring ramp (channel 2)"
       ]
      },
      {
       "output_type": "stream",
       "stream": "stdout",
       "text": [
        "\n",
        "iteration: 464 @ time: 139199.56000 s (38 h 39 min 59.560 s)"
       ]
      },
      {
       "output_type": "stream",
       "stream": "stdout",
       "text": [
        "\n",
        "acquiring signal (channel 1)\n",
        "acquiring ramp (channel 2)"
       ]
      },
      {
       "output_type": "stream",
       "stream": "stdout",
       "text": [
        "\n",
        "iteration: 465 @ time: 139499.54200 s (38 h 44 min 59.542 s)"
       ]
      },
      {
       "output_type": "stream",
       "stream": "stdout",
       "text": [
        "\n",
        "acquiring signal (channel 1)\n",
        "acquiring ramp (channel 2)"
       ]
      },
      {
       "output_type": "stream",
       "stream": "stdout",
       "text": [
        "\n",
        "iteration: 466 @ time: 139799.60500 s (38 h 49 min 59.605 s)"
       ]
      },
      {
       "output_type": "stream",
       "stream": "stdout",
       "text": [
        "\n",
        "acquiring signal (channel 1)\n",
        "acquiring ramp (channel 2)"
       ]
      },
      {
       "output_type": "stream",
       "stream": "stdout",
       "text": [
        "\n",
        "iteration: 467 @ time: 140099.58300 s (38 h 54 min 59.583 s)"
       ]
      },
      {
       "output_type": "stream",
       "stream": "stdout",
       "text": [
        "\n",
        "acquiring signal (channel 1)\n",
        "acquiring ramp (channel 2)"
       ]
      },
      {
       "output_type": "stream",
       "stream": "stdout",
       "text": [
        "\n",
        "iteration: 468 @ time: 140399.63200 s (38 h 59 min 59.632 s)"
       ]
      },
      {
       "output_type": "stream",
       "stream": "stdout",
       "text": [
        "\n",
        "acquiring signal (channel 1)\n",
        "acquiring ramp (channel 2)"
       ]
      },
      {
       "output_type": "stream",
       "stream": "stdout",
       "text": [
        "\n",
        "iteration: 469 @ time: 140699.61400 s (39 h  4 min 59.614 s)"
       ]
      },
      {
       "output_type": "stream",
       "stream": "stdout",
       "text": [
        "\n",
        "acquiring signal (channel 1)\n",
        "acquiring ramp (channel 2)"
       ]
      },
      {
       "output_type": "stream",
       "stream": "stdout",
       "text": [
        "\n",
        "iteration: 470 @ time: 140999.57900 s (39 h  9 min 59.579 s)"
       ]
      },
      {
       "output_type": "stream",
       "stream": "stdout",
       "text": [
        "\n",
        "acquiring signal (channel 1)\n",
        "acquiring ramp (channel 2)"
       ]
      },
      {
       "output_type": "stream",
       "stream": "stdout",
       "text": [
        "\n",
        "iteration: 471 @ time: 141299.61800 s (39 h 14 min 59.618 s)"
       ]
      },
      {
       "output_type": "stream",
       "stream": "stdout",
       "text": [
        "\n",
        "acquiring signal (channel 1)\n",
        "acquiring ramp (channel 2)"
       ]
      },
      {
       "output_type": "stream",
       "stream": "stdout",
       "text": [
        "\n",
        "iteration: 472 @ time: 141599.61600 s (39 h 19 min 59.616 s)"
       ]
      },
      {
       "output_type": "stream",
       "stream": "stdout",
       "text": [
        "\n",
        "acquiring signal (channel 1)\n",
        "acquiring ramp (channel 2)"
       ]
      },
      {
       "output_type": "stream",
       "stream": "stdout",
       "text": [
        "\n",
        "iteration: 473 @ time: 141899.58200 s (39 h 24 min 59.582 s)"
       ]
      },
      {
       "output_type": "stream",
       "stream": "stdout",
       "text": [
        "\n",
        "acquiring signal (channel 1)\n",
        "acquiring ramp (channel 2)"
       ]
      },
      {
       "output_type": "stream",
       "stream": "stdout",
       "text": [
        "\n",
        "iteration: 474 @ time: 142199.54300 s (39 h 29 min 59.543 s)"
       ]
      },
      {
       "output_type": "stream",
       "stream": "stdout",
       "text": [
        "\n",
        "acquiring signal (channel 1)\n",
        "acquiring ramp (channel 2)"
       ]
      },
      {
       "output_type": "stream",
       "stream": "stdout",
       "text": [
        "\n",
        "iteration: 475 @ time: 142499.61900 s (39 h 34 min 59.619 s)"
       ]
      },
      {
       "output_type": "stream",
       "stream": "stdout",
       "text": [
        "\n",
        "acquiring signal (channel 1)\n",
        "acquiring ramp (channel 2)"
       ]
      },
      {
       "output_type": "stream",
       "stream": "stdout",
       "text": [
        "\n",
        "iteration: 476 @ time: 142799.59200 s (39 h 39 min 59.592 s)"
       ]
      },
      {
       "output_type": "stream",
       "stream": "stdout",
       "text": [
        "\n",
        "acquiring signal (channel 1)\n",
        "acquiring ramp (channel 2)"
       ]
      },
      {
       "output_type": "stream",
       "stream": "stdout",
       "text": [
        "\n",
        "iteration: 477 @ time: 143099.55300 s (39 h 44 min 59.553 s)"
       ]
      },
      {
       "output_type": "stream",
       "stream": "stdout",
       "text": [
        "\n",
        "acquiring signal (channel 1)\n",
        "acquiring ramp (channel 2)"
       ]
      },
      {
       "output_type": "stream",
       "stream": "stdout",
       "text": [
        "\n",
        "iteration: 478 @ time: 143399.61800 s (39 h 49 min 59.618 s)"
       ]
      },
      {
       "output_type": "stream",
       "stream": "stdout",
       "text": [
        "\n",
        "acquiring signal (channel 1)\n",
        "acquiring ramp (channel 2)"
       ]
      },
      {
       "output_type": "stream",
       "stream": "stdout",
       "text": [
        "\n",
        "iteration: 479 @ time: 143699.55700 s (39 h 54 min 59.557 s)"
       ]
      },
      {
       "output_type": "stream",
       "stream": "stdout",
       "text": [
        "\n",
        "acquiring signal (channel 1)\n",
        "acquiring ramp (channel 2)"
       ]
      },
      {
       "output_type": "stream",
       "stream": "stdout",
       "text": [
        "\n",
        "iteration: 480 @ time: 143999.56300 s (39 h 59 min 59.563 s)"
       ]
      },
      {
       "output_type": "stream",
       "stream": "stdout",
       "text": [
        "\n",
        "acquiring signal (channel 1)\n",
        "acquiring ramp (channel 2)"
       ]
      },
      {
       "output_type": "stream",
       "stream": "stdout",
       "text": [
        "\n",
        "iteration: 481 @ time: 144299.62500 s (40 h  4 min 59.625 s)"
       ]
      },
      {
       "output_type": "stream",
       "stream": "stdout",
       "text": [
        "\n",
        "acquiring signal (channel 1)\n",
        "acquiring ramp (channel 2)"
       ]
      },
      {
       "output_type": "stream",
       "stream": "stdout",
       "text": [
        "\n",
        "iteration: 482 @ time: 144599.57900 s (40 h  9 min 59.579 s)"
       ]
      },
      {
       "output_type": "stream",
       "stream": "stdout",
       "text": [
        "\n",
        "acquiring signal (channel 1)\n",
        "acquiring ramp (channel 2)"
       ]
      },
      {
       "output_type": "stream",
       "stream": "stdout",
       "text": [
        "\n",
        "iteration: 483 @ time: 144899.55900 s (40 h 14 min 59.559 s)"
       ]
      },
      {
       "output_type": "stream",
       "stream": "stdout",
       "text": [
        "\n",
        "acquiring signal (channel 1)\n",
        "acquiring ramp (channel 2)"
       ]
      },
      {
       "output_type": "stream",
       "stream": "stdout",
       "text": [
        "\n",
        "iteration: 484 @ time: 145199.63400 s (40 h 19 min 59.634 s)"
       ]
      },
      {
       "output_type": "stream",
       "stream": "stdout",
       "text": [
        "\n",
        "acquiring signal (channel 1)\n",
        "acquiring ramp (channel 2)"
       ]
      },
      {
       "output_type": "stream",
       "stream": "stdout",
       "text": [
        "\n",
        "iteration: 485 @ time: 145499.58200 s (40 h 24 min 59.582 s)"
       ]
      },
      {
       "output_type": "stream",
       "stream": "stdout",
       "text": [
        "\n",
        "acquiring signal (channel 1)\n",
        "acquiring ramp (channel 2)"
       ]
      },
      {
       "output_type": "stream",
       "stream": "stdout",
       "text": [
        "\n",
        "iteration: 486 @ time: 145799.55500 s (40 h 29 min 59.555 s)"
       ]
      },
      {
       "output_type": "stream",
       "stream": "stdout",
       "text": [
        "\n",
        "acquiring signal (channel 1)\n",
        "acquiring ramp (channel 2)"
       ]
      },
      {
       "output_type": "stream",
       "stream": "stdout",
       "text": [
        "\n",
        "iteration: 487 @ time: 146099.61900 s (40 h 34 min 59.619 s)"
       ]
      },
      {
       "output_type": "stream",
       "stream": "stdout",
       "text": [
        "\n",
        "acquiring signal (channel 1)\n",
        "acquiring ramp (channel 2)"
       ]
      },
      {
       "output_type": "stream",
       "stream": "stdout",
       "text": [
        "\n",
        "iteration: 488 @ time: 146399.59700 s (40 h 39 min 59.597 s)"
       ]
      },
      {
       "output_type": "stream",
       "stream": "stdout",
       "text": [
        "\n",
        "acquiring signal (channel 1)\n",
        "acquiring ramp (channel 2)"
       ]
      },
      {
       "output_type": "stream",
       "stream": "stdout",
       "text": [
        "\n",
        "iteration: 489 @ time: 146699.56500 s (40 h 44 min 59.565 s)"
       ]
      },
      {
       "output_type": "stream",
       "stream": "stdout",
       "text": [
        "\n",
        "acquiring signal (channel 1)\n",
        "acquiring ramp (channel 2)"
       ]
      },
      {
       "output_type": "stream",
       "stream": "stdout",
       "text": [
        "\n",
        "iteration: 490 @ time: 146999.60800 s (40 h 49 min 59.608 s)"
       ]
      },
      {
       "output_type": "stream",
       "stream": "stdout",
       "text": [
        "\n",
        "acquiring signal (channel 1)\n",
        "acquiring ramp (channel 2)"
       ]
      },
      {
       "output_type": "stream",
       "stream": "stdout",
       "text": [
        "\n",
        "iteration: 491 @ time: 147299.61800 s (40 h 54 min 59.618 s)"
       ]
      },
      {
       "output_type": "stream",
       "stream": "stdout",
       "text": [
        "\n",
        "acquiring signal (channel 1)\n",
        "acquiring ramp (channel 2)"
       ]
      },
      {
       "output_type": "stream",
       "stream": "stdout",
       "text": [
        "\n",
        "iteration: 492 @ time: 147599.57400 s (40 h 59 min 59.574 s)"
       ]
      },
      {
       "output_type": "stream",
       "stream": "stdout",
       "text": [
        "\n",
        "acquiring signal (channel 1)\n",
        "acquiring ramp (channel 2)"
       ]
      },
      {
       "output_type": "stream",
       "stream": "stdout",
       "text": [
        "\n",
        "iteration: 493 @ time: 147899.54500 s (41 h  4 min 59.545 s)"
       ]
      },
      {
       "output_type": "stream",
       "stream": "stdout",
       "text": [
        "\n",
        "acquiring signal (channel 1)\n",
        "acquiring ramp (channel 2)"
       ]
      },
      {
       "output_type": "stream",
       "stream": "stdout",
       "text": [
        "\n",
        "iteration: 494 @ time: 148199.58400 s (41 h  9 min 59.584 s)"
       ]
      },
      {
       "output_type": "stream",
       "stream": "stdout",
       "text": [
        "\n",
        "acquiring signal (channel 1)\n",
        "acquiring ramp (channel 2)"
       ]
      },
      {
       "output_type": "stream",
       "stream": "stdout",
       "text": [
        "\n",
        "iteration: 495 @ time: 148499.57800 s (41 h 14 min 59.578 s)"
       ]
      },
      {
       "output_type": "stream",
       "stream": "stdout",
       "text": [
        "\n",
        "acquiring signal (channel 1)\n",
        "acquiring ramp (channel 2)"
       ]
      },
      {
       "output_type": "stream",
       "stream": "stdout",
       "text": [
        "\n",
        "iteration: 496 @ time: 148799.54800 s (41 h 19 min 59.548 s)"
       ]
      },
      {
       "output_type": "stream",
       "stream": "stdout",
       "text": [
        "\n",
        "acquiring signal (channel 1)\n",
        "acquiring ramp (channel 2)"
       ]
      },
      {
       "output_type": "stream",
       "stream": "stdout",
       "text": [
        "\n",
        "iteration: 497 @ time: 149099.61100 s (41 h 24 min 59.611 s)"
       ]
      },
      {
       "output_type": "stream",
       "stream": "stdout",
       "text": [
        "\n",
        "acquiring signal (channel 1)\n",
        "acquiring ramp (channel 2)"
       ]
      },
      {
       "output_type": "stream",
       "stream": "stdout",
       "text": [
        "\n",
        "iteration: 498 @ time: 149399.59600 s (41 h 29 min 59.596 s)"
       ]
      },
      {
       "output_type": "stream",
       "stream": "stdout",
       "text": [
        "\n",
        "acquiring signal (channel 1)\n",
        "acquiring ramp (channel 2)"
       ]
      },
      {
       "output_type": "stream",
       "stream": "stdout",
       "text": [
        "\n",
        "iteration: 499 @ time: 149699.63700 s (41 h 34 min 59.637 s)"
       ]
      },
      {
       "output_type": "stream",
       "stream": "stdout",
       "text": [
        "\n",
        "acquiring signal (channel 1)\n",
        "acquiring ramp (channel 2)"
       ]
      },
      {
       "output_type": "stream",
       "stream": "stdout",
       "text": [
        "\n",
        "iteration: 500 @ time: 149999.60800 s (41 h 39 min 59.608 s)"
       ]
      },
      {
       "output_type": "stream",
       "stream": "stdout",
       "text": [
        "\n",
        "acquiring signal (channel 1)\n",
        "acquiring ramp (channel 2)"
       ]
      },
      {
       "output_type": "stream",
       "stream": "stdout",
       "text": [
        "\n",
        "iteration: 501 @ time: 150299.59000 s (41 h 44 min 59.590 s)"
       ]
      },
      {
       "output_type": "stream",
       "stream": "stdout",
       "text": [
        "\n",
        "acquiring signal (channel 1)\n",
        "acquiring ramp (channel 2)"
       ]
      },
      {
       "output_type": "stream",
       "stream": "stdout",
       "text": [
        "\n",
        "iteration: 502 @ time: 150599.56200 s (41 h 49 min 59.562 s)"
       ]
      },
      {
       "output_type": "stream",
       "stream": "stdout",
       "text": [
        "\n",
        "acquiring signal (channel 1)\n",
        "acquiring ramp (channel 2)"
       ]
      },
      {
       "output_type": "stream",
       "stream": "stdout",
       "text": [
        "\n",
        "iteration: 503 @ time: 150899.62300 s (41 h 54 min 59.623 s)"
       ]
      },
      {
       "output_type": "stream",
       "stream": "stdout",
       "text": [
        "\n",
        "acquiring signal (channel 1)\n",
        "acquiring ramp (channel 2)"
       ]
      },
      {
       "output_type": "stream",
       "stream": "stdout",
       "text": [
        "\n",
        "iteration: 504 @ time: 151199.58600 s (41 h 59 min 59.586 s)"
       ]
      },
      {
       "output_type": "stream",
       "stream": "stdout",
       "text": [
        "\n",
        "acquiring signal (channel 1)\n",
        "acquiring ramp (channel 2)"
       ]
      },
      {
       "output_type": "stream",
       "stream": "stdout",
       "text": [
        "\n",
        "iteration: 505 @ time: 151499.55700 s (42 h  4 min 59.557 s)"
       ]
      },
      {
       "output_type": "stream",
       "stream": "stdout",
       "text": [
        "\n",
        "acquiring signal (channel 1)\n",
        "acquiring ramp (channel 2)"
       ]
      },
      {
       "output_type": "stream",
       "stream": "stdout",
       "text": [
        "\n",
        "iteration: 506 @ time: 151799.63100 s (42 h  9 min 59.631 s)"
       ]
      },
      {
       "output_type": "stream",
       "stream": "stdout",
       "text": [
        "\n",
        "acquiring signal (channel 1)\n",
        "acquiring ramp (channel 2)"
       ]
      },
      {
       "output_type": "stream",
       "stream": "stdout",
       "text": [
        "\n",
        "iteration: 507 @ time: 152099.59100 s (42 h 14 min 59.591 s)"
       ]
      },
      {
       "output_type": "stream",
       "stream": "stdout",
       "text": [
        "\n",
        "acquiring signal (channel 1)\n",
        "acquiring ramp (channel 2)"
       ]
      },
      {
       "output_type": "stream",
       "stream": "stdout",
       "text": [
        "\n",
        "iteration: 508 @ time: 152399.55400 s (42 h 19 min 59.554 s)"
       ]
      },
      {
       "output_type": "stream",
       "stream": "stdout",
       "text": [
        "\n",
        "acquiring signal (channel 1)\n",
        "acquiring ramp (channel 2)"
       ]
      },
      {
       "output_type": "stream",
       "stream": "stdout",
       "text": [
        "\n",
        "iteration: 509 @ time: 152699.61800 s (42 h 24 min 59.618 s)"
       ]
      },
      {
       "output_type": "stream",
       "stream": "stdout",
       "text": [
        "\n",
        "acquiring signal (channel 1)\n",
        "acquiring ramp (channel 2)"
       ]
      },
      {
       "output_type": "stream",
       "stream": "stdout",
       "text": [
        "\n",
        "iteration: 510 @ time: 152999.60000 s (42 h 29 min 59.600 s)"
       ]
      },
      {
       "output_type": "stream",
       "stream": "stdout",
       "text": [
        "\n",
        "acquiring signal (channel 1)\n",
        "acquiring ramp (channel 2)"
       ]
      },
      {
       "output_type": "stream",
       "stream": "stdout",
       "text": [
        "\n",
        "iteration: 511 @ time: 153299.55900 s (42 h 34 min 59.559 s)"
       ]
      },
      {
       "output_type": "stream",
       "stream": "stdout",
       "text": [
        "\n",
        "acquiring signal (channel 1)\n",
        "acquiring ramp (channel 2)"
       ]
      },
      {
       "output_type": "stream",
       "stream": "stdout",
       "text": [
        "\n",
        "iteration: 512 @ time: 153599.62600 s (42 h 39 min 59.626 s)"
       ]
      },
      {
       "output_type": "stream",
       "stream": "stdout",
       "text": [
        "\n",
        "acquiring signal (channel 1)\n",
        "acquiring ramp (channel 2)"
       ]
      },
      {
       "output_type": "stream",
       "stream": "stdout",
       "text": [
        "\n",
        "iteration: 513 @ time: 153899.60800 s (42 h 44 min 59.608 s)"
       ]
      },
      {
       "output_type": "stream",
       "stream": "stdout",
       "text": [
        "\n",
        "acquiring signal (channel 1)\n",
        "acquiring ramp (channel 2)"
       ]
      },
      {
       "output_type": "stream",
       "stream": "stdout",
       "text": [
        "\n",
        "iteration: 514 @ time: 154199.56900 s (42 h 49 min 59.569 s)"
       ]
      },
      {
       "output_type": "stream",
       "stream": "stdout",
       "text": [
        "\n",
        "acquiring signal (channel 1)\n",
        "acquiring ramp (channel 2)"
       ]
      },
      {
       "output_type": "stream",
       "stream": "stdout",
       "text": [
        "\n",
        "iteration: 515 @ time: 154499.63200 s (42 h 54 min 59.632 s)"
       ]
      },
      {
       "output_type": "stream",
       "stream": "stdout",
       "text": [
        "\n",
        "acquiring signal (channel 1)\n",
        "acquiring ramp (channel 2)"
       ]
      },
      {
       "output_type": "stream",
       "stream": "stdout",
       "text": [
        "\n",
        "iteration: 516 @ time: 154799.59600 s (42 h 59 min 59.596 s)"
       ]
      },
      {
       "output_type": "stream",
       "stream": "stdout",
       "text": [
        "\n",
        "acquiring signal (channel 1)\n",
        "acquiring ramp (channel 2)"
       ]
      },
      {
       "output_type": "stream",
       "stream": "stdout",
       "text": [
        "\n",
        "iteration: 517 @ time: 155099.56000 s (43 h  4 min 59.560 s)"
       ]
      },
      {
       "output_type": "stream",
       "stream": "stdout",
       "text": [
        "\n",
        "acquiring signal (channel 1)\n",
        "acquiring ramp (channel 2)"
       ]
      },
      {
       "output_type": "stream",
       "stream": "stdout",
       "text": [
        "\n",
        "iteration: 518 @ time: 155399.54100 s (43 h  9 min 59.541 s)"
       ]
      },
      {
       "output_type": "stream",
       "stream": "stdout",
       "text": [
        "\n",
        "acquiring signal (channel 1)\n",
        "acquiring ramp (channel 2)"
       ]
      },
      {
       "output_type": "stream",
       "stream": "stdout",
       "text": [
        "\n",
        "iteration: 519 @ time: 155699.61200 s (43 h 14 min 59.612 s)"
       ]
      },
      {
       "output_type": "stream",
       "stream": "stdout",
       "text": [
        "\n",
        "acquiring signal (channel 1)\n",
        "acquiring ramp (channel 2)"
       ]
      },
      {
       "output_type": "stream",
       "stream": "stdout",
       "text": [
        "\n",
        "iteration: 520 @ time: 155999.54900 s (43 h 19 min 59.549 s)"
       ]
      },
      {
       "output_type": "stream",
       "stream": "stdout",
       "text": [
        "\n",
        "acquiring signal (channel 1)\n",
        "acquiring ramp (channel 2)"
       ]
      },
      {
       "output_type": "stream",
       "stream": "stdout",
       "text": [
        "\n",
        "iteration: 521 @ time: 156299.54400 s (43 h 24 min 59.544 s)"
       ]
      },
      {
       "output_type": "stream",
       "stream": "stdout",
       "text": [
        "\n",
        "acquiring signal (channel 1)\n",
        "acquiring ramp (channel 2)"
       ]
      },
      {
       "output_type": "stream",
       "stream": "stdout",
       "text": [
        "\n",
        "iteration: 522 @ time: 156599.61400 s (43 h 29 min 59.614 s)"
       ]
      },
      {
       "output_type": "stream",
       "stream": "stdout",
       "text": [
        "\n",
        "acquiring signal (channel 1)\n",
        "acquiring ramp (channel 2)"
       ]
      },
      {
       "output_type": "stream",
       "stream": "stdout",
       "text": [
        "\n",
        "iteration: 523 @ time: 156899.57900 s (43 h 34 min 59.579 s)"
       ]
      },
      {
       "output_type": "stream",
       "stream": "stdout",
       "text": [
        "\n",
        "acquiring signal (channel 1)\n",
        "acquiring ramp (channel 2)"
       ]
      },
      {
       "output_type": "stream",
       "stream": "stdout",
       "text": [
        "\n",
        "iteration: 524 @ time: 157199.54900 s (43 h 39 min 59.549 s)"
       ]
      },
      {
       "output_type": "stream",
       "stream": "stdout",
       "text": [
        "\n",
        "acquiring signal (channel 1)\n",
        "acquiring ramp (channel 2)"
       ]
      },
      {
       "output_type": "stream",
       "stream": "stdout",
       "text": [
        "\n",
        "iteration: 525 @ time: 157499.61400 s (43 h 44 min 59.614 s)"
       ]
      },
      {
       "output_type": "stream",
       "stream": "stdout",
       "text": [
        "\n",
        "acquiring signal (channel 1)\n",
        "acquiring ramp (channel 2)"
       ]
      },
      {
       "output_type": "stream",
       "stream": "stdout",
       "text": [
        "\n",
        "iteration: 526 @ time: 157799.58600 s (43 h 49 min 59.586 s)"
       ]
      },
      {
       "output_type": "stream",
       "stream": "stdout",
       "text": [
        "\n",
        "acquiring signal (channel 1)\n",
        "acquiring ramp (channel 2)"
       ]
      },
      {
       "output_type": "stream",
       "stream": "stdout",
       "text": [
        "\n",
        "iteration: 527 @ time: 158099.54400 s (43 h 54 min 59.544 s)"
       ]
      },
      {
       "output_type": "stream",
       "stream": "stdout",
       "text": [
        "\n",
        "acquiring signal (channel 1)\n",
        "acquiring ramp (channel 2)"
       ]
      },
      {
       "output_type": "stream",
       "stream": "stdout",
       "text": [
        "\n",
        "iteration: 528 @ time: 158399.62700 s (43 h 59 min 59.627 s)"
       ]
      },
      {
       "output_type": "stream",
       "stream": "stdout",
       "text": [
        "\n",
        "acquiring signal (channel 1)\n",
        "acquiring ramp (channel 2)"
       ]
      },
      {
       "output_type": "stream",
       "stream": "stdout",
       "text": [
        "\n",
        "iteration: 529 @ time: 158699.55800 s (44 h  4 min 59.558 s)"
       ]
      },
      {
       "output_type": "stream",
       "stream": "stdout",
       "text": [
        "\n",
        "acquiring signal (channel 1)\n",
        "acquiring ramp (channel 2)"
       ]
      },
      {
       "output_type": "stream",
       "stream": "stdout",
       "text": [
        "\n",
        "iteration: 530 @ time: 158999.55500 s (44 h  9 min 59.555 s)"
       ]
      },
      {
       "output_type": "stream",
       "stream": "stdout",
       "text": [
        "\n",
        "acquiring signal (channel 1)\n",
        "acquiring ramp (channel 2)"
       ]
      },
      {
       "output_type": "stream",
       "stream": "stdout",
       "text": [
        "\n",
        "iteration: 531 @ time: 159299.62100 s (44 h 14 min 59.621 s)"
       ]
      },
      {
       "output_type": "stream",
       "stream": "stdout",
       "text": [
        "\n",
        "acquiring signal (channel 1)\n",
        "acquiring ramp (channel 2)"
       ]
      },
      {
       "output_type": "stream",
       "stream": "stdout",
       "text": [
        "\n",
        "iteration: 532 @ time: 159599.59900 s (44 h 19 min 59.599 s)"
       ]
      },
      {
       "output_type": "stream",
       "stream": "stdout",
       "text": [
        "\n",
        "acquiring signal (channel 1)\n",
        "acquiring ramp (channel 2)"
       ]
      },
      {
       "output_type": "stream",
       "stream": "stdout",
       "text": [
        "\n",
        "iteration: 533 @ time: 159899.56000 s (44 h 24 min 59.560 s)"
       ]
      },
      {
       "output_type": "stream",
       "stream": "stdout",
       "text": [
        "\n",
        "acquiring signal (channel 1)\n",
        "acquiring ramp (channel 2)"
       ]
      },
      {
       "output_type": "stream",
       "stream": "stdout",
       "text": [
        "\n",
        "iteration: 534 @ time: 160199.62300 s (44 h 29 min 59.623 s)"
       ]
      },
      {
       "output_type": "stream",
       "stream": "stdout",
       "text": [
        "\n",
        "acquiring signal (channel 1)\n",
        "acquiring ramp (channel 2)"
       ]
      },
      {
       "output_type": "stream",
       "stream": "stdout",
       "text": [
        "\n",
        "iteration: 535 @ time: 160499.58900 s (44 h 34 min 59.589 s)"
       ]
      },
      {
       "output_type": "stream",
       "stream": "stdout",
       "text": [
        "\n",
        "acquiring signal (channel 1)\n",
        "acquiring ramp (channel 2)"
       ]
      },
      {
       "output_type": "stream",
       "stream": "stdout",
       "text": [
        "\n",
        "iteration: 536 @ time: 160799.56900 s (44 h 39 min 59.569 s)"
       ]
      },
      {
       "output_type": "stream",
       "stream": "stdout",
       "text": [
        "\n",
        "acquiring signal (channel 1)\n",
        "acquiring ramp (channel 2)"
       ]
      },
      {
       "output_type": "stream",
       "stream": "stdout",
       "text": [
        "\n",
        "iteration: 537 @ time: 161099.63000 s (44 h 44 min 59.630 s)"
       ]
      },
      {
       "output_type": "stream",
       "stream": "stdout",
       "text": [
        "\n",
        "acquiring signal (channel 1)\n",
        "acquiring ramp (channel 2)"
       ]
      },
      {
       "output_type": "stream",
       "stream": "stdout",
       "text": [
        "\n",
        "iteration: 538 @ time: 161399.57400 s (44 h 49 min 59.574 s)"
       ]
      },
      {
       "output_type": "stream",
       "stream": "stdout",
       "text": [
        "\n",
        "acquiring signal (channel 1)\n",
        "acquiring ramp (channel 2)"
       ]
      },
      {
       "output_type": "stream",
       "stream": "stdout",
       "text": [
        "\n",
        "iteration: 539 @ time: 161699.63700 s (44 h 54 min 59.637 s)"
       ]
      },
      {
       "output_type": "stream",
       "stream": "stdout",
       "text": [
        "\n",
        "acquiring signal (channel 1)\n",
        "acquiring ramp (channel 2)"
       ]
      },
      {
       "output_type": "stream",
       "stream": "stdout",
       "text": [
        "\n",
        "iteration: 540 @ time: 161999.54200 s (44 h 59 min 59.542 s)"
       ]
      },
      {
       "output_type": "stream",
       "stream": "stdout",
       "text": [
        "\n",
        "acquiring signal (channel 1)\n",
        "acquiring ramp (channel 2)"
       ]
      },
      {
       "output_type": "stream",
       "stream": "stdout",
       "text": [
        "\n",
        "iteration: 541 @ time: 162299.57400 s (45 h  4 min 59.574 s)"
       ]
      },
      {
       "output_type": "stream",
       "stream": "stdout",
       "text": [
        "\n",
        "acquiring signal (channel 1)\n",
        "acquiring ramp (channel 2)"
       ]
      },
      {
       "output_type": "stream",
       "stream": "stdout",
       "text": [
        "\n",
        "iteration: 542 @ time: 162599.55900 s (45 h  9 min 59.559 s)"
       ]
      },
      {
       "output_type": "stream",
       "stream": "stdout",
       "text": [
        "\n",
        "acquiring signal (channel 1)\n",
        "acquiring ramp (channel 2)"
       ]
      },
      {
       "output_type": "stream",
       "stream": "stdout",
       "text": [
        "\n",
        "iteration: 543 @ time: 162899.54100 s (45 h 14 min 59.541 s)"
       ]
      },
      {
       "output_type": "stream",
       "stream": "stdout",
       "text": [
        "\n",
        "acquiring signal (channel 1)\n",
        "acquiring ramp (channel 2)"
       ]
      },
      {
       "output_type": "stream",
       "stream": "stdout",
       "text": [
        "\n",
        "iteration: 544 @ time: 163199.60900 s (45 h 19 min 59.609 s)"
       ]
      },
      {
       "output_type": "stream",
       "stream": "stdout",
       "text": [
        "\n",
        "acquiring signal (channel 1)\n",
        "acquiring ramp (channel 2)"
       ]
      },
      {
       "output_type": "stream",
       "stream": "stdout",
       "text": [
        "\n",
        "iteration: 545 @ time: 163499.57400 s (45 h 24 min 59.574 s)"
       ]
      },
      {
       "output_type": "stream",
       "stream": "stdout",
       "text": [
        "\n",
        "acquiring signal (channel 1)\n",
        "acquiring ramp (channel 2)"
       ]
      },
      {
       "output_type": "stream",
       "stream": "stdout",
       "text": [
        "\n",
        "iteration: 546 @ time: 163799.56100 s (45 h 29 min 59.561 s)"
       ]
      },
      {
       "output_type": "stream",
       "stream": "stdout",
       "text": [
        "\n",
        "acquiring signal (channel 1)\n",
        "acquiring ramp (channel 2)"
       ]
      },
      {
       "output_type": "stream",
       "stream": "stdout",
       "text": [
        "\n",
        "iteration: 547 @ time: 164099.61200 s (45 h 34 min 59.612 s)"
       ]
      },
      {
       "output_type": "stream",
       "stream": "stdout",
       "text": [
        "\n",
        "acquiring signal (channel 1)\n",
        "acquiring ramp (channel 2)"
       ]
      },
      {
       "output_type": "stream",
       "stream": "stdout",
       "text": [
        "\n",
        "iteration: 548 @ time: 164399.57900 s (45 h 39 min 59.579 s)"
       ]
      },
      {
       "output_type": "stream",
       "stream": "stdout",
       "text": [
        "\n",
        "acquiring signal (channel 1)\n",
        "acquiring ramp (channel 2)"
       ]
      },
      {
       "output_type": "stream",
       "stream": "stdout",
       "text": [
        "\n",
        "iteration: 549 @ time: 164699.54600 s (45 h 44 min 59.546 s)"
       ]
      },
      {
       "output_type": "stream",
       "stream": "stdout",
       "text": [
        "\n",
        "acquiring signal (channel 1)\n",
        "acquiring ramp (channel 2)"
       ]
      },
      {
       "output_type": "stream",
       "stream": "stdout",
       "text": [
        "\n",
        "iteration: 550 @ time: 164999.60600 s (45 h 49 min 59.606 s)"
       ]
      },
      {
       "output_type": "stream",
       "stream": "stdout",
       "text": [
        "\n",
        "acquiring signal (channel 1)\n",
        "acquiring ramp (channel 2)"
       ]
      },
      {
       "output_type": "stream",
       "stream": "stdout",
       "text": [
        "\n",
        "iteration: 551 @ time: 165299.58300 s (45 h 54 min 59.583 s)"
       ]
      },
      {
       "output_type": "stream",
       "stream": "stdout",
       "text": [
        "\n",
        "acquiring signal (channel 1)\n",
        "acquiring ramp (channel 2)"
       ]
      },
      {
       "output_type": "stream",
       "stream": "stdout",
       "text": [
        "\n",
        "iteration: 552 @ time: 165599.63600 s (45 h 59 min 59.636 s)"
       ]
      },
      {
       "output_type": "stream",
       "stream": "stdout",
       "text": [
        "\n",
        "acquiring signal (channel 1)\n",
        "acquiring ramp (channel 2)"
       ]
      },
      {
       "output_type": "stream",
       "stream": "stdout",
       "text": [
        "\n",
        "iteration: 553 @ time: 165899.58900 s (46 h  4 min 59.589 s)"
       ]
      },
      {
       "output_type": "stream",
       "stream": "stdout",
       "text": [
        "\n",
        "acquiring signal (channel 1)\n",
        "acquiring ramp (channel 2)"
       ]
      },
      {
       "output_type": "stream",
       "stream": "stdout",
       "text": [
        "\n",
        "iteration: 554 @ time: 166199.56100 s (46 h  9 min 59.561 s)"
       ]
      },
      {
       "output_type": "stream",
       "stream": "stdout",
       "text": [
        "\n",
        "acquiring signal (channel 1)\n",
        "acquiring ramp (channel 2)"
       ]
      },
      {
       "output_type": "stream",
       "stream": "stdout",
       "text": [
        "\n",
        "iteration: 555 @ time: 166499.55900 s (46 h 14 min 59.559 s)"
       ]
      },
      {
       "output_type": "stream",
       "stream": "stdout",
       "text": [
        "\n",
        "acquiring signal (channel 1)\n",
        "acquiring ramp (channel 2)"
       ]
      },
      {
       "output_type": "stream",
       "stream": "stdout",
       "text": [
        "\n",
        "iteration: 556 @ time: 166799.62200 s (46 h 19 min 59.622 s)"
       ]
      },
      {
       "output_type": "stream",
       "stream": "stdout",
       "text": [
        "\n",
        "acquiring signal (channel 1)\n",
        "acquiring ramp (channel 2)"
       ]
      },
      {
       "output_type": "stream",
       "stream": "stdout",
       "text": [
        "\n",
        "iteration: 557 @ time: 167099.58300 s (46 h 24 min 59.583 s)"
       ]
      },
      {
       "output_type": "stream",
       "stream": "stdout",
       "text": [
        "\n",
        "acquiring signal (channel 1)\n",
        "acquiring ramp (channel 2)"
       ]
      },
      {
       "output_type": "stream",
       "stream": "stdout",
       "text": [
        "\n",
        "iteration: 558 @ time: 167399.55000 s (46 h 29 min 59.550 s)"
       ]
      },
      {
       "output_type": "stream",
       "stream": "stdout",
       "text": [
        "\n",
        "acquiring signal (channel 1)\n",
        "acquiring ramp (channel 2)"
       ]
      },
      {
       "output_type": "stream",
       "stream": "stdout",
       "text": [
        "\n",
        "iteration: 559 @ time: 167699.61200 s (46 h 34 min 59.612 s)"
       ]
      },
      {
       "output_type": "stream",
       "stream": "stdout",
       "text": [
        "\n",
        "acquiring signal (channel 1)\n",
        "acquiring ramp (channel 2)"
       ]
      },
      {
       "output_type": "stream",
       "stream": "stdout",
       "text": [
        "\n",
        "iteration: 560 @ time: 167999.59000 s (46 h 39 min 59.590 s)"
       ]
      },
      {
       "output_type": "stream",
       "stream": "stdout",
       "text": [
        "\n",
        "acquiring signal (channel 1)\n",
        "acquiring ramp (channel 2)"
       ]
      },
      {
       "output_type": "stream",
       "stream": "stdout",
       "text": [
        "\n",
        "iteration: 561 @ time: 168299.54200 s (46 h 44 min 59.542 s)"
       ]
      },
      {
       "output_type": "stream",
       "stream": "stdout",
       "text": [
        "\n",
        "acquiring signal (channel 1)\n",
        "acquiring ramp (channel 2)"
       ]
      },
      {
       "output_type": "stream",
       "stream": "stdout",
       "text": [
        "\n",
        "iteration: 562 @ time: 168599.62900 s (46 h 49 min 59.629 s)"
       ]
      },
      {
       "output_type": "stream",
       "stream": "stdout",
       "text": [
        "\n",
        "acquiring signal (channel 1)\n",
        "acquiring ramp (channel 2)"
       ]
      },
      {
       "output_type": "stream",
       "stream": "stdout",
       "text": [
        "\n",
        "iteration: 563 @ time: 168899.59900 s (46 h 54 min 59.599 s)"
       ]
      },
      {
       "output_type": "stream",
       "stream": "stdout",
       "text": [
        "\n",
        "acquiring signal (channel 1)\n",
        "acquiring ramp (channel 2)"
       ]
      },
      {
       "output_type": "stream",
       "stream": "stdout",
       "text": [
        "\n",
        "iteration: 564 @ time: 169199.55700 s (46 h 59 min 59.557 s)"
       ]
      },
      {
       "output_type": "stream",
       "stream": "stdout",
       "text": [
        "\n",
        "acquiring signal (channel 1)\n",
        "acquiring ramp (channel 2)"
       ]
      },
      {
       "output_type": "stream",
       "stream": "stdout",
       "text": [
        "\n",
        "iteration: 565 @ time: 169499.62600 s (47 h  4 min 59.626 s)"
       ]
      },
      {
       "output_type": "stream",
       "stream": "stdout",
       "text": [
        "\n",
        "acquiring signal (channel 1)\n",
        "acquiring ramp (channel 2)"
       ]
      },
      {
       "output_type": "stream",
       "stream": "stdout",
       "text": [
        "\n",
        "iteration: 566 @ time: 169799.58100 s (47 h  9 min 59.581 s)"
       ]
      },
      {
       "output_type": "stream",
       "stream": "stdout",
       "text": [
        "\n",
        "acquiring signal (channel 1)\n",
        "acquiring ramp (channel 2)"
       ]
      },
      {
       "output_type": "stream",
       "stream": "stdout",
       "text": [
        "\n",
        "iteration: 567 @ time: 170099.56700 s (47 h 14 min 59.567 s)"
       ]
      },
      {
       "output_type": "stream",
       "stream": "stdout",
       "text": [
        "\n",
        "acquiring signal (channel 1)\n",
        "acquiring ramp (channel 2)"
       ]
      },
      {
       "output_type": "stream",
       "stream": "stdout",
       "text": [
        "\n",
        "iteration: 568 @ time: 170399.63200 s (47 h 19 min 59.632 s)"
       ]
      },
      {
       "output_type": "stream",
       "stream": "stdout",
       "text": [
        "\n",
        "acquiring signal (channel 1)\n",
        "acquiring ramp (channel 2)"
       ]
      },
      {
       "output_type": "stream",
       "stream": "stdout",
       "text": [
        "\n",
        "iteration: 569 @ time: 170699.60000 s (47 h 24 min 59.600 s)"
       ]
      },
      {
       "output_type": "stream",
       "stream": "stdout",
       "text": [
        "\n",
        "acquiring signal (channel 1)\n",
        "acquiring ramp (channel 2)"
       ]
      },
      {
       "output_type": "stream",
       "stream": "stdout",
       "text": [
        "\n",
        "iteration: 570 @ time: 170999.57800 s (47 h 29 min 59.578 s)"
       ]
      },
      {
       "output_type": "stream",
       "stream": "stdout",
       "text": [
        "\n",
        "acquiring signal (channel 1)\n",
        "acquiring ramp (channel 2)"
       ]
      },
      {
       "output_type": "stream",
       "stream": "stdout",
       "text": [
        "\n",
        "iteration: 571 @ time: 171299.54100 s (47 h 34 min 59.541 s)"
       ]
      },
      {
       "output_type": "stream",
       "stream": "stdout",
       "text": [
        "\n",
        "acquiring signal (channel 1)\n",
        "acquiring ramp (channel 2)"
       ]
      },
      {
       "output_type": "stream",
       "stream": "stdout",
       "text": [
        "\n",
        "iteration: 572 @ time: 171599.60700 s (47 h 39 min 59.607 s)"
       ]
      },
      {
       "output_type": "stream",
       "stream": "stdout",
       "text": [
        "\n",
        "acquiring signal (channel 1)\n",
        "acquiring ramp (channel 2)"
       ]
      },
      {
       "output_type": "stream",
       "stream": "stdout",
       "text": [
        "\n",
        "iteration: 573 @ time: 171899.56700 s (47 h 44 min 59.567 s)"
       ]
      },
      {
       "output_type": "stream",
       "stream": "stdout",
       "text": [
        "\n",
        "acquiring signal (channel 1)\n",
        "acquiring ramp (channel 2)"
       ]
      },
      {
       "output_type": "stream",
       "stream": "stdout",
       "text": [
        "\n",
        "iteration: 574 @ time: 172199.54900 s (47 h 49 min 59.549 s)"
       ]
      },
      {
       "output_type": "stream",
       "stream": "stdout",
       "text": [
        "\n",
        "acquiring signal (channel 1)\n",
        "acquiring ramp (channel 2)"
       ]
      },
      {
       "output_type": "stream",
       "stream": "stdout",
       "text": [
        "\n",
        "iteration: 575 @ time: 172499.59600 s (47 h 54 min 59.596 s)"
       ]
      },
      {
       "output_type": "stream",
       "stream": "stdout",
       "text": [
        "\n",
        "acquiring signal (channel 1)\n",
        "acquiring ramp (channel 2)"
       ]
      },
      {
       "output_type": "stream",
       "stream": "stdout",
       "text": [
        "\n",
        "iteration: 576 @ time: 172799.57400 s (47 h 59 min 59.574 s)"
       ]
      },
      {
       "output_type": "stream",
       "stream": "stdout",
       "text": [
        "\n",
        "acquiring signal (channel 1)\n",
        "acquiring ramp (channel 2)"
       ]
      },
      {
       "output_type": "stream",
       "stream": "stdout",
       "text": [
        "\n",
        "iteration: 577 @ time: 173099.55500 s (48 h  4 min 59.555 s)"
       ]
      },
      {
       "output_type": "stream",
       "stream": "stdout",
       "text": [
        "\n",
        "acquiring signal (channel 1)\n",
        "acquiring ramp (channel 2)"
       ]
      },
      {
       "output_type": "stream",
       "stream": "stdout",
       "text": [
        "\n",
        "iteration: 578 @ time: 173399.61900 s (48 h  9 min 59.619 s)"
       ]
      },
      {
       "output_type": "stream",
       "stream": "stdout",
       "text": [
        "\n",
        "acquiring signal (channel 1)\n",
        "acquiring ramp (channel 2)"
       ]
      },
      {
       "output_type": "stream",
       "stream": "stdout",
       "text": [
        "\n",
        "iteration: 579 @ time: 173699.55100 s (48 h 14 min 59.551 s)"
       ]
      },
      {
       "output_type": "stream",
       "stream": "stdout",
       "text": [
        "\n",
        "acquiring signal (channel 1)\n",
        "acquiring ramp (channel 2)"
       ]
      },
      {
       "output_type": "stream",
       "stream": "stdout",
       "text": [
        "\n",
        "iteration: 580 @ time: 173999.54700 s (48 h 19 min 59.547 s)"
       ]
      },
      {
       "output_type": "stream",
       "stream": "stdout",
       "text": [
        "\n",
        "acquiring signal (channel 1)\n",
        "acquiring ramp (channel 2)"
       ]
      },
      {
       "output_type": "stream",
       "stream": "stdout",
       "text": [
        "\n",
        "iteration: 581 @ time: 174299.58700 s (48 h 24 min 59.587 s)"
       ]
      },
      {
       "output_type": "stream",
       "stream": "stdout",
       "text": [
        "\n",
        "acquiring signal (channel 1)\n",
        "acquiring ramp (channel 2)"
       ]
      },
      {
       "output_type": "stream",
       "stream": "stdout",
       "text": [
        "\n",
        "iteration: 582 @ time: 174599.57200 s (48 h 29 min 59.572 s)"
       ]
      },
      {
       "output_type": "stream",
       "stream": "stdout",
       "text": [
        "\n",
        "acquiring signal (channel 1)\n",
        "acquiring ramp (channel 2)"
       ]
      },
      {
       "output_type": "stream",
       "stream": "stdout",
       "text": [
        "\n",
        "iteration: 583 @ time: 174899.55500 s (48 h 34 min 59.555 s)"
       ]
      },
      {
       "output_type": "stream",
       "stream": "stdout",
       "text": [
        "\n",
        "acquiring signal (channel 1)\n",
        "acquiring ramp (channel 2)"
       ]
      },
      {
       "output_type": "stream",
       "stream": "stdout",
       "text": [
        "\n",
        "iteration: 584 @ time: 175199.64000 s (48 h 39 min 59.640 s)"
       ]
      },
      {
       "output_type": "stream",
       "stream": "stdout",
       "text": [
        "\n",
        "acquiring signal (channel 1)\n",
        "acquiring ramp (channel 2)"
       ]
      },
      {
       "output_type": "stream",
       "stream": "stdout",
       "text": [
        "\n",
        "iteration: 585 @ time: 175499.59800 s (48 h 44 min 59.598 s)"
       ]
      },
      {
       "output_type": "stream",
       "stream": "stdout",
       "text": [
        "\n",
        "acquiring signal (channel 1)\n",
        "acquiring ramp (channel 2)"
       ]
      },
      {
       "output_type": "stream",
       "stream": "stdout",
       "text": [
        "\n",
        "iteration: 586 @ time: 175799.55900 s (48 h 49 min 59.559 s)"
       ]
      },
      {
       "output_type": "stream",
       "stream": "stdout",
       "text": [
        "\n",
        "acquiring signal (channel 1)\n",
        "acquiring ramp (channel 2)"
       ]
      },
      {
       "output_type": "stream",
       "stream": "stdout",
       "text": [
        "\n",
        "iteration: 587 @ time: 176099.62600 s (48 h 54 min 59.626 s)"
       ]
      },
      {
       "output_type": "stream",
       "stream": "stdout",
       "text": [
        "\n",
        "acquiring signal (channel 1)\n",
        "acquiring ramp (channel 2)"
       ]
      },
      {
       "output_type": "stream",
       "stream": "stdout",
       "text": [
        "\n",
        "iteration: 588 @ time: 176399.58700 s (48 h 59 min 59.587 s)"
       ]
      },
      {
       "output_type": "stream",
       "stream": "stdout",
       "text": [
        "\n",
        "acquiring signal (channel 1)\n",
        "acquiring ramp (channel 2)"
       ]
      },
      {
       "output_type": "stream",
       "stream": "stdout",
       "text": [
        "\n",
        "iteration: 589 @ time: 176699.56700 s (49 h  4 min 59.567 s)"
       ]
      },
      {
       "output_type": "stream",
       "stream": "stdout",
       "text": [
        "\n",
        "acquiring signal (channel 1)\n",
        "acquiring ramp (channel 2)"
       ]
      },
      {
       "output_type": "stream",
       "stream": "stdout",
       "text": [
        "\n",
        "iteration: 590 @ time: 176999.63200 s (49 h  9 min 59.632 s)"
       ]
      },
      {
       "output_type": "stream",
       "stream": "stdout",
       "text": [
        "\n",
        "acquiring signal (channel 1)\n",
        "acquiring ramp (channel 2)"
       ]
      },
      {
       "output_type": "stream",
       "stream": "stdout",
       "text": [
        "\n",
        "iteration: 591 @ time: 177299.59400 s (49 h 14 min 59.594 s)"
       ]
      },
      {
       "output_type": "stream",
       "stream": "stdout",
       "text": [
        "\n",
        "acquiring signal (channel 1)\n",
        "acquiring ramp (channel 2)"
       ]
      },
      {
       "output_type": "stream",
       "stream": "stdout",
       "text": [
        "\n",
        "iteration: 592 @ time: 177599.63600 s (49 h 19 min 59.636 s)"
       ]
      },
      {
       "output_type": "stream",
       "stream": "stdout",
       "text": [
        "\n",
        "acquiring signal (channel 1)\n",
        "acquiring ramp (channel 2)"
       ]
      },
      {
       "output_type": "stream",
       "stream": "stdout",
       "text": [
        "\n",
        "iteration: 593 @ time: 177899.60700 s (49 h 24 min 59.607 s)"
       ]
      },
      {
       "output_type": "stream",
       "stream": "stdout",
       "text": [
        "\n",
        "acquiring signal (channel 1)\n",
        "acquiring ramp (channel 2)"
       ]
      },
      {
       "output_type": "stream",
       "stream": "stdout",
       "text": [
        "\n",
        "iteration: 594 @ time: 178199.58700 s (49 h 29 min 59.587 s)"
       ]
      },
      {
       "output_type": "stream",
       "stream": "stdout",
       "text": [
        "\n",
        "acquiring signal (channel 1)\n",
        "acquiring ramp (channel 2)"
       ]
      },
      {
       "output_type": "stream",
       "stream": "stdout",
       "text": [
        "\n",
        "iteration: 595 @ time: 178499.56600 s (49 h 34 min 59.566 s)"
       ]
      },
      {
       "output_type": "stream",
       "stream": "stdout",
       "text": [
        "\n",
        "acquiring signal (channel 1)\n",
        "acquiring ramp (channel 2)"
       ]
      },
      {
       "output_type": "stream",
       "stream": "stdout",
       "text": [
        "\n",
        "iteration: 596 @ time: 178799.54300 s (49 h 39 min 59.543 s)"
       ]
      },
      {
       "output_type": "stream",
       "stream": "stdout",
       "text": [
        "\n",
        "acquiring signal (channel 1)\n",
        "acquiring ramp (channel 2)"
       ]
      },
      {
       "output_type": "stream",
       "stream": "stdout",
       "text": [
        "\n",
        "iteration: 597 @ time: 179099.60700 s (49 h 44 min 59.607 s)"
       ]
      },
      {
       "output_type": "stream",
       "stream": "stdout",
       "text": [
        "\n",
        "acquiring signal (channel 1)\n",
        "acquiring ramp (channel 2)"
       ]
      },
      {
       "output_type": "stream",
       "stream": "stdout",
       "text": [
        "\n",
        "iteration: 598 @ time: 179399.57100 s (49 h 49 min 59.571 s)"
       ]
      },
      {
       "output_type": "stream",
       "stream": "stdout",
       "text": [
        "\n",
        "acquiring signal (channel 1)\n",
        "acquiring ramp (channel 2)"
       ]
      },
      {
       "output_type": "stream",
       "stream": "stdout",
       "text": [
        "\n",
        "iteration: 599 @ time: 179699.61600 s (49 h 54 min 59.616 s)"
       ]
      },
      {
       "output_type": "stream",
       "stream": "stdout",
       "text": [
        "\n",
        "acquiring signal (channel 1)\n",
        "acquiring ramp (channel 2)"
       ]
      },
      {
       "output_type": "stream",
       "stream": "stdout",
       "text": [
        "\n",
        "iteration: 600 @ time: 179999.59000 s (49 h 59 min 59.590 s)"
       ]
      },
      {
       "output_type": "stream",
       "stream": "stdout",
       "text": [
        "\n",
        "acquiring signal (channel 1)\n",
        "acquiring ramp (channel 2)"
       ]
      },
      {
       "output_type": "stream",
       "stream": "stdout",
       "text": [
        "\n",
        "iteration: 601 @ time: 180299.56600 s (50 h  4 min 59.566 s)"
       ]
      },
      {
       "output_type": "stream",
       "stream": "stdout",
       "text": [
        "\n",
        "acquiring signal (channel 1)\n",
        "acquiring ramp (channel 2)"
       ]
      },
      {
       "output_type": "stream",
       "stream": "stdout",
       "text": [
        "\n",
        "iteration: 602 @ time: 180599.54300 s (50 h  9 min 59.543 s)"
       ]
      },
      {
       "output_type": "stream",
       "stream": "stdout",
       "text": [
        "\n",
        "acquiring signal (channel 1)\n",
        "acquiring ramp (channel 2)"
       ]
      },
      {
       "output_type": "stream",
       "stream": "stdout",
       "text": [
        "\n",
        "iteration: 603 @ time: 180899.60600 s (50 h 14 min 59.606 s)"
       ]
      },
      {
       "output_type": "stream",
       "stream": "stdout",
       "text": [
        "\n",
        "acquiring signal (channel 1)\n",
        "acquiring ramp (channel 2)"
       ]
      },
      {
       "output_type": "stream",
       "stream": "stdout",
       "text": [
        "\n",
        "iteration: 604 @ time: 181199.58900 s (50 h 19 min 59.589 s)"
       ]
      },
      {
       "output_type": "stream",
       "stream": "stdout",
       "text": [
        "\n",
        "acquiring signal (channel 1)\n",
        "acquiring ramp (channel 2)"
       ]
      },
      {
       "output_type": "stream",
       "stream": "stdout",
       "text": [
        "\n",
        "iteration: 605 @ time: 181499.63700 s (50 h 24 min 59.637 s)"
       ]
      },
      {
       "output_type": "stream",
       "stream": "stdout",
       "text": [
        "\n",
        "acquiring signal (channel 1)\n",
        "acquiring ramp (channel 2)"
       ]
      },
      {
       "output_type": "stream",
       "stream": "stdout",
       "text": [
        "\n",
        "iteration: 606 @ time: 181799.61400 s (50 h 29 min 59.614 s)"
       ]
      },
      {
       "output_type": "stream",
       "stream": "stdout",
       "text": [
        "\n",
        "acquiring signal (channel 1)\n",
        "acquiring ramp (channel 2)"
       ]
      },
      {
       "output_type": "stream",
       "stream": "stdout",
       "text": [
        "\n",
        "iteration: 607 @ time: 182099.57800 s (50 h 34 min 59.578 s)"
       ]
      },
      {
       "output_type": "stream",
       "stream": "stdout",
       "text": [
        "\n",
        "acquiring signal (channel 1)\n",
        "acquiring ramp (channel 2)"
       ]
      },
      {
       "output_type": "stream",
       "stream": "stdout",
       "text": [
        "\n",
        "iteration: 608 @ time: 182399.55000 s (50 h 39 min 59.550 s)"
       ]
      },
      {
       "output_type": "stream",
       "stream": "stdout",
       "text": [
        "\n",
        "acquiring signal (channel 1)\n",
        "acquiring ramp (channel 2)"
       ]
      },
      {
       "output_type": "stream",
       "stream": "stdout",
       "text": [
        "\n",
        "iteration: 609 @ time: 182699.62000 s (50 h 44 min 59.620 s)"
       ]
      },
      {
       "output_type": "stream",
       "stream": "stdout",
       "text": [
        "\n",
        "acquiring signal (channel 1)\n",
        "acquiring ramp (channel 2)"
       ]
      },
      {
       "output_type": "stream",
       "stream": "stdout",
       "text": [
        "\n",
        "iteration: 610 @ time: 182999.58600 s (50 h 49 min 59.586 s)"
       ]
      },
      {
       "output_type": "stream",
       "stream": "stdout",
       "text": [
        "\n",
        "acquiring signal (channel 1)\n",
        "acquiring ramp (channel 2)"
       ]
      },
      {
       "output_type": "stream",
       "stream": "stdout",
       "text": [
        "\n",
        "iteration: 611 @ time: 183299.54500 s (50 h 54 min 59.545 s)"
       ]
      },
      {
       "output_type": "stream",
       "stream": "stdout",
       "text": [
        "\n",
        "acquiring signal (channel 1)\n",
        "acquiring ramp (channel 2)"
       ]
      },
      {
       "output_type": "stream",
       "stream": "stdout",
       "text": [
        "\n",
        "iteration: 612 @ time: 183599.61200 s (50 h 59 min 59.612 s)"
       ]
      },
      {
       "output_type": "stream",
       "stream": "stdout",
       "text": [
        "\n",
        "acquiring signal (channel 1)\n",
        "acquiring ramp (channel 2)"
       ]
      },
      {
       "output_type": "stream",
       "stream": "stdout",
       "text": [
        "\n",
        "iteration: 613 @ time: 183899.57700 s (51 h  4 min 59.577 s)"
       ]
      },
      {
       "output_type": "stream",
       "stream": "stdout",
       "text": [
        "\n",
        "acquiring signal (channel 1)\n",
        "acquiring ramp (channel 2)"
       ]
      },
      {
       "output_type": "stream",
       "stream": "stdout",
       "text": [
        "\n",
        "iteration: 614 @ time: 184199.55300 s (51 h  9 min 59.553 s)"
       ]
      },
      {
       "output_type": "stream",
       "stream": "stdout",
       "text": [
        "\n",
        "acquiring signal (channel 1)\n",
        "acquiring ramp (channel 2)"
       ]
      },
      {
       "output_type": "stream",
       "stream": "stdout",
       "text": [
        "\n",
        "iteration: 615 @ time: 184499.62000 s (51 h 14 min 59.620 s)"
       ]
      },
      {
       "output_type": "stream",
       "stream": "stdout",
       "text": [
        "\n",
        "acquiring signal (channel 1)\n",
        "acquiring ramp (channel 2)"
       ]
      },
      {
       "output_type": "stream",
       "stream": "stdout",
       "text": [
        "\n",
        "iteration: 616 @ time: 184799.59900 s (51 h 19 min 59.599 s)"
       ]
      },
      {
       "output_type": "stream",
       "stream": "stdout",
       "text": [
        "\n",
        "acquiring signal (channel 1)\n",
        "acquiring ramp (channel 2)"
       ]
      },
      {
       "output_type": "stream",
       "stream": "stdout",
       "text": [
        "\n",
        "iteration: 617 @ time: 185099.56400 s (51 h 24 min 59.564 s)"
       ]
      },
      {
       "output_type": "stream",
       "stream": "stdout",
       "text": [
        "\n",
        "acquiring signal (channel 1)\n",
        "acquiring ramp (channel 2)"
       ]
      },
      {
       "output_type": "stream",
       "stream": "stdout",
       "text": [
        "\n",
        "iteration: 618 @ time: 185399.60700 s (51 h 29 min 59.607 s)"
       ]
      },
      {
       "output_type": "stream",
       "stream": "stdout",
       "text": [
        "\n",
        "acquiring signal (channel 1)\n",
        "acquiring ramp (channel 2)"
       ]
      },
      {
       "output_type": "stream",
       "stream": "stdout",
       "text": [
        "\n",
        "iteration: 619 @ time: 185699.56700 s (51 h 34 min 59.567 s)"
       ]
      },
      {
       "output_type": "stream",
       "stream": "stdout",
       "text": [
        "\n",
        "acquiring signal (channel 1)\n",
        "acquiring ramp (channel 2)"
       ]
      },
      {
       "output_type": "stream",
       "stream": "stdout",
       "text": [
        "\n",
        "iteration: 620 @ time: 185999.55800 s (51 h 39 min 59.558 s)"
       ]
      },
      {
       "output_type": "stream",
       "stream": "stdout",
       "text": [
        "\n",
        "acquiring signal (channel 1)\n",
        "acquiring ramp (channel 2)"
       ]
      },
      {
       "output_type": "stream",
       "stream": "stdout",
       "text": [
        "\n",
        "iteration: 621 @ time: 186299.63800 s (51 h 44 min 59.638 s)"
       ]
      },
      {
       "output_type": "stream",
       "stream": "stdout",
       "text": [
        "\n",
        "acquiring signal (channel 1)\n",
        "acquiring ramp (channel 2)"
       ]
      },
      {
       "output_type": "stream",
       "stream": "stdout",
       "text": [
        "\n",
        "iteration: 622 @ time: 186599.59400 s (51 h 49 min 59.594 s)"
       ]
      },
      {
       "output_type": "stream",
       "stream": "stdout",
       "text": [
        "\n",
        "acquiring signal (channel 1)\n",
        "acquiring ramp (channel 2)"
       ]
      },
      {
       "output_type": "stream",
       "stream": "stdout",
       "text": [
        "\n",
        "iteration: 623 @ time: 186899.57700 s (51 h 54 min 59.577 s)"
       ]
      },
      {
       "output_type": "stream",
       "stream": "stdout",
       "text": [
        "\n",
        "acquiring signal (channel 1)\n",
        "acquiring ramp (channel 2)"
       ]
      },
      {
       "output_type": "stream",
       "stream": "stdout",
       "text": [
        "\n",
        "iteration: 624 @ time: 187199.54300 s (51 h 59 min 59.543 s)"
       ]
      },
      {
       "output_type": "stream",
       "stream": "stdout",
       "text": [
        "\n",
        "acquiring signal (channel 1)\n",
        "acquiring ramp (channel 2)"
       ]
      },
      {
       "output_type": "stream",
       "stream": "stdout",
       "text": [
        "\n",
        "iteration: 625 @ time: 187499.60200 s (52 h  4 min 59.602 s)"
       ]
      },
      {
       "output_type": "stream",
       "stream": "stdout",
       "text": [
        "\n",
        "acquiring signal (channel 1)\n",
        "acquiring ramp (channel 2)"
       ]
      },
      {
       "output_type": "stream",
       "stream": "stdout",
       "text": [
        "\n",
        "iteration: 626 @ time: 187799.56500 s (52 h  9 min 59.565 s)"
       ]
      },
      {
       "output_type": "stream",
       "stream": "stdout",
       "text": [
        "\n",
        "acquiring signal (channel 1)\n",
        "acquiring ramp (channel 2)"
       ]
      },
      {
       "output_type": "stream",
       "stream": "stdout",
       "text": [
        "\n",
        "iteration: 627 @ time: 188099.54700 s (52 h 14 min 59.547 s)"
       ]
      },
      {
       "output_type": "stream",
       "stream": "stdout",
       "text": [
        "\n",
        "acquiring signal (channel 1)\n",
        "acquiring ramp (channel 2)"
       ]
      },
      {
       "output_type": "stream",
       "stream": "stdout",
       "text": [
        "\n",
        "iteration: 628 @ time: 188399.61600 s (52 h 19 min 59.616 s)"
       ]
      },
      {
       "output_type": "stream",
       "stream": "stdout",
       "text": [
        "\n",
        "acquiring signal (channel 1)\n",
        "acquiring ramp (channel 2)"
       ]
      },
      {
       "output_type": "stream",
       "stream": "stdout",
       "text": [
        "\n",
        "iteration: 629 @ time: 188699.57400 s (52 h 24 min 59.574 s)"
       ]
      },
      {
       "output_type": "stream",
       "stream": "stdout",
       "text": [
        "\n",
        "acquiring signal (channel 1)\n",
        "acquiring ramp (channel 2)"
       ]
      },
      {
       "output_type": "stream",
       "stream": "stdout",
       "text": [
        "\n",
        "iteration: 630 @ time: 188999.63800 s (52 h 29 min 59.638 s)"
       ]
      },
      {
       "output_type": "stream",
       "stream": "stdout",
       "text": [
        "\n",
        "acquiring signal (channel 1)\n",
        "acquiring ramp (channel 2)"
       ]
      },
      {
       "output_type": "stream",
       "stream": "stdout",
       "text": [
        "\n",
        "iteration: 631 @ time: 189299.61900 s (52 h 34 min 59.619 s)"
       ]
      },
      {
       "output_type": "stream",
       "stream": "stdout",
       "text": [
        "\n",
        "acquiring signal (channel 1)\n",
        "acquiring ramp (channel 2)"
       ]
      },
      {
       "output_type": "stream",
       "stream": "stdout",
       "text": [
        "\n",
        "iteration: 632 @ time: 189599.58100 s (52 h 39 min 59.581 s)"
       ]
      },
      {
       "output_type": "stream",
       "stream": "stdout",
       "text": [
        "\n",
        "acquiring signal (channel 1)\n",
        "acquiring ramp (channel 2)"
       ]
      },
      {
       "output_type": "stream",
       "stream": "stdout",
       "text": [
        "\n",
        "iteration: 633 @ time: 189899.64000 s (52 h 44 min 59.640 s)"
       ]
      },
      {
       "output_type": "stream",
       "stream": "stdout",
       "text": [
        "\n",
        "acquiring signal (channel 1)\n",
        "acquiring ramp (channel 2)"
       ]
      },
      {
       "output_type": "stream",
       "stream": "stdout",
       "text": [
        "\n",
        "iteration: 634 @ time: 190199.62700 s (52 h 49 min 59.627 s)"
       ]
      },
      {
       "output_type": "stream",
       "stream": "stdout",
       "text": [
        "\n",
        "acquiring signal (channel 1)\n",
        "acquiring ramp (channel 2)"
       ]
      },
      {
       "output_type": "stream",
       "stream": "stdout",
       "text": [
        "\n",
        "iteration: 635 @ time: 190499.55700 s (52 h 54 min 59.557 s)"
       ]
      },
      {
       "output_type": "stream",
       "stream": "stdout",
       "text": [
        "\n",
        "acquiring signal (channel 1)\n",
        "acquiring ramp (channel 2)"
       ]
      },
      {
       "output_type": "stream",
       "stream": "stdout",
       "text": [
        "\n",
        "iteration: 636 @ time: 190799.56000 s (52 h 59 min 59.560 s)"
       ]
      },
      {
       "output_type": "stream",
       "stream": "stdout",
       "text": [
        "\n",
        "acquiring signal (channel 1)\n",
        "acquiring ramp (channel 2)"
       ]
      },
      {
       "output_type": "stream",
       "stream": "stdout",
       "text": [
        "\n",
        "iteration: 637 @ time: 191099.61800 s (53 h  4 min 59.618 s)"
       ]
      },
      {
       "output_type": "stream",
       "stream": "stdout",
       "text": [
        "\n",
        "acquiring signal (channel 1)\n",
        "acquiring ramp (channel 2)"
       ]
      },
      {
       "output_type": "stream",
       "stream": "stdout",
       "text": [
        "\n",
        "iteration: 638 @ time: 191399.59600 s (53 h  9 min 59.596 s)"
       ]
      },
      {
       "output_type": "stream",
       "stream": "stdout",
       "text": [
        "\n",
        "acquiring signal (channel 1)\n",
        "acquiring ramp (channel 2)"
       ]
      },
      {
       "output_type": "stream",
       "stream": "stdout",
       "text": [
        "\n",
        "iteration: 639 @ time: 191699.56200 s (53 h 14 min 59.562 s)"
       ]
      },
      {
       "output_type": "stream",
       "stream": "stdout",
       "text": [
        "\n",
        "acquiring signal (channel 1)\n",
        "acquiring ramp (channel 2)"
       ]
      },
      {
       "output_type": "stream",
       "stream": "stdout",
       "text": [
        "\n",
        "iteration: 640 @ time: 191999.62200 s (53 h 19 min 59.622 s)"
       ]
      },
      {
       "output_type": "stream",
       "stream": "stdout",
       "text": [
        "\n",
        "acquiring signal (channel 1)\n",
        "acquiring ramp (channel 2)"
       ]
      },
      {
       "output_type": "stream",
       "stream": "stdout",
       "text": [
        "\n",
        "iteration: 641 @ time: 192299.59500 s (53 h 24 min 59.595 s)"
       ]
      },
      {
       "output_type": "stream",
       "stream": "stdout",
       "text": [
        "\n",
        "acquiring signal (channel 1)\n",
        "acquiring ramp (channel 2)"
       ]
      },
      {
       "output_type": "stream",
       "stream": "stdout",
       "text": [
        "\n",
        "iteration: 642 @ time: 192599.57000 s (53 h 29 min 59.570 s)"
       ]
      },
      {
       "output_type": "stream",
       "stream": "stdout",
       "text": [
        "\n",
        "acquiring signal (channel 1)\n",
        "acquiring ramp (channel 2)"
       ]
      },
      {
       "output_type": "stream",
       "stream": "stdout",
       "text": [
        "\n",
        "iteration: 643 @ time: 192899.63400 s (53 h 34 min 59.634 s)"
       ]
      },
      {
       "output_type": "stream",
       "stream": "stdout",
       "text": [
        "\n",
        "acquiring signal (channel 1)\n",
        "acquiring ramp (channel 2)"
       ]
      },
      {
       "output_type": "stream",
       "stream": "stdout",
       "text": [
        "\n",
        "iteration: 644 @ time: 193199.59800 s (53 h 39 min 59.598 s)"
       ]
      },
      {
       "output_type": "stream",
       "stream": "stdout",
       "text": [
        "\n",
        "acquiring signal (channel 1)\n",
        "acquiring ramp (channel 2)"
       ]
      },
      {
       "output_type": "stream",
       "stream": "stdout",
       "text": [
        "\n",
        "iteration: 645 @ time: 193499.56800 s (53 h 44 min 59.568 s)"
       ]
      },
      {
       "output_type": "stream",
       "stream": "stdout",
       "text": [
        "\n",
        "acquiring signal (channel 1)\n",
        "acquiring ramp (channel 2)"
       ]
      },
      {
       "output_type": "stream",
       "stream": "stdout",
       "text": [
        "\n",
        "iteration: 646 @ time: 193799.62000 s (53 h 49 min 59.620 s)"
       ]
      },
      {
       "output_type": "stream",
       "stream": "stdout",
       "text": [
        "\n",
        "acquiring signal (channel 1)\n",
        "acquiring ramp (channel 2)"
       ]
      },
      {
       "output_type": "stream",
       "stream": "stdout",
       "text": [
        "\n",
        "iteration: 647 @ time: 194099.59800 s (53 h 54 min 59.598 s)"
       ]
      },
      {
       "output_type": "stream",
       "stream": "stdout",
       "text": [
        "\n",
        "acquiring signal (channel 1)\n",
        "acquiring ramp (channel 2)"
       ]
      },
      {
       "output_type": "stream",
       "stream": "stdout",
       "text": [
        "\n",
        "iteration: 648 @ time: 194399.56800 s (53 h 59 min 59.568 s)"
       ]
      },
      {
       "output_type": "stream",
       "stream": "stdout",
       "text": [
        "\n",
        "acquiring signal (channel 1)\n",
        "acquiring ramp (channel 2)"
       ]
      },
      {
       "output_type": "stream",
       "stream": "stdout",
       "text": [
        "\n",
        "iteration: 649 @ time: 194699.62900 s (54 h  4 min 59.629 s)"
       ]
      },
      {
       "output_type": "stream",
       "stream": "stdout",
       "text": [
        "\n",
        "acquiring signal (channel 1)\n",
        "acquiring ramp (channel 2)"
       ]
      },
      {
       "output_type": "stream",
       "stream": "stdout",
       "text": [
        "\n",
        "iteration: 650 @ time: 194999.59500 s (54 h  9 min 59.595 s)"
       ]
      },
      {
       "output_type": "stream",
       "stream": "stdout",
       "text": [
        "\n",
        "acquiring signal (channel 1)\n",
        "acquiring ramp (channel 2)"
       ]
      },
      {
       "output_type": "stream",
       "stream": "stdout",
       "text": [
        "\n",
        "iteration: 651 @ time: 195299.56800 s (54 h 14 min 59.568 s)"
       ]
      },
      {
       "output_type": "stream",
       "stream": "stdout",
       "text": [
        "\n",
        "acquiring signal (channel 1)\n",
        "acquiring ramp (channel 2)"
       ]
      },
      {
       "output_type": "stream",
       "stream": "stdout",
       "text": [
        "\n",
        "iteration: 652 @ time: 195599.63300 s (54 h 19 min 59.633 s)"
       ]
      },
      {
       "output_type": "stream",
       "stream": "stdout",
       "text": [
        "\n",
        "acquiring signal (channel 1)\n",
        "acquiring ramp (channel 2)"
       ]
      },
      {
       "output_type": "stream",
       "stream": "stdout",
       "text": [
        "\n",
        "iteration: 653 @ time: 195899.61100 s (54 h 24 min 59.611 s)"
       ]
      },
      {
       "output_type": "stream",
       "stream": "stdout",
       "text": [
        "\n",
        "acquiring signal (channel 1)\n",
        "acquiring ramp (channel 2)"
       ]
      },
      {
       "output_type": "stream",
       "stream": "stdout",
       "text": [
        "\n",
        "iteration: 654 @ time: 196199.56400 s (54 h 29 min 59.564 s)"
       ]
      },
      {
       "output_type": "stream",
       "stream": "stdout",
       "text": [
        "\n",
        "acquiring signal (channel 1)\n",
        "acquiring ramp (channel 2)"
       ]
      },
      {
       "output_type": "stream",
       "stream": "stdout",
       "text": [
        "\n",
        "iteration: 655 @ time: 196499.54100 s (54 h 34 min 59.541 s)"
       ]
      },
      {
       "output_type": "stream",
       "stream": "stdout",
       "text": [
        "\n",
        "acquiring signal (channel 1)\n",
        "acquiring ramp (channel 2)"
       ]
      },
      {
       "output_type": "stream",
       "stream": "stdout",
       "text": [
        "\n",
        "iteration: 656 @ time: 196799.59700 s (54 h 39 min 59.597 s)"
       ]
      },
      {
       "output_type": "stream",
       "stream": "stdout",
       "text": [
        "\n",
        "acquiring signal (channel 1)\n",
        "acquiring ramp (channel 2)"
       ]
      },
      {
       "output_type": "stream",
       "stream": "stdout",
       "text": [
        "\n",
        "iteration: 657 @ time: 197099.54600 s (54 h 44 min 59.546 s)"
       ]
      },
      {
       "output_type": "stream",
       "stream": "stdout",
       "text": [
        "\n",
        "acquiring signal (channel 1)\n",
        "acquiring ramp (channel 2)"
       ]
      },
      {
       "output_type": "stream",
       "stream": "stdout",
       "text": [
        "\n",
        "iteration: 658 @ time: 197399.55200 s (54 h 49 min 59.552 s)"
       ]
      },
      {
       "output_type": "stream",
       "stream": "stdout",
       "text": [
        "\n",
        "acquiring signal (channel 1)\n",
        "acquiring ramp (channel 2)"
       ]
      },
      {
       "output_type": "stream",
       "stream": "stdout",
       "text": [
        "\n",
        "iteration: 659 @ time: 197699.61100 s (54 h 54 min 59.611 s)"
       ]
      },
      {
       "output_type": "stream",
       "stream": "stdout",
       "text": [
        "\n",
        "acquiring signal (channel 1)\n",
        "acquiring ramp (channel 2)"
       ]
      },
      {
       "output_type": "stream",
       "stream": "stdout",
       "text": [
        "\n",
        "iteration: 660 @ time: 197999.57500 s (54 h 59 min 59.575 s)"
       ]
      },
      {
       "output_type": "stream",
       "stream": "stdout",
       "text": [
        "\n",
        "acquiring signal (channel 1)\n",
        "acquiring ramp (channel 2)"
       ]
      },
      {
       "output_type": "stream",
       "stream": "stdout",
       "text": [
        "\n",
        "iteration: 661 @ time: 198299.55300 s (55 h  4 min 59.553 s)"
       ]
      },
      {
       "output_type": "stream",
       "stream": "stdout",
       "text": [
        "\n",
        "acquiring signal (channel 1)\n",
        "acquiring ramp (channel 2)"
       ]
      },
      {
       "output_type": "stream",
       "stream": "stdout",
       "text": [
        "\n",
        "iteration: 662 @ time: 198599.60800 s (55 h  9 min 59.608 s)"
       ]
      },
      {
       "output_type": "stream",
       "stream": "stdout",
       "text": [
        "\n",
        "acquiring signal (channel 1)\n",
        "acquiring ramp (channel 2)"
       ]
      },
      {
       "output_type": "stream",
       "stream": "stdout",
       "text": [
        "\n",
        "iteration: 663 @ time: 198899.63300 s (55 h 14 min 59.633 s)"
       ]
      },
      {
       "output_type": "stream",
       "stream": "stdout",
       "text": [
        "\n",
        "acquiring signal (channel 1)\n",
        "acquiring ramp (channel 2)"
       ]
      },
      {
       "output_type": "stream",
       "stream": "stdout",
       "text": [
        "\n",
        "iteration: 664 @ time: 199199.62400 s (55 h 19 min 59.624 s)"
       ]
      },
      {
       "output_type": "stream",
       "stream": "stdout",
       "text": [
        "\n",
        "acquiring signal (channel 1)\n",
        "acquiring ramp (channel 2)"
       ]
      },
      {
       "output_type": "stream",
       "stream": "stdout",
       "text": [
        "\n",
        "iteration: 665 @ time: 199499.55900 s (55 h 24 min 59.559 s)"
       ]
      },
      {
       "output_type": "stream",
       "stream": "stdout",
       "text": [
        "\n",
        "acquiring signal (channel 1)\n",
        "acquiring ramp (channel 2)"
       ]
      },
      {
       "output_type": "stream",
       "stream": "stdout",
       "text": [
        "\n",
        "iteration: 666 @ time: 199799.59800 s (55 h 29 min 59.598 s)"
       ]
      },
      {
       "output_type": "stream",
       "stream": "stdout",
       "text": [
        "\n",
        "acquiring signal (channel 1)\n",
        "acquiring ramp (channel 2)"
       ]
      },
      {
       "output_type": "stream",
       "stream": "stdout",
       "text": [
        "\n",
        "iteration: 667 @ time: 200099.57800 s (55 h 34 min 59.578 s)"
       ]
      },
      {
       "output_type": "stream",
       "stream": "stdout",
       "text": [
        "\n",
        "acquiring signal (channel 1)\n",
        "acquiring ramp (channel 2)"
       ]
      },
      {
       "output_type": "stream",
       "stream": "stdout",
       "text": [
        "\n",
        "iteration: 668 @ time: 200399.56400 s (55 h 39 min 59.564 s)"
       ]
      },
      {
       "output_type": "stream",
       "stream": "stdout",
       "text": [
        "\n",
        "acquiring signal (channel 1)\n",
        "acquiring ramp (channel 2)"
       ]
      },
      {
       "output_type": "stream",
       "stream": "stdout",
       "text": [
        "\n",
        "iteration: 669 @ time: 200699.64000 s (55 h 44 min 59.640 s)"
       ]
      },
      {
       "output_type": "stream",
       "stream": "stdout",
       "text": [
        "\n",
        "acquiring signal (channel 1)\n",
        "acquiring ramp (channel 2)"
       ]
      },
      {
       "output_type": "stream",
       "stream": "stdout",
       "text": [
        "\n",
        "iteration: 670 @ time: 200999.59900 s (55 h 49 min 59.599 s)"
       ]
      },
      {
       "output_type": "stream",
       "stream": "stdout",
       "text": [
        "\n",
        "acquiring signal (channel 1)\n",
        "acquiring ramp (channel 2)"
       ]
      },
      {
       "output_type": "stream",
       "stream": "stdout",
       "text": [
        "\n",
        "iteration: 671 @ time: 201299.61600 s (55 h 54 min 59.616 s)"
       ]
      },
      {
       "output_type": "stream",
       "stream": "stdout",
       "text": [
        "\n",
        "acquiring signal (channel 1)\n",
        "acquiring ramp (channel 2)"
       ]
      },
      {
       "output_type": "stream",
       "stream": "stdout",
       "text": [
        "\n",
        "iteration: 672 @ time: 201599.58000 s (55 h 59 min 59.580 s)"
       ]
      },
      {
       "output_type": "stream",
       "stream": "stdout",
       "text": [
        "\n",
        "acquiring signal (channel 1)\n",
        "acquiring ramp (channel 2)"
       ]
      },
      {
       "output_type": "stream",
       "stream": "stdout",
       "text": [
        "\n",
        "iteration: 673 @ time: 201899.63200 s (56 h  4 min 59.632 s)"
       ]
      },
      {
       "output_type": "stream",
       "stream": "stdout",
       "text": [
        "\n",
        "acquiring signal (channel 1)\n",
        "acquiring ramp (channel 2)"
       ]
      },
      {
       "output_type": "stream",
       "stream": "stdout",
       "text": [
        "\n",
        "iteration: 674 @ time: 202199.57200 s (56 h  9 min 59.572 s)"
       ]
      },
      {
       "output_type": "stream",
       "stream": "stdout",
       "text": [
        "\n",
        "acquiring signal (channel 1)\n",
        "acquiring ramp (channel 2)"
       ]
      },
      {
       "output_type": "stream",
       "stream": "stdout",
       "text": [
        "\n",
        "iteration: 675 @ time: 202499.55600 s (56 h 14 min 59.556 s)"
       ]
      },
      {
       "output_type": "stream",
       "stream": "stdout",
       "text": [
        "\n",
        "acquiring signal (channel 1)\n",
        "acquiring ramp (channel 2)"
       ]
      },
      {
       "output_type": "stream",
       "stream": "stdout",
       "text": [
        "\n",
        "iteration: 676 @ time: 202799.63100 s (56 h 19 min 59.631 s)"
       ]
      },
      {
       "output_type": "stream",
       "stream": "stdout",
       "text": [
        "\n",
        "acquiring signal (channel 1)\n",
        "acquiring ramp (channel 2)"
       ]
      },
      {
       "output_type": "stream",
       "stream": "stdout",
       "text": [
        "\n",
        "iteration: 677 @ time: 203099.62900 s (56 h 24 min 59.629 s)"
       ]
      },
      {
       "output_type": "stream",
       "stream": "stdout",
       "text": [
        "\n",
        "acquiring signal (channel 1)\n",
        "acquiring ramp (channel 2)"
       ]
      },
      {
       "output_type": "stream",
       "stream": "stdout",
       "text": [
        "\n",
        "iteration: 678 @ time: 203399.55000 s (56 h 29 min 59.550 s)"
       ]
      },
      {
       "output_type": "stream",
       "stream": "stdout",
       "text": [
        "\n",
        "acquiring signal (channel 1)\n",
        "acquiring ramp (channel 2)"
       ]
      },
      {
       "output_type": "stream",
       "stream": "stdout",
       "text": [
        "\n",
        "iteration: 679 @ time: 203699.61800 s (56 h 34 min 59.618 s)"
       ]
      },
      {
       "output_type": "stream",
       "stream": "stdout",
       "text": [
        "\n",
        "acquiring signal (channel 1)\n",
        "acquiring ramp (channel 2)"
       ]
      },
      {
       "output_type": "stream",
       "stream": "stdout",
       "text": [
        "\n",
        "iteration: 680 @ time: 203999.62900 s (56 h 39 min 59.629 s)"
       ]
      },
      {
       "output_type": "stream",
       "stream": "stdout",
       "text": [
        "\n",
        "acquiring signal (channel 1)\n",
        "acquiring ramp (channel 2)"
       ]
      },
      {
       "output_type": "stream",
       "stream": "stdout",
       "text": [
        "\n",
        "iteration: 681 @ time: 204299.56200 s (56 h 44 min 59.562 s)"
       ]
      },
      {
       "output_type": "stream",
       "stream": "stdout",
       "text": [
        "\n",
        "acquiring signal (channel 1)\n",
        "acquiring ramp (channel 2)"
       ]
      },
      {
       "output_type": "stream",
       "stream": "stdout",
       "text": [
        "\n",
        "iteration: 682 @ time: 204599.55700 s (56 h 49 min 59.557 s)"
       ]
      },
      {
       "output_type": "stream",
       "stream": "stdout",
       "text": [
        "\n",
        "acquiring signal (channel 1)\n",
        "acquiring ramp (channel 2)"
       ]
      },
      {
       "output_type": "stream",
       "stream": "stdout",
       "text": [
        "\n",
        "iteration: 683 @ time: 204899.60400 s (56 h 54 min 59.604 s)"
       ]
      },
      {
       "output_type": "stream",
       "stream": "stdout",
       "text": [
        "\n",
        "acquiring signal (channel 1)\n",
        "acquiring ramp (channel 2)"
       ]
      },
      {
       "output_type": "stream",
       "stream": "stdout",
       "text": [
        "\n",
        "iteration: 684 @ time: 205199.55200 s (56 h 59 min 59.552 s)"
       ]
      },
      {
       "output_type": "stream",
       "stream": "stdout",
       "text": [
        "\n",
        "acquiring signal (channel 1)\n",
        "acquiring ramp (channel 2)"
       ]
      },
      {
       "output_type": "stream",
       "stream": "stdout",
       "text": [
        "\n",
        "iteration: 685 @ time: 205499.54400 s (57 h  4 min 59.544 s)"
       ]
      },
      {
       "output_type": "stream",
       "stream": "stdout",
       "text": [
        "\n",
        "acquiring signal (channel 1)\n",
        "acquiring ramp (channel 2)"
       ]
      },
      {
       "output_type": "stream",
       "stream": "stdout",
       "text": [
        "\n",
        "iteration: 686 @ time: 205799.57000 s (57 h  9 min 59.570 s)"
       ]
      },
      {
       "output_type": "stream",
       "stream": "stdout",
       "text": [
        "\n",
        "acquiring signal (channel 1)\n",
        "acquiring ramp (channel 2)"
       ]
      },
      {
       "output_type": "stream",
       "stream": "stdout",
       "text": [
        "\n",
        "iteration: 687 @ time: 206099.57400 s (57 h 14 min 59.574 s)"
       ]
      },
      {
       "output_type": "stream",
       "stream": "stdout",
       "text": [
        "\n",
        "acquiring signal (channel 1)\n",
        "acquiring ramp (channel 2)"
       ]
      },
      {
       "output_type": "stream",
       "stream": "stdout",
       "text": [
        "\n",
        "iteration: 688 @ time: 206399.60500 s (57 h 19 min 59.605 s)"
       ]
      },
      {
       "output_type": "stream",
       "stream": "stdout",
       "text": [
        "\n",
        "acquiring signal (channel 1)\n",
        "acquiring ramp (channel 2)"
       ]
      },
      {
       "output_type": "stream",
       "stream": "stdout",
       "text": [
        "\n",
        "iteration: 689 @ time: 206699.54500 s (57 h 24 min 59.545 s)"
       ]
      },
      {
       "output_type": "stream",
       "stream": "stdout",
       "text": [
        "\n",
        "acquiring signal (channel 1)\n",
        "acquiring ramp (channel 2)"
       ]
      },
      {
       "output_type": "stream",
       "stream": "stdout",
       "text": [
        "\n",
        "iteration: 690 @ time: 206999.59600 s (57 h 29 min 59.596 s)"
       ]
      },
      {
       "output_type": "stream",
       "stream": "stdout",
       "text": [
        "\n",
        "acquiring signal (channel 1)\n",
        "acquiring ramp (channel 2)"
       ]
      },
      {
       "output_type": "stream",
       "stream": "stdout",
       "text": [
        "\n",
        "iteration: 691 @ time: 207299.61400 s (57 h 34 min 59.614 s)"
       ]
      },
      {
       "output_type": "stream",
       "stream": "stdout",
       "text": [
        "\n",
        "acquiring signal (channel 1)\n",
        "acquiring ramp (channel 2)"
       ]
      },
      {
       "output_type": "stream",
       "stream": "stdout",
       "text": [
        "\n",
        "iteration: 692 @ time: 207599.58000 s (57 h 39 min 59.580 s)"
       ]
      },
      {
       "output_type": "stream",
       "stream": "stdout",
       "text": [
        "\n",
        "acquiring signal (channel 1)\n",
        "acquiring ramp (channel 2)"
       ]
      },
      {
       "output_type": "stream",
       "stream": "stdout",
       "text": [
        "\n",
        "iteration: 693 @ time: 207899.58600 s (57 h 44 min 59.586 s)"
       ]
      },
      {
       "output_type": "stream",
       "stream": "stdout",
       "text": [
        "\n",
        "acquiring signal (channel 1)\n",
        "acquiring ramp (channel 2)"
       ]
      },
      {
       "output_type": "stream",
       "stream": "stdout",
       "text": [
        "\n",
        "iteration: 694 @ time: 208199.59400 s (57 h 49 min 59.594 s)"
       ]
      },
      {
       "output_type": "stream",
       "stream": "stdout",
       "text": [
        "\n",
        "acquiring signal (channel 1)\n",
        "acquiring ramp (channel 2)"
       ]
      },
      {
       "output_type": "stream",
       "stream": "stdout",
       "text": [
        "\n",
        "iteration: 695 @ time: 208499.63800 s (57 h 54 min 59.638 s)"
       ]
      },
      {
       "output_type": "stream",
       "stream": "stdout",
       "text": [
        "\n",
        "acquiring signal (channel 1)\n",
        "acquiring ramp (channel 2)"
       ]
      },
      {
       "output_type": "stream",
       "stream": "stdout",
       "text": [
        "\n",
        "iteration: 696 @ time: 208799.61700 s (57 h 59 min 59.617 s)"
       ]
      },
      {
       "output_type": "stream",
       "stream": "stdout",
       "text": [
        "\n",
        "acquiring signal (channel 1)\n",
        "acquiring ramp (channel 2)"
       ]
      },
      {
       "output_type": "stream",
       "stream": "stdout",
       "text": [
        "\n",
        "iteration: 697 @ time: 209099.61800 s (58 h  4 min 59.618 s)"
       ]
      },
      {
       "output_type": "stream",
       "stream": "stdout",
       "text": [
        "\n",
        "acquiring signal (channel 1)\n",
        "acquiring ramp (channel 2)"
       ]
      },
      {
       "output_type": "stream",
       "stream": "stdout",
       "text": [
        "\n",
        "iteration: 698 @ time: 209399.55900 s (58 h  9 min 59.559 s)"
       ]
      },
      {
       "output_type": "stream",
       "stream": "stdout",
       "text": [
        "\n",
        "acquiring signal (channel 1)\n",
        "acquiring ramp (channel 2)"
       ]
      },
      {
       "output_type": "stream",
       "stream": "stdout",
       "text": [
        "\n",
        "iteration: 699 @ time: 209699.54600 s (58 h 14 min 59.546 s)"
       ]
      },
      {
       "output_type": "stream",
       "stream": "stdout",
       "text": [
        "\n",
        "acquiring signal (channel 1)\n",
        "acquiring ramp (channel 2)"
       ]
      },
      {
       "output_type": "stream",
       "stream": "stdout",
       "text": [
        "\n",
        "iteration: 700 @ time: 209999.61600 s (58 h 19 min 59.616 s)"
       ]
      },
      {
       "output_type": "stream",
       "stream": "stdout",
       "text": [
        "\n",
        "acquiring signal (channel 1)\n",
        "acquiring ramp (channel 2)"
       ]
      },
      {
       "output_type": "stream",
       "stream": "stdout",
       "text": [
        "\n",
        "iteration: 701 @ time: 210299.56200 s (58 h 24 min 59.562 s)"
       ]
      },
      {
       "output_type": "stream",
       "stream": "stdout",
       "text": [
        "\n",
        "acquiring signal (channel 1)\n",
        "acquiring ramp (channel 2)"
       ]
      },
      {
       "output_type": "stream",
       "stream": "stdout",
       "text": [
        "\n",
        "iteration: 702 @ time: 210599.61500 s (58 h 29 min 59.615 s)"
       ]
      },
      {
       "output_type": "stream",
       "stream": "stdout",
       "text": [
        "\n",
        "acquiring signal (channel 1)\n",
        "acquiring ramp (channel 2)"
       ]
      },
      {
       "output_type": "stream",
       "stream": "stdout",
       "text": [
        "\n",
        "iteration: 703 @ time: 210899.60300 s (58 h 34 min 59.603 s)"
       ]
      },
      {
       "output_type": "stream",
       "stream": "stdout",
       "text": [
        "\n",
        "acquiring signal (channel 1)\n",
        "acquiring ramp (channel 2)"
       ]
      },
      {
       "output_type": "stream",
       "stream": "stdout",
       "text": [
        "\n",
        "iteration: 704 @ time: 211199.54200 s (58 h 39 min 59.542 s)"
       ]
      },
      {
       "output_type": "stream",
       "stream": "stdout",
       "text": [
        "\n",
        "acquiring signal (channel 1)\n",
        "acquiring ramp (channel 2)"
       ]
      },
      {
       "output_type": "stream",
       "stream": "stdout",
       "text": [
        "\n",
        "iteration: 705 @ time: 211499.63500 s (58 h 44 min 59.635 s)"
       ]
      },
      {
       "output_type": "stream",
       "stream": "stdout",
       "text": [
        "\n",
        "acquiring signal (channel 1)\n",
        "acquiring ramp (channel 2)"
       ]
      },
      {
       "output_type": "stream",
       "stream": "stdout",
       "text": [
        "\n",
        "iteration: 706 @ time: 211799.55300 s (58 h 49 min 59.553 s)"
       ]
      },
      {
       "output_type": "stream",
       "stream": "stdout",
       "text": [
        "\n",
        "acquiring signal (channel 1)\n",
        "acquiring ramp (channel 2)"
       ]
      },
      {
       "output_type": "stream",
       "stream": "stdout",
       "text": [
        "\n",
        "iteration: 707 @ time: 212099.55500 s (58 h 54 min 59.555 s)"
       ]
      },
      {
       "output_type": "stream",
       "stream": "stdout",
       "text": [
        "\n",
        "acquiring signal (channel 1)\n",
        "acquiring ramp (channel 2)"
       ]
      },
      {
       "output_type": "stream",
       "stream": "stdout",
       "text": [
        "\n",
        "iteration: 708 @ time: 212399.59300 s (58 h 59 min 59.593 s)"
       ]
      },
      {
       "output_type": "stream",
       "stream": "stdout",
       "text": [
        "\n",
        "acquiring signal (channel 1)\n",
        "acquiring ramp (channel 2)"
       ]
      },
      {
       "output_type": "stream",
       "stream": "stdout",
       "text": [
        "\n",
        "iteration: 709 @ time: 212699.59900 s (59 h  4 min 59.599 s)"
       ]
      },
      {
       "output_type": "stream",
       "stream": "stdout",
       "text": [
        "\n",
        "acquiring signal (channel 1)\n",
        "acquiring ramp (channel 2)"
       ]
      },
      {
       "output_type": "stream",
       "stream": "stdout",
       "text": [
        "\n",
        "iteration: 710 @ time: 212999.55000 s (59 h  9 min 59.550 s)"
       ]
      },
      {
       "output_type": "stream",
       "stream": "stdout",
       "text": [
        "\n",
        "acquiring signal (channel 1)\n",
        "acquiring ramp (channel 2)"
       ]
      },
      {
       "output_type": "stream",
       "stream": "stdout",
       "text": [
        "\n",
        "iteration: 711 @ time: 213299.54500 s (59 h 14 min 59.545 s)"
       ]
      },
      {
       "output_type": "stream",
       "stream": "stdout",
       "text": [
        "\n",
        "acquiring signal (channel 1)\n",
        "acquiring ramp (channel 2)"
       ]
      },
      {
       "output_type": "stream",
       "stream": "stdout",
       "text": [
        "\n",
        "iteration: 712 @ time: 213599.55200 s (59 h 19 min 59.552 s)"
       ]
      },
      {
       "output_type": "stream",
       "stream": "stdout",
       "text": [
        "\n",
        "acquiring signal (channel 1)\n",
        "acquiring ramp (channel 2)"
       ]
      },
      {
       "output_type": "stream",
       "stream": "stdout",
       "text": [
        "\n",
        "iteration: 713 @ time: 213899.59200 s (59 h 24 min 59.592 s)"
       ]
      },
      {
       "output_type": "stream",
       "stream": "stdout",
       "text": [
        "\n",
        "acquiring signal (channel 1)\n",
        "acquiring ramp (channel 2)"
       ]
      },
      {
       "output_type": "stream",
       "stream": "stdout",
       "text": [
        "\n",
        "iteration: 714 @ time: 214199.55700 s (59 h 29 min 59.557 s)"
       ]
      },
      {
       "output_type": "stream",
       "stream": "stdout",
       "text": [
        "\n",
        "acquiring signal (channel 1)\n",
        "acquiring ramp (channel 2)"
       ]
      },
      {
       "output_type": "stream",
       "stream": "stdout",
       "text": [
        "\n",
        "iteration: 715 @ time: 214499.63200 s (59 h 34 min 59.632 s)"
       ]
      },
      {
       "output_type": "stream",
       "stream": "stdout",
       "text": [
        "\n",
        "acquiring signal (channel 1)\n",
        "acquiring ramp (channel 2)"
       ]
      },
      {
       "output_type": "stream",
       "stream": "stdout",
       "text": [
        "\n",
        "iteration: 716 @ time: 214799.56100 s (59 h 39 min 59.561 s)"
       ]
      },
      {
       "output_type": "stream",
       "stream": "stdout",
       "text": [
        "\n",
        "acquiring signal (channel 1)\n",
        "acquiring ramp (channel 2)"
       ]
      },
      {
       "output_type": "stream",
       "stream": "stdout",
       "text": [
        "\n",
        "iteration: 717 @ time: 215099.58200 s (59 h 44 min 59.582 s)"
       ]
      },
      {
       "output_type": "stream",
       "stream": "stdout",
       "text": [
        "\n",
        "acquiring signal (channel 1)\n",
        "acquiring ramp (channel 2)"
       ]
      },
      {
       "output_type": "stream",
       "stream": "stdout",
       "text": [
        "\n",
        "iteration: 718 @ time: 215399.58900 s (59 h 49 min 59.589 s)"
       ]
      },
      {
       "output_type": "stream",
       "stream": "stdout",
       "text": [
        "\n",
        "acquiring signal (channel 1)\n",
        "acquiring ramp (channel 2)"
       ]
      },
      {
       "output_type": "stream",
       "stream": "stdout",
       "text": [
        "\n",
        "iteration: 719 @ time: 215699.61700 s (59 h 54 min 59.617 s)"
       ]
      },
      {
       "output_type": "stream",
       "stream": "stdout",
       "text": [
        "\n",
        "acquiring signal (channel 1)\n",
        "acquiring ramp (channel 2)"
       ]
      },
      {
       "output_type": "stream",
       "stream": "stdout",
       "text": [
        "\n",
        "iteration: 720 @ time: 215999.60900 s (59 h 59 min 59.609 s)"
       ]
      },
      {
       "output_type": "stream",
       "stream": "stdout",
       "text": [
        "\n",
        "acquiring signal (channel 1)\n",
        "acquiring ramp (channel 2)"
       ]
      },
      {
       "output_type": "stream",
       "stream": "stdout",
       "text": [
        "\n",
        "iteration: 721 @ time: 216299.56400 s (60 h  4 min 59.564 s)"
       ]
      },
      {
       "output_type": "stream",
       "stream": "stdout",
       "text": [
        "\n",
        "acquiring signal (channel 1)\n",
        "acquiring ramp (channel 2)"
       ]
      },
      {
       "output_type": "stream",
       "stream": "stdout",
       "text": [
        "\n",
        "iteration: 722 @ time: 216599.55500 s (60 h  9 min 59.555 s)"
       ]
      },
      {
       "output_type": "stream",
       "stream": "stdout",
       "text": [
        "\n",
        "acquiring signal (channel 1)\n",
        "acquiring ramp (channel 2)"
       ]
      },
      {
       "output_type": "stream",
       "stream": "stdout",
       "text": [
        "\n",
        "iteration: 723 @ time: 216899.63000 s (60 h 14 min 59.630 s)"
       ]
      },
      {
       "output_type": "stream",
       "stream": "stdout",
       "text": [
        "\n",
        "acquiring signal (channel 1)\n",
        "acquiring ramp (channel 2)"
       ]
      },
      {
       "output_type": "stream",
       "stream": "stdout",
       "text": [
        "\n",
        "iteration: 724 @ time: 217199.55300 s (60 h 19 min 59.553 s)"
       ]
      },
      {
       "output_type": "stream",
       "stream": "stdout",
       "text": [
        "\n",
        "acquiring signal (channel 1)\n",
        "acquiring ramp (channel 2)"
       ]
      },
      {
       "output_type": "stream",
       "stream": "stdout",
       "text": [
        "\n",
        "iteration: 725 @ time: 217499.55700 s (60 h 24 min 59.557 s)"
       ]
      },
      {
       "output_type": "stream",
       "stream": "stdout",
       "text": [
        "\n",
        "acquiring signal (channel 1)\n",
        "acquiring ramp (channel 2)"
       ]
      },
      {
       "output_type": "stream",
       "stream": "stdout",
       "text": [
        "\n",
        "iteration: 726 @ time: 217799.54300 s (60 h 29 min 59.543 s)"
       ]
      },
      {
       "output_type": "stream",
       "stream": "stdout",
       "text": [
        "\n",
        "acquiring signal (channel 1)\n",
        "acquiring ramp (channel 2)"
       ]
      },
      {
       "output_type": "stream",
       "stream": "stdout",
       "text": [
        "\n",
        "iteration: 727 @ time: 218099.60500 s (60 h 34 min 59.605 s)"
       ]
      },
      {
       "output_type": "stream",
       "stream": "stdout",
       "text": [
        "\n",
        "acquiring signal (channel 1)\n",
        "acquiring ramp (channel 2)"
       ]
      },
      {
       "output_type": "stream",
       "stream": "stdout",
       "text": [
        "\n",
        "iteration: 728 @ time: 218399.63500 s (60 h 39 min 59.635 s)"
       ]
      },
      {
       "output_type": "stream",
       "stream": "stdout",
       "text": [
        "\n",
        "acquiring signal (channel 1)\n",
        "acquiring ramp (channel 2)"
       ]
      },
      {
       "output_type": "stream",
       "stream": "stdout",
       "text": [
        "\n",
        "iteration: 729 @ time: 218699.58300 s (60 h 44 min 59.583 s)"
       ]
      },
      {
       "output_type": "stream",
       "stream": "stdout",
       "text": [
        "\n",
        "acquiring signal (channel 1)\n",
        "acquiring ramp (channel 2)"
       ]
      },
      {
       "output_type": "stream",
       "stream": "stdout",
       "text": [
        "\n",
        "iteration: 730 @ time: 218999.56600 s (60 h 49 min 59.566 s)"
       ]
      },
      {
       "output_type": "stream",
       "stream": "stdout",
       "text": [
        "\n",
        "acquiring signal (channel 1)\n",
        "acquiring ramp (channel 2)"
       ]
      },
      {
       "output_type": "stream",
       "stream": "stdout",
       "text": [
        "\n",
        "iteration: 731 @ time: 219299.62900 s (60 h 54 min 59.629 s)"
       ]
      },
      {
       "output_type": "stream",
       "stream": "stdout",
       "text": [
        "\n",
        "acquiring signal (channel 1)\n",
        "acquiring ramp (channel 2)"
       ]
      },
      {
       "output_type": "stream",
       "stream": "stdout",
       "text": [
        "\n",
        "iteration: 732 @ time: 219599.62500 s (60 h 59 min 59.625 s)"
       ]
      },
      {
       "output_type": "stream",
       "stream": "stdout",
       "text": [
        "\n",
        "acquiring signal (channel 1)\n",
        "acquiring ramp (channel 2)"
       ]
      },
      {
       "output_type": "stream",
       "stream": "stdout",
       "text": [
        "\n",
        "iteration: 733 @ time: 219899.60100 s (61 h  4 min 59.601 s)"
       ]
      },
      {
       "output_type": "stream",
       "stream": "stdout",
       "text": [
        "\n",
        "acquiring signal (channel 1)\n",
        "acquiring ramp (channel 2)"
       ]
      },
      {
       "output_type": "stream",
       "stream": "stdout",
       "text": [
        "\n",
        "iteration: 734 @ time: 220199.62600 s (61 h  9 min 59.626 s)"
       ]
      },
      {
       "output_type": "stream",
       "stream": "stdout",
       "text": [
        "\n",
        "acquiring signal (channel 1)\n",
        "acquiring ramp (channel 2)"
       ]
      },
      {
       "output_type": "stream",
       "stream": "stdout",
       "text": [
        "\n",
        "iteration: 735 @ time: 220499.57300 s (61 h 14 min 59.573 s)"
       ]
      },
      {
       "output_type": "stream",
       "stream": "stdout",
       "text": [
        "\n",
        "acquiring signal (channel 1)\n",
        "acquiring ramp (channel 2)"
       ]
      },
      {
       "output_type": "stream",
       "stream": "stdout",
       "text": [
        "\n",
        "iteration: 736 @ time: 220799.55500 s (61 h 19 min 59.555 s)"
       ]
      },
      {
       "output_type": "stream",
       "stream": "stdout",
       "text": [
        "\n",
        "acquiring signal (channel 1)\n",
        "acquiring ramp (channel 2)"
       ]
      },
      {
       "output_type": "stream",
       "stream": "stdout",
       "text": [
        "\n",
        "iteration: 737 @ time: 221099.63000 s (61 h 24 min 59.630 s)"
       ]
      },
      {
       "output_type": "stream",
       "stream": "stdout",
       "text": [
        "\n",
        "acquiring signal (channel 1)\n",
        "acquiring ramp (channel 2)"
       ]
      },
      {
       "output_type": "stream",
       "stream": "stdout",
       "text": [
        "\n",
        "iteration: 738 @ time: 221399.63000 s (61 h 29 min 59.630 s)"
       ]
      },
      {
       "output_type": "stream",
       "stream": "stdout",
       "text": [
        "\n",
        "acquiring signal (channel 1)\n",
        "acquiring ramp (channel 2)"
       ]
      },
      {
       "output_type": "stream",
       "stream": "stdout",
       "text": [
        "\n",
        "iteration: 739 @ time: 221699.54800 s (61 h 34 min 59.548 s)"
       ]
      },
      {
       "output_type": "stream",
       "stream": "stdout",
       "text": [
        "\n",
        "acquiring signal (channel 1)\n",
        "acquiring ramp (channel 2)"
       ]
      },
      {
       "output_type": "stream",
       "stream": "stdout",
       "text": [
        "\n",
        "iteration: 740 @ time: 221999.54200 s (61 h 39 min 59.542 s)"
       ]
      },
      {
       "output_type": "stream",
       "stream": "stdout",
       "text": [
        "\n",
        "acquiring signal (channel 1)\n",
        "acquiring ramp (channel 2)"
       ]
      },
      {
       "output_type": "stream",
       "stream": "stdout",
       "text": [
        "\n",
        "iteration: 741 @ time: 222299.60900 s (61 h 44 min 59.609 s)"
       ]
      },
      {
       "output_type": "stream",
       "stream": "stdout",
       "text": [
        "\n",
        "acquiring signal (channel 1)\n",
        "acquiring ramp (channel 2)"
       ]
      },
      {
       "output_type": "stream",
       "stream": "stdout",
       "text": [
        "\n",
        "iteration: 742 @ time: 222599.62500 s (61 h 49 min 59.625 s)"
       ]
      },
      {
       "output_type": "stream",
       "stream": "stdout",
       "text": [
        "\n",
        "acquiring signal (channel 1)\n",
        "acquiring ramp (channel 2)"
       ]
      },
      {
       "output_type": "stream",
       "stream": "stdout",
       "text": [
        "\n",
        "iteration: 743 @ time: 222899.55300 s (61 h 54 min 59.553 s)"
       ]
      },
      {
       "output_type": "stream",
       "stream": "stdout",
       "text": [
        "\n",
        "acquiring signal (channel 1)\n",
        "acquiring ramp (channel 2)"
       ]
      },
      {
       "output_type": "stream",
       "stream": "stdout",
       "text": [
        "\n",
        "iteration: 744 @ time: 223199.59000 s (61 h 59 min 59.590 s)"
       ]
      },
      {
       "output_type": "stream",
       "stream": "stdout",
       "text": [
        "\n",
        "acquiring signal (channel 1)\n",
        "acquiring ramp (channel 2)"
       ]
      },
      {
       "output_type": "stream",
       "stream": "stdout",
       "text": [
        "\n",
        "iteration: 745 @ time: 223499.56900 s (62 h  4 min 59.569 s)"
       ]
      },
      {
       "output_type": "stream",
       "stream": "stdout",
       "text": [
        "\n",
        "acquiring signal (channel 1)\n",
        "acquiring ramp (channel 2)"
       ]
      },
      {
       "output_type": "stream",
       "stream": "stdout",
       "text": [
        "\n",
        "iteration: 746 @ time: 223799.62400 s (62 h  9 min 59.624 s)"
       ]
      },
      {
       "output_type": "stream",
       "stream": "stdout",
       "text": [
        "\n",
        "acquiring signal (channel 1)\n",
        "acquiring ramp (channel 2)"
       ]
      },
      {
       "output_type": "stream",
       "stream": "stdout",
       "text": [
        "\n",
        "iteration: 747 @ time: 224099.57200 s (62 h 14 min 59.572 s)"
       ]
      },
      {
       "output_type": "stream",
       "stream": "stdout",
       "text": [
        "\n",
        "acquiring signal (channel 1)\n",
        "acquiring ramp (channel 2)"
       ]
      },
      {
       "output_type": "stream",
       "stream": "stdout",
       "text": [
        "\n",
        "iteration: 748 @ time: 224399.56000 s (62 h 19 min 59.560 s)"
       ]
      },
      {
       "output_type": "stream",
       "stream": "stdout",
       "text": [
        "\n",
        "acquiring signal (channel 1)\n",
        "acquiring ramp (channel 2)"
       ]
      },
      {
       "output_type": "stream",
       "stream": "stdout",
       "text": [
        "\n",
        "iteration: 749 @ time: 224699.61300 s (62 h 24 min 59.613 s)"
       ]
      },
      {
       "output_type": "stream",
       "stream": "stdout",
       "text": [
        "\n",
        "acquiring signal (channel 1)\n",
        "acquiring ramp (channel 2)"
       ]
      },
      {
       "output_type": "stream",
       "stream": "stdout",
       "text": [
        "\n",
        "iteration: 750 @ time: 224999.59800 s (62 h 29 min 59.598 s)"
       ]
      },
      {
       "output_type": "stream",
       "stream": "stdout",
       "text": [
        "\n",
        "acquiring signal (channel 1)\n",
        "acquiring ramp (channel 2)"
       ]
      },
      {
       "output_type": "stream",
       "stream": "stdout",
       "text": [
        "\n",
        "iteration: 751 @ time: 225299.58600 s (62 h 34 min 59.586 s)"
       ]
      },
      {
       "output_type": "stream",
       "stream": "stdout",
       "text": [
        "\n",
        "acquiring signal (channel 1)\n",
        "acquiring ramp (channel 2)"
       ]
      },
      {
       "output_type": "stream",
       "stream": "stdout",
       "text": [
        "\n",
        "iteration: 752 @ time: 225599.56300 s (62 h 39 min 59.563 s)"
       ]
      },
      {
       "output_type": "stream",
       "stream": "stdout",
       "text": [
        "\n",
        "acquiring signal (channel 1)\n",
        "acquiring ramp (channel 2)"
       ]
      },
      {
       "output_type": "stream",
       "stream": "stdout",
       "text": [
        "\n",
        "iteration: 753 @ time: 225899.56200 s (62 h 44 min 59.562 s)"
       ]
      },
      {
       "output_type": "stream",
       "stream": "stdout",
       "text": [
        "\n",
        "acquiring signal (channel 1)\n",
        "acquiring ramp (channel 2)"
       ]
      },
      {
       "output_type": "stream",
       "stream": "stdout",
       "text": [
        "\n",
        "iteration: 754 @ time: 226199.56400 s (62 h 49 min 59.564 s)"
       ]
      },
      {
       "output_type": "stream",
       "stream": "stdout",
       "text": [
        "\n",
        "acquiring signal (channel 1)\n",
        "acquiring ramp (channel 2)"
       ]
      },
      {
       "output_type": "stream",
       "stream": "stdout",
       "text": [
        "\n",
        "iteration: 755 @ time: 226499.64000 s (62 h 54 min 59.640 s)"
       ]
      },
      {
       "output_type": "stream",
       "stream": "stdout",
       "text": [
        "\n",
        "acquiring signal (channel 1)\n",
        "acquiring ramp (channel 2)"
       ]
      },
      {
       "output_type": "stream",
       "stream": "stdout",
       "text": [
        "\n",
        "iteration: 756 @ time: 226799.54300 s (62 h 59 min 59.543 s)"
       ]
      },
      {
       "output_type": "stream",
       "stream": "stdout",
       "text": [
        "\n",
        "acquiring signal (channel 1)\n",
        "acquiring ramp (channel 2)"
       ]
      },
      {
       "output_type": "stream",
       "stream": "stdout",
       "text": [
        "\n",
        "iteration: 757 @ time: 227099.58600 s (63 h  4 min 59.586 s)"
       ]
      },
      {
       "output_type": "stream",
       "stream": "stdout",
       "text": [
        "\n",
        "acquiring signal (channel 1)\n",
        "acquiring ramp (channel 2)"
       ]
      },
      {
       "output_type": "stream",
       "stream": "stdout",
       "text": [
        "\n",
        "iteration: 758 @ time: 227399.55300 s (63 h  9 min 59.553 s)"
       ]
      },
      {
       "output_type": "stream",
       "stream": "stdout",
       "text": [
        "\n",
        "acquiring signal (channel 1)\n",
        "acquiring ramp (channel 2)"
       ]
      },
      {
       "output_type": "stream",
       "stream": "stdout",
       "text": [
        "\n",
        "iteration: 759 @ time: 227699.56700 s (63 h 14 min 59.567 s)"
       ]
      },
      {
       "output_type": "stream",
       "stream": "stdout",
       "text": [
        "\n",
        "acquiring signal (channel 1)\n",
        "acquiring ramp (channel 2)"
       ]
      },
      {
       "output_type": "stream",
       "stream": "stdout",
       "text": [
        "\n",
        "iteration: 760 @ time: 227999.64000 s (63 h 19 min 59.640 s)"
       ]
      },
      {
       "output_type": "stream",
       "stream": "stdout",
       "text": [
        "\n",
        "acquiring signal (channel 1)\n",
        "acquiring ramp (channel 2)"
       ]
      },
      {
       "output_type": "stream",
       "stream": "stdout",
       "text": [
        "\n",
        "iteration: 761 @ time: 228299.57200 s (63 h 24 min 59.572 s)"
       ]
      },
      {
       "output_type": "stream",
       "stream": "stdout",
       "text": [
        "\n",
        "acquiring signal (channel 1)\n",
        "acquiring ramp (channel 2)"
       ]
      },
      {
       "output_type": "stream",
       "stream": "stdout",
       "text": [
        "\n",
        "iteration: 762 @ time: 228599.63900 s (63 h 29 min 59.639 s)"
       ]
      },
      {
       "output_type": "stream",
       "stream": "stdout",
       "text": [
        "\n",
        "acquiring signal (channel 1)\n",
        "acquiring ramp (channel 2)"
       ]
      },
      {
       "output_type": "stream",
       "stream": "stdout",
       "text": [
        "\n",
        "iteration: 763 @ time: 228899.56800 s (63 h 34 min 59.568 s)"
       ]
      },
      {
       "output_type": "stream",
       "stream": "stdout",
       "text": [
        "\n",
        "acquiring signal (channel 1)\n",
        "acquiring ramp (channel 2)"
       ]
      },
      {
       "output_type": "stream",
       "stream": "stdout",
       "text": [
        "\n",
        "iteration: 764 @ time: 229199.56600 s (63 h 39 min 59.566 s)"
       ]
      },
      {
       "output_type": "stream",
       "stream": "stdout",
       "text": [
        "\n",
        "acquiring signal (channel 1)\n",
        "acquiring ramp (channel 2)"
       ]
      },
      {
       "output_type": "stream",
       "stream": "stdout",
       "text": [
        "\n",
        "iteration: 765 @ time: 229499.61900 s (63 h 44 min 59.619 s)"
       ]
      },
      {
       "output_type": "stream",
       "stream": "stdout",
       "text": [
        "\n",
        "acquiring signal (channel 1)\n",
        "acquiring ramp (channel 2)"
       ]
      },
      {
       "output_type": "stream",
       "stream": "stdout",
       "text": [
        "\n",
        "iteration: 766 @ time: 229799.61000 s (63 h 49 min 59.610 s)"
       ]
      },
      {
       "output_type": "stream",
       "stream": "stdout",
       "text": [
        "\n",
        "acquiring signal (channel 1)\n",
        "acquiring ramp (channel 2)"
       ]
      },
      {
       "output_type": "stream",
       "stream": "stdout",
       "text": [
        "\n",
        "iteration: 767 @ time: 230099.59700 s (63 h 54 min 59.597 s)"
       ]
      },
      {
       "output_type": "stream",
       "stream": "stdout",
       "text": [
        "\n",
        "acquiring signal (channel 1)\n",
        "acquiring ramp (channel 2)"
       ]
      },
      {
       "output_type": "stream",
       "stream": "stdout",
       "text": [
        "\n",
        "iteration: 768 @ time: 230399.56600 s (63 h 59 min 59.566 s)"
       ]
      },
      {
       "output_type": "stream",
       "stream": "stdout",
       "text": [
        "\n",
        "acquiring signal (channel 1)\n",
        "acquiring ramp (channel 2)"
       ]
      },
      {
       "output_type": "stream",
       "stream": "stdout",
       "text": [
        "\n",
        "iteration: 769 @ time: 230699.56600 s (64 h  4 min 59.566 s)"
       ]
      },
      {
       "output_type": "stream",
       "stream": "stdout",
       "text": [
        "\n",
        "acquiring signal (channel 1)\n",
        "acquiring ramp (channel 2)"
       ]
      },
      {
       "output_type": "stream",
       "stream": "stdout",
       "text": [
        "\n",
        "iteration: 770 @ time: 230999.62700 s (64 h  9 min 59.627 s)"
       ]
      },
      {
       "output_type": "stream",
       "stream": "stdout",
       "text": [
        "\n",
        "acquiring signal (channel 1)\n",
        "acquiring ramp (channel 2)"
       ]
      },
      {
       "output_type": "stream",
       "stream": "stdout",
       "text": [
        "\n",
        "iteration: 771 @ time: 231299.55100 s (64 h 14 min 59.551 s)"
       ]
      },
      {
       "output_type": "stream",
       "stream": "stdout",
       "text": [
        "\n",
        "acquiring signal (channel 1)\n",
        "acquiring ramp (channel 2)"
       ]
      },
      {
       "output_type": "stream",
       "stream": "stdout",
       "text": [
        "\n",
        "iteration: 772 @ time: 231599.60000 s (64 h 19 min 59.600 s)"
       ]
      },
      {
       "output_type": "stream",
       "stream": "stdout",
       "text": [
        "\n",
        "acquiring signal (channel 1)\n",
        "acquiring ramp (channel 2)"
       ]
      },
      {
       "output_type": "stream",
       "stream": "stdout",
       "text": [
        "\n",
        "iteration: 773 @ time: 231899.61200 s (64 h 24 min 59.612 s)"
       ]
      },
      {
       "output_type": "stream",
       "stream": "stdout",
       "text": [
        "\n",
        "acquiring signal (channel 1)\n",
        "acquiring ramp (channel 2)"
       ]
      },
      {
       "output_type": "stream",
       "stream": "stdout",
       "text": [
        "\n",
        "iteration: 774 @ time: 232199.64000 s (64 h 29 min 59.640 s)"
       ]
      },
      {
       "output_type": "stream",
       "stream": "stdout",
       "text": [
        "\n",
        "acquiring signal (channel 1)\n",
        "acquiring ramp (channel 2)"
       ]
      },
      {
       "output_type": "stream",
       "stream": "stdout",
       "text": [
        "\n",
        "iteration: 775 @ time: 232499.62700 s (64 h 34 min 59.627 s)"
       ]
      },
      {
       "output_type": "stream",
       "stream": "stdout",
       "text": [
        "\n",
        "acquiring signal (channel 1)\n",
        "acquiring ramp (channel 2)"
       ]
      },
      {
       "output_type": "stream",
       "stream": "stdout",
       "text": [
        "\n",
        "iteration: 776 @ time: 232799.55800 s (64 h 39 min 59.558 s)"
       ]
      },
      {
       "output_type": "stream",
       "stream": "stdout",
       "text": [
        "\n",
        "acquiring signal (channel 1)\n",
        "acquiring ramp (channel 2)"
       ]
      },
      {
       "output_type": "stream",
       "stream": "stdout",
       "text": [
        "\n",
        "iteration: 777 @ time: 233099.55900 s (64 h 44 min 59.559 s)"
       ]
      },
      {
       "output_type": "stream",
       "stream": "stdout",
       "text": [
        "\n",
        "acquiring signal (channel 1)\n",
        "acquiring ramp (channel 2)"
       ]
      },
      {
       "output_type": "stream",
       "stream": "stdout",
       "text": [
        "\n",
        "iteration: 778 @ time: 233399.59900 s (64 h 49 min 59.599 s)"
       ]
      },
      {
       "output_type": "stream",
       "stream": "stdout",
       "text": [
        "\n",
        "acquiring signal (channel 1)\n",
        "acquiring ramp (channel 2)"
       ]
      },
      {
       "output_type": "stream",
       "stream": "stdout",
       "text": [
        "\n",
        "iteration: 779 @ time: 233699.60400 s (64 h 54 min 59.604 s)"
       ]
      },
      {
       "output_type": "stream",
       "stream": "stdout",
       "text": [
        "\n",
        "acquiring signal (channel 1)\n",
        "acquiring ramp (channel 2)"
       ]
      },
      {
       "output_type": "stream",
       "stream": "stdout",
       "text": [
        "\n",
        "iteration: 780 @ time: 233999.57000 s (64 h 59 min 59.570 s)"
       ]
      },
      {
       "output_type": "stream",
       "stream": "stdout",
       "text": [
        "\n",
        "acquiring signal (channel 1)\n",
        "acquiring ramp (channel 2)"
       ]
      },
      {
       "output_type": "stream",
       "stream": "stdout",
       "text": [
        "\n",
        "iteration: 781 @ time: 234299.61300 s (65 h  4 min 59.613 s)"
       ]
      },
      {
       "output_type": "stream",
       "stream": "stdout",
       "text": [
        "\n",
        "acquiring signal (channel 1)\n",
        "acquiring ramp (channel 2)"
       ]
      },
      {
       "output_type": "stream",
       "stream": "stdout",
       "text": [
        "\n",
        "iteration: 782 @ time: 234599.62400 s (65 h  9 min 59.624 s)"
       ]
      },
      {
       "output_type": "stream",
       "stream": "stdout",
       "text": [
        "\n",
        "acquiring signal (channel 1)\n",
        "acquiring ramp (channel 2)"
       ]
      },
      {
       "output_type": "stream",
       "stream": "stdout",
       "text": [
        "\n",
        "iteration: 783 @ time: 234899.62000 s (65 h 14 min 59.620 s)"
       ]
      },
      {
       "output_type": "stream",
       "stream": "stdout",
       "text": [
        "\n",
        "acquiring signal (channel 1)\n",
        "acquiring ramp (channel 2)"
       ]
      },
      {
       "output_type": "stream",
       "stream": "stdout",
       "text": [
        "\n",
        "iteration: 784 @ time: 235199.63100 s (65 h 19 min 59.631 s)"
       ]
      },
      {
       "output_type": "stream",
       "stream": "stdout",
       "text": [
        "\n",
        "acquiring signal (channel 1)\n",
        "acquiring ramp (channel 2)"
       ]
      },
      {
       "output_type": "stream",
       "stream": "stdout",
       "text": [
        "\n",
        "iteration: 785 @ time: 235499.60000 s (65 h 24 min 59.600 s)"
       ]
      },
      {
       "output_type": "stream",
       "stream": "stdout",
       "text": [
        "\n",
        "acquiring signal (channel 1)\n",
        "acquiring ramp (channel 2)"
       ]
      },
      {
       "output_type": "stream",
       "stream": "stdout",
       "text": [
        "\n",
        "iteration: 786 @ time: 235799.60400 s (65 h 29 min 59.604 s)"
       ]
      },
      {
       "output_type": "stream",
       "stream": "stdout",
       "text": [
        "\n",
        "acquiring signal (channel 1)\n",
        "acquiring ramp (channel 2)"
       ]
      },
      {
       "output_type": "stream",
       "stream": "stdout",
       "text": [
        "\n",
        "iteration: 787 @ time: 236099.56500 s (65 h 34 min 59.565 s)"
       ]
      },
      {
       "output_type": "stream",
       "stream": "stdout",
       "text": [
        "\n",
        "acquiring signal (channel 1)\n",
        "acquiring ramp (channel 2)"
       ]
      },
      {
       "output_type": "stream",
       "stream": "stdout",
       "text": [
        "\n",
        "iteration: 788 @ time: 236399.54900 s (65 h 39 min 59.549 s)"
       ]
      },
      {
       "output_type": "stream",
       "stream": "stdout",
       "text": [
        "\n",
        "acquiring signal (channel 1)\n",
        "acquiring ramp (channel 2)"
       ]
      },
      {
       "output_type": "stream",
       "stream": "stdout",
       "text": [
        "\n",
        "iteration: 789 @ time: 236699.61200 s (65 h 44 min 59.612 s)"
       ]
      },
      {
       "output_type": "stream",
       "stream": "stdout",
       "text": [
        "\n",
        "acquiring signal (channel 1)\n",
        "acquiring ramp (channel 2)"
       ]
      },
      {
       "output_type": "stream",
       "stream": "stdout",
       "text": [
        "\n",
        "iteration: 790 @ time: 236999.55400 s (65 h 49 min 59.554 s)"
       ]
      },
      {
       "output_type": "stream",
       "stream": "stdout",
       "text": [
        "\n",
        "acquiring signal (channel 1)\n",
        "acquiring ramp (channel 2)"
       ]
      },
      {
       "output_type": "stream",
       "stream": "stdout",
       "text": [
        "\n",
        "iteration: 791 @ time: 237299.58400 s (65 h 54 min 59.584 s)"
       ]
      },
      {
       "output_type": "stream",
       "stream": "stdout",
       "text": [
        "\n",
        "acquiring signal (channel 1)\n",
        "acquiring ramp (channel 2)"
       ]
      },
      {
       "output_type": "stream",
       "stream": "stdout",
       "text": [
        "\n",
        "iteration: 792 @ time: 237599.56800 s (65 h 59 min 59.568 s)"
       ]
      },
      {
       "output_type": "stream",
       "stream": "stdout",
       "text": [
        "\n",
        "acquiring signal (channel 1)\n",
        "acquiring ramp (channel 2)"
       ]
      },
      {
       "output_type": "stream",
       "stream": "stdout",
       "text": [
        "\n",
        "iteration: 793 @ time: 237899.56700 s (66 h  4 min 59.567 s)"
       ]
      },
      {
       "output_type": "stream",
       "stream": "stdout",
       "text": [
        "\n",
        "acquiring signal (channel 1)\n",
        "acquiring ramp (channel 2)"
       ]
      },
      {
       "output_type": "stream",
       "stream": "stdout",
       "text": [
        "\n",
        "iteration: 794 @ time: 238199.62700 s (66 h  9 min 59.627 s)"
       ]
      },
      {
       "output_type": "stream",
       "stream": "stdout",
       "text": [
        "\n",
        "acquiring signal (channel 1)\n",
        "acquiring ramp (channel 2)"
       ]
      },
      {
       "output_type": "stream",
       "stream": "stdout",
       "text": [
        "\n",
        "iteration: 795 @ time: 238499.62400 s (66 h 14 min 59.624 s)"
       ]
      },
      {
       "output_type": "stream",
       "stream": "stdout",
       "text": [
        "\n",
        "acquiring signal (channel 1)\n",
        "acquiring ramp (channel 2)"
       ]
      },
      {
       "output_type": "stream",
       "stream": "stdout",
       "text": [
        "\n",
        "iteration: 796 @ time: 238799.59700 s (66 h 19 min 59.597 s)"
       ]
      },
      {
       "output_type": "stream",
       "stream": "stdout",
       "text": [
        "\n",
        "acquiring signal (channel 1)\n",
        "acquiring ramp (channel 2)"
       ]
      },
      {
       "output_type": "stream",
       "stream": "stdout",
       "text": [
        "\n",
        "iteration: 797 @ time: 239099.59300 s (66 h 24 min 59.593 s)"
       ]
      },
      {
       "output_type": "stream",
       "stream": "stdout",
       "text": [
        "\n",
        "acquiring signal (channel 1)\n",
        "acquiring ramp (channel 2)"
       ]
      },
      {
       "output_type": "stream",
       "stream": "stdout",
       "text": [
        "\n",
        "iteration: 798 @ time: 239399.58500 s (66 h 29 min 59.585 s)"
       ]
      },
      {
       "output_type": "stream",
       "stream": "stdout",
       "text": [
        "\n",
        "acquiring signal (channel 1)\n",
        "acquiring ramp (channel 2)"
       ]
      },
      {
       "output_type": "stream",
       "stream": "stdout",
       "text": [
        "\n",
        "iteration: 799 @ time: 239699.60300 s (66 h 34 min 59.603 s)"
       ]
      },
      {
       "output_type": "stream",
       "stream": "stdout",
       "text": [
        "\n",
        "acquiring signal (channel 1)\n",
        "acquiring ramp (channel 2)"
       ]
      },
      {
       "output_type": "stream",
       "stream": "stdout",
       "text": [
        "\n",
        "iteration: 800 @ time: 239999.57700 s (66 h 39 min 59.577 s)"
       ]
      },
      {
       "output_type": "stream",
       "stream": "stdout",
       "text": [
        "\n",
        "acquiring signal (channel 1)\n",
        "acquiring ramp (channel 2)"
       ]
      },
      {
       "output_type": "stream",
       "stream": "stdout",
       "text": [
        "\n",
        "iteration: 801 @ time: 240299.57900 s (66 h 44 min 59.579 s)"
       ]
      },
      {
       "output_type": "stream",
       "stream": "stdout",
       "text": [
        "\n",
        "acquiring signal (channel 1)\n",
        "acquiring ramp (channel 2)"
       ]
      },
      {
       "output_type": "stream",
       "stream": "stdout",
       "text": [
        "\n",
        "iteration: 802 @ time: 240599.54100 s (66 h 49 min 59.541 s)"
       ]
      },
      {
       "output_type": "stream",
       "stream": "stdout",
       "text": [
        "\n",
        "acquiring signal (channel 1)\n",
        "acquiring ramp (channel 2)"
       ]
      },
      {
       "output_type": "stream",
       "stream": "stdout",
       "text": [
        "\n",
        "iteration: 803 @ time: 240899.62900 s (66 h 54 min 59.629 s)"
       ]
      },
      {
       "output_type": "stream",
       "stream": "stdout",
       "text": [
        "\n",
        "acquiring signal (channel 1)\n",
        "acquiring ramp (channel 2)"
       ]
      },
      {
       "output_type": "stream",
       "stream": "stdout",
       "text": [
        "\n",
        "iteration: 804 @ time: 241199.58200 s (66 h 59 min 59.582 s)"
       ]
      },
      {
       "output_type": "stream",
       "stream": "stdout",
       "text": [
        "\n",
        "acquiring signal (channel 1)\n",
        "acquiring ramp (channel 2)"
       ]
      },
      {
       "output_type": "stream",
       "stream": "stdout",
       "text": [
        "\n",
        "iteration: 805 @ time: 241499.57200 s (67 h  4 min 59.572 s)"
       ]
      },
      {
       "output_type": "stream",
       "stream": "stdout",
       "text": [
        "\n",
        "acquiring signal (channel 1)\n",
        "acquiring ramp (channel 2)"
       ]
      },
      {
       "output_type": "stream",
       "stream": "stdout",
       "text": [
        "\n",
        "iteration: 806 @ time: 241799.57300 s (67 h  9 min 59.573 s)"
       ]
      },
      {
       "output_type": "stream",
       "stream": "stdout",
       "text": [
        "\n",
        "acquiring signal (channel 1)\n",
        "acquiring ramp (channel 2)"
       ]
      },
      {
       "output_type": "stream",
       "stream": "stdout",
       "text": [
        "\n",
        "iteration: 807 @ time: 242099.58100 s (67 h 14 min 59.581 s)"
       ]
      },
      {
       "output_type": "stream",
       "stream": "stdout",
       "text": [
        "\n",
        "acquiring signal (channel 1)\n",
        "acquiring ramp (channel 2)"
       ]
      },
      {
       "output_type": "stream",
       "stream": "stdout",
       "text": [
        "\n",
        "iteration: 808 @ time: 242399.55000 s (67 h 19 min 59.550 s)"
       ]
      },
      {
       "output_type": "stream",
       "stream": "stdout",
       "text": [
        "\n",
        "acquiring signal (channel 1)\n",
        "acquiring ramp (channel 2)"
       ]
      },
      {
       "output_type": "stream",
       "stream": "stdout",
       "text": [
        "\n",
        "iteration: 809 @ time: 242699.61800 s (67 h 24 min 59.618 s)"
       ]
      },
      {
       "output_type": "stream",
       "stream": "stdout",
       "text": [
        "\n",
        "acquiring signal (channel 1)\n",
        "acquiring ramp (channel 2)"
       ]
      },
      {
       "output_type": "stream",
       "stream": "stdout",
       "text": [
        "\n",
        "iteration: 810 @ time: 242999.59600 s (67 h 29 min 59.596 s)"
       ]
      },
      {
       "output_type": "stream",
       "stream": "stdout",
       "text": [
        "\n",
        "acquiring signal (channel 1)\n",
        "acquiring ramp (channel 2)"
       ]
      },
      {
       "output_type": "stream",
       "stream": "stdout",
       "text": [
        "\n",
        "iteration: 811 @ time: 243299.61800 s (67 h 34 min 59.618 s)"
       ]
      },
      {
       "output_type": "stream",
       "stream": "stdout",
       "text": [
        "\n",
        "acquiring signal (channel 1)\n",
        "acquiring ramp (channel 2)"
       ]
      },
      {
       "output_type": "stream",
       "stream": "stdout",
       "text": [
        "\n",
        "iteration: 812 @ time: 243599.60900 s (67 h 39 min 59.609 s)"
       ]
      },
      {
       "output_type": "stream",
       "stream": "stdout",
       "text": [
        "\n",
        "acquiring signal (channel 1)\n",
        "acquiring ramp (channel 2)"
       ]
      },
      {
       "output_type": "stream",
       "stream": "stdout",
       "text": [
        "\n",
        "iteration: 813 @ time: 243899.61000 s (67 h 44 min 59.610 s)"
       ]
      },
      {
       "output_type": "stream",
       "stream": "stdout",
       "text": [
        "\n",
        "acquiring signal (channel 1)\n",
        "acquiring ramp (channel 2)"
       ]
      },
      {
       "output_type": "stream",
       "stream": "stdout",
       "text": [
        "\n",
        "iteration: 814 @ time: 244199.57600 s (67 h 49 min 59.576 s)"
       ]
      },
      {
       "output_type": "stream",
       "stream": "stdout",
       "text": [
        "\n",
        "acquiring signal (channel 1)\n",
        "acquiring ramp (channel 2)"
       ]
      },
      {
       "output_type": "stream",
       "stream": "stdout",
       "text": [
        "\n",
        "iteration: 815 @ time: 244499.61900 s (67 h 54 min 59.619 s)"
       ]
      },
      {
       "output_type": "stream",
       "stream": "stdout",
       "text": [
        "\n",
        "acquiring signal (channel 1)\n",
        "acquiring ramp (channel 2)"
       ]
      },
      {
       "output_type": "stream",
       "stream": "stdout",
       "text": [
        "\n",
        "iteration: 816 @ time: 244799.58100 s (67 h 59 min 59.581 s)"
       ]
      },
      {
       "output_type": "stream",
       "stream": "stdout",
       "text": [
        "\n",
        "acquiring signal (channel 1)\n",
        "acquiring ramp (channel 2)"
       ]
      },
      {
       "output_type": "stream",
       "stream": "stdout",
       "text": [
        "\n",
        "iteration: 817 @ time: 245099.60000 s (68 h  4 min 59.600 s)"
       ]
      },
      {
       "output_type": "stream",
       "stream": "stdout",
       "text": [
        "\n",
        "acquiring signal (channel 1)\n",
        "acquiring ramp (channel 2)"
       ]
      },
      {
       "output_type": "stream",
       "stream": "stdout",
       "text": [
        "\n",
        "iteration: 818 @ time: 245399.57400 s (68 h  9 min 59.574 s)"
       ]
      },
      {
       "output_type": "stream",
       "stream": "stdout",
       "text": [
        "\n",
        "acquiring signal (channel 1)\n",
        "acquiring ramp (channel 2)"
       ]
      },
      {
       "output_type": "stream",
       "stream": "stdout",
       "text": [
        "\n",
        "iteration: 819 @ time: 245699.54100 s (68 h 14 min 59.541 s)"
       ]
      },
      {
       "output_type": "stream",
       "stream": "stdout",
       "text": [
        "\n",
        "acquiring signal (channel 1)\n",
        "acquiring ramp (channel 2)"
       ]
      },
      {
       "output_type": "stream",
       "stream": "stdout",
       "text": [
        "\n",
        "iteration: 820 @ time: 245999.63000 s (68 h 19 min 59.630 s)"
       ]
      },
      {
       "output_type": "stream",
       "stream": "stdout",
       "text": [
        "\n",
        "acquiring signal (channel 1)\n",
        "acquiring ramp (channel 2)"
       ]
      },
      {
       "output_type": "stream",
       "stream": "stdout",
       "text": [
        "\n",
        "iteration: 821 @ time: 246299.55100 s (68 h 24 min 59.551 s)"
       ]
      },
      {
       "output_type": "stream",
       "stream": "stdout",
       "text": [
        "\n",
        "acquiring signal (channel 1)\n",
        "acquiring ramp (channel 2)"
       ]
      },
      {
       "output_type": "stream",
       "stream": "stdout",
       "text": [
        "\n",
        "iteration: 822 @ time: 246599.62400 s (68 h 29 min 59.624 s)"
       ]
      },
      {
       "output_type": "stream",
       "stream": "stdout",
       "text": [
        "\n",
        "acquiring signal (channel 1)\n",
        "acquiring ramp (channel 2)"
       ]
      },
      {
       "output_type": "stream",
       "stream": "stdout",
       "text": [
        "\n",
        "iteration: 823 @ time: 246899.62800 s (68 h 34 min 59.628 s)"
       ]
      },
      {
       "output_type": "stream",
       "stream": "stdout",
       "text": [
        "\n",
        "acquiring signal (channel 1)\n",
        "acquiring ramp (channel 2)"
       ]
      },
      {
       "output_type": "stream",
       "stream": "stdout",
       "text": [
        "\n",
        "iteration: 824 @ time: 247199.56200 s (68 h 39 min 59.562 s)"
       ]
      },
      {
       "output_type": "stream",
       "stream": "stdout",
       "text": [
        "\n",
        "acquiring signal (channel 1)\n",
        "acquiring ramp (channel 2)"
       ]
      },
      {
       "output_type": "stream",
       "stream": "stdout",
       "text": [
        "\n",
        "iteration: 825 @ time: 247499.63200 s (68 h 44 min 59.632 s)"
       ]
      },
      {
       "output_type": "stream",
       "stream": "stdout",
       "text": [
        "\n",
        "acquiring signal (channel 1)\n",
        "acquiring ramp (channel 2)"
       ]
      },
      {
       "output_type": "stream",
       "stream": "stdout",
       "text": [
        "\n",
        "iteration: 826 @ time: 247799.56100 s (68 h 49 min 59.561 s)"
       ]
      },
      {
       "output_type": "stream",
       "stream": "stdout",
       "text": [
        "\n",
        "acquiring signal (channel 1)\n",
        "acquiring ramp (channel 2)"
       ]
      },
      {
       "output_type": "stream",
       "stream": "stdout",
       "text": [
        "\n",
        "iteration: 827 @ time: 248099.59700 s (68 h 54 min 59.597 s)"
       ]
      },
      {
       "output_type": "stream",
       "stream": "stdout",
       "text": [
        "\n",
        "acquiring signal (channel 1)\n",
        "acquiring ramp (channel 2)"
       ]
      },
      {
       "output_type": "stream",
       "stream": "stdout",
       "text": [
        "\n",
        "iteration: 828 @ time: 248399.58900 s (68 h 59 min 59.589 s)"
       ]
      },
      {
       "output_type": "stream",
       "stream": "stdout",
       "text": [
        "\n",
        "acquiring signal (channel 1)\n",
        "acquiring ramp (channel 2)"
       ]
      },
      {
       "output_type": "stream",
       "stream": "stdout",
       "text": [
        "\n",
        "iteration: 829 @ time: 248699.60000 s (69 h  4 min 59.600 s)"
       ]
      },
      {
       "output_type": "stream",
       "stream": "stdout",
       "text": [
        "\n",
        "acquiring signal (channel 1)\n",
        "acquiring ramp (channel 2)"
       ]
      },
      {
       "output_type": "stream",
       "stream": "stdout",
       "text": [
        "\n",
        "iteration: 830 @ time: 248999.56900 s (69 h  9 min 59.569 s)"
       ]
      },
      {
       "output_type": "stream",
       "stream": "stdout",
       "text": [
        "\n",
        "acquiring signal (channel 1)\n",
        "acquiring ramp (channel 2)"
       ]
      },
      {
       "output_type": "stream",
       "stream": "stdout",
       "text": [
        "\n",
        "iteration: 831 @ time: 249299.60500 s (69 h 14 min 59.605 s)"
       ]
      },
      {
       "output_type": "stream",
       "stream": "stdout",
       "text": [
        "\n",
        "acquiring signal (channel 1)\n",
        "acquiring ramp (channel 2)"
       ]
      },
      {
       "output_type": "stream",
       "stream": "stdout",
       "text": [
        "\n",
        "iteration: 832 @ time: 249599.54500 s (69 h 19 min 59.545 s)"
       ]
      },
      {
       "output_type": "stream",
       "stream": "stdout",
       "text": [
        "\n",
        "acquiring signal (channel 1)\n",
        "acquiring ramp (channel 2)"
       ]
      },
      {
       "output_type": "stream",
       "stream": "stdout",
       "text": [
        "\n",
        "iteration: 833 @ time: 249899.61000 s (69 h 24 min 59.610 s)"
       ]
      },
      {
       "output_type": "stream",
       "stream": "stdout",
       "text": [
        "\n",
        "acquiring signal (channel 1)\n",
        "acquiring ramp (channel 2)"
       ]
      },
      {
       "output_type": "stream",
       "stream": "stdout",
       "text": [
        "\n",
        "iteration: 834 @ time: 250199.57600 s (69 h 29 min 59.576 s)"
       ]
      },
      {
       "output_type": "stream",
       "stream": "stdout",
       "text": [
        "\n",
        "acquiring signal (channel 1)\n",
        "acquiring ramp (channel 2)"
       ]
      },
      {
       "output_type": "stream",
       "stream": "stdout",
       "text": [
        "\n",
        "iteration: 835 @ time: 250499.61400 s (69 h 34 min 59.614 s)"
       ]
      },
      {
       "output_type": "stream",
       "stream": "stdout",
       "text": [
        "\n",
        "acquiring signal (channel 1)\n",
        "acquiring ramp (channel 2)"
       ]
      },
      {
       "output_type": "stream",
       "stream": "stdout",
       "text": [
        "\n",
        "iteration: 836 @ time: 250799.55300 s (69 h 39 min 59.553 s)"
       ]
      },
      {
       "output_type": "stream",
       "stream": "stdout",
       "text": [
        "\n",
        "acquiring signal (channel 1)\n",
        "acquiring ramp (channel 2)"
       ]
      },
      {
       "output_type": "stream",
       "stream": "stdout",
       "text": [
        "\n",
        "iteration: 837 @ time: 251099.59900 s (69 h 44 min 59.599 s)"
       ]
      },
      {
       "output_type": "stream",
       "stream": "stdout",
       "text": [
        "\n",
        "acquiring signal (channel 1)\n",
        "acquiring ramp (channel 2)"
       ]
      },
      {
       "output_type": "stream",
       "stream": "stdout",
       "text": [
        "\n",
        "iteration: 838 @ time: 251399.60900 s (69 h 49 min 59.609 s)"
       ]
      },
      {
       "output_type": "stream",
       "stream": "stdout",
       "text": [
        "\n",
        "acquiring signal (channel 1)\n",
        "acquiring ramp (channel 2)"
       ]
      },
      {
       "output_type": "stream",
       "stream": "stdout",
       "text": [
        "\n",
        "iteration: 839 @ time: 251699.63100 s (69 h 54 min 59.631 s)"
       ]
      },
      {
       "output_type": "stream",
       "stream": "stdout",
       "text": [
        "\n",
        "acquiring signal (channel 1)\n",
        "acquiring ramp (channel 2)"
       ]
      },
      {
       "output_type": "stream",
       "stream": "stdout",
       "text": [
        "\n",
        "iteration: 840 @ time: 251999.55700 s (69 h 59 min 59.557 s)"
       ]
      },
      {
       "output_type": "stream",
       "stream": "stdout",
       "text": [
        "\n",
        "acquiring signal (channel 1)\n",
        "acquiring ramp (channel 2)"
       ]
      },
      {
       "output_type": "stream",
       "stream": "stdout",
       "text": [
        "\n",
        "iteration: 841 @ time: 252299.56200 s (70 h  4 min 59.562 s)"
       ]
      },
      {
       "output_type": "stream",
       "stream": "stdout",
       "text": [
        "\n",
        "acquiring signal (channel 1)\n",
        "acquiring ramp (channel 2)"
       ]
      },
      {
       "output_type": "stream",
       "stream": "stdout",
       "text": [
        "\n",
        "iteration: 842 @ time: 252599.54100 s (70 h  9 min 59.541 s)"
       ]
      },
      {
       "output_type": "stream",
       "stream": "stdout",
       "text": [
        "\n",
        "acquiring signal (channel 1)\n",
        "acquiring ramp (channel 2)"
       ]
      },
      {
       "output_type": "stream",
       "stream": "stdout",
       "text": [
        "\n",
        "iteration: 843 @ time: 252899.62200 s (70 h 14 min 59.622 s)"
       ]
      },
      {
       "output_type": "stream",
       "stream": "stdout",
       "text": [
        "\n",
        "acquiring signal (channel 1)\n",
        "acquiring ramp (channel 2)"
       ]
      },
      {
       "output_type": "stream",
       "stream": "stdout",
       "text": [
        "\n",
        "iteration: 844 @ time: 253199.56000 s (70 h 19 min 59.560 s)"
       ]
      },
      {
       "output_type": "stream",
       "stream": "stdout",
       "text": [
        "\n",
        "acquiring signal (channel 1)\n",
        "acquiring ramp (channel 2)"
       ]
      },
      {
       "output_type": "stream",
       "stream": "stdout",
       "text": [
        "\n",
        "iteration: 845 @ time: 253499.58400 s (70 h 24 min 59.584 s)"
       ]
      },
      {
       "output_type": "stream",
       "stream": "stdout",
       "text": [
        "\n",
        "acquiring signal (channel 1)\n",
        "acquiring ramp (channel 2)"
       ]
      },
      {
       "output_type": "stream",
       "stream": "stdout",
       "text": [
        "\n",
        "iteration: 846 @ time: 253799.62500 s (70 h 29 min 59.625 s)"
       ]
      },
      {
       "output_type": "stream",
       "stream": "stdout",
       "text": [
        "\n",
        "acquiring signal (channel 1)\n",
        "acquiring ramp (channel 2)"
       ]
      },
      {
       "output_type": "stream",
       "stream": "stdout",
       "text": [
        "\n",
        "iteration: 847 @ time: 254099.55400 s (70 h 34 min 59.554 s)"
       ]
      },
      {
       "output_type": "stream",
       "stream": "stdout",
       "text": [
        "\n",
        "acquiring signal (channel 1)\n",
        "acquiring ramp (channel 2)"
       ]
      },
      {
       "output_type": "stream",
       "stream": "stdout",
       "text": [
        "\n",
        "iteration: 848 @ time: 254399.59100 s (70 h 39 min 59.591 s)"
       ]
      },
      {
       "output_type": "stream",
       "stream": "stdout",
       "text": [
        "\n",
        "acquiring signal (channel 1)\n",
        "acquiring ramp (channel 2)"
       ]
      },
      {
       "output_type": "stream",
       "stream": "stdout",
       "text": [
        "\n",
        "iteration: 849 @ time: 254699.63200 s (70 h 44 min 59.632 s)"
       ]
      },
      {
       "output_type": "stream",
       "stream": "stdout",
       "text": [
        "\n",
        "acquiring signal (channel 1)\n",
        "acquiring ramp (channel 2)"
       ]
      },
      {
       "output_type": "stream",
       "stream": "stdout",
       "text": [
        "\n",
        "iteration: 850 @ time: 254999.56400 s (70 h 49 min 59.564 s)"
       ]
      },
      {
       "output_type": "stream",
       "stream": "stdout",
       "text": [
        "\n",
        "acquiring signal (channel 1)\n",
        "acquiring ramp (channel 2)"
       ]
      },
      {
       "output_type": "stream",
       "stream": "stdout",
       "text": [
        "\n",
        "iteration: 851 @ time: 255299.60200 s (70 h 54 min 59.602 s)"
       ]
      },
      {
       "output_type": "stream",
       "stream": "stdout",
       "text": [
        "\n",
        "acquiring signal (channel 1)\n",
        "acquiring ramp (channel 2)"
       ]
      },
      {
       "output_type": "stream",
       "stream": "stdout",
       "text": [
        "\n",
        "iteration: 852 @ time: 255599.60500 s (70 h 59 min 59.605 s)"
       ]
      },
      {
       "output_type": "stream",
       "stream": "stdout",
       "text": [
        "\n",
        "acquiring signal (channel 1)\n",
        "acquiring ramp (channel 2)"
       ]
      },
      {
       "output_type": "stream",
       "stream": "stdout",
       "text": [
        "\n",
        "iteration: 853 @ time: 255899.62500 s (71 h  4 min 59.625 s)"
       ]
      },
      {
       "output_type": "stream",
       "stream": "stdout",
       "text": [
        "\n",
        "acquiring signal (channel 1)\n",
        "acquiring ramp (channel 2)"
       ]
      },
      {
       "output_type": "stream",
       "stream": "stdout",
       "text": [
        "\n",
        "iteration: 854 @ time: 256199.61900 s (71 h  9 min 59.619 s)"
       ]
      },
      {
       "output_type": "stream",
       "stream": "stdout",
       "text": [
        "\n",
        "acquiring signal (channel 1)\n",
        "acquiring ramp (channel 2)"
       ]
      },
      {
       "output_type": "stream",
       "stream": "stdout",
       "text": [
        "\n",
        "iteration: 855 @ time: 256499.57900 s (71 h 14 min 59.579 s)"
       ]
      },
      {
       "output_type": "stream",
       "stream": "stdout",
       "text": [
        "\n",
        "acquiring signal (channel 1)\n",
        "acquiring ramp (channel 2)"
       ]
      },
      {
       "output_type": "stream",
       "stream": "stdout",
       "text": [
        "\n",
        "iteration: 856 @ time: 256799.57800 s (71 h 19 min 59.578 s)"
       ]
      },
      {
       "output_type": "stream",
       "stream": "stdout",
       "text": [
        "\n",
        "acquiring signal (channel 1)\n",
        "acquiring ramp (channel 2)"
       ]
      },
      {
       "output_type": "stream",
       "stream": "stdout",
       "text": [
        "\n",
        "iteration: 857 @ time: 257099.57000 s (71 h 24 min 59.570 s)"
       ]
      },
      {
       "output_type": "stream",
       "stream": "stdout",
       "text": [
        "\n",
        "acquiring signal (channel 1)\n",
        "acquiring ramp (channel 2)"
       ]
      },
      {
       "output_type": "stream",
       "stream": "stdout",
       "text": [
        "\n",
        "iteration: 858 @ time: 257399.60600 s (71 h 29 min 59.606 s)"
       ]
      },
      {
       "output_type": "stream",
       "stream": "stdout",
       "text": [
        "\n",
        "acquiring signal (channel 1)\n",
        "acquiring ramp (channel 2)"
       ]
      },
      {
       "output_type": "stream",
       "stream": "stdout",
       "text": [
        "\n",
        "iteration: 859 @ time: 257699.58400 s (71 h 34 min 59.584 s)"
       ]
      },
      {
       "output_type": "stream",
       "stream": "stdout",
       "text": [
        "\n",
        "acquiring signal (channel 1)\n",
        "acquiring ramp (channel 2)"
       ]
      },
      {
       "output_type": "stream",
       "stream": "stdout",
       "text": [
        "\n",
        "iteration: 860 @ time: 257999.63200 s (71 h 39 min 59.632 s)"
       ]
      },
      {
       "output_type": "stream",
       "stream": "stdout",
       "text": [
        "\n",
        "acquiring signal (channel 1)\n",
        "acquiring ramp (channel 2)"
       ]
      },
      {
       "output_type": "stream",
       "stream": "stdout",
       "text": [
        "\n",
        "iteration: 861 @ time: 258299.63300 s (71 h 44 min 59.633 s)"
       ]
      },
      {
       "output_type": "stream",
       "stream": "stdout",
       "text": [
        "\n",
        "acquiring signal (channel 1)\n",
        "acquiring ramp (channel 2)"
       ]
      },
      {
       "output_type": "stream",
       "stream": "stdout",
       "text": [
        "\n",
        "iteration: 862 @ time: 258599.58500 s (71 h 49 min 59.585 s)"
       ]
      },
      {
       "output_type": "stream",
       "stream": "stdout",
       "text": [
        "\n",
        "acquiring signal (channel 1)\n",
        "acquiring ramp (channel 2)"
       ]
      },
      {
       "output_type": "stream",
       "stream": "stdout",
       "text": [
        "\n",
        "iteration: 863 @ time: 258899.57900 s (71 h 54 min 59.579 s)"
       ]
      },
      {
       "output_type": "stream",
       "stream": "stdout",
       "text": [
        "\n",
        "acquiring signal (channel 1)\n",
        "acquiring ramp (channel 2)"
       ]
      },
      {
       "output_type": "stream",
       "stream": "stdout",
       "text": [
        "\n",
        "iteration: 864 @ time: 259199.55500 s (71 h 59 min 59.555 s)"
       ]
      },
      {
       "output_type": "stream",
       "stream": "stdout",
       "text": [
        "\n",
        "acquiring signal (channel 1)\n",
        "acquiring ramp (channel 2)"
       ]
      },
      {
       "output_type": "stream",
       "stream": "stdout",
       "text": [
        "\n",
        "iteration: 865 @ time: 259499.55200 s (72 h  4 min 59.552 s)"
       ]
      },
      {
       "output_type": "stream",
       "stream": "stdout",
       "text": [
        "\n",
        "acquiring signal (channel 1)\n",
        "acquiring ramp (channel 2)"
       ]
      },
      {
       "output_type": "stream",
       "stream": "stdout",
       "text": [
        "\n",
        "iteration: 866 @ time: 259799.56200 s (72 h  9 min 59.562 s)"
       ]
      },
      {
       "output_type": "stream",
       "stream": "stdout",
       "text": [
        "\n",
        "acquiring signal (channel 1)\n",
        "acquiring ramp (channel 2)"
       ]
      },
      {
       "output_type": "stream",
       "stream": "stdout",
       "text": [
        "\n",
        "iteration: 867 @ time: 260099.56200 s (72 h 14 min 59.562 s)"
       ]
      },
      {
       "output_type": "stream",
       "stream": "stdout",
       "text": [
        "\n",
        "acquiring signal (channel 1)\n",
        "acquiring ramp (channel 2)"
       ]
      },
      {
       "output_type": "stream",
       "stream": "stdout",
       "text": [
        "\n",
        "iteration: 868 @ time: 260399.61200 s (72 h 19 min 59.612 s)"
       ]
      },
      {
       "output_type": "stream",
       "stream": "stdout",
       "text": [
        "\n",
        "acquiring signal (channel 1)\n",
        "acquiring ramp (channel 2)"
       ]
      },
      {
       "output_type": "stream",
       "stream": "stdout",
       "text": [
        "\n",
        "iteration: 869 @ time: 260699.59600 s (72 h 24 min 59.596 s)"
       ]
      },
      {
       "output_type": "stream",
       "stream": "stdout",
       "text": [
        "\n",
        "acquiring signal (channel 1)\n",
        "acquiring ramp (channel 2)"
       ]
      },
      {
       "output_type": "stream",
       "stream": "stdout",
       "text": [
        "\n",
        "iteration: 870 @ time: 260999.61100 s (72 h 29 min 59.611 s)"
       ]
      },
      {
       "output_type": "stream",
       "stream": "stdout",
       "text": [
        "\n",
        "acquiring signal (channel 1)\n",
        "acquiring ramp (channel 2)"
       ]
      },
      {
       "output_type": "stream",
       "stream": "stdout",
       "text": [
        "\n",
        "iteration: 871 @ time: 261299.55600 s (72 h 34 min 59.556 s)"
       ]
      },
      {
       "output_type": "stream",
       "stream": "stdout",
       "text": [
        "\n",
        "acquiring signal (channel 1)\n",
        "acquiring ramp (channel 2)"
       ]
      },
      {
       "output_type": "stream",
       "stream": "stdout",
       "text": [
        "\n",
        "iteration: 872 @ time: 261599.62900 s (72 h 39 min 59.629 s)"
       ]
      },
      {
       "output_type": "stream",
       "stream": "stdout",
       "text": [
        "\n",
        "acquiring signal (channel 1)\n",
        "acquiring ramp (channel 2)"
       ]
      },
      {
       "output_type": "stream",
       "stream": "stdout",
       "text": [
        "\n",
        "iteration: 873 @ time: 261899.58400 s (72 h 44 min 59.584 s)"
       ]
      },
      {
       "output_type": "stream",
       "stream": "stdout",
       "text": [
        "\n",
        "acquiring signal (channel 1)\n",
        "acquiring ramp (channel 2)"
       ]
      },
      {
       "output_type": "stream",
       "stream": "stdout",
       "text": [
        "\n",
        "iteration: 874 @ time: 262199.55400 s (72 h 49 min 59.554 s)"
       ]
      },
      {
       "output_type": "stream",
       "stream": "stdout",
       "text": [
        "\n",
        "acquiring signal (channel 1)\n",
        "acquiring ramp (channel 2)"
       ]
      },
      {
       "output_type": "stream",
       "stream": "stdout",
       "text": [
        "\n",
        "iteration: 875 @ time: 262499.56500 s (72 h 54 min 59.565 s)"
       ]
      },
      {
       "output_type": "stream",
       "stream": "stdout",
       "text": [
        "\n",
        "acquiring signal (channel 1)\n",
        "acquiring ramp (channel 2)"
       ]
      },
      {
       "output_type": "stream",
       "stream": "stdout",
       "text": [
        "\n",
        "iteration: 876 @ time: 262799.63400 s (72 h 59 min 59.634 s)"
       ]
      },
      {
       "output_type": "stream",
       "stream": "stdout",
       "text": [
        "\n",
        "acquiring signal (channel 1)\n",
        "acquiring ramp (channel 2)"
       ]
      },
      {
       "output_type": "stream",
       "stream": "stdout",
       "text": [
        "\n",
        "iteration: 877 @ time: 263099.60100 s (73 h  4 min 59.601 s)"
       ]
      },
      {
       "output_type": "stream",
       "stream": "stdout",
       "text": [
        "\n",
        "acquiring signal (channel 1)\n",
        "acquiring ramp (channel 2)"
       ]
      },
      {
       "output_type": "stream",
       "stream": "stdout",
       "text": [
        "\n",
        "iteration: 878 @ time: 263399.55600 s (73 h  9 min 59.556 s)"
       ]
      },
      {
       "output_type": "stream",
       "stream": "stdout",
       "text": [
        "\n",
        "acquiring signal (channel 1)\n",
        "acquiring ramp (channel 2)"
       ]
      },
      {
       "output_type": "stream",
       "stream": "stdout",
       "text": [
        "\n",
        "iteration: 879 @ time: 263699.62500 s (73 h 14 min 59.625 s)"
       ]
      },
      {
       "output_type": "stream",
       "stream": "stdout",
       "text": [
        "\n",
        "acquiring signal (channel 1)\n",
        "acquiring ramp (channel 2)"
       ]
      },
      {
       "output_type": "stream",
       "stream": "stdout",
       "text": [
        "\n",
        "iteration: 880 @ time: 263999.56300 s (73 h 19 min 59.563 s)"
       ]
      },
      {
       "output_type": "stream",
       "stream": "stdout",
       "text": [
        "\n",
        "acquiring signal (channel 1)\n",
        "acquiring ramp (channel 2)"
       ]
      },
      {
       "output_type": "stream",
       "stream": "stdout",
       "text": [
        "\n",
        "iteration: 881 @ time: 264299.63400 s (73 h 24 min 59.634 s)"
       ]
      },
      {
       "output_type": "stream",
       "stream": "stdout",
       "text": [
        "\n",
        "acquiring signal (channel 1)\n",
        "acquiring ramp (channel 2)"
       ]
      },
      {
       "output_type": "stream",
       "stream": "stdout",
       "text": [
        "\n",
        "iteration: 882 @ time: 264599.60400 s (73 h 29 min 59.604 s)"
       ]
      },
      {
       "output_type": "stream",
       "stream": "stdout",
       "text": [
        "\n",
        "acquiring signal (channel 1)\n",
        "acquiring ramp (channel 2)"
       ]
      },
      {
       "output_type": "stream",
       "stream": "stdout",
       "text": [
        "\n",
        "iteration: 883 @ time: 264899.55000 s (73 h 34 min 59.550 s)"
       ]
      },
      {
       "output_type": "stream",
       "stream": "stdout",
       "text": [
        "\n",
        "acquiring signal (channel 1)\n",
        "acquiring ramp (channel 2)"
       ]
      },
      {
       "output_type": "stream",
       "stream": "stdout",
       "text": [
        "\n",
        "iteration: 884 @ time: 265199.61000 s (73 h 39 min 59.610 s)"
       ]
      },
      {
       "output_type": "stream",
       "stream": "stdout",
       "text": [
        "\n",
        "acquiring signal (channel 1)\n",
        "acquiring ramp (channel 2)"
       ]
      },
      {
       "output_type": "stream",
       "stream": "stdout",
       "text": [
        "\n",
        "iteration: 885 @ time: 265499.62800 s (73 h 44 min 59.628 s)"
       ]
      },
      {
       "output_type": "stream",
       "stream": "stdout",
       "text": [
        "\n",
        "acquiring signal (channel 1)\n",
        "acquiring ramp (channel 2)"
       ]
      },
      {
       "output_type": "stream",
       "stream": "stdout",
       "text": [
        "\n",
        "iteration: 886 @ time: 265799.60600 s (73 h 49 min 59.606 s)"
       ]
      },
      {
       "output_type": "stream",
       "stream": "stdout",
       "text": [
        "\n",
        "acquiring signal (channel 1)\n",
        "acquiring ramp (channel 2)"
       ]
      },
      {
       "output_type": "stream",
       "stream": "stdout",
       "text": [
        "\n",
        "iteration: 887 @ time: 266099.57600 s (73 h 54 min 59.576 s)"
       ]
      },
      {
       "output_type": "stream",
       "stream": "stdout",
       "text": [
        "\n",
        "acquiring signal (channel 1)\n",
        "acquiring ramp (channel 2)"
       ]
      },
      {
       "output_type": "stream",
       "stream": "stdout",
       "text": [
        "\n",
        "iteration: 888 @ time: 266399.61100 s (73 h 59 min 59.611 s)"
       ]
      },
      {
       "output_type": "stream",
       "stream": "stdout",
       "text": [
        "\n",
        "acquiring signal (channel 1)\n",
        "acquiring ramp (channel 2)"
       ]
      },
      {
       "output_type": "stream",
       "stream": "stdout",
       "text": [
        "\n",
        "iteration: 889 @ time: 266699.57000 s (74 h  4 min 59.570 s)"
       ]
      },
      {
       "output_type": "stream",
       "stream": "stdout",
       "text": [
        "\n",
        "acquiring signal (channel 1)\n",
        "acquiring ramp (channel 2)"
       ]
      },
      {
       "output_type": "stream",
       "stream": "stdout",
       "text": [
        "\n",
        "iteration: 890 @ time: 266999.63100 s (74 h  9 min 59.631 s)"
       ]
      },
      {
       "output_type": "stream",
       "stream": "stdout",
       "text": [
        "\n",
        "acquiring signal (channel 1)\n",
        "acquiring ramp (channel 2)"
       ]
      },
      {
       "output_type": "stream",
       "stream": "stdout",
       "text": [
        "\n",
        "iteration: 891 @ time: 267299.62300 s (74 h 14 min 59.623 s)"
       ]
      },
      {
       "output_type": "stream",
       "stream": "stdout",
       "text": [
        "\n",
        "acquiring signal (channel 1)\n",
        "acquiring ramp (channel 2)"
       ]
      },
      {
       "output_type": "stream",
       "stream": "stdout",
       "text": [
        "\n",
        "iteration: 892 @ time: 267599.55400 s (74 h 19 min 59.554 s)"
       ]
      },
      {
       "output_type": "stream",
       "stream": "stdout",
       "text": [
        "\n",
        "acquiring signal (channel 1)\n",
        "acquiring ramp (channel 2)"
       ]
      },
      {
       "output_type": "stream",
       "stream": "stdout",
       "text": [
        "\n",
        "iteration: 893 @ time: 267899.63400 s (74 h 24 min 59.634 s)"
       ]
      },
      {
       "output_type": "stream",
       "stream": "stdout",
       "text": [
        "\n",
        "acquiring signal (channel 1)\n",
        "acquiring ramp (channel 2)"
       ]
      },
      {
       "output_type": "stream",
       "stream": "stdout",
       "text": [
        "\n",
        "iteration: 894 @ time: 268199.57700 s (74 h 29 min 59.577 s)"
       ]
      },
      {
       "output_type": "stream",
       "stream": "stdout",
       "text": [
        "\n",
        "acquiring signal (channel 1)\n",
        "acquiring ramp (channel 2)"
       ]
      },
      {
       "output_type": "stream",
       "stream": "stdout",
       "text": [
        "\n",
        "iteration: 895 @ time: 268499.58600 s (74 h 34 min 59.586 s)"
       ]
      },
      {
       "output_type": "stream",
       "stream": "stdout",
       "text": [
        "\n",
        "acquiring signal (channel 1)\n",
        "acquiring ramp (channel 2)"
       ]
      },
      {
       "output_type": "stream",
       "stream": "stdout",
       "text": [
        "\n",
        "iteration: 896 @ time: 268799.63800 s (74 h 39 min 59.638 s)"
       ]
      },
      {
       "output_type": "stream",
       "stream": "stdout",
       "text": [
        "\n",
        "acquiring signal (channel 1)\n",
        "acquiring ramp (channel 2)"
       ]
      },
      {
       "output_type": "stream",
       "stream": "stdout",
       "text": [
        "\n",
        "iteration: 897 @ time: 269099.55500 s (74 h 44 min 59.555 s)"
       ]
      },
      {
       "output_type": "stream",
       "stream": "stdout",
       "text": [
        "\n",
        "acquiring signal (channel 1)\n",
        "acquiring ramp (channel 2)"
       ]
      },
      {
       "output_type": "stream",
       "stream": "stdout",
       "text": [
        "\n",
        "iteration: 898 @ time: 269399.57000 s (74 h 49 min 59.570 s)"
       ]
      },
      {
       "output_type": "stream",
       "stream": "stdout",
       "text": [
        "\n",
        "acquiring signal (channel 1)\n",
        "acquiring ramp (channel 2)"
       ]
      },
      {
       "output_type": "stream",
       "stream": "stdout",
       "text": [
        "\n",
        "iteration: 899 @ time: 269699.60400 s (74 h 54 min 59.604 s)"
       ]
      },
      {
       "output_type": "stream",
       "stream": "stdout",
       "text": [
        "\n",
        "acquiring signal (channel 1)\n",
        "acquiring ramp (channel 2)"
       ]
      },
      {
       "output_type": "stream",
       "stream": "stdout",
       "text": [
        "\n",
        "iteration: 900 @ time: 269999.60400 s (74 h 59 min 59.604 s)"
       ]
      },
      {
       "output_type": "stream",
       "stream": "stdout",
       "text": [
        "\n",
        "acquiring signal (channel 1)\n",
        "acquiring ramp (channel 2)"
       ]
      },
      {
       "output_type": "stream",
       "stream": "stdout",
       "text": [
        "\n",
        "iteration: 901 @ time: 270299.63300 s (75 h  4 min 59.633 s)"
       ]
      },
      {
       "output_type": "stream",
       "stream": "stdout",
       "text": [
        "\n",
        "acquiring signal (channel 1)\n",
        "acquiring ramp (channel 2)"
       ]
      },
      {
       "output_type": "stream",
       "stream": "stdout",
       "text": [
        "\n",
        "iteration: 902 @ time: 270599.55600 s (75 h  9 min 59.556 s)"
       ]
      },
      {
       "output_type": "stream",
       "stream": "stdout",
       "text": [
        "\n",
        "acquiring signal (channel 1)\n",
        "acquiring ramp (channel 2)"
       ]
      },
      {
       "output_type": "stream",
       "stream": "stdout",
       "text": [
        "\n",
        "iteration: 903 @ time: 270899.54100 s (75 h 14 min 59.541 s)"
       ]
      },
      {
       "output_type": "stream",
       "stream": "stdout",
       "text": [
        "\n",
        "acquiring signal (channel 1)\n",
        "acquiring ramp (channel 2)"
       ]
      },
      {
       "output_type": "stream",
       "stream": "stdout",
       "text": [
        "\n",
        "iteration: 904 @ time: 271199.54500 s (75 h 19 min 59.545 s)"
       ]
      },
      {
       "output_type": "stream",
       "stream": "stdout",
       "text": [
        "\n",
        "acquiring signal (channel 1)\n",
        "acquiring ramp (channel 2)"
       ]
      },
      {
       "output_type": "stream",
       "stream": "stdout",
       "text": [
        "\n",
        "iteration: 905 @ time: 271499.59400 s (75 h 24 min 59.594 s)"
       ]
      },
      {
       "output_type": "stream",
       "stream": "stdout",
       "text": [
        "\n",
        "acquiring signal (channel 1)\n",
        "acquiring ramp (channel 2)"
       ]
      },
      {
       "output_type": "stream",
       "stream": "stdout",
       "text": [
        "\n",
        "iteration: 906 @ time: 271799.61400 s (75 h 29 min 59.614 s)"
       ]
      },
      {
       "output_type": "stream",
       "stream": "stdout",
       "text": [
        "\n",
        "acquiring signal (channel 1)\n",
        "acquiring ramp (channel 2)"
       ]
      },
      {
       "output_type": "stream",
       "stream": "stdout",
       "text": [
        "\n",
        "iteration: 907 @ time: 272099.56500 s (75 h 34 min 59.565 s)"
       ]
      },
      {
       "output_type": "stream",
       "stream": "stdout",
       "text": [
        "\n",
        "acquiring signal (channel 1)\n",
        "acquiring ramp (channel 2)"
       ]
      },
      {
       "output_type": "stream",
       "stream": "stdout",
       "text": [
        "\n",
        "iteration: 908 @ time: 272399.60300 s (75 h 39 min 59.603 s)"
       ]
      },
      {
       "output_type": "stream",
       "stream": "stdout",
       "text": [
        "\n",
        "acquiring signal (channel 1)\n",
        "acquiring ramp (channel 2)"
       ]
      },
      {
       "output_type": "stream",
       "stream": "stdout",
       "text": [
        "\n",
        "iteration: 909 @ time: 272699.56200 s (75 h 44 min 59.562 s)"
       ]
      },
      {
       "output_type": "stream",
       "stream": "stdout",
       "text": [
        "\n",
        "acquiring signal (channel 1)\n",
        "acquiring ramp (channel 2)"
       ]
      },
      {
       "output_type": "stream",
       "stream": "stdout",
       "text": [
        "\n",
        "iteration: 910 @ time: 272999.56800 s (75 h 49 min 59.568 s)"
       ]
      },
      {
       "output_type": "stream",
       "stream": "stdout",
       "text": [
        "\n",
        "acquiring signal (channel 1)\n",
        "acquiring ramp (channel 2)"
       ]
      },
      {
       "output_type": "stream",
       "stream": "stdout",
       "text": [
        "\n",
        "iteration: 911 @ time: 273299.59000 s (75 h 54 min 59.590 s)"
       ]
      },
      {
       "output_type": "stream",
       "stream": "stdout",
       "text": [
        "\n",
        "acquiring signal (channel 1)\n",
        "acquiring ramp (channel 2)"
       ]
      },
      {
       "output_type": "stream",
       "stream": "stdout",
       "text": [
        "\n",
        "iteration: 912 @ time: 273599.55400 s (75 h 59 min 59.554 s)"
       ]
      },
      {
       "output_type": "stream",
       "stream": "stdout",
       "text": [
        "\n",
        "acquiring signal (channel 1)\n",
        "acquiring ramp (channel 2)"
       ]
      },
      {
       "output_type": "stream",
       "stream": "stdout",
       "text": [
        "\n",
        "iteration: 913 @ time: 273899.56900 s (76 h  4 min 59.569 s)"
       ]
      },
      {
       "output_type": "stream",
       "stream": "stdout",
       "text": [
        "\n",
        "acquiring signal (channel 1)\n",
        "acquiring ramp (channel 2)"
       ]
      },
      {
       "output_type": "stream",
       "stream": "stdout",
       "text": [
        "\n",
        "iteration: 914 @ time: 274199.63700 s (76 h  9 min 59.637 s)"
       ]
      },
      {
       "output_type": "stream",
       "stream": "stdout",
       "text": [
        "\n",
        "acquiring signal (channel 1)\n",
        "acquiring ramp (channel 2)"
       ]
      },
      {
       "output_type": "stream",
       "stream": "stdout",
       "text": [
        "\n",
        "iteration: 915 @ time: 274499.60800 s (76 h 14 min 59.608 s)"
       ]
      },
      {
       "output_type": "stream",
       "stream": "stdout",
       "text": [
        "\n",
        "acquiring signal (channel 1)\n",
        "acquiring ramp (channel 2)"
       ]
      },
      {
       "output_type": "stream",
       "stream": "stdout",
       "text": [
        "\n",
        "iteration: 916 @ time: 274799.54800 s (76 h 19 min 59.548 s)"
       ]
      },
      {
       "output_type": "stream",
       "stream": "stdout",
       "text": [
        "\n",
        "acquiring signal (channel 1)\n",
        "acquiring ramp (channel 2)"
       ]
      },
      {
       "output_type": "stream",
       "stream": "stdout",
       "text": [
        "\n",
        "iteration: 917 @ time: 275099.61300 s (76 h 24 min 59.613 s)"
       ]
      },
      {
       "output_type": "stream",
       "stream": "stdout",
       "text": [
        "\n",
        "acquiring signal (channel 1)\n",
        "acquiring ramp (channel 2)"
       ]
      },
      {
       "output_type": "stream",
       "stream": "stdout",
       "text": [
        "\n",
        "iteration: 918 @ time: 275399.56200 s (76 h 29 min 59.562 s)"
       ]
      },
      {
       "output_type": "stream",
       "stream": "stdout",
       "text": [
        "\n",
        "acquiring signal (channel 1)\n",
        "acquiring ramp (channel 2)"
       ]
      },
      {
       "output_type": "stream",
       "stream": "stdout",
       "text": [
        "\n",
        "iteration: 919 @ time: 275699.62900 s (76 h 34 min 59.629 s)"
       ]
      },
      {
       "output_type": "stream",
       "stream": "stdout",
       "text": [
        "\n",
        "acquiring signal (channel 1)\n",
        "acquiring ramp (channel 2)"
       ]
      },
      {
       "output_type": "stream",
       "stream": "stdout",
       "text": [
        "\n",
        "iteration: 920 @ time: 275999.63200 s (76 h 39 min 59.632 s)"
       ]
      },
      {
       "output_type": "stream",
       "stream": "stdout",
       "text": [
        "\n",
        "acquiring signal (channel 1)\n",
        "acquiring ramp (channel 2)"
       ]
      },
      {
       "output_type": "stream",
       "stream": "stdout",
       "text": [
        "\n",
        "iteration: 921 @ time: 276299.58600 s (76 h 44 min 59.586 s)"
       ]
      },
      {
       "output_type": "stream",
       "stream": "stdout",
       "text": [
        "\n",
        "acquiring signal (channel 1)\n",
        "acquiring ramp (channel 2)"
       ]
      },
      {
       "output_type": "stream",
       "stream": "stdout",
       "text": [
        "\n",
        "iteration: 922 @ time: 276599.59200 s (76 h 49 min 59.592 s)"
       ]
      },
      {
       "output_type": "stream",
       "stream": "stdout",
       "text": [
        "\n",
        "acquiring signal (channel 1)\n",
        "acquiring ramp (channel 2)"
       ]
      },
      {
       "output_type": "stream",
       "stream": "stdout",
       "text": [
        "\n",
        "iteration: 923 @ time: 276899.62500 s (76 h 54 min 59.625 s)"
       ]
      },
      {
       "output_type": "stream",
       "stream": "stdout",
       "text": [
        "\n",
        "acquiring signal (channel 1)\n",
        "acquiring ramp (channel 2)"
       ]
      },
      {
       "output_type": "stream",
       "stream": "stdout",
       "text": [
        "\n",
        "iteration: 924 @ time: 277199.61300 s (76 h 59 min 59.613 s)"
       ]
      },
      {
       "output_type": "stream",
       "stream": "stdout",
       "text": [
        "\n",
        "acquiring signal (channel 1)\n",
        "acquiring ramp (channel 2)"
       ]
      },
      {
       "output_type": "stream",
       "stream": "stdout",
       "text": [
        "\n",
        "iteration: 925 @ time: 277499.57400 s (77 h  4 min 59.574 s)"
       ]
      },
      {
       "output_type": "stream",
       "stream": "stdout",
       "text": [
        "\n",
        "acquiring signal (channel 1)\n",
        "acquiring ramp (channel 2)"
       ]
      },
      {
       "output_type": "stream",
       "stream": "stdout",
       "text": [
        "\n",
        "iteration: 926 @ time: 277799.59600 s (77 h  9 min 59.596 s)"
       ]
      },
      {
       "output_type": "stream",
       "stream": "stdout",
       "text": [
        "\n",
        "acquiring signal (channel 1)\n",
        "acquiring ramp (channel 2)"
       ]
      },
      {
       "output_type": "stream",
       "stream": "stdout",
       "text": [
        "\n",
        "iteration: 927 @ time: 278099.56000 s (77 h 14 min 59.560 s)"
       ]
      },
      {
       "output_type": "stream",
       "stream": "stdout",
       "text": [
        "\n",
        "acquiring signal (channel 1)\n",
        "acquiring ramp (channel 2)"
       ]
      },
      {
       "output_type": "stream",
       "stream": "stdout",
       "text": [
        "\n",
        "iteration: 928 @ time: 278399.56100 s (77 h 19 min 59.561 s)"
       ]
      },
      {
       "output_type": "stream",
       "stream": "stdout",
       "text": [
        "\n",
        "acquiring signal (channel 1)\n",
        "acquiring ramp (channel 2)"
       ]
      },
      {
       "output_type": "stream",
       "stream": "stdout",
       "text": [
        "\n",
        "iteration: 929 @ time: 278699.59300 s (77 h 24 min 59.593 s)"
       ]
      },
      {
       "output_type": "stream",
       "stream": "stdout",
       "text": [
        "\n",
        "acquiring signal (channel 1)\n",
        "acquiring ramp (channel 2)"
       ]
      },
      {
       "output_type": "stream",
       "stream": "stdout",
       "text": [
        "\n",
        "iteration: 930 @ time: 278999.54600 s (77 h 29 min 59.546 s)"
       ]
      },
      {
       "output_type": "stream",
       "stream": "stdout",
       "text": [
        "\n",
        "acquiring signal (channel 1)\n",
        "acquiring ramp (channel 2)"
       ]
      },
      {
       "output_type": "stream",
       "stream": "stdout",
       "text": [
        "\n",
        "iteration: 931 @ time: 279299.60600 s (77 h 34 min 59.606 s)"
       ]
      },
      {
       "output_type": "stream",
       "stream": "stdout",
       "text": [
        "\n",
        "acquiring signal (channel 1)\n",
        "acquiring ramp (channel 2)"
       ]
      },
      {
       "output_type": "stream",
       "stream": "stdout",
       "text": [
        "\n",
        "iteration: 932 @ time: 279599.56900 s (77 h 39 min 59.569 s)"
       ]
      },
      {
       "output_type": "stream",
       "stream": "stdout",
       "text": [
        "\n",
        "acquiring signal (channel 1)\n",
        "acquiring ramp (channel 2)"
       ]
      },
      {
       "output_type": "stream",
       "stream": "stdout",
       "text": [
        "\n",
        "iteration: 933 @ time: 279899.58600 s (77 h 44 min 59.586 s)"
       ]
      },
      {
       "output_type": "stream",
       "stream": "stdout",
       "text": [
        "\n",
        "acquiring signal (channel 1)\n",
        "acquiring ramp (channel 2)"
       ]
      },
      {
       "output_type": "stream",
       "stream": "stdout",
       "text": [
        "\n",
        "iteration: 934 @ time: 280199.60900 s (77 h 49 min 59.609 s)"
       ]
      },
      {
       "output_type": "stream",
       "stream": "stdout",
       "text": [
        "\n",
        "acquiring signal (channel 1)\n",
        "acquiring ramp (channel 2)"
       ]
      },
      {
       "output_type": "stream",
       "stream": "stdout",
       "text": [
        "\n",
        "iteration: 935 @ time: 280499.57300 s (77 h 54 min 59.573 s)"
       ]
      },
      {
       "output_type": "stream",
       "stream": "stdout",
       "text": [
        "\n",
        "acquiring signal (channel 1)\n",
        "acquiring ramp (channel 2)"
       ]
      },
      {
       "output_type": "stream",
       "stream": "stdout",
       "text": [
        "\n",
        "iteration: 936 @ time: 280799.57300 s (77 h 59 min 59.573 s)"
       ]
      },
      {
       "output_type": "stream",
       "stream": "stdout",
       "text": [
        "\n",
        "acquiring signal (channel 1)\n",
        "acquiring ramp (channel 2)"
       ]
      },
      {
       "output_type": "stream",
       "stream": "stdout",
       "text": [
        "\n",
        "iteration: 937 @ time: 281099.63000 s (78 h  4 min 59.630 s)"
       ]
      },
      {
       "output_type": "stream",
       "stream": "stdout",
       "text": [
        "\n",
        "acquiring signal (channel 1)\n",
        "acquiring ramp (channel 2)"
       ]
      },
      {
       "output_type": "stream",
       "stream": "stdout",
       "text": [
        "\n",
        "iteration: 938 @ time: 281399.63400 s (78 h  9 min 59.634 s)"
       ]
      },
      {
       "output_type": "stream",
       "stream": "stdout",
       "text": [
        "\n",
        "acquiring signal (channel 1)\n",
        "acquiring ramp (channel 2)"
       ]
      },
      {
       "output_type": "stream",
       "stream": "stdout",
       "text": [
        "\n",
        "iteration: 939 @ time: 281699.62800 s (78 h 14 min 59.628 s)"
       ]
      },
      {
       "output_type": "stream",
       "stream": "stdout",
       "text": [
        "\n",
        "acquiring signal (channel 1)\n",
        "acquiring ramp (channel 2)"
       ]
      },
      {
       "output_type": "stream",
       "stream": "stdout",
       "text": [
        "\n",
        "iteration: 940 @ time: 281999.59000 s (78 h 19 min 59.590 s)"
       ]
      },
      {
       "output_type": "stream",
       "stream": "stdout",
       "text": [
        "\n",
        "acquiring signal (channel 1)\n",
        "acquiring ramp (channel 2)"
       ]
      },
      {
       "output_type": "stream",
       "stream": "stdout",
       "text": [
        "\n",
        "iteration: 941 @ time: 282299.56600 s (78 h 24 min 59.566 s)"
       ]
      },
      {
       "output_type": "stream",
       "stream": "stdout",
       "text": [
        "\n",
        "acquiring signal (channel 1)\n",
        "acquiring ramp (channel 2)"
       ]
      },
      {
       "output_type": "stream",
       "stream": "stdout",
       "text": [
        "\n",
        "iteration: 942 @ time: 282599.59700 s (78 h 29 min 59.597 s)"
       ]
      },
      {
       "output_type": "stream",
       "stream": "stdout",
       "text": [
        "\n",
        "acquiring signal (channel 1)\n",
        "acquiring ramp (channel 2)"
       ]
      },
      {
       "output_type": "stream",
       "stream": "stdout",
       "text": [
        "\n",
        "iteration: 943 @ time: 282899.60800 s (78 h 34 min 59.608 s)"
       ]
      },
      {
       "output_type": "stream",
       "stream": "stdout",
       "text": [
        "\n",
        "acquiring signal (channel 1)\n",
        "acquiring ramp (channel 2)"
       ]
      },
      {
       "output_type": "stream",
       "stream": "stdout",
       "text": [
        "\n",
        "iteration: 944 @ time: 283199.62000 s (78 h 39 min 59.620 s)"
       ]
      },
      {
       "output_type": "stream",
       "stream": "stdout",
       "text": [
        "\n",
        "acquiring signal (channel 1)\n",
        "acquiring ramp (channel 2)"
       ]
      },
      {
       "output_type": "stream",
       "stream": "stdout",
       "text": [
        "\n",
        "iteration: 945 @ time: 283499.56800 s (78 h 44 min 59.568 s)"
       ]
      },
      {
       "output_type": "stream",
       "stream": "stdout",
       "text": [
        "\n",
        "acquiring signal (channel 1)\n",
        "acquiring ramp (channel 2)"
       ]
      },
      {
       "output_type": "stream",
       "stream": "stdout",
       "text": [
        "\n",
        "iteration: 946 @ time: 283799.59300 s (78 h 49 min 59.593 s)"
       ]
      },
      {
       "output_type": "stream",
       "stream": "stdout",
       "text": [
        "\n",
        "acquiring signal (channel 1)\n",
        "acquiring ramp (channel 2)"
       ]
      },
      {
       "output_type": "stream",
       "stream": "stdout",
       "text": [
        "\n",
        "iteration: 947 @ time: 284099.58400 s (78 h 54 min 59.584 s)"
       ]
      },
      {
       "output_type": "stream",
       "stream": "stdout",
       "text": [
        "\n",
        "acquiring signal (channel 1)\n",
        "acquiring ramp (channel 2)"
       ]
      },
      {
       "output_type": "stream",
       "stream": "stdout",
       "text": [
        "\n",
        "iteration: 948 @ time: 284399.63400 s (78 h 59 min 59.634 s)"
       ]
      },
      {
       "output_type": "stream",
       "stream": "stdout",
       "text": [
        "\n",
        "acquiring signal (channel 1)\n",
        "acquiring ramp (channel 2)"
       ]
      },
      {
       "output_type": "stream",
       "stream": "stdout",
       "text": [
        "\n",
        "iteration: 949 @ time: 284699.62200 s (79 h  4 min 59.622 s)"
       ]
      },
      {
       "output_type": "stream",
       "stream": "stdout",
       "text": [
        "\n",
        "acquiring signal (channel 1)\n",
        "acquiring ramp (channel 2)"
       ]
      },
      {
       "output_type": "stream",
       "stream": "stdout",
       "text": [
        "\n",
        "iteration: 950 @ time: 284999.61100 s (79 h  9 min 59.611 s)"
       ]
      },
      {
       "output_type": "stream",
       "stream": "stdout",
       "text": [
        "\n",
        "acquiring signal (channel 1)\n",
        "acquiring ramp (channel 2)"
       ]
      },
      {
       "output_type": "stream",
       "stream": "stdout",
       "text": [
        "\n",
        "iteration: 951 @ time: 285299.63200 s (79 h 14 min 59.632 s)"
       ]
      },
      {
       "output_type": "stream",
       "stream": "stdout",
       "text": [
        "\n",
        "acquiring signal (channel 1)\n",
        "acquiring ramp (channel 2)"
       ]
      },
      {
       "output_type": "stream",
       "stream": "stdout",
       "text": [
        "\n",
        "iteration: 952 @ time: 285599.57800 s (79 h 19 min 59.578 s)"
       ]
      },
      {
       "output_type": "stream",
       "stream": "stdout",
       "text": [
        "\n",
        "acquiring signal (channel 1)\n",
        "acquiring ramp (channel 2)"
       ]
      },
      {
       "output_type": "stream",
       "stream": "stdout",
       "text": [
        "\n",
        "iteration: 953 @ time: 285899.63700 s (79 h 24 min 59.637 s)"
       ]
      },
      {
       "output_type": "stream",
       "stream": "stdout",
       "text": [
        "\n",
        "acquiring signal (channel 1)\n",
        "acquiring ramp (channel 2)"
       ]
      },
      {
       "output_type": "stream",
       "stream": "stdout",
       "text": [
        "\n",
        "iteration: 954 @ time: 286199.60500 s (79 h 29 min 59.605 s)"
       ]
      },
      {
       "output_type": "stream",
       "stream": "stdout",
       "text": [
        "\n",
        "acquiring signal (channel 1)\n",
        "acquiring ramp (channel 2)"
       ]
      },
      {
       "output_type": "stream",
       "stream": "stdout",
       "text": [
        "\n",
        "iteration: 955 @ time: 286499.60400 s (79 h 34 min 59.604 s)"
       ]
      },
      {
       "output_type": "stream",
       "stream": "stdout",
       "text": [
        "\n",
        "acquiring signal (channel 1)\n",
        "acquiring ramp (channel 2)"
       ]
      },
      {
       "output_type": "stream",
       "stream": "stdout",
       "text": [
        "\n",
        "iteration: 956 @ time: 286799.59400 s (79 h 39 min 59.594 s)"
       ]
      },
      {
       "output_type": "stream",
       "stream": "stdout",
       "text": [
        "\n",
        "acquiring signal (channel 1)\n",
        "acquiring ramp (channel 2)"
       ]
      },
      {
       "output_type": "stream",
       "stream": "stdout",
       "text": [
        "\n",
        "iteration: 957 @ time: 287099.57700 s (79 h 44 min 59.577 s)"
       ]
      },
      {
       "output_type": "stream",
       "stream": "stdout",
       "text": [
        "\n",
        "acquiring signal (channel 1)\n",
        "acquiring ramp (channel 2)"
       ]
      },
      {
       "output_type": "stream",
       "stream": "stdout",
       "text": [
        "\n",
        "iteration: 958 @ time: 287399.56800 s (79 h 49 min 59.568 s)"
       ]
      },
      {
       "output_type": "stream",
       "stream": "stdout",
       "text": [
        "\n",
        "acquiring signal (channel 1)\n",
        "acquiring ramp (channel 2)"
       ]
      },
      {
       "output_type": "stream",
       "stream": "stdout",
       "text": [
        "\n",
        "iteration: 959 @ time: 287699.58200 s (79 h 54 min 59.582 s)"
       ]
      },
      {
       "output_type": "stream",
       "stream": "stdout",
       "text": [
        "\n",
        "acquiring signal (channel 1)\n",
        "acquiring ramp (channel 2)"
       ]
      },
      {
       "output_type": "stream",
       "stream": "stdout",
       "text": [
        "\n",
        "iteration: 960 @ time: 287999.63000 s (79 h 59 min 59.630 s)"
       ]
      },
      {
       "output_type": "stream",
       "stream": "stdout",
       "text": [
        "\n",
        "acquiring signal (channel 1)\n",
        "acquiring ramp (channel 2)"
       ]
      },
      {
       "output_type": "stream",
       "stream": "stdout",
       "text": [
        "\n",
        "iteration: 961 @ time: 288299.62200 s (80 h  4 min 59.622 s)"
       ]
      },
      {
       "output_type": "stream",
       "stream": "stdout",
       "text": [
        "\n",
        "acquiring signal (channel 1)\n",
        "acquiring ramp (channel 2)"
       ]
      },
      {
       "output_type": "stream",
       "stream": "stdout",
       "text": [
        "\n",
        "iteration: 962 @ time: 288599.56400 s (80 h  9 min 59.564 s)"
       ]
      },
      {
       "output_type": "stream",
       "stream": "stdout",
       "text": [
        "\n",
        "acquiring signal (channel 1)\n",
        "acquiring ramp (channel 2)"
       ]
      },
      {
       "output_type": "stream",
       "stream": "stdout",
       "text": [
        "\n",
        "iteration: 963 @ time: 288899.61900 s (80 h 14 min 59.619 s)"
       ]
      },
      {
       "output_type": "stream",
       "stream": "stdout",
       "text": [
        "\n",
        "acquiring signal (channel 1)\n",
        "acquiring ramp (channel 2)"
       ]
      },
      {
       "output_type": "stream",
       "stream": "stdout",
       "text": [
        "\n",
        "iteration: 964 @ time: 289199.56500 s (80 h 19 min 59.565 s)"
       ]
      },
      {
       "output_type": "stream",
       "stream": "stdout",
       "text": [
        "\n",
        "acquiring signal (channel 1)\n",
        "acquiring ramp (channel 2)"
       ]
      },
      {
       "output_type": "stream",
       "stream": "stdout",
       "text": [
        "\n",
        "iteration: 965 @ time: 289499.63600 s (80 h 24 min 59.636 s)"
       ]
      },
      {
       "output_type": "stream",
       "stream": "stdout",
       "text": [
        "\n",
        "acquiring signal (channel 1)\n",
        "acquiring ramp (channel 2)"
       ]
      },
      {
       "output_type": "stream",
       "stream": "stdout",
       "text": [
        "\n",
        "iteration: 966 @ time: 289799.62600 s (80 h 29 min 59.626 s)"
       ]
      },
      {
       "output_type": "stream",
       "stream": "stdout",
       "text": [
        "\n",
        "acquiring signal (channel 1)\n",
        "acquiring ramp (channel 2)"
       ]
      },
      {
       "output_type": "stream",
       "stream": "stdout",
       "text": [
        "\n",
        "iteration: 967 @ time: 290099.56800 s (80 h 34 min 59.568 s)"
       ]
      },
      {
       "output_type": "stream",
       "stream": "stdout",
       "text": [
        "\n",
        "acquiring signal (channel 1)\n",
        "acquiring ramp (channel 2)"
       ]
      },
      {
       "output_type": "stream",
       "stream": "stdout",
       "text": [
        "\n",
        "iteration: 968 @ time: 290399.60600 s (80 h 39 min 59.606 s)"
       ]
      },
      {
       "output_type": "stream",
       "stream": "stdout",
       "text": [
        "\n",
        "acquiring signal (channel 1)\n",
        "acquiring ramp (channel 2)"
       ]
      },
      {
       "output_type": "stream",
       "stream": "stdout",
       "text": [
        "\n",
        "iteration: 969 @ time: 290699.58700 s (80 h 44 min 59.587 s)"
       ]
      },
      {
       "output_type": "stream",
       "stream": "stdout",
       "text": [
        "\n",
        "acquiring signal (channel 1)\n",
        "acquiring ramp (channel 2)"
       ]
      },
      {
       "output_type": "stream",
       "stream": "stdout",
       "text": [
        "\n",
        "iteration: 970 @ time: 290999.56600 s (80 h 49 min 59.566 s)"
       ]
      },
      {
       "output_type": "stream",
       "stream": "stdout",
       "text": [
        "\n",
        "acquiring signal (channel 1)\n",
        "acquiring ramp (channel 2)"
       ]
      },
      {
       "output_type": "stream",
       "stream": "stdout",
       "text": [
        "\n",
        "iteration: 971 @ time: 291299.60800 s (80 h 54 min 59.608 s)"
       ]
      },
      {
       "output_type": "stream",
       "stream": "stdout",
       "text": [
        "\n",
        "acquiring signal (channel 1)\n",
        "acquiring ramp (channel 2)"
       ]
      },
      {
       "output_type": "stream",
       "stream": "stdout",
       "text": [
        "\n",
        "iteration: 972 @ time: 291599.57200 s (80 h 59 min 59.572 s)"
       ]
      },
      {
       "output_type": "stream",
       "stream": "stdout",
       "text": [
        "\n",
        "acquiring signal (channel 1)\n",
        "acquiring ramp (channel 2)"
       ]
      },
      {
       "output_type": "stream",
       "stream": "stdout",
       "text": [
        "\n",
        "iteration: 973 @ time: 291899.54400 s (81 h  4 min 59.544 s)"
       ]
      },
      {
       "output_type": "stream",
       "stream": "stdout",
       "text": [
        "\n",
        "acquiring signal (channel 1)\n",
        "acquiring ramp (channel 2)"
       ]
      },
      {
       "output_type": "stream",
       "stream": "stdout",
       "text": [
        "\n",
        "iteration: 974 @ time: 292199.55600 s (81 h  9 min 59.556 s)"
       ]
      },
      {
       "output_type": "stream",
       "stream": "stdout",
       "text": [
        "\n",
        "acquiring signal (channel 1)\n",
        "acquiring ramp (channel 2)"
       ]
      },
      {
       "output_type": "stream",
       "stream": "stdout",
       "text": [
        "\n",
        "iteration: 975 @ time: 292499.57300 s (81 h 14 min 59.573 s)"
       ]
      },
      {
       "output_type": "stream",
       "stream": "stdout",
       "text": [
        "\n",
        "acquiring signal (channel 1)\n",
        "acquiring ramp (channel 2)"
       ]
      },
      {
       "output_type": "stream",
       "stream": "stdout",
       "text": [
        "\n",
        "iteration: 976 @ time: 292799.57600 s (81 h 19 min 59.576 s)"
       ]
      },
      {
       "output_type": "stream",
       "stream": "stdout",
       "text": [
        "\n",
        "acquiring signal (channel 1)\n",
        "acquiring ramp (channel 2)"
       ]
      },
      {
       "output_type": "stream",
       "stream": "stdout",
       "text": [
        "\n",
        "iteration: 977 @ time: 293099.63500 s (81 h 24 min 59.635 s)"
       ]
      },
      {
       "output_type": "stream",
       "stream": "stdout",
       "text": [
        "\n",
        "acquiring signal (channel 1)\n",
        "acquiring ramp (channel 2)"
       ]
      },
      {
       "output_type": "stream",
       "stream": "stdout",
       "text": [
        "\n",
        "iteration: 978 @ time: 293399.62900 s (81 h 29 min 59.629 s)"
       ]
      },
      {
       "output_type": "stream",
       "stream": "stdout",
       "text": [
        "\n",
        "acquiring signal (channel 1)\n",
        "acquiring ramp (channel 2)"
       ]
      },
      {
       "output_type": "stream",
       "stream": "stdout",
       "text": [
        "\n",
        "iteration: 979 @ time: 293699.59800 s (81 h 34 min 59.598 s)"
       ]
      },
      {
       "output_type": "stream",
       "stream": "stdout",
       "text": [
        "\n",
        "acquiring signal (channel 1)\n",
        "acquiring ramp (channel 2)"
       ]
      },
      {
       "output_type": "stream",
       "stream": "stdout",
       "text": [
        "\n",
        "iteration: 980 @ time: 293999.60600 s (81 h 39 min 59.606 s)"
       ]
      },
      {
       "output_type": "stream",
       "stream": "stdout",
       "text": [
        "\n",
        "acquiring signal (channel 1)\n",
        "acquiring ramp (channel 2)"
       ]
      },
      {
       "output_type": "stream",
       "stream": "stdout",
       "text": [
        "\n",
        "iteration: 981 @ time: 294299.55500 s (81 h 44 min 59.555 s)"
       ]
      },
      {
       "output_type": "stream",
       "stream": "stdout",
       "text": [
        "\n",
        "acquiring signal (channel 1)\n",
        "acquiring ramp (channel 2)"
       ]
      },
      {
       "output_type": "stream",
       "stream": "stdout",
       "text": [
        "\n",
        "iteration: 982 @ time: 294599.61000 s (81 h 49 min 59.610 s)"
       ]
      },
      {
       "output_type": "stream",
       "stream": "stdout",
       "text": [
        "\n",
        "acquiring signal (channel 1)\n",
        "acquiring ramp (channel 2)"
       ]
      },
      {
       "output_type": "stream",
       "stream": "stdout",
       "text": [
        "\n",
        "iteration: 983 @ time: 294899.56500 s (81 h 54 min 59.565 s)"
       ]
      },
      {
       "output_type": "stream",
       "stream": "stdout",
       "text": [
        "\n",
        "acquiring signal (channel 1)\n",
        "acquiring ramp (channel 2)"
       ]
      },
      {
       "output_type": "stream",
       "stream": "stdout",
       "text": [
        "\n",
        "iteration: 984 @ time: 295199.55400 s (81 h 59 min 59.554 s)"
       ]
      },
      {
       "output_type": "stream",
       "stream": "stdout",
       "text": [
        "\n",
        "acquiring signal (channel 1)\n",
        "acquiring ramp (channel 2)"
       ]
      },
      {
       "output_type": "stream",
       "stream": "stdout",
       "text": [
        "\n",
        "iteration: 985 @ time: 295499.56900 s (82 h  4 min 59.569 s)"
       ]
      },
      {
       "output_type": "stream",
       "stream": "stdout",
       "text": [
        "\n",
        "acquiring signal (channel 1)\n",
        "acquiring ramp (channel 2)"
       ]
      },
      {
       "output_type": "stream",
       "stream": "stdout",
       "text": [
        "\n",
        "iteration: 986 @ time: 295799.62600 s (82 h  9 min 59.626 s)"
       ]
      },
      {
       "output_type": "stream",
       "stream": "stdout",
       "text": [
        "\n",
        "acquiring signal (channel 1)\n",
        "acquiring ramp (channel 2)"
       ]
      },
      {
       "output_type": "stream",
       "stream": "stdout",
       "text": [
        "\n",
        "iteration: 987 @ time: 296099.63900 s (82 h 14 min 59.639 s)"
       ]
      },
      {
       "output_type": "stream",
       "stream": "stdout",
       "text": [
        "\n",
        "acquiring signal (channel 1)\n",
        "acquiring ramp (channel 2)"
       ]
      },
      {
       "output_type": "stream",
       "stream": "stdout",
       "text": [
        "\n",
        "iteration: 988 @ time: 296399.59500 s (82 h 19 min 59.595 s)"
       ]
      },
      {
       "output_type": "stream",
       "stream": "stdout",
       "text": [
        "\n",
        "acquiring signal (channel 1)\n",
        "acquiring ramp (channel 2)"
       ]
      },
      {
       "output_type": "stream",
       "stream": "stdout",
       "text": [
        "\n",
        "iteration: 989 @ time: 296699.61100 s (82 h 24 min 59.611 s)"
       ]
      },
      {
       "output_type": "stream",
       "stream": "stdout",
       "text": [
        "\n",
        "acquiring signal (channel 1)\n",
        "acquiring ramp (channel 2)"
       ]
      },
      {
       "output_type": "stream",
       "stream": "stdout",
       "text": [
        "\n",
        "iteration: 990 @ time: 296999.61600 s (82 h 29 min 59.616 s)"
       ]
      },
      {
       "output_type": "stream",
       "stream": "stdout",
       "text": [
        "\n",
        "acquiring signal (channel 1)\n",
        "acquiring ramp (channel 2)"
       ]
      },
      {
       "output_type": "stream",
       "stream": "stdout",
       "text": [
        "\n",
        "iteration: 991 @ time: 297299.54700 s (82 h 34 min 59.547 s)"
       ]
      },
      {
       "output_type": "stream",
       "stream": "stdout",
       "text": [
        "\n",
        "acquiring signal (channel 1)\n",
        "acquiring ramp (channel 2)"
       ]
      },
      {
       "output_type": "stream",
       "stream": "stdout",
       "text": [
        "\n",
        "iteration: 992 @ time: 297599.60900 s (82 h 39 min 59.609 s)"
       ]
      },
      {
       "output_type": "stream",
       "stream": "stdout",
       "text": [
        "\n",
        "acquiring signal (channel 1)\n",
        "acquiring ramp (channel 2)"
       ]
      },
      {
       "output_type": "stream",
       "stream": "stdout",
       "text": [
        "\n",
        "iteration: 993 @ time: 297899.58300 s (82 h 44 min 59.583 s)"
       ]
      },
      {
       "output_type": "stream",
       "stream": "stdout",
       "text": [
        "\n",
        "acquiring signal (channel 1)\n",
        "acquiring ramp (channel 2)"
       ]
      },
      {
       "output_type": "stream",
       "stream": "stdout",
       "text": [
        "\n",
        "iteration: 994 @ time: 298199.56400 s (82 h 49 min 59.564 s)"
       ]
      },
      {
       "output_type": "stream",
       "stream": "stdout",
       "text": [
        "\n",
        "acquiring signal (channel 1)\n",
        "acquiring ramp (channel 2)"
       ]
      },
      {
       "output_type": "stream",
       "stream": "stdout",
       "text": [
        "\n",
        "iteration: 995 @ time: 298499.56200 s (82 h 54 min 59.562 s)"
       ]
      },
      {
       "output_type": "stream",
       "stream": "stdout",
       "text": [
        "\n",
        "acquiring signal (channel 1)\n",
        "acquiring ramp (channel 2)"
       ]
      },
      {
       "output_type": "stream",
       "stream": "stdout",
       "text": [
        "\n",
        "iteration: 996 @ time: 298799.60600 s (82 h 59 min 59.606 s)"
       ]
      },
      {
       "output_type": "stream",
       "stream": "stdout",
       "text": [
        "\n",
        "acquiring signal (channel 1)\n",
        "acquiring ramp (channel 2)"
       ]
      },
      {
       "output_type": "stream",
       "stream": "stdout",
       "text": [
        "\n",
        "iteration: 997 @ time: 299099.55000 s (83 h  4 min 59.550 s)"
       ]
      },
      {
       "output_type": "stream",
       "stream": "stdout",
       "text": [
        "\n",
        "acquiring signal (channel 1)\n",
        "acquiring ramp (channel 2)"
       ]
      },
      {
       "output_type": "stream",
       "stream": "stdout",
       "text": [
        "\n",
        "iteration: 998 @ time: 299399.58600 s (83 h  9 min 59.586 s)"
       ]
      },
      {
       "output_type": "stream",
       "stream": "stdout",
       "text": [
        "\n",
        "acquiring signal (channel 1)\n",
        "acquiring ramp (channel 2)"
       ]
      },
      {
       "output_type": "stream",
       "stream": "stdout",
       "text": [
        "\n",
        "iteration: 999 @ time: 299699.54400 s (83 h 14 min 59.544 s)"
       ]
      },
      {
       "output_type": "stream",
       "stream": "stdout",
       "text": [
        "\n",
        "acquiring signal (channel 1)\n",
        "acquiring ramp (channel 2)"
       ]
      },
      {
       "output_type": "stream",
       "stream": "stdout",
       "text": [
        "\n",
        "iteration: 1000 @ time: 299999.59900 s (83 h 19 min 59.599 s)"
       ]
      },
      {
       "output_type": "stream",
       "stream": "stdout",
       "text": [
        "\n",
        "acquiring signal (channel 1)\n",
        "acquiring ramp (channel 2)"
       ]
      },
      {
       "output_type": "stream",
       "stream": "stdout",
       "text": [
        "\n",
        "iteration: 1001 @ time: 300299.55300 s (83 h 24 min 59.553 s)"
       ]
      },
      {
       "output_type": "stream",
       "stream": "stdout",
       "text": [
        "\n",
        "acquiring signal (channel 1)\n",
        "acquiring ramp (channel 2)"
       ]
      },
      {
       "output_type": "stream",
       "stream": "stdout",
       "text": [
        "\n",
        "iteration: 1002 @ time: 300599.56700 s (83 h 29 min 59.567 s)"
       ]
      },
      {
       "output_type": "stream",
       "stream": "stdout",
       "text": [
        "\n",
        "acquiring signal (channel 1)\n",
        "acquiring ramp (channel 2)"
       ]
      },
      {
       "output_type": "stream",
       "stream": "stdout",
       "text": [
        "\n",
        "iteration: 1003 @ time: 300899.61400 s (83 h 34 min 59.614 s)"
       ]
      },
      {
       "output_type": "stream",
       "stream": "stdout",
       "text": [
        "\n",
        "acquiring signal (channel 1)\n",
        "acquiring ramp (channel 2)"
       ]
      },
      {
       "output_type": "stream",
       "stream": "stdout",
       "text": [
        "\n",
        "iteration: 1004 @ time: 301199.62800 s (83 h 39 min 59.628 s)"
       ]
      },
      {
       "output_type": "stream",
       "stream": "stdout",
       "text": [
        "\n",
        "acquiring signal (channel 1)\n",
        "acquiring ramp (channel 2)"
       ]
      },
      {
       "output_type": "stream",
       "stream": "stdout",
       "text": [
        "\n",
        "iteration: 1005 @ time: 301499.55000 s (83 h 44 min 59.550 s)"
       ]
      },
      {
       "output_type": "stream",
       "stream": "stdout",
       "text": [
        "\n",
        "acquiring signal (channel 1)\n",
        "acquiring ramp (channel 2)"
       ]
      },
      {
       "output_type": "stream",
       "stream": "stdout",
       "text": [
        "\n",
        "iteration: 1006 @ time: 301799.55400 s (83 h 49 min 59.554 s)"
       ]
      },
      {
       "output_type": "stream",
       "stream": "stdout",
       "text": [
        "\n",
        "acquiring signal (channel 1)\n",
        "acquiring ramp (channel 2)"
       ]
      },
      {
       "output_type": "stream",
       "stream": "stdout",
       "text": [
        "\n",
        "iteration: 1007 @ time: 302099.56400 s (83 h 54 min 59.564 s)"
       ]
      },
      {
       "output_type": "stream",
       "stream": "stdout",
       "text": [
        "\n",
        "acquiring signal (channel 1)\n",
        "acquiring ramp (channel 2)"
       ]
      },
      {
       "output_type": "stream",
       "stream": "stdout",
       "text": [
        "\n",
        "iteration: 1008 @ time: 302399.61000 s (83 h 59 min 59.610 s)"
       ]
      },
      {
       "output_type": "stream",
       "stream": "stdout",
       "text": [
        "\n",
        "acquiring signal (channel 1)\n",
        "acquiring ramp (channel 2)"
       ]
      },
      {
       "output_type": "stream",
       "stream": "stdout",
       "text": [
        "\n",
        "iteration: 1009 @ time: 302699.61600 s (84 h  4 min 59.616 s)"
       ]
      },
      {
       "output_type": "stream",
       "stream": "stdout",
       "text": [
        "\n",
        "acquiring signal (channel 1)\n",
        "acquiring ramp (channel 2)"
       ]
      },
      {
       "output_type": "stream",
       "stream": "stdout",
       "text": [
        "\n",
        "iteration: 1010 @ time: 302999.60600 s (84 h  9 min 59.606 s)"
       ]
      },
      {
       "output_type": "stream",
       "stream": "stdout",
       "text": [
        "\n",
        "acquiring signal (channel 1)\n",
        "acquiring ramp (channel 2)"
       ]
      },
      {
       "output_type": "stream",
       "stream": "stdout",
       "text": [
        "\n",
        "iteration: 1011 @ time: 303299.57300 s (84 h 14 min 59.573 s)"
       ]
      },
      {
       "output_type": "stream",
       "stream": "stdout",
       "text": [
        "\n",
        "acquiring signal (channel 1)\n",
        "acquiring ramp (channel 2)"
       ]
      },
      {
       "output_type": "stream",
       "stream": "stdout",
       "text": [
        "\n",
        "iteration: 1012 @ time: 303599.63300 s (84 h 19 min 59.633 s)"
       ]
      },
      {
       "output_type": "stream",
       "stream": "stdout",
       "text": [
        "\n",
        "acquiring signal (channel 1)\n",
        "acquiring ramp (channel 2)"
       ]
      },
      {
       "output_type": "stream",
       "stream": "stdout",
       "text": [
        "\n",
        "iteration: 1013 @ time: 303899.60700 s (84 h 24 min 59.607 s)"
       ]
      },
      {
       "output_type": "stream",
       "stream": "stdout",
       "text": [
        "\n",
        "acquiring signal (channel 1)\n",
        "acquiring ramp (channel 2)"
       ]
      },
      {
       "output_type": "stream",
       "stream": "stdout",
       "text": [
        "\n",
        "iteration: 1014 @ time: 304199.55200 s (84 h 29 min 59.552 s)"
       ]
      },
      {
       "output_type": "stream",
       "stream": "stdout",
       "text": [
        "\n",
        "acquiring signal (channel 1)\n",
        "acquiring ramp (channel 2)"
       ]
      },
      {
       "output_type": "stream",
       "stream": "stdout",
       "text": [
        "\n",
        "iteration: 1015 @ time: 304499.61400 s (84 h 34 min 59.614 s)"
       ]
      },
      {
       "output_type": "stream",
       "stream": "stdout",
       "text": [
        "\n",
        "acquiring signal (channel 1)\n",
        "acquiring ramp (channel 2)"
       ]
      },
      {
       "output_type": "stream",
       "stream": "stdout",
       "text": [
        "\n",
        "iteration: 1016 @ time: 304799.60500 s (84 h 39 min 59.605 s)"
       ]
      },
      {
       "output_type": "stream",
       "stream": "stdout",
       "text": [
        "\n",
        "acquiring signal (channel 1)\n",
        "acquiring ramp (channel 2)"
       ]
      },
      {
       "output_type": "stream",
       "stream": "stdout",
       "text": [
        "\n",
        "iteration: 1017 @ time: 305099.62700 s (84 h 44 min 59.627 s)"
       ]
      },
      {
       "output_type": "stream",
       "stream": "stdout",
       "text": [
        "\n",
        "acquiring signal (channel 1)\n",
        "acquiring ramp (channel 2)"
       ]
      },
      {
       "output_type": "stream",
       "stream": "stdout",
       "text": [
        "\n",
        "iteration: 1018 @ time: 305399.54900 s (84 h 49 min 59.549 s)"
       ]
      },
      {
       "output_type": "stream",
       "stream": "stdout",
       "text": [
        "\n",
        "acquiring signal (channel 1)\n",
        "acquiring ramp (channel 2)"
       ]
      },
      {
       "output_type": "stream",
       "stream": "stdout",
       "text": [
        "\n",
        "iteration: 1019 @ time: 305699.62400 s (84 h 54 min 59.624 s)"
       ]
      },
      {
       "output_type": "stream",
       "stream": "stdout",
       "text": [
        "\n",
        "acquiring signal (channel 1)\n",
        "acquiring ramp (channel 2)"
       ]
      },
      {
       "output_type": "stream",
       "stream": "stdout",
       "text": [
        "\n",
        "iteration: 1020 @ time: 305999.61500 s (84 h 59 min 59.615 s)"
       ]
      },
      {
       "output_type": "stream",
       "stream": "stdout",
       "text": [
        "\n",
        "acquiring signal (channel 1)\n",
        "acquiring ramp (channel 2)"
       ]
      },
      {
       "output_type": "stream",
       "stream": "stdout",
       "text": [
        "\n",
        "iteration: 1021 @ time: 306299.61400 s (85 h  4 min 59.614 s)"
       ]
      },
      {
       "output_type": "stream",
       "stream": "stdout",
       "text": [
        "\n",
        "acquiring signal (channel 1)\n",
        "acquiring ramp (channel 2)"
       ]
      },
      {
       "output_type": "stream",
       "stream": "stdout",
       "text": [
        "\n",
        "iteration: 1022 @ time: 306599.60600 s (85 h  9 min 59.606 s)"
       ]
      },
      {
       "output_type": "stream",
       "stream": "stdout",
       "text": [
        "\n",
        "acquiring signal (channel 1)\n",
        "acquiring ramp (channel 2)"
       ]
      },
      {
       "output_type": "stream",
       "stream": "stdout",
       "text": [
        "\n",
        "iteration: 1023 @ time: 306899.59500 s (85 h 14 min 59.595 s)"
       ]
      },
      {
       "output_type": "stream",
       "stream": "stdout",
       "text": [
        "\n",
        "acquiring signal (channel 1)\n",
        "acquiring ramp (channel 2)"
       ]
      },
      {
       "output_type": "stream",
       "stream": "stdout",
       "text": [
        "\n",
        "iteration: 1024 @ time: 307199.54400 s (85 h 19 min 59.544 s)"
       ]
      },
      {
       "output_type": "stream",
       "stream": "stdout",
       "text": [
        "\n",
        "acquiring signal (channel 1)\n",
        "acquiring ramp (channel 2)"
       ]
      },
      {
       "output_type": "stream",
       "stream": "stdout",
       "text": [
        "\n",
        "iteration: 1025 @ time: 307499.56200 s (85 h 24 min 59.562 s)"
       ]
      },
      {
       "output_type": "stream",
       "stream": "stdout",
       "text": [
        "\n",
        "acquiring signal (channel 1)"
       ]
      },
      {
       "output_type": "stream",
       "stream": "stdout",
       "text": [
        "\n",
        "acquiring ramp (channel 2)"
       ]
      },
      {
       "output_type": "stream",
       "stream": "stdout",
       "text": [
        "\n",
        "iteration: 1026 @ time: 307799.58300 s (85 h 29 min 59.583 s)"
       ]
      },
      {
       "output_type": "stream",
       "stream": "stdout",
       "text": [
        "\n",
        "acquiring signal (channel 1)\n",
        "acquiring ramp (channel 2)"
       ]
      },
      {
       "output_type": "stream",
       "stream": "stdout",
       "text": [
        "\n",
        "iteration: 1027 @ time: 308099.58900 s (85 h 34 min 59.589 s)"
       ]
      },
      {
       "output_type": "stream",
       "stream": "stdout",
       "text": [
        "\n",
        "acquiring signal (channel 1)\n",
        "acquiring ramp (channel 2)"
       ]
      },
      {
       "output_type": "stream",
       "stream": "stdout",
       "text": [
        "\n",
        "iteration: 1028 @ time: 308399.55500 s (85 h 39 min 59.555 s)"
       ]
      },
      {
       "output_type": "stream",
       "stream": "stdout",
       "text": [
        "\n",
        "acquiring signal (channel 1)\n",
        "acquiring ramp (channel 2)"
       ]
      },
      {
       "output_type": "stream",
       "stream": "stdout",
       "text": [
        "\n",
        "iteration: 1029 @ time: 308699.55800 s (85 h 44 min 59.558 s)"
       ]
      },
      {
       "output_type": "stream",
       "stream": "stdout",
       "text": [
        "\n",
        "acquiring signal (channel 1)\n",
        "acquiring ramp (channel 2)"
       ]
      },
      {
       "output_type": "stream",
       "stream": "stdout",
       "text": [
        "\n",
        "iteration: 1030 @ time: 308999.62800 s (85 h 49 min 59.628 s)"
       ]
      },
      {
       "output_type": "stream",
       "stream": "stdout",
       "text": [
        "\n",
        "acquiring signal (channel 1)\n",
        "acquiring ramp (channel 2)"
       ]
      },
      {
       "output_type": "stream",
       "stream": "stdout",
       "text": [
        "\n",
        "iteration: 1031 @ time: 309299.61600 s (85 h 54 min 59.616 s)"
       ]
      },
      {
       "output_type": "stream",
       "stream": "stdout",
       "text": [
        "\n",
        "acquiring signal (channel 1)\n",
        "acquiring ramp (channel 2)"
       ]
      },
      {
       "output_type": "stream",
       "stream": "stdout",
       "text": [
        "\n",
        "iteration: 1032 @ time: 309599.61300 s (85 h 59 min 59.613 s)"
       ]
      },
      {
       "output_type": "stream",
       "stream": "stdout",
       "text": [
        "\n",
        "acquiring signal (channel 1)\n",
        "acquiring ramp (channel 2)"
       ]
      },
      {
       "output_type": "stream",
       "stream": "stdout",
       "text": [
        "\n",
        "iteration: 1033 @ time: 309899.56400 s (86 h  4 min 59.564 s)"
       ]
      },
      {
       "output_type": "stream",
       "stream": "stdout",
       "text": [
        "\n",
        "acquiring signal (channel 1)\n",
        "acquiring ramp (channel 2)"
       ]
      },
      {
       "output_type": "stream",
       "stream": "stdout",
       "text": [
        "\n",
        "iteration: 1034 @ time: 310199.62500 s (86 h  9 min 59.625 s)"
       ]
      },
      {
       "output_type": "stream",
       "stream": "stdout",
       "text": [
        "\n",
        "acquiring signal (channel 1)\n",
        "acquiring ramp (channel 2)"
       ]
      },
      {
       "output_type": "stream",
       "stream": "stdout",
       "text": [
        "\n",
        "iteration: 1035 @ time: 310499.60700 s (86 h 14 min 59.607 s)"
       ]
      },
      {
       "output_type": "stream",
       "stream": "stdout",
       "text": [
        "\n",
        "acquiring signal (channel 1)\n",
        "acquiring ramp (channel 2)"
       ]
      },
      {
       "output_type": "stream",
       "stream": "stdout",
       "text": [
        "\n",
        "iteration: 1036 @ time: 310799.55200 s (86 h 19 min 59.552 s)"
       ]
      },
      {
       "output_type": "stream",
       "stream": "stdout",
       "text": [
        "\n",
        "acquiring signal (channel 1)\n",
        "acquiring ramp (channel 2)"
       ]
      },
      {
       "output_type": "stream",
       "stream": "stdout",
       "text": [
        "\n",
        "iteration: 1037 @ time: 311099.59100 s (86 h 24 min 59.591 s)"
       ]
      },
      {
       "output_type": "stream",
       "stream": "stdout",
       "text": [
        "\n",
        "acquiring signal (channel 1)\n",
        "acquiring ramp (channel 2)"
       ]
      },
      {
       "output_type": "stream",
       "stream": "stdout",
       "text": [
        "\n",
        "iteration: 1038 @ time: 311399.55700 s (86 h 29 min 59.557 s)"
       ]
      },
      {
       "output_type": "stream",
       "stream": "stdout",
       "text": [
        "\n",
        "acquiring signal (channel 1)\n",
        "acquiring ramp (channel 2)"
       ]
      },
      {
       "output_type": "stream",
       "stream": "stdout",
       "text": [
        "\n",
        "iteration: 1039 @ time: 311699.57400 s (86 h 34 min 59.574 s)"
       ]
      },
      {
       "output_type": "stream",
       "stream": "stdout",
       "text": [
        "\n",
        "acquiring signal (channel 1)\n",
        "acquiring ramp (channel 2)"
       ]
      },
      {
       "output_type": "stream",
       "stream": "stdout",
       "text": [
        "\n",
        "iteration: 1040 @ time: 311999.62700 s (86 h 39 min 59.627 s)"
       ]
      },
      {
       "output_type": "stream",
       "stream": "stdout",
       "text": [
        "\n",
        "acquiring signal (channel 1)\n",
        "acquiring ramp (channel 2)"
       ]
      },
      {
       "output_type": "stream",
       "stream": "stdout",
       "text": [
        "\n",
        "iteration: 1041 @ time: 312299.58300 s (86 h 44 min 59.583 s)"
       ]
      },
      {
       "output_type": "stream",
       "stream": "stdout",
       "text": [
        "\n",
        "acquiring signal (channel 1)\n",
        "acquiring ramp (channel 2)"
       ]
      },
      {
       "output_type": "stream",
       "stream": "stdout",
       "text": [
        "\n",
        "iteration: 1042 @ time: 312599.58000 s (86 h 49 min 59.580 s)"
       ]
      },
      {
       "output_type": "stream",
       "stream": "stdout",
       "text": [
        "\n",
        "acquiring signal (channel 1)\n",
        "acquiring ramp (channel 2)"
       ]
      },
      {
       "output_type": "stream",
       "stream": "stdout",
       "text": [
        "\n",
        "iteration: 1043 @ time: 312899.54100 s (86 h 54 min 59.541 s)"
       ]
      },
      {
       "output_type": "stream",
       "stream": "stdout",
       "text": [
        "\n",
        "acquiring signal (channel 1)\n",
        "acquiring ramp (channel 2)"
       ]
      },
      {
       "output_type": "stream",
       "stream": "stdout",
       "text": [
        "\n",
        "iteration: 1044 @ time: 313199.63000 s (86 h 59 min 59.630 s)"
       ]
      },
      {
       "output_type": "stream",
       "stream": "stdout",
       "text": [
        "\n",
        "acquiring signal (channel 1)\n",
        "acquiring ramp (channel 2)"
       ]
      },
      {
       "output_type": "stream",
       "stream": "stdout",
       "text": [
        "\n",
        "iteration: 1045 @ time: 313499.54800 s (87 h  4 min 59.548 s)"
       ]
      },
      {
       "output_type": "stream",
       "stream": "stdout",
       "text": [
        "\n",
        "acquiring signal (channel 1)\n",
        "acquiring ramp (channel 2)"
       ]
      },
      {
       "output_type": "stream",
       "stream": "stdout",
       "text": [
        "\n",
        "iteration: 1046 @ time: 313799.63900 s (87 h  9 min 59.639 s)"
       ]
      },
      {
       "output_type": "stream",
       "stream": "stdout",
       "text": [
        "\n",
        "acquiring signal (channel 1)\n",
        "acquiring ramp (channel 2)"
       ]
      },
      {
       "output_type": "stream",
       "stream": "stdout",
       "text": [
        "\n",
        "iteration: 1047 @ time: 314099.58400 s (87 h 14 min 59.584 s)"
       ]
      },
      {
       "output_type": "stream",
       "stream": "stdout",
       "text": [
        "\n",
        "acquiring signal (channel 1)\n",
        "acquiring ramp (channel 2)"
       ]
      },
      {
       "output_type": "stream",
       "stream": "stdout",
       "text": [
        "\n",
        "iteration: 1048 @ time: 314399.54500 s (87 h 19 min 59.545 s)"
       ]
      },
      {
       "output_type": "stream",
       "stream": "stdout",
       "text": [
        "\n",
        "acquiring signal (channel 1)\n",
        "acquiring ramp (channel 2)"
       ]
      },
      {
       "output_type": "stream",
       "stream": "stdout",
       "text": [
        "\n",
        "iteration: 1049 @ time: 314699.59400 s (87 h 24 min 59.594 s)"
       ]
      },
      {
       "output_type": "stream",
       "stream": "stdout",
       "text": [
        "\n",
        "acquiring signal (channel 1)\n",
        "acquiring ramp (channel 2)"
       ]
      },
      {
       "output_type": "stream",
       "stream": "stdout",
       "text": [
        "\n",
        "iteration: 1050 @ time: 314999.61100 s (87 h 29 min 59.611 s)"
       ]
      },
      {
       "output_type": "stream",
       "stream": "stdout",
       "text": [
        "\n",
        "acquiring signal (channel 1)\n",
        "acquiring ramp (channel 2)"
       ]
      },
      {
       "output_type": "stream",
       "stream": "stdout",
       "text": [
        "\n",
        "iteration: 1051 @ time: 315299.55200 s (87 h 34 min 59.552 s)"
       ]
      },
      {
       "output_type": "stream",
       "stream": "stdout",
       "text": [
        "\n",
        "acquiring signal (channel 1)\n",
        "acquiring ramp (channel 2)"
       ]
      },
      {
       "output_type": "stream",
       "stream": "stdout",
       "text": [
        "\n",
        "iteration: 1052 @ time: 315599.58900 s (87 h 39 min 59.589 s)"
       ]
      },
      {
       "output_type": "stream",
       "stream": "stdout",
       "text": [
        "\n",
        "acquiring signal (channel 1)\n",
        "acquiring ramp (channel 2)"
       ]
      },
      {
       "output_type": "stream",
       "stream": "stdout",
       "text": [
        "\n",
        "iteration: 1053 @ time: 315899.57900 s (87 h 44 min 59.579 s)"
       ]
      },
      {
       "output_type": "stream",
       "stream": "stdout",
       "text": [
        "\n",
        "acquiring signal (channel 1)\n",
        "acquiring ramp (channel 2)"
       ]
      },
      {
       "output_type": "stream",
       "stream": "stdout",
       "text": [
        "\n",
        "iteration: 1054 @ time: 316199.59100 s (87 h 49 min 59.591 s)"
       ]
      },
      {
       "output_type": "stream",
       "stream": "stdout",
       "text": [
        "\n",
        "acquiring signal (channel 1)\n",
        "acquiring ramp (channel 2)"
       ]
      },
      {
       "output_type": "stream",
       "stream": "stdout",
       "text": [
        "\n",
        "iteration: 1055 @ time: 316499.58000 s (87 h 54 min 59.580 s)"
       ]
      },
      {
       "output_type": "stream",
       "stream": "stdout",
       "text": [
        "\n",
        "acquiring signal (channel 1)\n",
        "acquiring ramp (channel 2)"
       ]
      },
      {
       "output_type": "stream",
       "stream": "stdout",
       "text": [
        "\n",
        "iteration: 1056 @ time: 316799.56000 s (87 h 59 min 59.560 s)"
       ]
      },
      {
       "output_type": "stream",
       "stream": "stdout",
       "text": [
        "\n",
        "acquiring signal (channel 1)\n",
        "acquiring ramp (channel 2)"
       ]
      },
      {
       "output_type": "stream",
       "stream": "stdout",
       "text": [
        "\n",
        "iteration: 1057 @ time: 317099.62200 s (88 h  4 min 59.622 s)"
       ]
      },
      {
       "output_type": "stream",
       "stream": "stdout",
       "text": [
        "\n",
        "acquiring signal (channel 1)\n",
        "acquiring ramp (channel 2)"
       ]
      },
      {
       "output_type": "stream",
       "stream": "stdout",
       "text": [
        "\n",
        "iteration: 1058 @ time: 317399.56500 s (88 h  9 min 59.565 s)"
       ]
      },
      {
       "output_type": "stream",
       "stream": "stdout",
       "text": [
        "\n",
        "acquiring signal (channel 1)\n",
        "acquiring ramp (channel 2)"
       ]
      },
      {
       "output_type": "stream",
       "stream": "stdout",
       "text": [
        "\n",
        "iteration: 1059 @ time: 317699.57100 s (88 h 14 min 59.571 s)"
       ]
      },
      {
       "output_type": "stream",
       "stream": "stdout",
       "text": [
        "\n",
        "acquiring signal (channel 1)\n",
        "acquiring ramp (channel 2)"
       ]
      },
      {
       "output_type": "stream",
       "stream": "stdout",
       "text": [
        "\n",
        "iteration: 1060 @ time: 317999.60900 s (88 h 19 min 59.609 s)"
       ]
      },
      {
       "output_type": "stream",
       "stream": "stdout",
       "text": [
        "\n",
        "acquiring signal (channel 1)\n",
        "acquiring ramp (channel 2)"
       ]
      },
      {
       "output_type": "stream",
       "stream": "stdout",
       "text": [
        "\n",
        "iteration: 1061 @ time: 318299.58100 s (88 h 24 min 59.581 s)"
       ]
      },
      {
       "output_type": "stream",
       "stream": "stdout",
       "text": [
        "\n",
        "acquiring signal (channel 1)\n",
        "acquiring ramp (channel 2)"
       ]
      },
      {
       "output_type": "stream",
       "stream": "stdout",
       "text": [
        "\n",
        "iteration: 1062 @ time: 318599.63900 s (88 h 29 min 59.639 s)"
       ]
      },
      {
       "output_type": "stream",
       "stream": "stdout",
       "text": [
        "\n",
        "acquiring signal (channel 1)\n",
        "acquiring ramp (channel 2)"
       ]
      },
      {
       "output_type": "stream",
       "stream": "stdout",
       "text": [
        "\n",
        "iteration: 1063 @ time: 318899.55900 s (88 h 34 min 59.559 s)"
       ]
      },
      {
       "output_type": "stream",
       "stream": "stdout",
       "text": [
        "\n",
        "acquiring signal (channel 1)\n",
        "acquiring ramp (channel 2)"
       ]
      },
      {
       "output_type": "stream",
       "stream": "stdout",
       "text": [
        "\n",
        "iteration: 1064 @ time: 319199.55700 s (88 h 39 min 59.557 s)"
       ]
      },
      {
       "output_type": "stream",
       "stream": "stdout",
       "text": [
        "\n",
        "acquiring signal (channel 1)\n",
        "acquiring ramp (channel 2)"
       ]
      },
      {
       "output_type": "stream",
       "stream": "stdout",
       "text": [
        "\n",
        "iteration: 1065 @ time: 319499.59700 s (88 h 44 min 59.597 s)"
       ]
      },
      {
       "output_type": "stream",
       "stream": "stdout",
       "text": [
        "\n",
        "acquiring signal (channel 1)\n",
        "acquiring ramp (channel 2)"
       ]
      },
      {
       "output_type": "stream",
       "stream": "stdout",
       "text": [
        "\n",
        "iteration: 1066 @ time: 319799.59000 s (88 h 49 min 59.590 s)"
       ]
      },
      {
       "output_type": "stream",
       "stream": "stdout",
       "text": [
        "\n",
        "acquiring signal (channel 1)\n",
        "acquiring ramp (channel 2)"
       ]
      },
      {
       "output_type": "stream",
       "stream": "stdout",
       "text": [
        "\n",
        "iteration: 1067 @ time: 320099.63800 s (88 h 54 min 59.638 s)"
       ]
      },
      {
       "output_type": "stream",
       "stream": "stdout",
       "text": [
        "\n",
        "acquiring signal (channel 1)\n",
        "acquiring ramp (channel 2)"
       ]
      },
      {
       "output_type": "stream",
       "stream": "stdout",
       "text": [
        "\n",
        "iteration: 1068 @ time: 320399.54300 s (88 h 59 min 59.543 s)"
       ]
      },
      {
       "output_type": "stream",
       "stream": "stdout",
       "text": [
        "\n",
        "acquiring signal (channel 1)\n",
        "acquiring ramp (channel 2)"
       ]
      },
      {
       "output_type": "stream",
       "stream": "stdout",
       "text": [
        "\n",
        "iteration: 1069 @ time: 320699.55800 s (89 h  4 min 59.558 s)"
       ]
      },
      {
       "output_type": "stream",
       "stream": "stdout",
       "text": [
        "\n",
        "acquiring signal (channel 1)\n",
        "acquiring ramp (channel 2)"
       ]
      },
      {
       "output_type": "stream",
       "stream": "stdout",
       "text": [
        "\n",
        "iteration: 1070 @ time: 320999.57500 s (89 h  9 min 59.575 s)"
       ]
      },
      {
       "output_type": "stream",
       "stream": "stdout",
       "text": [
        "\n",
        "acquiring signal (channel 1)\n",
        "acquiring ramp (channel 2)"
       ]
      },
      {
       "output_type": "stream",
       "stream": "stdout",
       "text": [
        "\n",
        "iteration: 1071 @ time: 321299.60100 s (89 h 14 min 59.601 s)"
       ]
      },
      {
       "output_type": "stream",
       "stream": "stdout",
       "text": [
        "\n",
        "acquiring signal (channel 1)\n",
        "acquiring ramp (channel 2)"
       ]
      },
      {
       "output_type": "stream",
       "stream": "stdout",
       "text": [
        "\n",
        "iteration: 1072 @ time: 321599.59400 s (89 h 19 min 59.594 s)"
       ]
      },
      {
       "output_type": "stream",
       "stream": "stdout",
       "text": [
        "\n",
        "acquiring signal (channel 1)\n",
        "acquiring ramp (channel 2)"
       ]
      },
      {
       "output_type": "stream",
       "stream": "stdout",
       "text": [
        "\n",
        "iteration: 1073 @ time: 321899.61000 s (89 h 24 min 59.610 s)"
       ]
      },
      {
       "output_type": "stream",
       "stream": "stdout",
       "text": [
        "\n",
        "acquiring signal (channel 1)\n",
        "acquiring ramp (channel 2)"
       ]
      },
      {
       "output_type": "stream",
       "stream": "stdout",
       "text": [
        "\n",
        "iteration: 1074 @ time: 322199.61800 s (89 h 29 min 59.618 s)"
       ]
      },
      {
       "output_type": "stream",
       "stream": "stdout",
       "text": [
        "\n",
        "acquiring signal (channel 1)\n",
        "acquiring ramp (channel 2)"
       ]
      },
      {
       "output_type": "stream",
       "stream": "stdout",
       "text": [
        "\n",
        "iteration: 1075 @ time: 322499.61800 s (89 h 34 min 59.618 s)"
       ]
      },
      {
       "output_type": "stream",
       "stream": "stdout",
       "text": [
        "\n",
        "acquiring signal (channel 1)\n",
        "acquiring ramp (channel 2)"
       ]
      },
      {
       "output_type": "stream",
       "stream": "stdout",
       "text": [
        "\n",
        "iteration: 1076 @ time: 322799.64000 s (89 h 39 min 59.640 s)"
       ]
      },
      {
       "output_type": "stream",
       "stream": "stdout",
       "text": [
        "\n",
        "acquiring signal (channel 1)\n",
        "acquiring ramp (channel 2)"
       ]
      },
      {
       "output_type": "stream",
       "stream": "stdout",
       "text": [
        "\n",
        "iteration: 1077 @ time: 323099.60500 s (89 h 44 min 59.605 s)"
       ]
      },
      {
       "output_type": "stream",
       "stream": "stdout",
       "text": [
        "\n",
        "acquiring signal (channel 1)\n",
        "acquiring ramp (channel 2)"
       ]
      },
      {
       "output_type": "stream",
       "stream": "stdout",
       "text": [
        "\n",
        "iteration: 1078 @ time: 323399.62700 s (89 h 49 min 59.627 s)"
       ]
      },
      {
       "output_type": "stream",
       "stream": "stdout",
       "text": [
        "\n",
        "acquiring signal (channel 1)\n",
        "acquiring ramp (channel 2)"
       ]
      },
      {
       "output_type": "stream",
       "stream": "stdout",
       "text": [
        "\n",
        "iteration: 1079 @ time: 323699.61900 s (89 h 54 min 59.619 s)"
       ]
      },
      {
       "output_type": "stream",
       "stream": "stdout",
       "text": [
        "\n",
        "acquiring signal (channel 1)\n",
        "acquiring ramp (channel 2)"
       ]
      },
      {
       "output_type": "stream",
       "stream": "stdout",
       "text": [
        "\n",
        "iteration: 1080 @ time: 323999.55800 s (89 h 59 min 59.558 s)"
       ]
      },
      {
       "output_type": "stream",
       "stream": "stdout",
       "text": [
        "\n",
        "acquiring signal (channel 1)\n",
        "acquiring ramp (channel 2)"
       ]
      },
      {
       "output_type": "stream",
       "stream": "stdout",
       "text": [
        "\n",
        "iteration: 1081 @ time: 324299.58900 s (90 h  4 min 59.589 s)"
       ]
      },
      {
       "output_type": "stream",
       "stream": "stdout",
       "text": [
        "\n",
        "acquiring signal (channel 1)\n",
        "acquiring ramp (channel 2)"
       ]
      },
      {
       "output_type": "stream",
       "stream": "stdout",
       "text": [
        "\n",
        "iteration: 1082 @ time: 324599.60600 s (90 h  9 min 59.606 s)"
       ]
      },
      {
       "output_type": "stream",
       "stream": "stdout",
       "text": [
        "\n",
        "acquiring signal (channel 1)\n",
        "acquiring ramp (channel 2)"
       ]
      },
      {
       "output_type": "stream",
       "stream": "stdout",
       "text": [
        "\n",
        "iteration: 1083 @ time: 324899.55600 s (90 h 14 min 59.556 s)"
       ]
      },
      {
       "output_type": "stream",
       "stream": "stdout",
       "text": [
        "\n",
        "acquiring signal (channel 1)\n",
        "acquiring ramp (channel 2)"
       ]
      },
      {
       "output_type": "stream",
       "stream": "stdout",
       "text": [
        "\n",
        "iteration: 1084 @ time: 325199.57600 s (90 h 19 min 59.576 s)"
       ]
      },
      {
       "output_type": "stream",
       "stream": "stdout",
       "text": [
        "\n",
        "acquiring signal (channel 1)\n",
        "acquiring ramp (channel 2)"
       ]
      },
      {
       "output_type": "stream",
       "stream": "stdout",
       "text": [
        "\n",
        "iteration: 1085 @ time: 325499.62800 s (90 h 24 min 59.628 s)"
       ]
      },
      {
       "output_type": "stream",
       "stream": "stdout",
       "text": [
        "\n",
        "acquiring signal (channel 1)\n",
        "acquiring ramp (channel 2)"
       ]
      },
      {
       "output_type": "stream",
       "stream": "stdout",
       "text": [
        "\n",
        "iteration: 1086 @ time: 325799.55100 s (90 h 29 min 59.551 s)"
       ]
      },
      {
       "output_type": "stream",
       "stream": "stdout",
       "text": [
        "\n",
        "acquiring signal (channel 1)\n",
        "acquiring ramp (channel 2)"
       ]
      },
      {
       "output_type": "stream",
       "stream": "stdout",
       "text": [
        "\n",
        "iteration: 1087 @ time: 326099.57300 s (90 h 34 min 59.573 s)"
       ]
      },
      {
       "output_type": "stream",
       "stream": "stdout",
       "text": [
        "\n",
        "acquiring signal (channel 1)\n",
        "acquiring ramp (channel 2)"
       ]
      },
      {
       "output_type": "stream",
       "stream": "stdout",
       "text": [
        "\n",
        "iteration: 1088 @ time: 326399.60300 s (90 h 39 min 59.603 s)"
       ]
      },
      {
       "output_type": "stream",
       "stream": "stdout",
       "text": [
        "\n",
        "acquiring signal (channel 1)\n",
        "acquiring ramp (channel 2)"
       ]
      },
      {
       "output_type": "stream",
       "stream": "stdout",
       "text": [
        "\n",
        "iteration: 1089 @ time: 326699.57700 s (90 h 44 min 59.577 s)"
       ]
      },
      {
       "output_type": "stream",
       "stream": "stdout",
       "text": [
        "\n",
        "acquiring signal (channel 1)\n",
        "acquiring ramp (channel 2)"
       ]
      },
      {
       "output_type": "stream",
       "stream": "stdout",
       "text": [
        "\n",
        "iteration: 1090 @ time: 326999.56000 s (90 h 49 min 59.560 s)"
       ]
      },
      {
       "output_type": "stream",
       "stream": "stdout",
       "text": [
        "\n",
        "acquiring signal (channel 1)\n",
        "acquiring ramp (channel 2)"
       ]
      },
      {
       "output_type": "stream",
       "stream": "stdout",
       "text": [
        "\n",
        "iteration: 1091 @ time: 327299.59000 s (90 h 54 min 59.590 s)"
       ]
      },
      {
       "output_type": "stream",
       "stream": "stdout",
       "text": [
        "\n",
        "acquiring signal (channel 1)\n",
        "acquiring ramp (channel 2)"
       ]
      },
      {
       "output_type": "stream",
       "stream": "stdout",
       "text": [
        "\n",
        "iteration: 1092 @ time: 327599.59100 s (90 h 59 min 59.591 s)"
       ]
      },
      {
       "output_type": "stream",
       "stream": "stdout",
       "text": [
        "\n",
        "acquiring signal (channel 1)\n",
        "acquiring ramp (channel 2)"
       ]
      },
      {
       "output_type": "stream",
       "stream": "stdout",
       "text": [
        "\n",
        "iteration: 1093 @ time: 327899.63800 s (91 h  4 min 59.638 s)"
       ]
      },
      {
       "output_type": "stream",
       "stream": "stdout",
       "text": [
        "\n",
        "acquiring signal (channel 1)\n",
        "acquiring ramp (channel 2)"
       ]
      },
      {
       "output_type": "stream",
       "stream": "stdout",
       "text": [
        "\n",
        "iteration: 1094 @ time: 328199.58900 s (91 h  9 min 59.589 s)"
       ]
      },
      {
       "output_type": "stream",
       "stream": "stdout",
       "text": [
        "\n",
        "acquiring signal (channel 1)\n",
        "acquiring ramp (channel 2)"
       ]
      },
      {
       "output_type": "stream",
       "stream": "stdout",
       "text": [
        "\n",
        "iteration: 1095 @ time: 328499.58500 s (91 h 14 min 59.585 s)"
       ]
      },
      {
       "output_type": "stream",
       "stream": "stdout",
       "text": [
        "\n",
        "acquiring signal (channel 1)\n",
        "acquiring ramp (channel 2)"
       ]
      },
      {
       "output_type": "stream",
       "stream": "stdout",
       "text": [
        "\n",
        "iteration: 1096 @ time: 328799.63300 s (91 h 19 min 59.633 s)"
       ]
      },
      {
       "output_type": "stream",
       "stream": "stdout",
       "text": [
        "\n",
        "acquiring signal (channel 1)\n",
        "acquiring ramp (channel 2)"
       ]
      },
      {
       "output_type": "stream",
       "stream": "stdout",
       "text": [
        "\n",
        "iteration: 1097 @ time: 329099.58500 s (91 h 24 min 59.585 s)"
       ]
      },
      {
       "output_type": "stream",
       "stream": "stdout",
       "text": [
        "\n",
        "acquiring signal (channel 1)\n",
        "acquiring ramp (channel 2)"
       ]
      },
      {
       "output_type": "stream",
       "stream": "stdout",
       "text": [
        "\n",
        "iteration: 1098 @ time: 329399.59200 s (91 h 29 min 59.592 s)"
       ]
      },
      {
       "output_type": "stream",
       "stream": "stdout",
       "text": [
        "\n",
        "acquiring signal (channel 1)\n",
        "acquiring ramp (channel 2)"
       ]
      },
      {
       "output_type": "stream",
       "stream": "stdout",
       "text": [
        "\n",
        "iteration: 1099 @ time: 329699.61500 s (91 h 34 min 59.615 s)"
       ]
      },
      {
       "output_type": "stream",
       "stream": "stdout",
       "text": [
        "\n",
        "acquiring signal (channel 1)\n",
        "acquiring ramp (channel 2)"
       ]
      },
      {
       "output_type": "stream",
       "stream": "stdout",
       "text": [
        "\n",
        "iteration: 1100 @ time: 329999.54300 s (91 h 39 min 59.543 s)"
       ]
      },
      {
       "output_type": "stream",
       "stream": "stdout",
       "text": [
        "\n",
        "acquiring signal (channel 1)\n",
        "acquiring ramp (channel 2)"
       ]
      },
      {
       "output_type": "stream",
       "stream": "stdout",
       "text": [
        "\n",
        "iteration: 1101 @ time: 330299.56900 s (91 h 44 min 59.569 s)"
       ]
      },
      {
       "output_type": "stream",
       "stream": "stdout",
       "text": [
        "\n",
        "acquiring signal (channel 1)\n",
        "acquiring ramp (channel 2)"
       ]
      },
      {
       "output_type": "stream",
       "stream": "stdout",
       "text": [
        "\n",
        "iteration: 1102 @ time: 330599.57000 s (91 h 49 min 59.570 s)"
       ]
      },
      {
       "output_type": "stream",
       "stream": "stdout",
       "text": [
        "\n",
        "acquiring signal (channel 1)\n",
        "acquiring ramp (channel 2)"
       ]
      },
      {
       "output_type": "stream",
       "stream": "stdout",
       "text": [
        "\n",
        "iteration: 1103 @ time: 330899.61400 s (91 h 54 min 59.614 s)"
       ]
      },
      {
       "output_type": "stream",
       "stream": "stdout",
       "text": [
        "\n",
        "acquiring signal (channel 1)\n",
        "acquiring ramp (channel 2)"
       ]
      },
      {
       "output_type": "stream",
       "stream": "stdout",
       "text": [
        "\n",
        "iteration: 1104 @ time: 331199.60400 s (91 h 59 min 59.604 s)"
       ]
      },
      {
       "output_type": "stream",
       "stream": "stdout",
       "text": [
        "\n",
        "acquiring signal (channel 1)\n",
        "acquiring ramp (channel 2)"
       ]
      },
      {
       "output_type": "stream",
       "stream": "stdout",
       "text": [
        "\n",
        "iteration: 1105 @ time: 331499.60500 s (92 h  4 min 59.605 s)"
       ]
      },
      {
       "output_type": "stream",
       "stream": "stdout",
       "text": [
        "\n",
        "acquiring signal (channel 1)\n",
        "acquiring ramp (channel 2)"
       ]
      },
      {
       "output_type": "stream",
       "stream": "stdout",
       "text": [
        "\n",
        "iteration: 1106 @ time: 331799.63900 s (92 h  9 min 59.639 s)"
       ]
      },
      {
       "output_type": "stream",
       "stream": "stdout",
       "text": [
        "\n",
        "acquiring signal (channel 1)\n",
        "acquiring ramp (channel 2)"
       ]
      },
      {
       "output_type": "stream",
       "stream": "stdout",
       "text": [
        "\n",
        "iteration: 1107 @ time: 332099.55500 s (92 h 14 min 59.555 s)"
       ]
      },
      {
       "output_type": "stream",
       "stream": "stdout",
       "text": [
        "\n",
        "acquiring signal (channel 1)\n",
        "acquiring ramp (channel 2)"
       ]
      },
      {
       "output_type": "stream",
       "stream": "stdout",
       "text": [
        "\n",
        "iteration: 1108 @ time: 332399.55600 s (92 h 19 min 59.556 s)"
       ]
      },
      {
       "output_type": "stream",
       "stream": "stdout",
       "text": [
        "\n",
        "acquiring signal (channel 1)\n",
        "acquiring ramp (channel 2)"
       ]
      },
      {
       "output_type": "stream",
       "stream": "stdout",
       "text": [
        "\n",
        "iteration: 1109 @ time: 332699.56000 s (92 h 24 min 59.560 s)"
       ]
      },
      {
       "output_type": "stream",
       "stream": "stdout",
       "text": [
        "\n",
        "acquiring signal (channel 1)\n",
        "acquiring ramp (channel 2)"
       ]
      },
      {
       "output_type": "stream",
       "stream": "stdout",
       "text": [
        "\n",
        "iteration: 1110 @ time: 332999.54100 s (92 h 29 min 59.541 s)"
       ]
      },
      {
       "output_type": "stream",
       "stream": "stdout",
       "text": [
        "\n",
        "acquiring signal (channel 1)\n",
        "acquiring ramp (channel 2)"
       ]
      },
      {
       "output_type": "stream",
       "stream": "stdout",
       "text": [
        "\n",
        "iteration: 1111 @ time: 333299.63600 s (92 h 34 min 59.636 s)"
       ]
      },
      {
       "output_type": "stream",
       "stream": "stdout",
       "text": [
        "\n",
        "acquiring signal (channel 1)\n",
        "acquiring ramp (channel 2)"
       ]
      },
      {
       "output_type": "stream",
       "stream": "stdout",
       "text": [
        "\n",
        "iteration: 1112 @ time: 333599.56800 s (92 h 39 min 59.568 s)"
       ]
      },
      {
       "output_type": "stream",
       "stream": "stdout",
       "text": [
        "\n",
        "acquiring signal (channel 1)\n",
        "acquiring ramp (channel 2)"
       ]
      },
      {
       "output_type": "stream",
       "stream": "stdout",
       "text": [
        "\n",
        "iteration: 1113 @ time: 333899.58700 s (92 h 44 min 59.587 s)"
       ]
      },
      {
       "output_type": "stream",
       "stream": "stdout",
       "text": [
        "\n",
        "acquiring signal (channel 1)\n",
        "acquiring ramp (channel 2)"
       ]
      },
      {
       "output_type": "stream",
       "stream": "stdout",
       "text": [
        "\n",
        "iteration: 1114 @ time: 334199.60300 s (92 h 49 min 59.603 s)"
       ]
      },
      {
       "output_type": "stream",
       "stream": "stdout",
       "text": [
        "\n",
        "acquiring signal (channel 1)\n",
        "acquiring ramp (channel 2)"
       ]
      },
      {
       "output_type": "stream",
       "stream": "stdout",
       "text": [
        "\n",
        "iteration: 1115 @ time: 334499.60900 s (92 h 54 min 59.609 s)"
       ]
      },
      {
       "output_type": "stream",
       "stream": "stdout",
       "text": [
        "\n",
        "acquiring signal (channel 1)\n",
        "acquiring ramp (channel 2)"
       ]
      },
      {
       "output_type": "stream",
       "stream": "stdout",
       "text": [
        "\n",
        "iteration: 1116 @ time: 334799.63800 s (92 h 59 min 59.638 s)"
       ]
      },
      {
       "output_type": "stream",
       "stream": "stdout",
       "text": [
        "\n",
        "acquiring signal (channel 1)\n",
        "acquiring ramp (channel 2)"
       ]
      },
      {
       "output_type": "stream",
       "stream": "stdout",
       "text": [
        "\n",
        "iteration: 1117 @ time: 335099.59200 s (93 h  4 min 59.592 s)"
       ]
      },
      {
       "output_type": "stream",
       "stream": "stdout",
       "text": [
        "\n",
        "acquiring signal (channel 1)\n",
        "acquiring ramp (channel 2)"
       ]
      },
      {
       "output_type": "stream",
       "stream": "stdout",
       "text": [
        "\n",
        "iteration: 1118 @ time: 335399.63500 s (93 h  9 min 59.635 s)"
       ]
      },
      {
       "output_type": "stream",
       "stream": "stdout",
       "text": [
        "\n",
        "acquiring signal (channel 1)\n",
        "acquiring ramp (channel 2)"
       ]
      },
      {
       "output_type": "stream",
       "stream": "stdout",
       "text": [
        "\n",
        "iteration: 1119 @ time: 335699.62900 s (93 h 14 min 59.629 s)"
       ]
      },
      {
       "output_type": "stream",
       "stream": "stdout",
       "text": [
        "\n",
        "acquiring signal (channel 1)\n",
        "acquiring ramp (channel 2)"
       ]
      },
      {
       "output_type": "stream",
       "stream": "stdout",
       "text": [
        "\n",
        "iteration: 1120 @ time: 335999.56900 s (93 h 19 min 59.569 s)"
       ]
      },
      {
       "output_type": "stream",
       "stream": "stdout",
       "text": [
        "\n",
        "acquiring signal (channel 1)\n",
        "acquiring ramp (channel 2)"
       ]
      },
      {
       "output_type": "stream",
       "stream": "stdout",
       "text": [
        "\n",
        "iteration: 1121 @ time: 336299.58200 s (93 h 24 min 59.582 s)"
       ]
      },
      {
       "output_type": "stream",
       "stream": "stdout",
       "text": [
        "\n",
        "acquiring signal (channel 1)\n",
        "acquiring ramp (channel 2)"
       ]
      },
      {
       "output_type": "stream",
       "stream": "stdout",
       "text": [
        "\n",
        "iteration: 1122 @ time: 336599.56000 s (93 h 29 min 59.560 s)"
       ]
      },
      {
       "output_type": "stream",
       "stream": "stdout",
       "text": [
        "\n",
        "acquiring signal (channel 1)\n",
        "acquiring ramp (channel 2)"
       ]
      },
      {
       "output_type": "stream",
       "stream": "stdout",
       "text": [
        "\n",
        "iteration: 1123 @ time: 336899.57600 s (93 h 34 min 59.576 s)"
       ]
      },
      {
       "output_type": "stream",
       "stream": "stdout",
       "text": [
        "\n",
        "acquiring signal (channel 1)\n",
        "acquiring ramp (channel 2)"
       ]
      },
      {
       "output_type": "stream",
       "stream": "stdout",
       "text": [
        "\n",
        "iteration: 1124 @ time: 337199.64000 s (93 h 39 min 59.640 s)"
       ]
      },
      {
       "output_type": "stream",
       "stream": "stdout",
       "text": [
        "\n",
        "acquiring signal (channel 1)\n",
        "acquiring ramp (channel 2)"
       ]
      },
      {
       "output_type": "stream",
       "stream": "stdout",
       "text": [
        "\n",
        "iteration: 1125 @ time: 337499.54900 s (93 h 44 min 59.549 s)"
       ]
      },
      {
       "output_type": "stream",
       "stream": "stdout",
       "text": [
        "\n",
        "acquiring signal (channel 1)\n",
        "acquiring ramp (channel 2)"
       ]
      },
      {
       "output_type": "stream",
       "stream": "stdout",
       "text": [
        "\n",
        "iteration: 1126 @ time: 337799.56300 s (93 h 49 min 59.563 s)"
       ]
      },
      {
       "output_type": "stream",
       "stream": "stdout",
       "text": [
        "\n",
        "acquiring signal (channel 1)\n",
        "acquiring ramp (channel 2)"
       ]
      },
      {
       "output_type": "stream",
       "stream": "stdout",
       "text": [
        "\n",
        "iteration: 1127 @ time: 338099.63800 s (93 h 54 min 59.638 s)"
       ]
      },
      {
       "output_type": "stream",
       "stream": "stdout",
       "text": [
        "\n",
        "acquiring signal (channel 1)\n",
        "acquiring ramp (channel 2)"
       ]
      },
      {
       "output_type": "stream",
       "stream": "stdout",
       "text": [
        "\n",
        "iteration: 1128 @ time: 338399.58500 s (93 h 59 min 59.585 s)"
       ]
      },
      {
       "output_type": "stream",
       "stream": "stdout",
       "text": [
        "\n",
        "acquiring signal (channel 1)\n",
        "acquiring ramp (channel 2)"
       ]
      },
      {
       "output_type": "stream",
       "stream": "stdout",
       "text": [
        "\n",
        "iteration: 1129 @ time: 338699.57800 s (94 h  4 min 59.578 s)"
       ]
      },
      {
       "output_type": "stream",
       "stream": "stdout",
       "text": [
        "\n",
        "acquiring signal (channel 1)\n",
        "acquiring ramp (channel 2)"
       ]
      },
      {
       "output_type": "stream",
       "stream": "stdout",
       "text": [
        "\n",
        "iteration: 1130 @ time: 338999.56000 s (94 h  9 min 59.560 s)"
       ]
      },
      {
       "output_type": "stream",
       "stream": "stdout",
       "text": [
        "\n",
        "acquiring signal (channel 1)\n",
        "acquiring ramp (channel 2)"
       ]
      },
      {
       "output_type": "stream",
       "stream": "stdout",
       "text": [
        "\n",
        "iteration: 1131 @ time: 339299.54700 s (94 h 14 min 59.547 s)"
       ]
      },
      {
       "output_type": "stream",
       "stream": "stdout",
       "text": [
        "\n",
        "acquiring signal (channel 1)\n",
        "acquiring ramp (channel 2)"
       ]
      },
      {
       "output_type": "stream",
       "stream": "stdout",
       "text": [
        "\n",
        "iteration: 1132 @ time: 339599.62400 s (94 h 19 min 59.624 s)"
       ]
      },
      {
       "output_type": "stream",
       "stream": "stdout",
       "text": [
        "\n",
        "acquiring signal (channel 1)\n",
        "acquiring ramp (channel 2)"
       ]
      },
      {
       "output_type": "stream",
       "stream": "stdout",
       "text": [
        "\n",
        "iteration: 1133 @ time: 339899.55300 s (94 h 24 min 59.553 s)"
       ]
      },
      {
       "output_type": "stream",
       "stream": "stdout",
       "text": [
        "\n",
        "acquiring signal (channel 1)\n",
        "acquiring ramp (channel 2)"
       ]
      },
      {
       "output_type": "stream",
       "stream": "stdout",
       "text": [
        "\n",
        "iteration: 1134 @ time: 340199.61100 s (94 h 29 min 59.611 s)"
       ]
      },
      {
       "output_type": "stream",
       "stream": "stdout",
       "text": [
        "\n",
        "acquiring signal (channel 1)\n",
        "acquiring ramp (channel 2)"
       ]
      },
      {
       "output_type": "stream",
       "stream": "stdout",
       "text": [
        "\n",
        "iteration: 1135 @ time: 340499.56100 s (94 h 34 min 59.561 s)"
       ]
      },
      {
       "output_type": "stream",
       "stream": "stdout",
       "text": [
        "\n",
        "acquiring signal (channel 1)\n",
        "acquiring ramp (channel 2)"
       ]
      },
      {
       "output_type": "stream",
       "stream": "stdout",
       "text": [
        "\n",
        "iteration: 1136 @ time: 340799.63900 s (94 h 39 min 59.639 s)"
       ]
      },
      {
       "output_type": "stream",
       "stream": "stdout",
       "text": [
        "\n",
        "acquiring signal (channel 1)\n",
        "acquiring ramp (channel 2)"
       ]
      },
      {
       "output_type": "stream",
       "stream": "stdout",
       "text": [
        "\n",
        "iteration: 1137 @ time: 341099.59400 s (94 h 44 min 59.594 s)"
       ]
      },
      {
       "output_type": "stream",
       "stream": "stdout",
       "text": [
        "\n",
        "acquiring signal (channel 1)\n",
        "acquiring ramp (channel 2)"
       ]
      },
      {
       "output_type": "stream",
       "stream": "stdout",
       "text": [
        "\n",
        "iteration: 1138 @ time: 341399.57000 s (94 h 49 min 59.570 s)"
       ]
      },
      {
       "output_type": "stream",
       "stream": "stdout",
       "text": [
        "\n",
        "acquiring signal (channel 1)\n",
        "acquiring ramp (channel 2)"
       ]
      },
      {
       "output_type": "stream",
       "stream": "stdout",
       "text": [
        "\n",
        "iteration: 1139 @ time: 341699.60300 s (94 h 54 min 59.603 s)"
       ]
      },
      {
       "output_type": "stream",
       "stream": "stdout",
       "text": [
        "\n",
        "acquiring signal (channel 1)\n",
        "acquiring ramp (channel 2)"
       ]
      },
      {
       "output_type": "stream",
       "stream": "stdout",
       "text": [
        "\n",
        "iteration: 1140 @ time: 341999.55900 s (94 h 59 min 59.559 s)"
       ]
      },
      {
       "output_type": "stream",
       "stream": "stdout",
       "text": [
        "\n",
        "acquiring signal (channel 1)\n",
        "acquiring ramp (channel 2)"
       ]
      },
      {
       "output_type": "stream",
       "stream": "stdout",
       "text": [
        "\n",
        "iteration: 1141 @ time: 342299.54100 s (95 h  4 min 59.541 s)"
       ]
      },
      {
       "output_type": "stream",
       "stream": "stdout",
       "text": [
        "\n",
        "acquiring signal (channel 1)\n",
        "acquiring ramp (channel 2)"
       ]
      },
      {
       "output_type": "stream",
       "stream": "stdout",
       "text": [
        "\n",
        "iteration: 1142 @ time: 342599.58500 s (95 h  9 min 59.585 s)"
       ]
      },
      {
       "output_type": "stream",
       "stream": "stdout",
       "text": [
        "\n",
        "acquiring signal (channel 1)\n",
        "acquiring ramp (channel 2)"
       ]
      },
      {
       "output_type": "stream",
       "stream": "stdout",
       "text": [
        "\n",
        "iteration: 1143 @ time: 342899.57000 s (95 h 14 min 59.570 s)"
       ]
      },
      {
       "output_type": "stream",
       "stream": "stdout",
       "text": [
        "\n",
        "acquiring signal (channel 1)\n",
        "acquiring ramp (channel 2)"
       ]
      },
      {
       "output_type": "stream",
       "stream": "stdout",
       "text": [
        "\n",
        "iteration: 1144 @ time: 343199.55300 s (95 h 19 min 59.553 s)"
       ]
      },
      {
       "output_type": "stream",
       "stream": "stdout",
       "text": [
        "\n",
        "acquiring signal (channel 1)\n",
        "acquiring ramp (channel 2)"
       ]
      },
      {
       "output_type": "stream",
       "stream": "stdout",
       "text": [
        "\n",
        "iteration: 1145 @ time: 343499.63100 s (95 h 24 min 59.631 s)"
       ]
      },
      {
       "output_type": "stream",
       "stream": "stdout",
       "text": [
        "\n",
        "acquiring signal (channel 1)\n",
        "acquiring ramp (channel 2)"
       ]
      },
      {
       "output_type": "stream",
       "stream": "stdout",
       "text": [
        "\n",
        "iteration: 1146 @ time: 343799.63200 s (95 h 29 min 59.632 s)"
       ]
      },
      {
       "output_type": "stream",
       "stream": "stdout",
       "text": [
        "\n",
        "acquiring signal (channel 1)\n",
        "acquiring ramp (channel 2)"
       ]
      },
      {
       "output_type": "stream",
       "stream": "stdout",
       "text": [
        "\n",
        "iteration: 1147 @ time: 344099.63800 s (95 h 34 min 59.638 s)"
       ]
      },
      {
       "output_type": "stream",
       "stream": "stdout",
       "text": [
        "\n",
        "acquiring signal (channel 1)\n",
        "acquiring ramp (channel 2)"
       ]
      },
      {
       "output_type": "stream",
       "stream": "stdout",
       "text": [
        "\n",
        "iteration: 1148 @ time: 344399.59600 s (95 h 39 min 59.596 s)"
       ]
      },
      {
       "output_type": "stream",
       "stream": "stdout",
       "text": [
        "\n",
        "acquiring signal (channel 1)\n",
        "acquiring ramp (channel 2)"
       ]
      },
      {
       "output_type": "stream",
       "stream": "stdout",
       "text": [
        "\n",
        "iteration: 1149 @ time: 344699.56900 s (95 h 44 min 59.569 s)"
       ]
      },
      {
       "output_type": "stream",
       "stream": "stdout",
       "text": [
        "\n",
        "acquiring signal (channel 1)\n",
        "acquiring ramp (channel 2)"
       ]
      },
      {
       "output_type": "stream",
       "stream": "stdout",
       "text": [
        "\n",
        "iteration: 1150 @ time: 344999.55900 s (95 h 49 min 59.559 s)"
       ]
      },
      {
       "output_type": "stream",
       "stream": "stdout",
       "text": [
        "\n",
        "acquiring signal (channel 1)\n",
        "acquiring ramp (channel 2)"
       ]
      },
      {
       "output_type": "stream",
       "stream": "stdout",
       "text": [
        "\n",
        "iteration: 1151 @ time: 345299.56000 s (95 h 54 min 59.560 s)"
       ]
      },
      {
       "output_type": "stream",
       "stream": "stdout",
       "text": [
        "\n",
        "acquiring signal (channel 1)\n",
        "acquiring ramp (channel 2)"
       ]
      },
      {
       "output_type": "stream",
       "stream": "stdout",
       "text": [
        "\n"
       ]
      }
     ],
     "prompt_number": 4
    },
    {
     "cell_type": "code",
     "collapsed": false,
     "input": [
      "s.closeProperly()"
     ],
     "language": "python",
     "metadata": {},
     "outputs": [
      {
       "output_type": "stream",
       "stream": "stdout",
       "text": [
        "Saved position: 23750\n"
       ]
      }
     ],
     "prompt_number": 5
    },
    {
     "cell_type": "code",
     "collapsed": false,
     "input": [],
     "language": "python",
     "metadata": {},
     "outputs": []
    }
   ],
   "metadata": {}
  }
 ]
}