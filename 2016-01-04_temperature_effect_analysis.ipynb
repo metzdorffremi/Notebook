{
 "metadata": {
  "name": "",
  "signature": "sha256:b34181f356aa0326f10fbdde7c69d03461bf59ae368a69915986df878acabcc8"
 },
 "nbformat": 3,
 "nbformat_minor": 0,
 "worksheets": [
  {
   "cells": [
    {
     "cell_type": "code",
     "collapsed": false,
     "input": [
      "from pyinstruments import CurveDB\n",
      "import pandas\n",
      "import time\n",
      "import datetime\n",
      "from users.remi import losses2 as losses\n",
      "from pyinstruments.pyhardwaredb import instrument\n",
      "from pyinstruments.datalogger import models\n",
      "import gc\n",
      "import matplotlib.pyplot as plt\n",
      "\n",
      "analyze_constants  = dict(pk=230547)\n",
      "scan = losses.FullScan(analyze_constants[\"pk\"])\n",
      "\n",
      "def datetime_to_time(datetime):\n",
      "    return time.mktime(datetime.timetuple())\n",
      "\n",
      "def time_to_datetime(time):\n",
      "    return datetime.datetime.fromtimestamp(time)\n",
      "\n",
      "def plot(data):\n",
      "    df = pandas.DataFrame(data)\n",
      "    df.plot(style ='k.')"
     ],
     "language": "python",
     "metadata": {},
     "outputs": [],
     "prompt_number": 1
    },
    {
     "cell_type": "code",
     "collapsed": false,
     "input": [
      "scan.find_pzt_params()"
     ],
     "language": "python",
     "metadata": {},
     "outputs": [
      {
       "output_type": "stream",
       "stream": "stdout",
       "text": [
        "losses.FullScan.find_pzt_params\n"
       ]
      },
      {
       "metadata": {},
       "output_type": "pyout",
       "prompt_number": 11,
       "text": [
        "array([  2.00000000e+00,   5.67523167e-01,   4.12885237e-03,\n",
        "         2.87013789e-03,  -1.31541518e-04,  -3.33066182e-01,\n",
        "        -6.58216880e-01,   3.96174003e-01,   1.93101869e+00])"
       ]
      }
     ],
     "prompt_number": 11
    },
    {
     "cell_type": "code",
     "collapsed": false,
     "input": [
      "name = \"visual_control_pzt_params_\" + str(analyze_constants[\"pk\"]) + \".pdf\"\n",
      "scan._visual_control_find_pzt_params()"
     ],
     "language": "python",
     "metadata": {},
     "outputs": [
      {
       "output_type": "stream",
       "stream": "stdout",
       "text": [
        "losses.FullScan._visual_control_find_pzt_params\n",
        "losses.FullSCAN._params_pzt\n"
       ]
      }
     ],
     "prompt_number": 12
    },
    {
     "cell_type": "code",
     "collapsed": false,
     "input": [
      "scan._update_offset"
     ],
     "language": "python",
     "metadata": {},
     "outputs": []
    },
    {
     "cell_type": "code",
     "collapsed": false,
     "input": [
      "cd Desktop"
     ],
     "language": "python",
     "metadata": {},
     "outputs": [
      {
       "output_type": "stream",
       "stream": "stdout",
       "text": [
        "C:\\Users\\Remi\\Desktop\n"
       ]
      }
     ],
     "prompt_number": 57
    },
    {
     "cell_type": "code",
     "collapsed": false,
     "input": [
      "date = scan.fsrs[0].curve.date\n",
      "pzt_offsets = scan.collect_param_fsr(\"pzt_offset\")\n",
      "dates = scan.collect_param_fsr(\"date\")\n",
      "for i in range(len(pzt_offsets)-1):\n",
      "    if pzt_offsets[i+1]-pzt_offsets[i]<-0.5:\n",
      "        pzt_offsets[i+1] += 1\n",
      "    elif pzt_offsets[i+1]-pzt_offsets[i]>0.5:\n",
      "        pzt_offsets[i+1] -=1\n",
      "\n",
      "times = []\n",
      "for date in dates:\n",
      "    times.append(datetime_to_time(date))\n",
      "plt.plot(array(times)/3600., pzt_offsets,'+')\n",
      "#plt.savefig(\"temperature_effect.png\", bbox_inches=\"tight\")\n",
      "\n",
      "c=CurveDB.create(np.array(dates), np.array(pzt_offsets))\n",
      "c.name = \"pzt_offset_vs_time\"\n",
      "c.save()"
     ],
     "language": "python",
     "metadata": {},
     "outputs": [],
     "prompt_number": 17
    },
    {
     "cell_type": "code",
     "collapsed": false,
     "input": [
      "offset = CurveDB.objects.get(pk=328809)\n",
      "temp   = CurveDB.objects.get(pk=328807)\n",
      "\n",
      "offset_date = []\n",
      "for date in offset.data.index:\n",
      "    offset_date.append(datetime_to_time(date))\n",
      "\n",
      "fig, ax1 = plt.subplots(figsize=(1.*8., 1.*6.))\n",
      "offset_date=(np.array(offset_date)-offset_date[0]) / 3600.\n",
      "ax1.plot(offset_date, offset.data.values, 'b')\n",
      "ax1.set_xlabel('$\\mathrm{time\\ [h]}$')\n",
      "ax1.set_ylabel('$\\mathrm{offset\\ [\\lambda/2]}$', color='b')\n",
      "for tl in ax1.get_yticklabels():\n",
      "    tl.set_color('b')\n",
      "\n",
      "date, table = [], []\n",
      "for d, t in zip(temp.data.index, temp.data.values):\n",
      "    d = time_to_datetime(d)\n",
      "    if (d > offset.data.index[0]) and (d < offset.data.index[-1]):\n",
      "        d = datetime_to_time(d)\n",
      "        date.append(d)\n",
      "        table.append(t)\n",
      "\n",
      "date = (np.array(date)-date[0])/3600.\n",
      "ax2 = ax1.twinx()\n",
      "ax2.plot(date, table, 'r.', ms=0.25)\n",
      "ax2.set_ylabel('$\\mathrm{temperature\\ [K]}$', color='r')\n",
      "for tl in ax2.get_yticklabels():\n",
      "    tl.set_color('r')\n",
      "plt.xlim(0,60)\n",
      "plt.grid('on')\n",
      "plt.show()\n",
      "\n",
      "plt.savefig(\"temperature_effect.png\")"
     ],
     "language": "python",
     "metadata": {},
     "outputs": [],
     "prompt_number": 62
    },
    {
     "cell_type": "code",
     "collapsed": false,
     "input": [
      "c = CurveDB.create(times,array(pzt_offsets)*1066e-9/2.)\n",
      "c.name = \"pzt_offset_vs_time\"\n",
      "c.save()"
     ],
     "language": "python",
     "metadata": {},
     "outputs": [],
     "prompt_number": 55
    },
    {
     "cell_type": "code",
     "collapsed": false,
     "input": [
      "c = CurveDB()\n",
      "c.name = str(scan.curve.pk) + \"_analysis_\" + scan.curve.name\n",
      "c.save()"
     ],
     "language": "python",
     "metadata": {},
     "outputs": [],
     "prompt_number": 13
    },
    {
     "cell_type": "code",
     "collapsed": false,
     "input": [
      "temperature = CurveDB.objects.get(pk=328807)\n",
      "offset = CurveDB.objects.get(pk=230340)\n",
      "datesoffset = scan.collect_param_fsr(\"date\")\n",
      "datestemp = []\n",
      "for x in temperature.data.index.values:\n",
      "    datestemp.append(time_to_datetime(x))\n",
      "\n",
      "start = scan.fsrs[0].curve.date\n",
      "\n",
      "xmin = datesoffset[0]\n",
      "xmax = datesoffset[-1]\n",
      "\n",
      "fig = plt.figure(1)\n",
      "plt.subplot(211)\n",
      "\n",
      "plt.plot(datesoffset, offset.data.values*1.e9)\n",
      "plt.xlim((xmin, xmax))\n",
      "plt.ylabel(u\"$\\mathrm{Cavity\\ length\\ variation\\ [nm]}$\")\n",
      "plt.grid(\"on\")\n",
      "fig.autofmt_xdate()\n",
      "plt.title(start)\n",
      "\n",
      "\n",
      "plt.subplot(212)\n",
      "plt.plot(datestemp, temperature.data.values)\n",
      "plt.xlim((xmin, xmax))\n",
      "plt.ylabel(u\"$\\mathrm{Temperature\\ [K]}$\")\n",
      "plt.xlabel(u\"$\\mathrm{Date\\ [h:min:s]}$\")\n",
      "plt.grid(\"on\")\n",
      "fig.autofmt_xdate()"
     ],
     "language": "python",
     "metadata": {},
     "outputs": []
    },
    {
     "cell_type": "code",
     "collapsed": false,
     "input": [
      "fig = plt.figure(1, figsize=(16,12))\n",
      "ax = axes()\n",
      "plt.plot([1,2])\n",
      "ax.invert_xaxis()"
     ],
     "language": "python",
     "metadata": {},
     "outputs": [],
     "prompt_number": 63
    },
    {
     "cell_type": "code",
     "collapsed": false,
     "input": [
      "print type(offset.data.index.values[0]), type(offset.data.values[0])\n",
      "print type(dates[0]), type(y[0])"
     ],
     "language": "python",
     "metadata": {},
     "outputs": [
      {
       "output_type": "stream",
       "stream": "stdout",
       "text": [
        "<type 'float'> <type 'numpy.float64'>\n",
        "<type 'numpy.float64'> <type 'numpy.float64'>\n"
       ]
      }
     ],
     "prompt_number": 36
    },
    {
     "cell_type": "code",
     "collapsed": false,
     "input": [
      "cd Desktop/"
     ],
     "language": "python",
     "metadata": {},
     "outputs": [
      {
       "output_type": "stream",
       "stream": "stdout",
       "text": [
        "C:\\Users\\Remi\\Desktop\n"
       ]
      }
     ],
     "prompt_number": 47
    },
    {
     "cell_type": "code",
     "collapsed": false,
     "input": [
      "ax"
     ],
     "language": "python",
     "metadata": {},
     "outputs": [
      {
       "metadata": {},
       "output_type": "pyout",
       "prompt_number": 33,
       "text": [
        "<matplotlib.axes.AxesSubplot at 0x158329f0>"
       ]
      }
     ],
     "prompt_number": 33
    },
    {
     "cell_type": "code",
     "collapsed": false,
     "input": [],
     "language": "python",
     "metadata": {},
     "outputs": []
    }
   ],
   "metadata": {}
  }
 ]
}