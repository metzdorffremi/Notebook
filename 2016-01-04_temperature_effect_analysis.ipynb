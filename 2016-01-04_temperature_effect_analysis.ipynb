{
 "metadata": {
  "name": "",
  "signature": "sha256:5091599b36ed3d8a0d198f60a6584dcaea89eb91553a58affe51b129127dbf50"
 },
 "nbformat": 3,
 "nbformat_minor": 0,
 "worksheets": [
  {
   "cells": [
    {
     "cell_type": "code",
     "collapsed": false,
     "input": [
      "from pyinstruments import CurveDB\n",
      "import pandas\n",
      "import time\n",
      "import datetime\n",
      "from users.remi import losses2 as losses\n",
      "from pyinstruments.pyhardwaredb import instrument\n",
      "from pyinstruments.datalogger import models\n",
      "import gc\n",
      "import matplotlib.pyplot as plt\n",
      "\n",
      "analyze_constants  = dict(pk=225043)\n",
      "scan = losses.FullScan(analyze_constants[\"pk\"])\n",
      "\n",
      "def datetime_to_time(datetime):\n",
      "    return time.mktime(datetime.timetuple())\n",
      "\n",
      "def time_to_datetime(time):\n",
      "    return datetime.datetime.fromtimestamp(time)\n",
      "\n",
      "def plot(data):\n",
      "    df = pandas.DataFrame(data)\n",
      "    df.plot(style ='k.')"
     ],
     "language": "python",
     "metadata": {},
     "outputs": [],
     "prompt_number": 3
    },
    {
     "cell_type": "code",
     "collapsed": false,
     "input": [
      "scan.find_pzt_params()"
     ],
     "language": "python",
     "metadata": {},
     "outputs": [
      {
       "output_type": "stream",
       "stream": "stdout",
       "text": [
        "losses.FullScan.find_pzt_params\n",
        "losses.FullScan._visual_control_find_pzt_params"
       ]
      },
      {
       "output_type": "stream",
       "stream": "stdout",
       "text": [
        "\n",
        "losses.FullSCAN._params_pzt\n"
       ]
      },
      {
       "metadata": {},
       "output_type": "pyout",
       "prompt_number": 4,
       "text": [
        "array([  2.00000000e+00,   5.65591618e-01,   1.65976266e-03,\n",
        "         3.09656033e-03,   1.07453833e-04,  -3.37328630e-01,\n",
        "        -4.75766592e-01,   4.30993871e-01,  -2.96476134e-01])"
       ]
      }
     ],
     "prompt_number": 4
    },
    {
     "cell_type": "code",
     "collapsed": false,
     "input": [
      "cd Desktop/"
     ],
     "language": "python",
     "metadata": {},
     "outputs": [
      {
       "output_type": "stream",
       "stream": "stdout",
       "text": [
        "C:\\Users\\Remi\\Desktop\n"
       ]
      }
     ],
     "prompt_number": 3
    },
    {
     "cell_type": "code",
     "collapsed": false,
     "input": [
      "name = \"visual_control_pzt_params_\" + str(analyze_constants[\"pk\"]) + \".pdf\"\n",
      "scan._visual_control_find_pzt_params(name)"
     ],
     "language": "python",
     "metadata": {},
     "outputs": [
      {
       "output_type": "stream",
       "stream": "stdout",
       "text": [
        "losses.FullScan._visual_control_find_pzt_params\n",
        "losses.FullSCAN._params_pzt\n"
       ]
      }
     ],
     "prompt_number": 5
    },
    {
     "cell_type": "code",
     "collapsed": false,
     "input": [
      "scan._update_offset"
     ],
     "language": "python",
     "metadata": {},
     "outputs": []
    },
    {
     "cell_type": "code",
     "collapsed": false,
     "input": [
      "date = scan.fsrs[0].curve.date\n",
      "\n",
      "pzt_offsets = scan.collect_param_fsr(\"pzt_offset\")\n",
      "dates = scan.collect_param_fsr(\"date\")\n",
      "for i in range(len(pzt_offsets)-1):\n",
      "    if pzt_offsets[i+1]-pzt_offsets[i]<-0.5:\n",
      "        pzt_offsets[i+1] += 1\n",
      "    elif pzt_offsets[i+1]-pzt_offsets[i]>0.5:\n",
      "        pzt_offsets[i+1] -=1\n",
      "\n",
      "times = []\n",
      "for date in dates:\n",
      "    times.append(datetime_to_time(date))\n",
      "plt.plot(times, pzt_offsets,'+')"
     ],
     "language": "python",
     "metadata": {},
     "outputs": [
      {
       "metadata": {},
       "output_type": "pyout",
       "prompt_number": 2,
       "text": [
        "[<matplotlib.lines.Line2D at 0x16767c90>]"
       ]
      }
     ],
     "prompt_number": 2
    },
    {
     "cell_type": "code",
     "collapsed": false,
     "input": [
      "c = CurveDB.create(times,array(pzt_offsets)*1066e-9/2.)\n",
      "c.name = \"pzt_offset_vs_time\"\n",
      "c.save()"
     ],
     "language": "python",
     "metadata": {},
     "outputs": [],
     "prompt_number": 55
    },
    {
     "cell_type": "code",
     "collapsed": false,
     "input": [
      "c = CurveDB()\n",
      "c.name = str(scan.curve.pk) + \"_analysis_\" + scan.curve.name\n",
      "c.save()"
     ],
     "language": "python",
     "metadata": {},
     "outputs": [],
     "prompt_number": 51
    },
    {
     "cell_type": "code",
     "collapsed": false,
     "input": [
      "temperature = CurveDB.objects.get(pk=230335)\n",
      "offset = CurveDB.objects.get(pk=230340)\n",
      "datesoffset = scan.collect_param_fsr(\"date\")\n",
      "datestemp = []\n",
      "for x in temperature.data.index.values:\n",
      "    datestemp.append(time_to_datetime(x))\n",
      "\n",
      "start = scan.fsrs[0].curve.date\n",
      "\n",
      "xmin = datesoffset[0]\n",
      "xmax = datesoffset[-1]\n",
      "\n",
      "fig = plt.figure(1)\n",
      "plt.subplot(211)\n",
      "\n",
      "plt.plot(datesoffset, offset.data.values*1.e9)\n",
      "plt.xlim((xmin, xmax))\n",
      "plt.ylabel(u\"$\\mathrm{Cavity\\ length\\ variation\\ [nm]}$\")\n",
      "plt.grid(\"on\")\n",
      "fig.autofmt_xdate()\n",
      "plt.title(start)\n",
      "\n",
      "\n",
      "plt.subplot(212)\n",
      "plt.plot(datestemp, temperature.data.values)\n",
      "plt.xlim((xmin, xmax))\n",
      "plt.ylabel(u\"$\\mathrm{Temperature\\ [K]}$\")\n",
      "plt.xlabel(u\"$\\mathrm{Date\\ [h:min:s]}$\")\n",
      "plt.grid(\"on\")\n",
      "fig.autofmt_xdate()"
     ],
     "language": "python",
     "metadata": {},
     "outputs": [],
     "prompt_number": 76
    },
    {
     "cell_type": "code",
     "collapsed": false,
     "input": [
      "fig = plt.figure(1, figsize=(16,12))\n",
      "ax = axes()\n",
      "plt.plot([1,2])\n",
      "ax.invert_xaxis()"
     ],
     "language": "python",
     "metadata": {},
     "outputs": [],
     "prompt_number": 63
    },
    {
     "cell_type": "code",
     "collapsed": false,
     "input": [
      "print type(offset.data.index.values[0]), type(offset.data.values[0])\n",
      "print type(dates[0]), type(y[0])"
     ],
     "language": "python",
     "metadata": {},
     "outputs": [
      {
       "output_type": "stream",
       "stream": "stdout",
       "text": [
        "<type 'float'> <type 'numpy.float64'>\n",
        "<type 'numpy.float64'> <type 'numpy.float64'>\n"
       ]
      }
     ],
     "prompt_number": 36
    },
    {
     "cell_type": "code",
     "collapsed": false,
     "input": [
      "cd Desktop/"
     ],
     "language": "python",
     "metadata": {},
     "outputs": [
      {
       "output_type": "stream",
       "stream": "stdout",
       "text": [
        "C:\\Users\\Remi\\Desktop\n"
       ]
      }
     ],
     "prompt_number": 47
    },
    {
     "cell_type": "code",
     "collapsed": false,
     "input": [
      "ax"
     ],
     "language": "python",
     "metadata": {},
     "outputs": [
      {
       "metadata": {},
       "output_type": "pyout",
       "prompt_number": 33,
       "text": [
        "<matplotlib.axes.AxesSubplot at 0x158329f0>"
       ]
      }
     ],
     "prompt_number": 33
    },
    {
     "cell_type": "code",
     "collapsed": false,
     "input": [],
     "language": "python",
     "metadata": {},
     "outputs": []
    }
   ],
   "metadata": {}
  }
 ]
}