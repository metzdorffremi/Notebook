{
 "metadata": {
  "name": "",
  "signature": "sha256:1d954a5c6c045f9d9460dd140008de7d3acc5c30522be7b0b42df2755eb33d38"
 },
 "nbformat": 3,
 "nbformat_minor": 0,
 "worksheets": [
  {
   "cells": [
    {
     "cell_type": "code",
     "collapsed": false,
     "input": [
      "import numpy as np\n",
      "import matplotlib.pyplot as plt\n",
      "\n",
      "def cavity_waist(R, length):\n",
      "    squared_waist = (wavelength/np.pi) * np.sqrt(length*(R-length))\n",
      "    return np.sqrt(squared_waist)\n",
      "\n",
      "def waist(w0, z):\n",
      "    zR = np.pi * w0**2 / wavelength\n",
      "    return w0 * np.sqrt(1+z**2/zR**2)\n",
      "\n",
      "def losses(z, D):\n",
      "    w0 = cavity_waist(R, z)\n",
      "    w = waist(w0, z)\n",
      "    factor = -2 * (D/2)**2 / w**2\n",
      "    return np.exp(factor)\n",
      "\n",
      "wavelength = 1066.e-9"
     ],
     "language": "python",
     "metadata": {},
     "outputs": [],
     "prompt_number": 1
    },
    {
     "cell_type": "code",
     "collapsed": false,
     "input": [
      "R = 1200.e-6\n",
      "D = 100.e-6\n",
      "z = np.linspace(1e-6,R-1e-6,10000)\n",
      "\n",
      "for D in np.arange(100, 150, 10)*1e-6:#[100e-6,110e-6,120e-6,130e-6,140e-6,150e-6]:\n",
      "    scale = 1.\n",
      "    plt.figure(1, figsize=(8*scale,6*scale))\n",
      "    plt.plot(z*1e6, losses(z, D)*1e6, label=\"$\\mathrm{Pertes}$\")\n",
      "    plt.plot(z*1e6, waist(cavity_waist(R, z), z)*1e6, ':' ,label=\"$\\mathrm{Rayon\\ du\\ faisceau sur\\ le\\ miroir\\ concave}$\")\n",
      "    plt.ylim(0,100)\n",
      "    plt.ylabel(\"$\\mathrm{Pertes\\ [ppm]}$\")\n",
      "    plt.xlabel(r\"$\\mathrm{Longueur\\ de\\ la\\ cavit\\'e\\ [\\mu m]}$\")\n",
      "#legend(loc=\"upper left\""
     ],
     "language": "python",
     "metadata": {},
     "outputs": [],
     "prompt_number": 26
    },
    {
     "cell_type": "code",
     "collapsed": false,
     "input": [
      "z = np.linspace(1e-6,R-1e-6,1000)\n",
      "\n",
      "scale = 0.75\n",
      "fig = plt.figure(2, figsize=(8*scale,6*scale))\n",
      "plt.clf()\n",
      "ax1 = plt.subplot2grid((1,1), (0,0))\n",
      "ax1.plot(z*1e6, cavity_waist(R, z)*1e6, 'b-', label=\"$\\mathrm{Plane\\ mirror}$\")\n",
      "ax1.plot(z*1e6, waist(cavity_waist(R, z), z)*1e6, 'g-', label=\"$\\mathrm{Coupling\\ mirror}$\")\n",
      "ax1.set_xlabel(r\"$\\mathrm{Cavity\\ length\\ (\\mu m)}$\")\n",
      "ax1.set_ylabel(\"$\\mathrm{Beam\\ waist\\ (\\mu m)}$\")\n",
      "plt.legend(loc='upper left')\n",
      "plt.grid('on')\n",
      "\n",
      "ax2 = ax1.twinx()\n",
      "ax2.plot(z*1e6, losses(z, 120e-6)*1e6, 'r-', label=\"$\\mathrm{Losses}$\")\n",
      "ax2.set_ylabel(\"$\\mathrm{Losses\\ (ppm)}$\")\n",
      "ax2.set_ylim(0,100)\n",
      "\n",
      "plt.legend(loc='upper right')\n",
      "\n",
      "plt.savefig(\"beam_size.png\", bbox_inches='tight')"
     ],
     "language": "python",
     "metadata": {},
     "outputs": [],
     "prompt_number": 50
    },
    {
     "cell_type": "code",
     "collapsed": false,
     "input": [],
     "language": "python",
     "metadata": {},
     "outputs": [],
     "prompt_number": 19
    },
    {
     "cell_type": "code",
     "collapsed": false,
     "input": [
      "cd Desktop/"
     ],
     "language": "python",
     "metadata": {},
     "outputs": [
      {
       "output_type": "stream",
       "stream": "stdout",
       "text": [
        "C:\\Users\\remi\\Desktop\n"
       ]
      }
     ],
     "prompt_number": 13
    }
   ],
   "metadata": {}
  }
 ]
}