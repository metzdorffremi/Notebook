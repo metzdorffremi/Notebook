{
 "metadata": {
  "name": "",
  "signature": "sha256:4c6303bec18d7d95f3b2a3e9df7b19c593eff64276f3ff0811f59a6db9f0d88e"
 },
 "nbformat": 3,
 "nbformat_minor": 0,
 "worksheets": [
  {
   "cells": [
    {
     "cell_type": "code",
     "collapsed": false,
     "input": [
      "import numpy as np\n",
      "import matplotlib.pyplot as plt\n",
      "\n",
      "def lorentz(params, x):\n",
      "    width, x0 = params\n",
      "    scale = 2. / (np.pi * width)\n",
      "    return scale / (1 + (2*(x-x0)/width)**2)"
     ],
     "language": "python",
     "metadata": {},
     "outputs": [],
     "prompt_number": 2
    },
    {
     "cell_type": "code",
     "collapsed": false,
     "input": [
      "##########Pillar###########\n",
      "\n",
      "N = 1e4\n",
      "x = np.arange(N/4, N)*10e6/N\n",
      "arrow_args = dict(arrowstyle=\"->\")\n",
      "\n",
      "scale = 0.3\n",
      "fig = plt.figure(1, figsize=(scale*8,scale*6))\n",
      "fig.clf()\n",
      "ax = plt.subplot2grid((1,1), (0,0))\n",
      "ax.plot([x[0], x[-1]], [2e-11, 2e-11], color=\"blue\")\n",
      "ax.plot(x, lorentz([1e2, 4e6], x), color=\"red\")\n",
      "ax.plot(x, lorentz([1e2, 4e6], x)+2e-11, \"--\", color=\"grey\")\n",
      "plt.xscale('log')\n",
      "plt.yscale('log')\n",
      "plt.xlim((x[0], x[-1]))\n",
      "plt.xlabel(u\"$\\omega$\")\n",
      "plt.ylabel(u\"$\\mathrm{Displacement}$\")\n",
      "ax.set_yticks([])\n",
      "ax.set_xticks([])\n",
      "ax.annotate(u\"$\\omega_{res} = 4\\ \\mathrm{MHz}$\", xy=(4e6, 1e-3), xytext=(4.9e6, 4e-4))\n",
      "ax.annotate(u\"$\\mathrm{\\omega_{SQL1}}$\", xy=(3.1e6, 2e-11), xytext=(3.1e6, 2e-13), arrowprops=arrow_args)\n",
      "ax.annotate(u\"$\\mathrm{\\omega_{SQL2}}$\", xy=(4.9e6, 2e-11), xytext=(4.9e6, 2e-13), arrowprops=arrow_args)\n",
      "plt.savefig(\"pillar_displacement.png\", bbox_inches=\"tight\")"
     ],
     "language": "python",
     "metadata": {},
     "outputs": [],
     "prompt_number": 168
    },
    {
     "cell_type": "code",
     "collapsed": false,
     "input": [
      "##########Virgo##########\n",
      "\n",
      "N = 1e4\n",
      "x = np.arange(1,N)*1e5/N\n",
      "arrow_args = dict(arrowstyle=\"->\")\n",
      "\n",
      "scale = 0.3\n",
      "#scale = 1\n",
      "fig = plt.figure(1, figsize=(scale*8,scale*6))\n",
      "fig.clf()\n",
      "ax = plt.subplot2grid((1,1), (0,0))\n",
      "ax.plot([x[0], x[-1]], [2e-11, 2e-11], color=\"blue\")\n",
      "ax.plot(x, lorentz([1e-4, 10], x), color=\"red\")\n",
      "ax.plot(x, lorentz([1e-4, 10], x)+2e-11, \"--\", color=\"grey\")\n",
      "plt.xscale('log')\n",
      "plt.yscale('log')\n",
      "plt.xlim((1e2, 1e5))\n",
      "plt.ylim((1e-11, 2e-9))\n",
      "plt.xlabel(u\"$\\omega$\")\n",
      "plt.ylabel(u\"$\\mathrm{Displacement}$\")\n",
      "ax.set_yticks([])\n",
      "ax.set_xticks([])\n",
      "ax.annotate(u\"$\\omega_{res} \\sim 10\\ \\mathrm{Hz}$\", xy=(9e2, 1e-9), xytext=(4e3, 1e-9))\n",
      "ax.annotate(u\"$\\omega_{SQL}$\", xy=(890, 2e-11), xytext=(1.2e2, 5e-11), arrowprops=arrow_args)\n",
      "plt.savefig(\"virgo_displacement.png\", bbox_inches=\"tight\")\n"
     ],
     "language": "python",
     "metadata": {},
     "outputs": [],
     "prompt_number": 169
    },
    {
     "cell_type": "code",
     "collapsed": false,
     "input": [],
     "language": "python",
     "metadata": {},
     "outputs": [],
     "prompt_number": 114
    },
    {
     "cell_type": "code",
     "collapsed": false,
     "input": [],
     "language": "python",
     "metadata": {},
     "outputs": []
    }
   ],
   "metadata": {}
  }
 ]
}