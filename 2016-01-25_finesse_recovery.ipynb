{
 "metadata": {
  "name": "",
  "signature": "sha256:d695fdf8dffe940a90b85d09d9136dbc59c338546b068c3f084a8998af1d061e"
 },
 "nbformat": 3,
 "nbformat_minor": 0,
 "worksheets": [
  {
   "cells": [
    {
     "cell_type": "code",
     "collapsed": false,
     "input": [
      "s.closeProperly()"
     ],
     "language": "python",
     "metadata": {},
     "outputs": [
      {
       "output_type": "stream",
       "stream": "stdout",
       "text": [
        "Saved position: 22901\n"
       ]
      }
     ],
     "prompt_number": 10
    },
    {
     "cell_type": "code",
     "collapsed": false,
     "input": [
      "from stepper import Stepper\n",
      "from time import sleep\n",
      "from pyinstruments import CurveDB\n",
      "import pandas\n",
      "from users.remi import losses2 as losses\n",
      "from pyinstruments.pyhardwaredb import instrument\n",
      "import gc\n",
      "\n",
      "constants = losses.CONSTANTS_REMI_PILLAR\n",
      "acquisition = losses.Acquisition()\n",
      "acquisition_constants  = dict(name=\"razor blade in\",\n",
      "                             stepmax=23900,\n",
      "                             N=1000,\n",
      "                             step=1,\n",
      "                             sleeptime=2,\n",
      "                             primarygrad=7.,\n",
      "                             secondarygrad = 49.,\n",
      "                             verniergrad = 5.\n",
      "                             )"
     ],
     "language": "python",
     "metadata": {},
     "outputs": [],
     "prompt_number": 1
    },
    {
     "cell_type": "code",
     "collapsed": false,
     "input": [
      "s = Stepper()"
     ],
     "language": "python",
     "metadata": {},
     "outputs": [],
     "prompt_number": 2
    },
    {
     "cell_type": "code",
     "collapsed": false,
     "input": [
      "s.position()"
     ],
     "language": "python",
     "metadata": {},
     "outputs": [
      {
       "output_type": "stream",
       "stream": "stdout",
       "text": [
        "I'm at step: 22901\n",
        "Distance to reference point: 14313.125 um\n"
       ]
      },
      {
       "metadata": {},
       "output_type": "pyout",
       "prompt_number": 3,
       "text": [
        "22901"
       ]
      }
     ],
     "prompt_number": 3
    },
    {
     "cell_type": "code",
     "collapsed": false,
     "input": [
      "s.goToStepN(23900)"
     ],
     "language": "python",
     "metadata": {},
     "outputs": [
      {
       "metadata": {},
       "output_type": "pyout",
       "prompt_number": 7,
       "text": [
        "True"
       ]
      }
     ],
     "prompt_number": 7
    },
    {
     "cell_type": "code",
     "collapsed": false,
     "input": [
      "s.goToStepN(acquisition_constants[\"stepmax\"])\n",
      "current_pos = s.quiet_position()\n",
      "razorpos = (acquisition_constants[\"primarygrad\"]*1e-3\n",
      "            + acquisition_constants[\"secondarygrad\"]*1e-5\n",
      "            + acquisition_constants[\"verniergrad\"]*1e-6)\n",
      "\n",
      "parent = CurveDB()\n",
      "parent.name = acquisition_constants[\"name\"]+\" @ \"+str(razorpos*1e6)+u\"\u00b5m\"\n",
      "parent.params[\"comment\"] = (\"razor blade position:\\n\"\n",
      "                            +\"primary graduation\\t= %2.1f\\n\"%(acquisition_constants[\"primarygrad\"])\n",
      "                            +\"secondary graduation\\t= %2g\\n\"%(acquisition_constants[\"secondarygrad\"])\n",
      "                            +\"vernier graduation\\t= %2g\\n\\n\"%(acquisition_constants[\"verniergrad\"])\n",
      "                            +u\"razor blade position\\t= %4g \u00b5m\"%(razorpos*1e6))\n",
      "parent.params[\"razorpos\"] = razorpos\n",
      "parent.save()\n",
      "\n",
      "for i in range(0,acquisition_constants[\"N\"]):\n",
      "    s.goToStepN(acquisition_constants[\"stepmax\"]-acquisition_constants[\"step\"]*i)\n",
      "    sleep(acquisition_constants[\"sleeptime\"])\n",
      "    current_pos = s.quiet_position()\n",
      "    print 'iteration:', \"%4g\"%(i), '@ step:', current_pos\n",
      "    current_pk = acquisition.acquire(\"finesse_vs_length_\" + str(current_pos), current_pos)\n",
      "    c = CurveDB.objects.get(pk=current_pk)\n",
      "    c.params[\"stepper_pos\"] = current_pos\n",
      "    c.save()\n",
      "    parent.add_child(c)\n",
      "    gc.collect()"
     ],
     "language": "python",
     "metadata": {},
     "outputs": []
    },
    {
     "cell_type": "code",
     "collapsed": false,
     "input": [],
     "language": "python",
     "metadata": {},
     "outputs": []
    }
   ],
   "metadata": {}
  }
 ]
}