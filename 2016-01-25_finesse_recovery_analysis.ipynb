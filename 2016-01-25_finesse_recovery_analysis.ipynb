{
 "metadata": {
  "name": "",
  "signature": "sha256:05ce82916a9a4e004eb648934908a5373cd5b45b3d32e7221963c928182106a7"
 },
 "nbformat": 3,
 "nbformat_minor": 0,
 "worksheets": [
  {
   "cells": [
    {
     "cell_type": "code",
     "collapsed": false,
     "input": [
      "from pyinstruments import CurveDB\n",
      "import pandas\n",
      "from users.remi import losses2 as losses\n",
      "from pyinstruments.pyhardwaredb import instrument\n",
      "import gc\n",
      "\n",
      "analyze_constants_248032 = dict(pk=248032, start_pk=0, stop_pk=249370, razor_pos=None, name=\"control\") #control\n",
      "analyze_constants_258863 = dict(pk=258863, start_pk=0, stop_pk=260192, razor_pos=7510., name=\"razor\\ blade\\ in\\ at\\ \") #razor blade in @ 7510.0\u00b5m\n",
      "analyze_constants_260926 = dict(pk=260926, start_pk=0, stop_pk=262250, razor_pos=7500., name=\"razor\\ blade\\ in\\ at\\ \")#262925) #razor blade in @ 7500.0\u00b5m\n",
      "analyze_constants_262927 = dict(pk=262927, start_pk=0, stop_pk=273086, razor_pos=7495., name=\"razor\\ blade\\ in\\ at\\ \")#273792) #razor blade in @ 7495.0\u00b5m\n",
      "\n",
      "analyze_constants = analyze_constants_248032\n",
      "analyzis = [analyze_constants_248032, analyze_constants_258863, analyze_constants_260926, analyze_constants_262927]\n",
      "scan = losses.FullScan(analyze_constants[\"pk\"], start_pk=analyze_constants[\"start_pk\"], stop_pk=analyze_constants[\"stop_pk\"])\n",
      "print len(scan.fsrs)"
     ],
     "language": "python",
     "metadata": {},
     "outputs": [
      {
       "output_type": "stream",
       "stream": "stdout",
       "text": [
        "669\n"
       ]
      }
     ],
     "prompt_number": 1
    },
    {
     "cell_type": "code",
     "collapsed": false,
     "input": [
      "for fsr in scan.fsrs:\n",
      "    fsr.curve.params[\"peakthreshold\"] = 0.6\n",
      "    fsr.curve.save()"
     ],
     "language": "python",
     "metadata": {},
     "outputs": [],
     "prompt_number": 2
    },
    {
     "cell_type": "code",
     "collapsed": false,
     "input": [
      "scan.find_pzt_params()"
     ],
     "language": "python",
     "metadata": {},
     "outputs": []
    },
    {
     "cell_type": "code",
     "collapsed": false,
     "input": [
      "%debug"
     ],
     "language": "python",
     "metadata": {},
     "outputs": []
    },
    {
     "cell_type": "code",
     "collapsed": false,
     "input": [
      "scan.curve.params[\"offset_length\"] = 210e-6\n",
      "scan.curve.save()"
     ],
     "language": "python",
     "metadata": {},
     "outputs": [],
     "prompt_number": 3
    },
    {
     "cell_type": "code",
     "collapsed": false,
     "input": [
      "scan._update_cavity_length()"
     ],
     "language": "python",
     "metadata": {},
     "outputs": []
    },
    {
     "cell_type": "code",
     "collapsed": false,
     "input": [
      "scan._update_bandwidth()"
     ],
     "language": "python",
     "metadata": {},
     "outputs": []
    },
    {
     "cell_type": "code",
     "collapsed": false,
     "input": [
      "scan.losses_vs_length_tot()"
     ],
     "language": "python",
     "metadata": {},
     "outputs": [],
     "prompt_number": 9
    },
    {
     "cell_type": "code",
     "collapsed": false,
     "input": [
      "scan.losses_vs_length()"
     ],
     "language": "python",
     "metadata": {},
     "outputs": [
      {
       "output_type": "stream",
       "stream": "stderr",
       "text": [
        "C:\\Python27\\lib\\site-packages\\numpy\\core\\_methods.py:55: RuntimeWarning: Mean of empty slice.\n",
        "  warnings.warn(\"Mean of empty slice.\", RuntimeWarning)\n",
        "\n"
       ]
      },
      {
       "output_type": "stream",
       "stream": "stderr",
       "text": [
        "WARNING:py.warnings:C:\\Python27\\lib\\site-packages\\numpy\\core\\_methods.py:55: RuntimeWarning: Mean of empty slice.\n",
        "  warnings.warn(\"Mean of empty slice.\", RuntimeWarning)\n",
        "\n"
       ]
      }
     ],
     "prompt_number": 4
    },
    {
     "cell_type": "code",
     "collapsed": false,
     "input": [
      "scan.losses_vs_step()"
     ],
     "language": "python",
     "metadata": {},
     "outputs": [],
     "prompt_number": 5
    },
    {
     "cell_type": "code",
     "collapsed": false,
     "input": [
      "cd Desktop"
     ],
     "language": "python",
     "metadata": {},
     "outputs": [
      {
       "output_type": "stream",
       "stream": "stdout",
       "text": [
        "C:\\Users\\Remi\\Desktop\n"
       ]
      }
     ],
     "prompt_number": 3
    },
    {
     "cell_type": "code",
     "collapsed": false,
     "input": [
      "for analyze_constants in analyzis:\n",
      "    scan = losses.FullScan(analyze_constants[\"pk\"], start_pk=analyze_constants[\"start_pk\"], stop_pk=analyze_constants[\"stop_pk\"])\n",
      "    print analyze_constants['razor_pos']\n",
      "    title = u\"$\\mathrm{\"+analyze_constants[\"name\"]\n",
      "    if analyze_constants[\"razor_pos\"]is not None:\n",
      "        title = title+str(analyze_constants[\"razor_pos\"])+u\"\\mu m\"\n",
      "    title += \"}$\"\n",
      "    filename = str(analyze_constants[\"razor_pos\"])+\".png\"\n",
      "\n",
      "    scan.losses_vs_length(scale=0.75, title=title, filename=filename)"
     ],
     "language": "python",
     "metadata": {},
     "outputs": [
      {
       "output_type": "stream",
       "stream": "stderr",
       "text": [
        "C:\\Python27\\lib\\site-packages\\numpy\\core\\_methods.py:55: RuntimeWarning: Mean of empty slice.\n",
        "  warnings.warn(\"Mean of empty slice.\", RuntimeWarning)\n",
        "\n"
       ]
      },
      {
       "output_type": "stream",
       "stream": "stderr",
       "text": [
        "WARNING:py.warnings:C:\\Python27\\lib\\site-packages\\numpy\\core\\_methods.py:55: RuntimeWarning: Mean of empty slice.\n",
        "  warnings.warn(\"Mean of empty slice.\", RuntimeWarning)\n",
        "\n"
       ]
      },
      {
       "output_type": "stream",
       "stream": "stdout",
       "text": [
        "None\n",
        "7510.0"
       ]
      },
      {
       "output_type": "stream",
       "stream": "stdout",
       "text": [
        "\n",
        "7500.0"
       ]
      },
      {
       "output_type": "stream",
       "stream": "stdout",
       "text": [
        "\n",
        "7495.0"
       ]
      },
      {
       "output_type": "stream",
       "stream": "stdout",
       "text": [
        "\n"
       ]
      }
     ],
     "prompt_number": 4
    },
    {
     "cell_type": "code",
     "collapsed": false,
     "input": [
      "relbandwidth = scan.collect_params_fitpeak(\"relative_bandwidth\")\n",
      "length = scan.collect_param_peak(\"length\")\n",
      "step = scan.collect_param_peak(\"stepper_pos\")\n",
      "#plot(np.array(length)*1e6, relbandwidth, '+')\n",
      "#plot(step, relbandwidth, '+')"
     ],
     "language": "python",
     "metadata": {},
     "outputs": [],
     "prompt_number": 18
    },
    {
     "cell_type": "code",
     "collapsed": false,
     "input": [
      "for fsr in scan.fsrs:\n",
      "    #fsr.clear_all()\n",
      "    fsr.curve.params[\"fit_type\"] = \"lorentzSB_rebonds_asymm\" ; fsr.curve.save()"
     ],
     "language": "python",
     "metadata": {},
     "outputs": [
      {
       "metadata": {},
       "output_type": "pyout",
       "prompt_number": 19,
       "text": [
        "[<matplotlib.lines.Line2D at 0x32fe61f0>]"
       ]
      }
     ],
     "prompt_number": 19
    },
    {
     "cell_type": "code",
     "collapsed": false,
     "input": [
      "for fsr in scan.fsrs:\n",
      "    fsr.clear_all()"
     ],
     "language": "python",
     "metadata": {},
     "outputs": []
    },
    {
     "cell_type": "code",
     "collapsed": false,
     "input": [
      "for fsr in scan.fsrs:\n",
      "    for peak in fsr.peaks:\n",
      "        peak.curve.params.pop(\"length\")\n",
      "        peak.curve.save()"
     ],
     "language": "python",
     "metadata": {},
     "outputs": [],
     "prompt_number": 4
    },
    {
     "cell_type": "code",
     "collapsed": false,
     "input": [
      "scan._visual_control_update_cavity_length"
     ],
     "language": "python",
     "metadata": {},
     "outputs": [],
     "prompt_number": 8
    },
    {
     "cell_type": "code",
     "collapsed": false,
     "input": [
      "plt.savefig(\"control_length.png\", bbox_inches=\"tight\")"
     ],
     "language": "python",
     "metadata": {},
     "outputs": [],
     "prompt_number": 9
    }
   ],
   "metadata": {}
  }
 ]
}