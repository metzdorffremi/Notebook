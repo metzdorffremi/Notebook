{
 "metadata": {
  "name": "",
  "signature": "sha256:82d5f69c2ea4daae79bec0e95f8e6fe23bb4979c0c166c3b3b7beffc22c36201"
 },
 "nbformat": 3,
 "nbformat_minor": 0,
 "worksheets": [
  {
   "cells": [
    {
     "cell_type": "code",
     "collapsed": false,
     "input": [
      "s.closeProperly()"
     ],
     "language": "python",
     "metadata": {},
     "outputs": [
      {
       "output_type": "stream",
       "stream": "stdout",
       "text": [
        "Saved position: 23251\n"
       ]
      }
     ],
     "prompt_number": 6
    },
    {
     "cell_type": "code",
     "collapsed": false,
     "input": [
      "from stepper import Stepper\n",
      "import time\n",
      "import datetime\n",
      "from pyinstruments import CurveDB\n",
      "import pandas\n",
      "from users.remi import losses2 as losses\n",
      "from pyinstruments.pyhardwaredb import instrument\n",
      "import gc\n",
      "\n",
      "constants = losses.CONSTANTS_REMI_PILLAR\n",
      "acquisition = losses.Acquisition()\n",
      "acquisition_constants  = dict(name=\"razor blade in\",\n",
      "                             stepmax=23900,\n",
      "                             N=650,\n",
      "                             step=1,\n",
      "                             sleeptime=2,\n",
      "                             primarygrad=7.5,\n",
      "                             secondarygrad = 0.,\n",
      "                             verniergrad = 0.,\n",
      "                             folderpk=328810\n",
      "                             )\n",
      "scope = instrument(\"Maitre_usb\")\n",
      "\n",
      "def datetime_to_time(datetime):\n",
      "    return time.mktime(datetime.timetuple())\n",
      "\n",
      "def time_to_datetime(time):\n",
      "    return datetime.datetime.fromtimestamp(time)\n",
      "\n",
      "def timer(startdate, delay=1):\n",
      "    \"\"\"wait to startdate and check every delay seconds\"\"\"\n",
      "    print \"scheduled start date:\", startdate\n",
      "\n",
      "    startdate = datetime_to_time(startdate)\n",
      "    date = time.time()\n",
      "    while date < startdate:\n",
      "        time.sleep(1)\n",
      "        date = time.time()"
     ],
     "language": "python",
     "metadata": {},
     "outputs": [],
     "prompt_number": 4
    },
    {
     "cell_type": "code",
     "collapsed": false,
     "input": [
      "s = Stepper()"
     ],
     "language": "python",
     "metadata": {},
     "outputs": [],
     "prompt_number": 2
    },
    {
     "cell_type": "code",
     "collapsed": false,
     "input": [
      "s.quiet_position()"
     ],
     "language": "python",
     "metadata": {},
     "outputs": [
      {
       "metadata": {},
       "output_type": "pyout",
       "prompt_number": 3,
       "text": [
        "23251"
       ]
      }
     ],
     "prompt_number": 3
    },
    {
     "cell_type": "code",
     "collapsed": false,
     "input": [
      "#Position to test blade effect: 23500\n",
      "# D\u00e9but du coupage des modes transverses \u00e0 7.5, 5., 0. environ\n",
      "\n",
      "s.goToStepN(23900)"
     ],
     "language": "python",
     "metadata": {},
     "outputs": [
      {
       "metadata": {},
       "output_type": "pyout",
       "prompt_number": 5,
       "text": [
        "True"
       ]
      }
     ],
     "prompt_number": 5
    },
    {
     "cell_type": "code",
     "collapsed": false,
     "input": [
      "s.goToStepN(acquisition_constants[\"stepmax\"])\n",
      "current_pos = s.quiet_position()\n",
      "razorpos = (acquisition_constants[\"primarygrad\"]*1e-3\n",
      "            + acquisition_constants[\"secondarygrad\"]*1e-5\n",
      "            + acquisition_constants[\"verniergrad\"]*1e-6)\n",
      "\n",
      "#timer\n",
      "#startdate = datetime.datetime(2016,2,9,6,15,0)\n",
      "#timer(startdate)\n",
      "\n",
      "parent = CurveDB()\n",
      "parent.name = acquisition_constants[\"name\"]+\" @ \"+str(razorpos*1e6)+u\"\u00b5m\"\n",
      "parent.params[\"comment\"] = (\"razor blade position:\\n\"\n",
      "                            +\"primary graduation\\t= %2.1f\\n\"%(acquisition_constants[\"primarygrad\"])\n",
      "                            +\"secondary graduation\\t= %2g\\n\"%(acquisition_constants[\"secondarygrad\"])\n",
      "                            +\"vernier graduation\\t= %2g\\n\\n\"%(acquisition_constants[\"verniergrad\"])\n",
      "                            +u\"razor blade position\\t= %4g \u00b5m\"%(razorpos*1e6))\n",
      "parent.params[\"razorpos\"] = razorpos\n",
      "parent.save()\n",
      "\n",
      "folder = CurveDB.objects.get(pk=acquisition_constants[\"folderpk\"])\n",
      "folder.add_child(parent)\n",
      "\n",
      "startdate= time.time()\n",
      "print \"START:\", time_to_datetime(startdate)\n",
      "print \"STOP :\", time_to_datetime(startdate + 2.*3600+22.*60)\n",
      "\n",
      "for i in range(1,acquisition_constants[\"N\"]):\n",
      "    scope.single()\n",
      "    time.sleep(1)\n",
      "    current_pos = s.quiet_position()\n",
      "    print 'iteration:', \"%4g\"%(i), '@ step:', current_pos\n",
      "\n",
      "    s.goToStepN(acquisition_constants[\"stepmax\"]-acquisition_constants[\"step\"]*i)\n",
      "\n",
      "    current_pk = acquisition.acquire(\"finesse_vs_length_\" + str(current_pos), current_pos)\n",
      "    c = CurveDB.objects.get(pk=current_pk)\n",
      "    c.params[\"stepper_pos\"] = current_pos\n",
      "    c.save()\n",
      "    parent.add_child(c)\n",
      "    gc.collect()\n",
      "scope.runstop()\n",
      "acqduration = time_to_datetime(time.time()-startdate)\n",
      "print \"acquition duration: %gh %gmin\"%(acqduration.hour, acqduration.minute)"
     ],
     "language": "python",
     "metadata": {},
     "outputs": [
      {
       "output_type": "stream",
       "stream": "stdout",
       "text": [
        "START: 2016-02-10 15:56:05.365000\n",
        "STOP : 2016-02-10 18:18:05.365000\n",
        "iteration:"
       ]
      },
      {
       "output_type": "stream",
       "stream": "stdout",
       "text": [
        "    1 @ step: 23900\n",
        "iteration:"
       ]
      },
      {
       "output_type": "stream",
       "stream": "stdout",
       "text": [
        "    2 @ step: 23899\n",
        "iteration:"
       ]
      },
      {
       "output_type": "stream",
       "stream": "stdout",
       "text": [
        "    3 @ step: 23898\n",
        "iteration:"
       ]
      },
      {
       "output_type": "stream",
       "stream": "stdout",
       "text": [
        "    4 @ step: 23897\n",
        "iteration:"
       ]
      },
      {
       "output_type": "stream",
       "stream": "stdout",
       "text": [
        "    5 @ step: 23896\n",
        "iteration:"
       ]
      }
     ]
    },
    {
     "cell_type": "code",
     "collapsed": false,
     "input": [],
     "language": "python",
     "metadata": {},
     "outputs": []
    }
   ],
   "metadata": {}
  }
 ]
}