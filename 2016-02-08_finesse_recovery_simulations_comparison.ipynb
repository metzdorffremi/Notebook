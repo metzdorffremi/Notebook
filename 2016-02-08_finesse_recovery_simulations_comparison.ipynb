{
 "metadata": {
  "name": "",
  "signature": "sha256:b4b3cae0ef6be7fec2f71ff0d7521e9335ceb743e422ed593317c868d3ac013c"
 },
 "nbformat": 3,
 "nbformat_minor": 0,
 "worksheets": [
  {
   "cells": [
    {
     "cell_type": "code",
     "collapsed": false,
     "input": [
      "from pyinstruments import CurveDB\n",
      "import pandas\n",
      "from users.remi import losses2 as losses\n",
      "from pyinstruments.pyhardwaredb import instrument\n",
      "import gc\n",
      "import time\n",
      "from matplotlib.colors import LogNorm\n",
      "\n",
      "razorpos_offset = 7456.e-6\n",
      "folder_pk = 328810\n",
      "folder = CurveDB.objects.get(pk=folder_pk)\n",
      "scans = folder.childs.all()\n",
      "\n",
      "n =11\n",
      "fitted_scans = scans[1:n+1]"
     ],
     "language": "python",
     "metadata": {},
     "outputs": [],
     "prompt_number": 2
    },
    {
     "cell_type": "code",
     "collapsed": false,
     "input": [
      "#Prepare data for map plot\n",
      "pertes = []\n",
      "lengths = []\n",
      "razors = []\n",
      "modes = []\n",
      "modeoffset = [0,1,0,1,1,0,0,1,0,0,0]\n",
      "for i, scan in enumerate(fitted_scans[0:]):\n",
      "    print scan\n",
      "    if scan.pk == 341813:\n",
      "        scan = losses.FullScan(scan.pk, stop_pk=342774)\n",
      "    else:\n",
      "        scan = losses.FullScan(scan.pk)\n",
      "    loss, length, mode = scan._average_losses_per_mode_number()\n",
      "    razor = scan.curve.params[\"razorpos\"] - razorpos_offset\n",
      "    pertes.append(loss)\n",
      "    lengths.append((np.array(length)+modeoffset[i]*1066e-9/2.)*1e6)\n",
      "    razors.append(np.array(razor)*1e6)\n",
      "    modes.append(np.array(mode)+modeoffset[i])\n",
      "\n",
      "Razors = []\n",
      "for i in range(len(razors)):\n",
      "    Razors.append([])\n",
      "    for j in range(len(lengths[i])):\n",
      "        Razors[-1].append(razors[i])"
     ],
     "language": "python",
     "metadata": {},
     "outputs": [
      {
       "output_type": "stream",
       "stream": "stderr",
       "text": [
        "C:\\Python27\\lib\\site-packages\\numpy\\core\\_methods.py:55: RuntimeWarning: Mean of empty slice.\n",
        "  warnings.warn(\"Mean of empty slice.\", RuntimeWarning)\n",
        "\n"
       ]
      },
      {
       "output_type": "stream",
       "stream": "stderr",
       "text": [
        "WARNING:py.warnings:C:\\Python27\\lib\\site-packages\\numpy\\core\\_methods.py:55: RuntimeWarning: Mean of empty slice.\n",
        "  warnings.warn(\"Mean of empty slice.\", RuntimeWarning)\n",
        "\n"
       ]
      },
      {
       "output_type": "stream",
       "stream": "stdout",
       "text": [
        "razor blade in @ 7530.0\u00b5m\n",
        "razor blade in @ 7525.0\u00b5m"
       ]
      },
      {
       "output_type": "stream",
       "stream": "stdout",
       "text": [
        "\n",
        "razor blade in @ 7520.0\u00b5m"
       ]
      },
      {
       "output_type": "stream",
       "stream": "stdout",
       "text": [
        "\n",
        "razor blade in @ 7515.0\u00b5m"
       ]
      },
      {
       "output_type": "stream",
       "stream": "stdout",
       "text": [
        "\n",
        "razor blade in @ 7510.0\u00b5m"
       ]
      },
      {
       "output_type": "stream",
       "stream": "stdout",
       "text": [
        "\n",
        "razor blade in @ 7505.0\u00b5m"
       ]
      },
      {
       "output_type": "stream",
       "stream": "stdout",
       "text": [
        "\n",
        "razor blade in @ 7500.0\u00b5m"
       ]
      },
      {
       "output_type": "stream",
       "stream": "stdout",
       "text": [
        "\n",
        "razor blade in @ 7495.0\u00b5m"
       ]
      },
      {
       "output_type": "stream",
       "stream": "stdout",
       "text": [
        "\n",
        "razor blade in @ 7490.0\u00b5m"
       ]
      },
      {
       "output_type": "stream",
       "stream": "stdout",
       "text": [
        "\n",
        "razor blade in @ 7485.0\u00b5m"
       ]
      },
      {
       "output_type": "stream",
       "stream": "stdout",
       "text": [
        "\n",
        "razor blade in @ 7480.0\u00b5m"
       ]
      },
      {
       "output_type": "stream",
       "stream": "stdout",
       "text": [
        "\n"
       ]
      }
     ],
     "prompt_number": 3
    },
    {
     "cell_type": "code",
     "collapsed": false,
     "input": [
      "cd D"
     ],
     "language": "python",
     "metadata": {},
     "outputs": [
      {
       "output_type": "stream",
       "stream": "stdout",
       "text": [
        "C:\\Users\\Remi\n"
       ]
      }
     ],
     "prompt_number": 5
    },
    {
     "cell_type": "code",
     "collapsed": false,
     "input": [
      "#simulation\n",
      "\n",
      "filename = \"Downloads/OSCAR_SIM.txt\"\n",
      "rawdata = np.loadtxt(filename)\n",
      "data = []\n",
      "for col in rawdata[0]:\n",
      "    data.append([])\n",
      "    data.append([])\n",
      "for line in rawdata:\n",
      "    for i, val in enumerate(line):\n",
      "        data[2*i].append(val)\n",
      "#column: length, losses@24, 34, 44, 54, 64 and 74 \u00b5m\n",
      "razorpossim = [24,0,34,0,44,0,54,0,64,0,74,0]\n",
      "#plt.plot(data[0], data[6])\n",
      "\n",
      "scale = 1.\n",
      "fig = plt.figure(1,figsize=(8.*1.,6.*2.))\n",
      "n1 = len(data)-1\n",
      "for i in range(n):\n",
      "    ax = plt.subplot2grid((n,1),(i,0))\n",
      "    if (n-i+1)%2==0:\n",
      "        plt.semilogy(np.array(np.array(data[0])), (np.array(data[n+1-i])), color='blue')\n",
      "    elif i>0:\n",
      "        plt.semilogy([], [])\n",
      "    pos = (202,1600)\n",
      "    if i == n-1:\n",
      "        pos = (202,80)\n",
      "    ax.annotate(r\"$\\mathrm{Blade\\ @\\ %g\\ \\mu m}}$\"%(int(round(razorpossim[n-i-1]))), pos, color='black', alpha=0.5) \n",
      "    plt.ylim(50, 5000)\n",
      "    plt.xlim(200,600)\n",
      "    if i == n1/2:\n",
      "        plt.ylabel(r\"$\\mathrm{Losses\\ (ppm)}$\")\n",
      "    if i <> n1-1:\n",
      "        ax.axes.xaxis.set_ticklabels([])\n",
      "    fig.subplots_adjust(hspace=0)\n",
      "plt.show()\n",
      "plt.xlabel(r\"$\\mathrm{Cavity\\ length\\ (\\mu m)}$\")"
     ],
     "language": "python",
     "metadata": {},
     "outputs": [
      {
       "metadata": {},
       "output_type": "pyout",
       "prompt_number": 71,
       "text": [
        "<matplotlib.text.Text at 0x4e91d090>"
       ]
      }
     ],
     "prompt_number": 71
    },
    {
     "cell_type": "code",
     "collapsed": false,
     "input": [
      "#experiment\n",
      "\n",
      "degeneracies = [221,247,283,314,321,336.5,374,400,434.5,441,457,482,514,557.5]\n",
      "\n",
      "scale = 1.\n",
      "fig = plt.figure(2,figsize=(8.*1.,6.*2.))\n",
      "for i in range(n):\n",
      "    ax = plt.subplot2grid((n+1,1),(i,0))\n",
      "    #if i == 0:\n",
      "        #ax.annotate(r\"$\\mathrm{TEM_{1,5}}$\", (510, 5000), rotation=45)\n",
      "    plt.semilogy(np.array(lengths[i]), (np.array(pertes[i]))*1e6, color='blue')\n",
      "    pos = (202,1600)\n",
      "    if i == n-1:\n",
      "        pos = (202,80)\n",
      "    ax.annotate(r\"$\\mathrm{Blade\\ @\\ %g\\ \\mu m}}$\"%(int(round(razors[i]))), pos, color='black', alpha=0.5)  \n",
      "    for dege in degeneracies:\n",
      "        plt.semilogy([dege, dege], [10, 5000], \"-\", color='blue', alpha = 0.15, linewidth=5.)\n",
      "    plt.ylim(50, 5000)\n",
      "    plt.xlim(200,600)\n",
      "    if i == n/2:\n",
      "        plt.ylabel(r\"$\\mathrm{Losses\\ (ppm)}$\")\n",
      "    if i <> n-1:\n",
      "        ax.axes.xaxis.set_ticklabels([])\n",
      "    fig.subplots_adjust(hspace=0)\n",
      "plt.show()\n",
      "plt.xlabel(r\"$\\mathrm{Cavity\\ length\\ (\\mu m)}$\")\n",
      "#plt.savefig('test.png', bbox_inches='tight')"
     ],
     "language": "python",
     "metadata": {},
     "outputs": [
      {
       "metadata": {},
       "output_type": "pyout",
       "prompt_number": 72,
       "text": [
        "<matplotlib.text.Text at 0x507f9c10>"
       ]
      }
     ],
     "prompt_number": 72
    },
    {
     "cell_type": "code",
     "collapsed": false,
     "input": [
      "#both\n",
      "\n",
      "degeneracies = [221,247,283,314,321,336.5,374,400,434.5,441,457,482,514,557.5]\n",
      "\n",
      "scale = 1.\n",
      "fig = plt.figure(2,figsize=(8.*1.,6.*2.))\n",
      "for i in range(n):\n",
      "    ax = plt.subplot2grid((n+1,1),(i,0))\n",
      "    plt.semilogy(np.array(lengths[i]), (np.array(pertes[i]))*1e6, color='blue')\n",
      "    if (n-i+1)%2==0:\n",
      "        plt.semilogy(np.array(np.array(data[0])), (np.array(data[n+1-i])), color='green')\n",
      "    elif i>0:\n",
      "        plt.semilogy([], [])\n",
      "    pos = (202,1600)\n",
      "    if i == n-1:\n",
      "        pos = (202,80)\n",
      "    ax.annotate(r\"$\\mathrm{Blade\\ @\\ %g\\ \\mu m}}$\"%(int(round(razors[i]))), pos, color='black', alpha=0.5)  \n",
      "    for dege in degeneracies:\n",
      "        plt.semilogy([dege, dege], [10, 5000], \"-\", color='blue', alpha = 0.15, linewidth=5.)\n",
      "    plt.ylim(50, 5000)\n",
      "    plt.xlim(200,600)\n",
      "    if i == n/2:\n",
      "        plt.ylabel(r\"$\\mathrm{Losses\\ (ppm)}$\")\n",
      "    if i <> n-1:\n",
      "        ax.axes.xaxis.set_ticklabels([])\n",
      "    fig.subplots_adjust(hspace=0)\n",
      "plt.show()\n",
      "plt.xlabel(r\"$\\mathrm{Cavity\\ length\\ (\\mu m)}$\")"
     ],
     "language": "python",
     "metadata": {},
     "outputs": [
      {
       "metadata": {},
       "output_type": "pyout",
       "prompt_number": 74,
       "text": [
        "<matplotlib.text.Text at 0x593532b0>"
       ]
      }
     ],
     "prompt_number": 74
    },
    {
     "cell_type": "code",
     "collapsed": false,
     "input": [],
     "language": "python",
     "metadata": {},
     "outputs": []
    }
   ],
   "metadata": {}
  }
 ]
}