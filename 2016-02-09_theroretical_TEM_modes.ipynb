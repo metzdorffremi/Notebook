{
 "metadata": {
  "name": "",
  "signature": "sha256:5d3aa95e1b9fe79211274e560a2d11acae5460ff73b94b4deaf85f6f889ba1c9"
 },
 "nbformat": 3,
 "nbformat_minor": 0,
 "worksheets": [
  {
   "cells": [
    {
     "cell_type": "code",
     "collapsed": false,
     "input": [
      "import matplotlib.pyplot as plt\n",
      "import numpy as np\n",
      "\n",
      "def u(x,y,m,n):\n",
      "     c1 = np.zeros(m+1)\n",
      "     c1[m] = 1\n",
      "     c2 = np.zeros(n+1)\n",
      "     c2[n] = 1\n",
      "     l = np.arange(-2,2,0.01)\n",
      "     norm = 1. / max(np.polynomial.hermite.hermval(np.sqrt(2.)*l, c1) * np.polynomial.hermite.hermval(np.sqrt(2.)*l, c2) * np.exp(-(2.*l**2)) )\n",
      "     return  norm * (np.polynomial.hermite.hermval(np.sqrt(2.)*x, c1) * np.polynomial.hermite.hermval(np.sqrt(2.)*y, c2) * np.exp(-(x**2+y**2)))\n",
      "     \n",
      "def f(x,y,m,n):\n",
      "    return (u(x,y,m,n))**2\n",
      "\n",
      "def g(x,y,m1,n1,m2,n2):\n",
      "    return (u(x,y,m1,n1) + u(x,y,m2,n2))**2\n",
      "\n",
      "width = 7.\n",
      "x = np.arange(-width/2., width/2., 0.1)\n",
      "y = np.arange(-width/2., width/2., 0.1)\n",
      "X,Y = np.meshgrid(x, y)\n",
      "\n",
      "def plot_all_tem(n_col,n_lig):\n",
      "    for i in range(n_lig):\n",
      "        for j in range(n_col):\n",
      "            plt.subplot(n_lig,n_col,i*n_col + j + 1)\n",
      "            z = f(X,Y,i,j)\n",
      "            fig = plt.contourf(x,y,z,200,cmap='gray')\n",
      "            plt.axis('off')\n",
      "            fig.ax.axes.get_xaxis().set_visible(False)\n",
      "            fig.ax.axes.get_yaxis().set_visible(False)"
     ],
     "language": "python",
     "metadata": {},
     "outputs": [],
     "prompt_number": 2
    },
    {
     "cell_type": "code",
     "collapsed": false,
     "input": [
      "\"\"\"              \n",
      "plt.figure(1,figsize=(6,6))\n",
      "z = g(X,Y,0,0,2,1)\n",
      "fig = plt.contourf(x,y,z,200,cmap='gray')\n",
      "\"\"\"\n",
      "n_col = 5\n",
      "n_lig = 5\n",
      "n = 1\n",
      "for i in range(0,3):\n",
      "    for j in range(0,3):\n",
      "        plt.figure(n, figsize=(4,4))\n",
      "        #plot_all_tem(n_col,n_lig)\n",
      "        z = g(X,Y,0,0,i,j)\n",
      "        fig = plt.contourf(x,y,z,200,cmap='gray')\n",
      "        plt.axis('off')\n",
      "        plt.axis('equal')\n",
      "        fig.ax.axes.get_xaxis().set_visible(False)\n",
      "        fig.ax.axes.get_yaxis().set_visible(False)\n",
      "        #plt.savefig('test.png', bbox_inches='tight', pad_inches = 0)\n",
      "        n+=1"
     ],
     "language": "python",
     "metadata": {},
     "outputs": [],
     "prompt_number": 3
    },
    {
     "cell_type": "code",
     "collapsed": false,
     "input": [],
     "language": "python",
     "metadata": {},
     "outputs": []
    }
   ],
   "metadata": {}
  }
 ]
}