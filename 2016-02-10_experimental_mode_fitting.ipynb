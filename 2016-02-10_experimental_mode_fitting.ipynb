{
 "metadata": {
  "name": "",
  "signature": "sha256:3afb46e153fa905a12031541bb03fec1151e98509c3e555fe601a4cd7bacd33f"
 },
 "nbformat": 3,
 "nbformat_minor": 0,
 "worksheets": [
  {
   "cells": [
    {
     "cell_type": "code",
     "collapsed": false,
     "input": [
      "import matplotlib.pyplot as plt\n",
      "from PIL import Image\n",
      "import numpy as np\n",
      "from mpl_toolkits.mplot3d import Axes3D\n",
      "from matplotlib import cm\n",
      "from matplotlib.ticker import LinearLocator, FormatStrFormatter\n",
      "\n",
      "def u(x,y,m,n, pos=[0,0], scale=1., theta=0.):\n",
      "    print scale\n",
      "    c1 = np.zeros(m+1)\n",
      "    c1[m] = 1\n",
      "    c2 = np.zeros(n+1)\n",
      "    c2[n] = 1\n",
      "    l = np.arange(-2,2,0.01)\n",
      "    norm = 1. / max(np.polynomial.hermite.hermval(np.sqrt(2.)*l, c1) * np.polynomial.hermite.hermval(np.sqrt(2.)*l, c2) * np.exp(-(2.*l**2)) )\n",
      "    #x = (x - pos[0]) / scale\n",
      "    #y = (y - pos[1]) / scale\n",
      "    x = x/scale - pos[0]/scale\n",
      "    y = y/scale - pos[1]/scale\n",
      "    X = x*np.cos(theta) - y*np.sin(theta)\n",
      "    Y = x*np.sin(theta) + y*np.cos(theta)\n",
      "    return  norm * (np.polynomial.hermite.hermval(np.sqrt(2.)*X, c1) * np.polynomial.hermite.hermval(np.sqrt(2.)*Y, c2) * np.exp(-(X**2+Y**2)))\n",
      "     \n",
      "def f(x,y,m,n, pos=[0,0], scale=1.):\n",
      "    return (u(x,y,m,n,pos=pos,scale=scale))**2\n",
      "\n",
      "def g(x,y,m1,n1,m2,n2, pos=[0,0], scale=1., theta=0.):\n",
      "    return (u(x,y,m1,n1,pos=pos,scale=scale,theta=theta) + u(x,y,m2,n2,pos=pos,scale=scale,theta=theta))**2\n",
      "\n",
      "def plot_all_tem(n_col,n_lig):\n",
      "    for i in range(n_lig):\n",
      "        for j in range(n_col):\n",
      "            plt.subplot(n_lig,n_col,i*n_col + j + 1)\n",
      "            z = f(X,Y,i,j)\n",
      "            fig = plt.contourf(x,y,z,200,cmap='gray')\n",
      "            plt.axis('off')\n",
      "            fig.ax.axes.get_xaxis().set_visible(False)\n",
      "            fig.ax.axes.get_yaxis().set_visible(False)"
     ],
     "language": "python",
     "metadata": {},
     "outputs": [],
     "prompt_number": 1
    },
    {
     "cell_type": "code",
     "collapsed": false,
     "input": [
      "cd"
     ],
     "language": "python",
     "metadata": {},
     "outputs": [
      {
       "output_type": "stream",
       "stream": "stdout",
       "text": [
        "C:\\Users\\Remi\n"
       ]
      }
     ],
     "prompt_number": 5
    },
    {
     "cell_type": "code",
     "collapsed": false,
     "input": [
      "cd Pictures/Captures_VLC/23399/fit/"
     ],
     "language": "python",
     "metadata": {},
     "outputs": [
      {
       "output_type": "stream",
       "stream": "stdout",
       "text": [
        "[Error 3] Le chemin d\ufffdacc\ufffds sp\ufffdcifi\ufffd est introuvable: u'Pictures/Captures_VLC/23399/fit/'\n",
        "C:\\Users\\Remi\n"
       ]
      }
     ],
     "prompt_number": 6
    },
    {
     "cell_type": "code",
     "collapsed": false,
     "input": [
      "plt.figure(1, figsize=(8*3.,6*2.))\n",
      "\n",
      "plt.subplot2grid((2,3), (0, 0))\n",
      "\n",
      "temp=asarray(Image.open('test.png'))\n",
      "z1 = []\n",
      "for i in range(len(temp)):\n",
      "    z1.append([])\n",
      "    for j in range(len(temp[0])):\n",
      "        z1[i].append(mean(temp[i][j]))\n",
      "    z1[i] = np.array(z1[i])\n",
      "z1 = np.array(z1)\n",
      "pixelsize = 5.30e-6 #m\n",
      "x = np.arange(len(z1[0]))*pixelsize\n",
      "y = (len(z1)-1-np.arange(len(z1)))*pixelsize\n",
      "\n",
      "fig = plt.contourf(x,y,z1,200)#,cmap='gray')\n",
      "plt.axis('equal')\n",
      "plt.xlim(min(x), max(x))\n",
      "plt.ylim(min(y), max(y))\n",
      "\n",
      "plt.subplot2grid((2,3), (1,0))\n",
      "\n",
      "scale = 0.000062\n",
      "X,Y = np.meshgrid(x, y)\n",
      "z = g(X,Y,0,0,2,3, pos=[0.00107,0.00063],scale=scale,theta=-np.pi/12.)\n",
      "fig = plt.contourf(X,Y,z,200)#, cmap='gray')\n",
      "plt.axis('equal')\n",
      "plt.title('theo')\n",
      "plt.xlim(min(x), max(x))\n",
      "plt.ylim(min(y), max(y))\n",
      "\n",
      "plt.subplot2grid((2,3), (0,1), colspan=2, rowspan=2)\n",
      "fig = plt.contourf(X,Y,z1-np.max(z1)*z/np.max(z),200)#, cmap='gray')\n",
      "plt.axis('equal')\n",
      "plt.title('diff')\n",
      "plt.xlim(min(x), max(x))\n",
      "plt.ylim(min(y), max(y))\n",
      "\n",
      "params0 = [0.00107,0.00063, 0.000062, -np.pi/12.]\n",
      "def delta(params):\n",
      "    posx, posy, scale, theta = params\n",
      "    z = g(X,Y,0,0,2,3, pos=[posx,posy],scale=scale,theta=theta)\n",
      "    return np.sum(z1**2-z**2)\n",
      "\n",
      "\n",
      "\n",
      "#plt.savefig('test.png', bbox_inches='tight', pad_inches = 0)"
     ],
     "language": "python",
     "metadata": {},
     "outputs": [
      {
       "output_type": "stream",
       "stream": "stdout",
       "text": [
        "6.2e-05\n",
        "6.2e-05\n"
       ]
      },
      {
       "metadata": {},
       "output_type": "pyout",
       "prompt_number": 32,
       "text": [
        "(0.0, 0.0012932)"
       ]
      }
     ],
     "prompt_number": 32
    },
    {
     "cell_type": "code",
     "collapsed": false,
     "input": [
      "z1**2"
     ],
     "language": "python",
     "metadata": {},
     "outputs": [
      {
       "metadata": {},
       "output_type": "pyout",
       "prompt_number": 34,
       "text": [
        "array([[ 169.,  169.,  169., ...,  144.,  144.,  144.],\n",
        "       [ 169.,  169.,  169., ...,  144.,  144.,  144.],\n",
        "       [ 169.,  169.,  169., ...,  144.,  144.,  144.],\n",
        "       ..., \n",
        "       [ 169.,  169.,  169., ...,  121.,  121.,  121.],\n",
        "       [ 144.,  144.,  144., ...,  121.,  121.,  121.],\n",
        "       [ 144.,  144.,  144., ...,  121.,  121.,  121.]])"
       ]
      }
     ],
     "prompt_number": 34
    },
    {
     "cell_type": "code",
     "collapsed": false,
     "input": [],
     "language": "python",
     "metadata": {},
     "outputs": []
    }
   ],
   "metadata": {}
  }
 ]
}