{
 "metadata": {
  "name": "",
  "signature": "sha256:b9be818d1f844ef1215b75ecd84b1a9a1e7d7ac36fb3969f56169fc37118d86f"
 },
 "nbformat": 3,
 "nbformat_minor": 0,
 "worksheets": [
  {
   "cells": [
    {
     "cell_type": "code",
     "collapsed": false,
     "input": [
      "import matplotlib.pyplot as plt\n",
      "import numpy as np\n",
      "\n",
      "def mag1(r):\n",
      "    return (mu0*I)/(2*np.pi*r1**2) * r\n",
      "def mag2(r):\n",
      "    return (mu0*I)/(2*np.pi*r)\n",
      "def mag3(r):\n",
      "    return (mu0*I)/(2*np.pi*r) * (r3**2-r**2)/(r3**2-r2**2)\n",
      "def mag4(r):\n",
      "    return np.zeros(len(r))"
     ],
     "language": "python",
     "metadata": {},
     "outputs": [],
     "prompt_number": 32
    },
    {
     "cell_type": "code",
     "collapsed": false,
     "input": [
      "N = 10000\n",
      "\n",
      "mu0 = 4.*np.pi*1e-7\n",
      "\n",
      "r1 = 0.35e-3\n",
      "r2 = 1.7e-3\n",
      "r3 = 2e-3\n",
      "I = 50e-3\n",
      "\n",
      "rmin = 0\n",
      "rmax = 3e-3\n",
      "xscale = 1e3\n",
      "yscale = 1e6\n",
      "\n",
      "\n",
      "n1 = int(r1/rmax*N)\n",
      "x1 = np.arange(n1)*r1/n1\n",
      "n2 = int((r2-r1)/rmax*N)\n",
      "x2 = np.arange(n2)*(r2-r1)/n2 + r1\n",
      "n3 = int((r3-r2)/rmax*N)\n",
      "x3 = np.arange(n3)*(r3-r2)/n3 + r2\n",
      "n4 = int((rmax-r3)/rmax*N)\n",
      "x4 = np.arange(n4)*(rmax-r3)/n4 + r3"
     ],
     "language": "python",
     "metadata": {},
     "outputs": [],
     "prompt_number": 74
    },
    {
     "cell_type": "code",
     "collapsed": false,
     "input": [
      "plt.clf()\n",
      "plt.title(u\"$\\mathrm{Champ\\ magn\u00e9tique\\ dans\\ un\\ cable\\ coaxial\\ }(I=50\\,\\mathrm{mA})$\")\n",
      "plt.plot(x1*xscale, yscale*mag1(x1), label=u\"$r \\in[0,R_1]$\")\n",
      "plt.plot(x2*xscale, yscale*mag2(x2), label=u\"$r \\in [R_1, R_2]$\")\n",
      "plt.plot(x3*xscale, yscale*mag3(x3), label=u\"$r \\in [R_2, R_3]$\")\n",
      "plt.plot(x4*xscale, yscale*mag4(x4), label=u\"$r \\in [R_3, +\\infty]$\")\n",
      "plt.plot([r1*xscale,r1*xscale], [-1*yscale,1*yscale], '--', color='black')\n",
      "plt.plot([r2*xscale,r2*xscale], [-1*yscale,1*yscale], '--', color='black')\n",
      "plt.plot([r3*xscale,r3*xscale], [-1*yscale,1*yscale], '--', color='black')\n",
      "plt.ylim(-yscale*0.000005,yscale*0.000035)\n",
      "plt.grid('on')\n",
      "plt.xlabel(u\"$r \\mathrm{\\ (mm)}$\")\n",
      "plt.ylabel(u\"$B_\\\\theta \\mathrm{\\ (\\mu T)}$\")\n",
      "plt.legend()"
     ],
     "language": "python",
     "metadata": {},
     "outputs": [
      {
       "metadata": {},
       "output_type": "pyout",
       "prompt_number": 78,
       "text": [
        "<matplotlib.legend.Legend at 0x10c23670>"
       ]
      }
     ],
     "prompt_number": 78
    },
    {
     "cell_type": "code",
     "collapsed": false,
     "input": [
      "x3[0]"
     ],
     "language": "python",
     "metadata": {},
     "outputs": [
      {
       "metadata": {},
       "output_type": "pyout",
       "prompt_number": 28,
       "text": [
        "0.0016999999999999999"
       ]
      }
     ],
     "prompt_number": 28
    },
    {
     "cell_type": "code",
     "collapsed": false,
     "input": [],
     "language": "python",
     "metadata": {},
     "outputs": []
    }
   ],
   "metadata": {}
  }
 ]
}