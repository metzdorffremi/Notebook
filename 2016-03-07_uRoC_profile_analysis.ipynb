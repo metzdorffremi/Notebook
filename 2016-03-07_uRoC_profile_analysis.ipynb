{
 "metadata": {
  "name": "",
  "signature": "sha256:915d2ef66d80b80eaf08a0fad4de2203d38ee732f5697878ee6bed78dc6f37b1"
 },
 "nbformat": 3,
 "nbformat_minor": 0,
 "worksheets": [
  {
   "cells": [
    {
     "cell_type": "code",
     "collapsed": false,
     "input": [
      "cd Desktop"
     ],
     "language": "python",
     "metadata": {},
     "outputs": [
      {
       "output_type": "stream",
       "stream": "stdout",
       "text": [
        "C:\\Users\\remi\\Desktop\n"
       ]
      }
     ],
     "prompt_number": 2
    },
    {
     "cell_type": "code",
     "collapsed": false,
     "input": [
      "from __future__ import division\n",
      "import matplotlib.pyplot as plt\n",
      "import numpy as np\n",
      "import pickle\n",
      "from mpl_toolkits.axes_grid1 import make_axes_locatable\n",
      "from scipy import optimize\n",
      "\n",
      "def find_fit(data_x,data_y,modele,params0):\n",
      "    def ecart(params0,data_y,data_x):\n",
      "        return data_y - modele(params0,data_x)\n",
      "    fit  = optimize.leastsq(ecart, params0,args=(data_y,data_x))\n",
      "    return fit[0]\n",
      "\n",
      "def gaus(params0,x):\n",
      "    a, width, x0, offset, slope  = params0\n",
      "    return offset + slope*x + (a / (width*np.sqrt(2*np.pi))) * np.exp(-(x-x0)**2 / (2*width**2))\n",
      "\n",
      "def parabol(params0, x):\n",
      "    R, x0, offset, slope = params0        \n",
      "    return offset + slope*x + R * (1 - np.sqrt(1-((x-x0)/R)**2))\n",
      "\n",
      "def give_filename(uRoC):\n",
      "    filename = 'fiber'\n",
      "    if uRoC % 1000 != uRoC:\n",
      "        return filename + str(uRoC)\n",
      "    elif uRoC % 100 != uRoC:\n",
      "        return filename + '0' + str(uRoC)\n",
      "    elif uRoC % 10 != uRoC:\n",
      "        return filename + '00' + str(uRoC)\n",
      "    else:\n",
      "        return filename + '000' + str(uRoC)"
     ],
     "language": "python",
     "metadata": {},
     "outputs": [],
     "prompt_number": 3
    },
    {
     "cell_type": "code",
     "collapsed": false,
     "input": [
      "#####Profile#####\n",
      "def plot_profile(x, y, profile, n=1):\n",
      "    fig = plt.figure(n)\n",
      "    plt.clf()\n",
      "    ax1 = fig.add_subplot(1, 1, 1,  aspect='equal')\n",
      "    \n",
      "    fig = plt.contourf(x,y,profile,200,cmap='jet')\n",
      "    \n",
      "    plt.xlabel(u'$\\mathrm{x - direction\\ [\\mu m]}$')\n",
      "    plt.ylabel(u'$\\mathrm{y - direction\\ [\\mu m]}$')\n",
      "    plt.title(u\"$\\mathrm{Profile\\ depth\\ [\\mu m]}$\")\n",
      "    plt.gca().set_aspect('equal')\n",
      "    \n",
      "    divider = make_axes_locatable(ax1)\n",
      "    cax1 = divider.append_axes(\"right\", size=\"5%\", pad=0.05)\n",
      "    plt.colorbar(fig, cax = cax1, ticks=[0,0.2,0.4,0.6,0.8,1.,1.2])"
     ],
     "language": "python",
     "metadata": {},
     "outputs": [],
     "prompt_number": 20
    },
    {
     "cell_type": "code",
     "collapsed": false,
     "input": [
      "#####Profile and transverse views#####\n",
      "def plot_profile_transverse(x, y, profile, nx_pixels, ny_pixels):\n",
      "    plt.figure(2, figsize=(10,10))\n",
      "\n",
      "    plt.gca().set_aspect('equal')\n",
      "    plt.subplot(2,2,1)\n",
      "    plt.contourf(x,y,profile,200,cmap='jet')\n",
      "    plt.xlim(min(x), max(x))\n",
      "    plt.ylim(min(y), max(y))\n",
      "    \n",
      "    plt.subplot(2,2,2)\n",
      "    profile_y = []\n",
      "    for i in range(ny_pixels):\n",
      "        profile_y.append(profile[i][ny_pixels/2])\n",
      "    plt.plot(profile_y,y)\n",
      "    plt.grid('on')\n",
      "    plt.ylim(min(y), max(y))\n",
      "    plt.gca().invert_xaxis()\n",
      "    plt.tick_params(axis='y', which='both', labelleft='off', labelright='on')\n",
      "    \n",
      "    plt.subplot(2,2,3)\n",
      "    profile_x = profile[nx_pixels/2]\n",
      "    plt.plot(x,profile_x)\n",
      "    plt.grid('on')\n",
      "    plt.xlim(min(x), max(x))"
     ],
     "language": "python",
     "metadata": {},
     "outputs": [],
     "prompt_number": 6
    },
    {
     "cell_type": "code",
     "collapsed": false,
     "input": [
      "#####Find center (deepest point)#####\n",
      "def find_center(x, y, profile, nx_pixels, ny_pixels):\n",
      "    n_mean = 10\n",
      "    new_x, new_y = [], []\n",
      "    for i in range(int(nx_pixels/n_mean)):\n",
      "        new_x.append((x[i*n_mean + n_mean/2]))\n",
      "        new_y.append((y[i*n_mean + n_mean/2]))\n",
      "    \n",
      "    _new_profile = []\n",
      "    for i in range(nx_pixels):\n",
      "        _new_profile.append([])\n",
      "        for j in range(int(ny_pixels/n_mean)):\n",
      "            _new_profile[i].append(np.mean(profile[i][j*n_mean:(j+1)*n_mean]))\n",
      "    \n",
      "    new_profile = []\n",
      "    for j in range(len(new_y)):\n",
      "        new_profile.append([])\n",
      "        for i in range(len(new_x)):\n",
      "            for k in range(n_mean):\n",
      "                l = []\n",
      "                l.append(_new_profile[i*n_mean + k][j])\n",
      "            new_profile[-1].append(np.mean(l))\n",
      "    \n",
      "    min_depth = np.min(np.min(profile, axis=1), axis=0)\n",
      "    for j in range(len(y)):\n",
      "        for i in range(len(x)):\n",
      "            if profile[j][i] == min_depth:\n",
      "                min_i, min_j = i, j  \n",
      "\n",
      "    fig = plt.figure(3)\n",
      "    ax1 = fig.add_subplot(1, 1, 1,  aspect='equal')\n",
      "    fig = plt.contourf(x, y, profile,200)\n",
      "    plt.gca().set_aspect('equal')    \n",
      "    divider = make_axes_locatable(ax1)\n",
      "    cax1 = divider.append_axes(\"right\", size=\"5%\", pad=0.05)\n",
      "    plt.colorbar(fig, cax = cax1)\n",
      "    \n",
      "    y_cut = []\n",
      "    for j in range(len(y)):\n",
      "        y_cut.append(profile[j][min_i])\n",
      "    fig = plt.figure(4, figsize=(10,10))\n",
      "    plt.plot(x, profile[min_j], '.', color='blue')\n",
      "    #plt.plot(y, y_cut, '.', color='green')\n",
      "\n",
      "    params0 = [-100,20,0,2, 0]\n",
      "    fit_width = 120 / pixelCal[0]\n",
      "    low_lim, high_lim = int(min_i-fit_width/2), int(min_i+fit_width/2)\n",
      "    fit = find_fit(x[low_lim:high_lim],profile[min_j][low_lim:high_lim],gaus,params0)\n",
      "    plt.plot(x, gaus(fit, x), color='green')\n",
      "    \n",
      "    params0 = [1000, 0, 0, 0]\n",
      "    fit_width = 100 / pixelCal[0]\n",
      "    low_lim, high_lim = int(min_i-fit_width/2), int(min_i+fit_width/2)\n",
      "    fit = find_fit(x[low_lim:high_lim],\n",
      "                   profile[min_j][low_lim:high_lim],parabol,params0)\n",
      "    plt.plot(x, parabol(fit,x), color=\"red\")\n",
      "    plt.ylim(min(profile[min_j]),max(profile[min_j]))   \n",
      "    plt.title('R='+str(fit[0])+' slope='+str(fit[3]))"
     ],
     "language": "python",
     "metadata": {},
     "outputs": [],
     "prompt_number": 14
    },
    {
     "cell_type": "code",
     "collapsed": false,
     "input": [
      "uRoC = 2\n",
      "folder = 'S_series_(old_samples)/S6-4'\n",
      "filename = give_filename(uRoC)\n",
      "reader = pickle.load(open(folder+'/'+filename+'.p', 'rb'))\n",
      "\n",
      "profile = reader.get('profile').transpose()\n",
      "pixelCal = reader.get('pixelCal')\n",
      "\n",
      "nx_pixels = len(profile)\n",
      "ny_pixels = len(profile[0])\n",
      "x = (np.arange(0,nx_pixels) - nx_pixels/2) * pixelCal[0]\n",
      "y = (np.arange(0,ny_pixels) - ny_pixels/2) * pixelCal[1]\n",
      "\n",
      "plot_profile(x, y, profile)\n",
      "plt.savefig(\"profile_S6-4.png\", bbox_inches='tight')"
     ],
     "language": "python",
     "metadata": {},
     "outputs": [],
     "prompt_number": 23
    },
    {
     "cell_type": "code",
     "collapsed": false,
     "input": [
      "def parabolic2D(params,x,y):\n",
      "    scale, x0, y0, offset, asym = params\n",
      "    return  scale*((x-x0)**2 + asym*(y-y0)**2) + offset\n",
      "\n",
      "def gaussian2D(params,x,y):\n",
      "    scale, f, x0, y0, offset, asym = params\n",
      "    return scale*np.exp(f*(x-x0)**2 + asym*f*(y-y0)**2) +offset\n",
      "\n",
      "X,Y = np.meshgrid(x, y)\n",
      "params0 = [1000, 1e-7,0,0,-1000,1.05]\n",
      "z = gaussian2D(params0,X,Y)\n",
      "\n",
      "plot_profile(X, Y, profile, 1)\n",
      "\n",
      "plot_profile(X, Y, z, 2)\n",
      "\n",
      "plot_profile(X, Y, profile - z, 3)\n"
     ],
     "language": "python",
     "metadata": {},
     "outputs": [],
     "prompt_number": 93
    },
    {
     "cell_type": "code",
     "collapsed": false,
     "input": [
      "np.exp(60*60)"
     ],
     "language": "python",
     "metadata": {},
     "outputs": [
      {
       "output_type": "stream",
       "stream": "stderr",
       "text": [
        "-c:1: RuntimeWarning: overflow encountered in exp\n"
       ]
      },
      {
       "metadata": {},
       "output_type": "pyout",
       "prompt_number": 76,
       "text": [
        "inf"
       ]
      }
     ],
     "prompt_number": 76
    },
    {
     "cell_type": "code",
     "collapsed": false,
     "input": [],
     "language": "python",
     "metadata": {},
     "outputs": []
    }
   ],
   "metadata": {}
  }
 ]
}