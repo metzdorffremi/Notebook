{
 "metadata": {
  "name": "",
  "signature": "sha256:1adc98dcbe9ae4a75883b00a438f35af85cdb88a0bebad73ed1f153f51cbf433"
 },
 "nbformat": 3,
 "nbformat_minor": 0,
 "worksheets": [
  {
   "cells": [
    {
     "cell_type": "code",
     "collapsed": false,
     "input": [
      "from pyinstruments import CurveDB\n",
      "import pandas\n",
      "from users.remi import losses2 as losses\n",
      "from pyinstruments.pyhardwaredb import instrument\n",
      "import gc\n",
      "import time\n",
      "from matplotlib.colors import LogNorm\n",
      "\n",
      "folder_pk = 517304\n",
      "folder = CurveDB.objects.get(pk=folder_pk)\n",
      "scans = folder.childs.all()\n",
      "\n",
      "n = 0\n",
      "scan = losses.FullScan(scans[n].pk)#, stop_pk=517473)\n",
      "fitted_scans = scans[0:n]"
     ],
     "language": "python",
     "metadata": {},
     "outputs": []
    },
    {
     "cell_type": "code",
     "collapsed": false,
     "input": [
      "params_fit = scan.find_pzt_params()"
     ],
     "language": "python",
     "metadata": {},
     "outputs": []
    },
    {
     "cell_type": "code",
     "collapsed": false,
     "input": [
      "for fsr in scan.fsrs:\n",
      "    if fsr.curve.pk >= 342834:\n",
      "        #fsr.curve.params[\"peakthreshold\"] = 0.7\n",
      "        fsr.curve.params[\"fit_type\"] = \"lorentzSBasymm_smooth\"\n",
      "        fsr.curve.save()"
     ],
     "language": "python",
     "metadata": {},
     "outputs": []
    },
    {
     "cell_type": "code",
     "collapsed": false,
     "input": [
      "from users.remi import finesse\n",
      "l = [518745+2*i for i in range(7)]\n",
      "for pk in l:\n",
      "    print pk\n",
      "    try:\n",
      "        d = finesse.DataPeaks(finesse.FSRScan(pk))\n",
      "        d.make_portions()\n",
      "    except ValueError:\n",
      "        print \"tadaa\""
     ],
     "language": "python",
     "metadata": {},
     "outputs": []
    },
    {
     "cell_type": "code",
     "collapsed": false,
     "input": [
      "#To delete false peaks\n",
      "\n",
      "from curve import Curve\n",
      "for fsr in scan.fsrs:\n",
      "    for peak in fsr.peaks:\n",
      "        cu = Curve()\n",
      "        cu.set_data(peak.curve.data)\n",
      "        res, lor = cu.fit('lorentz',maxiter=100)\n",
      "\n",
      "        magdata = (lor.data-lor.params['y0']).abs()\n",
      "        scale = numpy.sign(lor.params['scale'])*(magdata.max())\n",
      "        \n",
      "        res, lor = cu.fit('lorentz', fixed_params={'x0':lor.params['x0'], 'bandwidth':0.7*lor.params['bandwidth'], 'scale':scale})\n",
      "\n",
      "        upper_half = lor.data.loc[lor.params['x0']+5.0*abs(lor.params[\"bandwidth\"]):]\n",
      "        lower_half = lor.data.loc[:lor.params['x0']-5.0*abs(lor.params[\"bandwidth\"])]\n",
      "        if len(upper_half) == 0 or len(lower_half) == 0 or len(lower_half)*1./len(upper_half) <0.1 or len(lower_half)*1./len(upper_half) >10.:\n",
      "            print '\\t', peak.curve.pk, len(upper_half), len(lower_half)\n",
      "            #peak.curve.delete()\n",
      "    print fsr.curve.pk"
     ],
     "language": "python",
     "metadata": {},
     "outputs": []
    },
    {
     "cell_type": "code",
     "collapsed": false,
     "input": [
      "scan._update_bandwidth()"
     ],
     "language": "python",
     "metadata": {},
     "outputs": []
    },
    {
     "cell_type": "code",
     "collapsed": false,
     "input": [
      "wavelength = 1066e-9\n",
      "fsr = wavelength/2.\n",
      "offset = mean(np.array([190,201,207,211,213,205,213,208])-np.array([0,1,3,4,6,7,8,9])*fsr)\n",
      "print offset\n",
      "\n",
      "factor = 0.55\n",
      "scan.curve.params[\"offset_length\"] = offset*1e-6+fsr*factor\n",
      "scan.curve.save()"
     ],
     "language": "python",
     "metadata": {},
     "outputs": []
    },
    {
     "cell_type": "code",
     "collapsed": false,
     "input": [
      "scan._update_cavity_length()"
     ],
     "language": "python",
     "metadata": {},
     "outputs": []
    },
    {
     "cell_type": "code",
     "collapsed": false,
     "input": [
      "for fsr in scan.fsrs:\n",
      "    if \"pzt_offset\" in fsr.curve.params:\n",
      "        fsr.curve.params.pop('pzt_offset')\n",
      "        fsr.curve.save()\n",
      "    for peak in fsr.peaks:\n",
      "        if \"length\" in peak.curve.params:\n",
      "            peak.curve.params.pop(\"length\")\n",
      "            peak.curve.save()"
     ],
     "language": "python",
     "metadata": {},
     "outputs": []
    },
    {
     "cell_type": "code",
     "collapsed": false,
     "input": [
      "for fsr in scan.fsrs:\n",
      "    for peak in fsr.peaks:\n",
      "        if peak.losses < 50e-6:\n",
      "            peak.curve.delete()"
     ],
     "language": "python",
     "metadata": {},
     "outputs": []
    },
    {
     "cell_type": "code",
     "collapsed": false,
     "input": [
      "scan.losses_vs_step()"
     ],
     "language": "python",
     "metadata": {},
     "outputs": []
    },
    {
     "cell_type": "code",
     "collapsed": false,
     "input": [
      "scan.losses_vs_length_tot()"
     ],
     "language": "python",
     "metadata": {},
     "outputs": []
    },
    {
     "cell_type": "code",
     "collapsed": false,
     "input": [
      "scan.losses_vs_length()\n",
      "plt.show()"
     ],
     "language": "python",
     "metadata": {},
     "outputs": [
      {
       "output_type": "stream",
       "stream": "stderr",
       "text": [
        "C:\\Python27\\lib\\site-packages\\numpy\\core\\_methods.py:55: RuntimeWarning: Mean of empty slice.\n",
        "  warnings.warn(\"Mean of empty slice.\", RuntimeWarning)\n",
        "\n"
       ]
      },
      {
       "output_type": "stream",
       "stream": "stderr",
       "text": [
        "WARNING:py.warnings:C:\\Python27\\lib\\site-packages\\numpy\\core\\_methods.py:55: RuntimeWarning: Mean of empty slice.\n",
        "  warnings.warn(\"Mean of empty slice.\", RuntimeWarning)\n",
        "\n"
       ]
      }
     ],
     "prompt_number": 3
    },
    {
     "cell_type": "code",
     "collapsed": false,
     "input": [
      "scan._visual_control_update_cavity_length\n",
      "plt.show()"
     ],
     "language": "python",
     "metadata": {},
     "outputs": []
    },
    {
     "cell_type": "code",
     "collapsed": false,
     "input": [
      "#Prepare data for map plot\n",
      "pertes = []\n",
      "lengths = []\n",
      "razors = []\n",
      "modes = []\n",
      "modeoffset = [0,1,0,1,1,0,0,1,0,0,0]\n",
      "for i, scan in enumerate(fitted_scans[0:]):\n",
      "    print scan\n",
      "    if scan.pk == 341813:\n",
      "        scan = losses.FullScan(scan.pk, stop_pk=342774)\n",
      "    else:\n",
      "        scan = losses.FullScan(scan.pk)\n",
      "    loss, length, mode = scan._average_losses_per_mode_number()\n",
      "    razor = scan.curve.params[\"razorpos\"] - razorpos_offset\n",
      "    pertes.append(loss)\n",
      "    lengths.append((np.array(length)+modeoffset[i]*1066e-9/2.)*1e6)\n",
      "    razors.append(np.array(razor)*1e6)\n",
      "    modes.append(np.array(mode)+modeoffset[i])\n",
      "\n",
      "Razors = []\n",
      "for i in range(len(razors)):\n",
      "    Razors.append([])\n",
      "    for j in range(len(lengths[i])):\n",
      "        Razors[-1].append(razors[i])"
     ],
     "language": "python",
     "metadata": {},
     "outputs": []
    },
    {
     "cell_type": "code",
     "collapsed": false,
     "input": [
      "#Map plot\n",
      "level = 0.3e-4\n",
      "levels = [level]\n",
      "while level < 0.8e-2:\n",
      "    level = level*1.05\n",
      "    levels.append(level)\n",
      "\n",
      "maxsize = len(lengths[0])\n",
      "for length in lengths:\n",
      "    if len(length) > maxsize:\n",
      "        maxsize=len(length)\n",
      "\n",
      "for i in range(len(lengths)):\n",
      "    lengths[i] = list(np.array(lengths[i]))\n",
      "    Razors[i] = list(np.array(Razors[i]))\n",
      "    pertes[i] = list(pertes[i])\n",
      "    modes[i] = list(modes[i])\n",
      "    while len(lengths[i]) < maxsize:\n",
      "        lengths[i].append(lengths[i][-1])\n",
      "        Razors[i].append(Razors[i][-1])\n",
      "        pertes[i].append(pertes[i][-1])\n",
      "        modes[i].append(modes[i][-1])\n",
      "plt.figure(3, figsize=(8.,0.5*len(razors)))\n",
      "plt.clf()\n",
      "plt.contourf(lengths, Razors, pertes, levels=levels, cmap=plt.cm.jet, norm = LogNorm())\n",
      "plt.xlabel(r\"$\\mathrm{Length\\ (\\mu m)}$\")\n",
      "plt.ylabel(r\"$\\mathrm{Razor\\ position\\ (\\mu m)}$\")\n",
      "plt.show()"
     ],
     "language": "python",
     "metadata": {},
     "outputs": []
    },
    {
     "cell_type": "code",
     "collapsed": false,
     "input": [
      "def scalarprod(mode1, loss1, mode2, loss2):\n",
      "    shift = mode2[0]-mode1[0]\n",
      "    if shift > 0:\n",
      "        mode2 = list(np.zeros(shift)) + mode2\n",
      "        loss2 = list(np.zeros(shift)) + loss2\n",
      "        mode1 = mode1 + list(np.zeros(shift))\n",
      "        loss1 = loss1 + list(np.zeros(shift))\n",
      "    elif shift < 0:\n",
      "        mode2 = mode2 + list(np.zeros(-shift))\n",
      "        loss2 = loss2 + list(np.zeros(-shift))\n",
      "        mode1 = list(np.zeros(-shift)) + mode1\n",
      "        loss1 = list(np.zeros(-shift)) + loss1\n",
      "    tab = np.array(loss1) * np.array(loss2)\n",
      "    mode = np.array(mode2) - np.array(mode1)\n",
      "    for i in range(len(mode)):\n",
      "        if mode[i] == 0:\n",
      "            mode[i] = 1\n",
      "        else:\n",
      "            mode[i] = 0 \n",
      "    tab = np.array(tab) * np.array(mode)\n",
      "    tab = tab[~np.isnan(tab)]\n",
      "    return tab\n",
      "\n",
      "for i in range(1,8):\n",
      "    offsets = np.arange(11)-5\n",
      "    scalars = []\n",
      "    for offset in offsets:\n",
      "        scalars.append(sum(scalarprod(modes[0], pertes[0], list(np.array(modes[i])+offset), pertes[i])))\n",
      "    plt.plot(offsets, scalars, label=str(i))\n",
      "legend()"
     ],
     "language": "python",
     "metadata": {},
     "outputs": []
    },
    {
     "cell_type": "code",
     "collapsed": false,
     "input": [
      "degeneracies = [221,247,283,314,321,336.5,374,400,434.5,441,457,482,514,557.5]\n",
      "\n",
      "scale = 1.\n",
      "fig = plt.figure(1,figsize=(8.*1.,6.*2.))\n",
      "for i in range(n):\n",
      "    ax = plt.subplot2grid((n+1,1),(i,0))\n",
      "    #if i == 0:\n",
      "        #ax.annotate(r\"$\\mathrm{TEM_{1,5}}$\", (510, 5000), rotation=45)\n",
      "    plt.semilogy(np.array(lengths[i]), (np.array(pertes[i]))*1e6, color='blue')\n",
      "    pos = (202,1600)\n",
      "    if i == n-1:\n",
      "        pos = (202,80)\n",
      "    ax.annotate(r\"$\\mathrm{Blade\\ @\\ %g\\ \\mu m}}$\"%(int(round(razors[i]))), pos, color='black', alpha=0.5)  \n",
      "    for dege in degeneracies:\n",
      "        plt.semilogy([dege, dege], [10, 5000], \"-\", color='blue', alpha = 0.15, linewidth=5.)\n",
      "    plt.ylim(50, 5000)\n",
      "    plt.xlim(200,600)\n",
      "    if i == n/2:\n",
      "        plt.ylabel(r\"$\\mathrm{Losses\\ (ppm)}$\")\n",
      "    if i <> n-1:\n",
      "        ax.axes.xaxis.set_ticklabels([])\n",
      "    fig.subplots_adjust(hspace=0)\n",
      "plt.show()\n",
      "plt.xlabel(r\"$\\mathrm{Cavity\\ length\\ (\\mu m)}$\")\n",
      "plt.savefig('test.png', bbox_inches='tight')"
     ],
     "language": "python",
     "metadata": {},
     "outputs": []
    },
    {
     "cell_type": "code",
     "collapsed": false,
     "input": [
      "razors"
     ],
     "language": "python",
     "metadata": {},
     "outputs": []
    },
    {
     "cell_type": "code",
     "collapsed": false,
     "input": [],
     "language": "python",
     "metadata": {},
     "outputs": []
    }
   ],
   "metadata": {}
  }
 ]
}