{
 "metadata": {
  "name": "",
  "signature": "sha256:68ff3b5a7c4ef473065fbcf3c073736eb83abe04b7babe328d64bf0e178e841e"
 },
 "nbformat": 3,
 "nbformat_minor": 0,
 "worksheets": [
  {
   "cells": [
    {
     "cell_type": "code",
     "collapsed": false,
     "input": [
      "import numpy as np\n",
      "import matplotlib as pyplot"
     ],
     "language": "python",
     "metadata": {},
     "outputs": [],
     "prompt_number": 1
    },
    {
     "cell_type": "code",
     "collapsed": false,
     "input": [
      "def estPremier(n):\n",
      "    for i in range(2,n):\n",
      "        if n%i == 0:\n",
      "            return False\n",
      "    return True\n",
      "estPremier(157)"
     ],
     "language": "python",
     "metadata": {},
     "outputs": [],
     "prompt_number": 4
    },
    {
     "cell_type": "code",
     "collapsed": false,
     "input": [
      "def premiers(n):\n",
      "    l = []\n",
      "    for i in range(2,n+1):\n",
      "        if estPremier(i):\n",
      "            l.append(i)\n",
      "    return l\n",
      "premiers(17)"
     ],
     "language": "python",
     "metadata": {},
     "outputs": [
      {
       "metadata": {},
       "output_type": "pyout",
       "prompt_number": 15,
       "text": [
        "[2, 3, 5, 7, 11, 13, 17]"
       ]
      }
     ],
     "prompt_number": 15
    },
    {
     "cell_type": "code",
     "collapsed": false,
     "input": [
      "def testImpair(l,n):\n",
      "    for i in l:\n",
      "        if n%i==0:\n",
      "            return False\n",
      "    return True"
     ],
     "language": "python",
     "metadata": {},
     "outputs": [],
     "prompt_number": 18
    },
    {
     "cell_type": "code",
     "collapsed": false,
     "input": [
      "def premiers2(n):\n",
      "    l = [2]\n",
      "    for i in range(2,n+1):\n",
      "        if testImpair(l, i):\n",
      "            l.append(i)\n",
      "    return l\n",
      "premiers2(17)"
     ],
     "language": "python",
     "metadata": {},
     "outputs": [
      {
       "metadata": {},
       "output_type": "pyout",
       "prompt_number": 19,
       "text": [
        "[2, 3, 5, 7, 11, 13, 17]"
       ]
      }
     ],
     "prompt_number": 19
    },
    {
     "cell_type": "code",
     "collapsed": false,
     "input": [
      "def compter(l,n):\n",
      "    alpha = []\n",
      "    alpha += list(np.zeros(l[0]-2, dtype=int))\n",
      "    i = 0\n",
      "    while (i<len(l)-1 and l[i+1]<=n):\n",
      "        for j in range(l[i+1]-l[i]):\n",
      "            alpha.append(i+1)        \n",
      "        i+=1\n",
      "    for j in range(n-len(alpha)-1):\n",
      "        alpha.append(i+1)\n",
      "    return alpha\n",
      "compter([3,5,7,10,11],9)"
     ],
     "language": "python",
     "metadata": {},
     "outputs": [
      {
       "metadata": {},
       "output_type": "pyout",
       "prompt_number": 70,
       "text": [
        "[0, 1, 1, 2, 2, 3, 3, 3]"
       ]
      }
     ],
     "prompt_number": 70
    },
    {
     "cell_type": "code",
     "collapsed": false,
     "input": [
      "n = 10000\n",
      "l = premiers2(n)\n",
      "pik = compter(l,n)\n",
      "k = range(2,n+1)\n",
      "plt.plot(k,pik)"
     ],
     "language": "python",
     "metadata": {},
     "outputs": [
      {
       "metadata": {},
       "output_type": "pyout",
       "prompt_number": 87,
       "text": [
        "[<matplotlib.lines.Line2D at 0xc492b70>]"
       ]
      }
     ],
     "prompt_number": 87
    },
    {
     "cell_type": "code",
     "collapsed": false,
     "input": [],
     "language": "python",
     "metadata": {},
     "outputs": [],
     "prompt_number": 77
    },
    {
     "cell_type": "code",
     "collapsed": false,
     "input": [],
     "language": "python",
     "metadata": {},
     "outputs": []
    }
   ],
   "metadata": {}
  }
 ]
}