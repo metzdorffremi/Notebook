{
 "metadata": {
  "name": "",
  "signature": "sha256:57833c2e742802fc8852e07458b3f27c6419db11dd01c38c22ce3e0d36e088fa"
 },
 "nbformat": 3,
 "nbformat_minor": 0,
 "worksheets": [
  {
   "cells": [
    {
     "cell_type": "code",
     "collapsed": false,
     "input": [
      "from pyinstruments import CurveDB\n",
      "import pandas"
     ],
     "language": "python",
     "metadata": {},
     "outputs": [],
     "prompt_number": 2
    },
    {
     "cell_type": "code",
     "collapsed": false,
     "input": [
      "c = CurveDB.objects.get(pk=2315)\n",
      "#fit = CurveDB.objects.get(pk=2314)"
     ],
     "language": "python",
     "metadata": {},
     "outputs": [],
     "prompt_number": 3
    },
    {
     "cell_type": "code",
     "collapsed": false,
     "input": [
      "c.params"
     ],
     "language": "python",
     "metadata": {},
     "outputs": [
      {
       "metadata": {},
       "output_type": "pyout",
       "prompt_number": 116,
       "text": [
        "{u'TEMs': 1,\n",
        " u'acquisition_type': u'SAM',\n",
        " u'analyze': u'users.remi.finesse',\n",
        " u'averaging': 2,\n",
        " u'channel': u'CH1',\n",
        " u'comment': u'',\n",
        " u'coupling': u'DC',\n",
        " u'curve_type': u'ScopeCurve',\n",
        " u'data_read_only': True,\n",
        " u'date': datetime.datetime(2015, 5, 27, 18, 16, 16),\n",
        " u'finesse': 39739.53666305139,\n",
        " u'fit_type': u'lorentzSB_rebonds_asymm',\n",
        " u'full_range': 0.1,\n",
        " u'id': 2315,\n",
        " u'input_freq_max': 100000000.0,\n",
        " u'input_impedance': 0,\n",
        " u'instrument_logical_name': u'Maitre',\n",
        " u'kappa_over_2pi': 15536422.61579877,\n",
        " u'length': 0.00024220367521690563,\n",
        " u'losses': 0.00015810917375444643,\n",
        " u'name': u'finesse measurements',\n",
        " u'offset': 0.0,\n",
        " u'parent_id': 0,\n",
        " u'peakthreshold': 0.4,\n",
        " u'pzt_freq': 20,\n",
        " u'record_length': 5000000,\n",
        " u'sample_rate': 125000000.0,\n",
        " u'sb_freq': 300000000.0,\n",
        " u'scheduledanalyzefunction': u'save_summary',\n",
        " u'tags_flatten': u';;',\n",
        " u'time_per_record': 0.04,\n",
        " u'user_has_read': True,\n",
        " u'window': u'default_win'}"
       ]
      }
     ],
     "prompt_number": 116
    },
    {
     "cell_type": "code",
     "collapsed": false,
     "input": [
      "#search pandas.Series sur google\n",
      "c.data?\n",
      "c.data.values?\n",
      "c.data.index.values?"
     ],
     "language": "python",
     "metadata": {},
     "outputs": [],
     "prompt_number": 12
    },
    {
     "cell_type": "code",
     "collapsed": false,
     "input": [
      "c.data.iloc[0:2]"
     ],
     "language": "python",
     "metadata": {},
     "outputs": [
      {
       "metadata": {},
       "output_type": "pyout",
       "prompt_number": 50,
       "text": [
        "0.999255    0.566\n",
        "0.999255    0.566\n",
        "dtype: float64"
       ]
      }
     ],
     "prompt_number": 50
    },
    {
     "cell_type": "code",
     "collapsed": false,
     "input": [
      "linscale_W = 10**(c.data/10)/1000"
     ],
     "language": "python",
     "metadata": {},
     "outputs": [],
     "prompt_number": 14
    },
    {
     "cell_type": "code",
     "collapsed": false,
     "input": [
      "c2 = CurveDB.create(linscale_W)\n",
      "c2.name = \"linscale\"\n",
      "c2.params[\"comment\"]=\"blabla\"\n",
      "c2.params[\"mean\"]=linscale_W.mean()\n",
      "c2.save()\n",
      "c.add_child(c2)"
     ],
     "language": "python",
     "metadata": {},
     "outputs": [],
     "prompt_number": 18
    },
    {
     "cell_type": "code",
     "collapsed": false,
     "input": [
      "c2 = pandas.Series(c.data.values, index = c.data.index*1e6)\n",
      "fit2 = pandas.Series(fit.data.values, index = fit.data.index*1e6)"
     ],
     "language": "python",
     "metadata": {},
     "outputs": [],
     "prompt_number": 109
    },
    {
     "cell_type": "code",
     "collapsed": false,
     "input": [
      "figure(1)\n",
      "clf()\n",
      "grid('on')\n",
      "c2.plot(label='$\\mathrm{Experimental\\ data\\ (}f_{PZT} = 10\\,\\mathrm{Hz)}$')\n",
      "fit2.plot(label='$\\mathrm{Fit}$')\n",
      "xlabel('$\\mathrm{Time\\ [\\mu s]}$')\n",
      "ylabel('$\\mathrm{Reflexion\\ signal\\ [V]}$')\n",
      "#xlim(c.data.index[0]*1e6,c.data.index[-1]*1e6)\n",
      "xlim(c.data.index[len(c.data.index)/4]*1e6,c.data.index[len(c.data.index)*3/4]*1e6)\n",
      "#ylim(c.data.values.min()-0.005,c.data.values.max()+0.06)\n",
      "ylim(0.3,c.data.values.max()+0.06)\n",
      "legend()"
     ],
     "language": "python",
     "metadata": {},
     "outputs": [
      {
       "metadata": {},
       "output_type": "pyout",
       "prompt_number": 114,
       "text": [
        "<matplotlib.legend.Legend at 0x199f6c90>"
       ]
      }
     ],
     "prompt_number": 114
    },
    {
     "cell_type": "code",
     "collapsed": false,
     "input": [
      "len(c.data.index)"
     ],
     "language": "python",
     "metadata": {},
     "outputs": [
      {
       "metadata": {},
       "output_type": "pyout",
       "prompt_number": 113,
       "text": [
        "2230"
       ]
      }
     ],
     "prompt_number": 113
    },
    {
     "cell_type": "code",
     "collapsed": false,
     "input": [
      "print c.params.finesse\n",
      "print c.params.length"
     ],
     "language": "python",
     "metadata": {},
     "outputs": [
      {
       "output_type": "stream",
       "stream": "stdout",
       "text": [
        "39739.5366631\n",
        "0.000242203675217\n"
       ]
      }
     ],
     "prompt_number": 119
    },
    {
     "cell_type": "code",
     "collapsed": false,
     "input": [],
     "language": "python",
     "metadata": {},
     "outputs": []
    }
   ],
   "metadata": {}
  }
 ]
}