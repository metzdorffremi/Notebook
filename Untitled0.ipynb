{
 "metadata": {
  "name": "",
  "signature": "sha256:349f5377d31893c741da8dc0fa111d9c595b351b58b026fe85699b6a47967137"
 },
 "nbformat": 3,
 "nbformat_minor": 0,
 "worksheets": [
  {
   "cells": [
    {
     "cell_type": "code",
     "collapsed": false,
     "input": [
      "'''\n",
      "Show all different interpolation methods for imshow\n",
      "'''\n",
      "\n",
      "import matplotlib.pyplot as plt\n",
      "import numpy as np\n",
      "\n",
      "# from the docs:\n",
      "\n",
      "# If interpolation is None, default to rc image.interpolation. See also\n",
      "# the filternorm and filterrad parameters. If interpolation is 'none', then\n",
      "# no interpolation is performed on the Agg, ps and pdf backends. Other\n",
      "# backends will fall back to 'nearest'.\n",
      "#\n",
      "# http://matplotlib.org/api/pyplot_api.html#matplotlib.pyplot.imshow\n",
      "\n",
      "methods = [None, 'none', 'nearest', 'bilinear', 'bicubic', 'spline16',\n",
      "           'spline36', 'hanning', 'hamming', 'hermite', 'kaiser', 'quadric',\n",
      "           'catrom', 'gaussian', 'bessel', 'mitchell', 'sinc', 'lanczos']\n",
      "\n",
      "grid = np.random.rand(4, 4)\n",
      "\n",
      "fig, axes = plt.subplots(3, 6, figsize=(12, 6),\n",
      "                         subplot_kw={'xticks': [], 'yticks': []})\n",
      "\n",
      "fig.subplots_adjust(hspace=0.3, wspace=0.05)\n",
      "\n",
      "for ax, interp_method in zip(axes.flat, methods):\n",
      "    ax.imshow(grid, interpolation=interp_method)\n",
      "    ax.set_title(interp_method)\n",
      "\n",
      "plt.show()"
     ],
     "language": "python",
     "metadata": {},
     "outputs": [],
     "prompt_number": 2
    }
   ],
   "metadata": {}
  }
 ]
}