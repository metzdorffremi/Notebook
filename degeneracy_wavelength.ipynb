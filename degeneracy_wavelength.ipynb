{
 "metadata": {
  "name": "",
  "signature": "sha256:df27b1131bf739e571fbeab68f436ffdc74ab723b616709144808d864b290bc5"
 },
 "nbformat": 3,
 "nbformat_minor": 0,
 "worksheets": [
  {
   "cells": [
    {
     "cell_type": "code",
     "collapsed": false,
     "input": [
      "from __future__ import division\n",
      "from stepper import Stepper\n",
      "from time import sleep\n",
      "from pyinstruments import CurveDB\n",
      "import pandas\n",
      "from users.remi import finesse\n",
      "from pyinstruments.pyhardwaredb import instrument\n",
      "\n",
      "constants = finesse.CONSTANTS_REMI_PILLAR"
     ],
     "language": "python",
     "metadata": {},
     "outputs": [],
     "prompt_number": 1
    },
    {
     "cell_type": "code",
     "collapsed": false,
     "input": [
      "s = Stepper()\n",
      "w = finesse.FinesseMeasurementWidget(hidden=True)"
     ],
     "language": "python",
     "metadata": {},
     "outputs": [],
     "prompt_number": 2
    },
    {
     "cell_type": "code",
     "collapsed": false,
     "input": [
      "s.position()"
     ],
     "language": "python",
     "metadata": {},
     "outputs": [
      {
       "output_type": "stream",
       "stream": "stdout",
       "text": [
        "I'm at step: 23900\n",
        "Distance to reference point: 14937.5 um\n"
       ]
      },
      {
       "metadata": {},
       "output_type": "pyout",
       "prompt_number": 3,
       "text": [
        "23900"
       ]
      }
     ],
     "prompt_number": 3
    },
    {
     "cell_type": "code",
     "collapsed": false,
     "input": [
      "s.goToStepN(0)"
     ],
     "language": "python",
     "metadata": {},
     "outputs": [
      {
       "metadata": {},
       "output_type": "pyout",
       "prompt_number": 5,
       "text": [
        "True"
       ]
      }
     ],
     "prompt_number": 5
    },
    {
     "cell_type": "code",
     "collapsed": false,
     "input": [
      "pos_deg = 23894\n",
      "s.goToStepN(pos_deg)"
     ],
     "language": "python",
     "metadata": {},
     "outputs": [
      {
       "metadata": {},
       "output_type": "pyout",
       "prompt_number": 12,
       "text": [
        "True"
       ]
      }
     ],
     "prompt_number": 12
    },
    {
     "cell_type": "code",
     "collapsed": false,
     "input": [
      "parent_curve = CurveDB()\n",
      "parent_curve.name = \"degeneracy_at_step_\"+str(pos_deg)\n",
      "parent_curve.save()"
     ],
     "language": "python",
     "metadata": {},
     "outputs": [
      {
       "output_type": "stream",
       "stream": "stdout",
       "text": [
        "\n"
       ]
      }
     ],
     "prompt_number": 8
    },
    {
     "cell_type": "code",
     "collapsed": false,
     "input": [
      "#parent_curve.pk: 166120\n",
      "parent_curve = CurveDB.objects.get(pk=166120)"
     ],
     "language": "python",
     "metadata": {},
     "outputs": [],
     "prompt_number": 5
    },
    {
     "cell_type": "code",
     "collapsed": false,
     "input": [
      "N_steps = 11 #number of different positions\n",
      "wavelength = 1066.9\n",
      "\n",
      "sub_parent_curve = CurveDB()\n",
      "sub_parent_curve.name = \"wavelength_\"+str(wavelength)\n",
      "sub_parent_curve.save()\n",
      "\n",
      "curve_acquired = 0\n",
      "for step in range(pos_deg - int(N_steps/2), pos_deg + int(N_steps/2+1)):\n",
      "    s.goToStepN(step)\n",
      "    sleep(15)\n",
      "    current_pos = s.quiet_position()\n",
      "    current_pk, current_length, current_F = w.acquire_params(\"degeneracy_\" + str(current_pos),\n",
      "                                                             clever_downsample=True, fit_immediately=False)\n",
      "    print 'curve:', curve_acquired+1, '\\tstep:', current_pos\n",
      "    c = CurveDB.objects.get(pk=current_pk)\n",
      "    c.params[\"stepper_pos\"]=current_pos\n",
      "    c.params[\"wavelength\"]=wavelength\n",
      "    c.save()\n",
      "    sub_parent_curve.add_child(c)\n",
      "    del c\n",
      "    curve_acquired += 1\n",
      "parent_curve.add_child(sub_parent_curve)\n",
      "del sub_parent_curve"
     ],
     "language": "python",
     "metadata": {},
     "outputs": [
      {
       "output_type": "stream",
       "stream": "stdout",
       "text": [
        "curve: 1 \tstep: 23889\n",
        "curve:"
       ]
      },
      {
       "output_type": "stream",
       "stream": "stdout",
       "text": [
        " 2 \tstep: 23890\n",
        "curve:"
       ]
      },
      {
       "output_type": "stream",
       "stream": "stdout",
       "text": [
        " 3 \tstep: 23891\n",
        "curve:"
       ]
      },
      {
       "output_type": "stream",
       "stream": "stdout",
       "text": [
        " 4 \tstep: 23892\n",
        "curve:"
       ]
      },
      {
       "output_type": "stream",
       "stream": "stdout",
       "text": [
        " 5 \tstep: 23893\n",
        "curve:"
       ]
      },
      {
       "output_type": "stream",
       "stream": "stdout",
       "text": [
        " 6 \tstep: 23894\n",
        "curve:"
       ]
      },
      {
       "output_type": "stream",
       "stream": "stdout",
       "text": [
        " 7 \tstep: 23895\n",
        "curve:"
       ]
      },
      {
       "output_type": "stream",
       "stream": "stdout",
       "text": [
        " 8 \tstep: 23896\n",
        "curve:"
       ]
      },
      {
       "output_type": "stream",
       "stream": "stdout",
       "text": [
        " 9 \tstep: 23897\n",
        "curve:"
       ]
      },
      {
       "output_type": "stream",
       "stream": "stdout",
       "text": [
        " 10 \tstep: 23898\n",
        "curve:"
       ]
      },
      {
       "output_type": "stream",
       "stream": "stdout",
       "text": [
        " 11 \tstep: 23899\n"
       ]
      }
     ],
     "prompt_number": 13
    },
    {
     "cell_type": "code",
     "collapsed": false,
     "input": [
      "s.closeProperly()"
     ],
     "language": "python",
     "metadata": {},
     "outputs": [
      {
       "output_type": "stream",
       "stream": "stdout",
       "text": [
        "Saved position: 23899\n"
       ]
      }
     ],
     "prompt_number": 19
    },
    {
     "cell_type": "code",
     "collapsed": false,
     "input": [],
     "language": "python",
     "metadata": {},
     "outputs": []
    }
   ],
   "metadata": {}
  }
 ]
}