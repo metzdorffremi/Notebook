{
 "metadata": {
  "name": "",
  "signature": "sha256:e2ca70883f6e822f4275d8f259416cac93ef82cfb8339a1974596a918bca6626"
 },
 "nbformat": 3,
 "nbformat_minor": 0,
 "worksheets": [
  {
   "cells": [
    {
     "cell_type": "code",
     "collapsed": false,
     "input": [
      "#Improved version of degeneracy_wavelength with a few points far after \n",
      "#and far before the degeneracy to have a better idea of the length \n",
      "\n",
      "from __future__ import division\n",
      "from stepper import Stepper\n",
      "from time import sleep\n",
      "from pyinstruments import CurveDB\n",
      "import pandas\n",
      "from users.remi import finesse\n",
      "from pyinstruments.pyhardwaredb import instrument\n",
      "\n",
      "constants = finesse.CONSTANTS_REMI_PILLAR"
     ],
     "language": "python",
     "metadata": {},
     "outputs": [],
     "prompt_number": 1
    },
    {
     "cell_type": "code",
     "collapsed": false,
     "input": [
      "#Initialization of the stepper\n",
      "s = Stepper()\n",
      "w = finesse.FinesseMeasurementWidget(hidden=True)"
     ],
     "language": "python",
     "metadata": {},
     "outputs": [],
     "prompt_number": 2
    },
    {
     "cell_type": "code",
     "collapsed": false,
     "input": [
      "#Check the position to avoid crashes\n",
      "s.position()"
     ],
     "language": "python",
     "metadata": {},
     "outputs": [
      {
       "output_type": "stream",
       "stream": "stdout",
       "text": [
        "I'm at step: 24098\n",
        "Distance to reference point: 15061.25 um\n"
       ]
      },
      {
       "metadata": {},
       "output_type": "pyout",
       "prompt_number": 14,
       "text": [
        "24098"
       ]
      }
     ],
     "prompt_number": 14
    },
    {
     "cell_type": "code",
     "collapsed": false,
     "input": [
      "#More precise check\n",
      "s.goToStepN(0)"
     ],
     "language": "python",
     "metadata": {},
     "outputs": [
      {
       "metadata": {},
       "output_type": "pyout",
       "prompt_number": 78,
       "text": [
        "True"
       ]
      }
     ],
     "prompt_number": 78
    },
    {
     "cell_type": "code",
     "collapsed": false,
     "input": [
      "#If necessary\n",
      "s.calibrate()"
     ],
     "language": "python",
     "metadata": {},
     "outputs": []
    },
    {
     "cell_type": "code",
     "collapsed": false,
     "input": [
      "#Choose the step where the degeneracy occurs\n",
      "pos_deg = 23894\n",
      "s.goToStepN(pos_deg)"
     ],
     "language": "python",
     "metadata": {},
     "outputs": [
      {
       "metadata": {},
       "output_type": "pyout",
       "prompt_number": 79,
       "text": [
        "True"
       ]
      }
     ],
     "prompt_number": 79
    },
    {
     "cell_type": "code",
     "collapsed": false,
     "input": [
      "#Create the curve that collects the results\n",
      "parent_curve = CurveDB()\n",
      "parent_curve.name = \"degeneracy_with_wings_at_step_\"+str(pos_deg)\n",
      "parent_curve.save()"
     ],
     "language": "python",
     "metadata": {},
     "outputs": [],
     "prompt_number": 18
    },
    {
     "cell_type": "code",
     "collapsed": false,
     "input": [
      "#parent_curve.pk: 175476\n",
      "parent_curve = CurveDB.objects.get(pk=175476)"
     ],
     "language": "python",
     "metadata": {},
     "outputs": [],
     "prompt_number": 11
    },
    {
     "cell_type": "code",
     "collapsed": false,
     "input": [
      "wavelength = 1066.1 #Laser wavelength\n",
      "\n",
      "N_steps = 11 #number of different positions around\n",
      "N_steps_wings = 5 #number of steps on each side far from the degeneracy\n",
      "short_wing_step = pos_deg+206 #step for a shorter cavity\n",
      "long_wing_step  = pos_deg-89 #step for a longer cavity\n",
      "\n",
      "sub_parent_curve = CurveDB.objects.get(pk=175620)\n",
      "#sub_parent_curve = CurveDB()\n",
      "#sub_parent_curve.name = \"wavelength_\"+str(wavelength)\n",
      "#sub_parent_curve.params[\"wavelength\"] = wavelength\n",
      "#sub_parent_curve.params[\"wing_size\"] = N_steps_wings\n",
      "#sub_parent_curve.params[\"degeneracy_size\"] = N_steps\n",
      "#sub_parent_curve.params[\"pos_deg\"] = pos_deg\n",
      "#sub_parent_curve.save()\n",
      "#parent_curve.add_child(sub_parent_curve)\n",
      "\n",
      "curve_acquired = 0\n",
      "\n",
      "#long wing\n",
      "print \"Long length wing acquisition\"\n",
      "s.goToStepN(long_wing_step)\n",
      "sleep(30)\n",
      "for step in range(long_wing_step, long_wing_step + N_steps_wings):\n",
      "    s.goToStepN(step)\n",
      "    sleep(15)\n",
      "    current_pos = s.quiet_position()\n",
      "    current_pk, current_length, current_F = w.acquire_params(\"long_length_wing_\" + str(current_pos),\n",
      "                                                             clever_downsample=True, fit_immediately=False)\n",
      "    print 'curve:', curve_acquired+1, '\\tstep:', current_pos\n",
      "    c = CurveDB.objects.get(pk=current_pk)\n",
      "    c.params[\"stepper_pos\"]=current_pos\n",
      "    c.params[\"wavelength\"]=wavelength\n",
      "    c.save()\n",
      "    sub_parent_curve.add_child(c)\n",
      "    del c\n",
      "    curve_acquired += 1\n",
      "\n",
      "#Degeneracy\n",
      "print \"Degeneracy acquisition\"\n",
      "s.goToStepN(pos_deg)\n",
      "sleep(30)\n",
      "for step in range(pos_deg - int(N_steps/2), pos_deg + int(N_steps/2+1)):\n",
      "    s.goToStepN(step)\n",
      "    sleep(15)\n",
      "    current_pos = s.quiet_position()\n",
      "    current_pk, current_length, current_F = w.acquire_params(\"degeneracy_\" + str(current_pos),\n",
      "                                                             clever_downsample=True, fit_immediately=False)\n",
      "    print 'curve:', curve_acquired+1, '\\tstep:', current_pos\n",
      "    c = CurveDB.objects.get(pk=current_pk)\n",
      "    c.params[\"stepper_pos\"]=current_pos\n",
      "    c.params[\"wavelength\"]=wavelength\n",
      "    c.save()\n",
      "    sub_parent_curve.add_child(c)\n",
      "    del c\n",
      "    curve_acquired += 1\n",
      "\n",
      "#short wing\n",
      "print \"Short length wing acquisition\"\n",
      "s.goToStepN(short_wing_step)\n",
      "sleep(5)\n",
      "for step in range(short_wing_step-N_steps_wings, short_wing_step):\n",
      "    s.goToStepN(step)\n",
      "    sleep(15)\n",
      "    current_pos = s.quiet_position()\n",
      "    current_pk, current_length, current_F = w.acquire_params(\"short_length_wing_\" + str(current_pos),\n",
      "                                                             clever_downsample=True, fit_immediately=False)\n",
      "    print 'curve:', curve_acquired+1, '\\tstep:', current_pos\n",
      "    c = CurveDB.objects.get(pk=current_pk)\n",
      "    c.params[\"stepper_pos\"]=current_pos\n",
      "    c.params[\"wavelength\"]=wavelength\n",
      "    c.save()\n",
      "    sub_parent_curve.add_child(c)\n",
      "    del c\n",
      "    curve_acquired += 1\n",
      "\n",
      "del sub_parent_curve"
     ],
     "language": "python",
     "metadata": {},
     "outputs": [
      {
       "output_type": "stream",
       "stream": "stdout",
       "text": [
        "Long length wing acquisition\n",
        "curve:"
       ]
      },
      {
       "output_type": "stream",
       "stream": "stdout",
       "text": [
        " 1 \tstep: 23805\n",
        "curve:"
       ]
      },
      {
       "output_type": "stream",
       "stream": "stdout",
       "text": [
        " 2 \tstep: 23806\n",
        "curve:"
       ]
      },
      {
       "output_type": "stream",
       "stream": "stdout",
       "text": [
        " 3 \tstep: 23807\n",
        "curve:"
       ]
      },
      {
       "output_type": "stream",
       "stream": "stdout",
       "text": [
        " 4 \tstep: 23808\n",
        "curve:"
       ]
      },
      {
       "output_type": "stream",
       "stream": "stdout",
       "text": [
        " 5 \tstep: 23809\n",
        "Degeneracy acquisition\n",
        "curve:"
       ]
      },
      {
       "output_type": "stream",
       "stream": "stdout",
       "text": [
        " 6 \tstep: 23889\n",
        "curve:"
       ]
      },
      {
       "output_type": "stream",
       "stream": "stdout",
       "text": [
        " 7 \tstep: 23890\n",
        "curve:"
       ]
      },
      {
       "output_type": "stream",
       "stream": "stdout",
       "text": [
        " 8 \tstep: 23891\n",
        "curve:"
       ]
      },
      {
       "output_type": "stream",
       "stream": "stdout",
       "text": [
        " 9 \tstep: 23892\n",
        "curve:"
       ]
      },
      {
       "output_type": "stream",
       "stream": "stdout",
       "text": [
        " 10 \tstep: 23893\n",
        "curve:"
       ]
      },
      {
       "output_type": "stream",
       "stream": "stdout",
       "text": [
        " 11 \tstep: 23894\n",
        "curve:"
       ]
      },
      {
       "output_type": "stream",
       "stream": "stdout",
       "text": [
        " 12 \tstep: 23895\n",
        "curve:"
       ]
      },
      {
       "output_type": "stream",
       "stream": "stdout",
       "text": [
        " 13 \tstep: 23896\n",
        "curve:"
       ]
      },
      {
       "output_type": "stream",
       "stream": "stdout",
       "text": [
        " 14 \tstep: 23897\n",
        "curve:"
       ]
      },
      {
       "output_type": "stream",
       "stream": "stdout",
       "text": [
        " 15 \tstep: 23898\n",
        "curve:"
       ]
      },
      {
       "output_type": "stream",
       "stream": "stdout",
       "text": [
        " 16 \tstep: 23899\n",
        "Short length wing acquisition\n",
        "curve:"
       ]
      },
      {
       "output_type": "stream",
       "stream": "stdout",
       "text": [
        " 17 \tstep: 24095\n",
        "curve:"
       ]
      },
      {
       "output_type": "stream",
       "stream": "stdout",
       "text": [
        " 18 \tstep: 24096\n",
        "curve:"
       ]
      },
      {
       "output_type": "stream",
       "stream": "stdout",
       "text": [
        " 19 \tstep: 24097\n",
        "curve:"
       ]
      },
      {
       "output_type": "stream",
       "stream": "stdout",
       "text": [
        " 20 \tstep: 24098\n",
        "curve:"
       ]
      },
      {
       "output_type": "stream",
       "stream": "stdout",
       "text": [
        " 21 \tstep: 24099\n"
       ]
      }
     ],
     "prompt_number": 76
    },
    {
     "cell_type": "code",
     "collapsed": false,
     "input": [
      "s.closeProperly()"
     ],
     "language": "python",
     "metadata": {},
     "outputs": [
      {
       "output_type": "stream",
       "stream": "stdout",
       "text": [
        "Saved position: 23894\n"
       ]
      }
     ],
     "prompt_number": 80
    },
    {
     "cell_type": "code",
     "collapsed": false,
     "input": [],
     "language": "python",
     "metadata": {},
     "outputs": []
    }
   ],
   "metadata": {}
  }
 ]
}