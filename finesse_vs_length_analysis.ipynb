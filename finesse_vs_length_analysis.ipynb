{
 "metadata": {
  "name": "",
  "signature": "sha256:f4fb16619a080a58545b5ac642e49a6a01378df8cae85fff6f4a1c6cd204a4bd"
 },
 "nbformat": 3,
 "nbformat_minor": 0,
 "worksheets": [
  {
   "cells": [
    {
     "cell_type": "code",
     "collapsed": false,
     "input": [
      "#finesse_vs_length_analysis\n",
      "\"\"\"Calculate finesse and length for all curves in the parent curve and plot results\"\"\"\n",
      "from __future__ import division\n",
      "from pyinstruments import CurveDB\n",
      "from users.remi import finesse\n",
      "import gc\n",
      "\n",
      "#parent curve pk\n",
      "parent_pk = 88805"
     ],
     "language": "python",
     "metadata": {},
     "outputs": [],
     "prompt_number": 1
    },
    {
     "cell_type": "code",
     "collapsed": false,
     "input": [
      "parentCurve = CurveDB.objects.get(pk=parent_pk)\n",
      "pks  = [c.pk for c in parentCurve.childs.all()]\n",
      "for pk in pks:\n",
      "    if pk >= 89432:# and pk <= 69426:\n",
      "        curve = CurveDB.objects.get(pk=pk)\n",
      "        #curve.params[\"peakthreshold\"] = 0.4\n",
      "        curve.params[\"max_portions\"] = 18\n",
      "        curve.params[\"min_portions\"] = 12\n",
      "        curve.save()"
     ],
     "language": "python",
     "metadata": {},
     "outputs": [],
     "prompt_number": 3
    },
    {
     "cell_type": "code",
     "collapsed": false,
     "input": [
      "parentCurve = CurveDB.objects.get(pk=parent_pk)\n",
      "pks  = [c.pk for c in parentCurve.childs.all() if c.pk >= 91612] #90878\n",
      "for i,pk in enumerate(pks):\n",
      "    print \"iteration {0:4}, curve {1:6}\".format(i, pk)\n",
      "    finesse.analyze_save_summary(pk)\n",
      "    gc.collect()\n",
      "    last_fitted_curve = pk"
     ],
     "language": "python",
     "metadata": {},
     "outputs": [
      {
       "output_type": "stream",
       "stream": "stderr",
       "text": [
        "C:\\Python27\\lib\\site-packages\\pandas\\io\\pytables.py:528: DeprecationWarning: openFile() is pending deprecation, use open_file() instead. You may use the pt2to3 tool to update your source code.\n",
        "  self._handle = tables.openFile(self._path, self._mode, **kwargs)\n",
        "\n"
       ]
      },
      {
       "output_type": "stream",
       "stream": "stderr",
       "text": [
        "WARNING:py.warnings:C:\\Python27\\lib\\site-packages\\pandas\\io\\pytables.py:528: DeprecationWarning: openFile() is pending deprecation, use open_file() instead. You may use the pt2to3 tool to update your source code.\n",
        "  self._handle = tables.openFile(self._path, self._mode, **kwargs)\n",
        "\n"
       ]
      },
      {
       "output_type": "stream",
       "stream": "stderr",
       "text": [
        "C:\\Python27\\lib\\site-packages\\pandas\\io\\pytables.py:1044: DeprecationWarning: getNode() is pending deprecation, use get_node() instead. You may use the pt2to3 tool to update your source code.\n",
        "  return self._handle.getNode(self.root, key)\n",
        "\n"
       ]
      },
      {
       "output_type": "stream",
       "stream": "stderr",
       "text": [
        "WARNING:py.warnings:C:\\Python27\\lib\\site-packages\\pandas\\io\\pytables.py:1044: DeprecationWarning: getNode() is pending deprecation, use get_node() instead. You may use the pt2to3 tool to update your source code.\n",
        "  return self._handle.getNode(self.root, key)\n",
        "\n"
       ]
      },
      {
       "output_type": "stream",
       "stream": "stdout",
       "text": [
        "iteration    0, curve  90878\n",
        "=========================="
       ]
      },
      {
       "output_type": "stream",
       "stream": "stdout",
       "text": [
        "\n",
        "F moyenne\tF min\t\tF max\n",
        "75789.5168827 \t70178.3541178 \t78720.3832895\n",
        "==========================\n",
        "iteration    1, curve  90880"
       ]
      },
      {
       "output_type": "stream",
       "stream": "stdout",
       "text": [
        "\n",
        "Partitioning curve into peaks...\n",
        "attempt: "
       ]
      },
      {
       "output_type": "stream",
       "stream": "stderr",
       "text": [
        "C:\\Python27\\lib\\site-packages\\scipy\\optimize\\minpack.py:419: RuntimeWarning: Number of calls to function has reached maxfev = 100.\n",
        "  warnings.warn(errors[info][0], RuntimeWarning)\n",
        "\n"
       ]
      },
      {
       "output_type": "stream",
       "stream": "stderr",
       "text": [
        "WARNING:py.warnings:C:\\Python27\\lib\\site-packages\\scipy\\optimize\\minpack.py:419: RuntimeWarning: Number of calls to function has reached maxfev = 100.\n",
        "  warnings.warn(errors[info][0], RuntimeWarning)\n",
        "\n"
       ]
      },
      {
       "output_type": "stream",
       "stream": "stdout",
       "text": [
        " 0 threshold: 0.4 peaks: 12\n",
        "Fitting individual peaks...\n",
        "=========================="
       ]
      },
      {
       "output_type": "stream",
       "stream": "stdout",
       "text": [
        "\n",
        "F moyenne\tF min\t\tF max\n",
        "73931.9401792 \t68171.9251595 \t78425.6171249\n",
        "==========================\n",
        "iteration    2, curve  90882"
       ]
      },
      {
       "output_type": "stream",
       "stream": "stdout",
       "text": [
        "\n",
        "Partitioning curve into peaks...\n",
        "attempt: "
       ]
      },
      {
       "output_type": "stream",
       "stream": "stdout",
       "text": [
        " 0 threshold: 0.4 peaks: 12\n",
        "Fitting individual peaks...\n",
        "=========================="
       ]
      },
      {
       "output_type": "stream",
       "stream": "stdout",
       "text": [
        "\n",
        "F moyenne\tF min\t\tF max\n",
        "80351.5418697 \t74389.7829046 \t85828.1788808\n",
        "==========================\n",
        "iteration    3, curve  90884"
       ]
      },
      {
       "output_type": "stream",
       "stream": "stdout",
       "text": [
        "\n",
        "Partitioning curve into peaks...\n",
        "attempt: "
       ]
      },
      {
       "output_type": "stream",
       "stream": "stdout",
       "text": [
        " 0 threshold: 0.4 peaks: 12\n",
        "Fitting individual peaks...\n",
        "=========================="
       ]
      },
      {
       "output_type": "stream",
       "stream": "stdout",
       "text": [
        "\n",
        "F moyenne\tF min\t\tF max\n",
        "73518.2611919 \t51385.5639328 \t81118.3095717\n",
        "==========================\n",
        "iteration    4, curve  90886"
       ]
      },
      {
       "output_type": "stream",
       "stream": "stdout",
       "text": [
        "\n",
        "Partitioning curve into peaks...\n",
        "attempt: "
       ]
      },
      {
       "output_type": "stream",
       "stream": "stdout",
       "text": [
        " 0 threshold: 0.4 peaks: 12\n",
        "Fitting individual peaks...\n",
        "=========================="
       ]
      },
      {
       "output_type": "stream",
       "stream": "stdout",
       "text": [
        "\n",
        "F moyenne\tF min\t\tF max\n",
        "77745.5853355 \t71608.5378088 \t85743.1723685\n",
        "==========================\n",
        "iteration    5, curve  90888"
       ]
      },
      {
       "output_type": "stream",
       "stream": "stdout",
       "text": [
        "\n",
        "Partitioning curve into peaks...\n",
        "attempt: "
       ]
      },
      {
       "output_type": "stream",
       "stream": "stdout",
       "text": [
        " 0 threshold: 0.4 peaks: 12\n",
        "Fitting individual peaks...\n",
        "=========================="
       ]
      },
      {
       "output_type": "stream",
       "stream": "stdout",
       "text": [
        "\n",
        "F moyenne\tF min\t\tF max\n",
        "77434.6414884 \t67867.1216841 \t82914.0709359"
       ]
      },
      {
       "output_type": "stream",
       "stream": "stdout",
       "text": [
        "\n",
        "==========================\n",
        "iteration    6, curve  90890"
       ]
      },
      {
       "output_type": "stream",
       "stream": "stdout",
       "text": [
        "\n",
        "Partitioning curve into peaks...\n",
        "attempt: "
       ]
      },
      {
       "output_type": "stream",
       "stream": "stdout",
       "text": [
        " 0 threshold: 0.4 peaks: 12\n",
        "Fitting individual peaks...\n",
        "=========================="
       ]
      },
      {
       "output_type": "stream",
       "stream": "stdout",
       "text": [
        "\n",
        "F moyenne\tF min\t\tF max\n",
        "74902.5939957 \t68932.4869738 \t79006.7329294\n",
        "==========================\n",
        "iteration    7, curve  90892"
       ]
      },
      {
       "output_type": "stream",
       "stream": "stdout",
       "text": [
        "\n",
        "Partitioning curve into peaks...\n",
        "attempt: "
       ]
      },
      {
       "output_type": "stream",
       "stream": "stdout",
       "text": [
        " 0 threshold: 0.4 peaks: 12\n",
        "Fitting individual peaks...\n",
        "=========================="
       ]
      },
      {
       "output_type": "stream",
       "stream": "stdout",
       "text": [
        "\n",
        "F moyenne\tF min\t\tF max\n",
        "79716.0111809 \t71153.5347693 \t87924.7178465\n",
        "==========================\n",
        "iteration    8, curve  90894"
       ]
      },
      {
       "output_type": "stream",
       "stream": "stdout",
       "text": [
        "\n",
        "Partitioning curve into peaks...\n",
        "attempt: "
       ]
      },
      {
       "output_type": "stream",
       "stream": "stdout",
       "text": [
        " 0 threshold: 0.4 peaks: 12\n",
        "Fitting individual peaks...\n",
        "=========================="
       ]
      },
      {
       "output_type": "stream",
       "stream": "stdout",
       "text": [
        "\n",
        "F moyenne\tF min\t\tF max\n",
        "74986.55494 \t63276.3666528 \t83878.6045175"
       ]
      },
      {
       "output_type": "stream",
       "stream": "stdout",
       "text": [
        "\n",
        "==========================\n",
        "iteration    9, curve  90896"
       ]
      },
      {
       "output_type": "stream",
       "stream": "stdout",
       "text": [
        "\n",
        "Partitioning curve into peaks...\n",
        "attempt: "
       ]
      },
      {
       "output_type": "stream",
       "stream": "stdout",
       "text": [
        " 0 threshold: 0.4 peaks: 12\n",
        "Fitting individual peaks...\n",
        "=========================="
       ]
      },
      {
       "output_type": "stream",
       "stream": "stdout",
       "text": [
        "\n",
        "F moyenne\tF min\t\tF max\n",
        "75716.8131949 \t62089.5932369 \t86215.8185298\n",
        "==========================\n",
        "iteration   10, curve  90898"
       ]
      },
      {
       "output_type": "stream",
       "stream": "stdout",
       "text": [
        "\n",
        "Partitioning curve into peaks...\n",
        "attempt: "
       ]
      },
      {
       "output_type": "stream",
       "stream": "stdout",
       "text": [
        " 0 threshold: 0.4 peaks: 12\n",
        "Fitting individual peaks...\n",
        "=========================="
       ]
      },
      {
       "output_type": "stream",
       "stream": "stdout",
       "text": [
        "\n",
        "F moyenne\tF min\t\tF max\n",
        "73099.5020893 \t67045.3697247 \t79759.2687707\n",
        "==========================\n",
        "iteration   11, curve  90900"
       ]
      },
      {
       "output_type": "stream",
       "stream": "stdout",
       "text": [
        "\n",
        "Partitioning curve into peaks...\n",
        "attempt: "
       ]
      },
      {
       "output_type": "stream",
       "stream": "stdout",
       "text": [
        " 0 threshold: 0.4 peaks: 12\n",
        "Fitting individual peaks...\n",
        "=========================="
       ]
      },
      {
       "output_type": "stream",
       "stream": "stdout",
       "text": [
        "\n",
        "F moyenne\tF min\t\tF max\n",
        "76404.528094 \t72893.5094638 \t80343.0162621\n",
        "==========================\n",
        "iteration   12, curve  90902"
       ]
      },
      {
       "output_type": "stream",
       "stream": "stdout",
       "text": [
        "\n",
        "Partitioning curve into peaks...\n",
        "attempt: "
       ]
      },
      {
       "output_type": "stream",
       "stream": "stdout",
       "text": [
        " 0 threshold: 0.4 peaks: 12\n",
        "Fitting individual peaks...\n",
        "=========================="
       ]
      },
      {
       "output_type": "stream",
       "stream": "stdout",
       "text": [
        "\n",
        "F moyenne\tF min\t\tF max\n",
        "73849.3703519 \t66749.9005576 \t77511.2065556\n",
        "==========================\n",
        "iteration   13, curve  90904"
       ]
      },
      {
       "output_type": "stream",
       "stream": "stdout",
       "text": [
        "\n",
        "Partitioning curve into peaks...\n",
        "attempt: "
       ]
      },
      {
       "output_type": "stream",
       "stream": "stdout",
       "text": [
        " 0 threshold: 0.4 peaks: 12\n",
        "Fitting individual peaks...\n",
        "=========================="
       ]
      },
      {
       "output_type": "stream",
       "stream": "stdout",
       "text": [
        "\n",
        "F moyenne\tF min\t\tF max\n",
        "79319.1873128 \t73796.9708415 \t84248.859267\n",
        "==========================\n",
        "iteration   14, curve  90906"
       ]
      },
      {
       "output_type": "stream",
       "stream": "stdout",
       "text": [
        "\n",
        "Partitioning curve into peaks...\n",
        "attempt: "
       ]
      },
      {
       "output_type": "stream",
       "stream": "stdout",
       "text": [
        " 0 threshold: 0.4 peaks: 12\n",
        "Fitting individual peaks...\n",
        "=========================="
       ]
      },
      {
       "output_type": "stream",
       "stream": "stdout",
       "text": [
        "\n",
        "F moyenne\tF min\t\tF max\n",
        "82878.6001166 \t77765.5489351 \t90676.3120445\n",
        "==========================\n",
        "iteration   15, curve  90908"
       ]
      },
      {
       "output_type": "stream",
       "stream": "stdout",
       "text": [
        "\n",
        "Partitioning curve into peaks...\n",
        "attempt: "
       ]
      },
      {
       "output_type": "stream",
       "stream": "stdout",
       "text": [
        " 0 threshold: 0.4 peaks: 12\n",
        "Fitting individual peaks...\n",
        "=========================="
       ]
      },
      {
       "output_type": "stream",
       "stream": "stdout",
       "text": [
        "\n",
        "F moyenne\tF min\t\tF max\n",
        "74721.3974956 \t65771.6830555 \t79151.7658469\n",
        "==========================\n",
        "iteration   16, curve  90910"
       ]
      },
      {
       "output_type": "stream",
       "stream": "stdout",
       "text": [
        "\n",
        "Partitioning curve into peaks...\n",
        "attempt: "
       ]
      },
      {
       "output_type": "stream",
       "stream": "stdout",
       "text": [
        " 0 threshold: 0.4 peaks: 12\n",
        "Fitting individual peaks...\n",
        "=========================="
       ]
      },
      {
       "output_type": "stream",
       "stream": "stdout",
       "text": [
        "\n",
        "F moyenne\tF min\t\tF max\n",
        "76707.8771202 \t71102.8620592 \t83114.9894772\n",
        "==========================\n",
        "iteration   17, curve  90912"
       ]
      },
      {
       "output_type": "stream",
       "stream": "stdout",
       "text": [
        "\n",
        "Partitioning curve into peaks...\n",
        "attempt: "
       ]
      },
      {
       "output_type": "stream",
       "stream": "stdout",
       "text": [
        " 0 threshold: 0.4 peaks: 12\n",
        "Fitting individual peaks...\n",
        "=========================="
       ]
      },
      {
       "output_type": "stream",
       "stream": "stdout",
       "text": [
        "\n",
        "F moyenne\tF min\t\tF max\n",
        "74812.0093117 \t70776.8211038 \t80899.7487428\n",
        "==========================\n",
        "iteration   18, curve  90914"
       ]
      },
      {
       "output_type": "stream",
       "stream": "stdout",
       "text": [
        "\n",
        "Partitioning curve into peaks...\n",
        "attempt: "
       ]
      },
      {
       "output_type": "stream",
       "stream": "stdout",
       "text": [
        " 0 threshold: 0.4 peaks: 12\n",
        "Fitting individual peaks...\n",
        "=========================="
       ]
      },
      {
       "output_type": "stream",
       "stream": "stdout",
       "text": [
        "\n",
        "F moyenne\tF min\t\tF max\n",
        "1053219.48398 \t30704.2733414 \t1227493.42913\n",
        "==========================\n",
        "iteration   19, curve  90916"
       ]
      },
      {
       "output_type": "stream",
       "stream": "stdout",
       "text": [
        "\n",
        "Partitioning curve into peaks...\n",
        "attempt: "
       ]
      },
      {
       "output_type": "stream",
       "stream": "stdout",
       "text": [
        " 0 threshold: 0.4 peaks: 12\n",
        "Fitting individual peaks...\n",
        "=========================="
       ]
      },
      {
       "output_type": "stream",
       "stream": "stdout",
       "text": [
        "\n",
        "F moyenne\tF min\t\tF max\n",
        "75625.5379271 \t70733.0041582 \t79971.530682\n",
        "==========================\n",
        "iteration   20, curve  90918"
       ]
      },
      {
       "output_type": "stream",
       "stream": "stdout",
       "text": [
        "\n",
        "Partitioning curve into peaks...\n",
        "attempt: "
       ]
      },
      {
       "output_type": "stream",
       "stream": "stdout",
       "text": [
        " 0 threshold: 0.4 peaks: 12\n",
        "Fitting individual peaks...\n",
        "=========================="
       ]
      },
      {
       "output_type": "stream",
       "stream": "stdout",
       "text": [
        "\n",
        "F moyenne\tF min\t\tF max\n",
        "78115.6953859 \t70271.9693294 \t83902.2668146\n",
        "==========================\n",
        "iteration   21, curve  90920"
       ]
      },
      {
       "output_type": "stream",
       "stream": "stdout",
       "text": [
        "\n",
        "Partitioning curve into peaks...\n",
        "attempt: "
       ]
      },
      {
       "output_type": "stream",
       "stream": "stdout",
       "text": [
        " 0 threshold: 0.4 peaks: 16\n",
        "Fitting individual peaks...\n",
        "=========================="
       ]
      },
      {
       "output_type": "stream",
       "stream": "stdout",
       "text": [
        "\n",
        "F moyenne\tF min\t\tF max\n",
        "74831.4151643 \t59539.6802506 \t86527.2811356"
       ]
      },
      {
       "output_type": "stream",
       "stream": "stdout",
       "text": [
        "\n",
        "==========================\n",
        "iteration   22, curve  90922"
       ]
      },
      {
       "output_type": "stream",
       "stream": "stdout",
       "text": [
        "\n",
        "Partitioning curve into peaks...\n",
        "attempt: "
       ]
      },
      {
       "output_type": "stream",
       "stream": "stdout",
       "text": [
        " 0 threshold: 0.4 peaks: 12\n",
        "Fitting individual peaks...\n",
        "=========================="
       ]
      },
      {
       "output_type": "stream",
       "stream": "stdout",
       "text": [
        "\n",
        "F moyenne\tF min\t\tF max\n",
        "78034.9098724 \t74522.1815145 \t81789.4229303\n",
        "==========================\n",
        "iteration   23, curve  90924"
       ]
      },
      {
       "output_type": "stream",
       "stream": "stdout",
       "text": [
        "\n",
        "Partitioning curve into peaks...\n",
        "attempt: "
       ]
      },
      {
       "output_type": "stream",
       "stream": "stdout",
       "text": [
        " 0 threshold: 0.4 peaks: 12\n",
        "Fitting individual peaks...\n",
        "=========================="
       ]
      },
      {
       "output_type": "stream",
       "stream": "stdout",
       "text": [
        "\n",
        "F moyenne\tF min\t\tF max\n",
        "74386.8828115 \t63560.6409732 \t78841.8004579\n",
        "==========================\n",
        "iteration   24, curve  90926"
       ]
      },
      {
       "output_type": "stream",
       "stream": "stdout",
       "text": [
        "\n",
        "Partitioning curve into peaks...\n",
        "attempt: "
       ]
      },
      {
       "output_type": "stream",
       "stream": "stdout",
       "text": [
        " 0 threshold: 0.4 peaks: 12\n",
        "Fitting individual peaks...\n",
        "=========================="
       ]
      },
      {
       "output_type": "stream",
       "stream": "stdout",
       "text": [
        "\n",
        "F moyenne\tF min\t\tF max\n",
        "70670.9481487 \t66413.9016411 \t73902.0339413\n",
        "==========================\n",
        "iteration   25, curve  90928"
       ]
      },
      {
       "output_type": "stream",
       "stream": "stdout",
       "text": [
        "\n",
        "Partitioning curve into peaks...\n",
        "attempt: "
       ]
      },
      {
       "output_type": "stream",
       "stream": "stdout",
       "text": [
        " 0 threshold: 0.4 peaks: 12\n",
        "Fitting individual peaks...\n",
        "=========================="
       ]
      },
      {
       "output_type": "stream",
       "stream": "stdout",
       "text": [
        "\n",
        "F moyenne\tF min\t\tF max\n",
        "76184.2477247 \t72421.8490454 \t83347.4789614\n",
        "==========================\n",
        "iteration   26, curve  90930"
       ]
      },
      {
       "output_type": "stream",
       "stream": "stdout",
       "text": [
        "\n",
        "Partitioning curve into peaks...\n",
        "attempt: "
       ]
      },
      {
       "output_type": "stream",
       "stream": "stdout",
       "text": [
        " 0 threshold: 0.4 peaks: 12\n",
        "Fitting individual peaks...\n",
        "=========================="
       ]
      },
      {
       "output_type": "stream",
       "stream": "stdout",
       "text": [
        "\n",
        "F moyenne\tF min\t\tF max\n",
        "1067560.72716 \t74124.6248607 \t1323756.14029\n",
        "==========================\n",
        "iteration   27, curve  90932"
       ]
      },
      {
       "output_type": "stream",
       "stream": "stdout",
       "text": [
        "\n",
        "Partitioning curve into peaks...\n",
        "attempt: "
       ]
      },
      {
       "output_type": "stream",
       "stream": "stdout",
       "text": [
        " 0 threshold: 0.4 peaks: 12\n",
        "Fitting individual peaks...\n",
        "=========================="
       ]
      },
      {
       "output_type": "stream",
       "stream": "stdout",
       "text": [
        "\n",
        "F moyenne\tF min\t\tF max\n",
        "72622.8746828 \t60491.421635 \t77430.8572365\n",
        "==========================\n",
        "iteration   28, curve  90934"
       ]
      },
      {
       "output_type": "stream",
       "stream": "stdout",
       "text": [
        "\n",
        "Partitioning curve into peaks...\n",
        "attempt: "
       ]
      },
      {
       "output_type": "stream",
       "stream": "stdout",
       "text": [
        " 0 threshold: 0.4 peaks: 12\n",
        "Fitting individual peaks...\n",
        "=========================="
       ]
      },
      {
       "output_type": "stream",
       "stream": "stdout",
       "text": [
        "\n",
        "F moyenne\tF min\t\tF max\n",
        "58926.7085698 \t21902.7231263 \t73811.1558881\n",
        "==========================\n",
        "iteration   29, curve  90936"
       ]
      },
      {
       "output_type": "stream",
       "stream": "stdout",
       "text": [
        "\n",
        "Partitioning curve into peaks...\n",
        "attempt: "
       ]
      },
      {
       "output_type": "stream",
       "stream": "stdout",
       "text": [
        " 0 threshold: 0.4 peaks: 12\n",
        "Fitting individual peaks...\n",
        "=========================="
       ]
      },
      {
       "output_type": "stream",
       "stream": "stdout",
       "text": [
        "\n",
        "F moyenne\tF min\t\tF max\n",
        "60200.3181557 \t24386.4679542 \t75377.7807003\n",
        "==========================\n",
        "iteration   30, curve  90938"
       ]
      },
      {
       "output_type": "stream",
       "stream": "stdout",
       "text": [
        "\n",
        "Partitioning curve into peaks...\n",
        "attempt: "
       ]
      },
      {
       "output_type": "stream",
       "stream": "stdout",
       "text": [
        " 0 threshold: 0.4 peaks: 12\n",
        "Fitting individual peaks...\n",
        "=========================="
       ]
      },
      {
       "output_type": "stream",
       "stream": "stdout",
       "text": [
        "\n",
        "F moyenne\tF min\t\tF max\n",
        "59195.6697482 \t35147.1517868 \t73969.395331\n",
        "==========================\n",
        "iteration   31, curve  90940"
       ]
      },
      {
       "output_type": "stream",
       "stream": "stdout",
       "text": [
        "\n",
        "Partitioning curve into peaks...\n",
        "attempt: "
       ]
      },
      {
       "output_type": "stream",
       "stream": "stdout",
       "text": [
        " 0 threshold: 0.4 peaks: 12\n",
        "Fitting individual peaks...\n",
        "=========================="
       ]
      },
      {
       "output_type": "stream",
       "stream": "stdout",
       "text": [
        "\n",
        "F moyenne\tF min\t\tF max\n",
        "62687.1151662 \t44044.0814033 \t73418.1501287\n",
        "==========================\n",
        "iteration   32, curve  90942"
       ]
      },
      {
       "output_type": "stream",
       "stream": "stdout",
       "text": [
        "\n",
        "Partitioning curve into peaks...\n",
        "attempt: "
       ]
      },
      {
       "output_type": "stream",
       "stream": "stdout",
       "text": [
        " 0 threshold: 0.4 peaks: 12\n",
        "Fitting individual peaks...\n",
        "=========================="
       ]
      },
      {
       "output_type": "stream",
       "stream": "stdout",
       "text": [
        "\n",
        "F moyenne\tF min\t\tF max\n",
        "73625.5744796 \t63155.4853358 \t82361.3179879\n",
        "==========================\n",
        "iteration   33, curve  90944"
       ]
      },
      {
       "output_type": "stream",
       "stream": "stdout",
       "text": [
        "\n",
        "Partitioning curve into peaks...\n",
        "attempt: "
       ]
      },
      {
       "output_type": "stream",
       "stream": "stdout",
       "text": [
        " 0 threshold: 0.4 peaks: 12\n",
        "Fitting individual peaks...\n",
        "=========================="
       ]
      },
      {
       "output_type": "stream",
       "stream": "stdout",
       "text": [
        "\n",
        "F moyenne\tF min\t\tF max\n",
        "76503.9120077 \t62176.1616421 \t85211.1375546\n",
        "==========================\n",
        "iteration   34, curve  90946"
       ]
      },
      {
       "output_type": "stream",
       "stream": "stdout",
       "text": [
        "\n",
        "Partitioning curve into peaks...\n",
        "attempt: "
       ]
      },
      {
       "output_type": "stream",
       "stream": "stdout",
       "text": [
        " 0 threshold: 0.4 peaks: 12\n",
        "Fitting individual peaks...\n",
        "=========================="
       ]
      },
      {
       "output_type": "stream",
       "stream": "stdout",
       "text": [
        "\n",
        "F moyenne\tF min\t\tF max\n",
        "71904.5225762 \t67797.5239523 \t76927.7545207\n",
        "==========================\n",
        "iteration   35, curve  90948"
       ]
      },
      {
       "output_type": "stream",
       "stream": "stdout",
       "text": [
        "\n",
        "Partitioning curve into peaks...\n",
        "attempt: "
       ]
      },
      {
       "output_type": "stream",
       "stream": "stdout",
       "text": [
        " 0 threshold: 0.4 peaks: 12\n",
        "Fitting individual peaks...\n",
        "=========================="
       ]
      },
      {
       "output_type": "stream",
       "stream": "stdout",
       "text": [
        "\n",
        "F moyenne\tF min\t\tF max\n",
        "80045.6234054 \t70966.3107586 \t83270.6776968\n",
        "==========================\n",
        "iteration   36, curve  90950"
       ]
      },
      {
       "output_type": "stream",
       "stream": "stdout",
       "text": [
        "\n",
        "Partitioning curve into peaks...\n",
        "attempt: "
       ]
      },
      {
       "output_type": "stream",
       "stream": "stdout",
       "text": [
        " 0 threshold: 0.4 peaks: 12\n",
        "Fitting individual peaks...\n",
        "=========================="
       ]
      },
      {
       "output_type": "stream",
       "stream": "stdout",
       "text": [
        "\n",
        "F moyenne\tF min\t\tF max\n",
        "77701.2745901 \t73976.7945487 \t82652.321922\n",
        "==========================\n",
        "iteration   37, curve  90952"
       ]
      },
      {
       "output_type": "stream",
       "stream": "stdout",
       "text": [
        "\n",
        "Partitioning curve into peaks...\n",
        "attempt: "
       ]
      },
      {
       "output_type": "stream",
       "stream": "stdout",
       "text": [
        " 0 threshold: 0.4 peaks: 12\n",
        "Fitting individual peaks...\n",
        "=========================="
       ]
      },
      {
       "output_type": "stream",
       "stream": "stdout",
       "text": [
        "\n",
        "F moyenne\tF min\t\tF max\n",
        "75440.9939026 \t69077.9169263 \t80192.9920921\n",
        "==========================\n",
        "iteration   38, curve  90954"
       ]
      },
      {
       "output_type": "stream",
       "stream": "stdout",
       "text": [
        "\n",
        "Partitioning curve into peaks...\n",
        "attempt: "
       ]
      },
      {
       "output_type": "stream",
       "stream": "stdout",
       "text": [
        " 0 threshold: 0.4 peaks: 12\n",
        "Fitting individual peaks...\n",
        "=========================="
       ]
      },
      {
       "output_type": "stream",
       "stream": "stdout",
       "text": [
        "\n",
        "F moyenne\tF min\t\tF max\n",
        "80024.9057291 \t65276.7551195 \t99124.1870002\n",
        "==========================\n",
        "iteration   39, curve  90956"
       ]
      },
      {
       "output_type": "stream",
       "stream": "stdout",
       "text": [
        "\n",
        "Partitioning curve into peaks...\n",
        "attempt: "
       ]
      },
      {
       "output_type": "stream",
       "stream": "stdout",
       "text": [
        " 0 threshold: 0.4 peaks: 18\n",
        "Fitting individual peaks..."
       ]
      },
      {
       "output_type": "stream",
       "stream": "stdout",
       "text": [
        "\n",
        "=========================="
       ]
      },
      {
       "output_type": "stream",
       "stream": "stdout",
       "text": [
        "\n",
        "F moyenne\tF min\t\tF max\n",
        "1066459.26398 \t28050.2281743 \t1921888.20242"
       ]
      },
      {
       "output_type": "stream",
       "stream": "stdout",
       "text": [
        "\n",
        "==========================\n",
        "iteration   40, curve  90958"
       ]
      },
      {
       "output_type": "stream",
       "stream": "stdout",
       "text": [
        "\n",
        "Partitioning curve into peaks...\n",
        "attempt: "
       ]
      },
      {
       "output_type": "stream",
       "stream": "stdout",
       "text": [
        " 0 threshold: 0.4 peaks: 12\n",
        "Fitting individual peaks...\n",
        "=========================="
       ]
      },
      {
       "output_type": "stream",
       "stream": "stdout",
       "text": [
        "\n",
        "F moyenne\tF min\t\tF max\n",
        "75100.3248987 \t72436.4291335 \t80825.8091434\n",
        "==========================\n",
        "iteration   41, curve  90960"
       ]
      },
      {
       "output_type": "stream",
       "stream": "stdout",
       "text": [
        "\n",
        "Partitioning curve into peaks...\n",
        "attempt: "
       ]
      },
      {
       "output_type": "stream",
       "stream": "stdout",
       "text": [
        " 0 threshold: 0.4 peaks: 12\n",
        "Fitting individual peaks...\n",
        "=========================="
       ]
      },
      {
       "output_type": "stream",
       "stream": "stdout",
       "text": [
        "\n",
        "F moyenne\tF min\t\tF max\n",
        "79047.0161377 \t72495.6710678 \t85599.0570825\n",
        "==========================\n",
        "iteration   42, curve  90962"
       ]
      },
      {
       "output_type": "stream",
       "stream": "stdout",
       "text": [
        "\n",
        "Partitioning curve into peaks...\n",
        "attempt: "
       ]
      },
      {
       "output_type": "stream",
       "stream": "stdout",
       "text": [
        " 0 threshold: 0.4 peaks: 12\n",
        "Fitting individual peaks...\n",
        "=========================="
       ]
      },
      {
       "output_type": "stream",
       "stream": "stdout",
       "text": [
        "\n",
        "F moyenne\tF min\t\tF max\n",
        "73881.2672927 \t66548.4739165 \t79843.830323\n",
        "==========================\n",
        "iteration   43, curve  90964"
       ]
      },
      {
       "output_type": "stream",
       "stream": "stdout",
       "text": [
        "\n",
        "Partitioning curve into peaks...\n",
        "attempt: "
       ]
      },
      {
       "output_type": "stream",
       "stream": "stdout",
       "text": [
        " 0 threshold: 0.4 peaks: 12\n",
        "Fitting individual peaks...\n",
        "=========================="
       ]
      },
      {
       "output_type": "stream",
       "stream": "stdout",
       "text": [
        "\n",
        "F moyenne\tF min\t\tF max\n",
        "74688.3587431 \t71964.2433957 \t77594.8189774\n",
        "==========================\n",
        "iteration   44, curve  90966"
       ]
      },
      {
       "output_type": "stream",
       "stream": "stdout",
       "text": [
        "\n",
        "Partitioning curve into peaks...\n",
        "attempt: "
       ]
      },
      {
       "output_type": "stream",
       "stream": "stdout",
       "text": [
        " 0 threshold: 0.4 peaks: 12\n",
        "Fitting individual peaks...\n",
        "=========================="
       ]
      },
      {
       "output_type": "stream",
       "stream": "stdout",
       "text": [
        "\n",
        "F moyenne\tF min\t\tF max\n",
        "77919.408776 \t74713.3495078 \t84792.6396982\n",
        "==========================\n",
        "iteration   45, curve  90968"
       ]
      },
      {
       "output_type": "stream",
       "stream": "stdout",
       "text": [
        "\n",
        "Partitioning curve into peaks...\n",
        "attempt: "
       ]
      },
      {
       "output_type": "stream",
       "stream": "stdout",
       "text": [
        " 0 threshold: 0.4 peaks: 16\n",
        "Fitting individual peaks...\n",
        "=========================="
       ]
      },
      {
       "output_type": "stream",
       "stream": "stdout",
       "text": [
        "\n",
        "F moyenne\tF min\t\tF max\n",
        "73291.0368585 \t54873.6534166 \t83852.0127187"
       ]
      },
      {
       "output_type": "stream",
       "stream": "stdout",
       "text": [
        "\n",
        "==========================\n",
        "iteration   46, curve  90970"
       ]
      },
      {
       "output_type": "stream",
       "stream": "stdout",
       "text": [
        "\n",
        "Partitioning curve into peaks...\n",
        "attempt: "
       ]
      },
      {
       "output_type": "stream",
       "stream": "stdout",
       "text": [
        " 0 threshold: 0.4 peaks: 12\n",
        "Fitting individual peaks...\n",
        "=========================="
       ]
      },
      {
       "output_type": "stream",
       "stream": "stdout",
       "text": [
        "\n",
        "F moyenne\tF min\t\tF max\n",
        "74838.5185183 \t69015.3439535 \t80798.4392383\n",
        "==========================\n",
        "iteration   47, curve  90972"
       ]
      },
      {
       "output_type": "stream",
       "stream": "stdout",
       "text": [
        "\n",
        "Partitioning curve into peaks...\n",
        "attempt: "
       ]
      },
      {
       "output_type": "stream",
       "stream": "stdout",
       "text": [
        " 0 threshold: 0.4 peaks: 12\n",
        "Fitting individual peaks...\n",
        "=========================="
       ]
      },
      {
       "output_type": "stream",
       "stream": "stdout",
       "text": [
        "\n",
        "F moyenne\tF min\t\tF max\n",
        "77304.8296315 \t68486.8228343 \t83490.1021648\n",
        "==========================\n",
        "iteration   48, curve  90974"
       ]
      },
      {
       "output_type": "stream",
       "stream": "stdout",
       "text": [
        "\n",
        "Partitioning curve into peaks...\n",
        "attempt: "
       ]
      },
      {
       "output_type": "stream",
       "stream": "stdout",
       "text": [
        " 0 threshold: 0.4 peaks: 12\n",
        "Fitting individual peaks...\n",
        "=========================="
       ]
      },
      {
       "output_type": "stream",
       "stream": "stdout",
       "text": [
        "\n",
        "F moyenne\tF min\t\tF max\n",
        "72619.6010855 \t64717.4998883 \t78864.5526729\n",
        "==========================\n",
        "iteration   49, curve  90976"
       ]
      },
      {
       "output_type": "stream",
       "stream": "stdout",
       "text": [
        "\n",
        "Partitioning curve into peaks...\n",
        "attempt: "
       ]
      },
      {
       "output_type": "stream",
       "stream": "stdout",
       "text": [
        " 0 threshold: 0.4 peaks: 12\n",
        "Fitting individual peaks...\n",
        "=========================="
       ]
      },
      {
       "output_type": "stream",
       "stream": "stdout",
       "text": [
        "\n",
        "F moyenne\tF min\t\tF max\n",
        "78058.5329012 \t70186.7496076 \t81318.5773661\n",
        "==========================\n",
        "iteration   50, curve  90978"
       ]
      },
      {
       "output_type": "stream",
       "stream": "stdout",
       "text": [
        "\n",
        "Partitioning curve into peaks...\n",
        "attempt: "
       ]
      },
      {
       "output_type": "stream",
       "stream": "stdout",
       "text": [
        " 0 threshold: 0.4 peaks: 12\n",
        "Fitting individual peaks...\n",
        "=========================="
       ]
      },
      {
       "output_type": "stream",
       "stream": "stdout",
       "text": [
        "\n",
        "F moyenne\tF min\t\tF max\n",
        "74814.7987505 \t66636.7408509 \t77890.1442113\n",
        "==========================\n",
        "iteration   51, curve  90980"
       ]
      },
      {
       "output_type": "stream",
       "stream": "stdout",
       "text": [
        "\n",
        "Partitioning curve into peaks...\n",
        "attempt: "
       ]
      },
      {
       "output_type": "stream",
       "stream": "stdout",
       "text": [
        " 0 threshold: 0.4 peaks: 16\n",
        "Fitting individual peaks...\n",
        "=========================="
       ]
      },
      {
       "output_type": "stream",
       "stream": "stdout",
       "text": [
        "\n",
        "F moyenne\tF min\t\tF max\n",
        "73923.527656 \t55724.4472837 \t80514.790636"
       ]
      },
      {
       "output_type": "stream",
       "stream": "stdout",
       "text": [
        "\n",
        "==========================\n",
        "iteration   52, curve  90982"
       ]
      },
      {
       "output_type": "stream",
       "stream": "stdout",
       "text": [
        "\n",
        "Partitioning curve into peaks...\n",
        "attempt: "
       ]
      },
      {
       "output_type": "stream",
       "stream": "stdout",
       "text": [
        " 0 threshold: 0.4 peaks: 12\n",
        "Fitting individual peaks...\n",
        "=========================="
       ]
      },
      {
       "output_type": "stream",
       "stream": "stdout",
       "text": [
        "\n",
        "F moyenne\tF min\t\tF max\n",
        "77235.6687465 \t71367.5906252 \t79705.8842639\n",
        "==========================\n",
        "iteration   53, curve  90984"
       ]
      },
      {
       "output_type": "stream",
       "stream": "stdout",
       "text": [
        "\n",
        "Partitioning curve into peaks...\n",
        "attempt: "
       ]
      },
      {
       "output_type": "stream",
       "stream": "stdout",
       "text": [
        " 0 threshold: 0.4 peaks: 12\n",
        "Fitting individual peaks...\n",
        "=========================="
       ]
      },
      {
       "output_type": "stream",
       "stream": "stdout",
       "text": [
        "\n",
        "F moyenne\tF min\t\tF max\n",
        "79131.3045929 \t74514.2665084 \t85740.7778037\n",
        "==========================\n",
        "iteration   54, curve  90986"
       ]
      },
      {
       "output_type": "stream",
       "stream": "stdout",
       "text": [
        "\n",
        "Partitioning curve into peaks...\n",
        "attempt: "
       ]
      },
      {
       "output_type": "stream",
       "stream": "stdout",
       "text": [
        " 0 threshold: 0.4 peaks: 12\n",
        "Fitting individual peaks...\n",
        "=========================="
       ]
      },
      {
       "output_type": "stream",
       "stream": "stdout",
       "text": [
        "\n",
        "F moyenne\tF min\t\tF max\n",
        "76250.1209174 \t68923.7521948 \t79949.239879\n",
        "==========================\n",
        "iteration   55, curve  90988"
       ]
      },
      {
       "output_type": "stream",
       "stream": "stdout",
       "text": [
        "\n",
        "Partitioning curve into peaks...\n",
        "attempt: "
       ]
      },
      {
       "output_type": "stream",
       "stream": "stdout",
       "text": [
        " 0 threshold: 0.4 peaks: 12\n",
        "Fitting individual peaks...\n",
        "=========================="
       ]
      },
      {
       "output_type": "stream",
       "stream": "stdout",
       "text": [
        "\n",
        "F moyenne\tF min\t\tF max\n",
        "75020.7882139 \t70597.1348548 \t79816.0425981\n",
        "==========================\n",
        "iteration   56, curve  90990"
       ]
      },
      {
       "output_type": "stream",
       "stream": "stdout",
       "text": [
        "\n",
        "Partitioning curve into peaks...\n",
        "attempt: "
       ]
      },
      {
       "output_type": "stream",
       "stream": "stdout",
       "text": [
        " 0 threshold: 0.4 peaks: 16\n",
        "Fitting individual peaks...\n",
        "=========================="
       ]
      },
      {
       "output_type": "stream",
       "stream": "stdout",
       "text": [
        "\n",
        "F moyenne\tF min\t\tF max\n",
        "78419.0370481 \t52594.0726417 \t102436.547133"
       ]
      },
      {
       "output_type": "stream",
       "stream": "stdout",
       "text": [
        "\n",
        "==========================\n",
        "iteration   57, curve  90992"
       ]
      },
      {
       "output_type": "stream",
       "stream": "stdout",
       "text": [
        "\n",
        "Partitioning curve into peaks...\n",
        "attempt: "
       ]
      },
      {
       "output_type": "stream",
       "stream": "stdout",
       "text": [
        " 0 threshold: 0.4 peaks: 13\n",
        "Fitting individual peaks...\n",
        "=========================="
       ]
      },
      {
       "output_type": "stream",
       "stream": "stdout",
       "text": [
        "\n",
        "F moyenne\tF min\t\tF max\n",
        "74760.7766428 \t66093.2760194 \t80655.2072553\n",
        "==========================\n",
        "iteration   58, curve  90994"
       ]
      },
      {
       "output_type": "stream",
       "stream": "stdout",
       "text": [
        "\n",
        "Partitioning curve into peaks...\n",
        "attempt: "
       ]
      },
      {
       "output_type": "stream",
       "stream": "stdout",
       "text": [
        " 0 threshold: 0.4 peaks: 12\n",
        "Fitting individual peaks...\n",
        "=========================="
       ]
      },
      {
       "output_type": "stream",
       "stream": "stdout",
       "text": [
        "\n",
        "F moyenne\tF min\t\tF max\n",
        "74661.4509943 \t68870.3848705 \t80341.420354\n",
        "==========================\n",
        "iteration   59, curve  90996"
       ]
      },
      {
       "output_type": "stream",
       "stream": "stdout",
       "text": [
        "\n",
        "Partitioning curve into peaks...\n",
        "attempt: "
       ]
      },
      {
       "output_type": "stream",
       "stream": "stdout",
       "text": [
        " 0 threshold: 0.4 peaks: 12\n",
        "Fitting individual peaks...\n",
        "=========================="
       ]
      },
      {
       "output_type": "stream",
       "stream": "stdout",
       "text": [
        "\n",
        "F moyenne\tF min\t\tF max\n",
        "74231.4024584 \t66725.5623342 \t79499.7920642\n",
        "==========================\n",
        "iteration   60, curve  90998"
       ]
      },
      {
       "output_type": "stream",
       "stream": "stdout",
       "text": [
        "\n",
        "Partitioning curve into peaks...\n",
        "attempt: "
       ]
      },
      {
       "output_type": "stream",
       "stream": "stdout",
       "text": [
        " 0 threshold: 0.4 peaks: 12\n",
        "Fitting individual peaks...\n",
        "=========================="
       ]
      },
      {
       "output_type": "stream",
       "stream": "stdout",
       "text": [
        "\n",
        "F moyenne\tF min\t\tF max\n",
        "75262.8409086 \t72928.7937374 \t77356.8266369\n",
        "==========================\n",
        "iteration   61, curve  91000"
       ]
      },
      {
       "output_type": "stream",
       "stream": "stdout",
       "text": [
        "\n",
        "Partitioning curve into peaks...\n",
        "attempt: "
       ]
      },
      {
       "output_type": "stream",
       "stream": "stdout",
       "text": [
        " 0 threshold: 0.4 peaks: 12\n",
        "Fitting individual peaks...\n",
        "=========================="
       ]
      },
      {
       "output_type": "stream",
       "stream": "stdout",
       "text": [
        "\n",
        "F moyenne\tF min\t\tF max\n",
        "74947.7410124 \t71524.7239632 \t78150.742708\n",
        "==========================\n",
        "iteration   62, curve  91002"
       ]
      },
      {
       "output_type": "stream",
       "stream": "stdout",
       "text": [
        "\n",
        "Partitioning curve into peaks...\n",
        "attempt: "
       ]
      },
      {
       "output_type": "stream",
       "stream": "stdout",
       "text": [
        " 0 threshold: 0.4 peaks: 13\n",
        "Fitting individual peaks...\n",
        "=========================="
       ]
      },
      {
       "output_type": "stream",
       "stream": "stdout",
       "text": [
        "\n",
        "F moyenne\tF min\t\tF max\n",
        "79105.4002526 \t74314.6844637 \t84709.6081976"
       ]
      },
      {
       "output_type": "stream",
       "stream": "stdout",
       "text": [
        "\n",
        "==========================\n",
        "iteration   63, curve  91004"
       ]
      },
      {
       "output_type": "stream",
       "stream": "stdout",
       "text": [
        "\n",
        "Partitioning curve into peaks...\n",
        "attempt: "
       ]
      },
      {
       "output_type": "stream",
       "stream": "stdout",
       "text": [
        " 0 threshold: 0.4 peaks: 13\n",
        "Fitting individual peaks...\n",
        "=========================="
       ]
      },
      {
       "output_type": "stream",
       "stream": "stdout",
       "text": [
        "\n",
        "F moyenne\tF min\t\tF max\n",
        "76977.2540695 \t67532.0275398 \t83118.6695118\n",
        "==========================\n",
        "iteration   64, curve  91006"
       ]
      },
      {
       "output_type": "stream",
       "stream": "stdout",
       "text": [
        "\n",
        "Partitioning curve into peaks...\n",
        "attempt: "
       ]
      },
      {
       "output_type": "stream",
       "stream": "stdout",
       "text": [
        " 0 threshold: 0.4 peaks: 16\n",
        "Fitting individual peaks...\n",
        "=========================="
       ]
      },
      {
       "output_type": "stream",
       "stream": "stdout",
       "text": [
        "\n",
        "F moyenne\tF min\t\tF max\n",
        "78938.9446391 \t58925.853011 \t112404.403979"
       ]
      },
      {
       "output_type": "stream",
       "stream": "stdout",
       "text": [
        "\n",
        "==========================\n",
        "iteration   65, curve  91008"
       ]
      },
      {
       "output_type": "stream",
       "stream": "stdout",
       "text": [
        "\n",
        "Partitioning curve into peaks...\n",
        "attempt: "
       ]
      },
      {
       "output_type": "stream",
       "stream": "stdout",
       "text": [
        " 0 threshold: 0.4 peaks: 12\n",
        "Fitting individual peaks...\n",
        "=========================="
       ]
      },
      {
       "output_type": "stream",
       "stream": "stdout",
       "text": [
        "\n",
        "F moyenne\tF min\t\tF max\n",
        "77432.6349009 \t71132.2922811 \t82785.9939797\n",
        "==========================\n",
        "iteration   66, curve  91010"
       ]
      },
      {
       "output_type": "stream",
       "stream": "stdout",
       "text": [
        "\n",
        "Partitioning curve into peaks...\n",
        "attempt: "
       ]
      },
      {
       "output_type": "stream",
       "stream": "stdout",
       "text": [
        " 0 threshold: 0.4 peaks: 12\n",
        "Fitting individual peaks...\n",
        "=========================="
       ]
      },
      {
       "output_type": "stream",
       "stream": "stdout",
       "text": [
        "\n",
        "F moyenne\tF min\t\tF max\n",
        "75080.7576368 \t66830.8030305 \t83848.8261069"
       ]
      },
      {
       "output_type": "stream",
       "stream": "stdout",
       "text": [
        "\n",
        "==========================\n",
        "iteration   67, curve  91012"
       ]
      },
      {
       "output_type": "stream",
       "stream": "stdout",
       "text": [
        "\n",
        "Partitioning curve into peaks...\n",
        "attempt: "
       ]
      },
      {
       "output_type": "stream",
       "stream": "stdout",
       "text": [
        " 0 threshold: 0.4 peaks: 16\n",
        "Fitting individual peaks...\n",
        "=========================="
       ]
      },
      {
       "output_type": "stream",
       "stream": "stdout",
       "text": [
        "\n",
        "F moyenne\tF min\t\tF max\n",
        "80081.9567151 \t67146.776998 \t115740.298147"
       ]
      },
      {
       "output_type": "stream",
       "stream": "stdout",
       "text": [
        "\n",
        "==========================\n",
        "iteration   68, curve  91014"
       ]
      },
      {
       "output_type": "stream",
       "stream": "stdout",
       "text": [
        "\n",
        "Partitioning curve into peaks...\n",
        "attempt: "
       ]
      },
      {
       "output_type": "stream",
       "stream": "stdout",
       "text": [
        " 0 threshold: 0.4 peaks: 12\n",
        "Fitting individual peaks...\n",
        "=========================="
       ]
      },
      {
       "output_type": "stream",
       "stream": "stdout",
       "text": [
        "\n",
        "F moyenne\tF min\t\tF max\n",
        "74686.4123439 \t68766.2972369 \t82715.3519685\n",
        "==========================\n",
        "iteration   69, curve  91016"
       ]
      },
      {
       "output_type": "stream",
       "stream": "stdout",
       "text": [
        "\n",
        "Partitioning curve into peaks...\n",
        "attempt: "
       ]
      },
      {
       "output_type": "stream",
       "stream": "stdout",
       "text": [
        " 0 threshold: 0.4 peaks: 16\n",
        "Fitting individual peaks...\n",
        "=========================="
       ]
      },
      {
       "output_type": "stream",
       "stream": "stdout",
       "text": [
        "\n",
        "F moyenne\tF min\t\tF max\n",
        "71698.553083 \t59351.1476823 \t78172.2004089"
       ]
      },
      {
       "output_type": "stream",
       "stream": "stdout",
       "text": [
        "\n",
        "==========================\n",
        "iteration   70, curve  91018"
       ]
      },
      {
       "output_type": "stream",
       "stream": "stdout",
       "text": [
        "\n",
        "Partitioning curve into peaks...\n",
        "attempt: "
       ]
      },
      {
       "output_type": "stream",
       "stream": "stdout",
       "text": [
        " 0 threshold: 0.4 peaks: 12\n",
        "Fitting individual peaks...\n",
        "=========================="
       ]
      },
      {
       "output_type": "stream",
       "stream": "stdout",
       "text": [
        "\n",
        "F moyenne\tF min\t\tF max\n",
        "77657.0179615 \t74162.4771028 \t81616.3870886\n",
        "==========================\n",
        "iteration   71, curve  91020"
       ]
      },
      {
       "output_type": "stream",
       "stream": "stdout",
       "text": [
        "\n",
        "Partitioning curve into peaks...\n",
        "attempt: "
       ]
      },
      {
       "output_type": "stream",
       "stream": "stdout",
       "text": [
        " 0 threshold: 0.4 peaks: 13\n",
        "Fitting individual peaks...\n",
        "=========================="
       ]
      },
      {
       "output_type": "stream",
       "stream": "stdout",
       "text": [
        "\n",
        "F moyenne\tF min\t\tF max\n",
        "77078.4609968 \t70571.3508527 \t84304.5266859\n",
        "==========================\n",
        "iteration   72, curve  91022"
       ]
      },
      {
       "output_type": "stream",
       "stream": "stdout",
       "text": [
        "\n",
        "Partitioning curve into peaks...\n",
        "attempt: "
       ]
      },
      {
       "output_type": "stream",
       "stream": "stdout",
       "text": [
        " 0 threshold: 0.4 peaks: 16\n",
        "Fitting individual peaks...\n",
        "=========================="
       ]
      },
      {
       "output_type": "stream",
       "stream": "stdout",
       "text": [
        "\n",
        "F moyenne\tF min\t\tF max\n",
        "76310.8125309 \t56524.4159123 \t84863.0744173"
       ]
      },
      {
       "output_type": "stream",
       "stream": "stdout",
       "text": [
        "\n",
        "==========================\n",
        "iteration   73, curve  91024"
       ]
      },
      {
       "output_type": "stream",
       "stream": "stdout",
       "text": [
        "\n",
        "Partitioning curve into peaks...\n",
        "attempt: "
       ]
      },
      {
       "output_type": "stream",
       "stream": "stdout",
       "text": [
        " 0 threshold: 0.4 peaks: 13\n",
        "Fitting individual peaks...\n",
        "=========================="
       ]
      },
      {
       "output_type": "stream",
       "stream": "stdout",
       "text": [
        "\n",
        "F moyenne\tF min\t\tF max\n",
        "76492.6661103 \t69330.3396773 \t82189.8769493\n",
        "==========================\n",
        "iteration   74, curve  91026"
       ]
      },
      {
       "output_type": "stream",
       "stream": "stdout",
       "text": [
        "\n",
        "Partitioning curve into peaks...\n",
        "attempt: "
       ]
      },
      {
       "output_type": "stream",
       "stream": "stdout",
       "text": [
        " 0 threshold: 0.4 peaks: 17\n",
        "Fitting individual peaks...\n",
        "=========================="
       ]
      },
      {
       "output_type": "stream",
       "stream": "stdout",
       "text": [
        "\n",
        "F moyenne\tF min\t\tF max\n",
        "88039.8762985 \t72739.2449607 \t146877.286175"
       ]
      },
      {
       "output_type": "stream",
       "stream": "stdout",
       "text": [
        "\n",
        "==========================\n",
        "iteration   75, curve  91028"
       ]
      },
      {
       "output_type": "stream",
       "stream": "stdout",
       "text": [
        "\n",
        "Partitioning curve into peaks...\n",
        "attempt: "
       ]
      },
      {
       "output_type": "stream",
       "stream": "stdout",
       "text": [
        " 0 threshold: 0.4 peaks: 12\n",
        "Fitting individual peaks...\n",
        "=========================="
       ]
      },
      {
       "output_type": "stream",
       "stream": "stdout",
       "text": [
        "\n",
        "F moyenne\tF min\t\tF max\n",
        "74888.9337215 \t68670.5163591 \t82007.891342\n",
        "==========================\n",
        "iteration   76, curve  91030"
       ]
      },
      {
       "output_type": "stream",
       "stream": "stdout",
       "text": [
        "\n",
        "Partitioning curve into peaks...\n",
        "attempt: "
       ]
      },
      {
       "output_type": "stream",
       "stream": "stdout",
       "text": [
        " 0 threshold: 0.4 peaks: 13\n",
        "Fitting individual peaks...\n",
        "=========================="
       ]
      },
      {
       "output_type": "stream",
       "stream": "stdout",
       "text": [
        "\n",
        "F moyenne\tF min\t\tF max\n",
        "74679.3334634 \t68218.5912231 \t77768.3565244\n",
        "==========================\n",
        "iteration   77, curve  91032"
       ]
      },
      {
       "output_type": "stream",
       "stream": "stdout",
       "text": [
        "\n",
        "Partitioning curve into peaks...\n",
        "attempt: "
       ]
      },
      {
       "output_type": "stream",
       "stream": "stdout",
       "text": [
        " 0 threshold: 0.4 peaks: 12\n",
        "Fitting individual peaks...\n",
        "=========================="
       ]
      },
      {
       "output_type": "stream",
       "stream": "stdout",
       "text": [
        "\n",
        "F moyenne\tF min\t\tF max\n",
        "77248.361052 \t68123.4055782 \t81908.6475876\n",
        "==========================\n",
        "iteration   78, curve  91034"
       ]
      },
      {
       "output_type": "stream",
       "stream": "stdout",
       "text": [
        "\n",
        "Partitioning curve into peaks...\n",
        "attempt: "
       ]
      },
      {
       "output_type": "stream",
       "stream": "stdout",
       "text": [
        " 0 threshold: 0.4 peaks: 13\n",
        "Fitting individual peaks...\n",
        "=========================="
       ]
      },
      {
       "output_type": "stream",
       "stream": "stdout",
       "text": [
        "\n",
        "F moyenne\tF min\t\tF max\n",
        "77073.7401835 \t69632.2463297 \t80525.472631\n",
        "==========================\n",
        "iteration   79, curve  91036"
       ]
      },
      {
       "output_type": "stream",
       "stream": "stdout",
       "text": [
        "\n",
        "Partitioning curve into peaks...\n",
        "attempt: "
       ]
      },
      {
       "output_type": "stream",
       "stream": "stdout",
       "text": [
        " 0 threshold: 0.4 peaks: 12\n",
        "Fitting individual peaks...\n",
        "=========================="
       ]
      },
      {
       "output_type": "stream",
       "stream": "stdout",
       "text": [
        "\n",
        "F moyenne\tF min\t\tF max\n",
        "77357.4631295 \t65596.8116036 \t83584.1481721\n",
        "==========================\n",
        "iteration   80, curve  91038"
       ]
      },
      {
       "output_type": "stream",
       "stream": "stdout",
       "text": [
        "\n",
        "Partitioning curve into peaks...\n",
        "attempt: "
       ]
      },
      {
       "output_type": "stream",
       "stream": "stdout",
       "text": [
        " 0 threshold: 0.4 peaks: 12\n",
        "Fitting individual peaks...\n",
        "=========================="
       ]
      },
      {
       "output_type": "stream",
       "stream": "stdout",
       "text": [
        "\n",
        "F moyenne\tF min\t\tF max\n",
        "77958.8535734 \t71448.5626881 \t83117.5370414\n",
        "==========================\n",
        "iteration   81, curve  91040"
       ]
      },
      {
       "output_type": "stream",
       "stream": "stdout",
       "text": [
        "\n",
        "Partitioning curve into peaks...\n",
        "attempt: "
       ]
      },
      {
       "output_type": "stream",
       "stream": "stdout",
       "text": [
        " 0 threshold: 0.4 peaks: 12\n",
        "Fitting individual peaks...\n",
        "=========================="
       ]
      },
      {
       "output_type": "stream",
       "stream": "stdout",
       "text": [
        "\n",
        "F moyenne\tF min\t\tF max\n",
        "81008.6986164 \t75730.5310251 \t84849.3324148"
       ]
      },
      {
       "output_type": "stream",
       "stream": "stdout",
       "text": [
        "\n",
        "==========================\n",
        "iteration   82, curve  91042"
       ]
      },
      {
       "output_type": "stream",
       "stream": "stdout",
       "text": [
        "\n",
        "Partitioning curve into peaks...\n",
        "attempt: "
       ]
      },
      {
       "output_type": "stream",
       "stream": "stdout",
       "text": [
        " 0 threshold: 0.4 peaks: 12\n",
        "Fitting individual peaks...\n",
        "=========================="
       ]
      },
      {
       "output_type": "stream",
       "stream": "stdout",
       "text": [
        "\n",
        "F moyenne\tF min\t\tF max\n",
        "76980.9650808 \t72389.9994772 \t81489.5135803\n",
        "==========================\n",
        "iteration   83, curve  91044"
       ]
      },
      {
       "output_type": "stream",
       "stream": "stdout",
       "text": [
        "\n",
        "Partitioning curve into peaks...\n",
        "attempt: "
       ]
      },
      {
       "output_type": "stream",
       "stream": "stdout",
       "text": [
        " 0 threshold: 0.4 peaks: 12\n",
        "Fitting individual peaks...\n",
        "=========================="
       ]
      },
      {
       "output_type": "stream",
       "stream": "stdout",
       "text": [
        "\n",
        "F moyenne\tF min\t\tF max\n",
        "74820.9396469 \t71721.8190813 \t79510.3512878\n",
        "==========================\n",
        "iteration   84, curve  91046"
       ]
      },
      {
       "output_type": "stream",
       "stream": "stdout",
       "text": [
        "\n",
        "Partitioning curve into peaks...\n",
        "attempt: "
       ]
      },
      {
       "output_type": "stream",
       "stream": "stdout",
       "text": [
        " 0 threshold: 0.4 peaks: 12\n",
        "Fitting individual peaks...\n",
        "=========================="
       ]
      },
      {
       "output_type": "stream",
       "stream": "stdout",
       "text": [
        "\n",
        "F moyenne\tF min\t\tF max\n",
        "75454.6377189 \t71043.5317927 \t80003.2149929\n",
        "==========================\n",
        "iteration   85, curve  91048"
       ]
      },
      {
       "output_type": "stream",
       "stream": "stdout",
       "text": [
        "\n",
        "Partitioning curve into peaks...\n",
        "attempt: "
       ]
      },
      {
       "output_type": "stream",
       "stream": "stdout",
       "text": [
        " 0 threshold: 0.4 peaks: 12\n",
        "Fitting individual peaks...\n",
        "=========================="
       ]
      },
      {
       "output_type": "stream",
       "stream": "stdout",
       "text": [
        "\n",
        "F moyenne\tF min\t\tF max\n",
        "76621.5597434 \t69577.9315454 \t85609.8813281\n",
        "==========================\n",
        "iteration   86, curve  91050"
       ]
      },
      {
       "output_type": "stream",
       "stream": "stdout",
       "text": [
        "\n",
        "Partitioning curve into peaks...\n",
        "attempt: "
       ]
      },
      {
       "output_type": "stream",
       "stream": "stdout",
       "text": [
        " 0 threshold: 0.4 peaks: 12\n",
        "Fitting individual peaks...\n",
        "=========================="
       ]
      },
      {
       "output_type": "stream",
       "stream": "stdout",
       "text": [
        "\n",
        "F moyenne\tF min\t\tF max\n",
        "74342.2283467 \t69355.1218493 \t77499.2918731\n",
        "==========================\n",
        "iteration   87, curve  91052"
       ]
      },
      {
       "output_type": "stream",
       "stream": "stdout",
       "text": [
        "\n",
        "Partitioning curve into peaks...\n",
        "attempt: "
       ]
      },
      {
       "output_type": "stream",
       "stream": "stdout",
       "text": [
        " 0 threshold: 0.4 peaks: 12\n",
        "Fitting individual peaks...\n",
        "=========================="
       ]
      },
      {
       "output_type": "stream",
       "stream": "stdout",
       "text": [
        "\n",
        "F moyenne\tF min\t\tF max\n",
        "73343.9229897 \t63899.0935654 \t77961.4356122\n",
        "==========================\n",
        "iteration   88, curve  91054"
       ]
      },
      {
       "output_type": "stream",
       "stream": "stdout",
       "text": [
        "\n",
        "Partitioning curve into peaks...\n",
        "attempt: "
       ]
      },
      {
       "output_type": "stream",
       "stream": "stdout",
       "text": [
        " 0 threshold: 0.4 peaks: 12\n",
        "Fitting individual peaks...\n",
        "=========================="
       ]
      },
      {
       "output_type": "stream",
       "stream": "stdout",
       "text": [
        "\n",
        "F moyenne\tF min\t\tF max\n",
        "75683.870849 \t71207.97863 \t82602.5217842\n",
        "==========================\n",
        "iteration   89, curve  91056"
       ]
      },
      {
       "output_type": "stream",
       "stream": "stdout",
       "text": [
        "\n",
        "Partitioning curve into peaks...\n",
        "attempt: "
       ]
      },
      {
       "output_type": "stream",
       "stream": "stdout",
       "text": [
        " 0 threshold: 0.4 peaks: 12\n",
        "Fitting individual peaks...\n",
        "=========================="
       ]
      },
      {
       "output_type": "stream",
       "stream": "stdout",
       "text": [
        "\n",
        "F moyenne\tF min\t\tF max\n",
        "76260.8883577 \t62959.9582044 \t81355.8752444\n",
        "==========================\n",
        "iteration   90, curve  91058"
       ]
      },
      {
       "output_type": "stream",
       "stream": "stdout",
       "text": [
        "\n",
        "Partitioning curve into peaks...\n",
        "attempt: "
       ]
      },
      {
       "output_type": "stream",
       "stream": "stdout",
       "text": [
        " 0 threshold: 0.4 peaks: 12\n",
        "Fitting individual peaks...\n",
        "=========================="
       ]
      },
      {
       "output_type": "stream",
       "stream": "stdout",
       "text": [
        "\n",
        "F moyenne\tF min\t\tF max\n",
        "73616.4418343 \t69450.9139411 \t76924.6651895\n",
        "==========================\n",
        "iteration   91, curve  91060"
       ]
      },
      {
       "output_type": "stream",
       "stream": "stdout",
       "text": [
        "\n",
        "Partitioning curve into peaks...\n",
        "attempt: "
       ]
      },
      {
       "output_type": "stream",
       "stream": "stdout",
       "text": [
        " 0 threshold: 0.4 peaks: 16\n",
        "Fitting individual peaks...\n",
        "=========================="
       ]
      },
      {
       "output_type": "stream",
       "stream": "stdout",
       "text": [
        "\n",
        "F moyenne\tF min\t\tF max\n",
        "78199.1009141 \t67082.796074 \t84684.0782806"
       ]
      },
      {
       "output_type": "stream",
       "stream": "stdout",
       "text": [
        "\n",
        "==========================\n",
        "iteration   92, curve  91062"
       ]
      },
      {
       "output_type": "stream",
       "stream": "stdout",
       "text": [
        "\n",
        "Partitioning curve into peaks...\n",
        "attempt: "
       ]
      },
      {
       "output_type": "stream",
       "stream": "stdout",
       "text": [
        " 0 threshold: 0.4 peaks: 12\n",
        "Fitting individual peaks...\n",
        "=========================="
       ]
      },
      {
       "output_type": "stream",
       "stream": "stdout",
       "text": [
        "\n",
        "F moyenne\tF min\t\tF max\n",
        "72684.7491938 \t47807.0499822 \t78497.5437259\n",
        "==========================\n",
        "iteration   93, curve  91064"
       ]
      },
      {
       "output_type": "stream",
       "stream": "stdout",
       "text": [
        "\n",
        "Partitioning curve into peaks...\n",
        "attempt: "
       ]
      },
      {
       "output_type": "stream",
       "stream": "stdout",
       "text": [
        " 0 threshold: 0.4 peaks: 13\n",
        "Fitting individual peaks...\n",
        "=========================="
       ]
      },
      {
       "output_type": "stream",
       "stream": "stdout",
       "text": [
        "\n",
        "F moyenne\tF min\t\tF max\n",
        "72681.6743663 \t62831.2790825 \t76508.2011375\n",
        "==========================\n",
        "iteration   94, curve  91066"
       ]
      },
      {
       "output_type": "stream",
       "stream": "stdout",
       "text": [
        "\n",
        "Partitioning curve into peaks...\n",
        "attempt: "
       ]
      },
      {
       "output_type": "stream",
       "stream": "stdout",
       "text": [
        " 0 threshold: 0.4 peaks: 16\n",
        "Fitting individual peaks...\n",
        "=========================="
       ]
      },
      {
       "output_type": "stream",
       "stream": "stdout",
       "text": [
        "\n",
        "F moyenne\tF min\t\tF max\n",
        "79045.3919245 \t57400.4382077 \t94401.9571559"
       ]
      },
      {
       "output_type": "stream",
       "stream": "stdout",
       "text": [
        "\n",
        "==========================\n",
        "iteration   95, curve  91068"
       ]
      },
      {
       "output_type": "stream",
       "stream": "stdout",
       "text": [
        "\n",
        "Partitioning curve into peaks...\n",
        "attempt: "
       ]
      },
      {
       "output_type": "stream",
       "stream": "stdout",
       "text": [
        " 0 threshold: 0.4 peaks: 12\n",
        "Fitting individual peaks...\n",
        "=========================="
       ]
      },
      {
       "output_type": "stream",
       "stream": "stdout",
       "text": [
        "\n",
        "F moyenne\tF min\t\tF max\n",
        "73421.0040039 \t61630.7883989 \t79180.8496611\n",
        "==========================\n",
        "iteration   96, curve  91070"
       ]
      },
      {
       "output_type": "stream",
       "stream": "stdout",
       "text": [
        "\n",
        "Partitioning curve into peaks...\n",
        "attempt: "
       ]
      },
      {
       "output_type": "stream",
       "stream": "stdout",
       "text": [
        " 0 threshold: 0.4 peaks: 13\n",
        "Fitting individual peaks...\n",
        "=========================="
       ]
      },
      {
       "output_type": "stream",
       "stream": "stdout",
       "text": [
        "\n",
        "F moyenne\tF min\t\tF max\n",
        "74733.4412597 \t62861.0353571 \t79976.6779289\n",
        "==========================\n",
        "iteration   97, curve  91072"
       ]
      },
      {
       "output_type": "stream",
       "stream": "stdout",
       "text": [
        "\n",
        "Partitioning curve into peaks...\n",
        "attempt: "
       ]
      },
      {
       "output_type": "stream",
       "stream": "stdout",
       "text": [
        " 0 threshold: 0.4 peaks: 12\n",
        "Fitting individual peaks...\n",
        "=========================="
       ]
      },
      {
       "output_type": "stream",
       "stream": "stdout",
       "text": [
        "\n",
        "F moyenne\tF min\t\tF max\n",
        "72745.1562628 \t68946.6882321 \t76265.7334186\n",
        "==========================\n",
        "iteration   98, curve  91074"
       ]
      },
      {
       "output_type": "stream",
       "stream": "stdout",
       "text": [
        "\n",
        "Partitioning curve into peaks...\n",
        "attempt: "
       ]
      },
      {
       "output_type": "stream",
       "stream": "stdout",
       "text": [
        " 0 threshold: 0.4 peaks: 12\n",
        "Fitting individual peaks...\n",
        "=========================="
       ]
      },
      {
       "output_type": "stream",
       "stream": "stdout",
       "text": [
        "\n",
        "F moyenne\tF min\t\tF max\n",
        "72511.4759996 \t59608.0387199 \t78974.5174875\n",
        "==========================\n",
        "iteration   99, curve  91076"
       ]
      },
      {
       "output_type": "stream",
       "stream": "stdout",
       "text": [
        "\n",
        "Partitioning curve into peaks...\n",
        "attempt: "
       ]
      },
      {
       "output_type": "stream",
       "stream": "stdout",
       "text": [
        " 0 threshold: 0.4 peaks: 12\n",
        "Fitting individual peaks...\n",
        "=========================="
       ]
      },
      {
       "output_type": "stream",
       "stream": "stdout",
       "text": [
        "\n",
        "F moyenne\tF min\t\tF max\n",
        "68484.8257932 \t55807.9095353 \t74889.0386632\n",
        "==========================\n",
        "iteration  100, curve  91078"
       ]
      },
      {
       "output_type": "stream",
       "stream": "stdout",
       "text": [
        "\n",
        "Partitioning curve into peaks...\n",
        "attempt: "
       ]
      },
      {
       "output_type": "stream",
       "stream": "stdout",
       "text": [
        " 0 threshold: 0.4 peaks: 12\n",
        "Fitting individual peaks...\n",
        "=========================="
       ]
      },
      {
       "output_type": "stream",
       "stream": "stdout",
       "text": [
        "\n",
        "F moyenne\tF min\t\tF max\n",
        "63480.1266409 \t45403.0930138 \t73743.847348\n",
        "==========================\n",
        "iteration  101, curve  91080"
       ]
      },
      {
       "output_type": "stream",
       "stream": "stdout",
       "text": [
        "\n",
        "Partitioning curve into peaks...\n",
        "attempt: "
       ]
      },
      {
       "output_type": "stream",
       "stream": "stdout",
       "text": [
        " 0 threshold: 0.4 peaks: 12\n",
        "Fitting individual peaks...\n",
        "=========================="
       ]
      },
      {
       "output_type": "stream",
       "stream": "stdout",
       "text": [
        "\n",
        "F moyenne\tF min\t\tF max\n",
        "60549.5950611 \t36964.1675983 \t70976.4495624\n",
        "==========================\n",
        "iteration  102, curve  91082"
       ]
      },
      {
       "output_type": "stream",
       "stream": "stdout",
       "text": [
        "\n",
        "Partitioning curve into peaks...\n",
        "attempt: "
       ]
      },
      {
       "output_type": "stream",
       "stream": "stdout",
       "text": [
        " 0 threshold: 0.4 peaks: 12\n",
        "Fitting individual peaks...\n",
        "=========================="
       ]
      },
      {
       "output_type": "stream",
       "stream": "stdout",
       "text": [
        "\n",
        "F moyenne\tF min\t\tF max\n",
        "60317.027837 \t31948.5052697 \t72035.0092901\n",
        "==========================\n",
        "iteration  103, curve  91084"
       ]
      },
      {
       "output_type": "stream",
       "stream": "stdout",
       "text": [
        "\n",
        "Partitioning curve into peaks...\n",
        "attempt: "
       ]
      },
      {
       "output_type": "stream",
       "stream": "stdout",
       "text": [
        " 0 threshold: 0.4 peaks: 12\n",
        "Fitting individual peaks...\n",
        "=========================="
       ]
      },
      {
       "output_type": "stream",
       "stream": "stdout",
       "text": [
        "\n",
        "F moyenne\tF min\t\tF max\n",
        "61155.9726409 \t27996.8518866 \t75000.9165271\n",
        "==========================\n",
        "iteration  104, curve  91086"
       ]
      },
      {
       "output_type": "stream",
       "stream": "stdout",
       "text": [
        "\n",
        "Partitioning curve into peaks...\n",
        "attempt: "
       ]
      },
      {
       "output_type": "stream",
       "stream": "stdout",
       "text": [
        " 0 threshold: 0.4 peaks: 12\n",
        "Fitting individual peaks...\n",
        "=========================="
       ]
      },
      {
       "output_type": "stream",
       "stream": "stdout",
       "text": [
        "\n",
        "F moyenne\tF min\t\tF max\n",
        "73956.0111637 \t66204.3549281 \t78028.773071\n",
        "==========================\n",
        "iteration  105, curve  91088"
       ]
      },
      {
       "output_type": "stream",
       "stream": "stdout",
       "text": [
        "\n",
        "Partitioning curve into peaks...\n",
        "attempt: "
       ]
      },
      {
       "output_type": "stream",
       "stream": "stdout",
       "text": [
        " 0 threshold: 0.4 peaks: 18\n",
        "Fitting individual peaks..."
       ]
      },
      {
       "output_type": "stream",
       "stream": "stdout",
       "text": [
        "\n",
        "=========================="
       ]
      },
      {
       "output_type": "stream",
       "stream": "stdout",
       "text": [
        "\n",
        "F moyenne\tF min\t\tF max\n",
        "1497299.68667 \t45830.7316368 \t25768238.1748"
       ]
      },
      {
       "output_type": "stream",
       "stream": "stdout",
       "text": [
        "\n",
        "==========================\n",
        "iteration  106, curve  91090"
       ]
      },
      {
       "output_type": "stream",
       "stream": "stdout",
       "text": [
        "\n",
        "Partitioning curve into peaks...\n",
        "attempt: "
       ]
      },
      {
       "output_type": "stream",
       "stream": "stdout",
       "text": [
        " 0 threshold: 0.4 peaks: 12\n",
        "Fitting individual peaks...\n",
        "=========================="
       ]
      },
      {
       "output_type": "stream",
       "stream": "stdout",
       "text": [
        "\n",
        "F moyenne\tF min\t\tF max\n",
        "74166.4534648 \t68624.7077635 \t77445.8541165\n",
        "==========================\n",
        "iteration  107, curve  91092"
       ]
      },
      {
       "output_type": "stream",
       "stream": "stdout",
       "text": [
        "\n",
        "Partitioning curve into peaks...\n",
        "attempt: "
       ]
      },
      {
       "output_type": "stream",
       "stream": "stdout",
       "text": [
        " 0 threshold: 0.4 peaks: 13\n",
        "Fitting individual peaks...\n",
        "=========================="
       ]
      },
      {
       "output_type": "stream",
       "stream": "stdout",
       "text": [
        "\n",
        "F moyenne\tF min\t\tF max\n",
        "73288.920957 \t61358.4503087 \t79293.2165372"
       ]
      },
      {
       "output_type": "stream",
       "stream": "stdout",
       "text": [
        "\n",
        "==========================\n",
        "iteration  108, curve  91094"
       ]
      },
      {
       "output_type": "stream",
       "stream": "stdout",
       "text": [
        "\n",
        "Partitioning curve into peaks...\n",
        "attempt: "
       ]
      },
      {
       "output_type": "stream",
       "stream": "stdout",
       "text": [
        " 0 threshold: 0.4 peaks: 16\n",
        "Fitting individual peaks...\n",
        "=========================="
       ]
      },
      {
       "output_type": "stream",
       "stream": "stdout",
       "text": [
        "\n",
        "F moyenne\tF min\t\tF max\n",
        "76702.4834561 \t46093.4974289 \t96440.4891158"
       ]
      },
      {
       "output_type": "stream",
       "stream": "stdout",
       "text": [
        "\n",
        "==========================\n",
        "iteration  109, curve  91096"
       ]
      },
      {
       "output_type": "stream",
       "stream": "stdout",
       "text": [
        "\n",
        "Partitioning curve into peaks...\n",
        "attempt: "
       ]
      },
      {
       "output_type": "stream",
       "stream": "stdout",
       "text": [
        " 0 threshold: 0.4 peaks: 13\n",
        "Fitting individual peaks...\n",
        "=========================="
       ]
      },
      {
       "output_type": "stream",
       "stream": "stdout",
       "text": [
        "\n",
        "F moyenne\tF min\t\tF max\n",
        "72927.1268499 \t67477.5736485 \t80140.3064379\n",
        "==========================\n",
        "iteration  110, curve  91098"
       ]
      },
      {
       "output_type": "stream",
       "stream": "stdout",
       "text": [
        "\n",
        "Partitioning curve into peaks...\n",
        "attempt: "
       ]
      },
      {
       "output_type": "stream",
       "stream": "stdout",
       "text": [
        " 0 threshold: 0.4 peaks: 17\n",
        "Fitting individual peaks...\n",
        "=========================="
       ]
      },
      {
       "output_type": "stream",
       "stream": "stdout",
       "text": [
        "\n",
        "F moyenne\tF min\t\tF max\n",
        "75890.9462493 \t51950.5388226 \t111765.892767"
       ]
      },
      {
       "output_type": "stream",
       "stream": "stdout",
       "text": [
        "\n",
        "==========================\n",
        "iteration  111, curve  91100"
       ]
      },
      {
       "output_type": "stream",
       "stream": "stdout",
       "text": [
        "\n",
        "Partitioning curve into peaks...\n",
        "attempt: "
       ]
      },
      {
       "output_type": "stream",
       "stream": "stdout",
       "text": [
        " 0 threshold: 0.4 peaks: 12\n",
        "Fitting individual peaks...\n",
        "=========================="
       ]
      },
      {
       "output_type": "stream",
       "stream": "stdout",
       "text": [
        "\n",
        "F moyenne\tF min\t\tF max\n",
        "79486.7961051 \t72363.3668087 \t84091.8118749\n",
        "==========================\n",
        "iteration  112, curve  91102"
       ]
      },
      {
       "output_type": "stream",
       "stream": "stdout",
       "text": [
        "\n",
        "Partitioning curve into peaks...\n",
        "attempt: "
       ]
      },
      {
       "output_type": "stream",
       "stream": "stdout",
       "text": [
        " 0 threshold: 0.4 peaks: 12\n",
        "Fitting individual peaks...\n",
        "=========================="
       ]
      },
      {
       "output_type": "stream",
       "stream": "stdout",
       "text": [
        "\n",
        "F moyenne\tF min\t\tF max\n",
        "75053.4887207 \t68365.6183945 \t79034.0510496\n",
        "==========================\n",
        "iteration  113, curve  91104"
       ]
      },
      {
       "output_type": "stream",
       "stream": "stdout",
       "text": [
        "\n",
        "Partitioning curve into peaks...\n",
        "attempt: "
       ]
      },
      {
       "output_type": "stream",
       "stream": "stdout",
       "text": [
        " 0 threshold: 0.4 peaks: 12\n",
        "Fitting individual peaks...\n",
        "=========================="
       ]
      },
      {
       "output_type": "stream",
       "stream": "stdout",
       "text": [
        "\n",
        "F moyenne\tF min\t\tF max\n",
        "76540.3684692 \t71532.3833735 \t80862.9540887\n",
        "==========================\n",
        "iteration  114, curve  91106"
       ]
      },
      {
       "output_type": "stream",
       "stream": "stdout",
       "text": [
        "\n",
        "Partitioning curve into peaks...\n",
        "attempt: "
       ]
      },
      {
       "output_type": "stream",
       "stream": "stdout",
       "text": [
        " 0 threshold: 0.4 peaks: 12\n",
        "Fitting individual peaks...\n",
        "=========================="
       ]
      },
      {
       "output_type": "stream",
       "stream": "stdout",
       "text": [
        "\n",
        "F moyenne\tF min\t\tF max\n",
        "76567.6930567 \t71586.3714326 \t81293.7815844\n",
        "==========================\n",
        "iteration  115, curve  91108"
       ]
      },
      {
       "output_type": "stream",
       "stream": "stdout",
       "text": [
        "\n",
        "Partitioning curve into peaks...\n",
        "attempt: "
       ]
      },
      {
       "output_type": "stream",
       "stream": "stdout",
       "text": [
        " 0 threshold: 0.4 peaks: 12\n",
        "Fitting individual peaks...\n",
        "=========================="
       ]
      },
      {
       "output_type": "stream",
       "stream": "stdout",
       "text": [
        "\n",
        "F moyenne\tF min\t\tF max\n",
        "78118.2258443 \t70015.1826737 \t82518.848119\n",
        "==========================\n",
        "iteration  116, curve  91110"
       ]
      },
      {
       "output_type": "stream",
       "stream": "stdout",
       "text": [
        "\n",
        "Partitioning curve into peaks...\n",
        "attempt: "
       ]
      },
      {
       "output_type": "stream",
       "stream": "stdout",
       "text": [
        " 0 threshold: 0.4 peaks: 12\n",
        "Fitting individual peaks...\n",
        "=========================="
       ]
      },
      {
       "output_type": "stream",
       "stream": "stdout",
       "text": [
        "\n",
        "F moyenne\tF min\t\tF max\n",
        "80814.2230747 \t75946.4640355 \t87903.4372919\n",
        "==========================\n",
        "iteration  117, curve  91112"
       ]
      },
      {
       "output_type": "stream",
       "stream": "stdout",
       "text": [
        "\n",
        "Partitioning curve into peaks...\n",
        "attempt: "
       ]
      },
      {
       "output_type": "stream",
       "stream": "stdout",
       "text": [
        " 0 threshold: 0.4 peaks: 12\n",
        "Fitting individual peaks...\n",
        "=========================="
       ]
      },
      {
       "output_type": "stream",
       "stream": "stdout",
       "text": [
        "\n",
        "F moyenne\tF min\t\tF max\n",
        "77698.27765 \t63729.8995244 \t93399.4572585\n",
        "==========================\n",
        "iteration  118, curve  91114"
       ]
      },
      {
       "output_type": "stream",
       "stream": "stdout",
       "text": [
        "\n",
        "Partitioning curve into peaks...\n",
        "attempt: "
       ]
      },
      {
       "output_type": "stream",
       "stream": "stdout",
       "text": [
        " 0 threshold: 0.4 peaks: 12\n",
        "Fitting individual peaks...\n",
        "=========================="
       ]
      },
      {
       "output_type": "stream",
       "stream": "stdout",
       "text": [
        "\n",
        "F moyenne\tF min\t\tF max\n",
        "79157.7335126 \t76123.1082937 \t83605.7454349\n",
        "==========================\n",
        "iteration  119, curve  91116"
       ]
      },
      {
       "output_type": "stream",
       "stream": "stdout",
       "text": [
        "\n",
        "Partitioning curve into peaks...\n",
        "attempt: "
       ]
      },
      {
       "output_type": "stream",
       "stream": "stdout",
       "text": [
        " 0 threshold: 0.4 peaks: 16\n",
        "Fitting individual peaks...\n",
        "=========================="
       ]
      },
      {
       "output_type": "stream",
       "stream": "stdout",
       "text": [
        "\n",
        "F moyenne\tF min\t\tF max\n",
        "79116.52258 \t63687.9016543 \t87084.0408606"
       ]
      },
      {
       "output_type": "stream",
       "stream": "stdout",
       "text": [
        "\n",
        "==========================\n",
        "iteration  120, curve  91118"
       ]
      },
      {
       "output_type": "stream",
       "stream": "stdout",
       "text": [
        "\n",
        "Partitioning curve into peaks...\n",
        "attempt: "
       ]
      },
      {
       "output_type": "stream",
       "stream": "stdout",
       "text": [
        " 0 threshold: 0.4 peaks: 12\n",
        "Fitting individual peaks...\n",
        "=========================="
       ]
      },
      {
       "output_type": "stream",
       "stream": "stdout",
       "text": [
        "\n",
        "F moyenne\tF min\t\tF max\n",
        "78751.8255351 \t62622.2175642 \t88926.6707724\n",
        "==========================\n",
        "iteration  121, curve  91120"
       ]
      },
      {
       "output_type": "stream",
       "stream": "stdout",
       "text": [
        "\n",
        "Partitioning curve into peaks...\n",
        "attempt: "
       ]
      },
      {
       "output_type": "stream",
       "stream": "stdout",
       "text": [
        " 0 threshold: 0.4 peaks: 13\n",
        "Fitting individual peaks...\n",
        "=========================="
       ]
      },
      {
       "output_type": "stream",
       "stream": "stdout",
       "text": [
        "\n",
        "F moyenne\tF min\t\tF max\n",
        "78929.3438768 \t69819.1914423 \t84247.2322672\n",
        "==========================\n",
        "iteration  122, curve  91122"
       ]
      },
      {
       "output_type": "stream",
       "stream": "stdout",
       "text": [
        "\n",
        "Partitioning curve into peaks...\n",
        "attempt: "
       ]
      },
      {
       "output_type": "stream",
       "stream": "stdout",
       "text": [
        " 0 threshold: 0.4 peaks: 16\n",
        "Fitting individual peaks...\n",
        "=========================="
       ]
      },
      {
       "output_type": "stream",
       "stream": "stdout",
       "text": [
        "\n",
        "F moyenne\tF min\t\tF max\n",
        "75264.2682197 \t51794.5749934 \t82806.6881156"
       ]
      },
      {
       "output_type": "stream",
       "stream": "stdout",
       "text": [
        "\n",
        "==========================\n",
        "iteration  123, curve  91124"
       ]
      },
      {
       "output_type": "stream",
       "stream": "stdout",
       "text": [
        "\n",
        "Partitioning curve into peaks...\n",
        "attempt: "
       ]
      },
      {
       "output_type": "stream",
       "stream": "stdout",
       "text": [
        " 0 threshold: 0.4 peaks: 12\n",
        "Fitting individual peaks...\n",
        "=========================="
       ]
      },
      {
       "output_type": "stream",
       "stream": "stdout",
       "text": [
        "\n",
        "F moyenne\tF min\t\tF max\n",
        "74930.4146749 \t69638.8675411 \t77785.8734314\n",
        "==========================\n",
        "iteration  124, curve  91126"
       ]
      },
      {
       "output_type": "stream",
       "stream": "stdout",
       "text": [
        "\n",
        "Partitioning curve into peaks...\n",
        "attempt: "
       ]
      },
      {
       "output_type": "stream",
       "stream": "stdout",
       "text": [
        " 0 threshold: 0.4 peaks: 12\n",
        "Fitting individual peaks...\n",
        "=========================="
       ]
      },
      {
       "output_type": "stream",
       "stream": "stdout",
       "text": [
        "\n",
        "F moyenne\tF min\t\tF max\n",
        "73752.5118749 \t65250.9070495 \t77478.4641909\n",
        "==========================\n",
        "iteration  125, curve  91128"
       ]
      },
      {
       "output_type": "stream",
       "stream": "stdout",
       "text": [
        "\n",
        "Partitioning curve into peaks...\n",
        "attempt: "
       ]
      },
      {
       "output_type": "stream",
       "stream": "stdout",
       "text": [
        " 0 threshold: 0.4 peaks: 12\n",
        "Fitting individual peaks...\n",
        "=========================="
       ]
      },
      {
       "output_type": "stream",
       "stream": "stdout",
       "text": [
        "\n",
        "F moyenne\tF min\t\tF max\n",
        "75872.3905237 \t71082.8857259 \t82183.5324402\n",
        "==========================\n",
        "iteration  126, curve  91130"
       ]
      },
      {
       "output_type": "stream",
       "stream": "stdout",
       "text": [
        "\n",
        "Partitioning curve into peaks...\n",
        "attempt: "
       ]
      },
      {
       "output_type": "stream",
       "stream": "stdout",
       "text": [
        " 0 threshold: 0.4 peaks: 12\n",
        "Fitting individual peaks...\n",
        "=========================="
       ]
      },
      {
       "output_type": "stream",
       "stream": "stdout",
       "text": [
        "\n",
        "F moyenne\tF min\t\tF max\n",
        "74588.4053314 \t62915.9465223 \t81935.5933752\n",
        "==========================\n",
        "iteration  127, curve  91132"
       ]
      },
      {
       "output_type": "stream",
       "stream": "stdout",
       "text": [
        "\n",
        "Partitioning curve into peaks...\n",
        "attempt: "
       ]
      },
      {
       "output_type": "stream",
       "stream": "stdout",
       "text": [
        " 0 threshold: 0.4 peaks: 12\n",
        "Fitting individual peaks...\n",
        "=========================="
       ]
      },
      {
       "output_type": "stream",
       "stream": "stdout",
       "text": [
        "\n",
        "F moyenne\tF min\t\tF max\n",
        "74056.3734521 \t70368.8561337 \t79248.6626153\n",
        "==========================\n",
        "iteration  128, curve  91134"
       ]
      },
      {
       "output_type": "stream",
       "stream": "stdout",
       "text": [
        "\n",
        "Partitioning curve into peaks...\n",
        "attempt: "
       ]
      },
      {
       "output_type": "stream",
       "stream": "stdout",
       "text": [
        " 0 threshold: 0.4 peaks: 12\n",
        "Fitting individual peaks...\n",
        "=========================="
       ]
      },
      {
       "output_type": "stream",
       "stream": "stdout",
       "text": [
        "\n",
        "F moyenne\tF min\t\tF max\n",
        "75343.7536862 \t73005.465669 \t78319.1199007\n",
        "==========================\n",
        "iteration  129, curve  91136"
       ]
      },
      {
       "output_type": "stream",
       "stream": "stdout",
       "text": [
        "\n",
        "Partitioning curve into peaks...\n",
        "attempt: "
       ]
      },
      {
       "output_type": "stream",
       "stream": "stdout",
       "text": [
        " 0 threshold: 0.4 peaks: 12\n",
        "Fitting individual peaks...\n",
        "=========================="
       ]
      },
      {
       "output_type": "stream",
       "stream": "stdout",
       "text": [
        "\n",
        "F moyenne\tF min\t\tF max\n",
        "79749.6125599 \t69448.3964534 \t85649.8158211"
       ]
      },
      {
       "output_type": "stream",
       "stream": "stdout",
       "text": [
        "\n",
        "==========================\n",
        "iteration  130, curve  91138"
       ]
      },
      {
       "output_type": "stream",
       "stream": "stdout",
       "text": [
        "\n",
        "Partitioning curve into peaks...\n",
        "attempt: "
       ]
      },
      {
       "output_type": "stream",
       "stream": "stdout",
       "text": [
        " 0 threshold: 0.4 peaks: 12\n",
        "Fitting individual peaks...\n",
        "=========================="
       ]
      },
      {
       "output_type": "stream",
       "stream": "stdout",
       "text": [
        "\n",
        "F moyenne\tF min\t\tF max\n",
        "76288.5113691 \t68007.4866173 \t79921.8377483\n",
        "==========================\n",
        "iteration  131, curve  91140"
       ]
      },
      {
       "output_type": "stream",
       "stream": "stdout",
       "text": [
        "\n",
        "Partitioning curve into peaks...\n",
        "attempt: "
       ]
      },
      {
       "output_type": "stream",
       "stream": "stdout",
       "text": [
        " 0 threshold: 0.4 peaks: 13\n",
        "Fitting individual peaks...\n",
        "=========================="
       ]
      },
      {
       "output_type": "stream",
       "stream": "stdout",
       "text": [
        "\n",
        "F moyenne\tF min\t\tF max\n",
        "74011.7822989 \t61527.3470076 \t81450.9921462"
       ]
      },
      {
       "output_type": "stream",
       "stream": "stdout",
       "text": [
        "\n",
        "==========================\n",
        "iteration  132, curve  91142"
       ]
      },
      {
       "output_type": "stream",
       "stream": "stdout",
       "text": [
        "\n",
        "Partitioning curve into peaks...\n",
        "attempt: "
       ]
      },
      {
       "output_type": "stream",
       "stream": "stdout",
       "text": [
        " 0 threshold: 0.4 peaks: 16\n",
        "Fitting individual peaks...\n",
        "=========================="
       ]
      },
      {
       "output_type": "stream",
       "stream": "stdout",
       "text": [
        "\n",
        "F moyenne\tF min\t\tF max\n",
        "76632.6794682 \t56292.1090681 \t87651.1710858"
       ]
      },
      {
       "output_type": "stream",
       "stream": "stdout",
       "text": [
        "\n",
        "==========================\n",
        "iteration  133, curve  91144"
       ]
      },
      {
       "output_type": "stream",
       "stream": "stdout",
       "text": [
        "\n",
        "Partitioning curve into peaks...\n",
        "attempt: "
       ]
      },
      {
       "output_type": "stream",
       "stream": "stdout",
       "text": [
        " 0 threshold: 0.4 peaks: 12\n",
        "Fitting individual peaks...\n",
        "=========================="
       ]
      },
      {
       "output_type": "stream",
       "stream": "stdout",
       "text": [
        "\n",
        "F moyenne\tF min\t\tF max\n",
        "74678.8814403 \t69755.9753062 \t79048.3251689\n"
       ]
      },
      {
       "output_type": "stream",
       "stream": "stdout",
       "text": [
        "==========================\n",
        "iteration  134, curve  91146"
       ]
      },
      {
       "output_type": "stream",
       "stream": "stdout",
       "text": [
        "\n",
        "Partitioning curve into peaks...\n",
        "attempt: "
       ]
      },
      {
       "output_type": "stream",
       "stream": "stdout",
       "text": [
        " 0 threshold: 0.4 peaks: 13\n",
        "Fitting individual peaks...\n",
        "=========================="
       ]
      },
      {
       "output_type": "stream",
       "stream": "stdout",
       "text": [
        "\n",
        "F moyenne\tF min\t\tF max\n",
        "71628.2094951 \t60268.1189 \t81969.6367207\n",
        "==========================\n",
        "iteration  135, curve  91148"
       ]
      },
      {
       "output_type": "stream",
       "stream": "stdout",
       "text": [
        "\n",
        "Partitioning curve into peaks...\n",
        "attempt: "
       ]
      },
      {
       "output_type": "stream",
       "stream": "stdout",
       "text": [
        " 0 threshold: 0.4 peaks: 12\n",
        "Fitting individual peaks...\n",
        "=========================="
       ]
      },
      {
       "output_type": "stream",
       "stream": "stdout",
       "text": [
        "\n",
        "F moyenne\tF min\t\tF max\n",
        "74505.5557642 \t72044.437963 \t77824.034064\n",
        "==========================\n",
        "iteration  136, curve  91150"
       ]
      },
      {
       "output_type": "stream",
       "stream": "stdout",
       "text": [
        "\n",
        "Partitioning curve into peaks...\n",
        "attempt: "
       ]
      },
      {
       "output_type": "stream",
       "stream": "stdout",
       "text": [
        " 0 threshold: 0.4 peaks: 12\n",
        "Fitting individual peaks...\n",
        "=========================="
       ]
      },
      {
       "output_type": "stream",
       "stream": "stdout",
       "text": [
        "\n",
        "F moyenne\tF min\t\tF max\n",
        "71396.4696374 \t50339.2073505 \t85853.0393403\n",
        "==========================\n",
        "iteration  137, curve  91152"
       ]
      },
      {
       "output_type": "stream",
       "stream": "stdout",
       "text": [
        "\n",
        "Partitioning curve into peaks...\n",
        "attempt: "
       ]
      },
      {
       "output_type": "stream",
       "stream": "stdout",
       "text": [
        " 0 threshold: 0.4 peaks: 12\n",
        "Fitting individual peaks...\n",
        "=========================="
       ]
      },
      {
       "output_type": "stream",
       "stream": "stdout",
       "text": [
        "\n",
        "F moyenne\tF min\t\tF max\n",
        "68912.9507367 \t61411.4314438 \t75777.4693468\n",
        "==========================\n",
        "iteration  138, curve  91154"
       ]
      },
      {
       "output_type": "stream",
       "stream": "stdout",
       "text": [
        "\n",
        "Partitioning curve into peaks...\n",
        "attempt: "
       ]
      },
      {
       "output_type": "stream",
       "stream": "stdout",
       "text": [
        " 0 threshold: 0.4 peaks: 12\n",
        "Fitting individual peaks...\n",
        "=========================="
       ]
      },
      {
       "output_type": "stream",
       "stream": "stdout",
       "text": [
        "\n",
        "F moyenne\tF min\t\tF max\n",
        "70780.5552354 \t61406.1845959 \t86850.3888516\n",
        "==========================\n",
        "iteration  139, curve  91156"
       ]
      },
      {
       "output_type": "stream",
       "stream": "stdout",
       "text": [
        "\n",
        "Partitioning curve into peaks...\n",
        "attempt: "
       ]
      },
      {
       "output_type": "stream",
       "stream": "stdout",
       "text": [
        " 0 threshold: 0.4 peaks: 16\n",
        "Fitting individual peaks...\n",
        "=========================="
       ]
      },
      {
       "output_type": "stream",
       "stream": "stdout",
       "text": [
        "\n",
        "F moyenne\tF min\t\tF max\n",
        "68201.4421992 \t39162.1187516 \t78844.7373231"
       ]
      },
      {
       "output_type": "stream",
       "stream": "stdout",
       "text": [
        "\n",
        "==========================\n",
        "iteration  140, curve  91158"
       ]
      },
      {
       "output_type": "stream",
       "stream": "stdout",
       "text": [
        "\n",
        "Partitioning curve into peaks...\n",
        "attempt: "
       ]
      },
      {
       "output_type": "stream",
       "stream": "stdout",
       "text": [
        " 0 threshold: 0.4 peaks: 12\n",
        "Fitting individual peaks...\n",
        "=========================="
       ]
      },
      {
       "output_type": "stream",
       "stream": "stdout",
       "text": [
        "\n",
        "F moyenne\tF min\t\tF max\n",
        "71406.3108189 \t58731.8298842 \t76878.0929507\n",
        "==========================\n",
        "iteration  141, curve  91160"
       ]
      },
      {
       "output_type": "stream",
       "stream": "stdout",
       "text": [
        "\n",
        "Partitioning curve into peaks...\n",
        "attempt: "
       ]
      },
      {
       "output_type": "stream",
       "stream": "stdout",
       "text": [
        " 0 threshold: 0.4 peaks: 13\n",
        "Fitting individual peaks...\n",
        "=========================="
       ]
      },
      {
       "output_type": "stream",
       "stream": "stdout",
       "text": [
        "\n",
        "F moyenne\tF min\t\tF max\n",
        "74167.364768 \t67603.7335688 \t80604.6987946\n",
        "==========================\n",
        "iteration  142, curve  91162"
       ]
      },
      {
       "output_type": "stream",
       "stream": "stdout",
       "text": [
        "\n",
        "Partitioning curve into peaks...\n",
        "attempt: "
       ]
      },
      {
       "output_type": "stream",
       "stream": "stdout",
       "text": [
        " 0 threshold: 0.4 peaks: 17\n",
        "Fitting individual peaks...\n",
        "=========================="
       ]
      },
      {
       "output_type": "stream",
       "stream": "stdout",
       "text": [
        "\n",
        "F moyenne\tF min\t\tF max\n",
        "77414.5902807 \t59699.5976191 \t111636.253187"
       ]
      },
      {
       "output_type": "stream",
       "stream": "stdout",
       "text": [
        "\n",
        "==========================\n",
        "iteration  143, curve  91164"
       ]
      },
      {
       "output_type": "stream",
       "stream": "stdout",
       "text": [
        "\n",
        "Partitioning curve into peaks...\n",
        "attempt: "
       ]
      },
      {
       "output_type": "stream",
       "stream": "stdout",
       "text": [
        " 0 threshold: 0.4 peaks: 12\n",
        "Fitting individual peaks...\n",
        "=========================="
       ]
      },
      {
       "output_type": "stream",
       "stream": "stdout",
       "text": [
        "\n",
        "F moyenne\tF min\t\tF max\n",
        "73983.2193617 \t70164.7055322 \t78571.934672\n",
        "==========================\n",
        "iteration  144, curve  91166"
       ]
      },
      {
       "output_type": "stream",
       "stream": "stdout",
       "text": [
        "\n",
        "Partitioning curve into peaks...\n",
        "attempt: "
       ]
      },
      {
       "output_type": "stream",
       "stream": "stdout",
       "text": [
        " 0 threshold: 0.4 peaks: 12\n",
        "Fitting individual peaks...\n",
        "=========================="
       ]
      },
      {
       "output_type": "stream",
       "stream": "stdout",
       "text": [
        "\n",
        "F moyenne\tF min\t\tF max\n",
        "72628.1327626 \t67327.7524205 \t77786.7898605\n",
        "==========================\n",
        "iteration  145, curve  91168"
       ]
      },
      {
       "output_type": "stream",
       "stream": "stdout",
       "text": [
        "\n",
        "Partitioning curve into peaks...\n",
        "attempt: "
       ]
      },
      {
       "output_type": "stream",
       "stream": "stdout",
       "text": [
        " 0 threshold: 0.4 peaks: 12\n",
        "Fitting individual peaks...\n",
        "=========================="
       ]
      },
      {
       "output_type": "stream",
       "stream": "stdout",
       "text": [
        "\n",
        "F moyenne\tF min\t\tF max\n",
        "71225.7971431 \t67617.9042738 \t74628.4082698"
       ]
      },
      {
       "output_type": "stream",
       "stream": "stdout",
       "text": [
        "\n",
        "==========================\n",
        "iteration  146, curve  91170"
       ]
      },
      {
       "output_type": "stream",
       "stream": "stdout",
       "text": [
        "\n",
        "Partitioning curve into peaks...\n",
        "attempt: "
       ]
      },
      {
       "output_type": "stream",
       "stream": "stdout",
       "text": [
        " 0 threshold: 0.4 peaks: 12\n",
        "Fitting individual peaks...\n",
        "=========================="
       ]
      },
      {
       "output_type": "stream",
       "stream": "stdout",
       "text": [
        "\n",
        "F moyenne\tF min\t\tF max\n",
        "997757.086697 \t32339.3087491 \t1170043.37773\n",
        "==========================\n",
        "iteration  147, curve  91172"
       ]
      },
      {
       "output_type": "stream",
       "stream": "stdout",
       "text": [
        "\n",
        "Partitioning curve into peaks...\n",
        "attempt: "
       ]
      },
      {
       "output_type": "stream",
       "stream": "stdout",
       "text": [
        " 0 threshold: 0.4 peaks: 12\n",
        "Fitting individual peaks...\n",
        "=========================="
       ]
      },
      {
       "output_type": "stream",
       "stream": "stdout",
       "text": [
        "\n",
        "F moyenne\tF min\t\tF max\n",
        "73924.905691 \t57237.9497171 \t83438.753144\n",
        "==========================\n",
        "iteration  148, curve  91174"
       ]
      },
      {
       "output_type": "stream",
       "stream": "stdout",
       "text": [
        "\n",
        "Partitioning curve into peaks...\n",
        "attempt: "
       ]
      },
      {
       "output_type": "stream",
       "stream": "stdout",
       "text": [
        " 0 threshold: 0.4 peaks: 12\n",
        "Fitting individual peaks...\n",
        "=========================="
       ]
      },
      {
       "output_type": "stream",
       "stream": "stdout",
       "text": [
        "\n",
        "F moyenne\tF min\t\tF max\n",
        "75519.5765083 \t69556.384255 \t80111.1205543\n",
        "==========================\n",
        "iteration  149, curve  91176"
       ]
      },
      {
       "output_type": "stream",
       "stream": "stdout",
       "text": [
        "\n",
        "Partitioning curve into peaks...\n",
        "attempt: "
       ]
      },
      {
       "output_type": "stream",
       "stream": "stdout",
       "text": [
        " 0 threshold: 0.4 peaks: 13\n",
        "Fitting individual peaks...\n",
        "=========================="
       ]
      },
      {
       "output_type": "stream",
       "stream": "stdout",
       "text": [
        "\n",
        "F moyenne\tF min\t\tF max\n",
        "62875.0096766 \t45745.167574 \t78638.4806134\n",
        "==========================\n",
        "iteration  150, curve  91178"
       ]
      },
      {
       "output_type": "stream",
       "stream": "stdout",
       "text": [
        "\n",
        "Partitioning curve into peaks...\n",
        "attempt: "
       ]
      },
      {
       "output_type": "stream",
       "stream": "stdout",
       "text": [
        " 0 threshold: 0.4 peaks: 16\n",
        "Fitting individual peaks...\n",
        "=========================="
       ]
      },
      {
       "output_type": "stream",
       "stream": "stdout",
       "text": [
        "\n",
        "F moyenne\tF min\t\tF max\n",
        "65083.407213 \t48781.1012374 \t91570.7448464"
       ]
      },
      {
       "output_type": "stream",
       "stream": "stdout",
       "text": [
        "\n",
        "==========================\n",
        "iteration  151, curve  91180"
       ]
      },
      {
       "output_type": "stream",
       "stream": "stdout",
       "text": [
        "\n",
        "Partitioning curve into peaks...\n",
        "attempt: "
       ]
      },
      {
       "output_type": "stream",
       "stream": "stdout",
       "text": [
        " 0 threshold: 0.4 peaks: 12\n",
        "Fitting individual peaks...\n",
        "=========================="
       ]
      },
      {
       "output_type": "stream",
       "stream": "stdout",
       "text": [
        "\n",
        "F moyenne\tF min\t\tF max\n",
        "59876.15868 \t43791.3543326 \t76649.0438897\n",
        "==========================\n",
        "iteration  152, curve  91182"
       ]
      },
      {
       "output_type": "stream",
       "stream": "stdout",
       "text": [
        "\n",
        "Partitioning curve into peaks...\n",
        "attempt: "
       ]
      },
      {
       "output_type": "stream",
       "stream": "stdout",
       "text": [
        " 0 threshold: 0.4 peaks: 12\n",
        "Fitting individual peaks...\n",
        "=========================="
       ]
      },
      {
       "output_type": "stream",
       "stream": "stdout",
       "text": [
        "\n",
        "F moyenne\tF min\t\tF max\n",
        "1069347.42587 \t77989.7065678 \t1363505.22742\n",
        "==========================\n",
        "iteration  153, curve  91184"
       ]
      },
      {
       "output_type": "stream",
       "stream": "stdout",
       "text": [
        "\n",
        "Partitioning curve into peaks...\n",
        "attempt: "
       ]
      },
      {
       "output_type": "stream",
       "stream": "stdout",
       "text": [
        " 0 threshold: 0.4 peaks: 12\n",
        "Fitting individual peaks...\n",
        "=========================="
       ]
      },
      {
       "output_type": "stream",
       "stream": "stdout",
       "text": [
        "\n",
        "F moyenne\tF min\t\tF max\n",
        "70192.270209 \t60073.0771149 \t78365.7818552\n",
        "==========================\n",
        "iteration  154, curve  91186"
       ]
      },
      {
       "output_type": "stream",
       "stream": "stdout",
       "text": [
        "\n",
        "Partitioning curve into peaks...\n",
        "attempt: "
       ]
      },
      {
       "output_type": "stream",
       "stream": "stdout",
       "text": [
        " 0 threshold: 0.4 peaks: 12\n",
        "Fitting individual peaks...\n",
        "=========================="
       ]
      },
      {
       "output_type": "stream",
       "stream": "stdout",
       "text": [
        "\n",
        "F moyenne\tF min\t\tF max\n",
        "75901.6224824 \t69237.7568696 \t81635.1849138\n",
        "==========================\n",
        "iteration  155, curve  91188"
       ]
      },
      {
       "output_type": "stream",
       "stream": "stdout",
       "text": [
        "\n",
        "Partitioning curve into peaks...\n",
        "attempt: "
       ]
      },
      {
       "output_type": "stream",
       "stream": "stdout",
       "text": [
        " 0 threshold: 0.4 peaks: 12\n",
        "Fitting individual peaks...\n",
        "=========================="
       ]
      },
      {
       "output_type": "stream",
       "stream": "stdout",
       "text": [
        "\n",
        "F moyenne\tF min\t\tF max\n",
        "76858.8382928 \t65741.4291201 \t82004.9767793\n",
        "==========================\n",
        "iteration  156, curve  91190"
       ]
      },
      {
       "output_type": "stream",
       "stream": "stdout",
       "text": [
        "\n",
        "Partitioning curve into peaks...\n",
        "attempt: "
       ]
      },
      {
       "output_type": "stream",
       "stream": "stdout",
       "text": [
        " 0 threshold: 0.4 peaks: 12\n",
        "Fitting individual peaks...\n",
        "=========================="
       ]
      },
      {
       "output_type": "stream",
       "stream": "stdout",
       "text": [
        "\n",
        "F moyenne\tF min\t\tF max\n",
        "78140.38907 \t60203.2548841 \t84064.3923909"
       ]
      },
      {
       "output_type": "stream",
       "stream": "stdout",
       "text": [
        "\n",
        "==========================\n",
        "iteration  157, curve  91192"
       ]
      },
      {
       "output_type": "stream",
       "stream": "stdout",
       "text": [
        "\n",
        "Partitioning curve into peaks...\n",
        "attempt: "
       ]
      },
      {
       "output_type": "stream",
       "stream": "stdout",
       "text": [
        " 0 threshold: 0.4 peaks: 13\n",
        "Fitting individual peaks...\n",
        "=========================="
       ]
      },
      {
       "output_type": "stream",
       "stream": "stdout",
       "text": [
        "\n",
        "F moyenne\tF min\t\tF max\n",
        "77380.5788646 \t63487.9576155 \t85320.4673086"
       ]
      },
      {
       "output_type": "stream",
       "stream": "stdout",
       "text": [
        "\n",
        "==========================\n",
        "iteration  158, curve  91194"
       ]
      },
      {
       "output_type": "stream",
       "stream": "stdout",
       "text": [
        "\n",
        "Partitioning curve into peaks...\n",
        "attempt: "
       ]
      },
      {
       "output_type": "stream",
       "stream": "stdout",
       "text": [
        " 0 threshold: 0.4 peaks: 16\n",
        "Fitting individual peaks...\n",
        "=========================="
       ]
      },
      {
       "output_type": "stream",
       "stream": "stdout",
       "text": [
        "\n",
        "F moyenne\tF min\t\tF max\n",
        "79250.12339 \t61968.022432 \t90439.6894196"
       ]
      },
      {
       "output_type": "stream",
       "stream": "stdout",
       "text": [
        "\n",
        "==========================\n",
        "iteration  159, curve  91196"
       ]
      },
      {
       "output_type": "stream",
       "stream": "stdout",
       "text": [
        "\n",
        "Partitioning curve into peaks...\n",
        "attempt: "
       ]
      },
      {
       "output_type": "stream",
       "stream": "stdout",
       "text": [
        " 0 threshold: 0.4 peaks: 12\n",
        "Fitting individual peaks...\n",
        "=========================="
       ]
      },
      {
       "output_type": "stream",
       "stream": "stdout",
       "text": [
        "\n",
        "F moyenne\tF min\t\tF max\n",
        "80534.7651187 \t74691.8852218 \t87952.4618427"
       ]
      },
      {
       "output_type": "stream",
       "stream": "stdout",
       "text": [
        "\n",
        "==========================\n",
        "iteration  160, curve  91198"
       ]
      },
      {
       "output_type": "stream",
       "stream": "stdout",
       "text": [
        "\n",
        "Partitioning curve into peaks...\n",
        "attempt: "
       ]
      },
      {
       "output_type": "stream",
       "stream": "stdout",
       "text": [
        " 0 threshold: 0.4 peaks: 12\n",
        "Fitting individual peaks...\n",
        "=========================="
       ]
      },
      {
       "output_type": "stream",
       "stream": "stdout",
       "text": [
        "\n",
        "F moyenne\tF min\t\tF max\n",
        "73106.1871824 \t62108.3891591 \t81361.6187023\n",
        "==========================\n",
        "iteration  161, curve  91200"
       ]
      },
      {
       "output_type": "stream",
       "stream": "stdout",
       "text": [
        "\n",
        "Partitioning curve into peaks...\n",
        "attempt: "
       ]
      },
      {
       "output_type": "stream",
       "stream": "stdout",
       "text": [
        " 0 threshold: 0.4 peaks: 12\n",
        "Fitting individual peaks...\n",
        "=========================="
       ]
      },
      {
       "output_type": "stream",
       "stream": "stdout",
       "text": [
        "\n",
        "F moyenne\tF min\t\tF max\n",
        "66233.9158043 \t43934.0675871 \t79974.3166905\n",
        "==========================\n",
        "iteration  162, curve  91202"
       ]
      },
      {
       "output_type": "stream",
       "stream": "stdout",
       "text": [
        "\n",
        "Partitioning curve into peaks...\n",
        "attempt: "
       ]
      },
      {
       "output_type": "stream",
       "stream": "stdout",
       "text": [
        " 0 threshold: 0.4 peaks: 12\n",
        "Fitting individual peaks...\n",
        "=========================="
       ]
      },
      {
       "output_type": "stream",
       "stream": "stdout",
       "text": [
        "\n",
        "F moyenne\tF min\t\tF max\n",
        "69565.5390343 \t56679.9844065 \t83568.6297078"
       ]
      },
      {
       "output_type": "stream",
       "stream": "stdout",
       "text": [
        "\n",
        "==========================\n",
        "iteration  163, curve  91204"
       ]
      },
      {
       "output_type": "stream",
       "stream": "stdout",
       "text": [
        "\n",
        "Partitioning curve into peaks...\n",
        "attempt: "
       ]
      },
      {
       "output_type": "stream",
       "stream": "stdout",
       "text": [
        " 0 threshold: 0.4 peaks: 12\n",
        "Fitting individual peaks...\n",
        "=========================="
       ]
      },
      {
       "output_type": "stream",
       "stream": "stdout",
       "text": [
        "\n",
        "F moyenne\tF min\t\tF max\n",
        "66952.3391798 \t46670.5429256 \t78275.5934158\n",
        "==========================\n",
        "iteration  164, curve  91206"
       ]
      },
      {
       "output_type": "stream",
       "stream": "stdout",
       "text": [
        "\n",
        "Partitioning curve into peaks...\n",
        "attempt: "
       ]
      },
      {
       "output_type": "stream",
       "stream": "stdout",
       "text": [
        " 0 threshold: 0.4 peaks: 13\n",
        "Fitting individual peaks...\n",
        "=========================="
       ]
      },
      {
       "output_type": "stream",
       "stream": "stdout",
       "text": [
        "\n",
        "F moyenne\tF min\t\tF max\n",
        "74825.6274902 \t64575.8193231 \t79042.6011348\n",
        "==========================\n",
        "iteration  165, curve  91208"
       ]
      },
      {
       "output_type": "stream",
       "stream": "stdout",
       "text": [
        "\n",
        "Partitioning curve into peaks...\n",
        "attempt: "
       ]
      },
      {
       "output_type": "stream",
       "stream": "stdout",
       "text": [
        " 0 threshold: 0.4 peaks: 13\n",
        "Fitting individual peaks...\n",
        "=========================="
       ]
      },
      {
       "output_type": "stream",
       "stream": "stdout",
       "text": [
        "\n",
        "F moyenne\tF min\t\tF max\n",
        "77539.4182541 \t67388.4929832 \t84311.0418676"
       ]
      },
      {
       "output_type": "stream",
       "stream": "stdout",
       "text": [
        "\n",
        "==========================\n",
        "iteration  166, curve  91210"
       ]
      },
      {
       "output_type": "stream",
       "stream": "stdout",
       "text": [
        "\n",
        "Partitioning curve into peaks...\n",
        "attempt: "
       ]
      },
      {
       "output_type": "stream",
       "stream": "stdout",
       "text": [
        " 0 threshold: 0.4 peaks: 12\n",
        "Fitting individual peaks...\n",
        "=========================="
       ]
      },
      {
       "output_type": "stream",
       "stream": "stdout",
       "text": [
        "\n",
        "F moyenne\tF min\t\tF max\n",
        "76238.9271289 \t70194.6853504 \t87868.5589367\n",
        "==========================\n",
        "iteration  167, curve  91212"
       ]
      },
      {
       "output_type": "stream",
       "stream": "stdout",
       "text": [
        "\n",
        "Partitioning curve into peaks...\n",
        "attempt: "
       ]
      },
      {
       "output_type": "stream",
       "stream": "stdout",
       "text": [
        " 0 threshold: 0.4 peaks: 12\n",
        "Fitting individual peaks...\n",
        "=========================="
       ]
      },
      {
       "output_type": "stream",
       "stream": "stdout",
       "text": [
        "\n",
        "F moyenne\tF min\t\tF max\n",
        "75966.3095209 \t56540.4636634 \t81370.046424\n",
        "==========================\n",
        "iteration  168, curve  91214"
       ]
      },
      {
       "output_type": "stream",
       "stream": "stdout",
       "text": [
        "\n",
        "Partitioning curve into peaks...\n",
        "attempt: "
       ]
      },
      {
       "output_type": "stream",
       "stream": "stdout",
       "text": [
        " 0 threshold: 0.4 peaks: 12\n",
        "Fitting individual peaks...\n",
        "=========================="
       ]
      },
      {
       "output_type": "stream",
       "stream": "stdout",
       "text": [
        "\n",
        "F moyenne\tF min\t\tF max\n",
        "75223.8161072 \t66914.703949 \t82688.2647863\n",
        "==========================\n",
        "iteration  169, curve  91216"
       ]
      },
      {
       "output_type": "stream",
       "stream": "stdout",
       "text": [
        "\n",
        "Partitioning curve into peaks...\n",
        "attempt: "
       ]
      },
      {
       "output_type": "stream",
       "stream": "stdout",
       "text": [
        " 0 threshold: 0.4 peaks: 12\n",
        "Fitting individual peaks...\n",
        "=========================="
       ]
      },
      {
       "output_type": "stream",
       "stream": "stdout",
       "text": [
        "\n",
        "F moyenne\tF min\t\tF max\n",
        "74021.1781158 \t59550.5598008 \t79282.6224978\n",
        "==========================\n",
        "iteration  170, curve  91218"
       ]
      },
      {
       "output_type": "stream",
       "stream": "stdout",
       "text": [
        "\n",
        "Partitioning curve into peaks...\n",
        "attempt: "
       ]
      },
      {
       "output_type": "stream",
       "stream": "stdout",
       "text": [
        " 0 threshold: 0.4 peaks: 12\n",
        "Fitting individual peaks...\n",
        "=========================="
       ]
      },
      {
       "output_type": "stream",
       "stream": "stdout",
       "text": [
        "\n",
        "F moyenne\tF min\t\tF max\n",
        "72462.1568136 \t63364.4781512 \t77703.8994947\n",
        "==========================\n",
        "iteration  171, curve  91220"
       ]
      },
      {
       "output_type": "stream",
       "stream": "stdout",
       "text": [
        "\n",
        "Partitioning curve into peaks...\n",
        "attempt: "
       ]
      },
      {
       "output_type": "stream",
       "stream": "stdout",
       "text": [
        " 0 threshold: 0.4 peaks: 12\n",
        "Fitting individual peaks...\n",
        "=========================="
       ]
      },
      {
       "output_type": "stream",
       "stream": "stdout",
       "text": [
        "\n",
        "F moyenne\tF min\t\tF max\n",
        "68643.8164772 \t51373.2550688 \t78018.9448018\n",
        "==========================\n",
        "iteration  172, curve  91222"
       ]
      },
      {
       "output_type": "stream",
       "stream": "stdout",
       "text": [
        "\n",
        "Partitioning curve into peaks...\n",
        "attempt: "
       ]
      },
      {
       "output_type": "stream",
       "stream": "stdout",
       "text": [
        " 0 threshold: 0.4 peaks: 14\n",
        "Fitting individual peaks...\n",
        "=========================="
       ]
      },
      {
       "output_type": "stream",
       "stream": "stdout",
       "text": [
        "\n",
        "F moyenne\tF min\t\tF max\n",
        "58731.6647749 \t18204.7668595 \t77098.6200382"
       ]
      },
      {
       "output_type": "stream",
       "stream": "stdout",
       "text": [
        "\n",
        "==========================\n",
        "iteration  173, curve  91224"
       ]
      },
      {
       "output_type": "stream",
       "stream": "stdout",
       "text": [
        "\n",
        "Partitioning curve into peaks...\n",
        "attempt: "
       ]
      },
      {
       "output_type": "stream",
       "stream": "stdout",
       "text": [
        " 0 threshold: 0.4 peaks: 13\n",
        "Fitting individual peaks...\n",
        "=========================="
       ]
      },
      {
       "output_type": "stream",
       "stream": "stdout",
       "text": [
        "\n",
        "F moyenne\tF min\t\tF max\n",
        "45499.159217 \t2123.68951204 \t71608.3960897\n",
        "==========================\n",
        "iteration  174, curve  91226"
       ]
      },
      {
       "output_type": "stream",
       "stream": "stdout",
       "text": [
        "\n",
        "Partitioning curve into peaks...\n",
        "attempt: "
       ]
      },
      {
       "output_type": "stream",
       "stream": "stdout",
       "text": [
        " 0 threshold: 0.4 peaks: 12\n",
        "Fitting individual peaks...\n",
        "=========================="
       ]
      },
      {
       "output_type": "stream",
       "stream": "stdout",
       "text": [
        "\n",
        "F moyenne\tF min\t\tF max\n",
        "47571.8638908 \t24110.6937178 \t68068.1453241\n",
        "==========================\n",
        "iteration  175, curve  91228"
       ]
      },
      {
       "output_type": "stream",
       "stream": "stdout",
       "text": [
        "\n",
        "Partitioning curve into peaks...\n",
        "attempt: "
       ]
      },
      {
       "output_type": "stream",
       "stream": "stdout",
       "text": [
        " 0 threshold: 0.4 peaks: 12\n",
        "Fitting individual peaks...\n",
        "=========================="
       ]
      },
      {
       "output_type": "stream",
       "stream": "stdout",
       "text": [
        "\n",
        "F moyenne\tF min\t\tF max\n",
        "57242.3446659 \t37071.5218244 \t73952.3337635\n",
        "==========================\n",
        "iteration  176, curve  91230"
       ]
      },
      {
       "output_type": "stream",
       "stream": "stdout",
       "text": [
        "\n",
        "Partitioning curve into peaks...\n",
        "attempt: "
       ]
      },
      {
       "output_type": "stream",
       "stream": "stdout",
       "text": [
        " 0 threshold: 0.4 peaks: 12\n",
        "Fitting individual peaks...\n",
        "=========================="
       ]
      },
      {
       "output_type": "stream",
       "stream": "stdout",
       "text": [
        "\n",
        "F moyenne\tF min\t\tF max\n",
        "64562.2391875 \t53819.9161936 \t72836.2649638\n",
        "==========================\n",
        "iteration  177, curve  91232"
       ]
      },
      {
       "output_type": "stream",
       "stream": "stdout",
       "text": [
        "\n",
        "Partitioning curve into peaks...\n",
        "attempt: "
       ]
      },
      {
       "output_type": "stream",
       "stream": "stdout",
       "text": [
        " 0 threshold: 0.4 peaks: 12\n",
        "Fitting individual peaks...\n",
        "=========================="
       ]
      },
      {
       "output_type": "stream",
       "stream": "stdout",
       "text": [
        "\n",
        "F moyenne\tF min\t\tF max\n",
        "72504.3142259 \t65457.3010396 \t78789.7993404\n",
        "==========================\n",
        "iteration  178, curve  91234"
       ]
      },
      {
       "output_type": "stream",
       "stream": "stdout",
       "text": [
        "\n",
        "Partitioning curve into peaks...\n",
        "attempt: "
       ]
      },
      {
       "output_type": "stream",
       "stream": "stdout",
       "text": [
        " 0 threshold: 0.4 peaks: 13\n",
        "Fitting individual peaks...\n",
        "=========================="
       ]
      },
      {
       "output_type": "stream",
       "stream": "stdout",
       "text": [
        "\n",
        "F moyenne\tF min\t\tF max\n",
        "67935.1967862 \t56895.3974472 \t78960.4710211\n",
        "==========================\n",
        "iteration  179, curve  91236"
       ]
      },
      {
       "output_type": "stream",
       "stream": "stdout",
       "text": [
        "\n",
        "Partitioning curve into peaks...\n",
        "attempt: "
       ]
      },
      {
       "output_type": "stream",
       "stream": "stdout",
       "text": [
        " 0 threshold: 0.4 peaks: 12\n",
        "Fitting individual peaks...\n",
        "=========================="
       ]
      },
      {
       "output_type": "stream",
       "stream": "stdout",
       "text": [
        "\n",
        "F moyenne\tF min\t\tF max\n",
        "72957.3866986 \t67921.6970196 \t76091.2538936\n",
        "==========================\n",
        "iteration  180, curve  91238"
       ]
      },
      {
       "output_type": "stream",
       "stream": "stdout",
       "text": [
        "\n",
        "Partitioning curve into peaks...\n",
        "attempt: "
       ]
      },
      {
       "output_type": "stream",
       "stream": "stdout",
       "text": [
        " 0 threshold: 0.4 peaks: 12\n",
        "Fitting individual peaks...\n",
        "=========================="
       ]
      },
      {
       "output_type": "stream",
       "stream": "stdout",
       "text": [
        "\n",
        "F moyenne\tF min\t\tF max\n",
        "72678.7480803 \t62365.802724 \t78079.0617322\n",
        "==========================\n",
        "iteration  181, curve  91240"
       ]
      },
      {
       "output_type": "stream",
       "stream": "stdout",
       "text": [
        "\n",
        "Partitioning curve into peaks...\n",
        "attempt: "
       ]
      },
      {
       "output_type": "stream",
       "stream": "stdout",
       "text": [
        " 0 threshold: 0.4 peaks: 16\n",
        "Fitting individual peaks...\n",
        "=========================="
       ]
      },
      {
       "output_type": "stream",
       "stream": "stdout",
       "text": [
        "\n",
        "F moyenne\tF min\t\tF max\n",
        "70294.5290859 \t54153.9925086 \t79682.0566287"
       ]
      },
      {
       "output_type": "stream",
       "stream": "stdout",
       "text": [
        "\n",
        "==========================\n",
        "iteration  182, curve  91242"
       ]
      },
      {
       "output_type": "stream",
       "stream": "stdout",
       "text": [
        "\n",
        "Partitioning curve into peaks...\n",
        "attempt: "
       ]
      },
      {
       "output_type": "stream",
       "stream": "stdout",
       "text": [
        " 0 threshold: 0.4 peaks: 12\n",
        "Fitting individual peaks...\n",
        "=========================="
       ]
      },
      {
       "output_type": "stream",
       "stream": "stdout",
       "text": [
        "\n",
        "F moyenne\tF min\t\tF max\n",
        "72480.9570705 \t65279.1650619 \t78443.9143647\n",
        "==========================\n",
        "iteration  183, curve  91244"
       ]
      },
      {
       "output_type": "stream",
       "stream": "stdout",
       "text": [
        "\n",
        "Partitioning curve into peaks...\n",
        "attempt: "
       ]
      },
      {
       "output_type": "stream",
       "stream": "stdout",
       "text": [
        " 0 threshold: 0.4 peaks: 12\n",
        "Fitting individual peaks...\n",
        "=========================="
       ]
      },
      {
       "output_type": "stream",
       "stream": "stdout",
       "text": [
        "\n",
        "F moyenne\tF min\t\tF max\n",
        "73699.1639721 \t65988.3417669 \t77756.0167759\n",
        "==========================\n",
        "iteration  184, curve  91246"
       ]
      },
      {
       "output_type": "stream",
       "stream": "stdout",
       "text": [
        "\n",
        "Partitioning curve into peaks...\n",
        "attempt: "
       ]
      },
      {
       "output_type": "stream",
       "stream": "stdout",
       "text": [
        " 0 threshold: 0.4 peaks: 12\n",
        "Fitting individual peaks...\n",
        "=========================="
       ]
      },
      {
       "output_type": "stream",
       "stream": "stdout",
       "text": [
        "\n",
        "F moyenne\tF min\t\tF max\n",
        "72401.782657 \t64882.0069174 \t75622.9390141\n",
        "==========================\n",
        "iteration  185, curve  91248"
       ]
      },
      {
       "output_type": "stream",
       "stream": "stdout",
       "text": [
        "\n",
        "Partitioning curve into peaks...\n",
        "attempt: "
       ]
      },
      {
       "output_type": "stream",
       "stream": "stdout",
       "text": [
        " 0 threshold: 0.4 peaks: 12\n",
        "Fitting individual peaks...\n",
        "=========================="
       ]
      },
      {
       "output_type": "stream",
       "stream": "stdout",
       "text": [
        "\n",
        "F moyenne\tF min\t\tF max\n",
        "74056.6063168 \t70496.5989307 \t78459.9368734\n",
        "==========================\n",
        "iteration  186, curve  91250"
       ]
      },
      {
       "output_type": "stream",
       "stream": "stdout",
       "text": [
        "\n",
        "Partitioning curve into peaks...\n",
        "attempt: "
       ]
      },
      {
       "output_type": "stream",
       "stream": "stdout",
       "text": [
        " 0 threshold: 0.4 peaks: 16\n",
        "Fitting individual peaks...\n",
        "=========================="
       ]
      },
      {
       "output_type": "stream",
       "stream": "stdout",
       "text": [
        "\n",
        "F moyenne\tF min\t\tF max\n",
        "70281.0152137 \t10513.26699 \t95381.714244"
       ]
      },
      {
       "output_type": "stream",
       "stream": "stdout",
       "text": [
        "\n",
        "==========================\n",
        "iteration  187, curve  91252"
       ]
      },
      {
       "output_type": "stream",
       "stream": "stdout",
       "text": [
        "\n",
        "Partitioning curve into peaks...\n",
        "attempt: "
       ]
      },
      {
       "output_type": "stream",
       "stream": "stdout",
       "text": [
        " 0 threshold: 0.4 peaks: 13\n",
        "Fitting individual peaks...\n",
        "=========================="
       ]
      },
      {
       "output_type": "stream",
       "stream": "stdout",
       "text": [
        "\n",
        "F moyenne\tF min\t\tF max\n",
        "68646.4817518 \t58716.4346815 \t76437.6852519\n",
        "==========================\n",
        "iteration  188, curve  91254"
       ]
      },
      {
       "output_type": "stream",
       "stream": "stdout",
       "text": [
        "\n",
        "Partitioning curve into peaks...\n",
        "attempt: "
       ]
      },
      {
       "output_type": "stream",
       "stream": "stdout",
       "text": [
        " 0 threshold: 0.4 peaks: 12\n",
        "Fitting individual peaks...\n",
        "=========================="
       ]
      },
      {
       "output_type": "stream",
       "stream": "stdout",
       "text": [
        "\n",
        "F moyenne\tF min\t\tF max\n",
        "70952.5912189 \t54389.1272908 \t76675.3160758\n",
        "==========================\n",
        "iteration  189, curve  91256"
       ]
      },
      {
       "output_type": "stream",
       "stream": "stdout",
       "text": [
        "\n",
        "Partitioning curve into peaks...\n",
        "attempt: "
       ]
      },
      {
       "output_type": "stream",
       "stream": "stdout",
       "text": [
        " 0 threshold: 0.4 peaks: 12\n",
        "Fitting individual peaks...\n",
        "=========================="
       ]
      },
      {
       "output_type": "stream",
       "stream": "stdout",
       "text": [
        "\n",
        "F moyenne\tF min\t\tF max\n",
        "72417.3825094 \t66553.6125419 \t76649.7654391\n",
        "==========================\n",
        "iteration  190, curve  91258"
       ]
      },
      {
       "output_type": "stream",
       "stream": "stdout",
       "text": [
        "\n",
        "Partitioning curve into peaks...\n",
        "attempt: "
       ]
      },
      {
       "output_type": "stream",
       "stream": "stdout",
       "text": [
        " 0 threshold: 0.4 peaks: 12\n",
        "Fitting individual peaks...\n",
        "=========================="
       ]
      },
      {
       "output_type": "stream",
       "stream": "stdout",
       "text": [
        "\n",
        "F moyenne\tF min\t\tF max\n",
        "73878.3890249 \t69377.1841674 \t77740.4885366\n",
        "==========================\n",
        "iteration  191, curve  91260"
       ]
      },
      {
       "output_type": "stream",
       "stream": "stdout",
       "text": [
        "\n",
        "Partitioning curve into peaks...\n",
        "attempt: "
       ]
      },
      {
       "output_type": "stream",
       "stream": "stdout",
       "text": [
        " 0 threshold: 0.4 peaks: 12\n",
        "Fitting individual peaks...\n",
        "=========================="
       ]
      },
      {
       "output_type": "stream",
       "stream": "stdout",
       "text": [
        "\n",
        "F moyenne\tF min\t\tF max\n",
        "73925.48902 \t66081.8072282 \t76713.9824217\n",
        "==========================\n",
        "iteration  192, curve  91262"
       ]
      },
      {
       "output_type": "stream",
       "stream": "stdout",
       "text": [
        "\n",
        "Partitioning curve into peaks...\n",
        "attempt: "
       ]
      },
      {
       "output_type": "stream",
       "stream": "stdout",
       "text": [
        " 0 threshold: 0.4 peaks: 13\n",
        "Fitting individual peaks...\n",
        "=========================="
       ]
      },
      {
       "output_type": "stream",
       "stream": "stdout",
       "text": [
        "\n",
        "F moyenne\tF min\t\tF max\n",
        "73226.9574 \t64557.4254219 \t78440.0017088\n",
        "==========================\n",
        "iteration  193, curve  91264"
       ]
      },
      {
       "output_type": "stream",
       "stream": "stdout",
       "text": [
        "\n",
        "Partitioning curve into peaks...\n",
        "attempt: "
       ]
      },
      {
       "output_type": "stream",
       "stream": "stdout",
       "text": [
        " 0 threshold: 0.4 peaks: 12\n",
        "Fitting individual peaks...\n",
        "=========================="
       ]
      },
      {
       "output_type": "stream",
       "stream": "stdout",
       "text": [
        "\n",
        "F moyenne\tF min\t\tF max\n",
        "72370.3171782 \t67016.1278916 \t75981.7879988\n",
        "==========================\n",
        "iteration  194, curve  91266"
       ]
      },
      {
       "output_type": "stream",
       "stream": "stdout",
       "text": [
        "\n",
        "Partitioning curve into peaks...\n",
        "attempt: "
       ]
      },
      {
       "output_type": "stream",
       "stream": "stdout",
       "text": [
        " 0 threshold: 0.4 peaks: 12\n",
        "Fitting individual peaks...\n",
        "=========================="
       ]
      },
      {
       "output_type": "stream",
       "stream": "stdout",
       "text": [
        "\n",
        "F moyenne\tF min\t\tF max\n",
        "76545.4215087 \t68429.9732677 \t80300.4506859\n",
        "==========================\n",
        "iteration  195, curve  91268"
       ]
      },
      {
       "output_type": "stream",
       "stream": "stdout",
       "text": [
        "\n",
        "Partitioning curve into peaks...\n",
        "attempt: "
       ]
      },
      {
       "output_type": "stream",
       "stream": "stdout",
       "text": [
        " 0 threshold: 0.4 peaks: 16\n",
        "Fitting individual peaks...\n",
        "=========================="
       ]
      },
      {
       "output_type": "stream",
       "stream": "stdout",
       "text": [
        "\n",
        "F moyenne\tF min\t\tF max\n",
        "72687.5970171 \t57697.6365988 \t80575.4522995"
       ]
      },
      {
       "output_type": "stream",
       "stream": "stdout",
       "text": [
        "\n",
        "==========================\n",
        "iteration  196, curve  91270"
       ]
      },
      {
       "output_type": "stream",
       "stream": "stdout",
       "text": [
        "\n",
        "Partitioning curve into peaks...\n",
        "attempt: "
       ]
      },
      {
       "output_type": "stream",
       "stream": "stdout",
       "text": [
        " 0 threshold: 0.4 peaks: 12\n",
        "Fitting individual peaks...\n",
        "=========================="
       ]
      },
      {
       "output_type": "stream",
       "stream": "stdout",
       "text": [
        "\n",
        "F moyenne\tF min\t\tF max\n",
        "72392.1640871 \t68608.8556588 \t78705.5458824\n",
        "==========================\n",
        "iteration  197, curve  91272"
       ]
      },
      {
       "output_type": "stream",
       "stream": "stdout",
       "text": [
        "\n",
        "Partitioning curve into peaks...\n",
        "attempt: "
       ]
      },
      {
       "output_type": "stream",
       "stream": "stdout",
       "text": [
        " 0 threshold: 0.4 peaks: 12\n",
        "Fitting individual peaks...\n",
        "=========================="
       ]
      },
      {
       "output_type": "stream",
       "stream": "stdout",
       "text": [
        "\n",
        "F moyenne\tF min\t\tF max\n",
        "75540.5442085 \t62459.8840933 \t82458.7112742\n",
        "==========================\n",
        "iteration  198, curve  91274"
       ]
      },
      {
       "output_type": "stream",
       "stream": "stdout",
       "text": [
        "\n",
        "Partitioning curve into peaks...\n",
        "attempt: "
       ]
      },
      {
       "output_type": "stream",
       "stream": "stdout",
       "text": [
        " 0 threshold: 0.4 peaks: 12\n",
        "Fitting individual peaks...\n",
        "=========================="
       ]
      },
      {
       "output_type": "stream",
       "stream": "stdout",
       "text": [
        "\n",
        "F moyenne\tF min\t\tF max\n",
        "72964.1788379 \t65772.9059819 \t76651.9401353\n",
        "==========================\n",
        "iteration  199, curve  91276"
       ]
      },
      {
       "output_type": "stream",
       "stream": "stdout",
       "text": [
        "\n",
        "Partitioning curve into peaks...\n",
        "attempt: "
       ]
      },
      {
       "output_type": "stream",
       "stream": "stdout",
       "text": [
        " 0 threshold: 0.4 peaks: 12\n",
        "Fitting individual peaks...\n",
        "=========================="
       ]
      },
      {
       "output_type": "stream",
       "stream": "stdout",
       "text": [
        "\n",
        "F moyenne\tF min\t\tF max\n",
        "73524.6330303 \t70778.8839593 \t75648.2130064\n",
        "==========================\n",
        "iteration  200, curve  91278"
       ]
      },
      {
       "output_type": "stream",
       "stream": "stdout",
       "text": [
        "\n",
        "Partitioning curve into peaks...\n",
        "attempt: "
       ]
      },
      {
       "output_type": "stream",
       "stream": "stdout",
       "text": [
        " 0 threshold: 0.4 peaks: 13\n",
        "Fitting individual peaks...\n",
        "=========================="
       ]
      },
      {
       "output_type": "stream",
       "stream": "stdout",
       "text": [
        "\n",
        "F moyenne\tF min\t\tF max\n",
        "73371.621195 \t65638.9730866 \t78759.5590479\n",
        "==========================\n",
        "iteration  201, curve  91280"
       ]
      },
      {
       "output_type": "stream",
       "stream": "stdout",
       "text": [
        "\n",
        "Partitioning curve into peaks...\n",
        "attempt: "
       ]
      },
      {
       "output_type": "stream",
       "stream": "stdout",
       "text": [
        " 0 threshold: 0.4 peaks: 13\n",
        "Fitting individual peaks...\n",
        "=========================="
       ]
      },
      {
       "output_type": "stream",
       "stream": "stdout",
       "text": [
        "\n",
        "F moyenne\tF min\t\tF max\n",
        "76436.123869 \t70628.8936284 \t80283.9883081\n",
        "==========================\n",
        "iteration  202, curve  91282"
       ]
      },
      {
       "output_type": "stream",
       "stream": "stdout",
       "text": [
        "\n",
        "Partitioning curve into peaks...\n",
        "attempt: "
       ]
      },
      {
       "output_type": "stream",
       "stream": "stdout",
       "text": [
        " 0 threshold: 0.4 peaks: 12\n",
        "Fitting individual peaks...\n",
        "=========================="
       ]
      },
      {
       "output_type": "stream",
       "stream": "stdout",
       "text": [
        "\n",
        "F moyenne\tF min\t\tF max\n",
        "1559242.03944 \t26135.5365003 \t1911421.10491\n",
        "==========================\n",
        "iteration  203, curve  91284"
       ]
      },
      {
       "output_type": "stream",
       "stream": "stdout",
       "text": [
        "\n",
        "Partitioning curve into peaks...\n",
        "attempt: "
       ]
      },
      {
       "output_type": "stream",
       "stream": "stdout",
       "text": [
        " 0 threshold: 0.4 peaks: 12\n",
        "Fitting individual peaks...\n",
        "=========================="
       ]
      },
      {
       "output_type": "stream",
       "stream": "stdout",
       "text": [
        "\n",
        "F moyenne\tF min\t\tF max\n",
        "73476.3022743 \t66668.6130668 \t76707.4542536\n",
        "==========================\n",
        "iteration  204, curve  91286"
       ]
      },
      {
       "output_type": "stream",
       "stream": "stdout",
       "text": [
        "\n",
        "Partitioning curve into peaks...\n",
        "attempt: "
       ]
      },
      {
       "output_type": "stream",
       "stream": "stdout",
       "text": [
        " 0 threshold: 0.4 peaks: 12\n",
        "Fitting individual peaks...\n",
        "=========================="
       ]
      },
      {
       "output_type": "stream",
       "stream": "stdout",
       "text": [
        "\n",
        "F moyenne\tF min\t\tF max\n",
        "73073.0537753 \t65284.9636188 \t80760.5023423\n",
        "==========================\n",
        "iteration  205, curve  91288"
       ]
      },
      {
       "output_type": "stream",
       "stream": "stdout",
       "text": [
        "\n",
        "Partitioning curve into peaks...\n",
        "attempt: "
       ]
      },
      {
       "output_type": "stream",
       "stream": "stdout",
       "text": [
        " 0 threshold: 0.4 peaks: 12\n",
        "Fitting individual peaks...\n",
        "=========================="
       ]
      },
      {
       "output_type": "stream",
       "stream": "stdout",
       "text": [
        "\n",
        "F moyenne\tF min\t\tF max\n",
        "72770.7177931 \t65920.157685 \t76237.1638318\n",
        "==========================\n",
        "iteration  206, curve  91290"
       ]
      },
      {
       "output_type": "stream",
       "stream": "stdout",
       "text": [
        "\n",
        "Partitioning curve into peaks...\n",
        "attempt: "
       ]
      },
      {
       "output_type": "stream",
       "stream": "stdout",
       "text": [
        " 0 threshold: 0.4 peaks: 12\n",
        "Fitting individual peaks...\n",
        "=========================="
       ]
      },
      {
       "output_type": "stream",
       "stream": "stdout",
       "text": [
        "\n",
        "F moyenne\tF min\t\tF max\n",
        "71336.9859796 \t63608.2047114 \t77179.6445434\n",
        "==========================\n",
        "iteration  207, curve  91292"
       ]
      },
      {
       "output_type": "stream",
       "stream": "stdout",
       "text": [
        "\n",
        "Partitioning curve into peaks...\n",
        "attempt: "
       ]
      },
      {
       "output_type": "stream",
       "stream": "stdout",
       "text": [
        " 0 threshold: 0.4 peaks: 12\n",
        "Fitting individual peaks...\n",
        "=========================="
       ]
      },
      {
       "output_type": "stream",
       "stream": "stdout",
       "text": [
        "\n",
        "F moyenne\tF min\t\tF max\n",
        "75851.6295917 \t73272.4972209 \t79945.5978496\n",
        "==========================\n",
        "iteration  208, curve  91294"
       ]
      },
      {
       "output_type": "stream",
       "stream": "stdout",
       "text": [
        "\n",
        "Partitioning curve into peaks...\n",
        "attempt: "
       ]
      },
      {
       "output_type": "stream",
       "stream": "stdout",
       "text": [
        " 0 threshold: 0.4 peaks: 16\n",
        "Fitting individual peaks...\n",
        "=========================="
       ]
      },
      {
       "output_type": "stream",
       "stream": "stdout",
       "text": [
        "\n",
        "F moyenne\tF min\t\tF max\n",
        "73876.8643653 \t55650.0711531 \t84420.9791264"
       ]
      },
      {
       "output_type": "stream",
       "stream": "stdout",
       "text": [
        "\n",
        "==========================\n",
        "iteration  209, curve  91296"
       ]
      },
      {
       "output_type": "stream",
       "stream": "stdout",
       "text": [
        "\n",
        "Partitioning curve into peaks...\n",
        "attempt: "
       ]
      },
      {
       "output_type": "stream",
       "stream": "stdout",
       "text": [
        " 0 threshold: 0.4 peaks: 16\n",
        "Fitting individual peaks...\n",
        "=========================="
       ]
      },
      {
       "output_type": "stream",
       "stream": "stdout",
       "text": [
        "\n",
        "F moyenne\tF min\t\tF max\n",
        "70733.6804074 \t54262.7232628 \t98990.8585469"
       ]
      },
      {
       "output_type": "stream",
       "stream": "stdout",
       "text": [
        "\n",
        "==========================\n",
        "iteration  210, curve  91298"
       ]
      },
      {
       "output_type": "stream",
       "stream": "stdout",
       "text": [
        "\n",
        "Partitioning curve into peaks...\n",
        "attempt: "
       ]
      },
      {
       "output_type": "stream",
       "stream": "stdout",
       "text": [
        " 0 threshold: 0.4 peaks: 12\n",
        "Fitting individual peaks...\n",
        "=========================="
       ]
      },
      {
       "output_type": "stream",
       "stream": "stdout",
       "text": [
        "\n",
        "F moyenne\tF min\t\tF max\n",
        "74548.6897424 \t68690.4233229 \t78063.4608701\n",
        "==========================\n",
        "iteration  211, curve  91300"
       ]
      },
      {
       "output_type": "stream",
       "stream": "stdout",
       "text": [
        "\n",
        "Partitioning curve into peaks...\n",
        "attempt: "
       ]
      },
      {
       "output_type": "stream",
       "stream": "stdout",
       "text": [
        " 0 threshold: 0.4 peaks: 12\n",
        "Fitting individual peaks...\n",
        "=========================="
       ]
      },
      {
       "output_type": "stream",
       "stream": "stdout",
       "text": [
        "\n",
        "F moyenne\tF min\t\tF max\n",
        "72216.92257 \t62620.688992 \t78562.9159722\n",
        "==========================\n",
        "iteration  212, curve  91302"
       ]
      },
      {
       "output_type": "stream",
       "stream": "stdout",
       "text": [
        "\n",
        "Partitioning curve into peaks...\n",
        "attempt: "
       ]
      },
      {
       "output_type": "stream",
       "stream": "stdout",
       "text": [
        " 0 threshold: 0.4 peaks: 12\n",
        "Fitting individual peaks...\n",
        "=========================="
       ]
      },
      {
       "output_type": "stream",
       "stream": "stdout",
       "text": [
        "\n",
        "F moyenne\tF min\t\tF max\n",
        "73088.4702379 \t66961.6561412 \t77220.1024341\n",
        "==========================\n",
        "iteration  213, curve  91304"
       ]
      },
      {
       "output_type": "stream",
       "stream": "stdout",
       "text": [
        "\n",
        "Partitioning curve into peaks...\n",
        "attempt: "
       ]
      },
      {
       "output_type": "stream",
       "stream": "stdout",
       "text": [
        " 0 threshold: 0.4 peaks: 12\n",
        "Fitting individual peaks...\n",
        "=========================="
       ]
      },
      {
       "output_type": "stream",
       "stream": "stdout",
       "text": [
        "\n",
        "F moyenne\tF min\t\tF max\n",
        "72671.1090338 \t67303.1899375 \t78748.6750525\n",
        "==========================\n",
        "iteration  214, curve  91306"
       ]
      },
      {
       "output_type": "stream",
       "stream": "stdout",
       "text": [
        "\n",
        "Partitioning curve into peaks...\n",
        "attempt: "
       ]
      },
      {
       "output_type": "stream",
       "stream": "stdout",
       "text": [
        " 0 threshold: 0.4 peaks: 13\n",
        "Fitting individual peaks...\n",
        "=========================="
       ]
      },
      {
       "output_type": "stream",
       "stream": "stdout",
       "text": [
        "\n",
        "F moyenne\tF min\t\tF max\n",
        "70459.6656191 \t60713.4732965 \t79375.820503"
       ]
      },
      {
       "output_type": "stream",
       "stream": "stdout",
       "text": [
        "\n",
        "==========================\n",
        "iteration  215, curve  91308"
       ]
      },
      {
       "output_type": "stream",
       "stream": "stdout",
       "text": [
        "\n",
        "Partitioning curve into peaks...\n",
        "attempt: "
       ]
      },
      {
       "output_type": "stream",
       "stream": "stdout",
       "text": [
        " 0 threshold: 0.4 peaks: 13\n",
        "Fitting individual peaks...\n",
        "=========================="
       ]
      },
      {
       "output_type": "stream",
       "stream": "stdout",
       "text": [
        "\n",
        "F moyenne\tF min\t\tF max\n",
        "74791.0145249 \t64655.2789955 \t80546.6643454\n",
        "==========================\n",
        "iteration  216, curve  91310"
       ]
      },
      {
       "output_type": "stream",
       "stream": "stdout",
       "text": [
        "\n",
        "Partitioning curve into peaks...\n",
        "attempt: "
       ]
      },
      {
       "output_type": "stream",
       "stream": "stdout",
       "text": [
        " 0 threshold: 0.4 peaks: 12\n",
        "Fitting individual peaks...\n",
        "=========================="
       ]
      },
      {
       "output_type": "stream",
       "stream": "stdout",
       "text": [
        "\n",
        "F moyenne\tF min\t\tF max\n",
        "75659.9911467 \t73658.752307 \t78946.5166141\n",
        "==========================\n",
        "iteration  217, curve  91312"
       ]
      },
      {
       "output_type": "stream",
       "stream": "stdout",
       "text": [
        "\n",
        "Partitioning curve into peaks...\n",
        "attempt: "
       ]
      },
      {
       "output_type": "stream",
       "stream": "stdout",
       "text": [
        " 0 threshold: 0.4 peaks: 12\n",
        "Fitting individual peaks...\n",
        "=========================="
       ]
      },
      {
       "output_type": "stream",
       "stream": "stdout",
       "text": [
        "\n",
        "F moyenne\tF min\t\tF max\n",
        "77325.4978604 \t72690.1498533 \t87027.4658807\n",
        "==========================\n",
        "iteration  218, curve  91314"
       ]
      },
      {
       "output_type": "stream",
       "stream": "stdout",
       "text": [
        "\n",
        "Partitioning curve into peaks...\n",
        "attempt: "
       ]
      },
      {
       "output_type": "stream",
       "stream": "stdout",
       "text": [
        " 0 threshold: 0.4 peaks: 12\n",
        "Fitting individual peaks...\n",
        "=========================="
       ]
      },
      {
       "output_type": "stream",
       "stream": "stdout",
       "text": [
        "\n",
        "F moyenne\tF min\t\tF max\n",
        "71852.9894709 \t68012.0432225 \t75963.2840057\n",
        "==========================\n",
        "iteration  219, curve  91316"
       ]
      },
      {
       "output_type": "stream",
       "stream": "stdout",
       "text": [
        "\n",
        "Partitioning curve into peaks...\n",
        "attempt: "
       ]
      },
      {
       "output_type": "stream",
       "stream": "stdout",
       "text": [
        " 0 threshold: 0.4 peaks: 12\n",
        "Fitting individual peaks...\n",
        "=========================="
       ]
      },
      {
       "output_type": "stream",
       "stream": "stdout",
       "text": [
        "\n",
        "F moyenne\tF min\t\tF max\n",
        "72421.4922296 \t68055.2204145 \t77630.0685341\n",
        "==========================\n",
        "iteration  220, curve  91318"
       ]
      },
      {
       "output_type": "stream",
       "stream": "stdout",
       "text": [
        "\n",
        "Partitioning curve into peaks...\n",
        "attempt: "
       ]
      },
      {
       "output_type": "stream",
       "stream": "stdout",
       "text": [
        " 0 threshold: 0.4 peaks: 12\n",
        "Fitting individual peaks...\n",
        "=========================="
       ]
      },
      {
       "output_type": "stream",
       "stream": "stdout",
       "text": [
        "\n",
        "F moyenne\tF min\t\tF max\n",
        "73352.4690828 \t65915.3110903 \t78103.8017535\n",
        "==========================\n",
        "iteration  221, curve  91320"
       ]
      },
      {
       "output_type": "stream",
       "stream": "stdout",
       "text": [
        "\n",
        "Partitioning curve into peaks...\n",
        "attempt: "
       ]
      },
      {
       "output_type": "stream",
       "stream": "stdout",
       "text": [
        " 0 threshold: 0.4 peaks: 12\n",
        "Fitting individual peaks...\n",
        "=========================="
       ]
      },
      {
       "output_type": "stream",
       "stream": "stdout",
       "text": [
        "\n",
        "F moyenne\tF min\t\tF max\n",
        "76143.9691939 \t68718.9338876 \t81198.44271\n",
        "==========================\n",
        "iteration  222, curve  91322"
       ]
      },
      {
       "output_type": "stream",
       "stream": "stdout",
       "text": [
        "\n",
        "Partitioning curve into peaks...\n",
        "attempt: "
       ]
      },
      {
       "output_type": "stream",
       "stream": "stdout",
       "text": [
        " 0 threshold: 0.4 peaks: 13\n",
        "Fitting individual peaks...\n",
        "=========================="
       ]
      },
      {
       "output_type": "stream",
       "stream": "stdout",
       "text": [
        "\n",
        "F moyenne\tF min\t\tF max\n",
        "74356.404218 \t62071.1829808 \t80311.5079797\n",
        "==========================\n",
        "iteration  223, curve  91324"
       ]
      },
      {
       "output_type": "stream",
       "stream": "stdout",
       "text": [
        "\n",
        "Partitioning curve into peaks...\n",
        "attempt: "
       ]
      },
      {
       "output_type": "stream",
       "stream": "stdout",
       "text": [
        " 0 threshold: 0.4 peaks: 17\n",
        "Fitting individual peaks...\n",
        "=========================="
       ]
      },
      {
       "output_type": "stream",
       "stream": "stdout",
       "text": [
        "\n",
        "F moyenne\tF min\t\tF max\n",
        "74529.1539167 \t61597.8155487 \t80024.0893385"
       ]
      },
      {
       "output_type": "stream",
       "stream": "stdout",
       "text": [
        "\n",
        "==========================\n",
        "iteration  224, curve  91326"
       ]
      },
      {
       "output_type": "stream",
       "stream": "stdout",
       "text": [
        "\n",
        "Partitioning curve into peaks...\n",
        "attempt: "
       ]
      },
      {
       "output_type": "stream",
       "stream": "stdout",
       "text": [
        " 0 threshold: 0.4 peaks: 12\n",
        "Fitting individual peaks...\n",
        "=========================="
       ]
      },
      {
       "output_type": "stream",
       "stream": "stdout",
       "text": [
        "\n",
        "F moyenne\tF min\t\tF max\n",
        "74146.4322543 \t71207.126637 \t77430.8304141\n",
        "==========================\n",
        "iteration  225, curve  91328"
       ]
      },
      {
       "output_type": "stream",
       "stream": "stdout",
       "text": [
        "\n",
        "Partitioning curve into peaks...\n",
        "attempt: "
       ]
      },
      {
       "output_type": "stream",
       "stream": "stdout",
       "text": [
        " 0 threshold: 0.4 peaks: 12\n",
        "Fitting individual peaks...\n",
        "=========================="
       ]
      },
      {
       "output_type": "stream",
       "stream": "stdout",
       "text": [
        "\n",
        "F moyenne\tF min\t\tF max\n",
        "72089.3247469 \t57721.1825686 \t76595.5231517\n",
        "==========================\n",
        "iteration  226, curve  91330"
       ]
      },
      {
       "output_type": "stream",
       "stream": "stdout",
       "text": [
        "\n",
        "Partitioning curve into peaks...\n",
        "attempt: "
       ]
      },
      {
       "output_type": "stream",
       "stream": "stdout",
       "text": [
        " 0 threshold: 0.4 peaks: 12\n",
        "Fitting individual peaks...\n",
        "=========================="
       ]
      },
      {
       "output_type": "stream",
       "stream": "stdout",
       "text": [
        "\n",
        "F moyenne\tF min\t\tF max\n",
        "74957.3751405 \t71759.1369464 \t79821.8589946\n",
        "==========================\n",
        "iteration  227, curve  91332"
       ]
      },
      {
       "output_type": "stream",
       "stream": "stdout",
       "text": [
        "\n",
        "Partitioning curve into peaks...\n",
        "attempt: "
       ]
      },
      {
       "output_type": "stream",
       "stream": "stdout",
       "text": [
        " 0 threshold: 0.4 peaks: 12\n",
        "Fitting individual peaks...\n",
        "=========================="
       ]
      },
      {
       "output_type": "stream",
       "stream": "stdout",
       "text": [
        "\n",
        "F moyenne\tF min\t\tF max\n",
        "70521.4863262 \t63427.3022813 \t77023.1152386\n",
        "==========================\n",
        "iteration  228, curve  91334"
       ]
      },
      {
       "output_type": "stream",
       "stream": "stdout",
       "text": [
        "\n",
        "Partitioning curve into peaks...\n",
        "attempt: "
       ]
      },
      {
       "output_type": "stream",
       "stream": "stdout",
       "text": [
        " 0 threshold: 0.4 peaks: 12\n",
        "Fitting individual peaks...\n",
        "=========================="
       ]
      },
      {
       "output_type": "stream",
       "stream": "stdout",
       "text": [
        "\n",
        "F moyenne\tF min\t\tF max\n",
        "67085.7943168 \t59176.4438277 \t71828.9367781\n",
        "==========================\n",
        "iteration  229, curve  91336"
       ]
      },
      {
       "output_type": "stream",
       "stream": "stdout",
       "text": [
        "\n",
        "Partitioning curve into peaks...\n",
        "attempt: "
       ]
      },
      {
       "output_type": "stream",
       "stream": "stdout",
       "text": [
        " 0 threshold: 0.4 peaks: 12\n",
        "Fitting individual peaks...\n",
        "=========================="
       ]
      },
      {
       "output_type": "stream",
       "stream": "stdout",
       "text": [
        "\n",
        "F moyenne\tF min\t\tF max\n",
        "65550.9346353 \t47474.7752121 \t75600.6727201\n",
        "==========================\n",
        "iteration  230, curve  91338"
       ]
      },
      {
       "output_type": "stream",
       "stream": "stdout",
       "text": [
        "\n",
        "Partitioning curve into peaks...\n",
        "attempt: "
       ]
      },
      {
       "output_type": "stream",
       "stream": "stdout",
       "text": [
        " 0 threshold: 0.4 peaks: 15\n",
        "Fitting individual peaks...\n",
        "=========================="
       ]
      },
      {
       "output_type": "stream",
       "stream": "stdout",
       "text": [
        "\n",
        "F moyenne\tF min\t\tF max\n",
        "58817.932807 \t12457.0610667 \t83660.8058331"
       ]
      },
      {
       "output_type": "stream",
       "stream": "stdout",
       "text": [
        "\n",
        "==========================\n",
        "iteration  231, curve  91340"
       ]
      },
      {
       "output_type": "stream",
       "stream": "stdout",
       "text": [
        "\n",
        "Partitioning curve into peaks...\n",
        "attempt: "
       ]
      },
      {
       "output_type": "stream",
       "stream": "stdout",
       "text": [
        " 0 threshold: 0.4 peaks: 13\n",
        "Fitting individual peaks...\n",
        "=========================="
       ]
      },
      {
       "output_type": "stream",
       "stream": "stdout",
       "text": [
        "\n",
        "F moyenne\tF min\t\tF max\n",
        "81949.7915205 \t69593.7796359 \t104606.646939\n",
        "==========================\n",
        "iteration  232, curve  91342"
       ]
      },
      {
       "output_type": "stream",
       "stream": "stdout",
       "text": [
        "\n",
        "Partitioning curve into peaks...\n",
        "attempt: "
       ]
      },
      {
       "output_type": "stream",
       "stream": "stdout",
       "text": [
        " 0 threshold: 0.4 peaks: 9\n",
        "attempt: "
       ]
      },
      {
       "output_type": "stream",
       "stream": "stdout",
       "text": [
        " 1 threshold: 0.35 peaks: 10\n",
        "attempt: "
       ]
      },
      {
       "output_type": "stream",
       "stream": "stdout",
       "text": [
        " 2 threshold: 0.3 peaks: 12\n",
        "Fitting individual peaks...\n",
        "=========================="
       ]
      },
      {
       "output_type": "stream",
       "stream": "stdout",
       "text": [
        "\n",
        "F moyenne\tF min\t\tF max\n",
        "48534.0737707 \t3673.56816242 \t79332.6493389\n",
        "==========================\n",
        "iteration  233, curve  91344"
       ]
      },
      {
       "output_type": "stream",
       "stream": "stdout",
       "text": [
        "\n",
        "Partitioning curve into peaks...\n",
        "attempt: "
       ]
      },
      {
       "output_type": "stream",
       "stream": "stdout",
       "text": [
        " 0 threshold: 0.4 peaks: 12\n",
        "Fitting individual peaks...\n",
        "=========================="
       ]
      },
      {
       "output_type": "stream",
       "stream": "stdout",
       "text": [
        "\n",
        "F moyenne\tF min\t\tF max\n",
        "62528.8927457 \t47755.2892316 \t71075.7230372\n",
        "==========================\n",
        "iteration  234, curve  91346"
       ]
      },
      {
       "output_type": "stream",
       "stream": "stdout",
       "text": [
        "\n",
        "Partitioning curve into peaks...\n",
        "attempt: "
       ]
      },
      {
       "output_type": "stream",
       "stream": "stdout",
       "text": [
        " 0 threshold: 0.4 peaks: 12\n",
        "Fitting individual peaks...\n",
        "=========================="
       ]
      },
      {
       "output_type": "stream",
       "stream": "stdout",
       "text": [
        "\n",
        "F moyenne\tF min\t\tF max\n",
        "68523.2435444 \t58582.3368358 \t74945.7960598\n",
        "==========================\n",
        "iteration  235, curve  91348"
       ]
      },
      {
       "output_type": "stream",
       "stream": "stdout",
       "text": [
        "\n",
        "Partitioning curve into peaks...\n",
        "attempt: "
       ]
      },
      {
       "output_type": "stream",
       "stream": "stdout",
       "text": [
        " 0 threshold: 0.4 peaks: 12\n",
        "Fitting individual peaks...\n",
        "=========================="
       ]
      },
      {
       "output_type": "stream",
       "stream": "stdout",
       "text": [
        "\n",
        "F moyenne\tF min\t\tF max\n",
        "69042.7151027 \t62052.0915891 \t76553.9185831\n",
        "==========================\n",
        "iteration  236, curve  91350"
       ]
      },
      {
       "output_type": "stream",
       "stream": "stdout",
       "text": [
        "\n",
        "Partitioning curve into peaks...\n",
        "attempt: "
       ]
      },
      {
       "output_type": "stream",
       "stream": "stdout",
       "text": [
        " 0 threshold: 0.4 peaks: 12\n",
        "Fitting individual peaks...\n",
        "=========================="
       ]
      },
      {
       "output_type": "stream",
       "stream": "stdout",
       "text": [
        "\n",
        "F moyenne\tF min\t\tF max\n",
        "68595.4208156 \t59709.6980648 \t72752.0642385\n",
        "==========================\n",
        "iteration  237, curve  91352"
       ]
      },
      {
       "output_type": "stream",
       "stream": "stdout",
       "text": [
        "\n",
        "Partitioning curve into peaks...\n",
        "attempt: "
       ]
      },
      {
       "output_type": "stream",
       "stream": "stdout",
       "text": [
        " 0 threshold: 0.4 peaks: 13\n",
        "Fitting individual peaks...\n",
        "=========================="
       ]
      },
      {
       "output_type": "stream",
       "stream": "stdout",
       "text": [
        "\n",
        "F moyenne\tF min\t\tF max\n",
        "70866.9889174 \t59197.7589101 \t75913.8886684"
       ]
      },
      {
       "output_type": "stream",
       "stream": "stdout",
       "text": [
        "\n",
        "==========================\n",
        "iteration  238, curve  91354"
       ]
      },
      {
       "output_type": "stream",
       "stream": "stdout",
       "text": [
        "\n",
        "Partitioning curve into peaks...\n",
        "attempt: "
       ]
      },
      {
       "output_type": "stream",
       "stream": "stdout",
       "text": [
        " 0 threshold: 0.4 peaks: 12\n",
        "Fitting individual peaks...\n",
        "=========================="
       ]
      },
      {
       "output_type": "stream",
       "stream": "stdout",
       "text": [
        "\n",
        "F moyenne\tF min\t\tF max\n",
        "74336.2772029 \t70380.1384427 \t84286.4289223\n",
        "==========================\n",
        "iteration  239, curve  91356"
       ]
      },
      {
       "output_type": "stream",
       "stream": "stdout",
       "text": [
        "\n",
        "Partitioning curve into peaks...\n",
        "attempt: "
       ]
      },
      {
       "output_type": "stream",
       "stream": "stdout",
       "text": [
        " 0 threshold: 0.4 peaks: 12\n",
        "Fitting individual peaks...\n",
        "=========================="
       ]
      },
      {
       "output_type": "stream",
       "stream": "stdout",
       "text": [
        "\n",
        "F moyenne\tF min\t\tF max\n",
        "69577.0537999 \t55870.5113522 \t74691.5924063\n",
        "==========================\n",
        "iteration  240, curve  91358"
       ]
      },
      {
       "output_type": "stream",
       "stream": "stdout",
       "text": [
        "\n",
        "Partitioning curve into peaks...\n",
        "attempt: "
       ]
      },
      {
       "output_type": "stream",
       "stream": "stdout",
       "text": [
        " 0 threshold: 0.4 peaks: 12\n",
        "Fitting individual peaks...\n",
        "=========================="
       ]
      },
      {
       "output_type": "stream",
       "stream": "stdout",
       "text": [
        "\n",
        "F moyenne\tF min\t\tF max\n",
        "73849.2894809 \t69244.9291829 \t78360.2543409\n",
        "==========================\n",
        "iteration  241, curve  91360"
       ]
      },
      {
       "output_type": "stream",
       "stream": "stdout",
       "text": [
        "\n",
        "Partitioning curve into peaks...\n",
        "attempt: "
       ]
      },
      {
       "output_type": "stream",
       "stream": "stdout",
       "text": [
        " 0 threshold: 0.4 peaks: 12\n",
        "Fitting individual peaks...\n",
        "=========================="
       ]
      },
      {
       "output_type": "stream",
       "stream": "stdout",
       "text": [
        "\n",
        "F moyenne\tF min\t\tF max\n",
        "71615.2499898 \t68643.1955914 \t75103.3830014\n",
        "==========================\n",
        "iteration  242, curve  91362"
       ]
      },
      {
       "output_type": "stream",
       "stream": "stdout",
       "text": [
        "\n",
        "Partitioning curve into peaks...\n",
        "attempt: "
       ]
      },
      {
       "output_type": "stream",
       "stream": "stdout",
       "text": [
        " 0 threshold: 0.4 peaks: 12\n",
        "Fitting individual peaks...\n",
        "=========================="
       ]
      },
      {
       "output_type": "stream",
       "stream": "stdout",
       "text": [
        "\n",
        "F moyenne\tF min\t\tF max\n",
        "74480.6602807 \t69316.3301172 \t78645.8730937\n",
        "==========================\n",
        "iteration  243, curve  91364"
       ]
      },
      {
       "output_type": "stream",
       "stream": "stdout",
       "text": [
        "\n",
        "Partitioning curve into peaks...\n",
        "attempt: "
       ]
      },
      {
       "output_type": "stream",
       "stream": "stdout",
       "text": [
        " 0 threshold: 0.4 peaks: 12\n",
        "Fitting individual peaks...\n",
        "=========================="
       ]
      },
      {
       "output_type": "stream",
       "stream": "stdout",
       "text": [
        "\n",
        "F moyenne\tF min\t\tF max\n",
        "71806.4996542 \t63513.0339211 \t77454.7199224\n",
        "==========================\n",
        "iteration  244, curve  91366"
       ]
      },
      {
       "output_type": "stream",
       "stream": "stdout",
       "text": [
        "\n",
        "Partitioning curve into peaks...\n",
        "attempt: "
       ]
      },
      {
       "output_type": "stream",
       "stream": "stdout",
       "text": [
        " 0 threshold: 0.4 peaks: 13\n",
        "Fitting individual peaks...\n",
        "=========================="
       ]
      },
      {
       "output_type": "stream",
       "stream": "stdout",
       "text": [
        "\n",
        "F moyenne\tF min\t\tF max\n",
        "72166.361719 \t59001.8383668 \t76868.4741156\n",
        "==========================\n",
        "iteration  245, curve  91368"
       ]
      },
      {
       "output_type": "stream",
       "stream": "stdout",
       "text": [
        "\n",
        "Partitioning curve into peaks...\n",
        "attempt: "
       ]
      },
      {
       "output_type": "stream",
       "stream": "stdout",
       "text": [
        " 0 threshold: 0.4 peaks: 16\n",
        "Fitting individual peaks...\n",
        "=========================="
       ]
      },
      {
       "output_type": "stream",
       "stream": "stdout",
       "text": [
        "\n",
        "F moyenne\tF min\t\tF max\n",
        "74938.2031113 \t52570.9134182 \t104310.468482"
       ]
      },
      {
       "output_type": "stream",
       "stream": "stdout",
       "text": [
        "\n",
        "==========================\n",
        "iteration  246, curve  91370"
       ]
      },
      {
       "output_type": "stream",
       "stream": "stdout",
       "text": [
        "\n",
        "Partitioning curve into peaks...\n",
        "attempt: "
       ]
      },
      {
       "output_type": "stream",
       "stream": "stdout",
       "text": [
        " 0 threshold: 0.4 peaks: 12\n",
        "Fitting individual peaks...\n",
        "=========================="
       ]
      },
      {
       "output_type": "stream",
       "stream": "stdout",
       "text": [
        "\n",
        "F moyenne\tF min\t\tF max\n",
        "71766.54633 \t62466.0559594 \t79456.6340439\n",
        "==========================\n",
        "iteration  247, curve  91372"
       ]
      },
      {
       "output_type": "stream",
       "stream": "stdout",
       "text": [
        "\n",
        "Partitioning curve into peaks...\n",
        "attempt: "
       ]
      },
      {
       "output_type": "stream",
       "stream": "stdout",
       "text": [
        " 0 threshold: 0.4 peaks: 12\n",
        "Fitting individual peaks...\n",
        "=========================="
       ]
      },
      {
       "output_type": "stream",
       "stream": "stdout",
       "text": [
        "\n",
        "F moyenne\tF min\t\tF max\n",
        "71632.3754501 \t63090.6513241 \t80143.6935724\n",
        "==========================\n",
        "iteration  248, curve  91374"
       ]
      },
      {
       "output_type": "stream",
       "stream": "stdout",
       "text": [
        "\n",
        "Partitioning curve into peaks...\n",
        "attempt: "
       ]
      },
      {
       "output_type": "stream",
       "stream": "stdout",
       "text": [
        " 0 threshold: 0.4 peaks: 12\n",
        "Fitting individual peaks...\n",
        "=========================="
       ]
      },
      {
       "output_type": "stream",
       "stream": "stdout",
       "text": [
        "\n",
        "F moyenne\tF min\t\tF max\n",
        "74551.0239384 \t70240.0931979 \t81522.9984566\n",
        "==========================\n",
        "iteration  249, curve  91376"
       ]
      },
      {
       "output_type": "stream",
       "stream": "stdout",
       "text": [
        "\n",
        "Partitioning curve into peaks...\n",
        "attempt: "
       ]
      },
      {
       "output_type": "stream",
       "stream": "stdout",
       "text": [
        " 0 threshold: 0.4 peaks: 12\n",
        "Fitting individual peaks...\n",
        "=========================="
       ]
      },
      {
       "output_type": "stream",
       "stream": "stdout",
       "text": [
        "\n",
        "F moyenne\tF min\t\tF max\n",
        "73564.5125068 \t68681.9976086 \t77309.1038405\n",
        "==========================\n",
        "iteration  250, curve  91378"
       ]
      },
      {
       "output_type": "stream",
       "stream": "stdout",
       "text": [
        "\n",
        "Partitioning curve into peaks...\n",
        "attempt: "
       ]
      },
      {
       "output_type": "stream",
       "stream": "stdout",
       "text": [
        " 0 threshold: 0.4 peaks: 12\n",
        "Fitting individual peaks...\n",
        "=========================="
       ]
      },
      {
       "output_type": "stream",
       "stream": "stdout",
       "text": [
        "\n",
        "F moyenne\tF min\t\tF max\n",
        "73851.7250066 \t67399.6699275 \t78195.2430242\n",
        "==========================\n",
        "iteration  251, curve  91380"
       ]
      },
      {
       "output_type": "stream",
       "stream": "stdout",
       "text": [
        "\n",
        "Partitioning curve into peaks...\n",
        "attempt: "
       ]
      },
      {
       "output_type": "stream",
       "stream": "stdout",
       "text": [
        " 0 threshold: 0.4 peaks: 13\n",
        "Fitting individual peaks...\n",
        "=========================="
       ]
      },
      {
       "output_type": "stream",
       "stream": "stdout",
       "text": [
        "\n",
        "F moyenne\tF min\t\tF max\n",
        "73124.3633663 \t65828.2878928 \t79502.083156\n",
        "==========================\n",
        "iteration  252, curve  91382"
       ]
      },
      {
       "output_type": "stream",
       "stream": "stdout",
       "text": [
        "\n",
        "Partitioning curve into peaks...\n",
        "attempt: "
       ]
      },
      {
       "output_type": "stream",
       "stream": "stdout",
       "text": [
        " 0 threshold: 0.4 peaks: 16\n",
        "Fitting individual peaks...\n",
        "=========================="
       ]
      },
      {
       "output_type": "stream",
       "stream": "stdout",
       "text": [
        "\n",
        "F moyenne\tF min\t\tF max\n",
        "76298.3879321 \t58662.8223118 \t90397.9424389"
       ]
      },
      {
       "output_type": "stream",
       "stream": "stdout",
       "text": [
        "\n",
        "==========================\n",
        "iteration  253, curve  91384"
       ]
      },
      {
       "output_type": "stream",
       "stream": "stdout",
       "text": [
        "\n",
        "Partitioning curve into peaks...\n",
        "attempt: "
       ]
      },
      {
       "output_type": "stream",
       "stream": "stdout",
       "text": [
        " 0 threshold: 0.4 peaks: 12\n",
        "Fitting individual peaks...\n",
        "=========================="
       ]
      },
      {
       "output_type": "stream",
       "stream": "stdout",
       "text": [
        "\n",
        "F moyenne\tF min\t\tF max\n",
        "71505.6006315 \t49101.9349767 \t79473.859054\n",
        "==========================\n",
        "iteration  254, curve  91386"
       ]
      },
      {
       "output_type": "stream",
       "stream": "stdout",
       "text": [
        "\n",
        "Partitioning curve into peaks...\n",
        "attempt: "
       ]
      },
      {
       "output_type": "stream",
       "stream": "stdout",
       "text": [
        " 0 threshold: 0.4 peaks: 12\n",
        "Fitting individual peaks...\n",
        "=========================="
       ]
      },
      {
       "output_type": "stream",
       "stream": "stdout",
       "text": [
        "\n",
        "F moyenne\tF min\t\tF max\n",
        "72859.9455884 \t58175.6609785 \t79206.1676399\n",
        "==========================\n",
        "iteration  255, curve  91388"
       ]
      },
      {
       "output_type": "stream",
       "stream": "stdout",
       "text": [
        "\n",
        "Partitioning curve into peaks...\n",
        "attempt: "
       ]
      },
      {
       "output_type": "stream",
       "stream": "stdout",
       "text": [
        " 0 threshold: 0.4 peaks: 12\n",
        "Fitting individual peaks...\n",
        "=========================="
       ]
      },
      {
       "output_type": "stream",
       "stream": "stdout",
       "text": [
        "\n",
        "F moyenne\tF min\t\tF max\n",
        "76767.6793738 \t72483.1891828 \t80957.9462135\n",
        "==========================\n",
        "iteration  256, curve  91390"
       ]
      },
      {
       "output_type": "stream",
       "stream": "stdout",
       "text": [
        "\n",
        "Partitioning curve into peaks...\n",
        "attempt: "
       ]
      },
      {
       "output_type": "stream",
       "stream": "stdout",
       "text": [
        " 0 threshold: 0.4 peaks: 12\n",
        "Fitting individual peaks...\n",
        "=========================="
       ]
      },
      {
       "output_type": "stream",
       "stream": "stdout",
       "text": [
        "\n",
        "F moyenne\tF min\t\tF max\n",
        "73305.6329785 \t68153.9789112 \t79739.1036936\n",
        "==========================\n",
        "iteration  257, curve  91392"
       ]
      },
      {
       "output_type": "stream",
       "stream": "stdout",
       "text": [
        "\n",
        "Partitioning curve into peaks...\n",
        "attempt: "
       ]
      },
      {
       "output_type": "stream",
       "stream": "stdout",
       "text": [
        " 0 threshold: 0.4 peaks: 12\n",
        "Fitting individual peaks...\n",
        "=========================="
       ]
      },
      {
       "output_type": "stream",
       "stream": "stdout",
       "text": [
        "\n",
        "F moyenne\tF min\t\tF max\n",
        "75053.3273941 \t69713.207952 \t78352.5414181\n",
        "==========================\n",
        "iteration  258, curve  91394"
       ]
      },
      {
       "output_type": "stream",
       "stream": "stdout",
       "text": [
        "\n",
        "Partitioning curve into peaks...\n",
        "attempt: "
       ]
      },
      {
       "output_type": "stream",
       "stream": "stdout",
       "text": [
        " 0 threshold: 0.4 peaks: 13\n",
        "Fitting individual peaks...\n",
        "=========================="
       ]
      },
      {
       "output_type": "stream",
       "stream": "stdout",
       "text": [
        "\n",
        "F moyenne\tF min\t\tF max\n",
        "70405.3789896 \t60759.6161125 \t76040.694225\n",
        "==========================\n",
        "iteration  259, curve  91396"
       ]
      },
      {
       "output_type": "stream",
       "stream": "stdout",
       "text": [
        "\n",
        "Partitioning curve into peaks...\n",
        "attempt: "
       ]
      },
      {
       "output_type": "stream",
       "stream": "stdout",
       "text": [
        " 0 threshold: 0.4 peaks: 16\n",
        "Fitting individual peaks...\n",
        "=========================="
       ]
      },
      {
       "output_type": "stream",
       "stream": "stdout",
       "text": [
        "\n",
        "F moyenne\tF min\t\tF max\n",
        "73130.9253671 \t57524.8109936 \t77951.7049329"
       ]
      },
      {
       "output_type": "stream",
       "stream": "stdout",
       "text": [
        "\n",
        "==========================\n",
        "iteration  260, curve  91398"
       ]
      },
      {
       "output_type": "stream",
       "stream": "stdout",
       "text": [
        "\n",
        "Partitioning curve into peaks...\n",
        "attempt: "
       ]
      },
      {
       "output_type": "stream",
       "stream": "stdout",
       "text": [
        " 0 threshold: 0.4 peaks: 12\n",
        "Fitting individual peaks...\n",
        "=========================="
       ]
      },
      {
       "output_type": "stream",
       "stream": "stdout",
       "text": [
        "\n",
        "F moyenne\tF min\t\tF max\n",
        "72089.0505764 \t58251.970074 \t80751.4816386\n",
        "==========================\n",
        "iteration  261, curve  91400"
       ]
      },
      {
       "output_type": "stream",
       "stream": "stdout",
       "text": [
        "\n",
        "Partitioning curve into peaks...\n",
        "attempt: "
       ]
      },
      {
       "output_type": "stream",
       "stream": "stdout",
       "text": [
        " 0 threshold: 0.4 peaks: 12\n",
        "Fitting individual peaks...\n",
        "=========================="
       ]
      },
      {
       "output_type": "stream",
       "stream": "stdout",
       "text": [
        "\n",
        "F moyenne\tF min\t\tF max\n",
        "73718.6103734 \t64372.7642999 \t79832.5080396\n",
        "==========================\n",
        "iteration  262, curve  91402"
       ]
      },
      {
       "output_type": "stream",
       "stream": "stdout",
       "text": [
        "\n",
        "Partitioning curve into peaks...\n",
        "attempt: "
       ]
      },
      {
       "output_type": "stream",
       "stream": "stdout",
       "text": [
        " 0 threshold: 0.4 peaks: 12\n",
        "Fitting individual peaks...\n",
        "=========================="
       ]
      },
      {
       "output_type": "stream",
       "stream": "stdout",
       "text": [
        "\n",
        "F moyenne\tF min\t\tF max\n",
        "76209.9934505 \t68381.908726 \t81725.1208402\n",
        "==========================\n",
        "iteration  263, curve  91404"
       ]
      },
      {
       "output_type": "stream",
       "stream": "stdout",
       "text": [
        "\n",
        "Partitioning curve into peaks...\n",
        "attempt: "
       ]
      },
      {
       "output_type": "stream",
       "stream": "stdout",
       "text": [
        " 0 threshold: 0.4 peaks: 12\n",
        "Fitting individual peaks...\n",
        "=========================="
       ]
      },
      {
       "output_type": "stream",
       "stream": "stdout",
       "text": [
        "\n",
        "F moyenne\tF min\t\tF max\n",
        "74672.0205464 \t71256.574662 \t77110.3703973\n",
        "==========================\n",
        "iteration  264, curve  91406"
       ]
      },
      {
       "output_type": "stream",
       "stream": "stdout",
       "text": [
        "\n",
        "Partitioning curve into peaks...\n",
        "attempt: "
       ]
      },
      {
       "output_type": "stream",
       "stream": "stdout",
       "text": [
        " 0 threshold: 0.4 peaks: 12\n",
        "Fitting individual peaks...\n",
        "=========================="
       ]
      },
      {
       "output_type": "stream",
       "stream": "stdout",
       "text": [
        "\n",
        "F moyenne\tF min\t\tF max\n",
        "73765.0047557 \t70181.5671339 \t77853.0395979\n",
        "==========================\n",
        "iteration  265, curve  91408"
       ]
      },
      {
       "output_type": "stream",
       "stream": "stdout",
       "text": [
        "\n",
        "Partitioning curve into peaks...\n",
        "attempt: "
       ]
      },
      {
       "output_type": "stream",
       "stream": "stdout",
       "text": [
        " 0 threshold: 0.4 peaks: 17\n",
        "Fitting individual peaks...\n",
        "=========================="
       ]
      },
      {
       "output_type": "stream",
       "stream": "stdout",
       "text": [
        "\n",
        "F moyenne\tF min\t\tF max\n",
        "56411.2188633 \t45734.8823814 \t73527.5367655"
       ]
      },
      {
       "output_type": "stream",
       "stream": "stdout",
       "text": [
        "\n",
        "==========================\n",
        "iteration  266, curve  91410"
       ]
      },
      {
       "output_type": "stream",
       "stream": "stdout",
       "text": [
        "\n",
        "Partitioning curve into peaks...\n",
        "attempt: "
       ]
      },
      {
       "output_type": "stream",
       "stream": "stdout",
       "text": [
        " 0 threshold: 0.4 peaks: 13\n",
        "Fitting individual peaks...\n",
        "=========================="
       ]
      },
      {
       "output_type": "stream",
       "stream": "stdout",
       "text": [
        "\n",
        "F moyenne\tF min\t\tF max\n",
        "73286.3520697 \t65504.8530723 \t77570.7629687\n",
        "==========================\n",
        "iteration  267, curve  91412"
       ]
      },
      {
       "output_type": "stream",
       "stream": "stdout",
       "text": [
        "\n",
        "Partitioning curve into peaks...\n",
        "attempt: "
       ]
      },
      {
       "output_type": "stream",
       "stream": "stdout",
       "text": [
        " 0 threshold: 0.4 peaks: 13\n",
        "Fitting individual peaks...\n",
        "=========================="
       ]
      },
      {
       "output_type": "stream",
       "stream": "stdout",
       "text": [
        "\n",
        "F moyenne\tF min\t\tF max\n",
        "71823.3198989 \t57368.9883349 \t77993.6907781\n",
        "==========================\n",
        "iteration  268, curve  91414"
       ]
      },
      {
       "output_type": "stream",
       "stream": "stdout",
       "text": [
        "\n",
        "Partitioning curve into peaks...\n",
        "attempt: "
       ]
      },
      {
       "output_type": "stream",
       "stream": "stdout",
       "text": [
        " 0 threshold: 0.4 peaks: 13\n",
        "Fitting individual peaks...\n",
        "=========================="
       ]
      },
      {
       "output_type": "stream",
       "stream": "stdout",
       "text": [
        "\n",
        "F moyenne\tF min\t\tF max\n",
        "72677.865593 \t60598.9556684 \t76181.4005699\n",
        "==========================\n",
        "iteration  269, curve  91416"
       ]
      },
      {
       "output_type": "stream",
       "stream": "stdout",
       "text": [
        "\n",
        "Partitioning curve into peaks...\n",
        "attempt: "
       ]
      },
      {
       "output_type": "stream",
       "stream": "stdout",
       "text": [
        " 0 threshold: 0.4 peaks: 13\n",
        "Fitting individual peaks...\n",
        "=========================="
       ]
      },
      {
       "output_type": "stream",
       "stream": "stdout",
       "text": [
        "\n",
        "F moyenne\tF min\t\tF max\n",
        "72969.6668977 \t61739.6411427 \t78857.0538135\n",
        "==========================\n",
        "iteration  270, curve  91418"
       ]
      },
      {
       "output_type": "stream",
       "stream": "stdout",
       "text": [
        "\n",
        "Partitioning curve into peaks...\n",
        "attempt: "
       ]
      },
      {
       "output_type": "stream",
       "stream": "stdout",
       "text": [
        " 0 threshold: 0.4 peaks: 13\n",
        "Fitting individual peaks...\n",
        "=========================="
       ]
      },
      {
       "output_type": "stream",
       "stream": "stdout",
       "text": [
        "\n",
        "F moyenne\tF min\t\tF max\n",
        "71394.5470808 \t67655.5515402 \t75047.5756967\n",
        "==========================\n",
        "iteration  271, curve  91420"
       ]
      },
      {
       "output_type": "stream",
       "stream": "stdout",
       "text": [
        "\n",
        "Partitioning curve into peaks...\n",
        "attempt: "
       ]
      },
      {
       "output_type": "stream",
       "stream": "stdout",
       "text": [
        " 0 threshold: 0.4 peaks: 13\n",
        "Fitting individual peaks...\n",
        "=========================="
       ]
      },
      {
       "output_type": "stream",
       "stream": "stdout",
       "text": [
        "\n",
        "F moyenne\tF min\t\tF max\n",
        "73703.760085 \t68647.3902382 \t80916.8226608\n",
        "==========================\n",
        "iteration  272, curve  91422"
       ]
      },
      {
       "output_type": "stream",
       "stream": "stdout",
       "text": [
        "\n",
        "Partitioning curve into peaks...\n",
        "attempt: "
       ]
      },
      {
       "output_type": "stream",
       "stream": "stdout",
       "text": [
        " 0 threshold: 0.4 peaks: 12\n",
        "Fitting individual peaks...\n",
        "=========================="
       ]
      },
      {
       "output_type": "stream",
       "stream": "stdout",
       "text": [
        "\n",
        "F moyenne\tF min\t\tF max\n",
        "72353.5514238 \t67777.4092601 \t78804.7060312\n",
        "==========================\n",
        "iteration  273, curve  91424"
       ]
      },
      {
       "output_type": "stream",
       "stream": "stdout",
       "text": [
        "\n",
        "Partitioning curve into peaks...\n",
        "attempt: "
       ]
      },
      {
       "output_type": "stream",
       "stream": "stdout",
       "text": [
        " 0 threshold: 0.4 peaks: 12\n",
        "Fitting individual peaks...\n",
        "=========================="
       ]
      },
      {
       "output_type": "stream",
       "stream": "stdout",
       "text": [
        "\n",
        "F moyenne\tF min\t\tF max\n",
        "74495.3213951 \t70835.0170639 \t77420.2591991\n",
        "==========================\n",
        "iteration  274, curve  91426"
       ]
      },
      {
       "output_type": "stream",
       "stream": "stdout",
       "text": [
        "\n",
        "Partitioning curve into peaks...\n",
        "attempt: "
       ]
      },
      {
       "output_type": "stream",
       "stream": "stdout",
       "text": [
        " 0 threshold: 0.4 peaks: 12\n",
        "Fitting individual peaks...\n",
        "=========================="
       ]
      },
      {
       "output_type": "stream",
       "stream": "stdout",
       "text": [
        "\n",
        "F moyenne\tF min\t\tF max\n",
        "74585.5282766 \t68727.710269 \t82205.5007394\n",
        "==========================\n",
        "iteration  275, curve  91428"
       ]
      },
      {
       "output_type": "stream",
       "stream": "stdout",
       "text": [
        "\n",
        "Partitioning curve into peaks...\n",
        "attempt: "
       ]
      },
      {
       "output_type": "stream",
       "stream": "stdout",
       "text": [
        " 0 threshold: 0.4 peaks: 12\n",
        "Fitting individual peaks...\n",
        "=========================="
       ]
      },
      {
       "output_type": "stream",
       "stream": "stdout",
       "text": [
        "\n",
        "F moyenne\tF min\t\tF max\n",
        "76434.1200189 \t72787.5011377 \t81326.6876104\n",
        "==========================\n",
        "iteration  276, curve  91430"
       ]
      },
      {
       "output_type": "stream",
       "stream": "stdout",
       "text": [
        "\n",
        "Partitioning curve into peaks...\n",
        "attempt: "
       ]
      },
      {
       "output_type": "stream",
       "stream": "stdout",
       "text": [
        " 0 threshold: 0.4 peaks: 12\n",
        "Fitting individual peaks...\n",
        "=========================="
       ]
      },
      {
       "output_type": "stream",
       "stream": "stdout",
       "text": [
        "\n",
        "F moyenne\tF min\t\tF max\n",
        "72312.409594 \t69117.0254646 \t74891.8412876\n",
        "==========================\n",
        "iteration  277, curve  91432"
       ]
      },
      {
       "output_type": "stream",
       "stream": "stdout",
       "text": [
        "\n",
        "Partitioning curve into peaks...\n",
        "attempt: "
       ]
      },
      {
       "output_type": "stream",
       "stream": "stdout",
       "text": [
        " 0 threshold: 0.4 peaks: 12\n",
        "Fitting individual peaks...\n",
        "=========================="
       ]
      },
      {
       "output_type": "stream",
       "stream": "stdout",
       "text": [
        "\n",
        "F moyenne\tF min\t\tF max\n",
        "73935.8398634 \t69366.3076268 \t79624.6795277\n",
        "==========================\n",
        "iteration  278, curve  91434"
       ]
      },
      {
       "output_type": "stream",
       "stream": "stdout",
       "text": [
        "\n",
        "Partitioning curve into peaks...\n",
        "attempt: "
       ]
      },
      {
       "output_type": "stream",
       "stream": "stdout",
       "text": [
        " 0 threshold: 0.4 peaks: 12\n",
        "Fitting individual peaks...\n",
        "=========================="
       ]
      },
      {
       "output_type": "stream",
       "stream": "stdout",
       "text": [
        "\n",
        "F moyenne\tF min\t\tF max\n",
        "74226.2075625 \t64914.4122726 \t80769.609354\n",
        "==========================\n",
        "iteration  279, curve  91436"
       ]
      },
      {
       "output_type": "stream",
       "stream": "stdout",
       "text": [
        "\n",
        "Partitioning curve into peaks...\n",
        "attempt: "
       ]
      },
      {
       "output_type": "stream",
       "stream": "stdout",
       "text": [
        " 0 threshold: 0.4 peaks: 12\n",
        "Fitting individual peaks...\n",
        "=========================="
       ]
      },
      {
       "output_type": "stream",
       "stream": "stdout",
       "text": [
        "\n",
        "F moyenne\tF min\t\tF max\n",
        "75827.0818806 \t71010.1989444 \t78871.3411636\n",
        "==========================\n",
        "iteration  280, curve  91438"
       ]
      },
      {
       "output_type": "stream",
       "stream": "stdout",
       "text": [
        "\n",
        "Partitioning curve into peaks...\n",
        "attempt: "
       ]
      },
      {
       "output_type": "stream",
       "stream": "stdout",
       "text": [
        " 0 threshold: 0.4 peaks: 12\n",
        "Fitting individual peaks...\n",
        "=========================="
       ]
      },
      {
       "output_type": "stream",
       "stream": "stdout",
       "text": [
        "\n",
        "F moyenne\tF min\t\tF max\n",
        "73435.7215634 \t67784.754659 \t78705.8039715\n",
        "==========================\n",
        "iteration  281, curve  91440"
       ]
      },
      {
       "output_type": "stream",
       "stream": "stdout",
       "text": [
        "\n",
        "Partitioning curve into peaks...\n",
        "attempt: "
       ]
      },
      {
       "output_type": "stream",
       "stream": "stdout",
       "text": [
        " 0 threshold: 0.4 peaks: 12\n",
        "Fitting individual peaks...\n",
        "=========================="
       ]
      },
      {
       "output_type": "stream",
       "stream": "stdout",
       "text": [
        "\n",
        "F moyenne\tF min\t\tF max\n",
        "73337.3766577 \t69393.4369022 \t75891.5468187\n",
        "==========================\n",
        "iteration  282, curve  91442"
       ]
      },
      {
       "output_type": "stream",
       "stream": "stdout",
       "text": [
        "\n",
        "Partitioning curve into peaks...\n",
        "attempt: "
       ]
      },
      {
       "output_type": "stream",
       "stream": "stdout",
       "text": [
        " 0 threshold: 0.4 peaks: 12\n",
        "Fitting individual peaks...\n",
        "=========================="
       ]
      },
      {
       "output_type": "stream",
       "stream": "stdout",
       "text": [
        "\n",
        "F moyenne\tF min\t\tF max\n",
        "73654.3618873 \t68027.8481002 \t78303.8281466\n",
        "==========================\n",
        "iteration  283, curve  91444"
       ]
      },
      {
       "output_type": "stream",
       "stream": "stdout",
       "text": [
        "\n",
        "Partitioning curve into peaks...\n",
        "attempt: "
       ]
      },
      {
       "output_type": "stream",
       "stream": "stdout",
       "text": [
        " 0 threshold: 0.4 peaks: 12\n",
        "Fitting individual peaks...\n",
        "=========================="
       ]
      },
      {
       "output_type": "stream",
       "stream": "stdout",
       "text": [
        "\n",
        "F moyenne\tF min\t\tF max\n",
        "72446.0553407 \t65764.7243708 \t78345.3808428\n",
        "==========================\n",
        "iteration  284, curve  91446"
       ]
      },
      {
       "output_type": "stream",
       "stream": "stdout",
       "text": [
        "\n",
        "Partitioning curve into peaks...\n",
        "attempt: "
       ]
      },
      {
       "output_type": "stream",
       "stream": "stdout",
       "text": [
        " 0 threshold: 0.4 peaks: 12\n",
        "Fitting individual peaks...\n",
        "=========================="
       ]
      },
      {
       "output_type": "stream",
       "stream": "stdout",
       "text": [
        "\n",
        "F moyenne\tF min\t\tF max\n",
        "74699.9899204 \t71640.4029517 \t78062.4540939\n",
        "==========================\n",
        "iteration  285, curve  91448"
       ]
      },
      {
       "output_type": "stream",
       "stream": "stdout",
       "text": [
        "\n",
        "Partitioning curve into peaks...\n",
        "attempt: "
       ]
      },
      {
       "output_type": "stream",
       "stream": "stdout",
       "text": [
        " 0 threshold: 0.4 peaks: 12\n",
        "Fitting individual peaks...\n",
        "=========================="
       ]
      },
      {
       "output_type": "stream",
       "stream": "stdout",
       "text": [
        "\n",
        "F moyenne\tF min\t\tF max\n",
        "73839.557257 \t70024.7730896 \t78456.1707917\n",
        "==========================\n",
        "iteration  286, curve  91450"
       ]
      },
      {
       "output_type": "stream",
       "stream": "stdout",
       "text": [
        "\n",
        "Partitioning curve into peaks...\n",
        "attempt: "
       ]
      },
      {
       "output_type": "stream",
       "stream": "stdout",
       "text": [
        " 0 threshold: 0.4 peaks: 12\n",
        "Fitting individual peaks...\n",
        "=========================="
       ]
      },
      {
       "output_type": "stream",
       "stream": "stdout",
       "text": [
        "\n",
        "F moyenne\tF min\t\tF max\n",
        "70601.2135926 \t65530.1801857 \t76175.0987132\n",
        "==========================\n",
        "iteration  287, curve  91452"
       ]
      },
      {
       "output_type": "stream",
       "stream": "stdout",
       "text": [
        "\n",
        "Partitioning curve into peaks...\n",
        "attempt: "
       ]
      },
      {
       "output_type": "stream",
       "stream": "stdout",
       "text": [
        " 0 threshold: 0.4 peaks: 12\n",
        "Fitting individual peaks...\n",
        "=========================="
       ]
      },
      {
       "output_type": "stream",
       "stream": "stdout",
       "text": [
        "\n",
        "F moyenne\tF min\t\tF max\n",
        "73867.1588013 \t65294.0359572 \t78993.3324317\n",
        "==========================\n",
        "iteration  288, curve  91454"
       ]
      },
      {
       "output_type": "stream",
       "stream": "stdout",
       "text": [
        "\n",
        "Partitioning curve into peaks...\n",
        "attempt: "
       ]
      },
      {
       "output_type": "stream",
       "stream": "stdout",
       "text": [
        " 0 threshold: 0.4 peaks: 12\n",
        "Fitting individual peaks...\n",
        "=========================="
       ]
      },
      {
       "output_type": "stream",
       "stream": "stdout",
       "text": [
        "\n",
        "F moyenne\tF min\t\tF max\n",
        "75729.7760944 \t64380.0508214 \t98343.5843001\n",
        "==========================\n",
        "iteration  289, curve  91456"
       ]
      },
      {
       "output_type": "stream",
       "stream": "stdout",
       "text": [
        "\n",
        "Partitioning curve into peaks...\n",
        "attempt: "
       ]
      },
      {
       "output_type": "stream",
       "stream": "stdout",
       "text": [
        " 0 threshold: 0.4 peaks: 12\n",
        "Fitting individual peaks...\n",
        "=========================="
       ]
      },
      {
       "output_type": "stream",
       "stream": "stdout",
       "text": [
        "\n",
        "F moyenne\tF min\t\tF max\n",
        "77214.8581465 \t75261.0706463 \t80845.2509138\n",
        "==========================\n",
        "iteration  290, curve  91458"
       ]
      },
      {
       "output_type": "stream",
       "stream": "stdout",
       "text": [
        "\n",
        "Partitioning curve into peaks...\n",
        "attempt: "
       ]
      },
      {
       "output_type": "stream",
       "stream": "stdout",
       "text": [
        " 0 threshold: 0.4 peaks: 12\n",
        "Fitting individual peaks...\n",
        "=========================="
       ]
      },
      {
       "output_type": "stream",
       "stream": "stdout",
       "text": [
        "\n",
        "F moyenne\tF min\t\tF max\n",
        "73633.7441753 \t65854.7949126 \t82625.8430125\n",
        "==========================\n",
        "iteration  291, curve  91460"
       ]
      },
      {
       "output_type": "stream",
       "stream": "stdout",
       "text": [
        "\n",
        "Partitioning curve into peaks...\n",
        "attempt: "
       ]
      },
      {
       "output_type": "stream",
       "stream": "stdout",
       "text": [
        " 0 threshold: 0.4 peaks: 16\n",
        "Fitting individual peaks...\n",
        "=========================="
       ]
      },
      {
       "output_type": "stream",
       "stream": "stdout",
       "text": [
        "\n",
        "F moyenne\tF min\t\tF max\n",
        "68253.5102676 \t36600.3187671 \t77869.8771662"
       ]
      },
      {
       "output_type": "stream",
       "stream": "stdout",
       "text": [
        "\n",
        "==========================\n",
        "iteration  292, curve  91462"
       ]
      },
      {
       "output_type": "stream",
       "stream": "stdout",
       "text": [
        "\n",
        "Partitioning curve into peaks...\n",
        "attempt: "
       ]
      },
      {
       "output_type": "stream",
       "stream": "stdout",
       "text": [
        " 0 threshold: 0.4 peaks: 12\n",
        "Fitting individual peaks...\n",
        "=========================="
       ]
      },
      {
       "output_type": "stream",
       "stream": "stdout",
       "text": [
        "\n",
        "F moyenne\tF min\t\tF max\n",
        "70426.4695443 \t54541.0034582 \t75751.0188571\n",
        "==========================\n",
        "iteration  293, curve  91464"
       ]
      },
      {
       "output_type": "stream",
       "stream": "stdout",
       "text": [
        "\n",
        "Partitioning curve into peaks...\n",
        "attempt: "
       ]
      },
      {
       "output_type": "stream",
       "stream": "stdout",
       "text": [
        " 0 threshold: 0.4 peaks: 17\n",
        "Fitting individual peaks...\n",
        "=========================="
       ]
      },
      {
       "output_type": "stream",
       "stream": "stdout",
       "text": [
        "\n",
        "F moyenne\tF min\t\tF max\n",
        "73012.2343036 \t51385.4649381 \t103877.057181"
       ]
      },
      {
       "output_type": "stream",
       "stream": "stdout",
       "text": [
        "\n",
        "==========================\n",
        "iteration  294, curve  91466"
       ]
      },
      {
       "output_type": "stream",
       "stream": "stdout",
       "text": [
        "\n",
        "Partitioning curve into peaks...\n",
        "attempt: "
       ]
      },
      {
       "output_type": "stream",
       "stream": "stdout",
       "text": [
        " 0 threshold: 0.4 peaks: 16\n",
        "Fitting individual peaks...\n",
        "=========================="
       ]
      },
      {
       "output_type": "stream",
       "stream": "stdout",
       "text": [
        "\n",
        "F moyenne\tF min\t\tF max\n",
        "74264.9334395 \t62241.7242936 \t82393.6459018"
       ]
      },
      {
       "output_type": "stream",
       "stream": "stdout",
       "text": [
        "\n",
        "==========================\n",
        "iteration  295, curve  91468"
       ]
      },
      {
       "output_type": "stream",
       "stream": "stdout",
       "text": [
        "\n",
        "Partitioning curve into peaks...\n",
        "attempt: "
       ]
      },
      {
       "output_type": "stream",
       "stream": "stdout",
       "text": [
        " 0 threshold: 0.4 peaks: 13\n",
        "Fitting individual peaks...\n",
        "=========================="
       ]
      },
      {
       "output_type": "stream",
       "stream": "stdout",
       "text": [
        "\n",
        "F moyenne\tF min\t\tF max\n",
        "69618.3711737 \t61262.3951 \t76140.6570102\n",
        "==========================\n",
        "iteration  296, curve  91470"
       ]
      },
      {
       "output_type": "stream",
       "stream": "stdout",
       "text": [
        "\n",
        "Partitioning curve into peaks...\n",
        "attempt: "
       ]
      },
      {
       "output_type": "stream",
       "stream": "stdout",
       "text": [
        " 0 threshold: 0.4 peaks: 13\n",
        "Fitting individual peaks...\n",
        "=========================="
       ]
      },
      {
       "output_type": "stream",
       "stream": "stdout",
       "text": [
        "\n",
        "F moyenne\tF min\t\tF max\n",
        "66608.3882827 \t57515.364845 \t71302.5907902\n",
        "==========================\n",
        "iteration  297, curve  91472"
       ]
      },
      {
       "output_type": "stream",
       "stream": "stdout",
       "text": [
        "\n",
        "Partitioning curve into peaks...\n",
        "attempt: "
       ]
      },
      {
       "output_type": "stream",
       "stream": "stdout",
       "text": [
        " 0 threshold: 0.4 peaks: 12\n",
        "Fitting individual peaks...\n",
        "=========================="
       ]
      },
      {
       "output_type": "stream",
       "stream": "stdout",
       "text": [
        "\n",
        "F moyenne\tF min\t\tF max\n",
        "65409.345743 \t44618.8214697 \t78845.3527945\n",
        "==========================\n",
        "iteration  298, curve  91474"
       ]
      },
      {
       "output_type": "stream",
       "stream": "stdout",
       "text": [
        "\n",
        "Partitioning curve into peaks...\n",
        "attempt: "
       ]
      },
      {
       "output_type": "stream",
       "stream": "stdout",
       "text": [
        " 0 threshold: 0.4 peaks: 10\n",
        "attempt: "
       ]
      },
      {
       "output_type": "stream",
       "stream": "stdout",
       "text": [
        " 1 threshold: 0.35 peaks: 12\n",
        "Fitting individual peaks...\n",
        "=========================="
       ]
      },
      {
       "output_type": "stream",
       "stream": "stdout",
       "text": [
        "\n",
        "F moyenne\tF min\t\tF max\n",
        "48704.5756375 \t3758.09446347 \t75712.94128\n",
        "==========================\n",
        "iteration  299, curve  91476"
       ]
      },
      {
       "output_type": "stream",
       "stream": "stdout",
       "text": [
        "\n",
        "Partitioning curve into peaks...\n",
        "attempt: "
       ]
      },
      {
       "output_type": "stream",
       "stream": "stdout",
       "text": [
        " 0 threshold: 0.4 peaks: 10\n",
        "attempt: "
       ]
      },
      {
       "output_type": "stream",
       "stream": "stdout",
       "text": [
        " 1 threshold: 0.35 peaks: 11\n",
        "attempt: "
       ]
      },
      {
       "output_type": "stream",
       "stream": "stdout",
       "text": [
        " 2 threshold: 0.3 peaks: 12\n",
        "Fitting individual peaks...\n",
        "=========================="
       ]
      },
      {
       "output_type": "stream",
       "stream": "stdout",
       "text": [
        "\n",
        "F moyenne\tF min\t\tF max\n",
        "101311.691303 \t2730.87565014 \t158698.389845\n",
        "==========================\n",
        "iteration  300, curve  91478"
       ]
      },
      {
       "output_type": "stream",
       "stream": "stdout",
       "text": [
        "\n",
        "Partitioning curve into peaks...\n",
        "attempt: "
       ]
      },
      {
       "output_type": "stream",
       "stream": "stdout",
       "text": [
        " 0 threshold: 0.4 peaks: 11\n",
        "attempt: "
       ]
      },
      {
       "output_type": "stream",
       "stream": "stdout",
       "text": [
        " 1 threshold: 0.35 peaks: 12\n",
        "Fitting individual peaks...\n",
        "=========================="
       ]
      },
      {
       "output_type": "stream",
       "stream": "stdout",
       "text": [
        "\n",
        "F moyenne\tF min\t\tF max\n",
        "45700.4128492 \t11449.8252367 \t71582.3152439\n",
        "==========================\n",
        "iteration  301, curve  91480"
       ]
      },
      {
       "output_type": "stream",
       "stream": "stdout",
       "text": [
        "\n",
        "Partitioning curve into peaks...\n",
        "attempt: "
       ]
      },
      {
       "output_type": "stream",
       "stream": "stdout",
       "text": [
        " 0 threshold: 0.4 peaks: 12\n",
        "Fitting individual peaks...\n",
        "=========================="
       ]
      },
      {
       "output_type": "stream",
       "stream": "stdout",
       "text": [
        "\n",
        "F moyenne\tF min\t\tF max\n",
        "48773.9092981 \t12852.1842564 \t67245.127165\n",
        "==========================\n",
        "iteration  302, curve  91482"
       ]
      },
      {
       "output_type": "stream",
       "stream": "stdout",
       "text": [
        "\n",
        "Partitioning curve into peaks...\n",
        "attempt: "
       ]
      },
      {
       "output_type": "stream",
       "stream": "stdout",
       "text": [
        " 0 threshold: 0.4 peaks: 12\n",
        "Fitting individual peaks...\n",
        "=========================="
       ]
      },
      {
       "output_type": "stream",
       "stream": "stdout",
       "text": [
        "\n",
        "F moyenne\tF min\t\tF max\n",
        "63283.0398474 \t45049.299874 \t72810.298347\n",
        "==========================\n",
        "iteration  303, curve  91484"
       ]
      },
      {
       "output_type": "stream",
       "stream": "stdout",
       "text": [
        "\n",
        "Partitioning curve into peaks...\n",
        "attempt: "
       ]
      },
      {
       "output_type": "stream",
       "stream": "stdout",
       "text": [
        " 0 threshold: 0.4 peaks: 12\n",
        "Fitting individual peaks...\n",
        "=========================="
       ]
      },
      {
       "output_type": "stream",
       "stream": "stdout",
       "text": [
        "\n",
        "F moyenne\tF min\t\tF max\n",
        "71193.2966881 \t62511.530141 \t77571.3520066\n",
        "==========================\n",
        "iteration  304, curve  91486"
       ]
      },
      {
       "output_type": "stream",
       "stream": "stdout",
       "text": [
        "\n",
        "Partitioning curve into peaks...\n",
        "attempt: "
       ]
      },
      {
       "output_type": "stream",
       "stream": "stdout",
       "text": [
        " 0 threshold: 0.4 peaks: 12\n",
        "Fitting individual peaks...\n",
        "=========================="
       ]
      },
      {
       "output_type": "stream",
       "stream": "stdout",
       "text": [
        "\n",
        "F moyenne\tF min\t\tF max\n",
        "72139.1848343 \t66200.027482 \t75856.1318181\n",
        "==========================\n",
        "iteration  305, curve  91488"
       ]
      },
      {
       "output_type": "stream",
       "stream": "stdout",
       "text": [
        "\n",
        "Partitioning curve into peaks...\n",
        "attempt: "
       ]
      },
      {
       "output_type": "stream",
       "stream": "stdout",
       "text": [
        " 0 threshold: 0.4 peaks: 12\n",
        "Fitting individual peaks...\n",
        "=========================="
       ]
      },
      {
       "output_type": "stream",
       "stream": "stdout",
       "text": [
        "\n",
        "F moyenne\tF min\t\tF max\n",
        "71773.7069003 \t65632.3241751 \t78466.8197802\n",
        "==========================\n",
        "iteration  306, curve  91490"
       ]
      },
      {
       "output_type": "stream",
       "stream": "stdout",
       "text": [
        "\n",
        "Partitioning curve into peaks...\n",
        "attempt: "
       ]
      },
      {
       "output_type": "stream",
       "stream": "stdout",
       "text": [
        " 0 threshold: 0.4 peaks: 12\n",
        "Fitting individual peaks...\n",
        "=========================="
       ]
      },
      {
       "output_type": "stream",
       "stream": "stdout",
       "text": [
        "\n",
        "F moyenne\tF min\t\tF max\n",
        "72102.7995954 \t66770.4282869 \t75900.7091379\n",
        "==========================\n",
        "iteration  307, curve  91492"
       ]
      },
      {
       "output_type": "stream",
       "stream": "stdout",
       "text": [
        "\n",
        "Partitioning curve into peaks...\n",
        "attempt: "
       ]
      },
      {
       "output_type": "stream",
       "stream": "stdout",
       "text": [
        " 0 threshold: 0.4 peaks: 12\n",
        "Fitting individual peaks...\n",
        "=========================="
       ]
      },
      {
       "output_type": "stream",
       "stream": "stdout",
       "text": [
        "\n",
        "F moyenne\tF min\t\tF max\n",
        "75588.5555397 \t71705.3515685 \t78741.472391"
       ]
      },
      {
       "output_type": "stream",
       "stream": "stdout",
       "text": [
        "\n",
        "==========================\n",
        "iteration  308, curve  91494"
       ]
      },
      {
       "output_type": "stream",
       "stream": "stdout",
       "text": [
        "\n",
        "Partitioning curve into peaks...\n",
        "attempt: "
       ]
      },
      {
       "output_type": "stream",
       "stream": "stdout",
       "text": [
        " 0 threshold: 0.4 peaks: 12\n",
        "Fitting individual peaks...\n",
        "=========================="
       ]
      },
      {
       "output_type": "stream",
       "stream": "stdout",
       "text": [
        "\n",
        "F moyenne\tF min\t\tF max\n",
        "72853.6452148 \t69211.7510509 \t75798.5123979\n",
        "==========================\n",
        "iteration  309, curve  91496"
       ]
      },
      {
       "output_type": "stream",
       "stream": "stdout",
       "text": [
        "\n",
        "Partitioning curve into peaks...\n",
        "attempt: "
       ]
      },
      {
       "output_type": "stream",
       "stream": "stdout",
       "text": [
        " 0 threshold: 0.4 peaks: 12\n",
        "Fitting individual peaks...\n",
        "=========================="
       ]
      },
      {
       "output_type": "stream",
       "stream": "stdout",
       "text": [
        "\n",
        "F moyenne\tF min\t\tF max\n",
        "70250.7854489 \t63707.5063798 \t74176.9688048\n",
        "==========================\n",
        "iteration  310, curve  91498"
       ]
      },
      {
       "output_type": "stream",
       "stream": "stdout",
       "text": [
        "\n",
        "Partitioning curve into peaks...\n",
        "attempt: "
       ]
      },
      {
       "output_type": "stream",
       "stream": "stdout",
       "text": [
        " 0 threshold: 0.4 peaks: 12\n",
        "Fitting individual peaks...\n",
        "=========================="
       ]
      },
      {
       "output_type": "stream",
       "stream": "stdout",
       "text": [
        "\n",
        "F moyenne\tF min\t\tF max\n",
        "73533.3595982 \t68666.3541709 \t77081.9821406"
       ]
      },
      {
       "output_type": "stream",
       "stream": "stdout",
       "text": [
        "\n",
        "==========================\n",
        "iteration  311, curve  91500"
       ]
      },
      {
       "output_type": "stream",
       "stream": "stdout",
       "text": [
        "\n",
        "Partitioning curve into peaks...\n",
        "attempt: "
       ]
      },
      {
       "output_type": "stream",
       "stream": "stdout",
       "text": [
        " 0 threshold: 0.4 peaks: 12\n",
        "Fitting individual peaks...\n",
        "=========================="
       ]
      },
      {
       "output_type": "stream",
       "stream": "stdout",
       "text": [
        "\n",
        "F moyenne\tF min\t\tF max\n",
        "71627.475237 \t63609.7993059 \t74316.0964756\n",
        "==========================\n",
        "iteration  312, curve  91502"
       ]
      },
      {
       "output_type": "stream",
       "stream": "stdout",
       "text": [
        "\n",
        "Partitioning curve into peaks...\n",
        "attempt: "
       ]
      },
      {
       "output_type": "stream",
       "stream": "stdout",
       "text": [
        " 0 threshold: 0.4 peaks: 12\n",
        "Fitting individual peaks...\n",
        "=========================="
       ]
      },
      {
       "output_type": "stream",
       "stream": "stdout",
       "text": [
        "\n",
        "F moyenne\tF min\t\tF max\n",
        "72767.32056 \t59647.8431546 \t78609.6343285\n",
        "==========================\n",
        "iteration  313, curve  91504"
       ]
      },
      {
       "output_type": "stream",
       "stream": "stdout",
       "text": [
        "\n",
        "Partitioning curve into peaks...\n",
        "attempt: "
       ]
      },
      {
       "output_type": "stream",
       "stream": "stdout",
       "text": [
        " 0 threshold: 0.4 peaks: 16\n",
        "Fitting individual peaks...\n",
        "=========================="
       ]
      },
      {
       "output_type": "stream",
       "stream": "stdout",
       "text": [
        "\n",
        "F moyenne\tF min\t\tF max\n",
        "74938.8795065 \t61286.81751 \t95988.6667144"
       ]
      },
      {
       "output_type": "stream",
       "stream": "stdout",
       "text": [
        "\n",
        "==========================\n",
        "iteration  314, curve  91506"
       ]
      },
      {
       "output_type": "stream",
       "stream": "stdout",
       "text": [
        "\n",
        "Partitioning curve into peaks...\n",
        "attempt: "
       ]
      },
      {
       "output_type": "stream",
       "stream": "stdout",
       "text": [
        " 0 threshold: 0.4 peaks: 12\n",
        "Fitting individual peaks...\n",
        "=========================="
       ]
      },
      {
       "output_type": "stream",
       "stream": "stdout",
       "text": [
        "\n",
        "F moyenne\tF min\t\tF max\n",
        "76924.5152833 \t62175.6331669 \t96019.7236409\n",
        "==========================\n",
        "iteration  315, curve  91508"
       ]
      },
      {
       "output_type": "stream",
       "stream": "stdout",
       "text": [
        "\n",
        "Partitioning curve into peaks...\n",
        "attempt: "
       ]
      },
      {
       "output_type": "stream",
       "stream": "stdout",
       "text": [
        " 0 threshold: 0.4 peaks: 13\n",
        "Fitting individual peaks...\n",
        "=========================="
       ]
      },
      {
       "output_type": "stream",
       "stream": "stdout",
       "text": [
        "\n",
        "F moyenne\tF min\t\tF max\n",
        "71576.1437624 \t56849.0918293 \t77032.2599009\n",
        "==========================\n",
        "iteration  316, curve  91510"
       ]
      },
      {
       "output_type": "stream",
       "stream": "stdout",
       "text": [
        "\n",
        "Partitioning curve into peaks...\n",
        "attempt: "
       ]
      },
      {
       "output_type": "stream",
       "stream": "stdout",
       "text": [
        " 0 threshold: 0.4 peaks: 16\n",
        "Fitting individual peaks...\n",
        "=========================="
       ]
      },
      {
       "output_type": "stream",
       "stream": "stdout",
       "text": [
        "\n",
        "F moyenne\tF min\t\tF max\n",
        "75739.9991914 \t59945.4569213 \t89309.4104832"
       ]
      },
      {
       "output_type": "stream",
       "stream": "stdout",
       "text": [
        "\n",
        "==========================\n",
        "iteration  317, curve  91512"
       ]
      },
      {
       "output_type": "stream",
       "stream": "stdout",
       "text": [
        "\n",
        "Partitioning curve into peaks...\n",
        "attempt: "
       ]
      },
      {
       "output_type": "stream",
       "stream": "stdout",
       "text": [
        " 0 threshold: 0.4 peaks: 12\n",
        "Fitting individual peaks...\n",
        "=========================="
       ]
      },
      {
       "output_type": "stream",
       "stream": "stdout",
       "text": [
        "\n",
        "F moyenne\tF min\t\tF max\n",
        "72255.1118524 \t63493.0370749 \t76157.1637414\n",
        "==========================\n",
        "iteration  318, curve  91514"
       ]
      },
      {
       "output_type": "stream",
       "stream": "stdout",
       "text": [
        "\n",
        "Partitioning curve into peaks...\n",
        "attempt: "
       ]
      },
      {
       "output_type": "stream",
       "stream": "stdout",
       "text": [
        " 0 threshold: 0.4 peaks: 13\n",
        "Fitting individual peaks...\n",
        "=========================="
       ]
      },
      {
       "output_type": "stream",
       "stream": "stdout",
       "text": [
        "\n",
        "F moyenne\tF min\t\tF max\n",
        "72170.3223972 \t65458.1857232 \t76847.5456843"
       ]
      },
      {
       "output_type": "stream",
       "stream": "stdout",
       "text": [
        "\n",
        "==========================\n",
        "iteration  319, curve  91516"
       ]
      },
      {
       "output_type": "stream",
       "stream": "stdout",
       "text": [
        "\n",
        "Partitioning curve into peaks...\n",
        "attempt: "
       ]
      },
      {
       "output_type": "stream",
       "stream": "stdout",
       "text": [
        " 0 threshold: 0.4 peaks: 12\n",
        "Fitting individual peaks...\n",
        "=========================="
       ]
      },
      {
       "output_type": "stream",
       "stream": "stdout",
       "text": [
        "\n",
        "F moyenne\tF min\t\tF max\n",
        "73707.6899152 \t67828.5084195 \t80265.3333424\n",
        "==========================\n",
        "iteration  320, curve  91518"
       ]
      },
      {
       "output_type": "stream",
       "stream": "stdout",
       "text": [
        "\n",
        "Partitioning curve into peaks...\n",
        "attempt: "
       ]
      },
      {
       "output_type": "stream",
       "stream": "stdout",
       "text": [
        " 0 threshold: 0.4 peaks: 12\n",
        "Fitting individual peaks...\n",
        "=========================="
       ]
      },
      {
       "output_type": "stream",
       "stream": "stdout",
       "text": [
        "\n",
        "F moyenne\tF min\t\tF max\n",
        "75633.822705 \t69180.8966399 \t80704.2326138\n",
        "==========================\n",
        "iteration  321, curve  91520"
       ]
      },
      {
       "output_type": "stream",
       "stream": "stdout",
       "text": [
        "\n",
        "Partitioning curve into peaks...\n",
        "attempt: "
       ]
      },
      {
       "output_type": "stream",
       "stream": "stdout",
       "text": [
        " 0 threshold: 0.4 peaks: 12\n",
        "Fitting individual peaks...\n",
        "=========================="
       ]
      },
      {
       "output_type": "stream",
       "stream": "stdout",
       "text": [
        "\n",
        "F moyenne\tF min\t\tF max\n",
        "74850.4511682 \t71311.7165263 \t78050.9799398\n",
        "==========================\n",
        "iteration  322, curve  91522"
       ]
      },
      {
       "output_type": "stream",
       "stream": "stdout",
       "text": [
        "\n",
        "Partitioning curve into peaks...\n",
        "attempt: "
       ]
      },
      {
       "output_type": "stream",
       "stream": "stdout",
       "text": [
        " 0 threshold: 0.4 peaks: 12\n",
        "Fitting individual peaks...\n",
        "=========================="
       ]
      },
      {
       "output_type": "stream",
       "stream": "stdout",
       "text": [
        "\n",
        "F moyenne\tF min\t\tF max\n",
        "73114.4680744 \t67884.4005316 \t79161.5831548\n",
        "==========================\n",
        "iteration  323, curve  91524"
       ]
      },
      {
       "output_type": "stream",
       "stream": "stdout",
       "text": [
        "\n",
        "Partitioning curve into peaks...\n",
        "attempt: "
       ]
      },
      {
       "output_type": "stream",
       "stream": "stdout",
       "text": [
        " 0 threshold: 0.4 peaks: 12\n",
        "Fitting individual peaks...\n",
        "=========================="
       ]
      },
      {
       "output_type": "stream",
       "stream": "stdout",
       "text": [
        "\n",
        "F moyenne\tF min\t\tF max\n",
        "79330.3574713 \t73258.7622047 \t86322.7765294\n",
        "==========================\n",
        "iteration  324, curve  91526"
       ]
      },
      {
       "output_type": "stream",
       "stream": "stdout",
       "text": [
        "\n",
        "Partitioning curve into peaks...\n",
        "attempt: "
       ]
      },
      {
       "output_type": "stream",
       "stream": "stdout",
       "text": [
        " 0 threshold: 0.4 peaks: 12\n",
        "Fitting individual peaks...\n",
        "=========================="
       ]
      },
      {
       "output_type": "stream",
       "stream": "stdout",
       "text": [
        "\n",
        "F moyenne\tF min\t\tF max\n",
        "76256.4142973 \t71672.4810733 \t80012.1752201\n",
        "==========================\n",
        "iteration  325, curve  91528"
       ]
      },
      {
       "output_type": "stream",
       "stream": "stdout",
       "text": [
        "\n",
        "Partitioning curve into peaks...\n",
        "attempt: "
       ]
      },
      {
       "output_type": "stream",
       "stream": "stdout",
       "text": [
        " 0 threshold: 0.4 peaks: 12\n",
        "Fitting individual peaks...\n",
        "=========================="
       ]
      },
      {
       "output_type": "stream",
       "stream": "stdout",
       "text": [
        "\n",
        "F moyenne\tF min\t\tF max\n",
        "75784.1613863 \t71716.1837891 \t80076.5289463\n",
        "==========================\n",
        "iteration  326, curve  91530"
       ]
      },
      {
       "output_type": "stream",
       "stream": "stdout",
       "text": [
        "\n",
        "Partitioning curve into peaks...\n",
        "attempt: "
       ]
      },
      {
       "output_type": "stream",
       "stream": "stdout",
       "text": [
        " 0 threshold: 0.4 peaks: 12\n",
        "Fitting individual peaks...\n",
        "=========================="
       ]
      },
      {
       "output_type": "stream",
       "stream": "stdout",
       "text": [
        "\n",
        "F moyenne\tF min\t\tF max\n",
        "76046.4623708 \t67502.4223129 \t82124.8351417\n",
        "==========================\n",
        "iteration  327, curve  91532"
       ]
      },
      {
       "output_type": "stream",
       "stream": "stdout",
       "text": [
        "\n",
        "Partitioning curve into peaks...\n",
        "attempt: "
       ]
      },
      {
       "output_type": "stream",
       "stream": "stdout",
       "text": [
        " 0 threshold: 0.4 peaks: 12\n",
        "Fitting individual peaks...\n",
        "=========================="
       ]
      },
      {
       "output_type": "stream",
       "stream": "stdout",
       "text": [
        "\n",
        "F moyenne\tF min\t\tF max\n",
        "75279.7822948 \t69651.9527017 \t80442.7721295\n",
        "==========================\n",
        "iteration  328, curve  91534"
       ]
      },
      {
       "output_type": "stream",
       "stream": "stdout",
       "text": [
        "\n",
        "Partitioning curve into peaks...\n",
        "attempt: "
       ]
      },
      {
       "output_type": "stream",
       "stream": "stdout",
       "text": [
        " 0 threshold: 0.4 peaks: 12\n",
        "Fitting individual peaks...\n",
        "=========================="
       ]
      },
      {
       "output_type": "stream",
       "stream": "stdout",
       "text": [
        "\n",
        "F moyenne\tF min\t\tF max\n",
        "73134.189023 \t69262.5022258 \t76082.2694345\n",
        "==========================\n",
        "iteration  329, curve  91536"
       ]
      },
      {
       "output_type": "stream",
       "stream": "stdout",
       "text": [
        "\n",
        "Partitioning curve into peaks...\n",
        "attempt: "
       ]
      },
      {
       "output_type": "stream",
       "stream": "stdout",
       "text": [
        " 0 threshold: 0.4 peaks: 12\n",
        "Fitting individual peaks...\n",
        "=========================="
       ]
      },
      {
       "output_type": "stream",
       "stream": "stdout",
       "text": [
        "\n",
        "F moyenne\tF min\t\tF max\n",
        "76355.1197233 \t68635.1866557 \t88889.9166693\n",
        "==========================\n",
        "iteration  330, curve  91538"
       ]
      },
      {
       "output_type": "stream",
       "stream": "stdout",
       "text": [
        "\n",
        "Partitioning curve into peaks...\n",
        "attempt: "
       ]
      },
      {
       "output_type": "stream",
       "stream": "stdout",
       "text": [
        " 0 threshold: 0.4 peaks: 12\n",
        "Fitting individual peaks...\n",
        "=========================="
       ]
      },
      {
       "output_type": "stream",
       "stream": "stdout",
       "text": [
        "\n",
        "F moyenne\tF min\t\tF max\n",
        "75756.7329299 \t63095.1854087 \t89298.2089418\n",
        "==========================\n",
        "iteration  331, curve  91540"
       ]
      },
      {
       "output_type": "stream",
       "stream": "stdout",
       "text": [
        "\n",
        "Partitioning curve into peaks...\n",
        "attempt: "
       ]
      },
      {
       "output_type": "stream",
       "stream": "stdout",
       "text": [
        " 0 threshold: 0.4 peaks: 16\n",
        "Fitting individual peaks...\n",
        "=========================="
       ]
      },
      {
       "output_type": "stream",
       "stream": "stdout",
       "text": [
        "\n",
        "F moyenne\tF min\t\tF max\n",
        "70087.9174859 \t40851.469732 \t82241.8030801"
       ]
      },
      {
       "output_type": "stream",
       "stream": "stdout",
       "text": [
        "\n",
        "==========================\n",
        "iteration  332, curve  91542"
       ]
      },
      {
       "output_type": "stream",
       "stream": "stdout",
       "text": [
        "\n",
        "Partitioning curve into peaks...\n",
        "attempt: "
       ]
      },
      {
       "output_type": "stream",
       "stream": "stdout",
       "text": [
        " 0 threshold: 0.4 peaks: 12\n",
        "Fitting individual peaks...\n",
        "=========================="
       ]
      },
      {
       "output_type": "stream",
       "stream": "stdout",
       "text": [
        "\n",
        "F moyenne\tF min\t\tF max\n",
        "77263.0615541 \t62994.8621056 \t96709.1637296\n",
        "==========================\n",
        "iteration  333, curve  91544"
       ]
      },
      {
       "output_type": "stream",
       "stream": "stdout",
       "text": [
        "\n",
        "Partitioning curve into peaks...\n",
        "attempt: "
       ]
      },
      {
       "output_type": "stream",
       "stream": "stdout",
       "text": [
        " 0 threshold: 0.4 peaks: 13\n",
        "Fitting individual peaks...\n",
        "=========================="
       ]
      },
      {
       "output_type": "stream",
       "stream": "stdout",
       "text": [
        "\n",
        "F moyenne\tF min\t\tF max\n",
        "73521.6275973 \t64581.277578 \t76990.6869639\n",
        "==========================\n",
        "iteration  334, curve  91546"
       ]
      },
      {
       "output_type": "stream",
       "stream": "stdout",
       "text": [
        "\n",
        "Partitioning curve into peaks...\n",
        "attempt: "
       ]
      },
      {
       "output_type": "stream",
       "stream": "stdout",
       "text": [
        " 0 threshold: 0.4 peaks: 16\n",
        "Fitting individual peaks...\n",
        "=========================="
       ]
      },
      {
       "output_type": "stream",
       "stream": "stdout",
       "text": [
        "\n",
        "F moyenne\tF min\t\tF max\n",
        "71850.010906 \t57572.3199487 \t78030.3117241"
       ]
      },
      {
       "output_type": "stream",
       "stream": "stdout",
       "text": [
        "\n",
        "==========================\n",
        "iteration  335, curve  91548"
       ]
      },
      {
       "output_type": "stream",
       "stream": "stdout",
       "text": [
        "\n",
        "Partitioning curve into peaks...\n",
        "attempt: "
       ]
      },
      {
       "output_type": "stream",
       "stream": "stdout",
       "text": [
        " 0 threshold: 0.4 peaks: 12\n",
        "Fitting individual peaks...\n",
        "=========================="
       ]
      },
      {
       "output_type": "stream",
       "stream": "stdout",
       "text": [
        "\n",
        "F moyenne\tF min\t\tF max\n",
        "73412.5839334 \t63505.0040766 \t78011.4636646\n",
        "==========================\n",
        "iteration  336, curve  91550"
       ]
      },
      {
       "output_type": "stream",
       "stream": "stdout",
       "text": [
        "\n",
        "Partitioning curve into peaks...\n",
        "attempt: "
       ]
      },
      {
       "output_type": "stream",
       "stream": "stdout",
       "text": [
        " 0 threshold: 0.4 peaks: 13\n",
        "Fitting individual peaks...\n",
        "=========================="
       ]
      },
      {
       "output_type": "stream",
       "stream": "stdout",
       "text": [
        "\n",
        "F moyenne\tF min\t\tF max\n",
        "74328.930376 \t68428.2203159 \t80411.217681"
       ]
      },
      {
       "output_type": "stream",
       "stream": "stdout",
       "text": [
        "\n",
        "==========================\n",
        "iteration  337, curve  91552"
       ]
      },
      {
       "output_type": "stream",
       "stream": "stdout",
       "text": [
        "\n",
        "Partitioning curve into peaks...\n",
        "attempt: "
       ]
      },
      {
       "output_type": "stream",
       "stream": "stdout",
       "text": [
        " 0 threshold: 0.4 peaks: 12\n",
        "Fitting individual peaks...\n",
        "=========================="
       ]
      },
      {
       "output_type": "stream",
       "stream": "stdout",
       "text": [
        "\n",
        "F moyenne\tF min\t\tF max\n",
        "75060.2505908 \t68848.8720307 \t82739.1509621\n",
        "==========================\n",
        "iteration  338, curve  91554"
       ]
      },
      {
       "output_type": "stream",
       "stream": "stdout",
       "text": [
        "\n",
        "Partitioning curve into peaks...\n",
        "attempt: "
       ]
      },
      {
       "output_type": "stream",
       "stream": "stdout",
       "text": [
        " 0 threshold: 0.4 peaks: 12\n",
        "Fitting individual peaks...\n",
        "=========================="
       ]
      },
      {
       "output_type": "stream",
       "stream": "stdout",
       "text": [
        "\n",
        "F moyenne\tF min\t\tF max\n",
        "74280.4641064 \t66618.0626994 \t78961.8096645\n",
        "==========================\n",
        "iteration  339, curve  91556"
       ]
      },
      {
       "output_type": "stream",
       "stream": "stdout",
       "text": [
        "\n",
        "Partitioning curve into peaks...\n",
        "attempt: "
       ]
      },
      {
       "output_type": "stream",
       "stream": "stdout",
       "text": [
        " 0 threshold: 0.4 peaks: 12\n",
        "Fitting individual peaks...\n",
        "=========================="
       ]
      },
      {
       "output_type": "stream",
       "stream": "stdout",
       "text": [
        "\n",
        "F moyenne\tF min\t\tF max\n",
        "77571.6557782 \t73593.7147771 \t82495.345486\n",
        "==========================\n",
        "iteration  340, curve  91558"
       ]
      },
      {
       "output_type": "stream",
       "stream": "stdout",
       "text": [
        "\n",
        "Partitioning curve into peaks...\n",
        "attempt: "
       ]
      },
      {
       "output_type": "stream",
       "stream": "stdout",
       "text": [
        " 0 threshold: 0.4 peaks: 12\n",
        "Fitting individual peaks...\n",
        "=========================="
       ]
      },
      {
       "output_type": "stream",
       "stream": "stdout",
       "text": [
        "\n",
        "F moyenne\tF min\t\tF max\n",
        "73216.290582 \t68847.8547552 \t75687.8049798"
       ]
      },
      {
       "output_type": "stream",
       "stream": "stdout",
       "text": [
        "\n",
        "==========================\n",
        "iteration  341, curve  91560"
       ]
      },
      {
       "output_type": "stream",
       "stream": "stdout",
       "text": [
        "\n",
        "Partitioning curve into peaks...\n",
        "attempt: "
       ]
      },
      {
       "output_type": "stream",
       "stream": "stdout",
       "text": [
        " 0 threshold: 0.4 peaks: 12\n",
        "Fitting individual peaks...\n",
        "=========================="
       ]
      },
      {
       "output_type": "stream",
       "stream": "stdout",
       "text": [
        "\n",
        "F moyenne\tF min\t\tF max\n",
        "73549.1075428 \t65029.6418773 \t76932.1277738\n",
        "==========================\n",
        "iteration  342, curve  91562"
       ]
      },
      {
       "output_type": "stream",
       "stream": "stdout",
       "text": [
        "\n",
        "Partitioning curve into peaks...\n",
        "attempt: "
       ]
      },
      {
       "output_type": "stream",
       "stream": "stdout",
       "text": [
        " 0 threshold: 0.4 peaks: 12\n",
        "Fitting individual peaks...\n",
        "=========================="
       ]
      },
      {
       "output_type": "stream",
       "stream": "stdout",
       "text": [
        "\n",
        "F moyenne\tF min\t\tF max\n",
        "74849.7641739 \t69904.0112431 \t82107.4889023\n",
        "==========================\n",
        "iteration  343, curve  91564"
       ]
      },
      {
       "output_type": "stream",
       "stream": "stdout",
       "text": [
        "\n",
        "Partitioning curve into peaks...\n",
        "attempt: "
       ]
      },
      {
       "output_type": "stream",
       "stream": "stdout",
       "text": [
        " 0 threshold: 0.4 peaks: 12\n",
        "Fitting individual peaks...\n",
        "=========================="
       ]
      },
      {
       "output_type": "stream",
       "stream": "stdout",
       "text": [
        "\n",
        "F moyenne\tF min\t\tF max\n",
        "76889.3066734 \t70015.2324448 \t82223.849169\n",
        "==========================\n",
        "iteration  344, curve  91566"
       ]
      },
      {
       "output_type": "stream",
       "stream": "stdout",
       "text": [
        "\n",
        "Partitioning curve into peaks...\n",
        "attempt: "
       ]
      },
      {
       "output_type": "stream",
       "stream": "stdout",
       "text": [
        " 0 threshold: 0.4 peaks: 12\n",
        "Fitting individual peaks...\n",
        "=========================="
       ]
      },
      {
       "output_type": "stream",
       "stream": "stdout",
       "text": [
        "\n",
        "F moyenne\tF min\t\tF max\n",
        "73644.5753077 \t67569.2648986 \t79148.3689344"
       ]
      },
      {
       "output_type": "stream",
       "stream": "stdout",
       "text": [
        "\n",
        "==========================\n",
        "iteration  345, curve  91568"
       ]
      },
      {
       "output_type": "stream",
       "stream": "stdout",
       "text": [
        "\n",
        "Partitioning curve into peaks...\n",
        "attempt: "
       ]
      },
      {
       "output_type": "stream",
       "stream": "stdout",
       "text": [
        " 0 threshold: 0.4 peaks: 16\n",
        "Fitting individual peaks...\n",
        "=========================="
       ]
      },
      {
       "output_type": "stream",
       "stream": "stdout",
       "text": [
        "\n",
        "F moyenne\tF min\t\tF max\n",
        "75266.8147843 \t67741.4671249 \t81324.6451428"
       ]
      },
      {
       "output_type": "stream",
       "stream": "stdout",
       "text": [
        "\n",
        "==========================\n",
        "iteration  346, curve  91570"
       ]
      },
      {
       "output_type": "stream",
       "stream": "stdout",
       "text": [
        "\n",
        "Partitioning curve into peaks...\n",
        "attempt: "
       ]
      },
      {
       "output_type": "stream",
       "stream": "stdout",
       "text": [
        " 0 threshold: 0.4 peaks: 12\n",
        "Fitting individual peaks...\n",
        "=========================="
       ]
      },
      {
       "output_type": "stream",
       "stream": "stdout",
       "text": [
        "\n",
        "F moyenne\tF min\t\tF max\n",
        "70620.5764393 \t59502.4379101 \t75395.1781327\n",
        "==========================\n",
        "iteration  347, curve  91572"
       ]
      },
      {
       "output_type": "stream",
       "stream": "stdout",
       "text": [
        "\n",
        "Partitioning curve into peaks...\n",
        "attempt: "
       ]
      },
      {
       "output_type": "stream",
       "stream": "stdout",
       "text": [
        " 0 threshold: 0.4 peaks: 12\n",
        "Fitting individual peaks...\n",
        "=========================="
       ]
      },
      {
       "output_type": "stream",
       "stream": "stdout",
       "text": [
        "\n",
        "F moyenne\tF min\t\tF max\n",
        "71605.1865081 \t60048.4187673 \t77473.959844\n",
        "==========================\n",
        "iteration  348, curve  91574"
       ]
      },
      {
       "output_type": "stream",
       "stream": "stdout",
       "text": [
        "\n",
        "Partitioning curve into peaks...\n",
        "attempt: "
       ]
      },
      {
       "output_type": "stream",
       "stream": "stdout",
       "text": [
        " 0 threshold: 0.4 peaks: 13\n",
        "Fitting individual peaks...\n",
        "=========================="
       ]
      },
      {
       "output_type": "stream",
       "stream": "stdout",
       "text": [
        "\n",
        "F moyenne\tF min\t\tF max\n",
        "74116.4848962 \t65105.67669 \t84672.5851375"
       ]
      },
      {
       "output_type": "stream",
       "stream": "stdout",
       "text": [
        "\n",
        "==========================\n",
        "iteration  349, curve  91576"
       ]
      },
      {
       "output_type": "stream",
       "stream": "stdout",
       "text": [
        "\n",
        "Partitioning curve into peaks...\n",
        "attempt: "
       ]
      },
      {
       "output_type": "stream",
       "stream": "stdout",
       "text": [
        " 0 threshold: 0.4 peaks: 12\n",
        "Fitting individual peaks...\n",
        "=========================="
       ]
      },
      {
       "output_type": "stream",
       "stream": "stdout",
       "text": [
        "\n",
        "F moyenne\tF min\t\tF max\n",
        "72522.2436614 \t67387.0157974 \t75704.6389347"
       ]
      },
      {
       "output_type": "stream",
       "stream": "stdout",
       "text": [
        "\n",
        "==========================\n",
        "iteration  350, curve  91578"
       ]
      },
      {
       "output_type": "stream",
       "stream": "stdout",
       "text": [
        "\n",
        "Partitioning curve into peaks...\n",
        "attempt: "
       ]
      },
      {
       "output_type": "stream",
       "stream": "stdout",
       "text": [
        " 0 threshold: 0.4 peaks: 12\n",
        "Fitting individual peaks...\n",
        "=========================="
       ]
      },
      {
       "output_type": "stream",
       "stream": "stdout",
       "text": [
        "\n",
        "F moyenne\tF min\t\tF max\n",
        "72006.0268646 \t64312.0549106 \t77972.6742401"
       ]
      },
      {
       "output_type": "stream",
       "stream": "stdout",
       "text": [
        "\n",
        "==========================\n",
        "iteration  351, curve  91580"
       ]
      },
      {
       "output_type": "stream",
       "stream": "stdout",
       "text": [
        "\n",
        "Partitioning curve into peaks...\n",
        "attempt: "
       ]
      },
      {
       "output_type": "stream",
       "stream": "stdout",
       "text": [
        " 0 threshold: 0.4 peaks: 12\n",
        "Fitting individual peaks...\n",
        "=========================="
       ]
      },
      {
       "output_type": "stream",
       "stream": "stdout",
       "text": [
        "\n",
        "F moyenne\tF min\t\tF max\n",
        "70244.9803167 \t64840.2525728 \t74567.6631902"
       ]
      },
      {
       "output_type": "stream",
       "stream": "stdout",
       "text": [
        "\n",
        "==========================\n",
        "iteration  352, curve  91582"
       ]
      },
      {
       "output_type": "stream",
       "stream": "stdout",
       "text": [
        "\n",
        "Partitioning curve into peaks...\n",
        "attempt: "
       ]
      },
      {
       "output_type": "stream",
       "stream": "stdout",
       "text": [
        " 0 threshold: 0.4 peaks: 12\n",
        "Fitting individual peaks...\n",
        "=========================="
       ]
      },
      {
       "output_type": "stream",
       "stream": "stdout",
       "text": [
        "\n",
        "F moyenne\tF min\t\tF max\n",
        "72849.0190979 \t68284.7793861 \t79643.9141713\n",
        "==========================\n",
        "iteration  353, curve  91584"
       ]
      },
      {
       "output_type": "stream",
       "stream": "stdout",
       "text": [
        "\n",
        "Partitioning curve into peaks...\n",
        "attempt: "
       ]
      },
      {
       "output_type": "stream",
       "stream": "stdout",
       "text": [
        " 0 threshold: 0.4 peaks: 12\n",
        "Fitting individual peaks...\n",
        "=========================="
       ]
      },
      {
       "output_type": "stream",
       "stream": "stdout",
       "text": [
        "\n",
        "F moyenne\tF min\t\tF max\n",
        "73120.6082295 \t68459.0191643 \t76692.4189349\n",
        "==========================\n",
        "iteration  354, curve  91586"
       ]
      },
      {
       "output_type": "stream",
       "stream": "stdout",
       "text": [
        "\n",
        "Partitioning curve into peaks...\n",
        "attempt: "
       ]
      },
      {
       "output_type": "stream",
       "stream": "stdout",
       "text": [
        " 0 threshold: 0.4 peaks: 12\n",
        "Fitting individual peaks...\n",
        "=========================="
       ]
      },
      {
       "output_type": "stream",
       "stream": "stdout",
       "text": [
        "\n",
        "F moyenne\tF min\t\tF max\n",
        "73451.0343874 \t68053.6372578 \t80887.8442062\n",
        "==========================\n",
        "iteration  355, curve  91588"
       ]
      },
      {
       "output_type": "stream",
       "stream": "stdout",
       "text": [
        "\n",
        "Partitioning curve into peaks...\n",
        "attempt: "
       ]
      },
      {
       "output_type": "stream",
       "stream": "stdout",
       "text": [
        " 0 threshold: 0.4 peaks: 16\n",
        "Fitting individual peaks...\n",
        "=========================="
       ]
      },
      {
       "output_type": "stream",
       "stream": "stdout",
       "text": [
        "\n",
        "F moyenne\tF min\t\tF max\n",
        "72796.1116298 \t57164.9151198 \t102541.742923"
       ]
      },
      {
       "output_type": "stream",
       "stream": "stdout",
       "text": [
        "\n",
        "==========================\n",
        "iteration  356, curve  91590"
       ]
      },
      {
       "output_type": "stream",
       "stream": "stdout",
       "text": [
        "\n",
        "Partitioning curve into peaks...\n",
        "attempt: "
       ]
      },
      {
       "output_type": "stream",
       "stream": "stdout",
       "text": [
        " 0 threshold: 0.4 peaks: 12\n",
        "Fitting individual peaks...\n",
        "=========================="
       ]
      },
      {
       "output_type": "stream",
       "stream": "stdout",
       "text": [
        "\n",
        "F moyenne\tF min\t\tF max\n",
        "1475092.65848 \t24679.3850228 \t1685206.72789\n",
        "==========================\n",
        "iteration  357, curve  91592"
       ]
      },
      {
       "output_type": "stream",
       "stream": "stdout",
       "text": [
        "\n",
        "Partitioning curve into peaks...\n",
        "attempt: "
       ]
      },
      {
       "output_type": "stream",
       "stream": "stdout",
       "text": [
        " 0 threshold: 0.4 peaks: 13\n",
        "Fitting individual peaks...\n",
        "=========================="
       ]
      },
      {
       "output_type": "stream",
       "stream": "stdout",
       "text": [
        "\n",
        "F moyenne\tF min\t\tF max\n",
        "67103.4393176 \t55103.8371798 \t75025.272146\n",
        "==========================\n",
        "iteration  358, curve  91594"
       ]
      },
      {
       "output_type": "stream",
       "stream": "stdout",
       "text": [
        "\n",
        "Partitioning curve into peaks...\n",
        "attempt: "
       ]
      },
      {
       "output_type": "stream",
       "stream": "stdout",
       "text": [
        " 0 threshold: 0.4 peaks: 15\n",
        "Fitting individual peaks...\n",
        "=========================="
       ]
      },
      {
       "output_type": "stream",
       "stream": "stdout",
       "text": [
        "\n",
        "F moyenne\tF min\t\tF max\n",
        "48781.7795818 \t34853.2329213 \t77886.3173021"
       ]
      },
      {
       "output_type": "stream",
       "stream": "stdout",
       "text": [
        "\n",
        "==========================\n",
        "iteration  359, curve  91596"
       ]
      },
      {
       "output_type": "stream",
       "stream": "stdout",
       "text": [
        "\n",
        "Partitioning curve into peaks...\n",
        "attempt: "
       ]
      },
      {
       "output_type": "stream",
       "stream": "stdout",
       "text": [
        " 0 threshold: 0.4 peaks: 12\n",
        "Fitting individual peaks...\n",
        "=========================="
       ]
      },
      {
       "output_type": "stream",
       "stream": "stdout",
       "text": [
        "\n",
        "F moyenne\tF min\t\tF max\n",
        "57449.7764161 \t35289.9963944 \t75987.6506834\n",
        "==========================\n",
        "iteration  360, curve  91598"
       ]
      },
      {
       "output_type": "stream",
       "stream": "stdout",
       "text": [
        "\n",
        "Partitioning curve into peaks...\n",
        "attempt: "
       ]
      },
      {
       "output_type": "stream",
       "stream": "stdout",
       "text": [
        " 0 threshold: 0.4 peaks: 12\n",
        "Fitting individual peaks...\n",
        "=========================="
       ]
      },
      {
       "output_type": "stream",
       "stream": "stdout",
       "text": [
        "\n",
        "F moyenne\tF min\t\tF max\n",
        "50287.7490628 \t29091.6015502 \t72483.7801546\n",
        "==========================\n",
        "iteration  361, curve  91600"
       ]
      },
      {
       "output_type": "stream",
       "stream": "stdout",
       "text": [
        "\n",
        "Partitioning curve into peaks...\n",
        "attempt: "
       ]
      },
      {
       "output_type": "stream",
       "stream": "stdout",
       "text": [
        " 0 threshold: 0.4 peaks: 12\n",
        "Fitting individual peaks...\n",
        "=========================="
       ]
      },
      {
       "output_type": "stream",
       "stream": "stdout",
       "text": [
        "\n",
        "F moyenne\tF min\t\tF max\n",
        "45433.468258 \t21590.5996777 \t60342.1520011\n",
        "==========================\n",
        "iteration  362, curve  91602"
       ]
      },
      {
       "output_type": "stream",
       "stream": "stdout",
       "text": [
        "\n",
        "Partitioning curve into peaks...\n",
        "attempt: "
       ]
      },
      {
       "output_type": "stream",
       "stream": "stdout",
       "text": [
        " 0 threshold: 0.4 peaks: 12\n",
        "Fitting individual peaks...\n",
        "=========================="
       ]
      },
      {
       "output_type": "stream",
       "stream": "stdout",
       "text": [
        "\n",
        "F moyenne\tF min\t\tF max\n",
        "55859.7780211 \t7548.25389241 \t84348.8249057"
       ]
      },
      {
       "output_type": "stream",
       "stream": "stdout",
       "text": [
        "\n",
        "==========================\n",
        "iteration  363, curve  91604"
       ]
      },
      {
       "output_type": "stream",
       "stream": "stdout",
       "text": [
        "\n",
        "Partitioning curve into peaks...\n",
        "attempt: "
       ]
      },
      {
       "output_type": "stream",
       "stream": "stdout",
       "text": [
        " 0 threshold: 0.4 peaks: 12\n",
        "Fitting individual peaks...\n",
        "=========================="
       ]
      },
      {
       "output_type": "stream",
       "stream": "stdout",
       "text": [
        "\n",
        "F moyenne\tF min\t\tF max\n",
        "54133.0701784 \t20564.8212669 \t74326.9228896\n",
        "==========================\n",
        "iteration  364, curve  91606"
       ]
      },
      {
       "output_type": "stream",
       "stream": "stdout",
       "text": [
        "\n",
        "Partitioning curve into peaks...\n",
        "attempt: "
       ]
      },
      {
       "output_type": "stream",
       "stream": "stdout",
       "text": [
        " 0 threshold: 0.4 peaks: 12\n",
        "Fitting individual peaks...\n",
        "=========================="
       ]
      },
      {
       "output_type": "stream",
       "stream": "stdout",
       "text": [
        "\n",
        "F moyenne\tF min\t\tF max\n",
        "72999.5708553 \t66244.016093 \t79196.9253956\n",
        "==========================\n",
        "iteration  365, curve  91608"
       ]
      },
      {
       "output_type": "stream",
       "stream": "stdout",
       "text": [
        "\n",
        "Partitioning curve into peaks...\n",
        "attempt: "
       ]
      },
      {
       "output_type": "stream",
       "stream": "stdout",
       "text": [
        " 0 threshold: 0.4 peaks: 13\n",
        "Fitting individual peaks...\n",
        "=========================="
       ]
      },
      {
       "output_type": "stream",
       "stream": "stdout",
       "text": [
        "\n",
        "F moyenne\tF min\t\tF max\n",
        "72611.4695446 \t60870.3375691 \t78267.4323127"
       ]
      },
      {
       "output_type": "stream",
       "stream": "stdout",
       "text": [
        "\n",
        "==========================\n",
        "iteration  366, curve  91610"
       ]
      },
      {
       "output_type": "stream",
       "stream": "stdout",
       "text": [
        "\n",
        "Partitioning curve into peaks...\n",
        "attempt: "
       ]
      },
      {
       "output_type": "stream",
       "stream": "stdout",
       "text": [
        " 0 threshold: 0.4 peaks: 16\n",
        "Fitting individual peaks...\n",
        "=========================="
       ]
      },
      {
       "output_type": "stream",
       "stream": "stdout",
       "text": [
        "\n",
        "F moyenne\tF min\t\tF max\n",
        "75243.3207204 \t70389.9915057 \t81355.4125325"
       ]
      },
      {
       "output_type": "stream",
       "stream": "stdout",
       "text": [
        "\n",
        "==========================\n",
        "iteration  367, curve  91612"
       ]
      },
      {
       "output_type": "stream",
       "stream": "stdout",
       "text": [
        "\n",
        "Partitioning curve into peaks...\n",
        "attempt: "
       ]
      },
      {
       "output_type": "stream",
       "stream": "stdout",
       "text": [
        " 0 threshold: 0.4 peaks: 12\n",
        "Fitting individual peaks...\n",
        "=========================="
       ]
      },
      {
       "output_type": "stream",
       "stream": "stdout",
       "text": [
        "\n",
        "F moyenne\tF min\t\tF max\n",
        "72068.9222709 \t52747.5284624 \t80002.9751016\n",
        "==========================\n"
       ]
      },
      {
       "ename": "RuntimeError",
       "evalue": "Could not allocate memory for image",
       "output_type": "pyerr",
       "traceback": [
        "\u001b[1;31m---------------------------------------------------------------------------\u001b[0m\n\u001b[1;31mRuntimeError\u001b[0m                              Traceback (most recent call last)",
        "\u001b[1;32m<ipython-input-2-6ec5baed352a>\u001b[0m in \u001b[0;36m<module>\u001b[1;34m()\u001b[0m\n\u001b[0;32m      3\u001b[0m \u001b[1;32mfor\u001b[0m \u001b[0mi\u001b[0m\u001b[1;33m,\u001b[0m\u001b[0mpk\u001b[0m \u001b[1;32min\u001b[0m \u001b[0menumerate\u001b[0m\u001b[1;33m(\u001b[0m\u001b[0mpks\u001b[0m\u001b[1;33m)\u001b[0m\u001b[1;33m:\u001b[0m\u001b[1;33m\u001b[0m\u001b[0m\n\u001b[0;32m      4\u001b[0m     \u001b[1;32mprint\u001b[0m \u001b[1;34m\"iteration {0:4}, curve {1:6}\"\u001b[0m\u001b[1;33m.\u001b[0m\u001b[0mformat\u001b[0m\u001b[1;33m(\u001b[0m\u001b[0mi\u001b[0m\u001b[1;33m,\u001b[0m \u001b[0mpk\u001b[0m\u001b[1;33m)\u001b[0m\u001b[1;33m\u001b[0m\u001b[0m\n\u001b[1;32m----> 5\u001b[1;33m     \u001b[0mfinesse\u001b[0m\u001b[1;33m.\u001b[0m\u001b[0manalyze_save_summary\u001b[0m\u001b[1;33m(\u001b[0m\u001b[0mpk\u001b[0m\u001b[1;33m)\u001b[0m\u001b[1;33m\u001b[0m\u001b[0m\n\u001b[0m\u001b[0;32m      6\u001b[0m     \u001b[0mgc\u001b[0m\u001b[1;33m.\u001b[0m\u001b[0mcollect\u001b[0m\u001b[1;33m(\u001b[0m\u001b[1;33m)\u001b[0m\u001b[1;33m\u001b[0m\u001b[0m\n",
        "\u001b[1;32mC:\\Users\\Remi\\Documents\\GitHub\\pyinstruments\\users\\remi\\finesse.pyc\u001b[0m in \u001b[0;36manalyze_save_summary\u001b[1;34m(id, hide)\u001b[0m\n\u001b[0;32m   1167\u001b[0m \u001b[1;32mdef\u001b[0m \u001b[0manalyze_save_summary\u001b[0m\u001b[1;33m(\u001b[0m\u001b[0mid\u001b[0m\u001b[1;33m,\u001b[0m\u001b[0mhide\u001b[0m\u001b[1;33m=\u001b[0m\u001b[0mFalse\u001b[0m\u001b[1;33m)\u001b[0m\u001b[1;33m:\u001b[0m\u001b[1;33m\u001b[0m\u001b[0m\n\u001b[0;32m   1168\u001b[0m     \u001b[0mfsr\u001b[0m \u001b[1;33m=\u001b[0m \u001b[0mFSRScan\u001b[0m\u001b[1;33m(\u001b[0m\u001b[0mid\u001b[0m\u001b[1;33m)\u001b[0m\u001b[1;33m\u001b[0m\u001b[0m\n\u001b[1;32m-> 1169\u001b[1;33m     \u001b[0mfsr\u001b[0m\u001b[1;33m.\u001b[0m\u001b[0msave_summary\u001b[0m\u001b[1;33m(\u001b[0m\u001b[0mnumber\u001b[0m\u001b[1;33m=\u001b[0m\u001b[0mNone\u001b[0m\u001b[1;33m,\u001b[0m\u001b[0mhide\u001b[0m\u001b[1;33m=\u001b[0m\u001b[0mhide\u001b[0m\u001b[1;33m)\u001b[0m\u001b[1;33m\u001b[0m\u001b[0m\n\u001b[0m\u001b[0;32m   1170\u001b[0m \u001b[1;33m\u001b[0m\u001b[0m\n\u001b[0;32m   1171\u001b[0m \u001b[1;32mdef\u001b[0m \u001b[0manalyze_savesummary_all_childs\u001b[0m\u001b[1;33m(\u001b[0m\u001b[0mid\u001b[0m\u001b[1;33m)\u001b[0m\u001b[1;33m:\u001b[0m\u001b[1;33m\u001b[0m\u001b[0m\n",
        "\u001b[1;32mC:\\Users\\Remi\\Documents\\GitHub\\pyinstruments\\users\\remi\\finesse.pyc\u001b[0m in \u001b[0;36msave_summary\u001b[1;34m(self, number, hide)\u001b[0m\n\u001b[0;32m   1125\u001b[0m     \u001b[1;32mdef\u001b[0m \u001b[0msave_summary\u001b[0m\u001b[1;33m(\u001b[0m\u001b[0mself\u001b[0m\u001b[1;33m,\u001b[0m\u001b[0mnumber\u001b[0m\u001b[1;33m=\u001b[0m\u001b[0mNone\u001b[0m\u001b[1;33m,\u001b[0m\u001b[0mhide\u001b[0m\u001b[1;33m=\u001b[0m\u001b[0mFalse\u001b[0m\u001b[1;33m)\u001b[0m\u001b[1;33m:\u001b[0m\u001b[1;33m\u001b[0m\u001b[0m\n\u001b[0;32m   1126\u001b[0m         \u001b[0mfig\u001b[0m \u001b[1;33m=\u001b[0m \u001b[0mself\u001b[0m\u001b[1;33m.\u001b[0m\u001b[0m_plot_summary\u001b[0m\u001b[1;33m(\u001b[0m\u001b[0mnumber\u001b[0m\u001b[1;33m=\u001b[0m\u001b[0mnumber\u001b[0m\u001b[1;33m,\u001b[0m\u001b[0mhide\u001b[0m\u001b[1;33m=\u001b[0m\u001b[0mhide\u001b[0m\u001b[1;33m)\u001b[0m\u001b[1;33m\u001b[0m\u001b[0m\n\u001b[1;32m-> 1127\u001b[1;33m         \u001b[0mfig\u001b[0m\u001b[1;33m.\u001b[0m\u001b[0msavefig\u001b[0m\u001b[1;33m(\u001b[0m\u001b[0mself\u001b[0m\u001b[1;33m.\u001b[0m\u001b[0mcurve\u001b[0m\u001b[1;33m.\u001b[0m\u001b[0mget_or_create_dir\u001b[0m\u001b[1;33m(\u001b[0m\u001b[1;33m)\u001b[0m \u001b[1;33m+\u001b[0m \u001b[1;34m'/display.png'\u001b[0m\u001b[1;33m)\u001b[0m\u001b[1;33m\u001b[0m\u001b[0m\n\u001b[0m\u001b[0;32m   1128\u001b[0m         \u001b[0mself\u001b[0m\u001b[1;33m.\u001b[0m\u001b[0mcurve\u001b[0m\u001b[1;33m.\u001b[0m\u001b[0mparams\u001b[0m\u001b[1;33m[\u001b[0m\u001b[1;34m'peak_count'\u001b[0m\u001b[1;33m]\u001b[0m \u001b[1;33m=\u001b[0m \u001b[0mlen\u001b[0m\u001b[1;33m(\u001b[0m\u001b[0mself\u001b[0m\u001b[1;33m.\u001b[0m\u001b[0mdata_peaks\u001b[0m\u001b[1;33m.\u001b[0m\u001b[0mtimes\u001b[0m\u001b[1;33m)\u001b[0m\u001b[1;33m\u001b[0m\u001b[0m\n\u001b[0;32m   1129\u001b[0m         \u001b[0mself\u001b[0m\u001b[1;33m.\u001b[0m\u001b[0mcurve\u001b[0m\u001b[1;33m.\u001b[0m\u001b[0mparams\u001b[0m\u001b[1;33m[\u001b[0m\u001b[1;34m'finesse'\u001b[0m\u001b[1;33m]\u001b[0m \u001b[1;33m=\u001b[0m \u001b[0mself\u001b[0m\u001b[1;33m.\u001b[0m\u001b[0mmean_finesse\u001b[0m\u001b[1;33m\u001b[0m\u001b[0m\n",
        "\u001b[1;32mC:\\Python27\\lib\\site-packages\\matplotlib\\figure.pyc\u001b[0m in \u001b[0;36msavefig\u001b[1;34m(self, *args, **kwargs)\u001b[0m\n\u001b[0;32m   1419\u001b[0m             \u001b[0mself\u001b[0m\u001b[1;33m.\u001b[0m\u001b[0mset_frameon\u001b[0m\u001b[1;33m(\u001b[0m\u001b[0mframeon\u001b[0m\u001b[1;33m)\u001b[0m\u001b[1;33m\u001b[0m\u001b[0m\n\u001b[0;32m   1420\u001b[0m \u001b[1;33m\u001b[0m\u001b[0m\n\u001b[1;32m-> 1421\u001b[1;33m         \u001b[0mself\u001b[0m\u001b[1;33m.\u001b[0m\u001b[0mcanvas\u001b[0m\u001b[1;33m.\u001b[0m\u001b[0mprint_figure\u001b[0m\u001b[1;33m(\u001b[0m\u001b[1;33m*\u001b[0m\u001b[0margs\u001b[0m\u001b[1;33m,\u001b[0m \u001b[1;33m**\u001b[0m\u001b[0mkwargs\u001b[0m\u001b[1;33m)\u001b[0m\u001b[1;33m\u001b[0m\u001b[0m\n\u001b[0m\u001b[0;32m   1422\u001b[0m \u001b[1;33m\u001b[0m\u001b[0m\n\u001b[0;32m   1423\u001b[0m         \u001b[1;32mif\u001b[0m \u001b[0mframeon\u001b[0m\u001b[1;33m:\u001b[0m\u001b[1;33m\u001b[0m\u001b[0m\n",
        "\u001b[1;32mC:\\Python27\\lib\\site-packages\\matplotlib\\backends\\backend_qt4agg.pyc\u001b[0m in \u001b[0;36mprint_figure\u001b[1;34m(self, *args, **kwargs)\u001b[0m\n\u001b[0;32m    166\u001b[0m     \u001b[1;32mdef\u001b[0m \u001b[0mprint_figure\u001b[0m\u001b[1;33m(\u001b[0m\u001b[0mself\u001b[0m\u001b[1;33m,\u001b[0m \u001b[1;33m*\u001b[0m\u001b[0margs\u001b[0m\u001b[1;33m,\u001b[0m \u001b[1;33m**\u001b[0m\u001b[0mkwargs\u001b[0m\u001b[1;33m)\u001b[0m\u001b[1;33m:\u001b[0m\u001b[1;33m\u001b[0m\u001b[0m\n\u001b[0;32m    167\u001b[0m         \u001b[0mFigureCanvasAgg\u001b[0m\u001b[1;33m.\u001b[0m\u001b[0mprint_figure\u001b[0m\u001b[1;33m(\u001b[0m\u001b[0mself\u001b[0m\u001b[1;33m,\u001b[0m \u001b[1;33m*\u001b[0m\u001b[0margs\u001b[0m\u001b[1;33m,\u001b[0m \u001b[1;33m**\u001b[0m\u001b[0mkwargs\u001b[0m\u001b[1;33m)\u001b[0m\u001b[1;33m\u001b[0m\u001b[0m\n\u001b[1;32m--> 168\u001b[1;33m         \u001b[0mself\u001b[0m\u001b[1;33m.\u001b[0m\u001b[0mdraw\u001b[0m\u001b[1;33m(\u001b[0m\u001b[1;33m)\u001b[0m\u001b[1;33m\u001b[0m\u001b[0m\n\u001b[0m",
        "\u001b[1;32mC:\\Python27\\lib\\site-packages\\matplotlib\\backends\\backend_qt4agg.pyc\u001b[0m in \u001b[0;36mdraw\u001b[1;34m(self)\u001b[0m\n\u001b[0;32m    152\u001b[0m         \u001b[1;31m# causes problems with code that uses the result of the\u001b[0m\u001b[1;33m\u001b[0m\u001b[1;33m\u001b[0m\u001b[0m\n\u001b[0;32m    153\u001b[0m         \u001b[1;31m# draw() to update plot elements.\u001b[0m\u001b[1;33m\u001b[0m\u001b[1;33m\u001b[0m\u001b[0m\n\u001b[1;32m--> 154\u001b[1;33m         \u001b[0mFigureCanvasAgg\u001b[0m\u001b[1;33m.\u001b[0m\u001b[0mdraw\u001b[0m\u001b[1;33m(\u001b[0m\u001b[0mself\u001b[0m\u001b[1;33m)\u001b[0m\u001b[1;33m\u001b[0m\u001b[0m\n\u001b[0m\u001b[0;32m    155\u001b[0m         \u001b[0mself\u001b[0m\u001b[1;33m.\u001b[0m\u001b[0mupdate\u001b[0m\u001b[1;33m(\u001b[0m\u001b[1;33m)\u001b[0m\u001b[1;33m\u001b[0m\u001b[0m\n\u001b[0;32m    156\u001b[0m \u001b[1;33m\u001b[0m\u001b[0m\n",
        "\u001b[1;32mC:\\Python27\\lib\\site-packages\\matplotlib\\backends\\backend_agg.pyc\u001b[0m in \u001b[0;36mdraw\u001b[1;34m(self)\u001b[0m\n\u001b[0;32m    444\u001b[0m         \u001b[1;32mif\u001b[0m \u001b[0m__debug__\u001b[0m\u001b[1;33m:\u001b[0m \u001b[0mverbose\u001b[0m\u001b[1;33m.\u001b[0m\u001b[0mreport\u001b[0m\u001b[1;33m(\u001b[0m\u001b[1;34m'FigureCanvasAgg.draw'\u001b[0m\u001b[1;33m,\u001b[0m \u001b[1;34m'debug-annoying'\u001b[0m\u001b[1;33m)\u001b[0m\u001b[1;33m\u001b[0m\u001b[0m\n\u001b[0;32m    445\u001b[0m \u001b[1;33m\u001b[0m\u001b[0m\n\u001b[1;32m--> 446\u001b[1;33m         \u001b[0mself\u001b[0m\u001b[1;33m.\u001b[0m\u001b[0mrenderer\u001b[0m \u001b[1;33m=\u001b[0m \u001b[0mself\u001b[0m\u001b[1;33m.\u001b[0m\u001b[0mget_renderer\u001b[0m\u001b[1;33m(\u001b[0m\u001b[0mcleared\u001b[0m\u001b[1;33m=\u001b[0m\u001b[0mTrue\u001b[0m\u001b[1;33m)\u001b[0m\u001b[1;33m\u001b[0m\u001b[0m\n\u001b[0m\u001b[0;32m    447\u001b[0m         \u001b[1;31m# acquire a lock on the shared font cache\u001b[0m\u001b[1;33m\u001b[0m\u001b[1;33m\u001b[0m\u001b[0m\n\u001b[0;32m    448\u001b[0m         \u001b[0mRendererAgg\u001b[0m\u001b[1;33m.\u001b[0m\u001b[0mlock\u001b[0m\u001b[1;33m.\u001b[0m\u001b[0macquire\u001b[0m\u001b[1;33m(\u001b[0m\u001b[1;33m)\u001b[0m\u001b[1;33m\u001b[0m\u001b[0m\n",
        "\u001b[1;32mC:\\Python27\\lib\\site-packages\\matplotlib\\backends\\backend_agg.pyc\u001b[0m in \u001b[0;36mget_renderer\u001b[1;34m(self, cleared)\u001b[0m\n\u001b[0;32m    463\u001b[0m \u001b[1;33m\u001b[0m\u001b[0m\n\u001b[0;32m    464\u001b[0m         \u001b[1;32mif\u001b[0m \u001b[0mneed_new_renderer\u001b[0m\u001b[1;33m:\u001b[0m\u001b[1;33m\u001b[0m\u001b[0m\n\u001b[1;32m--> 465\u001b[1;33m             \u001b[0mself\u001b[0m\u001b[1;33m.\u001b[0m\u001b[0mrenderer\u001b[0m \u001b[1;33m=\u001b[0m \u001b[0mRendererAgg\u001b[0m\u001b[1;33m(\u001b[0m\u001b[0mw\u001b[0m\u001b[1;33m,\u001b[0m \u001b[0mh\u001b[0m\u001b[1;33m,\u001b[0m \u001b[0mself\u001b[0m\u001b[1;33m.\u001b[0m\u001b[0mfigure\u001b[0m\u001b[1;33m.\u001b[0m\u001b[0mdpi\u001b[0m\u001b[1;33m)\u001b[0m\u001b[1;33m\u001b[0m\u001b[0m\n\u001b[0m\u001b[0;32m    466\u001b[0m             \u001b[0mself\u001b[0m\u001b[1;33m.\u001b[0m\u001b[0m_lastKey\u001b[0m \u001b[1;33m=\u001b[0m \u001b[0mkey\u001b[0m\u001b[1;33m\u001b[0m\u001b[0m\n\u001b[0;32m    467\u001b[0m         \u001b[1;32melif\u001b[0m \u001b[0mcleared\u001b[0m\u001b[1;33m:\u001b[0m\u001b[1;33m\u001b[0m\u001b[0m\n",
        "\u001b[1;32mC:\\Python27\\lib\\site-packages\\matplotlib\\backends\\backend_agg.pyc\u001b[0m in \u001b[0;36m__init__\u001b[1;34m(self, width, height, dpi)\u001b[0m\n\u001b[0;32m     82\u001b[0m         \u001b[0mself\u001b[0m\u001b[1;33m.\u001b[0m\u001b[0mheight\u001b[0m \u001b[1;33m=\u001b[0m \u001b[0mheight\u001b[0m\u001b[1;33m\u001b[0m\u001b[0m\n\u001b[0;32m     83\u001b[0m         \u001b[1;32mif\u001b[0m \u001b[0m__debug__\u001b[0m\u001b[1;33m:\u001b[0m \u001b[0mverbose\u001b[0m\u001b[1;33m.\u001b[0m\u001b[0mreport\u001b[0m\u001b[1;33m(\u001b[0m\u001b[1;34m'RendererAgg.__init__ width=%s, height=%s'\u001b[0m\u001b[1;33m%\u001b[0m\u001b[1;33m(\u001b[0m\u001b[0mwidth\u001b[0m\u001b[1;33m,\u001b[0m \u001b[0mheight\u001b[0m\u001b[1;33m)\u001b[0m\u001b[1;33m,\u001b[0m \u001b[1;34m'debug-annoying'\u001b[0m\u001b[1;33m)\u001b[0m\u001b[1;33m\u001b[0m\u001b[0m\n\u001b[1;32m---> 84\u001b[1;33m         \u001b[0mself\u001b[0m\u001b[1;33m.\u001b[0m\u001b[0m_renderer\u001b[0m \u001b[1;33m=\u001b[0m \u001b[0m_RendererAgg\u001b[0m\u001b[1;33m(\u001b[0m\u001b[0mint\u001b[0m\u001b[1;33m(\u001b[0m\u001b[0mwidth\u001b[0m\u001b[1;33m)\u001b[0m\u001b[1;33m,\u001b[0m \u001b[0mint\u001b[0m\u001b[1;33m(\u001b[0m\u001b[0mheight\u001b[0m\u001b[1;33m)\u001b[0m\u001b[1;33m,\u001b[0m \u001b[0mdpi\u001b[0m\u001b[1;33m,\u001b[0m \u001b[0mdebug\u001b[0m\u001b[1;33m=\u001b[0m\u001b[0mFalse\u001b[0m\u001b[1;33m)\u001b[0m\u001b[1;33m\u001b[0m\u001b[0m\n\u001b[0m\u001b[0;32m     85\u001b[0m         \u001b[0mself\u001b[0m\u001b[1;33m.\u001b[0m\u001b[0m_filter_renderers\u001b[0m \u001b[1;33m=\u001b[0m \u001b[1;33m[\u001b[0m\u001b[1;33m]\u001b[0m\u001b[1;33m\u001b[0m\u001b[0m\n\u001b[0;32m     86\u001b[0m \u001b[1;33m\u001b[0m\u001b[0m\n",
        "\u001b[1;31mRuntimeError\u001b[0m: Could not allocate memory for image"
       ]
      }
     ],
     "prompt_number": 2
    },
    {
     "cell_type": "code",
     "collapsed": false,
     "input": [
      "#Filling of the lists for position, length, and finesse\n",
      "\n",
      "c = CurveDB.objects.get(pk=parent_pk)\n",
      "pks  = [c.pk for c in c.childs.all()]\n",
      "\n",
      "L_fit_forth, L_fit_back, L_forth, L_back = [], [], [], []\n",
      "step_fit_forth, step_fit, step_forth, step_back = [], [], [], []\n",
      "F_forth, F_back = [], []\n",
      "\n",
      "high_lim_fit = 23800\n",
      "high_lim_plot = last_fitted_curve\n",
      "\n",
      "pks  = [c.pk for c in c.childs.all() if c.pk <= high_lim_plot]\n",
      "for pk in pks:\n",
      "    c = None\n",
      "    gc.collect()\n",
      "    c = CurveDB.objects.get(pk=pk)\n",
      "    #Fit\n",
      "    if c.params[\"stepper_pos\"] > high_lim_fit:\n",
      "        if c.params[\"sweep_direction\"] == None or c.params[\"sweep_direction\"] == 'back':\n",
      "            step_fit_back.append(c.params[\"stepper_pos\"])\n",
      "            L_fit_back.append(c.params[\"length\"])\n",
      "        if c.params[\"sweep_direction\"] == 'forth':\n",
      "            step_fit_forth.append(c.params[\"stepper_pos\"])\n",
      "            L_fit_back.append(c.params[\"length\"])\n",
      "    #All the rest\n",
      "    if c.params[\"sweep_direction\"] == None or c.params[\"sweep_direction\"] == 'back':\n",
      "        L_back.append(c.params[\"length\"])\n",
      "        F_back.append(c.params[\"finesse\"])\n",
      "        step_back.append(c.params[\"stepper_pos\"])\n",
      "    if c.params[\"sweep_direction\"] == 'forth':\n",
      "        L_forth.append(c.params[\"length\"])\n",
      "        F_forth.append(c.params[\"finesse\"])\n",
      "        step_forth.append(c.params[\"stepper_pos\"])"
     ],
     "language": "python",
     "metadata": {},
     "outputs": [
      {
       "ename": "KeyError",
       "evalue": "'length'",
       "output_type": "pyerr",
       "traceback": [
        "\u001b[1;31m---------------------------------------------------------------------------\u001b[0m\n\u001b[1;31mKeyError\u001b[0m                                  Traceback (most recent call last)",
        "\u001b[1;32m<ipython-input-9-bb8aa89bbc4e>\u001b[0m in \u001b[0;36m<module>\u001b[1;34m()\u001b[0m\n\u001b[0;32m     14\u001b[0m         \u001b[0mstep_fit\u001b[0m\u001b[1;33m.\u001b[0m\u001b[0mappend\u001b[0m\u001b[1;33m(\u001b[0m\u001b[0mc\u001b[0m\u001b[1;33m.\u001b[0m\u001b[0mparams\u001b[0m\u001b[1;33m[\u001b[0m\u001b[1;34m\"stepper_pos\"\u001b[0m\u001b[1;33m]\u001b[0m\u001b[1;33m)\u001b[0m\u001b[1;33m\u001b[0m\u001b[0m\n\u001b[0;32m     15\u001b[0m         \u001b[0mL_fit\u001b[0m\u001b[1;33m.\u001b[0m\u001b[0mappend\u001b[0m\u001b[1;33m(\u001b[0m\u001b[0mc\u001b[0m\u001b[1;33m.\u001b[0m\u001b[0mparams\u001b[0m\u001b[1;33m[\u001b[0m\u001b[1;34m\"length\"\u001b[0m\u001b[1;33m]\u001b[0m\u001b[1;33m)\u001b[0m\u001b[1;33m\u001b[0m\u001b[0m\n\u001b[1;32m---> 16\u001b[1;33m     \u001b[0mL\u001b[0m\u001b[1;33m.\u001b[0m\u001b[0mappend\u001b[0m\u001b[1;33m(\u001b[0m\u001b[0mc\u001b[0m\u001b[1;33m.\u001b[0m\u001b[0mparams\u001b[0m\u001b[1;33m[\u001b[0m\u001b[1;34m\"length\"\u001b[0m\u001b[1;33m]\u001b[0m\u001b[1;33m)\u001b[0m\u001b[1;33m\u001b[0m\u001b[0m\n\u001b[0m\u001b[0;32m     17\u001b[0m     \u001b[0mF\u001b[0m\u001b[1;33m.\u001b[0m\u001b[0mappend\u001b[0m\u001b[1;33m(\u001b[0m\u001b[0mc\u001b[0m\u001b[1;33m.\u001b[0m\u001b[0mparams\u001b[0m\u001b[1;33m[\u001b[0m\u001b[1;34m\"finesse\"\u001b[0m\u001b[1;33m]\u001b[0m\u001b[1;33m)\u001b[0m\u001b[1;33m\u001b[0m\u001b[0m\n\u001b[0;32m     18\u001b[0m     \u001b[0mstep\u001b[0m\u001b[1;33m.\u001b[0m\u001b[0mappend\u001b[0m\u001b[1;33m(\u001b[0m\u001b[0mc\u001b[0m\u001b[1;33m.\u001b[0m\u001b[0mparams\u001b[0m\u001b[1;33m[\u001b[0m\u001b[1;34m\"stepper_pos\"\u001b[0m\u001b[1;33m]\u001b[0m\u001b[1;33m)\u001b[0m\u001b[1;33m\u001b[0m\u001b[0m\n",
        "\u001b[1;31mKeyError\u001b[0m: 'length'"
       ]
      }
     ],
     "prompt_number": 9
    },
    {
     "cell_type": "code",
     "collapsed": false,
     "input": [
      "#linear fit to have the link between step and cavity length\n",
      "\n",
      "#sweep_direction = \"back\"\n",
      "sweep_direction = \"back_and_forth\"\n",
      "\n",
      "def plot_fitted_curve(pk, sweep_direction)\n",
      "    \"\"\"linear fit of curve of pk pk and making the fit a child of the fitted curve\"\"\"\n",
      "    c = CurveDB.objects.get(pk=pk)\n",
      "    c.name = 'length_vs_step'+sweep_direction\n",
      "    c.save()\n",
      "    fit = finesse.Fit(CurveDB.objects.get(pk=c.pk).data,'linear')\n",
      "    y0, slope = fit.fit()[0]\n",
      "    c_fit = CurveDB.create(step_fit, array(step_fit)*slope + y0)\n",
      "    c.add_child(c_fit)\n",
      "    c_fit.name = 'linear fit'\n",
      "    c_fit.save()\n",
      "    c, c_fit = None, None\n",
      "    gc.collect()\n",
      "    return y0, slope \n",
      "\n",
      "if sweep_direction = 'back_and_forth':\n",
      "    c_forth, c_back = CurveDB.create(step_fit_forth, L_fit_forth), CurveDB.create(step_fit_back, L_fit_back)\n",
      "    print 'back  (y0, slope):', plot_fitted_curve(c_back.pk, back)\n",
      "    print 'forth (y0, slope):', plot_fitted_curve(c_forth.pk, forth)\n",
      "elif sweep_direction=='back':\n",
      "    c_back = CurveDB.create(step_fit_back, L_fit_back)\n",
      "    print 'back  (y0, slope):', plot_fitted_curve(c_back.pk, back)\n",
      "\n",
      "\"\"\"\n",
      "c = CurveDB.create(step_fit, L_fit)\n",
      "pk = c.pk\n",
      "fit = finesse.Fit(CurveDB.objects.get(pk=pk).data,'linear')\n",
      "y0, slope = fit.fit()[0]\n",
      "c_fit = CurveDB.create(step_fit, array(step_fit)*slope + y0)\n",
      "c.name = 'length_vs_step'\n",
      "c.save()\n",
      "c.add_child(c_fit)\n",
      "c_fit.name = 'linear fit'\n",
      "c_fit.save()\n",
      "c = None\n",
      "c_fit = None\n",
      "print slope\n",
      "\"\"\""
     ],
     "language": "python",
     "metadata": {},
     "outputs": [
      {
       "output_type": "stream",
       "stream": "stdout",
       "text": [
        "-6.2804833139e-07\n"
       ]
      }
     ],
     "prompt_number": 10
    },
    {
     "cell_type": "code",
     "collapsed": false,
     "input": [
      "def exclude_points(tested_step,tab_step):\n",
      "    for step in tab_step:\n",
      "        if tested_step == step:\n",
      "            return True\n",
      "    return False   "
     ],
     "language": "python",
     "metadata": {},
     "outputs": [],
     "prompt_number": 11
    },
    {
     "cell_type": "code",
     "collapsed": false,
     "input": [
      "#parent curve to collect the other curves\n",
      "exclusion_threshold = 0.2\n",
      "parent_curve = CurveDB()\n",
      "parent_curve.name = \"finesse_vs_length_analysis {0} exclusion_threshold={1:.2f}\".format(parent_pk,exclusion_threshold)\n",
      "\n",
      "parent_curve.save()\n",
      "\n",
      "proper_length = []\n",
      "proper_finesse = []\n",
      "proper_fit_length = []\n",
      "proper_step = []\n",
      "weird_points = 0\n",
      "good_points = 0\n",
      "expected_length = array(step)*slope + y0\n",
      "undesired_steps = [23028]\n",
      "\n",
      "for w_length,e_length,f,pas in zip(expected_length,L,F,step):\n",
      "    delta = abs((w_length - e_length) / w_length)\n",
      "    if delta < exclusion_threshold and not exclude_points(pas,undesired_steps):\n",
      "        proper_length.append(w_length)\n",
      "        proper_finesse.append(f)\n",
      "        proper_fit_length.append(e_length)\n",
      "        proper_step.append(pas)\n",
      "        good_points +=1\n",
      "    else:\n",
      "        weird_points += 1\n",
      "\n",
      "print \"good points: \", good_points\n",
      "print \"weird points:\", weird_points\n",
      "\n",
      "raw_data = CurveDB()\n",
      "parent_curve.add_child(raw_data)\n",
      "raw_data.name = \"raw data\"\n",
      "raw_data.save()\n",
      "\n",
      "cleared_data = CurveDB()\n",
      "parent_curve.add_child(cleared_data)\n",
      "cleared_data.name = \"cleared data\"\n",
      "cleared_data.save()\n",
      "\n",
      "#length vs step\n",
      "c1=CurveDB.create(step,L)\n",
      "c1.name = 'length vs step'\n",
      "c1.save()\n",
      "raw_data.add_child(c1)\n",
      "\n",
      "c1_proper=CurveDB.create(proper_length, proper_fit_length)\n",
      "c1_proper.name = 'length_step vs length proper'\n",
      "c1_proper.save()\n",
      "cleared_data.add_child(c1_proper)\n",
      "\n",
      "#F vs length\n",
      "c2=CurveDB.create(array(L)*1e6,F)\n",
      "c2.name = 'F vs length'\n",
      "c2.save()\n",
      "raw_data.add_child(c2)\n",
      "\n",
      "#F vs step\n",
      "c3=CurveDB.create(step,F)\n",
      "c3.name = 'F vs step'\n",
      "c3.save()\n",
      "raw_data.add_child(c3)\n",
      "\n",
      "c3_proper = CurveDB.create(proper_length,proper_finesse)\n",
      "parent_curve.add_child(c3_proper)\n",
      "c3_proper.name = 'finesse vs length proper'\n",
      "c3_proper.save()\n",
      "cleared_data.add_child(c3_proper)\n",
      "\n",
      "#T+P vs step and length\n",
      "c3 = CurveDB.create(step,2*np.pi/array(F))\n",
      "parent_curve.add_child(c3)\n",
      "c3.name = 'T+P vs step'\n",
      "c3.save()\n",
      "raw_data.add_child(c3)\n",
      "\n",
      "c3_proper = CurveDB.create(proper_step,2*np.pi/array(proper_finesse))\n",
      "parent_curve.add_child(c3_proper)\n",
      "c3_proper.name = 'T+P vs step proper'\n",
      "c3_proper.save()\n",
      "cleared_data.add_child(c3_proper)\n",
      "\n",
      "c3_proper = CurveDB.create(proper_length,2*np.pi/array(proper_finesse))\n",
      "parent_curve.add_child(c3_proper)\n",
      "c3_proper.name = 'T+P vs length proper'\n",
      "c3_proper.save()\n",
      "cleared_data.add_child(c3_proper)\n",
      "\n",
      "c3=CurveDB.create(proper_step,proper_finesse)\n",
      "c3.name = 'proper finesse vs step'\n",
      "c3.save()\n",
      "cleared_data.add_child(c3)"
     ],
     "language": "python",
     "metadata": {},
     "outputs": [
      {
       "output_type": "stream",
       "stream": "stdout",
       "text": [
        "good points:  966\n",
        "weird points: 575\n"
       ]
      }
     ],
     "prompt_number": 12
    },
    {
     "cell_type": "code",
     "collapsed": false,
     "input": [
      "def clipping_loss_vs_length(x,RoC,d1,d2,P0):\n",
      "    LAMBDA = 1.064e-6\n",
      "    def w0(L,RoC):\n",
      "        return np.sqrt(LAMBDA/np.pi) * np.sqrt(np.sqrt((RoC-L)*L))\n",
      "    def w(L,RoC):\n",
      "        return w0(L,RoC)*np.sqrt(1+LAMBDA**2*L**2/w0(L,RoC)**4/np.pi**2)\n",
      "    def Pclip(wL,diam):\n",
      "        return np.exp(-diam**2/wL**2/2)\n",
      "    return P0 + Pclip(w0(x,RoC),d1) + Pclip(w(x,RoC),d2)\n",
      "\n",
      "figure(1, figsize=(3*1.5,2*1.5))\n",
      "clf()\n",
      "#plot(expected_length*1e6,2*np.pi/array(F)*1e6,label='$\\mathrm{raw\\ data}$',color='green')\n",
      "plot(c3_proper.data.index*1e6,c3_proper.data.values*1e6,label='$\\mathrm{cleared\\ data}$',color='blue')\n",
      "grid('on')\n",
      "#xlabel('$\\mathrm{Cavity\\ length\\ [\\mu m]}$')\n",
      "#ylabel('$\\mathrm{Losses\\ (}T+P\\mathrm{)\\ [ppm]}$')\n",
      "\n",
      "d1 = 1\n",
      "d2 = 8.49669355262e-05\n",
      "RoC = 0.00101437550256\n",
      "P0 = 0.000100961591922\n",
      "fit = clipping_loss_vs_length(array(proper_length),RoC,d1,d2,P0)\n",
      "plot(c3_proper.data.index*1e6,fit*1e6,label='$\\mathrm{fit}$',color='red')\n",
      "#legend(loc='upper left')\n",
      "ylim(0,700)\n",
      "savefig('finesse_vs_length.pdf')"
     ],
     "language": "python",
     "metadata": {},
     "outputs": []
    },
    {
     "cell_type": "code",
     "collapsed": false,
     "input": [
      "t = 0.2\n",
      "\"%.2f\"%t"
     ],
     "language": "python",
     "metadata": {},
     "outputs": [
      {
       "metadata": {},
       "output_type": "pyout",
       "prompt_number": 34,
       "text": [
        "'0.20'"
       ]
      }
     ],
     "prompt_number": 34
    },
    {
     "cell_type": "code",
     "collapsed": false,
     "input": [
      "23157*slope + y0"
     ],
     "language": "python",
     "metadata": {},
     "outputs": [
      {
       "metadata": {},
       "output_type": "pyout",
       "prompt_number": 17,
       "text": [
        "0.0010666405523938882"
       ]
      }
     ],
     "prompt_number": 17
    },
    {
     "cell_type": "code",
     "collapsed": false,
     "input": [
      "parentCurve = CurveDB.objects.get(pk=parent_pk)\n",
      "pks  = [c.pk for c in parentCurve.childs.all()]\n",
      "for pk in pks:\n",
      "    if pk > 68983:\n",
      "        curve = CurveDB.objects.get(pk=pk)\n",
      "        curve.params[\"fit_type\"] = 'lorentzSBasymm_smooth'\n",
      "        curve.save()"
     ],
     "language": "python",
     "metadata": {},
     "outputs": [],
     "prompt_number": 6
    },
    {
     "cell_type": "code",
     "collapsed": false,
     "input": [
      "parentCurve = CurveDB.objects.get(pk=parent_pk)\n",
      "pks  = [c.pk for c in parentCurve.childs.all()]\n",
      "for pk in pks:\n",
      "    if pk >= 69228 and pk <= 69284:\n",
      "        finesse.analyze_clearall(pk)"
     ],
     "language": "python",
     "metadata": {},
     "outputs": [
      {
       "output_type": "stream",
       "stream": "stdout",
       "text": [
        "parent has no child\n",
        "parent has no child\n",
        "parent has no child"
       ]
      },
      {
       "output_type": "stream",
       "stream": "stdout",
       "text": [
        "\n",
        "parent has no child"
       ]
      },
      {
       "output_type": "stream",
       "stream": "stdout",
       "text": [
        "\n",
        "parent has no child\n",
        "parent has no child"
       ]
      },
      {
       "output_type": "stream",
       "stream": "stdout",
       "text": [
        "\n",
        "parent has no child\n",
        "parent has no child"
       ]
      },
      {
       "output_type": "stream",
       "stream": "stdout",
       "text": [
        "\n",
        "parent has no child\n",
        "parent has no child"
       ]
      },
      {
       "output_type": "stream",
       "stream": "stdout",
       "text": [
        "\n",
        "parent has no child"
       ]
      },
      {
       "output_type": "stream",
       "stream": "stdout",
       "text": [
        "\n",
        "parent has no child"
       ]
      },
      {
       "output_type": "stream",
       "stream": "stdout",
       "text": [
        "\n",
        "parent has no child"
       ]
      },
      {
       "output_type": "stream",
       "stream": "stdout",
       "text": [
        "\n",
        "parent has no child\n",
        "parent has no child"
       ]
      },
      {
       "output_type": "stream",
       "stream": "stdout",
       "text": [
        "\n",
        "parent has no child\n",
        "parent has no child"
       ]
      },
      {
       "output_type": "stream",
       "stream": "stdout",
       "text": [
        "\n",
        "parent has no child\n",
        "parent has no child"
       ]
      },
      {
       "output_type": "stream",
       "stream": "stdout",
       "text": [
        "\n",
        "parent has no child\n",
        "parent has no child"
       ]
      },
      {
       "output_type": "stream",
       "stream": "stdout",
       "text": [
        "\n",
        "parent has no child\n",
        "parent has no child"
       ]
      },
      {
       "output_type": "stream",
       "stream": "stdout",
       "text": [
        "\n",
        "parent has no child\n",
        "parent has no child"
       ]
      },
      {
       "output_type": "stream",
       "stream": "stdout",
       "text": [
        "\n",
        "parent has no child\n",
        "parent has no child"
       ]
      },
      {
       "output_type": "stream",
       "stream": "stdout",
       "text": [
        "\n",
        "parent has no child\n",
        "parent has no child"
       ]
      },
      {
       "output_type": "stream",
       "stream": "stdout",
       "text": [
        "\n",
        "parent has no child\n",
        "parent has no child"
       ]
      },
      {
       "output_type": "stream",
       "stream": "stdout",
       "text": [
        "\n",
        "parent has no child\n",
        "parent has no child"
       ]
      },
      {
       "output_type": "stream",
       "stream": "stdout",
       "text": [
        "\n",
        "parent has no child"
       ]
      },
      {
       "output_type": "stream",
       "stream": "stdout",
       "text": [
        "\n",
        "parent has no child\n",
        "parent has no child"
       ]
      },
      {
       "output_type": "stream",
       "stream": "stdout",
       "text": [
        "\n",
        "parent has no child\n",
        "parent has no child"
       ]
      },
      {
       "output_type": "stream",
       "stream": "stdout",
       "text": [
        "\n",
        "parent has no child\n",
        "parent has no child"
       ]
      },
      {
       "output_type": "stream",
       "stream": "stdout",
       "text": [
        "\n",
        "parent has no child\n",
        "parent has no child"
       ]
      },
      {
       "output_type": "stream",
       "stream": "stdout",
       "text": [
        "\n",
        "parent has no child\n",
        "parent has no child"
       ]
      },
      {
       "output_type": "stream",
       "stream": "stdout",
       "text": [
        "\n",
        "parent has no child\n",
        "parent has no child"
       ]
      },
      {
       "output_type": "stream",
       "stream": "stdout",
       "text": [
        "\n",
        "parent has no child\n",
        "parent has no child"
       ]
      },
      {
       "output_type": "stream",
       "stream": "stdout",
       "text": [
        "\n",
        "parent has no child\n",
        "parent has no child"
       ]
      },
      {
       "output_type": "stream",
       "stream": "stdout",
       "text": [
        "\n",
        "parent has no child\n",
        "parent has no child"
       ]
      },
      {
       "output_type": "stream",
       "stream": "stdout",
       "text": [
        "\n",
        "parent has no child\n",
        "parent has no child"
       ]
      },
      {
       "output_type": "stream",
       "stream": "stdout",
       "text": [
        "\n",
        "parent has no child\n",
        "parent has no child"
       ]
      },
      {
       "output_type": "stream",
       "stream": "stdout",
       "text": [
        "\n",
        "parent has no child\n",
        "parent has no child"
       ]
      },
      {
       "output_type": "stream",
       "stream": "stdout",
       "text": [
        "\n",
        "parent has no child\n",
        "parent has no child"
       ]
      },
      {
       "output_type": "stream",
       "stream": "stdout",
       "text": [
        "\n",
        "parent has no child\n",
        "parent has no child"
       ]
      },
      {
       "output_type": "stream",
       "stream": "stdout",
       "text": [
        "\n",
        "parent has no child\n",
        "parent has no child"
       ]
      },
      {
       "output_type": "stream",
       "stream": "stdout",
       "text": [
        "\n",
        "parent has no child\n",
        "parent has no child"
       ]
      },
      {
       "output_type": "stream",
       "stream": "stdout",
       "text": [
        "\n",
        "parent has no child\n",
        "parent has no child"
       ]
      },
      {
       "output_type": "stream",
       "stream": "stdout",
       "text": [
        "\n",
        "parent has no child\n",
        "parent has no child"
       ]
      },
      {
       "output_type": "stream",
       "stream": "stdout",
       "text": [
        "\n",
        "parent has no child\n",
        "parent has no child"
       ]
      },
      {
       "output_type": "stream",
       "stream": "stdout",
       "text": [
        "\n",
        "parent has no child\n",
        "parent has no child"
       ]
      },
      {
       "output_type": "stream",
       "stream": "stdout",
       "text": [
        "\n",
        "parent has no child\n",
        "parent has no child"
       ]
      },
      {
       "output_type": "stream",
       "stream": "stdout",
       "text": [
        "\n",
        "parent has no child\n",
        "parent has no child"
       ]
      },
      {
       "output_type": "stream",
       "stream": "stdout",
       "text": [
        "\n",
        "parent has no child\n",
        "parent has no child"
       ]
      },
      {
       "output_type": "stream",
       "stream": "stdout",
       "text": [
        "\n",
        "parent has no child\n",
        "parent has no child"
       ]
      },
      {
       "output_type": "stream",
       "stream": "stdout",
       "text": [
        "\n",
        "parent has no child\n",
        "parent has no child"
       ]
      },
      {
       "output_type": "stream",
       "stream": "stdout",
       "text": [
        "\n",
        "parent has no child\n",
        "parent has no child"
       ]
      },
      {
       "output_type": "stream",
       "stream": "stdout",
       "text": [
        "\n",
        "parent has no child\n",
        "parent has no child"
       ]
      },
      {
       "output_type": "stream",
       "stream": "stdout",
       "text": [
        "\n",
        "parent has no child\n",
        "parent has no child"
       ]
      },
      {
       "output_type": "stream",
       "stream": "stdout",
       "text": [
        "\n",
        "parent has no child\n",
        "parent has no child"
       ]
      },
      {
       "output_type": "stream",
       "stream": "stdout",
       "text": [
        "\n",
        "parent has no child\n",
        "parent has no child"
       ]
      },
      {
       "output_type": "stream",
       "stream": "stdout",
       "text": [
        "\n",
        "parent has no child\n",
        "parent has no child"
       ]
      },
      {
       "output_type": "stream",
       "stream": "stdout",
       "text": [
        "\n",
        "parent has no child\n",
        "parent has no child"
       ]
      },
      {
       "output_type": "stream",
       "stream": "stdout",
       "text": [
        "\n",
        "parent has no child\n",
        "parent has no child"
       ]
      },
      {
       "output_type": "stream",
       "stream": "stdout",
       "text": [
        "\n",
        "parent has no child\n",
        "parent has no child"
       ]
      },
      {
       "output_type": "stream",
       "stream": "stdout",
       "text": [
        "\n",
        "parent has no child\n",
        "parent has no child"
       ]
      },
      {
       "output_type": "stream",
       "stream": "stdout",
       "text": [
        "\n",
        "parent has no child\n",
        "parent has no child"
       ]
      },
      {
       "output_type": "stream",
       "stream": "stdout",
       "text": [
        "\n",
        "parent has no child\n",
        "parent has no child"
       ]
      },
      {
       "output_type": "stream",
       "stream": "stdout",
       "text": [
        "\n",
        "parent has no child\n",
        "parent has no child"
       ]
      },
      {
       "output_type": "stream",
       "stream": "stdout",
       "text": [
        "\n",
        "parent has no child\n",
        "parent has no child"
       ]
      },
      {
       "output_type": "stream",
       "stream": "stdout",
       "text": [
        "\n",
        "parent has no child\n",
        "parent has no child"
       ]
      },
      {
       "output_type": "stream",
       "stream": "stdout",
       "text": [
        "\n",
        "parent has no child\n",
        "parent has no child"
       ]
      },
      {
       "output_type": "stream",
       "stream": "stdout",
       "text": [
        "\n",
        "parent has no child\n",
        "parent has no child"
       ]
      },
      {
       "output_type": "stream",
       "stream": "stdout",
       "text": [
        "\n",
        "parent has no child\n",
        "parent has no child"
       ]
      },
      {
       "output_type": "stream",
       "stream": "stdout",
       "text": [
        "\n",
        "parent has no child\n",
        "parent has no child"
       ]
      },
      {
       "output_type": "stream",
       "stream": "stdout",
       "text": [
        "\n",
        "parent has no child\n",
        "parent has no child"
       ]
      },
      {
       "output_type": "stream",
       "stream": "stdout",
       "text": [
        "\n",
        "parent has no child\n",
        "parent has no child"
       ]
      },
      {
       "output_type": "stream",
       "stream": "stdout",
       "text": [
        "\n",
        "parent has no child\n",
        "parent has no child"
       ]
      },
      {
       "output_type": "stream",
       "stream": "stdout",
       "text": [
        "\n",
        "parent has no child\n",
        "parent has no child"
       ]
      },
      {
       "output_type": "stream",
       "stream": "stdout",
       "text": [
        "\n",
        "parent has no child\n",
        "parent has no child"
       ]
      },
      {
       "output_type": "stream",
       "stream": "stdout",
       "text": [
        "\n",
        "parent has no child\n",
        "parent has no child"
       ]
      },
      {
       "output_type": "stream",
       "stream": "stdout",
       "text": [
        "\n",
        "parent has no child\n",
        "parent has no child"
       ]
      },
      {
       "output_type": "stream",
       "stream": "stdout",
       "text": [
        "\n",
        "parent has no child\n",
        "parent has no child"
       ]
      },
      {
       "output_type": "stream",
       "stream": "stdout",
       "text": [
        "\n",
        "parent has no child\n",
        "parent has no child"
       ]
      },
      {
       "output_type": "stream",
       "stream": "stdout",
       "text": [
        "\n",
        "parent has no child\n",
        "parent has no child"
       ]
      },
      {
       "output_type": "stream",
       "stream": "stdout",
       "text": [
        "\n",
        "parent has no child\n",
        "parent has no child"
       ]
      },
      {
       "output_type": "stream",
       "stream": "stdout",
       "text": [
        "\n",
        "parent has no child\n",
        "parent has no child"
       ]
      },
      {
       "output_type": "stream",
       "stream": "stdout",
       "text": [
        "\n",
        "parent has no child\n",
        "parent has no child"
       ]
      },
      {
       "output_type": "stream",
       "stream": "stdout",
       "text": [
        "\n",
        "parent has no child\n",
        "parent has no child"
       ]
      },
      {
       "output_type": "stream",
       "stream": "stdout",
       "text": [
        "\n",
        "parent has no child\n",
        "parent has no child"
       ]
      },
      {
       "output_type": "stream",
       "stream": "stdout",
       "text": [
        "\n",
        "parent has no child\n"
       ]
      }
     ],
     "prompt_number": 11
    },
    {
     "cell_type": "code",
     "collapsed": false,
     "input": [
      "parent_curve.pk"
     ],
     "language": "python",
     "metadata": {},
     "outputs": [
      {
       "metadata": {},
       "output_type": "pyout",
       "prompt_number": 20,
       "text": [
        "83579"
       ]
      }
     ],
     "prompt_number": 20
    },
    {
     "cell_type": "code",
     "collapsed": false,
     "input": [],
     "language": "python",
     "metadata": {},
     "outputs": []
    }
   ],
   "metadata": {}
  }
 ]
}