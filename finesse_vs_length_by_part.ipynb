{
 "metadata": {
  "name": "",
  "signature": "sha256:2dda08183e0c0d5777862625d73c59a8f091f561d61ddc55c6c478a43f65659a"
 },
 "nbformat": 3,
 "nbformat_minor": 0,
 "worksheets": [
  {
   "cells": [
    {
     "cell_type": "code",
     "collapsed": false,
     "input": [
      "s.closeProperly()"
     ],
     "language": "python",
     "metadata": {},
     "outputs": [
      {
       "output_type": "stream",
       "stream": "stdout",
       "text": [
        "Saved position: 24498\n"
       ]
      }
     ],
     "prompt_number": 10
    },
    {
     "cell_type": "code",
     "collapsed": false,
     "input": [
      "from __future__ import division\n",
      "from stepper import Stepper\n",
      "from time import sleep\n",
      "from pyinstruments import CurveDB\n",
      "import pandas\n",
      "from users.remi import finesse\n",
      "from pyinstruments.pyhardwaredb import instrument\n",
      "\n",
      "constants = finesse.CONSTANTS_REMI_PILLAR"
     ],
     "language": "python",
     "metadata": {},
     "outputs": [],
     "prompt_number": 2
    },
    {
     "cell_type": "code",
     "collapsed": false,
     "input": [
      "#s = Stepper()\n",
      "#s.calibrate()\n",
      "s.position()"
     ],
     "language": "python",
     "metadata": {},
     "outputs": [
      {
       "output_type": "stream",
       "stream": "stdout",
       "text": [
        "I'm at step: 24557\n",
        "Distance to reference point: 15348.125 um\n"
       ]
      },
      {
       "metadata": {},
       "output_type": "pyout",
       "prompt_number": 12,
       "text": [
        "24557"
       ]
      }
     ],
     "prompt_number": 12
    },
    {
     "cell_type": "code",
     "collapsed": false,
     "input": [
      "s.goToStepN(24500)    #Position of the stepper's cursor: on 50\n",
      "print s.position()\n",
      "w = finesse.FinesseMeasurementWidget()"
     ],
     "language": "python",
     "metadata": {},
     "outputs": [
      {
       "output_type": "stream",
       "stream": "stdout",
       "text": [
        "I'm at step: 24500\n",
        "Distance to reference point: 15312.5 um\n",
        "24500\n"
       ]
      }
     ],
     "prompt_number": 9
    },
    {
     "cell_type": "code",
     "collapsed": false,
     "input": [
      "pos_max = 24560\n",
      "#pos_max = 24500\n",
      "\n",
      "s.goToStepN(pos_max)"
     ],
     "language": "python",
     "metadata": {},
     "outputs": [
      {
       "metadata": {},
       "output_type": "pyout",
       "prompt_number": 14,
       "text": [
        "True"
       ]
      }
     ],
     "prompt_number": 14
    },
    {
     "cell_type": "code",
     "collapsed": false,
     "input": [
      "N_steps = 1500 #number of different positions\n",
      "N_domains = 15 #number of domain\n",
      "pas = 1        #number of step by step\n",
      "\n",
      "#Short tests\n",
      "#N_steps = 4\n",
      "#N_domains = 2\n",
      "\n",
      "N_steps_per_domain = int(N_steps/N_domains)\n",
      "print N_steps_per_domain\n",
      "\n",
      "parentCurve = CurveDB()\n",
      "parentCurve.name = \"finesse_vs_length S6-4 and QT2 by portions\"#+\"without proper alignment\"\n",
      "parentCurve.save()\n",
      "\n",
      "def take_curve(pos_max_domain, N_steps_per_domain, i_length_domain, direction, curve_acquired=None):\n",
      "    if direction == 'back':\n",
      "        s.goToStepN(pos_max_domain-pas*i)\n",
      "    elif direction == 'forth':\n",
      "        s.goToStepN(pos_max_domain-pas*(N_steps_per_domain-i-1))\n",
      "    sleep(5)\n",
      "    \n",
      "    current_pos = s.quiet_position()\n",
      "    print 'curve:', curve_acquired, '\\tdomain:', i_length_domain, '\\titeration:', count, '\\tstep:', current_pos, '\\t', direction\n",
      "    current_pk, current_length, current_F = w.acquire_params(\"finesse_vs_length_\" + str(current_pos),\n",
      "                                                             clever_downsample=True, fit_immediately=False)\n",
      "    c2 = CurveDB.objects.get(pk=current_pk)\n",
      "    c2.params[\"stepper_pos\"]=current_pos\n",
      "    c2.params[\"sweep_direction\"]=direction\n",
      "    c2.params[\"length_domain\"]=i_length_domain\n",
      "    c2.save()\n",
      "    parentCurve.add_child(c2)\n",
      "    del c2\n",
      "    return current_pk, current_length, current_F\n",
      "\n",
      "curve_acquired = 0\n",
      "for i_length_domain in range(N_domains):\n",
      "    pos_max_domain = pos_max - i_length_domain*N_steps_per_domain\n",
      "    for count,i in enumerate(range(N_steps_per_domain)):\n",
      "        current_pk, current_length, current_F = take_curve(pos_max_domain, N_steps_per_domain, i_length_domain, 'back', curve_acquired)\n",
      "        curve_acquired += 1 \n",
      "    for count,i in enumerate(range(N_steps_per_domain)):\n",
      "        current_pk, current_length, current_F = take_curve(pos_max_domain, N_steps_per_domain, i_length_domain, 'forth', curve_acquired)\n",
      "        curve_acquired += 1"
     ],
     "language": "python",
     "metadata": {},
     "outputs": [
      {
       "output_type": "stream",
       "stream": "stdout",
       "text": [
        "100\n",
        "curve:"
       ]
      },
      {
       "output_type": "stream",
       "stream": "stdout",
       "text": [
        " 0 \tdomain: 0 \titeration: 0 \tstep: 24560 \tback\n",
        "curve:"
       ]
      },
      {
       "output_type": "stream",
       "stream": "stdout",
       "text": [
        " 1 \tdomain: 0 \titeration: 1 \tstep: 24559 \tback\n",
        "curve:"
       ]
      },
      {
       "output_type": "stream",
       "stream": "stdout",
       "text": [
        " 2 \tdomain: 0 \titeration: 2 \tstep: 24558 \tback\n",
        "curve:"
       ]
      },
      {
       "output_type": "stream",
       "stream": "stdout",
       "text": [
        " 3 \tdomain: 0 \titeration: 3 \tstep: 24557 \tback\n",
        "curve:"
       ]
      },
      {
       "output_type": "stream",
       "stream": "stdout",
       "text": [
        " 4 \tdomain: 0 \titeration: 4 \tstep: 24556 \tback\n",
        "curve:"
       ]
      },
      {
       "output_type": "stream",
       "stream": "stdout",
       "text": [
        " 5 \tdomain: 0 \titeration: 5 \tstep: 24555 \tback\n",
        "curve:"
       ]
      },
      {
       "output_type": "stream",
       "stream": "stdout",
       "text": [
        " 6 \tdomain: 0 \titeration: 6 \tstep: 24554 \tback\n",
        "curve:"
       ]
      },
      {
       "output_type": "stream",
       "stream": "stdout",
       "text": [
        " 7 \tdomain: 0 \titeration: 7 \tstep: 24553 \tback\n",
        "curve:"
       ]
      },
      {
       "output_type": "stream",
       "stream": "stdout",
       "text": [
        " 8 \tdomain: 0 \titeration: 8 \tstep: 24552 \tback\n",
        "curve:"
       ]
      },
      {
       "output_type": "stream",
       "stream": "stdout",
       "text": [
        " 9 \tdomain: 0 \titeration: 9 \tstep: 24551 \tback\n",
        "curve:"
       ]
      },
      {
       "output_type": "stream",
       "stream": "stdout",
       "text": [
        " 10 \tdomain: 0 \titeration: 10 \tstep: 24550 \tback\n",
        "curve:"
       ]
      },
      {
       "output_type": "stream",
       "stream": "stdout",
       "text": [
        " 11 \tdomain: 0 \titeration: 11 \tstep: 24549 \tback\n",
        "curve:"
       ]
      },
      {
       "output_type": "stream",
       "stream": "stdout",
       "text": [
        " 12 \tdomain: 0 \titeration: 12 \tstep: 24548 \tback\n",
        "curve:"
       ]
      },
      {
       "output_type": "stream",
       "stream": "stdout",
       "text": [
        " 13 \tdomain: 0 \titeration: 13 \tstep: 24547 \tback\n",
        "curve:"
       ]
      },
      {
       "output_type": "stream",
       "stream": "stdout",
       "text": [
        " 14 \tdomain: 0 \titeration: 14 \tstep: 24546 \tback\n",
        "curve:"
       ]
      },
      {
       "output_type": "stream",
       "stream": "stdout",
       "text": [
        " 15 \tdomain: 0 \titeration: 15 \tstep: 24545 \tback\n",
        "curve:"
       ]
      },
      {
       "output_type": "stream",
       "stream": "stdout",
       "text": [
        " 16 \tdomain: 0 \titeration: 16 \tstep: 24544 \tback\n",
        "curve:"
       ]
      },
      {
       "output_type": "stream",
       "stream": "stdout",
       "text": [
        " 17 \tdomain: 0 \titeration: 17 \tstep: 24543 \tback\n",
        "curve:"
       ]
      },
      {
       "output_type": "stream",
       "stream": "stdout",
       "text": [
        " 18 \tdomain: 0 \titeration: 18 \tstep: 24542 \tback\n",
        "curve:"
       ]
      },
      {
       "output_type": "stream",
       "stream": "stdout",
       "text": [
        " 19 \tdomain: 0 \titeration: 19 \tstep: 24541 \tback\n",
        "curve:"
       ]
      },
      {
       "output_type": "stream",
       "stream": "stdout",
       "text": [
        " 20 \tdomain: 0 \titeration: 20 \tstep: 24540 \tback\n",
        "curve:"
       ]
      },
      {
       "output_type": "stream",
       "stream": "stdout",
       "text": [
        " 21 \tdomain: 0 \titeration: 21 \tstep: 24539 \tback\n",
        "curve:"
       ]
      },
      {
       "output_type": "stream",
       "stream": "stdout",
       "text": [
        " 22 \tdomain: 0 \titeration: 22 \tstep: 24538 \tback\n",
        "curve:"
       ]
      },
      {
       "output_type": "stream",
       "stream": "stdout",
       "text": [
        " 23 \tdomain: 0 \titeration: 23 \tstep: 24537 \tback\n",
        "curve:"
       ]
      },
      {
       "output_type": "stream",
       "stream": "stdout",
       "text": [
        " 24 \tdomain: 0 \titeration: 24 \tstep: 24536 \tback\n",
        "curve:"
       ]
      },
      {
       "output_type": "stream",
       "stream": "stdout",
       "text": [
        " 25 \tdomain: 0 \titeration: 25 \tstep: 24535 \tback\n",
        "curve:"
       ]
      },
      {
       "output_type": "stream",
       "stream": "stdout",
       "text": [
        " 26 \tdomain: 0 \titeration: 26 \tstep: 24534 \tback\n",
        "curve:"
       ]
      },
      {
       "output_type": "stream",
       "stream": "stdout",
       "text": [
        " 27 \tdomain: 0 \titeration: 27 \tstep: 24533 \tback\n",
        "curve:"
       ]
      },
      {
       "output_type": "stream",
       "stream": "stdout",
       "text": [
        " 28 \tdomain: 0 \titeration: 28 \tstep: 24532 \tback\n",
        "curve:"
       ]
      },
      {
       "output_type": "stream",
       "stream": "stdout",
       "text": [
        " 29 \tdomain: 0 \titeration: 29 \tstep: 24531 \tback\n",
        "curve:"
       ]
      },
      {
       "output_type": "stream",
       "stream": "stdout",
       "text": [
        " 30 \tdomain: 0 \titeration: 30 \tstep: 24530 \tback\n",
        "curve:"
       ]
      },
      {
       "output_type": "stream",
       "stream": "stdout",
       "text": [
        " 31 \tdomain: 0 \titeration: 31 \tstep: 24529 \tback\n",
        "curve:"
       ]
      },
      {
       "output_type": "stream",
       "stream": "stdout",
       "text": [
        " 32 \tdomain: 0 \titeration: 32 \tstep: 24528 \tback\n",
        "curve:"
       ]
      },
      {
       "output_type": "stream",
       "stream": "stdout",
       "text": [
        " 33 \tdomain: 0 \titeration: 33 \tstep: 24527 \tback\n",
        "curve:"
       ]
      },
      {
       "output_type": "stream",
       "stream": "stdout",
       "text": [
        " 34 \tdomain: 0 \titeration: 34 \tstep: 24526 \tback\n",
        "curve:"
       ]
      },
      {
       "output_type": "stream",
       "stream": "stdout",
       "text": [
        " 35 \tdomain: 0 \titeration: 35 \tstep: 24525 \tback\n",
        "curve:"
       ]
      },
      {
       "output_type": "stream",
       "stream": "stdout",
       "text": [
        " 36 \tdomain: 0 \titeration: 36 \tstep: 24524 \tback\n",
        "curve:"
       ]
      },
      {
       "output_type": "stream",
       "stream": "stdout",
       "text": [
        " 37 \tdomain: 0 \titeration: 37 \tstep: 24523 \tback\n",
        "curve:"
       ]
      },
      {
       "output_type": "stream",
       "stream": "stdout",
       "text": [
        " 38 \tdomain: 0 \titeration: 38 \tstep: 24522 \tback\n",
        "curve:"
       ]
      },
      {
       "output_type": "stream",
       "stream": "stdout",
       "text": [
        " 39 \tdomain: 0 \titeration: 39 \tstep: 24521 \tback\n",
        "curve:"
       ]
      },
      {
       "output_type": "stream",
       "stream": "stdout",
       "text": [
        " 40 \tdomain: 0 \titeration: 40 \tstep: 24520 \tback\n",
        "curve:"
       ]
      },
      {
       "output_type": "stream",
       "stream": "stdout",
       "text": [
        " 41 \tdomain: 0 \titeration: 41 \tstep: 24519 \tback\n",
        "curve:"
       ]
      },
      {
       "output_type": "stream",
       "stream": "stdout",
       "text": [
        " 42 \tdomain: 0 \titeration: 42 \tstep: 24518 \tback\n",
        "curve:"
       ]
      },
      {
       "output_type": "stream",
       "stream": "stdout",
       "text": [
        " 43 \tdomain: 0 \titeration: 43 \tstep: 24517 \tback\n",
        "curve:"
       ]
      },
      {
       "output_type": "stream",
       "stream": "stdout",
       "text": [
        " 44 \tdomain: 0 \titeration: 44 \tstep: 24516 \tback\n",
        "curve:"
       ]
      },
      {
       "output_type": "stream",
       "stream": "stdout",
       "text": [
        " 45 \tdomain: 0 \titeration: 45 \tstep: 24515 \tback\n",
        "curve:"
       ]
      },
      {
       "output_type": "stream",
       "stream": "stdout",
       "text": [
        " 46 \tdomain: 0 \titeration: 46 \tstep: 24514 \tback\n",
        "curve:"
       ]
      },
      {
       "output_type": "stream",
       "stream": "stdout",
       "text": [
        " 47 \tdomain: 0 \titeration: 47 \tstep: 24513 \tback\n",
        "curve:"
       ]
      },
      {
       "output_type": "stream",
       "stream": "stdout",
       "text": [
        " 48 \tdomain: 0 \titeration: 48 \tstep: 24512 \tback\n",
        "curve:"
       ]
      },
      {
       "output_type": "stream",
       "stream": "stdout",
       "text": [
        " 49 \tdomain: 0 \titeration: 49 \tstep: 24511 \tback\n",
        "curve:"
       ]
      },
      {
       "output_type": "stream",
       "stream": "stdout",
       "text": [
        " 50 \tdomain: 0 \titeration: 50 \tstep: 24510 \tback\n",
        "curve:"
       ]
      },
      {
       "output_type": "stream",
       "stream": "stdout",
       "text": [
        " 51 \tdomain: 0 \titeration: 51 \tstep: 24509 \tback\n",
        "curve:"
       ]
      },
      {
       "output_type": "stream",
       "stream": "stdout",
       "text": [
        " 52 \tdomain: 0 \titeration: 52 \tstep: 24508 \tback\n",
        "curve:"
       ]
      },
      {
       "output_type": "stream",
       "stream": "stdout",
       "text": [
        " 53 \tdomain: 0 \titeration: 53 \tstep: 24507 \tback\n",
        "curve:"
       ]
      },
      {
       "output_type": "stream",
       "stream": "stdout",
       "text": [
        " 54 \tdomain: 0 \titeration: 54 \tstep: 24506 \tback\n",
        "curve:"
       ]
      },
      {
       "output_type": "stream",
       "stream": "stdout",
       "text": [
        " 55 \tdomain: 0 \titeration: 55 \tstep: 24505 \tback\n",
        "curve:"
       ]
      },
      {
       "output_type": "stream",
       "stream": "stdout",
       "text": [
        " 56 \tdomain: 0 \titeration: 56 \tstep: 24504 \tback\n",
        "curve:"
       ]
      },
      {
       "output_type": "stream",
       "stream": "stdout",
       "text": [
        " 57 \tdomain: 0 \titeration: 57 \tstep: 24503 \tback\n",
        "curve:"
       ]
      },
      {
       "output_type": "stream",
       "stream": "stdout",
       "text": [
        " 58 \tdomain: 0 \titeration: 58 \tstep: 24502 \tback\n",
        "curve:"
       ]
      },
      {
       "output_type": "stream",
       "stream": "stdout",
       "text": [
        " 59 \tdomain: 0 \titeration: 59 \tstep: 24501 \tback\n",
        "curve:"
       ]
      },
      {
       "output_type": "stream",
       "stream": "stdout",
       "text": [
        " 60 \tdomain: 0 \titeration: 60 \tstep: 24500 \tback\n",
        "curve:"
       ]
      },
      {
       "output_type": "stream",
       "stream": "stdout",
       "text": [
        " 61 \tdomain: 0 \titeration: 61 \tstep: 24499 \tback\n",
        "curve:"
       ]
      },
      {
       "output_type": "stream",
       "stream": "stdout",
       "text": [
        " 62 \tdomain: 0 \titeration: 62 \tstep: 24498 \tback\n",
        "curve:"
       ]
      },
      {
       "output_type": "stream",
       "stream": "stdout",
       "text": [
        " 63 \tdomain: 0 \titeration: 63 \tstep: 24497 \tback\n",
        "curve:"
       ]
      },
      {
       "output_type": "stream",
       "stream": "stdout",
       "text": [
        " 64 \tdomain: 0 \titeration: 64 \tstep: 24496 \tback\n",
        "curve:"
       ]
      },
      {
       "output_type": "stream",
       "stream": "stdout",
       "text": [
        " 65 \tdomain: 0 \titeration: 65 \tstep: 24495 \tback\n",
        "curve:"
       ]
      },
      {
       "output_type": "stream",
       "stream": "stdout",
       "text": [
        " 66 \tdomain: 0 \titeration: 66 \tstep: 24494 \tback\n",
        "curve:"
       ]
      },
      {
       "output_type": "stream",
       "stream": "stdout",
       "text": [
        " 67 \tdomain: 0 \titeration: 67 \tstep: 24493 \tback\n",
        "curve:"
       ]
      },
      {
       "output_type": "stream",
       "stream": "stdout",
       "text": [
        " 68 \tdomain: 0 \titeration: 68 \tstep: 24492 \tback\n",
        "curve:"
       ]
      },
      {
       "output_type": "stream",
       "stream": "stdout",
       "text": [
        " 69 \tdomain: 0 \titeration: 69 \tstep: 24491 \tback\n",
        "curve:"
       ]
      },
      {
       "output_type": "stream",
       "stream": "stdout",
       "text": [
        " 70 \tdomain: 0 \titeration: 70 \tstep: 24490 \tback\n",
        "curve:"
       ]
      },
      {
       "output_type": "stream",
       "stream": "stdout",
       "text": [
        " 71 \tdomain: 0 \titeration: 71 \tstep: 24489 \tback\n",
        "curve:"
       ]
      },
      {
       "output_type": "stream",
       "stream": "stdout",
       "text": [
        " 72 \tdomain: 0 \titeration: 72 \tstep: 24488 \tback\n",
        "curve:"
       ]
      },
      {
       "output_type": "stream",
       "stream": "stdout",
       "text": [
        " 73 \tdomain: 0 \titeration: 73 \tstep: 24487 \tback\n",
        "curve:"
       ]
      },
      {
       "output_type": "stream",
       "stream": "stdout",
       "text": [
        " 74 \tdomain: 0 \titeration: 74 \tstep: 24486 \tback\n",
        "curve:"
       ]
      },
      {
       "output_type": "stream",
       "stream": "stdout",
       "text": [
        " 75 \tdomain: 0 \titeration: 75 \tstep: 24485 \tback\n",
        "curve:"
       ]
      },
      {
       "output_type": "stream",
       "stream": "stdout",
       "text": [
        " 76 \tdomain: 0 \titeration: 76 \tstep: 24484 \tback\n",
        "curve:"
       ]
      },
      {
       "output_type": "stream",
       "stream": "stdout",
       "text": [
        " 77 \tdomain: 0 \titeration: 77 \tstep: 24483 \tback\n",
        "curve:"
       ]
      },
      {
       "output_type": "stream",
       "stream": "stdout",
       "text": [
        " 78 \tdomain: 0 \titeration: 78 \tstep: 24482 \tback\n",
        "curve:"
       ]
      },
      {
       "output_type": "stream",
       "stream": "stdout",
       "text": [
        " 79 \tdomain: 0 \titeration: 79 \tstep: 24481 \tback\n",
        "curve:"
       ]
      },
      {
       "output_type": "stream",
       "stream": "stdout",
       "text": [
        " 80 \tdomain: 0 \titeration: 80 \tstep: 24480 \tback\n",
        "curve:"
       ]
      },
      {
       "output_type": "stream",
       "stream": "stdout",
       "text": [
        " 81 \tdomain: 0 \titeration: 81 \tstep: 24479 \tback\n",
        "curve:"
       ]
      },
      {
       "output_type": "stream",
       "stream": "stdout",
       "text": [
        " 82 \tdomain: 0 \titeration: 82 \tstep: 24478 \tback\n",
        "curve:"
       ]
      },
      {
       "output_type": "stream",
       "stream": "stdout",
       "text": [
        " 83 \tdomain: 0 \titeration: 83 \tstep: 24477 \tback\n",
        "curve:"
       ]
      },
      {
       "output_type": "stream",
       "stream": "stdout",
       "text": [
        " 84 \tdomain: 0 \titeration: 84 \tstep: 24476 \tback\n",
        "curve:"
       ]
      },
      {
       "output_type": "stream",
       "stream": "stdout",
       "text": [
        " 85 \tdomain: 0 \titeration: 85 \tstep: 24475 \tback\n",
        "curve:"
       ]
      },
      {
       "output_type": "stream",
       "stream": "stdout",
       "text": [
        " 86 \tdomain: 0 \titeration: 86 \tstep: 24474 \tback\n",
        "curve:"
       ]
      },
      {
       "output_type": "stream",
       "stream": "stdout",
       "text": [
        " 87 \tdomain: 0 \titeration: 87 \tstep: 24473 \tback\n",
        "curve:"
       ]
      },
      {
       "output_type": "stream",
       "stream": "stdout",
       "text": [
        " 88 \tdomain: 0 \titeration: 88 \tstep: 24472 \tback\n",
        "curve:"
       ]
      },
      {
       "output_type": "stream",
       "stream": "stdout",
       "text": [
        " 89 \tdomain: 0 \titeration: 89 \tstep: 24471 \tback\n",
        "curve:"
       ]
      },
      {
       "output_type": "stream",
       "stream": "stdout",
       "text": [
        " 90 \tdomain: 0 \titeration: 90 \tstep: 24470 \tback\n",
        "curve:"
       ]
      },
      {
       "output_type": "stream",
       "stream": "stdout",
       "text": [
        " 91 \tdomain: 0 \titeration: 91 \tstep: 24469 \tback\n",
        "curve:"
       ]
      },
      {
       "output_type": "stream",
       "stream": "stdout",
       "text": [
        " 92 \tdomain: 0 \titeration: 92 \tstep: 24468 \tback\n",
        "curve:"
       ]
      },
      {
       "output_type": "stream",
       "stream": "stdout",
       "text": [
        " 93 \tdomain: 0 \titeration: 93 \tstep: 24467 \tback\n",
        "curve:"
       ]
      },
      {
       "output_type": "stream",
       "stream": "stdout",
       "text": [
        " 94 \tdomain: 0 \titeration: 94 \tstep: 24466 \tback\n",
        "curve:"
       ]
      },
      {
       "output_type": "stream",
       "stream": "stdout",
       "text": [
        " 95 \tdomain: 0 \titeration: 95 \tstep: 24465 \tback\n",
        "curve:"
       ]
      },
      {
       "output_type": "stream",
       "stream": "stdout",
       "text": [
        " 96 \tdomain: 0 \titeration: 96 \tstep: 24464 \tback\n",
        "curve:"
       ]
      },
      {
       "output_type": "stream",
       "stream": "stdout",
       "text": [
        " 97 \tdomain: 0 \titeration: 97 \tstep: 24463 \tback\n",
        "curve:"
       ]
      },
      {
       "output_type": "stream",
       "stream": "stdout",
       "text": [
        " 98 \tdomain: 0 \titeration: 98 \tstep: 24462 \tback\n",
        "curve:"
       ]
      },
      {
       "output_type": "stream",
       "stream": "stdout",
       "text": [
        " 99 \tdomain: 0 \titeration: 99 \tstep: 24461 \tback\n",
        "curve:"
       ]
      },
      {
       "output_type": "stream",
       "stream": "stdout",
       "text": [
        " 100 \tdomain: 0 \titeration: 0 \tstep: 24461 \tforth\n",
        "curve:"
       ]
      },
      {
       "output_type": "stream",
       "stream": "stdout",
       "text": [
        " 101 \tdomain: 0 \titeration: 1 \tstep: 24462 \tforth\n",
        "curve:"
       ]
      },
      {
       "output_type": "stream",
       "stream": "stdout",
       "text": [
        " 102 \tdomain: 0 \titeration: 2 \tstep: 24463 \tforth\n",
        "curve:"
       ]
      },
      {
       "output_type": "stream",
       "stream": "stdout",
       "text": [
        " 103 \tdomain: 0 \titeration: 3 \tstep: 24464 \tforth\n",
        "curve:"
       ]
      },
      {
       "output_type": "stream",
       "stream": "stdout",
       "text": [
        " 104 \tdomain: 0 \titeration: 4 \tstep: 24465 \tforth\n",
        "curve:"
       ]
      },
      {
       "output_type": "stream",
       "stream": "stdout",
       "text": [
        " 105 \tdomain: 0 \titeration: 5 \tstep: 24466 \tforth\n",
        "curve:"
       ]
      },
      {
       "output_type": "stream",
       "stream": "stdout",
       "text": [
        " 106 \tdomain: 0 \titeration: 6 \tstep: 24467 \tforth\n",
        "curve:"
       ]
      },
      {
       "output_type": "stream",
       "stream": "stdout",
       "text": [
        " 107 \tdomain: 0 \titeration: 7 \tstep: 24468 \tforth\n",
        "curve:"
       ]
      },
      {
       "output_type": "stream",
       "stream": "stdout",
       "text": [
        " 108 \tdomain: 0 \titeration: 8 \tstep: 24469 \tforth\n",
        "curve:"
       ]
      },
      {
       "output_type": "stream",
       "stream": "stdout",
       "text": [
        " 109 \tdomain: 0 \titeration: 9 \tstep: 24470 \tforth\n",
        "curve:"
       ]
      },
      {
       "output_type": "stream",
       "stream": "stdout",
       "text": [
        " 110 \tdomain: 0 \titeration: 10 \tstep: 24471 \tforth\n",
        "curve:"
       ]
      },
      {
       "output_type": "stream",
       "stream": "stdout",
       "text": [
        " 111 \tdomain: 0 \titeration: 11 \tstep: 24472 \tforth\n",
        "curve:"
       ]
      },
      {
       "output_type": "stream",
       "stream": "stdout",
       "text": [
        " 112 \tdomain: 0 \titeration: 12 \tstep: 24473 \tforth\n",
        "curve:"
       ]
      },
      {
       "output_type": "stream",
       "stream": "stdout",
       "text": [
        " 113 \tdomain: 0 \titeration: 13 \tstep: 24474 \tforth\n",
        "curve:"
       ]
      },
      {
       "output_type": "stream",
       "stream": "stdout",
       "text": [
        " 114 \tdomain: 0 \titeration: 14 \tstep: 24475 \tforth\n",
        "curve:"
       ]
      },
      {
       "output_type": "stream",
       "stream": "stdout",
       "text": [
        " 115 \tdomain: 0 \titeration: 15 \tstep: 24476 \tforth\n",
        "curve:"
       ]
      },
      {
       "output_type": "stream",
       "stream": "stdout",
       "text": [
        " 116 \tdomain: 0 \titeration: 16 \tstep: 24477 \tforth\n",
        "curve:"
       ]
      },
      {
       "output_type": "stream",
       "stream": "stdout",
       "text": [
        " 117 \tdomain: 0 \titeration: 17 \tstep: 24478 \tforth\n",
        "curve:"
       ]
      },
      {
       "output_type": "stream",
       "stream": "stdout",
       "text": [
        " 118 \tdomain: 0 \titeration: 18 \tstep: 24479 \tforth\n",
        "curve:"
       ]
      },
      {
       "output_type": "stream",
       "stream": "stdout",
       "text": [
        " 119 \tdomain: 0 \titeration: 19 \tstep: 24480 \tforth\n",
        "curve:"
       ]
      },
      {
       "output_type": "stream",
       "stream": "stdout",
       "text": [
        " 120 \tdomain: 0 \titeration: 20 \tstep: 24481 \tforth\n",
        "curve:"
       ]
      },
      {
       "output_type": "stream",
       "stream": "stdout",
       "text": [
        " 121 \tdomain: 0 \titeration: 21 \tstep: 24482 \tforth\n",
        "curve:"
       ]
      },
      {
       "output_type": "stream",
       "stream": "stdout",
       "text": [
        " 122 \tdomain: 0 \titeration: 22 \tstep: 24483 \tforth\n",
        "curve:"
       ]
      },
      {
       "output_type": "stream",
       "stream": "stdout",
       "text": [
        " 123 \tdomain: 0 \titeration: 23 \tstep: 24484 \tforth\n",
        "curve:"
       ]
      },
      {
       "output_type": "stream",
       "stream": "stdout",
       "text": [
        " 124 \tdomain: 0 \titeration: 24 \tstep: 24485 \tforth\n",
        "curve:"
       ]
      },
      {
       "output_type": "stream",
       "stream": "stdout",
       "text": [
        " 125 \tdomain: 0 \titeration: 25 \tstep: 24486 \tforth\n",
        "curve:"
       ]
      },
      {
       "output_type": "stream",
       "stream": "stdout",
       "text": [
        " 126 \tdomain: 0 \titeration: 26 \tstep: 24487 \tforth\n",
        "curve:"
       ]
      },
      {
       "output_type": "stream",
       "stream": "stdout",
       "text": [
        " 127 \tdomain: 0 \titeration: 27 \tstep: 24488 \tforth\n",
        "curve:"
       ]
      },
      {
       "output_type": "stream",
       "stream": "stdout",
       "text": [
        " 128 \tdomain: 0 \titeration: 28 \tstep: 24489 \tforth\n",
        "curve:"
       ]
      },
      {
       "output_type": "stream",
       "stream": "stdout",
       "text": [
        " 129 \tdomain: 0 \titeration: 29 \tstep: 24490 \tforth\n",
        "curve:"
       ]
      },
      {
       "output_type": "stream",
       "stream": "stdout",
       "text": [
        " 130 \tdomain: 0 \titeration: 30 \tstep: 24491 \tforth\n",
        "curve:"
       ]
      },
      {
       "output_type": "stream",
       "stream": "stdout",
       "text": [
        " 131 \tdomain: 0 \titeration: 31 \tstep: 24492 \tforth\n",
        "curve:"
       ]
      },
      {
       "output_type": "stream",
       "stream": "stdout",
       "text": [
        " 132 \tdomain: 0 \titeration: 32 \tstep: 24493 \tforth\n",
        "curve:"
       ]
      },
      {
       "output_type": "stream",
       "stream": "stdout",
       "text": [
        " 133 \tdomain: 0 \titeration: 33 \tstep: 24494 \tforth\n",
        "curve:"
       ]
      },
      {
       "output_type": "stream",
       "stream": "stdout",
       "text": [
        " 134 \tdomain: 0 \titeration: 34 \tstep: 24495 \tforth\n",
        "curve:"
       ]
      },
      {
       "output_type": "stream",
       "stream": "stdout",
       "text": [
        " 135 \tdomain: 0 \titeration: 35 \tstep: 24496 \tforth\n",
        "curve:"
       ]
      },
      {
       "output_type": "stream",
       "stream": "stdout",
       "text": [
        " 136 \tdomain: 0 \titeration: 36 \tstep: 24497 \tforth\n",
        "curve:"
       ]
      },
      {
       "output_type": "stream",
       "stream": "stdout",
       "text": [
        " 137 \tdomain: 0 \titeration: 37 \tstep: 24498 \tforth\n",
        "curve:"
       ]
      },
      {
       "output_type": "stream",
       "stream": "stdout",
       "text": [
        " 138 \tdomain: 0 \titeration: 38 \tstep: 24499 \tforth\n",
        "curve:"
       ]
      },
      {
       "output_type": "stream",
       "stream": "stdout",
       "text": [
        " 139 \tdomain: 0 \titeration: 39 \tstep: 24500 \tforth\n",
        "curve:"
       ]
      },
      {
       "output_type": "stream",
       "stream": "stdout",
       "text": [
        " 140 \tdomain: 0 \titeration: 40 \tstep: 24501 \tforth\n",
        "curve:"
       ]
      },
      {
       "output_type": "stream",
       "stream": "stdout",
       "text": [
        " 141 \tdomain: 0 \titeration: 41 \tstep: 24502 \tforth\n",
        "curve:"
       ]
      },
      {
       "output_type": "stream",
       "stream": "stdout",
       "text": [
        " 142 \tdomain: 0 \titeration: 42 \tstep: 24503 \tforth\n",
        "curve:"
       ]
      },
      {
       "output_type": "stream",
       "stream": "stdout",
       "text": [
        " 143 \tdomain: 0 \titeration: 43 \tstep: 24504 \tforth\n",
        "curve:"
       ]
      },
      {
       "output_type": "stream",
       "stream": "stdout",
       "text": [
        " 144 \tdomain: 0 \titeration: 44 \tstep: 24505 \tforth\n",
        "curve:"
       ]
      },
      {
       "output_type": "stream",
       "stream": "stdout",
       "text": [
        " 145 \tdomain: 0 \titeration: 45 \tstep: 24506 \tforth\n",
        "curve:"
       ]
      },
      {
       "output_type": "stream",
       "stream": "stdout",
       "text": [
        " 146 \tdomain: 0 \titeration: 46 \tstep: 24507 \tforth\n",
        "curve:"
       ]
      },
      {
       "output_type": "stream",
       "stream": "stdout",
       "text": [
        " 147 \tdomain: 0 \titeration: 47 \tstep: 24508 \tforth\n",
        "curve:"
       ]
      },
      {
       "output_type": "stream",
       "stream": "stdout",
       "text": [
        " 148 \tdomain: 0 \titeration: 48 \tstep: 24509 \tforth\n",
        "curve:"
       ]
      },
      {
       "output_type": "stream",
       "stream": "stdout",
       "text": [
        " 149 \tdomain: 0 \titeration: 49 \tstep: 24510 \tforth\n",
        "curve:"
       ]
      },
      {
       "output_type": "stream",
       "stream": "stdout",
       "text": [
        " 150 \tdomain: 0 \titeration: 50 \tstep: 24511 \tforth\n",
        "curve:"
       ]
      },
      {
       "output_type": "stream",
       "stream": "stdout",
       "text": [
        " 151 \tdomain: 0 \titeration: 51 \tstep: 24512 \tforth\n",
        "curve:"
       ]
      },
      {
       "output_type": "stream",
       "stream": "stdout",
       "text": [
        " 152 \tdomain: 0 \titeration: 52 \tstep: 24513 \tforth\n",
        "curve:"
       ]
      },
      {
       "output_type": "stream",
       "stream": "stdout",
       "text": [
        " 153 \tdomain: 0 \titeration: 53 \tstep: 24514 \tforth\n",
        "curve:"
       ]
      },
      {
       "output_type": "stream",
       "stream": "stdout",
       "text": [
        " 154 \tdomain: 0 \titeration: 54 \tstep: 24515 \tforth\n",
        "curve:"
       ]
      },
      {
       "output_type": "stream",
       "stream": "stdout",
       "text": [
        " 155 \tdomain: 0 \titeration: 55 \tstep: 24516 \tforth\n",
        "curve:"
       ]
      },
      {
       "output_type": "stream",
       "stream": "stdout",
       "text": [
        " 156 \tdomain: 0 \titeration: 56 \tstep: 24517 \tforth\n",
        "curve:"
       ]
      },
      {
       "output_type": "stream",
       "stream": "stdout",
       "text": [
        " 157 \tdomain: 0 \titeration: 57 \tstep: 24518 \tforth\n",
        "curve:"
       ]
      },
      {
       "output_type": "stream",
       "stream": "stdout",
       "text": [
        " 158 \tdomain: 0 \titeration: 58 \tstep: 24519 \tforth\n",
        "curve:"
       ]
      },
      {
       "output_type": "stream",
       "stream": "stdout",
       "text": [
        " 159 \tdomain: 0 \titeration: 59 \tstep: 24520 \tforth\n",
        "curve:"
       ]
      },
      {
       "output_type": "stream",
       "stream": "stdout",
       "text": [
        " 160 \tdomain: 0 \titeration: 60 \tstep: 24521 \tforth\n",
        "curve:"
       ]
      },
      {
       "output_type": "stream",
       "stream": "stdout",
       "text": [
        " 161 \tdomain: 0 \titeration: 61 \tstep: 24522 \tforth\n",
        "curve:"
       ]
      },
      {
       "output_type": "stream",
       "stream": "stdout",
       "text": [
        " 162 \tdomain: 0 \titeration: 62 \tstep: 24523 \tforth\n",
        "curve:"
       ]
      },
      {
       "output_type": "stream",
       "stream": "stdout",
       "text": [
        " 163 \tdomain: 0 \titeration: 63 \tstep: 24524 \tforth\n",
        "curve:"
       ]
      },
      {
       "output_type": "stream",
       "stream": "stdout",
       "text": [
        " 164 \tdomain: 0 \titeration: 64 \tstep: 24525 \tforth\n",
        "curve:"
       ]
      },
      {
       "output_type": "stream",
       "stream": "stdout",
       "text": [
        " 165 \tdomain: 0 \titeration: 65 \tstep: 24526 \tforth\n",
        "curve:"
       ]
      },
      {
       "output_type": "stream",
       "stream": "stdout",
       "text": [
        " 166 \tdomain: 0 \titeration: 66 \tstep: 24527 \tforth\n",
        "curve:"
       ]
      },
      {
       "output_type": "stream",
       "stream": "stdout",
       "text": [
        " 167 \tdomain: 0 \titeration: 67 \tstep: 24528 \tforth\n",
        "curve:"
       ]
      },
      {
       "output_type": "stream",
       "stream": "stdout",
       "text": [
        " 168 \tdomain: 0 \titeration: 68 \tstep: 24529 \tforth\n",
        "curve:"
       ]
      },
      {
       "output_type": "stream",
       "stream": "stdout",
       "text": [
        " 169 \tdomain: 0 \titeration: 69 \tstep: 24530 \tforth\n",
        "curve:"
       ]
      },
      {
       "output_type": "stream",
       "stream": "stdout",
       "text": [
        " 170 \tdomain: 0 \titeration: 70 \tstep: 24531 \tforth\n",
        "curve:"
       ]
      },
      {
       "output_type": "stream",
       "stream": "stdout",
       "text": [
        " 171 \tdomain: 0 \titeration: 71 \tstep: 24532 \tforth\n",
        "curve:"
       ]
      },
      {
       "output_type": "stream",
       "stream": "stdout",
       "text": [
        " 172 \tdomain: 0 \titeration: 72 \tstep: 24533 \tforth\n",
        "curve:"
       ]
      },
      {
       "output_type": "stream",
       "stream": "stdout",
       "text": [
        " 173 \tdomain: 0 \titeration: 73 \tstep: 24534 \tforth\n",
        "curve:"
       ]
      },
      {
       "output_type": "stream",
       "stream": "stdout",
       "text": [
        " 174 \tdomain: 0 \titeration: 74 \tstep: 24535 \tforth\n",
        "curve:"
       ]
      },
      {
       "output_type": "stream",
       "stream": "stdout",
       "text": [
        " 175 \tdomain: 0 \titeration: 75 \tstep: 24536 \tforth\n",
        "curve:"
       ]
      },
      {
       "output_type": "stream",
       "stream": "stdout",
       "text": [
        " 176 \tdomain: 0 \titeration: 76 \tstep: 24537 \tforth\n",
        "curve:"
       ]
      },
      {
       "output_type": "stream",
       "stream": "stdout",
       "text": [
        " 177 \tdomain: 0 \titeration: 77 \tstep: 24538 \tforth\n",
        "curve:"
       ]
      },
      {
       "output_type": "stream",
       "stream": "stdout",
       "text": [
        " 178 \tdomain: 0 \titeration: 78 \tstep: 24539 \tforth\n",
        "curve:"
       ]
      },
      {
       "output_type": "stream",
       "stream": "stdout",
       "text": [
        " 179 \tdomain: 0 \titeration: 79 \tstep: 24540 \tforth\n",
        "curve:"
       ]
      },
      {
       "output_type": "stream",
       "stream": "stdout",
       "text": [
        " 180 \tdomain: 0 \titeration: 80 \tstep: 24541 \tforth\n",
        "curve:"
       ]
      },
      {
       "output_type": "stream",
       "stream": "stdout",
       "text": [
        " 181 \tdomain: 0 \titeration: 81 \tstep: 24542 \tforth\n",
        "curve:"
       ]
      },
      {
       "output_type": "stream",
       "stream": "stdout",
       "text": [
        " 182 \tdomain: 0 \titeration: 82 \tstep: 24543 \tforth\n",
        "curve:"
       ]
      },
      {
       "output_type": "stream",
       "stream": "stdout",
       "text": [
        " 183 \tdomain: 0 \titeration: 83 \tstep: 24544 \tforth\n",
        "curve:"
       ]
      },
      {
       "output_type": "stream",
       "stream": "stdout",
       "text": [
        " 184 \tdomain: 0 \titeration: 84 \tstep: 24545 \tforth\n",
        "curve:"
       ]
      },
      {
       "output_type": "stream",
       "stream": "stdout",
       "text": [
        " 185 \tdomain: 0 \titeration: 85 \tstep: 24546 \tforth\n",
        "curve:"
       ]
      },
      {
       "output_type": "stream",
       "stream": "stdout",
       "text": [
        " 186 \tdomain: 0 \titeration: 86 \tstep: 24547 \tforth\n",
        "curve:"
       ]
      },
      {
       "output_type": "stream",
       "stream": "stdout",
       "text": [
        " 187 \tdomain: 0 \titeration: 87 \tstep: 24548 \tforth\n",
        "curve:"
       ]
      },
      {
       "output_type": "stream",
       "stream": "stdout",
       "text": [
        " 188 \tdomain: 0 \titeration: 88 \tstep: 24549 \tforth\n",
        "curve:"
       ]
      },
      {
       "output_type": "stream",
       "stream": "stdout",
       "text": [
        " 189 \tdomain: 0 \titeration: 89 \tstep: 24550 \tforth\n",
        "curve:"
       ]
      },
      {
       "output_type": "stream",
       "stream": "stdout",
       "text": [
        " 190 \tdomain: 0 \titeration: 90 \tstep: 24551 \tforth\n",
        "curve:"
       ]
      },
      {
       "output_type": "stream",
       "stream": "stdout",
       "text": [
        " 191 \tdomain: 0 \titeration: 91 \tstep: 24552 \tforth\n",
        "curve:"
       ]
      },
      {
       "output_type": "stream",
       "stream": "stdout",
       "text": [
        " 192 \tdomain: 0 \titeration: 92 \tstep: 24553 \tforth\n",
        "curve:"
       ]
      },
      {
       "output_type": "stream",
       "stream": "stdout",
       "text": [
        " 193 \tdomain: 0 \titeration: 93 \tstep: 24554 \tforth\n",
        "curve:"
       ]
      },
      {
       "output_type": "stream",
       "stream": "stdout",
       "text": [
        " 194 \tdomain: 0 \titeration: 94 \tstep: 24555 \tforth\n",
        "curve:"
       ]
      },
      {
       "output_type": "stream",
       "stream": "stdout",
       "text": [
        " 195 \tdomain: 0 \titeration: 95 \tstep: 24556 \tforth\n",
        "curve:"
       ]
      },
      {
       "output_type": "stream",
       "stream": "stdout",
       "text": [
        " 196 \tdomain: 0 \titeration: 96 \tstep: 24557 \tforth\n",
        "curve:"
       ]
      },
      {
       "output_type": "stream",
       "stream": "stdout",
       "text": [
        " 197 \tdomain: 0 \titeration: 97 \tstep: 24558 \tforth\n",
        "curve:"
       ]
      },
      {
       "output_type": "stream",
       "stream": "stdout",
       "text": [
        " 198 \tdomain: 0 \titeration: 98 \tstep: 24559 \tforth\n",
        "curve:"
       ]
      },
      {
       "output_type": "stream",
       "stream": "stdout",
       "text": [
        " 199 \tdomain: 0 \titeration: 99 \tstep: 24560 \tforth\n",
        "curve:"
       ]
      },
      {
       "output_type": "stream",
       "stream": "stdout",
       "text": [
        " 200 \tdomain: 1 \titeration: 0 \tstep: 24460 \tback\n",
        "curve:"
       ]
      },
      {
       "output_type": "stream",
       "stream": "stdout",
       "text": [
        " 201 \tdomain: 1 \titeration: 1 \tstep: 24459 \tback\n",
        "curve:"
       ]
      },
      {
       "output_type": "stream",
       "stream": "stdout",
       "text": [
        " 202 \tdomain: 1 \titeration: 2 \tstep: 24458 \tback\n",
        "curve:"
       ]
      },
      {
       "output_type": "stream",
       "stream": "stdout",
       "text": [
        " 203 \tdomain: 1 \titeration: 3 \tstep: 24457 \tback\n",
        "curve:"
       ]
      },
      {
       "output_type": "stream",
       "stream": "stdout",
       "text": [
        " 204 \tdomain: 1 \titeration: 4 \tstep: 24456 \tback\n",
        "curve:"
       ]
      },
      {
       "output_type": "stream",
       "stream": "stdout",
       "text": [
        " 205 \tdomain: 1 \titeration: 5 \tstep: 24455 \tback\n",
        "curve:"
       ]
      },
      {
       "output_type": "stream",
       "stream": "stdout",
       "text": [
        " 206 \tdomain: 1 \titeration: 6 \tstep: 24454 \tback\n",
        "curve:"
       ]
      },
      {
       "output_type": "stream",
       "stream": "stdout",
       "text": [
        " 207 \tdomain: 1 \titeration: 7 \tstep: 24453 \tback\n",
        "curve:"
       ]
      },
      {
       "output_type": "stream",
       "stream": "stdout",
       "text": [
        " 208 \tdomain: 1 \titeration: 8 \tstep: 24452 \tback\n",
        "curve:"
       ]
      },
      {
       "output_type": "stream",
       "stream": "stdout",
       "text": [
        " 209 \tdomain: 1 \titeration: 9 \tstep: 24451 \tback\n",
        "curve:"
       ]
      },
      {
       "output_type": "stream",
       "stream": "stdout",
       "text": [
        " 210 \tdomain: 1 \titeration: 10 \tstep: 24450 \tback\n",
        "curve:"
       ]
      },
      {
       "output_type": "stream",
       "stream": "stdout",
       "text": [
        " 211 \tdomain: 1 \titeration: 11 \tstep: 24449 \tback\n",
        "curve:"
       ]
      },
      {
       "output_type": "stream",
       "stream": "stdout",
       "text": [
        " 212 \tdomain: 1 \titeration: 12 \tstep: 24448 \tback\n",
        "curve:"
       ]
      },
      {
       "output_type": "stream",
       "stream": "stdout",
       "text": [
        " 213 \tdomain: 1 \titeration: 13 \tstep: 24447 \tback\n",
        "curve:"
       ]
      },
      {
       "output_type": "stream",
       "stream": "stdout",
       "text": [
        " 214 \tdomain: 1 \titeration: 14 \tstep: 24446 \tback\n",
        "curve:"
       ]
      },
      {
       "output_type": "stream",
       "stream": "stdout",
       "text": [
        " 215 \tdomain: 1 \titeration: 15 \tstep: 24445 \tback\n",
        "curve:"
       ]
      },
      {
       "output_type": "stream",
       "stream": "stdout",
       "text": [
        " 216 \tdomain: 1 \titeration: 16 \tstep: 24444 \tback\n",
        "curve:"
       ]
      },
      {
       "output_type": "stream",
       "stream": "stdout",
       "text": [
        " 217 \tdomain: 1 \titeration: 17 \tstep: 24443 \tback\n",
        "curve:"
       ]
      },
      {
       "output_type": "stream",
       "stream": "stdout",
       "text": [
        " 218 \tdomain: 1 \titeration: 18 \tstep: 24442 \tback\n",
        "curve:"
       ]
      },
      {
       "output_type": "stream",
       "stream": "stdout",
       "text": [
        " 219 \tdomain: 1 \titeration: 19 \tstep: 24441 \tback\n",
        "curve:"
       ]
      },
      {
       "output_type": "stream",
       "stream": "stdout",
       "text": [
        " 220 \tdomain: 1 \titeration: 20 \tstep: 24440 \tback\n",
        "curve:"
       ]
      },
      {
       "output_type": "stream",
       "stream": "stdout",
       "text": [
        " 221 \tdomain: 1 \titeration: 21 \tstep: 24439 \tback\n",
        "curve:"
       ]
      },
      {
       "output_type": "stream",
       "stream": "stdout",
       "text": [
        " 222 \tdomain: 1 \titeration: 22 \tstep: 24438 \tback\n",
        "curve:"
       ]
      },
      {
       "output_type": "stream",
       "stream": "stdout",
       "text": [
        " 223 \tdomain: 1 \titeration: 23 \tstep: 24437 \tback\n",
        "curve:"
       ]
      },
      {
       "output_type": "stream",
       "stream": "stdout",
       "text": [
        " 224 \tdomain: 1 \titeration: 24 \tstep: 24436 \tback\n",
        "curve:"
       ]
      },
      {
       "output_type": "stream",
       "stream": "stdout",
       "text": [
        " 225 \tdomain: 1 \titeration: 25 \tstep: 24435 \tback\n",
        "curve:"
       ]
      },
      {
       "output_type": "stream",
       "stream": "stdout",
       "text": [
        " 226 \tdomain: 1 \titeration: 26 \tstep: 24434 \tback\n",
        "curve:"
       ]
      },
      {
       "output_type": "stream",
       "stream": "stdout",
       "text": [
        " 227 \tdomain: 1 \titeration: 27 \tstep: 24433 \tback\n",
        "curve:"
       ]
      },
      {
       "output_type": "stream",
       "stream": "stdout",
       "text": [
        " 228 \tdomain: 1 \titeration: 28 \tstep: 24432 \tback\n",
        "curve:"
       ]
      },
      {
       "output_type": "stream",
       "stream": "stdout",
       "text": [
        " 229 \tdomain: 1 \titeration: 29 \tstep: 24431 \tback\n",
        "curve:"
       ]
      },
      {
       "output_type": "stream",
       "stream": "stdout",
       "text": [
        " 230 \tdomain: 1 \titeration: 30 \tstep: 24430 \tback\n",
        "curve:"
       ]
      },
      {
       "output_type": "stream",
       "stream": "stdout",
       "text": [
        " 231 \tdomain: 1 \titeration: 31 \tstep: 24429 \tback\n",
        "curve:"
       ]
      },
      {
       "output_type": "stream",
       "stream": "stdout",
       "text": [
        " 232 \tdomain: 1 \titeration: 32 \tstep: 24428 \tback\n",
        "curve:"
       ]
      },
      {
       "output_type": "stream",
       "stream": "stdout",
       "text": [
        " 233 \tdomain: 1 \titeration: 33 \tstep: 24427 \tback\n",
        "curve:"
       ]
      },
      {
       "output_type": "stream",
       "stream": "stdout",
       "text": [
        " 234 \tdomain: 1 \titeration: 34 \tstep: 24426 \tback\n",
        "curve:"
       ]
      },
      {
       "output_type": "stream",
       "stream": "stdout",
       "text": [
        " 235 \tdomain: 1 \titeration: 35 \tstep: 24425 \tback\n",
        "curve:"
       ]
      },
      {
       "output_type": "stream",
       "stream": "stdout",
       "text": [
        " 236 \tdomain: 1 \titeration: 36 \tstep: 24424 \tback\n",
        "curve:"
       ]
      },
      {
       "output_type": "stream",
       "stream": "stdout",
       "text": [
        " 237 \tdomain: 1 \titeration: 37 \tstep: 24423 \tback\n",
        "curve:"
       ]
      },
      {
       "output_type": "stream",
       "stream": "stdout",
       "text": [
        " 238 \tdomain: 1 \titeration: 38 \tstep: 24422 \tback\n",
        "curve:"
       ]
      },
      {
       "output_type": "stream",
       "stream": "stdout",
       "text": [
        " 239 \tdomain: 1 \titeration: 39 \tstep: 24421 \tback\n",
        "curve:"
       ]
      },
      {
       "output_type": "stream",
       "stream": "stdout",
       "text": [
        " 240 \tdomain: 1 \titeration: 40 \tstep: 24420 \tback\n",
        "curve:"
       ]
      },
      {
       "output_type": "stream",
       "stream": "stdout",
       "text": [
        " 241 \tdomain: 1 \titeration: 41 \tstep: 24419 \tback\n",
        "curve:"
       ]
      },
      {
       "output_type": "stream",
       "stream": "stdout",
       "text": [
        " 242 \tdomain: 1 \titeration: 42 \tstep: 24418 \tback\n",
        "curve:"
       ]
      },
      {
       "output_type": "stream",
       "stream": "stdout",
       "text": [
        " 243 \tdomain: 1 \titeration: 43 \tstep: 24417 \tback\n",
        "curve:"
       ]
      },
      {
       "output_type": "stream",
       "stream": "stdout",
       "text": [
        " 244 \tdomain: 1 \titeration: 44 \tstep: 24416 \tback\n",
        "curve:"
       ]
      },
      {
       "output_type": "stream",
       "stream": "stdout",
       "text": [
        " 245 \tdomain: 1 \titeration: 45 \tstep: 24415 \tback\n",
        "curve:"
       ]
      },
      {
       "output_type": "stream",
       "stream": "stdout",
       "text": [
        " 246 \tdomain: 1 \titeration: 46 \tstep: 24414 \tback\n",
        "curve:"
       ]
      },
      {
       "output_type": "stream",
       "stream": "stdout",
       "text": [
        " 247 \tdomain: 1 \titeration: 47 \tstep: 24413 \tback\n",
        "curve:"
       ]
      },
      {
       "output_type": "stream",
       "stream": "stdout",
       "text": [
        " 248 \tdomain: 1 \titeration: 48 \tstep: 24412 \tback\n",
        "curve:"
       ]
      },
      {
       "output_type": "stream",
       "stream": "stdout",
       "text": [
        " 249 \tdomain: 1 \titeration: 49 \tstep: 24411 \tback\n",
        "curve:"
       ]
      },
      {
       "output_type": "stream",
       "stream": "stdout",
       "text": [
        " 250 \tdomain: 1 \titeration: 50 \tstep: 24410 \tback\n",
        "curve:"
       ]
      },
      {
       "output_type": "stream",
       "stream": "stdout",
       "text": [
        " 251 \tdomain: 1 \titeration: 51 \tstep: 24409 \tback\n",
        "curve:"
       ]
      },
      {
       "output_type": "stream",
       "stream": "stdout",
       "text": [
        " 252 \tdomain: 1 \titeration: 52 \tstep: 24408 \tback\n",
        "curve:"
       ]
      },
      {
       "output_type": "stream",
       "stream": "stdout",
       "text": [
        " 253 \tdomain: 1 \titeration: 53 \tstep: 24407 \tback\n",
        "curve:"
       ]
      },
      {
       "output_type": "stream",
       "stream": "stdout",
       "text": [
        " 254 \tdomain: 1 \titeration: 54 \tstep: 24406 \tback\n",
        "curve:"
       ]
      },
      {
       "output_type": "stream",
       "stream": "stdout",
       "text": [
        " 255 \tdomain: 1 \titeration: 55 \tstep: 24405 \tback\n",
        "curve:"
       ]
      },
      {
       "output_type": "stream",
       "stream": "stdout",
       "text": [
        " 256 \tdomain: 1 \titeration: 56 \tstep: 24404 \tback\n",
        "curve:"
       ]
      },
      {
       "output_type": "stream",
       "stream": "stdout",
       "text": [
        " 257 \tdomain: 1 \titeration: 57 \tstep: 24403 \tback\n",
        "curve:"
       ]
      },
      {
       "output_type": "stream",
       "stream": "stdout",
       "text": [
        " 258 \tdomain: 1 \titeration: 58 \tstep: 24402 \tback\n",
        "curve:"
       ]
      },
      {
       "output_type": "stream",
       "stream": "stdout",
       "text": [
        " 259 \tdomain: 1 \titeration: 59 \tstep: 24401 \tback\n",
        "curve:"
       ]
      },
      {
       "output_type": "stream",
       "stream": "stdout",
       "text": [
        " 260 \tdomain: 1 \titeration: 60 \tstep: 24400 \tback\n",
        "curve:"
       ]
      },
      {
       "output_type": "stream",
       "stream": "stdout",
       "text": [
        " 261 \tdomain: 1 \titeration: 61 \tstep: 24399 \tback\n",
        "curve:"
       ]
      },
      {
       "output_type": "stream",
       "stream": "stdout",
       "text": [
        " 262 \tdomain: 1 \titeration: 62 \tstep: 24398 \tback\n",
        "curve:"
       ]
      },
      {
       "output_type": "stream",
       "stream": "stdout",
       "text": [
        " 263 \tdomain: 1 \titeration: 63 \tstep: 24397 \tback\n",
        "curve:"
       ]
      },
      {
       "output_type": "stream",
       "stream": "stdout",
       "text": [
        " 264 \tdomain: 1 \titeration: 64 \tstep: 24396 \tback\n",
        "curve:"
       ]
      },
      {
       "output_type": "stream",
       "stream": "stdout",
       "text": [
        " 265 \tdomain: 1 \titeration: 65 \tstep: 24395 \tback\n",
        "curve:"
       ]
      },
      {
       "output_type": "stream",
       "stream": "stdout",
       "text": [
        " 266 \tdomain: 1 \titeration: 66 \tstep: 24394 \tback\n",
        "curve:"
       ]
      },
      {
       "output_type": "stream",
       "stream": "stdout",
       "text": [
        " 267 \tdomain: 1 \titeration: 67 \tstep: 24393 \tback\n",
        "curve:"
       ]
      },
      {
       "output_type": "stream",
       "stream": "stdout",
       "text": [
        " 268 \tdomain: 1 \titeration: 68 \tstep: 24392 \tback\n",
        "curve:"
       ]
      },
      {
       "output_type": "stream",
       "stream": "stdout",
       "text": [
        " 269 \tdomain: 1 \titeration: 69 \tstep: 24391 \tback\n",
        "curve:"
       ]
      },
      {
       "output_type": "stream",
       "stream": "stdout",
       "text": [
        " 270 \tdomain: 1 \titeration: 70 \tstep: 24390 \tback\n",
        "curve:"
       ]
      },
      {
       "output_type": "stream",
       "stream": "stdout",
       "text": [
        " 271 \tdomain: 1 \titeration: 71 \tstep: 24389 \tback\n",
        "curve:"
       ]
      },
      {
       "output_type": "stream",
       "stream": "stdout",
       "text": [
        " 272 \tdomain: 1 \titeration: 72 \tstep: 24388 \tback\n",
        "curve:"
       ]
      },
      {
       "output_type": "stream",
       "stream": "stdout",
       "text": [
        " 273 \tdomain: 1 \titeration: 73 \tstep: 24387 \tback\n",
        "curve:"
       ]
      },
      {
       "output_type": "stream",
       "stream": "stdout",
       "text": [
        " 274 \tdomain: 1 \titeration: 74 \tstep: 24386 \tback\n",
        "curve:"
       ]
      },
      {
       "output_type": "stream",
       "stream": "stdout",
       "text": [
        " 275 \tdomain: 1 \titeration: 75 \tstep: 24385 \tback\n",
        "curve:"
       ]
      },
      {
       "output_type": "stream",
       "stream": "stdout",
       "text": [
        " 276 \tdomain: 1 \titeration: 76 \tstep: 24384 \tback\n",
        "curve:"
       ]
      },
      {
       "output_type": "stream",
       "stream": "stdout",
       "text": [
        " 277 \tdomain: 1 \titeration: 77 \tstep: 24383 \tback\n",
        "curve:"
       ]
      },
      {
       "output_type": "stream",
       "stream": "stdout",
       "text": [
        " 278 \tdomain: 1 \titeration: 78 \tstep: 24382 \tback\n",
        "curve:"
       ]
      },
      {
       "output_type": "stream",
       "stream": "stdout",
       "text": [
        " 279 \tdomain: 1 \titeration: 79 \tstep: 24381 \tback\n",
        "curve:"
       ]
      },
      {
       "output_type": "stream",
       "stream": "stdout",
       "text": [
        " 280 \tdomain: 1 \titeration: 80 \tstep: 24380 \tback\n",
        "curve:"
       ]
      },
      {
       "output_type": "stream",
       "stream": "stdout",
       "text": [
        " 281 \tdomain: 1 \titeration: 81 \tstep: 24379 \tback\n",
        "curve:"
       ]
      },
      {
       "output_type": "stream",
       "stream": "stdout",
       "text": [
        " 282 \tdomain: 1 \titeration: 82 \tstep: 24378 \tback\n",
        "curve:"
       ]
      },
      {
       "output_type": "stream",
       "stream": "stdout",
       "text": [
        " 283 \tdomain: 1 \titeration: 83 \tstep: 24377 \tback\n",
        "curve:"
       ]
      },
      {
       "output_type": "stream",
       "stream": "stdout",
       "text": [
        " 284 \tdomain: 1 \titeration: 84 \tstep: 24376 \tback\n",
        "curve:"
       ]
      },
      {
       "output_type": "stream",
       "stream": "stdout",
       "text": [
        " 285 \tdomain: 1 \titeration: 85 \tstep: 24375 \tback\n",
        "curve:"
       ]
      },
      {
       "output_type": "stream",
       "stream": "stdout",
       "text": [
        " 286 \tdomain: 1 \titeration: 86 \tstep: 24374 \tback\n",
        "curve:"
       ]
      },
      {
       "output_type": "stream",
       "stream": "stdout",
       "text": [
        " 287 \tdomain: 1 \titeration: 87 \tstep: 24373 \tback\n",
        "curve:"
       ]
      },
      {
       "output_type": "stream",
       "stream": "stdout",
       "text": [
        " 288 \tdomain: 1 \titeration: 88 \tstep: 24372 \tback\n",
        "curve:"
       ]
      },
      {
       "output_type": "stream",
       "stream": "stdout",
       "text": [
        " 289 \tdomain: 1 \titeration: 89 \tstep: 24371 \tback\n",
        "curve:"
       ]
      },
      {
       "output_type": "stream",
       "stream": "stdout",
       "text": [
        " 290 \tdomain: 1 \titeration: 90 \tstep: 24370 \tback\n",
        "curve:"
       ]
      },
      {
       "output_type": "stream",
       "stream": "stdout",
       "text": [
        " 291 \tdomain: 1 \titeration: 91 \tstep: 24369 \tback\n",
        "curve:"
       ]
      },
      {
       "output_type": "stream",
       "stream": "stdout",
       "text": [
        " 292 \tdomain: 1 \titeration: 92 \tstep: 24368 \tback\n",
        "curve:"
       ]
      },
      {
       "output_type": "stream",
       "stream": "stdout",
       "text": [
        " 293 \tdomain: 1 \titeration: 93 \tstep: 24367 \tback\n",
        "curve:"
       ]
      },
      {
       "output_type": "stream",
       "stream": "stdout",
       "text": [
        " 294 \tdomain: 1 \titeration: 94 \tstep: 24366 \tback\n",
        "curve:"
       ]
      },
      {
       "output_type": "stream",
       "stream": "stdout",
       "text": [
        " 295 \tdomain: 1 \titeration: 95 \tstep: 24365 \tback\n",
        "curve:"
       ]
      },
      {
       "output_type": "stream",
       "stream": "stdout",
       "text": [
        " 296 \tdomain: 1 \titeration: 96 \tstep: 24364 \tback\n",
        "curve:"
       ]
      },
      {
       "output_type": "stream",
       "stream": "stdout",
       "text": [
        " 297 \tdomain: 1 \titeration: 97 \tstep: 24363 \tback\n",
        "curve:"
       ]
      },
      {
       "output_type": "stream",
       "stream": "stdout",
       "text": [
        " 298 \tdomain: 1 \titeration: 98 \tstep: 24362 \tback\n",
        "curve:"
       ]
      },
      {
       "output_type": "stream",
       "stream": "stdout",
       "text": [
        " 299 \tdomain: 1 \titeration: 99 \tstep: 24361 \tback\n",
        "curve:"
       ]
      },
      {
       "output_type": "stream",
       "stream": "stdout",
       "text": [
        " 300 \tdomain: 1 \titeration: 0 \tstep: 24361 \tforth\n",
        "curve:"
       ]
      },
      {
       "output_type": "stream",
       "stream": "stdout",
       "text": [
        " 301 \tdomain: 1 \titeration: 1 \tstep: 24362 \tforth\n",
        "curve:"
       ]
      },
      {
       "output_type": "stream",
       "stream": "stdout",
       "text": [
        " 302 \tdomain: 1 \titeration: 2 \tstep: 24363 \tforth\n",
        "curve:"
       ]
      },
      {
       "output_type": "stream",
       "stream": "stdout",
       "text": [
        " 303 \tdomain: 1 \titeration: 3 \tstep: 24364 \tforth\n",
        "curve:"
       ]
      },
      {
       "output_type": "stream",
       "stream": "stdout",
       "text": [
        " 304 \tdomain: 1 \titeration: 4 \tstep: 24365 \tforth\n",
        "curve:"
       ]
      },
      {
       "output_type": "stream",
       "stream": "stdout",
       "text": [
        " 305 \tdomain: 1 \titeration: 5 \tstep: 24366 \tforth\n",
        "curve:"
       ]
      },
      {
       "output_type": "stream",
       "stream": "stdout",
       "text": [
        " 306 \tdomain: 1 \titeration: 6 \tstep: 24367 \tforth\n",
        "curve:"
       ]
      },
      {
       "output_type": "stream",
       "stream": "stdout",
       "text": [
        " 307 \tdomain: 1 \titeration: 7 \tstep: 24368 \tforth\n",
        "curve:"
       ]
      },
      {
       "output_type": "stream",
       "stream": "stdout",
       "text": [
        " 308 \tdomain: 1 \titeration: 8 \tstep: 24369 \tforth\n",
        "curve:"
       ]
      },
      {
       "output_type": "stream",
       "stream": "stdout",
       "text": [
        " 309 \tdomain: 1 \titeration: 9 \tstep: 24370 \tforth\n",
        "curve:"
       ]
      },
      {
       "output_type": "stream",
       "stream": "stdout",
       "text": [
        " 310 \tdomain: 1 \titeration: 10 \tstep: 24371 \tforth\n",
        "curve:"
       ]
      },
      {
       "output_type": "stream",
       "stream": "stdout",
       "text": [
        " 311 \tdomain: 1 \titeration: 11 \tstep: 24372 \tforth\n",
        "curve:"
       ]
      },
      {
       "output_type": "stream",
       "stream": "stdout",
       "text": [
        " 312 \tdomain: 1 \titeration: 12 \tstep: 24373 \tforth\n",
        "curve:"
       ]
      },
      {
       "output_type": "stream",
       "stream": "stdout",
       "text": [
        " 313 \tdomain: 1 \titeration: 13 \tstep: 24374 \tforth\n",
        "curve:"
       ]
      },
      {
       "output_type": "stream",
       "stream": "stdout",
       "text": [
        " 314 \tdomain: 1 \titeration: 14 \tstep: 24375 \tforth\n",
        "curve:"
       ]
      },
      {
       "output_type": "stream",
       "stream": "stdout",
       "text": [
        " 315 \tdomain: 1 \titeration: 15 \tstep: 24376 \tforth\n",
        "curve:"
       ]
      },
      {
       "output_type": "stream",
       "stream": "stdout",
       "text": [
        " 316 \tdomain: 1 \titeration: 16 \tstep: 24377 \tforth\n",
        "curve:"
       ]
      },
      {
       "output_type": "stream",
       "stream": "stdout",
       "text": [
        " 317 \tdomain: 1 \titeration: 17 \tstep: 24378 \tforth\n",
        "curve:"
       ]
      },
      {
       "output_type": "stream",
       "stream": "stdout",
       "text": [
        " 318 \tdomain: 1 \titeration: 18 \tstep: 24379 \tforth\n",
        "curve:"
       ]
      },
      {
       "output_type": "stream",
       "stream": "stdout",
       "text": [
        " 319 \tdomain: 1 \titeration: 19 \tstep: 24380 \tforth\n",
        "curve:"
       ]
      },
      {
       "output_type": "stream",
       "stream": "stdout",
       "text": [
        " 320 \tdomain: 1 \titeration: 20 \tstep: 24381 \tforth\n",
        "curve:"
       ]
      },
      {
       "output_type": "stream",
       "stream": "stdout",
       "text": [
        " 321 \tdomain: 1 \titeration: 21 \tstep: 24382 \tforth\n",
        "curve:"
       ]
      },
      {
       "output_type": "stream",
       "stream": "stdout",
       "text": [
        " 322 \tdomain: 1 \titeration: 22 \tstep: 24383 \tforth\n",
        "curve:"
       ]
      },
      {
       "output_type": "stream",
       "stream": "stdout",
       "text": [
        " 323 \tdomain: 1 \titeration: 23 \tstep: 24384 \tforth\n",
        "curve:"
       ]
      },
      {
       "output_type": "stream",
       "stream": "stdout",
       "text": [
        " 324 \tdomain: 1 \titeration: 24 \tstep: 24385 \tforth\n",
        "curve:"
       ]
      },
      {
       "output_type": "stream",
       "stream": "stdout",
       "text": [
        " 325 \tdomain: 1 \titeration: 25 \tstep: 24386 \tforth\n",
        "curve:"
       ]
      },
      {
       "output_type": "stream",
       "stream": "stdout",
       "text": [
        " 326 \tdomain: 1 \titeration: 26 \tstep: 24387 \tforth\n",
        "curve:"
       ]
      },
      {
       "output_type": "stream",
       "stream": "stdout",
       "text": [
        " 327 \tdomain: 1 \titeration: 27 \tstep: 24388 \tforth\n",
        "curve:"
       ]
      },
      {
       "output_type": "stream",
       "stream": "stdout",
       "text": [
        " 328 \tdomain: 1 \titeration: 28 \tstep: 24389 \tforth\n",
        "curve:"
       ]
      },
      {
       "output_type": "stream",
       "stream": "stdout",
       "text": [
        " 329 \tdomain: 1 \titeration: 29 \tstep: 24390 \tforth\n",
        "curve:"
       ]
      },
      {
       "output_type": "stream",
       "stream": "stdout",
       "text": [
        " 330 \tdomain: 1 \titeration: 30 \tstep: 24391 \tforth\n",
        "curve:"
       ]
      },
      {
       "output_type": "stream",
       "stream": "stdout",
       "text": [
        " 331 \tdomain: 1 \titeration: 31 \tstep: 24392 \tforth\n",
        "curve:"
       ]
      },
      {
       "output_type": "stream",
       "stream": "stdout",
       "text": [
        " 332 \tdomain: 1 \titeration: 32 \tstep: 24393 \tforth\n",
        "curve:"
       ]
      },
      {
       "output_type": "stream",
       "stream": "stdout",
       "text": [
        " 333 \tdomain: 1 \titeration: 33 \tstep: 24394 \tforth\n",
        "curve:"
       ]
      },
      {
       "output_type": "stream",
       "stream": "stdout",
       "text": [
        " 334 \tdomain: 1 \titeration: 34 \tstep: 24395 \tforth\n",
        "curve:"
       ]
      },
      {
       "output_type": "stream",
       "stream": "stdout",
       "text": [
        " 335 \tdomain: 1 \titeration: 35 \tstep: 24396 \tforth\n",
        "curve:"
       ]
      },
      {
       "output_type": "stream",
       "stream": "stdout",
       "text": [
        " 336 \tdomain: 1 \titeration: 36 \tstep: 24397 \tforth\n",
        "curve:"
       ]
      },
      {
       "output_type": "stream",
       "stream": "stdout",
       "text": [
        " 337 \tdomain: 1 \titeration: 37 \tstep: 24398 \tforth\n",
        "curve:"
       ]
      },
      {
       "output_type": "stream",
       "stream": "stdout",
       "text": [
        " 338 \tdomain: 1 \titeration: 38 \tstep: 24399 \tforth\n",
        "curve:"
       ]
      },
      {
       "output_type": "stream",
       "stream": "stdout",
       "text": [
        " 339 \tdomain: 1 \titeration: 39 \tstep: 24400 \tforth\n",
        "curve:"
       ]
      },
      {
       "output_type": "stream",
       "stream": "stdout",
       "text": [
        " 340 \tdomain: 1 \titeration: 40 \tstep: 24401 \tforth\n",
        "curve:"
       ]
      },
      {
       "output_type": "stream",
       "stream": "stdout",
       "text": [
        " 341 \tdomain: 1 \titeration: 41 \tstep: 24402 \tforth\n",
        "curve:"
       ]
      },
      {
       "output_type": "stream",
       "stream": "stdout",
       "text": [
        " 342 \tdomain: 1 \titeration: 42 \tstep: 24403 \tforth\n",
        "curve:"
       ]
      },
      {
       "output_type": "stream",
       "stream": "stdout",
       "text": [
        " 343 \tdomain: 1 \titeration: 43 \tstep: 24404 \tforth\n",
        "curve:"
       ]
      },
      {
       "output_type": "stream",
       "stream": "stdout",
       "text": [
        " 344 \tdomain: 1 \titeration: 44 \tstep: 24405 \tforth\n",
        "curve:"
       ]
      },
      {
       "output_type": "stream",
       "stream": "stdout",
       "text": [
        " 345 \tdomain: 1 \titeration: 45 \tstep: 24406 \tforth\n",
        "curve:"
       ]
      },
      {
       "output_type": "stream",
       "stream": "stdout",
       "text": [
        " 346 \tdomain: 1 \titeration: 46 \tstep: 24407 \tforth\n",
        "curve:"
       ]
      },
      {
       "output_type": "stream",
       "stream": "stdout",
       "text": [
        " 347 \tdomain: 1 \titeration: 47 \tstep: 24408 \tforth\n",
        "curve:"
       ]
      },
      {
       "output_type": "stream",
       "stream": "stdout",
       "text": [
        " 348 \tdomain: 1 \titeration: 48 \tstep: 24409 \tforth\n",
        "curve:"
       ]
      },
      {
       "output_type": "stream",
       "stream": "stdout",
       "text": [
        " 349 \tdomain: 1 \titeration: 49 \tstep: 24410 \tforth\n",
        "curve:"
       ]
      },
      {
       "output_type": "stream",
       "stream": "stdout",
       "text": [
        " 350 \tdomain: 1 \titeration: 50 \tstep: 24411 \tforth\n",
        "curve:"
       ]
      },
      {
       "output_type": "stream",
       "stream": "stdout",
       "text": [
        " 351 \tdomain: 1 \titeration: 51 \tstep: 24412 \tforth\n",
        "curve:"
       ]
      },
      {
       "output_type": "stream",
       "stream": "stdout",
       "text": [
        " 352 \tdomain: 1 \titeration: 52 \tstep: 24413 \tforth\n",
        "curve:"
       ]
      },
      {
       "output_type": "stream",
       "stream": "stdout",
       "text": [
        " 353 \tdomain: 1 \titeration: 53 \tstep: 24414 \tforth\n",
        "curve:"
       ]
      },
      {
       "output_type": "stream",
       "stream": "stdout",
       "text": [
        " 354 \tdomain: 1 \titeration: 54 \tstep: 24415 \tforth\n",
        "curve:"
       ]
      },
      {
       "output_type": "stream",
       "stream": "stdout",
       "text": [
        " 355 \tdomain: 1 \titeration: 55 \tstep: 24416 \tforth\n",
        "curve:"
       ]
      },
      {
       "output_type": "stream",
       "stream": "stdout",
       "text": [
        " 356 \tdomain: 1 \titeration: 56 \tstep: 24417 \tforth\n",
        "curve:"
       ]
      },
      {
       "output_type": "stream",
       "stream": "stdout",
       "text": [
        " 357 \tdomain: 1 \titeration: 57 \tstep: 24418 \tforth\n",
        "curve:"
       ]
      },
      {
       "output_type": "stream",
       "stream": "stdout",
       "text": [
        " 358 \tdomain: 1 \titeration: 58 \tstep: 24419 \tforth\n",
        "curve:"
       ]
      },
      {
       "output_type": "stream",
       "stream": "stdout",
       "text": [
        " 359 \tdomain: 1 \titeration: 59 \tstep: 24420 \tforth\n",
        "curve:"
       ]
      },
      {
       "output_type": "stream",
       "stream": "stdout",
       "text": [
        " 360 \tdomain: 1 \titeration: 60 \tstep: 24421 \tforth\n",
        "curve:"
       ]
      },
      {
       "output_type": "stream",
       "stream": "stdout",
       "text": [
        " 361 \tdomain: 1 \titeration: 61 \tstep: 24422 \tforth\n",
        "curve:"
       ]
      },
      {
       "output_type": "stream",
       "stream": "stdout",
       "text": [
        " 362 \tdomain: 1 \titeration: 62 \tstep: 24423 \tforth\n",
        "curve:"
       ]
      },
      {
       "output_type": "stream",
       "stream": "stdout",
       "text": [
        " 363 \tdomain: 1 \titeration: 63 \tstep: 24424 \tforth\n",
        "curve:"
       ]
      },
      {
       "output_type": "stream",
       "stream": "stdout",
       "text": [
        " 364 \tdomain: 1 \titeration: 64 \tstep: 24425 \tforth\n",
        "curve:"
       ]
      },
      {
       "output_type": "stream",
       "stream": "stdout",
       "text": [
        " 365 \tdomain: 1 \titeration: 65 \tstep: 24426 \tforth\n",
        "curve:"
       ]
      },
      {
       "output_type": "stream",
       "stream": "stdout",
       "text": [
        " 366 \tdomain: 1 \titeration: 66 \tstep: 24427 \tforth\n",
        "curve:"
       ]
      },
      {
       "output_type": "stream",
       "stream": "stdout",
       "text": [
        " 367 \tdomain: 1 \titeration: 67 \tstep: 24428 \tforth\n",
        "curve:"
       ]
      },
      {
       "output_type": "stream",
       "stream": "stdout",
       "text": [
        " 368 \tdomain: 1 \titeration: 68 \tstep: 24429 \tforth\n",
        "curve:"
       ]
      },
      {
       "output_type": "stream",
       "stream": "stdout",
       "text": [
        " 369 \tdomain: 1 \titeration: 69 \tstep: 24430 \tforth\n",
        "curve:"
       ]
      },
      {
       "output_type": "stream",
       "stream": "stdout",
       "text": [
        " 370 \tdomain: 1 \titeration: 70 \tstep: 24431 \tforth\n",
        "curve:"
       ]
      },
      {
       "output_type": "stream",
       "stream": "stdout",
       "text": [
        " 371 \tdomain: 1 \titeration: 71 \tstep: 24432 \tforth\n",
        "curve:"
       ]
      },
      {
       "output_type": "stream",
       "stream": "stdout",
       "text": [
        " 372 \tdomain: 1 \titeration: 72 \tstep: 24433 \tforth\n",
        "curve:"
       ]
      },
      {
       "output_type": "stream",
       "stream": "stdout",
       "text": [
        " 373 \tdomain: 1 \titeration: 73 \tstep: 24434 \tforth\n",
        "curve:"
       ]
      },
      {
       "output_type": "stream",
       "stream": "stdout",
       "text": [
        " 374 \tdomain: 1 \titeration: 74 \tstep: 24435 \tforth\n",
        "curve:"
       ]
      },
      {
       "output_type": "stream",
       "stream": "stdout",
       "text": [
        " 375 \tdomain: 1 \titeration: 75 \tstep: 24436 \tforth\n",
        "curve:"
       ]
      },
      {
       "output_type": "stream",
       "stream": "stdout",
       "text": [
        " 376 \tdomain: 1 \titeration: 76 \tstep: 24437 \tforth\n",
        "curve:"
       ]
      },
      {
       "output_type": "stream",
       "stream": "stdout",
       "text": [
        " 377 \tdomain: 1 \titeration: 77 \tstep: 24438 \tforth\n",
        "curve:"
       ]
      },
      {
       "output_type": "stream",
       "stream": "stdout",
       "text": [
        " 378 \tdomain: 1 \titeration: 78 \tstep: 24439 \tforth\n",
        "curve:"
       ]
      },
      {
       "output_type": "stream",
       "stream": "stdout",
       "text": [
        " 379 \tdomain: 1 \titeration: 79 \tstep: 24440 \tforth\n",
        "curve:"
       ]
      },
      {
       "output_type": "stream",
       "stream": "stdout",
       "text": [
        " 380 \tdomain: 1 \titeration: 80 \tstep: 24441 \tforth\n",
        "curve:"
       ]
      },
      {
       "output_type": "stream",
       "stream": "stdout",
       "text": [
        " 381 \tdomain: 1 \titeration: 81 \tstep: 24442 \tforth\n",
        "curve:"
       ]
      },
      {
       "output_type": "stream",
       "stream": "stdout",
       "text": [
        " 382 \tdomain: 1 \titeration: 82 \tstep: 24443 \tforth\n",
        "curve:"
       ]
      },
      {
       "output_type": "stream",
       "stream": "stdout",
       "text": [
        " 383 \tdomain: 1 \titeration: 83 \tstep: 24444 \tforth\n",
        "curve:"
       ]
      },
      {
       "output_type": "stream",
       "stream": "stdout",
       "text": [
        " 384 \tdomain: 1 \titeration: 84 \tstep: 24445 \tforth\n",
        "curve:"
       ]
      },
      {
       "output_type": "stream",
       "stream": "stdout",
       "text": [
        " 385 \tdomain: 1 \titeration: 85 \tstep: 24446 \tforth\n",
        "curve:"
       ]
      },
      {
       "output_type": "stream",
       "stream": "stdout",
       "text": [
        " 386 \tdomain: 1 \titeration: 86 \tstep: 24447 \tforth\n",
        "curve:"
       ]
      },
      {
       "output_type": "stream",
       "stream": "stdout",
       "text": [
        " 387 \tdomain: 1 \titeration: 87 \tstep: 24448 \tforth\n",
        "curve:"
       ]
      },
      {
       "output_type": "stream",
       "stream": "stdout",
       "text": [
        " 388 \tdomain: 1 \titeration: 88 \tstep: 24449 \tforth\n",
        "curve:"
       ]
      },
      {
       "output_type": "stream",
       "stream": "stdout",
       "text": [
        " 389 \tdomain: 1 \titeration: 89 \tstep: 24450 \tforth\n",
        "curve:"
       ]
      },
      {
       "output_type": "stream",
       "stream": "stdout",
       "text": [
        " 390 \tdomain: 1 \titeration: 90 \tstep: 24451 \tforth\n",
        "curve:"
       ]
      },
      {
       "output_type": "stream",
       "stream": "stdout",
       "text": [
        " 391 \tdomain: 1 \titeration: 91 \tstep: 24452 \tforth\n",
        "curve:"
       ]
      },
      {
       "output_type": "stream",
       "stream": "stdout",
       "text": [
        " 392 \tdomain: 1 \titeration: 92 \tstep: 24453 \tforth\n",
        "curve:"
       ]
      },
      {
       "output_type": "stream",
       "stream": "stdout",
       "text": [
        " 393 \tdomain: 1 \titeration: 93 \tstep: 24454 \tforth\n",
        "curve:"
       ]
      },
      {
       "output_type": "stream",
       "stream": "stdout",
       "text": [
        " 394 \tdomain: 1 \titeration: 94 \tstep: 24455 \tforth\n",
        "curve:"
       ]
      },
      {
       "output_type": "stream",
       "stream": "stdout",
       "text": [
        " 395 \tdomain: 1 \titeration: 95 \tstep: 24456 \tforth\n",
        "curve:"
       ]
      },
      {
       "output_type": "stream",
       "stream": "stdout",
       "text": [
        " 396 \tdomain: 1 \titeration: 96 \tstep: 24457 \tforth\n",
        "curve:"
       ]
      },
      {
       "output_type": "stream",
       "stream": "stdout",
       "text": [
        " 397 \tdomain: 1 \titeration: 97 \tstep: 24458 \tforth\n",
        "curve:"
       ]
      },
      {
       "output_type": "stream",
       "stream": "stdout",
       "text": [
        " 398 \tdomain: 1 \titeration: 98 \tstep: 24459 \tforth\n",
        "curve:"
       ]
      },
      {
       "output_type": "stream",
       "stream": "stdout",
       "text": [
        " 399 \tdomain: 1 \titeration: 99 \tstep: 24460 \tforth\n",
        "curve:"
       ]
      },
      {
       "output_type": "stream",
       "stream": "stdout",
       "text": [
        " 400 \tdomain: 2 \titeration: 0 \tstep: 24360 \tback\n",
        "curve:"
       ]
      },
      {
       "output_type": "stream",
       "stream": "stdout",
       "text": [
        " 401 \tdomain: 2 \titeration: 1 \tstep: 24359 \tback\n",
        "curve:"
       ]
      },
      {
       "output_type": "stream",
       "stream": "stdout",
       "text": [
        " 402 \tdomain: 2 \titeration: 2 \tstep: 24358 \tback\n",
        "curve:"
       ]
      },
      {
       "output_type": "stream",
       "stream": "stdout",
       "text": [
        " 403 \tdomain: 2 \titeration: 3 \tstep: 24357 \tback\n",
        "curve:"
       ]
      },
      {
       "output_type": "stream",
       "stream": "stdout",
       "text": [
        " 404 \tdomain: 2 \titeration: 4 \tstep: 24356 \tback\n",
        "curve:"
       ]
      },
      {
       "output_type": "stream",
       "stream": "stdout",
       "text": [
        " 405 \tdomain: 2 \titeration: 5 \tstep: 24355 \tback\n",
        "curve:"
       ]
      },
      {
       "output_type": "stream",
       "stream": "stdout",
       "text": [
        " 406 \tdomain: 2 \titeration: 6 \tstep: 24354 \tback\n",
        "curve:"
       ]
      },
      {
       "output_type": "stream",
       "stream": "stdout",
       "text": [
        " 407 \tdomain: 2 \titeration: 7 \tstep: 24353 \tback\n",
        "curve:"
       ]
      },
      {
       "output_type": "stream",
       "stream": "stdout",
       "text": [
        " 408 \tdomain: 2 \titeration: 8 \tstep: 24352 \tback\n",
        "curve:"
       ]
      },
      {
       "output_type": "stream",
       "stream": "stdout",
       "text": [
        " 409 \tdomain: 2 \titeration: 9 \tstep: 24351 \tback\n",
        "curve:"
       ]
      },
      {
       "output_type": "stream",
       "stream": "stdout",
       "text": [
        " 410 \tdomain: 2 \titeration: 10 \tstep: 24350 \tback\n",
        "curve:"
       ]
      },
      {
       "output_type": "stream",
       "stream": "stdout",
       "text": [
        " 411 \tdomain: 2 \titeration: 11 \tstep: 24349 \tback\n",
        "curve:"
       ]
      },
      {
       "output_type": "stream",
       "stream": "stdout",
       "text": [
        " 412 \tdomain: 2 \titeration: 12 \tstep: 24348 \tback\n",
        "curve:"
       ]
      },
      {
       "output_type": "stream",
       "stream": "stdout",
       "text": [
        " 413 \tdomain: 2 \titeration: 13 \tstep: 24347 \tback\n",
        "curve:"
       ]
      },
      {
       "output_type": "stream",
       "stream": "stdout",
       "text": [
        " 414 \tdomain: 2 \titeration: 14 \tstep: 24346 \tback\n",
        "curve:"
       ]
      },
      {
       "output_type": "stream",
       "stream": "stdout",
       "text": [
        " 415 \tdomain: 2 \titeration: 15 \tstep: 24345 \tback\n",
        "curve:"
       ]
      },
      {
       "output_type": "stream",
       "stream": "stdout",
       "text": [
        " 416 \tdomain: 2 \titeration: 16 \tstep: 24344 \tback\n",
        "curve:"
       ]
      },
      {
       "output_type": "stream",
       "stream": "stdout",
       "text": [
        " 417 \tdomain: 2 \titeration: 17 \tstep: 24343 \tback\n",
        "curve:"
       ]
      },
      {
       "output_type": "stream",
       "stream": "stdout",
       "text": [
        " 418 \tdomain: 2 \titeration: 18 \tstep: 24342 \tback\n",
        "curve:"
       ]
      },
      {
       "output_type": "stream",
       "stream": "stdout",
       "text": [
        " 419 \tdomain: 2 \titeration: 19 \tstep: 24341 \tback\n",
        "curve:"
       ]
      },
      {
       "output_type": "stream",
       "stream": "stdout",
       "text": [
        " 420 \tdomain: 2 \titeration: 20 \tstep: 24340 \tback\n",
        "curve:"
       ]
      },
      {
       "output_type": "stream",
       "stream": "stdout",
       "text": [
        " 421 \tdomain: 2 \titeration: 21 \tstep: 24339 \tback\n",
        "curve:"
       ]
      },
      {
       "output_type": "stream",
       "stream": "stdout",
       "text": [
        " 422 \tdomain: 2 \titeration: 22 \tstep: 24338 \tback\n",
        "curve:"
       ]
      },
      {
       "output_type": "stream",
       "stream": "stdout",
       "text": [
        " 423 \tdomain: 2 \titeration: 23 \tstep: 24337 \tback\n",
        "curve:"
       ]
      },
      {
       "output_type": "stream",
       "stream": "stdout",
       "text": [
        " 424 \tdomain: 2 \titeration: 24 \tstep: 24336 \tback\n",
        "curve:"
       ]
      },
      {
       "output_type": "stream",
       "stream": "stdout",
       "text": [
        " 425 \tdomain: 2 \titeration: 25 \tstep: 24335 \tback\n",
        "curve:"
       ]
      },
      {
       "output_type": "stream",
       "stream": "stdout",
       "text": [
        " 426 \tdomain: 2 \titeration: 26 \tstep: 24334 \tback\n",
        "curve:"
       ]
      },
      {
       "output_type": "stream",
       "stream": "stdout",
       "text": [
        " 427 \tdomain: 2 \titeration: 27 \tstep: 24333 \tback\n",
        "curve:"
       ]
      },
      {
       "output_type": "stream",
       "stream": "stdout",
       "text": [
        " 428 \tdomain: 2 \titeration: 28 \tstep: 24332 \tback\n",
        "curve:"
       ]
      },
      {
       "output_type": "stream",
       "stream": "stdout",
       "text": [
        " 429 \tdomain: 2 \titeration: 29 \tstep: 24331 \tback\n",
        "curve:"
       ]
      },
      {
       "output_type": "stream",
       "stream": "stdout",
       "text": [
        " 430 \tdomain: 2 \titeration: 30 \tstep: 24330 \tback\n",
        "curve:"
       ]
      },
      {
       "output_type": "stream",
       "stream": "stdout",
       "text": [
        " 431 \tdomain: 2 \titeration: 31 \tstep: 24329 \tback\n",
        "curve:"
       ]
      },
      {
       "output_type": "stream",
       "stream": "stdout",
       "text": [
        " 432 \tdomain: 2 \titeration: 32 \tstep: 24328 \tback\n",
        "curve:"
       ]
      },
      {
       "output_type": "stream",
       "stream": "stdout",
       "text": [
        " 433 \tdomain: 2 \titeration: 33 \tstep: 24327 \tback\n",
        "curve:"
       ]
      },
      {
       "output_type": "stream",
       "stream": "stdout",
       "text": [
        " 434 \tdomain: 2 \titeration: 34 \tstep: 24326 \tback\n",
        "curve:"
       ]
      },
      {
       "output_type": "stream",
       "stream": "stdout",
       "text": [
        " 435 \tdomain: 2 \titeration: 35 \tstep: 24325 \tback\n",
        "curve:"
       ]
      },
      {
       "output_type": "stream",
       "stream": "stdout",
       "text": [
        " 436 \tdomain: 2 \titeration: 36 \tstep: 24324 \tback\n",
        "curve:"
       ]
      },
      {
       "output_type": "stream",
       "stream": "stdout",
       "text": [
        " 437 \tdomain: 2 \titeration: 37 \tstep: 24323 \tback\n",
        "curve:"
       ]
      },
      {
       "output_type": "stream",
       "stream": "stdout",
       "text": [
        " 438 \tdomain: 2 \titeration: 38 \tstep: 24322 \tback\n",
        "curve:"
       ]
      },
      {
       "output_type": "stream",
       "stream": "stdout",
       "text": [
        " 439 \tdomain: 2 \titeration: 39 \tstep: 24321 \tback\n",
        "curve:"
       ]
      },
      {
       "output_type": "stream",
       "stream": "stdout",
       "text": [
        " 440 \tdomain: 2 \titeration: 40 \tstep: 24320 \tback\n",
        "curve:"
       ]
      },
      {
       "output_type": "stream",
       "stream": "stdout",
       "text": [
        " 441 \tdomain: 2 \titeration: 41 \tstep: 24319 \tback\n",
        "curve:"
       ]
      },
      {
       "output_type": "stream",
       "stream": "stdout",
       "text": [
        " 442 \tdomain: 2 \titeration: 42 \tstep: 24318 \tback\n",
        "curve:"
       ]
      },
      {
       "output_type": "stream",
       "stream": "stdout",
       "text": [
        " 443 \tdomain: 2 \titeration: 43 \tstep: 24317 \tback\n",
        "curve:"
       ]
      },
      {
       "output_type": "stream",
       "stream": "stdout",
       "text": [
        " 444 \tdomain: 2 \titeration: 44 \tstep: 24316 \tback\n",
        "curve:"
       ]
      },
      {
       "output_type": "stream",
       "stream": "stdout",
       "text": [
        " 445 \tdomain: 2 \titeration: 45 \tstep: 24315 \tback\n",
        "curve:"
       ]
      },
      {
       "output_type": "stream",
       "stream": "stdout",
       "text": [
        " 446 \tdomain: 2 \titeration: 46 \tstep: 24314 \tback\n",
        "curve:"
       ]
      },
      {
       "output_type": "stream",
       "stream": "stdout",
       "text": [
        " 447 \tdomain: 2 \titeration: 47 \tstep: 24313 \tback\n",
        "curve:"
       ]
      },
      {
       "output_type": "stream",
       "stream": "stdout",
       "text": [
        " 448 \tdomain: 2 \titeration: 48 \tstep: 24312 \tback\n",
        "curve:"
       ]
      },
      {
       "output_type": "stream",
       "stream": "stdout",
       "text": [
        " 449 \tdomain: 2 \titeration: 49 \tstep: 24311 \tback\n",
        "curve:"
       ]
      },
      {
       "output_type": "stream",
       "stream": "stdout",
       "text": [
        " 450 \tdomain: 2 \titeration: 50 \tstep: 24310 \tback\n",
        "curve:"
       ]
      },
      {
       "output_type": "stream",
       "stream": "stdout",
       "text": [
        " 451 \tdomain: 2 \titeration: 51 \tstep: 24309 \tback\n",
        "curve:"
       ]
      },
      {
       "output_type": "stream",
       "stream": "stdout",
       "text": [
        " 452 \tdomain: 2 \titeration: 52 \tstep: 24308 \tback\n",
        "curve:"
       ]
      },
      {
       "output_type": "stream",
       "stream": "stdout",
       "text": [
        " 453 \tdomain: 2 \titeration: 53 \tstep: 24307 \tback\n",
        "curve:"
       ]
      },
      {
       "output_type": "stream",
       "stream": "stdout",
       "text": [
        " 454 \tdomain: 2 \titeration: 54 \tstep: 24306 \tback\n",
        "curve:"
       ]
      },
      {
       "output_type": "stream",
       "stream": "stdout",
       "text": [
        " 455 \tdomain: 2 \titeration: 55 \tstep: 24305 \tback\n",
        "curve:"
       ]
      },
      {
       "output_type": "stream",
       "stream": "stdout",
       "text": [
        " 456 \tdomain: 2 \titeration: 56 \tstep: 24304 \tback\n",
        "curve:"
       ]
      },
      {
       "output_type": "stream",
       "stream": "stdout",
       "text": [
        " 457 \tdomain: 2 \titeration: 57 \tstep: 24303 \tback\n",
        "curve:"
       ]
      },
      {
       "output_type": "stream",
       "stream": "stdout",
       "text": [
        " 458 \tdomain: 2 \titeration: 58 \tstep: 24302 \tback\n",
        "curve:"
       ]
      },
      {
       "output_type": "stream",
       "stream": "stdout",
       "text": [
        " 459 \tdomain: 2 \titeration: 59 \tstep: 24301 \tback\n",
        "curve:"
       ]
      },
      {
       "output_type": "stream",
       "stream": "stdout",
       "text": [
        " 460 \tdomain: 2 \titeration: 60 \tstep: 24300 \tback\n",
        "curve:"
       ]
      },
      {
       "output_type": "stream",
       "stream": "stdout",
       "text": [
        " 461 \tdomain: 2 \titeration: 61 \tstep: 24299 \tback\n",
        "curve:"
       ]
      },
      {
       "output_type": "stream",
       "stream": "stdout",
       "text": [
        " 462 \tdomain: 2 \titeration: 62 \tstep: 24298 \tback\n",
        "curve:"
       ]
      },
      {
       "output_type": "stream",
       "stream": "stdout",
       "text": [
        " 463 \tdomain: 2 \titeration: 63 \tstep: 24297 \tback\n",
        "curve:"
       ]
      },
      {
       "output_type": "stream",
       "stream": "stdout",
       "text": [
        " 464 \tdomain: 2 \titeration: 64 \tstep: 24296 \tback\n",
        "curve:"
       ]
      },
      {
       "output_type": "stream",
       "stream": "stdout",
       "text": [
        " 465 \tdomain: 2 \titeration: 65 \tstep: 24295 \tback\n",
        "curve:"
       ]
      },
      {
       "output_type": "stream",
       "stream": "stdout",
       "text": [
        " 466 \tdomain: 2 \titeration: 66 \tstep: 24294 \tback\n",
        "curve:"
       ]
      },
      {
       "output_type": "stream",
       "stream": "stdout",
       "text": [
        " 467 \tdomain: 2 \titeration: 67 \tstep: 24293 \tback\n",
        "curve:"
       ]
      },
      {
       "output_type": "stream",
       "stream": "stdout",
       "text": [
        " 468 \tdomain: 2 \titeration: 68 \tstep: 24292 \tback\n",
        "curve:"
       ]
      },
      {
       "output_type": "stream",
       "stream": "stdout",
       "text": [
        " 469 \tdomain: 2 \titeration: 69 \tstep: 24291 \tback\n",
        "curve:"
       ]
      },
      {
       "output_type": "stream",
       "stream": "stdout",
       "text": [
        " 470 \tdomain: 2 \titeration: 70 \tstep: 24290 \tback\n",
        "curve:"
       ]
      },
      {
       "output_type": "stream",
       "stream": "stdout",
       "text": [
        " 471 \tdomain: 2 \titeration: 71 \tstep: 24289 \tback\n",
        "curve:"
       ]
      },
      {
       "output_type": "stream",
       "stream": "stdout",
       "text": [
        " 472 \tdomain: 2 \titeration: 72 \tstep: 24288 \tback\n",
        "curve:"
       ]
      },
      {
       "output_type": "stream",
       "stream": "stdout",
       "text": [
        " 473 \tdomain: 2 \titeration: 73 \tstep: 24287 \tback\n",
        "curve:"
       ]
      },
      {
       "output_type": "stream",
       "stream": "stdout",
       "text": [
        " 474 \tdomain: 2 \titeration: 74 \tstep: 24286 \tback\n",
        "curve:"
       ]
      },
      {
       "output_type": "stream",
       "stream": "stdout",
       "text": [
        " 475 \tdomain: 2 \titeration: 75 \tstep: 24285 \tback\n",
        "curve:"
       ]
      },
      {
       "output_type": "stream",
       "stream": "stdout",
       "text": [
        " 476 \tdomain: 2 \titeration: 76 \tstep: 24284 \tback\n",
        "curve:"
       ]
      },
      {
       "output_type": "stream",
       "stream": "stdout",
       "text": [
        " 477 \tdomain: 2 \titeration: 77 \tstep: 24283 \tback\n",
        "curve:"
       ]
      },
      {
       "output_type": "stream",
       "stream": "stdout",
       "text": [
        " 478 \tdomain: 2 \titeration: 78 \tstep: 24282 \tback\n",
        "curve:"
       ]
      },
      {
       "output_type": "stream",
       "stream": "stdout",
       "text": [
        " 479 \tdomain: 2 \titeration: 79 \tstep: 24281 \tback\n",
        "curve:"
       ]
      },
      {
       "output_type": "stream",
       "stream": "stdout",
       "text": [
        " 480 \tdomain: 2 \titeration: 80 \tstep: 24280 \tback\n",
        "curve:"
       ]
      },
      {
       "output_type": "stream",
       "stream": "stdout",
       "text": [
        " 481 \tdomain: 2 \titeration: 81 \tstep: 24279 \tback\n",
        "curve:"
       ]
      },
      {
       "output_type": "stream",
       "stream": "stdout",
       "text": [
        " 482 \tdomain: 2 \titeration: 82 \tstep: 24278 \tback\n",
        "curve:"
       ]
      },
      {
       "output_type": "stream",
       "stream": "stdout",
       "text": [
        " 483 \tdomain: 2 \titeration: 83 \tstep: 24277 \tback\n",
        "curve:"
       ]
      },
      {
       "output_type": "stream",
       "stream": "stdout",
       "text": [
        " 484 \tdomain: 2 \titeration: 84 \tstep: 24276 \tback\n",
        "curve:"
       ]
      },
      {
       "output_type": "stream",
       "stream": "stdout",
       "text": [
        " 485 \tdomain: 2 \titeration: 85 \tstep: 24275 \tback\n",
        "curve:"
       ]
      },
      {
       "output_type": "stream",
       "stream": "stdout",
       "text": [
        " 486 \tdomain: 2 \titeration: 86 \tstep: 24274 \tback\n",
        "curve:"
       ]
      },
      {
       "output_type": "stream",
       "stream": "stdout",
       "text": [
        " 487 \tdomain: 2 \titeration: 87 \tstep: 24273 \tback\n",
        "curve:"
       ]
      },
      {
       "output_type": "stream",
       "stream": "stdout",
       "text": [
        " 488 \tdomain: 2 \titeration: 88 \tstep: 24272 \tback\n",
        "curve:"
       ]
      },
      {
       "output_type": "stream",
       "stream": "stdout",
       "text": [
        " 489 \tdomain: 2 \titeration: 89 \tstep: 24271 \tback\n",
        "curve:"
       ]
      },
      {
       "output_type": "stream",
       "stream": "stdout",
       "text": [
        " 490 \tdomain: 2 \titeration: 90 \tstep: 24270 \tback\n",
        "curve:"
       ]
      },
      {
       "output_type": "stream",
       "stream": "stdout",
       "text": [
        " 491 \tdomain: 2 \titeration: 91 \tstep: 24269 \tback\n",
        "curve:"
       ]
      },
      {
       "output_type": "stream",
       "stream": "stdout",
       "text": [
        " 492 \tdomain: 2 \titeration: 92 \tstep: 24268 \tback\n",
        "curve:"
       ]
      },
      {
       "output_type": "stream",
       "stream": "stdout",
       "text": [
        " 493 \tdomain: 2 \titeration: 93 \tstep: 24267 \tback\n",
        "curve:"
       ]
      },
      {
       "output_type": "stream",
       "stream": "stdout",
       "text": [
        " 494 \tdomain: 2 \titeration: 94 \tstep: 24266 \tback\n",
        "curve:"
       ]
      },
      {
       "output_type": "stream",
       "stream": "stdout",
       "text": [
        " 495 \tdomain: 2 \titeration: 95 \tstep: 24265 \tback\n",
        "curve:"
       ]
      },
      {
       "output_type": "stream",
       "stream": "stdout",
       "text": [
        " 496 \tdomain: 2 \titeration: 96 \tstep: 24264 \tback\n",
        "curve:"
       ]
      },
      {
       "output_type": "stream",
       "stream": "stdout",
       "text": [
        " 497 \tdomain: 2 \titeration: 97 \tstep: 24263 \tback\n",
        "curve:"
       ]
      },
      {
       "output_type": "stream",
       "stream": "stdout",
       "text": [
        " 498 \tdomain: 2 \titeration: 98 \tstep: 24262 \tback\n",
        "curve:"
       ]
      },
      {
       "output_type": "stream",
       "stream": "stdout",
       "text": [
        " 499 \tdomain: 2 \titeration: 99 \tstep: 24261 \tback\n",
        "curve:"
       ]
      },
      {
       "output_type": "stream",
       "stream": "stdout",
       "text": [
        " 500 \tdomain: 2 \titeration: 0 \tstep: 24261 \tforth\n",
        "curve:"
       ]
      },
      {
       "output_type": "stream",
       "stream": "stdout",
       "text": [
        " 501 \tdomain: 2 \titeration: 1 \tstep: 24262 \tforth\n",
        "curve:"
       ]
      },
      {
       "output_type": "stream",
       "stream": "stdout",
       "text": [
        " 502 \tdomain: 2 \titeration: 2 \tstep: 24263 \tforth\n",
        "curve:"
       ]
      },
      {
       "output_type": "stream",
       "stream": "stdout",
       "text": [
        " 503 \tdomain: 2 \titeration: 3 \tstep: 24264 \tforth\n",
        "curve:"
       ]
      },
      {
       "output_type": "stream",
       "stream": "stdout",
       "text": [
        " 504 \tdomain: 2 \titeration: 4 \tstep: 24265 \tforth\n",
        "curve:"
       ]
      },
      {
       "output_type": "stream",
       "stream": "stdout",
       "text": [
        " 505 \tdomain: 2 \titeration: 5 \tstep: 24266 \tforth\n",
        "curve:"
       ]
      },
      {
       "output_type": "stream",
       "stream": "stdout",
       "text": [
        " 506 \tdomain: 2 \titeration: 6 \tstep: 24267 \tforth\n",
        "curve:"
       ]
      },
      {
       "output_type": "stream",
       "stream": "stdout",
       "text": [
        " 507 \tdomain: 2 \titeration: 7 \tstep: 24268 \tforth\n",
        "curve:"
       ]
      },
      {
       "output_type": "stream",
       "stream": "stdout",
       "text": [
        " 508 \tdomain: 2 \titeration: 8 \tstep: 24269 \tforth\n",
        "curve:"
       ]
      },
      {
       "output_type": "stream",
       "stream": "stdout",
       "text": [
        " 509 \tdomain: 2 \titeration: 9 \tstep: 24270 \tforth\n",
        "curve:"
       ]
      },
      {
       "output_type": "stream",
       "stream": "stdout",
       "text": [
        " 510 \tdomain: 2 \titeration: 10 \tstep: 24271 \tforth\n",
        "curve:"
       ]
      },
      {
       "output_type": "stream",
       "stream": "stdout",
       "text": [
        " 511 \tdomain: 2 \titeration: 11 \tstep: 24272 \tforth\n",
        "curve:"
       ]
      },
      {
       "output_type": "stream",
       "stream": "stdout",
       "text": [
        " 512 \tdomain: 2 \titeration: 12 \tstep: 24273 \tforth\n",
        "curve:"
       ]
      },
      {
       "output_type": "stream",
       "stream": "stdout",
       "text": [
        " 513 \tdomain: 2 \titeration: 13 \tstep: 24274 \tforth\n",
        "curve:"
       ]
      },
      {
       "output_type": "stream",
       "stream": "stdout",
       "text": [
        " 514 \tdomain: 2 \titeration: 14 \tstep: 24275 \tforth\n",
        "curve:"
       ]
      },
      {
       "output_type": "stream",
       "stream": "stdout",
       "text": [
        " 515 \tdomain: 2 \titeration: 15 \tstep: 24276 \tforth\n",
        "curve:"
       ]
      },
      {
       "output_type": "stream",
       "stream": "stdout",
       "text": [
        " 516 \tdomain: 2 \titeration: 16 \tstep: 24277 \tforth\n",
        "curve:"
       ]
      },
      {
       "output_type": "stream",
       "stream": "stdout",
       "text": [
        " 517 \tdomain: 2 \titeration: 17 \tstep: 24278 \tforth\n",
        "curve:"
       ]
      },
      {
       "output_type": "stream",
       "stream": "stdout",
       "text": [
        " 518 \tdomain: 2 \titeration: 18 \tstep: 24279 \tforth\n",
        "curve:"
       ]
      },
      {
       "output_type": "stream",
       "stream": "stdout",
       "text": [
        " 519 \tdomain: 2 \titeration: 19 \tstep: 24280 \tforth\n",
        "curve:"
       ]
      },
      {
       "output_type": "stream",
       "stream": "stdout",
       "text": [
        " 520 \tdomain: 2 \titeration: 20 \tstep: 24281 \tforth\n",
        "curve:"
       ]
      },
      {
       "output_type": "stream",
       "stream": "stdout",
       "text": [
        " 521 \tdomain: 2 \titeration: 21 \tstep: 24282 \tforth\n",
        "curve:"
       ]
      },
      {
       "output_type": "stream",
       "stream": "stdout",
       "text": [
        " 522 \tdomain: 2 \titeration: 22 \tstep: 24283 \tforth\n",
        "curve:"
       ]
      },
      {
       "output_type": "stream",
       "stream": "stdout",
       "text": [
        " 523 \tdomain: 2 \titeration: 23 \tstep: 24284 \tforth\n",
        "curve:"
       ]
      },
      {
       "output_type": "stream",
       "stream": "stdout",
       "text": [
        " 524 \tdomain: 2 \titeration: 24 \tstep: 24285 \tforth\n",
        "curve:"
       ]
      },
      {
       "output_type": "stream",
       "stream": "stdout",
       "text": [
        " 525 \tdomain: 2 \titeration: 25 \tstep: 24286 \tforth\n",
        "curve:"
       ]
      },
      {
       "output_type": "stream",
       "stream": "stdout",
       "text": [
        " 526 \tdomain: 2 \titeration: 26 \tstep: 24287 \tforth\n",
        "curve:"
       ]
      },
      {
       "output_type": "stream",
       "stream": "stdout",
       "text": [
        " 527 \tdomain: 2 \titeration: 27 \tstep: 24288 \tforth\n",
        "curve:"
       ]
      },
      {
       "output_type": "stream",
       "stream": "stdout",
       "text": [
        " 528 \tdomain: 2 \titeration: 28 \tstep: 24289 \tforth\n",
        "curve:"
       ]
      },
      {
       "output_type": "stream",
       "stream": "stdout",
       "text": [
        " 529 \tdomain: 2 \titeration: 29 \tstep: 24290 \tforth\n",
        "curve:"
       ]
      },
      {
       "output_type": "stream",
       "stream": "stdout",
       "text": [
        " 530 \tdomain: 2 \titeration: 30 \tstep: 24291 \tforth\n",
        "curve:"
       ]
      },
      {
       "output_type": "stream",
       "stream": "stdout",
       "text": [
        " 531 \tdomain: 2 \titeration: 31 \tstep: 24292 \tforth\n",
        "curve:"
       ]
      },
      {
       "output_type": "stream",
       "stream": "stdout",
       "text": [
        " 532 \tdomain: 2 \titeration: 32 \tstep: 24293 \tforth\n",
        "curve:"
       ]
      },
      {
       "output_type": "stream",
       "stream": "stdout",
       "text": [
        " 533 \tdomain: 2 \titeration: 33 \tstep: 24294 \tforth\n",
        "curve:"
       ]
      },
      {
       "output_type": "stream",
       "stream": "stdout",
       "text": [
        " 534 \tdomain: 2 \titeration: 34 \tstep: 24295 \tforth\n",
        "curve:"
       ]
      },
      {
       "output_type": "stream",
       "stream": "stdout",
       "text": [
        " 535 \tdomain: 2 \titeration: 35 \tstep: 24296 \tforth\n",
        "curve:"
       ]
      },
      {
       "output_type": "stream",
       "stream": "stdout",
       "text": [
        " 536 \tdomain: 2 \titeration: 36 \tstep: 24297 \tforth\n",
        "curve:"
       ]
      },
      {
       "output_type": "stream",
       "stream": "stdout",
       "text": [
        " 537 \tdomain: 2 \titeration: 37 \tstep: 24298 \tforth\n",
        "curve:"
       ]
      },
      {
       "output_type": "stream",
       "stream": "stdout",
       "text": [
        " 538 \tdomain: 2 \titeration: 38 \tstep: 24299 \tforth\n",
        "curve:"
       ]
      },
      {
       "output_type": "stream",
       "stream": "stdout",
       "text": [
        " 539 \tdomain: 2 \titeration: 39 \tstep: 24300 \tforth\n",
        "curve:"
       ]
      },
      {
       "output_type": "stream",
       "stream": "stdout",
       "text": [
        " 540 \tdomain: 2 \titeration: 40 \tstep: 24301 \tforth\n",
        "curve:"
       ]
      },
      {
       "output_type": "stream",
       "stream": "stdout",
       "text": [
        " 541 \tdomain: 2 \titeration: 41 \tstep: 24302 \tforth\n",
        "curve:"
       ]
      },
      {
       "output_type": "stream",
       "stream": "stdout",
       "text": [
        " 542 \tdomain: 2 \titeration: 42 \tstep: 24303 \tforth\n",
        "curve:"
       ]
      },
      {
       "output_type": "stream",
       "stream": "stdout",
       "text": [
        " 543 \tdomain: 2 \titeration: 43 \tstep: 24304 \tforth\n",
        "curve:"
       ]
      },
      {
       "output_type": "stream",
       "stream": "stdout",
       "text": [
        " 544 \tdomain: 2 \titeration: 44 \tstep: 24305 \tforth\n",
        "curve:"
       ]
      },
      {
       "output_type": "stream",
       "stream": "stdout",
       "text": [
        " 545 \tdomain: 2 \titeration: 45 \tstep: 24306 \tforth\n",
        "curve:"
       ]
      },
      {
       "output_type": "stream",
       "stream": "stdout",
       "text": [
        " 546 \tdomain: 2 \titeration: 46 \tstep: 24307 \tforth\n",
        "curve:"
       ]
      },
      {
       "output_type": "stream",
       "stream": "stdout",
       "text": [
        " 547 \tdomain: 2 \titeration: 47 \tstep: 24308 \tforth\n",
        "curve:"
       ]
      },
      {
       "output_type": "stream",
       "stream": "stdout",
       "text": [
        " 548 \tdomain: 2 \titeration: 48 \tstep: 24309 \tforth\n",
        "curve:"
       ]
      },
      {
       "output_type": "stream",
       "stream": "stdout",
       "text": [
        " 549 \tdomain: 2 \titeration: 49 \tstep: 24310 \tforth\n",
        "curve:"
       ]
      },
      {
       "output_type": "stream",
       "stream": "stdout",
       "text": [
        " 550 \tdomain: 2 \titeration: 50 \tstep: 24311 \tforth\n",
        "curve:"
       ]
      },
      {
       "output_type": "stream",
       "stream": "stdout",
       "text": [
        " 551 \tdomain: 2 \titeration: 51 \tstep: 24312 \tforth\n",
        "curve:"
       ]
      },
      {
       "output_type": "stream",
       "stream": "stdout",
       "text": [
        " 552 \tdomain: 2 \titeration: 52 \tstep: 24313 \tforth\n",
        "curve:"
       ]
      },
      {
       "output_type": "stream",
       "stream": "stdout",
       "text": [
        " 553 \tdomain: 2 \titeration: 53 \tstep: 24314 \tforth\n",
        "curve:"
       ]
      },
      {
       "output_type": "stream",
       "stream": "stdout",
       "text": [
        " 554 \tdomain: 2 \titeration: 54 \tstep: 24315 \tforth\n",
        "curve:"
       ]
      },
      {
       "output_type": "stream",
       "stream": "stdout",
       "text": [
        " 555 \tdomain: 2 \titeration: 55 \tstep: 24316 \tforth\n",
        "curve:"
       ]
      },
      {
       "output_type": "stream",
       "stream": "stdout",
       "text": [
        " 556 \tdomain: 2 \titeration: 56 \tstep: 24317 \tforth\n",
        "curve:"
       ]
      },
      {
       "output_type": "stream",
       "stream": "stdout",
       "text": [
        " 557 \tdomain: 2 \titeration: 57 \tstep: 24318 \tforth\n",
        "curve:"
       ]
      },
      {
       "output_type": "stream",
       "stream": "stdout",
       "text": [
        " 558 \tdomain: 2 \titeration: 58 \tstep: 24319 \tforth\n",
        "curve:"
       ]
      },
      {
       "output_type": "stream",
       "stream": "stdout",
       "text": [
        " 559 \tdomain: 2 \titeration: 59 \tstep: 24320 \tforth\n",
        "curve:"
       ]
      },
      {
       "output_type": "stream",
       "stream": "stdout",
       "text": [
        " 560 \tdomain: 2 \titeration: 60 \tstep: 24321 \tforth\n",
        "curve:"
       ]
      },
      {
       "output_type": "stream",
       "stream": "stdout",
       "text": [
        " 561 \tdomain: 2 \titeration: 61 \tstep: 24322 \tforth\n",
        "curve:"
       ]
      },
      {
       "output_type": "stream",
       "stream": "stdout",
       "text": [
        " 562 \tdomain: 2 \titeration: 62 \tstep: 24323 \tforth\n",
        "curve:"
       ]
      },
      {
       "output_type": "stream",
       "stream": "stdout",
       "text": [
        " 563 \tdomain: 2 \titeration: 63 \tstep: 24324 \tforth\n",
        "curve:"
       ]
      },
      {
       "output_type": "stream",
       "stream": "stdout",
       "text": [
        " 564 \tdomain: 2 \titeration: 64 \tstep: 24325 \tforth\n",
        "curve:"
       ]
      },
      {
       "output_type": "stream",
       "stream": "stdout",
       "text": [
        " 565 \tdomain: 2 \titeration: 65 \tstep: 24326 \tforth\n",
        "curve:"
       ]
      },
      {
       "output_type": "stream",
       "stream": "stdout",
       "text": [
        " 566 \tdomain: 2 \titeration: 66 \tstep: 24327 \tforth\n",
        "curve:"
       ]
      },
      {
       "output_type": "stream",
       "stream": "stdout",
       "text": [
        " 567 \tdomain: 2 \titeration: 67 \tstep: 24328 \tforth\n",
        "curve:"
       ]
      },
      {
       "output_type": "stream",
       "stream": "stdout",
       "text": [
        " 568 \tdomain: 2 \titeration: 68 \tstep: 24329 \tforth\n",
        "curve:"
       ]
      },
      {
       "output_type": "stream",
       "stream": "stdout",
       "text": [
        " 569 \tdomain: 2 \titeration: 69 \tstep: 24330 \tforth\n",
        "curve:"
       ]
      },
      {
       "output_type": "stream",
       "stream": "stdout",
       "text": [
        " 570 \tdomain: 2 \titeration: 70 \tstep: 24331 \tforth\n",
        "curve:"
       ]
      },
      {
       "output_type": "stream",
       "stream": "stdout",
       "text": [
        " 571 \tdomain: 2 \titeration: 71 \tstep: 24332 \tforth\n",
        "curve:"
       ]
      },
      {
       "output_type": "stream",
       "stream": "stdout",
       "text": [
        " 572 \tdomain: 2 \titeration: 72 \tstep: 24333 \tforth\n",
        "curve:"
       ]
      },
      {
       "output_type": "stream",
       "stream": "stdout",
       "text": [
        " 573 \tdomain: 2 \titeration: 73 \tstep: 24334 \tforth\n",
        "curve:"
       ]
      },
      {
       "output_type": "stream",
       "stream": "stdout",
       "text": [
        " 574 \tdomain: 2 \titeration: 74 \tstep: 24335 \tforth\n",
        "curve:"
       ]
      },
      {
       "output_type": "stream",
       "stream": "stdout",
       "text": [
        " 575 \tdomain: 2 \titeration: 75 \tstep: 24336 \tforth\n",
        "curve:"
       ]
      },
      {
       "output_type": "stream",
       "stream": "stdout",
       "text": [
        " 576 \tdomain: 2 \titeration: 76 \tstep: 24337 \tforth\n",
        "curve:"
       ]
      },
      {
       "output_type": "stream",
       "stream": "stdout",
       "text": [
        " 577 \tdomain: 2 \titeration: 77 \tstep: 24338 \tforth\n",
        "curve:"
       ]
      },
      {
       "output_type": "stream",
       "stream": "stdout",
       "text": [
        " 578 \tdomain: 2 \titeration: 78 \tstep: 24339 \tforth\n",
        "curve:"
       ]
      },
      {
       "output_type": "stream",
       "stream": "stdout",
       "text": [
        " 579 \tdomain: 2 \titeration: 79 \tstep: 24340 \tforth\n",
        "curve:"
       ]
      },
      {
       "output_type": "stream",
       "stream": "stdout",
       "text": [
        " 580 \tdomain: 2 \titeration: 80 \tstep: 24341 \tforth\n",
        "curve:"
       ]
      },
      {
       "output_type": "stream",
       "stream": "stdout",
       "text": [
        " 581 \tdomain: 2 \titeration: 81 \tstep: 24342 \tforth\n",
        "curve:"
       ]
      },
      {
       "output_type": "stream",
       "stream": "stdout",
       "text": [
        " 582 \tdomain: 2 \titeration: 82 \tstep: 24343 \tforth\n",
        "curve:"
       ]
      },
      {
       "output_type": "stream",
       "stream": "stdout",
       "text": [
        " 583 \tdomain: 2 \titeration: 83 \tstep: 24344 \tforth\n",
        "curve:"
       ]
      },
      {
       "output_type": "stream",
       "stream": "stdout",
       "text": [
        " 584 \tdomain: 2 \titeration: 84 \tstep: 24345 \tforth\n",
        "curve:"
       ]
      },
      {
       "output_type": "stream",
       "stream": "stdout",
       "text": [
        " 585 \tdomain: 2 \titeration: 85 \tstep: 24346 \tforth\n",
        "curve:"
       ]
      },
      {
       "output_type": "stream",
       "stream": "stdout",
       "text": [
        " 586 \tdomain: 2 \titeration: 86 \tstep: 24347 \tforth\n",
        "curve:"
       ]
      },
      {
       "output_type": "stream",
       "stream": "stdout",
       "text": [
        " 587 \tdomain: 2 \titeration: 87 \tstep: 24348 \tforth\n",
        "curve:"
       ]
      },
      {
       "output_type": "stream",
       "stream": "stdout",
       "text": [
        " 588 \tdomain: 2 \titeration: 88 \tstep: 24349 \tforth\n",
        "curve:"
       ]
      },
      {
       "output_type": "stream",
       "stream": "stdout",
       "text": [
        " 589 \tdomain: 2 \titeration: 89 \tstep: 24350 \tforth\n",
        "curve:"
       ]
      },
      {
       "output_type": "stream",
       "stream": "stdout",
       "text": [
        " 590 \tdomain: 2 \titeration: 90 \tstep: 24351 \tforth\n",
        "curve:"
       ]
      },
      {
       "output_type": "stream",
       "stream": "stdout",
       "text": [
        " 591 \tdomain: 2 \titeration: 91 \tstep: 24352 \tforth\n",
        "curve:"
       ]
      },
      {
       "output_type": "stream",
       "stream": "stdout",
       "text": [
        " 592 \tdomain: 2 \titeration: 92 \tstep: 24353 \tforth\n",
        "curve:"
       ]
      },
      {
       "output_type": "stream",
       "stream": "stdout",
       "text": [
        " 593 \tdomain: 2 \titeration: 93 \tstep: 24354 \tforth\n",
        "curve:"
       ]
      },
      {
       "output_type": "stream",
       "stream": "stdout",
       "text": [
        " 594 \tdomain: 2 \titeration: 94 \tstep: 24355 \tforth\n",
        "curve:"
       ]
      },
      {
       "output_type": "stream",
       "stream": "stdout",
       "text": [
        " 595 \tdomain: 2 \titeration: 95 \tstep: 24356 \tforth\n",
        "curve:"
       ]
      },
      {
       "output_type": "stream",
       "stream": "stdout",
       "text": [
        " 596 \tdomain: 2 \titeration: 96 \tstep: 24357 \tforth\n",
        "curve:"
       ]
      },
      {
       "output_type": "stream",
       "stream": "stdout",
       "text": [
        " 597 \tdomain: 2 \titeration: 97 \tstep: 24358 \tforth\n",
        "curve:"
       ]
      },
      {
       "output_type": "stream",
       "stream": "stdout",
       "text": [
        " 598 \tdomain: 2 \titeration: 98 \tstep: 24359 \tforth\n",
        "curve:"
       ]
      },
      {
       "output_type": "stream",
       "stream": "stdout",
       "text": [
        " 599 \tdomain: 2 \titeration: 99 \tstep: 24360 \tforth\n",
        "curve:"
       ]
      },
      {
       "output_type": "stream",
       "stream": "stdout",
       "text": [
        " 600 \tdomain: 3 \titeration: 0 \tstep: 24260 \tback\n",
        "curve:"
       ]
      },
      {
       "output_type": "stream",
       "stream": "stdout",
       "text": [
        " 601 \tdomain: 3 \titeration: 1 \tstep: 24259 \tback\n",
        "curve:"
       ]
      },
      {
       "output_type": "stream",
       "stream": "stdout",
       "text": [
        " 602 \tdomain: 3 \titeration: 2 \tstep: 24258 \tback\n",
        "curve:"
       ]
      },
      {
       "output_type": "stream",
       "stream": "stdout",
       "text": [
        " 603 \tdomain: 3 \titeration: 3 \tstep: 24257 \tback\n",
        "curve:"
       ]
      },
      {
       "output_type": "stream",
       "stream": "stdout",
       "text": [
        " 604 \tdomain: 3 \titeration: 4 \tstep: 24256 \tback\n",
        "curve:"
       ]
      },
      {
       "output_type": "stream",
       "stream": "stdout",
       "text": [
        " 605 \tdomain: 3 \titeration: 5 \tstep: 24255 \tback\n",
        "curve:"
       ]
      },
      {
       "output_type": "stream",
       "stream": "stdout",
       "text": [
        " 606 \tdomain: 3 \titeration: 6 \tstep: 24254 \tback\n",
        "curve:"
       ]
      },
      {
       "output_type": "stream",
       "stream": "stdout",
       "text": [
        " 607 \tdomain: 3 \titeration: 7 \tstep: 24253 \tback\n",
        "curve:"
       ]
      },
      {
       "output_type": "stream",
       "stream": "stdout",
       "text": [
        " 608 \tdomain: 3 \titeration: 8 \tstep: 24252 \tback\n",
        "curve:"
       ]
      },
      {
       "output_type": "stream",
       "stream": "stdout",
       "text": [
        " 609 \tdomain: 3 \titeration: 9 \tstep: 24251 \tback\n",
        "curve:"
       ]
      },
      {
       "output_type": "stream",
       "stream": "stdout",
       "text": [
        " 610 \tdomain: 3 \titeration: 10 \tstep: 24250 \tback\n",
        "curve:"
       ]
      },
      {
       "output_type": "stream",
       "stream": "stdout",
       "text": [
        " 611 \tdomain: 3 \titeration: 11 \tstep: 24249 \tback\n",
        "curve:"
       ]
      },
      {
       "output_type": "stream",
       "stream": "stdout",
       "text": [
        " 612 \tdomain: 3 \titeration: 12 \tstep: 24248 \tback\n",
        "curve:"
       ]
      },
      {
       "output_type": "stream",
       "stream": "stdout",
       "text": [
        " 613 \tdomain: 3 \titeration: 13 \tstep: 24247 \tback\n",
        "curve:"
       ]
      },
      {
       "output_type": "stream",
       "stream": "stdout",
       "text": [
        " 614 \tdomain: 3 \titeration: 14 \tstep: 24246 \tback\n",
        "curve:"
       ]
      },
      {
       "output_type": "stream",
       "stream": "stdout",
       "text": [
        " 615 \tdomain: 3 \titeration: 15 \tstep: 24245 \tback\n",
        "curve:"
       ]
      },
      {
       "output_type": "stream",
       "stream": "stdout",
       "text": [
        " 616 \tdomain: 3 \titeration: 16 \tstep: 24244 \tback\n",
        "curve:"
       ]
      },
      {
       "output_type": "stream",
       "stream": "stdout",
       "text": [
        " 617 \tdomain: 3 \titeration: 17 \tstep: 24243 \tback\n",
        "curve:"
       ]
      },
      {
       "output_type": "stream",
       "stream": "stdout",
       "text": [
        " 618 \tdomain: 3 \titeration: 18 \tstep: 24242 \tback\n",
        "curve:"
       ]
      },
      {
       "output_type": "stream",
       "stream": "stdout",
       "text": [
        " 619 \tdomain: 3 \titeration: 19 \tstep: 24241 \tback\n",
        "curve:"
       ]
      },
      {
       "output_type": "stream",
       "stream": "stdout",
       "text": [
        " 620 \tdomain: 3 \titeration: 20 \tstep: 24240 \tback\n",
        "curve:"
       ]
      },
      {
       "output_type": "stream",
       "stream": "stdout",
       "text": [
        " 621 \tdomain: 3 \titeration: 21 \tstep: 24239 \tback\n",
        "curve:"
       ]
      },
      {
       "output_type": "stream",
       "stream": "stdout",
       "text": [
        " 622 \tdomain: 3 \titeration: 22 \tstep: 24238 \tback\n",
        "curve:"
       ]
      },
      {
       "output_type": "stream",
       "stream": "stdout",
       "text": [
        " 623 \tdomain: 3 \titeration: 23 \tstep: 24237 \tback\n",
        "curve:"
       ]
      },
      {
       "output_type": "stream",
       "stream": "stdout",
       "text": [
        " 624 \tdomain: 3 \titeration: 24 \tstep: 24236 \tback\n",
        "curve:"
       ]
      },
      {
       "output_type": "stream",
       "stream": "stdout",
       "text": [
        " 625 \tdomain: 3 \titeration: 25 \tstep: 24235 \tback\n",
        "curve:"
       ]
      },
      {
       "output_type": "stream",
       "stream": "stdout",
       "text": [
        " 626 \tdomain: 3 \titeration: 26 \tstep: 24234 \tback\n",
        "curve:"
       ]
      },
      {
       "output_type": "stream",
       "stream": "stdout",
       "text": [
        " 627 \tdomain: 3 \titeration: 27 \tstep: 24233 \tback\n",
        "curve:"
       ]
      },
      {
       "output_type": "stream",
       "stream": "stdout",
       "text": [
        " 628 \tdomain: 3 \titeration: 28 \tstep: 24232 \tback\n",
        "curve:"
       ]
      },
      {
       "output_type": "stream",
       "stream": "stdout",
       "text": [
        " 629 \tdomain: 3 \titeration: 29 \tstep: 24231 \tback\n",
        "curve:"
       ]
      },
      {
       "output_type": "stream",
       "stream": "stdout",
       "text": [
        " 630 \tdomain: 3 \titeration: 30 \tstep: 24230 \tback\n",
        "curve:"
       ]
      },
      {
       "output_type": "stream",
       "stream": "stdout",
       "text": [
        " 631 \tdomain: 3 \titeration: 31 \tstep: 24229 \tback\n",
        "curve:"
       ]
      },
      {
       "output_type": "stream",
       "stream": "stdout",
       "text": [
        " 632 \tdomain: 3 \titeration: 32 \tstep: 24228 \tback\n",
        "curve:"
       ]
      },
      {
       "output_type": "stream",
       "stream": "stdout",
       "text": [
        " 633 \tdomain: 3 \titeration: 33 \tstep: 24227 \tback\n",
        "curve:"
       ]
      },
      {
       "output_type": "stream",
       "stream": "stdout",
       "text": [
        " 634 \tdomain: 3 \titeration: 34 \tstep: 24226 \tback\n",
        "curve:"
       ]
      },
      {
       "output_type": "stream",
       "stream": "stdout",
       "text": [
        " 635 \tdomain: 3 \titeration: 35 \tstep: 24225 \tback\n",
        "curve:"
       ]
      },
      {
       "output_type": "stream",
       "stream": "stdout",
       "text": [
        " 636 \tdomain: 3 \titeration: 36 \tstep: 24224 \tback\n",
        "curve:"
       ]
      },
      {
       "output_type": "stream",
       "stream": "stdout",
       "text": [
        " 637 \tdomain: 3 \titeration: 37 \tstep: 24223 \tback\n",
        "curve:"
       ]
      },
      {
       "output_type": "stream",
       "stream": "stdout",
       "text": [
        " 638 \tdomain: 3 \titeration: 38 \tstep: 24222 \tback\n",
        "curve:"
       ]
      },
      {
       "output_type": "stream",
       "stream": "stdout",
       "text": [
        " 639 \tdomain: 3 \titeration: 39 \tstep: 24221 \tback\n",
        "curve:"
       ]
      },
      {
       "output_type": "stream",
       "stream": "stdout",
       "text": [
        " 640 \tdomain: 3 \titeration: 40 \tstep: 24220 \tback\n",
        "curve:"
       ]
      },
      {
       "output_type": "stream",
       "stream": "stdout",
       "text": [
        " 641 \tdomain: 3 \titeration: 41 \tstep: 24219 \tback\n",
        "curve:"
       ]
      },
      {
       "output_type": "stream",
       "stream": "stdout",
       "text": [
        " 642 \tdomain: 3 \titeration: 42 \tstep: 24218 \tback\n",
        "curve:"
       ]
      },
      {
       "output_type": "stream",
       "stream": "stdout",
       "text": [
        " 643 \tdomain: 3 \titeration: 43 \tstep: 24217 \tback\n",
        "curve:"
       ]
      },
      {
       "output_type": "stream",
       "stream": "stdout",
       "text": [
        " 644 \tdomain: 3 \titeration: 44 \tstep: 24216 \tback\n",
        "curve:"
       ]
      },
      {
       "output_type": "stream",
       "stream": "stdout",
       "text": [
        " 645 \tdomain: 3 \titeration: 45 \tstep: 24215 \tback\n",
        "curve:"
       ]
      },
      {
       "output_type": "stream",
       "stream": "stdout",
       "text": [
        " 646 \tdomain: 3 \titeration: 46 \tstep: 24214 \tback\n",
        "curve:"
       ]
      },
      {
       "output_type": "stream",
       "stream": "stdout",
       "text": [
        " 647 \tdomain: 3 \titeration: 47 \tstep: 24213 \tback\n",
        "curve:"
       ]
      },
      {
       "output_type": "stream",
       "stream": "stdout",
       "text": [
        " 648 \tdomain: 3 \titeration: 48 \tstep: 24212 \tback\n",
        "curve:"
       ]
      },
      {
       "output_type": "stream",
       "stream": "stdout",
       "text": [
        " 649 \tdomain: 3 \titeration: 49 \tstep: 24211 \tback\n",
        "curve:"
       ]
      },
      {
       "output_type": "stream",
       "stream": "stdout",
       "text": [
        " 650 \tdomain: 3 \titeration: 50 \tstep: 24210 \tback\n",
        "curve:"
       ]
      },
      {
       "output_type": "stream",
       "stream": "stdout",
       "text": [
        " 651 \tdomain: 3 \titeration: 51 \tstep: 24209 \tback\n",
        "curve:"
       ]
      },
      {
       "output_type": "stream",
       "stream": "stdout",
       "text": [
        " 652 \tdomain: 3 \titeration: 52 \tstep: 24208 \tback\n",
        "curve:"
       ]
      },
      {
       "output_type": "stream",
       "stream": "stdout",
       "text": [
        " 653 \tdomain: 3 \titeration: 53 \tstep: 24207 \tback\n",
        "curve:"
       ]
      },
      {
       "output_type": "stream",
       "stream": "stdout",
       "text": [
        " 654 \tdomain: 3 \titeration: 54 \tstep: 24206 \tback\n",
        "curve:"
       ]
      },
      {
       "output_type": "stream",
       "stream": "stdout",
       "text": [
        " 655 \tdomain: 3 \titeration: 55 \tstep: 24205 \tback\n",
        "curve:"
       ]
      },
      {
       "output_type": "stream",
       "stream": "stdout",
       "text": [
        " 656 \tdomain: 3 \titeration: 56 \tstep: 24204 \tback\n",
        "curve:"
       ]
      },
      {
       "output_type": "stream",
       "stream": "stdout",
       "text": [
        " 657 \tdomain: 3 \titeration: 57 \tstep: 24203 \tback\n",
        "curve:"
       ]
      },
      {
       "output_type": "stream",
       "stream": "stdout",
       "text": [
        " 658 \tdomain: 3 \titeration: 58 \tstep: 24202 \tback\n",
        "curve:"
       ]
      },
      {
       "output_type": "stream",
       "stream": "stdout",
       "text": [
        " 659 \tdomain: 3 \titeration: 59 \tstep: 24201 \tback\n",
        "curve:"
       ]
      },
      {
       "output_type": "stream",
       "stream": "stdout",
       "text": [
        " 660 \tdomain: 3 \titeration: 60 \tstep: 24200 \tback\n",
        "curve:"
       ]
      },
      {
       "output_type": "stream",
       "stream": "stdout",
       "text": [
        " 661 \tdomain: 3 \titeration: 61 \tstep: 24199 \tback\n",
        "curve:"
       ]
      },
      {
       "output_type": "stream",
       "stream": "stdout",
       "text": [
        " 662 \tdomain: 3 \titeration: 62 \tstep: 24198 \tback\n",
        "curve:"
       ]
      },
      {
       "output_type": "stream",
       "stream": "stdout",
       "text": [
        " 663 \tdomain: 3 \titeration: 63 \tstep: 24197 \tback\n",
        "curve:"
       ]
      },
      {
       "output_type": "stream",
       "stream": "stdout",
       "text": [
        " 664 \tdomain: 3 \titeration: 64 \tstep: 24196 \tback\n",
        "curve:"
       ]
      },
      {
       "output_type": "stream",
       "stream": "stdout",
       "text": [
        " 665 \tdomain: 3 \titeration: 65 \tstep: 24195 \tback\n",
        "curve:"
       ]
      },
      {
       "output_type": "stream",
       "stream": "stdout",
       "text": [
        " 666 \tdomain: 3 \titeration: 66 \tstep: 24194 \tback\n",
        "curve:"
       ]
      },
      {
       "output_type": "stream",
       "stream": "stdout",
       "text": [
        " 667 \tdomain: 3 \titeration: 67 \tstep: 24193 \tback\n",
        "curve:"
       ]
      },
      {
       "output_type": "stream",
       "stream": "stdout",
       "text": [
        " 668 \tdomain: 3 \titeration: 68 \tstep: 24192 \tback\n",
        "curve:"
       ]
      },
      {
       "output_type": "stream",
       "stream": "stdout",
       "text": [
        " 669 \tdomain: 3 \titeration: 69 \tstep: 24191 \tback\n",
        "curve:"
       ]
      },
      {
       "output_type": "stream",
       "stream": "stdout",
       "text": [
        " 670 \tdomain: 3 \titeration: 70 \tstep: 24190 \tback\n",
        "curve:"
       ]
      },
      {
       "output_type": "stream",
       "stream": "stdout",
       "text": [
        " 671 \tdomain: 3 \titeration: 71 \tstep: 24189 \tback\n",
        "curve:"
       ]
      },
      {
       "output_type": "stream",
       "stream": "stdout",
       "text": [
        " 672 \tdomain: 3 \titeration: 72 \tstep: 24188 \tback\n",
        "curve:"
       ]
      },
      {
       "output_type": "stream",
       "stream": "stdout",
       "text": [
        " 673 \tdomain: 3 \titeration: 73 \tstep: 24187 \tback\n",
        "curve:"
       ]
      },
      {
       "output_type": "stream",
       "stream": "stdout",
       "text": [
        " 674 \tdomain: 3 \titeration: 74 \tstep: 24186 \tback\n",
        "curve:"
       ]
      },
      {
       "output_type": "stream",
       "stream": "stdout",
       "text": [
        " 675 \tdomain: 3 \titeration: 75 \tstep: 24185 \tback\n",
        "curve:"
       ]
      },
      {
       "output_type": "stream",
       "stream": "stdout",
       "text": [
        " 676 \tdomain: 3 \titeration: 76 \tstep: 24184 \tback\n",
        "curve:"
       ]
      },
      {
       "output_type": "stream",
       "stream": "stdout",
       "text": [
        " 677 \tdomain: 3 \titeration: 77 \tstep: 24183 \tback\n",
        "curve:"
       ]
      },
      {
       "output_type": "stream",
       "stream": "stdout",
       "text": [
        " 678 \tdomain: 3 \titeration: 78 \tstep: 24182 \tback\n",
        "curve:"
       ]
      },
      {
       "output_type": "stream",
       "stream": "stdout",
       "text": [
        " 679 \tdomain: 3 \titeration: 79 \tstep: 24181 \tback\n",
        "curve:"
       ]
      },
      {
       "output_type": "stream",
       "stream": "stdout",
       "text": [
        " 680 \tdomain: 3 \titeration: 80 \tstep: 24180 \tback\n",
        "curve:"
       ]
      },
      {
       "output_type": "stream",
       "stream": "stdout",
       "text": [
        " 681 \tdomain: 3 \titeration: 81 \tstep: 24179 \tback\n",
        "curve:"
       ]
      },
      {
       "output_type": "stream",
       "stream": "stdout",
       "text": [
        " 682 \tdomain: 3 \titeration: 82 \tstep: 24178 \tback\n",
        "curve:"
       ]
      },
      {
       "output_type": "stream",
       "stream": "stdout",
       "text": [
        " 683 \tdomain: 3 \titeration: 83 \tstep: 24177 \tback\n",
        "curve:"
       ]
      },
      {
       "output_type": "stream",
       "stream": "stdout",
       "text": [
        " 684 \tdomain: 3 \titeration: 84 \tstep: 24176 \tback\n",
        "curve:"
       ]
      },
      {
       "output_type": "stream",
       "stream": "stdout",
       "text": [
        " 685 \tdomain: 3 \titeration: 85 \tstep: 24175 \tback\n",
        "curve:"
       ]
      },
      {
       "output_type": "stream",
       "stream": "stdout",
       "text": [
        " 686 \tdomain: 3 \titeration: 86 \tstep: 24174 \tback\n",
        "curve:"
       ]
      },
      {
       "output_type": "stream",
       "stream": "stdout",
       "text": [
        " 687 \tdomain: 3 \titeration: 87 \tstep: 24173 \tback\n",
        "curve:"
       ]
      },
      {
       "output_type": "stream",
       "stream": "stdout",
       "text": [
        " 688 \tdomain: 3 \titeration: 88 \tstep: 24172 \tback\n",
        "curve:"
       ]
      },
      {
       "output_type": "stream",
       "stream": "stdout",
       "text": [
        " 689 \tdomain: 3 \titeration: 89 \tstep: 24171 \tback\n",
        "curve:"
       ]
      },
      {
       "output_type": "stream",
       "stream": "stdout",
       "text": [
        " 690 \tdomain: 3 \titeration: 90 \tstep: 24170 \tback\n",
        "curve:"
       ]
      },
      {
       "output_type": "stream",
       "stream": "stdout",
       "text": [
        " 691 \tdomain: 3 \titeration: 91 \tstep: 24169 \tback\n",
        "curve:"
       ]
      },
      {
       "output_type": "stream",
       "stream": "stdout",
       "text": [
        " 692 \tdomain: 3 \titeration: 92 \tstep: 24168 \tback\n",
        "curve:"
       ]
      },
      {
       "output_type": "stream",
       "stream": "stdout",
       "text": [
        " 693 \tdomain: 3 \titeration: 93 \tstep: 24167 \tback\n",
        "curve:"
       ]
      },
      {
       "output_type": "stream",
       "stream": "stdout",
       "text": [
        " 694 \tdomain: 3 \titeration: 94 \tstep: 24166 \tback\n",
        "curve:"
       ]
      },
      {
       "output_type": "stream",
       "stream": "stdout",
       "text": [
        " 695 \tdomain: 3 \titeration: 95 \tstep: 24165 \tback\n",
        "curve:"
       ]
      },
      {
       "output_type": "stream",
       "stream": "stdout",
       "text": [
        " 696 \tdomain: 3 \titeration: 96 \tstep: 24164 \tback\n",
        "curve:"
       ]
      },
      {
       "output_type": "stream",
       "stream": "stdout",
       "text": [
        " 697 \tdomain: 3 \titeration: 97 \tstep: 24163 \tback\n",
        "curve:"
       ]
      },
      {
       "output_type": "stream",
       "stream": "stdout",
       "text": [
        " 698 \tdomain: 3 \titeration: 98 \tstep: 24162 \tback\n",
        "curve:"
       ]
      },
      {
       "output_type": "stream",
       "stream": "stdout",
       "text": [
        " 699 \tdomain: 3 \titeration: 99 \tstep: 24161 \tback\n",
        "curve:"
       ]
      },
      {
       "output_type": "stream",
       "stream": "stdout",
       "text": [
        " 700 \tdomain: 3 \titeration: 0 \tstep: 24161 \tforth\n",
        "curve:"
       ]
      },
      {
       "output_type": "stream",
       "stream": "stdout",
       "text": [
        " 701 \tdomain: 3 \titeration: 1 \tstep: 24162 \tforth\n",
        "curve:"
       ]
      },
      {
       "output_type": "stream",
       "stream": "stdout",
       "text": [
        " 702 \tdomain: 3 \titeration: 2 \tstep: 24163 \tforth\n",
        "curve:"
       ]
      },
      {
       "output_type": "stream",
       "stream": "stdout",
       "text": [
        " 703 \tdomain: 3 \titeration: 3 \tstep: 24164 \tforth\n",
        "curve:"
       ]
      },
      {
       "output_type": "stream",
       "stream": "stdout",
       "text": [
        " 704 \tdomain: 3 \titeration: 4 \tstep: 24165 \tforth\n",
        "curve:"
       ]
      },
      {
       "output_type": "stream",
       "stream": "stdout",
       "text": [
        " 705 \tdomain: 3 \titeration: 5 \tstep: 24166 \tforth\n",
        "curve:"
       ]
      },
      {
       "output_type": "stream",
       "stream": "stdout",
       "text": [
        " 706 \tdomain: 3 \titeration: 6 \tstep: 24167 \tforth\n",
        "curve:"
       ]
      },
      {
       "output_type": "stream",
       "stream": "stdout",
       "text": [
        " 707 \tdomain: 3 \titeration: 7 \tstep: 24168 \tforth\n",
        "curve:"
       ]
      },
      {
       "output_type": "stream",
       "stream": "stdout",
       "text": [
        " 708 \tdomain: 3 \titeration: 8 \tstep: 24169 \tforth\n",
        "curve:"
       ]
      },
      {
       "output_type": "stream",
       "stream": "stdout",
       "text": [
        " 709 \tdomain: 3 \titeration: 9 \tstep: 24170 \tforth\n",
        "curve:"
       ]
      },
      {
       "output_type": "stream",
       "stream": "stdout",
       "text": [
        " 710 \tdomain: 3 \titeration: 10 \tstep: 24171 \tforth\n",
        "curve:"
       ]
      },
      {
       "output_type": "stream",
       "stream": "stdout",
       "text": [
        " 711 \tdomain: 3 \titeration: 11 \tstep: 24172 \tforth\n",
        "curve:"
       ]
      },
      {
       "output_type": "stream",
       "stream": "stdout",
       "text": [
        " 712 \tdomain: 3 \titeration: 12 \tstep: 24173 \tforth\n",
        "curve:"
       ]
      },
      {
       "output_type": "stream",
       "stream": "stdout",
       "text": [
        " 713 \tdomain: 3 \titeration: 13 \tstep: 24174 \tforth\n",
        "curve:"
       ]
      },
      {
       "output_type": "stream",
       "stream": "stdout",
       "text": [
        " 714 \tdomain: 3 \titeration: 14 \tstep: 24175 \tforth\n",
        "curve:"
       ]
      },
      {
       "output_type": "stream",
       "stream": "stdout",
       "text": [
        " 715 \tdomain: 3 \titeration: 15 \tstep: 24176 \tforth\n",
        "curve:"
       ]
      },
      {
       "output_type": "stream",
       "stream": "stdout",
       "text": [
        " 716 \tdomain: 3 \titeration: 16 \tstep: 24177 \tforth\n",
        "curve:"
       ]
      },
      {
       "output_type": "stream",
       "stream": "stdout",
       "text": [
        " 717 \tdomain: 3 \titeration: 17 \tstep: 24178 \tforth\n",
        "curve:"
       ]
      },
      {
       "output_type": "stream",
       "stream": "stdout",
       "text": [
        " 718 \tdomain: 3 \titeration: 18 \tstep: 24179 \tforth\n",
        "curve:"
       ]
      },
      {
       "output_type": "stream",
       "stream": "stdout",
       "text": [
        " 719 \tdomain: 3 \titeration: 19 \tstep: 24180 \tforth\n",
        "curve:"
       ]
      },
      {
       "output_type": "stream",
       "stream": "stdout",
       "text": [
        " 720 \tdomain: 3 \titeration: 20 \tstep: 24181 \tforth\n",
        "curve:"
       ]
      },
      {
       "output_type": "stream",
       "stream": "stdout",
       "text": [
        " 721 \tdomain: 3 \titeration: 21 \tstep: 24182 \tforth\n",
        "curve:"
       ]
      },
      {
       "output_type": "stream",
       "stream": "stdout",
       "text": [
        " 722 \tdomain: 3 \titeration: 22 \tstep: 24183 \tforth\n",
        "curve:"
       ]
      },
      {
       "output_type": "stream",
       "stream": "stdout",
       "text": [
        " 723 \tdomain: 3 \titeration: 23 \tstep: 24184 \tforth\n",
        "curve:"
       ]
      },
      {
       "output_type": "stream",
       "stream": "stdout",
       "text": [
        " 724 \tdomain: 3 \titeration: 24 \tstep: 24185 \tforth\n",
        "curve:"
       ]
      },
      {
       "output_type": "stream",
       "stream": "stdout",
       "text": [
        " 725 \tdomain: 3 \titeration: 25 \tstep: 24186 \tforth\n",
        "curve:"
       ]
      },
      {
       "output_type": "stream",
       "stream": "stdout",
       "text": [
        " 726 \tdomain: 3 \titeration: 26 \tstep: 24187 \tforth\n",
        "curve:"
       ]
      },
      {
       "output_type": "stream",
       "stream": "stdout",
       "text": [
        " 727 \tdomain: 3 \titeration: 27 \tstep: 24188 \tforth\n",
        "curve:"
       ]
      },
      {
       "output_type": "stream",
       "stream": "stdout",
       "text": [
        " 728 \tdomain: 3 \titeration: 28 \tstep: 24189 \tforth\n",
        "curve:"
       ]
      },
      {
       "output_type": "stream",
       "stream": "stdout",
       "text": [
        " 729 \tdomain: 3 \titeration: 29 \tstep: 24190 \tforth\n",
        "curve:"
       ]
      },
      {
       "output_type": "stream",
       "stream": "stdout",
       "text": [
        " 730 \tdomain: 3 \titeration: 30 \tstep: 24191 \tforth\n",
        "curve:"
       ]
      },
      {
       "output_type": "stream",
       "stream": "stdout",
       "text": [
        " 731 \tdomain: 3 \titeration: 31 \tstep: 24192 \tforth\n",
        "curve:"
       ]
      },
      {
       "output_type": "stream",
       "stream": "stdout",
       "text": [
        " 732 \tdomain: 3 \titeration: 32 \tstep: 24193 \tforth\n",
        "curve:"
       ]
      },
      {
       "output_type": "stream",
       "stream": "stdout",
       "text": [
        " 733 \tdomain: 3 \titeration: 33 \tstep: 24194 \tforth\n",
        "curve:"
       ]
      },
      {
       "output_type": "stream",
       "stream": "stdout",
       "text": [
        " 734 \tdomain: 3 \titeration: 34 \tstep: 24195 \tforth\n",
        "curve:"
       ]
      },
      {
       "output_type": "stream",
       "stream": "stdout",
       "text": [
        " 735 \tdomain: 3 \titeration: 35 \tstep: 24196 \tforth\n",
        "curve:"
       ]
      },
      {
       "output_type": "stream",
       "stream": "stdout",
       "text": [
        " 736 \tdomain: 3 \titeration: 36 \tstep: 24197 \tforth\n",
        "curve:"
       ]
      },
      {
       "output_type": "stream",
       "stream": "stdout",
       "text": [
        " 737 \tdomain: 3 \titeration: 37 \tstep: 24198 \tforth\n",
        "curve:"
       ]
      },
      {
       "output_type": "stream",
       "stream": "stdout",
       "text": [
        " 738 \tdomain: 3 \titeration: 38 \tstep: 24199 \tforth\n",
        "curve:"
       ]
      },
      {
       "output_type": "stream",
       "stream": "stdout",
       "text": [
        " 739 \tdomain: 3 \titeration: 39 \tstep: 24200 \tforth\n",
        "curve:"
       ]
      },
      {
       "output_type": "stream",
       "stream": "stdout",
       "text": [
        " 740 \tdomain: 3 \titeration: 40 \tstep: 24201 \tforth\n",
        "curve:"
       ]
      },
      {
       "output_type": "stream",
       "stream": "stdout",
       "text": [
        " 741 \tdomain: 3 \titeration: 41 \tstep: 24202 \tforth\n",
        "curve:"
       ]
      },
      {
       "output_type": "stream",
       "stream": "stdout",
       "text": [
        " 742 \tdomain: 3 \titeration: 42 \tstep: 24203 \tforth\n",
        "curve:"
       ]
      },
      {
       "output_type": "stream",
       "stream": "stdout",
       "text": [
        " 743 \tdomain: 3 \titeration: 43 \tstep: 24204 \tforth\n",
        "curve:"
       ]
      },
      {
       "output_type": "stream",
       "stream": "stdout",
       "text": [
        " 744 \tdomain: 3 \titeration: 44 \tstep: 24205 \tforth\n",
        "curve:"
       ]
      },
      {
       "output_type": "stream",
       "stream": "stdout",
       "text": [
        " 745 \tdomain: 3 \titeration: 45 \tstep: 24206 \tforth\n",
        "curve:"
       ]
      },
      {
       "output_type": "stream",
       "stream": "stdout",
       "text": [
        " 746 \tdomain: 3 \titeration: 46 \tstep: 24207 \tforth\n",
        "curve:"
       ]
      },
      {
       "output_type": "stream",
       "stream": "stdout",
       "text": [
        " 747 \tdomain: 3 \titeration: 47 \tstep: 24208 \tforth\n",
        "curve:"
       ]
      },
      {
       "output_type": "stream",
       "stream": "stdout",
       "text": [
        " 748 \tdomain: 3 \titeration: 48 \tstep: 24209 \tforth\n",
        "curve:"
       ]
      },
      {
       "output_type": "stream",
       "stream": "stdout",
       "text": [
        " 749 \tdomain: 3 \titeration: 49 \tstep: 24210 \tforth\n",
        "curve:"
       ]
      },
      {
       "output_type": "stream",
       "stream": "stdout",
       "text": [
        " 750 \tdomain: 3 \titeration: 50 \tstep: 24211 \tforth\n",
        "curve:"
       ]
      },
      {
       "output_type": "stream",
       "stream": "stdout",
       "text": [
        " 751 \tdomain: 3 \titeration: 51 \tstep: 24212 \tforth\n",
        "curve:"
       ]
      },
      {
       "output_type": "stream",
       "stream": "stdout",
       "text": [
        " 752 \tdomain: 3 \titeration: 52 \tstep: 24213 \tforth\n",
        "curve:"
       ]
      },
      {
       "output_type": "stream",
       "stream": "stdout",
       "text": [
        " 753 \tdomain: 3 \titeration: 53 \tstep: 24214 \tforth\n",
        "curve:"
       ]
      },
      {
       "output_type": "stream",
       "stream": "stdout",
       "text": [
        " 754 \tdomain: 3 \titeration: 54 \tstep: 24215 \tforth\n",
        "curve:"
       ]
      },
      {
       "output_type": "stream",
       "stream": "stdout",
       "text": [
        " 755 \tdomain: 3 \titeration: 55 \tstep: 24216 \tforth\n",
        "curve:"
       ]
      },
      {
       "output_type": "stream",
       "stream": "stdout",
       "text": [
        " 756 \tdomain: 3 \titeration: 56 \tstep: 24217 \tforth\n",
        "curve:"
       ]
      },
      {
       "output_type": "stream",
       "stream": "stdout",
       "text": [
        " 757 \tdomain: 3 \titeration: 57 \tstep: 24218 \tforth\n",
        "curve:"
       ]
      },
      {
       "output_type": "stream",
       "stream": "stdout",
       "text": [
        " 758 \tdomain: 3 \titeration: 58 \tstep: 24219 \tforth\n",
        "curve:"
       ]
      },
      {
       "output_type": "stream",
       "stream": "stdout",
       "text": [
        " 759 \tdomain: 3 \titeration: 59 \tstep: 24220 \tforth\n",
        "curve:"
       ]
      },
      {
       "output_type": "stream",
       "stream": "stdout",
       "text": [
        " 760 \tdomain: 3 \titeration: 60 \tstep: 24221 \tforth\n",
        "curve:"
       ]
      },
      {
       "output_type": "stream",
       "stream": "stdout",
       "text": [
        " 761 \tdomain: 3 \titeration: 61 \tstep: 24222 \tforth\n",
        "curve:"
       ]
      },
      {
       "output_type": "stream",
       "stream": "stdout",
       "text": [
        " 762 \tdomain: 3 \titeration: 62 \tstep: 24223 \tforth\n",
        "curve:"
       ]
      },
      {
       "output_type": "stream",
       "stream": "stdout",
       "text": [
        " 763 \tdomain: 3 \titeration: 63 \tstep: 24224 \tforth\n",
        "curve:"
       ]
      },
      {
       "output_type": "stream",
       "stream": "stdout",
       "text": [
        " 764 \tdomain: 3 \titeration: 64 \tstep: 24225 \tforth\n",
        "curve:"
       ]
      },
      {
       "output_type": "stream",
       "stream": "stdout",
       "text": [
        " 765 \tdomain: 3 \titeration: 65 \tstep: 24226 \tforth\n",
        "curve:"
       ]
      },
      {
       "output_type": "stream",
       "stream": "stdout",
       "text": [
        " 766 \tdomain: 3 \titeration: 66 \tstep: 24227 \tforth\n",
        "curve:"
       ]
      },
      {
       "output_type": "stream",
       "stream": "stdout",
       "text": [
        " 767 \tdomain: 3 \titeration: 67 \tstep: 24228 \tforth\n",
        "curve:"
       ]
      },
      {
       "output_type": "stream",
       "stream": "stdout",
       "text": [
        " 768 \tdomain: 3 \titeration: 68 \tstep: 24229 \tforth\n",
        "curve:"
       ]
      },
      {
       "output_type": "stream",
       "stream": "stdout",
       "text": [
        " 769 \tdomain: 3 \titeration: 69 \tstep: 24230 \tforth\n",
        "curve:"
       ]
      },
      {
       "output_type": "stream",
       "stream": "stdout",
       "text": [
        " 770 \tdomain: 3 \titeration: 70 \tstep: 24231 \tforth\n",
        "curve:"
       ]
      },
      {
       "output_type": "stream",
       "stream": "stdout",
       "text": [
        " 771 \tdomain: 3 \titeration: 71 \tstep: 24232 \tforth\n",
        "curve:"
       ]
      },
      {
       "output_type": "stream",
       "stream": "stdout",
       "text": [
        " 772 \tdomain: 3 \titeration: 72 \tstep: 24233 \tforth\n",
        "curve:"
       ]
      },
      {
       "output_type": "stream",
       "stream": "stdout",
       "text": [
        " 773 \tdomain: 3 \titeration: 73 \tstep: 24234 \tforth\n",
        "curve:"
       ]
      },
      {
       "output_type": "stream",
       "stream": "stdout",
       "text": [
        " 774 \tdomain: 3 \titeration: 74 \tstep: 24235 \tforth\n",
        "curve:"
       ]
      },
      {
       "output_type": "stream",
       "stream": "stdout",
       "text": [
        " 775 \tdomain: 3 \titeration: 75 \tstep: 24236 \tforth\n",
        "curve:"
       ]
      },
      {
       "output_type": "stream",
       "stream": "stdout",
       "text": [
        " 776 \tdomain: 3 \titeration: 76 \tstep: 24237 \tforth\n",
        "curve:"
       ]
      },
      {
       "output_type": "stream",
       "stream": "stdout",
       "text": [
        " 777 \tdomain: 3 \titeration: 77 \tstep: 24238 \tforth\n",
        "curve:"
       ]
      },
      {
       "output_type": "stream",
       "stream": "stdout",
       "text": [
        " 778 \tdomain: 3 \titeration: 78 \tstep: 24239 \tforth\n",
        "curve:"
       ]
      },
      {
       "output_type": "stream",
       "stream": "stdout",
       "text": [
        " 779 \tdomain: 3 \titeration: 79 \tstep: 24240 \tforth\n",
        "curve:"
       ]
      },
      {
       "output_type": "stream",
       "stream": "stdout",
       "text": [
        " 780 \tdomain: 3 \titeration: 80 \tstep: 24241 \tforth\n",
        "curve:"
       ]
      },
      {
       "output_type": "stream",
       "stream": "stdout",
       "text": [
        " 781 \tdomain: 3 \titeration: 81 \tstep: 24242 \tforth\n",
        "curve:"
       ]
      },
      {
       "output_type": "stream",
       "stream": "stdout",
       "text": [
        " 782 \tdomain: 3 \titeration: 82 \tstep: 24243 \tforth\n",
        "curve:"
       ]
      },
      {
       "output_type": "stream",
       "stream": "stdout",
       "text": [
        " 783 \tdomain: 3 \titeration: 83 \tstep: 24244 \tforth\n",
        "curve:"
       ]
      },
      {
       "output_type": "stream",
       "stream": "stdout",
       "text": [
        " 784 \tdomain: 3 \titeration: 84 \tstep: 24245 \tforth\n",
        "curve:"
       ]
      },
      {
       "output_type": "stream",
       "stream": "stdout",
       "text": [
        " 785 \tdomain: 3 \titeration: 85 \tstep: 24246 \tforth\n",
        "curve:"
       ]
      },
      {
       "output_type": "stream",
       "stream": "stdout",
       "text": [
        " 786 \tdomain: 3 \titeration: 86 \tstep: 24247 \tforth\n",
        "curve:"
       ]
      },
      {
       "output_type": "stream",
       "stream": "stdout",
       "text": [
        " 787 \tdomain: 3 \titeration: 87 \tstep: 24248 \tforth\n",
        "curve:"
       ]
      },
      {
       "output_type": "stream",
       "stream": "stdout",
       "text": [
        " 788 \tdomain: 3 \titeration: 88 \tstep: 24249 \tforth\n",
        "curve:"
       ]
      },
      {
       "output_type": "stream",
       "stream": "stdout",
       "text": [
        " 789 \tdomain: 3 \titeration: 89 \tstep: 24250 \tforth\n",
        "curve:"
       ]
      },
      {
       "output_type": "stream",
       "stream": "stdout",
       "text": [
        " 790 \tdomain: 3 \titeration: 90 \tstep: 24251 \tforth\n",
        "curve:"
       ]
      },
      {
       "output_type": "stream",
       "stream": "stdout",
       "text": [
        " 791 \tdomain: 3 \titeration: 91 \tstep: 24252 \tforth\n",
        "curve:"
       ]
      },
      {
       "output_type": "stream",
       "stream": "stdout",
       "text": [
        " 792 \tdomain: 3 \titeration: 92 \tstep: 24253 \tforth\n",
        "curve:"
       ]
      },
      {
       "output_type": "stream",
       "stream": "stdout",
       "text": [
        " 793 \tdomain: 3 \titeration: 93 \tstep: 24254 \tforth\n",
        "curve:"
       ]
      },
      {
       "output_type": "stream",
       "stream": "stdout",
       "text": [
        " 794 \tdomain: 3 \titeration: 94 \tstep: 24255 \tforth\n",
        "curve:"
       ]
      },
      {
       "output_type": "stream",
       "stream": "stdout",
       "text": [
        " 795 \tdomain: 3 \titeration: 95 \tstep: 24256 \tforth\n",
        "curve:"
       ]
      },
      {
       "output_type": "stream",
       "stream": "stdout",
       "text": [
        " 796 \tdomain: 3 \titeration: 96 \tstep: 24257 \tforth\n",
        "curve:"
       ]
      },
      {
       "output_type": "stream",
       "stream": "stdout",
       "text": [
        " 797 \tdomain: 3 \titeration: 97 \tstep: 24258 \tforth\n",
        "curve:"
       ]
      },
      {
       "output_type": "stream",
       "stream": "stdout",
       "text": [
        " 798 \tdomain: 3 \titeration: 98 \tstep: 24259 \tforth\n",
        "curve:"
       ]
      },
      {
       "output_type": "stream",
       "stream": "stdout",
       "text": [
        " 799 \tdomain: 3 \titeration: 99 \tstep: 24260 \tforth\n",
        "curve:"
       ]
      },
      {
       "output_type": "stream",
       "stream": "stdout",
       "text": [
        " 800 \tdomain: 4 \titeration: 0 \tstep: 24160 \tback\n",
        "curve:"
       ]
      },
      {
       "output_type": "stream",
       "stream": "stdout",
       "text": [
        " 801 \tdomain: 4 \titeration: 1 \tstep: 24159 \tback\n",
        "curve:"
       ]
      },
      {
       "output_type": "stream",
       "stream": "stdout",
       "text": [
        " 802 \tdomain: 4 \titeration: 2 \tstep: 24158 \tback\n",
        "curve:"
       ]
      },
      {
       "output_type": "stream",
       "stream": "stdout",
       "text": [
        " 803 \tdomain: 4 \titeration: 3 \tstep: 24157 \tback\n",
        "curve:"
       ]
      },
      {
       "output_type": "stream",
       "stream": "stdout",
       "text": [
        " 804 \tdomain: 4 \titeration: 4 \tstep: 24156 \tback\n",
        "curve:"
       ]
      },
      {
       "output_type": "stream",
       "stream": "stdout",
       "text": [
        " 805 \tdomain: 4 \titeration: 5 \tstep: 24155 \tback\n",
        "curve:"
       ]
      },
      {
       "output_type": "stream",
       "stream": "stdout",
       "text": [
        " 806 \tdomain: 4 \titeration: 6 \tstep: 24154 \tback\n",
        "curve:"
       ]
      },
      {
       "output_type": "stream",
       "stream": "stdout",
       "text": [
        " 807 \tdomain: 4 \titeration: 7 \tstep: 24153 \tback\n",
        "curve:"
       ]
      },
      {
       "output_type": "stream",
       "stream": "stdout",
       "text": [
        " 808 \tdomain: 4 \titeration: 8 \tstep: 24152 \tback\n",
        "curve:"
       ]
      },
      {
       "output_type": "stream",
       "stream": "stdout",
       "text": [
        " 809 \tdomain: 4 \titeration: 9 \tstep: 24151 \tback\n",
        "curve:"
       ]
      },
      {
       "output_type": "stream",
       "stream": "stdout",
       "text": [
        " 810 \tdomain: 4 \titeration: 10 \tstep: 24150 \tback\n",
        "curve:"
       ]
      },
      {
       "output_type": "stream",
       "stream": "stdout",
       "text": [
        " 811 \tdomain: 4 \titeration: 11 \tstep: 24149 \tback\n",
        "curve:"
       ]
      },
      {
       "output_type": "stream",
       "stream": "stdout",
       "text": [
        " 812 \tdomain: 4 \titeration: 12 \tstep: 24148 \tback\n",
        "curve:"
       ]
      },
      {
       "output_type": "stream",
       "stream": "stdout",
       "text": [
        " 813 \tdomain: 4 \titeration: 13 \tstep: 24147 \tback\n",
        "curve:"
       ]
      },
      {
       "output_type": "stream",
       "stream": "stdout",
       "text": [
        " 814 \tdomain: 4 \titeration: 14 \tstep: 24146 \tback\n",
        "curve:"
       ]
      },
      {
       "output_type": "stream",
       "stream": "stdout",
       "text": [
        " 815 \tdomain: 4 \titeration: 15 \tstep: 24145 \tback\n",
        "curve:"
       ]
      },
      {
       "output_type": "stream",
       "stream": "stdout",
       "text": [
        " 816 \tdomain: 4 \titeration: 16 \tstep: 24144 \tback\n",
        "curve:"
       ]
      },
      {
       "output_type": "stream",
       "stream": "stdout",
       "text": [
        " 817 \tdomain: 4 \titeration: 17 \tstep: 24143 \tback\n",
        "curve:"
       ]
      },
      {
       "output_type": "stream",
       "stream": "stdout",
       "text": [
        " 818 \tdomain: 4 \titeration: 18 \tstep: 24142 \tback\n",
        "curve:"
       ]
      },
      {
       "output_type": "stream",
       "stream": "stdout",
       "text": [
        " 819 \tdomain: 4 \titeration: 19 \tstep: 24141 \tback\n",
        "curve:"
       ]
      },
      {
       "output_type": "stream",
       "stream": "stdout",
       "text": [
        " 820 \tdomain: 4 \titeration: 20 \tstep: 24140 \tback\n",
        "curve:"
       ]
      },
      {
       "output_type": "stream",
       "stream": "stdout",
       "text": [
        " 821 \tdomain: 4 \titeration: 21 \tstep: 24139 \tback\n",
        "curve:"
       ]
      },
      {
       "output_type": "stream",
       "stream": "stdout",
       "text": [
        " 822 \tdomain: 4 \titeration: 22 \tstep: 24138 \tback\n",
        "curve:"
       ]
      },
      {
       "output_type": "stream",
       "stream": "stdout",
       "text": [
        " 823 \tdomain: 4 \titeration: 23 \tstep: 24137 \tback\n",
        "curve:"
       ]
      },
      {
       "output_type": "stream",
       "stream": "stdout",
       "text": [
        " 824 \tdomain: 4 \titeration: 24 \tstep: 24136 \tback\n",
        "curve:"
       ]
      },
      {
       "output_type": "stream",
       "stream": "stdout",
       "text": [
        " 825 \tdomain: 4 \titeration: 25 \tstep: 24135 \tback\n",
        "curve:"
       ]
      },
      {
       "output_type": "stream",
       "stream": "stdout",
       "text": [
        " 826 \tdomain: 4 \titeration: 26 \tstep: 24134 \tback\n",
        "curve:"
       ]
      },
      {
       "output_type": "stream",
       "stream": "stdout",
       "text": [
        " 827 \tdomain: 4 \titeration: 27 \tstep: 24133 \tback\n",
        "curve:"
       ]
      },
      {
       "output_type": "stream",
       "stream": "stdout",
       "text": [
        " 828 \tdomain: 4 \titeration: 28 \tstep: 24132 \tback\n",
        "curve:"
       ]
      },
      {
       "output_type": "stream",
       "stream": "stdout",
       "text": [
        " 829 \tdomain: 4 \titeration: 29 \tstep: 24131 \tback\n",
        "curve:"
       ]
      },
      {
       "output_type": "stream",
       "stream": "stdout",
       "text": [
        " 830 \tdomain: 4 \titeration: 30 \tstep: 24130 \tback\n",
        "curve:"
       ]
      },
      {
       "output_type": "stream",
       "stream": "stdout",
       "text": [
        " 831 \tdomain: 4 \titeration: 31 \tstep: 24129 \tback\n",
        "curve:"
       ]
      },
      {
       "output_type": "stream",
       "stream": "stdout",
       "text": [
        " 832 \tdomain: 4 \titeration: 32 \tstep: 24128 \tback\n",
        "curve:"
       ]
      },
      {
       "output_type": "stream",
       "stream": "stdout",
       "text": [
        " 833 \tdomain: 4 \titeration: 33 \tstep: 24127 \tback\n",
        "curve:"
       ]
      },
      {
       "output_type": "stream",
       "stream": "stdout",
       "text": [
        " 834 \tdomain: 4 \titeration: 34 \tstep: 24126 \tback\n",
        "curve:"
       ]
      },
      {
       "output_type": "stream",
       "stream": "stdout",
       "text": [
        " 835 \tdomain: 4 \titeration: 35 \tstep: 24125 \tback\n",
        "curve:"
       ]
      },
      {
       "output_type": "stream",
       "stream": "stdout",
       "text": [
        " 836 \tdomain: 4 \titeration: 36 \tstep: 24124 \tback\n",
        "curve:"
       ]
      },
      {
       "output_type": "stream",
       "stream": "stdout",
       "text": [
        " 837 \tdomain: 4 \titeration: 37 \tstep: 24123 \tback\n",
        "curve:"
       ]
      },
      {
       "output_type": "stream",
       "stream": "stdout",
       "text": [
        " 838 \tdomain: 4 \titeration: 38 \tstep: 24122 \tback\n",
        "curve:"
       ]
      },
      {
       "output_type": "stream",
       "stream": "stdout",
       "text": [
        " 839 \tdomain: 4 \titeration: 39 \tstep: 24121 \tback\n",
        "curve:"
       ]
      },
      {
       "output_type": "stream",
       "stream": "stdout",
       "text": [
        " 840 \tdomain: 4 \titeration: 40 \tstep: 24120 \tback\n",
        "curve:"
       ]
      },
      {
       "output_type": "stream",
       "stream": "stdout",
       "text": [
        " 841 \tdomain: 4 \titeration: 41 \tstep: 24119 \tback\n",
        "curve:"
       ]
      },
      {
       "output_type": "stream",
       "stream": "stdout",
       "text": [
        " 842 \tdomain: 4 \titeration: 42 \tstep: 24118 \tback\n",
        "curve:"
       ]
      },
      {
       "output_type": "stream",
       "stream": "stdout",
       "text": [
        " 843 \tdomain: 4 \titeration: 43 \tstep: 24117 \tback\n",
        "curve:"
       ]
      },
      {
       "output_type": "stream",
       "stream": "stdout",
       "text": [
        " 844 \tdomain: 4 \titeration: 44 \tstep: 24116 \tback\n",
        "curve:"
       ]
      },
      {
       "output_type": "stream",
       "stream": "stdout",
       "text": [
        " 845 \tdomain: 4 \titeration: 45 \tstep: 24115 \tback\n",
        "curve:"
       ]
      },
      {
       "output_type": "stream",
       "stream": "stdout",
       "text": [
        " 846 \tdomain: 4 \titeration: 46 \tstep: 24114 \tback\n",
        "curve:"
       ]
      },
      {
       "output_type": "stream",
       "stream": "stdout",
       "text": [
        " 847 \tdomain: 4 \titeration: 47 \tstep: 24113 \tback\n",
        "curve:"
       ]
      },
      {
       "output_type": "stream",
       "stream": "stdout",
       "text": [
        " 848 \tdomain: 4 \titeration: 48 \tstep: 24112 \tback\n",
        "curve:"
       ]
      },
      {
       "output_type": "stream",
       "stream": "stdout",
       "text": [
        " 849 \tdomain: 4 \titeration: 49 \tstep: 24111 \tback\n",
        "curve:"
       ]
      },
      {
       "output_type": "stream",
       "stream": "stdout",
       "text": [
        " 850 \tdomain: 4 \titeration: 50 \tstep: 24110 \tback\n",
        "curve:"
       ]
      },
      {
       "output_type": "stream",
       "stream": "stdout",
       "text": [
        " 851 \tdomain: 4 \titeration: 51 \tstep: 24109 \tback\n",
        "curve:"
       ]
      },
      {
       "output_type": "stream",
       "stream": "stdout",
       "text": [
        " 852 \tdomain: 4 \titeration: 52 \tstep: 24108 \tback\n",
        "curve:"
       ]
      },
      {
       "output_type": "stream",
       "stream": "stdout",
       "text": [
        " 853 \tdomain: 4 \titeration: 53 \tstep: 24107 \tback\n",
        "curve:"
       ]
      },
      {
       "output_type": "stream",
       "stream": "stdout",
       "text": [
        " 854 \tdomain: 4 \titeration: 54 \tstep: 24106 \tback\n",
        "curve:"
       ]
      },
      {
       "output_type": "stream",
       "stream": "stdout",
       "text": [
        " 855 \tdomain: 4 \titeration: 55 \tstep: 24105 \tback\n",
        "curve:"
       ]
      },
      {
       "output_type": "stream",
       "stream": "stdout",
       "text": [
        " 856 \tdomain: 4 \titeration: 56 \tstep: 24104 \tback\n",
        "curve:"
       ]
      },
      {
       "output_type": "stream",
       "stream": "stdout",
       "text": [
        " 857 \tdomain: 4 \titeration: 57 \tstep: 24103 \tback\n",
        "curve:"
       ]
      },
      {
       "output_type": "stream",
       "stream": "stdout",
       "text": [
        " 858 \tdomain: 4 \titeration: 58 \tstep: 24102 \tback\n",
        "curve:"
       ]
      },
      {
       "output_type": "stream",
       "stream": "stdout",
       "text": [
        " 859 \tdomain: 4 \titeration: 59 \tstep: 24101 \tback\n",
        "curve:"
       ]
      },
      {
       "output_type": "stream",
       "stream": "stdout",
       "text": [
        " 860 \tdomain: 4 \titeration: 60 \tstep: 24100 \tback\n",
        "curve:"
       ]
      },
      {
       "output_type": "stream",
       "stream": "stdout",
       "text": [
        " 861 \tdomain: 4 \titeration: 61 \tstep: 24099 \tback\n",
        "curve:"
       ]
      },
      {
       "output_type": "stream",
       "stream": "stdout",
       "text": [
        " 862 \tdomain: 4 \titeration: 62 \tstep: 24098 \tback\n",
        "curve:"
       ]
      },
      {
       "output_type": "stream",
       "stream": "stdout",
       "text": [
        " 863 \tdomain: 4 \titeration: 63 \tstep: 24097 \tback\n",
        "curve:"
       ]
      },
      {
       "output_type": "stream",
       "stream": "stdout",
       "text": [
        " 864 \tdomain: 4 \titeration: 64 \tstep: 24096 \tback\n",
        "curve:"
       ]
      },
      {
       "output_type": "stream",
       "stream": "stdout",
       "text": [
        " 865 \tdomain: 4 \titeration: 65 \tstep: 24095 \tback\n",
        "curve:"
       ]
      },
      {
       "output_type": "stream",
       "stream": "stdout",
       "text": [
        " 866 \tdomain: 4 \titeration: 66 \tstep: 24094 \tback\n",
        "curve:"
       ]
      },
      {
       "output_type": "stream",
       "stream": "stdout",
       "text": [
        " 867 \tdomain: 4 \titeration: 67 \tstep: 24093 \tback\n",
        "curve:"
       ]
      },
      {
       "output_type": "stream",
       "stream": "stdout",
       "text": [
        " 868 \tdomain: 4 \titeration: 68 \tstep: 24092 \tback\n",
        "curve:"
       ]
      },
      {
       "output_type": "stream",
       "stream": "stdout",
       "text": [
        " 869 \tdomain: 4 \titeration: 69 \tstep: 24091 \tback\n",
        "curve:"
       ]
      },
      {
       "output_type": "stream",
       "stream": "stdout",
       "text": [
        " 870 \tdomain: 4 \titeration: 70 \tstep: 24090 \tback\n",
        "curve:"
       ]
      },
      {
       "output_type": "stream",
       "stream": "stdout",
       "text": [
        " 871 \tdomain: 4 \titeration: 71 \tstep: 24089 \tback\n",
        "curve:"
       ]
      },
      {
       "output_type": "stream",
       "stream": "stdout",
       "text": [
        " 872 \tdomain: 4 \titeration: 72 \tstep: 24088 \tback\n",
        "curve:"
       ]
      },
      {
       "output_type": "stream",
       "stream": "stdout",
       "text": [
        " 873 \tdomain: 4 \titeration: 73 \tstep: 24087 \tback\n",
        "curve:"
       ]
      },
      {
       "output_type": "stream",
       "stream": "stdout",
       "text": [
        " 874 \tdomain: 4 \titeration: 74 \tstep: 24086 \tback\n",
        "curve:"
       ]
      },
      {
       "output_type": "stream",
       "stream": "stdout",
       "text": [
        " 875 \tdomain: 4 \titeration: 75 \tstep: 24085 \tback\n",
        "curve:"
       ]
      },
      {
       "output_type": "stream",
       "stream": "stdout",
       "text": [
        " 876 \tdomain: 4 \titeration: 76 \tstep: 24084 \tback\n",
        "curve:"
       ]
      },
      {
       "output_type": "stream",
       "stream": "stdout",
       "text": [
        " 877 \tdomain: 4 \titeration: 77 \tstep: 24083 \tback\n",
        "curve:"
       ]
      },
      {
       "output_type": "stream",
       "stream": "stdout",
       "text": [
        " 878 \tdomain: 4 \titeration: 78 \tstep: 24082 \tback\n",
        "curve:"
       ]
      },
      {
       "output_type": "stream",
       "stream": "stdout",
       "text": [
        " 879 \tdomain: 4 \titeration: 79 \tstep: 24081 \tback\n",
        "curve:"
       ]
      },
      {
       "output_type": "stream",
       "stream": "stdout",
       "text": [
        " 880 \tdomain: 4 \titeration: 80 \tstep: 24080 \tback\n",
        "curve:"
       ]
      },
      {
       "output_type": "stream",
       "stream": "stdout",
       "text": [
        " 881 \tdomain: 4 \titeration: 81 \tstep: 24079 \tback\n",
        "curve:"
       ]
      },
      {
       "output_type": "stream",
       "stream": "stdout",
       "text": [
        " 882 \tdomain: 4 \titeration: 82 \tstep: 24078 \tback\n",
        "curve:"
       ]
      },
      {
       "output_type": "stream",
       "stream": "stdout",
       "text": [
        " 883 \tdomain: 4 \titeration: 83 \tstep: 24077 \tback\n",
        "curve:"
       ]
      },
      {
       "output_type": "stream",
       "stream": "stdout",
       "text": [
        " 884 \tdomain: 4 \titeration: 84 \tstep: 24076 \tback\n",
        "curve:"
       ]
      },
      {
       "output_type": "stream",
       "stream": "stdout",
       "text": [
        " 885 \tdomain: 4 \titeration: 85 \tstep: 24075 \tback\n",
        "curve:"
       ]
      },
      {
       "output_type": "stream",
       "stream": "stdout",
       "text": [
        " 886 \tdomain: 4 \titeration: 86 \tstep: 24074 \tback\n",
        "curve:"
       ]
      },
      {
       "output_type": "stream",
       "stream": "stdout",
       "text": [
        " 887 \tdomain: 4 \titeration: 87 \tstep: 24073 \tback\n",
        "curve:"
       ]
      },
      {
       "output_type": "stream",
       "stream": "stdout",
       "text": [
        " 888 \tdomain: 4 \titeration: 88 \tstep: 24072 \tback\n",
        "curve:"
       ]
      },
      {
       "output_type": "stream",
       "stream": "stdout",
       "text": [
        " 889 \tdomain: 4 \titeration: 89 \tstep: 24071 \tback\n",
        "curve:"
       ]
      },
      {
       "output_type": "stream",
       "stream": "stdout",
       "text": [
        " 890 \tdomain: 4 \titeration: 90 \tstep: 24070 \tback\n",
        "curve:"
       ]
      },
      {
       "output_type": "stream",
       "stream": "stdout",
       "text": [
        " 891 \tdomain: 4 \titeration: 91 \tstep: 24069 \tback\n",
        "curve:"
       ]
      },
      {
       "output_type": "stream",
       "stream": "stdout",
       "text": [
        " 892 \tdomain: 4 \titeration: 92 \tstep: 24068 \tback\n",
        "curve:"
       ]
      },
      {
       "output_type": "stream",
       "stream": "stdout",
       "text": [
        " 893 \tdomain: 4 \titeration: 93 \tstep: 24067 \tback\n",
        "curve:"
       ]
      },
      {
       "output_type": "stream",
       "stream": "stdout",
       "text": [
        " 894 \tdomain: 4 \titeration: 94 \tstep: 24066 \tback\n",
        "curve:"
       ]
      },
      {
       "output_type": "stream",
       "stream": "stdout",
       "text": [
        " 895 \tdomain: 4 \titeration: 95 \tstep: 24065 \tback\n",
        "curve:"
       ]
      },
      {
       "output_type": "stream",
       "stream": "stdout",
       "text": [
        " 896 \tdomain: 4 \titeration: 96 \tstep: 24064 \tback\n",
        "curve:"
       ]
      },
      {
       "output_type": "stream",
       "stream": "stdout",
       "text": [
        " 897 \tdomain: 4 \titeration: 97 \tstep: 24063 \tback\n",
        "curve:"
       ]
      },
      {
       "output_type": "stream",
       "stream": "stdout",
       "text": [
        " 898 \tdomain: 4 \titeration: 98 \tstep: 24062 \tback\n",
        "curve:"
       ]
      },
      {
       "output_type": "stream",
       "stream": "stdout",
       "text": [
        " 899 \tdomain: 4 \titeration: 99 \tstep: 24061 \tback\n",
        "curve:"
       ]
      },
      {
       "output_type": "stream",
       "stream": "stdout",
       "text": [
        " 900 \tdomain: 4 \titeration: 0 \tstep: 24061 \tforth\n",
        "curve:"
       ]
      },
      {
       "output_type": "stream",
       "stream": "stdout",
       "text": [
        " 901 \tdomain: 4 \titeration: 1 \tstep: 24062 \tforth\n",
        "curve:"
       ]
      },
      {
       "output_type": "stream",
       "stream": "stdout",
       "text": [
        " 902 \tdomain: 4 \titeration: 2 \tstep: 24063 \tforth\n",
        "curve:"
       ]
      },
      {
       "output_type": "stream",
       "stream": "stdout",
       "text": [
        " 903 \tdomain: 4 \titeration: 3 \tstep: 24064 \tforth\n",
        "curve:"
       ]
      },
      {
       "output_type": "stream",
       "stream": "stdout",
       "text": [
        " 904 \tdomain: 4 \titeration: 4 \tstep: 24065 \tforth\n",
        "curve:"
       ]
      },
      {
       "output_type": "stream",
       "stream": "stdout",
       "text": [
        " 905 \tdomain: 4 \titeration: 5 \tstep: 24066 \tforth\n",
        "curve:"
       ]
      },
      {
       "output_type": "stream",
       "stream": "stdout",
       "text": [
        " 906 \tdomain: 4 \titeration: 6 \tstep: 24067 \tforth\n",
        "curve:"
       ]
      },
      {
       "output_type": "stream",
       "stream": "stdout",
       "text": [
        " 907 \tdomain: 4 \titeration: 7 \tstep: 24068 \tforth\n",
        "curve:"
       ]
      },
      {
       "output_type": "stream",
       "stream": "stdout",
       "text": [
        " 908 \tdomain: 4 \titeration: 8 \tstep: 24069 \tforth\n",
        "curve:"
       ]
      },
      {
       "output_type": "stream",
       "stream": "stdout",
       "text": [
        " 909 \tdomain: 4 \titeration: 9 \tstep: 24070 \tforth\n",
        "curve:"
       ]
      },
      {
       "output_type": "stream",
       "stream": "stdout",
       "text": [
        " 910 \tdomain: 4 \titeration: 10 \tstep: 24071 \tforth\n",
        "curve:"
       ]
      },
      {
       "output_type": "stream",
       "stream": "stdout",
       "text": [
        " 911 \tdomain: 4 \titeration: 11 \tstep: 24072 \tforth\n",
        "curve:"
       ]
      },
      {
       "output_type": "stream",
       "stream": "stdout",
       "text": [
        " 912 \tdomain: 4 \titeration: 12 \tstep: 24073 \tforth\n",
        "curve:"
       ]
      },
      {
       "output_type": "stream",
       "stream": "stdout",
       "text": [
        " 913 \tdomain: 4 \titeration: 13 \tstep: 24074 \tforth\n",
        "curve:"
       ]
      },
      {
       "output_type": "stream",
       "stream": "stdout",
       "text": [
        " 914 \tdomain: 4 \titeration: 14 \tstep: 24075 \tforth\n",
        "curve:"
       ]
      },
      {
       "output_type": "stream",
       "stream": "stdout",
       "text": [
        " 915 \tdomain: 4 \titeration: 15 \tstep: 24076 \tforth\n",
        "curve:"
       ]
      },
      {
       "output_type": "stream",
       "stream": "stdout",
       "text": [
        " 916 \tdomain: 4 \titeration: 16 \tstep: 24077 \tforth\n",
        "curve:"
       ]
      },
      {
       "output_type": "stream",
       "stream": "stdout",
       "text": [
        " 917 \tdomain: 4 \titeration: 17 \tstep: 24078 \tforth\n",
        "curve:"
       ]
      },
      {
       "output_type": "stream",
       "stream": "stdout",
       "text": [
        " 918 \tdomain: 4 \titeration: 18 \tstep: 24079 \tforth\n",
        "curve:"
       ]
      },
      {
       "output_type": "stream",
       "stream": "stdout",
       "text": [
        " 919 \tdomain: 4 \titeration: 19 \tstep: 24080 \tforth\n",
        "curve:"
       ]
      },
      {
       "output_type": "stream",
       "stream": "stdout",
       "text": [
        " 920 \tdomain: 4 \titeration: 20 \tstep: 24081 \tforth\n",
        "curve:"
       ]
      },
      {
       "output_type": "stream",
       "stream": "stdout",
       "text": [
        " 921 \tdomain: 4 \titeration: 21 \tstep: 24082 \tforth\n",
        "curve:"
       ]
      },
      {
       "output_type": "stream",
       "stream": "stdout",
       "text": [
        " 922 \tdomain: 4 \titeration: 22 \tstep: 24083 \tforth\n",
        "curve:"
       ]
      },
      {
       "output_type": "stream",
       "stream": "stdout",
       "text": [
        " 923 \tdomain: 4 \titeration: 23 \tstep: 24084 \tforth\n",
        "curve:"
       ]
      },
      {
       "output_type": "stream",
       "stream": "stdout",
       "text": [
        " 924 \tdomain: 4 \titeration: 24 \tstep: 24085 \tforth\n",
        "curve:"
       ]
      },
      {
       "output_type": "stream",
       "stream": "stdout",
       "text": [
        " 925 \tdomain: 4 \titeration: 25 \tstep: 24086 \tforth\n",
        "curve:"
       ]
      },
      {
       "output_type": "stream",
       "stream": "stdout",
       "text": [
        " 926 \tdomain: 4 \titeration: 26 \tstep: 24087 \tforth\n",
        "curve:"
       ]
      },
      {
       "output_type": "stream",
       "stream": "stdout",
       "text": [
        " 927 \tdomain: 4 \titeration: 27 \tstep: 24088 \tforth\n",
        "curve:"
       ]
      },
      {
       "output_type": "stream",
       "stream": "stdout",
       "text": [
        " 928 \tdomain: 4 \titeration: 28 \tstep: 24089 \tforth\n",
        "curve:"
       ]
      },
      {
       "output_type": "stream",
       "stream": "stdout",
       "text": [
        " 929 \tdomain: 4 \titeration: 29 \tstep: 24090 \tforth\n",
        "curve:"
       ]
      },
      {
       "output_type": "stream",
       "stream": "stdout",
       "text": [
        " 930 \tdomain: 4 \titeration: 30 \tstep: 24091 \tforth\n",
        "curve:"
       ]
      },
      {
       "output_type": "stream",
       "stream": "stdout",
       "text": [
        " 931 \tdomain: 4 \titeration: 31 \tstep: 24092 \tforth\n",
        "curve:"
       ]
      },
      {
       "output_type": "stream",
       "stream": "stdout",
       "text": [
        " 932 \tdomain: 4 \titeration: 32 \tstep: 24093 \tforth\n",
        "curve:"
       ]
      },
      {
       "output_type": "stream",
       "stream": "stdout",
       "text": [
        " 933 \tdomain: 4 \titeration: 33 \tstep: 24094 \tforth\n",
        "curve:"
       ]
      },
      {
       "output_type": "stream",
       "stream": "stdout",
       "text": [
        " 934 \tdomain: 4 \titeration: 34 \tstep: 24095 \tforth\n",
        "curve:"
       ]
      },
      {
       "output_type": "stream",
       "stream": "stdout",
       "text": [
        " 935 \tdomain: 4 \titeration: 35 \tstep: 24096 \tforth\n",
        "curve:"
       ]
      },
      {
       "output_type": "stream",
       "stream": "stdout",
       "text": [
        " 936 \tdomain: 4 \titeration: 36 \tstep: 24097 \tforth\n",
        "curve:"
       ]
      },
      {
       "output_type": "stream",
       "stream": "stdout",
       "text": [
        " 937 \tdomain: 4 \titeration: 37 \tstep: 24098 \tforth\n",
        "curve:"
       ]
      },
      {
       "output_type": "stream",
       "stream": "stdout",
       "text": [
        " 938 \tdomain: 4 \titeration: 38 \tstep: 24099 \tforth\n",
        "curve:"
       ]
      },
      {
       "output_type": "stream",
       "stream": "stdout",
       "text": [
        " 939 \tdomain: 4 \titeration: 39 \tstep: 24100 \tforth\n",
        "curve:"
       ]
      },
      {
       "output_type": "stream",
       "stream": "stdout",
       "text": [
        " 940 \tdomain: 4 \titeration: 40 \tstep: 24101 \tforth\n",
        "curve:"
       ]
      },
      {
       "output_type": "stream",
       "stream": "stdout",
       "text": [
        " 941 \tdomain: 4 \titeration: 41 \tstep: 24102 \tforth\n",
        "curve:"
       ]
      },
      {
       "output_type": "stream",
       "stream": "stdout",
       "text": [
        " 942 \tdomain: 4 \titeration: 42 \tstep: 24103 \tforth\n",
        "curve:"
       ]
      },
      {
       "output_type": "stream",
       "stream": "stdout",
       "text": [
        " 943 \tdomain: 4 \titeration: 43 \tstep: 24104 \tforth\n",
        "curve:"
       ]
      },
      {
       "output_type": "stream",
       "stream": "stdout",
       "text": [
        " 944 \tdomain: 4 \titeration: 44 \tstep: 24105 \tforth\n",
        "curve:"
       ]
      },
      {
       "output_type": "stream",
       "stream": "stdout",
       "text": [
        " 945 \tdomain: 4 \titeration: 45 \tstep: 24106 \tforth\n",
        "curve:"
       ]
      },
      {
       "output_type": "stream",
       "stream": "stdout",
       "text": [
        " 946 \tdomain: 4 \titeration: 46 \tstep: 24107 \tforth\n",
        "curve:"
       ]
      },
      {
       "output_type": "stream",
       "stream": "stdout",
       "text": [
        " 947 \tdomain: 4 \titeration: 47 \tstep: 24108 \tforth\n",
        "curve:"
       ]
      },
      {
       "output_type": "stream",
       "stream": "stdout",
       "text": [
        " 948 \tdomain: 4 \titeration: 48 \tstep: 24109 \tforth\n",
        "curve:"
       ]
      },
      {
       "output_type": "stream",
       "stream": "stdout",
       "text": [
        " 949 \tdomain: 4 \titeration: 49 \tstep: 24110 \tforth\n",
        "curve:"
       ]
      },
      {
       "output_type": "stream",
       "stream": "stdout",
       "text": [
        " 950 \tdomain: 4 \titeration: 50 \tstep: 24111 \tforth\n",
        "curve:"
       ]
      },
      {
       "output_type": "stream",
       "stream": "stdout",
       "text": [
        " 951 \tdomain: 4 \titeration: 51 \tstep: 24112 \tforth\n",
        "curve:"
       ]
      },
      {
       "output_type": "stream",
       "stream": "stdout",
       "text": [
        " 952 \tdomain: 4 \titeration: 52 \tstep: 24113 \tforth\n",
        "curve:"
       ]
      },
      {
       "output_type": "stream",
       "stream": "stdout",
       "text": [
        " 953 \tdomain: 4 \titeration: 53 \tstep: 24114 \tforth\n",
        "curve:"
       ]
      },
      {
       "output_type": "stream",
       "stream": "stdout",
       "text": [
        " 954 \tdomain: 4 \titeration: 54 \tstep: 24115 \tforth\n",
        "curve:"
       ]
      },
      {
       "output_type": "stream",
       "stream": "stdout",
       "text": [
        " 955 \tdomain: 4 \titeration: 55 \tstep: 24116 \tforth\n",
        "curve:"
       ]
      },
      {
       "output_type": "stream",
       "stream": "stdout",
       "text": [
        " 956 \tdomain: 4 \titeration: 56 \tstep: 24117 \tforth\n",
        "curve:"
       ]
      },
      {
       "output_type": "stream",
       "stream": "stdout",
       "text": [
        " 957 \tdomain: 4 \titeration: 57 \tstep: 24118 \tforth\n",
        "curve:"
       ]
      },
      {
       "output_type": "stream",
       "stream": "stdout",
       "text": [
        " 958 \tdomain: 4 \titeration: 58 \tstep: 24119 \tforth\n",
        "curve:"
       ]
      },
      {
       "output_type": "stream",
       "stream": "stdout",
       "text": [
        " 959 \tdomain: 4 \titeration: 59 \tstep: 24120 \tforth\n",
        "curve:"
       ]
      },
      {
       "output_type": "stream",
       "stream": "stdout",
       "text": [
        " 960 \tdomain: 4 \titeration: 60 \tstep: 24121 \tforth\n",
        "curve:"
       ]
      },
      {
       "output_type": "stream",
       "stream": "stdout",
       "text": [
        " 961 \tdomain: 4 \titeration: 61 \tstep: 24122 \tforth\n",
        "curve:"
       ]
      },
      {
       "output_type": "stream",
       "stream": "stdout",
       "text": [
        " 962 \tdomain: 4 \titeration: 62 \tstep: 24123 \tforth\n",
        "curve:"
       ]
      },
      {
       "output_type": "stream",
       "stream": "stdout",
       "text": [
        " 963 \tdomain: 4 \titeration: 63 \tstep: 24124 \tforth\n",
        "curve:"
       ]
      },
      {
       "output_type": "stream",
       "stream": "stdout",
       "text": [
        " 964 \tdomain: 4 \titeration: 64 \tstep: 24125 \tforth\n",
        "curve:"
       ]
      },
      {
       "output_type": "stream",
       "stream": "stdout",
       "text": [
        " 965 \tdomain: 4 \titeration: 65 \tstep: 24126 \tforth\n",
        "curve:"
       ]
      },
      {
       "output_type": "stream",
       "stream": "stdout",
       "text": [
        " 966 \tdomain: 4 \titeration: 66 \tstep: 24127 \tforth\n",
        "curve:"
       ]
      },
      {
       "output_type": "stream",
       "stream": "stdout",
       "text": [
        " 967 \tdomain: 4 \titeration: 67 \tstep: 24128 \tforth\n",
        "curve:"
       ]
      },
      {
       "output_type": "stream",
       "stream": "stdout",
       "text": [
        " 968 \tdomain: 4 \titeration: 68 \tstep: 24129 \tforth\n",
        "curve:"
       ]
      },
      {
       "output_type": "stream",
       "stream": "stdout",
       "text": [
        " 969 \tdomain: 4 \titeration: 69 \tstep: 24130 \tforth\n",
        "curve:"
       ]
      },
      {
       "output_type": "stream",
       "stream": "stdout",
       "text": [
        " 970 \tdomain: 4 \titeration: 70 \tstep: 24131 \tforth\n",
        "curve:"
       ]
      },
      {
       "output_type": "stream",
       "stream": "stdout",
       "text": [
        " 971 \tdomain: 4 \titeration: 71 \tstep: 24132 \tforth\n",
        "curve:"
       ]
      },
      {
       "output_type": "stream",
       "stream": "stdout",
       "text": [
        " 972 \tdomain: 4 \titeration: 72 \tstep: 24133 \tforth\n",
        "curve:"
       ]
      },
      {
       "output_type": "stream",
       "stream": "stdout",
       "text": [
        " 973 \tdomain: 4 \titeration: 73 \tstep: 24134 \tforth\n",
        "curve:"
       ]
      },
      {
       "output_type": "stream",
       "stream": "stdout",
       "text": [
        " 974 \tdomain: 4 \titeration: 74 \tstep: 24135 \tforth\n",
        "curve:"
       ]
      },
      {
       "output_type": "stream",
       "stream": "stdout",
       "text": [
        " 975 \tdomain: 4 \titeration: 75 \tstep: 24136 \tforth\n",
        "curve:"
       ]
      },
      {
       "output_type": "stream",
       "stream": "stdout",
       "text": [
        " 976 \tdomain: 4 \titeration: 76 \tstep: 24137 \tforth\n",
        "curve:"
       ]
      },
      {
       "output_type": "stream",
       "stream": "stdout",
       "text": [
        " 977 \tdomain: 4 \titeration: 77 \tstep: 24138 \tforth\n",
        "curve:"
       ]
      },
      {
       "output_type": "stream",
       "stream": "stdout",
       "text": [
        " 978 \tdomain: 4 \titeration: 78 \tstep: 24139 \tforth\n",
        "curve:"
       ]
      },
      {
       "output_type": "stream",
       "stream": "stdout",
       "text": [
        " 979 \tdomain: 4 \titeration: 79 \tstep: 24140 \tforth\n",
        "curve:"
       ]
      },
      {
       "output_type": "stream",
       "stream": "stdout",
       "text": [
        " 980 \tdomain: 4 \titeration: 80 \tstep: 24141 \tforth\n",
        "curve:"
       ]
      },
      {
       "output_type": "stream",
       "stream": "stdout",
       "text": [
        " 981 \tdomain: 4 \titeration: 81 \tstep: 24142 \tforth\n",
        "curve:"
       ]
      },
      {
       "output_type": "stream",
       "stream": "stdout",
       "text": [
        " 982 \tdomain: 4 \titeration: 82 \tstep: 24143 \tforth\n",
        "curve:"
       ]
      },
      {
       "output_type": "stream",
       "stream": "stdout",
       "text": [
        " 983 \tdomain: 4 \titeration: 83 \tstep: 24144 \tforth\n",
        "curve:"
       ]
      },
      {
       "output_type": "stream",
       "stream": "stdout",
       "text": [
        " 984 \tdomain: 4 \titeration: 84 \tstep: 24145 \tforth\n",
        "curve:"
       ]
      },
      {
       "output_type": "stream",
       "stream": "stdout",
       "text": [
        " 985 \tdomain: 4 \titeration: 85 \tstep: 24146 \tforth\n",
        "curve:"
       ]
      },
      {
       "output_type": "stream",
       "stream": "stdout",
       "text": [
        " 986 \tdomain: 4 \titeration: 86 \tstep: 24147 \tforth\n",
        "curve:"
       ]
      },
      {
       "output_type": "stream",
       "stream": "stdout",
       "text": [
        " 987 \tdomain: 4 \titeration: 87 \tstep: 24148 \tforth\n",
        "curve:"
       ]
      },
      {
       "output_type": "stream",
       "stream": "stdout",
       "text": [
        " 988 \tdomain: 4 \titeration: 88 \tstep: 24149 \tforth\n",
        "curve:"
       ]
      },
      {
       "output_type": "stream",
       "stream": "stdout",
       "text": [
        " 989 \tdomain: 4 \titeration: 89 \tstep: 24150 \tforth\n",
        "curve:"
       ]
      },
      {
       "output_type": "stream",
       "stream": "stdout",
       "text": [
        " 990 \tdomain: 4 \titeration: 90 \tstep: 24151 \tforth\n",
        "curve:"
       ]
      },
      {
       "output_type": "stream",
       "stream": "stdout",
       "text": [
        " 991 \tdomain: 4 \titeration: 91 \tstep: 24152 \tforth\n",
        "curve:"
       ]
      },
      {
       "output_type": "stream",
       "stream": "stdout",
       "text": [
        " 992 \tdomain: 4 \titeration: 92 \tstep: 24153 \tforth\n",
        "curve:"
       ]
      },
      {
       "output_type": "stream",
       "stream": "stdout",
       "text": [
        " 993 \tdomain: 4 \titeration: 93 \tstep: 24154 \tforth\n",
        "curve:"
       ]
      },
      {
       "output_type": "stream",
       "stream": "stdout",
       "text": [
        " 994 \tdomain: 4 \titeration: 94 \tstep: 24155 \tforth\n",
        "curve:"
       ]
      },
      {
       "output_type": "stream",
       "stream": "stdout",
       "text": [
        " 995 \tdomain: 4 \titeration: 95 \tstep: 24156 \tforth\n",
        "curve:"
       ]
      },
      {
       "output_type": "stream",
       "stream": "stdout",
       "text": [
        " 996 \tdomain: 4 \titeration: 96 \tstep: 24157 \tforth\n",
        "curve:"
       ]
      },
      {
       "output_type": "stream",
       "stream": "stdout",
       "text": [
        " 997 \tdomain: 4 \titeration: 97 \tstep: 24158 \tforth\n",
        "curve:"
       ]
      },
      {
       "output_type": "stream",
       "stream": "stdout",
       "text": [
        " 998 \tdomain: 4 \titeration: 98 \tstep: 24159 \tforth\n",
        "curve:"
       ]
      },
      {
       "output_type": "stream",
       "stream": "stdout",
       "text": [
        " 999 \tdomain: 4 \titeration: 99 \tstep: 24160 \tforth\n",
        "curve:"
       ]
      },
      {
       "output_type": "stream",
       "stream": "stdout",
       "text": [
        " 1000 \tdomain: 5 \titeration: 0 \tstep: 24060 \tback\n",
        "curve:"
       ]
      },
      {
       "output_type": "stream",
       "stream": "stdout",
       "text": [
        " 1001 \tdomain: 5 \titeration: 1 \tstep: 24059 \tback\n",
        "curve:"
       ]
      },
      {
       "output_type": "stream",
       "stream": "stdout",
       "text": [
        " 1002 \tdomain: 5 \titeration: 2 \tstep: 24058 \tback\n",
        "curve:"
       ]
      },
      {
       "output_type": "stream",
       "stream": "stdout",
       "text": [
        " 1003 \tdomain: 5 \titeration: 3 \tstep: 24057 \tback\n",
        "curve:"
       ]
      },
      {
       "output_type": "stream",
       "stream": "stdout",
       "text": [
        " 1004 \tdomain: 5 \titeration: 4 \tstep: 24056 \tback\n",
        "curve:"
       ]
      },
      {
       "output_type": "stream",
       "stream": "stdout",
       "text": [
        " 1005 \tdomain: 5 \titeration: 5 \tstep: 24055 \tback\n",
        "curve:"
       ]
      },
      {
       "output_type": "stream",
       "stream": "stdout",
       "text": [
        " 1006 \tdomain: 5 \titeration: 6 \tstep: 24054 \tback\n",
        "curve:"
       ]
      },
      {
       "output_type": "stream",
       "stream": "stdout",
       "text": [
        " 1007 \tdomain: 5 \titeration: 7 \tstep: 24053 \tback\n",
        "curve:"
       ]
      },
      {
       "output_type": "stream",
       "stream": "stdout",
       "text": [
        " 1008 \tdomain: 5 \titeration: 8 \tstep: 24052 \tback\n",
        "curve:"
       ]
      },
      {
       "output_type": "stream",
       "stream": "stdout",
       "text": [
        " 1009 \tdomain: 5 \titeration: 9 \tstep: 24051 \tback\n",
        "curve:"
       ]
      },
      {
       "output_type": "stream",
       "stream": "stdout",
       "text": [
        " 1010 \tdomain: 5 \titeration: 10 \tstep: 24050 \tback\n",
        "curve:"
       ]
      },
      {
       "output_type": "stream",
       "stream": "stdout",
       "text": [
        " 1011 \tdomain: 5 \titeration: 11 \tstep: 24049 \tback\n",
        "curve:"
       ]
      },
      {
       "output_type": "stream",
       "stream": "stdout",
       "text": [
        " 1012 \tdomain: 5 \titeration: 12 \tstep: 24048 \tback\n",
        "curve:"
       ]
      },
      {
       "output_type": "stream",
       "stream": "stdout",
       "text": [
        " 1013 \tdomain: 5 \titeration: 13 \tstep: 24047 \tback\n",
        "curve:"
       ]
      },
      {
       "output_type": "stream",
       "stream": "stdout",
       "text": [
        " 1014 \tdomain: 5 \titeration: 14 \tstep: 24046 \tback\n",
        "curve:"
       ]
      },
      {
       "output_type": "stream",
       "stream": "stdout",
       "text": [
        " 1015 \tdomain: 5 \titeration: 15 \tstep: 24045 \tback\n",
        "curve:"
       ]
      },
      {
       "output_type": "stream",
       "stream": "stdout",
       "text": [
        " 1016 \tdomain: 5 \titeration: 16 \tstep: 24044 \tback\n",
        "curve:"
       ]
      },
      {
       "output_type": "stream",
       "stream": "stdout",
       "text": [
        " 1017 \tdomain: 5 \titeration: 17 \tstep: 24043 \tback\n",
        "curve:"
       ]
      },
      {
       "output_type": "stream",
       "stream": "stdout",
       "text": [
        " 1018 \tdomain: 5 \titeration: 18 \tstep: 24042 \tback\n",
        "curve:"
       ]
      },
      {
       "output_type": "stream",
       "stream": "stdout",
       "text": [
        " 1019 \tdomain: 5 \titeration: 19 \tstep: 24041 \tback\n",
        "curve:"
       ]
      },
      {
       "output_type": "stream",
       "stream": "stdout",
       "text": [
        " 1020 \tdomain: 5 \titeration: 20 \tstep: 24040 \tback\n",
        "curve:"
       ]
      },
      {
       "output_type": "stream",
       "stream": "stdout",
       "text": [
        " 1021 \tdomain: 5 \titeration: 21 \tstep: 24039 \tback\n",
        "curve:"
       ]
      },
      {
       "output_type": "stream",
       "stream": "stdout",
       "text": [
        " 1022 \tdomain: 5 \titeration: 22 \tstep: 24038 \tback\n",
        "curve:"
       ]
      },
      {
       "output_type": "stream",
       "stream": "stdout",
       "text": [
        " 1023 \tdomain: 5 \titeration: 23 \tstep: 24037 \tback\n",
        "curve:"
       ]
      },
      {
       "output_type": "stream",
       "stream": "stdout",
       "text": [
        " 1024 \tdomain: 5 \titeration: 24 \tstep: 24036 \tback\n",
        "curve:"
       ]
      },
      {
       "output_type": "stream",
       "stream": "stdout",
       "text": [
        " 1025 \tdomain: 5 \titeration: 25 \tstep: 24035 \tback\n",
        "curve:"
       ]
      },
      {
       "output_type": "stream",
       "stream": "stdout",
       "text": [
        " 1026 \tdomain: 5 \titeration: 26 \tstep: 24034 \tback\n",
        "curve:"
       ]
      },
      {
       "output_type": "stream",
       "stream": "stdout",
       "text": [
        " 1027 \tdomain: 5 \titeration: 27 \tstep: 24033 \tback\n",
        "curve:"
       ]
      },
      {
       "output_type": "stream",
       "stream": "stdout",
       "text": [
        " 1028 \tdomain: 5 \titeration: 28 \tstep: 24032 \tback\n",
        "curve:"
       ]
      },
      {
       "output_type": "stream",
       "stream": "stdout",
       "text": [
        " 1029 \tdomain: 5 \titeration: 29 \tstep: 24031 \tback\n",
        "curve:"
       ]
      },
      {
       "output_type": "stream",
       "stream": "stdout",
       "text": [
        " 1030 \tdomain: 5 \titeration: 30 \tstep: 24030 \tback\n",
        "curve:"
       ]
      },
      {
       "output_type": "stream",
       "stream": "stdout",
       "text": [
        " 1031 \tdomain: 5 \titeration: 31 \tstep: 24029 \tback\n",
        "curve:"
       ]
      },
      {
       "output_type": "stream",
       "stream": "stdout",
       "text": [
        " 1032 \tdomain: 5 \titeration: 32 \tstep: 24028 \tback\n",
        "curve:"
       ]
      },
      {
       "output_type": "stream",
       "stream": "stdout",
       "text": [
        " 1033 \tdomain: 5 \titeration: 33 \tstep: 24027 \tback\n",
        "curve:"
       ]
      },
      {
       "output_type": "stream",
       "stream": "stdout",
       "text": [
        " 1034 \tdomain: 5 \titeration: 34 \tstep: 24026 \tback\n",
        "curve:"
       ]
      },
      {
       "output_type": "stream",
       "stream": "stdout",
       "text": [
        " 1035 \tdomain: 5 \titeration: 35 \tstep: 24025 \tback\n",
        "curve:"
       ]
      },
      {
       "output_type": "stream",
       "stream": "stdout",
       "text": [
        " 1036 \tdomain: 5 \titeration: 36 \tstep: 24024 \tback\n",
        "curve:"
       ]
      },
      {
       "output_type": "stream",
       "stream": "stdout",
       "text": [
        " 1037 \tdomain: 5 \titeration: 37 \tstep: 24023 \tback\n",
        "curve:"
       ]
      },
      {
       "output_type": "stream",
       "stream": "stdout",
       "text": [
        " 1038 \tdomain: 5 \titeration: 38 \tstep: 24022 \tback\n",
        "curve:"
       ]
      },
      {
       "output_type": "stream",
       "stream": "stdout",
       "text": [
        " 1039 \tdomain: 5 \titeration: 39 \tstep: 24021 \tback\n",
        "curve:"
       ]
      },
      {
       "output_type": "stream",
       "stream": "stdout",
       "text": [
        " 1040 \tdomain: 5 \titeration: 40 \tstep: 24020 \tback\n",
        "curve:"
       ]
      },
      {
       "output_type": "stream",
       "stream": "stdout",
       "text": [
        " 1041 \tdomain: 5 \titeration: 41 \tstep: 24019 \tback\n",
        "curve:"
       ]
      },
      {
       "output_type": "stream",
       "stream": "stdout",
       "text": [
        " 1042 \tdomain: 5 \titeration: 42 \tstep: 24018 \tback\n",
        "curve:"
       ]
      },
      {
       "output_type": "stream",
       "stream": "stdout",
       "text": [
        " 1043 \tdomain: 5 \titeration: 43 \tstep: 24017 \tback\n",
        "curve:"
       ]
      },
      {
       "output_type": "stream",
       "stream": "stdout",
       "text": [
        " 1044 \tdomain: 5 \titeration: 44 \tstep: 24016 \tback\n",
        "curve:"
       ]
      },
      {
       "output_type": "stream",
       "stream": "stdout",
       "text": [
        " 1045 \tdomain: 5 \titeration: 45 \tstep: 24015 \tback\n",
        "curve:"
       ]
      },
      {
       "output_type": "stream",
       "stream": "stdout",
       "text": [
        " 1046 \tdomain: 5 \titeration: 46 \tstep: 24014 \tback\n",
        "curve:"
       ]
      },
      {
       "output_type": "stream",
       "stream": "stdout",
       "text": [
        " 1047 \tdomain: 5 \titeration: 47 \tstep: 24013 \tback\n",
        "curve:"
       ]
      },
      {
       "output_type": "stream",
       "stream": "stdout",
       "text": [
        " 1048 \tdomain: 5 \titeration: 48 \tstep: 24012 \tback\n",
        "curve:"
       ]
      },
      {
       "output_type": "stream",
       "stream": "stdout",
       "text": [
        " 1049 \tdomain: 5 \titeration: 49 \tstep: 24011 \tback\n",
        "curve:"
       ]
      },
      {
       "output_type": "stream",
       "stream": "stdout",
       "text": [
        " 1050 \tdomain: 5 \titeration: 50 \tstep: 24010 \tback\n",
        "curve:"
       ]
      },
      {
       "output_type": "stream",
       "stream": "stdout",
       "text": [
        " 1051 \tdomain: 5 \titeration: 51 \tstep: 24009 \tback\n",
        "curve:"
       ]
      },
      {
       "output_type": "stream",
       "stream": "stdout",
       "text": [
        " 1052 \tdomain: 5 \titeration: 52 \tstep: 24008 \tback\n",
        "curve:"
       ]
      },
      {
       "output_type": "stream",
       "stream": "stdout",
       "text": [
        " 1053 \tdomain: 5 \titeration: 53 \tstep: 24007 \tback\n",
        "curve:"
       ]
      },
      {
       "output_type": "stream",
       "stream": "stdout",
       "text": [
        " 1054 \tdomain: 5 \titeration: 54 \tstep: 24006 \tback\n",
        "curve:"
       ]
      },
      {
       "output_type": "stream",
       "stream": "stdout",
       "text": [
        " 1055 \tdomain: 5 \titeration: 55 \tstep: 24005 \tback\n",
        "curve:"
       ]
      },
      {
       "output_type": "stream",
       "stream": "stdout",
       "text": [
        " 1056 \tdomain: 5 \titeration: 56 \tstep: 24004 \tback\n",
        "curve:"
       ]
      },
      {
       "output_type": "stream",
       "stream": "stdout",
       "text": [
        " 1057 \tdomain: 5 \titeration: 57 \tstep: 24003 \tback\n",
        "curve:"
       ]
      },
      {
       "output_type": "stream",
       "stream": "stdout",
       "text": [
        " 1058 \tdomain: 5 \titeration: 58 \tstep: 24002 \tback\n",
        "curve:"
       ]
      },
      {
       "output_type": "stream",
       "stream": "stdout",
       "text": [
        " 1059 \tdomain: 5 \titeration: 59 \tstep: 24001 \tback\n",
        "curve:"
       ]
      },
      {
       "output_type": "stream",
       "stream": "stdout",
       "text": [
        " 1060 \tdomain: 5 \titeration: 60 \tstep: 24000 \tback\n",
        "curve:"
       ]
      },
      {
       "output_type": "stream",
       "stream": "stdout",
       "text": [
        " 1061 \tdomain: 5 \titeration: 61 \tstep: 23999 \tback\n",
        "curve:"
       ]
      },
      {
       "output_type": "stream",
       "stream": "stdout",
       "text": [
        " 1062 \tdomain: 5 \titeration: 62 \tstep: 23998 \tback\n",
        "curve:"
       ]
      },
      {
       "output_type": "stream",
       "stream": "stdout",
       "text": [
        " 1063 \tdomain: 5 \titeration: 63 \tstep: 23997 \tback\n",
        "curve:"
       ]
      },
      {
       "output_type": "stream",
       "stream": "stdout",
       "text": [
        " 1064 \tdomain: 5 \titeration: 64 \tstep: 23996 \tback\n",
        "curve:"
       ]
      },
      {
       "output_type": "stream",
       "stream": "stdout",
       "text": [
        " 1065 \tdomain: 5 \titeration: 65 \tstep: 23995 \tback\n",
        "curve:"
       ]
      },
      {
       "output_type": "stream",
       "stream": "stdout",
       "text": [
        " 1066 \tdomain: 5 \titeration: 66 \tstep: 23994 \tback\n",
        "curve:"
       ]
      },
      {
       "output_type": "stream",
       "stream": "stdout",
       "text": [
        " 1067 \tdomain: 5 \titeration: 67 \tstep: 23993 \tback\n",
        "curve:"
       ]
      },
      {
       "output_type": "stream",
       "stream": "stdout",
       "text": [
        " 1068 \tdomain: 5 \titeration: 68 \tstep: 23992 \tback\n",
        "curve:"
       ]
      },
      {
       "output_type": "stream",
       "stream": "stdout",
       "text": [
        " 1069 \tdomain: 5 \titeration: 69 \tstep: 23991 \tback\n",
        "curve:"
       ]
      },
      {
       "output_type": "stream",
       "stream": "stdout",
       "text": [
        " 1070 \tdomain: 5 \titeration: 70 \tstep: 23990 \tback\n",
        "curve:"
       ]
      },
      {
       "output_type": "stream",
       "stream": "stdout",
       "text": [
        " 1071 \tdomain: 5 \titeration: 71 \tstep: 23989 \tback\n",
        "curve:"
       ]
      },
      {
       "output_type": "stream",
       "stream": "stdout",
       "text": [
        " 1072 \tdomain: 5 \titeration: 72 \tstep: 23988 \tback\n",
        "curve:"
       ]
      },
      {
       "output_type": "stream",
       "stream": "stdout",
       "text": [
        " 1073 \tdomain: 5 \titeration: 73 \tstep: 23987 \tback\n",
        "curve:"
       ]
      },
      {
       "output_type": "stream",
       "stream": "stdout",
       "text": [
        " 1074 \tdomain: 5 \titeration: 74 \tstep: 23986 \tback\n",
        "curve:"
       ]
      },
      {
       "output_type": "stream",
       "stream": "stdout",
       "text": [
        " 1075 \tdomain: 5 \titeration: 75 \tstep: 23985 \tback\n",
        "curve:"
       ]
      },
      {
       "output_type": "stream",
       "stream": "stdout",
       "text": [
        " 1076 \tdomain: 5 \titeration: 76 \tstep: 23984 \tback\n",
        "curve:"
       ]
      },
      {
       "output_type": "stream",
       "stream": "stdout",
       "text": [
        " 1077 \tdomain: 5 \titeration: 77 \tstep: 23983 \tback\n",
        "curve:"
       ]
      },
      {
       "output_type": "stream",
       "stream": "stdout",
       "text": [
        " 1078 \tdomain: 5 \titeration: 78 \tstep: 23982 \tback\n",
        "curve:"
       ]
      },
      {
       "output_type": "stream",
       "stream": "stdout",
       "text": [
        " 1079 \tdomain: 5 \titeration: 79 \tstep: 23981 \tback\n",
        "curve:"
       ]
      },
      {
       "output_type": "stream",
       "stream": "stdout",
       "text": [
        " 1080 \tdomain: 5 \titeration: 80 \tstep: 23980 \tback\n",
        "curve:"
       ]
      },
      {
       "output_type": "stream",
       "stream": "stdout",
       "text": [
        " 1081 \tdomain: 5 \titeration: 81 \tstep: 23979 \tback\n",
        "curve:"
       ]
      },
      {
       "output_type": "stream",
       "stream": "stdout",
       "text": [
        " 1082 \tdomain: 5 \titeration: 82 \tstep: 23978 \tback\n",
        "curve:"
       ]
      },
      {
       "output_type": "stream",
       "stream": "stdout",
       "text": [
        " 1083 \tdomain: 5 \titeration: 83 \tstep: 23977 \tback\n",
        "curve:"
       ]
      },
      {
       "output_type": "stream",
       "stream": "stdout",
       "text": [
        " 1084 \tdomain: 5 \titeration: 84 \tstep: 23976 \tback\n",
        "curve:"
       ]
      },
      {
       "output_type": "stream",
       "stream": "stdout",
       "text": [
        " 1085 \tdomain: 5 \titeration: 85 \tstep: 23975 \tback\n",
        "curve:"
       ]
      },
      {
       "output_type": "stream",
       "stream": "stdout",
       "text": [
        " 1086 \tdomain: 5 \titeration: 86 \tstep: 23974 \tback\n",
        "curve:"
       ]
      },
      {
       "output_type": "stream",
       "stream": "stdout",
       "text": [
        " 1087 \tdomain: 5 \titeration: 87 \tstep: 23973 \tback\n",
        "curve:"
       ]
      },
      {
       "output_type": "stream",
       "stream": "stdout",
       "text": [
        " 1088 \tdomain: 5 \titeration: 88 \tstep: 23972 \tback\n",
        "curve:"
       ]
      },
      {
       "output_type": "stream",
       "stream": "stdout",
       "text": [
        " 1089 \tdomain: 5 \titeration: 89 \tstep: 23971 \tback\n",
        "curve:"
       ]
      },
      {
       "output_type": "stream",
       "stream": "stdout",
       "text": [
        " 1090 \tdomain: 5 \titeration: 90 \tstep: 23970 \tback\n",
        "curve:"
       ]
      },
      {
       "output_type": "stream",
       "stream": "stdout",
       "text": [
        " 1091 \tdomain: 5 \titeration: 91 \tstep: 23969 \tback\n",
        "curve:"
       ]
      },
      {
       "output_type": "stream",
       "stream": "stdout",
       "text": [
        " 1092 \tdomain: 5 \titeration: 92 \tstep: 23968 \tback\n",
        "curve:"
       ]
      },
      {
       "output_type": "stream",
       "stream": "stdout",
       "text": [
        " 1093 \tdomain: 5 \titeration: 93 \tstep: 23967 \tback\n",
        "curve:"
       ]
      },
      {
       "output_type": "stream",
       "stream": "stdout",
       "text": [
        " 1094 \tdomain: 5 \titeration: 94 \tstep: 23966 \tback\n",
        "curve:"
       ]
      },
      {
       "output_type": "stream",
       "stream": "stdout",
       "text": [
        " 1095 \tdomain: 5 \titeration: 95 \tstep: 23965 \tback\n",
        "curve:"
       ]
      },
      {
       "output_type": "stream",
       "stream": "stdout",
       "text": [
        " 1096 \tdomain: 5 \titeration: 96 \tstep: 23964 \tback\n",
        "curve:"
       ]
      },
      {
       "output_type": "stream",
       "stream": "stdout",
       "text": [
        " 1097 \tdomain: 5 \titeration: 97 \tstep: 23963 \tback\n",
        "curve:"
       ]
      },
      {
       "output_type": "stream",
       "stream": "stdout",
       "text": [
        " 1098 \tdomain: 5 \titeration: 98 \tstep: 23962 \tback\n",
        "curve:"
       ]
      },
      {
       "output_type": "stream",
       "stream": "stdout",
       "text": [
        " 1099 \tdomain: 5 \titeration: 99 \tstep: 23961 \tback\n",
        "curve:"
       ]
      },
      {
       "output_type": "stream",
       "stream": "stdout",
       "text": [
        " 1100 \tdomain: 5 \titeration: 0 \tstep: 23961 \tforth\n",
        "curve:"
       ]
      },
      {
       "output_type": "stream",
       "stream": "stdout",
       "text": [
        " 1101 \tdomain: 5 \titeration: 1 \tstep: 23962 \tforth\n",
        "curve:"
       ]
      },
      {
       "output_type": "stream",
       "stream": "stdout",
       "text": [
        " 1102 \tdomain: 5 \titeration: 2 \tstep: 23963 \tforth\n",
        "curve:"
       ]
      },
      {
       "output_type": "stream",
       "stream": "stdout",
       "text": [
        " 1103 \tdomain: 5 \titeration: 3 \tstep: 23964 \tforth\n",
        "curve:"
       ]
      },
      {
       "output_type": "stream",
       "stream": "stdout",
       "text": [
        " 1104 \tdomain: 5 \titeration: 4 \tstep: 23965 \tforth\n",
        "curve:"
       ]
      },
      {
       "output_type": "stream",
       "stream": "stdout",
       "text": [
        " 1105 \tdomain: 5 \titeration: 5 \tstep: 23966 \tforth\n",
        "curve:"
       ]
      },
      {
       "output_type": "stream",
       "stream": "stdout",
       "text": [
        " 1106 \tdomain: 5 \titeration: 6 \tstep: 23967 \tforth\n",
        "curve:"
       ]
      },
      {
       "output_type": "stream",
       "stream": "stdout",
       "text": [
        " 1107 \tdomain: 5 \titeration: 7 \tstep: 23968 \tforth\n",
        "curve:"
       ]
      },
      {
       "output_type": "stream",
       "stream": "stdout",
       "text": [
        " 1108 \tdomain: 5 \titeration: 8 \tstep: 23969 \tforth\n",
        "curve:"
       ]
      },
      {
       "output_type": "stream",
       "stream": "stdout",
       "text": [
        " 1109 \tdomain: 5 \titeration: 9 \tstep: 23970 \tforth\n",
        "curve:"
       ]
      },
      {
       "output_type": "stream",
       "stream": "stdout",
       "text": [
        " 1110 \tdomain: 5 \titeration: 10 \tstep: 23971 \tforth\n",
        "curve:"
       ]
      },
      {
       "output_type": "stream",
       "stream": "stdout",
       "text": [
        " 1111 \tdomain: 5 \titeration: 11 \tstep: 23972 \tforth\n",
        "curve:"
       ]
      },
      {
       "output_type": "stream",
       "stream": "stdout",
       "text": [
        " 1112 \tdomain: 5 \titeration: 12 \tstep: 23973 \tforth\n",
        "curve:"
       ]
      },
      {
       "output_type": "stream",
       "stream": "stdout",
       "text": [
        " 1113 \tdomain: 5 \titeration: 13 \tstep: 23974 \tforth\n",
        "curve:"
       ]
      },
      {
       "output_type": "stream",
       "stream": "stdout",
       "text": [
        " 1114 \tdomain: 5 \titeration: 14 \tstep: 23975 \tforth\n",
        "curve:"
       ]
      },
      {
       "output_type": "stream",
       "stream": "stdout",
       "text": [
        " 1115 \tdomain: 5 \titeration: 15 \tstep: 23976 \tforth\n",
        "curve:"
       ]
      },
      {
       "output_type": "stream",
       "stream": "stdout",
       "text": [
        " 1116 \tdomain: 5 \titeration: 16 \tstep: 23977 \tforth\n",
        "curve:"
       ]
      },
      {
       "output_type": "stream",
       "stream": "stdout",
       "text": [
        " 1117 \tdomain: 5 \titeration: 17 \tstep: 23978 \tforth\n",
        "curve:"
       ]
      },
      {
       "output_type": "stream",
       "stream": "stdout",
       "text": [
        " 1118 \tdomain: 5 \titeration: 18 \tstep: 23979 \tforth\n",
        "curve:"
       ]
      },
      {
       "output_type": "stream",
       "stream": "stdout",
       "text": [
        " 1119 \tdomain: 5 \titeration: 19 \tstep: 23980 \tforth\n",
        "curve:"
       ]
      },
      {
       "output_type": "stream",
       "stream": "stdout",
       "text": [
        " 1120 \tdomain: 5 \titeration: 20 \tstep: 23981 \tforth\n",
        "curve:"
       ]
      },
      {
       "output_type": "stream",
       "stream": "stdout",
       "text": [
        " 1121 \tdomain: 5 \titeration: 21 \tstep: 23982 \tforth\n",
        "curve:"
       ]
      },
      {
       "output_type": "stream",
       "stream": "stdout",
       "text": [
        " 1122 \tdomain: 5 \titeration: 22 \tstep: 23983 \tforth\n",
        "curve:"
       ]
      },
      {
       "output_type": "stream",
       "stream": "stdout",
       "text": [
        " 1123 \tdomain: 5 \titeration: 23 \tstep: 23984 \tforth\n",
        "curve:"
       ]
      },
      {
       "output_type": "stream",
       "stream": "stdout",
       "text": [
        " 1124 \tdomain: 5 \titeration: 24 \tstep: 23985 \tforth\n",
        "curve:"
       ]
      },
      {
       "output_type": "stream",
       "stream": "stdout",
       "text": [
        " 1125 \tdomain: 5 \titeration: 25 \tstep: 23986 \tforth\n",
        "curve:"
       ]
      },
      {
       "output_type": "stream",
       "stream": "stdout",
       "text": [
        " 1126 \tdomain: 5 \titeration: 26 \tstep: 23987 \tforth\n",
        "curve:"
       ]
      },
      {
       "output_type": "stream",
       "stream": "stdout",
       "text": [
        " 1127 \tdomain: 5 \titeration: 27 \tstep: 23988 \tforth\n",
        "curve:"
       ]
      },
      {
       "output_type": "stream",
       "stream": "stdout",
       "text": [
        " 1128 \tdomain: 5 \titeration: 28 \tstep: 23989 \tforth\n",
        "curve:"
       ]
      },
      {
       "output_type": "stream",
       "stream": "stdout",
       "text": [
        " 1129 \tdomain: 5 \titeration: 29 \tstep: 23990 \tforth\n",
        "curve:"
       ]
      },
      {
       "output_type": "stream",
       "stream": "stdout",
       "text": [
        " 1130 \tdomain: 5 \titeration: 30 \tstep: 23991 \tforth\n",
        "curve:"
       ]
      },
      {
       "output_type": "stream",
       "stream": "stdout",
       "text": [
        " 1131 \tdomain: 5 \titeration: 31 \tstep: 23992 \tforth\n",
        "curve:"
       ]
      },
      {
       "output_type": "stream",
       "stream": "stdout",
       "text": [
        " 1132 \tdomain: 5 \titeration: 32 \tstep: 23993 \tforth\n",
        "curve:"
       ]
      },
      {
       "output_type": "stream",
       "stream": "stdout",
       "text": [
        " 1133 \tdomain: 5 \titeration: 33 \tstep: 23994 \tforth\n",
        "curve:"
       ]
      },
      {
       "output_type": "stream",
       "stream": "stdout",
       "text": [
        " 1134 \tdomain: 5 \titeration: 34 \tstep: 23995 \tforth\n",
        "curve:"
       ]
      },
      {
       "output_type": "stream",
       "stream": "stdout",
       "text": [
        " 1135 \tdomain: 5 \titeration: 35 \tstep: 23996 \tforth\n",
        "curve:"
       ]
      },
      {
       "output_type": "stream",
       "stream": "stdout",
       "text": [
        " 1136 \tdomain: 5 \titeration: 36 \tstep: 23997 \tforth\n",
        "curve:"
       ]
      },
      {
       "output_type": "stream",
       "stream": "stdout",
       "text": [
        " 1137 \tdomain: 5 \titeration: 37 \tstep: 23998 \tforth\n",
        "curve:"
       ]
      },
      {
       "output_type": "stream",
       "stream": "stdout",
       "text": [
        " 1138 \tdomain: 5 \titeration: 38 \tstep: 23999 \tforth\n",
        "curve:"
       ]
      },
      {
       "output_type": "stream",
       "stream": "stdout",
       "text": [
        " 1139 \tdomain: 5 \titeration: 39 \tstep: 24000 \tforth\n",
        "curve:"
       ]
      },
      {
       "output_type": "stream",
       "stream": "stdout",
       "text": [
        " 1140 \tdomain: 5 \titeration: 40 \tstep: 24001 \tforth\n",
        "curve:"
       ]
      },
      {
       "output_type": "stream",
       "stream": "stdout",
       "text": [
        " 1141 \tdomain: 5 \titeration: 41 \tstep: 24002 \tforth\n",
        "curve:"
       ]
      },
      {
       "output_type": "stream",
       "stream": "stdout",
       "text": [
        " 1142 \tdomain: 5 \titeration: 42 \tstep: 24003 \tforth\n",
        "curve:"
       ]
      },
      {
       "output_type": "stream",
       "stream": "stdout",
       "text": [
        " 1143 \tdomain: 5 \titeration: 43 \tstep: 24004 \tforth\n",
        "curve:"
       ]
      },
      {
       "output_type": "stream",
       "stream": "stdout",
       "text": [
        " 1144 \tdomain: 5 \titeration: 44 \tstep: 24005 \tforth\n",
        "curve:"
       ]
      },
      {
       "output_type": "stream",
       "stream": "stdout",
       "text": [
        " 1145 \tdomain: 5 \titeration: 45 \tstep: 24006 \tforth\n",
        "curve:"
       ]
      },
      {
       "output_type": "stream",
       "stream": "stdout",
       "text": [
        " 1146 \tdomain: 5 \titeration: 46 \tstep: 24007 \tforth\n",
        "curve:"
       ]
      },
      {
       "output_type": "stream",
       "stream": "stdout",
       "text": [
        " 1147 \tdomain: 5 \titeration: 47 \tstep: 24008 \tforth\n",
        "curve:"
       ]
      },
      {
       "output_type": "stream",
       "stream": "stdout",
       "text": [
        " 1148 \tdomain: 5 \titeration: 48 \tstep: 24009 \tforth\n",
        "curve:"
       ]
      },
      {
       "output_type": "stream",
       "stream": "stdout",
       "text": [
        " 1149 \tdomain: 5 \titeration: 49 \tstep: 24010 \tforth\n",
        "curve:"
       ]
      },
      {
       "output_type": "stream",
       "stream": "stdout",
       "text": [
        " 1150 \tdomain: 5 \titeration: 50 \tstep: 24011 \tforth\n",
        "curve:"
       ]
      },
      {
       "output_type": "stream",
       "stream": "stdout",
       "text": [
        " 1151 \tdomain: 5 \titeration: 51 \tstep: 24012 \tforth\n",
        "curve:"
       ]
      },
      {
       "output_type": "stream",
       "stream": "stdout",
       "text": [
        " 1152 \tdomain: 5 \titeration: 52 \tstep: 24013 \tforth\n",
        "curve:"
       ]
      },
      {
       "output_type": "stream",
       "stream": "stdout",
       "text": [
        " 1153 \tdomain: 5 \titeration: 53 \tstep: 24014 \tforth\n",
        "curve:"
       ]
      },
      {
       "output_type": "stream",
       "stream": "stdout",
       "text": [
        " 1154 \tdomain: 5 \titeration: 54 \tstep: 24015 \tforth\n",
        "curve:"
       ]
      },
      {
       "output_type": "stream",
       "stream": "stdout",
       "text": [
        " 1155 \tdomain: 5 \titeration: 55 \tstep: 24016 \tforth\n",
        "curve:"
       ]
      },
      {
       "output_type": "stream",
       "stream": "stdout",
       "text": [
        " 1156 \tdomain: 5 \titeration: 56 \tstep: 24017 \tforth\n",
        "curve:"
       ]
      },
      {
       "output_type": "stream",
       "stream": "stdout",
       "text": [
        " 1157 \tdomain: 5 \titeration: 57 \tstep: 24018 \tforth\n",
        "curve:"
       ]
      },
      {
       "output_type": "stream",
       "stream": "stdout",
       "text": [
        " 1158 \tdomain: 5 \titeration: 58 \tstep: 24019 \tforth\n",
        "curve:"
       ]
      },
      {
       "output_type": "stream",
       "stream": "stdout",
       "text": [
        " 1159 \tdomain: 5 \titeration: 59 \tstep: 24020 \tforth\n",
        "curve:"
       ]
      },
      {
       "output_type": "stream",
       "stream": "stdout",
       "text": [
        " 1160 \tdomain: 5 \titeration: 60 \tstep: 24021 \tforth\n",
        "curve:"
       ]
      },
      {
       "output_type": "stream",
       "stream": "stdout",
       "text": [
        " 1161 \tdomain: 5 \titeration: 61 \tstep: 24022 \tforth\n",
        "curve:"
       ]
      },
      {
       "output_type": "stream",
       "stream": "stdout",
       "text": [
        " 1162 \tdomain: 5 \titeration: 62 \tstep: 24023 \tforth\n",
        "curve:"
       ]
      },
      {
       "output_type": "stream",
       "stream": "stdout",
       "text": [
        " 1163 \tdomain: 5 \titeration: 63 \tstep: 24024 \tforth\n",
        "curve:"
       ]
      },
      {
       "output_type": "stream",
       "stream": "stdout",
       "text": [
        " 1164 \tdomain: 5 \titeration: 64 \tstep: 24025 \tforth\n",
        "curve:"
       ]
      },
      {
       "output_type": "stream",
       "stream": "stdout",
       "text": [
        " 1165 \tdomain: 5 \titeration: 65 \tstep: 24026 \tforth\n",
        "curve:"
       ]
      },
      {
       "output_type": "stream",
       "stream": "stdout",
       "text": [
        " 1166 \tdomain: 5 \titeration: 66 \tstep: 24027 \tforth\n",
        "curve:"
       ]
      },
      {
       "output_type": "stream",
       "stream": "stdout",
       "text": [
        " 1167 \tdomain: 5 \titeration: 67 \tstep: 24028 \tforth\n",
        "curve:"
       ]
      },
      {
       "output_type": "stream",
       "stream": "stdout",
       "text": [
        " 1168 \tdomain: 5 \titeration: 68 \tstep: 24029 \tforth\n",
        "curve:"
       ]
      },
      {
       "output_type": "stream",
       "stream": "stdout",
       "text": [
        " 1169 \tdomain: 5 \titeration: 69 \tstep: 24030 \tforth\n",
        "curve:"
       ]
      },
      {
       "output_type": "stream",
       "stream": "stdout",
       "text": [
        " 1170 \tdomain: 5 \titeration: 70 \tstep: 24031 \tforth\n",
        "curve:"
       ]
      },
      {
       "output_type": "stream",
       "stream": "stdout",
       "text": [
        " 1171 \tdomain: 5 \titeration: 71 \tstep: 24032 \tforth\n",
        "curve:"
       ]
      },
      {
       "output_type": "stream",
       "stream": "stdout",
       "text": [
        " 1172 \tdomain: 5 \titeration: 72 \tstep: 24033 \tforth\n",
        "curve:"
       ]
      },
      {
       "output_type": "stream",
       "stream": "stdout",
       "text": [
        " 1173 \tdomain: 5 \titeration: 73 \tstep: 24034 \tforth\n",
        "curve:"
       ]
      },
      {
       "output_type": "stream",
       "stream": "stdout",
       "text": [
        " 1174 \tdomain: 5 \titeration: 74 \tstep: 24035 \tforth\n",
        "curve:"
       ]
      },
      {
       "output_type": "stream",
       "stream": "stdout",
       "text": [
        " 1175 \tdomain: 5 \titeration: 75 \tstep: 24036 \tforth\n",
        "curve:"
       ]
      },
      {
       "output_type": "stream",
       "stream": "stdout",
       "text": [
        " 1176 \tdomain: 5 \titeration: 76 \tstep: 24037 \tforth\n",
        "curve:"
       ]
      },
      {
       "output_type": "stream",
       "stream": "stdout",
       "text": [
        " 1177 \tdomain: 5 \titeration: 77 \tstep: 24038 \tforth\n",
        "curve:"
       ]
      },
      {
       "output_type": "stream",
       "stream": "stdout",
       "text": [
        " 1178 \tdomain: 5 \titeration: 78 \tstep: 24039 \tforth\n",
        "curve:"
       ]
      },
      {
       "output_type": "stream",
       "stream": "stdout",
       "text": [
        " 1179 \tdomain: 5 \titeration: 79 \tstep: 24040 \tforth\n",
        "curve:"
       ]
      },
      {
       "output_type": "stream",
       "stream": "stdout",
       "text": [
        " 1180 \tdomain: 5 \titeration: 80 \tstep: 24041 \tforth\n",
        "curve:"
       ]
      },
      {
       "output_type": "stream",
       "stream": "stdout",
       "text": [
        " 1181 \tdomain: 5 \titeration: 81 \tstep: 24042 \tforth\n",
        "curve:"
       ]
      },
      {
       "output_type": "stream",
       "stream": "stdout",
       "text": [
        " 1182 \tdomain: 5 \titeration: 82 \tstep: 24043 \tforth\n",
        "curve:"
       ]
      },
      {
       "output_type": "stream",
       "stream": "stdout",
       "text": [
        " 1183 \tdomain: 5 \titeration: 83 \tstep: 24044 \tforth\n",
        "curve:"
       ]
      },
      {
       "output_type": "stream",
       "stream": "stdout",
       "text": [
        " 1184 \tdomain: 5 \titeration: 84 \tstep: 24045 \tforth\n",
        "curve:"
       ]
      },
      {
       "output_type": "stream",
       "stream": "stdout",
       "text": [
        " 1185 \tdomain: 5 \titeration: 85 \tstep: 24046 \tforth\n",
        "curve:"
       ]
      },
      {
       "output_type": "stream",
       "stream": "stdout",
       "text": [
        " 1186 \tdomain: 5 \titeration: 86 \tstep: 24047 \tforth\n",
        "curve:"
       ]
      },
      {
       "output_type": "stream",
       "stream": "stdout",
       "text": [
        " 1187 \tdomain: 5 \titeration: 87 \tstep: 24048 \tforth\n",
        "curve:"
       ]
      },
      {
       "output_type": "stream",
       "stream": "stdout",
       "text": [
        " 1188 \tdomain: 5 \titeration: 88 \tstep: 24049 \tforth\n",
        "curve:"
       ]
      },
      {
       "output_type": "stream",
       "stream": "stdout",
       "text": [
        " 1189 \tdomain: 5 \titeration: 89 \tstep: 24050 \tforth\n",
        "curve:"
       ]
      },
      {
       "output_type": "stream",
       "stream": "stdout",
       "text": [
        " 1190 \tdomain: 5 \titeration: 90 \tstep: 24051 \tforth\n",
        "curve:"
       ]
      },
      {
       "output_type": "stream",
       "stream": "stdout",
       "text": [
        " 1191 \tdomain: 5 \titeration: 91 \tstep: 24052 \tforth\n",
        "curve:"
       ]
      },
      {
       "output_type": "stream",
       "stream": "stdout",
       "text": [
        " 1192 \tdomain: 5 \titeration: 92 \tstep: 24053 \tforth\n",
        "curve:"
       ]
      },
      {
       "output_type": "stream",
       "stream": "stdout",
       "text": [
        " 1193 \tdomain: 5 \titeration: 93 \tstep: 24054 \tforth\n",
        "curve:"
       ]
      },
      {
       "output_type": "stream",
       "stream": "stdout",
       "text": [
        " 1194 \tdomain: 5 \titeration: 94 \tstep: 24055 \tforth\n",
        "curve:"
       ]
      },
      {
       "output_type": "stream",
       "stream": "stdout",
       "text": [
        " 1195 \tdomain: 5 \titeration: 95 \tstep: 24056 \tforth\n",
        "curve:"
       ]
      },
      {
       "output_type": "stream",
       "stream": "stdout",
       "text": [
        " 1196 \tdomain: 5 \titeration: 96 \tstep: 24057 \tforth\n",
        "curve:"
       ]
      },
      {
       "output_type": "stream",
       "stream": "stdout",
       "text": [
        " 1197 \tdomain: 5 \titeration: 97 \tstep: 24058 \tforth\n",
        "curve:"
       ]
      },
      {
       "output_type": "stream",
       "stream": "stdout",
       "text": [
        " 1198 \tdomain: 5 \titeration: 98 \tstep: 24059 \tforth\n",
        "curve:"
       ]
      },
      {
       "output_type": "stream",
       "stream": "stdout",
       "text": [
        " 1199 \tdomain: 5 \titeration: 99 \tstep: 24060 \tforth\n",
        "curve:"
       ]
      },
      {
       "output_type": "stream",
       "stream": "stdout",
       "text": [
        " 1200 \tdomain: 6 \titeration: 0 \tstep: 23960 \tback\n",
        "curve:"
       ]
      },
      {
       "output_type": "stream",
       "stream": "stdout",
       "text": [
        " 1201 \tdomain: 6 \titeration: 1 \tstep: 23959 \tback\n",
        "curve:"
       ]
      },
      {
       "output_type": "stream",
       "stream": "stdout",
       "text": [
        " 1202 \tdomain: 6 \titeration: 2 \tstep: 23958 \tback\n",
        "curve:"
       ]
      },
      {
       "output_type": "stream",
       "stream": "stdout",
       "text": [
        " 1203 \tdomain: 6 \titeration: 3 \tstep: 23957 \tback\n",
        "curve:"
       ]
      },
      {
       "output_type": "stream",
       "stream": "stdout",
       "text": [
        " 1204 \tdomain: 6 \titeration: 4 \tstep: 23956 \tback\n",
        "curve:"
       ]
      },
      {
       "output_type": "stream",
       "stream": "stdout",
       "text": [
        " 1205 \tdomain: 6 \titeration: 5 \tstep: 23955 \tback\n",
        "curve:"
       ]
      },
      {
       "output_type": "stream",
       "stream": "stdout",
       "text": [
        " 1206 \tdomain: 6 \titeration: 6 \tstep: 23954 \tback\n",
        "curve:"
       ]
      },
      {
       "output_type": "stream",
       "stream": "stdout",
       "text": [
        " 1207 \tdomain: 6 \titeration: 7 \tstep: 23953 \tback\n",
        "curve:"
       ]
      },
      {
       "output_type": "stream",
       "stream": "stdout",
       "text": [
        " 1208 \tdomain: 6 \titeration: 8 \tstep: 23952 \tback\n",
        "curve:"
       ]
      },
      {
       "output_type": "stream",
       "stream": "stdout",
       "text": [
        " 1209 \tdomain: 6 \titeration: 9 \tstep: 23951 \tback\n",
        "curve:"
       ]
      },
      {
       "output_type": "stream",
       "stream": "stdout",
       "text": [
        " 1210 \tdomain: 6 \titeration: 10 \tstep: 23950 \tback\n",
        "curve:"
       ]
      },
      {
       "output_type": "stream",
       "stream": "stdout",
       "text": [
        " 1211 \tdomain: 6 \titeration: 11 \tstep: 23949 \tback\n",
        "curve:"
       ]
      },
      {
       "output_type": "stream",
       "stream": "stdout",
       "text": [
        " 1212 \tdomain: 6 \titeration: 12 \tstep: 23948 \tback\n",
        "curve:"
       ]
      },
      {
       "output_type": "stream",
       "stream": "stdout",
       "text": [
        " 1213 \tdomain: 6 \titeration: 13 \tstep: 23947 \tback\n",
        "curve:"
       ]
      },
      {
       "output_type": "stream",
       "stream": "stdout",
       "text": [
        " 1214 \tdomain: 6 \titeration: 14 \tstep: 23946 \tback\n",
        "curve:"
       ]
      },
      {
       "output_type": "stream",
       "stream": "stdout",
       "text": [
        " 1215 \tdomain: 6 \titeration: 15 \tstep: 23945 \tback\n",
        "curve:"
       ]
      },
      {
       "output_type": "stream",
       "stream": "stdout",
       "text": [
        " 1216 \tdomain: 6 \titeration: 16 \tstep: 23944 \tback\n",
        "curve:"
       ]
      },
      {
       "output_type": "stream",
       "stream": "stdout",
       "text": [
        " 1217 \tdomain: 6 \titeration: 17 \tstep: 23943 \tback\n",
        "curve:"
       ]
      },
      {
       "output_type": "stream",
       "stream": "stdout",
       "text": [
        " 1218 \tdomain: 6 \titeration: 18 \tstep: 23942 \tback\n",
        "curve:"
       ]
      },
      {
       "output_type": "stream",
       "stream": "stdout",
       "text": [
        " 1219 \tdomain: 6 \titeration: 19 \tstep: 23941 \tback\n",
        "curve:"
       ]
      },
      {
       "output_type": "stream",
       "stream": "stdout",
       "text": [
        " 1220 \tdomain: 6 \titeration: 20 \tstep: 23940 \tback\n",
        "curve:"
       ]
      },
      {
       "output_type": "stream",
       "stream": "stdout",
       "text": [
        " 1221 \tdomain: 6 \titeration: 21 \tstep: 23939 \tback\n",
        "curve:"
       ]
      },
      {
       "output_type": "stream",
       "stream": "stdout",
       "text": [
        " 1222 \tdomain: 6 \titeration: 22 \tstep: 23938 \tback\n",
        "curve:"
       ]
      },
      {
       "output_type": "stream",
       "stream": "stdout",
       "text": [
        " 1223 \tdomain: 6 \titeration: 23 \tstep: 23937 \tback\n",
        "curve:"
       ]
      },
      {
       "output_type": "stream",
       "stream": "stdout",
       "text": [
        " 1224 \tdomain: 6 \titeration: 24 \tstep: 23936 \tback\n",
        "curve:"
       ]
      },
      {
       "output_type": "stream",
       "stream": "stdout",
       "text": [
        " 1225 \tdomain: 6 \titeration: 25 \tstep: 23935 \tback\n",
        "curve:"
       ]
      },
      {
       "output_type": "stream",
       "stream": "stdout",
       "text": [
        " 1226 \tdomain: 6 \titeration: 26 \tstep: 23934 \tback\n",
        "curve:"
       ]
      },
      {
       "output_type": "stream",
       "stream": "stdout",
       "text": [
        " 1227 \tdomain: 6 \titeration: 27 \tstep: 23933 \tback\n",
        "curve:"
       ]
      },
      {
       "output_type": "stream",
       "stream": "stdout",
       "text": [
        " 1228 \tdomain: 6 \titeration: 28 \tstep: 23932 \tback\n",
        "curve:"
       ]
      },
      {
       "output_type": "stream",
       "stream": "stdout",
       "text": [
        " 1229 \tdomain: 6 \titeration: 29 \tstep: 23931 \tback\n",
        "curve:"
       ]
      },
      {
       "output_type": "stream",
       "stream": "stdout",
       "text": [
        " 1230 \tdomain: 6 \titeration: 30 \tstep: 23930 \tback\n",
        "curve:"
       ]
      },
      {
       "output_type": "stream",
       "stream": "stdout",
       "text": [
        " 1231 \tdomain: 6 \titeration: 31 \tstep: 23929 \tback\n",
        "curve:"
       ]
      },
      {
       "output_type": "stream",
       "stream": "stdout",
       "text": [
        " 1232 \tdomain: 6 \titeration: 32 \tstep: 23928 \tback\n",
        "curve:"
       ]
      },
      {
       "output_type": "stream",
       "stream": "stdout",
       "text": [
        " 1233 \tdomain: 6 \titeration: 33 \tstep: 23927 \tback\n",
        "curve:"
       ]
      },
      {
       "output_type": "stream",
       "stream": "stdout",
       "text": [
        " 1234 \tdomain: 6 \titeration: 34 \tstep: 23926 \tback\n",
        "curve:"
       ]
      },
      {
       "output_type": "stream",
       "stream": "stdout",
       "text": [
        " 1235 \tdomain: 6 \titeration: 35 \tstep: 23925 \tback\n",
        "curve:"
       ]
      },
      {
       "output_type": "stream",
       "stream": "stdout",
       "text": [
        " 1236 \tdomain: 6 \titeration: 36 \tstep: 23924 \tback\n",
        "curve:"
       ]
      },
      {
       "output_type": "stream",
       "stream": "stdout",
       "text": [
        " 1237 \tdomain: 6 \titeration: 37 \tstep: 23923 \tback\n",
        "curve:"
       ]
      },
      {
       "output_type": "stream",
       "stream": "stdout",
       "text": [
        " 1238 \tdomain: 6 \titeration: 38 \tstep: 23922 \tback\n",
        "curve:"
       ]
      },
      {
       "output_type": "stream",
       "stream": "stdout",
       "text": [
        " 1239 \tdomain: 6 \titeration: 39 \tstep: 23921 \tback\n",
        "curve:"
       ]
      },
      {
       "output_type": "stream",
       "stream": "stdout",
       "text": [
        " 1240 \tdomain: 6 \titeration: 40 \tstep: 23920 \tback\n",
        "curve:"
       ]
      },
      {
       "output_type": "stream",
       "stream": "stdout",
       "text": [
        " 1241 \tdomain: 6 \titeration: 41 \tstep: 23919 \tback\n",
        "curve:"
       ]
      },
      {
       "output_type": "stream",
       "stream": "stdout",
       "text": [
        " 1242 \tdomain: 6 \titeration: 42 \tstep: 23918 \tback\n",
        "curve:"
       ]
      },
      {
       "output_type": "stream",
       "stream": "stdout",
       "text": [
        " 1243 \tdomain: 6 \titeration: 43 \tstep: 23917 \tback\n",
        "curve:"
       ]
      },
      {
       "output_type": "stream",
       "stream": "stdout",
       "text": [
        " 1244 \tdomain: 6 \titeration: 44 \tstep: 23916 \tback\n",
        "curve:"
       ]
      },
      {
       "output_type": "stream",
       "stream": "stdout",
       "text": [
        " 1245 \tdomain: 6 \titeration: 45 \tstep: 23915 \tback\n",
        "curve:"
       ]
      },
      {
       "output_type": "stream",
       "stream": "stdout",
       "text": [
        " 1246 \tdomain: 6 \titeration: 46 \tstep: 23914 \tback\n",
        "curve:"
       ]
      },
      {
       "output_type": "stream",
       "stream": "stdout",
       "text": [
        " 1247 \tdomain: 6 \titeration: 47 \tstep: 23913 \tback\n",
        "curve:"
       ]
      },
      {
       "output_type": "stream",
       "stream": "stdout",
       "text": [
        " 1248 \tdomain: 6 \titeration: 48 \tstep: 23912 \tback\n",
        "curve:"
       ]
      },
      {
       "output_type": "stream",
       "stream": "stdout",
       "text": [
        " 1249 \tdomain: 6 \titeration: 49 \tstep: 23911 \tback\n",
        "curve:"
       ]
      },
      {
       "output_type": "stream",
       "stream": "stdout",
       "text": [
        " 1250 \tdomain: 6 \titeration: 50 \tstep: 23910 \tback\n",
        "curve:"
       ]
      },
      {
       "output_type": "stream",
       "stream": "stdout",
       "text": [
        " 1251 \tdomain: 6 \titeration: 51 \tstep: 23909 \tback\n",
        "curve:"
       ]
      },
      {
       "output_type": "stream",
       "stream": "stdout",
       "text": [
        " 1252 \tdomain: 6 \titeration: 52 \tstep: 23908 \tback\n",
        "curve:"
       ]
      },
      {
       "output_type": "stream",
       "stream": "stdout",
       "text": [
        " 1253 \tdomain: 6 \titeration: 53 \tstep: 23907 \tback\n",
        "curve:"
       ]
      },
      {
       "output_type": "stream",
       "stream": "stdout",
       "text": [
        " 1254 \tdomain: 6 \titeration: 54 \tstep: 23906 \tback\n",
        "curve:"
       ]
      },
      {
       "output_type": "stream",
       "stream": "stdout",
       "text": [
        " 1255 \tdomain: 6 \titeration: 55 \tstep: 23905 \tback\n",
        "curve:"
       ]
      },
      {
       "output_type": "stream",
       "stream": "stdout",
       "text": [
        " 1256 \tdomain: 6 \titeration: 56 \tstep: 23904 \tback\n",
        "curve:"
       ]
      },
      {
       "output_type": "stream",
       "stream": "stdout",
       "text": [
        " 1257 \tdomain: 6 \titeration: 57 \tstep: 23903 \tback\n",
        "curve:"
       ]
      },
      {
       "output_type": "stream",
       "stream": "stdout",
       "text": [
        " 1258 \tdomain: 6 \titeration: 58 \tstep: 23902 \tback\n",
        "curve:"
       ]
      },
      {
       "output_type": "stream",
       "stream": "stdout",
       "text": [
        " 1259 \tdomain: 6 \titeration: 59 \tstep: 23901 \tback\n",
        "curve:"
       ]
      },
      {
       "output_type": "stream",
       "stream": "stdout",
       "text": [
        " 1260 \tdomain: 6 \titeration: 60 \tstep: 23900 \tback\n",
        "curve:"
       ]
      },
      {
       "output_type": "stream",
       "stream": "stdout",
       "text": [
        " 1261 \tdomain: 6 \titeration: 61 \tstep: 23899 \tback\n",
        "curve:"
       ]
      },
      {
       "output_type": "stream",
       "stream": "stdout",
       "text": [
        " 1262 \tdomain: 6 \titeration: 62 \tstep: 23898 \tback\n",
        "curve:"
       ]
      },
      {
       "output_type": "stream",
       "stream": "stdout",
       "text": [
        " 1263 \tdomain: 6 \titeration: 63 \tstep: 23897 \tback\n",
        "curve:"
       ]
      },
      {
       "output_type": "stream",
       "stream": "stdout",
       "text": [
        " 1264 \tdomain: 6 \titeration: 64 \tstep: 23896 \tback\n",
        "curve:"
       ]
      },
      {
       "output_type": "stream",
       "stream": "stdout",
       "text": [
        " 1265 \tdomain: 6 \titeration: 65 \tstep: 23895 \tback\n",
        "curve:"
       ]
      },
      {
       "output_type": "stream",
       "stream": "stdout",
       "text": [
        " 1266 \tdomain: 6 \titeration: 66 \tstep: 23894 \tback\n",
        "curve:"
       ]
      },
      {
       "output_type": "stream",
       "stream": "stdout",
       "text": [
        " 1267 \tdomain: 6 \titeration: 67 \tstep: 23893 \tback\n",
        "curve:"
       ]
      },
      {
       "output_type": "stream",
       "stream": "stdout",
       "text": [
        " 1268 \tdomain: 6 \titeration: 68 \tstep: 23892 \tback\n",
        "curve:"
       ]
      },
      {
       "output_type": "stream",
       "stream": "stdout",
       "text": [
        " 1269 \tdomain: 6 \titeration: 69 \tstep: 23891 \tback\n",
        "curve:"
       ]
      },
      {
       "output_type": "stream",
       "stream": "stdout",
       "text": [
        " 1270 \tdomain: 6 \titeration: 70 \tstep: 23890 \tback\n",
        "curve:"
       ]
      },
      {
       "output_type": "stream",
       "stream": "stdout",
       "text": [
        " 1271 \tdomain: 6 \titeration: 71 \tstep: 23889 \tback\n",
        "curve:"
       ]
      },
      {
       "output_type": "stream",
       "stream": "stdout",
       "text": [
        " 1272 \tdomain: 6 \titeration: 72 \tstep: 23888 \tback\n",
        "curve:"
       ]
      },
      {
       "output_type": "stream",
       "stream": "stdout",
       "text": [
        " 1273 \tdomain: 6 \titeration: 73 \tstep: 23887 \tback\n",
        "curve:"
       ]
      },
      {
       "output_type": "stream",
       "stream": "stdout",
       "text": [
        " 1274 \tdomain: 6 \titeration: 74 \tstep: 23886 \tback\n",
        "curve:"
       ]
      },
      {
       "output_type": "stream",
       "stream": "stdout",
       "text": [
        " 1275 \tdomain: 6 \titeration: 75 \tstep: 23885 \tback\n",
        "curve:"
       ]
      },
      {
       "output_type": "stream",
       "stream": "stdout",
       "text": [
        " 1276 \tdomain: 6 \titeration: 76 \tstep: 23884 \tback\n",
        "curve:"
       ]
      },
      {
       "output_type": "stream",
       "stream": "stdout",
       "text": [
        " 1277 \tdomain: 6 \titeration: 77 \tstep: 23883 \tback\n",
        "curve:"
       ]
      },
      {
       "output_type": "stream",
       "stream": "stdout",
       "text": [
        " 1278 \tdomain: 6 \titeration: 78 \tstep: 23882 \tback\n",
        "curve:"
       ]
      },
      {
       "output_type": "stream",
       "stream": "stdout",
       "text": [
        " 1279 \tdomain: 6 \titeration: 79 \tstep: 23881 \tback\n",
        "curve:"
       ]
      },
      {
       "output_type": "stream",
       "stream": "stdout",
       "text": [
        " 1280 \tdomain: 6 \titeration: 80 \tstep: 23880 \tback\n",
        "curve:"
       ]
      },
      {
       "output_type": "stream",
       "stream": "stdout",
       "text": [
        " 1281 \tdomain: 6 \titeration: 81 \tstep: 23879 \tback\n",
        "curve:"
       ]
      },
      {
       "output_type": "stream",
       "stream": "stdout",
       "text": [
        " 1282 \tdomain: 6 \titeration: 82 \tstep: 23878 \tback\n",
        "curve:"
       ]
      },
      {
       "output_type": "stream",
       "stream": "stdout",
       "text": [
        " 1283 \tdomain: 6 \titeration: 83 \tstep: 23877 \tback\n",
        "curve:"
       ]
      },
      {
       "output_type": "stream",
       "stream": "stdout",
       "text": [
        " 1284 \tdomain: 6 \titeration: 84 \tstep: 23876 \tback\n",
        "curve:"
       ]
      },
      {
       "output_type": "stream",
       "stream": "stdout",
       "text": [
        " 1285 \tdomain: 6 \titeration: 85 \tstep: 23875 \tback\n",
        "curve:"
       ]
      },
      {
       "output_type": "stream",
       "stream": "stdout",
       "text": [
        " 1286 \tdomain: 6 \titeration: 86 \tstep: 23874 \tback\n",
        "curve:"
       ]
      },
      {
       "output_type": "stream",
       "stream": "stdout",
       "text": [
        " 1287 \tdomain: 6 \titeration: 87 \tstep: 23873 \tback\n",
        "curve:"
       ]
      },
      {
       "output_type": "stream",
       "stream": "stdout",
       "text": [
        " 1288 \tdomain: 6 \titeration: 88 \tstep: 23872 \tback\n",
        "curve:"
       ]
      },
      {
       "output_type": "stream",
       "stream": "stdout",
       "text": [
        " 1289 \tdomain: 6 \titeration: 89 \tstep: 23871 \tback\n",
        "curve:"
       ]
      },
      {
       "output_type": "stream",
       "stream": "stdout",
       "text": [
        " 1290 \tdomain: 6 \titeration: 90 \tstep: 23870 \tback\n",
        "curve:"
       ]
      },
      {
       "output_type": "stream",
       "stream": "stdout",
       "text": [
        " 1291 \tdomain: 6 \titeration: 91 \tstep: 23869 \tback\n",
        "curve:"
       ]
      },
      {
       "output_type": "stream",
       "stream": "stdout",
       "text": [
        " 1292 \tdomain: 6 \titeration: 92 \tstep: 23868 \tback\n",
        "curve:"
       ]
      },
      {
       "output_type": "stream",
       "stream": "stdout",
       "text": [
        " 1293 \tdomain: 6 \titeration: 93 \tstep: 23867 \tback\n",
        "curve:"
       ]
      },
      {
       "output_type": "stream",
       "stream": "stdout",
       "text": [
        " 1294 \tdomain: 6 \titeration: 94 \tstep: 23866 \tback\n",
        "curve:"
       ]
      },
      {
       "output_type": "stream",
       "stream": "stdout",
       "text": [
        " 1295 \tdomain: 6 \titeration: 95 \tstep: 23865 \tback\n",
        "curve:"
       ]
      },
      {
       "output_type": "stream",
       "stream": "stdout",
       "text": [
        " 1296 \tdomain: 6 \titeration: 96 \tstep: 23864 \tback\n",
        "curve:"
       ]
      },
      {
       "output_type": "stream",
       "stream": "stdout",
       "text": [
        " 1297 \tdomain: 6 \titeration: 97 \tstep: 23863 \tback\n",
        "curve:"
       ]
      },
      {
       "output_type": "stream",
       "stream": "stdout",
       "text": [
        " 1298 \tdomain: 6 \titeration: 98 \tstep: 23862 \tback\n",
        "curve:"
       ]
      },
      {
       "output_type": "stream",
       "stream": "stdout",
       "text": [
        " 1299 \tdomain: 6 \titeration: 99 \tstep: 23861 \tback\n",
        "curve:"
       ]
      },
      {
       "output_type": "stream",
       "stream": "stdout",
       "text": [
        " 1300 \tdomain: 6 \titeration: 0 \tstep: 23861 \tforth\n",
        "curve:"
       ]
      },
      {
       "output_type": "stream",
       "stream": "stdout",
       "text": [
        " 1301 \tdomain: 6 \titeration: 1 \tstep: 23862 \tforth\n",
        "curve:"
       ]
      },
      {
       "output_type": "stream",
       "stream": "stdout",
       "text": [
        " 1302 \tdomain: 6 \titeration: 2 \tstep: 23863 \tforth\n",
        "curve:"
       ]
      },
      {
       "output_type": "stream",
       "stream": "stdout",
       "text": [
        " 1303 \tdomain: 6 \titeration: 3 \tstep: 23864 \tforth\n",
        "curve:"
       ]
      },
      {
       "output_type": "stream",
       "stream": "stdout",
       "text": [
        " 1304 \tdomain: 6 \titeration: 4 \tstep: 23865 \tforth\n",
        "curve:"
       ]
      },
      {
       "output_type": "stream",
       "stream": "stdout",
       "text": [
        " 1305 \tdomain: 6 \titeration: 5 \tstep: 23866 \tforth\n",
        "curve:"
       ]
      },
      {
       "output_type": "stream",
       "stream": "stdout",
       "text": [
        " 1306 \tdomain: 6 \titeration: 6 \tstep: 23867 \tforth\n",
        "curve:"
       ]
      },
      {
       "output_type": "stream",
       "stream": "stdout",
       "text": [
        " 1307 \tdomain: 6 \titeration: 7 \tstep: 23868 \tforth\n",
        "curve:"
       ]
      },
      {
       "output_type": "stream",
       "stream": "stdout",
       "text": [
        " 1308 \tdomain: 6 \titeration: 8 \tstep: 23869 \tforth\n",
        "curve:"
       ]
      },
      {
       "output_type": "stream",
       "stream": "stdout",
       "text": [
        " 1309 \tdomain: 6 \titeration: 9 \tstep: 23870 \tforth\n",
        "curve:"
       ]
      },
      {
       "output_type": "stream",
       "stream": "stdout",
       "text": [
        " 1310 \tdomain: 6 \titeration: 10 \tstep: 23871 \tforth\n",
        "curve:"
       ]
      },
      {
       "output_type": "stream",
       "stream": "stdout",
       "text": [
        " 1311 \tdomain: 6 \titeration: 11 \tstep: 23872 \tforth\n",
        "curve:"
       ]
      },
      {
       "output_type": "stream",
       "stream": "stdout",
       "text": [
        " 1312 \tdomain: 6 \titeration: 12 \tstep: 23873 \tforth\n",
        "curve:"
       ]
      },
      {
       "output_type": "stream",
       "stream": "stdout",
       "text": [
        " 1313 \tdomain: 6 \titeration: 13 \tstep: 23874 \tforth\n",
        "curve:"
       ]
      },
      {
       "output_type": "stream",
       "stream": "stdout",
       "text": [
        " 1314 \tdomain: 6 \titeration: 14 \tstep: 23875 \tforth\n",
        "curve:"
       ]
      },
      {
       "output_type": "stream",
       "stream": "stdout",
       "text": [
        " 1315 \tdomain: 6 \titeration: 15 \tstep: 23876 \tforth\n",
        "curve:"
       ]
      },
      {
       "output_type": "stream",
       "stream": "stdout",
       "text": [
        " 1316 \tdomain: 6 \titeration: 16 \tstep: 23877 \tforth\n",
        "curve:"
       ]
      },
      {
       "output_type": "stream",
       "stream": "stdout",
       "text": [
        " 1317 \tdomain: 6 \titeration: 17 \tstep: 23878 \tforth\n",
        "curve:"
       ]
      },
      {
       "output_type": "stream",
       "stream": "stdout",
       "text": [
        " 1318 \tdomain: 6 \titeration: 18 \tstep: 23879 \tforth\n",
        "curve:"
       ]
      },
      {
       "output_type": "stream",
       "stream": "stdout",
       "text": [
        " 1319 \tdomain: 6 \titeration: 19 \tstep: 23880 \tforth\n",
        "curve:"
       ]
      },
      {
       "output_type": "stream",
       "stream": "stdout",
       "text": [
        " 1320 \tdomain: 6 \titeration: 20 \tstep: 23881 \tforth\n",
        "curve:"
       ]
      },
      {
       "output_type": "stream",
       "stream": "stdout",
       "text": [
        " 1321 \tdomain: 6 \titeration: 21 \tstep: 23882 \tforth\n",
        "curve:"
       ]
      },
      {
       "output_type": "stream",
       "stream": "stdout",
       "text": [
        " 1322 \tdomain: 6 \titeration: 22 \tstep: 23883 \tforth\n",
        "curve:"
       ]
      },
      {
       "output_type": "stream",
       "stream": "stdout",
       "text": [
        " 1323 \tdomain: 6 \titeration: 23 \tstep: 23884 \tforth\n",
        "curve:"
       ]
      },
      {
       "output_type": "stream",
       "stream": "stdout",
       "text": [
        " 1324 \tdomain: 6 \titeration: 24 \tstep: 23885 \tforth\n",
        "curve:"
       ]
      },
      {
       "output_type": "stream",
       "stream": "stdout",
       "text": [
        " 1325 \tdomain: 6 \titeration: 25 \tstep: 23886 \tforth\n",
        "curve:"
       ]
      },
      {
       "output_type": "stream",
       "stream": "stdout",
       "text": [
        " 1326 \tdomain: 6 \titeration: 26 \tstep: 23887 \tforth\n",
        "curve:"
       ]
      },
      {
       "output_type": "stream",
       "stream": "stdout",
       "text": [
        " 1327 \tdomain: 6 \titeration: 27 \tstep: 23888 \tforth\n",
        "curve:"
       ]
      },
      {
       "output_type": "stream",
       "stream": "stdout",
       "text": [
        " 1328 \tdomain: 6 \titeration: 28 \tstep: 23889 \tforth\n",
        "curve:"
       ]
      },
      {
       "output_type": "stream",
       "stream": "stdout",
       "text": [
        " 1329 \tdomain: 6 \titeration: 29 \tstep: 23890 \tforth\n",
        "curve:"
       ]
      },
      {
       "output_type": "stream",
       "stream": "stdout",
       "text": [
        " 1330 \tdomain: 6 \titeration: 30 \tstep: 23891 \tforth\n",
        "curve:"
       ]
      },
      {
       "output_type": "stream",
       "stream": "stdout",
       "text": [
        " 1331 \tdomain: 6 \titeration: 31 \tstep: 23892 \tforth\n",
        "curve:"
       ]
      },
      {
       "output_type": "stream",
       "stream": "stdout",
       "text": [
        " 1332 \tdomain: 6 \titeration: 32 \tstep: 23893 \tforth\n",
        "curve:"
       ]
      },
      {
       "output_type": "stream",
       "stream": "stdout",
       "text": [
        " 1333 \tdomain: 6 \titeration: 33 \tstep: 23894 \tforth\n",
        "curve:"
       ]
      },
      {
       "output_type": "stream",
       "stream": "stdout",
       "text": [
        " 1334 \tdomain: 6 \titeration: 34 \tstep: 23895 \tforth\n",
        "curve:"
       ]
      },
      {
       "output_type": "stream",
       "stream": "stdout",
       "text": [
        " 1335 \tdomain: 6 \titeration: 35 \tstep: 23896 \tforth\n",
        "curve:"
       ]
      },
      {
       "output_type": "stream",
       "stream": "stdout",
       "text": [
        " 1336 \tdomain: 6 \titeration: 36 \tstep: 23897 \tforth\n",
        "curve:"
       ]
      },
      {
       "output_type": "stream",
       "stream": "stdout",
       "text": [
        " 1337 \tdomain: 6 \titeration: 37 \tstep: 23898 \tforth\n",
        "curve:"
       ]
      },
      {
       "output_type": "stream",
       "stream": "stdout",
       "text": [
        " 1338 \tdomain: 6 \titeration: 38 \tstep: 23899 \tforth\n",
        "curve:"
       ]
      },
      {
       "output_type": "stream",
       "stream": "stdout",
       "text": [
        " 1339 \tdomain: 6 \titeration: 39 \tstep: 23900 \tforth\n",
        "curve:"
       ]
      },
      {
       "output_type": "stream",
       "stream": "stdout",
       "text": [
        " 1340 \tdomain: 6 \titeration: 40 \tstep: 23901 \tforth\n",
        "curve:"
       ]
      },
      {
       "output_type": "stream",
       "stream": "stdout",
       "text": [
        " 1341 \tdomain: 6 \titeration: 41 \tstep: 23902 \tforth\n",
        "curve:"
       ]
      },
      {
       "output_type": "stream",
       "stream": "stdout",
       "text": [
        " 1342 \tdomain: 6 \titeration: 42 \tstep: 23903 \tforth\n",
        "curve:"
       ]
      },
      {
       "output_type": "stream",
       "stream": "stdout",
       "text": [
        " 1343 \tdomain: 6 \titeration: 43 \tstep: 23904 \tforth\n",
        "curve:"
       ]
      },
      {
       "output_type": "stream",
       "stream": "stdout",
       "text": [
        " 1344 \tdomain: 6 \titeration: 44 \tstep: 23905 \tforth\n",
        "curve:"
       ]
      },
      {
       "output_type": "stream",
       "stream": "stdout",
       "text": [
        " 1345 \tdomain: 6 \titeration: 45 \tstep: 23906 \tforth\n",
        "curve:"
       ]
      },
      {
       "output_type": "stream",
       "stream": "stdout",
       "text": [
        " 1346 \tdomain: 6 \titeration: 46 \tstep: 23907 \tforth\n",
        "curve:"
       ]
      },
      {
       "output_type": "stream",
       "stream": "stdout",
       "text": [
        " 1347 \tdomain: 6 \titeration: 47 \tstep: 23908 \tforth\n",
        "curve:"
       ]
      },
      {
       "output_type": "stream",
       "stream": "stdout",
       "text": [
        " 1348 \tdomain: 6 \titeration: 48 \tstep: 23909 \tforth\n",
        "curve:"
       ]
      },
      {
       "output_type": "stream",
       "stream": "stdout",
       "text": [
        " 1349 \tdomain: 6 \titeration: 49 \tstep: 23910 \tforth\n",
        "curve:"
       ]
      },
      {
       "output_type": "stream",
       "stream": "stdout",
       "text": [
        " 1350 \tdomain: 6 \titeration: 50 \tstep: 23911 \tforth\n",
        "curve:"
       ]
      },
      {
       "output_type": "stream",
       "stream": "stdout",
       "text": [
        " 1351 \tdomain: 6 \titeration: 51 \tstep: 23912 \tforth\n",
        "curve:"
       ]
      },
      {
       "output_type": "stream",
       "stream": "stdout",
       "text": [
        " 1352 \tdomain: 6 \titeration: 52 \tstep: 23913 \tforth\n",
        "curve:"
       ]
      },
      {
       "output_type": "stream",
       "stream": "stdout",
       "text": [
        " 1353 \tdomain: 6 \titeration: 53 \tstep: 23914 \tforth\n",
        "curve:"
       ]
      },
      {
       "output_type": "stream",
       "stream": "stdout",
       "text": [
        " 1354 \tdomain: 6 \titeration: 54 \tstep: 23915 \tforth\n",
        "curve:"
       ]
      },
      {
       "output_type": "stream",
       "stream": "stdout",
       "text": [
        " 1355 \tdomain: 6 \titeration: 55 \tstep: 23916 \tforth\n",
        "curve:"
       ]
      },
      {
       "output_type": "stream",
       "stream": "stdout",
       "text": [
        " 1356 \tdomain: 6 \titeration: 56 \tstep: 23917 \tforth\n",
        "curve:"
       ]
      },
      {
       "output_type": "stream",
       "stream": "stdout",
       "text": [
        " 1357 \tdomain: 6 \titeration: 57 \tstep: 23918 \tforth\n",
        "curve:"
       ]
      },
      {
       "output_type": "stream",
       "stream": "stdout",
       "text": [
        " 1358 \tdomain: 6 \titeration: 58 \tstep: 23919 \tforth\n",
        "curve:"
       ]
      },
      {
       "output_type": "stream",
       "stream": "stdout",
       "text": [
        " 1359 \tdomain: 6 \titeration: 59 \tstep: 23920 \tforth\n",
        "curve:"
       ]
      },
      {
       "output_type": "stream",
       "stream": "stdout",
       "text": [
        " 1360 \tdomain: 6 \titeration: 60 \tstep: 23921 \tforth\n",
        "curve:"
       ]
      },
      {
       "output_type": "stream",
       "stream": "stdout",
       "text": [
        " 1361 \tdomain: 6 \titeration: 61 \tstep: 23922 \tforth\n",
        "curve:"
       ]
      },
      {
       "output_type": "stream",
       "stream": "stdout",
       "text": [
        " 1362 \tdomain: 6 \titeration: 62 \tstep: 23923 \tforth\n",
        "curve:"
       ]
      },
      {
       "output_type": "stream",
       "stream": "stdout",
       "text": [
        " 1363 \tdomain: 6 \titeration: 63 \tstep: 23924 \tforth\n",
        "curve:"
       ]
      },
      {
       "output_type": "stream",
       "stream": "stdout",
       "text": [
        " 1364 \tdomain: 6 \titeration: 64 \tstep: 23925 \tforth\n",
        "curve:"
       ]
      },
      {
       "output_type": "stream",
       "stream": "stdout",
       "text": [
        " 1365 \tdomain: 6 \titeration: 65 \tstep: 23926 \tforth\n",
        "curve:"
       ]
      },
      {
       "output_type": "stream",
       "stream": "stdout",
       "text": [
        " 1366 \tdomain: 6 \titeration: 66 \tstep: 23927 \tforth\n",
        "curve:"
       ]
      },
      {
       "output_type": "stream",
       "stream": "stdout",
       "text": [
        " 1367 \tdomain: 6 \titeration: 67 \tstep: 23928 \tforth\n",
        "curve:"
       ]
      },
      {
       "output_type": "stream",
       "stream": "stdout",
       "text": [
        " 1368 \tdomain: 6 \titeration: 68 \tstep: 23929 \tforth\n",
        "curve:"
       ]
      },
      {
       "output_type": "stream",
       "stream": "stdout",
       "text": [
        " 1369 \tdomain: 6 \titeration: 69 \tstep: 23930 \tforth\n",
        "curve:"
       ]
      },
      {
       "output_type": "stream",
       "stream": "stdout",
       "text": [
        " 1370 \tdomain: 6 \titeration: 70 \tstep: 23931 \tforth\n",
        "curve:"
       ]
      },
      {
       "output_type": "stream",
       "stream": "stdout",
       "text": [
        " 1371 \tdomain: 6 \titeration: 71 \tstep: 23932 \tforth\n",
        "curve:"
       ]
      },
      {
       "output_type": "stream",
       "stream": "stdout",
       "text": [
        " 1372 \tdomain: 6 \titeration: 72 \tstep: 23933 \tforth\n",
        "curve:"
       ]
      },
      {
       "output_type": "stream",
       "stream": "stdout",
       "text": [
        " 1373 \tdomain: 6 \titeration: 73 \tstep: 23934 \tforth\n",
        "curve:"
       ]
      },
      {
       "output_type": "stream",
       "stream": "stdout",
       "text": [
        " 1374 \tdomain: 6 \titeration: 74 \tstep: 23935 \tforth\n",
        "curve:"
       ]
      },
      {
       "output_type": "stream",
       "stream": "stdout",
       "text": [
        " 1375 \tdomain: 6 \titeration: 75 \tstep: 23936 \tforth\n",
        "curve:"
       ]
      },
      {
       "output_type": "stream",
       "stream": "stdout",
       "text": [
        " 1376 \tdomain: 6 \titeration: 76 \tstep: 23937 \tforth\n",
        "curve:"
       ]
      },
      {
       "output_type": "stream",
       "stream": "stdout",
       "text": [
        " 1377 \tdomain: 6 \titeration: 77 \tstep: 23938 \tforth\n",
        "curve:"
       ]
      },
      {
       "output_type": "stream",
       "stream": "stdout",
       "text": [
        " 1378 \tdomain: 6 \titeration: 78 \tstep: 23939 \tforth\n",
        "curve:"
       ]
      },
      {
       "output_type": "stream",
       "stream": "stdout",
       "text": [
        " 1379 \tdomain: 6 \titeration: 79 \tstep: 23940 \tforth\n",
        "curve:"
       ]
      },
      {
       "output_type": "stream",
       "stream": "stdout",
       "text": [
        " 1380 \tdomain: 6 \titeration: 80 \tstep: 23941 \tforth\n",
        "curve:"
       ]
      },
      {
       "output_type": "stream",
       "stream": "stdout",
       "text": [
        " 1381 \tdomain: 6 \titeration: 81 \tstep: 23942 \tforth\n",
        "curve:"
       ]
      },
      {
       "output_type": "stream",
       "stream": "stdout",
       "text": [
        " 1382 \tdomain: 6 \titeration: 82 \tstep: 23943 \tforth\n",
        "curve:"
       ]
      },
      {
       "output_type": "stream",
       "stream": "stdout",
       "text": [
        " 1383 \tdomain: 6 \titeration: 83 \tstep: 23944 \tforth\n",
        "curve:"
       ]
      },
      {
       "output_type": "stream",
       "stream": "stdout",
       "text": [
        " 1384 \tdomain: 6 \titeration: 84 \tstep: 23945 \tforth\n",
        "curve:"
       ]
      },
      {
       "output_type": "stream",
       "stream": "stdout",
       "text": [
        " 1385 \tdomain: 6 \titeration: 85 \tstep: 23946 \tforth\n",
        "curve:"
       ]
      },
      {
       "output_type": "stream",
       "stream": "stdout",
       "text": [
        " 1386 \tdomain: 6 \titeration: 86 \tstep: 23947 \tforth\n",
        "curve:"
       ]
      },
      {
       "output_type": "stream",
       "stream": "stdout",
       "text": [
        " 1387 \tdomain: 6 \titeration: 87 \tstep: 23948 \tforth\n",
        "curve:"
       ]
      },
      {
       "output_type": "stream",
       "stream": "stdout",
       "text": [
        " 1388 \tdomain: 6 \titeration: 88 \tstep: 23949 \tforth\n",
        "curve:"
       ]
      },
      {
       "output_type": "stream",
       "stream": "stdout",
       "text": [
        " 1389 \tdomain: 6 \titeration: 89 \tstep: 23950 \tforth\n",
        "curve:"
       ]
      },
      {
       "output_type": "stream",
       "stream": "stdout",
       "text": [
        " 1390 \tdomain: 6 \titeration: 90 \tstep: 23951 \tforth\n",
        "curve:"
       ]
      },
      {
       "output_type": "stream",
       "stream": "stdout",
       "text": [
        " 1391 \tdomain: 6 \titeration: 91 \tstep: 23952 \tforth\n",
        "curve:"
       ]
      },
      {
       "output_type": "stream",
       "stream": "stdout",
       "text": [
        " 1392 \tdomain: 6 \titeration: 92 \tstep: 23953 \tforth\n",
        "curve:"
       ]
      },
      {
       "output_type": "stream",
       "stream": "stdout",
       "text": [
        " 1393 \tdomain: 6 \titeration: 93 \tstep: 23954 \tforth\n",
        "curve:"
       ]
      },
      {
       "output_type": "stream",
       "stream": "stdout",
       "text": [
        " 1394 \tdomain: 6 \titeration: 94 \tstep: 23955 \tforth\n",
        "curve:"
       ]
      },
      {
       "output_type": "stream",
       "stream": "stdout",
       "text": [
        " 1395 \tdomain: 6 \titeration: 95 \tstep: 23956 \tforth\n",
        "curve:"
       ]
      },
      {
       "output_type": "stream",
       "stream": "stdout",
       "text": [
        " 1396 \tdomain: 6 \titeration: 96 \tstep: 23957 \tforth\n",
        "curve:"
       ]
      },
      {
       "output_type": "stream",
       "stream": "stdout",
       "text": [
        " 1397 \tdomain: 6 \titeration: 97 \tstep: 23958 \tforth\n",
        "curve:"
       ]
      },
      {
       "output_type": "stream",
       "stream": "stdout",
       "text": [
        " 1398 \tdomain: 6 \titeration: 98 \tstep: 23959 \tforth\n",
        "curve:"
       ]
      },
      {
       "output_type": "stream",
       "stream": "stdout",
       "text": [
        " 1399 \tdomain: 6 \titeration: 99 \tstep: 23960 \tforth\n",
        "curve:"
       ]
      },
      {
       "output_type": "stream",
       "stream": "stdout",
       "text": [
        " 1400 \tdomain: 7 \titeration: 0 \tstep: 23860 \tback\n",
        "curve:"
       ]
      },
      {
       "output_type": "stream",
       "stream": "stdout",
       "text": [
        " 1401 \tdomain: 7 \titeration: 1 \tstep: 23859 \tback\n",
        "curve:"
       ]
      },
      {
       "output_type": "stream",
       "stream": "stdout",
       "text": [
        " 1402 \tdomain: 7 \titeration: 2 \tstep: 23858 \tback\n",
        "curve:"
       ]
      },
      {
       "output_type": "stream",
       "stream": "stdout",
       "text": [
        " 1403 \tdomain: 7 \titeration: 3 \tstep: 23857 \tback\n",
        "curve:"
       ]
      },
      {
       "output_type": "stream",
       "stream": "stdout",
       "text": [
        " 1404 \tdomain: 7 \titeration: 4 \tstep: 23856 \tback\n",
        "curve:"
       ]
      },
      {
       "output_type": "stream",
       "stream": "stdout",
       "text": [
        " 1405 \tdomain: 7 \titeration: 5 \tstep: 23855 \tback\n",
        "curve:"
       ]
      },
      {
       "output_type": "stream",
       "stream": "stdout",
       "text": [
        " 1406 \tdomain: 7 \titeration: 6 \tstep: 23854 \tback\n",
        "curve:"
       ]
      },
      {
       "output_type": "stream",
       "stream": "stdout",
       "text": [
        " 1407 \tdomain: 7 \titeration: 7 \tstep: 23853 \tback\n",
        "curve:"
       ]
      },
      {
       "output_type": "stream",
       "stream": "stdout",
       "text": [
        " 1408 \tdomain: 7 \titeration: 8 \tstep: 23852 \tback\n",
        "curve:"
       ]
      },
      {
       "output_type": "stream",
       "stream": "stdout",
       "text": [
        " 1409 \tdomain: 7 \titeration: 9 \tstep: 23851 \tback\n",
        "curve:"
       ]
      },
      {
       "output_type": "stream",
       "stream": "stdout",
       "text": [
        " 1410 \tdomain: 7 \titeration: 10 \tstep: 23850 \tback\n",
        "curve:"
       ]
      },
      {
       "output_type": "stream",
       "stream": "stdout",
       "text": [
        " 1411 \tdomain: 7 \titeration: 11 \tstep: 23849 \tback\n",
        "curve:"
       ]
      },
      {
       "output_type": "stream",
       "stream": "stdout",
       "text": [
        " 1412 \tdomain: 7 \titeration: 12 \tstep: 23848 \tback\n",
        "curve:"
       ]
      },
      {
       "output_type": "stream",
       "stream": "stdout",
       "text": [
        " 1413 \tdomain: 7 \titeration: 13 \tstep: 23847 \tback\n",
        "curve:"
       ]
      },
      {
       "output_type": "stream",
       "stream": "stdout",
       "text": [
        " 1414 \tdomain: 7 \titeration: 14 \tstep: 23846 \tback\n",
        "curve:"
       ]
      },
      {
       "output_type": "stream",
       "stream": "stdout",
       "text": [
        " 1415 \tdomain: 7 \titeration: 15 \tstep: 23845 \tback\n",
        "curve:"
       ]
      },
      {
       "output_type": "stream",
       "stream": "stdout",
       "text": [
        " 1416 \tdomain: 7 \titeration: 16 \tstep: 23844 \tback\n",
        "curve:"
       ]
      },
      {
       "output_type": "stream",
       "stream": "stdout",
       "text": [
        " 1417 \tdomain: 7 \titeration: 17 \tstep: 23843 \tback\n",
        "curve:"
       ]
      },
      {
       "output_type": "stream",
       "stream": "stdout",
       "text": [
        " 1418 \tdomain: 7 \titeration: 18 \tstep: 23842 \tback\n",
        "curve:"
       ]
      },
      {
       "output_type": "stream",
       "stream": "stdout",
       "text": [
        " 1419 \tdomain: 7 \titeration: 19 \tstep: 23841 \tback\n",
        "curve:"
       ]
      },
      {
       "output_type": "stream",
       "stream": "stdout",
       "text": [
        " 1420 \tdomain: 7 \titeration: 20 \tstep: 23840 \tback\n",
        "curve:"
       ]
      },
      {
       "output_type": "stream",
       "stream": "stdout",
       "text": [
        " 1421 \tdomain: 7 \titeration: 21 \tstep: 23839 \tback\n",
        "curve:"
       ]
      },
      {
       "output_type": "stream",
       "stream": "stdout",
       "text": [
        " 1422 \tdomain: 7 \titeration: 22 \tstep: 23838 \tback\n",
        "curve:"
       ]
      },
      {
       "output_type": "stream",
       "stream": "stdout",
       "text": [
        " 1423 \tdomain: 7 \titeration: 23 \tstep: 23837 \tback\n",
        "curve:"
       ]
      },
      {
       "output_type": "stream",
       "stream": "stdout",
       "text": [
        " 1424 \tdomain: 7 \titeration: 24 \tstep: 23836 \tback\n",
        "curve:"
       ]
      },
      {
       "output_type": "stream",
       "stream": "stdout",
       "text": [
        " 1425 \tdomain: 7 \titeration: 25 \tstep: 23835 \tback\n",
        "curve:"
       ]
      },
      {
       "output_type": "stream",
       "stream": "stdout",
       "text": [
        " 1426 \tdomain: 7 \titeration: 26 \tstep: 23834 \tback\n",
        "curve:"
       ]
      },
      {
       "output_type": "stream",
       "stream": "stdout",
       "text": [
        " 1427 \tdomain: 7 \titeration: 27 \tstep: 23833 \tback\n",
        "curve:"
       ]
      },
      {
       "output_type": "stream",
       "stream": "stdout",
       "text": [
        " 1428 \tdomain: 7 \titeration: 28 \tstep: 23832 \tback\n",
        "curve:"
       ]
      },
      {
       "output_type": "stream",
       "stream": "stdout",
       "text": [
        " 1429 \tdomain: 7 \titeration: 29 \tstep: 23831 \tback\n",
        "curve:"
       ]
      },
      {
       "output_type": "stream",
       "stream": "stdout",
       "text": [
        " 1430 \tdomain: 7 \titeration: 30 \tstep: 23830 \tback\n",
        "curve:"
       ]
      },
      {
       "output_type": "stream",
       "stream": "stdout",
       "text": [
        " 1431 \tdomain: 7 \titeration: 31 \tstep: 23829 \tback\n",
        "curve:"
       ]
      },
      {
       "output_type": "stream",
       "stream": "stdout",
       "text": [
        " 1432 \tdomain: 7 \titeration: 32 \tstep: 23828 \tback\n",
        "curve:"
       ]
      },
      {
       "output_type": "stream",
       "stream": "stdout",
       "text": [
        " 1433 \tdomain: 7 \titeration: 33 \tstep: 23827 \tback\n",
        "curve:"
       ]
      },
      {
       "output_type": "stream",
       "stream": "stdout",
       "text": [
        " 1434 \tdomain: 7 \titeration: 34 \tstep: 23826 \tback\n",
        "curve:"
       ]
      },
      {
       "output_type": "stream",
       "stream": "stdout",
       "text": [
        " 1435 \tdomain: 7 \titeration: 35 \tstep: 23825 \tback\n",
        "curve:"
       ]
      },
      {
       "output_type": "stream",
       "stream": "stdout",
       "text": [
        " 1436 \tdomain: 7 \titeration: 36 \tstep: 23824 \tback\n",
        "curve:"
       ]
      },
      {
       "output_type": "stream",
       "stream": "stdout",
       "text": [
        " 1437 \tdomain: 7 \titeration: 37 \tstep: 23823 \tback\n",
        "curve:"
       ]
      },
      {
       "output_type": "stream",
       "stream": "stdout",
       "text": [
        " 1438 \tdomain: 7 \titeration: 38 \tstep: 23822 \tback\n",
        "curve:"
       ]
      },
      {
       "output_type": "stream",
       "stream": "stdout",
       "text": [
        " 1439 \tdomain: 7 \titeration: 39 \tstep: 23821 \tback\n",
        "curve:"
       ]
      },
      {
       "output_type": "stream",
       "stream": "stdout",
       "text": [
        " 1440 \tdomain: 7 \titeration: 40 \tstep: 23820 \tback\n",
        "curve:"
       ]
      },
      {
       "output_type": "stream",
       "stream": "stdout",
       "text": [
        " 1441 \tdomain: 7 \titeration: 41 \tstep: 23819 \tback\n",
        "curve:"
       ]
      },
      {
       "output_type": "stream",
       "stream": "stdout",
       "text": [
        " 1442 \tdomain: 7 \titeration: 42 \tstep: 23818 \tback\n",
        "curve:"
       ]
      },
      {
       "output_type": "stream",
       "stream": "stdout",
       "text": [
        " 1443 \tdomain: 7 \titeration: 43 \tstep: 23817 \tback\n",
        "curve:"
       ]
      },
      {
       "output_type": "stream",
       "stream": "stdout",
       "text": [
        " 1444 \tdomain: 7 \titeration: 44 \tstep: 23816 \tback\n",
        "curve:"
       ]
      },
      {
       "output_type": "stream",
       "stream": "stdout",
       "text": [
        " 1445 \tdomain: 7 \titeration: 45 \tstep: 23815 \tback\n",
        "curve:"
       ]
      },
      {
       "output_type": "stream",
       "stream": "stdout",
       "text": [
        " 1446 \tdomain: 7 \titeration: 46 \tstep: 23814 \tback\n",
        "curve:"
       ]
      },
      {
       "output_type": "stream",
       "stream": "stdout",
       "text": [
        " 1447 \tdomain: 7 \titeration: 47 \tstep: 23813 \tback\n",
        "curve:"
       ]
      },
      {
       "output_type": "stream",
       "stream": "stdout",
       "text": [
        " 1448 \tdomain: 7 \titeration: 48 \tstep: 23812 \tback\n",
        "curve:"
       ]
      },
      {
       "output_type": "stream",
       "stream": "stdout",
       "text": [
        " 1449 \tdomain: 7 \titeration: 49 \tstep: 23811 \tback\n",
        "curve:"
       ]
      },
      {
       "output_type": "stream",
       "stream": "stdout",
       "text": [
        " 1450 \tdomain: 7 \titeration: 50 \tstep: 23810 \tback\n",
        "curve:"
       ]
      },
      {
       "output_type": "stream",
       "stream": "stdout",
       "text": [
        " 1451 \tdomain: 7 \titeration: 51 \tstep: 23809 \tback\n",
        "curve:"
       ]
      },
      {
       "output_type": "stream",
       "stream": "stdout",
       "text": [
        " 1452 \tdomain: 7 \titeration: 52 \tstep: 23808 \tback\n",
        "curve:"
       ]
      },
      {
       "output_type": "stream",
       "stream": "stdout",
       "text": [
        " 1453 \tdomain: 7 \titeration: 53 \tstep: 23807 \tback\n",
        "curve:"
       ]
      },
      {
       "output_type": "stream",
       "stream": "stdout",
       "text": [
        " 1454 \tdomain: 7 \titeration: 54 \tstep: 23806 \tback\n",
        "curve:"
       ]
      },
      {
       "output_type": "stream",
       "stream": "stdout",
       "text": [
        " 1455 \tdomain: 7 \titeration: 55 \tstep: 23805 \tback\n",
        "curve:"
       ]
      },
      {
       "output_type": "stream",
       "stream": "stdout",
       "text": [
        " 1456 \tdomain: 7 \titeration: 56 \tstep: 23804 \tback\n",
        "curve:"
       ]
      },
      {
       "output_type": "stream",
       "stream": "stdout",
       "text": [
        " 1457 \tdomain: 7 \titeration: 57 \tstep: 23803 \tback\n",
        "curve:"
       ]
      },
      {
       "output_type": "stream",
       "stream": "stdout",
       "text": [
        " 1458 \tdomain: 7 \titeration: 58 \tstep: 23802 \tback\n",
        "curve:"
       ]
      },
      {
       "output_type": "stream",
       "stream": "stdout",
       "text": [
        " 1459 \tdomain: 7 \titeration: 59 \tstep: 23801 \tback\n",
        "curve:"
       ]
      },
      {
       "output_type": "stream",
       "stream": "stdout",
       "text": [
        " 1460 \tdomain: 7 \titeration: 60 \tstep: 23800 \tback\n",
        "curve:"
       ]
      },
      {
       "output_type": "stream",
       "stream": "stdout",
       "text": [
        " 1461 \tdomain: 7 \titeration: 61 \tstep: 23799 \tback\n",
        "curve:"
       ]
      },
      {
       "output_type": "stream",
       "stream": "stdout",
       "text": [
        " 1462 \tdomain: 7 \titeration: 62 \tstep: 23798 \tback\n",
        "curve:"
       ]
      },
      {
       "output_type": "stream",
       "stream": "stdout",
       "text": [
        " 1463 \tdomain: 7 \titeration: 63 \tstep: 23797 \tback\n",
        "curve:"
       ]
      },
      {
       "output_type": "stream",
       "stream": "stdout",
       "text": [
        " 1464 \tdomain: 7 \titeration: 64 \tstep: 23796 \tback\n",
        "curve:"
       ]
      },
      {
       "output_type": "stream",
       "stream": "stdout",
       "text": [
        " 1465 \tdomain: 7 \titeration: 65 \tstep: 23795 \tback\n",
        "curve:"
       ]
      },
      {
       "output_type": "stream",
       "stream": "stdout",
       "text": [
        " 1466 \tdomain: 7 \titeration: 66 \tstep: 23794 \tback\n",
        "curve:"
       ]
      },
      {
       "output_type": "stream",
       "stream": "stdout",
       "text": [
        " 1467 \tdomain: 7 \titeration: 67 \tstep: 23793 \tback\n",
        "curve:"
       ]
      },
      {
       "output_type": "stream",
       "stream": "stdout",
       "text": [
        " 1468 \tdomain: 7 \titeration: 68 \tstep: 23792 \tback\n",
        "curve:"
       ]
      },
      {
       "output_type": "stream",
       "stream": "stdout",
       "text": [
        " 1469 \tdomain: 7 \titeration: 69 \tstep: 23791 \tback\n",
        "curve:"
       ]
      },
      {
       "output_type": "stream",
       "stream": "stdout",
       "text": [
        " 1470 \tdomain: 7 \titeration: 70 \tstep: 23790 \tback\n",
        "curve:"
       ]
      },
      {
       "output_type": "stream",
       "stream": "stdout",
       "text": [
        " 1471 \tdomain: 7 \titeration: 71 \tstep: 23789 \tback\n",
        "curve:"
       ]
      },
      {
       "output_type": "stream",
       "stream": "stdout",
       "text": [
        " 1472 \tdomain: 7 \titeration: 72 \tstep: 23788 \tback\n",
        "curve:"
       ]
      },
      {
       "output_type": "stream",
       "stream": "stdout",
       "text": [
        " 1473 \tdomain: 7 \titeration: 73 \tstep: 23787 \tback\n",
        "curve:"
       ]
      },
      {
       "output_type": "stream",
       "stream": "stdout",
       "text": [
        " 1474 \tdomain: 7 \titeration: 74 \tstep: 23786 \tback\n",
        "curve:"
       ]
      },
      {
       "output_type": "stream",
       "stream": "stdout",
       "text": [
        " 1475 \tdomain: 7 \titeration: 75 \tstep: 23785 \tback\n",
        "curve:"
       ]
      },
      {
       "output_type": "stream",
       "stream": "stdout",
       "text": [
        " 1476 \tdomain: 7 \titeration: 76 \tstep: 23784 \tback\n",
        "curve:"
       ]
      },
      {
       "output_type": "stream",
       "stream": "stdout",
       "text": [
        " 1477 \tdomain: 7 \titeration: 77 \tstep: 23783 \tback\n",
        "curve:"
       ]
      },
      {
       "output_type": "stream",
       "stream": "stdout",
       "text": [
        " 1478 \tdomain: 7 \titeration: 78 \tstep: 23782 \tback\n",
        "curve:"
       ]
      },
      {
       "output_type": "stream",
       "stream": "stdout",
       "text": [
        " 1479 \tdomain: 7 \titeration: 79 \tstep: 23781 \tback\n",
        "curve:"
       ]
      },
      {
       "output_type": "stream",
       "stream": "stdout",
       "text": [
        " 1480 \tdomain: 7 \titeration: 80 \tstep: 23780 \tback\n",
        "curve:"
       ]
      },
      {
       "output_type": "stream",
       "stream": "stdout",
       "text": [
        " 1481 \tdomain: 7 \titeration: 81 \tstep: 23779 \tback\n",
        "curve:"
       ]
      },
      {
       "output_type": "stream",
       "stream": "stdout",
       "text": [
        " 1482 \tdomain: 7 \titeration: 82 \tstep: 23778 \tback\n",
        "curve:"
       ]
      },
      {
       "output_type": "stream",
       "stream": "stdout",
       "text": [
        " 1483 \tdomain: 7 \titeration: 83 \tstep: 23777 \tback\n",
        "curve:"
       ]
      },
      {
       "output_type": "stream",
       "stream": "stdout",
       "text": [
        " 1484 \tdomain: 7 \titeration: 84 \tstep: 23776 \tback\n",
        "curve:"
       ]
      },
      {
       "output_type": "stream",
       "stream": "stdout",
       "text": [
        " 1485 \tdomain: 7 \titeration: 85 \tstep: 23775 \tback\n",
        "curve:"
       ]
      },
      {
       "output_type": "stream",
       "stream": "stdout",
       "text": [
        " 1486 \tdomain: 7 \titeration: 86 \tstep: 23774 \tback\n",
        "curve:"
       ]
      },
      {
       "output_type": "stream",
       "stream": "stdout",
       "text": [
        " 1487 \tdomain: 7 \titeration: 87 \tstep: 23773 \tback\n",
        "curve:"
       ]
      },
      {
       "output_type": "stream",
       "stream": "stdout",
       "text": [
        " 1488 \tdomain: 7 \titeration: 88 \tstep: 23772 \tback\n",
        "curve:"
       ]
      },
      {
       "output_type": "stream",
       "stream": "stdout",
       "text": [
        " 1489 \tdomain: 7 \titeration: 89 \tstep: 23771 \tback\n",
        "curve:"
       ]
      },
      {
       "output_type": "stream",
       "stream": "stdout",
       "text": [
        " 1490 \tdomain: 7 \titeration: 90 \tstep: 23770 \tback\n",
        "curve:"
       ]
      },
      {
       "output_type": "stream",
       "stream": "stdout",
       "text": [
        " 1491 \tdomain: 7 \titeration: 91 \tstep: 23769 \tback\n",
        "curve:"
       ]
      },
      {
       "output_type": "stream",
       "stream": "stdout",
       "text": [
        " 1492 \tdomain: 7 \titeration: 92 \tstep: 23768 \tback\n",
        "curve:"
       ]
      },
      {
       "output_type": "stream",
       "stream": "stdout",
       "text": [
        " 1493 \tdomain: 7 \titeration: 93 \tstep: 23767 \tback\n",
        "curve:"
       ]
      },
      {
       "output_type": "stream",
       "stream": "stdout",
       "text": [
        " 1494 \tdomain: 7 \titeration: 94 \tstep: 23766 \tback\n",
        "curve:"
       ]
      },
      {
       "output_type": "stream",
       "stream": "stdout",
       "text": [
        " 1495 \tdomain: 7 \titeration: 95 \tstep: 23765 \tback\n",
        "curve:"
       ]
      },
      {
       "output_type": "stream",
       "stream": "stdout",
       "text": [
        " 1496 \tdomain: 7 \titeration: 96 \tstep: 23764 \tback\n",
        "curve:"
       ]
      },
      {
       "output_type": "stream",
       "stream": "stdout",
       "text": [
        " 1497 \tdomain: 7 \titeration: 97 \tstep: 23763 \tback\n",
        "curve:"
       ]
      },
      {
       "output_type": "stream",
       "stream": "stdout",
       "text": [
        " 1498 \tdomain: 7 \titeration: 98 \tstep: 23762 \tback\n",
        "curve:"
       ]
      },
      {
       "output_type": "stream",
       "stream": "stdout",
       "text": [
        " 1499 \tdomain: 7 \titeration: 99 \tstep: 23761 \tback\n",
        "curve:"
       ]
      },
      {
       "output_type": "stream",
       "stream": "stdout",
       "text": [
        " 1500 \tdomain: 7 \titeration: 0 \tstep: 23761 \tforth\n",
        "curve:"
       ]
      },
      {
       "output_type": "stream",
       "stream": "stdout",
       "text": [
        " 1501 \tdomain: 7 \titeration: 1 \tstep: 23762 \tforth\n",
        "curve:"
       ]
      },
      {
       "output_type": "stream",
       "stream": "stdout",
       "text": [
        " 1502 \tdomain: 7 \titeration: 2 \tstep: 23763 \tforth\n",
        "curve:"
       ]
      },
      {
       "output_type": "stream",
       "stream": "stdout",
       "text": [
        " 1503 \tdomain: 7 \titeration: 3 \tstep: 23764 \tforth\n",
        "curve:"
       ]
      },
      {
       "output_type": "stream",
       "stream": "stdout",
       "text": [
        " 1504 \tdomain: 7 \titeration: 4 \tstep: 23765 \tforth\n",
        "curve:"
       ]
      },
      {
       "output_type": "stream",
       "stream": "stdout",
       "text": [
        " 1505 \tdomain: 7 \titeration: 5 \tstep: 23766 \tforth\n",
        "curve:"
       ]
      },
      {
       "output_type": "stream",
       "stream": "stdout",
       "text": [
        " 1506 \tdomain: 7 \titeration: 6 \tstep: 23767 \tforth\n",
        "curve:"
       ]
      },
      {
       "output_type": "stream",
       "stream": "stdout",
       "text": [
        " 1507 \tdomain: 7 \titeration: 7 \tstep: 23768 \tforth\n",
        "curve:"
       ]
      },
      {
       "output_type": "stream",
       "stream": "stdout",
       "text": [
        " 1508 \tdomain: 7 \titeration: 8 \tstep: 23769 \tforth\n",
        "curve:"
       ]
      },
      {
       "output_type": "stream",
       "stream": "stdout",
       "text": [
        " 1509 \tdomain: 7 \titeration: 9 \tstep: 23770 \tforth\n",
        "curve:"
       ]
      },
      {
       "output_type": "stream",
       "stream": "stdout",
       "text": [
        " 1510 \tdomain: 7 \titeration: 10 \tstep: 23771 \tforth\n",
        "curve:"
       ]
      },
      {
       "output_type": "stream",
       "stream": "stdout",
       "text": [
        " 1511 \tdomain: 7 \titeration: 11 \tstep: 23772 \tforth\n",
        "curve:"
       ]
      },
      {
       "output_type": "stream",
       "stream": "stdout",
       "text": [
        " 1512 \tdomain: 7 \titeration: 12 \tstep: 23773 \tforth\n",
        "curve:"
       ]
      },
      {
       "output_type": "stream",
       "stream": "stdout",
       "text": [
        " 1513 \tdomain: 7 \titeration: 13 \tstep: 23774 \tforth\n",
        "curve:"
       ]
      },
      {
       "output_type": "stream",
       "stream": "stdout",
       "text": [
        " 1514 \tdomain: 7 \titeration: 14 \tstep: 23775 \tforth\n",
        "curve:"
       ]
      },
      {
       "output_type": "stream",
       "stream": "stdout",
       "text": [
        " 1515 \tdomain: 7 \titeration: 15 \tstep: 23776 \tforth\n",
        "curve:"
       ]
      },
      {
       "output_type": "stream",
       "stream": "stdout",
       "text": [
        " 1516 \tdomain: 7 \titeration: 16 \tstep: 23777 \tforth\n",
        "curve:"
       ]
      },
      {
       "output_type": "stream",
       "stream": "stdout",
       "text": [
        " 1517 \tdomain: 7 \titeration: 17 \tstep: 23778 \tforth\n",
        "curve:"
       ]
      },
      {
       "output_type": "stream",
       "stream": "stdout",
       "text": [
        " 1518 \tdomain: 7 \titeration: 18 \tstep: 23779 \tforth\n",
        "curve:"
       ]
      },
      {
       "output_type": "stream",
       "stream": "stdout",
       "text": [
        " 1519 \tdomain: 7 \titeration: 19 \tstep: 23780 \tforth\n",
        "curve:"
       ]
      },
      {
       "output_type": "stream",
       "stream": "stdout",
       "text": [
        " 1520 \tdomain: 7 \titeration: 20 \tstep: 23781 \tforth\n",
        "curve:"
       ]
      },
      {
       "output_type": "stream",
       "stream": "stdout",
       "text": [
        " 1521 \tdomain: 7 \titeration: 21 \tstep: 23782 \tforth\n",
        "curve:"
       ]
      },
      {
       "output_type": "stream",
       "stream": "stdout",
       "text": [
        " 1522 \tdomain: 7 \titeration: 22 \tstep: 23783 \tforth\n",
        "curve:"
       ]
      },
      {
       "output_type": "stream",
       "stream": "stdout",
       "text": [
        " 1523 \tdomain: 7 \titeration: 23 \tstep: 23784 \tforth\n",
        "curve:"
       ]
      },
      {
       "output_type": "stream",
       "stream": "stdout",
       "text": [
        " 1524 \tdomain: 7 \titeration: 24 \tstep: 23785 \tforth\n",
        "curve:"
       ]
      },
      {
       "output_type": "stream",
       "stream": "stdout",
       "text": [
        " 1525 \tdomain: 7 \titeration: 25 \tstep: 23786 \tforth\n",
        "curve:"
       ]
      },
      {
       "output_type": "stream",
       "stream": "stdout",
       "text": [
        " 1526 \tdomain: 7 \titeration: 26 \tstep: 23787 \tforth\n",
        "curve:"
       ]
      },
      {
       "output_type": "stream",
       "stream": "stdout",
       "text": [
        " 1527 \tdomain: 7 \titeration: 27 \tstep: 23788 \tforth\n",
        "curve:"
       ]
      },
      {
       "output_type": "stream",
       "stream": "stdout",
       "text": [
        " 1528 \tdomain: 7 \titeration: 28 \tstep: 23789 \tforth\n",
        "curve:"
       ]
      },
      {
       "output_type": "stream",
       "stream": "stdout",
       "text": [
        " 1529 \tdomain: 7 \titeration: 29 \tstep: 23790 \tforth\n",
        "curve:"
       ]
      },
      {
       "output_type": "stream",
       "stream": "stdout",
       "text": [
        " 1530 \tdomain: 7 \titeration: 30 \tstep: 23791 \tforth\n",
        "curve:"
       ]
      },
      {
       "output_type": "stream",
       "stream": "stdout",
       "text": [
        " 1531 \tdomain: 7 \titeration: 31 \tstep: 23792 \tforth\n",
        "curve:"
       ]
      },
      {
       "output_type": "stream",
       "stream": "stdout",
       "text": [
        " 1532 \tdomain: 7 \titeration: 32 \tstep: 23793 \tforth\n",
        "curve:"
       ]
      },
      {
       "output_type": "stream",
       "stream": "stdout",
       "text": [
        " 1533 \tdomain: 7 \titeration: 33 \tstep: 23794 \tforth\n",
        "curve:"
       ]
      },
      {
       "output_type": "stream",
       "stream": "stdout",
       "text": [
        " 1534 \tdomain: 7 \titeration: 34 \tstep: 23795 \tforth\n",
        "curve:"
       ]
      },
      {
       "output_type": "stream",
       "stream": "stdout",
       "text": [
        " 1535 \tdomain: 7 \titeration: 35 \tstep: 23796 \tforth\n",
        "curve:"
       ]
      },
      {
       "output_type": "stream",
       "stream": "stdout",
       "text": [
        " 1536 \tdomain: 7 \titeration: 36 \tstep: 23797 \tforth\n",
        "curve:"
       ]
      },
      {
       "output_type": "stream",
       "stream": "stdout",
       "text": [
        " 1537 \tdomain: 7 \titeration: 37 \tstep: 23798 \tforth\n",
        "curve:"
       ]
      },
      {
       "output_type": "stream",
       "stream": "stdout",
       "text": [
        " 1538 \tdomain: 7 \titeration: 38 \tstep: 23799 \tforth\n",
        "curve:"
       ]
      },
      {
       "output_type": "stream",
       "stream": "stdout",
       "text": [
        " 1539 \tdomain: 7 \titeration: 39 \tstep: 23800 \tforth\n",
        "curve:"
       ]
      },
      {
       "output_type": "stream",
       "stream": "stdout",
       "text": [
        " 1540 \tdomain: 7 \titeration: 40 \tstep: 23801 \tforth\n",
        "curve:"
       ]
      },
      {
       "output_type": "stream",
       "stream": "stdout",
       "text": [
        " 1541 \tdomain: 7 \titeration: 41 \tstep: 23802 \tforth\n",
        "curve:"
       ]
      },
      {
       "output_type": "stream",
       "stream": "stdout",
       "text": [
        " 1542 \tdomain: 7 \titeration: 42 \tstep: 23803 \tforth\n",
        "curve:"
       ]
      },
      {
       "output_type": "stream",
       "stream": "stdout",
       "text": [
        " 1543 \tdomain: 7 \titeration: 43 \tstep: 23804 \tforth\n",
        "curve:"
       ]
      },
      {
       "output_type": "stream",
       "stream": "stdout",
       "text": [
        " 1544 \tdomain: 7 \titeration: 44 \tstep: 23805 \tforth\n",
        "curve:"
       ]
      },
      {
       "output_type": "stream",
       "stream": "stdout",
       "text": [
        " 1545 \tdomain: 7 \titeration: 45 \tstep: 23806 \tforth\n",
        "curve:"
       ]
      },
      {
       "output_type": "stream",
       "stream": "stdout",
       "text": [
        " 1546 \tdomain: 7 \titeration: 46 \tstep: 23807 \tforth\n",
        "curve:"
       ]
      },
      {
       "output_type": "stream",
       "stream": "stdout",
       "text": [
        " 1547 \tdomain: 7 \titeration: 47 \tstep: 23808 \tforth\n",
        "curve:"
       ]
      },
      {
       "output_type": "stream",
       "stream": "stdout",
       "text": [
        " 1548 \tdomain: 7 \titeration: 48 \tstep: 23809 \tforth\n",
        "curve:"
       ]
      },
      {
       "output_type": "stream",
       "stream": "stdout",
       "text": [
        " 1549 \tdomain: 7 \titeration: 49 \tstep: 23810 \tforth\n",
        "curve:"
       ]
      },
      {
       "output_type": "stream",
       "stream": "stdout",
       "text": [
        " 1550 \tdomain: 7 \titeration: 50 \tstep: 23811 \tforth\n",
        "curve:"
       ]
      },
      {
       "output_type": "stream",
       "stream": "stdout",
       "text": [
        " 1551 \tdomain: 7 \titeration: 51 \tstep: 23812 \tforth\n",
        "curve:"
       ]
      },
      {
       "output_type": "stream",
       "stream": "stdout",
       "text": [
        " 1552 \tdomain: 7 \titeration: 52 \tstep: 23813 \tforth\n",
        "curve:"
       ]
      },
      {
       "output_type": "stream",
       "stream": "stdout",
       "text": [
        " 1553 \tdomain: 7 \titeration: 53 \tstep: 23814 \tforth\n",
        "curve:"
       ]
      },
      {
       "output_type": "stream",
       "stream": "stdout",
       "text": [
        " 1554 \tdomain: 7 \titeration: 54 \tstep: 23815 \tforth\n",
        "curve:"
       ]
      },
      {
       "output_type": "stream",
       "stream": "stdout",
       "text": [
        " 1555 \tdomain: 7 \titeration: 55 \tstep: 23816 \tforth\n",
        "curve:"
       ]
      },
      {
       "output_type": "stream",
       "stream": "stdout",
       "text": [
        " 1556 \tdomain: 7 \titeration: 56 \tstep: 23817 \tforth\n",
        "curve:"
       ]
      },
      {
       "output_type": "stream",
       "stream": "stdout",
       "text": [
        " 1557 \tdomain: 7 \titeration: 57 \tstep: 23818 \tforth\n",
        "curve:"
       ]
      },
      {
       "output_type": "stream",
       "stream": "stdout",
       "text": [
        " 1558 \tdomain: 7 \titeration: 58 \tstep: 23819 \tforth\n",
        "curve:"
       ]
      },
      {
       "output_type": "stream",
       "stream": "stdout",
       "text": [
        " 1559 \tdomain: 7 \titeration: 59 \tstep: 23820 \tforth\n",
        "curve:"
       ]
      },
      {
       "output_type": "stream",
       "stream": "stdout",
       "text": [
        " 1560 \tdomain: 7 \titeration: 60 \tstep: 23821 \tforth\n",
        "curve:"
       ]
      },
      {
       "output_type": "stream",
       "stream": "stdout",
       "text": [
        " 1561 \tdomain: 7 \titeration: 61 \tstep: 23822 \tforth\n",
        "curve:"
       ]
      },
      {
       "output_type": "stream",
       "stream": "stdout",
       "text": [
        " 1562 \tdomain: 7 \titeration: 62 \tstep: 23823 \tforth\n",
        "curve:"
       ]
      },
      {
       "output_type": "stream",
       "stream": "stdout",
       "text": [
        " 1563 \tdomain: 7 \titeration: 63 \tstep: 23824 \tforth\n",
        "curve:"
       ]
      },
      {
       "output_type": "stream",
       "stream": "stdout",
       "text": [
        " 1564 \tdomain: 7 \titeration: 64 \tstep: 23825 \tforth\n",
        "curve:"
       ]
      },
      {
       "output_type": "stream",
       "stream": "stdout",
       "text": [
        " 1565 \tdomain: 7 \titeration: 65 \tstep: 23826 \tforth\n",
        "curve:"
       ]
      },
      {
       "output_type": "stream",
       "stream": "stdout",
       "text": [
        " 1566 \tdomain: 7 \titeration: 66 \tstep: 23827 \tforth\n",
        "curve:"
       ]
      },
      {
       "output_type": "stream",
       "stream": "stdout",
       "text": [
        " 1567 \tdomain: 7 \titeration: 67 \tstep: 23828 \tforth\n",
        "curve:"
       ]
      },
      {
       "output_type": "stream",
       "stream": "stdout",
       "text": [
        " 1568 \tdomain: 7 \titeration: 68 \tstep: 23829 \tforth\n",
        "curve:"
       ]
      },
      {
       "output_type": "stream",
       "stream": "stdout",
       "text": [
        " 1569 \tdomain: 7 \titeration: 69 \tstep: 23830 \tforth\n",
        "curve:"
       ]
      },
      {
       "output_type": "stream",
       "stream": "stdout",
       "text": [
        " 1570 \tdomain: 7 \titeration: 70 \tstep: 23831 \tforth\n",
        "curve:"
       ]
      },
      {
       "output_type": "stream",
       "stream": "stdout",
       "text": [
        " 1571 \tdomain: 7 \titeration: 71 \tstep: 23832 \tforth\n",
        "curve:"
       ]
      },
      {
       "output_type": "stream",
       "stream": "stdout",
       "text": [
        " 1572 \tdomain: 7 \titeration: 72 \tstep: 23833 \tforth\n",
        "curve:"
       ]
      },
      {
       "output_type": "stream",
       "stream": "stdout",
       "text": [
        " 1573 \tdomain: 7 \titeration: 73 \tstep: 23834 \tforth\n",
        "curve:"
       ]
      },
      {
       "output_type": "stream",
       "stream": "stdout",
       "text": [
        " 1574 \tdomain: 7 \titeration: 74 \tstep: 23835 \tforth\n",
        "curve:"
       ]
      },
      {
       "output_type": "stream",
       "stream": "stdout",
       "text": [
        " 1575 \tdomain: 7 \titeration: 75 \tstep: 23836 \tforth\n",
        "curve:"
       ]
      },
      {
       "output_type": "stream",
       "stream": "stdout",
       "text": [
        " 1576 \tdomain: 7 \titeration: 76 \tstep: 23837 \tforth\n",
        "curve:"
       ]
      },
      {
       "output_type": "stream",
       "stream": "stdout",
       "text": [
        " 1577 \tdomain: 7 \titeration: 77 \tstep: 23838 \tforth\n",
        "curve:"
       ]
      },
      {
       "output_type": "stream",
       "stream": "stdout",
       "text": [
        " 1578 \tdomain: 7 \titeration: 78 \tstep: 23839 \tforth\n",
        "curve:"
       ]
      },
      {
       "output_type": "stream",
       "stream": "stdout",
       "text": [
        " 1579 \tdomain: 7 \titeration: 79 \tstep: 23840 \tforth\n",
        "curve:"
       ]
      },
      {
       "output_type": "stream",
       "stream": "stdout",
       "text": [
        " 1580 \tdomain: 7 \titeration: 80 \tstep: 23841 \tforth\n",
        "curve:"
       ]
      },
      {
       "output_type": "stream",
       "stream": "stdout",
       "text": [
        " 1581 \tdomain: 7 \titeration: 81 \tstep: 23842 \tforth\n",
        "curve:"
       ]
      },
      {
       "output_type": "stream",
       "stream": "stdout",
       "text": [
        " 1582 \tdomain: 7 \titeration: 82 \tstep: 23843 \tforth\n",
        "curve:"
       ]
      },
      {
       "output_type": "stream",
       "stream": "stdout",
       "text": [
        " 1583 \tdomain: 7 \titeration: 83 \tstep: 23844 \tforth\n",
        "curve:"
       ]
      },
      {
       "output_type": "stream",
       "stream": "stdout",
       "text": [
        " 1584 \tdomain: 7 \titeration: 84 \tstep: 23845 \tforth\n",
        "curve:"
       ]
      },
      {
       "output_type": "stream",
       "stream": "stdout",
       "text": [
        " 1585 \tdomain: 7 \titeration: 85 \tstep: 23846 \tforth\n",
        "curve:"
       ]
      },
      {
       "output_type": "stream",
       "stream": "stdout",
       "text": [
        " 1586 \tdomain: 7 \titeration: 86 \tstep: 23847 \tforth\n",
        "curve:"
       ]
      },
      {
       "output_type": "stream",
       "stream": "stdout",
       "text": [
        " 1587 \tdomain: 7 \titeration: 87 \tstep: 23848 \tforth\n",
        "curve:"
       ]
      },
      {
       "output_type": "stream",
       "stream": "stdout",
       "text": [
        " 1588 \tdomain: 7 \titeration: 88 \tstep: 23849 \tforth\n",
        "curve:"
       ]
      },
      {
       "output_type": "stream",
       "stream": "stdout",
       "text": [
        " 1589 \tdomain: 7 \titeration: 89 \tstep: 23850 \tforth\n",
        "curve:"
       ]
      },
      {
       "output_type": "stream",
       "stream": "stdout",
       "text": [
        " 1590 \tdomain: 7 \titeration: 90 \tstep: 23851 \tforth\n",
        "curve:"
       ]
      },
      {
       "output_type": "stream",
       "stream": "stdout",
       "text": [
        " 1591 \tdomain: 7 \titeration: 91 \tstep: 23852 \tforth\n",
        "curve:"
       ]
      },
      {
       "output_type": "stream",
       "stream": "stdout",
       "text": [
        " 1592 \tdomain: 7 \titeration: 92 \tstep: 23853 \tforth\n",
        "curve:"
       ]
      },
      {
       "output_type": "stream",
       "stream": "stdout",
       "text": [
        " 1593 \tdomain: 7 \titeration: 93 \tstep: 23854 \tforth\n",
        "curve:"
       ]
      },
      {
       "output_type": "stream",
       "stream": "stdout",
       "text": [
        " 1594 \tdomain: 7 \titeration: 94 \tstep: 23855 \tforth\n",
        "curve:"
       ]
      },
      {
       "output_type": "stream",
       "stream": "stdout",
       "text": [
        " 1595 \tdomain: 7 \titeration: 95 \tstep: 23856 \tforth\n",
        "curve:"
       ]
      },
      {
       "output_type": "stream",
       "stream": "stdout",
       "text": [
        " 1596 \tdomain: 7 \titeration: 96 \tstep: 23857 \tforth\n",
        "curve:"
       ]
      },
      {
       "output_type": "stream",
       "stream": "stdout",
       "text": [
        " 1597 \tdomain: 7 \titeration: 97 \tstep: 23858 \tforth\n",
        "curve:"
       ]
      },
      {
       "output_type": "stream",
       "stream": "stdout",
       "text": [
        " 1598 \tdomain: 7 \titeration: 98 \tstep: 23859 \tforth\n",
        "curve:"
       ]
      },
      {
       "output_type": "stream",
       "stream": "stdout",
       "text": [
        " 1599 \tdomain: 7 \titeration: 99 \tstep: 23860 \tforth\n",
        "curve:"
       ]
      },
      {
       "output_type": "stream",
       "stream": "stdout",
       "text": [
        " 1600 \tdomain: 8 \titeration: 0 \tstep: 23760 \tback\n",
        "curve:"
       ]
      },
      {
       "output_type": "stream",
       "stream": "stdout",
       "text": [
        " 1601 \tdomain: 8 \titeration: 1 \tstep: 23759 \tback\n",
        "curve:"
       ]
      },
      {
       "output_type": "stream",
       "stream": "stdout",
       "text": [
        " 1602 \tdomain: 8 \titeration: 2 \tstep: 23758 \tback\n",
        "curve:"
       ]
      },
      {
       "output_type": "stream",
       "stream": "stdout",
       "text": [
        " 1603 \tdomain: 8 \titeration: 3 \tstep: 23757 \tback\n",
        "curve:"
       ]
      },
      {
       "output_type": "stream",
       "stream": "stdout",
       "text": [
        " 1604 \tdomain: 8 \titeration: 4 \tstep: 23756 \tback\n",
        "curve:"
       ]
      },
      {
       "output_type": "stream",
       "stream": "stdout",
       "text": [
        " 1605 \tdomain: 8 \titeration: 5 \tstep: 23755 \tback\n",
        "curve:"
       ]
      },
      {
       "output_type": "stream",
       "stream": "stdout",
       "text": [
        " 1606 \tdomain: 8 \titeration: 6 \tstep: 23754 \tback\n",
        "curve:"
       ]
      },
      {
       "output_type": "stream",
       "stream": "stdout",
       "text": [
        " 1607 \tdomain: 8 \titeration: 7 \tstep: 23753 \tback\n",
        "curve:"
       ]
      },
      {
       "output_type": "stream",
       "stream": "stdout",
       "text": [
        " 1608 \tdomain: 8 \titeration: 8 \tstep: 23752 \tback\n",
        "curve:"
       ]
      },
      {
       "output_type": "stream",
       "stream": "stdout",
       "text": [
        " 1609 \tdomain: 8 \titeration: 9 \tstep: 23751 \tback\n",
        "curve:"
       ]
      },
      {
       "output_type": "stream",
       "stream": "stdout",
       "text": [
        " 1610 \tdomain: 8 \titeration: 10 \tstep: 23750 \tback\n",
        "curve:"
       ]
      },
      {
       "output_type": "stream",
       "stream": "stdout",
       "text": [
        " 1611 \tdomain: 8 \titeration: 11 \tstep: 23749 \tback\n",
        "curve:"
       ]
      },
      {
       "output_type": "stream",
       "stream": "stdout",
       "text": [
        " 1612 \tdomain: 8 \titeration: 12 \tstep: 23748 \tback\n",
        "curve:"
       ]
      },
      {
       "output_type": "stream",
       "stream": "stdout",
       "text": [
        " 1613 \tdomain: 8 \titeration: 13 \tstep: 23747 \tback\n",
        "curve:"
       ]
      },
      {
       "output_type": "stream",
       "stream": "stdout",
       "text": [
        " 1614 \tdomain: 8 \titeration: 14 \tstep: 23746 \tback\n",
        "curve:"
       ]
      },
      {
       "output_type": "stream",
       "stream": "stdout",
       "text": [
        " 1615 \tdomain: 8 \titeration: 15 \tstep: 23745 \tback\n",
        "curve:"
       ]
      },
      {
       "output_type": "stream",
       "stream": "stdout",
       "text": [
        " 1616 \tdomain: 8 \titeration: 16 \tstep: 23744 \tback\n",
        "curve:"
       ]
      },
      {
       "output_type": "stream",
       "stream": "stdout",
       "text": [
        " 1617 \tdomain: 8 \titeration: 17 \tstep: 23743 \tback\n",
        "curve:"
       ]
      },
      {
       "output_type": "stream",
       "stream": "stdout",
       "text": [
        " 1618 \tdomain: 8 \titeration: 18 \tstep: 23742 \tback\n",
        "curve:"
       ]
      },
      {
       "output_type": "stream",
       "stream": "stdout",
       "text": [
        " 1619 \tdomain: 8 \titeration: 19 \tstep: 23741 \tback\n",
        "curve:"
       ]
      },
      {
       "output_type": "stream",
       "stream": "stdout",
       "text": [
        " 1620 \tdomain: 8 \titeration: 20 \tstep: 23740 \tback\n",
        "curve:"
       ]
      },
      {
       "output_type": "stream",
       "stream": "stdout",
       "text": [
        " 1621 \tdomain: 8 \titeration: 21 \tstep: 23739 \tback\n",
        "curve:"
       ]
      },
      {
       "output_type": "stream",
       "stream": "stdout",
       "text": [
        " 1622 \tdomain: 8 \titeration: 22 \tstep: 23738 \tback\n",
        "curve:"
       ]
      },
      {
       "output_type": "stream",
       "stream": "stdout",
       "text": [
        " 1623 \tdomain: 8 \titeration: 23 \tstep: 23737 \tback\n",
        "curve:"
       ]
      },
      {
       "output_type": "stream",
       "stream": "stdout",
       "text": [
        " 1624 \tdomain: 8 \titeration: 24 \tstep: 23736 \tback\n",
        "curve:"
       ]
      },
      {
       "output_type": "stream",
       "stream": "stdout",
       "text": [
        " 1625 \tdomain: 8 \titeration: 25 \tstep: 23735 \tback\n",
        "curve:"
       ]
      },
      {
       "output_type": "stream",
       "stream": "stdout",
       "text": [
        " 1626 \tdomain: 8 \titeration: 26 \tstep: 23734 \tback\n",
        "curve:"
       ]
      },
      {
       "output_type": "stream",
       "stream": "stdout",
       "text": [
        " 1627 \tdomain: 8 \titeration: 27 \tstep: 23733 \tback\n",
        "curve:"
       ]
      },
      {
       "output_type": "stream",
       "stream": "stdout",
       "text": [
        " 1628 \tdomain: 8 \titeration: 28 \tstep: 23732 \tback\n",
        "curve:"
       ]
      },
      {
       "output_type": "stream",
       "stream": "stdout",
       "text": [
        " 1629 \tdomain: 8 \titeration: 29 \tstep: 23731 \tback\n",
        "curve:"
       ]
      },
      {
       "output_type": "stream",
       "stream": "stdout",
       "text": [
        " 1630 \tdomain: 8 \titeration: 30 \tstep: 23730 \tback\n",
        "curve:"
       ]
      },
      {
       "output_type": "stream",
       "stream": "stdout",
       "text": [
        " 1631 \tdomain: 8 \titeration: 31 \tstep: 23729 \tback\n",
        "curve:"
       ]
      },
      {
       "output_type": "stream",
       "stream": "stdout",
       "text": [
        " 1632 \tdomain: 8 \titeration: 32 \tstep: 23728 \tback\n",
        "curve:"
       ]
      },
      {
       "output_type": "stream",
       "stream": "stdout",
       "text": [
        " 1633 \tdomain: 8 \titeration: 33 \tstep: 23727 \tback\n",
        "curve:"
       ]
      },
      {
       "output_type": "stream",
       "stream": "stdout",
       "text": [
        " 1634 \tdomain: 8 \titeration: 34 \tstep: 23726 \tback\n",
        "curve:"
       ]
      },
      {
       "output_type": "stream",
       "stream": "stdout",
       "text": [
        " 1635 \tdomain: 8 \titeration: 35 \tstep: 23725 \tback\n",
        "curve:"
       ]
      },
      {
       "output_type": "stream",
       "stream": "stdout",
       "text": [
        " 1636 \tdomain: 8 \titeration: 36 \tstep: 23724 \tback\n",
        "curve:"
       ]
      },
      {
       "output_type": "stream",
       "stream": "stdout",
       "text": [
        " 1637 \tdomain: 8 \titeration: 37 \tstep: 23723 \tback\n",
        "curve:"
       ]
      },
      {
       "output_type": "stream",
       "stream": "stdout",
       "text": [
        " 1638 \tdomain: 8 \titeration: 38 \tstep: 23722 \tback\n",
        "curve:"
       ]
      },
      {
       "output_type": "stream",
       "stream": "stdout",
       "text": [
        " 1639 \tdomain: 8 \titeration: 39 \tstep: 23721 \tback\n",
        "curve:"
       ]
      },
      {
       "output_type": "stream",
       "stream": "stdout",
       "text": [
        " 1640 \tdomain: 8 \titeration: 40 \tstep: 23720 \tback\n",
        "curve:"
       ]
      },
      {
       "output_type": "stream",
       "stream": "stdout",
       "text": [
        " 1641 \tdomain: 8 \titeration: 41 \tstep: 23719 \tback\n",
        "curve:"
       ]
      },
      {
       "output_type": "stream",
       "stream": "stdout",
       "text": [
        " 1642 \tdomain: 8 \titeration: 42 \tstep: 23718 \tback\n",
        "curve:"
       ]
      },
      {
       "output_type": "stream",
       "stream": "stdout",
       "text": [
        " 1643 \tdomain: 8 \titeration: 43 \tstep: 23717 \tback\n",
        "curve:"
       ]
      },
      {
       "output_type": "stream",
       "stream": "stdout",
       "text": [
        " 1644 \tdomain: 8 \titeration: 44 \tstep: 23716 \tback\n",
        "curve:"
       ]
      },
      {
       "output_type": "stream",
       "stream": "stdout",
       "text": [
        " 1645 \tdomain: 8 \titeration: 45 \tstep: 23715 \tback\n",
        "curve:"
       ]
      },
      {
       "output_type": "stream",
       "stream": "stdout",
       "text": [
        " 1646 \tdomain: 8 \titeration: 46 \tstep: 23714 \tback\n",
        "curve:"
       ]
      },
      {
       "output_type": "stream",
       "stream": "stdout",
       "text": [
        " 1647 \tdomain: 8 \titeration: 47 \tstep: 23713 \tback\n",
        "curve:"
       ]
      },
      {
       "output_type": "stream",
       "stream": "stdout",
       "text": [
        " 1648 \tdomain: 8 \titeration: 48 \tstep: 23712 \tback\n",
        "curve:"
       ]
      },
      {
       "output_type": "stream",
       "stream": "stdout",
       "text": [
        " 1649 \tdomain: 8 \titeration: 49 \tstep: 23711 \tback\n",
        "curve:"
       ]
      },
      {
       "output_type": "stream",
       "stream": "stdout",
       "text": [
        " 1650 \tdomain: 8 \titeration: 50 \tstep: 23710 \tback\n",
        "curve:"
       ]
      },
      {
       "output_type": "stream",
       "stream": "stdout",
       "text": [
        " 1651 \tdomain: 8 \titeration: 51 \tstep: 23709 \tback\n",
        "curve:"
       ]
      },
      {
       "output_type": "stream",
       "stream": "stdout",
       "text": [
        " 1652 \tdomain: 8 \titeration: 52 \tstep: 23708 \tback\n",
        "curve:"
       ]
      },
      {
       "output_type": "stream",
       "stream": "stdout",
       "text": [
        " 1653 \tdomain: 8 \titeration: 53 \tstep: 23707 \tback\n",
        "curve:"
       ]
      },
      {
       "output_type": "stream",
       "stream": "stdout",
       "text": [
        " 1654 \tdomain: 8 \titeration: 54 \tstep: 23706 \tback\n",
        "curve:"
       ]
      },
      {
       "output_type": "stream",
       "stream": "stdout",
       "text": [
        " 1655 \tdomain: 8 \titeration: 55 \tstep: 23705 \tback\n",
        "curve:"
       ]
      },
      {
       "output_type": "stream",
       "stream": "stdout",
       "text": [
        " 1656 \tdomain: 8 \titeration: 56 \tstep: 23704 \tback\n",
        "curve:"
       ]
      },
      {
       "output_type": "stream",
       "stream": "stdout",
       "text": [
        " 1657 \tdomain: 8 \titeration: 57 \tstep: 23703 \tback\n",
        "curve:"
       ]
      },
      {
       "output_type": "stream",
       "stream": "stdout",
       "text": [
        " 1658 \tdomain: 8 \titeration: 58 \tstep: 23702 \tback\n",
        "curve:"
       ]
      },
      {
       "output_type": "stream",
       "stream": "stdout",
       "text": [
        " 1659 \tdomain: 8 \titeration: 59 \tstep: 23701 \tback\n",
        "curve:"
       ]
      },
      {
       "output_type": "stream",
       "stream": "stdout",
       "text": [
        " 1660 \tdomain: 8 \titeration: 60 \tstep: 23700 \tback\n",
        "curve:"
       ]
      },
      {
       "output_type": "stream",
       "stream": "stdout",
       "text": [
        " 1661 \tdomain: 8 \titeration: 61 \tstep: 23699 \tback\n",
        "curve:"
       ]
      },
      {
       "output_type": "stream",
       "stream": "stdout",
       "text": [
        " 1662 \tdomain: 8 \titeration: 62 \tstep: 23698 \tback\n",
        "curve:"
       ]
      },
      {
       "output_type": "stream",
       "stream": "stdout",
       "text": [
        " 1663 \tdomain: 8 \titeration: 63 \tstep: 23697 \tback\n",
        "curve:"
       ]
      },
      {
       "output_type": "stream",
       "stream": "stdout",
       "text": [
        " 1664 \tdomain: 8 \titeration: 64 \tstep: 23696 \tback\n",
        "curve:"
       ]
      },
      {
       "output_type": "stream",
       "stream": "stdout",
       "text": [
        " 1665 \tdomain: 8 \titeration: 65 \tstep: 23695 \tback\n",
        "curve:"
       ]
      },
      {
       "output_type": "stream",
       "stream": "stdout",
       "text": [
        " 1666 \tdomain: 8 \titeration: 66 \tstep: 23694 \tback\n",
        "curve:"
       ]
      },
      {
       "output_type": "stream",
       "stream": "stdout",
       "text": [
        " 1667 \tdomain: 8 \titeration: 67 \tstep: 23693 \tback\n",
        "curve:"
       ]
      },
      {
       "output_type": "stream",
       "stream": "stdout",
       "text": [
        " 1668 \tdomain: 8 \titeration: 68 \tstep: 23692 \tback\n",
        "curve:"
       ]
      },
      {
       "output_type": "stream",
       "stream": "stdout",
       "text": [
        " 1669 \tdomain: 8 \titeration: 69 \tstep: 23691 \tback\n",
        "curve:"
       ]
      },
      {
       "output_type": "stream",
       "stream": "stdout",
       "text": [
        " 1670 \tdomain: 8 \titeration: 70 \tstep: 23690 \tback\n",
        "curve:"
       ]
      },
      {
       "output_type": "stream",
       "stream": "stdout",
       "text": [
        " 1671 \tdomain: 8 \titeration: 71 \tstep: 23689 \tback\n",
        "curve:"
       ]
      },
      {
       "output_type": "stream",
       "stream": "stdout",
       "text": [
        " 1672 \tdomain: 8 \titeration: 72 \tstep: 23688 \tback\n",
        "curve:"
       ]
      },
      {
       "output_type": "stream",
       "stream": "stdout",
       "text": [
        " 1673 \tdomain: 8 \titeration: 73 \tstep: 23687 \tback\n",
        "curve:"
       ]
      },
      {
       "output_type": "stream",
       "stream": "stdout",
       "text": [
        " 1674 \tdomain: 8 \titeration: 74 \tstep: 23686 \tback\n",
        "curve:"
       ]
      },
      {
       "output_type": "stream",
       "stream": "stdout",
       "text": [
        " 1675 \tdomain: 8 \titeration: 75 \tstep: 23685 \tback\n",
        "curve:"
       ]
      },
      {
       "output_type": "stream",
       "stream": "stdout",
       "text": [
        " 1676 \tdomain: 8 \titeration: 76 \tstep: 23684 \tback\n",
        "curve:"
       ]
      },
      {
       "output_type": "stream",
       "stream": "stdout",
       "text": [
        " 1677 \tdomain: 8 \titeration: 77 \tstep: 23683 \tback\n",
        "curve:"
       ]
      },
      {
       "output_type": "stream",
       "stream": "stdout",
       "text": [
        " 1678 \tdomain: 8 \titeration: 78 \tstep: 23682 \tback\n",
        "curve:"
       ]
      },
      {
       "output_type": "stream",
       "stream": "stdout",
       "text": [
        " 1679 \tdomain: 8 \titeration: 79 \tstep: 23681 \tback\n",
        "curve:"
       ]
      },
      {
       "output_type": "stream",
       "stream": "stdout",
       "text": [
        " 1680 \tdomain: 8 \titeration: 80 \tstep: 23680 \tback\n",
        "curve:"
       ]
      },
      {
       "output_type": "stream",
       "stream": "stdout",
       "text": [
        " 1681 \tdomain: 8 \titeration: 81 \tstep: 23679 \tback\n",
        "curve:"
       ]
      },
      {
       "output_type": "stream",
       "stream": "stdout",
       "text": [
        " 1682 \tdomain: 8 \titeration: 82 \tstep: 23678 \tback\n",
        "curve:"
       ]
      },
      {
       "output_type": "stream",
       "stream": "stdout",
       "text": [
        " 1683 \tdomain: 8 \titeration: 83 \tstep: 23677 \tback\n",
        "curve:"
       ]
      },
      {
       "output_type": "stream",
       "stream": "stdout",
       "text": [
        " 1684 \tdomain: 8 \titeration: 84 \tstep: 23676 \tback\n",
        "curve:"
       ]
      },
      {
       "output_type": "stream",
       "stream": "stdout",
       "text": [
        " 1685 \tdomain: 8 \titeration: 85 \tstep: 23675 \tback\n",
        "curve:"
       ]
      },
      {
       "output_type": "stream",
       "stream": "stdout",
       "text": [
        " 1686 \tdomain: 8 \titeration: 86 \tstep: 23674 \tback\n",
        "curve:"
       ]
      },
      {
       "output_type": "stream",
       "stream": "stdout",
       "text": [
        " 1687 \tdomain: 8 \titeration: 87 \tstep: 23673 \tback\n",
        "curve:"
       ]
      },
      {
       "output_type": "stream",
       "stream": "stdout",
       "text": [
        " 1688 \tdomain: 8 \titeration: 88 \tstep: 23672 \tback\n",
        "curve:"
       ]
      },
      {
       "output_type": "stream",
       "stream": "stdout",
       "text": [
        " 1689 \tdomain: 8 \titeration: 89 \tstep: 23671 \tback\n",
        "curve:"
       ]
      },
      {
       "output_type": "stream",
       "stream": "stdout",
       "text": [
        " 1690 \tdomain: 8 \titeration: 90 \tstep: 23670 \tback\n",
        "curve:"
       ]
      },
      {
       "output_type": "stream",
       "stream": "stdout",
       "text": [
        " 1691 \tdomain: 8 \titeration: 91 \tstep: 23669 \tback\n",
        "curve:"
       ]
      },
      {
       "output_type": "stream",
       "stream": "stdout",
       "text": [
        " 1692 \tdomain: 8 \titeration: 92 \tstep: 23668 \tback\n",
        "curve:"
       ]
      },
      {
       "output_type": "stream",
       "stream": "stdout",
       "text": [
        " 1693 \tdomain: 8 \titeration: 93 \tstep: 23667 \tback\n",
        "curve:"
       ]
      },
      {
       "output_type": "stream",
       "stream": "stdout",
       "text": [
        " 1694 \tdomain: 8 \titeration: 94 \tstep: 23666 \tback\n",
        "curve:"
       ]
      },
      {
       "output_type": "stream",
       "stream": "stdout",
       "text": [
        " 1695 \tdomain: 8 \titeration: 95 \tstep: 23665 \tback\n",
        "curve:"
       ]
      },
      {
       "output_type": "stream",
       "stream": "stdout",
       "text": [
        " 1696 \tdomain: 8 \titeration: 96 \tstep: 23664 \tback\n",
        "curve:"
       ]
      },
      {
       "output_type": "stream",
       "stream": "stdout",
       "text": [
        " 1697 \tdomain: 8 \titeration: 97 \tstep: 23663 \tback\n",
        "curve:"
       ]
      },
      {
       "output_type": "stream",
       "stream": "stdout",
       "text": [
        " 1698 \tdomain: 8 \titeration: 98 \tstep: 23662 \tback\n",
        "curve:"
       ]
      },
      {
       "output_type": "stream",
       "stream": "stdout",
       "text": [
        " 1699 \tdomain: 8 \titeration: 99 \tstep: 23661 \tback\n",
        "curve:"
       ]
      },
      {
       "output_type": "stream",
       "stream": "stdout",
       "text": [
        " 1700 \tdomain: 8 \titeration: 0 \tstep: 23661 \tforth\n",
        "curve:"
       ]
      },
      {
       "output_type": "stream",
       "stream": "stdout",
       "text": [
        " 1701 \tdomain: 8 \titeration: 1 \tstep: 23662 \tforth\n",
        "curve:"
       ]
      },
      {
       "output_type": "stream",
       "stream": "stdout",
       "text": [
        " 1702 \tdomain: 8 \titeration: 2 \tstep: 23663 \tforth\n",
        "curve:"
       ]
      },
      {
       "output_type": "stream",
       "stream": "stdout",
       "text": [
        " 1703 \tdomain: 8 \titeration: 3 \tstep: 23664 \tforth\n",
        "curve:"
       ]
      },
      {
       "output_type": "stream",
       "stream": "stdout",
       "text": [
        " 1704 \tdomain: 8 \titeration: 4 \tstep: 23665 \tforth\n",
        "curve:"
       ]
      },
      {
       "output_type": "stream",
       "stream": "stdout",
       "text": [
        " 1705 \tdomain: 8 \titeration: 5 \tstep: 23666 \tforth\n",
        "curve:"
       ]
      },
      {
       "output_type": "stream",
       "stream": "stdout",
       "text": [
        " 1706 \tdomain: 8 \titeration: 6 \tstep: 23667 \tforth\n",
        "curve:"
       ]
      },
      {
       "output_type": "stream",
       "stream": "stdout",
       "text": [
        " 1707 \tdomain: 8 \titeration: 7 \tstep: 23668 \tforth\n",
        "curve:"
       ]
      },
      {
       "output_type": "stream",
       "stream": "stdout",
       "text": [
        " 1708 \tdomain: 8 \titeration: 8 \tstep: 23669 \tforth\n",
        "curve:"
       ]
      },
      {
       "output_type": "stream",
       "stream": "stdout",
       "text": [
        " 1709 \tdomain: 8 \titeration: 9 \tstep: 23670 \tforth\n",
        "curve:"
       ]
      },
      {
       "output_type": "stream",
       "stream": "stdout",
       "text": [
        " 1710 \tdomain: 8 \titeration: 10 \tstep: 23671 \tforth\n",
        "curve:"
       ]
      },
      {
       "output_type": "stream",
       "stream": "stdout",
       "text": [
        " 1711 \tdomain: 8 \titeration: 11 \tstep: 23672 \tforth\n",
        "curve:"
       ]
      },
      {
       "output_type": "stream",
       "stream": "stdout",
       "text": [
        " 1712 \tdomain: 8 \titeration: 12 \tstep: 23673 \tforth\n",
        "curve:"
       ]
      },
      {
       "output_type": "stream",
       "stream": "stdout",
       "text": [
        " 1713 \tdomain: 8 \titeration: 13 \tstep: 23674 \tforth\n",
        "curve:"
       ]
      },
      {
       "output_type": "stream",
       "stream": "stdout",
       "text": [
        " 1714 \tdomain: 8 \titeration: 14 \tstep: 23675 \tforth\n",
        "curve:"
       ]
      },
      {
       "output_type": "stream",
       "stream": "stdout",
       "text": [
        " 1715 \tdomain: 8 \titeration: 15 \tstep: 23676 \tforth\n",
        "curve:"
       ]
      },
      {
       "output_type": "stream",
       "stream": "stdout",
       "text": [
        " 1716 \tdomain: 8 \titeration: 16 \tstep: 23677 \tforth\n",
        "curve:"
       ]
      },
      {
       "output_type": "stream",
       "stream": "stdout",
       "text": [
        " 1717 \tdomain: 8 \titeration: 17 \tstep: 23678 \tforth\n",
        "curve:"
       ]
      },
      {
       "output_type": "stream",
       "stream": "stdout",
       "text": [
        " 1718 \tdomain: 8 \titeration: 18 \tstep: 23679 \tforth\n",
        "curve:"
       ]
      },
      {
       "output_type": "stream",
       "stream": "stdout",
       "text": [
        " 1719 \tdomain: 8 \titeration: 19 \tstep: 23680 \tforth\n",
        "curve:"
       ]
      },
      {
       "output_type": "stream",
       "stream": "stdout",
       "text": [
        " 1720 \tdomain: 8 \titeration: 20 \tstep: 23681 \tforth\n",
        "curve:"
       ]
      },
      {
       "output_type": "stream",
       "stream": "stdout",
       "text": [
        " 1721 \tdomain: 8 \titeration: 21 \tstep: 23682 \tforth\n",
        "curve:"
       ]
      },
      {
       "output_type": "stream",
       "stream": "stdout",
       "text": [
        " 1722 \tdomain: 8 \titeration: 22 \tstep: 23683 \tforth\n",
        "curve:"
       ]
      },
      {
       "output_type": "stream",
       "stream": "stdout",
       "text": [
        " 1723 \tdomain: 8 \titeration: 23 \tstep: 23684 \tforth\n",
        "curve:"
       ]
      },
      {
       "output_type": "stream",
       "stream": "stdout",
       "text": [
        " 1724 \tdomain: 8 \titeration: 24 \tstep: 23685 \tforth\n",
        "curve:"
       ]
      },
      {
       "output_type": "stream",
       "stream": "stdout",
       "text": [
        " 1725 \tdomain: 8 \titeration: 25 \tstep: 23686 \tforth\n",
        "curve:"
       ]
      },
      {
       "output_type": "stream",
       "stream": "stdout",
       "text": [
        " 1726 \tdomain: 8 \titeration: 26 \tstep: 23687 \tforth\n",
        "curve:"
       ]
      },
      {
       "output_type": "stream",
       "stream": "stdout",
       "text": [
        " 1727 \tdomain: 8 \titeration: 27 \tstep: 23688 \tforth\n",
        "curve:"
       ]
      },
      {
       "output_type": "stream",
       "stream": "stdout",
       "text": [
        " 1728 \tdomain: 8 \titeration: 28 \tstep: 23689 \tforth\n",
        "curve:"
       ]
      },
      {
       "output_type": "stream",
       "stream": "stdout",
       "text": [
        " 1729 \tdomain: 8 \titeration: 29 \tstep: 23690 \tforth\n",
        "curve:"
       ]
      },
      {
       "output_type": "stream",
       "stream": "stdout",
       "text": [
        " 1730 \tdomain: 8 \titeration: 30 \tstep: 23691 \tforth\n",
        "curve:"
       ]
      },
      {
       "output_type": "stream",
       "stream": "stdout",
       "text": [
        " 1731 \tdomain: 8 \titeration: 31 \tstep: 23692 \tforth\n",
        "curve:"
       ]
      },
      {
       "output_type": "stream",
       "stream": "stdout",
       "text": [
        " 1732 \tdomain: 8 \titeration: 32 \tstep: 23693 \tforth\n",
        "curve:"
       ]
      },
      {
       "output_type": "stream",
       "stream": "stdout",
       "text": [
        " 1733 \tdomain: 8 \titeration: 33 \tstep: 23694 \tforth\n",
        "curve:"
       ]
      },
      {
       "output_type": "stream",
       "stream": "stdout",
       "text": [
        " 1734 \tdomain: 8 \titeration: 34 \tstep: 23695 \tforth\n",
        "curve:"
       ]
      },
      {
       "output_type": "stream",
       "stream": "stdout",
       "text": [
        " 1735 \tdomain: 8 \titeration: 35 \tstep: 23696 \tforth\n",
        "curve:"
       ]
      },
      {
       "output_type": "stream",
       "stream": "stdout",
       "text": [
        " 1736 \tdomain: 8 \titeration: 36 \tstep: 23697 \tforth\n",
        "curve:"
       ]
      },
      {
       "output_type": "stream",
       "stream": "stdout",
       "text": [
        " 1737 \tdomain: 8 \titeration: 37 \tstep: 23698 \tforth\n",
        "curve:"
       ]
      },
      {
       "output_type": "stream",
       "stream": "stdout",
       "text": [
        " 1738 \tdomain: 8 \titeration: 38 \tstep: 23699 \tforth\n",
        "curve:"
       ]
      },
      {
       "output_type": "stream",
       "stream": "stdout",
       "text": [
        " 1739 \tdomain: 8 \titeration: 39 \tstep: 23700 \tforth\n",
        "curve:"
       ]
      },
      {
       "output_type": "stream",
       "stream": "stdout",
       "text": [
        " 1740 \tdomain: 8 \titeration: 40 \tstep: 23701 \tforth\n",
        "curve:"
       ]
      },
      {
       "output_type": "stream",
       "stream": "stdout",
       "text": [
        " 1741 \tdomain: 8 \titeration: 41 \tstep: 23702 \tforth\n",
        "curve:"
       ]
      },
      {
       "output_type": "stream",
       "stream": "stdout",
       "text": [
        " 1742 \tdomain: 8 \titeration: 42 \tstep: 23703 \tforth\n",
        "curve:"
       ]
      },
      {
       "output_type": "stream",
       "stream": "stdout",
       "text": [
        " 1743 \tdomain: 8 \titeration: 43 \tstep: 23704 \tforth\n",
        "curve:"
       ]
      },
      {
       "output_type": "stream",
       "stream": "stdout",
       "text": [
        " 1744 \tdomain: 8 \titeration: 44 \tstep: 23705 \tforth\n",
        "curve:"
       ]
      },
      {
       "output_type": "stream",
       "stream": "stdout",
       "text": [
        " 1745 \tdomain: 8 \titeration: 45 \tstep: 23706 \tforth\n",
        "curve:"
       ]
      },
      {
       "output_type": "stream",
       "stream": "stdout",
       "text": [
        " 1746 \tdomain: 8 \titeration: 46 \tstep: 23707 \tforth\n",
        "curve:"
       ]
      },
      {
       "output_type": "stream",
       "stream": "stdout",
       "text": [
        " 1747 \tdomain: 8 \titeration: 47 \tstep: 23708 \tforth\n",
        "curve:"
       ]
      },
      {
       "output_type": "stream",
       "stream": "stdout",
       "text": [
        " 1748 \tdomain: 8 \titeration: 48 \tstep: 23709 \tforth\n",
        "curve:"
       ]
      },
      {
       "output_type": "stream",
       "stream": "stdout",
       "text": [
        " 1749 \tdomain: 8 \titeration: 49 \tstep: 23710 \tforth\n",
        "curve:"
       ]
      },
      {
       "output_type": "stream",
       "stream": "stdout",
       "text": [
        " 1750 \tdomain: 8 \titeration: 50 \tstep: 23711 \tforth\n",
        "curve:"
       ]
      },
      {
       "output_type": "stream",
       "stream": "stdout",
       "text": [
        " 1751 \tdomain: 8 \titeration: 51 \tstep: 23712 \tforth\n",
        "curve:"
       ]
      },
      {
       "output_type": "stream",
       "stream": "stdout",
       "text": [
        " 1752 \tdomain: 8 \titeration: 52 \tstep: 23713 \tforth\n",
        "curve:"
       ]
      },
      {
       "output_type": "stream",
       "stream": "stdout",
       "text": [
        " 1753 \tdomain: 8 \titeration: 53 \tstep: 23714 \tforth\n",
        "curve:"
       ]
      },
      {
       "output_type": "stream",
       "stream": "stdout",
       "text": [
        " 1754 \tdomain: 8 \titeration: 54 \tstep: 23715 \tforth\n",
        "curve:"
       ]
      },
      {
       "output_type": "stream",
       "stream": "stdout",
       "text": [
        " 1755 \tdomain: 8 \titeration: 55 \tstep: 23716 \tforth\n",
        "curve:"
       ]
      },
      {
       "output_type": "stream",
       "stream": "stdout",
       "text": [
        " 1756 \tdomain: 8 \titeration: 56 \tstep: 23717 \tforth\n",
        "curve:"
       ]
      },
      {
       "output_type": "stream",
       "stream": "stdout",
       "text": [
        " 1757 \tdomain: 8 \titeration: 57 \tstep: 23718 \tforth\n",
        "curve:"
       ]
      },
      {
       "output_type": "stream",
       "stream": "stdout",
       "text": [
        " 1758 \tdomain: 8 \titeration: 58 \tstep: 23719 \tforth\n",
        "curve:"
       ]
      },
      {
       "output_type": "stream",
       "stream": "stdout",
       "text": [
        " 1759 \tdomain: 8 \titeration: 59 \tstep: 23720 \tforth\n",
        "curve:"
       ]
      },
      {
       "output_type": "stream",
       "stream": "stdout",
       "text": [
        " 1760 \tdomain: 8 \titeration: 60 \tstep: 23721 \tforth\n",
        "curve:"
       ]
      },
      {
       "output_type": "stream",
       "stream": "stdout",
       "text": [
        " 1761 \tdomain: 8 \titeration: 61 \tstep: 23722 \tforth\n",
        "curve:"
       ]
      },
      {
       "output_type": "stream",
       "stream": "stdout",
       "text": [
        " 1762 \tdomain: 8 \titeration: 62 \tstep: 23723 \tforth\n",
        "curve:"
       ]
      },
      {
       "output_type": "stream",
       "stream": "stdout",
       "text": [
        " 1763 \tdomain: 8 \titeration: 63 \tstep: 23724 \tforth\n",
        "curve:"
       ]
      },
      {
       "output_type": "stream",
       "stream": "stdout",
       "text": [
        " 1764 \tdomain: 8 \titeration: 64 \tstep: 23725 \tforth\n",
        "curve:"
       ]
      },
      {
       "output_type": "stream",
       "stream": "stdout",
       "text": [
        " 1765 \tdomain: 8 \titeration: 65 \tstep: 23726 \tforth\n",
        "curve:"
       ]
      },
      {
       "output_type": "stream",
       "stream": "stdout",
       "text": [
        " 1766 \tdomain: 8 \titeration: 66 \tstep: 23727 \tforth\n",
        "curve:"
       ]
      },
      {
       "output_type": "stream",
       "stream": "stdout",
       "text": [
        " 1767 \tdomain: 8 \titeration: 67 \tstep: 23728 \tforth\n",
        "curve:"
       ]
      },
      {
       "output_type": "stream",
       "stream": "stdout",
       "text": [
        " 1768 \tdomain: 8 \titeration: 68 \tstep: 23729 \tforth\n",
        "curve:"
       ]
      },
      {
       "output_type": "stream",
       "stream": "stdout",
       "text": [
        " 1769 \tdomain: 8 \titeration: 69 \tstep: 23730 \tforth\n",
        "curve:"
       ]
      },
      {
       "output_type": "stream",
       "stream": "stdout",
       "text": [
        " 1770 \tdomain: 8 \titeration: 70 \tstep: 23731 \tforth\n",
        "curve:"
       ]
      },
      {
       "output_type": "stream",
       "stream": "stdout",
       "text": [
        " 1771 \tdomain: 8 \titeration: 71 \tstep: 23732 \tforth\n",
        "curve:"
       ]
      },
      {
       "output_type": "stream",
       "stream": "stdout",
       "text": [
        " 1772 \tdomain: 8 \titeration: 72 \tstep: 23733 \tforth\n",
        "curve:"
       ]
      },
      {
       "output_type": "stream",
       "stream": "stdout",
       "text": [
        " 1773 \tdomain: 8 \titeration: 73 \tstep: 23734 \tforth\n",
        "curve:"
       ]
      },
      {
       "output_type": "stream",
       "stream": "stdout",
       "text": [
        " 1774 \tdomain: 8 \titeration: 74 \tstep: 23735 \tforth\n",
        "curve:"
       ]
      },
      {
       "output_type": "stream",
       "stream": "stdout",
       "text": [
        " 1775 \tdomain: 8 \titeration: 75 \tstep: 23736 \tforth\n",
        "curve:"
       ]
      },
      {
       "output_type": "stream",
       "stream": "stdout",
       "text": [
        " 1776 \tdomain: 8 \titeration: 76 \tstep: 23737 \tforth\n",
        "curve:"
       ]
      },
      {
       "output_type": "stream",
       "stream": "stdout",
       "text": [
        " 1777 \tdomain: 8 \titeration: 77 \tstep: 23738 \tforth\n",
        "curve:"
       ]
      },
      {
       "output_type": "stream",
       "stream": "stdout",
       "text": [
        " 1778 \tdomain: 8 \titeration: 78 \tstep: 23739 \tforth\n",
        "curve:"
       ]
      },
      {
       "output_type": "stream",
       "stream": "stdout",
       "text": [
        " 1779 \tdomain: 8 \titeration: 79 \tstep: 23740 \tforth\n",
        "curve:"
       ]
      },
      {
       "output_type": "stream",
       "stream": "stdout",
       "text": [
        " 1780 \tdomain: 8 \titeration: 80 \tstep: 23741 \tforth\n",
        "curve:"
       ]
      },
      {
       "output_type": "stream",
       "stream": "stdout",
       "text": [
        " 1781 \tdomain: 8 \titeration: 81 \tstep: 23742 \tforth\n",
        "curve:"
       ]
      },
      {
       "output_type": "stream",
       "stream": "stdout",
       "text": [
        " 1782 \tdomain: 8 \titeration: 82 \tstep: 23743 \tforth\n",
        "curve:"
       ]
      },
      {
       "output_type": "stream",
       "stream": "stdout",
       "text": [
        " 1783 \tdomain: 8 \titeration: 83 \tstep: 23744 \tforth\n",
        "curve:"
       ]
      },
      {
       "output_type": "stream",
       "stream": "stdout",
       "text": [
        " 1784 \tdomain: 8 \titeration: 84 \tstep: 23745 \tforth\n",
        "curve:"
       ]
      },
      {
       "output_type": "stream",
       "stream": "stdout",
       "text": [
        " 1785 \tdomain: 8 \titeration: 85 \tstep: 23746 \tforth\n",
        "curve:"
       ]
      },
      {
       "output_type": "stream",
       "stream": "stdout",
       "text": [
        " 1786 \tdomain: 8 \titeration: 86 \tstep: 23747 \tforth\n",
        "curve:"
       ]
      },
      {
       "output_type": "stream",
       "stream": "stdout",
       "text": [
        " 1787 \tdomain: 8 \titeration: 87 \tstep: 23748 \tforth\n",
        "curve:"
       ]
      },
      {
       "output_type": "stream",
       "stream": "stdout",
       "text": [
        " 1788 \tdomain: 8 \titeration: 88 \tstep: 23749 \tforth\n",
        "curve:"
       ]
      },
      {
       "output_type": "stream",
       "stream": "stdout",
       "text": [
        " 1789 \tdomain: 8 \titeration: 89 \tstep: 23750 \tforth\n",
        "curve:"
       ]
      },
      {
       "output_type": "stream",
       "stream": "stdout",
       "text": [
        " 1790 \tdomain: 8 \titeration: 90 \tstep: 23751 \tforth\n",
        "curve:"
       ]
      },
      {
       "output_type": "stream",
       "stream": "stdout",
       "text": [
        " 1791 \tdomain: 8 \titeration: 91 \tstep: 23752 \tforth\n",
        "curve:"
       ]
      },
      {
       "output_type": "stream",
       "stream": "stdout",
       "text": [
        " 1792 \tdomain: 8 \titeration: 92 \tstep: 23753 \tforth\n",
        "curve:"
       ]
      },
      {
       "output_type": "stream",
       "stream": "stdout",
       "text": [
        " 1793 \tdomain: 8 \titeration: 93 \tstep: 23754 \tforth\n",
        "curve:"
       ]
      },
      {
       "output_type": "stream",
       "stream": "stdout",
       "text": [
        " 1794 \tdomain: 8 \titeration: 94 \tstep: 23755 \tforth\n",
        "curve:"
       ]
      },
      {
       "output_type": "stream",
       "stream": "stdout",
       "text": [
        " 1795 \tdomain: 8 \titeration: 95 \tstep: 23756 \tforth\n",
        "curve:"
       ]
      },
      {
       "output_type": "stream",
       "stream": "stdout",
       "text": [
        " 1796 \tdomain: 8 \titeration: 96 \tstep: 23757 \tforth\n",
        "curve:"
       ]
      },
      {
       "output_type": "stream",
       "stream": "stdout",
       "text": [
        " 1797 \tdomain: 8 \titeration: 97 \tstep: 23758 \tforth\n",
        "curve:"
       ]
      },
      {
       "output_type": "stream",
       "stream": "stdout",
       "text": [
        " 1798 \tdomain: 8 \titeration: 98 \tstep: 23759 \tforth\n",
        "curve:"
       ]
      },
      {
       "output_type": "stream",
       "stream": "stdout",
       "text": [
        " 1799 \tdomain: 8 \titeration: 99 \tstep: 23760 \tforth\n",
        "curve:"
       ]
      },
      {
       "output_type": "stream",
       "stream": "stdout",
       "text": [
        " 1800 \tdomain: 9 \titeration: 0 \tstep: 23660 \tback\n",
        "curve:"
       ]
      },
      {
       "output_type": "stream",
       "stream": "stdout",
       "text": [
        " 1801 \tdomain: 9 \titeration: 1 \tstep: 23659 \tback\n",
        "curve:"
       ]
      },
      {
       "output_type": "stream",
       "stream": "stdout",
       "text": [
        " 1802 \tdomain: 9 \titeration: 2 \tstep: 23658 \tback\n",
        "curve:"
       ]
      },
      {
       "output_type": "stream",
       "stream": "stdout",
       "text": [
        " 1803 \tdomain: 9 \titeration: 3 \tstep: 23657 \tback\n",
        "curve:"
       ]
      },
      {
       "output_type": "stream",
       "stream": "stdout",
       "text": [
        " 1804 \tdomain: 9 \titeration: 4 \tstep: 23656 \tback\n",
        "curve:"
       ]
      },
      {
       "output_type": "stream",
       "stream": "stdout",
       "text": [
        " 1805 \tdomain: 9 \titeration: 5 \tstep: 23655 \tback\n",
        "curve:"
       ]
      },
      {
       "output_type": "stream",
       "stream": "stdout",
       "text": [
        " 1806 \tdomain: 9 \titeration: 6 \tstep: 23654 \tback\n",
        "curve:"
       ]
      },
      {
       "output_type": "stream",
       "stream": "stdout",
       "text": [
        " 1807 \tdomain: 9 \titeration: 7 \tstep: 23653 \tback\n",
        "curve:"
       ]
      },
      {
       "output_type": "stream",
       "stream": "stdout",
       "text": [
        " 1808 \tdomain: 9 \titeration: 8 \tstep: 23652 \tback\n",
        "curve:"
       ]
      },
      {
       "output_type": "stream",
       "stream": "stdout",
       "text": [
        " 1809 \tdomain: 9 \titeration: 9 \tstep: 23651 \tback\n",
        "curve:"
       ]
      },
      {
       "output_type": "stream",
       "stream": "stdout",
       "text": [
        " 1810 \tdomain: 9 \titeration: 10 \tstep: 23650 \tback\n",
        "curve:"
       ]
      },
      {
       "output_type": "stream",
       "stream": "stdout",
       "text": [
        " 1811 \tdomain: 9 \titeration: 11 \tstep: 23649 \tback\n",
        "curve:"
       ]
      },
      {
       "output_type": "stream",
       "stream": "stdout",
       "text": [
        " 1812 \tdomain: 9 \titeration: 12 \tstep: 23648 \tback\n",
        "curve:"
       ]
      },
      {
       "output_type": "stream",
       "stream": "stdout",
       "text": [
        " 1813 \tdomain: 9 \titeration: 13 \tstep: 23647 \tback\n",
        "curve:"
       ]
      },
      {
       "output_type": "stream",
       "stream": "stdout",
       "text": [
        " 1814 \tdomain: 9 \titeration: 14 \tstep: 23646 \tback\n",
        "curve:"
       ]
      },
      {
       "output_type": "stream",
       "stream": "stdout",
       "text": [
        " 1815 \tdomain: 9 \titeration: 15 \tstep: 23645 \tback\n",
        "curve:"
       ]
      },
      {
       "output_type": "stream",
       "stream": "stdout",
       "text": [
        " 1816 \tdomain: 9 \titeration: 16 \tstep: 23644 \tback\n",
        "curve:"
       ]
      },
      {
       "output_type": "stream",
       "stream": "stdout",
       "text": [
        " 1817 \tdomain: 9 \titeration: 17 \tstep: 23643 \tback\n",
        "curve:"
       ]
      },
      {
       "output_type": "stream",
       "stream": "stdout",
       "text": [
        " 1818 \tdomain: 9 \titeration: 18 \tstep: 23642 \tback\n",
        "curve:"
       ]
      },
      {
       "output_type": "stream",
       "stream": "stdout",
       "text": [
        " 1819 \tdomain: 9 \titeration: 19 \tstep: 23641 \tback\n",
        "curve:"
       ]
      },
      {
       "output_type": "stream",
       "stream": "stdout",
       "text": [
        " 1820 \tdomain: 9 \titeration: 20 \tstep: 23640 \tback\n",
        "curve:"
       ]
      },
      {
       "output_type": "stream",
       "stream": "stdout",
       "text": [
        " 1821 \tdomain: 9 \titeration: 21 \tstep: 23639 \tback\n",
        "curve:"
       ]
      },
      {
       "output_type": "stream",
       "stream": "stdout",
       "text": [
        " 1822 \tdomain: 9 \titeration: 22 \tstep: 23638 \tback\n",
        "curve:"
       ]
      },
      {
       "output_type": "stream",
       "stream": "stdout",
       "text": [
        " 1823 \tdomain: 9 \titeration: 23 \tstep: 23637 \tback\n",
        "curve:"
       ]
      },
      {
       "output_type": "stream",
       "stream": "stdout",
       "text": [
        " 1824 \tdomain: 9 \titeration: 24 \tstep: 23636 \tback\n",
        "curve:"
       ]
      },
      {
       "output_type": "stream",
       "stream": "stdout",
       "text": [
        " 1825 \tdomain: 9 \titeration: 25 \tstep: 23635 \tback\n",
        "curve:"
       ]
      },
      {
       "output_type": "stream",
       "stream": "stdout",
       "text": [
        " 1826 \tdomain: 9 \titeration: 26 \tstep: 23634 \tback\n",
        "curve:"
       ]
      },
      {
       "output_type": "stream",
       "stream": "stdout",
       "text": [
        " 1827 \tdomain: 9 \titeration: 27 \tstep: 23633 \tback\n",
        "curve:"
       ]
      },
      {
       "output_type": "stream",
       "stream": "stdout",
       "text": [
        " 1828 \tdomain: 9 \titeration: 28 \tstep: 23632 \tback\n",
        "curve:"
       ]
      },
      {
       "output_type": "stream",
       "stream": "stdout",
       "text": [
        " 1829 \tdomain: 9 \titeration: 29 \tstep: 23631 \tback\n",
        "curve:"
       ]
      },
      {
       "output_type": "stream",
       "stream": "stdout",
       "text": [
        " 1830 \tdomain: 9 \titeration: 30 \tstep: 23630 \tback\n",
        "curve:"
       ]
      },
      {
       "output_type": "stream",
       "stream": "stdout",
       "text": [
        " 1831 \tdomain: 9 \titeration: 31 \tstep: 23629 \tback\n",
        "curve:"
       ]
      },
      {
       "output_type": "stream",
       "stream": "stdout",
       "text": [
        " 1832 \tdomain: 9 \titeration: 32 \tstep: 23628 \tback\n",
        "curve:"
       ]
      },
      {
       "output_type": "stream",
       "stream": "stdout",
       "text": [
        " 1833 \tdomain: 9 \titeration: 33 \tstep: 23627 \tback\n",
        "curve:"
       ]
      },
      {
       "output_type": "stream",
       "stream": "stdout",
       "text": [
        " 1834 \tdomain: 9 \titeration: 34 \tstep: 23626 \tback\n",
        "curve:"
       ]
      },
      {
       "output_type": "stream",
       "stream": "stdout",
       "text": [
        " 1835 \tdomain: 9 \titeration: 35 \tstep: 23625 \tback\n",
        "curve:"
       ]
      },
      {
       "output_type": "stream",
       "stream": "stdout",
       "text": [
        " 1836 \tdomain: 9 \titeration: 36 \tstep: 23624 \tback\n",
        "curve:"
       ]
      },
      {
       "output_type": "stream",
       "stream": "stdout",
       "text": [
        " 1837 \tdomain: 9 \titeration: 37 \tstep: 23623 \tback\n",
        "curve:"
       ]
      },
      {
       "output_type": "stream",
       "stream": "stdout",
       "text": [
        " 1838 \tdomain: 9 \titeration: 38 \tstep: 23622 \tback\n",
        "curve:"
       ]
      },
      {
       "output_type": "stream",
       "stream": "stdout",
       "text": [
        " 1839 \tdomain: 9 \titeration: 39 \tstep: 23621 \tback\n",
        "curve:"
       ]
      },
      {
       "output_type": "stream",
       "stream": "stdout",
       "text": [
        " 1840 \tdomain: 9 \titeration: 40 \tstep: 23620 \tback\n",
        "curve:"
       ]
      },
      {
       "output_type": "stream",
       "stream": "stdout",
       "text": [
        " 1841 \tdomain: 9 \titeration: 41 \tstep: 23619 \tback\n",
        "curve:"
       ]
      },
      {
       "output_type": "stream",
       "stream": "stdout",
       "text": [
        " 1842 \tdomain: 9 \titeration: 42 \tstep: 23618 \tback\n",
        "curve:"
       ]
      },
      {
       "output_type": "stream",
       "stream": "stdout",
       "text": [
        " 1843 \tdomain: 9 \titeration: 43 \tstep: 23617 \tback\n",
        "curve:"
       ]
      },
      {
       "output_type": "stream",
       "stream": "stdout",
       "text": [
        " 1844 \tdomain: 9 \titeration: 44 \tstep: 23616 \tback\n",
        "curve:"
       ]
      },
      {
       "output_type": "stream",
       "stream": "stdout",
       "text": [
        " 1845 \tdomain: 9 \titeration: 45 \tstep: 23615 \tback\n",
        "curve:"
       ]
      },
      {
       "output_type": "stream",
       "stream": "stdout",
       "text": [
        " 1846 \tdomain: 9 \titeration: 46 \tstep: 23614 \tback\n",
        "curve:"
       ]
      },
      {
       "output_type": "stream",
       "stream": "stdout",
       "text": [
        " 1847 \tdomain: 9 \titeration: 47 \tstep: 23613 \tback\n",
        "curve:"
       ]
      },
      {
       "output_type": "stream",
       "stream": "stdout",
       "text": [
        " 1848 \tdomain: 9 \titeration: 48 \tstep: 23612 \tback\n",
        "curve:"
       ]
      },
      {
       "output_type": "stream",
       "stream": "stdout",
       "text": [
        " 1849 \tdomain: 9 \titeration: 49 \tstep: 23611 \tback\n",
        "curve:"
       ]
      },
      {
       "output_type": "stream",
       "stream": "stdout",
       "text": [
        " 1850 \tdomain: 9 \titeration: 50 \tstep: 23610 \tback\n",
        "curve:"
       ]
      },
      {
       "output_type": "stream",
       "stream": "stdout",
       "text": [
        " 1851 \tdomain: 9 \titeration: 51 \tstep: 23609 \tback\n",
        "curve:"
       ]
      },
      {
       "output_type": "stream",
       "stream": "stdout",
       "text": [
        " 1852 \tdomain: 9 \titeration: 52 \tstep: 23608 \tback\n",
        "curve:"
       ]
      },
      {
       "output_type": "stream",
       "stream": "stdout",
       "text": [
        " 1853 \tdomain: 9 \titeration: 53 \tstep: 23607 \tback\n",
        "curve:"
       ]
      },
      {
       "output_type": "stream",
       "stream": "stdout",
       "text": [
        " 1854 \tdomain: 9 \titeration: 54 \tstep: 23606 \tback\n",
        "curve:"
       ]
      },
      {
       "output_type": "stream",
       "stream": "stdout",
       "text": [
        " 1855 \tdomain: 9 \titeration: 55 \tstep: 23605 \tback\n",
        "curve:"
       ]
      },
      {
       "output_type": "stream",
       "stream": "stdout",
       "text": [
        " 1856 \tdomain: 9 \titeration: 56 \tstep: 23604 \tback\n",
        "curve:"
       ]
      },
      {
       "output_type": "stream",
       "stream": "stdout",
       "text": [
        " 1857 \tdomain: 9 \titeration: 57 \tstep: 23603 \tback\n",
        "curve:"
       ]
      },
      {
       "output_type": "stream",
       "stream": "stdout",
       "text": [
        " 1858 \tdomain: 9 \titeration: 58 \tstep: 23602 \tback\n",
        "curve:"
       ]
      },
      {
       "output_type": "stream",
       "stream": "stdout",
       "text": [
        " 1859 \tdomain: 9 \titeration: 59 \tstep: 23601 \tback\n",
        "curve:"
       ]
      },
      {
       "output_type": "stream",
       "stream": "stdout",
       "text": [
        " 1860 \tdomain: 9 \titeration: 60 \tstep: 23600 \tback\n",
        "curve:"
       ]
      },
      {
       "output_type": "stream",
       "stream": "stdout",
       "text": [
        " 1861 \tdomain: 9 \titeration: 61 \tstep: 23599 \tback\n",
        "curve:"
       ]
      },
      {
       "output_type": "stream",
       "stream": "stdout",
       "text": [
        " 1862 \tdomain: 9 \titeration: 62 \tstep: 23598 \tback\n",
        "curve:"
       ]
      },
      {
       "output_type": "stream",
       "stream": "stdout",
       "text": [
        " 1863 \tdomain: 9 \titeration: 63 \tstep: 23597 \tback\n",
        "curve:"
       ]
      },
      {
       "output_type": "stream",
       "stream": "stdout",
       "text": [
        " 1864 \tdomain: 9 \titeration: 64 \tstep: 23596 \tback\n",
        "curve:"
       ]
      },
      {
       "output_type": "stream",
       "stream": "stdout",
       "text": [
        " 1865 \tdomain: 9 \titeration: 65 \tstep: 23595 \tback\n",
        "curve:"
       ]
      },
      {
       "output_type": "stream",
       "stream": "stdout",
       "text": [
        " 1866 \tdomain: 9 \titeration: 66 \tstep: 23594 \tback\n",
        "curve:"
       ]
      },
      {
       "output_type": "stream",
       "stream": "stdout",
       "text": [
        " 1867 \tdomain: 9 \titeration: 67 \tstep: 23593 \tback\n",
        "curve:"
       ]
      },
      {
       "output_type": "stream",
       "stream": "stdout",
       "text": [
        " 1868 \tdomain: 9 \titeration: 68 \tstep: 23592 \tback\n",
        "curve:"
       ]
      },
      {
       "output_type": "stream",
       "stream": "stdout",
       "text": [
        " 1869 \tdomain: 9 \titeration: 69 \tstep: 23591 \tback\n",
        "curve:"
       ]
      },
      {
       "output_type": "stream",
       "stream": "stdout",
       "text": [
        " 1870 \tdomain: 9 \titeration: 70 \tstep: 23590 \tback\n",
        "curve:"
       ]
      },
      {
       "output_type": "stream",
       "stream": "stdout",
       "text": [
        " 1871 \tdomain: 9 \titeration: 71 \tstep: 23589 \tback\n",
        "curve:"
       ]
      },
      {
       "output_type": "stream",
       "stream": "stdout",
       "text": [
        " 1872 \tdomain: 9 \titeration: 72 \tstep: 23588 \tback\n",
        "curve:"
       ]
      },
      {
       "output_type": "stream",
       "stream": "stdout",
       "text": [
        " 1873 \tdomain: 9 \titeration: 73 \tstep: 23587 \tback\n",
        "curve:"
       ]
      },
      {
       "output_type": "stream",
       "stream": "stdout",
       "text": [
        " 1874 \tdomain: 9 \titeration: 74 \tstep: 23586 \tback\n",
        "curve:"
       ]
      },
      {
       "output_type": "stream",
       "stream": "stdout",
       "text": [
        " 1875 \tdomain: 9 \titeration: 75 \tstep: 23585 \tback\n",
        "curve:"
       ]
      },
      {
       "output_type": "stream",
       "stream": "stdout",
       "text": [
        " 1876 \tdomain: 9 \titeration: 76 \tstep: 23584 \tback\n",
        "curve:"
       ]
      },
      {
       "output_type": "stream",
       "stream": "stdout",
       "text": [
        " 1877 \tdomain: 9 \titeration: 77 \tstep: 23583 \tback\n",
        "curve:"
       ]
      },
      {
       "output_type": "stream",
       "stream": "stdout",
       "text": [
        " 1878 \tdomain: 9 \titeration: 78 \tstep: 23582 \tback\n",
        "curve:"
       ]
      },
      {
       "output_type": "stream",
       "stream": "stdout",
       "text": [
        " 1879 \tdomain: 9 \titeration: 79 \tstep: 23581 \tback\n",
        "curve:"
       ]
      },
      {
       "output_type": "stream",
       "stream": "stdout",
       "text": [
        " 1880 \tdomain: 9 \titeration: 80 \tstep: 23580 \tback\n",
        "curve:"
       ]
      },
      {
       "output_type": "stream",
       "stream": "stdout",
       "text": [
        " 1881 \tdomain: 9 \titeration: 81 \tstep: 23579 \tback\n",
        "curve:"
       ]
      },
      {
       "output_type": "stream",
       "stream": "stdout",
       "text": [
        " 1882 \tdomain: 9 \titeration: 82 \tstep: 23578 \tback\n",
        "curve:"
       ]
      },
      {
       "output_type": "stream",
       "stream": "stdout",
       "text": [
        " 1883 \tdomain: 9 \titeration: 83 \tstep: 23577 \tback\n",
        "curve:"
       ]
      },
      {
       "output_type": "stream",
       "stream": "stdout",
       "text": [
        " 1884 \tdomain: 9 \titeration: 84 \tstep: 23576 \tback\n",
        "curve:"
       ]
      },
      {
       "output_type": "stream",
       "stream": "stdout",
       "text": [
        " 1885 \tdomain: 9 \titeration: 85 \tstep: 23575 \tback\n",
        "curve:"
       ]
      },
      {
       "output_type": "stream",
       "stream": "stdout",
       "text": [
        " 1886 \tdomain: 9 \titeration: 86 \tstep: 23574 \tback\n",
        "curve:"
       ]
      },
      {
       "output_type": "stream",
       "stream": "stdout",
       "text": [
        " 1887 \tdomain: 9 \titeration: 87 \tstep: 23573 \tback\n",
        "curve:"
       ]
      },
      {
       "output_type": "stream",
       "stream": "stdout",
       "text": [
        " 1888 \tdomain: 9 \titeration: 88 \tstep: 23572 \tback\n",
        "curve:"
       ]
      },
      {
       "output_type": "stream",
       "stream": "stdout",
       "text": [
        " 1889 \tdomain: 9 \titeration: 89 \tstep: 23571 \tback\n",
        "curve:"
       ]
      },
      {
       "output_type": "stream",
       "stream": "stdout",
       "text": [
        " 1890 \tdomain: 9 \titeration: 90 \tstep: 23570 \tback\n",
        "curve:"
       ]
      },
      {
       "output_type": "stream",
       "stream": "stdout",
       "text": [
        " 1891 \tdomain: 9 \titeration: 91 \tstep: 23569 \tback\n",
        "curve:"
       ]
      },
      {
       "output_type": "stream",
       "stream": "stdout",
       "text": [
        " 1892 \tdomain: 9 \titeration: 92 \tstep: 23568 \tback\n",
        "curve:"
       ]
      },
      {
       "output_type": "stream",
       "stream": "stdout",
       "text": [
        " 1893 \tdomain: 9 \titeration: 93 \tstep: 23567 \tback\n",
        "curve:"
       ]
      },
      {
       "output_type": "stream",
       "stream": "stdout",
       "text": [
        " 1894 \tdomain: 9 \titeration: 94 \tstep: 23566 \tback\n",
        "curve:"
       ]
      },
      {
       "output_type": "stream",
       "stream": "stdout",
       "text": [
        " 1895 \tdomain: 9 \titeration: 95 \tstep: 23565 \tback\n",
        "curve:"
       ]
      },
      {
       "output_type": "stream",
       "stream": "stdout",
       "text": [
        " 1896 \tdomain: 9 \titeration: 96 \tstep: 23564 \tback\n",
        "curve:"
       ]
      },
      {
       "output_type": "stream",
       "stream": "stdout",
       "text": [
        " 1897 \tdomain: 9 \titeration: 97 \tstep: 23563 \tback\n",
        "curve:"
       ]
      },
      {
       "output_type": "stream",
       "stream": "stdout",
       "text": [
        " 1898 \tdomain: 9 \titeration: 98 \tstep: 23562 \tback\n",
        "curve:"
       ]
      },
      {
       "output_type": "stream",
       "stream": "stdout",
       "text": [
        " 1899 \tdomain: 9 \titeration: 99 \tstep: 23561 \tback\n",
        "curve:"
       ]
      },
      {
       "output_type": "stream",
       "stream": "stdout",
       "text": [
        " 1900 \tdomain: 9 \titeration: 0 \tstep: 23561 \tforth\n",
        "curve:"
       ]
      },
      {
       "output_type": "stream",
       "stream": "stdout",
       "text": [
        " 1901 \tdomain: 9 \titeration: 1 \tstep: 23562 \tforth\n",
        "curve:"
       ]
      },
      {
       "output_type": "stream",
       "stream": "stdout",
       "text": [
        " 1902 \tdomain: 9 \titeration: 2 \tstep: 23563 \tforth\n",
        "curve:"
       ]
      },
      {
       "output_type": "stream",
       "stream": "stdout",
       "text": [
        " 1903 \tdomain: 9 \titeration: 3 \tstep: 23564 \tforth\n",
        "curve:"
       ]
      },
      {
       "output_type": "stream",
       "stream": "stdout",
       "text": [
        " 1904 \tdomain: 9 \titeration: 4 \tstep: 23565 \tforth\n",
        "curve:"
       ]
      },
      {
       "output_type": "stream",
       "stream": "stdout",
       "text": [
        " 1905 \tdomain: 9 \titeration: 5 \tstep: 23566 \tforth\n",
        "curve:"
       ]
      },
      {
       "output_type": "stream",
       "stream": "stdout",
       "text": [
        " 1906 \tdomain: 9 \titeration: 6 \tstep: 23567 \tforth\n",
        "curve:"
       ]
      },
      {
       "output_type": "stream",
       "stream": "stdout",
       "text": [
        " 1907 \tdomain: 9 \titeration: 7 \tstep: 23568 \tforth\n",
        "curve:"
       ]
      },
      {
       "output_type": "stream",
       "stream": "stdout",
       "text": [
        " 1908 \tdomain: 9 \titeration: 8 \tstep: 23569 \tforth\n",
        "curve:"
       ]
      },
      {
       "output_type": "stream",
       "stream": "stdout",
       "text": [
        " 1909 \tdomain: 9 \titeration: 9 \tstep: 23570 \tforth\n",
        "curve:"
       ]
      },
      {
       "output_type": "stream",
       "stream": "stdout",
       "text": [
        " 1910 \tdomain: 9 \titeration: 10 \tstep: 23571 \tforth\n",
        "curve:"
       ]
      },
      {
       "output_type": "stream",
       "stream": "stdout",
       "text": [
        " 1911 \tdomain: 9 \titeration: 11 \tstep: 23572 \tforth\n",
        "curve:"
       ]
      },
      {
       "output_type": "stream",
       "stream": "stdout",
       "text": [
        " 1912 \tdomain: 9 \titeration: 12 \tstep: 23573 \tforth\n",
        "curve:"
       ]
      },
      {
       "output_type": "stream",
       "stream": "stdout",
       "text": [
        " 1913 \tdomain: 9 \titeration: 13 \tstep: 23574 \tforth\n",
        "curve:"
       ]
      },
      {
       "output_type": "stream",
       "stream": "stdout",
       "text": [
        " 1914 \tdomain: 9 \titeration: 14 \tstep: 23575 \tforth\n",
        "curve:"
       ]
      },
      {
       "output_type": "stream",
       "stream": "stdout",
       "text": [
        " 1915 \tdomain: 9 \titeration: 15 \tstep: 23576 \tforth\n",
        "curve:"
       ]
      },
      {
       "output_type": "stream",
       "stream": "stdout",
       "text": [
        " 1916 \tdomain: 9 \titeration: 16 \tstep: 23577 \tforth\n",
        "curve:"
       ]
      },
      {
       "output_type": "stream",
       "stream": "stdout",
       "text": [
        " 1917 \tdomain: 9 \titeration: 17 \tstep: 23578 \tforth\n",
        "curve:"
       ]
      },
      {
       "output_type": "stream",
       "stream": "stdout",
       "text": [
        " 1918 \tdomain: 9 \titeration: 18 \tstep: 23579 \tforth\n",
        "curve:"
       ]
      },
      {
       "output_type": "stream",
       "stream": "stdout",
       "text": [
        " 1919 \tdomain: 9 \titeration: 19 \tstep: 23580 \tforth\n",
        "curve:"
       ]
      },
      {
       "output_type": "stream",
       "stream": "stdout",
       "text": [
        " 1920 \tdomain: 9 \titeration: 20 \tstep: 23581 \tforth\n",
        "curve:"
       ]
      },
      {
       "output_type": "stream",
       "stream": "stdout",
       "text": [
        " 1921 \tdomain: 9 \titeration: 21 \tstep: 23582 \tforth\n",
        "curve:"
       ]
      },
      {
       "output_type": "stream",
       "stream": "stdout",
       "text": [
        " 1922 \tdomain: 9 \titeration: 22 \tstep: 23583 \tforth\n",
        "curve:"
       ]
      },
      {
       "output_type": "stream",
       "stream": "stdout",
       "text": [
        " 1923 \tdomain: 9 \titeration: 23 \tstep: 23584 \tforth\n",
        "curve:"
       ]
      },
      {
       "output_type": "stream",
       "stream": "stdout",
       "text": [
        " 1924 \tdomain: 9 \titeration: 24 \tstep: 23585 \tforth\n",
        "curve:"
       ]
      },
      {
       "output_type": "stream",
       "stream": "stdout",
       "text": [
        " 1925 \tdomain: 9 \titeration: 25 \tstep: 23586 \tforth\n",
        "curve:"
       ]
      },
      {
       "output_type": "stream",
       "stream": "stdout",
       "text": [
        " 1926 \tdomain: 9 \titeration: 26 \tstep: 23587 \tforth\n",
        "curve:"
       ]
      },
      {
       "output_type": "stream",
       "stream": "stdout",
       "text": [
        " 1927 \tdomain: 9 \titeration: 27 \tstep: 23588 \tforth\n",
        "curve:"
       ]
      },
      {
       "output_type": "stream",
       "stream": "stdout",
       "text": [
        " 1928 \tdomain: 9 \titeration: 28 \tstep: 23589 \tforth\n",
        "curve:"
       ]
      },
      {
       "output_type": "stream",
       "stream": "stdout",
       "text": [
        " 1929 \tdomain: 9 \titeration: 29 \tstep: 23590 \tforth\n",
        "curve:"
       ]
      },
      {
       "output_type": "stream",
       "stream": "stdout",
       "text": [
        " 1930 \tdomain: 9 \titeration: 30 \tstep: 23591 \tforth\n",
        "curve:"
       ]
      },
      {
       "output_type": "stream",
       "stream": "stdout",
       "text": [
        " 1931 \tdomain: 9 \titeration: 31 \tstep: 23592 \tforth\n",
        "curve:"
       ]
      },
      {
       "output_type": "stream",
       "stream": "stdout",
       "text": [
        " 1932 \tdomain: 9 \titeration: 32 \tstep: 23593 \tforth\n",
        "curve:"
       ]
      },
      {
       "output_type": "stream",
       "stream": "stdout",
       "text": [
        " 1933 \tdomain: 9 \titeration: 33 \tstep: 23594 \tforth\n",
        "curve:"
       ]
      },
      {
       "output_type": "stream",
       "stream": "stdout",
       "text": [
        " 1934 \tdomain: 9 \titeration: 34 \tstep: 23595 \tforth\n",
        "curve:"
       ]
      },
      {
       "output_type": "stream",
       "stream": "stdout",
       "text": [
        " 1935 \tdomain: 9 \titeration: 35 \tstep: 23596 \tforth\n",
        "curve:"
       ]
      },
      {
       "output_type": "stream",
       "stream": "stdout",
       "text": [
        " 1936 \tdomain: 9 \titeration: 36 \tstep: 23597 \tforth\n",
        "curve:"
       ]
      },
      {
       "output_type": "stream",
       "stream": "stdout",
       "text": [
        " 1937 \tdomain: 9 \titeration: 37 \tstep: 23598 \tforth\n",
        "curve:"
       ]
      },
      {
       "output_type": "stream",
       "stream": "stdout",
       "text": [
        " 1938 \tdomain: 9 \titeration: 38 \tstep: 23599 \tforth\n",
        "curve:"
       ]
      },
      {
       "output_type": "stream",
       "stream": "stdout",
       "text": [
        " 1939 \tdomain: 9 \titeration: 39 \tstep: 23600 \tforth\n",
        "curve:"
       ]
      },
      {
       "output_type": "stream",
       "stream": "stdout",
       "text": [
        " 1940 \tdomain: 9 \titeration: 40 \tstep: 23601 \tforth\n",
        "curve:"
       ]
      },
      {
       "output_type": "stream",
       "stream": "stdout",
       "text": [
        " 1941 \tdomain: 9 \titeration: 41 \tstep: 23602 \tforth\n",
        "curve:"
       ]
      },
      {
       "output_type": "stream",
       "stream": "stdout",
       "text": [
        " 1942 \tdomain: 9 \titeration: 42 \tstep: 23603 \tforth\n",
        "curve:"
       ]
      },
      {
       "output_type": "stream",
       "stream": "stdout",
       "text": [
        " 1943 \tdomain: 9 \titeration: 43 \tstep: 23604 \tforth\n",
        "curve:"
       ]
      },
      {
       "output_type": "stream",
       "stream": "stdout",
       "text": [
        " 1944 \tdomain: 9 \titeration: 44 \tstep: 23605 \tforth\n",
        "curve:"
       ]
      },
      {
       "output_type": "stream",
       "stream": "stdout",
       "text": [
        " 1945 \tdomain: 9 \titeration: 45 \tstep: 23606 \tforth\n",
        "curve:"
       ]
      },
      {
       "output_type": "stream",
       "stream": "stdout",
       "text": [
        " 1946 \tdomain: 9 \titeration: 46 \tstep: 23607 \tforth\n",
        "curve:"
       ]
      },
      {
       "output_type": "stream",
       "stream": "stdout",
       "text": [
        " 1947 \tdomain: 9 \titeration: 47 \tstep: 23608 \tforth\n",
        "curve:"
       ]
      },
      {
       "output_type": "stream",
       "stream": "stdout",
       "text": [
        " 1948 \tdomain: 9 \titeration: 48 \tstep: 23609 \tforth\n",
        "curve:"
       ]
      },
      {
       "output_type": "stream",
       "stream": "stdout",
       "text": [
        " 1949 \tdomain: 9 \titeration: 49 \tstep: 23610 \tforth\n",
        "curve:"
       ]
      },
      {
       "output_type": "stream",
       "stream": "stdout",
       "text": [
        " 1950 \tdomain: 9 \titeration: 50 \tstep: 23611 \tforth\n",
        "curve:"
       ]
      },
      {
       "output_type": "stream",
       "stream": "stdout",
       "text": [
        " 1951 \tdomain: 9 \titeration: 51 \tstep: 23612 \tforth\n",
        "curve:"
       ]
      },
      {
       "output_type": "stream",
       "stream": "stdout",
       "text": [
        " 1952 \tdomain: 9 \titeration: 52 \tstep: 23613 \tforth\n",
        "curve:"
       ]
      },
      {
       "output_type": "stream",
       "stream": "stdout",
       "text": [
        " 1953 \tdomain: 9 \titeration: 53 \tstep: 23614 \tforth\n",
        "curve:"
       ]
      },
      {
       "output_type": "stream",
       "stream": "stdout",
       "text": [
        " 1954 \tdomain: 9 \titeration: 54 \tstep: 23615 \tforth\n",
        "curve:"
       ]
      },
      {
       "output_type": "stream",
       "stream": "stdout",
       "text": [
        " 1955 \tdomain: 9 \titeration: 55 \tstep: 23616 \tforth\n",
        "curve:"
       ]
      },
      {
       "output_type": "stream",
       "stream": "stdout",
       "text": [
        " 1956 \tdomain: 9 \titeration: 56 \tstep: 23617 \tforth\n",
        "curve:"
       ]
      },
      {
       "output_type": "stream",
       "stream": "stdout",
       "text": [
        " 1957 \tdomain: 9 \titeration: 57 \tstep: 23618 \tforth\n",
        "curve:"
       ]
      },
      {
       "output_type": "stream",
       "stream": "stdout",
       "text": [
        " 1958 \tdomain: 9 \titeration: 58 \tstep: 23619 \tforth\n",
        "curve:"
       ]
      },
      {
       "output_type": "stream",
       "stream": "stdout",
       "text": [
        " 1959 \tdomain: 9 \titeration: 59 \tstep: 23620 \tforth\n",
        "curve:"
       ]
      },
      {
       "output_type": "stream",
       "stream": "stdout",
       "text": [
        " 1960 \tdomain: 9 \titeration: 60 \tstep: 23621 \tforth\n",
        "curve:"
       ]
      },
      {
       "output_type": "stream",
       "stream": "stdout",
       "text": [
        " 1961 \tdomain: 9 \titeration: 61 \tstep: 23622 \tforth\n",
        "curve:"
       ]
      },
      {
       "output_type": "stream",
       "stream": "stdout",
       "text": [
        " 1962 \tdomain: 9 \titeration: 62 \tstep: 23623 \tforth\n",
        "curve:"
       ]
      },
      {
       "output_type": "stream",
       "stream": "stdout",
       "text": [
        " 1963 \tdomain: 9 \titeration: 63 \tstep: 23624 \tforth\n",
        "curve:"
       ]
      },
      {
       "output_type": "stream",
       "stream": "stdout",
       "text": [
        " 1964 \tdomain: 9 \titeration: 64 \tstep: 23625 \tforth\n",
        "curve:"
       ]
      },
      {
       "output_type": "stream",
       "stream": "stdout",
       "text": [
        " 1965 \tdomain: 9 \titeration: 65 \tstep: 23626 \tforth\n",
        "curve:"
       ]
      },
      {
       "output_type": "stream",
       "stream": "stdout",
       "text": [
        " 1966 \tdomain: 9 \titeration: 66 \tstep: 23627 \tforth\n",
        "curve:"
       ]
      },
      {
       "output_type": "stream",
       "stream": "stdout",
       "text": [
        " 1967 \tdomain: 9 \titeration: 67 \tstep: 23628 \tforth\n",
        "curve:"
       ]
      },
      {
       "output_type": "stream",
       "stream": "stdout",
       "text": [
        " 1968 \tdomain: 9 \titeration: 68 \tstep: 23629 \tforth\n",
        "curve:"
       ]
      },
      {
       "output_type": "stream",
       "stream": "stdout",
       "text": [
        " 1969 \tdomain: 9 \titeration: 69 \tstep: 23630 \tforth\n",
        "curve:"
       ]
      },
      {
       "output_type": "stream",
       "stream": "stdout",
       "text": [
        " 1970 \tdomain: 9 \titeration: 70 \tstep: 23631 \tforth\n",
        "curve:"
       ]
      },
      {
       "output_type": "stream",
       "stream": "stdout",
       "text": [
        " 1971 \tdomain: 9 \titeration: 71 \tstep: 23632 \tforth\n",
        "curve:"
       ]
      },
      {
       "output_type": "stream",
       "stream": "stdout",
       "text": [
        " 1972 \tdomain: 9 \titeration: 72 \tstep: 23633 \tforth\n",
        "curve:"
       ]
      },
      {
       "output_type": "stream",
       "stream": "stdout",
       "text": [
        " 1973 \tdomain: 9 \titeration: 73 \tstep: 23634 \tforth\n",
        "curve:"
       ]
      },
      {
       "output_type": "stream",
       "stream": "stdout",
       "text": [
        " 1974 \tdomain: 9 \titeration: 74 \tstep: 23635 \tforth\n",
        "curve:"
       ]
      },
      {
       "output_type": "stream",
       "stream": "stdout",
       "text": [
        " 1975 \tdomain: 9 \titeration: 75 \tstep: 23636 \tforth\n",
        "curve:"
       ]
      },
      {
       "output_type": "stream",
       "stream": "stdout",
       "text": [
        " 1976 \tdomain: 9 \titeration: 76 \tstep: 23637 \tforth\n",
        "curve:"
       ]
      },
      {
       "output_type": "stream",
       "stream": "stdout",
       "text": [
        " 1977 \tdomain: 9 \titeration: 77 \tstep: 23638 \tforth\n",
        "curve:"
       ]
      },
      {
       "output_type": "stream",
       "stream": "stdout",
       "text": [
        " 1978 \tdomain: 9 \titeration: 78 \tstep: 23639 \tforth\n",
        "curve:"
       ]
      },
      {
       "output_type": "stream",
       "stream": "stdout",
       "text": [
        " 1979 \tdomain: 9 \titeration: 79 \tstep: 23640 \tforth\n",
        "curve:"
       ]
      },
      {
       "output_type": "stream",
       "stream": "stdout",
       "text": [
        " 1980 \tdomain: 9 \titeration: 80 \tstep: 23641 \tforth\n",
        "curve:"
       ]
      },
      {
       "output_type": "stream",
       "stream": "stdout",
       "text": [
        " 1981 \tdomain: 9 \titeration: 81 \tstep: 23642 \tforth\n",
        "curve:"
       ]
      },
      {
       "output_type": "stream",
       "stream": "stdout",
       "text": [
        " 1982 \tdomain: 9 \titeration: 82 \tstep: 23643 \tforth\n",
        "curve:"
       ]
      },
      {
       "output_type": "stream",
       "stream": "stdout",
       "text": [
        " 1983 \tdomain: 9 \titeration: 83 \tstep: 23644 \tforth\n",
        "curve:"
       ]
      },
      {
       "output_type": "stream",
       "stream": "stdout",
       "text": [
        " 1984 \tdomain: 9 \titeration: 84 \tstep: 23645 \tforth\n",
        "curve:"
       ]
      },
      {
       "output_type": "stream",
       "stream": "stdout",
       "text": [
        " 1985 \tdomain: 9 \titeration: 85 \tstep: 23646 \tforth\n",
        "curve:"
       ]
      },
      {
       "output_type": "stream",
       "stream": "stdout",
       "text": [
        " 1986 \tdomain: 9 \titeration: 86 \tstep: 23647 \tforth\n",
        "curve:"
       ]
      },
      {
       "output_type": "stream",
       "stream": "stdout",
       "text": [
        " 1987 \tdomain: 9 \titeration: 87 \tstep: 23648 \tforth\n",
        "curve:"
       ]
      },
      {
       "output_type": "stream",
       "stream": "stdout",
       "text": [
        " 1988 \tdomain: 9 \titeration: 88 \tstep: 23649 \tforth\n",
        "curve:"
       ]
      },
      {
       "output_type": "stream",
       "stream": "stdout",
       "text": [
        " 1989 \tdomain: 9 \titeration: 89 \tstep: 23650 \tforth\n",
        "curve:"
       ]
      },
      {
       "output_type": "stream",
       "stream": "stdout",
       "text": [
        " 1990 \tdomain: 9 \titeration: 90 \tstep: 23651 \tforth\n",
        "curve:"
       ]
      },
      {
       "output_type": "stream",
       "stream": "stdout",
       "text": [
        " 1991 \tdomain: 9 \titeration: 91 \tstep: 23652 \tforth\n",
        "curve:"
       ]
      },
      {
       "output_type": "stream",
       "stream": "stdout",
       "text": [
        " 1992 \tdomain: 9 \titeration: 92 \tstep: 23653 \tforth\n",
        "curve:"
       ]
      },
      {
       "output_type": "stream",
       "stream": "stdout",
       "text": [
        " 1993 \tdomain: 9 \titeration: 93 \tstep: 23654 \tforth\n",
        "curve:"
       ]
      },
      {
       "output_type": "stream",
       "stream": "stdout",
       "text": [
        " 1994 \tdomain: 9 \titeration: 94 \tstep: 23655 \tforth\n",
        "curve:"
       ]
      },
      {
       "output_type": "stream",
       "stream": "stdout",
       "text": [
        " 1995 \tdomain: 9 \titeration: 95 \tstep: 23656 \tforth\n",
        "curve:"
       ]
      },
      {
       "output_type": "stream",
       "stream": "stdout",
       "text": [
        " 1996 \tdomain: 9 \titeration: 96 \tstep: 23657 \tforth\n",
        "curve:"
       ]
      },
      {
       "output_type": "stream",
       "stream": "stdout",
       "text": [
        " 1997 \tdomain: 9 \titeration: 97 \tstep: 23658 \tforth\n",
        "curve:"
       ]
      },
      {
       "output_type": "stream",
       "stream": "stdout",
       "text": [
        " 1998 \tdomain: 9 \titeration: 98 \tstep: 23659 \tforth\n",
        "curve:"
       ]
      },
      {
       "output_type": "stream",
       "stream": "stdout",
       "text": [
        " 1999 \tdomain: 9 \titeration: 99 \tstep: 23660 \tforth\n",
        "curve:"
       ]
      },
      {
       "output_type": "stream",
       "stream": "stdout",
       "text": [
        " 2000 \tdomain: 10 \titeration: 0 \tstep: 23560 \tback\n",
        "curve:"
       ]
      },
      {
       "output_type": "stream",
       "stream": "stdout",
       "text": [
        " 2001 \tdomain: 10 \titeration: 1 \tstep: 23559 \tback\n",
        "curve:"
       ]
      },
      {
       "output_type": "stream",
       "stream": "stdout",
       "text": [
        " 2002 \tdomain: 10 \titeration: 2 \tstep: 23558 \tback\n",
        "curve:"
       ]
      },
      {
       "output_type": "stream",
       "stream": "stdout",
       "text": [
        " 2003 \tdomain: 10 \titeration: 3 \tstep: 23557 \tback\n",
        "curve:"
       ]
      },
      {
       "output_type": "stream",
       "stream": "stdout",
       "text": [
        " 2004 \tdomain: 10 \titeration: 4 \tstep: 23556 \tback\n",
        "curve:"
       ]
      },
      {
       "output_type": "stream",
       "stream": "stdout",
       "text": [
        " 2005 \tdomain: 10 \titeration: 5 \tstep: 23555 \tback\n",
        "curve:"
       ]
      },
      {
       "output_type": "stream",
       "stream": "stdout",
       "text": [
        " 2006 \tdomain: 10 \titeration: 6 \tstep: 23554 \tback\n",
        "curve:"
       ]
      },
      {
       "output_type": "stream",
       "stream": "stdout",
       "text": [
        " 2007 \tdomain: 10 \titeration: 7 \tstep: 23553 \tback\n",
        "curve:"
       ]
      },
      {
       "output_type": "stream",
       "stream": "stdout",
       "text": [
        " 2008 \tdomain: 10 \titeration: 8 \tstep: 23552 \tback\n",
        "curve:"
       ]
      },
      {
       "output_type": "stream",
       "stream": "stdout",
       "text": [
        " 2009 \tdomain: 10 \titeration: 9 \tstep: 23551 \tback\n",
        "curve:"
       ]
      },
      {
       "output_type": "stream",
       "stream": "stdout",
       "text": [
        " 2010 \tdomain: 10 \titeration: 10 \tstep: 23550 \tback\n",
        "curve:"
       ]
      },
      {
       "output_type": "stream",
       "stream": "stdout",
       "text": [
        " 2011 \tdomain: 10 \titeration: 11 \tstep: 23549 \tback\n",
        "curve:"
       ]
      },
      {
       "output_type": "stream",
       "stream": "stdout",
       "text": [
        " 2012 \tdomain: 10 \titeration: 12 \tstep: 23548 \tback\n",
        "curve:"
       ]
      },
      {
       "output_type": "stream",
       "stream": "stdout",
       "text": [
        " 2013 \tdomain: 10 \titeration: 13 \tstep: 23547 \tback\n",
        "curve:"
       ]
      },
      {
       "output_type": "stream",
       "stream": "stdout",
       "text": [
        " 2014 \tdomain: 10 \titeration: 14 \tstep: 23546 \tback\n",
        "curve:"
       ]
      },
      {
       "output_type": "stream",
       "stream": "stdout",
       "text": [
        " 2015 \tdomain: 10 \titeration: 15 \tstep: 23545 \tback\n",
        "curve:"
       ]
      },
      {
       "output_type": "stream",
       "stream": "stdout",
       "text": [
        " 2016 \tdomain: 10 \titeration: 16 \tstep: 23544 \tback\n",
        "curve:"
       ]
      },
      {
       "output_type": "stream",
       "stream": "stdout",
       "text": [
        " 2017 \tdomain: 10 \titeration: 17 \tstep: 23543 \tback\n",
        "curve:"
       ]
      },
      {
       "output_type": "stream",
       "stream": "stdout",
       "text": [
        " 2018 \tdomain: 10 \titeration: 18 \tstep: 23542 \tback\n",
        "curve:"
       ]
      },
      {
       "output_type": "stream",
       "stream": "stdout",
       "text": [
        " 2019 \tdomain: 10 \titeration: 19 \tstep: 23541 \tback\n",
        "curve:"
       ]
      },
      {
       "output_type": "stream",
       "stream": "stdout",
       "text": [
        " 2020 \tdomain: 10 \titeration: 20 \tstep: 23540 \tback\n",
        "curve:"
       ]
      },
      {
       "output_type": "stream",
       "stream": "stdout",
       "text": [
        " 2021 \tdomain: 10 \titeration: 21 \tstep: 23539 \tback\n",
        "curve:"
       ]
      },
      {
       "output_type": "stream",
       "stream": "stdout",
       "text": [
        " 2022 \tdomain: 10 \titeration: 22 \tstep: 23538 \tback\n",
        "curve:"
       ]
      },
      {
       "output_type": "stream",
       "stream": "stdout",
       "text": [
        " 2023 \tdomain: 10 \titeration: 23 \tstep: 23537 \tback\n",
        "curve:"
       ]
      },
      {
       "output_type": "stream",
       "stream": "stdout",
       "text": [
        " 2024 \tdomain: 10 \titeration: 24 \tstep: 23536 \tback\n",
        "curve:"
       ]
      },
      {
       "output_type": "stream",
       "stream": "stdout",
       "text": [
        " 2025 \tdomain: 10 \titeration: 25 \tstep: 23535 \tback\n",
        "curve:"
       ]
      },
      {
       "output_type": "stream",
       "stream": "stdout",
       "text": [
        " 2026 \tdomain: 10 \titeration: 26 \tstep: 23534 \tback\n",
        "curve:"
       ]
      },
      {
       "output_type": "stream",
       "stream": "stdout",
       "text": [
        " 2027 \tdomain: 10 \titeration: 27 \tstep: 23533 \tback\n",
        "curve:"
       ]
      },
      {
       "output_type": "stream",
       "stream": "stdout",
       "text": [
        " 2028 \tdomain: 10 \titeration: 28 \tstep: 23532 \tback\n",
        "curve:"
       ]
      },
      {
       "output_type": "stream",
       "stream": "stdout",
       "text": [
        " 2029 \tdomain: 10 \titeration: 29 \tstep: 23531 \tback\n",
        "curve:"
       ]
      },
      {
       "output_type": "stream",
       "stream": "stdout",
       "text": [
        " 2030 \tdomain: 10 \titeration: 30 \tstep: 23530 \tback\n",
        "curve:"
       ]
      },
      {
       "output_type": "stream",
       "stream": "stdout",
       "text": [
        " 2031 \tdomain: 10 \titeration: 31 \tstep: 23529 \tback\n",
        "curve:"
       ]
      },
      {
       "output_type": "stream",
       "stream": "stdout",
       "text": [
        " 2032 \tdomain: 10 \titeration: 32 \tstep: 23528 \tback\n",
        "curve:"
       ]
      },
      {
       "output_type": "stream",
       "stream": "stdout",
       "text": [
        " 2033 \tdomain: 10 \titeration: 33 \tstep: 23527 \tback\n",
        "curve:"
       ]
      },
      {
       "output_type": "stream",
       "stream": "stdout",
       "text": [
        " 2034 \tdomain: 10 \titeration: 34 \tstep: 23526 \tback\n",
        "curve:"
       ]
      },
      {
       "output_type": "stream",
       "stream": "stdout",
       "text": [
        " 2035 \tdomain: 10 \titeration: 35 \tstep: 23525 \tback\n",
        "curve:"
       ]
      },
      {
       "output_type": "stream",
       "stream": "stdout",
       "text": [
        " 2036 \tdomain: 10 \titeration: 36 \tstep: 23524 \tback\n",
        "curve:"
       ]
      },
      {
       "output_type": "stream",
       "stream": "stdout",
       "text": [
        " 2037 \tdomain: 10 \titeration: 37 \tstep: 23523 \tback\n",
        "curve:"
       ]
      },
      {
       "output_type": "stream",
       "stream": "stdout",
       "text": [
        " 2038 \tdomain: 10 \titeration: 38 \tstep: 23522 \tback\n",
        "curve:"
       ]
      },
      {
       "output_type": "stream",
       "stream": "stdout",
       "text": [
        " 2039 \tdomain: 10 \titeration: 39 \tstep: 23521 \tback\n",
        "curve:"
       ]
      },
      {
       "output_type": "stream",
       "stream": "stdout",
       "text": [
        " 2040 \tdomain: 10 \titeration: 40 \tstep: 23520 \tback\n",
        "curve:"
       ]
      },
      {
       "output_type": "stream",
       "stream": "stdout",
       "text": [
        " 2041 \tdomain: 10 \titeration: 41 \tstep: 23519 \tback\n",
        "curve:"
       ]
      },
      {
       "output_type": "stream",
       "stream": "stdout",
       "text": [
        " 2042 \tdomain: 10 \titeration: 42 \tstep: 23518 \tback\n",
        "curve:"
       ]
      },
      {
       "output_type": "stream",
       "stream": "stdout",
       "text": [
        " 2043 \tdomain: 10 \titeration: 43 \tstep: 23517 \tback\n",
        "curve:"
       ]
      },
      {
       "output_type": "stream",
       "stream": "stdout",
       "text": [
        " 2044 \tdomain: 10 \titeration: 44 \tstep: 23516 \tback\n",
        "curve:"
       ]
      },
      {
       "output_type": "stream",
       "stream": "stdout",
       "text": [
        " 2045 \tdomain: 10 \titeration: 45 \tstep: 23515 \tback\n",
        "curve:"
       ]
      },
      {
       "output_type": "stream",
       "stream": "stdout",
       "text": [
        " 2046 \tdomain: 10 \titeration: 46 \tstep: 23514 \tback\n",
        "curve:"
       ]
      },
      {
       "output_type": "stream",
       "stream": "stdout",
       "text": [
        " 2047 \tdomain: 10 \titeration: 47 \tstep: 23513 \tback\n",
        "curve:"
       ]
      },
      {
       "output_type": "stream",
       "stream": "stdout",
       "text": [
        " 2048 \tdomain: 10 \titeration: 48 \tstep: 23512 \tback\n",
        "curve:"
       ]
      },
      {
       "output_type": "stream",
       "stream": "stdout",
       "text": [
        " 2049 \tdomain: 10 \titeration: 49 \tstep: 23511 \tback\n",
        "curve:"
       ]
      },
      {
       "output_type": "stream",
       "stream": "stdout",
       "text": [
        " 2050 \tdomain: 10 \titeration: 50 \tstep: 23510 \tback\n",
        "curve:"
       ]
      },
      {
       "output_type": "stream",
       "stream": "stdout",
       "text": [
        " 2051 \tdomain: 10 \titeration: 51 \tstep: 23509 \tback\n",
        "curve:"
       ]
      },
      {
       "output_type": "stream",
       "stream": "stdout",
       "text": [
        " 2052 \tdomain: 10 \titeration: 52 \tstep: 23508 \tback\n",
        "curve:"
       ]
      },
      {
       "output_type": "stream",
       "stream": "stdout",
       "text": [
        " 2053 \tdomain: 10 \titeration: 53 \tstep: 23507 \tback\n",
        "curve:"
       ]
      },
      {
       "output_type": "stream",
       "stream": "stdout",
       "text": [
        " 2054 \tdomain: 10 \titeration: 54 \tstep: 23506 \tback\n",
        "curve:"
       ]
      },
      {
       "output_type": "stream",
       "stream": "stdout",
       "text": [
        " 2055 \tdomain: 10 \titeration: 55 \tstep: 23505 \tback\n",
        "curve:"
       ]
      },
      {
       "output_type": "stream",
       "stream": "stdout",
       "text": [
        " 2056 \tdomain: 10 \titeration: 56 \tstep: 23504 \tback\n",
        "curve:"
       ]
      },
      {
       "output_type": "stream",
       "stream": "stdout",
       "text": [
        " 2057 \tdomain: 10 \titeration: 57 \tstep: 23503 \tback\n",
        "curve:"
       ]
      },
      {
       "output_type": "stream",
       "stream": "stdout",
       "text": [
        " 2058 \tdomain: 10 \titeration: 58 \tstep: 23502 \tback\n",
        "curve:"
       ]
      },
      {
       "output_type": "stream",
       "stream": "stdout",
       "text": [
        " 2059 \tdomain: 10 \titeration: 59 \tstep: 23501 \tback\n",
        "curve:"
       ]
      },
      {
       "output_type": "stream",
       "stream": "stdout",
       "text": [
        " 2060 \tdomain: 10 \titeration: 60 \tstep: 23500 \tback\n",
        "curve:"
       ]
      },
      {
       "output_type": "stream",
       "stream": "stdout",
       "text": [
        " 2061 \tdomain: 10 \titeration: 61 \tstep: 23499 \tback\n",
        "curve:"
       ]
      },
      {
       "output_type": "stream",
       "stream": "stdout",
       "text": [
        " 2062 \tdomain: 10 \titeration: 62 \tstep: 23498 \tback\n",
        "curve:"
       ]
      },
      {
       "output_type": "stream",
       "stream": "stdout",
       "text": [
        " 2063 \tdomain: 10 \titeration: 63 \tstep: 23497 \tback\n",
        "curve:"
       ]
      },
      {
       "output_type": "stream",
       "stream": "stdout",
       "text": [
        " 2064 \tdomain: 10 \titeration: 64 \tstep: 23496 \tback\n",
        "curve:"
       ]
      },
      {
       "output_type": "stream",
       "stream": "stdout",
       "text": [
        " 2065 \tdomain: 10 \titeration: 65 \tstep: 23495 \tback\n",
        "curve:"
       ]
      },
      {
       "output_type": "stream",
       "stream": "stdout",
       "text": [
        " 2066 \tdomain: 10 \titeration: 66 \tstep: 23494 \tback\n",
        "curve:"
       ]
      },
      {
       "output_type": "stream",
       "stream": "stdout",
       "text": [
        " 2067 \tdomain: 10 \titeration: 67 \tstep: 23493 \tback\n",
        "curve:"
       ]
      },
      {
       "output_type": "stream",
       "stream": "stdout",
       "text": [
        " 2068 \tdomain: 10 \titeration: 68 \tstep: 23492 \tback\n",
        "curve:"
       ]
      },
      {
       "output_type": "stream",
       "stream": "stdout",
       "text": [
        " 2069 \tdomain: 10 \titeration: 69 \tstep: 23491 \tback\n",
        "curve:"
       ]
      },
      {
       "output_type": "stream",
       "stream": "stdout",
       "text": [
        " 2070 \tdomain: 10 \titeration: 70 \tstep: 23490 \tback\n",
        "curve:"
       ]
      },
      {
       "output_type": "stream",
       "stream": "stdout",
       "text": [
        " 2071 \tdomain: 10 \titeration: 71 \tstep: 23489 \tback\n",
        "curve:"
       ]
      },
      {
       "output_type": "stream",
       "stream": "stdout",
       "text": [
        " 2072 \tdomain: 10 \titeration: 72 \tstep: 23488 \tback\n",
        "curve:"
       ]
      },
      {
       "output_type": "stream",
       "stream": "stdout",
       "text": [
        " 2073 \tdomain: 10 \titeration: 73 \tstep: 23487 \tback\n",
        "curve:"
       ]
      },
      {
       "output_type": "stream",
       "stream": "stdout",
       "text": [
        " 2074 \tdomain: 10 \titeration: 74 \tstep: 23486 \tback\n",
        "curve:"
       ]
      },
      {
       "output_type": "stream",
       "stream": "stdout",
       "text": [
        " 2075 \tdomain: 10 \titeration: 75 \tstep: 23485 \tback\n",
        "curve:"
       ]
      },
      {
       "output_type": "stream",
       "stream": "stdout",
       "text": [
        " 2076 \tdomain: 10 \titeration: 76 \tstep: 23484 \tback\n",
        "curve:"
       ]
      },
      {
       "output_type": "stream",
       "stream": "stdout",
       "text": [
        " 2077 \tdomain: 10 \titeration: 77 \tstep: 23483 \tback\n",
        "curve:"
       ]
      },
      {
       "output_type": "stream",
       "stream": "stdout",
       "text": [
        " 2078 \tdomain: 10 \titeration: 78 \tstep: 23482 \tback\n",
        "curve:"
       ]
      },
      {
       "output_type": "stream",
       "stream": "stdout",
       "text": [
        " 2079 \tdomain: 10 \titeration: 79 \tstep: 23481 \tback\n",
        "curve:"
       ]
      },
      {
       "output_type": "stream",
       "stream": "stdout",
       "text": [
        " 2080 \tdomain: 10 \titeration: 80 \tstep: 23480 \tback\n",
        "curve:"
       ]
      },
      {
       "output_type": "stream",
       "stream": "stdout",
       "text": [
        " 2081 \tdomain: 10 \titeration: 81 \tstep: 23479 \tback\n",
        "curve:"
       ]
      },
      {
       "output_type": "stream",
       "stream": "stdout",
       "text": [
        " 2082 \tdomain: 10 \titeration: 82 \tstep: 23478 \tback\n",
        "curve:"
       ]
      },
      {
       "output_type": "stream",
       "stream": "stdout",
       "text": [
        " 2083 \tdomain: 10 \titeration: 83 \tstep: 23477 \tback\n",
        "curve:"
       ]
      },
      {
       "output_type": "stream",
       "stream": "stdout",
       "text": [
        " 2084 \tdomain: 10 \titeration: 84 \tstep: 23476 \tback\n",
        "curve:"
       ]
      },
      {
       "output_type": "stream",
       "stream": "stdout",
       "text": [
        " 2085 \tdomain: 10 \titeration: 85 \tstep: 23475 \tback\n",
        "curve:"
       ]
      },
      {
       "output_type": "stream",
       "stream": "stdout",
       "text": [
        " 2086 \tdomain: 10 \titeration: 86 \tstep: 23474 \tback\n",
        "curve:"
       ]
      },
      {
       "output_type": "stream",
       "stream": "stdout",
       "text": [
        " 2087 \tdomain: 10 \titeration: 87 \tstep: 23473 \tback\n",
        "curve:"
       ]
      },
      {
       "output_type": "stream",
       "stream": "stdout",
       "text": [
        " 2088 \tdomain: 10 \titeration: 88 \tstep: 23472 \tback\n",
        "curve:"
       ]
      },
      {
       "output_type": "stream",
       "stream": "stdout",
       "text": [
        " 2089 \tdomain: 10 \titeration: 89 \tstep: 23471 \tback\n",
        "curve:"
       ]
      },
      {
       "output_type": "stream",
       "stream": "stdout",
       "text": [
        " 2090 \tdomain: 10 \titeration: 90 \tstep: 23470 \tback\n",
        "curve:"
       ]
      },
      {
       "output_type": "stream",
       "stream": "stdout",
       "text": [
        " 2091 \tdomain: 10 \titeration: 91 \tstep: 23469 \tback\n",
        "curve:"
       ]
      },
      {
       "output_type": "stream",
       "stream": "stdout",
       "text": [
        " 2092 \tdomain: 10 \titeration: 92 \tstep: 23468 \tback\n",
        "curve:"
       ]
      },
      {
       "output_type": "stream",
       "stream": "stdout",
       "text": [
        " 2093 \tdomain: 10 \titeration: 93 \tstep: 23467 \tback\n",
        "curve:"
       ]
      },
      {
       "output_type": "stream",
       "stream": "stdout",
       "text": [
        " 2094 \tdomain: 10 \titeration: 94 \tstep: 23466 \tback\n",
        "curve:"
       ]
      },
      {
       "output_type": "stream",
       "stream": "stdout",
       "text": [
        " 2095 \tdomain: 10 \titeration: 95 \tstep: 23465 \tback\n",
        "curve:"
       ]
      },
      {
       "output_type": "stream",
       "stream": "stdout",
       "text": [
        " 2096 \tdomain: 10 \titeration: 96 \tstep: 23464 \tback\n",
        "curve:"
       ]
      },
      {
       "output_type": "stream",
       "stream": "stdout",
       "text": [
        " 2097 \tdomain: 10 \titeration: 97 \tstep: 23463 \tback\n",
        "curve:"
       ]
      },
      {
       "output_type": "stream",
       "stream": "stdout",
       "text": [
        " 2098 \tdomain: 10 \titeration: 98 \tstep: 23462 \tback\n",
        "curve:"
       ]
      },
      {
       "output_type": "stream",
       "stream": "stdout",
       "text": [
        " 2099 \tdomain: 10 \titeration: 99 \tstep: 23461 \tback\n",
        "curve:"
       ]
      },
      {
       "output_type": "stream",
       "stream": "stdout",
       "text": [
        " 2100 \tdomain: 10 \titeration: 0 \tstep: 23461 \tforth\n",
        "curve:"
       ]
      },
      {
       "output_type": "stream",
       "stream": "stdout",
       "text": [
        " 2101 \tdomain: 10 \titeration: 1 \tstep: 23462 \tforth\n",
        "curve:"
       ]
      },
      {
       "output_type": "stream",
       "stream": "stdout",
       "text": [
        " 2102 \tdomain: 10 \titeration: 2 \tstep: 23463 \tforth\n",
        "curve:"
       ]
      },
      {
       "output_type": "stream",
       "stream": "stdout",
       "text": [
        " 2103 \tdomain: 10 \titeration: 3 \tstep: 23464 \tforth\n",
        "curve:"
       ]
      },
      {
       "output_type": "stream",
       "stream": "stdout",
       "text": [
        " 2104 \tdomain: 10 \titeration: 4 \tstep: 23465 \tforth\n",
        "curve:"
       ]
      },
      {
       "output_type": "stream",
       "stream": "stdout",
       "text": [
        " 2105 \tdomain: 10 \titeration: 5 \tstep: 23466 \tforth\n",
        "curve:"
       ]
      },
      {
       "output_type": "stream",
       "stream": "stdout",
       "text": [
        " 2106 \tdomain: 10 \titeration: 6 \tstep: 23467 \tforth\n",
        "curve:"
       ]
      },
      {
       "output_type": "stream",
       "stream": "stdout",
       "text": [
        " 2107 \tdomain: 10 \titeration: 7 \tstep: 23468 \tforth\n",
        "curve:"
       ]
      },
      {
       "output_type": "stream",
       "stream": "stdout",
       "text": [
        " 2108 \tdomain: 10 \titeration: 8 \tstep: 23469 \tforth\n",
        "curve:"
       ]
      },
      {
       "output_type": "stream",
       "stream": "stdout",
       "text": [
        " 2109 \tdomain: 10 \titeration: 9 \tstep: 23470 \tforth\n",
        "curve:"
       ]
      },
      {
       "output_type": "stream",
       "stream": "stdout",
       "text": [
        " 2110 \tdomain: 10 \titeration: 10 \tstep: 23471 \tforth\n",
        "curve:"
       ]
      },
      {
       "output_type": "stream",
       "stream": "stdout",
       "text": [
        " 2111 \tdomain: 10 \titeration: 11 \tstep: 23472 \tforth\n",
        "curve:"
       ]
      },
      {
       "output_type": "stream",
       "stream": "stdout",
       "text": [
        " 2112 \tdomain: 10 \titeration: 12 \tstep: 23473 \tforth\n",
        "curve:"
       ]
      },
      {
       "output_type": "stream",
       "stream": "stdout",
       "text": [
        " 2113 \tdomain: 10 \titeration: 13 \tstep: 23474 \tforth\n",
        "curve:"
       ]
      },
      {
       "output_type": "stream",
       "stream": "stdout",
       "text": [
        " 2114 \tdomain: 10 \titeration: 14 \tstep: 23475 \tforth\n",
        "curve:"
       ]
      },
      {
       "output_type": "stream",
       "stream": "stdout",
       "text": [
        " 2115 \tdomain: 10 \titeration: 15 \tstep: 23476 \tforth\n",
        "curve:"
       ]
      },
      {
       "output_type": "stream",
       "stream": "stdout",
       "text": [
        " 2116 \tdomain: 10 \titeration: 16 \tstep: 23477 \tforth\n",
        "curve:"
       ]
      },
      {
       "output_type": "stream",
       "stream": "stdout",
       "text": [
        " 2117 \tdomain: 10 \titeration: 17 \tstep: 23478 \tforth\n",
        "curve:"
       ]
      },
      {
       "output_type": "stream",
       "stream": "stdout",
       "text": [
        " 2118 \tdomain: 10 \titeration: 18 \tstep: 23479 \tforth\n",
        "curve:"
       ]
      },
      {
       "output_type": "stream",
       "stream": "stdout",
       "text": [
        " 2119 \tdomain: 10 \titeration: 19 \tstep: 23480 \tforth\n",
        "curve:"
       ]
      },
      {
       "output_type": "stream",
       "stream": "stdout",
       "text": [
        " 2120 \tdomain: 10 \titeration: 20 \tstep: 23481 \tforth\n",
        "curve:"
       ]
      },
      {
       "output_type": "stream",
       "stream": "stdout",
       "text": [
        " 2121 \tdomain: 10 \titeration: 21 \tstep: 23482 \tforth\n",
        "curve:"
       ]
      },
      {
       "output_type": "stream",
       "stream": "stdout",
       "text": [
        " 2122 \tdomain: 10 \titeration: 22 \tstep: 23483 \tforth\n",
        "curve:"
       ]
      },
      {
       "output_type": "stream",
       "stream": "stdout",
       "text": [
        " 2123 \tdomain: 10 \titeration: 23 \tstep: 23484 \tforth\n",
        "curve:"
       ]
      },
      {
       "output_type": "stream",
       "stream": "stdout",
       "text": [
        " 2124 \tdomain: 10 \titeration: 24 \tstep: 23485 \tforth\n",
        "curve:"
       ]
      },
      {
       "output_type": "stream",
       "stream": "stdout",
       "text": [
        " 2125 \tdomain: 10 \titeration: 25 \tstep: 23486 \tforth\n",
        "curve:"
       ]
      },
      {
       "output_type": "stream",
       "stream": "stdout",
       "text": [
        " 2126 \tdomain: 10 \titeration: 26 \tstep: 23487 \tforth\n",
        "curve:"
       ]
      },
      {
       "output_type": "stream",
       "stream": "stdout",
       "text": [
        " 2127 \tdomain: 10 \titeration: 27 \tstep: 23488 \tforth\n",
        "curve:"
       ]
      },
      {
       "output_type": "stream",
       "stream": "stdout",
       "text": [
        " 2128 \tdomain: 10 \titeration: 28 \tstep: 23489 \tforth\n",
        "curve:"
       ]
      },
      {
       "output_type": "stream",
       "stream": "stdout",
       "text": [
        " 2129 \tdomain: 10 \titeration: 29 \tstep: 23490 \tforth\n",
        "curve:"
       ]
      },
      {
       "output_type": "stream",
       "stream": "stdout",
       "text": [
        " 2130 \tdomain: 10 \titeration: 30 \tstep: 23491 \tforth\n",
        "curve:"
       ]
      },
      {
       "output_type": "stream",
       "stream": "stdout",
       "text": [
        " 2131 \tdomain: 10 \titeration: 31 \tstep: 23492 \tforth\n",
        "curve:"
       ]
      },
      {
       "output_type": "stream",
       "stream": "stdout",
       "text": [
        " 2132 \tdomain: 10 \titeration: 32 \tstep: 23493 \tforth\n",
        "curve:"
       ]
      },
      {
       "output_type": "stream",
       "stream": "stdout",
       "text": [
        " 2133 \tdomain: 10 \titeration: 33 \tstep: 23494 \tforth\n",
        "curve:"
       ]
      },
      {
       "output_type": "stream",
       "stream": "stdout",
       "text": [
        " 2134 \tdomain: 10 \titeration: 34 \tstep: 23495 \tforth\n",
        "curve:"
       ]
      },
      {
       "output_type": "stream",
       "stream": "stdout",
       "text": [
        " 2135 \tdomain: 10 \titeration: 35 \tstep: 23496 \tforth\n",
        "curve:"
       ]
      },
      {
       "output_type": "stream",
       "stream": "stdout",
       "text": [
        " 2136 \tdomain: 10 \titeration: 36 \tstep: 23497 \tforth\n",
        "curve:"
       ]
      },
      {
       "output_type": "stream",
       "stream": "stdout",
       "text": [
        " 2137 \tdomain: 10 \titeration: 37 \tstep: 23498 \tforth\n",
        "curve:"
       ]
      },
      {
       "output_type": "stream",
       "stream": "stdout",
       "text": [
        " 2138 \tdomain: 10 \titeration: 38 \tstep: 23499 \tforth\n",
        "curve:"
       ]
      },
      {
       "output_type": "stream",
       "stream": "stdout",
       "text": [
        " 2139 \tdomain: 10 \titeration: 39 \tstep: 23500 \tforth\n",
        "curve:"
       ]
      },
      {
       "output_type": "stream",
       "stream": "stdout",
       "text": [
        " 2140 \tdomain: 10 \titeration: 40 \tstep: 23501 \tforth\n",
        "curve:"
       ]
      },
      {
       "output_type": "stream",
       "stream": "stdout",
       "text": [
        " 2141 \tdomain: 10 \titeration: 41 \tstep: 23502 \tforth\n",
        "curve:"
       ]
      },
      {
       "output_type": "stream",
       "stream": "stdout",
       "text": [
        " 2142 \tdomain: 10 \titeration: 42 \tstep: 23503 \tforth\n",
        "curve:"
       ]
      },
      {
       "output_type": "stream",
       "stream": "stdout",
       "text": [
        " 2143 \tdomain: 10 \titeration: 43 \tstep: 23504 \tforth\n",
        "curve:"
       ]
      },
      {
       "output_type": "stream",
       "stream": "stdout",
       "text": [
        " 2144 \tdomain: 10 \titeration: 44 \tstep: 23505 \tforth\n",
        "curve:"
       ]
      },
      {
       "output_type": "stream",
       "stream": "stdout",
       "text": [
        " 2145 \tdomain: 10 \titeration: 45 \tstep: 23506 \tforth\n",
        "curve:"
       ]
      },
      {
       "output_type": "stream",
       "stream": "stdout",
       "text": [
        " 2146 \tdomain: 10 \titeration: 46 \tstep: 23507 \tforth\n",
        "curve:"
       ]
      },
      {
       "output_type": "stream",
       "stream": "stdout",
       "text": [
        " 2147 \tdomain: 10 \titeration: 47 \tstep: 23508 \tforth\n",
        "curve:"
       ]
      },
      {
       "output_type": "stream",
       "stream": "stdout",
       "text": [
        " 2148 \tdomain: 10 \titeration: 48 \tstep: 23509 \tforth\n",
        "curve:"
       ]
      },
      {
       "output_type": "stream",
       "stream": "stdout",
       "text": [
        " 2149 \tdomain: 10 \titeration: 49 \tstep: 23510 \tforth\n",
        "curve:"
       ]
      },
      {
       "output_type": "stream",
       "stream": "stdout",
       "text": [
        " 2150 \tdomain: 10 \titeration: 50 \tstep: 23511 \tforth\n",
        "curve:"
       ]
      },
      {
       "output_type": "stream",
       "stream": "stdout",
       "text": [
        " 2151 \tdomain: 10 \titeration: 51 \tstep: 23512 \tforth\n",
        "curve:"
       ]
      },
      {
       "output_type": "stream",
       "stream": "stdout",
       "text": [
        " 2152 \tdomain: 10 \titeration: 52 \tstep: 23513 \tforth\n",
        "curve:"
       ]
      },
      {
       "output_type": "stream",
       "stream": "stdout",
       "text": [
        " 2153 \tdomain: 10 \titeration: 53 \tstep: 23514 \tforth\n",
        "curve:"
       ]
      },
      {
       "output_type": "stream",
       "stream": "stdout",
       "text": [
        " 2154 \tdomain: 10 \titeration: 54 \tstep: 23515 \tforth\n",
        "curve:"
       ]
      },
      {
       "output_type": "stream",
       "stream": "stdout",
       "text": [
        " 2155 \tdomain: 10 \titeration: 55 \tstep: 23516 \tforth\n",
        "curve:"
       ]
      },
      {
       "output_type": "stream",
       "stream": "stdout",
       "text": [
        " 2156 \tdomain: 10 \titeration: 56 \tstep: 23517 \tforth\n",
        "curve:"
       ]
      },
      {
       "output_type": "stream",
       "stream": "stdout",
       "text": [
        " 2157 \tdomain: 10 \titeration: 57 \tstep: 23518 \tforth\n",
        "curve:"
       ]
      },
      {
       "output_type": "stream",
       "stream": "stdout",
       "text": [
        " 2158 \tdomain: 10 \titeration: 58 \tstep: 23519 \tforth\n",
        "curve:"
       ]
      },
      {
       "output_type": "stream",
       "stream": "stdout",
       "text": [
        " 2159 \tdomain: 10 \titeration: 59 \tstep: 23520 \tforth\n",
        "curve:"
       ]
      },
      {
       "output_type": "stream",
       "stream": "stdout",
       "text": [
        " 2160 \tdomain: 10 \titeration: 60 \tstep: 23521 \tforth\n",
        "curve:"
       ]
      },
      {
       "output_type": "stream",
       "stream": "stdout",
       "text": [
        " 2161 \tdomain: 10 \titeration: 61 \tstep: 23522 \tforth\n",
        "curve:"
       ]
      },
      {
       "output_type": "stream",
       "stream": "stdout",
       "text": [
        " 2162 \tdomain: 10 \titeration: 62 \tstep: 23523 \tforth\n",
        "curve:"
       ]
      },
      {
       "output_type": "stream",
       "stream": "stdout",
       "text": [
        " 2163 \tdomain: 10 \titeration: 63 \tstep: 23524 \tforth\n",
        "curve:"
       ]
      },
      {
       "output_type": "stream",
       "stream": "stdout",
       "text": [
        " 2164 \tdomain: 10 \titeration: 64 \tstep: 23525 \tforth\n",
        "curve:"
       ]
      },
      {
       "output_type": "stream",
       "stream": "stdout",
       "text": [
        " 2165 \tdomain: 10 \titeration: 65 \tstep: 23526 \tforth\n",
        "curve:"
       ]
      },
      {
       "output_type": "stream",
       "stream": "stdout",
       "text": [
        " 2166 \tdomain: 10 \titeration: 66 \tstep: 23527 \tforth\n",
        "curve:"
       ]
      },
      {
       "output_type": "stream",
       "stream": "stdout",
       "text": [
        " 2167 \tdomain: 10 \titeration: 67 \tstep: 23528 \tforth\n",
        "curve:"
       ]
      },
      {
       "output_type": "stream",
       "stream": "stdout",
       "text": [
        " 2168 \tdomain: 10 \titeration: 68 \tstep: 23529 \tforth\n",
        "curve:"
       ]
      },
      {
       "output_type": "stream",
       "stream": "stdout",
       "text": [
        " 2169 \tdomain: 10 \titeration: 69 \tstep: 23530 \tforth\n",
        "curve:"
       ]
      },
      {
       "output_type": "stream",
       "stream": "stdout",
       "text": [
        " 2170 \tdomain: 10 \titeration: 70 \tstep: 23531 \tforth\n",
        "curve:"
       ]
      },
      {
       "output_type": "stream",
       "stream": "stdout",
       "text": [
        " 2171 \tdomain: 10 \titeration: 71 \tstep: 23532 \tforth\n",
        "curve:"
       ]
      },
      {
       "output_type": "stream",
       "stream": "stdout",
       "text": [
        " 2172 \tdomain: 10 \titeration: 72 \tstep: 23533 \tforth\n",
        "curve:"
       ]
      },
      {
       "output_type": "stream",
       "stream": "stdout",
       "text": [
        " 2173 \tdomain: 10 \titeration: 73 \tstep: 23534 \tforth\n",
        "curve:"
       ]
      },
      {
       "output_type": "stream",
       "stream": "stdout",
       "text": [
        " 2174 \tdomain: 10 \titeration: 74 \tstep: 23535 \tforth\n",
        "curve:"
       ]
      },
      {
       "output_type": "stream",
       "stream": "stdout",
       "text": [
        " 2175 \tdomain: 10 \titeration: 75 \tstep: 23536 \tforth\n",
        "curve:"
       ]
      },
      {
       "output_type": "stream",
       "stream": "stdout",
       "text": [
        " 2176 \tdomain: 10 \titeration: 76 \tstep: 23537 \tforth\n",
        "curve:"
       ]
      },
      {
       "output_type": "stream",
       "stream": "stdout",
       "text": [
        " 2177 \tdomain: 10 \titeration: 77 \tstep: 23538 \tforth\n",
        "curve:"
       ]
      },
      {
       "output_type": "stream",
       "stream": "stdout",
       "text": [
        " 2178 \tdomain: 10 \titeration: 78 \tstep: 23539 \tforth\n",
        "curve:"
       ]
      },
      {
       "output_type": "stream",
       "stream": "stdout",
       "text": [
        " 2179 \tdomain: 10 \titeration: 79 \tstep: 23540 \tforth\n",
        "curve:"
       ]
      },
      {
       "output_type": "stream",
       "stream": "stdout",
       "text": [
        " 2180 \tdomain: 10 \titeration: 80 \tstep: 23541 \tforth\n",
        "curve:"
       ]
      },
      {
       "output_type": "stream",
       "stream": "stdout",
       "text": [
        " 2181 \tdomain: 10 \titeration: 81 \tstep: 23542 \tforth\n",
        "curve:"
       ]
      },
      {
       "output_type": "stream",
       "stream": "stdout",
       "text": [
        " 2182 \tdomain: 10 \titeration: 82 \tstep: 23543 \tforth\n",
        "curve:"
       ]
      },
      {
       "output_type": "stream",
       "stream": "stdout",
       "text": [
        " 2183 \tdomain: 10 \titeration: 83 \tstep: 23544 \tforth\n",
        "curve:"
       ]
      },
      {
       "output_type": "stream",
       "stream": "stdout",
       "text": [
        " 2184 \tdomain: 10 \titeration: 84 \tstep: 23545 \tforth\n",
        "curve:"
       ]
      },
      {
       "output_type": "stream",
       "stream": "stdout",
       "text": [
        " 2185 \tdomain: 10 \titeration: 85 \tstep: 23546 \tforth\n",
        "curve:"
       ]
      },
      {
       "output_type": "stream",
       "stream": "stdout",
       "text": [
        " 2186 \tdomain: 10 \titeration: 86 \tstep: 23547 \tforth\n",
        "curve:"
       ]
      },
      {
       "output_type": "stream",
       "stream": "stdout",
       "text": [
        " 2187 \tdomain: 10 \titeration: 87 \tstep: 23548 \tforth\n",
        "curve:"
       ]
      },
      {
       "output_type": "stream",
       "stream": "stdout",
       "text": [
        " 2188 \tdomain: 10 \titeration: 88 \tstep: 23549 \tforth\n",
        "curve:"
       ]
      },
      {
       "output_type": "stream",
       "stream": "stdout",
       "text": [
        " 2189 \tdomain: 10 \titeration: 89 \tstep: 23550 \tforth\n",
        "curve:"
       ]
      },
      {
       "output_type": "stream",
       "stream": "stdout",
       "text": [
        " 2190 \tdomain: 10 \titeration: 90 \tstep: 23551 \tforth\n",
        "curve:"
       ]
      },
      {
       "output_type": "stream",
       "stream": "stdout",
       "text": [
        " 2191 \tdomain: 10 \titeration: 91 \tstep: 23552 \tforth\n",
        "curve:"
       ]
      },
      {
       "output_type": "stream",
       "stream": "stdout",
       "text": [
        " 2192 \tdomain: 10 \titeration: 92 \tstep: 23553 \tforth\n",
        "curve:"
       ]
      },
      {
       "output_type": "stream",
       "stream": "stdout",
       "text": [
        " 2193 \tdomain: 10 \titeration: 93 \tstep: 23554 \tforth\n",
        "curve:"
       ]
      },
      {
       "output_type": "stream",
       "stream": "stdout",
       "text": [
        " 2194 \tdomain: 10 \titeration: 94 \tstep: 23555 \tforth\n",
        "curve:"
       ]
      },
      {
       "output_type": "stream",
       "stream": "stdout",
       "text": [
        " 2195 \tdomain: 10 \titeration: 95 \tstep: 23556 \tforth\n",
        "curve:"
       ]
      },
      {
       "output_type": "stream",
       "stream": "stdout",
       "text": [
        " 2196 \tdomain: 10 \titeration: 96 \tstep: 23557 \tforth\n",
        "curve:"
       ]
      },
      {
       "output_type": "stream",
       "stream": "stdout",
       "text": [
        " 2197 \tdomain: 10 \titeration: 97 \tstep: 23558 \tforth\n",
        "curve:"
       ]
      },
      {
       "output_type": "stream",
       "stream": "stdout",
       "text": [
        " 2198 \tdomain: 10 \titeration: 98 \tstep: 23559 \tforth\n",
        "curve:"
       ]
      },
      {
       "output_type": "stream",
       "stream": "stdout",
       "text": [
        " 2199 \tdomain: 10 \titeration: 99 \tstep: 23560 \tforth\n",
        "curve:"
       ]
      },
      {
       "output_type": "stream",
       "stream": "stdout",
       "text": [
        " 2200 \tdomain: 11 \titeration: 0 \tstep: 23460 \tback\n",
        "curve:"
       ]
      },
      {
       "output_type": "stream",
       "stream": "stdout",
       "text": [
        " 2201 \tdomain: 11 \titeration: 1 \tstep: 23459 \tback\n",
        "curve:"
       ]
      },
      {
       "output_type": "stream",
       "stream": "stdout",
       "text": [
        " 2202 \tdomain: 11 \titeration: 2 \tstep: 23458 \tback\n",
        "curve:"
       ]
      },
      {
       "output_type": "stream",
       "stream": "stdout",
       "text": [
        " 2203 \tdomain: 11 \titeration: 3 \tstep: 23457 \tback\n",
        "curve:"
       ]
      },
      {
       "output_type": "stream",
       "stream": "stdout",
       "text": [
        " 2204 \tdomain: 11 \titeration: 4 \tstep: 23456 \tback\n",
        "curve:"
       ]
      },
      {
       "output_type": "stream",
       "stream": "stdout",
       "text": [
        " 2205 \tdomain: 11 \titeration: 5 \tstep: 23455 \tback\n",
        "curve:"
       ]
      },
      {
       "output_type": "stream",
       "stream": "stdout",
       "text": [
        " 2206 \tdomain: 11 \titeration: 6 \tstep: 23454 \tback\n",
        "curve:"
       ]
      },
      {
       "output_type": "stream",
       "stream": "stdout",
       "text": [
        " 2207 \tdomain: 11 \titeration: 7 \tstep: 23453 \tback\n",
        "curve:"
       ]
      },
      {
       "output_type": "stream",
       "stream": "stdout",
       "text": [
        " 2208 \tdomain: 11 \titeration: 8 \tstep: 23452 \tback\n",
        "curve:"
       ]
      },
      {
       "output_type": "stream",
       "stream": "stdout",
       "text": [
        " 2209 \tdomain: 11 \titeration: 9 \tstep: 23451 \tback\n",
        "curve:"
       ]
      },
      {
       "output_type": "stream",
       "stream": "stdout",
       "text": [
        " 2210 \tdomain: 11 \titeration: 10 \tstep: 23450 \tback\n",
        "curve:"
       ]
      },
      {
       "output_type": "stream",
       "stream": "stdout",
       "text": [
        " 2211 \tdomain: 11 \titeration: 11 \tstep: 23449 \tback\n",
        "curve:"
       ]
      },
      {
       "output_type": "stream",
       "stream": "stdout",
       "text": [
        " 2212 \tdomain: 11 \titeration: 12 \tstep: 23448 \tback\n",
        "curve:"
       ]
      },
      {
       "output_type": "stream",
       "stream": "stdout",
       "text": [
        " 2213 \tdomain: 11 \titeration: 13 \tstep: 23447 \tback\n",
        "curve:"
       ]
      },
      {
       "output_type": "stream",
       "stream": "stdout",
       "text": [
        " 2214 \tdomain: 11 \titeration: 14 \tstep: 23446 \tback\n",
        "curve:"
       ]
      },
      {
       "output_type": "stream",
       "stream": "stdout",
       "text": [
        " 2215 \tdomain: 11 \titeration: 15 \tstep: 23445 \tback\n",
        "curve:"
       ]
      },
      {
       "output_type": "stream",
       "stream": "stdout",
       "text": [
        " 2216 \tdomain: 11 \titeration: 16 \tstep: 23444 \tback\n",
        "curve:"
       ]
      },
      {
       "output_type": "stream",
       "stream": "stdout",
       "text": [
        " 2217 \tdomain: 11 \titeration: 17 \tstep: 23443 \tback\n",
        "curve:"
       ]
      },
      {
       "output_type": "stream",
       "stream": "stdout",
       "text": [
        " 2218 \tdomain: 11 \titeration: 18 \tstep: 23442 \tback\n",
        "curve:"
       ]
      },
      {
       "output_type": "stream",
       "stream": "stdout",
       "text": [
        " 2219 \tdomain: 11 \titeration: 19 \tstep: 23441 \tback\n",
        "curve:"
       ]
      },
      {
       "output_type": "stream",
       "stream": "stdout",
       "text": [
        " 2220 \tdomain: 11 \titeration: 20 \tstep: 23440 \tback\n",
        "curve:"
       ]
      },
      {
       "output_type": "stream",
       "stream": "stdout",
       "text": [
        " 2221 \tdomain: 11 \titeration: 21 \tstep: 23439 \tback\n",
        "curve:"
       ]
      },
      {
       "output_type": "stream",
       "stream": "stdout",
       "text": [
        " 2222 \tdomain: 11 \titeration: 22 \tstep: 23438 \tback\n",
        "curve:"
       ]
      },
      {
       "output_type": "stream",
       "stream": "stdout",
       "text": [
        " 2223 \tdomain: 11 \titeration: 23 \tstep: 23437 \tback\n",
        "curve:"
       ]
      },
      {
       "output_type": "stream",
       "stream": "stdout",
       "text": [
        " 2224 \tdomain: 11 \titeration: 24 \tstep: 23436 \tback\n",
        "curve:"
       ]
      },
      {
       "output_type": "stream",
       "stream": "stdout",
       "text": [
        " 2225 \tdomain: 11 \titeration: 25 \tstep: 23435 \tback\n",
        "curve:"
       ]
      },
      {
       "output_type": "stream",
       "stream": "stdout",
       "text": [
        " 2226 \tdomain: 11 \titeration: 26 \tstep: 23434 \tback\n",
        "curve:"
       ]
      },
      {
       "output_type": "stream",
       "stream": "stdout",
       "text": [
        " 2227 \tdomain: 11 \titeration: 27 \tstep: 23433 \tback\n",
        "curve:"
       ]
      },
      {
       "output_type": "stream",
       "stream": "stdout",
       "text": [
        " 2228 \tdomain: 11 \titeration: 28 \tstep: 23432 \tback\n",
        "curve:"
       ]
      },
      {
       "output_type": "stream",
       "stream": "stdout",
       "text": [
        " 2229 \tdomain: 11 \titeration: 29 \tstep: 23431 \tback\n",
        "curve:"
       ]
      },
      {
       "output_type": "stream",
       "stream": "stdout",
       "text": [
        " 2230 \tdomain: 11 \titeration: 30 \tstep: 23430 \tback\n",
        "curve:"
       ]
      },
      {
       "output_type": "stream",
       "stream": "stdout",
       "text": [
        " 2231 \tdomain: 11 \titeration: 31 \tstep: 23429 \tback\n",
        "curve:"
       ]
      },
      {
       "output_type": "stream",
       "stream": "stdout",
       "text": [
        " 2232 \tdomain: 11 \titeration: 32 \tstep: 23428 \tback\n",
        "curve:"
       ]
      },
      {
       "output_type": "stream",
       "stream": "stdout",
       "text": [
        " 2233 \tdomain: 11 \titeration: 33 \tstep: 23427 \tback\n",
        "curve:"
       ]
      },
      {
       "output_type": "stream",
       "stream": "stdout",
       "text": [
        " 2234 \tdomain: 11 \titeration: 34 \tstep: 23426 \tback\n",
        "curve:"
       ]
      },
      {
       "output_type": "stream",
       "stream": "stdout",
       "text": [
        " 2235 \tdomain: 11 \titeration: 35 \tstep: 23425 \tback\n",
        "curve:"
       ]
      },
      {
       "output_type": "stream",
       "stream": "stdout",
       "text": [
        " 2236 \tdomain: 11 \titeration: 36 \tstep: 23424 \tback\n",
        "curve:"
       ]
      },
      {
       "output_type": "stream",
       "stream": "stdout",
       "text": [
        " 2237 \tdomain: 11 \titeration: 37 \tstep: 23423 \tback\n",
        "curve:"
       ]
      },
      {
       "output_type": "stream",
       "stream": "stdout",
       "text": [
        " 2238 \tdomain: 11 \titeration: 38 \tstep: 23422 \tback\n",
        "curve:"
       ]
      },
      {
       "output_type": "stream",
       "stream": "stdout",
       "text": [
        " 2239 \tdomain: 11 \titeration: 39 \tstep: 23421 \tback\n",
        "curve:"
       ]
      },
      {
       "output_type": "stream",
       "stream": "stdout",
       "text": [
        " 2240 \tdomain: 11 \titeration: 40 \tstep: 23420 \tback\n",
        "curve:"
       ]
      },
      {
       "output_type": "stream",
       "stream": "stdout",
       "text": [
        " 2241 \tdomain: 11 \titeration: 41 \tstep: 23419 \tback\n",
        "curve:"
       ]
      },
      {
       "output_type": "stream",
       "stream": "stdout",
       "text": [
        " 2242 \tdomain: 11 \titeration: 42 \tstep: 23418 \tback\n",
        "curve:"
       ]
      },
      {
       "output_type": "stream",
       "stream": "stdout",
       "text": [
        " 2243 \tdomain: 11 \titeration: 43 \tstep: 23417 \tback\n",
        "curve:"
       ]
      },
      {
       "output_type": "stream",
       "stream": "stdout",
       "text": [
        " 2244 \tdomain: 11 \titeration: 44 \tstep: 23416 \tback\n",
        "curve:"
       ]
      },
      {
       "output_type": "stream",
       "stream": "stdout",
       "text": [
        " 2245 \tdomain: 11 \titeration: 45 \tstep: 23415 \tback\n",
        "curve:"
       ]
      },
      {
       "output_type": "stream",
       "stream": "stdout",
       "text": [
        " 2246 \tdomain: 11 \titeration: 46 \tstep: 23414 \tback\n",
        "curve:"
       ]
      },
      {
       "output_type": "stream",
       "stream": "stdout",
       "text": [
        " 2247 \tdomain: 11 \titeration: 47 \tstep: 23413 \tback\n",
        "curve:"
       ]
      },
      {
       "output_type": "stream",
       "stream": "stdout",
       "text": [
        " 2248 \tdomain: 11 \titeration: 48 \tstep: 23412 \tback\n",
        "curve:"
       ]
      },
      {
       "output_type": "stream",
       "stream": "stdout",
       "text": [
        " 2249 \tdomain: 11 \titeration: 49 \tstep: 23411 \tback\n",
        "curve:"
       ]
      },
      {
       "output_type": "stream",
       "stream": "stdout",
       "text": [
        " 2250 \tdomain: 11 \titeration: 50 \tstep: 23410 \tback\n",
        "curve:"
       ]
      },
      {
       "output_type": "stream",
       "stream": "stdout",
       "text": [
        " 2251 \tdomain: 11 \titeration: 51 \tstep: 23409 \tback\n",
        "curve:"
       ]
      },
      {
       "output_type": "stream",
       "stream": "stdout",
       "text": [
        " 2252 \tdomain: 11 \titeration: 52 \tstep: 23408 \tback\n",
        "curve:"
       ]
      },
      {
       "output_type": "stream",
       "stream": "stdout",
       "text": [
        " 2253 \tdomain: 11 \titeration: 53 \tstep: 23407 \tback\n",
        "curve:"
       ]
      },
      {
       "output_type": "stream",
       "stream": "stdout",
       "text": [
        " 2254 \tdomain: 11 \titeration: 54 \tstep: 23406 \tback\n",
        "curve:"
       ]
      },
      {
       "output_type": "stream",
       "stream": "stdout",
       "text": [
        " 2255 \tdomain: 11 \titeration: 55 \tstep: 23405 \tback\n",
        "curve:"
       ]
      },
      {
       "output_type": "stream",
       "stream": "stdout",
       "text": [
        " 2256 \tdomain: 11 \titeration: 56 \tstep: 23404 \tback\n",
        "curve:"
       ]
      },
      {
       "output_type": "stream",
       "stream": "stdout",
       "text": [
        " 2257 \tdomain: 11 \titeration: 57 \tstep: 23403 \tback\n",
        "curve:"
       ]
      },
      {
       "output_type": "stream",
       "stream": "stdout",
       "text": [
        " 2258 \tdomain: 11 \titeration: 58 \tstep: 23402 \tback\n",
        "curve:"
       ]
      },
      {
       "output_type": "stream",
       "stream": "stdout",
       "text": [
        " 2259 \tdomain: 11 \titeration: 59 \tstep: 23401 \tback\n",
        "curve:"
       ]
      },
      {
       "output_type": "stream",
       "stream": "stdout",
       "text": [
        " 2260 \tdomain: 11 \titeration: 60 \tstep: 23400 \tback\n",
        "curve:"
       ]
      },
      {
       "output_type": "stream",
       "stream": "stdout",
       "text": [
        " 2261 \tdomain: 11 \titeration: 61 \tstep: 23399 \tback\n",
        "curve:"
       ]
      },
      {
       "output_type": "stream",
       "stream": "stdout",
       "text": [
        " 2262 \tdomain: 11 \titeration: 62 \tstep: 23398 \tback\n",
        "curve:"
       ]
      },
      {
       "output_type": "stream",
       "stream": "stdout",
       "text": [
        " 2263 \tdomain: 11 \titeration: 63 \tstep: 23397 \tback\n",
        "curve:"
       ]
      },
      {
       "output_type": "stream",
       "stream": "stdout",
       "text": [
        " 2264 \tdomain: 11 \titeration: 64 \tstep: 23396 \tback\n",
        "curve:"
       ]
      },
      {
       "output_type": "stream",
       "stream": "stdout",
       "text": [
        " 2265 \tdomain: 11 \titeration: 65 \tstep: 23395 \tback\n",
        "curve:"
       ]
      },
      {
       "output_type": "stream",
       "stream": "stdout",
       "text": [
        " 2266 \tdomain: 11 \titeration: 66 \tstep: 23394 \tback\n",
        "curve:"
       ]
      },
      {
       "output_type": "stream",
       "stream": "stdout",
       "text": [
        " 2267 \tdomain: 11 \titeration: 67 \tstep: 23393 \tback\n",
        "curve:"
       ]
      },
      {
       "output_type": "stream",
       "stream": "stdout",
       "text": [
        " 2268 \tdomain: 11 \titeration: 68 \tstep: 23392 \tback\n",
        "curve:"
       ]
      },
      {
       "output_type": "stream",
       "stream": "stdout",
       "text": [
        " 2269 \tdomain: 11 \titeration: 69 \tstep: 23391 \tback\n",
        "curve:"
       ]
      },
      {
       "output_type": "stream",
       "stream": "stdout",
       "text": [
        " 2270 \tdomain: 11 \titeration: 70 \tstep: 23390 \tback\n",
        "curve:"
       ]
      },
      {
       "output_type": "stream",
       "stream": "stdout",
       "text": [
        " 2271 \tdomain: 11 \titeration: 71 \tstep: 23389 \tback\n",
        "curve:"
       ]
      },
      {
       "output_type": "stream",
       "stream": "stdout",
       "text": [
        " 2272 \tdomain: 11 \titeration: 72 \tstep: 23388 \tback\n",
        "curve:"
       ]
      },
      {
       "output_type": "stream",
       "stream": "stdout",
       "text": [
        " 2273 \tdomain: 11 \titeration: 73 \tstep: 23387 \tback\n",
        "curve:"
       ]
      },
      {
       "output_type": "stream",
       "stream": "stdout",
       "text": [
        " 2274 \tdomain: 11 \titeration: 74 \tstep: 23386 \tback\n",
        "curve:"
       ]
      },
      {
       "output_type": "stream",
       "stream": "stdout",
       "text": [
        " 2275 \tdomain: 11 \titeration: 75 \tstep: 23385 \tback\n",
        "curve:"
       ]
      },
      {
       "output_type": "stream",
       "stream": "stdout",
       "text": [
        " 2276 \tdomain: 11 \titeration: 76 \tstep: 23384 \tback\n",
        "curve:"
       ]
      },
      {
       "output_type": "stream",
       "stream": "stdout",
       "text": [
        " 2277 \tdomain: 11 \titeration: 77 \tstep: 23383 \tback\n",
        "curve:"
       ]
      },
      {
       "output_type": "stream",
       "stream": "stdout",
       "text": [
        " 2278 \tdomain: 11 \titeration: 78 \tstep: 23382 \tback\n",
        "curve:"
       ]
      },
      {
       "output_type": "stream",
       "stream": "stdout",
       "text": [
        " 2279 \tdomain: 11 \titeration: 79 \tstep: 23381 \tback\n",
        "curve:"
       ]
      },
      {
       "output_type": "stream",
       "stream": "stdout",
       "text": [
        " 2280 \tdomain: 11 \titeration: 80 \tstep: 23380 \tback\n",
        "curve:"
       ]
      },
      {
       "output_type": "stream",
       "stream": "stdout",
       "text": [
        " 2281 \tdomain: 11 \titeration: 81 \tstep: 23379 \tback\n",
        "curve:"
       ]
      },
      {
       "output_type": "stream",
       "stream": "stdout",
       "text": [
        " 2282 \tdomain: 11 \titeration: 82 \tstep: 23378 \tback\n",
        "curve:"
       ]
      },
      {
       "output_type": "stream",
       "stream": "stdout",
       "text": [
        " 2283 \tdomain: 11 \titeration: 83 \tstep: 23377 \tback\n",
        "curve:"
       ]
      },
      {
       "output_type": "stream",
       "stream": "stdout",
       "text": [
        " 2284 \tdomain: 11 \titeration: 84 \tstep: 23376 \tback\n",
        "curve:"
       ]
      },
      {
       "output_type": "stream",
       "stream": "stdout",
       "text": [
        " 2285 \tdomain: 11 \titeration: 85 \tstep: 23375 \tback\n",
        "curve:"
       ]
      },
      {
       "output_type": "stream",
       "stream": "stdout",
       "text": [
        " 2286 \tdomain: 11 \titeration: 86 \tstep: 23374 \tback\n",
        "curve:"
       ]
      },
      {
       "output_type": "stream",
       "stream": "stdout",
       "text": [
        " 2287 \tdomain: 11 \titeration: 87 \tstep: 23373 \tback\n",
        "curve:"
       ]
      },
      {
       "output_type": "stream",
       "stream": "stdout",
       "text": [
        " 2288 \tdomain: 11 \titeration: 88 \tstep: 23372 \tback\n",
        "curve:"
       ]
      },
      {
       "output_type": "stream",
       "stream": "stdout",
       "text": [
        " 2289 \tdomain: 11 \titeration: 89 \tstep: 23371 \tback\n",
        "curve:"
       ]
      },
      {
       "output_type": "stream",
       "stream": "stdout",
       "text": [
        " 2290 \tdomain: 11 \titeration: 90 \tstep: 23370 \tback\n",
        "curve:"
       ]
      },
      {
       "output_type": "stream",
       "stream": "stdout",
       "text": [
        " 2291 \tdomain: 11 \titeration: 91 \tstep: 23369 \tback\n",
        "curve:"
       ]
      },
      {
       "output_type": "stream",
       "stream": "stdout",
       "text": [
        " 2292 \tdomain: 11 \titeration: 92 \tstep: 23368 \tback\n",
        "curve:"
       ]
      },
      {
       "output_type": "stream",
       "stream": "stdout",
       "text": [
        " 2293 \tdomain: 11 \titeration: 93 \tstep: 23367 \tback\n",
        "curve:"
       ]
      },
      {
       "output_type": "stream",
       "stream": "stdout",
       "text": [
        " 2294 \tdomain: 11 \titeration: 94 \tstep: 23366 \tback\n",
        "curve:"
       ]
      },
      {
       "output_type": "stream",
       "stream": "stdout",
       "text": [
        " 2295 \tdomain: 11 \titeration: 95 \tstep: 23365 \tback\n",
        "curve:"
       ]
      },
      {
       "output_type": "stream",
       "stream": "stdout",
       "text": [
        " 2296 \tdomain: 11 \titeration: 96 \tstep: 23364 \tback\n",
        "curve:"
       ]
      },
      {
       "output_type": "stream",
       "stream": "stdout",
       "text": [
        " 2297 \tdomain: 11 \titeration: 97 \tstep: 23363 \tback\n",
        "curve:"
       ]
      },
      {
       "output_type": "stream",
       "stream": "stdout",
       "text": [
        " 2298 \tdomain: 11 \titeration: 98 \tstep: 23362 \tback\n",
        "curve:"
       ]
      },
      {
       "output_type": "stream",
       "stream": "stdout",
       "text": [
        " 2299 \tdomain: 11 \titeration: 99 \tstep: 23361 \tback\n",
        "curve:"
       ]
      },
      {
       "output_type": "stream",
       "stream": "stdout",
       "text": [
        " 2300 \tdomain: 11 \titeration: 0 \tstep: 23361 \tforth\n",
        "curve:"
       ]
      },
      {
       "output_type": "stream",
       "stream": "stdout",
       "text": [
        " 2301 \tdomain: 11 \titeration: 1 \tstep: 23362 \tforth\n",
        "curve:"
       ]
      },
      {
       "output_type": "stream",
       "stream": "stdout",
       "text": [
        " 2302 \tdomain: 11 \titeration: 2 \tstep: 23363 \tforth\n",
        "curve:"
       ]
      },
      {
       "output_type": "stream",
       "stream": "stdout",
       "text": [
        " 2303 \tdomain: 11 \titeration: 3 \tstep: 23364 \tforth\n",
        "curve:"
       ]
      },
      {
       "output_type": "stream",
       "stream": "stdout",
       "text": [
        " 2304 \tdomain: 11 \titeration: 4 \tstep: 23365 \tforth\n",
        "curve:"
       ]
      },
      {
       "output_type": "stream",
       "stream": "stdout",
       "text": [
        " 2305 \tdomain: 11 \titeration: 5 \tstep: 23366 \tforth\n",
        "curve:"
       ]
      },
      {
       "output_type": "stream",
       "stream": "stdout",
       "text": [
        " 2306 \tdomain: 11 \titeration: 6 \tstep: 23367 \tforth\n",
        "curve:"
       ]
      },
      {
       "output_type": "stream",
       "stream": "stdout",
       "text": [
        " 2307 \tdomain: 11 \titeration: 7 \tstep: 23368 \tforth\n",
        "curve:"
       ]
      },
      {
       "output_type": "stream",
       "stream": "stdout",
       "text": [
        " 2308 \tdomain: 11 \titeration: 8 \tstep: 23369 \tforth\n",
        "curve:"
       ]
      },
      {
       "output_type": "stream",
       "stream": "stdout",
       "text": [
        " 2309 \tdomain: 11 \titeration: 9 \tstep: 23370 \tforth\n",
        "curve:"
       ]
      },
      {
       "output_type": "stream",
       "stream": "stdout",
       "text": [
        " 2310 \tdomain: 11 \titeration: 10 \tstep: 23371 \tforth\n",
        "curve:"
       ]
      },
      {
       "output_type": "stream",
       "stream": "stdout",
       "text": [
        " 2311 \tdomain: 11 \titeration: 11 \tstep: 23372 \tforth\n",
        "curve:"
       ]
      },
      {
       "output_type": "stream",
       "stream": "stdout",
       "text": [
        " 2312 \tdomain: 11 \titeration: 12 \tstep: 23373 \tforth\n",
        "curve:"
       ]
      },
      {
       "output_type": "stream",
       "stream": "stdout",
       "text": [
        " 2313 \tdomain: 11 \titeration: 13 \tstep: 23374 \tforth\n",
        "curve:"
       ]
      },
      {
       "output_type": "stream",
       "stream": "stdout",
       "text": [
        " 2314 \tdomain: 11 \titeration: 14 \tstep: 23375 \tforth\n",
        "curve:"
       ]
      },
      {
       "output_type": "stream",
       "stream": "stdout",
       "text": [
        " 2315 \tdomain: 11 \titeration: 15 \tstep: 23376 \tforth\n",
        "curve:"
       ]
      },
      {
       "output_type": "stream",
       "stream": "stdout",
       "text": [
        " 2316 \tdomain: 11 \titeration: 16 \tstep: 23377 \tforth\n",
        "curve:"
       ]
      },
      {
       "output_type": "stream",
       "stream": "stdout",
       "text": [
        " 2317 \tdomain: 11 \titeration: 17 \tstep: 23378 \tforth\n",
        "curve:"
       ]
      },
      {
       "output_type": "stream",
       "stream": "stdout",
       "text": [
        " 2318 \tdomain: 11 \titeration: 18 \tstep: 23379 \tforth\n",
        "curve:"
       ]
      },
      {
       "output_type": "stream",
       "stream": "stdout",
       "text": [
        " 2319 \tdomain: 11 \titeration: 19 \tstep: 23380 \tforth\n",
        "curve:"
       ]
      },
      {
       "output_type": "stream",
       "stream": "stdout",
       "text": [
        " 2320 \tdomain: 11 \titeration: 20 \tstep: 23381 \tforth\n",
        "curve:"
       ]
      },
      {
       "output_type": "stream",
       "stream": "stdout",
       "text": [
        " 2321 \tdomain: 11 \titeration: 21 \tstep: 23382 \tforth\n",
        "curve:"
       ]
      },
      {
       "output_type": "stream",
       "stream": "stdout",
       "text": [
        " 2322 \tdomain: 11 \titeration: 22 \tstep: 23383 \tforth\n",
        "curve:"
       ]
      },
      {
       "output_type": "stream",
       "stream": "stdout",
       "text": [
        " 2323 \tdomain: 11 \titeration: 23 \tstep: 23384 \tforth\n",
        "curve:"
       ]
      },
      {
       "output_type": "stream",
       "stream": "stdout",
       "text": [
        " 2324 \tdomain: 11 \titeration: 24 \tstep: 23385 \tforth\n",
        "curve:"
       ]
      },
      {
       "output_type": "stream",
       "stream": "stdout",
       "text": [
        " 2325 \tdomain: 11 \titeration: 25 \tstep: 23386 \tforth\n",
        "curve:"
       ]
      },
      {
       "output_type": "stream",
       "stream": "stdout",
       "text": [
        " 2326 \tdomain: 11 \titeration: 26 \tstep: 23387 \tforth\n",
        "curve:"
       ]
      },
      {
       "output_type": "stream",
       "stream": "stdout",
       "text": [
        " 2327 \tdomain: 11 \titeration: 27 \tstep: 23388 \tforth\n",
        "curve:"
       ]
      },
      {
       "output_type": "stream",
       "stream": "stdout",
       "text": [
        " 2328 \tdomain: 11 \titeration: 28 \tstep: 23389 \tforth\n",
        "curve:"
       ]
      },
      {
       "output_type": "stream",
       "stream": "stdout",
       "text": [
        " 2329 \tdomain: 11 \titeration: 29 \tstep: 23390 \tforth\n",
        "curve:"
       ]
      },
      {
       "output_type": "stream",
       "stream": "stdout",
       "text": [
        " 2330 \tdomain: 11 \titeration: 30 \tstep: 23391 \tforth\n",
        "curve:"
       ]
      },
      {
       "output_type": "stream",
       "stream": "stdout",
       "text": [
        " 2331 \tdomain: 11 \titeration: 31 \tstep: 23392 \tforth\n",
        "curve:"
       ]
      },
      {
       "output_type": "stream",
       "stream": "stdout",
       "text": [
        " 2332 \tdomain: 11 \titeration: 32 \tstep: 23393 \tforth\n",
        "curve:"
       ]
      },
      {
       "output_type": "stream",
       "stream": "stdout",
       "text": [
        " 2333 \tdomain: 11 \titeration: 33 \tstep: 23394 \tforth\n",
        "curve:"
       ]
      },
      {
       "output_type": "stream",
       "stream": "stdout",
       "text": [
        " 2334 \tdomain: 11 \titeration: 34 \tstep: 23395 \tforth\n",
        "curve:"
       ]
      },
      {
       "output_type": "stream",
       "stream": "stdout",
       "text": [
        " 2335 \tdomain: 11 \titeration: 35 \tstep: 23396 \tforth\n",
        "curve:"
       ]
      },
      {
       "output_type": "stream",
       "stream": "stdout",
       "text": [
        " 2336 \tdomain: 11 \titeration: 36 \tstep: 23397 \tforth\n",
        "curve:"
       ]
      },
      {
       "output_type": "stream",
       "stream": "stdout",
       "text": [
        " 2337 \tdomain: 11 \titeration: 37 \tstep: 23398 \tforth\n",
        "curve:"
       ]
      },
      {
       "output_type": "stream",
       "stream": "stdout",
       "text": [
        " 2338 \tdomain: 11 \titeration: 38 \tstep: 23399 \tforth\n",
        "curve:"
       ]
      },
      {
       "output_type": "stream",
       "stream": "stdout",
       "text": [
        " 2339 \tdomain: 11 \titeration: 39 \tstep: 23400 \tforth\n",
        "curve:"
       ]
      },
      {
       "output_type": "stream",
       "stream": "stdout",
       "text": [
        " 2340 \tdomain: 11 \titeration: 40 \tstep: 23401 \tforth\n",
        "curve:"
       ]
      },
      {
       "output_type": "stream",
       "stream": "stdout",
       "text": [
        " 2341 \tdomain: 11 \titeration: 41 \tstep: 23402 \tforth\n",
        "curve:"
       ]
      },
      {
       "output_type": "stream",
       "stream": "stdout",
       "text": [
        " 2342 \tdomain: 11 \titeration: 42 \tstep: 23403 \tforth\n",
        "curve:"
       ]
      },
      {
       "output_type": "stream",
       "stream": "stdout",
       "text": [
        " 2343 \tdomain: 11 \titeration: 43 \tstep: 23404 \tforth\n",
        "curve:"
       ]
      },
      {
       "output_type": "stream",
       "stream": "stdout",
       "text": [
        " 2344 \tdomain: 11 \titeration: 44 \tstep: 23405 \tforth\n",
        "curve:"
       ]
      },
      {
       "output_type": "stream",
       "stream": "stdout",
       "text": [
        " 2345 \tdomain: 11 \titeration: 45 \tstep: 23406 \tforth\n",
        "curve:"
       ]
      },
      {
       "output_type": "stream",
       "stream": "stdout",
       "text": [
        " 2346 \tdomain: 11 \titeration: 46 \tstep: 23407 \tforth\n",
        "curve:"
       ]
      },
      {
       "output_type": "stream",
       "stream": "stdout",
       "text": [
        " 2347 \tdomain: 11 \titeration: 47 \tstep: 23408 \tforth\n",
        "curve:"
       ]
      },
      {
       "output_type": "stream",
       "stream": "stdout",
       "text": [
        " 2348 \tdomain: 11 \titeration: 48 \tstep: 23409 \tforth\n",
        "curve:"
       ]
      },
      {
       "output_type": "stream",
       "stream": "stdout",
       "text": [
        " 2349 \tdomain: 11 \titeration: 49 \tstep: 23410 \tforth\n",
        "curve:"
       ]
      },
      {
       "output_type": "stream",
       "stream": "stdout",
       "text": [
        " 2350 \tdomain: 11 \titeration: 50 \tstep: 23411 \tforth\n",
        "curve:"
       ]
      },
      {
       "output_type": "stream",
       "stream": "stdout",
       "text": [
        " 2351 \tdomain: 11 \titeration: 51 \tstep: 23412 \tforth\n",
        "curve:"
       ]
      },
      {
       "output_type": "stream",
       "stream": "stdout",
       "text": [
        " 2352 \tdomain: 11 \titeration: 52 \tstep: 23413 \tforth\n",
        "curve:"
       ]
      },
      {
       "output_type": "stream",
       "stream": "stdout",
       "text": [
        " 2353 \tdomain: 11 \titeration: 53 \tstep: 23414 \tforth\n",
        "curve:"
       ]
      },
      {
       "output_type": "stream",
       "stream": "stdout",
       "text": [
        " 2354 \tdomain: 11 \titeration: 54 \tstep: 23415 \tforth\n",
        "curve:"
       ]
      },
      {
       "output_type": "stream",
       "stream": "stdout",
       "text": [
        " 2355 \tdomain: 11 \titeration: 55 \tstep: 23416 \tforth\n",
        "curve:"
       ]
      },
      {
       "output_type": "stream",
       "stream": "stdout",
       "text": [
        " 2356 \tdomain: 11 \titeration: 56 \tstep: 23417 \tforth\n",
        "curve:"
       ]
      },
      {
       "output_type": "stream",
       "stream": "stdout",
       "text": [
        " 2357 \tdomain: 11 \titeration: 57 \tstep: 23418 \tforth\n",
        "curve:"
       ]
      },
      {
       "output_type": "stream",
       "stream": "stdout",
       "text": [
        " 2358 \tdomain: 11 \titeration: 58 \tstep: 23419 \tforth\n",
        "curve:"
       ]
      },
      {
       "output_type": "stream",
       "stream": "stdout",
       "text": [
        " 2359 \tdomain: 11 \titeration: 59 \tstep: 23420 \tforth\n",
        "curve:"
       ]
      },
      {
       "output_type": "stream",
       "stream": "stdout",
       "text": [
        " 2360 \tdomain: 11 \titeration: 60 \tstep: 23421 \tforth\n",
        "curve:"
       ]
      },
      {
       "output_type": "stream",
       "stream": "stdout",
       "text": [
        " 2361 \tdomain: 11 \titeration: 61 \tstep: 23422 \tforth\n",
        "curve:"
       ]
      },
      {
       "output_type": "stream",
       "stream": "stdout",
       "text": [
        " 2362 \tdomain: 11 \titeration: 62 \tstep: 23423 \tforth\n",
        "curve:"
       ]
      },
      {
       "output_type": "stream",
       "stream": "stdout",
       "text": [
        " 2363 \tdomain: 11 \titeration: 63 \tstep: 23424 \tforth\n",
        "curve:"
       ]
      },
      {
       "output_type": "stream",
       "stream": "stdout",
       "text": [
        " 2364 \tdomain: 11 \titeration: 64 \tstep: 23425 \tforth\n",
        "curve:"
       ]
      },
      {
       "output_type": "stream",
       "stream": "stdout",
       "text": [
        " 2365 \tdomain: 11 \titeration: 65 \tstep: 23426 \tforth\n",
        "curve:"
       ]
      },
      {
       "output_type": "stream",
       "stream": "stdout",
       "text": [
        " 2366 \tdomain: 11 \titeration: 66 \tstep: 23427 \tforth\n",
        "curve:"
       ]
      },
      {
       "output_type": "stream",
       "stream": "stdout",
       "text": [
        " 2367 \tdomain: 11 \titeration: 67 \tstep: 23428 \tforth\n",
        "curve:"
       ]
      },
      {
       "output_type": "stream",
       "stream": "stdout",
       "text": [
        " 2368 \tdomain: 11 \titeration: 68 \tstep: 23429 \tforth\n",
        "curve:"
       ]
      },
      {
       "output_type": "stream",
       "stream": "stdout",
       "text": [
        " 2369 \tdomain: 11 \titeration: 69 \tstep: 23430 \tforth\n",
        "curve:"
       ]
      },
      {
       "output_type": "stream",
       "stream": "stdout",
       "text": [
        " 2370 \tdomain: 11 \titeration: 70 \tstep: 23431 \tforth\n",
        "curve:"
       ]
      },
      {
       "output_type": "stream",
       "stream": "stdout",
       "text": [
        " 2371 \tdomain: 11 \titeration: 71 \tstep: 23432 \tforth\n",
        "curve:"
       ]
      },
      {
       "output_type": "stream",
       "stream": "stdout",
       "text": [
        " 2372 \tdomain: 11 \titeration: 72 \tstep: 23433 \tforth\n",
        "curve:"
       ]
      },
      {
       "output_type": "stream",
       "stream": "stdout",
       "text": [
        " 2373 \tdomain: 11 \titeration: 73 \tstep: 23434 \tforth\n",
        "curve:"
       ]
      },
      {
       "output_type": "stream",
       "stream": "stdout",
       "text": [
        " 2374 \tdomain: 11 \titeration: 74 \tstep: 23435 \tforth\n",
        "curve:"
       ]
      },
      {
       "output_type": "stream",
       "stream": "stdout",
       "text": [
        " 2375 \tdomain: 11 \titeration: 75 \tstep: 23436 \tforth\n",
        "curve:"
       ]
      },
      {
       "output_type": "stream",
       "stream": "stdout",
       "text": [
        " 2376 \tdomain: 11 \titeration: 76 \tstep: 23437 \tforth\n",
        "curve:"
       ]
      },
      {
       "output_type": "stream",
       "stream": "stdout",
       "text": [
        " 2377 \tdomain: 11 \titeration: 77 \tstep: 23438 \tforth\n",
        "curve:"
       ]
      },
      {
       "output_type": "stream",
       "stream": "stdout",
       "text": [
        " 2378 \tdomain: 11 \titeration: 78 \tstep: 23439 \tforth\n",
        "curve:"
       ]
      },
      {
       "output_type": "stream",
       "stream": "stdout",
       "text": [
        " 2379 \tdomain: 11 \titeration: 79 \tstep: 23440 \tforth\n",
        "curve:"
       ]
      },
      {
       "output_type": "stream",
       "stream": "stdout",
       "text": [
        " 2380 \tdomain: 11 \titeration: 80 \tstep: 23441 \tforth\n",
        "curve:"
       ]
      },
      {
       "output_type": "stream",
       "stream": "stdout",
       "text": [
        " 2381 \tdomain: 11 \titeration: 81 \tstep: 23442 \tforth\n",
        "curve:"
       ]
      },
      {
       "output_type": "stream",
       "stream": "stdout",
       "text": [
        " 2382 \tdomain: 11 \titeration: 82 \tstep: 23443 \tforth\n",
        "curve:"
       ]
      },
      {
       "output_type": "stream",
       "stream": "stdout",
       "text": [
        " 2383 \tdomain: 11 \titeration: 83 \tstep: 23444 \tforth\n",
        "curve:"
       ]
      },
      {
       "output_type": "stream",
       "stream": "stdout",
       "text": [
        " 2384 \tdomain: 11 \titeration: 84 \tstep: 23445 \tforth\n",
        "curve:"
       ]
      },
      {
       "output_type": "stream",
       "stream": "stdout",
       "text": [
        " 2385 \tdomain: 11 \titeration: 85 \tstep: 23446 \tforth\n",
        "curve:"
       ]
      },
      {
       "output_type": "stream",
       "stream": "stdout",
       "text": [
        " 2386 \tdomain: 11 \titeration: 86 \tstep: 23447 \tforth\n",
        "curve:"
       ]
      },
      {
       "output_type": "stream",
       "stream": "stdout",
       "text": [
        " 2387 \tdomain: 11 \titeration: 87 \tstep: 23448 \tforth\n",
        "curve:"
       ]
      },
      {
       "output_type": "stream",
       "stream": "stdout",
       "text": [
        " 2388 \tdomain: 11 \titeration: 88 \tstep: 23449 \tforth\n",
        "curve:"
       ]
      },
      {
       "output_type": "stream",
       "stream": "stdout",
       "text": [
        " 2389 \tdomain: 11 \titeration: 89 \tstep: 23450 \tforth\n",
        "curve:"
       ]
      },
      {
       "output_type": "stream",
       "stream": "stdout",
       "text": [
        " 2390 \tdomain: 11 \titeration: 90 \tstep: 23451 \tforth\n",
        "curve:"
       ]
      },
      {
       "output_type": "stream",
       "stream": "stdout",
       "text": [
        " 2391 \tdomain: 11 \titeration: 91 \tstep: 23452 \tforth\n",
        "curve:"
       ]
      },
      {
       "output_type": "stream",
       "stream": "stdout",
       "text": [
        " 2392 \tdomain: 11 \titeration: 92 \tstep: 23453 \tforth\n",
        "curve:"
       ]
      },
      {
       "output_type": "stream",
       "stream": "stdout",
       "text": [
        " 2393 \tdomain: 11 \titeration: 93 \tstep: 23454 \tforth\n",
        "curve:"
       ]
      },
      {
       "output_type": "stream",
       "stream": "stdout",
       "text": [
        " 2394 \tdomain: 11 \titeration: 94 \tstep: 23455 \tforth\n",
        "curve:"
       ]
      },
      {
       "output_type": "stream",
       "stream": "stdout",
       "text": [
        " 2395 \tdomain: 11 \titeration: 95 \tstep: 23456 \tforth\n",
        "curve:"
       ]
      },
      {
       "output_type": "stream",
       "stream": "stdout",
       "text": [
        " 2396 \tdomain: 11 \titeration: 96 \tstep: 23457 \tforth\n",
        "curve:"
       ]
      },
      {
       "output_type": "stream",
       "stream": "stdout",
       "text": [
        " 2397 \tdomain: 11 \titeration: 97 \tstep: 23458 \tforth\n",
        "curve:"
       ]
      },
      {
       "output_type": "stream",
       "stream": "stdout",
       "text": [
        " 2398 \tdomain: 11 \titeration: 98 \tstep: 23459 \tforth\n",
        "curve:"
       ]
      },
      {
       "output_type": "stream",
       "stream": "stdout",
       "text": [
        " 2399 \tdomain: 11 \titeration: 99 \tstep: 23460 \tforth\n",
        "curve:"
       ]
      },
      {
       "output_type": "stream",
       "stream": "stdout",
       "text": [
        " 2400 \tdomain: 12 \titeration: 0 \tstep: 23360 \tback\n",
        "curve:"
       ]
      },
      {
       "output_type": "stream",
       "stream": "stdout",
       "text": [
        " 2401 \tdomain: 12 \titeration: 1 \tstep: 23359 \tback\n",
        "curve:"
       ]
      },
      {
       "output_type": "stream",
       "stream": "stdout",
       "text": [
        " 2402 \tdomain: 12 \titeration: 2 \tstep: 23358 \tback\n",
        "curve:"
       ]
      },
      {
       "output_type": "stream",
       "stream": "stdout",
       "text": [
        " 2403 \tdomain: 12 \titeration: 3 \tstep: 23357 \tback\n",
        "curve:"
       ]
      },
      {
       "output_type": "stream",
       "stream": "stdout",
       "text": [
        " 2404 \tdomain: 12 \titeration: 4 \tstep: 23356 \tback\n",
        "curve:"
       ]
      },
      {
       "output_type": "stream",
       "stream": "stdout",
       "text": [
        " 2405 \tdomain: 12 \titeration: 5 \tstep: 23355 \tback\n",
        "curve:"
       ]
      },
      {
       "output_type": "stream",
       "stream": "stdout",
       "text": [
        " 2406 \tdomain: 12 \titeration: 6 \tstep: 23354 \tback\n",
        "curve:"
       ]
      },
      {
       "output_type": "stream",
       "stream": "stdout",
       "text": [
        " 2407 \tdomain: 12 \titeration: 7 \tstep: 23353 \tback\n",
        "curve:"
       ]
      },
      {
       "output_type": "stream",
       "stream": "stdout",
       "text": [
        " 2408 \tdomain: 12 \titeration: 8 \tstep: 23352 \tback\n",
        "curve:"
       ]
      },
      {
       "output_type": "stream",
       "stream": "stdout",
       "text": [
        " 2409 \tdomain: 12 \titeration: 9 \tstep: 23351 \tback\n",
        "curve:"
       ]
      },
      {
       "output_type": "stream",
       "stream": "stdout",
       "text": [
        " 2410 \tdomain: 12 \titeration: 10 \tstep: 23350 \tback\n",
        "curve:"
       ]
      },
      {
       "output_type": "stream",
       "stream": "stdout",
       "text": [
        " 2411 \tdomain: 12 \titeration: 11 \tstep: 23349 \tback\n",
        "curve:"
       ]
      },
      {
       "output_type": "stream",
       "stream": "stdout",
       "text": [
        " 2412 \tdomain: 12 \titeration: 12 \tstep: 23348 \tback\n",
        "curve:"
       ]
      },
      {
       "output_type": "stream",
       "stream": "stdout",
       "text": [
        " 2413 \tdomain: 12 \titeration: 13 \tstep: 23347 \tback\n",
        "curve:"
       ]
      },
      {
       "output_type": "stream",
       "stream": "stdout",
       "text": [
        " 2414 \tdomain: 12 \titeration: 14 \tstep: 23346 \tback\n",
        "curve:"
       ]
      },
      {
       "output_type": "stream",
       "stream": "stdout",
       "text": [
        " 2415 \tdomain: 12 \titeration: 15 \tstep: 23345 \tback\n",
        "curve:"
       ]
      },
      {
       "output_type": "stream",
       "stream": "stdout",
       "text": [
        " 2416 \tdomain: 12 \titeration: 16 \tstep: 23344 \tback\n",
        "curve:"
       ]
      },
      {
       "output_type": "stream",
       "stream": "stdout",
       "text": [
        " 2417 \tdomain: 12 \titeration: 17 \tstep: 23343 \tback\n",
        "curve:"
       ]
      },
      {
       "output_type": "stream",
       "stream": "stdout",
       "text": [
        " 2418 \tdomain: 12 \titeration: 18 \tstep: 23342 \tback\n",
        "curve:"
       ]
      },
      {
       "output_type": "stream",
       "stream": "stdout",
       "text": [
        " 2419 \tdomain: 12 \titeration: 19 \tstep: 23341 \tback\n",
        "curve:"
       ]
      },
      {
       "output_type": "stream",
       "stream": "stdout",
       "text": [
        " 2420 \tdomain: 12 \titeration: 20 \tstep: 23340 \tback\n",
        "curve:"
       ]
      },
      {
       "output_type": "stream",
       "stream": "stdout",
       "text": [
        " 2421 \tdomain: 12 \titeration: 21 \tstep: 23339 \tback\n",
        "curve:"
       ]
      },
      {
       "output_type": "stream",
       "stream": "stdout",
       "text": [
        " 2422 \tdomain: 12 \titeration: 22 \tstep: 23338 \tback\n",
        "curve:"
       ]
      },
      {
       "output_type": "stream",
       "stream": "stdout",
       "text": [
        " 2423 \tdomain: 12 \titeration: 23 \tstep: 23337 \tback\n",
        "curve:"
       ]
      },
      {
       "output_type": "stream",
       "stream": "stdout",
       "text": [
        " 2424 \tdomain: 12 \titeration: 24 \tstep: 23336 \tback\n",
        "curve:"
       ]
      },
      {
       "output_type": "stream",
       "stream": "stdout",
       "text": [
        " 2425 \tdomain: 12 \titeration: 25 \tstep: 23335 \tback\n",
        "curve:"
       ]
      },
      {
       "output_type": "stream",
       "stream": "stdout",
       "text": [
        " 2426 \tdomain: 12 \titeration: 26 \tstep: 23334 \tback\n",
        "curve:"
       ]
      },
      {
       "output_type": "stream",
       "stream": "stdout",
       "text": [
        " 2427 \tdomain: 12 \titeration: 27 \tstep: 23333 \tback\n",
        "curve:"
       ]
      },
      {
       "output_type": "stream",
       "stream": "stdout",
       "text": [
        " 2428 \tdomain: 12 \titeration: 28 \tstep: 23332 \tback\n",
        "curve:"
       ]
      },
      {
       "output_type": "stream",
       "stream": "stdout",
       "text": [
        " 2429 \tdomain: 12 \titeration: 29 \tstep: 23331 \tback\n",
        "curve:"
       ]
      },
      {
       "output_type": "stream",
       "stream": "stdout",
       "text": [
        " 2430 \tdomain: 12 \titeration: 30 \tstep: 23330 \tback\n",
        "curve:"
       ]
      },
      {
       "output_type": "stream",
       "stream": "stdout",
       "text": [
        " 2431 \tdomain: 12 \titeration: 31 \tstep: 23329 \tback\n",
        "curve:"
       ]
      },
      {
       "output_type": "stream",
       "stream": "stdout",
       "text": [
        " 2432 \tdomain: 12 \titeration: 32 \tstep: 23328 \tback\n",
        "curve:"
       ]
      },
      {
       "output_type": "stream",
       "stream": "stdout",
       "text": [
        " 2433 \tdomain: 12 \titeration: 33 \tstep: 23327 \tback\n",
        "curve:"
       ]
      },
      {
       "output_type": "stream",
       "stream": "stdout",
       "text": [
        " 2434 \tdomain: 12 \titeration: 34 \tstep: 23326 \tback\n",
        "curve:"
       ]
      },
      {
       "output_type": "stream",
       "stream": "stdout",
       "text": [
        " 2435 \tdomain: 12 \titeration: 35 \tstep: 23325 \tback\n",
        "curve:"
       ]
      },
      {
       "output_type": "stream",
       "stream": "stdout",
       "text": [
        " 2436 \tdomain: 12 \titeration: 36 \tstep: 23324 \tback\n",
        "curve:"
       ]
      },
      {
       "output_type": "stream",
       "stream": "stdout",
       "text": [
        " 2437 \tdomain: 12 \titeration: 37 \tstep: 23323 \tback\n",
        "curve:"
       ]
      },
      {
       "output_type": "stream",
       "stream": "stdout",
       "text": [
        " 2438 \tdomain: 12 \titeration: 38 \tstep: 23322 \tback\n",
        "curve:"
       ]
      },
      {
       "output_type": "stream",
       "stream": "stdout",
       "text": [
        " 2439 \tdomain: 12 \titeration: 39 \tstep: 23321 \tback\n",
        "curve:"
       ]
      },
      {
       "output_type": "stream",
       "stream": "stdout",
       "text": [
        " 2440 \tdomain: 12 \titeration: 40 \tstep: 23320 \tback\n",
        "curve:"
       ]
      },
      {
       "output_type": "stream",
       "stream": "stdout",
       "text": [
        " 2441 \tdomain: 12 \titeration: 41 \tstep: 23319 \tback\n",
        "curve:"
       ]
      },
      {
       "output_type": "stream",
       "stream": "stdout",
       "text": [
        " 2442 \tdomain: 12 \titeration: 42 \tstep: 23318 \tback\n",
        "curve:"
       ]
      },
      {
       "output_type": "stream",
       "stream": "stdout",
       "text": [
        " 2443 \tdomain: 12 \titeration: 43 \tstep: 23317 \tback\n",
        "curve:"
       ]
      },
      {
       "output_type": "stream",
       "stream": "stdout",
       "text": [
        " 2444 \tdomain: 12 \titeration: 44 \tstep: 23316 \tback\n",
        "curve:"
       ]
      },
      {
       "output_type": "stream",
       "stream": "stdout",
       "text": [
        " 2445 \tdomain: 12 \titeration: 45 \tstep: 23315 \tback\n",
        "curve:"
       ]
      },
      {
       "output_type": "stream",
       "stream": "stdout",
       "text": [
        " 2446 \tdomain: 12 \titeration: 46 \tstep: 23314 \tback\n",
        "curve:"
       ]
      },
      {
       "output_type": "stream",
       "stream": "stdout",
       "text": [
        " 2447 \tdomain: 12 \titeration: 47 \tstep: 23313 \tback\n",
        "curve:"
       ]
      },
      {
       "output_type": "stream",
       "stream": "stdout",
       "text": [
        " 2448 \tdomain: 12 \titeration: 48 \tstep: 23312 \tback\n",
        "curve:"
       ]
      },
      {
       "output_type": "stream",
       "stream": "stdout",
       "text": [
        " 2449 \tdomain: 12 \titeration: 49 \tstep: 23311 \tback\n",
        "curve:"
       ]
      },
      {
       "output_type": "stream",
       "stream": "stdout",
       "text": [
        " 2450 \tdomain: 12 \titeration: 50 \tstep: 23310 \tback\n",
        "curve:"
       ]
      },
      {
       "output_type": "stream",
       "stream": "stdout",
       "text": [
        " 2451 \tdomain: 12 \titeration: 51 \tstep: 23309 \tback\n",
        "curve:"
       ]
      },
      {
       "output_type": "stream",
       "stream": "stdout",
       "text": [
        " 2452 \tdomain: 12 \titeration: 52 \tstep: 23308 \tback\n",
        "curve:"
       ]
      },
      {
       "output_type": "stream",
       "stream": "stdout",
       "text": [
        " 2453 \tdomain: 12 \titeration: 53 \tstep: 23307 \tback\n",
        "curve:"
       ]
      },
      {
       "output_type": "stream",
       "stream": "stdout",
       "text": [
        " 2454 \tdomain: 12 \titeration: 54 \tstep: 23306 \tback\n",
        "curve:"
       ]
      },
      {
       "output_type": "stream",
       "stream": "stdout",
       "text": [
        " 2455 \tdomain: 12 \titeration: 55 \tstep: 23305 \tback\n",
        "curve:"
       ]
      },
      {
       "output_type": "stream",
       "stream": "stdout",
       "text": [
        " 2456 \tdomain: 12 \titeration: 56 \tstep: 23304 \tback\n",
        "curve:"
       ]
      },
      {
       "output_type": "stream",
       "stream": "stdout",
       "text": [
        " 2457 \tdomain: 12 \titeration: 57 \tstep: 23303 \tback\n",
        "curve:"
       ]
      },
      {
       "output_type": "stream",
       "stream": "stdout",
       "text": [
        " 2458 \tdomain: 12 \titeration: 58 \tstep: 23302 \tback\n",
        "curve:"
       ]
      },
      {
       "output_type": "stream",
       "stream": "stdout",
       "text": [
        " 2459 \tdomain: 12 \titeration: 59 \tstep: 23301 \tback\n",
        "curve:"
       ]
      },
      {
       "output_type": "stream",
       "stream": "stdout",
       "text": [
        " 2460 \tdomain: 12 \titeration: 60 \tstep: 23300 \tback\n",
        "curve:"
       ]
      },
      {
       "output_type": "stream",
       "stream": "stdout",
       "text": [
        " 2461 \tdomain: 12 \titeration: 61 \tstep: 23299 \tback\n",
        "curve:"
       ]
      },
      {
       "output_type": "stream",
       "stream": "stdout",
       "text": [
        " 2462 \tdomain: 12 \titeration: 62 \tstep: 23298 \tback\n",
        "curve:"
       ]
      },
      {
       "output_type": "stream",
       "stream": "stdout",
       "text": [
        " 2463 \tdomain: 12 \titeration: 63 \tstep: 23297 \tback\n",
        "curve:"
       ]
      },
      {
       "output_type": "stream",
       "stream": "stdout",
       "text": [
        " 2464 \tdomain: 12 \titeration: 64 \tstep: 23296 \tback\n",
        "curve:"
       ]
      },
      {
       "output_type": "stream",
       "stream": "stdout",
       "text": [
        " 2465 \tdomain: 12 \titeration: 65 \tstep: 23295 \tback\n",
        "curve:"
       ]
      },
      {
       "output_type": "stream",
       "stream": "stdout",
       "text": [
        " 2466 \tdomain: 12 \titeration: 66 \tstep: 23294 \tback\n",
        "curve:"
       ]
      },
      {
       "output_type": "stream",
       "stream": "stdout",
       "text": [
        " 2467 \tdomain: 12 \titeration: 67 \tstep: 23293 \tback\n",
        "curve:"
       ]
      },
      {
       "output_type": "stream",
       "stream": "stdout",
       "text": [
        " 2468 \tdomain: 12 \titeration: 68 \tstep: 23292 \tback\n",
        "curve:"
       ]
      },
      {
       "output_type": "stream",
       "stream": "stdout",
       "text": [
        " 2469 \tdomain: 12 \titeration: 69 \tstep: 23291 \tback\n",
        "curve:"
       ]
      },
      {
       "output_type": "stream",
       "stream": "stdout",
       "text": [
        " 2470 \tdomain: 12 \titeration: 70 \tstep: 23290 \tback\n",
        "curve:"
       ]
      },
      {
       "output_type": "stream",
       "stream": "stdout",
       "text": [
        " 2471 \tdomain: 12 \titeration: 71 \tstep: 23289 \tback\n",
        "curve:"
       ]
      },
      {
       "output_type": "stream",
       "stream": "stdout",
       "text": [
        " 2472 \tdomain: 12 \titeration: 72 \tstep: 23288 \tback\n",
        "curve:"
       ]
      },
      {
       "output_type": "stream",
       "stream": "stdout",
       "text": [
        " 2473 \tdomain: 12 \titeration: 73 \tstep: 23287 \tback\n",
        "curve:"
       ]
      },
      {
       "output_type": "stream",
       "stream": "stdout",
       "text": [
        " 2474 \tdomain: 12 \titeration: 74 \tstep: 23286 \tback\n",
        "curve:"
       ]
      },
      {
       "output_type": "stream",
       "stream": "stdout",
       "text": [
        " 2475 \tdomain: 12 \titeration: 75 \tstep: 23285 \tback\n",
        "curve:"
       ]
      },
      {
       "output_type": "stream",
       "stream": "stdout",
       "text": [
        " 2476 \tdomain: 12 \titeration: 76 \tstep: 23284 \tback\n",
        "curve:"
       ]
      },
      {
       "output_type": "stream",
       "stream": "stdout",
       "text": [
        " 2477 \tdomain: 12 \titeration: 77 \tstep: 23283 \tback\n",
        "curve:"
       ]
      },
      {
       "output_type": "stream",
       "stream": "stdout",
       "text": [
        " 2478 \tdomain: 12 \titeration: 78 \tstep: 23282 \tback\n",
        "curve:"
       ]
      },
      {
       "output_type": "stream",
       "stream": "stdout",
       "text": [
        " 2479 \tdomain: 12 \titeration: 79 \tstep: 23281 \tback\n",
        "curve:"
       ]
      },
      {
       "output_type": "stream",
       "stream": "stdout",
       "text": [
        " 2480 \tdomain: 12 \titeration: 80 \tstep: 23280 \tback\n",
        "curve:"
       ]
      },
      {
       "output_type": "stream",
       "stream": "stdout",
       "text": [
        " 2481 \tdomain: 12 \titeration: 81 \tstep: 23279 \tback\n",
        "curve:"
       ]
      },
      {
       "output_type": "stream",
       "stream": "stdout",
       "text": [
        " 2482 \tdomain: 12 \titeration: 82 \tstep: 23278 \tback\n",
        "curve:"
       ]
      },
      {
       "output_type": "stream",
       "stream": "stdout",
       "text": [
        " 2483 \tdomain: 12 \titeration: 83 \tstep: 23277 \tback\n",
        "curve:"
       ]
      },
      {
       "output_type": "stream",
       "stream": "stdout",
       "text": [
        " 2484 \tdomain: 12 \titeration: 84 \tstep: 23276 \tback\n",
        "curve:"
       ]
      },
      {
       "output_type": "stream",
       "stream": "stdout",
       "text": [
        " 2485 \tdomain: 12 \titeration: 85 \tstep: 23275 \tback\n",
        "curve:"
       ]
      },
      {
       "output_type": "stream",
       "stream": "stdout",
       "text": [
        " 2486 \tdomain: 12 \titeration: 86 \tstep: 23274 \tback\n",
        "curve:"
       ]
      },
      {
       "output_type": "stream",
       "stream": "stdout",
       "text": [
        " 2487 \tdomain: 12 \titeration: 87 \tstep: 23273 \tback\n",
        "curve:"
       ]
      },
      {
       "output_type": "stream",
       "stream": "stdout",
       "text": [
        " 2488 \tdomain: 12 \titeration: 88 \tstep: 23272 \tback\n",
        "curve:"
       ]
      },
      {
       "output_type": "stream",
       "stream": "stdout",
       "text": [
        " 2489 \tdomain: 12 \titeration: 89 \tstep: 23271 \tback\n",
        "curve:"
       ]
      },
      {
       "output_type": "stream",
       "stream": "stdout",
       "text": [
        " 2490 \tdomain: 12 \titeration: 90 \tstep: 23270 \tback\n",
        "curve:"
       ]
      },
      {
       "output_type": "stream",
       "stream": "stdout",
       "text": [
        " 2491 \tdomain: 12 \titeration: 91 \tstep: 23269 \tback\n",
        "curve:"
       ]
      },
      {
       "output_type": "stream",
       "stream": "stdout",
       "text": [
        " 2492 \tdomain: 12 \titeration: 92 \tstep: 23268 \tback\n",
        "curve:"
       ]
      },
      {
       "output_type": "stream",
       "stream": "stdout",
       "text": [
        " 2493 \tdomain: 12 \titeration: 93 \tstep: 23267 \tback\n",
        "curve:"
       ]
      },
      {
       "output_type": "stream",
       "stream": "stdout",
       "text": [
        " 2494 \tdomain: 12 \titeration: 94 \tstep: 23266 \tback\n",
        "curve:"
       ]
      },
      {
       "output_type": "stream",
       "stream": "stdout",
       "text": [
        " 2495 \tdomain: 12 \titeration: 95 \tstep: 23265 \tback\n",
        "curve:"
       ]
      },
      {
       "output_type": "stream",
       "stream": "stdout",
       "text": [
        " 2496 \tdomain: 12 \titeration: 96 \tstep: 23264 \tback\n",
        "curve:"
       ]
      },
      {
       "output_type": "stream",
       "stream": "stdout",
       "text": [
        " 2497 \tdomain: 12 \titeration: 97 \tstep: 23263 \tback\n",
        "curve:"
       ]
      },
      {
       "output_type": "stream",
       "stream": "stdout",
       "text": [
        " 2498 \tdomain: 12 \titeration: 98 \tstep: 23262 \tback\n",
        "curve:"
       ]
      },
      {
       "output_type": "stream",
       "stream": "stdout",
       "text": [
        " 2499 \tdomain: 12 \titeration: 99 \tstep: 23261 \tback\n",
        "curve:"
       ]
      },
      {
       "output_type": "stream",
       "stream": "stdout",
       "text": [
        " 2500 \tdomain: 12 \titeration: 0 \tstep: 23261 \tforth\n",
        "curve:"
       ]
      },
      {
       "output_type": "stream",
       "stream": "stdout",
       "text": [
        " 2501 \tdomain: 12 \titeration: 1 \tstep: 23262 \tforth\n",
        "curve:"
       ]
      },
      {
       "output_type": "stream",
       "stream": "stdout",
       "text": [
        " 2502 \tdomain: 12 \titeration: 2 \tstep: 23263 \tforth\n",
        "curve:"
       ]
      },
      {
       "output_type": "stream",
       "stream": "stdout",
       "text": [
        " 2503 \tdomain: 12 \titeration: 3 \tstep: 23264 \tforth\n",
        "curve:"
       ]
      },
      {
       "output_type": "stream",
       "stream": "stdout",
       "text": [
        " 2504 \tdomain: 12 \titeration: 4 \tstep: 23265 \tforth\n",
        "curve:"
       ]
      },
      {
       "output_type": "stream",
       "stream": "stdout",
       "text": [
        " 2505 \tdomain: 12 \titeration: 5 \tstep: 23266 \tforth\n",
        "curve:"
       ]
      },
      {
       "output_type": "stream",
       "stream": "stdout",
       "text": [
        " 2506 \tdomain: 12 \titeration: 6 \tstep: 23267 \tforth\n",
        "curve:"
       ]
      },
      {
       "output_type": "stream",
       "stream": "stdout",
       "text": [
        " 2507 \tdomain: 12 \titeration: 7 \tstep: 23268 \tforth\n",
        "curve:"
       ]
      },
      {
       "output_type": "stream",
       "stream": "stdout",
       "text": [
        " 2508 \tdomain: 12 \titeration: 8 \tstep: 23269 \tforth\n",
        "curve:"
       ]
      },
      {
       "output_type": "stream",
       "stream": "stdout",
       "text": [
        " 2509 \tdomain: 12 \titeration: 9 \tstep: 23270 \tforth\n",
        "curve:"
       ]
      },
      {
       "output_type": "stream",
       "stream": "stdout",
       "text": [
        " 2510 \tdomain: 12 \titeration: 10 \tstep: 23271 \tforth\n",
        "curve:"
       ]
      },
      {
       "output_type": "stream",
       "stream": "stdout",
       "text": [
        " 2511 \tdomain: 12 \titeration: 11 \tstep: 23272 \tforth\n",
        "curve:"
       ]
      },
      {
       "output_type": "stream",
       "stream": "stdout",
       "text": [
        " 2512 \tdomain: 12 \titeration: 12 \tstep: 23273 \tforth\n",
        "curve:"
       ]
      },
      {
       "output_type": "stream",
       "stream": "stdout",
       "text": [
        " 2513 \tdomain: 12 \titeration: 13 \tstep: 23274 \tforth\n",
        "curve:"
       ]
      },
      {
       "output_type": "stream",
       "stream": "stdout",
       "text": [
        " 2514 \tdomain: 12 \titeration: 14 \tstep: 23275 \tforth\n",
        "curve:"
       ]
      },
      {
       "output_type": "stream",
       "stream": "stdout",
       "text": [
        " 2515 \tdomain: 12 \titeration: 15 \tstep: 23276 \tforth\n",
        "curve:"
       ]
      },
      {
       "output_type": "stream",
       "stream": "stdout",
       "text": [
        " 2516 \tdomain: 12 \titeration: 16 \tstep: 23277 \tforth\n",
        "curve:"
       ]
      },
      {
       "output_type": "stream",
       "stream": "stdout",
       "text": [
        " 2517 \tdomain: 12 \titeration: 17 \tstep: 23278 \tforth\n",
        "curve:"
       ]
      },
      {
       "output_type": "stream",
       "stream": "stdout",
       "text": [
        " 2518 \tdomain: 12 \titeration: 18 \tstep: 23279 \tforth\n",
        "curve:"
       ]
      },
      {
       "output_type": "stream",
       "stream": "stdout",
       "text": [
        " 2519 \tdomain: 12 \titeration: 19 \tstep: 23280 \tforth\n",
        "curve:"
       ]
      },
      {
       "output_type": "stream",
       "stream": "stdout",
       "text": [
        " 2520 \tdomain: 12 \titeration: 20 \tstep: 23281 \tforth\n",
        "curve:"
       ]
      },
      {
       "output_type": "stream",
       "stream": "stdout",
       "text": [
        " 2521 \tdomain: 12 \titeration: 21 \tstep: 23282 \tforth\n",
        "curve:"
       ]
      },
      {
       "output_type": "stream",
       "stream": "stdout",
       "text": [
        " 2522 \tdomain: 12 \titeration: 22 \tstep: 23283 \tforth\n",
        "curve:"
       ]
      },
      {
       "output_type": "stream",
       "stream": "stdout",
       "text": [
        " 2523 \tdomain: 12 \titeration: 23 \tstep: 23284 \tforth\n",
        "curve:"
       ]
      },
      {
       "output_type": "stream",
       "stream": "stdout",
       "text": [
        " 2524 \tdomain: 12 \titeration: 24 \tstep: 23285 \tforth\n",
        "curve:"
       ]
      },
      {
       "output_type": "stream",
       "stream": "stdout",
       "text": [
        " 2525 \tdomain: 12 \titeration: 25 \tstep: 23286 \tforth\n",
        "curve:"
       ]
      },
      {
       "output_type": "stream",
       "stream": "stdout",
       "text": [
        " 2526 \tdomain: 12 \titeration: 26 \tstep: 23287 \tforth\n",
        "curve:"
       ]
      },
      {
       "output_type": "stream",
       "stream": "stdout",
       "text": [
        " 2527 \tdomain: 12 \titeration: 27 \tstep: 23288 \tforth\n",
        "curve:"
       ]
      },
      {
       "output_type": "stream",
       "stream": "stdout",
       "text": [
        " 2528 \tdomain: 12 \titeration: 28 \tstep: 23289 \tforth\n",
        "curve:"
       ]
      },
      {
       "output_type": "stream",
       "stream": "stdout",
       "text": [
        " 2529 \tdomain: 12 \titeration: 29 \tstep: 23290 \tforth\n",
        "curve:"
       ]
      },
      {
       "output_type": "stream",
       "stream": "stdout",
       "text": [
        " 2530 \tdomain: 12 \titeration: 30 \tstep: 23291 \tforth\n",
        "curve:"
       ]
      },
      {
       "output_type": "stream",
       "stream": "stdout",
       "text": [
        " 2531 \tdomain: 12 \titeration: 31 \tstep: 23292 \tforth\n",
        "curve:"
       ]
      },
      {
       "output_type": "stream",
       "stream": "stdout",
       "text": [
        " 2532 \tdomain: 12 \titeration: 32 \tstep: 23293 \tforth\n",
        "curve:"
       ]
      },
      {
       "output_type": "stream",
       "stream": "stdout",
       "text": [
        " 2533 \tdomain: 12 \titeration: 33 \tstep: 23294 \tforth\n",
        "curve:"
       ]
      },
      {
       "output_type": "stream",
       "stream": "stdout",
       "text": [
        " 2534 \tdomain: 12 \titeration: 34 \tstep: 23295 \tforth\n",
        "curve:"
       ]
      },
      {
       "output_type": "stream",
       "stream": "stdout",
       "text": [
        " 2535 \tdomain: 12 \titeration: 35 \tstep: 23296 \tforth\n",
        "curve:"
       ]
      },
      {
       "output_type": "stream",
       "stream": "stdout",
       "text": [
        " 2536 \tdomain: 12 \titeration: 36 \tstep: 23297 \tforth\n",
        "curve:"
       ]
      },
      {
       "output_type": "stream",
       "stream": "stdout",
       "text": [
        " 2537 \tdomain: 12 \titeration: 37 \tstep: 23298 \tforth\n",
        "curve:"
       ]
      },
      {
       "output_type": "stream",
       "stream": "stdout",
       "text": [
        " 2538 \tdomain: 12 \titeration: 38 \tstep: 23299 \tforth\n",
        "curve:"
       ]
      },
      {
       "output_type": "stream",
       "stream": "stdout",
       "text": [
        " 2539 \tdomain: 12 \titeration: 39 \tstep: 23300 \tforth\n",
        "curve:"
       ]
      },
      {
       "output_type": "stream",
       "stream": "stdout",
       "text": [
        " 2540 \tdomain: 12 \titeration: 40 \tstep: 23301 \tforth\n",
        "curve:"
       ]
      },
      {
       "output_type": "stream",
       "stream": "stdout",
       "text": [
        " 2541 \tdomain: 12 \titeration: 41 \tstep: 23302 \tforth\n",
        "curve:"
       ]
      },
      {
       "output_type": "stream",
       "stream": "stdout",
       "text": [
        " 2542 \tdomain: 12 \titeration: 42 \tstep: 23303 \tforth\n",
        "curve:"
       ]
      },
      {
       "output_type": "stream",
       "stream": "stdout",
       "text": [
        " 2543 \tdomain: 12 \titeration: 43 \tstep: 23304 \tforth\n",
        "curve:"
       ]
      },
      {
       "output_type": "stream",
       "stream": "stdout",
       "text": [
        " 2544 \tdomain: 12 \titeration: 44 \tstep: 23305 \tforth\n",
        "curve:"
       ]
      },
      {
       "output_type": "stream",
       "stream": "stdout",
       "text": [
        " 2545 \tdomain: 12 \titeration: 45 \tstep: 23306 \tforth\n",
        "curve:"
       ]
      },
      {
       "output_type": "stream",
       "stream": "stdout",
       "text": [
        " 2546 \tdomain: 12 \titeration: 46 \tstep: 23307 \tforth\n",
        "curve:"
       ]
      },
      {
       "output_type": "stream",
       "stream": "stdout",
       "text": [
        " 2547 \tdomain: 12 \titeration: 47 \tstep: 23308 \tforth\n",
        "curve:"
       ]
      },
      {
       "output_type": "stream",
       "stream": "stdout",
       "text": [
        " 2548 \tdomain: 12 \titeration: 48 \tstep: 23309 \tforth\n",
        "curve:"
       ]
      },
      {
       "output_type": "stream",
       "stream": "stdout",
       "text": [
        " 2549 \tdomain: 12 \titeration: 49 \tstep: 23310 \tforth\n",
        "curve:"
       ]
      },
      {
       "output_type": "stream",
       "stream": "stdout",
       "text": [
        " 2550 \tdomain: 12 \titeration: 50 \tstep: 23311 \tforth\n",
        "curve:"
       ]
      },
      {
       "output_type": "stream",
       "stream": "stdout",
       "text": [
        " 2551 \tdomain: 12 \titeration: 51 \tstep: 23312 \tforth\n",
        "curve:"
       ]
      },
      {
       "output_type": "stream",
       "stream": "stdout",
       "text": [
        " 2552 \tdomain: 12 \titeration: 52 \tstep: 23313 \tforth\n",
        "curve:"
       ]
      },
      {
       "output_type": "stream",
       "stream": "stdout",
       "text": [
        " 2553 \tdomain: 12 \titeration: 53 \tstep: 23314 \tforth\n",
        "curve:"
       ]
      },
      {
       "output_type": "stream",
       "stream": "stdout",
       "text": [
        " 2554 \tdomain: 12 \titeration: 54 \tstep: 23315 \tforth\n",
        "curve:"
       ]
      },
      {
       "output_type": "stream",
       "stream": "stdout",
       "text": [
        " 2555 \tdomain: 12 \titeration: 55 \tstep: 23316 \tforth\n",
        "curve:"
       ]
      },
      {
       "output_type": "stream",
       "stream": "stdout",
       "text": [
        " 2556 \tdomain: 12 \titeration: 56 \tstep: 23317 \tforth\n",
        "curve:"
       ]
      },
      {
       "output_type": "stream",
       "stream": "stdout",
       "text": [
        " 2557 \tdomain: 12 \titeration: 57 \tstep: 23318 \tforth\n",
        "curve:"
       ]
      },
      {
       "output_type": "stream",
       "stream": "stdout",
       "text": [
        " 2558 \tdomain: 12 \titeration: 58 \tstep: 23319 \tforth\n",
        "curve:"
       ]
      },
      {
       "output_type": "stream",
       "stream": "stdout",
       "text": [
        " 2559 \tdomain: 12 \titeration: 59 \tstep: 23320 \tforth\n",
        "curve:"
       ]
      },
      {
       "output_type": "stream",
       "stream": "stdout",
       "text": [
        " 2560 \tdomain: 12 \titeration: 60 \tstep: 23321 \tforth\n",
        "curve:"
       ]
      },
      {
       "output_type": "stream",
       "stream": "stdout",
       "text": [
        " 2561 \tdomain: 12 \titeration: 61 \tstep: 23322 \tforth\n",
        "curve:"
       ]
      },
      {
       "output_type": "stream",
       "stream": "stdout",
       "text": [
        " 2562 \tdomain: 12 \titeration: 62 \tstep: 23323 \tforth\n",
        "curve:"
       ]
      },
      {
       "output_type": "stream",
       "stream": "stdout",
       "text": [
        " 2563 \tdomain: 12 \titeration: 63 \tstep: 23324 \tforth\n",
        "curve:"
       ]
      },
      {
       "output_type": "stream",
       "stream": "stdout",
       "text": [
        " 2564 \tdomain: 12 \titeration: 64 \tstep: 23325 \tforth\n",
        "curve:"
       ]
      },
      {
       "output_type": "stream",
       "stream": "stdout",
       "text": [
        " 2565 \tdomain: 12 \titeration: 65 \tstep: 23326 \tforth\n",
        "curve:"
       ]
      },
      {
       "output_type": "stream",
       "stream": "stdout",
       "text": [
        " 2566 \tdomain: 12 \titeration: 66 \tstep: 23327 \tforth\n",
        "curve:"
       ]
      },
      {
       "output_type": "stream",
       "stream": "stdout",
       "text": [
        " 2567 \tdomain: 12 \titeration: 67 \tstep: 23328 \tforth\n",
        "curve:"
       ]
      },
      {
       "output_type": "stream",
       "stream": "stdout",
       "text": [
        " 2568 \tdomain: 12 \titeration: 68 \tstep: 23329 \tforth\n",
        "curve:"
       ]
      },
      {
       "output_type": "stream",
       "stream": "stdout",
       "text": [
        " 2569 \tdomain: 12 \titeration: 69 \tstep: 23330 \tforth\n",
        "curve:"
       ]
      },
      {
       "output_type": "stream",
       "stream": "stdout",
       "text": [
        " 2570 \tdomain: 12 \titeration: 70 \tstep: 23331 \tforth\n",
        "curve:"
       ]
      },
      {
       "output_type": "stream",
       "stream": "stdout",
       "text": [
        " 2571 \tdomain: 12 \titeration: 71 \tstep: 23332 \tforth\n",
        "curve:"
       ]
      },
      {
       "output_type": "stream",
       "stream": "stdout",
       "text": [
        " 2572 \tdomain: 12 \titeration: 72 \tstep: 23333 \tforth\n",
        "curve:"
       ]
      },
      {
       "output_type": "stream",
       "stream": "stdout",
       "text": [
        " 2573 \tdomain: 12 \titeration: 73 \tstep: 23334 \tforth\n",
        "curve:"
       ]
      },
      {
       "output_type": "stream",
       "stream": "stdout",
       "text": [
        " 2574 \tdomain: 12 \titeration: 74 \tstep: 23335 \tforth\n",
        "curve:"
       ]
      },
      {
       "output_type": "stream",
       "stream": "stdout",
       "text": [
        " 2575 \tdomain: 12 \titeration: 75 \tstep: 23336 \tforth\n",
        "curve:"
       ]
      },
      {
       "output_type": "stream",
       "stream": "stdout",
       "text": [
        " 2576 \tdomain: 12 \titeration: 76 \tstep: 23337 \tforth\n",
        "curve:"
       ]
      },
      {
       "output_type": "stream",
       "stream": "stdout",
       "text": [
        " 2577 \tdomain: 12 \titeration: 77 \tstep: 23338 \tforth\n",
        "curve:"
       ]
      },
      {
       "output_type": "stream",
       "stream": "stdout",
       "text": [
        " 2578 \tdomain: 12 \titeration: 78 \tstep: 23339 \tforth\n",
        "curve:"
       ]
      },
      {
       "output_type": "stream",
       "stream": "stdout",
       "text": [
        " 2579 \tdomain: 12 \titeration: 79 \tstep: 23340 \tforth\n",
        "curve:"
       ]
      },
      {
       "output_type": "stream",
       "stream": "stdout",
       "text": [
        " 2580 \tdomain: 12 \titeration: 80 \tstep: 23341 \tforth\n",
        "curve:"
       ]
      },
      {
       "output_type": "stream",
       "stream": "stdout",
       "text": [
        " 2581 \tdomain: 12 \titeration: 81 \tstep: 23342 \tforth\n",
        "curve:"
       ]
      },
      {
       "output_type": "stream",
       "stream": "stdout",
       "text": [
        " 2582 \tdomain: 12 \titeration: 82 \tstep: 23343 \tforth\n",
        "curve:"
       ]
      },
      {
       "output_type": "stream",
       "stream": "stdout",
       "text": [
        " 2583 \tdomain: 12 \titeration: 83 \tstep: 23344 \tforth\n",
        "curve:"
       ]
      },
      {
       "output_type": "stream",
       "stream": "stdout",
       "text": [
        " 2584 \tdomain: 12 \titeration: 84 \tstep: 23345 \tforth\n",
        "curve:"
       ]
      },
      {
       "output_type": "stream",
       "stream": "stdout",
       "text": [
        " 2585 \tdomain: 12 \titeration: 85 \tstep: 23346 \tforth\n",
        "curve:"
       ]
      },
      {
       "output_type": "stream",
       "stream": "stdout",
       "text": [
        " 2586 \tdomain: 12 \titeration: 86 \tstep: 23347 \tforth\n",
        "curve:"
       ]
      },
      {
       "output_type": "stream",
       "stream": "stdout",
       "text": [
        " 2587 \tdomain: 12 \titeration: 87 \tstep: 23348 \tforth\n",
        "curve:"
       ]
      },
      {
       "output_type": "stream",
       "stream": "stdout",
       "text": [
        " 2588 \tdomain: 12 \titeration: 88 \tstep: 23349 \tforth\n",
        "curve:"
       ]
      },
      {
       "output_type": "stream",
       "stream": "stdout",
       "text": [
        " 2589 \tdomain: 12 \titeration: 89 \tstep: 23350 \tforth\n",
        "curve:"
       ]
      },
      {
       "output_type": "stream",
       "stream": "stdout",
       "text": [
        " 2590 \tdomain: 12 \titeration: 90 \tstep: 23351 \tforth\n",
        "curve:"
       ]
      },
      {
       "output_type": "stream",
       "stream": "stdout",
       "text": [
        " 2591 \tdomain: 12 \titeration: 91 \tstep: 23352 \tforth\n",
        "curve:"
       ]
      },
      {
       "output_type": "stream",
       "stream": "stdout",
       "text": [
        " 2592 \tdomain: 12 \titeration: 92 \tstep: 23353 \tforth\n",
        "curve:"
       ]
      },
      {
       "output_type": "stream",
       "stream": "stdout",
       "text": [
        " 2593 \tdomain: 12 \titeration: 93 \tstep: 23354 \tforth\n",
        "curve:"
       ]
      },
      {
       "output_type": "stream",
       "stream": "stdout",
       "text": [
        " 2594 \tdomain: 12 \titeration: 94 \tstep: 23355 \tforth\n",
        "curve:"
       ]
      },
      {
       "output_type": "stream",
       "stream": "stdout",
       "text": [
        " 2595 \tdomain: 12 \titeration: 95 \tstep: 23356 \tforth\n",
        "curve:"
       ]
      },
      {
       "output_type": "stream",
       "stream": "stdout",
       "text": [
        " 2596 \tdomain: 12 \titeration: 96 \tstep: 23357 \tforth\n",
        "curve:"
       ]
      },
      {
       "output_type": "stream",
       "stream": "stdout",
       "text": [
        " 2597 \tdomain: 12 \titeration: 97 \tstep: 23358 \tforth\n",
        "curve:"
       ]
      },
      {
       "output_type": "stream",
       "stream": "stdout",
       "text": [
        " 2598 \tdomain: 12 \titeration: 98 \tstep: 23359 \tforth\n",
        "curve:"
       ]
      },
      {
       "output_type": "stream",
       "stream": "stdout",
       "text": [
        " 2599 \tdomain: 12 \titeration: 99 \tstep: 23360 \tforth\n",
        "curve:"
       ]
      },
      {
       "output_type": "stream",
       "stream": "stdout",
       "text": [
        " 2600 \tdomain: 13 \titeration: 0 \tstep: 23260 \tback\n",
        "curve:"
       ]
      },
      {
       "output_type": "stream",
       "stream": "stdout",
       "text": [
        " 2601 \tdomain: 13 \titeration: 1 \tstep: 23259 \tback\n",
        "curve:"
       ]
      },
      {
       "output_type": "stream",
       "stream": "stdout",
       "text": [
        " 2602 \tdomain: 13 \titeration: 2 \tstep: 23258 \tback\n",
        "curve:"
       ]
      },
      {
       "output_type": "stream",
       "stream": "stdout",
       "text": [
        " 2603 \tdomain: 13 \titeration: 3 \tstep: 23257 \tback\n",
        "curve:"
       ]
      },
      {
       "output_type": "stream",
       "stream": "stdout",
       "text": [
        " 2604 \tdomain: 13 \titeration: 4 \tstep: 23256 \tback\n",
        "curve:"
       ]
      },
      {
       "output_type": "stream",
       "stream": "stdout",
       "text": [
        " 2605 \tdomain: 13 \titeration: 5 \tstep: 23255 \tback\n",
        "curve:"
       ]
      },
      {
       "output_type": "stream",
       "stream": "stdout",
       "text": [
        " 2606 \tdomain: 13 \titeration: 6 \tstep: 23254 \tback\n",
        "curve:"
       ]
      },
      {
       "output_type": "stream",
       "stream": "stdout",
       "text": [
        " 2607 \tdomain: 13 \titeration: 7 \tstep: 23253 \tback\n",
        "curve:"
       ]
      },
      {
       "output_type": "stream",
       "stream": "stdout",
       "text": [
        " 2608 \tdomain: 13 \titeration: 8 \tstep: 23252 \tback\n",
        "curve:"
       ]
      },
      {
       "output_type": "stream",
       "stream": "stdout",
       "text": [
        " 2609 \tdomain: 13 \titeration: 9 \tstep: 23251 \tback\n",
        "curve:"
       ]
      },
      {
       "output_type": "stream",
       "stream": "stdout",
       "text": [
        " 2610 \tdomain: 13 \titeration: 10 \tstep: 23250 \tback\n",
        "curve:"
       ]
      },
      {
       "output_type": "stream",
       "stream": "stdout",
       "text": [
        " 2611 \tdomain: 13 \titeration: 11 \tstep: 23249 \tback\n",
        "curve:"
       ]
      },
      {
       "output_type": "stream",
       "stream": "stdout",
       "text": [
        " 2612 \tdomain: 13 \titeration: 12 \tstep: 23248 \tback\n",
        "curve:"
       ]
      },
      {
       "output_type": "stream",
       "stream": "stdout",
       "text": [
        " 2613 \tdomain: 13 \titeration: 13 \tstep: 23247 \tback\n",
        "curve:"
       ]
      },
      {
       "output_type": "stream",
       "stream": "stdout",
       "text": [
        " 2614 \tdomain: 13 \titeration: 14 \tstep: 23246 \tback\n",
        "curve:"
       ]
      },
      {
       "output_type": "stream",
       "stream": "stdout",
       "text": [
        " 2615 \tdomain: 13 \titeration: 15 \tstep: 23245 \tback\n",
        "curve:"
       ]
      },
      {
       "output_type": "stream",
       "stream": "stdout",
       "text": [
        " 2616 \tdomain: 13 \titeration: 16 \tstep: 23244 \tback\n",
        "curve:"
       ]
      },
      {
       "output_type": "stream",
       "stream": "stdout",
       "text": [
        " 2617 \tdomain: 13 \titeration: 17 \tstep: 23243 \tback\n",
        "curve:"
       ]
      },
      {
       "output_type": "stream",
       "stream": "stdout",
       "text": [
        " 2618 \tdomain: 13 \titeration: 18 \tstep: 23242 \tback\n",
        "curve:"
       ]
      },
      {
       "output_type": "stream",
       "stream": "stdout",
       "text": [
        " 2619 \tdomain: 13 \titeration: 19 \tstep: 23241 \tback\n",
        "curve:"
       ]
      },
      {
       "output_type": "stream",
       "stream": "stdout",
       "text": [
        " 2620 \tdomain: 13 \titeration: 20 \tstep: 23240 \tback\n",
        "curve:"
       ]
      },
      {
       "output_type": "stream",
       "stream": "stdout",
       "text": [
        " 2621 \tdomain: 13 \titeration: 21 \tstep: 23239 \tback\n",
        "curve:"
       ]
      },
      {
       "output_type": "stream",
       "stream": "stdout",
       "text": [
        " 2622 \tdomain: 13 \titeration: 22 \tstep: 23238 \tback\n",
        "curve:"
       ]
      },
      {
       "output_type": "stream",
       "stream": "stdout",
       "text": [
        " 2623 \tdomain: 13 \titeration: 23 \tstep: 23237 \tback\n",
        "curve:"
       ]
      },
      {
       "output_type": "stream",
       "stream": "stdout",
       "text": [
        " 2624 \tdomain: 13 \titeration: 24 \tstep: 23236 \tback\n",
        "curve:"
       ]
      },
      {
       "output_type": "stream",
       "stream": "stdout",
       "text": [
        " 2625 \tdomain: 13 \titeration: 25 \tstep: 23235 \tback\n",
        "curve:"
       ]
      },
      {
       "output_type": "stream",
       "stream": "stdout",
       "text": [
        " 2626 \tdomain: 13 \titeration: 26 \tstep: 23234 \tback\n",
        "curve:"
       ]
      },
      {
       "output_type": "stream",
       "stream": "stdout",
       "text": [
        " 2627 \tdomain: 13 \titeration: 27 \tstep: 23233 \tback\n",
        "curve:"
       ]
      },
      {
       "output_type": "stream",
       "stream": "stdout",
       "text": [
        " 2628 \tdomain: 13 \titeration: 28 \tstep: 23232 \tback\n",
        "curve:"
       ]
      },
      {
       "output_type": "stream",
       "stream": "stdout",
       "text": [
        " 2629 \tdomain: 13 \titeration: 29 \tstep: 23231 \tback\n",
        "curve:"
       ]
      },
      {
       "output_type": "stream",
       "stream": "stdout",
       "text": [
        " 2630 \tdomain: 13 \titeration: 30 \tstep: 23230 \tback\n",
        "curve:"
       ]
      },
      {
       "output_type": "stream",
       "stream": "stdout",
       "text": [
        " 2631 \tdomain: 13 \titeration: 31 \tstep: 23229 \tback\n",
        "curve:"
       ]
      },
      {
       "output_type": "stream",
       "stream": "stdout",
       "text": [
        " 2632 \tdomain: 13 \titeration: 32 \tstep: 23228 \tback\n",
        "curve:"
       ]
      },
      {
       "output_type": "stream",
       "stream": "stdout",
       "text": [
        " 2633 \tdomain: 13 \titeration: 33 \tstep: 23227 \tback\n",
        "curve:"
       ]
      },
      {
       "output_type": "stream",
       "stream": "stdout",
       "text": [
        " 2634 \tdomain: 13 \titeration: 34 \tstep: 23226 \tback\n",
        "curve:"
       ]
      },
      {
       "output_type": "stream",
       "stream": "stdout",
       "text": [
        " 2635 \tdomain: 13 \titeration: 35 \tstep: 23225 \tback\n",
        "curve:"
       ]
      },
      {
       "output_type": "stream",
       "stream": "stdout",
       "text": [
        " 2636 \tdomain: 13 \titeration: 36 \tstep: 23224 \tback\n",
        "curve:"
       ]
      },
      {
       "output_type": "stream",
       "stream": "stdout",
       "text": [
        " 2637 \tdomain: 13 \titeration: 37 \tstep: 23223 \tback\n",
        "curve:"
       ]
      },
      {
       "output_type": "stream",
       "stream": "stdout",
       "text": [
        " 2638 \tdomain: 13 \titeration: 38 \tstep: 23222 \tback\n",
        "curve:"
       ]
      },
      {
       "output_type": "stream",
       "stream": "stdout",
       "text": [
        " 2639 \tdomain: 13 \titeration: 39 \tstep: 23221 \tback\n",
        "curve:"
       ]
      },
      {
       "output_type": "stream",
       "stream": "stdout",
       "text": [
        " 2640 \tdomain: 13 \titeration: 40 \tstep: 23220 \tback\n",
        "curve:"
       ]
      },
      {
       "output_type": "stream",
       "stream": "stdout",
       "text": [
        " 2641 \tdomain: 13 \titeration: 41 \tstep: 23219 \tback\n",
        "curve:"
       ]
      },
      {
       "output_type": "stream",
       "stream": "stdout",
       "text": [
        " 2642 \tdomain: 13 \titeration: 42 \tstep: 23218 \tback\n",
        "curve:"
       ]
      },
      {
       "output_type": "stream",
       "stream": "stdout",
       "text": [
        " 2643 \tdomain: 13 \titeration: 43 \tstep: 23217 \tback\n",
        "curve:"
       ]
      },
      {
       "output_type": "stream",
       "stream": "stdout",
       "text": [
        " 2644 \tdomain: 13 \titeration: 44 \tstep: 23216 \tback\n",
        "curve:"
       ]
      },
      {
       "output_type": "stream",
       "stream": "stdout",
       "text": [
        " 2645 \tdomain: 13 \titeration: 45 \tstep: 23215 \tback\n",
        "curve:"
       ]
      },
      {
       "output_type": "stream",
       "stream": "stdout",
       "text": [
        " 2646 \tdomain: 13 \titeration: 46 \tstep: 23214 \tback\n",
        "curve:"
       ]
      },
      {
       "output_type": "stream",
       "stream": "stdout",
       "text": [
        " 2647 \tdomain: 13 \titeration: 47 \tstep: 23213 \tback\n",
        "curve:"
       ]
      },
      {
       "output_type": "stream",
       "stream": "stdout",
       "text": [
        " 2648 \tdomain: 13 \titeration: 48 \tstep: 23212 \tback\n",
        "curve:"
       ]
      },
      {
       "output_type": "stream",
       "stream": "stdout",
       "text": [
        " 2649 \tdomain: 13 \titeration: 49 \tstep: 23211 \tback\n",
        "curve:"
       ]
      },
      {
       "output_type": "stream",
       "stream": "stdout",
       "text": [
        " 2650 \tdomain: 13 \titeration: 50 \tstep: 23210 \tback\n",
        "curve:"
       ]
      },
      {
       "output_type": "stream",
       "stream": "stdout",
       "text": [
        " 2651 \tdomain: 13 \titeration: 51 \tstep: 23209 \tback\n",
        "curve:"
       ]
      },
      {
       "output_type": "stream",
       "stream": "stdout",
       "text": [
        " 2652 \tdomain: 13 \titeration: 52 \tstep: 23208 \tback\n",
        "curve:"
       ]
      },
      {
       "output_type": "stream",
       "stream": "stdout",
       "text": [
        " 2653 \tdomain: 13 \titeration: 53 \tstep: 23207 \tback\n",
        "curve:"
       ]
      },
      {
       "output_type": "stream",
       "stream": "stdout",
       "text": [
        " 2654 \tdomain: 13 \titeration: 54 \tstep: 23206 \tback\n",
        "curve:"
       ]
      },
      {
       "output_type": "stream",
       "stream": "stdout",
       "text": [
        " 2655 \tdomain: 13 \titeration: 55 \tstep: 23205 \tback\n",
        "curve:"
       ]
      },
      {
       "output_type": "stream",
       "stream": "stdout",
       "text": [
        " 2656 \tdomain: 13 \titeration: 56 \tstep: 23204 \tback\n",
        "curve:"
       ]
      },
      {
       "output_type": "stream",
       "stream": "stdout",
       "text": [
        " 2657 \tdomain: 13 \titeration: 57 \tstep: 23203 \tback\n",
        "curve:"
       ]
      },
      {
       "output_type": "stream",
       "stream": "stdout",
       "text": [
        " 2658 \tdomain: 13 \titeration: 58 \tstep: 23202 \tback\n",
        "curve:"
       ]
      },
      {
       "output_type": "stream",
       "stream": "stdout",
       "text": [
        " 2659 \tdomain: 13 \titeration: 59 \tstep: 23201 \tback\n",
        "curve:"
       ]
      },
      {
       "output_type": "stream",
       "stream": "stdout",
       "text": [
        " 2660 \tdomain: 13 \titeration: 60 \tstep: 23200 \tback\n",
        "curve:"
       ]
      },
      {
       "output_type": "stream",
       "stream": "stdout",
       "text": [
        " 2661 \tdomain: 13 \titeration: 61 \tstep: 23199 \tback\n",
        "curve:"
       ]
      },
      {
       "output_type": "stream",
       "stream": "stdout",
       "text": [
        " 2662 \tdomain: 13 \titeration: 62 \tstep: 23198 \tback\n"
       ]
      },
      {
       "ename": "MemoryError",
       "evalue": "",
       "output_type": "pyerr",
       "traceback": [
        "\u001b[1;31m---------------------------------------------------------------------------\u001b[0m\n\u001b[1;31mMemoryError\u001b[0m                               Traceback (most recent call last)",
        "\u001b[1;32m<ipython-input-15-94de4665bdf5>\u001b[0m in \u001b[0;36m<module>\u001b[1;34m()\u001b[0m\n\u001b[0;32m     38\u001b[0m     \u001b[0mpos_max_domain\u001b[0m \u001b[1;33m=\u001b[0m \u001b[0mpos_max\u001b[0m \u001b[1;33m-\u001b[0m \u001b[0mi_length_domain\u001b[0m\u001b[1;33m*\u001b[0m\u001b[0mN_steps_per_domain\u001b[0m\u001b[1;33m\u001b[0m\u001b[0m\n\u001b[0;32m     39\u001b[0m     \u001b[1;32mfor\u001b[0m \u001b[0mcount\u001b[0m\u001b[1;33m,\u001b[0m\u001b[0mi\u001b[0m \u001b[1;32min\u001b[0m \u001b[0menumerate\u001b[0m\u001b[1;33m(\u001b[0m\u001b[0mrange\u001b[0m\u001b[1;33m(\u001b[0m\u001b[0mN_steps_per_domain\u001b[0m\u001b[1;33m)\u001b[0m\u001b[1;33m)\u001b[0m\u001b[1;33m:\u001b[0m\u001b[1;33m\u001b[0m\u001b[0m\n\u001b[1;32m---> 40\u001b[1;33m         \u001b[0mcurrent_pk\u001b[0m\u001b[1;33m,\u001b[0m \u001b[0mcurrent_length\u001b[0m\u001b[1;33m,\u001b[0m \u001b[0mcurrent_F\u001b[0m \u001b[1;33m=\u001b[0m \u001b[0mtake_curve\u001b[0m\u001b[1;33m(\u001b[0m\u001b[0mpos_max_domain\u001b[0m\u001b[1;33m,\u001b[0m \u001b[0mN_steps_per_domain\u001b[0m\u001b[1;33m,\u001b[0m \u001b[0mi_length_domain\u001b[0m\u001b[1;33m,\u001b[0m \u001b[1;34m'back'\u001b[0m\u001b[1;33m,\u001b[0m \u001b[0mcurve_acquired\u001b[0m\u001b[1;33m)\u001b[0m\u001b[1;33m\u001b[0m\u001b[0m\n\u001b[0m\u001b[0;32m     41\u001b[0m         \u001b[0mcurve_acquired\u001b[0m \u001b[1;33m+=\u001b[0m \u001b[1;36m1\u001b[0m\u001b[1;33m\u001b[0m\u001b[0m\n\u001b[0;32m     42\u001b[0m     \u001b[1;32mfor\u001b[0m \u001b[0mcount\u001b[0m\u001b[1;33m,\u001b[0m\u001b[0mi\u001b[0m \u001b[1;32min\u001b[0m \u001b[0menumerate\u001b[0m\u001b[1;33m(\u001b[0m\u001b[0mrange\u001b[0m\u001b[1;33m(\u001b[0m\u001b[0mN_steps_per_domain\u001b[0m\u001b[1;33m)\u001b[0m\u001b[1;33m)\u001b[0m\u001b[1;33m:\u001b[0m\u001b[1;33m\u001b[0m\u001b[0m\n",
        "\u001b[1;32m<ipython-input-15-94de4665bdf5>\u001b[0m in \u001b[0;36mtake_curve\u001b[1;34m(pos_max_domain, N_steps_per_domain, i_length_domain, direction, curve_acquired)\u001b[0m\n\u001b[0;32m     24\u001b[0m     \u001b[1;32mprint\u001b[0m \u001b[1;34m'curve:'\u001b[0m\u001b[1;33m,\u001b[0m \u001b[0mcurve_acquired\u001b[0m\u001b[1;33m,\u001b[0m \u001b[1;34m'\\tdomain:'\u001b[0m\u001b[1;33m,\u001b[0m \u001b[0mi_length_domain\u001b[0m\u001b[1;33m,\u001b[0m \u001b[1;34m'\\titeration:'\u001b[0m\u001b[1;33m,\u001b[0m \u001b[0mcount\u001b[0m\u001b[1;33m,\u001b[0m \u001b[1;34m'\\tstep:'\u001b[0m\u001b[1;33m,\u001b[0m \u001b[0mcurrent_pos\u001b[0m\u001b[1;33m,\u001b[0m \u001b[1;34m'\\t'\u001b[0m\u001b[1;33m,\u001b[0m \u001b[0mdirection\u001b[0m\u001b[1;33m\u001b[0m\u001b[0m\n\u001b[0;32m     25\u001b[0m     current_pk, current_length, current_F = w.acquire_params(\"finesse_vs_length_\" + str(current_pos),\n\u001b[1;32m---> 26\u001b[1;33m                                                              clever_downsample=True, fit_immediately=False)\n\u001b[0m\u001b[0;32m     27\u001b[0m     \u001b[0mc2\u001b[0m \u001b[1;33m=\u001b[0m \u001b[0mCurveDB\u001b[0m\u001b[1;33m.\u001b[0m\u001b[0mobjects\u001b[0m\u001b[1;33m.\u001b[0m\u001b[0mget\u001b[0m\u001b[1;33m(\u001b[0m\u001b[0mpk\u001b[0m\u001b[1;33m=\u001b[0m\u001b[0mcurrent_pk\u001b[0m\u001b[1;33m)\u001b[0m\u001b[1;33m\u001b[0m\u001b[0m\n\u001b[0;32m     28\u001b[0m     \u001b[0mc2\u001b[0m\u001b[1;33m.\u001b[0m\u001b[0mparams\u001b[0m\u001b[1;33m[\u001b[0m\u001b[1;34m\"stepper_pos\"\u001b[0m\u001b[1;33m]\u001b[0m\u001b[1;33m=\u001b[0m\u001b[0mcurrent_pos\u001b[0m\u001b[1;33m\u001b[0m\u001b[0m\n",
        "\u001b[1;32mC:\\Users\\Remi\\Documents\\GitHub\\pyinstruments\\users\\remi\\finesse.pyc\u001b[0m in \u001b[0;36macquire_params\u001b[1;34m(self, curve_name, clever_downsample, fit_immediately)\u001b[0m\n\u001b[0;32m    326\u001b[0m         \u001b[1;31m#print 'acquiring ramp (channel 2)'\u001b[0m\u001b[1;33m\u001b[0m\u001b[1;33m\u001b[0m\u001b[0m\n\u001b[0;32m    327\u001b[0m         \u001b[0mscope\u001b[0m\u001b[1;33m.\u001b[0m\u001b[0mchannel_idx\u001b[0m \u001b[1;33m=\u001b[0m \u001b[1;36m2\u001b[0m\u001b[1;33m\u001b[0m\u001b[0m\n\u001b[1;32m--> 328\u001b[1;33m         \u001b[0mcurve2\u001b[0m \u001b[1;33m=\u001b[0m \u001b[0mscope\u001b[0m\u001b[1;33m.\u001b[0m\u001b[0mget_curve\u001b[0m\u001b[1;33m(\u001b[0m\u001b[1;33m)\u001b[0m\u001b[1;33m\u001b[0m\u001b[0m\n\u001b[0m\u001b[0;32m    329\u001b[0m         \u001b[0mcurve2\u001b[0m\u001b[1;33m.\u001b[0m\u001b[0mdownsample\u001b[0m\u001b[1;33m(\u001b[0m\u001b[1;33m)\u001b[0m\u001b[1;33m\u001b[0m\u001b[0m\n\u001b[0;32m    330\u001b[0m         \u001b[0mself\u001b[0m\u001b[1;33m.\u001b[0m\u001b[0mapply_values_to_curve\u001b[0m\u001b[1;33m(\u001b[0m\u001b[0mcurve2\u001b[0m\u001b[1;33m)\u001b[0m\u001b[1;33m\u001b[0m\u001b[0m\n",
        "\u001b[1;32mC:\\Users\\Remi\\Documents\\GitHub\\pyinstruments\\pyinstruments\\pyhardwaredb\\dbinstruments.pyc\u001b[0m in \u001b[0;36mget_curve\u001b[1;34m(self)\u001b[0m\n\u001b[0;32m     22\u001b[0m \u001b[1;33m@\u001b[0m\u001b[0mmonkey_patch\u001b[0m\u001b[1;33m\u001b[0m\u001b[0m\n\u001b[0;32m     23\u001b[0m \u001b[1;32mdef\u001b[0m \u001b[0mget_curve\u001b[0m\u001b[1;33m(\u001b[0m\u001b[0mself\u001b[0m\u001b[1;33m)\u001b[0m\u001b[1;33m:\u001b[0m\u001b[1;33m\u001b[0m\u001b[0m\n\u001b[1;32m---> 24\u001b[1;33m     \u001b[1;32mreturn\u001b[0m \u001b[0mcurve_db_from_curve\u001b[0m\u001b[1;33m(\u001b[0m\u001b[0mself\u001b[0m\u001b[1;33m.\u001b[0m\u001b[0m_get_curve\u001b[0m\u001b[1;33m(\u001b[0m\u001b[1;33m)\u001b[0m\u001b[1;33m)\u001b[0m\u001b[1;33m\u001b[0m\u001b[0m\n\u001b[0m\u001b[0;32m     25\u001b[0m \u001b[1;33m\u001b[0m\u001b[0m\n\u001b[0;32m     26\u001b[0m \u001b[1;32mdef\u001b[0m \u001b[0mget_curves\u001b[0m\u001b[1;33m(\u001b[0m\u001b[0mself\u001b[0m\u001b[1;33m,\u001b[0m \u001b[0mchannels\u001b[0m\u001b[1;33m=\u001b[0m\u001b[1;33m[\u001b[0m\u001b[1;36m1\u001b[0m\u001b[1;33m,\u001b[0m\u001b[1;36m2\u001b[0m\u001b[1;33m,\u001b[0m\u001b[1;36m3\u001b[0m\u001b[1;33m,\u001b[0m\u001b[1;36m4\u001b[0m\u001b[1;33m]\u001b[0m\u001b[1;33m)\u001b[0m\u001b[1;33m:\u001b[0m\u001b[1;33m\u001b[0m\u001b[0m\n",
        "\u001b[1;32mC:\\Users\\Remi\\Documents\\GitHub\\pyinstruments\\pyhardware\\drivers\\visa\\dpo3014.pyc\u001b[0m in \u001b[0;36m_get_curve\u001b[1;34m(self)\u001b[0m\n\u001b[0;32m    198\u001b[0m \u001b[1;33m\u001b[0m\u001b[0m\n\u001b[0;32m    199\u001b[0m         \u001b[0mcurve\u001b[0m \u001b[1;33m=\u001b[0m \u001b[0mCurve\u001b[0m\u001b[1;33m(\u001b[0m\u001b[1;33m)\u001b[0m\u001b[1;33m\u001b[0m\u001b[0m\n\u001b[1;32m--> 200\u001b[1;33m         \u001b[0mcurve\u001b[0m\u001b[1;33m.\u001b[0m\u001b[0mset_data\u001b[0m\u001b[1;33m(\u001b[0m\u001b[0mpandas\u001b[0m\u001b[1;33m.\u001b[0m\u001b[0mSeries\u001b[0m\u001b[1;33m(\u001b[0m\u001b[0mx_y\u001b[0m\u001b[1;33m[\u001b[0m\u001b[1;36m1\u001b[0m\u001b[1;33m]\u001b[0m\u001b[1;33m,\u001b[0m \u001b[0mindex\u001b[0m \u001b[1;33m=\u001b[0m \u001b[0mx_y\u001b[0m\u001b[1;33m[\u001b[0m\u001b[1;36m0\u001b[0m\u001b[1;33m]\u001b[0m\u001b[1;33m)\u001b[0m\u001b[1;33m)\u001b[0m\u001b[1;33m\u001b[0m\u001b[0m\n\u001b[0m\u001b[0;32m    201\u001b[0m         \u001b[0mcurve\u001b[0m\u001b[1;33m.\u001b[0m\u001b[0mset_params\u001b[0m\u001b[1;33m(\u001b[0m\u001b[1;33m**\u001b[0m\u001b[0mmeta\u001b[0m\u001b[1;33m)\u001b[0m\u001b[1;33m\u001b[0m\u001b[0m\n\u001b[0;32m    202\u001b[0m         \u001b[1;32mreturn\u001b[0m \u001b[0mcurve\u001b[0m\u001b[1;33m\u001b[0m\u001b[0m\n",
        "\u001b[1;32mC:\\Python27\\lib\\site-packages\\pandas\\core\\series.pyc\u001b[0m in \u001b[0;36m__init__\u001b[1;34m(self, data, index, dtype, name, copy, fastpath)\u001b[0m\n\u001b[0;32m    141\u001b[0m \u001b[1;33m\u001b[0m\u001b[0m\n\u001b[0;32m    142\u001b[0m             \u001b[1;32mif\u001b[0m \u001b[0mindex\u001b[0m \u001b[1;32mis\u001b[0m \u001b[1;32mnot\u001b[0m \u001b[0mNone\u001b[0m\u001b[1;33m:\u001b[0m\u001b[1;33m\u001b[0m\u001b[0m\n\u001b[1;32m--> 143\u001b[1;33m                 \u001b[0mindex\u001b[0m \u001b[1;33m=\u001b[0m \u001b[0m_ensure_index\u001b[0m\u001b[1;33m(\u001b[0m\u001b[0mindex\u001b[0m\u001b[1;33m)\u001b[0m\u001b[1;33m\u001b[0m\u001b[0m\n\u001b[0m\u001b[0;32m    144\u001b[0m \u001b[1;33m\u001b[0m\u001b[0m\n\u001b[0;32m    145\u001b[0m             \u001b[1;32mif\u001b[0m \u001b[0mdata\u001b[0m \u001b[1;32mis\u001b[0m \u001b[0mNone\u001b[0m\u001b[1;33m:\u001b[0m\u001b[1;33m\u001b[0m\u001b[0m\n",
        "\u001b[1;32mC:\\Python27\\lib\\site-packages\\pandas\\core\\index.pyc\u001b[0m in \u001b[0;36m_ensure_index\u001b[1;34m(index_like, copy)\u001b[0m\n\u001b[0;32m   3547\u001b[0m             \u001b[0mindex_like\u001b[0m \u001b[1;33m=\u001b[0m \u001b[0mcopy\u001b[0m\u001b[1;33m(\u001b[0m\u001b[0mindex_like\u001b[0m\u001b[1;33m)\u001b[0m\u001b[1;33m\u001b[0m\u001b[0m\n\u001b[0;32m   3548\u001b[0m \u001b[1;33m\u001b[0m\u001b[0m\n\u001b[1;32m-> 3549\u001b[1;33m     \u001b[1;32mreturn\u001b[0m \u001b[0mIndex\u001b[0m\u001b[1;33m(\u001b[0m\u001b[0mindex_like\u001b[0m\u001b[1;33m)\u001b[0m\u001b[1;33m\u001b[0m\u001b[0m\n\u001b[0m\u001b[0;32m   3550\u001b[0m \u001b[1;33m\u001b[0m\u001b[0m\n\u001b[0;32m   3551\u001b[0m \u001b[1;33m\u001b[0m\u001b[0m\n",
        "\u001b[1;32mC:\\Python27\\lib\\site-packages\\pandas\\core\\index.pyc\u001b[0m in \u001b[0;36m__new__\u001b[1;34m(cls, data, dtype, copy, name, fastpath, **kwargs)\u001b[0m\n\u001b[0;32m    147\u001b[0m                 \u001b[1;32mreturn\u001b[0m \u001b[0mInt64Index\u001b[0m\u001b[1;33m(\u001b[0m\u001b[0msubarr\u001b[0m\u001b[1;33m.\u001b[0m\u001b[0mastype\u001b[0m\u001b[1;33m(\u001b[0m\u001b[1;34m'i8'\u001b[0m\u001b[1;33m)\u001b[0m\u001b[1;33m,\u001b[0m \u001b[0mcopy\u001b[0m\u001b[1;33m=\u001b[0m\u001b[0mcopy\u001b[0m\u001b[1;33m,\u001b[0m \u001b[0mname\u001b[0m\u001b[1;33m=\u001b[0m\u001b[0mname\u001b[0m\u001b[1;33m)\u001b[0m\u001b[1;33m\u001b[0m\u001b[0m\n\u001b[0;32m    148\u001b[0m             \u001b[1;32melif\u001b[0m \u001b[0minferred\u001b[0m \u001b[1;32min\u001b[0m \u001b[1;33m[\u001b[0m\u001b[1;34m'floating'\u001b[0m\u001b[1;33m,\u001b[0m \u001b[1;34m'mixed-integer-float'\u001b[0m\u001b[1;33m]\u001b[0m\u001b[1;33m:\u001b[0m\u001b[1;33m\u001b[0m\u001b[0m\n\u001b[1;32m--> 149\u001b[1;33m                 \u001b[1;32mreturn\u001b[0m \u001b[0mFloat64Index\u001b[0m\u001b[1;33m(\u001b[0m\u001b[0msubarr\u001b[0m\u001b[1;33m,\u001b[0m \u001b[0mcopy\u001b[0m\u001b[1;33m=\u001b[0m\u001b[0mcopy\u001b[0m\u001b[1;33m,\u001b[0m \u001b[0mname\u001b[0m\u001b[1;33m=\u001b[0m\u001b[0mname\u001b[0m\u001b[1;33m)\u001b[0m\u001b[1;33m\u001b[0m\u001b[0m\n\u001b[0m\u001b[0;32m    150\u001b[0m             \u001b[1;32melif\u001b[0m \u001b[0minferred\u001b[0m \u001b[1;33m!=\u001b[0m \u001b[1;34m'string'\u001b[0m\u001b[1;33m:\u001b[0m\u001b[1;33m\u001b[0m\u001b[0m\n\u001b[0;32m    151\u001b[0m                 if (inferred.startswith('datetime') or\n",
        "\u001b[1;32mC:\\Python27\\lib\\site-packages\\pandas\\core\\index.pyc\u001b[0m in \u001b[0;36m__new__\u001b[1;34m(cls, data, dtype, copy, name, fastpath)\u001b[0m\n\u001b[0;32m   1773\u001b[0m         \u001b[1;31m# coerce to object for storage\u001b[0m\u001b[1;33m\u001b[0m\u001b[1;33m\u001b[0m\u001b[0m\n\u001b[0;32m   1774\u001b[0m         \u001b[1;32mif\u001b[0m \u001b[1;32mnot\u001b[0m \u001b[0msubarr\u001b[0m\u001b[1;33m.\u001b[0m\u001b[0mdtype\u001b[0m \u001b[1;33m==\u001b[0m \u001b[0mnp\u001b[0m\u001b[1;33m.\u001b[0m\u001b[0mobject_\u001b[0m\u001b[1;33m:\u001b[0m\u001b[1;33m\u001b[0m\u001b[0m\n\u001b[1;32m-> 1775\u001b[1;33m             \u001b[0msubarr\u001b[0m \u001b[1;33m=\u001b[0m \u001b[0msubarr\u001b[0m\u001b[1;33m.\u001b[0m\u001b[0mastype\u001b[0m\u001b[1;33m(\u001b[0m\u001b[0mobject\u001b[0m\u001b[1;33m)\u001b[0m\u001b[1;33m\u001b[0m\u001b[0m\n\u001b[0m\u001b[0;32m   1776\u001b[0m \u001b[1;33m\u001b[0m\u001b[0m\n\u001b[0;32m   1777\u001b[0m         \u001b[0msubarr\u001b[0m \u001b[1;33m=\u001b[0m \u001b[0msubarr\u001b[0m\u001b[1;33m.\u001b[0m\u001b[0mview\u001b[0m\u001b[1;33m(\u001b[0m\u001b[0mcls\u001b[0m\u001b[1;33m)\u001b[0m\u001b[1;33m\u001b[0m\u001b[0m\n",
        "\u001b[1;31mMemoryError\u001b[0m: "
       ]
      }
     ],
     "prompt_number": 15
    },
    {
     "cell_type": "code",
     "collapsed": false,
     "input": [],
     "language": "python",
     "metadata": {},
     "outputs": []
    }
   ],
   "metadata": {}
  }
 ]
}