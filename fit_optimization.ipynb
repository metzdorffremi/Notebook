{
 "metadata": {
  "name": "",
  "signature": "sha256:9f78b4126506b8167a32d92d759e40f72e9c81a82b79a2816dfa31d29d27b7ae"
 },
 "nbformat": 3,
 "nbformat_minor": 0,
 "worksheets": [
  {
   "cells": [
    {
     "cell_type": "code",
     "collapsed": false,
     "input": [
      "#before shutting down the program\n",
      "s.closeProperly()"
     ],
     "language": "python",
     "metadata": {},
     "outputs": [
      {
       "output_type": "stream",
       "stream": "stderr",
       "text": [
        "Exception AttributeError: \"'Stepper' object has no attribute 'serial'\" in <bound method Stepper.__del__ of <stepper.Stepper object at 0x05B94A70>> ignored\n"
       ]
      },
      {
       "ename": "NameError",
       "evalue": "name 's' is not defined",
       "output_type": "pyerr",
       "traceback": [
        "\u001b[1;31m---------------------------------------------------------------------------\u001b[0m\n\u001b[1;31mNameError\u001b[0m                                 Traceback (most recent call last)",
        "\u001b[1;32m<ipython-input-3-4ed890646fdb>\u001b[0m in \u001b[0;36m<module>\u001b[1;34m()\u001b[0m\n\u001b[0;32m      1\u001b[0m \u001b[1;31m#before shutting down the program\u001b[0m\u001b[1;33m\u001b[0m\u001b[1;33m\u001b[0m\u001b[0m\n\u001b[1;32m----> 2\u001b[1;33m \u001b[0ms\u001b[0m\u001b[1;33m.\u001b[0m\u001b[0mcloseProperly\u001b[0m\u001b[1;33m(\u001b[0m\u001b[1;33m)\u001b[0m\u001b[1;33m\u001b[0m\u001b[0m\n\u001b[0m",
        "\u001b[1;31mNameError\u001b[0m: name 's' is not defined"
       ]
      }
     ],
     "prompt_number": 3
    },
    {
     "cell_type": "code",
     "collapsed": false,
     "input": [
      "from stepper import Stepper\n",
      "from time import sleep\n",
      "from pyinstruments import CurveDB\n",
      "import pandas\n",
      "import gc\n",
      "from users.remi import finesse\n",
      "from pyinstruments.pyhardwaredb import instrument\n",
      "\n",
      "constants = finesse.CONSTANTS_REMI_PILLAR\n",
      "scope = instrument(constants[\"scopename\"])"
     ],
     "language": "python",
     "metadata": {},
     "outputs": [],
     "prompt_number": 1
    },
    {
     "cell_type": "code",
     "collapsed": false,
     "input": [
      "s = Stepper()"
     ],
     "language": "python",
     "metadata": {},
     "outputs": [],
     "prompt_number": 2
    },
    {
     "cell_type": "code",
     "collapsed": false,
     "input": [
      "s.position()"
     ],
     "language": "python",
     "metadata": {},
     "outputs": [
      {
       "output_type": "stream",
       "stream": "stdout",
       "text": [
        "I'm at step: 0\n",
        "Distance to reference point: 0.0 um\n"
       ]
      },
      {
       "metadata": {},
       "output_type": "pyout",
       "prompt_number": 3,
       "text": [
        "0"
       ]
      }
     ],
     "prompt_number": 3
    },
    {
     "cell_type": "code",
     "collapsed": false,
     "input": [
      "s.calibrate()"
     ],
     "language": "python",
     "metadata": {},
     "outputs": [],
     "prompt_number": 3
    },
    {
     "cell_type": "code",
     "collapsed": false,
     "input": [
      "posmax = 24500\n",
      "s.goToStepN(posmax)    #Position of the stepper's cursor: on 50\n",
      "print s.position()\n",
      "w = finesse.FinesseMeasurementWidget(hidden=True)\n",
      "scope.recall(1)"
     ],
     "language": "python",
     "metadata": {},
     "outputs": [
      {
       "output_type": "stream",
       "stream": "stdout",
       "text": [
        "I'm at step: 24500\n",
        "Distance to reference point: 15312.5 um\n",
        "24500\n"
       ]
      }
     ],
     "prompt_number": 4
    },
    {
     "cell_type": "code",
     "collapsed": false,
     "input": [
      "threshold1 = .320 #setup1\n",
      "threshold2 = .450 #setup2\n",
      "threshold3 = .500 #setup3\n",
      "threshold4 = .560 #setup4\n",
      "\n",
      "N = 50\n",
      "pas = 30 #number of step by step\n",
      "\n",
      "current_pos = s.quiet_position()\n",
      "\n",
      "parent = CurveDB.objects.get(pk=186078)\n",
      "parentCurve = CurveDB()\n",
      "parentCurve.name = \"AC_DC_comparison\"\n",
      "parentCurve.save()\n",
      "parent.add_child(parentCurve)\n",
      "\n",
      "min_value = 0\n",
      "scope_setup_changed = False\n",
      "for count,i in enumerate(range(0,N)):\n",
      "    scope_setup = 1\n",
      "    if scope_setup_changed:\n",
      "        scope.recall(scope_setup)\n",
      "        scope_setup_changed = False\n",
      "    s.goToStepN(posmax-pas*i)\n",
      "    sleep(5)\n",
      "    current_pos = s.quiet_position()\n",
      "    \n",
      "    if min_value <= threshold1:\n",
      "        #print \"Setup1\"\n",
      "        current_pk, current_length, current_F = w.acquire_params(\"fit_optimization_\" + str(current_pos),\n",
      "                                                                 clever_downsample=True, fit_immediately=False, curve3=\"AC\")\n",
      "    elif (min_value>threshold1) and (min_value<=threshold2):\n",
      "        #print \"Setup1+ AC\"\n",
      "        current_pk, current_length, current_F = w.acquire_params(\"fit_optimization_\" + str(current_pos),\n",
      "                                                                 clever_downsample=True, fit_immediately=False, curve3=\"AC\")\n",
      "    elif (min_value>threshold2) and (min_value<=threshold3):\n",
      "        #print \"Setup2+ AC\"\n",
      "        scope_setup_changed = True\n",
      "        scope_setup = 2\n",
      "        scope.recall(scope_setup)\n",
      "        current_pk, current_length, current_F = w.acquire_params(\"fit_optimization_\" + str(current_pos),\n",
      "                                                                 clever_downsample=True, fit_immediately=False, curve3=\"AC\")\n",
      "    elif (min_value>threshold3) and (min_value<=threshold4):\n",
      "        #print \"Setup3+ AC\"\n",
      "        scope_setup_changed = True\n",
      "        scope_setup = 3\n",
      "        scope.recall(scope_setup)\n",
      "        current_pk, current_length, current_F = w.acquire_params(\"fit_optimization_\" + str(current_pos),\n",
      "                                                                 clever_downsample=True, fit_immediately=False, curve3=\"AC\")\n",
      "    elif (min_value>threshold4):\n",
      "        #print \"Setup4+ AC\"\n",
      "        scope_setup_changed = True\n",
      "        scope_setup = 4\n",
      "        scope.recall(scope_setup)\n",
      "        current_pk, current_length, current_F = w.acquire_params(\"fit_optimization_\" + str(current_pos),\n",
      "                                                                 clever_downsample=True, fit_immediately=False, curve3=\"AC\")\n",
      "    c = CurveDB.objects.get(pk=current_pk)\n",
      "    min_value = min(c.data.values)\n",
      "    print 'iteration:', count, '\\t step: ', current_pos, '\\t min: ', min_value\n",
      "    c.params[\"stepper_pos\"]=current_pos\n",
      "    c.params[\"min_value\"] = min_value\n",
      "    c.params[\"scope_setup\"] = scope_setup\n",
      "    c.save()\n",
      "    parentCurve.add_child(c)\n",
      "    c = None\n",
      "    del c\n",
      "    gc.collect()"
     ],
     "language": "python",
     "metadata": {},
     "outputs": [
      {
       "output_type": "stream",
       "stream": "stdout",
       "text": [
        "iteration: 0 \t step:  24500 \t min:  0.278\n",
        "iteration:"
       ]
      },
      {
       "output_type": "stream",
       "stream": "stdout",
       "text": [
        " 1 \t step:  24470 \t min:  0.318\n",
        "iteration:"
       ]
      },
      {
       "output_type": "stream",
       "stream": "stdout",
       "text": [
        " 2 \t step:  24440 \t min:  0.326\n",
        "iteration:"
       ]
      },
      {
       "output_type": "stream",
       "stream": "stdout",
       "text": [
        " 3 \t step:  24410 \t min:  0.322\n",
        "iteration:"
       ]
      },
      {
       "output_type": "stream",
       "stream": "stdout",
       "text": [
        " 4 \t step:  24380 \t min:  0.246\n",
        "iteration:"
       ]
      },
      {
       "output_type": "stream",
       "stream": "stdout",
       "text": [
        " 5 \t step:  24350 \t min:  0.314\n",
        "iteration:"
       ]
      },
      {
       "output_type": "stream",
       "stream": "stdout",
       "text": [
        " 6 \t step:  24320 \t min:  0.334\n",
        "iteration:"
       ]
      },
      {
       "output_type": "stream",
       "stream": "stdout",
       "text": [
        " 7 \t step:  24290 \t min:  0.326\n",
        "iteration:"
       ]
      },
      {
       "output_type": "stream",
       "stream": "stdout",
       "text": [
        " 8 \t step:  24260 \t min:  0.322\n",
        "iteration:"
       ]
      },
      {
       "output_type": "stream",
       "stream": "stdout",
       "text": [
        " 9 \t step:  24230 \t min:  0.33\n",
        "iteration:"
       ]
      },
      {
       "output_type": "stream",
       "stream": "stdout",
       "text": [
        " 10 \t step:  24200 \t min:  0.326\n",
        "iteration:"
       ]
      },
      {
       "output_type": "stream",
       "stream": "stdout",
       "text": [
        " 11 \t step:  24170 \t min:  0.338\n",
        "iteration:"
       ]
      },
      {
       "output_type": "stream",
       "stream": "stdout",
       "text": [
        " 12 \t step:  24140 \t min:  0.326\n",
        "iteration:"
       ]
      },
      {
       "output_type": "stream",
       "stream": "stdout",
       "text": [
        " 13 \t step:  24110 \t min:  0.302\n",
        "iteration:"
       ]
      },
      {
       "output_type": "stream",
       "stream": "stdout",
       "text": [
        " 14 \t step:  24080 \t min:  0.41\n",
        "iteration:"
       ]
      },
      {
       "output_type": "stream",
       "stream": "stdout",
       "text": [
        " 15 \t step:  24050 \t min:  0.342\n",
        "iteration:"
       ]
      },
      {
       "output_type": "stream",
       "stream": "stdout",
       "text": [
        " 16 \t step:  24020 \t min:  0.326\n",
        "iteration:"
       ]
      },
      {
       "output_type": "stream",
       "stream": "stdout",
       "text": [
        " 17 \t step:  23990 \t min:  0.322\n",
        "iteration:"
       ]
      },
      {
       "output_type": "stream",
       "stream": "stdout",
       "text": [
        " 18 \t step:  23960 \t min:  0.354\n",
        "iteration:"
       ]
      },
      {
       "output_type": "stream",
       "stream": "stdout",
       "text": [
        " 19 \t step:  23930 \t min:  0.458\n",
        "iteration:"
       ]
      },
      {
       "output_type": "stream",
       "stream": "stdout",
       "text": [
        " 20 \t step:  23900 \t min:  0.362\n",
        "iteration:"
       ]
      },
      {
       "output_type": "stream",
       "stream": "stdout",
       "text": [
        " 21 \t step:  23870 \t min:  0.382\n",
        "iteration:"
       ]
      },
      {
       "output_type": "stream",
       "stream": "stdout",
       "text": [
        " 22 \t step:  23840 \t min:  0.378\n",
        "iteration:"
       ]
      },
      {
       "output_type": "stream",
       "stream": "stdout",
       "text": [
        " 23 \t step:  23810 \t min:  0.454\n",
        "iteration:"
       ]
      },
      {
       "output_type": "stream",
       "stream": "stdout",
       "text": [
        " 24 \t step:  23780 \t min:  0.55\n",
        "iteration:"
       ]
      },
      {
       "output_type": "stream",
       "stream": "stdout",
       "text": [
        " 25 \t step:  23750 \t min:  0.534\n",
        "iteration:"
       ]
      },
      {
       "output_type": "stream",
       "stream": "stdout",
       "text": [
        " 26 \t step:  23720 \t min:  0.526\n",
        "iteration:"
       ]
      },
      {
       "output_type": "stream",
       "stream": "stdout",
       "text": [
        " 27 \t step:  23690 \t min:  0.542\n",
        "iteration:"
       ]
      },
      {
       "output_type": "stream",
       "stream": "stdout",
       "text": [
        " 28 \t step:  23660 \t min:  0.55\n",
        "iteration:"
       ]
      },
      {
       "output_type": "stream",
       "stream": "stdout",
       "text": [
        " 29 \t step:  23630 \t min:  0.55\n",
        "iteration:"
       ]
      },
      {
       "output_type": "stream",
       "stream": "stdout",
       "text": [
        " 30 \t step:  23600 \t min:  0.55\n",
        "iteration:"
       ]
      },
      {
       "output_type": "stream",
       "stream": "stdout",
       "text": [
        " 31 \t step:  23570 \t min:  0.538\n",
        "iteration:"
       ]
      },
      {
       "output_type": "stream",
       "stream": "stdout",
       "text": [
        " 32 \t step:  23540 \t min:  0.546\n",
        "iteration:"
       ]
      },
      {
       "output_type": "stream",
       "stream": "stdout",
       "text": [
        " 33 \t step:  23510 \t min:  0.55\n",
        "iteration:"
       ]
      },
      {
       "output_type": "stream",
       "stream": "stdout",
       "text": [
        " 34 \t step:  23480 \t min:  0.55\n",
        "iteration:"
       ]
      },
      {
       "output_type": "stream",
       "stream": "stdout",
       "text": [
        " 35 \t step:  23450 \t min:  0.542\n",
        "iteration:"
       ]
      },
      {
       "output_type": "stream",
       "stream": "stdout",
       "text": [
        " 36 \t step:  23420 \t min:  0.55\n",
        "iteration:"
       ]
      },
      {
       "output_type": "stream",
       "stream": "stdout",
       "text": [
        " 37 \t step:  23390 \t min:  0.538\n",
        "iteration:"
       ]
      },
      {
       "output_type": "stream",
       "stream": "stdout",
       "text": [
        " 38 \t step:  23360 \t min:  0.538\n",
        "iteration:"
       ]
      },
      {
       "output_type": "stream",
       "stream": "stdout",
       "text": [
        " 39 \t step:  23330 \t min:  0.534\n",
        "iteration:"
       ]
      },
      {
       "output_type": "stream",
       "stream": "stdout",
       "text": [
        " 40 \t step:  23300 \t min:  0.534\n",
        "iteration:"
       ]
      },
      {
       "output_type": "stream",
       "stream": "stdout",
       "text": [
        " 41 \t step:  23270 \t min:  0.538\n",
        "iteration:"
       ]
      },
      {
       "output_type": "stream",
       "stream": "stdout",
       "text": [
        " 42 \t step:  23240 \t min:  0.53\n",
        "iteration:"
       ]
      },
      {
       "output_type": "stream",
       "stream": "stdout",
       "text": [
        " 43 \t step:  23210 \t min:  0.534\n",
        "iteration:"
       ]
      },
      {
       "output_type": "stream",
       "stream": "stdout",
       "text": [
        " 44 \t step:  23180 \t min:  0.53\n",
        "iteration:"
       ]
      },
      {
       "output_type": "stream",
       "stream": "stdout",
       "text": [
        " 45 \t step:  23150 \t min:  0.534\n",
        "iteration:"
       ]
      },
      {
       "output_type": "stream",
       "stream": "stdout",
       "text": [
        " 46 \t step:  23120 \t min:  0.534\n",
        "iteration:"
       ]
      },
      {
       "output_type": "stream",
       "stream": "stdout",
       "text": [
        " 47 \t step:  23090 \t min:  0.53\n",
        "iteration:"
       ]
      },
      {
       "output_type": "stream",
       "stream": "stdout",
       "text": [
        " 48 \t step:  23060 \t min:  0.534\n",
        "iteration:"
       ]
      },
      {
       "output_type": "stream",
       "stream": "stdout",
       "text": [
        " 49 \t step:  23030 \t min:  0.534\n"
       ]
      }
     ],
     "prompt_number": 5
    },
    {
     "cell_type": "code",
     "collapsed": false,
     "input": [
      "#analysis\n",
      "\"\"\"Calculate finesse and length for all curves in the parent curve and plot results\"\"\"\n",
      "\n",
      "from pyinstruments import CurveDB\n",
      "from users.remi import finesse\n",
      "import gc\n",
      "\n",
      "parent_pk = 217455\n",
      "parentCurve = CurveDB.objects.get(pk=parent_pk)"
     ],
     "language": "python",
     "metadata": {},
     "outputs": [],
     "prompt_number": 1
    },
    {
     "cell_type": "code",
     "collapsed": false,
     "input": [
      "parentCurve = CurveDB.objects.get(pk=parent_pk)\n",
      "pks  = [c.pk for c in parentCurve.childs.all()]\n",
      "print pks\n",
      "for i,pk in enumerate(pks):\n",
      "    print \"iteration {0:4}, curve {1:6}, name: \".format(i, pk), CurveDB.objects.get(pk=pk).name\n",
      "    finesse.analyze_save_summary(pk)\n",
      "    gc.collect()\n",
      "    last_fitted_curve = pk"
     ],
     "language": "python",
     "metadata": {},
     "outputs": [
      {
       "output_type": "stream",
       "stream": "stderr",
       "text": [
        "C:\\Python27\\lib\\site-packages\\pandas\\io\\pytables.py:528: DeprecationWarning: openFile() is pending deprecation, use open_file() instead. You may use the pt2to3 tool to update your source code.\n",
        "  self._handle = tables.openFile(self._path, self._mode, **kwargs)\n",
        "\n"
       ]
      },
      {
       "output_type": "stream",
       "stream": "stderr",
       "text": [
        "WARNING:py.warnings:C:\\Python27\\lib\\site-packages\\pandas\\io\\pytables.py:528: DeprecationWarning: openFile() is pending deprecation, use open_file() instead. You may use the pt2to3 tool to update your source code.\n",
        "  self._handle = tables.openFile(self._path, self._mode, **kwargs)\n",
        "\n"
       ]
      },
      {
       "output_type": "stream",
       "stream": "stderr",
       "text": [
        "C:\\Python27\\lib\\site-packages\\pandas\\io\\pytables.py:1044: DeprecationWarning: getNode() is pending deprecation, use get_node() instead. You may use the pt2to3 tool to update your source code.\n",
        "  return self._handle.getNode(self.root, key)\n",
        "\n"
       ]
      },
      {
       "output_type": "stream",
       "stream": "stderr",
       "text": [
        "WARNING:py.warnings:C:\\Python27\\lib\\site-packages\\pandas\\io\\pytables.py:1044: DeprecationWarning: getNode() is pending deprecation, use get_node() instead. You may use the pt2to3 tool to update your source code.\n",
        "  return self._handle.getNode(self.root, key)\n",
        "\n"
       ]
      },
      {
       "output_type": "stream",
       "stream": "stdout",
       "text": [
        "[217456, 217459, 217462, 217465, 217468, 217471, 217474, 217477, 217480, 217483, 217486, 217489, 217492, 217495, 217498, 217501, 217504, 217507, 217510, 217513, 217516, 217519, 217522, 217525, 217528, 217531, 217534, 217537, 217540, 217543, 217546, 217549, 217552, 217555, 217558, 217561, 217564, 217567, 217570, 217573, 217576, 217579, 217582, 217585, 217588, 217591, 217594, 217597, 217600, 217603]\n",
        "iteration    0, curve 217456, name:  fit_optimization_24500\n",
        "removing nastypeaks"
       ]
      },
      {
       "output_type": "stream",
       "stream": "stdout",
       "text": [
        "\n",
        "[ 0.  0.  5.  5.  5.  2.  0.]"
       ]
      },
      {
       "output_type": "stream",
       "stream": "stdout",
       "text": [
        "\n",
        "iteration    1, curve 217459, name: "
       ]
      },
      {
       "output_type": "stream",
       "stream": "stdout",
       "text": [
        " fit_optimization_24470\n",
        "removing nastypeaks"
       ]
      },
      {
       "output_type": "stream",
       "stream": "stdout",
       "text": [
        "\n",
        "[ 0.  1.  5.  5.  5.  0.  0.]"
       ]
      },
      {
       "output_type": "stream",
       "stream": "stdout",
       "text": [
        "\n",
        "iteration    2, curve 217462, name: "
       ]
      },
      {
       "output_type": "stream",
       "stream": "stdout",
       "text": [
        " fit_optimization_24440\n",
        "removing nastypeaks"
       ]
      },
      {
       "output_type": "stream",
       "stream": "stdout",
       "text": [
        "\n",
        "[ 0.  0.  4.  4.  4.  0.  0.]"
       ]
      },
      {
       "output_type": "stream",
       "stream": "stdout",
       "text": [
        "\n",
        "iteration    3, curve 217465, name: "
       ]
      },
      {
       "output_type": "stream",
       "stream": "stdout",
       "text": [
        " fit_optimization_24410\n",
        "removing nastypeaks"
       ]
      },
      {
       "output_type": "stream",
       "stream": "stdout",
       "text": [
        "\n",
        "[ 0.  0.  4.  4.  4.  0.  0.]"
       ]
      },
      {
       "output_type": "stream",
       "stream": "stdout",
       "text": [
        "\n",
        "iteration    4, curve 217468, name: "
       ]
      },
      {
       "output_type": "stream",
       "stream": "stdout",
       "text": [
        " fit_optimization_24380\n",
        "removing nastypeaks"
       ]
      },
      {
       "output_type": "stream",
       "stream": "stdout",
       "text": [
        "\n",
        "[ 0.  0.  5.  5.  5.  0.  0.]"
       ]
      },
      {
       "output_type": "stream",
       "stream": "stdout",
       "text": [
        "\n",
        "iteration    5, curve 217471, name: "
       ]
      },
      {
       "output_type": "stream",
       "stream": "stdout",
       "text": [
        " fit_optimization_24350\n",
        "removing nastypeaks"
       ]
      },
      {
       "output_type": "stream",
       "stream": "stdout",
       "text": [
        "\n",
        "[ 0.  0.  5.  5.  5.  0.  0.]"
       ]
      },
      {
       "output_type": "stream",
       "stream": "stdout",
       "text": [
        "\n",
        "iteration    6, curve 217474, name: "
       ]
      },
      {
       "output_type": "stream",
       "stream": "stdout",
       "text": [
        " fit_optimization_24320\n",
        "removing nastypeaks"
       ]
      },
      {
       "output_type": "stream",
       "stream": "stdout",
       "text": [
        "\n",
        "[ 0.  0.  4.  4.  4.  0.  0.]"
       ]
      },
      {
       "output_type": "stream",
       "stream": "stdout",
       "text": [
        "\n",
        "iteration    7, curve 217477, name: "
       ]
      },
      {
       "output_type": "stream",
       "stream": "stdout",
       "text": [
        " fit_optimization_24290\n",
        "removing nastypeaks"
       ]
      },
      {
       "output_type": "stream",
       "stream": "stdout",
       "text": [
        "\n",
        "[ 0.  0.  5.  5.  5.  0.  0.]"
       ]
      },
      {
       "output_type": "stream",
       "stream": "stdout",
       "text": [
        "\n",
        "iteration    8, curve 217480, name: "
       ]
      },
      {
       "output_type": "stream",
       "stream": "stdout",
       "text": [
        " fit_optimization_24260\n",
        "removing nastypeaks"
       ]
      },
      {
       "output_type": "stream",
       "stream": "stdout",
       "text": [
        "\n",
        "[ 0.  0.  5.  5.  5.  0.  0.]"
       ]
      },
      {
       "output_type": "stream",
       "stream": "stdout",
       "text": [
        "\n",
        "iteration    9, curve 217483, name: "
       ]
      },
      {
       "output_type": "stream",
       "stream": "stdout",
       "text": [
        " fit_optimization_24230\n",
        "removing nastypeaks"
       ]
      },
      {
       "output_type": "stream",
       "stream": "stdout",
       "text": [
        "\n",
        "[ 0.  0.  4.  4.  4.  0.  0.]"
       ]
      },
      {
       "output_type": "stream",
       "stream": "stdout",
       "text": [
        "\n",
        "iteration   10, curve 217486, name: "
       ]
      },
      {
       "output_type": "stream",
       "stream": "stdout",
       "text": [
        " fit_optimization_24200\n",
        "removing nastypeaks"
       ]
      },
      {
       "output_type": "stream",
       "stream": "stdout",
       "text": [
        "\n",
        "[ 0.  0.  5.  5.  5.  0.  0.]"
       ]
      },
      {
       "output_type": "stream",
       "stream": "stdout",
       "text": [
        "\n",
        "iteration   11, curve 217489, name: "
       ]
      },
      {
       "output_type": "stream",
       "stream": "stdout",
       "text": [
        " fit_optimization_24170\n",
        "removing nastypeaks"
       ]
      },
      {
       "output_type": "stream",
       "stream": "stdout",
       "text": [
        "\n",
        "[ 0.  0.  4.  4.  4.  0.  0.]"
       ]
      },
      {
       "output_type": "stream",
       "stream": "stdout",
       "text": [
        "\n",
        "iteration   12, curve 217492, name: "
       ]
      },
      {
       "output_type": "stream",
       "stream": "stdout",
       "text": [
        " fit_optimization_24140\n",
        "removing nastypeaks"
       ]
      },
      {
       "output_type": "stream",
       "stream": "stdout",
       "text": [
        "\n",
        "[ 0.  0.  4.  4.  4.  0.  0.]"
       ]
      },
      {
       "output_type": "stream",
       "stream": "stdout",
       "text": [
        "\n",
        "iteration   13, curve 217495, name: "
       ]
      },
      {
       "output_type": "stream",
       "stream": "stdout",
       "text": [
        " fit_optimization_24110\n",
        "removing nastypeaks"
       ]
      },
      {
       "output_type": "stream",
       "stream": "stdout",
       "text": [
        "\n",
        "[ 0.  1.  5.  5.  5.  0.  0.]"
       ]
      },
      {
       "output_type": "stream",
       "stream": "stdout",
       "text": [
        "\n",
        "iteration   14, curve 217498, name: "
       ]
      },
      {
       "output_type": "stream",
       "stream": "stdout",
       "text": [
        " fit_optimization_24080\n",
        "removing nastypeaks"
       ]
      },
      {
       "output_type": "stream",
       "stream": "stdout",
       "text": [
        "\n",
        "[ 0.  0.  5.  5.  5.  0.  0.]"
       ]
      },
      {
       "output_type": "stream",
       "stream": "stdout",
       "text": [
        "\n",
        "iteration   15, curve 217501, name: "
       ]
      },
      {
       "output_type": "stream",
       "stream": "stdout",
       "text": [
        " fit_optimization_24050\n",
        "removing nastypeaks"
       ]
      },
      {
       "output_type": "stream",
       "stream": "stdout",
       "text": [
        "\n",
        "[ 0.  0.  4.  4.  4.  0.  0.]"
       ]
      },
      {
       "output_type": "stream",
       "stream": "stdout",
       "text": [
        "\n",
        "iteration   16, curve 217504, name: "
       ]
      },
      {
       "output_type": "stream",
       "stream": "stdout",
       "text": [
        " fit_optimization_24020\n",
        "removing nastypeaks"
       ]
      },
      {
       "output_type": "stream",
       "stream": "stdout",
       "text": [
        "\n",
        "[ 0.  1.  5.  5.  5.  0.  0.]"
       ]
      },
      {
       "output_type": "stream",
       "stream": "stdout",
       "text": [
        "\n",
        "iteration   17, curve 217507, name: "
       ]
      },
      {
       "output_type": "stream",
       "stream": "stdout",
       "text": [
        " fit_optimization_23990\n",
        "removing nastypeaks"
       ]
      },
      {
       "output_type": "stream",
       "stream": "stdout",
       "text": [
        "\n",
        "[ 0.  1.  5.  5.  5.  0.  0.]"
       ]
      },
      {
       "output_type": "stream",
       "stream": "stdout",
       "text": [
        "\n",
        "iteration   18, curve 217510, name: "
       ]
      },
      {
       "output_type": "stream",
       "stream": "stdout",
       "text": [
        " fit_optimization_23960\n",
        "removing nastypeaks"
       ]
      },
      {
       "output_type": "stream",
       "stream": "stdout",
       "text": [
        "\n",
        "[ 0.  0.  4.  4.  4.  0.  0.]"
       ]
      },
      {
       "output_type": "stream",
       "stream": "stdout",
       "text": [
        "\n",
        "iteration   19, curve 217513, name: "
       ]
      },
      {
       "output_type": "stream",
       "stream": "stdout",
       "text": [
        " fit_optimization_23930\n",
        "removing nastypeaks"
       ]
      },
      {
       "output_type": "stream",
       "stream": "stdout",
       "text": [
        "\n",
        "[ 0.  0.  5.  5.  5.  0.  0.]"
       ]
      },
      {
       "output_type": "stream",
       "stream": "stdout",
       "text": [
        "\n",
        "iteration   20, curve 217516, name: "
       ]
      },
      {
       "output_type": "stream",
       "stream": "stdout",
       "text": [
        " fit_optimization_23900\n",
        "removing nastypeaks"
       ]
      },
      {
       "output_type": "stream",
       "stream": "stdout",
       "text": [
        "\n",
        "[ 0.  0.  5.  5.  5.  1.  0.]"
       ]
      },
      {
       "output_type": "stream",
       "stream": "stdout",
       "text": [
        "\n",
        "iteration   21, curve 217519, name: "
       ]
      },
      {
       "output_type": "stream",
       "stream": "stdout",
       "text": [
        " fit_optimization_23870\n",
        "removing nastypeaks"
       ]
      },
      {
       "output_type": "stream",
       "stream": "stdout",
       "text": [
        "\n",
        "[ 0.  1.  5.  5.  5.  0.  0.]"
       ]
      },
      {
       "output_type": "stream",
       "stream": "stdout",
       "text": [
        "\n",
        "iteration   22, curve 217522, name: "
       ]
      },
      {
       "output_type": "stream",
       "stream": "stdout",
       "text": [
        " fit_optimization_23840\n",
        "removing nastypeaks"
       ]
      },
      {
       "output_type": "stream",
       "stream": "stdout",
       "text": [
        "\n",
        "[ 0.  0.  4.  4.  4.  0.  0.]"
       ]
      },
      {
       "output_type": "stream",
       "stream": "stdout",
       "text": [
        "\n",
        "iteration   23, curve 217525, name: "
       ]
      },
      {
       "output_type": "stream",
       "stream": "stdout",
       "text": [
        " fit_optimization_23810\n",
        "removing nastypeaks"
       ]
      },
      {
       "output_type": "stream",
       "stream": "stdout",
       "text": [
        "\n",
        "[ 0.  0.  4.  4.  4.  0.  0.]"
       ]
      },
      {
       "output_type": "stream",
       "stream": "stdout",
       "text": [
        "\n",
        "iteration   24, curve 217528, name: "
       ]
      },
      {
       "output_type": "stream",
       "stream": "stdout",
       "text": [
        " fit_optimization_23780\n"
       ]
      },
      {
       "ename": "ValueError",
       "evalue": "Curve peak@-140011.68us should have exactly 1 child!",
       "output_type": "pyerr",
       "traceback": [
        "\u001b[1;31m---------------------------------------------------------------------------\u001b[0m\n\u001b[1;31mValueError\u001b[0m                                Traceback (most recent call last)",
        "\u001b[1;32m<ipython-input-2-7f5f107423c2>\u001b[0m in \u001b[0;36m<module>\u001b[1;34m()\u001b[0m\n\u001b[0;32m      4\u001b[0m \u001b[1;32mfor\u001b[0m \u001b[0mi\u001b[0m\u001b[1;33m,\u001b[0m\u001b[0mpk\u001b[0m \u001b[1;32min\u001b[0m \u001b[0menumerate\u001b[0m\u001b[1;33m(\u001b[0m\u001b[0mpks\u001b[0m\u001b[1;33m)\u001b[0m\u001b[1;33m:\u001b[0m\u001b[1;33m\u001b[0m\u001b[0m\n\u001b[0;32m      5\u001b[0m     \u001b[1;32mprint\u001b[0m \u001b[1;34m\"iteration {0:4}, curve {1:6}, name: \"\u001b[0m\u001b[1;33m.\u001b[0m\u001b[0mformat\u001b[0m\u001b[1;33m(\u001b[0m\u001b[0mi\u001b[0m\u001b[1;33m,\u001b[0m \u001b[0mpk\u001b[0m\u001b[1;33m)\u001b[0m\u001b[1;33m,\u001b[0m \u001b[0mCurveDB\u001b[0m\u001b[1;33m.\u001b[0m\u001b[0mobjects\u001b[0m\u001b[1;33m.\u001b[0m\u001b[0mget\u001b[0m\u001b[1;33m(\u001b[0m\u001b[0mpk\u001b[0m\u001b[1;33m=\u001b[0m\u001b[0mpk\u001b[0m\u001b[1;33m)\u001b[0m\u001b[1;33m.\u001b[0m\u001b[0mname\u001b[0m\u001b[1;33m\u001b[0m\u001b[0m\n\u001b[1;32m----> 6\u001b[1;33m     \u001b[0mfinesse\u001b[0m\u001b[1;33m.\u001b[0m\u001b[0manalyze_save_summary\u001b[0m\u001b[1;33m(\u001b[0m\u001b[0mpk\u001b[0m\u001b[1;33m)\u001b[0m\u001b[1;33m\u001b[0m\u001b[0m\n\u001b[0m\u001b[0;32m      7\u001b[0m     \u001b[0mgc\u001b[0m\u001b[1;33m.\u001b[0m\u001b[0mcollect\u001b[0m\u001b[1;33m(\u001b[0m\u001b[1;33m)\u001b[0m\u001b[1;33m\u001b[0m\u001b[0m\n\u001b[0;32m      8\u001b[0m     \u001b[0mlast_fitted_curve\u001b[0m \u001b[1;33m=\u001b[0m \u001b[0mpk\u001b[0m\u001b[1;33m\u001b[0m\u001b[0m\n",
        "\u001b[1;32mC:\\Users\\Remi\\Documents\\GitHub\\pyinstruments\\users\\remi\\finesse.py\u001b[0m in \u001b[0;36manalyze_save_summary\u001b[1;34m(id, hide)\u001b[0m\n\u001b[0;32m   1129\u001b[0m \u001b[1;32mdef\u001b[0m \u001b[0manalyze_save_summary\u001b[0m\u001b[1;33m(\u001b[0m\u001b[0mid\u001b[0m\u001b[1;33m,\u001b[0m\u001b[0mhide\u001b[0m\u001b[1;33m=\u001b[0m\u001b[0mFalse\u001b[0m\u001b[1;33m)\u001b[0m\u001b[1;33m:\u001b[0m\u001b[1;33m\u001b[0m\u001b[0m\n\u001b[0;32m   1130\u001b[0m     \u001b[0mfsr\u001b[0m \u001b[1;33m=\u001b[0m \u001b[0mFSRScan\u001b[0m\u001b[1;33m(\u001b[0m\u001b[0mid\u001b[0m\u001b[1;33m)\u001b[0m\u001b[1;33m\u001b[0m\u001b[0m\n\u001b[1;32m-> 1131\u001b[1;33m     \u001b[0mfsr\u001b[0m\u001b[1;33m.\u001b[0m\u001b[0msave_summary\u001b[0m\u001b[1;33m(\u001b[0m\u001b[0mnumber\u001b[0m\u001b[1;33m=\u001b[0m\u001b[0mNone\u001b[0m\u001b[1;33m,\u001b[0m\u001b[0mhide\u001b[0m\u001b[1;33m=\u001b[0m\u001b[0mhide\u001b[0m\u001b[1;33m)\u001b[0m\u001b[1;33m\u001b[0m\u001b[0m\n\u001b[0m\u001b[0;32m   1132\u001b[0m \u001b[1;33m\u001b[0m\u001b[0m\n\u001b[0;32m   1133\u001b[0m \u001b[1;32mdef\u001b[0m \u001b[0manalyze_savesummary_all_childs\u001b[0m\u001b[1;33m(\u001b[0m\u001b[0mid\u001b[0m\u001b[1;33m)\u001b[0m\u001b[1;33m:\u001b[0m\u001b[1;33m\u001b[0m\u001b[0m\n",
        "\u001b[1;32mC:\\Users\\Remi\\Documents\\GitHub\\pyinstruments\\users\\remi\\finesse.py\u001b[0m in \u001b[0;36msave_summary\u001b[1;34m(self, number, hide)\u001b[0m\n\u001b[0;32m   1082\u001b[0m \u001b[1;33m\u001b[0m\u001b[0m\n\u001b[0;32m   1083\u001b[0m     \u001b[1;32mdef\u001b[0m \u001b[0msave_summary\u001b[0m\u001b[1;33m(\u001b[0m\u001b[0mself\u001b[0m\u001b[1;33m,\u001b[0m\u001b[0mnumber\u001b[0m\u001b[1;33m=\u001b[0m\u001b[0mNone\u001b[0m\u001b[1;33m,\u001b[0m\u001b[0mhide\u001b[0m\u001b[1;33m=\u001b[0m\u001b[0mFalse\u001b[0m\u001b[1;33m)\u001b[0m\u001b[1;33m:\u001b[0m\u001b[1;33m\u001b[0m\u001b[0m\n\u001b[1;32m-> 1084\u001b[1;33m         \u001b[0mfig\u001b[0m \u001b[1;33m=\u001b[0m \u001b[0mself\u001b[0m\u001b[1;33m.\u001b[0m\u001b[0m_plot_summary\u001b[0m\u001b[1;33m(\u001b[0m\u001b[0mnumber\u001b[0m\u001b[1;33m=\u001b[0m\u001b[0mnumber\u001b[0m\u001b[1;33m,\u001b[0m\u001b[0mhide\u001b[0m\u001b[1;33m=\u001b[0m\u001b[0mhide\u001b[0m\u001b[1;33m)\u001b[0m\u001b[1;33m\u001b[0m\u001b[0m\n\u001b[0m\u001b[0;32m   1085\u001b[0m         \u001b[1;32mif\u001b[0m \u001b[1;34m\"removenastypeak\"\u001b[0m \u001b[1;32min\u001b[0m \u001b[0mself\u001b[0m\u001b[1;33m.\u001b[0m\u001b[0mconstants\u001b[0m \u001b[1;32mand\u001b[0m \u001b[0mself\u001b[0m\u001b[1;33m.\u001b[0m\u001b[0mconstants\u001b[0m\u001b[1;33m[\u001b[0m\u001b[1;34m\"removenastypeak\"\u001b[0m\u001b[1;33m]\u001b[0m\u001b[1;33m:\u001b[0m\u001b[1;33m\u001b[0m\u001b[0m\n\u001b[0;32m   1086\u001b[0m             \u001b[1;32mprint\u001b[0m \u001b[1;34m\"removing nastypeaks\"\u001b[0m\u001b[1;33m\u001b[0m\u001b[0m\n",
        "\u001b[1;32mC:\\Users\\Remi\\Documents\\GitHub\\pyinstruments\\users\\remi\\finesse.py\u001b[0m in \u001b[0;36m_plot_summary\u001b[1;34m(self, number, hide)\u001b[0m\n\u001b[0;32m   1000\u001b[0m                 \u001b[0mplot\u001b[0m\u001b[1;33m(\u001b[0m\u001b[0mself\u001b[0m\u001b[1;33m.\u001b[0m\u001b[0mdata_peaks\u001b[0m\u001b[1;33m.\u001b[0m\u001b[0mtimes\u001b[0m\u001b[1;33m,\u001b[0m \u001b[0mself\u001b[0m\u001b[1;33m.\u001b[0m\u001b[0mdata_peaks\u001b[0m\u001b[1;33m.\u001b[0m\u001b[0mdfdt\u001b[0m\u001b[1;33m,\u001b[0m \u001b[1;34m'g.'\u001b[0m\u001b[1;33m,\u001b[0m \u001b[0mlabel\u001b[0m\u001b[1;33m=\u001b[0m\u001b[1;34m'infered'\u001b[0m\u001b[1;33m)\u001b[0m\u001b[1;33m\u001b[0m\u001b[0m\n\u001b[0;32m   1001\u001b[0m         \u001b[1;32melse\u001b[0m\u001b[1;33m:\u001b[0m\u001b[1;33m\u001b[0m\u001b[0m\n\u001b[1;32m-> 1002\u001b[1;33m             \u001b[0mplot\u001b[0m\u001b[1;33m(\u001b[0m\u001b[0mself\u001b[0m\u001b[1;33m.\u001b[0m\u001b[0mdata_peaks\u001b[0m\u001b[1;33m.\u001b[0m\u001b[0mtimes\u001b[0m\u001b[1;33m,\u001b[0m \u001b[0mself\u001b[0m\u001b[1;33m.\u001b[0m\u001b[0mdata_peaks\u001b[0m\u001b[1;33m.\u001b[0m\u001b[0mdfdt_abs\u001b[0m\u001b[1;33m,\u001b[0m \u001b[1;34m'o'\u001b[0m\u001b[1;33m,\u001b[0m \u001b[0mlabel\u001b[0m\u001b[1;33m=\u001b[0m\u001b[1;34m'measured'\u001b[0m\u001b[1;33m)\u001b[0m\u001b[1;33m\u001b[0m\u001b[0m\n\u001b[0m\u001b[0;32m   1003\u001b[0m             \u001b[0mplot\u001b[0m\u001b[1;33m(\u001b[0m\u001b[0mself\u001b[0m\u001b[1;33m.\u001b[0m\u001b[0mdata_peaks\u001b[0m\u001b[1;33m.\u001b[0m\u001b[0mtimes\u001b[0m\u001b[1;33m,\u001b[0m \u001b[0mself\u001b[0m\u001b[1;33m.\u001b[0m\u001b[0mdata_peaks\u001b[0m\u001b[1;33m.\u001b[0m\u001b[0mdfdt\u001b[0m\u001b[1;33m,\u001b[0m \u001b[1;34m'.'\u001b[0m\u001b[1;33m,\u001b[0m \u001b[0mlabel\u001b[0m\u001b[1;33m=\u001b[0m\u001b[1;34m'infered'\u001b[0m\u001b[1;33m)\u001b[0m\u001b[1;33m\u001b[0m\u001b[0m\n\u001b[0;32m   1004\u001b[0m         plot(self.model_peaks.nice_x, \n",
        "\u001b[1;32mC:\\Users\\Remi\\Documents\\GitHub\\pyinstruments\\users\\remi\\finesse.py\u001b[0m in \u001b[0;36mtimes\u001b[1;34m(self)\u001b[0m\n\u001b[0;32m    512\u001b[0m     \u001b[1;32mdef\u001b[0m \u001b[0mtimes\u001b[0m\u001b[1;33m(\u001b[0m\u001b[0mself\u001b[0m\u001b[1;33m)\u001b[0m\u001b[1;33m:\u001b[0m\u001b[1;33m\u001b[0m\u001b[0m\n\u001b[0;32m    513\u001b[0m         \u001b[1;32mif\u001b[0m \u001b[0mself\u001b[0m\u001b[1;33m.\u001b[0m\u001b[0m_times\u001b[0m \u001b[1;32mis\u001b[0m \u001b[0mNone\u001b[0m\u001b[1;33m:\u001b[0m\u001b[1;33m\u001b[0m\u001b[0m\n\u001b[1;32m--> 514\u001b[1;33m             \u001b[0mself\u001b[0m\u001b[1;33m.\u001b[0m\u001b[0m_times\u001b[0m \u001b[1;33m=\u001b[0m \u001b[0mnp\u001b[0m\u001b[1;33m.\u001b[0m\u001b[0marray\u001b[0m\u001b[1;33m(\u001b[0m\u001b[1;33m[\u001b[0m\u001b[0mf\u001b[0m\u001b[1;33m.\u001b[0m\u001b[0mparams\u001b[0m\u001b[1;33m[\u001b[0m\u001b[1;34m'x0'\u001b[0m\u001b[1;33m]\u001b[0m \u001b[1;32mfor\u001b[0m \u001b[0mf\u001b[0m \u001b[1;32min\u001b[0m \u001b[0mself\u001b[0m\u001b[1;33m.\u001b[0m\u001b[0mfit_curves\u001b[0m\u001b[1;33m]\u001b[0m\u001b[1;33m)\u001b[0m\u001b[1;33m\u001b[0m\u001b[0m\n\u001b[0m\u001b[0;32m    515\u001b[0m         \u001b[1;32mreturn\u001b[0m \u001b[0mself\u001b[0m\u001b[1;33m.\u001b[0m\u001b[0m_times\u001b[0m\u001b[1;33m\u001b[0m\u001b[0m\n\u001b[0;32m    516\u001b[0m \u001b[1;33m\u001b[0m\u001b[0m\n",
        "\u001b[1;32mC:\\Users\\Remi\\Documents\\GitHub\\pyinstruments\\users\\remi\\finesse.py\u001b[0m in \u001b[0;36mfit_curves\u001b[1;34m(self)\u001b[0m\n\u001b[0;32m    503\u001b[0m             \u001b[1;32mfor\u001b[0m \u001b[0mcurve\u001b[0m \u001b[1;32min\u001b[0m \u001b[0mself\u001b[0m\u001b[1;33m.\u001b[0m\u001b[0mpeaks\u001b[0m\u001b[1;33m:\u001b[0m\u001b[1;33m\u001b[0m\u001b[0m\n\u001b[0;32m    504\u001b[0m                 \u001b[1;32mif\u001b[0m \u001b[0mcurve\u001b[0m\u001b[1;33m.\u001b[0m\u001b[0mchilds\u001b[0m\u001b[1;33m.\u001b[0m\u001b[0mall\u001b[0m\u001b[1;33m(\u001b[0m\u001b[1;33m)\u001b[0m\u001b[1;33m.\u001b[0m\u001b[0mcount\u001b[0m\u001b[1;33m(\u001b[0m\u001b[1;33m)\u001b[0m\u001b[1;33m!=\u001b[0m\u001b[1;36m1\u001b[0m\u001b[1;33m:\u001b[0m\u001b[1;33m\u001b[0m\u001b[0m\n\u001b[1;32m--> 505\u001b[1;33m                     \u001b[1;32mraise\u001b[0m \u001b[0mValueError\u001b[0m\u001b[1;33m(\u001b[0m\u001b[1;34m\"Curve \"\u001b[0m \u001b[1;33m+\u001b[0m \u001b[0mcurve\u001b[0m\u001b[1;33m.\u001b[0m\u001b[0mparams\u001b[0m\u001b[1;33m[\u001b[0m\u001b[1;34m\"name\"\u001b[0m\u001b[1;33m]\u001b[0m \u001b[1;33m+\u001b[0m \u001b[1;34m\" should have exactly 1 child!\"\u001b[0m\u001b[1;33m)\u001b[0m\u001b[1;33m\u001b[0m\u001b[0m\n\u001b[0m\u001b[0;32m    506\u001b[0m                 \u001b[1;32melse\u001b[0m\u001b[1;33m:\u001b[0m\u001b[1;33m\u001b[0m\u001b[0m\n\u001b[0;32m    507\u001b[0m                     \u001b[0mfits\u001b[0m\u001b[1;33m.\u001b[0m\u001b[0mappend\u001b[0m\u001b[1;33m(\u001b[0m\u001b[0mcurve\u001b[0m\u001b[1;33m.\u001b[0m\u001b[0mchilds\u001b[0m\u001b[1;33m.\u001b[0m\u001b[0mall\u001b[0m\u001b[1;33m(\u001b[0m\u001b[1;33m)\u001b[0m\u001b[1;33m[\u001b[0m\u001b[1;36m0\u001b[0m\u001b[1;33m]\u001b[0m\u001b[1;33m)\u001b[0m\u001b[1;33m\u001b[0m\u001b[0m\n",
        "\u001b[1;31mValueError\u001b[0m: Curve peak@-140011.68us should have exactly 1 child!"
       ]
      }
     ],
     "prompt_number": 2
    },
    {
     "cell_type": "code",
     "collapsed": false,
     "input": [
      "from __future__ import division\n",
      "from pyinstruments import CurveDB\n",
      "from users.remi import finesse\n",
      "import gc\n",
      "import numpy as np\n",
      "from operator import itemgetter\n",
      "from curve import fitting\n",
      "\n",
      "def exclude_points(tested_step,tab_step):\n",
      "    for step in tab_step:\n",
      "        if tested_step == step:\n",
      "            return True\n",
      "    return False\n",
      "\n",
      "#Filling of the lists for position, length, and finesse\n",
      "#0 goes for back and 1 for forth\n",
      "\n",
      "undesired_steps = [23780,23660,23630]\n",
      "\n",
      "c_parent = CurveDB.objects.get(pk=parent_pk)\n",
      "\n",
      "L, steps, F = [], [], []\n",
      "\n",
      "high_lim_fit = 1e9\n",
      "high_lim_plot = 217545#last_fitted_curve\n",
      "\n",
      "pks  = [c.pk for c in c_parent.childs.all() if c.pk <= high_lim_plot]\n",
      "for i,pk in enumerate(pks):\n",
      "    c = None\n",
      "    gc.collect()\n",
      "    c = CurveDB.objects.get(pk=pk+2)\n",
      "    if c.params[\"stepper_pos\"] not in undesired_steps:\n",
      "        if i%100 == 0:\n",
      "            print i+1, \"\\tcurves added\", c.pk\n",
      "        L.append(c.params[\"length\"])\n",
      "        F.append(c.params[\"finesse\"])\n",
      "        steps.append(c.params[\"stepper_pos\"])\n",
      "print 'All', i+1, 'curves added'\n",
      "\n",
      "#Sort the lists for forth direction by increasing step to avoid plotting issues\n",
      "sorted_list = []\n",
      "for step, length, f in zip(steps, L, F):\n",
      "    sorted_list.append([step, length, f])\n",
      "sorted_list = sorted(sorted_list, key=itemgetter(0), reverse = True)\n",
      "\n",
      "newL, newF, newsteps = [], [], []\n",
      "for l in sorted_list:\n",
      "    newsteps.append(l[0])\n",
      "    newL.append(l[1])\n",
      "    newF.append(l[2])\n",
      "steps, L, F = newsteps, newL, newF\n",
      "print 'Data sorted'\n",
      "\n",
      "#Data for the fit to convert step into length\n",
      "L_fit, steps_fit = [], []\n",
      "for step, length in zip(steps, L):\n",
      "    if step < high_lim_fit:\n",
      "        steps_fit.append(step)\n",
      "        L_fit.append(length)\n",
      "print 'Fit data ready'"
     ],
     "language": "python",
     "metadata": {},
     "outputs": [
      {
       "output_type": "stream",
       "stream": "stdout",
       "text": [
        "1 \tcurves added 217458\n",
        "All"
       ]
      },
      {
       "output_type": "stream",
       "stream": "stdout",
       "text": [
        " 30 curves added\n",
        "Data sorted\n",
        "Fit data ready\n"
       ]
      }
     ],
     "prompt_number": 16
    },
    {
     "cell_type": "code",
     "collapsed": false,
     "input": [
      "#linear fit to have the link between step and cavity length\n",
      "\n",
      "y0, slope = [], []\n",
      "c = CurveDB.create(steps_fit, L_fit)\n",
      "c.name = \"step_vs_length_AC\"\n",
      "c.save()\n",
      "fitcurve = c.fit(\"linear\", autosave=True)\n",
      "y0, slope = fitcurve.params[\"y0\"], fitcurve.params[\"slope\"]\n",
      "print '(y0, slope):', y0, slope"
     ],
     "language": "python",
     "metadata": {},
     "outputs": [
      {
       "output_type": "stream",
       "stream": "stdout",
       "text": [
        "(y0, slope): 0.0156772016214 -6.32741327367e-07\n"
       ]
      }
     ],
     "prompt_number": 17
    },
    {
     "cell_type": "code",
     "collapsed": false,
     "input": [
      "#Plot the results of the analysis and take care of who goes where \n",
      "\n",
      "exclusion_threshold = 0.1\n",
      "\n",
      "#parent curve to collect the other curves\n",
      "parent_curve = CurveDB()\n",
      "parent_curve.name = \"AC_finesse_vs_length_analysis {0} exclusion_threshold={1:.2f}\".format(parent_pk,exclusion_threshold)\n",
      "parent_curve.save()\n",
      "\n",
      "#Sub parent curves to classify datas\n",
      "raw_data = CurveDB()\n",
      "parent_curve.add_child(raw_data)\n",
      "raw_data.name = \"raw data\"\n",
      "raw_data.save()\n",
      "\n",
      "cleared_data = CurveDB()\n",
      "parent_curve.add_child(cleared_data)\n",
      "cleared_data.name = \"cleared data\"\n",
      "cleared_data.save()\n",
      "\n",
      "#Initializations\n",
      "proper_length_calc, proper_finesse, proper_length_fit, proper_steps, expected_length = [], [], [], [], []\n",
      "weird_points, good_points = 0, 0\n",
      "\n",
      "sweep_direction = \"back\"\n",
      "\n",
      "expected_length = array(steps)*slope + y0\n",
      "    \n",
      "for calc_length,fit_length,f,step in zip(expected_length ,L ,F ,steps):\n",
      "    delta = abs((calc_length - fit_length) / calc_length)\n",
      "    if delta < exclusion_threshold and not exclude_points(step,undesired_steps):\n",
      "        proper_length_calc.append(calc_length)\n",
      "        proper_finesse.append(f)\n",
      "        proper_length_fit.append(fit_length)\n",
      "        proper_steps.append(step)\n",
      "        good_points +=1\n",
      "    else:\n",
      "        weird_points += 1\n",
      "print \"good points :\", good_points, sweep_direction\n",
      "print \"weird points:\", weird_points, sweep_direction\n",
      "\n",
      "#length vs step\n",
      "c1=CurveDB.create(steps,L)\n",
      "c1.name = 'length_vs_step_'+sweep_direction\n",
      "c1.save()\n",
      "raw_data.add_child(c1)\n",
      "\n",
      "c1=CurveDB.create(proper_length_calc, proper_length_fit)\n",
      "c1.name = 'length_step_vs_length_proper_'+sweep_direction\n",
      "c1.save()\n",
      "cleared_data.add_child(c1)\n",
      "\n",
      "#F vs length\n",
      "c1=CurveDB.create(L,F)\n",
      "c1.name = 'F_vs_length_'+sweep_direction\n",
      "c1.save()\n",
      "raw_data.add_child(c1)\n",
      "\n",
      "c1=CurveDB.create(proper_length_calc,proper_finesse)\n",
      "c1.name = 'F_vs_length_proper_'+sweep_direction\n",
      "c1.save()\n",
      "raw_data.add_child(c1)\n",
      "\n",
      "c1 = CurveDB.create(proper_length_calc,proper_finesse)\n",
      "c1.name = 'finesse_vs_length_proper_'+sweep_direction\n",
      "c1.save()\n",
      "cleared_data.add_child(c1)\n",
      "\n",
      "#F vs step\n",
      "c1=CurveDB.create(steps,F)\n",
      "c1.name = 'F_vs_step_'+sweep_direction\n",
      "c1.save()\n",
      "raw_data.add_child(c1)\n",
      "\n",
      "c1=CurveDB.create(proper_steps,proper_finesse)\n",
      "c1.name = 'finesse_vs_step_proper_'+sweep_direction\n",
      "c1.save()\n",
      "cleared_data.add_child(c1)\n",
      "\n",
      "#T+P vs step and length\n",
      "c1 = CurveDB.create(steps,2*np.pi/array(F))\n",
      "c1.name = 'T+P_vs_step_'+sweep_direction\n",
      "c1.save()\n",
      "raw_data.add_child(c1)\n",
      "\n",
      "c1 = CurveDB.create(proper_steps,2*np.pi/array(proper_finesse))\n",
      "c1.name = 'T+P_vs_step_proper_'+sweep_direction\n",
      "c1.save()\n",
      "cleared_data.add_child(c1)\n",
      "\n",
      "c1 = CurveDB.create(proper_length_calc,2*np.pi/array(proper_finesse))\n",
      "c1.name = 'T+P_vs_length_proper_'+sweep_direction\n",
      "c1.save()\n",
      "cleared_data.add_child(c1)"
     ],
     "language": "python",
     "metadata": {},
     "outputs": [
      {
       "output_type": "stream",
       "stream": "stdout",
       "text": [
        "good points : 25 back\n",
        "weird points: 2 back\n"
       ]
      }
     ],
     "prompt_number": 19
    },
    {
     "cell_type": "code",
     "collapsed": false,
     "input": [],
     "language": "python",
     "metadata": {},
     "outputs": []
    }
   ],
   "metadata": {}
  }
 ]
}