{
 "metadata": {
  "name": "",
  "signature": "sha256:327fc9316f58663b0c2bf9cb194193d74b811c5dd9c902696adec47b4ae0fafe"
 },
 "nbformat": 3,
 "nbformat_minor": 0,
 "worksheets": [
  {
   "cells": [
    {
     "cell_type": "code",
     "collapsed": false,
     "input": [
      "cd"
     ],
     "language": "python",
     "metadata": {},
     "outputs": [
      {
       "output_type": "stream",
       "stream": "stdout",
       "text": [
        "C:\\Users\\Remi\n"
       ]
      }
     ],
     "prompt_number": 1
    },
    {
     "cell_type": "code",
     "collapsed": false,
     "input": [
      "cd Documents/"
     ],
     "language": "python",
     "metadata": {},
     "outputs": [
      {
       "output_type": "stream",
       "stream": "stdout",
       "text": [
        "C:\\Users\\Remi\\Documents\n"
       ]
      }
     ],
     "prompt_number": 2
    },
    {
     "cell_type": "code",
     "collapsed": false,
     "input": [
      "#trace\n",
      "\n",
      "from pyinstruments import CurveDB\n",
      "import pandas\n",
      "\n",
      "c1 = CurveDB.objects.get(pk=219772)\n",
      "c2 = CurveDB.objects.get(pk=219714)\n",
      "\n",
      "for i, scale in enumerate([0.85]):\n",
      "    figure(i, figsize=(8*scale,6*scale))\n",
      "    clf()\n",
      "    plot(c1.data.index/1e3, c1.data.values*1e6, label=r'$\\mathrm{AC}$', color=\"blue\")\n",
      "    plot(c2.data.index/1e3, c2.data.values*1e6, label=r'$\\mathrm{DC}$', color=\"red\")\n",
      "    grid('on')\n",
      "    semilogy()\n",
      "    title(r'$\\mathrm{Comparison\\ between\\ DC\\ and\\ AC\\ channels}$')\n",
      "    ylabel(r'$\\mathrm{Losses\\ [ppm]}$')\n",
      "    xlabel('$\\mathrm{Stepper\\ position\\ (\\\\times 1000)}$')\n",
      "    legend(loc='upper right')\n",
      "    savefig('losses_vs_step'+'.pdf', bbox_inches = 'tight')"
     ],
     "language": "python",
     "metadata": {},
     "outputs": [],
     "prompt_number": 33
    },
    {
     "cell_type": "code",
     "collapsed": false,
     "input": [
      "#length_vs_step\n",
      "\n",
      "from pyinstruments import CurveDB\n",
      "import pandas\n",
      "\n",
      "c1 = CurveDB.objects.get(pk=219760)\n",
      "c1_fit = CurveDB.objects.get(pk=219761)\n",
      "c2 = CurveDB.objects.get(pk=219702)\n",
      "c2_fit = CurveDB.objects.get(pk=219703)\n",
      "\n",
      "for i, scale in enumerate([0.85]):\n",
      "    figure(i, figsize=(8*scale,6*scale))\n",
      "    clf()\n",
      "    plot(c1.data.index/1e3, c1.data.values*1e6, '+', label=r'$\\mathrm{AC}$', color=\"blue\")\n",
      "    plot(c1_fit.data.index/1e3, c1_fit.data.values*1e6, color=\"blue\")\n",
      "    plot(c2.data.index/1e3, c2.data.values*1e6, '+', label=r'$\\mathrm{DC}$', color=\"red\")\n",
      "    plot(c2_fit.data.index/1e3, c2_fit.data.values*1e6, color=\"red\")\n",
      "    grid('on')\n",
      "    ylabel(r'$\\mathrm{Length\\ [\\mu m]}$')\n",
      "    xlabel('$\\mathrm{Stepper\\ position\\ (\\\\times 1000)}$')\n",
      "    legend(loc='upper right')\n",
      "    savefig('length_vs_step'+'.pdf', bbox_inches = 'tight')"
     ],
     "language": "python",
     "metadata": {},
     "outputs": [],
     "prompt_number": 34
    },
    {
     "cell_type": "code",
     "collapsed": false,
     "input": [
      "#losses vs length run 88805\n",
      "\n",
      "from pyinstruments import CurveDB\n",
      "import pandas\n",
      "\n",
      "c1 = CurveDB.objects.get(pk=149683)\n",
      "c2 = CurveDB.objects.get(pk=149693)\n",
      "\n",
      "for i, scale in enumerate([0.5,0.58,0.75,1]):\n",
      "    figure(i, figsize=(6*scale,4*scale))\n",
      "    clf()\n",
      "    plot(c1.data.index*1e6, log(c1.data.values), label=r'$\\mathrm{arri\\`ere}$')\n",
      "    #plot(c1.data.index*1e6, c1.data.values*1e6, label=r'$\\mathrm{arri\\`ere}$')\n",
      "    #plot(c2.data.index*1e6, c2.data.values*1e6, label='$\\mathrm{avant}$')\n",
      "    grid('on')\n",
      "    xlabel('$\\mathrm{Cavity\\ length\\ (\\mu m)}$')\n",
      "    ylabel('$\\mathrm{Losses\\ (T+P)\\ (ppm)}$')\n",
      "    #legend(loc='upper left')\n",
      "    #savefig('losses_vs_length_run_88805_'+str(int(scale*100))+'_single.pdf', bbox_inches = 'tight')"
     ],
     "language": "python",
     "metadata": {},
     "outputs": [],
     "prompt_number": 7
    },
    {
     "cell_type": "code",
     "collapsed": false,
     "input": [
      "#losses vs length run 65203\n",
      "\n",
      "from pyinstruments import CurveDB\n",
      "import pandas\n",
      "\n",
      "#scale = 0.85\n",
      "for i, scale in enumerate([1]):\n",
      "    figure(i, figsize=(6*scale,4*scale))\n",
      "    clf()\n",
      "    c = CurveDB.objects.get(pk=88705)\n",
      "    plot(c.data.index*1e6, c.data.values*1e6)\n",
      "    grid('on')\n",
      "    xlabel(r'$\\mathrm{Longueur\\ de\\ la\\ cavit\\'e\\ (\\mu m)}$')\n",
      "    ylabel('$\\mathrm{Pertes\\ (T+P)\\ (ppm)}$')\n",
      "    #xlabel('$\\mathrm{Cavity\\ length\\ (\\mu m)}$')\n",
      "    #ylabel('$\\mathrm{Losses\\ (T+P)\\ (ppm)}$')\n",
      "    savefig('losses_vs_length_run_65203_'+str(int(scale*100))+'.png', bbox_inches = 'tight')"
     ],
     "language": "python",
     "metadata": {},
     "outputs": [],
     "prompt_number": 10
    },
    {
     "cell_type": "code",
     "collapsed": false,
     "input": [
      "#losses vs length run 31005\n",
      "\n",
      "from pyinstruments import CurveDB\n",
      "import pandas\n",
      "\n",
      "c = CurveDB.objects.get(pk=64912)\n",
      "c1 = CurveDB.objects.get(pk=149683)\n",
      "for i, scale in enumerate([1]):\n",
      "    figure(i, figsize=(6*scale,4*scale))\n",
      "    clf()\n",
      "    plot(c.data.index*1e6, c.data.values*1e6)\n",
      "    #plot(c1.data.index*1e6, c1.data.values*1e6, color=\"0.5\")\n",
      "    grid('on')\n",
      "    xlabel(r'$\\mathrm{Longueur\\ de\\ la\\ cavit\\'e\\ (\\mu m)}$')\n",
      "    ylabel('$\\mathrm{Pertes\\ (T+P)\\ (ppm)}$')\n",
      "    ylim(0,700)\n",
      "    xlim(0,700)\n",
      "    savefig('losses_vs_length_run_31005_'+str(int(scale*100))+'.png', bbox_inches = 'tight')"
     ],
     "language": "python",
     "metadata": {},
     "outputs": [],
     "prompt_number": 8
    },
    {
     "cell_type": "code",
     "collapsed": false,
     "input": [
      "#length vs step\n",
      "\n",
      "from pyinstruments import CurveDB\n",
      "import pandas\n",
      "from __future__ import division\n",
      "\n",
      "scale = 1\n",
      "figure(1, figsize=(6*scale,4*scale))\n",
      "c = CurveDB.objects.get(pk=149667)\n",
      "plot(c.data.index, c.data.values*1e6, label=r\"$\\mathrm{donn\\'ees\\ brutes}$\")\n",
      "#c1 = CurveDB.objects.get(pk=149668)\n",
      "#plot(c1.data.index, c1.data.values*1e6, label=r\"\\mathrm{Ajustement}\")\n",
      "step_proper, length_proper = [], []\n",
      "for s, l, proper_l in zip(c.data.index, c.data.values, c1.data.values):\n",
      "    delta = abs(l - proper_l) / proper_l\n",
      "    if delta < 0.1:\n",
      "        step_proper.append(s)\n",
      "        length_proper.append(l)\n",
      "#plot(step_proper, array(length_proper)*1e6, label=r\"$\\mathrm{donn\\'ees\\ tri\\'ees}$\")\n",
      "#c2 = CurveDB.create(step_proper, length_proper)\n",
      "#c.add_child(c2)\n",
      "#grid('on')\n",
      "c2 = CurveDB.objects.get(pk=184774)\n",
      "plot(c2.data.index, c2.data.values*1e6, label=r\"$\\mathrm{donn\\'ees\\ tri\\'ees}$\")\n",
      "c1 = CurveDB.objects.get(pk=184775)\n",
      "plot(c1.data.index, c1.data.values*1e6)# label=r\"$\\mathrm{ajustement\\ lin\\'eaire}$\")\n",
      "grid('on')\n",
      "xlabel('$\\mathrm{Position\\ du\\ moteur}$')\n",
      "ylabel(r'$\\mathrm{Longueur\\ de\\ la\\ cavit\\'e\\ [\\mu m]}$')\n",
      "legend()\n",
      "savefig('length_vs_step_888805_100_grid.png', bbox_inches = 'tight')\n",
      "rms = np.sqrt(mean((array(c1.data.values) - array(c2.data.values))**2))\n",
      "print mean(rms)\n",
      "print c1.params[\"slope\"]"
     ],
     "language": "python",
     "metadata": {},
     "outputs": [
      {
       "output_type": "stream",
       "stream": "stdout",
       "text": [
        "1.08640222065e-05\n",
        "-6.21365893981e-07\n"
       ]
      }
     ],
     "prompt_number": 9
    },
    {
     "cell_type": "code",
     "collapsed": false,
     "input": [
      "#resonance shapes\n",
      "\n",
      "from pyinstruments import CurveDB\n",
      "import pandas\n",
      "from __future__ import division\n",
      "from matplotlib.ticker import FuncFormatter\n",
      "\n",
      "scale = 1.5\n",
      "figure(1, figsize=(7.5*scale,2*scale))\n",
      "ax = subplot(1,3,1)\n",
      "bornes = [0.138455,0.1385]\n",
      "c = CurveDB.objects.get(pk=176232)\n",
      "plot((array(c.data.index)-mean(bornes))*1e6, c.data.values)\n",
      "c1 = CurveDB.objects.get(pk=184778)\n",
      "plot((array(c1.data.index)-mean(bornes))*1e6, c1.data.values)\n",
      "plt.yticks(np.arange(0.3, 0.71, 0.1))\n",
      "xlim((bornes-mean(bornes))*1e6)\n",
      "ylim((0.3,0.75))\n",
      "ylabel(r\"$\\mathrm{R\\'eflexion\\ [V]}$\")\n",
      "\n",
      "subplot(1,3,2)\n",
      "bornes = [0.012455,0.012555]\n",
      "c = CurveDB.objects.get(pk=175714)\n",
      "plot((array(c.data.index)-mean(bornes))*1e6, c.data.values)\n",
      "c1 = CurveDB.objects.get(pk=175730)\n",
      "plot((array(c1.data.index)-mean(bornes))*1e6, c1.data.values)\n",
      "plt.yticks(np.arange(0.3, 0.71, 0.1))\n",
      "xlim((bornes-mean(bornes))*1e6)\n",
      "ylim((0.3,0.75))\n",
      "xlabel(r\"$\\mathrm{Temps\\ [\\mu s]}$\")\n",
      "\n",
      "ax = subplot(1,3,3)\n",
      "#ax.yaxis.tick_right()\n",
      "bornes = [0.15045,0.15055]\n",
      "c = CurveDB.objects.get(pk=176065)\n",
      "plot((array(c.data.index)-mean(bornes))*1e6, c.data.values)\n",
      "c1 = CurveDB.objects.get(pk=184779)\n",
      "plot((array(c1.data.index)-mean(bornes))*1e6, c1.data.values)\n",
      "xlim((bornes-mean(bornes))*1e6)\n",
      "plt.yticks(np.arange(0.52, 0.571, 0.01))\n",
      "ylim((0.525,0.57))\n",
      "savefig('resonance_shapes_150.png', bbox_inches='tight')\n"
     ],
     "language": "python",
     "metadata": {},
     "outputs": [],
     "prompt_number": 29
    },
    {
     "cell_type": "code",
     "collapsed": false,
     "input": [
      "#ringing effect 20, 100, 200 Hz\n",
      "\n",
      "from pyinstruments import CurveDB\n",
      "import pandas\n",
      "from __future__ import division\n",
      "\n",
      "scale = 1.5\n",
      "figure(1, figsize=(7.5*scale,2*scale))\n",
      "ax = subplot(1,3,1)\n",
      "bornes = [-0.0018495,-0.00184725]\n",
      "c = CurveDB.objects.get(pk=2308)\n",
      "plot((array(c.data.index)-mean(bornes))*1e6, c.data.values)\n",
      "c1 = CurveDB.objects.get(pk=2313)\n",
      "plot((array(c1.data.index)-mean(bornes))*1e6, c1.data.values)\n",
      "plt.yticks(np.arange(0.3, 0.71, 0.1))\n",
      "xlim((bornes-mean(bornes))*1e6)\n",
      "ylim((0.3,0.7))\n",
      "ylabel(r\"$\\mathrm{R\\'eflexion\\ [V]}$\")\n",
      "\n",
      "subplot(1,3,2)\n",
      "bornes = [-0.00021482,-0.0002143]\n",
      "c = CurveDB.objects.get(pk=2306)\n",
      "plot((array(c.data.index)-mean(bornes))*1e6, c.data.values)\n",
      "c1 = CurveDB.objects.get(pk=2311)\n",
      "plot((array(c1.data.index)-mean(bornes))*1e6, c1.data.values)\n",
      "plt.yticks(np.arange(0.3, 0.71, 0.1))\n",
      "xlim((bornes-mean(bornes))*1e6)\n",
      "ylim((0.3,0.7))\n",
      "xlabel(r\"$\\mathrm{Temps\\ [\\mu s]}$\")\n",
      "\n",
      "ax = subplot(1,3,3)\n",
      "bornes = [-0.00016883,-0.0001685]\n",
      "c = CurveDB.objects.get(pk=2307)\n",
      "plot((array(c.data.index)-mean(bornes))*1e6, c.data.values)\n",
      "c1 = CurveDB.objects.get(pk=2312)\n",
      "plot((array(c1.data.index)-mean(bornes))*1e6, c1.data.values)\n",
      "xlim((bornes-mean(bornes))*1e6)\n",
      "ylim((0.3,0.7))\n",
      "plt.yticks(np.arange(0.3, 0.71, 0.1))\n",
      "plt.xticks(np.arange(-0.20, 0.21, 0.1))\n",
      "savefig('ringing_effect_150.png', bbox_inches='tight')"
     ],
     "language": "python",
     "metadata": {},
     "outputs": [],
     "prompt_number": 32
    },
    {
     "cell_type": "code",
     "collapsed": false,
     "input": [
      "#noise spectrum\n",
      "\n",
      "from pyinstruments import CurveDB\n",
      "import pandas\n",
      "\n",
      "for i, scale in enumerate([1]):#[0.5,0.75,1]):\n",
      "    figure(i+1, figsize=(6*scale,4*scale))\n",
      "    c2 = CurveDB.objects.get(pk=184735)\n",
      "    plot(c2.data.index, c2.data.values, label=r\"$\\mathrm{analyseur}$\")\n",
      "    c1 = CurveDB.objects.get(pk=184731)\n",
      "    plot(c1.data.index, c1.data.values, label=r\"$\\mathrm{homodyne}$\")\n",
      "    c3 = CurveDB.objects.get(pk=184734)\n",
      "    plot(c3.data.index, c3.data.values, label=r\"$\\mathrm{photodiode}$\")\n",
      "    #c4 = CurveDB.objects.get(pk=184732)\n",
      "    #plot(c4.data.index, c4.data.values-c2.data.values, label=r\"$\\mathrm{hors\\ r\\'esonance}$\")\n",
      "    grid('on')\n",
      "    #xscale(\"log\")\n",
      "    #yscale(\"log\")\n",
      "    xlim(1e4,1e7)\n",
      "    ylabel(r\"$\\mathrm{Puissance\\ de\\ bruit\\ [dBm]}$\")\n",
      "    xlabel(r\"$\\mathrm{Fr\\'equence\\ [Hz]}$\")\n",
      "    legend(loc=\"best\")\n",
      "    savefig('noise_spectrum_'+str(int(scale*100))+'.png', bbox_inches = 'tight')"
     ],
     "language": "python",
     "metadata": {},
     "outputs": [],
     "prompt_number": 31
    },
    {
     "cell_type": "code",
     "collapsed": false,
     "input": [
      "cd Documents/"
     ],
     "language": "python",
     "metadata": {},
     "outputs": [
      {
       "output_type": "stream",
       "stream": "stdout",
       "text": [
        "C:\\Users\\Remi\\Documents\n"
       ]
      }
     ],
     "prompt_number": 15
    },
    {
     "cell_type": "code",
     "collapsed": false,
     "input": [],
     "language": "python",
     "metadata": {},
     "outputs": []
    }
   ],
   "metadata": {}
  }
 ]
}